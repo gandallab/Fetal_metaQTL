{
 "cells": [
  {
   "cell_type": "markdown",
   "metadata": {
    "deletable": true,
    "editable": true
   },
   "source": [
    "# Relatedness analysis\n",
    "### PLINK pi_hat (share of IBD)"
   ]
  },
  {
   "cell_type": "code",
   "execution_count": 1,
   "metadata": {
    "collapsed": false,
    "deletable": true,
    "editable": true
   },
   "outputs": [
    {
     "name": "stderr",
     "output_type": "stream",
     "text": [
      "\n",
      "Attaching package: ‘dplyr’\n",
      "\n",
      "\n",
      "The following objects are masked from ‘package:data.table’:\n",
      "\n",
      "    between, first, last\n",
      "\n",
      "\n",
      "The following objects are masked from ‘package:stats’:\n",
      "\n",
      "    filter, lag\n",
      "\n",
      "\n",
      "The following objects are masked from ‘package:base’:\n",
      "\n",
      "    intersect, setdiff, setequal, union\n",
      "\n",
      "\n"
     ]
    }
   ],
   "source": [
    "library(data.table)\n",
    "library(dplyr)\n",
    "library(ggplot2)"
   ]
  },
  {
   "cell_type": "code",
   "execution_count": 2,
   "metadata": {
    "collapsed": true,
    "deletable": true,
    "editable": true
   },
   "outputs": [],
   "source": [
    "dat <- fread(\"~/project-gandalm/isoform_twas/genotype/all_data/isec_R2_greater_than_3/ancestry/plink.genome.gz\",data.table=F)"
   ]
  },
  {
   "cell_type": "code",
   "execution_count": 3,
   "metadata": {
    "collapsed": false,
    "deletable": true,
    "editable": true
   },
   "outputs": [
    {
     "data": {
      "text/html": [
       "<table>\n",
       "<caption>A data.frame: 6 × 14</caption>\n",
       "<thead>\n",
       "\t<tr><th></th><th scope=col>FID1</th><th scope=col>IID1</th><th scope=col>FID2</th><th scope=col>IID2</th><th scope=col>RT</th><th scope=col>EZ</th><th scope=col>Z0</th><th scope=col>Z1</th><th scope=col>Z2</th><th scope=col>PI_HAT</th><th scope=col>PHE</th><th scope=col>DST</th><th scope=col>PPC</th><th scope=col>RATIO</th></tr>\n",
       "\t<tr><th></th><th scope=col>&lt;chr&gt;</th><th scope=col>&lt;chr&gt;</th><th scope=col>&lt;chr&gt;</th><th scope=col>&lt;chr&gt;</th><th scope=col>&lt;chr&gt;</th><th scope=col>&lt;lgl&gt;</th><th scope=col>&lt;dbl&gt;</th><th scope=col>&lt;dbl&gt;</th><th scope=col>&lt;dbl&gt;</th><th scope=col>&lt;dbl&gt;</th><th scope=col>&lt;int&gt;</th><th scope=col>&lt;dbl&gt;</th><th scope=col>&lt;dbl&gt;</th><th scope=col>&lt;dbl&gt;</th></tr>\n",
       "</thead>\n",
       "<tbody>\n",
       "\t<tr><th scope=row>1</th><td>849</td><td>849</td><td>11876    </td><td>11876    </td><td>UN</td><td>NA</td><td>0.7547</td><td>0</td><td>0.2453</td><td>0.2453</td><td>-1</td><td>0.870102</td><td>0e+00</td><td>1.7410</td></tr>\n",
       "\t<tr><th scope=row>2</th><td>849</td><td>849</td><td>RNAID1969</td><td>RNAID1969</td><td>UN</td><td>NA</td><td>0.7777</td><td>0</td><td>0.2223</td><td>0.2223</td><td>-1</td><td>0.865977</td><td>0e+00</td><td>1.4741</td></tr>\n",
       "\t<tr><th scope=row>3</th><td>898</td><td>898</td><td>1046     </td><td>1046     </td><td>UN</td><td>NA</td><td>0.8319</td><td>0</td><td>0.1681</td><td>0.1681</td><td>-1</td><td>0.857902</td><td>1e-04</td><td>1.7849</td></tr>\n",
       "\t<tr><th scope=row>4</th><td>898</td><td>898</td><td>1092     </td><td>1092     </td><td>UN</td><td>NA</td><td>0.8377</td><td>0</td><td>0.1623</td><td>0.1623</td><td>-1</td><td>0.857149</td><td>7e-04</td><td>1.8203</td></tr>\n",
       "\t<tr><th scope=row>5</th><td>898</td><td>898</td><td>1102     </td><td>1102     </td><td>UN</td><td>NA</td><td>0.8441</td><td>0</td><td>0.1559</td><td>0.1559</td><td>-1</td><td>0.856478</td><td>2e-03</td><td>1.8366</td></tr>\n",
       "\t<tr><th scope=row>6</th><td>898</td><td>898</td><td>1107     </td><td>1107     </td><td>UN</td><td>NA</td><td>0.8435</td><td>0</td><td>0.1565</td><td>0.1565</td><td>-1</td><td>0.855699</td><td>0e+00</td><td>1.7353</td></tr>\n",
       "</tbody>\n",
       "</table>\n"
      ],
      "text/latex": [
       "A data.frame: 6 × 14\n",
       "\\begin{tabular}{r|llllllllllllll}\n",
       "  & FID1 & IID1 & FID2 & IID2 & RT & EZ & Z0 & Z1 & Z2 & PI\\_HAT & PHE & DST & PPC & RATIO\\\\\n",
       "  & <chr> & <chr> & <chr> & <chr> & <chr> & <lgl> & <dbl> & <dbl> & <dbl> & <dbl> & <int> & <dbl> & <dbl> & <dbl>\\\\\n",
       "\\hline\n",
       "\t1 & 849 & 849 & 11876     & 11876     & UN & NA & 0.7547 & 0 & 0.2453 & 0.2453 & -1 & 0.870102 & 0e+00 & 1.7410\\\\\n",
       "\t2 & 849 & 849 & RNAID1969 & RNAID1969 & UN & NA & 0.7777 & 0 & 0.2223 & 0.2223 & -1 & 0.865977 & 0e+00 & 1.4741\\\\\n",
       "\t3 & 898 & 898 & 1046      & 1046      & UN & NA & 0.8319 & 0 & 0.1681 & 0.1681 & -1 & 0.857902 & 1e-04 & 1.7849\\\\\n",
       "\t4 & 898 & 898 & 1092      & 1092      & UN & NA & 0.8377 & 0 & 0.1623 & 0.1623 & -1 & 0.857149 & 7e-04 & 1.8203\\\\\n",
       "\t5 & 898 & 898 & 1102      & 1102      & UN & NA & 0.8441 & 0 & 0.1559 & 0.1559 & -1 & 0.856478 & 2e-03 & 1.8366\\\\\n",
       "\t6 & 898 & 898 & 1107      & 1107      & UN & NA & 0.8435 & 0 & 0.1565 & 0.1565 & -1 & 0.855699 & 0e+00 & 1.7353\\\\\n",
       "\\end{tabular}\n"
      ],
      "text/markdown": [
       "\n",
       "A data.frame: 6 × 14\n",
       "\n",
       "| <!--/--> | FID1 &lt;chr&gt; | IID1 &lt;chr&gt; | FID2 &lt;chr&gt; | IID2 &lt;chr&gt; | RT &lt;chr&gt; | EZ &lt;lgl&gt; | Z0 &lt;dbl&gt; | Z1 &lt;dbl&gt; | Z2 &lt;dbl&gt; | PI_HAT &lt;dbl&gt; | PHE &lt;int&gt; | DST &lt;dbl&gt; | PPC &lt;dbl&gt; | RATIO &lt;dbl&gt; |\n",
       "|---|---|---|---|---|---|---|---|---|---|---|---|---|---|---|\n",
       "| 1 | 849 | 849 | 11876     | 11876     | UN | NA | 0.7547 | 0 | 0.2453 | 0.2453 | -1 | 0.870102 | 0e+00 | 1.7410 |\n",
       "| 2 | 849 | 849 | RNAID1969 | RNAID1969 | UN | NA | 0.7777 | 0 | 0.2223 | 0.2223 | -1 | 0.865977 | 0e+00 | 1.4741 |\n",
       "| 3 | 898 | 898 | 1046      | 1046      | UN | NA | 0.8319 | 0 | 0.1681 | 0.1681 | -1 | 0.857902 | 1e-04 | 1.7849 |\n",
       "| 4 | 898 | 898 | 1092      | 1092      | UN | NA | 0.8377 | 0 | 0.1623 | 0.1623 | -1 | 0.857149 | 7e-04 | 1.8203 |\n",
       "| 5 | 898 | 898 | 1102      | 1102      | UN | NA | 0.8441 | 0 | 0.1559 | 0.1559 | -1 | 0.856478 | 2e-03 | 1.8366 |\n",
       "| 6 | 898 | 898 | 1107      | 1107      | UN | NA | 0.8435 | 0 | 0.1565 | 0.1565 | -1 | 0.855699 | 0e+00 | 1.7353 |\n",
       "\n"
      ],
      "text/plain": [
       "  FID1 IID1 FID2      IID2      RT EZ Z0     Z1 Z2     PI_HAT PHE DST     \n",
       "1 849  849  11876     11876     UN NA 0.7547 0  0.2453 0.2453 -1  0.870102\n",
       "2 849  849  RNAID1969 RNAID1969 UN NA 0.7777 0  0.2223 0.2223 -1  0.865977\n",
       "3 898  898  1046      1046      UN NA 0.8319 0  0.1681 0.1681 -1  0.857902\n",
       "4 898  898  1092      1092      UN NA 0.8377 0  0.1623 0.1623 -1  0.857149\n",
       "5 898  898  1102      1102      UN NA 0.8441 0  0.1559 0.1559 -1  0.856478\n",
       "6 898  898  1107      1107      UN NA 0.8435 0  0.1565 0.1565 -1  0.855699\n",
       "  PPC   RATIO \n",
       "1 0e+00 1.7410\n",
       "2 0e+00 1.4741\n",
       "3 1e-04 1.7849\n",
       "4 7e-04 1.8203\n",
       "5 2e-03 1.8366\n",
       "6 0e+00 1.7353"
      ]
     },
     "metadata": {},
     "output_type": "display_data"
    }
   ],
   "source": [
    "head(dat)"
   ]
  },
  {
   "cell_type": "code",
   "execution_count": 5,
   "metadata": {
    "collapsed": false
   },
   "outputs": [
    {
     "data": {
      "text/html": [
       "<table>\n",
       "<caption>A data.frame: 1 × 14</caption>\n",
       "<thead>\n",
       "\t<tr><th scope=col>FID1</th><th scope=col>IID1</th><th scope=col>FID2</th><th scope=col>IID2</th><th scope=col>RT</th><th scope=col>EZ</th><th scope=col>Z0</th><th scope=col>Z1</th><th scope=col>Z2</th><th scope=col>PI_HAT</th><th scope=col>PHE</th><th scope=col>DST</th><th scope=col>PPC</th><th scope=col>RATIO</th></tr>\n",
       "\t<tr><th scope=col>&lt;chr&gt;</th><th scope=col>&lt;chr&gt;</th><th scope=col>&lt;chr&gt;</th><th scope=col>&lt;chr&gt;</th><th scope=col>&lt;chr&gt;</th><th scope=col>&lt;lgl&gt;</th><th scope=col>&lt;dbl&gt;</th><th scope=col>&lt;dbl&gt;</th><th scope=col>&lt;dbl&gt;</th><th scope=col>&lt;dbl&gt;</th><th scope=col>&lt;int&gt;</th><th scope=col>&lt;dbl&gt;</th><th scope=col>&lt;dbl&gt;</th><th scope=col>&lt;dbl&gt;</th></tr>\n",
       "</thead>\n",
       "<tbody>\n",
       "\t<tr><td>HSB289</td><td>HSB289</td><td>HSB430</td><td>HSB430</td><td>UN</td><td>NA</td><td>0.8439</td><td>0</td><td>0.1561</td><td>0.1561</td><td>-1</td><td>0.859352</td><td>0.6637</td><td>2.0257</td></tr>\n",
       "</tbody>\n",
       "</table>\n"
      ],
      "text/latex": [
       "A data.frame: 1 × 14\n",
       "\\begin{tabular}{llllllllllllll}\n",
       " FID1 & IID1 & FID2 & IID2 & RT & EZ & Z0 & Z1 & Z2 & PI\\_HAT & PHE & DST & PPC & RATIO\\\\\n",
       " <chr> & <chr> & <chr> & <chr> & <chr> & <lgl> & <dbl> & <dbl> & <dbl> & <dbl> & <int> & <dbl> & <dbl> & <dbl>\\\\\n",
       "\\hline\n",
       "\t HSB289 & HSB289 & HSB430 & HSB430 & UN & NA & 0.8439 & 0 & 0.1561 & 0.1561 & -1 & 0.859352 & 0.6637 & 2.0257\\\\\n",
       "\\end{tabular}\n"
      ],
      "text/markdown": [
       "\n",
       "A data.frame: 1 × 14\n",
       "\n",
       "| FID1 &lt;chr&gt; | IID1 &lt;chr&gt; | FID2 &lt;chr&gt; | IID2 &lt;chr&gt; | RT &lt;chr&gt; | EZ &lt;lgl&gt; | Z0 &lt;dbl&gt; | Z1 &lt;dbl&gt; | Z2 &lt;dbl&gt; | PI_HAT &lt;dbl&gt; | PHE &lt;int&gt; | DST &lt;dbl&gt; | PPC &lt;dbl&gt; | RATIO &lt;dbl&gt; |\n",
       "|---|---|---|---|---|---|---|---|---|---|---|---|---|---|\n",
       "| HSB289 | HSB289 | HSB430 | HSB430 | UN | NA | 0.8439 | 0 | 0.1561 | 0.1561 | -1 | 0.859352 | 0.6637 | 2.0257 |\n",
       "\n"
      ],
      "text/plain": [
       "  FID1   IID1   FID2   IID2   RT EZ Z0     Z1 Z2     PI_HAT PHE DST      PPC   \n",
       "1 HSB289 HSB289 HSB430 HSB430 UN NA 0.8439 0  0.1561 0.1561 -1  0.859352 0.6637\n",
       "  RATIO \n",
       "1 2.0257"
      ]
     },
     "metadata": {},
     "output_type": "display_data"
    }
   ],
   "source": [
    "dat %>% filter(FID2 == \"HSB430\", FID1 == \"HSB289\")"
   ]
  },
  {
   "cell_type": "code",
   "execution_count": 4,
   "metadata": {
    "collapsed": false,
    "deletable": true,
    "editable": true
   },
   "outputs": [
    {
     "data": {
      "text/html": [
       "<style>\n",
       ".list-inline {list-style: none; margin:0; padding: 0}\n",
       ".list-inline>li {display: inline-block}\n",
       ".list-inline>li:not(:last-child)::after {content: \"\\00b7\"; padding: 0 .5ex}\n",
       "</style>\n",
       "<ol class=list-inline><li>34492</li><li>14</li></ol>\n"
      ],
      "text/latex": [
       "\\begin{enumerate*}\n",
       "\\item 34492\n",
       "\\item 14\n",
       "\\end{enumerate*}\n"
      ],
      "text/markdown": [
       "1. 34492\n",
       "2. 14\n",
       "\n",
       "\n"
      ],
      "text/plain": [
       "[1] 34492    14"
      ]
     },
     "metadata": {},
     "output_type": "display_data"
    }
   ],
   "source": [
    "dim(dat)"
   ]
  },
  {
   "cell_type": "code",
   "execution_count": 17,
   "metadata": {
    "collapsed": false,
    "deletable": true,
    "editable": true
   },
   "outputs": [],
   "source": [
    "p <- ggplot(dat, aes(x = seq_along(PI_HAT), y = PI_HAT)) +\n",
    "    geom_point(size = .8) +\n",
    "    labs(title = \"Relatedness check\", \n",
    "        subtitle = \"Only showing pi_hat > 0.1\",\n",
    "        x = \"Subject pairs\",\n",
    "        y = \"Plink pi_hat\") +\n",
    "    geom_hline(yintercept = .3, linetype = 'dotted', col = 'red') +\n",
    "    theme_classic() +\n",
    "    theme(axis.text = element_text(size=10),\n",
    "          axis.title = element_text(size=12),\n",
    "          plot.title = element_text(size=16, face=\"bold\", hjust = 0.5),\n",
    "          plot.subtitle = element_text(size=14, hjust = 0.5))"
   ]
  },
  {
   "cell_type": "code",
   "execution_count": 18,
   "metadata": {
    "collapsed": false,
    "deletable": true,
    "editable": true
   },
   "outputs": [
    {
     "data": {
      "image/png": "[encoded data removed]",
      "text/plain": [
       "plot without title"
      ]
     },
     "metadata": {
      "image/png": {
       "height": 420,
       "width": 420
      }
     },
     "output_type": "display_data"
    }
   ],
   "source": [
    "p"
   ]
  },
  {
   "cell_type": "code",
   "execution_count": 20,
   "metadata": {
    "collapsed": false,
    "deletable": true,
    "editable": true
   },
   "outputs": [],
   "source": [
    "ggsave(\"~/project-gandalm/isoform_twas/genotype/figures/pihat.png\", p, width = 6, height = 6)"
   ]
  },
  {
   "cell_type": "code",
   "execution_count": 20,
   "metadata": {
    "collapsed": false,
    "deletable": true,
    "editable": true
   },
   "outputs": [
    {
     "data": {
      "image/png": "[encoded data removed]",
      "text/plain": [
       "Plot with title “Histogram of dat$PI_HAT”"
      ]
     },
     "metadata": {
      "image/png": {
       "height": 420,
       "width": 420
      }
     },
     "output_type": "display_data"
    }
   ],
   "source": [
    "hist(dat$PI_HAT)"
   ]
  },
  {
   "cell_type": "markdown",
   "metadata": {
    "deletable": true,
    "editable": true
   },
   "source": [
    "**Note these are exactly the same pairs of subjects in apex with kinship~.5 **"
   ]
  },
  {
   "cell_type": "code",
   "execution_count": 17,
   "metadata": {
    "collapsed": false,
    "deletable": true,
    "editable": true,
    "scrolled": true
   },
   "outputs": [
    {
     "data": {
      "text/html": [
       "<table>\n",
       "<caption>A data.frame: 5 × 14</caption>\n",
       "<thead>\n",
       "\t<tr><th scope=col>FID1</th><th scope=col>IID1</th><th scope=col>FID2</th><th scope=col>IID2</th><th scope=col>RT</th><th scope=col>EZ</th><th scope=col>Z0</th><th scope=col>Z1</th><th scope=col>Z2</th><th scope=col>PI_HAT</th><th scope=col>PHE</th><th scope=col>DST</th><th scope=col>PPC</th><th scope=col>RATIO</th></tr>\n",
       "\t<tr><th scope=col>&lt;chr&gt;</th><th scope=col>&lt;chr&gt;</th><th scope=col>&lt;chr&gt;</th><th scope=col>&lt;chr&gt;</th><th scope=col>&lt;chr&gt;</th><th scope=col>&lt;lgl&gt;</th><th scope=col>&lt;dbl&gt;</th><th scope=col>&lt;dbl&gt;</th><th scope=col>&lt;dbl&gt;</th><th scope=col>&lt;dbl&gt;</th><th scope=col>&lt;int&gt;</th><th scope=col>&lt;dbl&gt;</th><th scope=col>&lt;dbl&gt;</th><th scope=col>&lt;dbl&gt;</th></tr>\n",
       "</thead>\n",
       "<tbody>\n",
       "\t<tr><td>Br1779</td><td>Br1779</td><td>Br1794</td><td>Br1794</td><td>UN</td><td>NA</td><td>0.0001</td><td>0.0039</td><td>0.9959</td><td>0.9979</td><td>-1</td><td>0.999597</td><td>1</td><td>       NA</td></tr>\n",
       "\t<tr><td>Br2394</td><td>Br2394</td><td>HSB148</td><td>HSB148</td><td>UN</td><td>NA</td><td>0.0009</td><td>0.0112</td><td>0.9879</td><td>0.9935</td><td>-1</td><td>0.998765</td><td>1</td><td>1013.0000</td></tr>\n",
       "\t<tr><td>Br2402</td><td>Br2402</td><td>HSB107</td><td>HSB107</td><td>UN</td><td>NA</td><td>0.0019</td><td>0.0197</td><td>0.9783</td><td>0.9882</td><td>-1</td><td>0.997777</td><td>1</td><td> 390.5385</td></tr>\n",
       "\t<tr><td>Br2411</td><td>Br2411</td><td>HSB154</td><td>HSB154</td><td>UN</td><td>NA</td><td>0.0014</td><td>0.0175</td><td>0.9811</td><td>0.9899</td><td>-1</td><td>0.998080</td><td>1</td><td>1297.5000</td></tr>\n",
       "\t<tr><td>Br2412</td><td>Br2412</td><td>HSB100</td><td>HSB100</td><td>UN</td><td>NA</td><td>0.0010</td><td>0.0237</td><td>0.9752</td><td>0.9871</td><td>-1</td><td>0.997536</td><td>1</td><td> 741.0000</td></tr>\n",
       "</tbody>\n",
       "</table>\n"
      ],
      "text/latex": [
       "A data.frame: 5 × 14\n",
       "\\begin{tabular}{llllllllllllll}\n",
       " FID1 & IID1 & FID2 & IID2 & RT & EZ & Z0 & Z1 & Z2 & PI\\_HAT & PHE & DST & PPC & RATIO\\\\\n",
       " <chr> & <chr> & <chr> & <chr> & <chr> & <lgl> & <dbl> & <dbl> & <dbl> & <dbl> & <int> & <dbl> & <dbl> & <dbl>\\\\\n",
       "\\hline\n",
       "\t Br1779 & Br1779 & Br1794 & Br1794 & UN & NA & 0.0001 & 0.0039 & 0.9959 & 0.9979 & -1 & 0.999597 & 1 &        NA\\\\\n",
       "\t Br2394 & Br2394 & HSB148 & HSB148 & UN & NA & 0.0009 & 0.0112 & 0.9879 & 0.9935 & -1 & 0.998765 & 1 & 1013.0000\\\\\n",
       "\t Br2402 & Br2402 & HSB107 & HSB107 & UN & NA & 0.0019 & 0.0197 & 0.9783 & 0.9882 & -1 & 0.997777 & 1 &  390.5385\\\\\n",
       "\t Br2411 & Br2411 & HSB154 & HSB154 & UN & NA & 0.0014 & 0.0175 & 0.9811 & 0.9899 & -1 & 0.998080 & 1 & 1297.5000\\\\\n",
       "\t Br2412 & Br2412 & HSB100 & HSB100 & UN & NA & 0.0010 & 0.0237 & 0.9752 & 0.9871 & -1 & 0.997536 & 1 &  741.0000\\\\\n",
       "\\end{tabular}\n"
      ],
      "text/markdown": [
       "\n",
       "A data.frame: 5 × 14\n",
       "\n",
       "| FID1 &lt;chr&gt; | IID1 &lt;chr&gt; | FID2 &lt;chr&gt; | IID2 &lt;chr&gt; | RT &lt;chr&gt; | EZ &lt;lgl&gt; | Z0 &lt;dbl&gt; | Z1 &lt;dbl&gt; | Z2 &lt;dbl&gt; | PI_HAT &lt;dbl&gt; | PHE &lt;int&gt; | DST &lt;dbl&gt; | PPC &lt;dbl&gt; | RATIO &lt;dbl&gt; |\n",
       "|---|---|---|---|---|---|---|---|---|---|---|---|---|---|\n",
       "| Br1779 | Br1779 | Br1794 | Br1794 | UN | NA | 0.0001 | 0.0039 | 0.9959 | 0.9979 | -1 | 0.999597 | 1 |        NA |\n",
       "| Br2394 | Br2394 | HSB148 | HSB148 | UN | NA | 0.0009 | 0.0112 | 0.9879 | 0.9935 | -1 | 0.998765 | 1 | 1013.0000 |\n",
       "| Br2402 | Br2402 | HSB107 | HSB107 | UN | NA | 0.0019 | 0.0197 | 0.9783 | 0.9882 | -1 | 0.997777 | 1 |  390.5385 |\n",
       "| Br2411 | Br2411 | HSB154 | HSB154 | UN | NA | 0.0014 | 0.0175 | 0.9811 | 0.9899 | -1 | 0.998080 | 1 | 1297.5000 |\n",
       "| Br2412 | Br2412 | HSB100 | HSB100 | UN | NA | 0.0010 | 0.0237 | 0.9752 | 0.9871 | -1 | 0.997536 | 1 |  741.0000 |\n",
       "\n"
      ],
      "text/plain": [
       "  FID1   IID1   FID2   IID2   RT EZ Z0     Z1     Z2     PI_HAT PHE DST     \n",
       "1 Br1779 Br1779 Br1794 Br1794 UN NA 0.0001 0.0039 0.9959 0.9979 -1  0.999597\n",
       "2 Br2394 Br2394 HSB148 HSB148 UN NA 0.0009 0.0112 0.9879 0.9935 -1  0.998765\n",
       "3 Br2402 Br2402 HSB107 HSB107 UN NA 0.0019 0.0197 0.9783 0.9882 -1  0.997777\n",
       "4 Br2411 Br2411 HSB154 HSB154 UN NA 0.0014 0.0175 0.9811 0.9899 -1  0.998080\n",
       "5 Br2412 Br2412 HSB100 HSB100 UN NA 0.0010 0.0237 0.9752 0.9871 -1  0.997536\n",
       "  PPC RATIO    \n",
       "1 1          NA\n",
       "2 1   1013.0000\n",
       "3 1    390.5385\n",
       "4 1   1297.5000\n",
       "5 1    741.0000"
      ]
     },
     "metadata": {},
     "output_type": "display_data"
    }
   ],
   "source": [
    "dat %>% filter(PI_HAT > 0.9)"
   ]
  },
  {
   "cell_type": "code",
   "execution_count": 22,
   "metadata": {
    "collapsed": false,
    "deletable": true,
    "editable": true
   },
   "outputs": [
    {
     "data": {
      "text/html": [
       "<table>\n",
       "<caption>A data.frame: 7 × 14</caption>\n",
       "<thead>\n",
       "\t<tr><th scope=col>FID1</th><th scope=col>IID1</th><th scope=col>FID2</th><th scope=col>IID2</th><th scope=col>RT</th><th scope=col>EZ</th><th scope=col>Z0</th><th scope=col>Z1</th><th scope=col>Z2</th><th scope=col>PI_HAT</th><th scope=col>PHE</th><th scope=col>DST</th><th scope=col>PPC</th><th scope=col>RATIO</th></tr>\n",
       "\t<tr><th scope=col>&lt;chr&gt;</th><th scope=col>&lt;chr&gt;</th><th scope=col>&lt;chr&gt;</th><th scope=col>&lt;chr&gt;</th><th scope=col>&lt;chr&gt;</th><th scope=col>&lt;lgl&gt;</th><th scope=col>&lt;dbl&gt;</th><th scope=col>&lt;dbl&gt;</th><th scope=col>&lt;dbl&gt;</th><th scope=col>&lt;dbl&gt;</th><th scope=col>&lt;int&gt;</th><th scope=col>&lt;dbl&gt;</th><th scope=col>&lt;dbl&gt;</th><th scope=col>&lt;dbl&gt;</th></tr>\n",
       "</thead>\n",
       "<tbody>\n",
       "\t<tr><td>1614  </td><td>1614  </td><td>1713  </td><td>1713  </td><td>UN</td><td>NA</td><td>0.3811</td><td>0.4957</td><td>0.1232</td><td>0.3711</td><td>-1</td><td>0.890180</td><td>1</td><td>   7.1977</td></tr>\n",
       "\t<tr><td>11602 </td><td>11602 </td><td>11841 </td><td>11841 </td><td>UN</td><td>NA</td><td>0.2940</td><td>0.3639</td><td>0.3421</td><td>0.5240</td><td>-1</td><td>0.917067</td><td>1</td><td>   5.5668</td></tr>\n",
       "\t<tr><td>Br1779</td><td>Br1779</td><td>Br1794</td><td>Br1794</td><td>UN</td><td>NA</td><td>0.0001</td><td>0.0039</td><td>0.9959</td><td>0.9979</td><td>-1</td><td>0.999597</td><td>1</td><td>       NA</td></tr>\n",
       "\t<tr><td>Br2394</td><td>Br2394</td><td>HSB148</td><td>HSB148</td><td>UN</td><td>NA</td><td>0.0009</td><td>0.0112</td><td>0.9879</td><td>0.9935</td><td>-1</td><td>0.998765</td><td>1</td><td>1013.0000</td></tr>\n",
       "\t<tr><td>Br2402</td><td>Br2402</td><td>HSB107</td><td>HSB107</td><td>UN</td><td>NA</td><td>0.0019</td><td>0.0197</td><td>0.9783</td><td>0.9882</td><td>-1</td><td>0.997777</td><td>1</td><td> 390.5385</td></tr>\n",
       "\t<tr><td>Br2411</td><td>Br2411</td><td>HSB154</td><td>HSB154</td><td>UN</td><td>NA</td><td>0.0014</td><td>0.0175</td><td>0.9811</td><td>0.9899</td><td>-1</td><td>0.998080</td><td>1</td><td>1297.5000</td></tr>\n",
       "\t<tr><td>Br2412</td><td>Br2412</td><td>HSB100</td><td>HSB100</td><td>UN</td><td>NA</td><td>0.0010</td><td>0.0237</td><td>0.9752</td><td>0.9871</td><td>-1</td><td>0.997536</td><td>1</td><td> 741.0000</td></tr>\n",
       "</tbody>\n",
       "</table>\n"
      ],
      "text/latex": [
       "A data.frame: 7 × 14\n",
       "\\begin{tabular}{llllllllllllll}\n",
       " FID1 & IID1 & FID2 & IID2 & RT & EZ & Z0 & Z1 & Z2 & PI\\_HAT & PHE & DST & PPC & RATIO\\\\\n",
       " <chr> & <chr> & <chr> & <chr> & <chr> & <lgl> & <dbl> & <dbl> & <dbl> & <dbl> & <int> & <dbl> & <dbl> & <dbl>\\\\\n",
       "\\hline\n",
       "\t 1614   & 1614   & 1713   & 1713   & UN & NA & 0.3811 & 0.4957 & 0.1232 & 0.3711 & -1 & 0.890180 & 1 &    7.1977\\\\\n",
       "\t 11602  & 11602  & 11841  & 11841  & UN & NA & 0.2940 & 0.3639 & 0.3421 & 0.5240 & -1 & 0.917067 & 1 &    5.5668\\\\\n",
       "\t Br1779 & Br1779 & Br1794 & Br1794 & UN & NA & 0.0001 & 0.0039 & 0.9959 & 0.9979 & -1 & 0.999597 & 1 &        NA\\\\\n",
       "\t Br2394 & Br2394 & HSB148 & HSB148 & UN & NA & 0.0009 & 0.0112 & 0.9879 & 0.9935 & -1 & 0.998765 & 1 & 1013.0000\\\\\n",
       "\t Br2402 & Br2402 & HSB107 & HSB107 & UN & NA & 0.0019 & 0.0197 & 0.9783 & 0.9882 & -1 & 0.997777 & 1 &  390.5385\\\\\n",
       "\t Br2411 & Br2411 & HSB154 & HSB154 & UN & NA & 0.0014 & 0.0175 & 0.9811 & 0.9899 & -1 & 0.998080 & 1 & 1297.5000\\\\\n",
       "\t Br2412 & Br2412 & HSB100 & HSB100 & UN & NA & 0.0010 & 0.0237 & 0.9752 & 0.9871 & -1 & 0.997536 & 1 &  741.0000\\\\\n",
       "\\end{tabular}\n"
      ],
      "text/markdown": [
       "\n",
       "A data.frame: 7 × 14\n",
       "\n",
       "| FID1 &lt;chr&gt; | IID1 &lt;chr&gt; | FID2 &lt;chr&gt; | IID2 &lt;chr&gt; | RT &lt;chr&gt; | EZ &lt;lgl&gt; | Z0 &lt;dbl&gt; | Z1 &lt;dbl&gt; | Z2 &lt;dbl&gt; | PI_HAT &lt;dbl&gt; | PHE &lt;int&gt; | DST &lt;dbl&gt; | PPC &lt;dbl&gt; | RATIO &lt;dbl&gt; |\n",
       "|---|---|---|---|---|---|---|---|---|---|---|---|---|---|\n",
       "| 1614   | 1614   | 1713   | 1713   | UN | NA | 0.3811 | 0.4957 | 0.1232 | 0.3711 | -1 | 0.890180 | 1 |    7.1977 |\n",
       "| 11602  | 11602  | 11841  | 11841  | UN | NA | 0.2940 | 0.3639 | 0.3421 | 0.5240 | -1 | 0.917067 | 1 |    5.5668 |\n",
       "| Br1779 | Br1779 | Br1794 | Br1794 | UN | NA | 0.0001 | 0.0039 | 0.9959 | 0.9979 | -1 | 0.999597 | 1 |        NA |\n",
       "| Br2394 | Br2394 | HSB148 | HSB148 | UN | NA | 0.0009 | 0.0112 | 0.9879 | 0.9935 | -1 | 0.998765 | 1 | 1013.0000 |\n",
       "| Br2402 | Br2402 | HSB107 | HSB107 | UN | NA | 0.0019 | 0.0197 | 0.9783 | 0.9882 | -1 | 0.997777 | 1 |  390.5385 |\n",
       "| Br2411 | Br2411 | HSB154 | HSB154 | UN | NA | 0.0014 | 0.0175 | 0.9811 | 0.9899 | -1 | 0.998080 | 1 | 1297.5000 |\n",
       "| Br2412 | Br2412 | HSB100 | HSB100 | UN | NA | 0.0010 | 0.0237 | 0.9752 | 0.9871 | -1 | 0.997536 | 1 |  741.0000 |\n",
       "\n"
      ],
      "text/plain": [
       "  FID1   IID1   FID2   IID2   RT EZ Z0     Z1     Z2     PI_HAT PHE DST     \n",
       "1 1614   1614   1713   1713   UN NA 0.3811 0.4957 0.1232 0.3711 -1  0.890180\n",
       "2 11602  11602  11841  11841  UN NA 0.2940 0.3639 0.3421 0.5240 -1  0.917067\n",
       "3 Br1779 Br1779 Br1794 Br1794 UN NA 0.0001 0.0039 0.9959 0.9979 -1  0.999597\n",
       "4 Br2394 Br2394 HSB148 HSB148 UN NA 0.0009 0.0112 0.9879 0.9935 -1  0.998765\n",
       "5 Br2402 Br2402 HSB107 HSB107 UN NA 0.0019 0.0197 0.9783 0.9882 -1  0.997777\n",
       "6 Br2411 Br2411 HSB154 HSB154 UN NA 0.0014 0.0175 0.9811 0.9899 -1  0.998080\n",
       "7 Br2412 Br2412 HSB100 HSB100 UN NA 0.0010 0.0237 0.9752 0.9871 -1  0.997536\n",
       "  PPC RATIO    \n",
       "1 1      7.1977\n",
       "2 1      5.5668\n",
       "3 1          NA\n",
       "4 1   1013.0000\n",
       "5 1    390.5385\n",
       "6 1   1297.5000\n",
       "7 1    741.0000"
      ]
     },
     "metadata": {},
     "output_type": "display_data"
    }
   ],
   "source": [
    "rel <- dat %>% filter(PI_HAT > 0.3)\n",
    "rel"
   ]
  },
  {
   "cell_type": "code",
   "execution_count": 23,
   "metadata": {
    "collapsed": false,
    "deletable": true,
    "editable": true
   },
   "outputs": [
    {
     "data": {
      "text/html": [
       "<table>\n",
       "<caption>A data.frame: 14 × 1</caption>\n",
       "<thead>\n",
       "\t<tr><th scope=col>c.rel.IID1..rel.IID2.</th></tr>\n",
       "\t<tr><th scope=col>&lt;fct&gt;</th></tr>\n",
       "</thead>\n",
       "<tbody>\n",
       "\t<tr><td>1614  </td></tr>\n",
       "\t<tr><td>11602 </td></tr>\n",
       "\t<tr><td>Br1779</td></tr>\n",
       "\t<tr><td>Br2394</td></tr>\n",
       "\t<tr><td>Br2402</td></tr>\n",
       "\t<tr><td>Br2411</td></tr>\n",
       "\t<tr><td>Br2412</td></tr>\n",
       "\t<tr><td>1713  </td></tr>\n",
       "\t<tr><td>11841 </td></tr>\n",
       "\t<tr><td>Br1794</td></tr>\n",
       "\t<tr><td>HSB148</td></tr>\n",
       "\t<tr><td>HSB107</td></tr>\n",
       "\t<tr><td>HSB154</td></tr>\n",
       "\t<tr><td>HSB100</td></tr>\n",
       "</tbody>\n",
       "</table>\n"
      ],
      "text/latex": [
       "A data.frame: 14 × 1\n",
       "\\begin{tabular}{l}\n",
       " c.rel.IID1..rel.IID2.\\\\\n",
       " <fct>\\\\\n",
       "\\hline\n",
       "\t 1614  \\\\\n",
       "\t 11602 \\\\\n",
       "\t Br1779\\\\\n",
       "\t Br2394\\\\\n",
       "\t Br2402\\\\\n",
       "\t Br2411\\\\\n",
       "\t Br2412\\\\\n",
       "\t 1713  \\\\\n",
       "\t 11841 \\\\\n",
       "\t Br1794\\\\\n",
       "\t HSB148\\\\\n",
       "\t HSB107\\\\\n",
       "\t HSB154\\\\\n",
       "\t HSB100\\\\\n",
       "\\end{tabular}\n"
      ],
      "text/markdown": [
       "\n",
       "A data.frame: 14 × 1\n",
       "\n",
       "| c.rel.IID1..rel.IID2. &lt;fct&gt; |\n",
       "|---|\n",
       "| 1614   |\n",
       "| 11602  |\n",
       "| Br1779 |\n",
       "| Br2394 |\n",
       "| Br2402 |\n",
       "| Br2411 |\n",
       "| Br2412 |\n",
       "| 1713   |\n",
       "| 11841  |\n",
       "| Br1794 |\n",
       "| HSB148 |\n",
       "| HSB107 |\n",
       "| HSB154 |\n",
       "| HSB100 |\n",
       "\n"
      ],
      "text/plain": [
       "   c.rel.IID1..rel.IID2.\n",
       "1  1614                 \n",
       "2  11602                \n",
       "3  Br1779               \n",
       "4  Br2394               \n",
       "5  Br2402               \n",
       "6  Br2411               \n",
       "7  Br2412               \n",
       "8  1713                 \n",
       "9  11841                \n",
       "10 Br1794               \n",
       "11 HSB148               \n",
       "12 HSB107               \n",
       "13 HSB154               \n",
       "14 HSB100               "
      ]
     },
     "metadata": {},
     "output_type": "display_data"
    }
   ],
   "source": [
    "df <- data.frame(c(rel$IID1, rel$IID2))\n",
    "df"
   ]
  },
  {
   "cell_type": "code",
   "execution_count": 24,
   "metadata": {
    "collapsed": true,
    "deletable": true,
    "editable": true
   },
   "outputs": [],
   "source": [
    "df$c.rel.IID1..rel.IID2. <- unique(df$c.rel.IID1..rel.IID2.)"
   ]
  },
  {
   "cell_type": "code",
   "execution_count": 25,
   "metadata": {
    "collapsed": false,
    "deletable": true,
    "editable": true
   },
   "outputs": [
    {
     "data": {
      "text/html": [
       "<table>\n",
       "<caption>A data.frame: 14 × 1</caption>\n",
       "<thead>\n",
       "\t<tr><th scope=col>c.rel.IID1..rel.IID2.</th></tr>\n",
       "\t<tr><th scope=col>&lt;fct&gt;</th></tr>\n",
       "</thead>\n",
       "<tbody>\n",
       "\t<tr><td>1614  </td></tr>\n",
       "\t<tr><td>11602 </td></tr>\n",
       "\t<tr><td>Br1779</td></tr>\n",
       "\t<tr><td>Br2394</td></tr>\n",
       "\t<tr><td>Br2402</td></tr>\n",
       "\t<tr><td>Br2411</td></tr>\n",
       "\t<tr><td>Br2412</td></tr>\n",
       "\t<tr><td>1713  </td></tr>\n",
       "\t<tr><td>11841 </td></tr>\n",
       "\t<tr><td>Br1794</td></tr>\n",
       "\t<tr><td>HSB148</td></tr>\n",
       "\t<tr><td>HSB107</td></tr>\n",
       "\t<tr><td>HSB154</td></tr>\n",
       "\t<tr><td>HSB100</td></tr>\n",
       "</tbody>\n",
       "</table>\n"
      ],
      "text/latex": [
       "A data.frame: 14 × 1\n",
       "\\begin{tabular}{l}\n",
       " c.rel.IID1..rel.IID2.\\\\\n",
       " <fct>\\\\\n",
       "\\hline\n",
       "\t 1614  \\\\\n",
       "\t 11602 \\\\\n",
       "\t Br1779\\\\\n",
       "\t Br2394\\\\\n",
       "\t Br2402\\\\\n",
       "\t Br2411\\\\\n",
       "\t Br2412\\\\\n",
       "\t 1713  \\\\\n",
       "\t 11841 \\\\\n",
       "\t Br1794\\\\\n",
       "\t HSB148\\\\\n",
       "\t HSB107\\\\\n",
       "\t HSB154\\\\\n",
       "\t HSB100\\\\\n",
       "\\end{tabular}\n"
      ],
      "text/markdown": [
       "\n",
       "A data.frame: 14 × 1\n",
       "\n",
       "| c.rel.IID1..rel.IID2. &lt;fct&gt; |\n",
       "|---|\n",
       "| 1614   |\n",
       "| 11602  |\n",
       "| Br1779 |\n",
       "| Br2394 |\n",
       "| Br2402 |\n",
       "| Br2411 |\n",
       "| Br2412 |\n",
       "| 1713   |\n",
       "| 11841  |\n",
       "| Br1794 |\n",
       "| HSB148 |\n",
       "| HSB107 |\n",
       "| HSB154 |\n",
       "| HSB100 |\n",
       "\n"
      ],
      "text/plain": [
       "   c.rel.IID1..rel.IID2.\n",
       "1  1614                 \n",
       "2  11602                \n",
       "3  Br1779               \n",
       "4  Br2394               \n",
       "5  Br2402               \n",
       "6  Br2411               \n",
       "7  Br2412               \n",
       "8  1713                 \n",
       "9  11841                \n",
       "10 Br1794               \n",
       "11 HSB148               \n",
       "12 HSB107               \n",
       "13 HSB154               \n",
       "14 HSB100               "
      ]
     },
     "metadata": {},
     "output_type": "display_data"
    }
   ],
   "source": [
    "df"
   ]
  },
  {
   "cell_type": "code",
   "execution_count": 26,
   "metadata": {
    "collapsed": true,
    "deletable": true,
    "editable": true
   },
   "outputs": [],
   "source": [
    "write.table(df, \"~/project-gandalm/isoform_twas/genotype/all_data/isec_R2_greater_than_3/ancestry/related.txt\", col.names=F, row.names=F, quote=F, sep=\"\\t\")"
   ]
  },
  {
   "cell_type": "code",
   "execution_count": 28,
   "metadata": {
    "collapsed": false,
    "deletable": true,
    "editable": true
   },
   "outputs": [
    {
     "data": {
      "text/html": [
       "14"
      ],
      "text/latex": [
       "14"
      ],
      "text/markdown": [
       "14"
      ],
      "text/plain": [
       "[1] 14"
      ]
     },
     "metadata": {},
     "output_type": "display_data"
    }
   ],
   "source": [
    "nrow(df)"
   ]
  },
  {
   "cell_type": "code",
   "execution_count": 29,
   "metadata": {
    "collapsed": true,
    "deletable": true,
    "editable": true
   },
   "outputs": [],
   "source": [
    "ancestry <- read.table(\"~/project-gandalm/isoform_twas/genotype/all_data/isec_R2_greater_than_3/ancestry/ancestry_list/ancestry.tsv\", hea=T, stringsAsFactors = F)"
   ]
  },
  {
   "cell_type": "code",
   "execution_count": 30,
   "metadata": {
    "collapsed": false,
    "deletable": true,
    "editable": true
   },
   "outputs": [
    {
     "data": {
      "text/html": [
       "<table>\n",
       "<caption>A data.frame: 6 × 2</caption>\n",
       "<thead>\n",
       "\t<tr><th></th><th scope=col>subject</th><th scope=col>ancestry</th></tr>\n",
       "\t<tr><th></th><th scope=col>&lt;chr&gt;</th><th scope=col>&lt;chr&gt;</th></tr>\n",
       "</thead>\n",
       "<tbody>\n",
       "\t<tr><th scope=row>1</th><td>898 </td><td>eur</td></tr>\n",
       "\t<tr><th scope=row>2</th><td>1038</td><td>eur</td></tr>\n",
       "\t<tr><th scope=row>3</th><td>1046</td><td>eur</td></tr>\n",
       "\t<tr><th scope=row>4</th><td>1092</td><td>eur</td></tr>\n",
       "\t<tr><th scope=row>5</th><td>1102</td><td>eur</td></tr>\n",
       "\t<tr><th scope=row>6</th><td>1107</td><td>eur</td></tr>\n",
       "</tbody>\n",
       "</table>\n"
      ],
      "text/latex": [
       "A data.frame: 6 × 2\n",
       "\\begin{tabular}{r|ll}\n",
       "  & subject & ancestry\\\\\n",
       "  & <chr> & <chr>\\\\\n",
       "\\hline\n",
       "\t1 & 898  & eur\\\\\n",
       "\t2 & 1038 & eur\\\\\n",
       "\t3 & 1046 & eur\\\\\n",
       "\t4 & 1092 & eur\\\\\n",
       "\t5 & 1102 & eur\\\\\n",
       "\t6 & 1107 & eur\\\\\n",
       "\\end{tabular}\n"
      ],
      "text/markdown": [
       "\n",
       "A data.frame: 6 × 2\n",
       "\n",
       "| <!--/--> | subject &lt;chr&gt; | ancestry &lt;chr&gt; |\n",
       "|---|---|---|\n",
       "| 1 | 898  | eur |\n",
       "| 2 | 1038 | eur |\n",
       "| 3 | 1046 | eur |\n",
       "| 4 | 1092 | eur |\n",
       "| 5 | 1102 | eur |\n",
       "| 6 | 1107 | eur |\n",
       "\n"
      ],
      "text/plain": [
       "  subject ancestry\n",
       "1 898     eur     \n",
       "2 1038    eur     \n",
       "3 1046    eur     \n",
       "4 1092    eur     \n",
       "5 1102    eur     \n",
       "6 1107    eur     "
      ]
     },
     "metadata": {},
     "output_type": "display_data"
    }
   ],
   "source": [
    "head(ancestry)"
   ]
  },
  {
   "cell_type": "code",
   "execution_count": 31,
   "metadata": {
    "collapsed": false,
    "deletable": true,
    "editable": true
   },
   "outputs": [
    {
     "data": {
      "text/html": [
       "<table>\n",
       "<caption>A data.frame: 14 × 2</caption>\n",
       "<thead>\n",
       "\t<tr><th scope=col>c.rel.IID1..rel.IID2.</th><th scope=col>ancestry</th></tr>\n",
       "\t<tr><th scope=col>&lt;chr&gt;</th><th scope=col>&lt;chr&gt;</th></tr>\n",
       "</thead>\n",
       "<tbody>\n",
       "\t<tr><td>1614  </td><td>afr</td></tr>\n",
       "\t<tr><td>11602 </td><td>amr</td></tr>\n",
       "\t<tr><td>Br1779</td><td>afr</td></tr>\n",
       "\t<tr><td>Br2394</td><td>eur</td></tr>\n",
       "\t<tr><td>Br2402</td><td>eur</td></tr>\n",
       "\t<tr><td>Br2411</td><td>afr</td></tr>\n",
       "\t<tr><td>Br2412</td><td>afr</td></tr>\n",
       "\t<tr><td>1713  </td><td>afr</td></tr>\n",
       "\t<tr><td>11841 </td><td>amr</td></tr>\n",
       "\t<tr><td>Br1794</td><td>afr</td></tr>\n",
       "\t<tr><td>HSB148</td><td>eur</td></tr>\n",
       "\t<tr><td>HSB107</td><td>eur</td></tr>\n",
       "\t<tr><td>HSB154</td><td>afr</td></tr>\n",
       "\t<tr><td>HSB100</td><td>afr</td></tr>\n",
       "</tbody>\n",
       "</table>\n"
      ],
      "text/latex": [
       "A data.frame: 14 × 2\n",
       "\\begin{tabular}{ll}\n",
       " c.rel.IID1..rel.IID2. & ancestry\\\\\n",
       " <chr> & <chr>\\\\\n",
       "\\hline\n",
       "\t 1614   & afr\\\\\n",
       "\t 11602  & amr\\\\\n",
       "\t Br1779 & afr\\\\\n",
       "\t Br2394 & eur\\\\\n",
       "\t Br2402 & eur\\\\\n",
       "\t Br2411 & afr\\\\\n",
       "\t Br2412 & afr\\\\\n",
       "\t 1713   & afr\\\\\n",
       "\t 11841  & amr\\\\\n",
       "\t Br1794 & afr\\\\\n",
       "\t HSB148 & eur\\\\\n",
       "\t HSB107 & eur\\\\\n",
       "\t HSB154 & afr\\\\\n",
       "\t HSB100 & afr\\\\\n",
       "\\end{tabular}\n"
      ],
      "text/markdown": [
       "\n",
       "A data.frame: 14 × 2\n",
       "\n",
       "| c.rel.IID1..rel.IID2. &lt;chr&gt; | ancestry &lt;chr&gt; |\n",
       "|---|---|\n",
       "| 1614   | afr |\n",
       "| 11602  | amr |\n",
       "| Br1779 | afr |\n",
       "| Br2394 | eur |\n",
       "| Br2402 | eur |\n",
       "| Br2411 | afr |\n",
       "| Br2412 | afr |\n",
       "| 1713   | afr |\n",
       "| 11841  | amr |\n",
       "| Br1794 | afr |\n",
       "| HSB148 | eur |\n",
       "| HSB107 | eur |\n",
       "| HSB154 | afr |\n",
       "| HSB100 | afr |\n",
       "\n"
      ],
      "text/plain": [
       "   c.rel.IID1..rel.IID2. ancestry\n",
       "1  1614                  afr     \n",
       "2  11602                 amr     \n",
       "3  Br1779                afr     \n",
       "4  Br2394                eur     \n",
       "5  Br2402                eur     \n",
       "6  Br2411                afr     \n",
       "7  Br2412                afr     \n",
       "8  1713                  afr     \n",
       "9  11841                 amr     \n",
       "10 Br1794                afr     \n",
       "11 HSB148                eur     \n",
       "12 HSB107                eur     \n",
       "13 HSB154                afr     \n",
       "14 HSB100                afr     "
      ]
     },
     "metadata": {},
     "output_type": "display_data"
    }
   ],
   "source": [
    "df <- df %>% left_join(ancestry, by=c(\"c.rel.IID1..rel.IID2.\"=\"subject\"))\n",
    "df"
   ]
  },
  {
   "cell_type": "code",
   "execution_count": 32,
   "metadata": {
    "collapsed": false,
    "deletable": true,
    "editable": true
   },
   "outputs": [
    {
     "data": {
      "text/html": [
       "4"
      ],
      "text/latex": [
       "4"
      ],
      "text/markdown": [
       "4"
      ],
      "text/plain": [
       "[1] 4"
      ]
     },
     "metadata": {},
     "output_type": "display_data"
    },
    {
     "data": {
      "text/html": [
       "2"
      ],
      "text/latex": [
       "2"
      ],
      "text/markdown": [
       "2"
      ],
      "text/plain": [
       "[1] 2"
      ]
     },
     "metadata": {},
     "output_type": "display_data"
    },
    {
     "data": {
      "text/html": [
       "8"
      ],
      "text/latex": [
       "8"
      ],
      "text/markdown": [
       "8"
      ],
      "text/plain": [
       "[1] 8"
      ]
     },
     "metadata": {},
     "output_type": "display_data"
    }
   ],
   "source": [
    "sum(df$ancestry == \"eur\")\n",
    "sum(df$ancestry == \"amr\")\n",
    "sum(df$ancestry == \"afr\")"
   ]
  }
 ],
 "metadata": {
  "kernelspec": {
   "display_name": "R 3.6.1",
   "language": "R",
   "name": "ir361"
  },
  "language_info": {
   "codemirror_mode": "r",
   "file_extension": ".r",
   "mimetype": "text/x-r-source",
   "name": "R",
   "pygments_lexer": "r",
   "version": "3.6.1"
  }
 },
 "nbformat": 4,
 "nbformat_minor": 2
}
