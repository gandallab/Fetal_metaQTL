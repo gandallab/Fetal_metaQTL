{
 "cells": [
  {
   "cell_type": "markdown",
   "metadata": {},
   "source": [
    "# MESC analysis"
   ]
  },
  {
   "cell_type": "code",
   "execution_count": 1,
   "metadata": {},
   "outputs": [
    {
     "name": "stderr",
     "output_type": "stream",
     "text": [
      "\n",
      "Attaching package: ‘dplyr’\n",
      "\n",
      "\n",
      "The following objects are masked from ‘package:data.table’:\n",
      "\n",
      "    between, first, last\n",
      "\n",
      "\n",
      "The following objects are masked from ‘package:stats’:\n",
      "\n",
      "    filter, lag\n",
      "\n",
      "\n",
      "The following objects are masked from ‘package:base’:\n",
      "\n",
      "    intersect, setdiff, setequal, union\n",
      "\n",
      "\n"
     ]
    }
   ],
   "source": [
    "setwd(\"~/project-gandalm/isoform_twas/MESC/\")\n",
    "library(data.table)\n",
    "library(dplyr)\n",
    "library(ggplot2)"
   ]
  },
  {
   "cell_type": "code",
   "execution_count": 2,
   "metadata": {},
   "outputs": [],
   "source": [
    "all.gene <- read.table(\"out/all.gene.SCZ.Clozuk.2018.all.h2med\", header = T, stringsAsFactors = F)"
   ]
  },
  {
   "cell_type": "code",
   "execution_count": 5,
   "metadata": {},
   "outputs": [
    {
     "data": {
      "text/html": [
       "<table class=\"dataframe\">\n",
       "<caption>A data.frame: 3 x 5</caption>\n",
       "<thead>\n",
       "\t<tr><th scope=col>Quantity</th><th scope=col>Estimate</th><th scope=col>SE.Estimate.</th><th scope=col>Estimate_over_h2</th><th scope=col>SE.Estimate_over_h2.</th></tr>\n",
       "\t<tr><th scope=col>&lt;chr&gt;</th><th scope=col>&lt;dbl&gt;</th><th scope=col>&lt;dbl&gt;</th><th scope=col>&lt;dbl&gt;</th><th scope=col>&lt;dbl&gt;</th></tr>\n",
       "</thead>\n",
       "<tbody>\n",
       "\t<tr><td>h2med   </td><td>0.01313009</td><td>0.00435822</td><td>0.03161524</td><td>0.0104617</td></tr>\n",
       "\t<tr><td>h2nonmed</td><td>0.40217875</td><td>0.01551244</td><td>0.96838476</td><td>0.0104617</td></tr>\n",
       "\t<tr><td>h2      </td><td>0.41530883</td><td>0.01528402</td><td>1.00000000</td><td>0.0000000</td></tr>\n",
       "</tbody>\n",
       "</table>\n"
      ],
      "text/latex": [
       "A data.frame: 3 x 5\n",
       "\\begin{tabular}{lllll}\n",
       " Quantity & Estimate & SE.Estimate. & Estimate\\_over\\_h2 & SE.Estimate\\_over\\_h2.\\\\\n",
       " <chr> & <dbl> & <dbl> & <dbl> & <dbl>\\\\\n",
       "\\hline\n",
       "\t h2med    & 0.01313009 & 0.00435822 & 0.03161524 & 0.0104617\\\\\n",
       "\t h2nonmed & 0.40217875 & 0.01551244 & 0.96838476 & 0.0104617\\\\\n",
       "\t h2       & 0.41530883 & 0.01528402 & 1.00000000 & 0.0000000\\\\\n",
       "\\end{tabular}\n"
      ],
      "text/markdown": [
       "\n",
       "A data.frame: 3 x 5\n",
       "\n",
       "| Quantity &lt;chr&gt; | Estimate &lt;dbl&gt; | SE.Estimate. &lt;dbl&gt; | Estimate_over_h2 &lt;dbl&gt; | SE.Estimate_over_h2. &lt;dbl&gt; |\n",
       "|---|---|---|---|---|\n",
       "| h2med    | 0.01313009 | 0.00435822 | 0.03161524 | 0.0104617 |\n",
       "| h2nonmed | 0.40217875 | 0.01551244 | 0.96838476 | 0.0104617 |\n",
       "| h2       | 0.41530883 | 0.01528402 | 1.00000000 | 0.0000000 |\n",
       "\n"
      ],
      "text/plain": [
       "  Quantity Estimate   SE.Estimate. Estimate_over_h2 SE.Estimate_over_h2.\n",
       "1 h2med    0.01313009 0.00435822   0.03161524       0.0104617           \n",
       "2 h2nonmed 0.40217875 0.01551244   0.96838476       0.0104617           \n",
       "3 h2       0.41530883 0.01528402   1.00000000       0.0000000           "
      ]
     },
     "metadata": {},
     "output_type": "display_data"
    }
   ],
   "source": [
    "all.gene"
   ]
  },
  {
   "cell_type": "code",
   "execution_count": 3,
   "metadata": {},
   "outputs": [],
   "source": [
    "all.iso <- read.table(\"out/all.iso.SCZ.Clozuk.2018.all.h2med\", header = T, stringsAsFactors = F)"
   ]
  },
  {
   "cell_type": "code",
   "execution_count": 7,
   "metadata": {},
   "outputs": [
    {
     "data": {
      "text/html": [
       "<table class=\"dataframe\">\n",
       "<caption>A data.frame: 3 x 5</caption>\n",
       "<thead>\n",
       "\t<tr><th scope=col>Quantity</th><th scope=col>Estimate</th><th scope=col>SE.Estimate.</th><th scope=col>Estimate_over_h2</th><th scope=col>SE.Estimate_over_h2.</th></tr>\n",
       "\t<tr><th scope=col>&lt;chr&gt;</th><th scope=col>&lt;dbl&gt;</th><th scope=col>&lt;dbl&gt;</th><th scope=col>&lt;dbl&gt;</th><th scope=col>&lt;dbl&gt;</th></tr>\n",
       "</thead>\n",
       "<tbody>\n",
       "\t<tr><td>h2med   </td><td>0.02631269</td><td>0.007716729</td><td>0.06295599</td><td>0.01829824</td></tr>\n",
       "\t<tr><td>h2nonmed</td><td>0.39164106</td><td>0.016179024</td><td>0.93704401</td><td>0.01829824</td></tr>\n",
       "\t<tr><td>h2      </td><td>0.41795375</td><td>0.015321560</td><td>1.00000000</td><td>0.00000000</td></tr>\n",
       "</tbody>\n",
       "</table>\n"
      ],
      "text/latex": [
       "A data.frame: 3 x 5\n",
       "\\begin{tabular}{lllll}\n",
       " Quantity & Estimate & SE.Estimate. & Estimate\\_over\\_h2 & SE.Estimate\\_over\\_h2.\\\\\n",
       " <chr> & <dbl> & <dbl> & <dbl> & <dbl>\\\\\n",
       "\\hline\n",
       "\t h2med    & 0.02631269 & 0.007716729 & 0.06295599 & 0.01829824\\\\\n",
       "\t h2nonmed & 0.39164106 & 0.016179024 & 0.93704401 & 0.01829824\\\\\n",
       "\t h2       & 0.41795375 & 0.015321560 & 1.00000000 & 0.00000000\\\\\n",
       "\\end{tabular}\n"
      ],
      "text/markdown": [
       "\n",
       "A data.frame: 3 x 5\n",
       "\n",
       "| Quantity &lt;chr&gt; | Estimate &lt;dbl&gt; | SE.Estimate. &lt;dbl&gt; | Estimate_over_h2 &lt;dbl&gt; | SE.Estimate_over_h2. &lt;dbl&gt; |\n",
       "|---|---|---|---|---|\n",
       "| h2med    | 0.02631269 | 0.007716729 | 0.06295599 | 0.01829824 |\n",
       "| h2nonmed | 0.39164106 | 0.016179024 | 0.93704401 | 0.01829824 |\n",
       "| h2       | 0.41795375 | 0.015321560 | 1.00000000 | 0.00000000 |\n",
       "\n"
      ],
      "text/plain": [
       "  Quantity Estimate   SE.Estimate. Estimate_over_h2 SE.Estimate_over_h2.\n",
       "1 h2med    0.02631269 0.007716729  0.06295599       0.01829824          \n",
       "2 h2nonmed 0.39164106 0.016179024  0.93704401       0.01829824          \n",
       "3 h2       0.41795375 0.015321560  1.00000000       0.00000000          "
      ]
     },
     "metadata": {},
     "output_type": "display_data"
    }
   ],
   "source": [
    "all.iso"
   ]
  },
  {
   "cell_type": "code",
   "execution_count": 4,
   "metadata": {},
   "outputs": [],
   "source": [
    "all.intron <- read.table(\"out/all.intron.SCZ.Clozuk.2018.all.h2med\", header = T, stringsAsFactors = F)"
   ]
  },
  {
   "cell_type": "code",
   "execution_count": 5,
   "metadata": {},
   "outputs": [
    {
     "data": {
      "text/html": [
       "<table class=\"dataframe\">\n",
       "<caption>A data.frame: 3 x 5</caption>\n",
       "<thead>\n",
       "\t<tr><th scope=col>Quantity</th><th scope=col>Estimate</th><th scope=col>SE.Estimate.</th><th scope=col>Estimate_over_h2</th><th scope=col>SE.Estimate_over_h2.</th></tr>\n",
       "\t<tr><th scope=col>&lt;chr&gt;</th><th scope=col>&lt;dbl&gt;</th><th scope=col>&lt;dbl&gt;</th><th scope=col>&lt;dbl&gt;</th><th scope=col>&lt;dbl&gt;</th></tr>\n",
       "</thead>\n",
       "<tbody>\n",
       "\t<tr><td>h2med   </td><td>0.01046139</td><td>0.007127689</td><td>0.02528293</td><td>0.01715304</td></tr>\n",
       "\t<tr><td>h2nonmed</td><td>0.40331148</td><td>0.016085689</td><td>0.97471707</td><td>0.01715304</td></tr>\n",
       "\t<tr><td>h2      </td><td>0.41377287</td><td>0.015332047</td><td>1.00000000</td><td>0.00000000</td></tr>\n",
       "</tbody>\n",
       "</table>\n"
      ],
      "text/latex": [
       "A data.frame: 3 x 5\n",
       "\\begin{tabular}{lllll}\n",
       " Quantity & Estimate & SE.Estimate. & Estimate\\_over\\_h2 & SE.Estimate\\_over\\_h2.\\\\\n",
       " <chr> & <dbl> & <dbl> & <dbl> & <dbl>\\\\\n",
       "\\hline\n",
       "\t h2med    & 0.01046139 & 0.007127689 & 0.02528293 & 0.01715304\\\\\n",
       "\t h2nonmed & 0.40331148 & 0.016085689 & 0.97471707 & 0.01715304\\\\\n",
       "\t h2       & 0.41377287 & 0.015332047 & 1.00000000 & 0.00000000\\\\\n",
       "\\end{tabular}\n"
      ],
      "text/markdown": [
       "\n",
       "A data.frame: 3 x 5\n",
       "\n",
       "| Quantity &lt;chr&gt; | Estimate &lt;dbl&gt; | SE.Estimate. &lt;dbl&gt; | Estimate_over_h2 &lt;dbl&gt; | SE.Estimate_over_h2. &lt;dbl&gt; |\n",
       "|---|---|---|---|---|\n",
       "| h2med    | 0.01046139 | 0.007127689 | 0.02528293 | 0.01715304 |\n",
       "| h2nonmed | 0.40331148 | 0.016085689 | 0.97471707 | 0.01715304 |\n",
       "| h2       | 0.41377287 | 0.015332047 | 1.00000000 | 0.00000000 |\n",
       "\n"
      ],
      "text/plain": [
       "  Quantity Estimate   SE.Estimate. Estimate_over_h2 SE.Estimate_over_h2.\n",
       "1 h2med    0.01046139 0.007127689  0.02528293       0.01715304          \n",
       "2 h2nonmed 0.40331148 0.016085689  0.97471707       0.01715304          \n",
       "3 h2       0.41377287 0.015332047  1.00000000       0.00000000          "
      ]
     },
     "metadata": {},
     "output_type": "display_data"
    }
   ],
   "source": [
    "all.intron"
   ]
  },
  {
   "cell_type": "code",
   "execution_count": 8,
   "metadata": {},
   "outputs": [],
   "source": [
    "egene <- read.table(\"out/gene.SCZ.Clozuk.2018.all.h2med\", header = T, stringsAsFactors = F)"
   ]
  },
  {
   "cell_type": "code",
   "execution_count": 9,
   "metadata": {},
   "outputs": [
    {
     "data": {
      "text/html": [
       "<table class=\"dataframe\">\n",
       "<caption>A data.frame: 3 x 5</caption>\n",
       "<thead>\n",
       "\t<tr><th scope=col>Quantity</th><th scope=col>Estimate</th><th scope=col>SE.Estimate.</th><th scope=col>Estimate_over_h2</th><th scope=col>SE.Estimate_over_h2.</th></tr>\n",
       "\t<tr><th scope=col>&lt;chr&gt;</th><th scope=col>&lt;dbl&gt;</th><th scope=col>&lt;dbl&gt;</th><th scope=col>&lt;dbl&gt;</th><th scope=col>&lt;dbl&gt;</th></tr>\n",
       "</thead>\n",
       "<tbody>\n",
       "\t<tr><td>h2med   </td><td>0.01153767</td><td>0.004322936</td><td>0.02782777</td><td>0.01040629</td></tr>\n",
       "\t<tr><td>h2nonmed</td><td>0.40307210</td><td>0.015548662</td><td>0.97217223</td><td>0.01040629</td></tr>\n",
       "\t<tr><td>h2      </td><td>0.41460977</td><td>0.015272720</td><td>1.00000000</td><td>0.00000000</td></tr>\n",
       "</tbody>\n",
       "</table>\n"
      ],
      "text/latex": [
       "A data.frame: 3 x 5\n",
       "\\begin{tabular}{lllll}\n",
       " Quantity & Estimate & SE.Estimate. & Estimate\\_over\\_h2 & SE.Estimate\\_over\\_h2.\\\\\n",
       " <chr> & <dbl> & <dbl> & <dbl> & <dbl>\\\\\n",
       "\\hline\n",
       "\t h2med    & 0.01153767 & 0.004322936 & 0.02782777 & 0.01040629\\\\\n",
       "\t h2nonmed & 0.40307210 & 0.015548662 & 0.97217223 & 0.01040629\\\\\n",
       "\t h2       & 0.41460977 & 0.015272720 & 1.00000000 & 0.00000000\\\\\n",
       "\\end{tabular}\n"
      ],
      "text/markdown": [
       "\n",
       "A data.frame: 3 x 5\n",
       "\n",
       "| Quantity &lt;chr&gt; | Estimate &lt;dbl&gt; | SE.Estimate. &lt;dbl&gt; | Estimate_over_h2 &lt;dbl&gt; | SE.Estimate_over_h2. &lt;dbl&gt; |\n",
       "|---|---|---|---|---|\n",
       "| h2med    | 0.01153767 | 0.004322936 | 0.02782777 | 0.01040629 |\n",
       "| h2nonmed | 0.40307210 | 0.015548662 | 0.97217223 | 0.01040629 |\n",
       "| h2       | 0.41460977 | 0.015272720 | 1.00000000 | 0.00000000 |\n",
       "\n"
      ],
      "text/plain": [
       "  Quantity Estimate   SE.Estimate. Estimate_over_h2 SE.Estimate_over_h2.\n",
       "1 h2med    0.01153767 0.004322936  0.02782777       0.01040629          \n",
       "2 h2nonmed 0.40307210 0.015548662  0.97217223       0.01040629          \n",
       "3 h2       0.41460977 0.015272720  1.00000000       0.00000000          "
      ]
     },
     "metadata": {},
     "output_type": "display_data"
    }
   ],
   "source": [
    "egene"
   ]
  },
  {
   "cell_type": "code",
   "execution_count": 28,
   "metadata": {},
   "outputs": [
    {
     "data": {
      "text/html": [
       "<table class=\"dataframe\">\n",
       "<caption>A data.frame: 3 x 8</caption>\n",
       "<thead>\n",
       "\t<tr><th scope=col>Quantity</th><th scope=col>Estimate</th><th scope=col>SE.Estimate.</th><th scope=col>Estimate_over_h2</th><th scope=col>SE.Estimate_over_h2.</th><th scope=col>Category</th><th scope=col>ZSCORE.est_over_h2</th><th scope=col>PVAL.est_over_h2</th></tr>\n",
       "\t<tr><th scope=col>&lt;chr&gt;</th><th scope=col>&lt;dbl&gt;</th><th scope=col>&lt;dbl&gt;</th><th scope=col>&lt;dbl&gt;</th><th scope=col>&lt;dbl&gt;</th><th scope=col>&lt;fct&gt;</th><th scope=col>&lt;dbl&gt;</th><th scope=col>&lt;dbl&gt;</th></tr>\n",
       "</thead>\n",
       "<tbody>\n",
       "\t<tr><td>h2med</td><td>0.01313009</td><td>0.004358220</td><td>0.03161524</td><td>0.01046170</td><td>All gene   </td><td>3.021998</td><td>0.0012555606</td></tr>\n",
       "\t<tr><td>h2med</td><td>0.02631269</td><td>0.007716729</td><td>0.06295599</td><td>0.01829824</td><td>All isoform</td><td>3.440549</td><td>0.0002902672</td></tr>\n",
       "\t<tr><td>h2med</td><td>0.01046139</td><td>0.007127689</td><td>0.02528293</td><td>0.01715304</td><td>All intron </td><td>1.473962</td><td>0.0702459074</td></tr>\n",
       "</tbody>\n",
       "</table>\n"
      ],
      "text/latex": [
       "A data.frame: 3 x 8\n",
       "\\begin{tabular}{llllllll}\n",
       " Quantity & Estimate & SE.Estimate. & Estimate\\_over\\_h2 & SE.Estimate\\_over\\_h2. & Category & ZSCORE.est\\_over\\_h2 & PVAL.est\\_over\\_h2\\\\\n",
       " <chr> & <dbl> & <dbl> & <dbl> & <dbl> & <fct> & <dbl> & <dbl>\\\\\n",
       "\\hline\n",
       "\t h2med & 0.01313009 & 0.004358220 & 0.03161524 & 0.01046170 & All gene    & 3.021998 & 0.0012555606\\\\\n",
       "\t h2med & 0.02631269 & 0.007716729 & 0.06295599 & 0.01829824 & All isoform & 3.440549 & 0.0002902672\\\\\n",
       "\t h2med & 0.01046139 & 0.007127689 & 0.02528293 & 0.01715304 & All intron  & 1.473962 & 0.0702459074\\\\\n",
       "\\end{tabular}\n"
      ],
      "text/markdown": [
       "\n",
       "A data.frame: 3 x 8\n",
       "\n",
       "| Quantity &lt;chr&gt; | Estimate &lt;dbl&gt; | SE.Estimate. &lt;dbl&gt; | Estimate_over_h2 &lt;dbl&gt; | SE.Estimate_over_h2. &lt;dbl&gt; | Category &lt;fct&gt; | ZSCORE.est_over_h2 &lt;dbl&gt; | PVAL.est_over_h2 &lt;dbl&gt; |\n",
       "|---|---|---|---|---|---|---|---|\n",
       "| h2med | 0.01313009 | 0.004358220 | 0.03161524 | 0.01046170 | All gene    | 3.021998 | 0.0012555606 |\n",
       "| h2med | 0.02631269 | 0.007716729 | 0.06295599 | 0.01829824 | All isoform | 3.440549 | 0.0002902672 |\n",
       "| h2med | 0.01046139 | 0.007127689 | 0.02528293 | 0.01715304 | All intron  | 1.473962 | 0.0702459074 |\n",
       "\n"
      ],
      "text/plain": [
       "  Quantity Estimate   SE.Estimate. Estimate_over_h2 SE.Estimate_over_h2.\n",
       "1 h2med    0.01313009 0.004358220  0.03161524       0.01046170          \n",
       "2 h2med    0.02631269 0.007716729  0.06295599       0.01829824          \n",
       "3 h2med    0.01046139 0.007127689  0.02528293       0.01715304          \n",
       "  Category    ZSCORE.est_over_h2 PVAL.est_over_h2\n",
       "1 All gene    3.021998           0.0012555606    \n",
       "2 All isoform 3.440549           0.0002902672    \n",
       "3 All intron  1.473962           0.0702459074    "
      ]
     },
     "metadata": {},
     "output_type": "display_data"
    }
   ],
   "source": [
    "df <- rbind(all.gene, all.iso, all.intron)\n",
    "df$Category <- c(rep(\"All gene\", 3), rep(\"All isoform\", 3), rep(\"All intron\", 3))\n",
    "df <- df %>% filter(Quantity == \"h2med\")\n",
    "df$Category <- factor(df$Category, levels = c(\"All gene\", \"All isoform\", \"All intron\"))\n",
    "df$ZSCORE.est_over_h2 <- df$Estimate_over_h2/df$SE.Estimate_over_h2\n",
    "df$PVAL.est_over_h2 <- pnorm(df$ZSCORE.est_over_h2, lower.tail = FALSE)\n",
    "df"
   ]
  },
  {
   "cell_type": "code",
   "execution_count": 32,
   "metadata": {},
   "outputs": [],
   "source": [
    "signif_gene <- data.frame(\"Category\" = \"All gene\", \"Estimate_over_h2\" = 0.03161524+0.01046170+0.002)\n",
    "signif_iso <- data.frame(\"Category\" = \"All isoform\", \"Estimate_over_h2\" = 0.06295599+0.01829824+0.002)"
   ]
  },
  {
   "cell_type": "code",
   "execution_count": 33,
   "metadata": {},
   "outputs": [],
   "source": [
    "colors <- c(\"All gene\" = \"#1F77B4\", \"All isoform\" = \"#9467BD\", \"All intron\" = \"#2CA02C\")"
   ]
  },
  {
   "cell_type": "code",
   "execution_count": 36,
   "metadata": {},
   "outputs": [
    {
     "data": {
      "image/png": "[encoded data removed]",
      "text/plain": [
       "plot without title"
      ]
     },
     "metadata": {
      "image/png": {
       "height": 420,
       "width": 420
      }
     },
     "output_type": "display_data"
    }
   ],
   "source": [
    "p <- ggplot(df, aes(x = Category, y = Estimate_over_h2)) +\n",
    "    geom_bar(stat = \"identity\", aes(color = Category, fill = Category), alpha = 0.7) +\n",
    "    scale_color_manual(values = colors) +\n",
    "    scale_fill_manual(values = colors) +\n",
    "    geom_errorbar(aes(ymin = (Estimate_over_h2 - SE.Estimate_over_h2.), \n",
    "                      ymax = (Estimate_over_h2 + SE.Estimate_over_h2.)), width=.2) +\n",
    "    theme_classic() +\n",
    "    labs(x = \"Category\",\n",
    "         y = \"h2med/h2\") +\n",
    "    theme(axis.text = element_text(size = 16),\n",
    "          axis.title = element_text(size = 18),\n",
    "          legend.position = \"none\") +\n",
    "    geom_text(data = signif_gene, label = \"**\", size = 6) +\n",
    "    geom_text(data = signif_iso, label = \"***\", size = 6)\n",
    "p"
   ]
  },
  {
   "cell_type": "code",
   "execution_count": 37,
   "metadata": {},
   "outputs": [],
   "source": [
    "ggsave(\"figures/mesc.pdf\", p, height = 6, width = 6)"
   ]
  },
  {
   "cell_type": "code",
   "execution_count": null,
   "metadata": {},
   "outputs": [],
   "source": []
  }
 ],
 "metadata": {
  "kernelspec": {
   "display_name": "R 4.1.0 BIO",
   "language": "R",
   "name": "ir410-bio"
  },
  "language_info": {
   "codemirror_mode": "r",
   "file_extension": ".r",
   "mimetype": "text/x-r-source",
   "name": "R",
   "pygments_lexer": "r",
   "version": "4.1.0"
  }
 },
 "nbformat": 4,
 "nbformat_minor": 4
}
