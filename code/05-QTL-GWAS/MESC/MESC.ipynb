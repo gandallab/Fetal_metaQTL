{
 "cells": [
  {
   "cell_type": "markdown",
   "metadata": {},
   "source": [
    "# MESC analysis"
   ]
  },
  {
   "cell_type": "code",
   "execution_count": 1,
   "metadata": {},
   "outputs": [
    {
     "name": "stderr",
     "output_type": "stream",
     "text": [
      "\n",
      "Attaching package: ‘dplyr’\n",
      "\n",
      "\n",
      "The following objects are masked from ‘package:data.table’:\n",
      "\n",
      "    between, first, last\n",
      "\n",
      "\n",
      "The following objects are masked from ‘package:stats’:\n",
      "\n",
      "    filter, lag\n",
      "\n",
      "\n",
      "The following objects are masked from ‘package:base’:\n",
      "\n",
      "    intersect, setdiff, setequal, union\n",
      "\n",
      "\n"
     ]
    }
   ],
   "source": [
    "setwd(\"~/project-gandalm/isoform_twas/MESC/\")\n",
    "library(data.table)\n",
    "library(dplyr)\n",
    "library(ggplot2)"
   ]
  },
  {
   "cell_type": "code",
   "execution_count": 4,
   "metadata": {},
   "outputs": [],
   "source": [
    "all.gene <- read.table(\"out/all.gene.SCZ.Clozuk.2018.all.h2med\", header = T, stringsAsFactors = F)"
   ]
  },
  {
   "cell_type": "code",
   "execution_count": 5,
   "metadata": {},
   "outputs": [
    {
     "data": {
      "text/html": [
       "<table class=\"dataframe\">\n",
       "<caption>A data.frame: 3 x 5</caption>\n",
       "<thead>\n",
       "\t<tr><th scope=col>Quantity</th><th scope=col>Estimate</th><th scope=col>SE.Estimate.</th><th scope=col>Estimate_over_h2</th><th scope=col>SE.Estimate_over_h2.</th></tr>\n",
       "\t<tr><th scope=col>&lt;chr&gt;</th><th scope=col>&lt;dbl&gt;</th><th scope=col>&lt;dbl&gt;</th><th scope=col>&lt;dbl&gt;</th><th scope=col>&lt;dbl&gt;</th></tr>\n",
       "</thead>\n",
       "<tbody>\n",
       "\t<tr><td>h2med   </td><td>0.01313009</td><td>0.00435822</td><td>0.03161524</td><td>0.0104617</td></tr>\n",
       "\t<tr><td>h2nonmed</td><td>0.40217875</td><td>0.01551244</td><td>0.96838476</td><td>0.0104617</td></tr>\n",
       "\t<tr><td>h2      </td><td>0.41530883</td><td>0.01528402</td><td>1.00000000</td><td>0.0000000</td></tr>\n",
       "</tbody>\n",
       "</table>\n"
      ],
      "text/latex": [
       "A data.frame: 3 x 5\n",
       "\\begin{tabular}{lllll}\n",
       " Quantity & Estimate & SE.Estimate. & Estimate\\_over\\_h2 & SE.Estimate\\_over\\_h2.\\\\\n",
       " <chr> & <dbl> & <dbl> & <dbl> & <dbl>\\\\\n",
       "\\hline\n",
       "\t h2med    & 0.01313009 & 0.00435822 & 0.03161524 & 0.0104617\\\\\n",
       "\t h2nonmed & 0.40217875 & 0.01551244 & 0.96838476 & 0.0104617\\\\\n",
       "\t h2       & 0.41530883 & 0.01528402 & 1.00000000 & 0.0000000\\\\\n",
       "\\end{tabular}\n"
      ],
      "text/markdown": [
       "\n",
       "A data.frame: 3 x 5\n",
       "\n",
       "| Quantity &lt;chr&gt; | Estimate &lt;dbl&gt; | SE.Estimate. &lt;dbl&gt; | Estimate_over_h2 &lt;dbl&gt; | SE.Estimate_over_h2. &lt;dbl&gt; |\n",
       "|---|---|---|---|---|\n",
       "| h2med    | 0.01313009 | 0.00435822 | 0.03161524 | 0.0104617 |\n",
       "| h2nonmed | 0.40217875 | 0.01551244 | 0.96838476 | 0.0104617 |\n",
       "| h2       | 0.41530883 | 0.01528402 | 1.00000000 | 0.0000000 |\n",
       "\n"
      ],
      "text/plain": [
       "  Quantity Estimate   SE.Estimate. Estimate_over_h2 SE.Estimate_over_h2.\n",
       "1 h2med    0.01313009 0.00435822   0.03161524       0.0104617           \n",
       "2 h2nonmed 0.40217875 0.01551244   0.96838476       0.0104617           \n",
       "3 h2       0.41530883 0.01528402   1.00000000       0.0000000           "
      ]
     },
     "metadata": {},
     "output_type": "display_data"
    }
   ],
   "source": [
    "all.gene"
   ]
  },
  {
   "cell_type": "code",
   "execution_count": 6,
   "metadata": {},
   "outputs": [],
   "source": [
    "all.iso <- read.table(\"out/all.iso.SCZ.Clozuk.2018.all.h2med\", header = T, stringsAsFactors = F)"
   ]
  },
  {
   "cell_type": "code",
   "execution_count": 7,
   "metadata": {},
   "outputs": [
    {
     "data": {
      "text/html": [
       "<table class=\"dataframe\">\n",
       "<caption>A data.frame: 3 x 5</caption>\n",
       "<thead>\n",
       "\t<tr><th scope=col>Quantity</th><th scope=col>Estimate</th><th scope=col>SE.Estimate.</th><th scope=col>Estimate_over_h2</th><th scope=col>SE.Estimate_over_h2.</th></tr>\n",
       "\t<tr><th scope=col>&lt;chr&gt;</th><th scope=col>&lt;dbl&gt;</th><th scope=col>&lt;dbl&gt;</th><th scope=col>&lt;dbl&gt;</th><th scope=col>&lt;dbl&gt;</th></tr>\n",
       "</thead>\n",
       "<tbody>\n",
       "\t<tr><td>h2med   </td><td>0.02631269</td><td>0.007716729</td><td>0.06295599</td><td>0.01829824</td></tr>\n",
       "\t<tr><td>h2nonmed</td><td>0.39164106</td><td>0.016179024</td><td>0.93704401</td><td>0.01829824</td></tr>\n",
       "\t<tr><td>h2      </td><td>0.41795375</td><td>0.015321560</td><td>1.00000000</td><td>0.00000000</td></tr>\n",
       "</tbody>\n",
       "</table>\n"
      ],
      "text/latex": [
       "A data.frame: 3 x 5\n",
       "\\begin{tabular}{lllll}\n",
       " Quantity & Estimate & SE.Estimate. & Estimate\\_over\\_h2 & SE.Estimate\\_over\\_h2.\\\\\n",
       " <chr> & <dbl> & <dbl> & <dbl> & <dbl>\\\\\n",
       "\\hline\n",
       "\t h2med    & 0.02631269 & 0.007716729 & 0.06295599 & 0.01829824\\\\\n",
       "\t h2nonmed & 0.39164106 & 0.016179024 & 0.93704401 & 0.01829824\\\\\n",
       "\t h2       & 0.41795375 & 0.015321560 & 1.00000000 & 0.00000000\\\\\n",
       "\\end{tabular}\n"
      ],
      "text/markdown": [
       "\n",
       "A data.frame: 3 x 5\n",
       "\n",
       "| Quantity &lt;chr&gt; | Estimate &lt;dbl&gt; | SE.Estimate. &lt;dbl&gt; | Estimate_over_h2 &lt;dbl&gt; | SE.Estimate_over_h2. &lt;dbl&gt; |\n",
       "|---|---|---|---|---|\n",
       "| h2med    | 0.02631269 | 0.007716729 | 0.06295599 | 0.01829824 |\n",
       "| h2nonmed | 0.39164106 | 0.016179024 | 0.93704401 | 0.01829824 |\n",
       "| h2       | 0.41795375 | 0.015321560 | 1.00000000 | 0.00000000 |\n",
       "\n"
      ],
      "text/plain": [
       "  Quantity Estimate   SE.Estimate. Estimate_over_h2 SE.Estimate_over_h2.\n",
       "1 h2med    0.02631269 0.007716729  0.06295599       0.01829824          \n",
       "2 h2nonmed 0.39164106 0.016179024  0.93704401       0.01829824          \n",
       "3 h2       0.41795375 0.015321560  1.00000000       0.00000000          "
      ]
     },
     "metadata": {},
     "output_type": "display_data"
    }
   ],
   "source": [
    "all.iso"
   ]
  },
  {
   "cell_type": "code",
   "execution_count": 8,
   "metadata": {},
   "outputs": [],
   "source": [
    "egene <- read.table(\"out/gene.SCZ.Clozuk.2018.all.h2med\", header = T, stringsAsFactors = F)"
   ]
  },
  {
   "cell_type": "code",
   "execution_count": 9,
   "metadata": {},
   "outputs": [
    {
     "data": {
      "text/html": [
       "<table class=\"dataframe\">\n",
       "<caption>A data.frame: 3 x 5</caption>\n",
       "<thead>\n",
       "\t<tr><th scope=col>Quantity</th><th scope=col>Estimate</th><th scope=col>SE.Estimate.</th><th scope=col>Estimate_over_h2</th><th scope=col>SE.Estimate_over_h2.</th></tr>\n",
       "\t<tr><th scope=col>&lt;chr&gt;</th><th scope=col>&lt;dbl&gt;</th><th scope=col>&lt;dbl&gt;</th><th scope=col>&lt;dbl&gt;</th><th scope=col>&lt;dbl&gt;</th></tr>\n",
       "</thead>\n",
       "<tbody>\n",
       "\t<tr><td>h2med   </td><td>0.01153767</td><td>0.004322936</td><td>0.02782777</td><td>0.01040629</td></tr>\n",
       "\t<tr><td>h2nonmed</td><td>0.40307210</td><td>0.015548662</td><td>0.97217223</td><td>0.01040629</td></tr>\n",
       "\t<tr><td>h2      </td><td>0.41460977</td><td>0.015272720</td><td>1.00000000</td><td>0.00000000</td></tr>\n",
       "</tbody>\n",
       "</table>\n"
      ],
      "text/latex": [
       "A data.frame: 3 x 5\n",
       "\\begin{tabular}{lllll}\n",
       " Quantity & Estimate & SE.Estimate. & Estimate\\_over\\_h2 & SE.Estimate\\_over\\_h2.\\\\\n",
       " <chr> & <dbl> & <dbl> & <dbl> & <dbl>\\\\\n",
       "\\hline\n",
       "\t h2med    & 0.01153767 & 0.004322936 & 0.02782777 & 0.01040629\\\\\n",
       "\t h2nonmed & 0.40307210 & 0.015548662 & 0.97217223 & 0.01040629\\\\\n",
       "\t h2       & 0.41460977 & 0.015272720 & 1.00000000 & 0.00000000\\\\\n",
       "\\end{tabular}\n"
      ],
      "text/markdown": [
       "\n",
       "A data.frame: 3 x 5\n",
       "\n",
       "| Quantity &lt;chr&gt; | Estimate &lt;dbl&gt; | SE.Estimate. &lt;dbl&gt; | Estimate_over_h2 &lt;dbl&gt; | SE.Estimate_over_h2. &lt;dbl&gt; |\n",
       "|---|---|---|---|---|\n",
       "| h2med    | 0.01153767 | 0.004322936 | 0.02782777 | 0.01040629 |\n",
       "| h2nonmed | 0.40307210 | 0.015548662 | 0.97217223 | 0.01040629 |\n",
       "| h2       | 0.41460977 | 0.015272720 | 1.00000000 | 0.00000000 |\n",
       "\n"
      ],
      "text/plain": [
       "  Quantity Estimate   SE.Estimate. Estimate_over_h2 SE.Estimate_over_h2.\n",
       "1 h2med    0.01153767 0.004322936  0.02782777       0.01040629          \n",
       "2 h2nonmed 0.40307210 0.015548662  0.97217223       0.01040629          \n",
       "3 h2       0.41460977 0.015272720  1.00000000       0.00000000          "
      ]
     },
     "metadata": {},
     "output_type": "display_data"
    }
   ],
   "source": [
    "egene"
   ]
  },
  {
   "cell_type": "code",
   "execution_count": 16,
   "metadata": {},
   "outputs": [
    {
     "data": {
      "text/html": [
       "<table class=\"dataframe\">\n",
       "<caption>A data.frame: 9 x 6</caption>\n",
       "<thead>\n",
       "\t<tr><th scope=col>Quantity</th><th scope=col>Estimate</th><th scope=col>SE.Estimate.</th><th scope=col>Estimate_over_h2</th><th scope=col>SE.Estimate_over_h2.</th><th scope=col>Category</th></tr>\n",
       "\t<tr><th scope=col>&lt;chr&gt;</th><th scope=col>&lt;dbl&gt;</th><th scope=col>&lt;dbl&gt;</th><th scope=col>&lt;dbl&gt;</th><th scope=col>&lt;dbl&gt;</th><th scope=col>&lt;chr&gt;</th></tr>\n",
       "</thead>\n",
       "<tbody>\n",
       "\t<tr><td>h2med   </td><td>0.01313009</td><td>0.004358220</td><td>0.03161524</td><td>0.01046170</td><td>All-gene   </td></tr>\n",
       "\t<tr><td>h2nonmed</td><td>0.40217875</td><td>0.015512435</td><td>0.96838476</td><td>0.01046170</td><td>All-gene   </td></tr>\n",
       "\t<tr><td>h2      </td><td>0.41530883</td><td>0.015284015</td><td>1.00000000</td><td>0.00000000</td><td>All-gene   </td></tr>\n",
       "\t<tr><td>h2med   </td><td>0.02631269</td><td>0.007716729</td><td>0.06295599</td><td>0.01829824</td><td>All-isoform</td></tr>\n",
       "\t<tr><td>h2nonmed</td><td>0.39164106</td><td>0.016179024</td><td>0.93704401</td><td>0.01829824</td><td>All-isoform</td></tr>\n",
       "\t<tr><td>h2      </td><td>0.41795375</td><td>0.015321560</td><td>1.00000000</td><td>0.00000000</td><td>All-isoform</td></tr>\n",
       "\t<tr><td>h2med   </td><td>0.01153767</td><td>0.004322936</td><td>0.02782777</td><td>0.01040629</td><td>eGene      </td></tr>\n",
       "\t<tr><td>h2nonmed</td><td>0.40307210</td><td>0.015548662</td><td>0.97217223</td><td>0.01040629</td><td>eGene      </td></tr>\n",
       "\t<tr><td>h2      </td><td>0.41460977</td><td>0.015272720</td><td>1.00000000</td><td>0.00000000</td><td>eGene      </td></tr>\n",
       "</tbody>\n",
       "</table>\n"
      ],
      "text/latex": [
       "A data.frame: 9 x 6\n",
       "\\begin{tabular}{llllll}\n",
       " Quantity & Estimate & SE.Estimate. & Estimate\\_over\\_h2 & SE.Estimate\\_over\\_h2. & Category\\\\\n",
       " <chr> & <dbl> & <dbl> & <dbl> & <dbl> & <chr>\\\\\n",
       "\\hline\n",
       "\t h2med    & 0.01313009 & 0.004358220 & 0.03161524 & 0.01046170 & All-gene   \\\\\n",
       "\t h2nonmed & 0.40217875 & 0.015512435 & 0.96838476 & 0.01046170 & All-gene   \\\\\n",
       "\t h2       & 0.41530883 & 0.015284015 & 1.00000000 & 0.00000000 & All-gene   \\\\\n",
       "\t h2med    & 0.02631269 & 0.007716729 & 0.06295599 & 0.01829824 & All-isoform\\\\\n",
       "\t h2nonmed & 0.39164106 & 0.016179024 & 0.93704401 & 0.01829824 & All-isoform\\\\\n",
       "\t h2       & 0.41795375 & 0.015321560 & 1.00000000 & 0.00000000 & All-isoform\\\\\n",
       "\t h2med    & 0.01153767 & 0.004322936 & 0.02782777 & 0.01040629 & eGene      \\\\\n",
       "\t h2nonmed & 0.40307210 & 0.015548662 & 0.97217223 & 0.01040629 & eGene      \\\\\n",
       "\t h2       & 0.41460977 & 0.015272720 & 1.00000000 & 0.00000000 & eGene      \\\\\n",
       "\\end{tabular}\n"
      ],
      "text/markdown": [
       "\n",
       "A data.frame: 9 x 6\n",
       "\n",
       "| Quantity &lt;chr&gt; | Estimate &lt;dbl&gt; | SE.Estimate. &lt;dbl&gt; | Estimate_over_h2 &lt;dbl&gt; | SE.Estimate_over_h2. &lt;dbl&gt; | Category &lt;chr&gt; |\n",
       "|---|---|---|---|---|---|\n",
       "| h2med    | 0.01313009 | 0.004358220 | 0.03161524 | 0.01046170 | All-gene    |\n",
       "| h2nonmed | 0.40217875 | 0.015512435 | 0.96838476 | 0.01046170 | All-gene    |\n",
       "| h2       | 0.41530883 | 0.015284015 | 1.00000000 | 0.00000000 | All-gene    |\n",
       "| h2med    | 0.02631269 | 0.007716729 | 0.06295599 | 0.01829824 | All-isoform |\n",
       "| h2nonmed | 0.39164106 | 0.016179024 | 0.93704401 | 0.01829824 | All-isoform |\n",
       "| h2       | 0.41795375 | 0.015321560 | 1.00000000 | 0.00000000 | All-isoform |\n",
       "| h2med    | 0.01153767 | 0.004322936 | 0.02782777 | 0.01040629 | eGene       |\n",
       "| h2nonmed | 0.40307210 | 0.015548662 | 0.97217223 | 0.01040629 | eGene       |\n",
       "| h2       | 0.41460977 | 0.015272720 | 1.00000000 | 0.00000000 | eGene       |\n",
       "\n"
      ],
      "text/plain": [
       "  Quantity Estimate   SE.Estimate. Estimate_over_h2 SE.Estimate_over_h2.\n",
       "1 h2med    0.01313009 0.004358220  0.03161524       0.01046170          \n",
       "2 h2nonmed 0.40217875 0.015512435  0.96838476       0.01046170          \n",
       "3 h2       0.41530883 0.015284015  1.00000000       0.00000000          \n",
       "4 h2med    0.02631269 0.007716729  0.06295599       0.01829824          \n",
       "5 h2nonmed 0.39164106 0.016179024  0.93704401       0.01829824          \n",
       "6 h2       0.41795375 0.015321560  1.00000000       0.00000000          \n",
       "7 h2med    0.01153767 0.004322936  0.02782777       0.01040629          \n",
       "8 h2nonmed 0.40307210 0.015548662  0.97217223       0.01040629          \n",
       "9 h2       0.41460977 0.015272720  1.00000000       0.00000000          \n",
       "  Category   \n",
       "1 All-gene   \n",
       "2 All-gene   \n",
       "3 All-gene   \n",
       "4 All-isoform\n",
       "5 All-isoform\n",
       "6 All-isoform\n",
       "7 eGene      \n",
       "8 eGene      \n",
       "9 eGene      "
      ]
     },
     "metadata": {},
     "output_type": "display_data"
    }
   ],
   "source": [
    "df <- rbind(all.gene, all.iso, egene)\n",
    "df$Category <- c(rep(\"All-gene\", 3), rep(\"All-isoform\", 3), rep(\"eGene\", 3))\n",
    "df"
   ]
  },
  {
   "cell_type": "code",
   "execution_count": 17,
   "metadata": {},
   "outputs": [],
   "source": [
    "df <- df %>% filter(Quantity == \"h2med\")"
   ]
  },
  {
   "cell_type": "code",
   "execution_count": 18,
   "metadata": {},
   "outputs": [
    {
     "data": {
      "image/png": "[encoded data removed]",
      "text/plain": [
       "plot without title"
      ]
     },
     "metadata": {
      "image/png": {
       "height": 420,
       "width": 420
      }
     },
     "output_type": "display_data"
    }
   ],
   "source": [
    "p <- ggplot(df, aes(x = Category, y = Estimate_over_h2)) +\n",
    "    geom_bar(stat = \"identity\", fill = \"steelblue\", color = \"steelblue\") +\n",
    "    geom_errorbar(aes(ymin = (Estimate_over_h2 - SE.Estimate_over_h2.), \n",
    "                      ymax = (Estimate_over_h2 + SE.Estimate_over_h2.)), width=.2) +\n",
    "    theme_classic() +\n",
    "    labs(x = \"Category\",\n",
    "         y = \"h2med/h2\") +\n",
    "    theme(axis.text = element_text(size = 16),\n",
    "          axis.title = element_text(size = 18)) \n",
    "p"
   ]
  },
  {
   "cell_type": "code",
   "execution_count": 20,
   "metadata": {},
   "outputs": [],
   "source": [
    "ggsave(\"figures/mesc.png\", p, height = 6, width = 6)"
   ]
  },
  {
   "cell_type": "code",
   "execution_count": null,
   "metadata": {},
   "outputs": [],
   "source": []
  }
 ],
 "metadata": {
  "kernelspec": {
   "display_name": "R 4.1.0 BIO",
   "language": "R",
   "name": "ir410-bio"
  },
  "language_info": {
   "codemirror_mode": "r",
   "file_extension": ".r",
   "mimetype": "text/x-r-source",
   "name": "R",
   "pygments_lexer": "r",
   "version": "4.1.0"
  }
 },
 "nbformat": 4,
 "nbformat_minor": 4
}
