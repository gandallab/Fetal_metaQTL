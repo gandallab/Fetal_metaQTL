{
 "cells": [
  {
   "cell_type": "markdown",
   "id": "9f17c0bc",
   "metadata": {},
   "source": [
    "### GRIN2A is male permutation eGene (with one nominal eQTL)"
   ]
  },
  {
   "cell_type": "code",
   "execution_count": 1,
   "id": "7150d67c",
   "metadata": {},
   "outputs": [
    {
     "name": "stderr",
     "output_type": "stream",
     "text": [
      "Warning message:\n",
      "“replacing previous import ‘lifecycle::last_warnings’ by ‘rlang::last_warnings’ when loading ‘tibble’”\n",
      "Warning message:\n",
      "“replacing previous import ‘lifecycle::last_warnings’ by ‘rlang::last_warnings’ when loading ‘hms’”\n",
      "── \u001b[1mAttaching packages\u001b[22m ─────────────────────────────────────── tidyverse 1.3.1 ──\n",
      "\n",
      "\u001b[32m✔\u001b[39m \u001b[34mggplot2\u001b[39m 3.3.3     \u001b[32m✔\u001b[39m \u001b[34mpurrr  \u001b[39m 0.3.4\n",
      "\u001b[32m✔\u001b[39m \u001b[34mtibble \u001b[39m 3.1.2     \u001b[32m✔\u001b[39m \u001b[34mdplyr  \u001b[39m 1.0.6\n",
      "\u001b[32m✔\u001b[39m \u001b[34mtidyr  \u001b[39m 1.1.3     \u001b[32m✔\u001b[39m \u001b[34mstringr\u001b[39m 1.4.0\n",
      "\u001b[32m✔\u001b[39m \u001b[34mreadr  \u001b[39m 1.4.0     \u001b[32m✔\u001b[39m \u001b[34mforcats\u001b[39m 0.5.1\n",
      "\n",
      "── \u001b[1mConflicts\u001b[22m ────────────────────────────────────────── tidyverse_conflicts() ──\n",
      "\u001b[31m✖\u001b[39m \u001b[34mdplyr\u001b[39m::\u001b[32mbetween()\u001b[39m   masks \u001b[34mdata.table\u001b[39m::between()\n",
      "\u001b[31m✖\u001b[39m \u001b[34mdplyr\u001b[39m::\u001b[32mfilter()\u001b[39m    masks \u001b[34mstats\u001b[39m::filter()\n",
      "\u001b[31m✖\u001b[39m \u001b[34mdplyr\u001b[39m::\u001b[32mfirst()\u001b[39m     masks \u001b[34mdata.table\u001b[39m::first()\n",
      "\u001b[31m✖\u001b[39m \u001b[34mdplyr\u001b[39m::\u001b[32mlag()\u001b[39m       masks \u001b[34mstats\u001b[39m::lag()\n",
      "\u001b[31m✖\u001b[39m \u001b[34mdplyr\u001b[39m::\u001b[32mlast()\u001b[39m      masks \u001b[34mdata.table\u001b[39m::last()\n",
      "\u001b[31m✖\u001b[39m \u001b[34mpurrr\u001b[39m::\u001b[32mtranspose()\u001b[39m masks \u001b[34mdata.table\u001b[39m::transpose()\n",
      "\n"
     ]
    }
   ],
   "source": [
    "library(data.table)\n",
    "library(tidyverse)"
   ]
  },
  {
   "cell_type": "code",
   "execution_count": 2,
   "id": "410aa0dc",
   "metadata": {},
   "outputs": [],
   "source": [
    "male <- fread(\"~/project-gandalm/isoform_twas/eqtl_new/data/genes.m.bed.gz\", data.table = F)"
   ]
  },
  {
   "cell_type": "code",
   "execution_count": 3,
   "id": "872e48d6",
   "metadata": {},
   "outputs": [],
   "source": [
    "female <- fread(\"~/project-gandalm/isoform_twas/eqtl_new/data/genes.f.bed.gz\", data.table = F)"
   ]
  },
  {
   "cell_type": "code",
   "execution_count": 5,
   "id": "8c8a94fa",
   "metadata": {},
   "outputs": [],
   "source": [
    "male.grin2a <- male %>% filter(ID == \"ENSG00000183454\")\n",
    "female.grin2a <- female %>% filter(ID == \"ENSG00000183454\")"
   ]
  },
  {
   "cell_type": "code",
   "execution_count": 19,
   "id": "571a21fd",
   "metadata": {},
   "outputs": [],
   "source": [
    "dose <- read.table(\"~/project-gandalm/isoform_twas/genotype/all_data/isec_R2_greater_than_3/ancestry/rs9926049_dose.tsv\",\n",
    "                  header = T, check.names = F)"
   ]
  },
  {
   "cell_type": "code",
   "execution_count": 22,
   "id": "2d418b4b",
   "metadata": {},
   "outputs": [],
   "source": [
    "male.grin2a <- male.grin2a[,5:ncol(male.grin2a)]\n",
    "female.grin2a <- female.grin2a[,5:ncol(female.grin2a)]"
   ]
  },
  {
   "cell_type": "code",
   "execution_count": 23,
   "id": "9a867dc0",
   "metadata": {},
   "outputs": [],
   "source": [
    "dose <- dose[,5:ncol(dose)]"
   ]
  },
  {
   "cell_type": "code",
   "execution_count": 26,
   "id": "6f81ea17",
   "metadata": {},
   "outputs": [],
   "source": [
    "male.dose <- dose[,colnames(dose)%in%colnames(male.grin2a)]\n",
    "female.dose <- dose[,colnames(dose)%in%colnames(female.grin2a)]"
   ]
  },
  {
   "cell_type": "code",
   "execution_count": 34,
   "id": "d37d0969",
   "metadata": {},
   "outputs": [],
   "source": [
    "male.grin2a.dose <- rbind(male.grin2a, male.dose[names(male.grin2a)])\n",
    "female.grin2a.dose <- rbind(female.grin2a, female.dose[names(female.grin2a)])"
   ]
  },
  {
   "cell_type": "code",
   "execution_count": 44,
   "id": "6a7e85c9",
   "metadata": {},
   "outputs": [],
   "source": [
    "df <- data.frame(\"GRIN2A expr\" = c(as.numeric(male.grin2a.dose[1,]),\n",
    "                                   as.numeric(female.grin2a.dose[1,])),\n",
    "                \"Sex\" = c(rep(\"Male\", 332), rep(\"Female\", 297)),\n",
    "                \"rs9926049\" = c(as.numeric(male.grin2a.dose[2,]),\n",
    "                                   as.numeric(female.grin2a.dose[2,])))"
   ]
  },
  {
   "cell_type": "code",
   "execution_count": 45,
   "id": "b56af6b1",
   "metadata": {},
   "outputs": [
    {
     "data": {
      "text/html": [
       "<table class=\"dataframe\">\n",
       "<caption>A data.frame: 6 x 3</caption>\n",
       "<thead>\n",
       "\t<tr><th></th><th scope=col>GRIN2A.expr</th><th scope=col>Sex</th><th scope=col>rs9926049</th></tr>\n",
       "\t<tr><th></th><th scope=col>&lt;dbl&gt;</th><th scope=col>&lt;chr&gt;</th><th scope=col>&lt;dbl&gt;</th></tr>\n",
       "</thead>\n",
       "<tbody>\n",
       "\t<tr><th scope=row>1</th><td> 8.997484</td><td>Male</td><td>0</td></tr>\n",
       "\t<tr><th scope=row>2</th><td> 9.353833</td><td>Male</td><td>1</td></tr>\n",
       "\t<tr><th scope=row>3</th><td> 8.980693</td><td>Male</td><td>0</td></tr>\n",
       "\t<tr><th scope=row>4</th><td> 9.071987</td><td>Male</td><td>2</td></tr>\n",
       "\t<tr><th scope=row>5</th><td>10.555633</td><td>Male</td><td>1</td></tr>\n",
       "\t<tr><th scope=row>6</th><td> 9.293343</td><td>Male</td><td>2</td></tr>\n",
       "</tbody>\n",
       "</table>\n"
      ],
      "text/latex": [
       "A data.frame: 6 x 3\n",
       "\\begin{tabular}{r|lll}\n",
       "  & GRIN2A.expr & Sex & rs9926049\\\\\n",
       "  & <dbl> & <chr> & <dbl>\\\\\n",
       "\\hline\n",
       "\t1 &  8.997484 & Male & 0\\\\\n",
       "\t2 &  9.353833 & Male & 1\\\\\n",
       "\t3 &  8.980693 & Male & 0\\\\\n",
       "\t4 &  9.071987 & Male & 2\\\\\n",
       "\t5 & 10.555633 & Male & 1\\\\\n",
       "\t6 &  9.293343 & Male & 2\\\\\n",
       "\\end{tabular}\n"
      ],
      "text/markdown": [
       "\n",
       "A data.frame: 6 x 3\n",
       "\n",
       "| <!--/--> | GRIN2A.expr &lt;dbl&gt; | Sex &lt;chr&gt; | rs9926049 &lt;dbl&gt; |\n",
       "|---|---|---|---|\n",
       "| 1 |  8.997484 | Male | 0 |\n",
       "| 2 |  9.353833 | Male | 1 |\n",
       "| 3 |  8.980693 | Male | 0 |\n",
       "| 4 |  9.071987 | Male | 2 |\n",
       "| 5 | 10.555633 | Male | 1 |\n",
       "| 6 |  9.293343 | Male | 2 |\n",
       "\n"
      ],
      "text/plain": [
       "  GRIN2A.expr Sex  rs9926049\n",
       "1  8.997484   Male 0        \n",
       "2  9.353833   Male 1        \n",
       "3  8.980693   Male 0        \n",
       "4  9.071987   Male 2        \n",
       "5 10.555633   Male 1        \n",
       "6  9.293343   Male 2        "
      ]
     },
     "metadata": {},
     "output_type": "display_data"
    }
   ],
   "source": [
    "head(df)"
   ]
  },
  {
   "cell_type": "code",
   "execution_count": 46,
   "id": "dadaae0e",
   "metadata": {},
   "outputs": [
    {
     "data": {
      "text/plain": [
       "        \n",
       "           0   1   2\n",
       "  Female 149 116  32\n",
       "  Male   144 142  46"
      ]
     },
     "metadata": {},
     "output_type": "display_data"
    }
   ],
   "source": [
    "table(df$Sex, df$rs9926049)"
   ]
  },
  {
   "cell_type": "code",
   "execution_count": 47,
   "id": "4917c08f",
   "metadata": {},
   "outputs": [],
   "source": [
    "df$rs9926049 <- as.factor(df$rs9926049)"
   ]
  },
  {
   "cell_type": "code",
   "execution_count": 48,
   "id": "5c43c188",
   "metadata": {},
   "outputs": [
    {
     "data": {
      "image/png": "[encoded data removed]",
      "text/plain": [
       "plot without title"
      ]
     },
     "metadata": {
      "image/png": {
       "height": 420,
       "width": 420
      }
     },
     "output_type": "display_data"
    }
   ],
   "source": [
    "ggplot(df, aes(x = rs9926049, y = GRIN2A.expr, fill = Sex)) +\n",
    "geom_boxplot() +\n",
    "theme_classic() +\n",
    "theme(axis.text = element_text(size = 16),\n",
    "          axis.title = element_text(size = 18),\n",
    "          legend.text = element_text(size = 14),\n",
    "          legend.title = element_text(size = 16))"
   ]
  },
  {
   "cell_type": "code",
   "execution_count": null,
   "id": "dd777d22",
   "metadata": {},
   "outputs": [],
   "source": []
  }
 ],
 "metadata": {
  "kernelspec": {
   "display_name": "R 4.1.0 BIO",
   "language": "R",
   "name": "ir410-bio"
  },
  "language_info": {
   "codemirror_mode": "r",
   "file_extension": ".r",
   "mimetype": "text/x-r-source",
   "name": "R",
   "pygments_lexer": "r",
   "version": "4.1.0"
  }
 },
 "nbformat": 4,
 "nbformat_minor": 5
}
