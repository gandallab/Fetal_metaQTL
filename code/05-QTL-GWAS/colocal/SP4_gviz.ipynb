{
 "cells": [
  {
   "cell_type": "markdown",
   "id": "92b54bd3",
   "metadata": {},
   "source": [
    "# SP4 Gviz\n",
    "- using Gviz to visualize SP4 gene track"
   ]
  },
  {
   "cell_type": "code",
   "execution_count": 1,
   "id": "d4f99727",
   "metadata": {},
   "outputs": [
    {
     "name": "stderr",
     "output_type": "stream",
     "text": [
      "Warning message:\n",
      "“replacing previous import ‘lifecycle::last_warnings’ by ‘rlang::last_warnings’ when loading ‘hms’”\n",
      "Warning message:\n",
      "“replacing previous import ‘lifecycle::last_warnings’ by ‘rlang::last_warnings’ when loading ‘tibble’”\n"
     ]
    }
   ],
   "source": [
    "suppressMessages(library(Gviz))"
   ]
  },
  {
   "cell_type": "code",
   "execution_count": 30,
   "id": "47c9117e",
   "metadata": {},
   "outputs": [],
   "source": [
    "# https://bioconductor.riken.jp/packages/3.2/bioc/vignettes/GenomicFeatures/inst/doc/GenomicFeatures.pdf\n",
    "library(TxDb.Hsapiens.UCSC.hg19.knownGene)\n",
    "txdb <- TxDb.Hsapiens.UCSC.hg19.knownGene"
   ]
  },
  {
   "cell_type": "code",
   "execution_count": 31,
   "id": "4613b11e",
   "metadata": {},
   "outputs": [
    {
     "data": {
      "text/plain": [
       "TxDb object:\n",
       "# Db type: TxDb\n",
       "# Supporting package: GenomicFeatures\n",
       "# Data source: UCSC\n",
       "# Genome: hg19\n",
       "# Organism: Homo sapiens\n",
       "# Taxonomy ID: 9606\n",
       "# UCSC Table: knownGene\n",
       "# Resource URL: http://genome.ucsc.edu/\n",
       "# Type of Gene ID: Entrez Gene ID\n",
       "# Full dataset: yes\n",
       "# miRBase build ID: GRCh37\n",
       "# transcript_nrow: 82960\n",
       "# exon_nrow: 289969\n",
       "# cds_nrow: 237533\n",
       "# Db created by: GenomicFeatures package from Bioconductor\n",
       "# Creation time: 2015-10-07 18:11:28 +0000 (Wed, 07 Oct 2015)\n",
       "# GenomicFeatures version at creation time: 1.21.30\n",
       "# RSQLite version at creation time: 1.0.0\n",
       "# DBSCHEMAVERSION: 1.1"
      ]
     },
     "metadata": {},
     "output_type": "display_data"
    }
   ],
   "source": [
    "txdb"
   ]
  },
  {
   "cell_type": "code",
   "execution_count": 38,
   "id": "8efde85a",
   "metadata": {},
   "outputs": [
    {
     "data": {
      "text/html": [
       "<style>\n",
       ".list-inline {list-style: none; margin:0; padding: 0}\n",
       ".list-inline>li {display: inline-block}\n",
       ".list-inline>li:not(:last-child)::after {content: \"\\00b7\"; padding: 0 .5ex}\n",
       "</style>\n",
       "<ol class=list-inline><li>'chr1'</li><li>'chr2'</li><li>'chr3'</li><li>'chr4'</li><li>'chr5'</li><li>'chr6'</li><li>'chr7'</li><li>'chr8'</li><li>'chr9'</li><li>'chr10'</li><li>'chr11'</li><li>'chr12'</li><li>'chr13'</li><li>'chr14'</li><li>'chr15'</li><li>'chr16'</li><li>'chr17'</li><li>'chr18'</li><li>'chr19'</li><li>'chr20'</li><li>'chr21'</li><li>'chr22'</li><li>'chrX'</li><li>'chrY'</li><li>'chrM'</li><li>'chr1_gl000191_random'</li><li>'chr1_gl000192_random'</li><li>'chr4_ctg9_hap1'</li><li>'chr4_gl000193_random'</li><li>'chr4_gl000194_random'</li><li>'chr6_apd_hap1'</li><li>'chr6_cox_hap2'</li><li>'chr6_dbb_hap3'</li><li>'chr6_mann_hap4'</li><li>'chr6_mcf_hap5'</li><li>'chr6_qbl_hap6'</li><li>'chr6_ssto_hap7'</li><li>'chr7_gl000195_random'</li><li>'chr8_gl000196_random'</li><li>'chr8_gl000197_random'</li><li>'chr9_gl000198_random'</li><li>'chr9_gl000199_random'</li><li>'chr9_gl000200_random'</li><li>'chr9_gl000201_random'</li><li>'chr11_gl000202_random'</li><li>'chr17_ctg5_hap1'</li><li>'chr17_gl000203_random'</li><li>'chr17_gl000204_random'</li><li>'chr17_gl000205_random'</li><li>'chr17_gl000206_random'</li><li>'chr18_gl000207_random'</li><li>'chr19_gl000208_random'</li><li>'chr19_gl000209_random'</li><li>'chr21_gl000210_random'</li><li>'chrUn_gl000211'</li><li>'chrUn_gl000212'</li><li>'chrUn_gl000213'</li><li>'chrUn_gl000214'</li><li>'chrUn_gl000215'</li><li>'chrUn_gl000216'</li><li>'chrUn_gl000217'</li><li>'chrUn_gl000218'</li><li>'chrUn_gl000219'</li><li>'chrUn_gl000220'</li><li>'chrUn_gl000221'</li><li>'chrUn_gl000222'</li><li>'chrUn_gl000223'</li><li>'chrUn_gl000224'</li><li>'chrUn_gl000225'</li><li>'chrUn_gl000226'</li><li>'chrUn_gl000227'</li><li>'chrUn_gl000228'</li><li>'chrUn_gl000229'</li><li>'chrUn_gl000230'</li><li>'chrUn_gl000231'</li><li>'chrUn_gl000232'</li><li>'chrUn_gl000233'</li><li>'chrUn_gl000234'</li><li>'chrUn_gl000235'</li><li>'chrUn_gl000236'</li><li>'chrUn_gl000237'</li><li>'chrUn_gl000238'</li><li>'chrUn_gl000239'</li><li>'chrUn_gl000240'</li><li>'chrUn_gl000241'</li><li>'chrUn_gl000242'</li><li>'chrUn_gl000243'</li><li>'chrUn_gl000244'</li><li>'chrUn_gl000245'</li><li>'chrUn_gl000246'</li><li>'chrUn_gl000247'</li><li>'chrUn_gl000248'</li><li>'chrUn_gl000249'</li></ol>\n"
      ],
      "text/latex": [
       "\\begin{enumerate*}\n",
       "\\item 'chr1'\n",
       "\\item 'chr2'\n",
       "\\item 'chr3'\n",
       "\\item 'chr4'\n",
       "\\item 'chr5'\n",
       "\\item 'chr6'\n",
       "\\item 'chr7'\n",
       "\\item 'chr8'\n",
       "\\item 'chr9'\n",
       "\\item 'chr10'\n",
       "\\item 'chr11'\n",
       "\\item 'chr12'\n",
       "\\item 'chr13'\n",
       "\\item 'chr14'\n",
       "\\item 'chr15'\n",
       "\\item 'chr16'\n",
       "\\item 'chr17'\n",
       "\\item 'chr18'\n",
       "\\item 'chr19'\n",
       "\\item 'chr20'\n",
       "\\item 'chr21'\n",
       "\\item 'chr22'\n",
       "\\item 'chrX'\n",
       "\\item 'chrY'\n",
       "\\item 'chrM'\n",
       "\\item 'chr1\\_gl000191\\_random'\n",
       "\\item 'chr1\\_gl000192\\_random'\n",
       "\\item 'chr4\\_ctg9\\_hap1'\n",
       "\\item 'chr4\\_gl000193\\_random'\n",
       "\\item 'chr4\\_gl000194\\_random'\n",
       "\\item 'chr6\\_apd\\_hap1'\n",
       "\\item 'chr6\\_cox\\_hap2'\n",
       "\\item 'chr6\\_dbb\\_hap3'\n",
       "\\item 'chr6\\_mann\\_hap4'\n",
       "\\item 'chr6\\_mcf\\_hap5'\n",
       "\\item 'chr6\\_qbl\\_hap6'\n",
       "\\item 'chr6\\_ssto\\_hap7'\n",
       "\\item 'chr7\\_gl000195\\_random'\n",
       "\\item 'chr8\\_gl000196\\_random'\n",
       "\\item 'chr8\\_gl000197\\_random'\n",
       "\\item 'chr9\\_gl000198\\_random'\n",
       "\\item 'chr9\\_gl000199\\_random'\n",
       "\\item 'chr9\\_gl000200\\_random'\n",
       "\\item 'chr9\\_gl000201\\_random'\n",
       "\\item 'chr11\\_gl000202\\_random'\n",
       "\\item 'chr17\\_ctg5\\_hap1'\n",
       "\\item 'chr17\\_gl000203\\_random'\n",
       "\\item 'chr17\\_gl000204\\_random'\n",
       "\\item 'chr17\\_gl000205\\_random'\n",
       "\\item 'chr17\\_gl000206\\_random'\n",
       "\\item 'chr18\\_gl000207\\_random'\n",
       "\\item 'chr19\\_gl000208\\_random'\n",
       "\\item 'chr19\\_gl000209\\_random'\n",
       "\\item 'chr21\\_gl000210\\_random'\n",
       "\\item 'chrUn\\_gl000211'\n",
       "\\item 'chrUn\\_gl000212'\n",
       "\\item 'chrUn\\_gl000213'\n",
       "\\item 'chrUn\\_gl000214'\n",
       "\\item 'chrUn\\_gl000215'\n",
       "\\item 'chrUn\\_gl000216'\n",
       "\\item 'chrUn\\_gl000217'\n",
       "\\item 'chrUn\\_gl000218'\n",
       "\\item 'chrUn\\_gl000219'\n",
       "\\item 'chrUn\\_gl000220'\n",
       "\\item 'chrUn\\_gl000221'\n",
       "\\item 'chrUn\\_gl000222'\n",
       "\\item 'chrUn\\_gl000223'\n",
       "\\item 'chrUn\\_gl000224'\n",
       "\\item 'chrUn\\_gl000225'\n",
       "\\item 'chrUn\\_gl000226'\n",
       "\\item 'chrUn\\_gl000227'\n",
       "\\item 'chrUn\\_gl000228'\n",
       "\\item 'chrUn\\_gl000229'\n",
       "\\item 'chrUn\\_gl000230'\n",
       "\\item 'chrUn\\_gl000231'\n",
       "\\item 'chrUn\\_gl000232'\n",
       "\\item 'chrUn\\_gl000233'\n",
       "\\item 'chrUn\\_gl000234'\n",
       "\\item 'chrUn\\_gl000235'\n",
       "\\item 'chrUn\\_gl000236'\n",
       "\\item 'chrUn\\_gl000237'\n",
       "\\item 'chrUn\\_gl000238'\n",
       "\\item 'chrUn\\_gl000239'\n",
       "\\item 'chrUn\\_gl000240'\n",
       "\\item 'chrUn\\_gl000241'\n",
       "\\item 'chrUn\\_gl000242'\n",
       "\\item 'chrUn\\_gl000243'\n",
       "\\item 'chrUn\\_gl000244'\n",
       "\\item 'chrUn\\_gl000245'\n",
       "\\item 'chrUn\\_gl000246'\n",
       "\\item 'chrUn\\_gl000247'\n",
       "\\item 'chrUn\\_gl000248'\n",
       "\\item 'chrUn\\_gl000249'\n",
       "\\end{enumerate*}\n"
      ],
      "text/markdown": [
       "1. 'chr1'\n",
       "2. 'chr2'\n",
       "3. 'chr3'\n",
       "4. 'chr4'\n",
       "5. 'chr5'\n",
       "6. 'chr6'\n",
       "7. 'chr7'\n",
       "8. 'chr8'\n",
       "9. 'chr9'\n",
       "10. 'chr10'\n",
       "11. 'chr11'\n",
       "12. 'chr12'\n",
       "13. 'chr13'\n",
       "14. 'chr14'\n",
       "15. 'chr15'\n",
       "16. 'chr16'\n",
       "17. 'chr17'\n",
       "18. 'chr18'\n",
       "19. 'chr19'\n",
       "20. 'chr20'\n",
       "21. 'chr21'\n",
       "22. 'chr22'\n",
       "23. 'chrX'\n",
       "24. 'chrY'\n",
       "25. 'chrM'\n",
       "26. 'chr1_gl000191_random'\n",
       "27. 'chr1_gl000192_random'\n",
       "28. 'chr4_ctg9_hap1'\n",
       "29. 'chr4_gl000193_random'\n",
       "30. 'chr4_gl000194_random'\n",
       "31. 'chr6_apd_hap1'\n",
       "32. 'chr6_cox_hap2'\n",
       "33. 'chr6_dbb_hap3'\n",
       "34. 'chr6_mann_hap4'\n",
       "35. 'chr6_mcf_hap5'\n",
       "36. 'chr6_qbl_hap6'\n",
       "37. 'chr6_ssto_hap7'\n",
       "38. 'chr7_gl000195_random'\n",
       "39. 'chr8_gl000196_random'\n",
       "40. 'chr8_gl000197_random'\n",
       "41. 'chr9_gl000198_random'\n",
       "42. 'chr9_gl000199_random'\n",
       "43. 'chr9_gl000200_random'\n",
       "44. 'chr9_gl000201_random'\n",
       "45. 'chr11_gl000202_random'\n",
       "46. 'chr17_ctg5_hap1'\n",
       "47. 'chr17_gl000203_random'\n",
       "48. 'chr17_gl000204_random'\n",
       "49. 'chr17_gl000205_random'\n",
       "50. 'chr17_gl000206_random'\n",
       "51. 'chr18_gl000207_random'\n",
       "52. 'chr19_gl000208_random'\n",
       "53. 'chr19_gl000209_random'\n",
       "54. 'chr21_gl000210_random'\n",
       "55. 'chrUn_gl000211'\n",
       "56. 'chrUn_gl000212'\n",
       "57. 'chrUn_gl000213'\n",
       "58. 'chrUn_gl000214'\n",
       "59. 'chrUn_gl000215'\n",
       "60. 'chrUn_gl000216'\n",
       "61. 'chrUn_gl000217'\n",
       "62. 'chrUn_gl000218'\n",
       "63. 'chrUn_gl000219'\n",
       "64. 'chrUn_gl000220'\n",
       "65. 'chrUn_gl000221'\n",
       "66. 'chrUn_gl000222'\n",
       "67. 'chrUn_gl000223'\n",
       "68. 'chrUn_gl000224'\n",
       "69. 'chrUn_gl000225'\n",
       "70. 'chrUn_gl000226'\n",
       "71. 'chrUn_gl000227'\n",
       "72. 'chrUn_gl000228'\n",
       "73. 'chrUn_gl000229'\n",
       "74. 'chrUn_gl000230'\n",
       "75. 'chrUn_gl000231'\n",
       "76. 'chrUn_gl000232'\n",
       "77. 'chrUn_gl000233'\n",
       "78. 'chrUn_gl000234'\n",
       "79. 'chrUn_gl000235'\n",
       "80. 'chrUn_gl000236'\n",
       "81. 'chrUn_gl000237'\n",
       "82. 'chrUn_gl000238'\n",
       "83. 'chrUn_gl000239'\n",
       "84. 'chrUn_gl000240'\n",
       "85. 'chrUn_gl000241'\n",
       "86. 'chrUn_gl000242'\n",
       "87. 'chrUn_gl000243'\n",
       "88. 'chrUn_gl000244'\n",
       "89. 'chrUn_gl000245'\n",
       "90. 'chrUn_gl000246'\n",
       "91. 'chrUn_gl000247'\n",
       "92. 'chrUn_gl000248'\n",
       "93. 'chrUn_gl000249'\n",
       "\n",
       "\n"
      ],
      "text/plain": [
       " [1] \"chr1\"                  \"chr2\"                  \"chr3\"                 \n",
       " [4] \"chr4\"                  \"chr5\"                  \"chr6\"                 \n",
       " [7] \"chr7\"                  \"chr8\"                  \"chr9\"                 \n",
       "[10] \"chr10\"                 \"chr11\"                 \"chr12\"                \n",
       "[13] \"chr13\"                 \"chr14\"                 \"chr15\"                \n",
       "[16] \"chr16\"                 \"chr17\"                 \"chr18\"                \n",
       "[19] \"chr19\"                 \"chr20\"                 \"chr21\"                \n",
       "[22] \"chr22\"                 \"chrX\"                  \"chrY\"                 \n",
       "[25] \"chrM\"                  \"chr1_gl000191_random\"  \"chr1_gl000192_random\" \n",
       "[28] \"chr4_ctg9_hap1\"        \"chr4_gl000193_random\"  \"chr4_gl000194_random\" \n",
       "[31] \"chr6_apd_hap1\"         \"chr6_cox_hap2\"         \"chr6_dbb_hap3\"        \n",
       "[34] \"chr6_mann_hap4\"        \"chr6_mcf_hap5\"         \"chr6_qbl_hap6\"        \n",
       "[37] \"chr6_ssto_hap7\"        \"chr7_gl000195_random\"  \"chr8_gl000196_random\" \n",
       "[40] \"chr8_gl000197_random\"  \"chr9_gl000198_random\"  \"chr9_gl000199_random\" \n",
       "[43] \"chr9_gl000200_random\"  \"chr9_gl000201_random\"  \"chr11_gl000202_random\"\n",
       "[46] \"chr17_ctg5_hap1\"       \"chr17_gl000203_random\" \"chr17_gl000204_random\"\n",
       "[49] \"chr17_gl000205_random\" \"chr17_gl000206_random\" \"chr18_gl000207_random\"\n",
       "[52] \"chr19_gl000208_random\" \"chr19_gl000209_random\" \"chr21_gl000210_random\"\n",
       "[55] \"chrUn_gl000211\"        \"chrUn_gl000212\"        \"chrUn_gl000213\"       \n",
       "[58] \"chrUn_gl000214\"        \"chrUn_gl000215\"        \"chrUn_gl000216\"       \n",
       "[61] \"chrUn_gl000217\"        \"chrUn_gl000218\"        \"chrUn_gl000219\"       \n",
       "[64] \"chrUn_gl000220\"        \"chrUn_gl000221\"        \"chrUn_gl000222\"       \n",
       "[67] \"chrUn_gl000223\"        \"chrUn_gl000224\"        \"chrUn_gl000225\"       \n",
       "[70] \"chrUn_gl000226\"        \"chrUn_gl000227\"        \"chrUn_gl000228\"       \n",
       "[73] \"chrUn_gl000229\"        \"chrUn_gl000230\"        \"chrUn_gl000231\"       \n",
       "[76] \"chrUn_gl000232\"        \"chrUn_gl000233\"        \"chrUn_gl000234\"       \n",
       "[79] \"chrUn_gl000235\"        \"chrUn_gl000236\"        \"chrUn_gl000237\"       \n",
       "[82] \"chrUn_gl000238\"        \"chrUn_gl000239\"        \"chrUn_gl000240\"       \n",
       "[85] \"chrUn_gl000241\"        \"chrUn_gl000242\"        \"chrUn_gl000243\"       \n",
       "[88] \"chrUn_gl000244\"        \"chrUn_gl000245\"        \"chrUn_gl000246\"       \n",
       "[91] \"chrUn_gl000247\"        \"chrUn_gl000248\"        \"chrUn_gl000249\"       "
      ]
     },
     "metadata": {},
     "output_type": "display_data"
    }
   ],
   "source": [
    "seqlevels(txdb)"
   ]
  },
  {
   "cell_type": "code",
   "execution_count": 32,
   "id": "7f26e2af",
   "metadata": {},
   "outputs": [],
   "source": [
    "gen <- 'hg19'\n",
    "chr <- 'chr7'"
   ]
  },
  {
   "cell_type": "code",
   "execution_count": 39,
   "id": "e09dddd8",
   "metadata": {},
   "outputs": [],
   "source": [
    "seqlevels(txdb) <- chr"
   ]
  },
  {
   "cell_type": "code",
   "execution_count": 33,
   "id": "edff7985",
   "metadata": {},
   "outputs": [],
   "source": [
    "gtrack <- GenomeAxisTrack()"
   ]
  },
  {
   "cell_type": "code",
   "execution_count": 34,
   "id": "ff32ebb7",
   "metadata": {},
   "outputs": [],
   "source": [
    "itrack <- IdeogramTrack(genome = gen, chromosome = chr)"
   ]
  },
  {
   "cell_type": "code",
   "execution_count": 35,
   "id": "ab85d89f",
   "metadata": {},
   "outputs": [
    {
     "data": {
      "image/png": "[encoded data removed]",
      "text/plain": [
       "plot without title"
      ]
     },
     "metadata": {
      "image/png": {
       "height": 120,
       "width": 600
      }
     },
     "output_type": "display_data"
    }
   ],
   "source": [
    "options(repr.plot.height = 2, repr.plot.width = 10)\n",
    "plotTracks(list(itrack,gtrack), from = 21467661, to = 21554440)"
   ]
  },
  {
   "cell_type": "code",
   "execution_count": 40,
   "id": "3b4d8aa9",
   "metadata": {},
   "outputs": [],
   "source": [
    "grtrack <- GeneRegionTrack(txdb, genome = gen, chromosome = chr, name = \"UCSC known genes\")"
   ]
  },
  {
   "cell_type": "code",
   "execution_count": 43,
   "id": "59a7ba86",
   "metadata": {},
   "outputs": [
    {
     "data": {
      "image/png": "[encoded data removed]",
      "text/plain": [
       "plot without title"
      ]
     },
     "metadata": {
      "image/png": {
       "height": 120,
       "width": 600
      }
     },
     "output_type": "display_data"
    }
   ],
   "source": [
    "plotTracks(list(itrack, gtrack, grtrack), from = 21465000, to = 21560000)"
   ]
  },
  {
   "cell_type": "code",
   "execution_count": 46,
   "id": "59631381",
   "metadata": {},
   "outputs": [
    {
     "data": {
      "text/html": [
       "<strong>png:</strong> 2"
      ],
      "text/latex": [
       "\\textbf{png:} 2"
      ],
      "text/markdown": [
       "**png:** 2"
      ],
      "text/plain": [
       "png \n",
       "  2 "
      ]
     },
     "metadata": {},
     "output_type": "display_data"
    }
   ],
   "source": [
    "pdf(\"../figures/SP4_gviz.pdf\", width = 10, height = 2)\n",
    "plotTracks(list(itrack, gtrack, grtrack), from = 21465000, to = 21560000)\n",
    "dev.off()"
   ]
  },
  {
   "cell_type": "code",
   "execution_count": null,
   "id": "c8338f38",
   "metadata": {},
   "outputs": [],
   "source": []
  }
 ],
 "metadata": {
  "kernelspec": {
   "display_name": "R 4.1.0 BIO",
   "language": "R",
   "name": "ir410-bio"
  },
  "language_info": {
   "codemirror_mode": "r",
   "file_extension": ".r",
   "mimetype": "text/x-r-source",
   "name": "R",
   "pygments_lexer": "r",
   "version": "4.1.0"
  }
 },
 "nbformat": 4,
 "nbformat_minor": 5
}
