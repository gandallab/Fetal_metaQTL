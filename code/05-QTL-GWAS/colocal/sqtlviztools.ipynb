{
 "cells": [
  {
   "cell_type": "markdown",
   "id": "5a340a5a",
   "metadata": {},
   "source": [
    "# Visualize colocalized intron\n",
    "- need to cite, see repository\n",
    "- https://github.com/jackhump/sqtlviztools\n",
    "- some functions are not properly implemented in package (?), see https://github.com/jackhump/sqtlviztools/blob/10994f405b04bed80e06839bd669e40a8d2a2b48/R/sQTL_functions.R for function code\n",
    "- for other example loci, probably easier just create the required files manually, check formats here, see last save RData command for what files are needed\n",
    "\n",
    "**Shiny**\n",
    "- `run_shiny.R` needs to be in the same folder as `server.R` and `ui.R`, see function `shiny::runApp`\n",
    "- need to launch browser, download to local\n",
    "- in terminal, `Rscript run_shiny.R ../results.RData`\n",
    "- also had to downgrade to shiny v1.6.0, 1.7 gives error. See https://github.com/rstudio/shiny/issues/3556"
   ]
  },
  {
   "cell_type": "markdown",
   "id": "cd043b7a",
   "metadata": {},
   "source": [
    "**prepare input data**\n",
    "- `plink --vcf filtered.hg19.sorted.removeRel.vcf.gz --extract ~/project-gandalm/isoform_twas/colocal/sqtlviztools/variants.txt --keep-allele-order --recode vcf --out ~/project-gandalm/isoform_twas/colocal/sqtlviztools/variants` remove headers\n",
    "- from `leafcutter_perind_numers.counts.gz` extract colocalized cluster\n",
    "- from `sig_pheno_gene_info.txt` extract the introns, all permutation significant, to use as `sigJunctions` in script"
   ]
  },
  {
   "cell_type": "code",
   "execution_count": 1,
   "id": "4cec5caf",
   "metadata": {},
   "outputs": [
    {
     "name": "stderr",
     "output_type": "stream",
     "text": [
      "\n",
      "Attaching package: ‘dplyr’\n",
      "\n",
      "\n",
      "The following objects are masked from ‘package:stats’:\n",
      "\n",
      "    filter, lag\n",
      "\n",
      "\n",
      "The following objects are masked from ‘package:base’:\n",
      "\n",
      "    intersect, setdiff, setequal, union\n",
      "\n",
      "\n",
      "\n",
      "Attaching package: ‘data.table’\n",
      "\n",
      "\n",
      "The following object is masked from ‘package:purrr’:\n",
      "\n",
      "    transpose\n",
      "\n",
      "\n",
      "The following objects are masked from ‘package:dplyr’:\n",
      "\n",
      "    between, first, last\n",
      "\n",
      "\n",
      "\n",
      "Attaching package: ‘sqtlviztools’\n",
      "\n",
      "\n",
      "The following object is masked from ‘package:leafviz’:\n",
      "\n",
      "    make_gene_plot\n",
      "\n",
      "\n"
     ]
    }
   ],
   "source": [
    "library(dplyr)\n",
    "library(purrr)\n",
    "library(data.table)\n",
    "library(leafviz)\n",
    "library(stringr)\n",
    "library(readr)\n",
    "library(sqtlviztools)\n",
    "\n",
    "library(ggplot2)"
   ]
  },
  {
   "cell_type": "code",
   "execution_count": 2,
   "id": "76ef4939",
   "metadata": {},
   "outputs": [],
   "source": [
    "setwd(\"../sqtlviztools/\")"
   ]
  },
  {
   "cell_type": "code",
   "execution_count": 3,
   "id": "48c73c7f",
   "metadata": {},
   "outputs": [],
   "source": [
    "VCF <- \"variants.vcf\"\n",
    "clusters_table <- \"clu_100938_NA_cluster_counts.txt\""
   ]
  },
  {
   "cell_type": "code",
   "execution_count": 4,
   "id": "8e541888",
   "metadata": {},
   "outputs": [],
   "source": [
    "clusters <- read.table(clusters_table, header = TRUE, stringsAsFactors = FALSE, check.names = FALSE)"
   ]
  },
  {
   "cell_type": "code",
   "execution_count": 5,
   "id": "47e2fc13",
   "metadata": {},
   "outputs": [],
   "source": [
    "rownames(clusters) <- clusters$V1\n",
    "clusters <- clusters[,-1]"
   ]
  },
  {
   "cell_type": "code",
   "execution_count": 6,
   "id": "4558db86",
   "metadata": {},
   "outputs": [],
   "source": [
    "vcf <- read.table(file =  VCF, header = TRUE, check.names = FALSE)"
   ]
  },
  {
   "cell_type": "markdown",
   "id": "1fd0a068",
   "metadata": {},
   "source": [
    "**rs2282889 is colocalized, but not in permutation primary eQTL results. According to the prepare_example.R code, only primary QTL is to be plotted (significant or not)**"
   ]
  },
  {
   "cell_type": "code",
   "execution_count": 7,
   "id": "24522fcc",
   "metadata": {},
   "outputs": [
    {
     "data": {
      "text/html": [
       "<table class=\"dataframe\">\n",
       "<caption>A data.frame: 2 x 4</caption>\n",
       "<thead>\n",
       "\t<tr><th scope=col>SNP</th><th scope=col>SNP_pos</th><th scope=col>REF</th><th scope=col>ALT</th></tr>\n",
       "\t<tr><th scope=col>&lt;chr&gt;</th><th scope=col>&lt;chr&gt;</th><th scope=col>&lt;chr&gt;</th><th scope=col>&lt;chr&gt;</th></tr>\n",
       "</thead>\n",
       "<tbody>\n",
       "\t<tr><td>rs2282889 </td><td>:</td><td>A</td><td>G</td></tr>\n",
       "\t<tr><td>rs10276352</td><td>:</td><td>G</td><td>A</td></tr>\n",
       "</tbody>\n",
       "</table>\n"
      ],
      "text/latex": [
       "A data.frame: 2 x 4\n",
       "\\begin{tabular}{llll}\n",
       " SNP & SNP\\_pos & REF & ALT\\\\\n",
       " <chr> & <chr> & <chr> & <chr>\\\\\n",
       "\\hline\n",
       "\t rs2282889  & : & A & G\\\\\n",
       "\t rs10276352 & : & G & A\\\\\n",
       "\\end{tabular}\n"
      ],
      "text/markdown": [
       "\n",
       "A data.frame: 2 x 4\n",
       "\n",
       "| SNP &lt;chr&gt; | SNP_pos &lt;chr&gt; | REF &lt;chr&gt; | ALT &lt;chr&gt; |\n",
       "|---|---|---|---|\n",
       "| rs2282889  | : | A | G |\n",
       "| rs10276352 | : | G | A |\n",
       "\n"
      ],
      "text/plain": [
       "  SNP        SNP_pos REF ALT\n",
       "1 rs2282889  :       A   G  \n",
       "2 rs10276352 :       G   A  "
      ]
     },
     "metadata": {},
     "output_type": "display_data"
    }
   ],
   "source": [
    "vcf_meta <- sqtlviztools::get_vcf_meta(vcf)\n",
    "vcf_meta"
   ]
  },
  {
   "cell_type": "code",
   "execution_count": 8,
   "id": "0f646c2e",
   "metadata": {},
   "outputs": [],
   "source": [
    "vcf_meta$SNP_pos[1] <- \"7:21476188\"\n",
    "vcf_meta$SNP_pos[2] <- \"7:21521233\""
   ]
  },
  {
   "cell_type": "code",
   "execution_count": 9,
   "id": "a80c2cad",
   "metadata": {},
   "outputs": [],
   "source": [
    "sigClusters <- \"clu_100938_NA\""
   ]
  },
  {
   "cell_type": "code",
   "execution_count": 10,
   "id": "aaba0749",
   "metadata": {},
   "outputs": [],
   "source": [
    "introns <- leafviz::get_intron_meta(row.names(clusters) )\n",
    "keepClusters <- match(introns$clu,sigClusters)"
   ]
  },
  {
   "cell_type": "code",
   "execution_count": 11,
   "id": "4f234323",
   "metadata": {},
   "outputs": [
    {
     "data": {
      "text/html": [
       "<table class=\"dataframe\">\n",
       "<caption>A data.frame: 3 x 5</caption>\n",
       "<thead>\n",
       "\t<tr><th scope=col>chr</th><th scope=col>start</th><th scope=col>end</th><th scope=col>clu</th><th scope=col>middle</th></tr>\n",
       "\t<tr><th scope=col>&lt;chr&gt;</th><th scope=col>&lt;dbl&gt;</th><th scope=col>&lt;dbl&gt;</th><th scope=col>&lt;chr&gt;</th><th scope=col>&lt;dbl&gt;</th></tr>\n",
       "</thead>\n",
       "<tbody>\n",
       "\t<tr><td>chr7</td><td>21516925</td><td>21521120</td><td>clu_100938_NA</td><td>21519022</td></tr>\n",
       "\t<tr><td>chr7</td><td>21516925</td><td>21521542</td><td>clu_100938_NA</td><td>21519234</td></tr>\n",
       "\t<tr><td>chr7</td><td>21521300</td><td>21521542</td><td>clu_100938_NA</td><td>21521421</td></tr>\n",
       "</tbody>\n",
       "</table>\n"
      ],
      "text/latex": [
       "A data.frame: 3 x 5\n",
       "\\begin{tabular}{lllll}\n",
       " chr & start & end & clu & middle\\\\\n",
       " <chr> & <dbl> & <dbl> & <chr> & <dbl>\\\\\n",
       "\\hline\n",
       "\t chr7 & 21516925 & 21521120 & clu\\_100938\\_NA & 21519022\\\\\n",
       "\t chr7 & 21516925 & 21521542 & clu\\_100938\\_NA & 21519234\\\\\n",
       "\t chr7 & 21521300 & 21521542 & clu\\_100938\\_NA & 21521421\\\\\n",
       "\\end{tabular}\n"
      ],
      "text/markdown": [
       "\n",
       "A data.frame: 3 x 5\n",
       "\n",
       "| chr &lt;chr&gt; | start &lt;dbl&gt; | end &lt;dbl&gt; | clu &lt;chr&gt; | middle &lt;dbl&gt; |\n",
       "|---|---|---|---|---|\n",
       "| chr7 | 21516925 | 21521120 | clu_100938_NA | 21519022 |\n",
       "| chr7 | 21516925 | 21521542 | clu_100938_NA | 21519234 |\n",
       "| chr7 | 21521300 | 21521542 | clu_100938_NA | 21521421 |\n",
       "\n"
      ],
      "text/plain": [
       "  chr  start    end      clu           middle  \n",
       "1 chr7 21516925 21521120 clu_100938_NA 21519022\n",
       "2 chr7 21516925 21521542 clu_100938_NA 21519234\n",
       "3 chr7 21521300 21521542 clu_100938_NA 21521421"
      ]
     },
     "metadata": {},
     "output_type": "display_data"
    },
    {
     "data": {
      "text/html": [
       "<style>\n",
       ".list-inline {list-style: none; margin:0; padding: 0}\n",
       ".list-inline>li {display: inline-block}\n",
       ".list-inline>li:not(:last-child)::after {content: \"\\00b7\"; padding: 0 .5ex}\n",
       "</style>\n",
       "<ol class=list-inline><li>1</li><li>1</li><li>1</li></ol>\n"
      ],
      "text/latex": [
       "\\begin{enumerate*}\n",
       "\\item 1\n",
       "\\item 1\n",
       "\\item 1\n",
       "\\end{enumerate*}\n"
      ],
      "text/markdown": [
       "1. 1\n",
       "2. 1\n",
       "3. 1\n",
       "\n",
       "\n"
      ],
      "text/plain": [
       "[1] 1 1 1"
      ]
     },
     "metadata": {},
     "output_type": "display_data"
    }
   ],
   "source": [
    "introns\n",
    "keepClusters"
   ]
  },
  {
   "cell_type": "code",
   "execution_count": 12,
   "id": "72a5ecfe",
   "metadata": {},
   "outputs": [],
   "source": [
    "samples <- names(vcf)[10:ncol(vcf)]\n",
    "bam_samples <- names(clusters)"
   ]
  },
  {
   "cell_type": "code",
   "execution_count": 41,
   "id": "c949ebca",
   "metadata": {},
   "outputs": [
    {
     "data": {
      "text/html": [
       "191"
      ],
      "text/latex": [
       "191"
      ],
      "text/markdown": [
       "191"
      ],
      "text/plain": [
       "[1] 191"
      ]
     },
     "metadata": {},
     "output_type": "display_data"
    }
   ],
   "source": [
    "which(bam_samples == \"1707.1.STARAligned.sortedByCoord.WASPfiltered.out.bam\")"
   ]
  },
  {
   "cell_type": "code",
   "execution_count": 13,
   "id": "52720c08",
   "metadata": {},
   "outputs": [],
   "source": [
    "for (i in 1:length(bam_samples)) {\n",
    "    bam_samples[i] <- strsplit(bam_samples[i], split = \"[.]\")[[1]][1]\n",
    "}"
   ]
  },
  {
   "cell_type": "code",
   "execution_count": 43,
   "id": "98867080",
   "metadata": {},
   "outputs": [
    {
     "data": {
      "text/html": [
       "<style>\n",
       ".list-inline {list-style: none; margin:0; padding: 0}\n",
       ".list-inline>li {display: inline-block}\n",
       ".list-inline>li:not(:last-child)::after {content: \"\\00b7\"; padding: 0 .5ex}\n",
       "</style>\n",
       "<ol class=list-inline><li>191</li><li>344</li></ol>\n"
      ],
      "text/latex": [
       "\\begin{enumerate*}\n",
       "\\item 191\n",
       "\\item 344\n",
       "\\end{enumerate*}\n"
      ],
      "text/markdown": [
       "1. 191\n",
       "2. 344\n",
       "\n",
       "\n"
      ],
      "text/plain": [
       "[1] 191 344"
      ]
     },
     "metadata": {},
     "output_type": "display_data"
    }
   ],
   "source": [
    "which(bam_samples == \"1707\")"
   ]
  },
  {
   "cell_type": "code",
   "execution_count": 14,
   "id": "3e075cc3",
   "metadata": {},
   "outputs": [],
   "source": [
    "bam_samples[191] <- \"1707.1\""
   ]
  },
  {
   "cell_type": "code",
   "execution_count": 15,
   "id": "13b1ebc4",
   "metadata": {},
   "outputs": [],
   "source": [
    "names(clusters) <- bam_samples"
   ]
  },
  {
   "cell_type": "code",
   "execution_count": 16,
   "id": "509fff71",
   "metadata": {},
   "outputs": [],
   "source": [
    "clusters <- clusters[, samples]"
   ]
  },
  {
   "cell_type": "code",
   "execution_count": 17,
   "id": "9873cdb0",
   "metadata": {},
   "outputs": [
    {
     "data": {
      "text/html": [
       "<table class=\"dataframe\">\n",
       "<caption>A data.frame: 3 x 5</caption>\n",
       "<thead>\n",
       "\t<tr><th scope=col>chr</th><th scope=col>start</th><th scope=col>end</th><th scope=col>clu</th><th scope=col>middle</th></tr>\n",
       "\t<tr><th scope=col>&lt;chr&gt;</th><th scope=col>&lt;dbl&gt;</th><th scope=col>&lt;dbl&gt;</th><th scope=col>&lt;chr&gt;</th><th scope=col>&lt;dbl&gt;</th></tr>\n",
       "</thead>\n",
       "<tbody>\n",
       "\t<tr><td>chr7</td><td>21516925</td><td>21521120</td><td>clu_100938_NA</td><td>21519022</td></tr>\n",
       "\t<tr><td>chr7</td><td>21516925</td><td>21521542</td><td>clu_100938_NA</td><td>21519234</td></tr>\n",
       "\t<tr><td>chr7</td><td>21521300</td><td>21521542</td><td>clu_100938_NA</td><td>21521421</td></tr>\n",
       "</tbody>\n",
       "</table>\n"
      ],
      "text/latex": [
       "A data.frame: 3 x 5\n",
       "\\begin{tabular}{lllll}\n",
       " chr & start & end & clu & middle\\\\\n",
       " <chr> & <dbl> & <dbl> & <chr> & <dbl>\\\\\n",
       "\\hline\n",
       "\t chr7 & 21516925 & 21521120 & clu\\_100938\\_NA & 21519022\\\\\n",
       "\t chr7 & 21516925 & 21521542 & clu\\_100938\\_NA & 21519234\\\\\n",
       "\t chr7 & 21521300 & 21521542 & clu\\_100938\\_NA & 21521421\\\\\n",
       "\\end{tabular}\n"
      ],
      "text/markdown": [
       "\n",
       "A data.frame: 3 x 5\n",
       "\n",
       "| chr &lt;chr&gt; | start &lt;dbl&gt; | end &lt;dbl&gt; | clu &lt;chr&gt; | middle &lt;dbl&gt; |\n",
       "|---|---|---|---|---|\n",
       "| chr7 | 21516925 | 21521120 | clu_100938_NA | 21519022 |\n",
       "| chr7 | 21516925 | 21521542 | clu_100938_NA | 21519234 |\n",
       "| chr7 | 21521300 | 21521542 | clu_100938_NA | 21521421 |\n",
       "\n"
      ],
      "text/plain": [
       "  chr  start    end      clu           middle  \n",
       "1 chr7 21516925 21521120 clu_100938_NA 21519022\n",
       "2 chr7 21516925 21521542 clu_100938_NA 21519234\n",
       "3 chr7 21521300 21521542 clu_100938_NA 21521421"
      ]
     },
     "metadata": {},
     "output_type": "display_data"
    }
   ],
   "source": [
    "introns_to_plot <- get_intron_meta(row.names(clusters))\n",
    "introns_to_plot"
   ]
  },
  {
   "cell_type": "code",
   "execution_count": 18,
   "id": "188bab52",
   "metadata": {},
   "outputs": [],
   "source": [
    "juncProp <- function(cluster){\n",
    "  cluster$prop <- cluster$meanCount / sum(cluster$meanCount)\n",
    "  return(cluster)\n",
    "}"
   ]
  },
  {
   "cell_type": "code",
   "execution_count": 19,
   "id": "1fdd2585",
   "metadata": {},
   "outputs": [],
   "source": [
    "splitClusters <- introns_to_plot %>%\n",
    "  mutate(\n",
    "    clu = factor(.$clu, levels = unique(.$clu)),\n",
    "    meanCount = rowMeans(clusters) ) %>%\n",
    "  split( .$clu ) %>%\n",
    "  purrr::map_df( juncProp ) %>%\n",
    "  mutate( clu = as.character(.$clu))"
   ]
  },
  {
   "cell_type": "markdown",
   "id": "858655f5",
   "metadata": {},
   "source": [
    "**The annotated intron is dominant**"
   ]
  },
  {
   "cell_type": "code",
   "execution_count": 56,
   "id": "8cfabbc3",
   "metadata": {},
   "outputs": [
    {
     "data": {
      "text/html": [
       "<table class=\"dataframe\">\n",
       "<caption>A data.frame: 3 x 7</caption>\n",
       "<thead>\n",
       "\t<tr><th scope=col>chr</th><th scope=col>start</th><th scope=col>end</th><th scope=col>clu</th><th scope=col>middle</th><th scope=col>meanCount</th><th scope=col>prop</th></tr>\n",
       "\t<tr><th scope=col>&lt;chr&gt;</th><th scope=col>&lt;dbl&gt;</th><th scope=col>&lt;dbl&gt;</th><th scope=col>&lt;chr&gt;</th><th scope=col>&lt;dbl&gt;</th><th scope=col>&lt;dbl&gt;</th><th scope=col>&lt;dbl&gt;</th></tr>\n",
       "</thead>\n",
       "<tbody>\n",
       "\t<tr><td>chr7</td><td>21516925</td><td>21521120</td><td>clu_100938_NA</td><td>21519022</td><td> 1.5562500</td><td>0.017948210</td></tr>\n",
       "\t<tr><td>chr7</td><td>21516925</td><td>21521542</td><td>clu_100938_NA</td><td>21519234</td><td>84.4031250</td><td>0.973420071</td></tr>\n",
       "\t<tr><td>chr7</td><td>21521300</td><td>21521542</td><td>clu_100938_NA</td><td>21521421</td><td> 0.7484375</td><td>0.008631719</td></tr>\n",
       "</tbody>\n",
       "</table>\n"
      ],
      "text/latex": [
       "A data.frame: 3 x 7\n",
       "\\begin{tabular}{lllllll}\n",
       " chr & start & end & clu & middle & meanCount & prop\\\\\n",
       " <chr> & <dbl> & <dbl> & <chr> & <dbl> & <dbl> & <dbl>\\\\\n",
       "\\hline\n",
       "\t chr7 & 21516925 & 21521120 & clu\\_100938\\_NA & 21519022 &  1.5562500 & 0.017948210\\\\\n",
       "\t chr7 & 21516925 & 21521542 & clu\\_100938\\_NA & 21519234 & 84.4031250 & 0.973420071\\\\\n",
       "\t chr7 & 21521300 & 21521542 & clu\\_100938\\_NA & 21521421 &  0.7484375 & 0.008631719\\\\\n",
       "\\end{tabular}\n"
      ],
      "text/markdown": [
       "\n",
       "A data.frame: 3 x 7\n",
       "\n",
       "| chr &lt;chr&gt; | start &lt;dbl&gt; | end &lt;dbl&gt; | clu &lt;chr&gt; | middle &lt;dbl&gt; | meanCount &lt;dbl&gt; | prop &lt;dbl&gt; |\n",
       "|---|---|---|---|---|---|---|\n",
       "| chr7 | 21516925 | 21521120 | clu_100938_NA | 21519022 |  1.5562500 | 0.017948210 |\n",
       "| chr7 | 21516925 | 21521542 | clu_100938_NA | 21519234 | 84.4031250 | 0.973420071 |\n",
       "| chr7 | 21521300 | 21521542 | clu_100938_NA | 21521421 |  0.7484375 | 0.008631719 |\n",
       "\n"
      ],
      "text/plain": [
       "  chr  start    end      clu           middle   meanCount  prop       \n",
       "1 chr7 21516925 21521120 clu_100938_NA 21519022  1.5562500 0.017948210\n",
       "2 chr7 21516925 21521542 clu_100938_NA 21519234 84.4031250 0.973420071\n",
       "3 chr7 21521300 21521542 clu_100938_NA 21521421  0.7484375 0.008631719"
      ]
     },
     "metadata": {},
     "output_type": "display_data"
    }
   ],
   "source": [
    "splitClusters"
   ]
  },
  {
   "cell_type": "code",
   "execution_count": 21,
   "id": "353b7477",
   "metadata": {},
   "outputs": [],
   "source": [
    "res <- read.table(\"perm.res.txt\", header = T)"
   ]
  },
  {
   "cell_type": "code",
   "execution_count": 64,
   "id": "b1fe36d0",
   "metadata": {},
   "outputs": [
    {
     "data": {
      "text/html": [
       "<table class=\"dataframe\">\n",
       "<caption>A data.frame: 3 x 21</caption>\n",
       "<thead>\n",
       "\t<tr><th scope=col>pid</th><th scope=col>nvar</th><th scope=col>shape1</th><th scope=col>shape2</th><th scope=col>dummy</th><th scope=col>sid</th><th scope=col>dist</th><th scope=col>npval</th><th scope=col>slope</th><th scope=col>ppval</th><th scope=col>...</th><th scope=col>qval</th><th scope=col>pval_nominal_threshold</th><th scope=col>verdict</th><th scope=col>gene</th><th scope=col>ensemblID</th><th scope=col>ensg</th><th scope=col>version</th><th scope=col>transcripts</th><th scope=col>constitutive.score</th><th scope=col>gene_type</th></tr>\n",
       "\t<tr><th scope=col>&lt;chr&gt;</th><th scope=col>&lt;int&gt;</th><th scope=col>&lt;dbl&gt;</th><th scope=col>&lt;dbl&gt;</th><th scope=col>&lt;dbl&gt;</th><th scope=col>&lt;chr&gt;</th><th scope=col>&lt;int&gt;</th><th scope=col>&lt;dbl&gt;</th><th scope=col>&lt;dbl&gt;</th><th scope=col>&lt;dbl&gt;</th><th scope=col>...</th><th scope=col>&lt;dbl&gt;</th><th scope=col>&lt;dbl&gt;</th><th scope=col>&lt;chr&gt;</th><th scope=col>&lt;chr&gt;</th><th scope=col>&lt;chr&gt;</th><th scope=col>&lt;chr&gt;</th><th scope=col>&lt;chr&gt;</th><th scope=col>&lt;chr&gt;</th><th scope=col>&lt;int&gt;</th><th scope=col>&lt;chr&gt;</th></tr>\n",
       "</thead>\n",
       "<tbody>\n",
       "\t<tr><td>7:21516925:21521542:clu_100938_NA</td><td>7767</td><td>1.06107</td><td>1334.52</td><td>519.289</td><td>rs10276352</td><td>4307</td><td>1.15436e-13</td><td> 0.407386</td><td>0.00009999</td><td>...</td><td>3.00601e-08</td><td>8.64826e-06</td><td>annotated         </td><td>SP4</td><td>ENSG00000105866.15_5</td><td>ENSG00000105866</td><td>15_5</td><td>ENST00000222584.8_2+ENST00000448246.1_1+ENST00000649633.1_1</td><td>1</td><td>protein_coding</td></tr>\n",
       "\t<tr><td>7:21521300:21521542:clu_100938_NA</td><td>7774</td><td>1.04961</td><td>1358.03</td><td>521.742</td><td>rs10276352</td><td> -68</td><td>3.36785e-08</td><td>-0.283003</td><td>0.00029997</td><td>...</td><td>1.83283e-03</td><td>8.05151e-06</td><td>cryptic_fiveprime </td><td>SP4</td><td>ENSG00000105866.15_5</td><td>ENSG00000105866</td><td>15_5</td><td>.                                                          </td><td>0</td><td>protein_coding</td></tr>\n",
       "\t<tr><td>7:21516925:21521120:clu_100938_NA</td><td>7767</td><td>1.06005</td><td>1275.23</td><td>514.643</td><td>rs10276352</td><td>4307</td><td>3.13552e-08</td><td>-0.306670</td><td>0.00019998</td><td>...</td><td>1.79647e-03</td><td>9.00731e-06</td><td>cryptic_threeprime</td><td>SP4</td><td>ENSG00000105866.15_5</td><td>ENSG00000105866</td><td>15_5</td><td>.                                                          </td><td>0</td><td>protein_coding</td></tr>\n",
       "</tbody>\n",
       "</table>\n"
      ],
      "text/latex": [
       "A data.frame: 3 x 21\n",
       "\\begin{tabular}{lllllllllllllllllllll}\n",
       " pid & nvar & shape1 & shape2 & dummy & sid & dist & npval & slope & ppval & ... & qval & pval\\_nominal\\_threshold & verdict & gene & ensemblID & ensg & version & transcripts & constitutive.score & gene\\_type\\\\\n",
       " <chr> & <int> & <dbl> & <dbl> & <dbl> & <chr> & <int> & <dbl> & <dbl> & <dbl> & ... & <dbl> & <dbl> & <chr> & <chr> & <chr> & <chr> & <chr> & <chr> & <int> & <chr>\\\\\n",
       "\\hline\n",
       "\t 7:21516925:21521542:clu\\_100938\\_NA & 7767 & 1.06107 & 1334.52 & 519.289 & rs10276352 & 4307 & 1.15436e-13 &  0.407386 & 0.00009999 & ... & 3.00601e-08 & 8.64826e-06 & annotated          & SP4 & ENSG00000105866.15\\_5 & ENSG00000105866 & 15\\_5 & ENST00000222584.8\\_2+ENST00000448246.1\\_1+ENST00000649633.1\\_1 & 1 & protein\\_coding\\\\\n",
       "\t 7:21521300:21521542:clu\\_100938\\_NA & 7774 & 1.04961 & 1358.03 & 521.742 & rs10276352 &  -68 & 3.36785e-08 & -0.283003 & 0.00029997 & ... & 1.83283e-03 & 8.05151e-06 & cryptic\\_fiveprime  & SP4 & ENSG00000105866.15\\_5 & ENSG00000105866 & 15\\_5 & .                                                           & 0 & protein\\_coding\\\\\n",
       "\t 7:21516925:21521120:clu\\_100938\\_NA & 7767 & 1.06005 & 1275.23 & 514.643 & rs10276352 & 4307 & 3.13552e-08 & -0.306670 & 0.00019998 & ... & 1.79647e-03 & 9.00731e-06 & cryptic\\_threeprime & SP4 & ENSG00000105866.15\\_5 & ENSG00000105866 & 15\\_5 & .                                                           & 0 & protein\\_coding\\\\\n",
       "\\end{tabular}\n"
      ],
      "text/markdown": [
       "\n",
       "A data.frame: 3 x 21\n",
       "\n",
       "| pid &lt;chr&gt; | nvar &lt;int&gt; | shape1 &lt;dbl&gt; | shape2 &lt;dbl&gt; | dummy &lt;dbl&gt; | sid &lt;chr&gt; | dist &lt;int&gt; | npval &lt;dbl&gt; | slope &lt;dbl&gt; | ppval &lt;dbl&gt; | ... ... | qval &lt;dbl&gt; | pval_nominal_threshold &lt;dbl&gt; | verdict &lt;chr&gt; | gene &lt;chr&gt; | ensemblID &lt;chr&gt; | ensg &lt;chr&gt; | version &lt;chr&gt; | transcripts &lt;chr&gt; | constitutive.score &lt;int&gt; | gene_type &lt;chr&gt; |\n",
       "|---|---|---|---|---|---|---|---|---|---|---|---|---|---|---|---|---|---|---|---|---|\n",
       "| 7:21516925:21521542:clu_100938_NA | 7767 | 1.06107 | 1334.52 | 519.289 | rs10276352 | 4307 | 1.15436e-13 |  0.407386 | 0.00009999 | ... | 3.00601e-08 | 8.64826e-06 | annotated          | SP4 | ENSG00000105866.15_5 | ENSG00000105866 | 15_5 | ENST00000222584.8_2+ENST00000448246.1_1+ENST00000649633.1_1 | 1 | protein_coding |\n",
       "| 7:21521300:21521542:clu_100938_NA | 7774 | 1.04961 | 1358.03 | 521.742 | rs10276352 |  -68 | 3.36785e-08 | -0.283003 | 0.00029997 | ... | 1.83283e-03 | 8.05151e-06 | cryptic_fiveprime  | SP4 | ENSG00000105866.15_5 | ENSG00000105866 | 15_5 | .                                                           | 0 | protein_coding |\n",
       "| 7:21516925:21521120:clu_100938_NA | 7767 | 1.06005 | 1275.23 | 514.643 | rs10276352 | 4307 | 3.13552e-08 | -0.306670 | 0.00019998 | ... | 1.79647e-03 | 9.00731e-06 | cryptic_threeprime | SP4 | ENSG00000105866.15_5 | ENSG00000105866 | 15_5 | .                                                           | 0 | protein_coding |\n",
       "\n"
      ],
      "text/plain": [
       "  pid                               nvar shape1  shape2  dummy   sid       \n",
       "1 7:21516925:21521542:clu_100938_NA 7767 1.06107 1334.52 519.289 rs10276352\n",
       "2 7:21521300:21521542:clu_100938_NA 7774 1.04961 1358.03 521.742 rs10276352\n",
       "3 7:21516925:21521120:clu_100938_NA 7767 1.06005 1275.23 514.643 rs10276352\n",
       "  dist npval       slope     ppval      ... qval        pval_nominal_threshold\n",
       "1 4307 1.15436e-13  0.407386 0.00009999 ... 3.00601e-08 8.64826e-06           \n",
       "2  -68 3.36785e-08 -0.283003 0.00029997 ... 1.83283e-03 8.05151e-06           \n",
       "3 4307 3.13552e-08 -0.306670 0.00019998 ... 1.79647e-03 9.00731e-06           \n",
       "  verdict            gene ensemblID            ensg            version\n",
       "1 annotated          SP4  ENSG00000105866.15_5 ENSG00000105866 15_5   \n",
       "2 cryptic_fiveprime  SP4  ENSG00000105866.15_5 ENSG00000105866 15_5   \n",
       "3 cryptic_threeprime SP4  ENSG00000105866.15_5 ENSG00000105866 15_5   \n",
       "  transcripts                                                \n",
       "1 ENST00000222584.8_2+ENST00000448246.1_1+ENST00000649633.1_1\n",
       "2 .                                                          \n",
       "3 .                                                          \n",
       "  constitutive.score gene_type     \n",
       "1 1                  protein_coding\n",
       "2 0                  protein_coding\n",
       "3 0                  protein_coding"
      ]
     },
     "metadata": {},
     "output_type": "display_data"
    }
   ],
   "source": [
    "res"
   ]
  },
  {
   "cell_type": "code",
   "execution_count": 22,
   "id": "26bed3a0",
   "metadata": {},
   "outputs": [],
   "source": [
    "sigJunctions <- cbind( get_intron_meta(res[,1]),\n",
    "                       res[, c(\"pid\", \"bpval\")],\n",
    "                       get_snp_meta(res[,6]))\n",
    "\n",
    "# sometimes there will be duplicates - remove!\n",
    "sigJunctions <- dplyr::distinct(sigJunctions)"
   ]
  },
  {
   "cell_type": "code",
   "execution_count": 23,
   "id": "88940208",
   "metadata": {},
   "outputs": [
    {
     "data": {
      "text/html": [
       "<table class=\"dataframe\">\n",
       "<caption>A data.frame: 3 x 10</caption>\n",
       "<thead>\n",
       "\t<tr><th scope=col>chr</th><th scope=col>start</th><th scope=col>end</th><th scope=col>clu</th><th scope=col>middle</th><th scope=col>pid</th><th scope=col>bpval</th><th scope=col>snp_ID</th><th scope=col>snp_chr</th><th scope=col>snp_pos</th></tr>\n",
       "\t<tr><th scope=col>&lt;chr&gt;</th><th scope=col>&lt;dbl&gt;</th><th scope=col>&lt;dbl&gt;</th><th scope=col>&lt;chr&gt;</th><th scope=col>&lt;dbl&gt;</th><th scope=col>&lt;chr&gt;</th><th scope=col>&lt;dbl&gt;</th><th scope=col>&lt;chr&gt;</th><th scope=col>&lt;chr&gt;</th><th scope=col>&lt;dbl&gt;</th></tr>\n",
       "</thead>\n",
       "<tbody>\n",
       "\t<tr><td>7</td><td>21516925</td><td>21521542</td><td>clu_100938_NA</td><td>21519234</td><td>7:21516925:21521542:clu_100938_NA</td><td>1.40225e-09</td><td>rs10276352</td><td></td><td>NA</td></tr>\n",
       "\t<tr><td>7</td><td>21521300</td><td>21521542</td><td>clu_100938_NA</td><td>21521421</td><td>7:21521300:21521542:clu_100938_NA</td><td>1.89265e-04</td><td>rs10276352</td><td></td><td>NA</td></tr>\n",
       "\t<tr><td>7</td><td>21516925</td><td>21521120</td><td>clu_100938_NA</td><td>21519022</td><td>7:21516925:21521120:clu_100938_NA</td><td>1.85196e-04</td><td>rs10276352</td><td></td><td>NA</td></tr>\n",
       "</tbody>\n",
       "</table>\n"
      ],
      "text/latex": [
       "A data.frame: 3 x 10\n",
       "\\begin{tabular}{llllllllll}\n",
       " chr & start & end & clu & middle & pid & bpval & snp\\_ID & snp\\_chr & snp\\_pos\\\\\n",
       " <chr> & <dbl> & <dbl> & <chr> & <dbl> & <chr> & <dbl> & <chr> & <chr> & <dbl>\\\\\n",
       "\\hline\n",
       "\t 7 & 21516925 & 21521542 & clu\\_100938\\_NA & 21519234 & 7:21516925:21521542:clu\\_100938\\_NA & 1.40225e-09 & rs10276352 &  & NA\\\\\n",
       "\t 7 & 21521300 & 21521542 & clu\\_100938\\_NA & 21521421 & 7:21521300:21521542:clu\\_100938\\_NA & 1.89265e-04 & rs10276352 &  & NA\\\\\n",
       "\t 7 & 21516925 & 21521120 & clu\\_100938\\_NA & 21519022 & 7:21516925:21521120:clu\\_100938\\_NA & 1.85196e-04 & rs10276352 &  & NA\\\\\n",
       "\\end{tabular}\n"
      ],
      "text/markdown": [
       "\n",
       "A data.frame: 3 x 10\n",
       "\n",
       "| chr &lt;chr&gt; | start &lt;dbl&gt; | end &lt;dbl&gt; | clu &lt;chr&gt; | middle &lt;dbl&gt; | pid &lt;chr&gt; | bpval &lt;dbl&gt; | snp_ID &lt;chr&gt; | snp_chr &lt;chr&gt; | snp_pos &lt;dbl&gt; |\n",
       "|---|---|---|---|---|---|---|---|---|---|\n",
       "| 7 | 21516925 | 21521542 | clu_100938_NA | 21519234 | 7:21516925:21521542:clu_100938_NA | 1.40225e-09 | rs10276352 | <!----> | NA |\n",
       "| 7 | 21521300 | 21521542 | clu_100938_NA | 21521421 | 7:21521300:21521542:clu_100938_NA | 1.89265e-04 | rs10276352 | <!----> | NA |\n",
       "| 7 | 21516925 | 21521120 | clu_100938_NA | 21519022 | 7:21516925:21521120:clu_100938_NA | 1.85196e-04 | rs10276352 | <!----> | NA |\n",
       "\n"
      ],
      "text/plain": [
       "  chr start    end      clu           middle  \n",
       "1 7   21516925 21521542 clu_100938_NA 21519234\n",
       "2 7   21521300 21521542 clu_100938_NA 21521421\n",
       "3 7   21516925 21521120 clu_100938_NA 21519022\n",
       "  pid                               bpval       snp_ID     snp_chr snp_pos\n",
       "1 7:21516925:21521542:clu_100938_NA 1.40225e-09 rs10276352         NA     \n",
       "2 7:21521300:21521542:clu_100938_NA 1.89265e-04 rs10276352         NA     \n",
       "3 7:21516925:21521120:clu_100938_NA 1.85196e-04 rs10276352         NA     "
      ]
     },
     "metadata": {},
     "output_type": "display_data"
    }
   ],
   "source": [
    "sigJunctions"
   ]
  },
  {
   "cell_type": "code",
   "execution_count": 24,
   "id": "eef315d4",
   "metadata": {},
   "outputs": [],
   "source": [
    "sigJunctions$snp_chr <- \"7\"\n",
    "sigJunctions$snp_pos <- \"21521233\""
   ]
  },
  {
   "cell_type": "code",
   "execution_count": 25,
   "id": "38b988e1",
   "metadata": {},
   "outputs": [
    {
     "data": {
      "text/html": [
       "<table class=\"dataframe\">\n",
       "<caption>A data.frame: 3 x 10</caption>\n",
       "<thead>\n",
       "\t<tr><th scope=col>chr</th><th scope=col>start</th><th scope=col>end</th><th scope=col>clu</th><th scope=col>middle</th><th scope=col>pid</th><th scope=col>bpval</th><th scope=col>snp_ID</th><th scope=col>snp_chr</th><th scope=col>snp_pos</th></tr>\n",
       "\t<tr><th scope=col>&lt;chr&gt;</th><th scope=col>&lt;dbl&gt;</th><th scope=col>&lt;dbl&gt;</th><th scope=col>&lt;chr&gt;</th><th scope=col>&lt;dbl&gt;</th><th scope=col>&lt;chr&gt;</th><th scope=col>&lt;dbl&gt;</th><th scope=col>&lt;chr&gt;</th><th scope=col>&lt;chr&gt;</th><th scope=col>&lt;chr&gt;</th></tr>\n",
       "</thead>\n",
       "<tbody>\n",
       "\t<tr><td>7</td><td>21516925</td><td>21521542</td><td>clu_100938_NA</td><td>21519234</td><td>7:21516925:21521542:clu_100938_NA</td><td>1.40225e-09</td><td>rs10276352</td><td>7</td><td>21521233</td></tr>\n",
       "\t<tr><td>7</td><td>21521300</td><td>21521542</td><td>clu_100938_NA</td><td>21521421</td><td>7:21521300:21521542:clu_100938_NA</td><td>1.89265e-04</td><td>rs10276352</td><td>7</td><td>21521233</td></tr>\n",
       "\t<tr><td>7</td><td>21516925</td><td>21521120</td><td>clu_100938_NA</td><td>21519022</td><td>7:21516925:21521120:clu_100938_NA</td><td>1.85196e-04</td><td>rs10276352</td><td>7</td><td>21521233</td></tr>\n",
       "</tbody>\n",
       "</table>\n"
      ],
      "text/latex": [
       "A data.frame: 3 x 10\n",
       "\\begin{tabular}{llllllllll}\n",
       " chr & start & end & clu & middle & pid & bpval & snp\\_ID & snp\\_chr & snp\\_pos\\\\\n",
       " <chr> & <dbl> & <dbl> & <chr> & <dbl> & <chr> & <dbl> & <chr> & <chr> & <chr>\\\\\n",
       "\\hline\n",
       "\t 7 & 21516925 & 21521542 & clu\\_100938\\_NA & 21519234 & 7:21516925:21521542:clu\\_100938\\_NA & 1.40225e-09 & rs10276352 & 7 & 21521233\\\\\n",
       "\t 7 & 21521300 & 21521542 & clu\\_100938\\_NA & 21521421 & 7:21521300:21521542:clu\\_100938\\_NA & 1.89265e-04 & rs10276352 & 7 & 21521233\\\\\n",
       "\t 7 & 21516925 & 21521120 & clu\\_100938\\_NA & 21519022 & 7:21516925:21521120:clu\\_100938\\_NA & 1.85196e-04 & rs10276352 & 7 & 21521233\\\\\n",
       "\\end{tabular}\n"
      ],
      "text/markdown": [
       "\n",
       "A data.frame: 3 x 10\n",
       "\n",
       "| chr &lt;chr&gt; | start &lt;dbl&gt; | end &lt;dbl&gt; | clu &lt;chr&gt; | middle &lt;dbl&gt; | pid &lt;chr&gt; | bpval &lt;dbl&gt; | snp_ID &lt;chr&gt; | snp_chr &lt;chr&gt; | snp_pos &lt;chr&gt; |\n",
       "|---|---|---|---|---|---|---|---|---|---|\n",
       "| 7 | 21516925 | 21521542 | clu_100938_NA | 21519234 | 7:21516925:21521542:clu_100938_NA | 1.40225e-09 | rs10276352 | 7 | 21521233 |\n",
       "| 7 | 21521300 | 21521542 | clu_100938_NA | 21521421 | 7:21521300:21521542:clu_100938_NA | 1.89265e-04 | rs10276352 | 7 | 21521233 |\n",
       "| 7 | 21516925 | 21521120 | clu_100938_NA | 21519022 | 7:21516925:21521120:clu_100938_NA | 1.85196e-04 | rs10276352 | 7 | 21521233 |\n",
       "\n"
      ],
      "text/plain": [
       "  chr start    end      clu           middle  \n",
       "1 7   21516925 21521542 clu_100938_NA 21519234\n",
       "2 7   21521300 21521542 clu_100938_NA 21521421\n",
       "3 7   21516925 21521120 clu_100938_NA 21519022\n",
       "  pid                               bpval       snp_ID     snp_chr snp_pos \n",
       "1 7:21516925:21521542:clu_100938_NA 1.40225e-09 rs10276352 7       21521233\n",
       "2 7:21521300:21521542:clu_100938_NA 1.89265e-04 rs10276352 7       21521233\n",
       "3 7:21516925:21521120:clu_100938_NA 1.85196e-04 rs10276352 7       21521233"
      ]
     },
     "metadata": {},
     "output_type": "display_data"
    }
   ],
   "source": [
    "sigJunctions"
   ]
  },
  {
   "cell_type": "code",
   "execution_count": 26,
   "id": "ab5387d7",
   "metadata": {},
   "outputs": [
    {
     "data": {
      "text/html": [
       "<table class=\"dataframe\">\n",
       "<caption>A tibble: 1 x 8</caption>\n",
       "<thead>\n",
       "\t<tr><th scope=col>clu</th><th scope=col>chr</th><th scope=col>start</th><th scope=col>end</th><th scope=col>snp</th><th scope=col>snp_chr</th><th scope=col>pos</th><th scope=col>FDR</th></tr>\n",
       "\t<tr><th scope=col>&lt;chr&gt;</th><th scope=col>&lt;chr&gt;</th><th scope=col>&lt;dbl&gt;</th><th scope=col>&lt;dbl&gt;</th><th scope=col>&lt;chr&gt;</th><th scope=col>&lt;chr&gt;</th><th scope=col>&lt;chr&gt;</th><th scope=col>&lt;dbl&gt;</th></tr>\n",
       "</thead>\n",
       "<tbody>\n",
       "\t<tr><td>clu_100938_NA</td><td>7</td><td>21516925</td><td>21521542</td><td>rs10276352</td><td>7</td><td>21521233</td><td>1.40225e-09</td></tr>\n",
       "</tbody>\n",
       "</table>\n"
      ],
      "text/latex": [
       "A tibble: 1 x 8\n",
       "\\begin{tabular}{llllllll}\n",
       " clu & chr & start & end & snp & snp\\_chr & pos & FDR\\\\\n",
       " <chr> & <chr> & <dbl> & <dbl> & <chr> & <chr> & <chr> & <dbl>\\\\\n",
       "\\hline\n",
       "\t clu\\_100938\\_NA & 7 & 21516925 & 21521542 & rs10276352 & 7 & 21521233 & 1.40225e-09\\\\\n",
       "\\end{tabular}\n"
      ],
      "text/markdown": [
       "\n",
       "A tibble: 1 x 8\n",
       "\n",
       "| clu &lt;chr&gt; | chr &lt;chr&gt; | start &lt;dbl&gt; | end &lt;dbl&gt; | snp &lt;chr&gt; | snp_chr &lt;chr&gt; | pos &lt;chr&gt; | FDR &lt;dbl&gt; |\n",
       "|---|---|---|---|---|---|---|---|\n",
       "| clu_100938_NA | 7 | 21516925 | 21521542 | rs10276352 | 7 | 21521233 | 1.40225e-09 |\n",
       "\n"
      ],
      "text/plain": [
       "  clu           chr start    end      snp        snp_chr pos      FDR        \n",
       "1 clu_100938_NA 7   21516925 21521542 rs10276352 7       21521233 1.40225e-09"
      ]
     },
     "metadata": {},
     "output_type": "display_data"
    }
   ],
   "source": [
    "resultsByCluster <- dplyr::group_by(sigJunctions[order(sigJunctions$bpval),], clu) %>%\n",
    "  dplyr::summarise( chr = first(chr),\n",
    "                    start = min(start),\n",
    "                    end = max(end),\n",
    "                    snp = first(snp_ID),\n",
    "                    snp_chr = first(snp_chr),\n",
    "                    pos = first(snp_pos),\n",
    "                    FDR = first(bpval) ) %>%\n",
    "  dplyr::arrange(FDR)\n",
    "resultsByCluster"
   ]
  },
  {
   "cell_type": "code",
   "execution_count": 27,
   "id": "728a2527",
   "metadata": {},
   "outputs": [],
   "source": [
    "resultsByCluster$gene <- \"SP4\"\n",
    "resultsByCluster$SNP_pos <- paste0(resultsByCluster$snp_chr, \":\", resultsByCluster$pos)"
   ]
  },
  {
   "cell_type": "code",
   "execution_count": 28,
   "id": "362990c6",
   "metadata": {},
   "outputs": [],
   "source": [
    "resultsByCluster$cluster_pos = paste0(resultsByCluster$chr,\":\", resultsByCluster$start,\"-\",resultsByCluster$end)\n",
    "\n",
    "resultsToPlot <- as.data.frame( select( resultsByCluster,\n",
    "                                        SNP = snp,\n",
    "                                        SNP_pos,\n",
    "                                        gene = gene,\n",
    "                                        cluster_pos,\n",
    "                                        q = FDR\n",
    ") )\n",
    "\n",
    "row.names(resultsToPlot) <- resultsByCluster$clu\n",
    "\n",
    "resultsToPlot$q <- signif(resultsToPlot$q,  digits = 3)"
   ]
  },
  {
   "cell_type": "code",
   "execution_count": 29,
   "id": "e5e837aa",
   "metadata": {},
   "outputs": [
    {
     "data": {
      "text/html": [
       "<table class=\"dataframe\">\n",
       "<caption>A tibble: 1 x 11</caption>\n",
       "<thead>\n",
       "\t<tr><th scope=col>clu</th><th scope=col>chr</th><th scope=col>start</th><th scope=col>end</th><th scope=col>snp</th><th scope=col>snp_chr</th><th scope=col>pos</th><th scope=col>FDR</th><th scope=col>gene</th><th scope=col>SNP_pos</th><th scope=col>cluster_pos</th></tr>\n",
       "\t<tr><th scope=col>&lt;chr&gt;</th><th scope=col>&lt;chr&gt;</th><th scope=col>&lt;dbl&gt;</th><th scope=col>&lt;dbl&gt;</th><th scope=col>&lt;chr&gt;</th><th scope=col>&lt;chr&gt;</th><th scope=col>&lt;chr&gt;</th><th scope=col>&lt;dbl&gt;</th><th scope=col>&lt;chr&gt;</th><th scope=col>&lt;chr&gt;</th><th scope=col>&lt;chr&gt;</th></tr>\n",
       "</thead>\n",
       "<tbody>\n",
       "\t<tr><td>clu_100938_NA</td><td>7</td><td>21516925</td><td>21521542</td><td>rs10276352</td><td>7</td><td>21521233</td><td>1.40225e-09</td><td>SP4</td><td>7:21521233</td><td>7:21516925-21521542</td></tr>\n",
       "</tbody>\n",
       "</table>\n"
      ],
      "text/latex": [
       "A tibble: 1 x 11\n",
       "\\begin{tabular}{lllllllllll}\n",
       " clu & chr & start & end & snp & snp\\_chr & pos & FDR & gene & SNP\\_pos & cluster\\_pos\\\\\n",
       " <chr> & <chr> & <dbl> & <dbl> & <chr> & <chr> & <chr> & <dbl> & <chr> & <chr> & <chr>\\\\\n",
       "\\hline\n",
       "\t clu\\_100938\\_NA & 7 & 21516925 & 21521542 & rs10276352 & 7 & 21521233 & 1.40225e-09 & SP4 & 7:21521233 & 7:21516925-21521542\\\\\n",
       "\\end{tabular}\n"
      ],
      "text/markdown": [
       "\n",
       "A tibble: 1 x 11\n",
       "\n",
       "| clu &lt;chr&gt; | chr &lt;chr&gt; | start &lt;dbl&gt; | end &lt;dbl&gt; | snp &lt;chr&gt; | snp_chr &lt;chr&gt; | pos &lt;chr&gt; | FDR &lt;dbl&gt; | gene &lt;chr&gt; | SNP_pos &lt;chr&gt; | cluster_pos &lt;chr&gt; |\n",
       "|---|---|---|---|---|---|---|---|---|---|---|\n",
       "| clu_100938_NA | 7 | 21516925 | 21521542 | rs10276352 | 7 | 21521233 | 1.40225e-09 | SP4 | 7:21521233 | 7:21516925-21521542 |\n",
       "\n"
      ],
      "text/plain": [
       "  clu           chr start    end      snp        snp_chr pos      FDR        \n",
       "1 clu_100938_NA 7   21516925 21521542 rs10276352 7       21521233 1.40225e-09\n",
       "  gene SNP_pos    cluster_pos        \n",
       "1 SP4  7:21521233 7:21516925-21521542"
      ]
     },
     "metadata": {},
     "output_type": "display_data"
    }
   ],
   "source": [
    "resultsByCluster"
   ]
  },
  {
   "cell_type": "code",
   "execution_count": 30,
   "id": "c3f73a02",
   "metadata": {},
   "outputs": [
    {
     "data": {
      "text/html": [
       "<table class=\"dataframe\">\n",
       "<caption>A data.frame: 1 x 5</caption>\n",
       "<thead>\n",
       "\t<tr><th></th><th scope=col>SNP</th><th scope=col>SNP_pos</th><th scope=col>gene</th><th scope=col>cluster_pos</th><th scope=col>q</th></tr>\n",
       "\t<tr><th></th><th scope=col>&lt;chr&gt;</th><th scope=col>&lt;chr&gt;</th><th scope=col>&lt;chr&gt;</th><th scope=col>&lt;chr&gt;</th><th scope=col>&lt;dbl&gt;</th></tr>\n",
       "</thead>\n",
       "<tbody>\n",
       "\t<tr><th scope=row>clu_100938_NA</th><td>rs10276352</td><td>7:21521233</td><td>SP4</td><td>7:21516925-21521542</td><td>1.4e-09</td></tr>\n",
       "</tbody>\n",
       "</table>\n"
      ],
      "text/latex": [
       "A data.frame: 1 x 5\n",
       "\\begin{tabular}{r|lllll}\n",
       "  & SNP & SNP\\_pos & gene & cluster\\_pos & q\\\\\n",
       "  & <chr> & <chr> & <chr> & <chr> & <dbl>\\\\\n",
       "\\hline\n",
       "\tclu\\_100938\\_NA & rs10276352 & 7:21521233 & SP4 & 7:21516925-21521542 & 1.4e-09\\\\\n",
       "\\end{tabular}\n"
      ],
      "text/markdown": [
       "\n",
       "A data.frame: 1 x 5\n",
       "\n",
       "| <!--/--> | SNP &lt;chr&gt; | SNP_pos &lt;chr&gt; | gene &lt;chr&gt; | cluster_pos &lt;chr&gt; | q &lt;dbl&gt; |\n",
       "|---|---|---|---|---|---|\n",
       "| clu_100938_NA | rs10276352 | 7:21521233 | SP4 | 7:21516925-21521542 | 1.4e-09 |\n",
       "\n"
      ],
      "text/plain": [
       "              SNP        SNP_pos    gene cluster_pos         q      \n",
       "clu_100938_NA rs10276352 7:21521233 SP4  7:21516925-21521542 1.4e-09"
      ]
     },
     "metadata": {},
     "output_type": "display_data"
    }
   ],
   "source": [
    "resultsToPlot"
   ]
  },
  {
   "cell_type": "markdown",
   "id": "2d096356",
   "metadata": {},
   "source": [
    "**For this cluster, all 3 introns are permutation significant**"
   ]
  },
  {
   "cell_type": "code",
   "execution_count": 81,
   "id": "1ae84dfc",
   "metadata": {},
   "outputs": [
    {
     "data": {
      "text/html": [
       "<table class=\"dataframe\">\n",
       "<caption>A data.frame: 3 x 5</caption>\n",
       "<thead>\n",
       "\t<tr><th scope=col>chr</th><th scope=col>start</th><th scope=col>end</th><th scope=col>clu</th><th scope=col>middle</th></tr>\n",
       "\t<tr><th scope=col>&lt;chr&gt;</th><th scope=col>&lt;dbl&gt;</th><th scope=col>&lt;dbl&gt;</th><th scope=col>&lt;chr&gt;</th><th scope=col>&lt;dbl&gt;</th></tr>\n",
       "</thead>\n",
       "<tbody>\n",
       "\t<tr><td>chr7</td><td>21516925</td><td>21521120</td><td>clu_100938_NA</td><td>21519022</td></tr>\n",
       "\t<tr><td>chr7</td><td>21516925</td><td>21521542</td><td>clu_100938_NA</td><td>21519234</td></tr>\n",
       "\t<tr><td>chr7</td><td>21521300</td><td>21521542</td><td>clu_100938_NA</td><td>21521421</td></tr>\n",
       "</tbody>\n",
       "</table>\n"
      ],
      "text/latex": [
       "A data.frame: 3 x 5\n",
       "\\begin{tabular}{lllll}\n",
       " chr & start & end & clu & middle\\\\\n",
       " <chr> & <dbl> & <dbl> & <chr> & <dbl>\\\\\n",
       "\\hline\n",
       "\t chr7 & 21516925 & 21521120 & clu\\_100938\\_NA & 21519022\\\\\n",
       "\t chr7 & 21516925 & 21521542 & clu\\_100938\\_NA & 21519234\\\\\n",
       "\t chr7 & 21521300 & 21521542 & clu\\_100938\\_NA & 21521421\\\\\n",
       "\\end{tabular}\n"
      ],
      "text/markdown": [
       "\n",
       "A data.frame: 3 x 5\n",
       "\n",
       "| chr &lt;chr&gt; | start &lt;dbl&gt; | end &lt;dbl&gt; | clu &lt;chr&gt; | middle &lt;dbl&gt; |\n",
       "|---|---|---|---|---|\n",
       "| chr7 | 21516925 | 21521120 | clu_100938_NA | 21519022 |\n",
       "| chr7 | 21516925 | 21521542 | clu_100938_NA | 21519234 |\n",
       "| chr7 | 21521300 | 21521542 | clu_100938_NA | 21521421 |\n",
       "\n"
      ],
      "text/plain": [
       "  chr  start    end      clu           middle  \n",
       "1 chr7 21516925 21521120 clu_100938_NA 21519022\n",
       "2 chr7 21516925 21521542 clu_100938_NA 21519234\n",
       "3 chr7 21521300 21521542 clu_100938_NA 21521421"
      ]
     },
     "metadata": {},
     "output_type": "display_data"
    }
   ],
   "source": [
    "introns_to_plot"
   ]
  },
  {
   "cell_type": "code",
   "execution_count": 31,
   "id": "2530e698",
   "metadata": {},
   "outputs": [],
   "source": [
    "junctionsNeeded <- introns_to_plot %>%\n",
    "    mutate( chr = gsub(\"chr\", \"\", chr)) %>%\n",
    "    mutate( cluster = paste( chr, start, end, clu, sep = \":\") ) %>%\n",
    "    pull( cluster )"
   ]
  },
  {
   "cell_type": "code",
   "execution_count": 32,
   "id": "55583b82",
   "metadata": {},
   "outputs": [
    {
     "data": {
      "text/html": [
       "<style>\n",
       ".list-inline {list-style: none; margin:0; padding: 0}\n",
       ".list-inline>li {display: inline-block}\n",
       ".list-inline>li:not(:last-child)::after {content: \"\\00b7\"; padding: 0 .5ex}\n",
       "</style>\n",
       "<ol class=list-inline><li>'7:21516925:21521120:clu_100938_NA'</li><li>'7:21516925:21521542:clu_100938_NA'</li><li>'7:21521300:21521542:clu_100938_NA'</li></ol>\n"
      ],
      "text/latex": [
       "\\begin{enumerate*}\n",
       "\\item '7:21516925:21521120:clu\\_100938\\_NA'\n",
       "\\item '7:21516925:21521542:clu\\_100938\\_NA'\n",
       "\\item '7:21521300:21521542:clu\\_100938\\_NA'\n",
       "\\end{enumerate*}\n"
      ],
      "text/markdown": [
       "1. '7:21516925:21521120:clu_100938_NA'\n",
       "2. '7:21516925:21521542:clu_100938_NA'\n",
       "3. '7:21521300:21521542:clu_100938_NA'\n",
       "\n",
       "\n"
      ],
      "text/plain": [
       "[1] \"7:21516925:21521120:clu_100938_NA\" \"7:21516925:21521542:clu_100938_NA\"\n",
       "[3] \"7:21521300:21521542:clu_100938_NA\""
      ]
     },
     "metadata": {},
     "output_type": "display_data"
    }
   ],
   "source": [
    "junctionsNeeded"
   ]
  },
  {
   "cell_type": "code",
   "execution_count": 33,
   "id": "4ad1ea7d",
   "metadata": {},
   "outputs": [
    {
     "data": {
      "text/html": [
       "<table class=\"dataframe\">\n",
       "<caption>A data.frame: 3 x 10</caption>\n",
       "<thead>\n",
       "\t<tr><th scope=col>snp_ID</th><th scope=col>SNP_pos</th><th scope=col>gene</th><th scope=col>cluster_pos</th><th scope=col>q</th><th scope=col>clu</th><th scope=col>chr</th><th scope=col>start</th><th scope=col>end</th><th scope=col>middle</th></tr>\n",
       "\t<tr><th scope=col>&lt;chr&gt;</th><th scope=col>&lt;chr&gt;</th><th scope=col>&lt;chr&gt;</th><th scope=col>&lt;chr&gt;</th><th scope=col>&lt;dbl&gt;</th><th scope=col>&lt;chr&gt;</th><th scope=col>&lt;chr&gt;</th><th scope=col>&lt;dbl&gt;</th><th scope=col>&lt;dbl&gt;</th><th scope=col>&lt;dbl&gt;</th></tr>\n",
       "</thead>\n",
       "<tbody>\n",
       "\t<tr><td>rs10276352</td><td>7:21521233</td><td>SP4</td><td>7:21516925-21521542</td><td>1.4e-09</td><td>clu_100938_NA</td><td>chr7</td><td>21516925</td><td>21521120</td><td>21519022</td></tr>\n",
       "\t<tr><td>rs10276352</td><td>7:21521233</td><td>SP4</td><td>7:21516925-21521542</td><td>1.4e-09</td><td>clu_100938_NA</td><td>chr7</td><td>21516925</td><td>21521542</td><td>21519234</td></tr>\n",
       "\t<tr><td>rs10276352</td><td>7:21521233</td><td>SP4</td><td>7:21516925-21521542</td><td>1.4e-09</td><td>clu_100938_NA</td><td>chr7</td><td>21521300</td><td>21521542</td><td>21521421</td></tr>\n",
       "</tbody>\n",
       "</table>\n"
      ],
      "text/latex": [
       "A data.frame: 3 x 10\n",
       "\\begin{tabular}{llllllllll}\n",
       " snp\\_ID & SNP\\_pos & gene & cluster\\_pos & q & clu & chr & start & end & middle\\\\\n",
       " <chr> & <chr> & <chr> & <chr> & <dbl> & <chr> & <chr> & <dbl> & <dbl> & <dbl>\\\\\n",
       "\\hline\n",
       "\t rs10276352 & 7:21521233 & SP4 & 7:21516925-21521542 & 1.4e-09 & clu\\_100938\\_NA & chr7 & 21516925 & 21521120 & 21519022\\\\\n",
       "\t rs10276352 & 7:21521233 & SP4 & 7:21516925-21521542 & 1.4e-09 & clu\\_100938\\_NA & chr7 & 21516925 & 21521542 & 21519234\\\\\n",
       "\t rs10276352 & 7:21521233 & SP4 & 7:21516925-21521542 & 1.4e-09 & clu\\_100938\\_NA & chr7 & 21521300 & 21521542 & 21521421\\\\\n",
       "\\end{tabular}\n"
      ],
      "text/markdown": [
       "\n",
       "A data.frame: 3 x 10\n",
       "\n",
       "| snp_ID &lt;chr&gt; | SNP_pos &lt;chr&gt; | gene &lt;chr&gt; | cluster_pos &lt;chr&gt; | q &lt;dbl&gt; | clu &lt;chr&gt; | chr &lt;chr&gt; | start &lt;dbl&gt; | end &lt;dbl&gt; | middle &lt;dbl&gt; |\n",
       "|---|---|---|---|---|---|---|---|---|---|\n",
       "| rs10276352 | 7:21521233 | SP4 | 7:21516925-21521542 | 1.4e-09 | clu_100938_NA | chr7 | 21516925 | 21521120 | 21519022 |\n",
       "| rs10276352 | 7:21521233 | SP4 | 7:21516925-21521542 | 1.4e-09 | clu_100938_NA | chr7 | 21516925 | 21521542 | 21519234 |\n",
       "| rs10276352 | 7:21521233 | SP4 | 7:21516925-21521542 | 1.4e-09 | clu_100938_NA | chr7 | 21521300 | 21521542 | 21521421 |\n",
       "\n"
      ],
      "text/plain": [
       "  snp_ID     SNP_pos    gene cluster_pos         q       clu           chr \n",
       "1 rs10276352 7:21521233 SP4  7:21516925-21521542 1.4e-09 clu_100938_NA chr7\n",
       "2 rs10276352 7:21521233 SP4  7:21516925-21521542 1.4e-09 clu_100938_NA chr7\n",
       "3 rs10276352 7:21521233 SP4  7:21516925-21521542 1.4e-09 clu_100938_NA chr7\n",
       "  start    end      middle  \n",
       "1 21516925 21521120 21519022\n",
       "2 21516925 21521542 21519234\n",
       "3 21521300 21521542 21521421"
      ]
     },
     "metadata": {},
     "output_type": "display_data"
    }
   ],
   "source": [
    "junctionTable <- resultsToPlot %>%\n",
    "  mutate( clu = row.names(resultsToPlot) ) %>%\n",
    "  left_join(introns_to_plot, by = \"clu\" ) %>%\n",
    "  rename(snp_ID = SNP)\n",
    "junctionTable"
   ]
  },
  {
   "cell_type": "code",
   "execution_count": 34,
   "id": "ccd852db",
   "metadata": {},
   "outputs": [],
   "source": [
    "res <- cbind( res, get_intron_meta(res$pid), get_snp_meta(res$sid) )"
   ]
  },
  {
   "cell_type": "code",
   "execution_count": 95,
   "id": "8a6ee16b",
   "metadata": {},
   "outputs": [
    {
     "data": {
      "text/html": [
       "<table class=\"dataframe\">\n",
       "<caption>A data.frame: 3 x 29</caption>\n",
       "<thead>\n",
       "\t<tr><th scope=col>pid</th><th scope=col>nvar</th><th scope=col>shape1</th><th scope=col>shape2</th><th scope=col>dummy</th><th scope=col>sid</th><th scope=col>dist</th><th scope=col>npval</th><th scope=col>slope</th><th scope=col>ppval</th><th scope=col>...</th><th scope=col>constitutive.score</th><th scope=col>gene_type</th><th scope=col>chr</th><th scope=col>start</th><th scope=col>end</th><th scope=col>clu</th><th scope=col>middle</th><th scope=col>snp_ID</th><th scope=col>snp_chr</th><th scope=col>snp_pos</th></tr>\n",
       "\t<tr><th scope=col>&lt;chr&gt;</th><th scope=col>&lt;int&gt;</th><th scope=col>&lt;dbl&gt;</th><th scope=col>&lt;dbl&gt;</th><th scope=col>&lt;dbl&gt;</th><th scope=col>&lt;chr&gt;</th><th scope=col>&lt;int&gt;</th><th scope=col>&lt;dbl&gt;</th><th scope=col>&lt;dbl&gt;</th><th scope=col>&lt;dbl&gt;</th><th scope=col>...</th><th scope=col>&lt;int&gt;</th><th scope=col>&lt;chr&gt;</th><th scope=col>&lt;chr&gt;</th><th scope=col>&lt;dbl&gt;</th><th scope=col>&lt;dbl&gt;</th><th scope=col>&lt;chr&gt;</th><th scope=col>&lt;dbl&gt;</th><th scope=col>&lt;chr&gt;</th><th scope=col>&lt;chr&gt;</th><th scope=col>&lt;dbl&gt;</th></tr>\n",
       "</thead>\n",
       "<tbody>\n",
       "\t<tr><td>7:21516925:21521542:clu_100938_NA</td><td>7767</td><td>1.06107</td><td>1334.52</td><td>519.289</td><td>rs10276352</td><td>4307</td><td>1.15436e-13</td><td> 0.407386</td><td>0.00009999</td><td>...</td><td>1</td><td>protein_coding</td><td>7</td><td>21516925</td><td>21521542</td><td>clu_100938_NA</td><td>21519234</td><td>rs10276352</td><td></td><td>NA</td></tr>\n",
       "\t<tr><td>7:21521300:21521542:clu_100938_NA</td><td>7774</td><td>1.04961</td><td>1358.03</td><td>521.742</td><td>rs10276352</td><td> -68</td><td>3.36785e-08</td><td>-0.283003</td><td>0.00029997</td><td>...</td><td>0</td><td>protein_coding</td><td>7</td><td>21521300</td><td>21521542</td><td>clu_100938_NA</td><td>21521421</td><td>rs10276352</td><td></td><td>NA</td></tr>\n",
       "\t<tr><td>7:21516925:21521120:clu_100938_NA</td><td>7767</td><td>1.06005</td><td>1275.23</td><td>514.643</td><td>rs10276352</td><td>4307</td><td>3.13552e-08</td><td>-0.306670</td><td>0.00019998</td><td>...</td><td>0</td><td>protein_coding</td><td>7</td><td>21516925</td><td>21521120</td><td>clu_100938_NA</td><td>21519022</td><td>rs10276352</td><td></td><td>NA</td></tr>\n",
       "</tbody>\n",
       "</table>\n"
      ],
      "text/latex": [
       "A data.frame: 3 x 29\n",
       "\\begin{tabular}{lllllllllllllllllllll}\n",
       " pid & nvar & shape1 & shape2 & dummy & sid & dist & npval & slope & ppval & ... & constitutive.score & gene\\_type & chr & start & end & clu & middle & snp\\_ID & snp\\_chr & snp\\_pos\\\\\n",
       " <chr> & <int> & <dbl> & <dbl> & <dbl> & <chr> & <int> & <dbl> & <dbl> & <dbl> & ... & <int> & <chr> & <chr> & <dbl> & <dbl> & <chr> & <dbl> & <chr> & <chr> & <dbl>\\\\\n",
       "\\hline\n",
       "\t 7:21516925:21521542:clu\\_100938\\_NA & 7767 & 1.06107 & 1334.52 & 519.289 & rs10276352 & 4307 & 1.15436e-13 &  0.407386 & 0.00009999 & ... & 1 & protein\\_coding & 7 & 21516925 & 21521542 & clu\\_100938\\_NA & 21519234 & rs10276352 &  & NA\\\\\n",
       "\t 7:21521300:21521542:clu\\_100938\\_NA & 7774 & 1.04961 & 1358.03 & 521.742 & rs10276352 &  -68 & 3.36785e-08 & -0.283003 & 0.00029997 & ... & 0 & protein\\_coding & 7 & 21521300 & 21521542 & clu\\_100938\\_NA & 21521421 & rs10276352 &  & NA\\\\\n",
       "\t 7:21516925:21521120:clu\\_100938\\_NA & 7767 & 1.06005 & 1275.23 & 514.643 & rs10276352 & 4307 & 3.13552e-08 & -0.306670 & 0.00019998 & ... & 0 & protein\\_coding & 7 & 21516925 & 21521120 & clu\\_100938\\_NA & 21519022 & rs10276352 &  & NA\\\\\n",
       "\\end{tabular}\n"
      ],
      "text/markdown": [
       "\n",
       "A data.frame: 3 x 29\n",
       "\n",
       "| pid &lt;chr&gt; | nvar &lt;int&gt; | shape1 &lt;dbl&gt; | shape2 &lt;dbl&gt; | dummy &lt;dbl&gt; | sid &lt;chr&gt; | dist &lt;int&gt; | npval &lt;dbl&gt; | slope &lt;dbl&gt; | ppval &lt;dbl&gt; | ... ... | constitutive.score &lt;int&gt; | gene_type &lt;chr&gt; | chr &lt;chr&gt; | start &lt;dbl&gt; | end &lt;dbl&gt; | clu &lt;chr&gt; | middle &lt;dbl&gt; | snp_ID &lt;chr&gt; | snp_chr &lt;chr&gt; | snp_pos &lt;dbl&gt; |\n",
       "|---|---|---|---|---|---|---|---|---|---|---|---|---|---|---|---|---|---|---|---|---|\n",
       "| 7:21516925:21521542:clu_100938_NA | 7767 | 1.06107 | 1334.52 | 519.289 | rs10276352 | 4307 | 1.15436e-13 |  0.407386 | 0.00009999 | ... | 1 | protein_coding | 7 | 21516925 | 21521542 | clu_100938_NA | 21519234 | rs10276352 | <!----> | NA |\n",
       "| 7:21521300:21521542:clu_100938_NA | 7774 | 1.04961 | 1358.03 | 521.742 | rs10276352 |  -68 | 3.36785e-08 | -0.283003 | 0.00029997 | ... | 0 | protein_coding | 7 | 21521300 | 21521542 | clu_100938_NA | 21521421 | rs10276352 | <!----> | NA |\n",
       "| 7:21516925:21521120:clu_100938_NA | 7767 | 1.06005 | 1275.23 | 514.643 | rs10276352 | 4307 | 3.13552e-08 | -0.306670 | 0.00019998 | ... | 0 | protein_coding | 7 | 21516925 | 21521120 | clu_100938_NA | 21519022 | rs10276352 | <!----> | NA |\n",
       "\n"
      ],
      "text/plain": [
       "  pid                               nvar shape1  shape2  dummy   sid       \n",
       "1 7:21516925:21521542:clu_100938_NA 7767 1.06107 1334.52 519.289 rs10276352\n",
       "2 7:21521300:21521542:clu_100938_NA 7774 1.04961 1358.03 521.742 rs10276352\n",
       "3 7:21516925:21521120:clu_100938_NA 7767 1.06005 1275.23 514.643 rs10276352\n",
       "  dist npval       slope     ppval      ... constitutive.score gene_type     \n",
       "1 4307 1.15436e-13  0.407386 0.00009999 ... 1                  protein_coding\n",
       "2  -68 3.36785e-08 -0.283003 0.00029997 ... 0                  protein_coding\n",
       "3 4307 3.13552e-08 -0.306670 0.00019998 ... 0                  protein_coding\n",
       "  chr start    end      clu           middle   snp_ID     snp_chr snp_pos\n",
       "1 7   21516925 21521542 clu_100938_NA 21519234 rs10276352         NA     \n",
       "2 7   21521300 21521542 clu_100938_NA 21521421 rs10276352         NA     \n",
       "3 7   21516925 21521120 clu_100938_NA 21519022 rs10276352         NA     "
      ]
     },
     "metadata": {},
     "output_type": "display_data"
    }
   ],
   "source": [
    "res"
   ]
  },
  {
   "cell_type": "code",
   "execution_count": 35,
   "id": "d10950d0",
   "metadata": {},
   "outputs": [],
   "source": [
    "res$snp_chr <- \"chr7\"\n",
    "res$snp_pos <- \"21521233\""
   ]
  },
  {
   "cell_type": "code",
   "execution_count": 36,
   "id": "a01d96bd",
   "metadata": {},
   "outputs": [],
   "source": [
    "junctionTable <- junctionTable %>%\n",
    "  left_join( res, by=c(\"start\", \"end\", \"chr\" = \"snp_chr\", \"snp_ID\" = \"sid\", \"clu\", \"middle\")) %>%\n",
    "  mutate(coord = paste0( chr, \":\", start, \"-\", end))"
   ]
  },
  {
   "cell_type": "code",
   "execution_count": 37,
   "id": "3644b5bf",
   "metadata": {},
   "outputs": [
    {
     "data": {
      "text/html": [
       "<table class=\"dataframe\">\n",
       "<caption>A data.frame: 3 x 34</caption>\n",
       "<thead>\n",
       "\t<tr><th scope=col>snp_ID</th><th scope=col>SNP_pos</th><th scope=col>gene.x</th><th scope=col>cluster_pos</th><th scope=col>q</th><th scope=col>clu</th><th scope=col>chr</th><th scope=col>start</th><th scope=col>end</th><th scope=col>middle</th><th scope=col>...</th><th scope=col>ensemblID</th><th scope=col>ensg</th><th scope=col>version</th><th scope=col>transcripts</th><th scope=col>constitutive.score</th><th scope=col>gene_type</th><th scope=col>chr.y</th><th scope=col>snp_ID.y</th><th scope=col>snp_pos</th><th scope=col>coord</th></tr>\n",
       "\t<tr><th scope=col>&lt;chr&gt;</th><th scope=col>&lt;chr&gt;</th><th scope=col>&lt;chr&gt;</th><th scope=col>&lt;chr&gt;</th><th scope=col>&lt;dbl&gt;</th><th scope=col>&lt;chr&gt;</th><th scope=col>&lt;chr&gt;</th><th scope=col>&lt;dbl&gt;</th><th scope=col>&lt;dbl&gt;</th><th scope=col>&lt;dbl&gt;</th><th scope=col>...</th><th scope=col>&lt;chr&gt;</th><th scope=col>&lt;chr&gt;</th><th scope=col>&lt;chr&gt;</th><th scope=col>&lt;chr&gt;</th><th scope=col>&lt;int&gt;</th><th scope=col>&lt;chr&gt;</th><th scope=col>&lt;chr&gt;</th><th scope=col>&lt;chr&gt;</th><th scope=col>&lt;chr&gt;</th><th scope=col>&lt;chr&gt;</th></tr>\n",
       "</thead>\n",
       "<tbody>\n",
       "\t<tr><td>rs10276352</td><td>7:21521233</td><td>SP4</td><td>7:21516925-21521542</td><td>1.4e-09</td><td>clu_100938_NA</td><td>chr7</td><td>21516925</td><td>21521120</td><td>21519022</td><td>...</td><td>ENSG00000105866.15_5</td><td>ENSG00000105866</td><td>15_5</td><td>.                                                          </td><td>0</td><td>protein_coding</td><td>7</td><td>rs10276352</td><td>21521233</td><td>chr7:21516925-21521120</td></tr>\n",
       "\t<tr><td>rs10276352</td><td>7:21521233</td><td>SP4</td><td>7:21516925-21521542</td><td>1.4e-09</td><td>clu_100938_NA</td><td>chr7</td><td>21516925</td><td>21521542</td><td>21519234</td><td>...</td><td>ENSG00000105866.15_5</td><td>ENSG00000105866</td><td>15_5</td><td>ENST00000222584.8_2+ENST00000448246.1_1+ENST00000649633.1_1</td><td>1</td><td>protein_coding</td><td>7</td><td>rs10276352</td><td>21521233</td><td>chr7:21516925-21521542</td></tr>\n",
       "\t<tr><td>rs10276352</td><td>7:21521233</td><td>SP4</td><td>7:21516925-21521542</td><td>1.4e-09</td><td>clu_100938_NA</td><td>chr7</td><td>21521300</td><td>21521542</td><td>21521421</td><td>...</td><td>ENSG00000105866.15_5</td><td>ENSG00000105866</td><td>15_5</td><td>.                                                          </td><td>0</td><td>protein_coding</td><td>7</td><td>rs10276352</td><td>21521233</td><td>chr7:21521300-21521542</td></tr>\n",
       "</tbody>\n",
       "</table>\n"
      ],
      "text/latex": [
       "A data.frame: 3 x 34\n",
       "\\begin{tabular}{lllllllllllllllllllll}\n",
       " snp\\_ID & SNP\\_pos & gene.x & cluster\\_pos & q & clu & chr & start & end & middle & ... & ensemblID & ensg & version & transcripts & constitutive.score & gene\\_type & chr.y & snp\\_ID.y & snp\\_pos & coord\\\\\n",
       " <chr> & <chr> & <chr> & <chr> & <dbl> & <chr> & <chr> & <dbl> & <dbl> & <dbl> & ... & <chr> & <chr> & <chr> & <chr> & <int> & <chr> & <chr> & <chr> & <chr> & <chr>\\\\\n",
       "\\hline\n",
       "\t rs10276352 & 7:21521233 & SP4 & 7:21516925-21521542 & 1.4e-09 & clu\\_100938\\_NA & chr7 & 21516925 & 21521120 & 21519022 & ... & ENSG00000105866.15\\_5 & ENSG00000105866 & 15\\_5 & .                                                           & 0 & protein\\_coding & 7 & rs10276352 & 21521233 & chr7:21516925-21521120\\\\\n",
       "\t rs10276352 & 7:21521233 & SP4 & 7:21516925-21521542 & 1.4e-09 & clu\\_100938\\_NA & chr7 & 21516925 & 21521542 & 21519234 & ... & ENSG00000105866.15\\_5 & ENSG00000105866 & 15\\_5 & ENST00000222584.8\\_2+ENST00000448246.1\\_1+ENST00000649633.1\\_1 & 1 & protein\\_coding & 7 & rs10276352 & 21521233 & chr7:21516925-21521542\\\\\n",
       "\t rs10276352 & 7:21521233 & SP4 & 7:21516925-21521542 & 1.4e-09 & clu\\_100938\\_NA & chr7 & 21521300 & 21521542 & 21521421 & ... & ENSG00000105866.15\\_5 & ENSG00000105866 & 15\\_5 & .                                                           & 0 & protein\\_coding & 7 & rs10276352 & 21521233 & chr7:21521300-21521542\\\\\n",
       "\\end{tabular}\n"
      ],
      "text/markdown": [
       "\n",
       "A data.frame: 3 x 34\n",
       "\n",
       "| snp_ID &lt;chr&gt; | SNP_pos &lt;chr&gt; | gene.x &lt;chr&gt; | cluster_pos &lt;chr&gt; | q &lt;dbl&gt; | clu &lt;chr&gt; | chr &lt;chr&gt; | start &lt;dbl&gt; | end &lt;dbl&gt; | middle &lt;dbl&gt; | ... ... | ensemblID &lt;chr&gt; | ensg &lt;chr&gt; | version &lt;chr&gt; | transcripts &lt;chr&gt; | constitutive.score &lt;int&gt; | gene_type &lt;chr&gt; | chr.y &lt;chr&gt; | snp_ID.y &lt;chr&gt; | snp_pos &lt;chr&gt; | coord &lt;chr&gt; |\n",
       "|---|---|---|---|---|---|---|---|---|---|---|---|---|---|---|---|---|---|---|---|---|\n",
       "| rs10276352 | 7:21521233 | SP4 | 7:21516925-21521542 | 1.4e-09 | clu_100938_NA | chr7 | 21516925 | 21521120 | 21519022 | ... | ENSG00000105866.15_5 | ENSG00000105866 | 15_5 | .                                                           | 0 | protein_coding | 7 | rs10276352 | 21521233 | chr7:21516925-21521120 |\n",
       "| rs10276352 | 7:21521233 | SP4 | 7:21516925-21521542 | 1.4e-09 | clu_100938_NA | chr7 | 21516925 | 21521542 | 21519234 | ... | ENSG00000105866.15_5 | ENSG00000105866 | 15_5 | ENST00000222584.8_2+ENST00000448246.1_1+ENST00000649633.1_1 | 1 | protein_coding | 7 | rs10276352 | 21521233 | chr7:21516925-21521542 |\n",
       "| rs10276352 | 7:21521233 | SP4 | 7:21516925-21521542 | 1.4e-09 | clu_100938_NA | chr7 | 21521300 | 21521542 | 21521421 | ... | ENSG00000105866.15_5 | ENSG00000105866 | 15_5 | .                                                           | 0 | protein_coding | 7 | rs10276352 | 21521233 | chr7:21521300-21521542 |\n",
       "\n"
      ],
      "text/plain": [
       "  snp_ID     SNP_pos    gene.x cluster_pos         q       clu           chr \n",
       "1 rs10276352 7:21521233 SP4    7:21516925-21521542 1.4e-09 clu_100938_NA chr7\n",
       "2 rs10276352 7:21521233 SP4    7:21516925-21521542 1.4e-09 clu_100938_NA chr7\n",
       "3 rs10276352 7:21521233 SP4    7:21516925-21521542 1.4e-09 clu_100938_NA chr7\n",
       "  start    end      middle   ... ensemblID            ensg            version\n",
       "1 21516925 21521120 21519022 ... ENSG00000105866.15_5 ENSG00000105866 15_5   \n",
       "2 21516925 21521542 21519234 ... ENSG00000105866.15_5 ENSG00000105866 15_5   \n",
       "3 21521300 21521542 21521421 ... ENSG00000105866.15_5 ENSG00000105866 15_5   \n",
       "  transcripts                                                \n",
       "1 .                                                          \n",
       "2 ENST00000222584.8_2+ENST00000448246.1_1+ENST00000649633.1_1\n",
       "3 .                                                          \n",
       "  constitutive.score gene_type      chr.y snp_ID.y   snp_pos \n",
       "1 0                  protein_coding 7     rs10276352 21521233\n",
       "2 1                  protein_coding 7     rs10276352 21521233\n",
       "3 0                  protein_coding 7     rs10276352 21521233\n",
       "  coord                 \n",
       "1 chr7:21516925-21521120\n",
       "2 chr7:21516925-21521542\n",
       "3 chr7:21521300-21521542"
      ]
     },
     "metadata": {},
     "output_type": "display_data"
    }
   ],
   "source": [
    "junctionTable"
   ]
  },
  {
   "cell_type": "code",
   "execution_count": 100,
   "id": "7afe4549",
   "metadata": {},
   "outputs": [
    {
     "data": {
      "text/html": [
       "<style>\n",
       ".list-inline {list-style: none; margin:0; padding: 0}\n",
       ".list-inline>li {display: inline-block}\n",
       ".list-inline>li:not(:last-child)::after {content: \"\\00b7\"; padding: 0 .5ex}\n",
       "</style>\n",
       "<ol class=list-inline><li>'snp_ID'</li><li>'SNP_pos'</li><li>'gene.x'</li><li>'cluster_pos'</li><li>'q'</li><li>'clu'</li><li>'chr'</li><li>'start'</li><li>'end'</li><li>'middle'</li><li>'pid'</li><li>'nvar'</li><li>'shape1'</li><li>'shape2'</li><li>'dummy'</li><li>'dist'</li><li>'npval'</li><li>'slope'</li><li>'ppval'</li><li>'bpval'</li><li>'qval'</li><li>'pval_nominal_threshold'</li><li>'verdict'</li><li>'gene.y'</li><li>'ensemblID'</li><li>'ensg'</li><li>'version'</li><li>'transcripts'</li><li>'constitutive.score'</li><li>'gene_type'</li><li>'chr.y'</li><li>'snp_ID.y'</li><li>'snp_pos'</li><li>'coord'</li></ol>\n"
      ],
      "text/latex": [
       "\\begin{enumerate*}\n",
       "\\item 'snp\\_ID'\n",
       "\\item 'SNP\\_pos'\n",
       "\\item 'gene.x'\n",
       "\\item 'cluster\\_pos'\n",
       "\\item 'q'\n",
       "\\item 'clu'\n",
       "\\item 'chr'\n",
       "\\item 'start'\n",
       "\\item 'end'\n",
       "\\item 'middle'\n",
       "\\item 'pid'\n",
       "\\item 'nvar'\n",
       "\\item 'shape1'\n",
       "\\item 'shape2'\n",
       "\\item 'dummy'\n",
       "\\item 'dist'\n",
       "\\item 'npval'\n",
       "\\item 'slope'\n",
       "\\item 'ppval'\n",
       "\\item 'bpval'\n",
       "\\item 'qval'\n",
       "\\item 'pval\\_nominal\\_threshold'\n",
       "\\item 'verdict'\n",
       "\\item 'gene.y'\n",
       "\\item 'ensemblID'\n",
       "\\item 'ensg'\n",
       "\\item 'version'\n",
       "\\item 'transcripts'\n",
       "\\item 'constitutive.score'\n",
       "\\item 'gene\\_type'\n",
       "\\item 'chr.y'\n",
       "\\item 'snp\\_ID.y'\n",
       "\\item 'snp\\_pos'\n",
       "\\item 'coord'\n",
       "\\end{enumerate*}\n"
      ],
      "text/markdown": [
       "1. 'snp_ID'\n",
       "2. 'SNP_pos'\n",
       "3. 'gene.x'\n",
       "4. 'cluster_pos'\n",
       "5. 'q'\n",
       "6. 'clu'\n",
       "7. 'chr'\n",
       "8. 'start'\n",
       "9. 'end'\n",
       "10. 'middle'\n",
       "11. 'pid'\n",
       "12. 'nvar'\n",
       "13. 'shape1'\n",
       "14. 'shape2'\n",
       "15. 'dummy'\n",
       "16. 'dist'\n",
       "17. 'npval'\n",
       "18. 'slope'\n",
       "19. 'ppval'\n",
       "20. 'bpval'\n",
       "21. 'qval'\n",
       "22. 'pval_nominal_threshold'\n",
       "23. 'verdict'\n",
       "24. 'gene.y'\n",
       "25. 'ensemblID'\n",
       "26. 'ensg'\n",
       "27. 'version'\n",
       "28. 'transcripts'\n",
       "29. 'constitutive.score'\n",
       "30. 'gene_type'\n",
       "31. 'chr.y'\n",
       "32. 'snp_ID.y'\n",
       "33. 'snp_pos'\n",
       "34. 'coord'\n",
       "\n",
       "\n"
      ],
      "text/plain": [
       " [1] \"snp_ID\"                 \"SNP_pos\"                \"gene.x\"                \n",
       " [4] \"cluster_pos\"            \"q\"                      \"clu\"                   \n",
       " [7] \"chr\"                    \"start\"                  \"end\"                   \n",
       "[10] \"middle\"                 \"pid\"                    \"nvar\"                  \n",
       "[13] \"shape1\"                 \"shape2\"                 \"dummy\"                 \n",
       "[16] \"dist\"                   \"npval\"                  \"slope\"                 \n",
       "[19] \"ppval\"                  \"bpval\"                  \"qval\"                  \n",
       "[22] \"pval_nominal_threshold\" \"verdict\"                \"gene.y\"                \n",
       "[25] \"ensemblID\"              \"ensg\"                   \"version\"               \n",
       "[28] \"transcripts\"            \"constitutive.score\"     \"gene_type\"             \n",
       "[31] \"chr.y\"                  \"snp_ID.y\"               \"snp_pos\"               \n",
       "[34] \"coord\"                 "
      ]
     },
     "metadata": {},
     "output_type": "display_data"
    }
   ],
   "source": [
    "colnames(junctionTable)"
   ]
  },
  {
   "cell_type": "markdown",
   "id": "0ef4fa44",
   "metadata": {},
   "source": [
    "**TODO Make sure \"Beta\" is slope, \"q\" is \"FDR\" is bpval**"
   ]
  },
  {
   "cell_type": "code",
   "execution_count": 38,
   "id": "a49272c1",
   "metadata": {},
   "outputs": [],
   "source": [
    "junctionTable <- junctionTable %>% select(clu, coord, verdict, Beta = slope, q = bpval) %>%\n",
    "  mutate( Beta = signif(Beta, digits = 3),\n",
    "          q = signif(q, digits = 3)) %>%\n",
    "  mutate( Beta = ifelse(is.na(Beta), \".\", Beta),\n",
    "          q = ifelse(is.na(q), \".\", q))"
   ]
  },
  {
   "cell_type": "code",
   "execution_count": 39,
   "id": "9b17eb92",
   "metadata": {},
   "outputs": [
    {
     "data": {
      "text/html": [
       "<table class=\"dataframe\">\n",
       "<caption>A data.frame: 3 x 5</caption>\n",
       "<thead>\n",
       "\t<tr><th scope=col>clu</th><th scope=col>coord</th><th scope=col>verdict</th><th scope=col>Beta</th><th scope=col>q</th></tr>\n",
       "\t<tr><th scope=col>&lt;chr&gt;</th><th scope=col>&lt;chr&gt;</th><th scope=col>&lt;chr&gt;</th><th scope=col>&lt;dbl&gt;</th><th scope=col>&lt;dbl&gt;</th></tr>\n",
       "</thead>\n",
       "<tbody>\n",
       "\t<tr><td>clu_100938_NA</td><td>chr7:21516925-21521120</td><td>cryptic_threeprime</td><td>-0.307</td><td>1.85e-04</td></tr>\n",
       "\t<tr><td>clu_100938_NA</td><td>chr7:21516925-21521542</td><td>annotated         </td><td> 0.407</td><td>1.40e-09</td></tr>\n",
       "\t<tr><td>clu_100938_NA</td><td>chr7:21521300-21521542</td><td>cryptic_fiveprime </td><td>-0.283</td><td>1.89e-04</td></tr>\n",
       "</tbody>\n",
       "</table>\n"
      ],
      "text/latex": [
       "A data.frame: 3 x 5\n",
       "\\begin{tabular}{lllll}\n",
       " clu & coord & verdict & Beta & q\\\\\n",
       " <chr> & <chr> & <chr> & <dbl> & <dbl>\\\\\n",
       "\\hline\n",
       "\t clu\\_100938\\_NA & chr7:21516925-21521120 & cryptic\\_threeprime & -0.307 & 1.85e-04\\\\\n",
       "\t clu\\_100938\\_NA & chr7:21516925-21521542 & annotated          &  0.407 & 1.40e-09\\\\\n",
       "\t clu\\_100938\\_NA & chr7:21521300-21521542 & cryptic\\_fiveprime  & -0.283 & 1.89e-04\\\\\n",
       "\\end{tabular}\n"
      ],
      "text/markdown": [
       "\n",
       "A data.frame: 3 x 5\n",
       "\n",
       "| clu &lt;chr&gt; | coord &lt;chr&gt; | verdict &lt;chr&gt; | Beta &lt;dbl&gt; | q &lt;dbl&gt; |\n",
       "|---|---|---|---|---|\n",
       "| clu_100938_NA | chr7:21516925-21521120 | cryptic_threeprime | -0.307 | 1.85e-04 |\n",
       "| clu_100938_NA | chr7:21516925-21521542 | annotated          |  0.407 | 1.40e-09 |\n",
       "| clu_100938_NA | chr7:21521300-21521542 | cryptic_fiveprime  | -0.283 | 1.89e-04 |\n",
       "\n"
      ],
      "text/plain": [
       "  clu           coord                  verdict            Beta   q       \n",
       "1 clu_100938_NA chr7:21516925-21521120 cryptic_threeprime -0.307 1.85e-04\n",
       "2 clu_100938_NA chr7:21516925-21521542 annotated           0.407 1.40e-09\n",
       "3 clu_100938_NA chr7:21521300-21521542 cryptic_fiveprime  -0.283 1.89e-04"
      ]
     },
     "metadata": {},
     "output_type": "display_data"
    }
   ],
   "source": [
    "junctionTable"
   ]
  },
  {
   "cell_type": "code",
   "execution_count": 103,
   "id": "8d696ded",
   "metadata": {},
   "outputs": [
    {
     "data": {
      "text/html": [
       "<table class=\"dataframe\">\n",
       "<caption>A data.frame: 3 x 10</caption>\n",
       "<thead>\n",
       "\t<tr><th scope=col>chr</th><th scope=col>start</th><th scope=col>end</th><th scope=col>clu</th><th scope=col>middle</th><th scope=col>pid</th><th scope=col>bpval</th><th scope=col>snp_ID</th><th scope=col>snp_chr</th><th scope=col>snp_pos</th></tr>\n",
       "\t<tr><th scope=col>&lt;chr&gt;</th><th scope=col>&lt;dbl&gt;</th><th scope=col>&lt;dbl&gt;</th><th scope=col>&lt;chr&gt;</th><th scope=col>&lt;dbl&gt;</th><th scope=col>&lt;chr&gt;</th><th scope=col>&lt;dbl&gt;</th><th scope=col>&lt;chr&gt;</th><th scope=col>&lt;chr&gt;</th><th scope=col>&lt;chr&gt;</th></tr>\n",
       "</thead>\n",
       "<tbody>\n",
       "\t<tr><td>7</td><td>21516925</td><td>21521542</td><td>clu_100938_NA</td><td>21519234</td><td>7:21516925:21521542:clu_100938_NA</td><td>1.40225e-09</td><td>rs10276352</td><td>7</td><td>21521233</td></tr>\n",
       "\t<tr><td>7</td><td>21521300</td><td>21521542</td><td>clu_100938_NA</td><td>21521421</td><td>7:21521300:21521542:clu_100938_NA</td><td>1.89265e-04</td><td>rs10276352</td><td>7</td><td>21521233</td></tr>\n",
       "\t<tr><td>7</td><td>21516925</td><td>21521120</td><td>clu_100938_NA</td><td>21519022</td><td>7:21516925:21521120:clu_100938_NA</td><td>1.85196e-04</td><td>rs10276352</td><td>7</td><td>21521233</td></tr>\n",
       "</tbody>\n",
       "</table>\n"
      ],
      "text/latex": [
       "A data.frame: 3 x 10\n",
       "\\begin{tabular}{llllllllll}\n",
       " chr & start & end & clu & middle & pid & bpval & snp\\_ID & snp\\_chr & snp\\_pos\\\\\n",
       " <chr> & <dbl> & <dbl> & <chr> & <dbl> & <chr> & <dbl> & <chr> & <chr> & <chr>\\\\\n",
       "\\hline\n",
       "\t 7 & 21516925 & 21521542 & clu\\_100938\\_NA & 21519234 & 7:21516925:21521542:clu\\_100938\\_NA & 1.40225e-09 & rs10276352 & 7 & 21521233\\\\\n",
       "\t 7 & 21521300 & 21521542 & clu\\_100938\\_NA & 21521421 & 7:21521300:21521542:clu\\_100938\\_NA & 1.89265e-04 & rs10276352 & 7 & 21521233\\\\\n",
       "\t 7 & 21516925 & 21521120 & clu\\_100938\\_NA & 21519022 & 7:21516925:21521120:clu\\_100938\\_NA & 1.85196e-04 & rs10276352 & 7 & 21521233\\\\\n",
       "\\end{tabular}\n"
      ],
      "text/markdown": [
       "\n",
       "A data.frame: 3 x 10\n",
       "\n",
       "| chr &lt;chr&gt; | start &lt;dbl&gt; | end &lt;dbl&gt; | clu &lt;chr&gt; | middle &lt;dbl&gt; | pid &lt;chr&gt; | bpval &lt;dbl&gt; | snp_ID &lt;chr&gt; | snp_chr &lt;chr&gt; | snp_pos &lt;chr&gt; |\n",
       "|---|---|---|---|---|---|---|---|---|---|\n",
       "| 7 | 21516925 | 21521542 | clu_100938_NA | 21519234 | 7:21516925:21521542:clu_100938_NA | 1.40225e-09 | rs10276352 | 7 | 21521233 |\n",
       "| 7 | 21521300 | 21521542 | clu_100938_NA | 21521421 | 7:21521300:21521542:clu_100938_NA | 1.89265e-04 | rs10276352 | 7 | 21521233 |\n",
       "| 7 | 21516925 | 21521120 | clu_100938_NA | 21519022 | 7:21516925:21521120:clu_100938_NA | 1.85196e-04 | rs10276352 | 7 | 21521233 |\n",
       "\n"
      ],
      "text/plain": [
       "  chr start    end      clu           middle  \n",
       "1 7   21516925 21521542 clu_100938_NA 21519234\n",
       "2 7   21521300 21521542 clu_100938_NA 21521421\n",
       "3 7   21516925 21521120 clu_100938_NA 21519022\n",
       "  pid                               bpval       snp_ID     snp_chr snp_pos \n",
       "1 7:21516925:21521542:clu_100938_NA 1.40225e-09 rs10276352 7       21521233\n",
       "2 7:21521300:21521542:clu_100938_NA 1.89265e-04 rs10276352 7       21521233\n",
       "3 7:21516925:21521120:clu_100938_NA 1.85196e-04 rs10276352 7       21521233"
      ]
     },
     "metadata": {},
     "output_type": "display_data"
    }
   ],
   "source": [
    "sigJunctions"
   ]
  },
  {
   "cell_type": "code",
   "execution_count": 107,
   "id": "a8c4b39e",
   "metadata": {},
   "outputs": [
    {
     "data": {
      "text/html": [
       "<table class=\"dataframe\">\n",
       "<caption>A data.frame: 3 x 5</caption>\n",
       "<thead>\n",
       "\t<tr><th scope=col>chr</th><th scope=col>start</th><th scope=col>end</th><th scope=col>clu</th><th scope=col>middle</th></tr>\n",
       "\t<tr><th scope=col>&lt;chr&gt;</th><th scope=col>&lt;dbl&gt;</th><th scope=col>&lt;dbl&gt;</th><th scope=col>&lt;chr&gt;</th><th scope=col>&lt;dbl&gt;</th></tr>\n",
       "</thead>\n",
       "<tbody>\n",
       "\t<tr><td>chr7</td><td>21516925</td><td>21521120</td><td>clu_100938_NA</td><td>21519022</td></tr>\n",
       "\t<tr><td>chr7</td><td>21516925</td><td>21521542</td><td>clu_100938_NA</td><td>21519234</td></tr>\n",
       "\t<tr><td>chr7</td><td>21521300</td><td>21521542</td><td>clu_100938_NA</td><td>21521421</td></tr>\n",
       "</tbody>\n",
       "</table>\n"
      ],
      "text/latex": [
       "A data.frame: 3 x 5\n",
       "\\begin{tabular}{lllll}\n",
       " chr & start & end & clu & middle\\\\\n",
       " <chr> & <dbl> & <dbl> & <chr> & <dbl>\\\\\n",
       "\\hline\n",
       "\t chr7 & 21516925 & 21521120 & clu\\_100938\\_NA & 21519022\\\\\n",
       "\t chr7 & 21516925 & 21521542 & clu\\_100938\\_NA & 21519234\\\\\n",
       "\t chr7 & 21521300 & 21521542 & clu\\_100938\\_NA & 21521421\\\\\n",
       "\\end{tabular}\n"
      ],
      "text/markdown": [
       "\n",
       "A data.frame: 3 x 5\n",
       "\n",
       "| chr &lt;chr&gt; | start &lt;dbl&gt; | end &lt;dbl&gt; | clu &lt;chr&gt; | middle &lt;dbl&gt; |\n",
       "|---|---|---|---|---|\n",
       "| chr7 | 21516925 | 21521120 | clu_100938_NA | 21519022 |\n",
       "| chr7 | 21516925 | 21521542 | clu_100938_NA | 21519234 |\n",
       "| chr7 | 21521300 | 21521542 | clu_100938_NA | 21521421 |\n",
       "\n"
      ],
      "text/plain": [
       "  chr  start    end      clu           middle  \n",
       "1 chr7 21516925 21521120 clu_100938_NA 21519022\n",
       "2 chr7 21516925 21521542 clu_100938_NA 21519234\n",
       "3 chr7 21521300 21521542 clu_100938_NA 21521421"
      ]
     },
     "metadata": {},
     "output_type": "display_data"
    }
   ],
   "source": [
    "exons_table"
   ]
  },
  {
   "cell_type": "code",
   "execution_count": 109,
   "id": "6c020e0c",
   "metadata": {},
   "outputs": [],
   "source": [
    "annotation_code <- \"/u/project/gandalm/cindywen/isoform_twas/sqtl_new/leafviz_annot/gencode_v33lift37\""
   ]
  },
  {
   "cell_type": "code",
   "execution_count": 110,
   "id": "b4487e00",
   "metadata": {},
   "outputs": [],
   "source": [
    "exon_file <- paste0(annotation_code, \"_all_exons.txt.gz\")\n",
    "all_introns <- paste0(annotation_code,\"_all_introns.bed.gz\" )\n",
    "threeprime_file <- paste0( annotation_code,\"_threeprime.bed.gz\")\n",
    "fiveprime_file <- paste0( annotation_code,\"_fiveprime.bed.gz\")"
   ]
  },
  {
   "cell_type": "code",
   "execution_count": 111,
   "id": "76274669",
   "metadata": {},
   "outputs": [
    {
     "name": "stdout",
     "output_type": "stream",
     "text": [
      "Loading exons from /u/project/gandalm/cindywen/isoform_twas/sqtl_new/leafviz_annot/gencode_v33lift37_all_exons.txt.gz \n"
     ]
    }
   ],
   "source": [
    "exons_table <- if (!is.null( exon_file )) {\n",
    "  cat(\"Loading exons from\",exon_file,\"\\n\")\n",
    "  as.data.frame(fread(cmd = paste(\"zless\",exon_file)) )\n",
    "} else {\n",
    "  cat(\"No exon_file provided.\\n\")\n",
    "  NULL\n",
    "}"
   ]
  },
  {
   "cell_type": "code",
   "execution_count": 113,
   "id": "56ec82a6",
   "metadata": {},
   "outputs": [
    {
     "data": {
      "text/html": [
       "<table class=\"dataframe\">\n",
       "<caption>A data.frame: 6 x 6</caption>\n",
       "<thead>\n",
       "\t<tr><th></th><th scope=col>ID</th><th scope=col>verdict</th><th scope=col>gene</th><th scope=col>ensemblID</th><th scope=col>transcripts</th><th scope=col>constitutive.score</th></tr>\n",
       "\t<tr><th></th><th scope=col>&lt;chr&gt;</th><th scope=col>&lt;chr&gt;</th><th scope=col>&lt;chr&gt;</th><th scope=col>&lt;chr&gt;</th><th scope=col>&lt;chr&gt;</th><th scope=col>&lt;dbl&gt;</th></tr>\n",
       "</thead>\n",
       "<tbody>\n",
       "\t<tr><th scope=row>1</th><td>1:14829:14930:clu_7637_NA</td><td>cryptic_unanchored</td><td>WASH7P</td><td>ENSG00000227232.5_3</td><td>NA                 </td><td>0.5</td></tr>\n",
       "\t<tr><th scope=row>2</th><td>1:14829:14970:clu_7637_NA</td><td>cryptic_unanchored</td><td>WASH7P</td><td>ENSG00000227232.5_3</td><td>NA                 </td><td>0.5</td></tr>\n",
       "\t<tr><th scope=row>3</th><td>1:14829:15021:clu_7637_NA</td><td>cryptic_unanchored</td><td>WASH7P</td><td>ENSG00000227232.5_3</td><td>NA                 </td><td>0.5</td></tr>\n",
       "\t<tr><th scope=row>4</th><td>1:14829:15796:clu_7637_NA</td><td>cryptic_threeprime</td><td>WASH7P</td><td>ENSG00000227232.5_3</td><td>.                  </td><td>0.0</td></tr>\n",
       "\t<tr><th scope=row>5</th><td>1:15038:15796:clu_7637_NA</td><td>annotated         </td><td>WASH7P</td><td>ENSG00000227232.5_3</td><td>ENST00000488147.1_2</td><td>0.5</td></tr>\n",
       "\t<tr><th scope=row>6</th><td>1:15942:16607:clu_7638_NA</td><td>cryptic_threeprime</td><td>WASH7P</td><td>ENSG00000227232.5_3</td><td>.                  </td><td>0.0</td></tr>\n",
       "</tbody>\n",
       "</table>\n"
      ],
      "text/latex": [
       "A data.frame: 6 x 6\n",
       "\\begin{tabular}{r|llllll}\n",
       "  & ID & verdict & gene & ensemblID & transcripts & constitutive.score\\\\\n",
       "  & <chr> & <chr> & <chr> & <chr> & <chr> & <dbl>\\\\\n",
       "\\hline\n",
       "\t1 & 1:14829:14930:clu\\_7637\\_NA & cryptic\\_unanchored & WASH7P & ENSG00000227232.5\\_3 & NA                  & 0.5\\\\\n",
       "\t2 & 1:14829:14970:clu\\_7637\\_NA & cryptic\\_unanchored & WASH7P & ENSG00000227232.5\\_3 & NA                  & 0.5\\\\\n",
       "\t3 & 1:14829:15021:clu\\_7637\\_NA & cryptic\\_unanchored & WASH7P & ENSG00000227232.5\\_3 & NA                  & 0.5\\\\\n",
       "\t4 & 1:14829:15796:clu\\_7637\\_NA & cryptic\\_threeprime & WASH7P & ENSG00000227232.5\\_3 & .                   & 0.0\\\\\n",
       "\t5 & 1:15038:15796:clu\\_7637\\_NA & annotated          & WASH7P & ENSG00000227232.5\\_3 & ENST00000488147.1\\_2 & 0.5\\\\\n",
       "\t6 & 1:15942:16607:clu\\_7638\\_NA & cryptic\\_threeprime & WASH7P & ENSG00000227232.5\\_3 & .                   & 0.0\\\\\n",
       "\\end{tabular}\n"
      ],
      "text/markdown": [
       "\n",
       "A data.frame: 6 x 6\n",
       "\n",
       "| <!--/--> | ID &lt;chr&gt; | verdict &lt;chr&gt; | gene &lt;chr&gt; | ensemblID &lt;chr&gt; | transcripts &lt;chr&gt; | constitutive.score &lt;dbl&gt; |\n",
       "|---|---|---|---|---|---|---|\n",
       "| 1 | 1:14829:14930:clu_7637_NA | cryptic_unanchored | WASH7P | ENSG00000227232.5_3 | NA                  | 0.5 |\n",
       "| 2 | 1:14829:14970:clu_7637_NA | cryptic_unanchored | WASH7P | ENSG00000227232.5_3 | NA                  | 0.5 |\n",
       "| 3 | 1:14829:15021:clu_7637_NA | cryptic_unanchored | WASH7P | ENSG00000227232.5_3 | NA                  | 0.5 |\n",
       "| 4 | 1:14829:15796:clu_7637_NA | cryptic_threeprime | WASH7P | ENSG00000227232.5_3 | .                   | 0.0 |\n",
       "| 5 | 1:15038:15796:clu_7637_NA | annotated          | WASH7P | ENSG00000227232.5_3 | ENST00000488147.1_2 | 0.5 |\n",
       "| 6 | 1:15942:16607:clu_7638_NA | cryptic_threeprime | WASH7P | ENSG00000227232.5_3 | .                   | 0.0 |\n",
       "\n"
      ],
      "text/plain": [
       "  ID                        verdict            gene   ensemblID          \n",
       "1 1:14829:14930:clu_7637_NA cryptic_unanchored WASH7P ENSG00000227232.5_3\n",
       "2 1:14829:14970:clu_7637_NA cryptic_unanchored WASH7P ENSG00000227232.5_3\n",
       "3 1:14829:15021:clu_7637_NA cryptic_unanchored WASH7P ENSG00000227232.5_3\n",
       "4 1:14829:15796:clu_7637_NA cryptic_threeprime WASH7P ENSG00000227232.5_3\n",
       "5 1:15038:15796:clu_7637_NA annotated          WASH7P ENSG00000227232.5_3\n",
       "6 1:15942:16607:clu_7638_NA cryptic_threeprime WASH7P ENSG00000227232.5_3\n",
       "  transcripts         constitutive.score\n",
       "1 NA                  0.5               \n",
       "2 NA                  0.5               \n",
       "3 NA                  0.5               \n",
       "4 .                   0.0               \n",
       "5 ENST00000488147.1_2 0.5               \n",
       "6 .                   0.0               "
      ]
     },
     "metadata": {},
     "output_type": "display_data"
    }
   ],
   "source": [
    "load(\"/u/project/gandalm/cindywen/isoform_twas/sqtl_new/leafviz_annot/all.introns.tested.RData\")\n",
    "head(pheno)"
   ]
  },
  {
   "cell_type": "code",
   "execution_count": 119,
   "id": "b0eda86e",
   "metadata": {},
   "outputs": [],
   "source": [
    "annotatedClusters <- pheno %>% filter(ID %in% junctionsNeeded)"
   ]
  },
  {
   "cell_type": "code",
   "execution_count": 120,
   "id": "7e1b3555",
   "metadata": {},
   "outputs": [
    {
     "data": {
      "text/html": [
       "<table class=\"dataframe\">\n",
       "<caption>A data.frame: 3 x 6</caption>\n",
       "<thead>\n",
       "\t<tr><th scope=col>ID</th><th scope=col>verdict</th><th scope=col>gene</th><th scope=col>ensemblID</th><th scope=col>transcripts</th><th scope=col>constitutive.score</th></tr>\n",
       "\t<tr><th scope=col>&lt;chr&gt;</th><th scope=col>&lt;chr&gt;</th><th scope=col>&lt;chr&gt;</th><th scope=col>&lt;chr&gt;</th><th scope=col>&lt;chr&gt;</th><th scope=col>&lt;dbl&gt;</th></tr>\n",
       "</thead>\n",
       "<tbody>\n",
       "\t<tr><td>7:21516925:21521120:clu_100938_NA</td><td>cryptic_threeprime</td><td>SP4</td><td>ENSG00000105866.15_5</td><td>.                                                          </td><td>0</td></tr>\n",
       "\t<tr><td>7:21516925:21521542:clu_100938_NA</td><td>annotated         </td><td>SP4</td><td>ENSG00000105866.15_5</td><td>ENST00000222584.8_2+ENST00000448246.1_1+ENST00000649633.1_1</td><td>1</td></tr>\n",
       "\t<tr><td>7:21521300:21521542:clu_100938_NA</td><td>cryptic_fiveprime </td><td>SP4</td><td>ENSG00000105866.15_5</td><td>.                                                          </td><td>0</td></tr>\n",
       "</tbody>\n",
       "</table>\n"
      ],
      "text/latex": [
       "A data.frame: 3 x 6\n",
       "\\begin{tabular}{llllll}\n",
       " ID & verdict & gene & ensemblID & transcripts & constitutive.score\\\\\n",
       " <chr> & <chr> & <chr> & <chr> & <chr> & <dbl>\\\\\n",
       "\\hline\n",
       "\t 7:21516925:21521120:clu\\_100938\\_NA & cryptic\\_threeprime & SP4 & ENSG00000105866.15\\_5 & .                                                           & 0\\\\\n",
       "\t 7:21516925:21521542:clu\\_100938\\_NA & annotated          & SP4 & ENSG00000105866.15\\_5 & ENST00000222584.8\\_2+ENST00000448246.1\\_1+ENST00000649633.1\\_1 & 1\\\\\n",
       "\t 7:21521300:21521542:clu\\_100938\\_NA & cryptic\\_fiveprime  & SP4 & ENSG00000105866.15\\_5 & .                                                           & 0\\\\\n",
       "\\end{tabular}\n"
      ],
      "text/markdown": [
       "\n",
       "A data.frame: 3 x 6\n",
       "\n",
       "| ID &lt;chr&gt; | verdict &lt;chr&gt; | gene &lt;chr&gt; | ensemblID &lt;chr&gt; | transcripts &lt;chr&gt; | constitutive.score &lt;dbl&gt; |\n",
       "|---|---|---|---|---|---|\n",
       "| 7:21516925:21521120:clu_100938_NA | cryptic_threeprime | SP4 | ENSG00000105866.15_5 | .                                                           | 0 |\n",
       "| 7:21516925:21521542:clu_100938_NA | annotated          | SP4 | ENSG00000105866.15_5 | ENST00000222584.8_2+ENST00000448246.1_1+ENST00000649633.1_1 | 1 |\n",
       "| 7:21521300:21521542:clu_100938_NA | cryptic_fiveprime  | SP4 | ENSG00000105866.15_5 | .                                                           | 0 |\n",
       "\n"
      ],
      "text/plain": [
       "  ID                                verdict            gene\n",
       "1 7:21516925:21521120:clu_100938_NA cryptic_threeprime SP4 \n",
       "2 7:21516925:21521542:clu_100938_NA annotated          SP4 \n",
       "3 7:21521300:21521542:clu_100938_NA cryptic_fiveprime  SP4 \n",
       "  ensemblID           \n",
       "1 ENSG00000105866.15_5\n",
       "2 ENSG00000105866.15_5\n",
       "3 ENSG00000105866.15_5\n",
       "  transcripts                                                \n",
       "1 .                                                          \n",
       "2 ENST00000222584.8_2+ENST00000448246.1_1+ENST00000649633.1_1\n",
       "3 .                                                          \n",
       "  constitutive.score\n",
       "1 0                 \n",
       "2 1                 \n",
       "3 0                 "
      ]
     },
     "metadata": {},
     "output_type": "display_data"
    }
   ],
   "source": [
    "annotatedClusters"
   ]
  },
  {
   "cell_type": "code",
   "execution_count": 133,
   "id": "5e175681",
   "metadata": {},
   "outputs": [],
   "source": [
    "annotatedClusters$clusterID <- \"clu_100938_NA\"\n",
    "annotatedClusters$coord <- c(\"7:21516925-21521120\", \"7:21516925-21521542\", \"7:21521300-21521542\")"
   ]
  },
  {
   "cell_type": "code",
   "execution_count": 134,
   "id": "7d2b2bab",
   "metadata": {},
   "outputs": [
    {
     "data": {
      "text/html": [
       "<table class=\"dataframe\">\n",
       "<caption>A data.frame: 3 x 5</caption>\n",
       "<thead>\n",
       "\t<tr><th scope=col>clusterID</th><th scope=col>coord</th><th scope=col>gene</th><th scope=col>ensemblID</th><th scope=col>verdict</th></tr>\n",
       "\t<tr><th scope=col>&lt;chr&gt;</th><th scope=col>&lt;chr&gt;</th><th scope=col>&lt;chr&gt;</th><th scope=col>&lt;chr&gt;</th><th scope=col>&lt;chr&gt;</th></tr>\n",
       "</thead>\n",
       "<tbody>\n",
       "\t<tr><td>clu_100938_NA</td><td>7:21516925-21521120</td><td>SP4</td><td>ENSG00000105866.15_5</td><td>cryptic_threeprime</td></tr>\n",
       "\t<tr><td>clu_100938_NA</td><td>7:21516925-21521542</td><td>SP4</td><td>ENSG00000105866.15_5</td><td>annotated         </td></tr>\n",
       "\t<tr><td>clu_100938_NA</td><td>7:21521300-21521542</td><td>SP4</td><td>ENSG00000105866.15_5</td><td>cryptic_fiveprime </td></tr>\n",
       "</tbody>\n",
       "</table>\n"
      ],
      "text/latex": [
       "A data.frame: 3 x 5\n",
       "\\begin{tabular}{lllll}\n",
       " clusterID & coord & gene & ensemblID & verdict\\\\\n",
       " <chr> & <chr> & <chr> & <chr> & <chr>\\\\\n",
       "\\hline\n",
       "\t clu\\_100938\\_NA & 7:21516925-21521120 & SP4 & ENSG00000105866.15\\_5 & cryptic\\_threeprime\\\\\n",
       "\t clu\\_100938\\_NA & 7:21516925-21521542 & SP4 & ENSG00000105866.15\\_5 & annotated         \\\\\n",
       "\t clu\\_100938\\_NA & 7:21521300-21521542 & SP4 & ENSG00000105866.15\\_5 & cryptic\\_fiveprime \\\\\n",
       "\\end{tabular}\n"
      ],
      "text/markdown": [
       "\n",
       "A data.frame: 3 x 5\n",
       "\n",
       "| clusterID &lt;chr&gt; | coord &lt;chr&gt; | gene &lt;chr&gt; | ensemblID &lt;chr&gt; | verdict &lt;chr&gt; |\n",
       "|---|---|---|---|---|\n",
       "| clu_100938_NA | 7:21516925-21521120 | SP4 | ENSG00000105866.15_5 | cryptic_threeprime |\n",
       "| clu_100938_NA | 7:21516925-21521542 | SP4 | ENSG00000105866.15_5 | annotated          |\n",
       "| clu_100938_NA | 7:21521300-21521542 | SP4 | ENSG00000105866.15_5 | cryptic_fiveprime  |\n",
       "\n"
      ],
      "text/plain": [
       "  clusterID     coord               gene ensemblID           \n",
       "1 clu_100938_NA 7:21516925-21521120 SP4  ENSG00000105866.15_5\n",
       "2 clu_100938_NA 7:21516925-21521542 SP4  ENSG00000105866.15_5\n",
       "3 clu_100938_NA 7:21521300-21521542 SP4  ENSG00000105866.15_5\n",
       "  verdict           \n",
       "1 cryptic_threeprime\n",
       "2 annotated         \n",
       "3 cryptic_fiveprime "
      ]
     },
     "metadata": {},
     "output_type": "display_data"
    }
   ],
   "source": [
    "annotatedClusters <- annotatedClusters %>% select(clusterID, coord, gene, ensemblID, verdict)\n",
    "annotatedClusters"
   ]
  },
  {
   "cell_type": "code",
   "execution_count": 112,
   "id": "8d0602d7",
   "metadata": {},
   "outputs": [],
   "source": [
    "code <- \"colocalization\""
   ]
  },
  {
   "cell_type": "code",
   "execution_count": 137,
   "id": "d5809486",
   "metadata": {},
   "outputs": [
    {
     "data": {
      "text/html": [
       "<table class=\"dataframe\">\n",
       "<caption>A data.frame: 1 x 5</caption>\n",
       "<thead>\n",
       "\t<tr><th></th><th scope=col>SNP</th><th scope=col>SNP_pos</th><th scope=col>gene</th><th scope=col>cluster_pos</th><th scope=col>q</th></tr>\n",
       "\t<tr><th></th><th scope=col>&lt;chr&gt;</th><th scope=col>&lt;chr&gt;</th><th scope=col>&lt;chr&gt;</th><th scope=col>&lt;chr&gt;</th><th scope=col>&lt;dbl&gt;</th></tr>\n",
       "</thead>\n",
       "<tbody>\n",
       "\t<tr><th scope=row>clu_100938_NA</th><td>rs10276352</td><td>7:21521233</td><td>SP4</td><td>7:21516925-21521542</td><td>1.4e-09</td></tr>\n",
       "</tbody>\n",
       "</table>\n"
      ],
      "text/latex": [
       "A data.frame: 1 x 5\n",
       "\\begin{tabular}{r|lllll}\n",
       "  & SNP & SNP\\_pos & gene & cluster\\_pos & q\\\\\n",
       "  & <chr> & <chr> & <chr> & <chr> & <dbl>\\\\\n",
       "\\hline\n",
       "\tclu\\_100938\\_NA & rs10276352 & 7:21521233 & SP4 & 7:21516925-21521542 & 1.4e-09\\\\\n",
       "\\end{tabular}\n"
      ],
      "text/markdown": [
       "\n",
       "A data.frame: 1 x 5\n",
       "\n",
       "| <!--/--> | SNP &lt;chr&gt; | SNP_pos &lt;chr&gt; | gene &lt;chr&gt; | cluster_pos &lt;chr&gt; | q &lt;dbl&gt; |\n",
       "|---|---|---|---|---|---|\n",
       "| clu_100938_NA | rs10276352 | 7:21521233 | SP4 | 7:21516925-21521542 | 1.4e-09 |\n",
       "\n"
      ],
      "text/plain": [
       "              SNP        SNP_pos    gene cluster_pos         q      \n",
       "clu_100938_NA rs10276352 7:21521233 SP4  7:21516925-21521542 1.4e-09"
      ]
     },
     "metadata": {},
     "output_type": "display_data"
    }
   ],
   "source": [
    "resultsToPlot"
   ]
  },
  {
   "cell_type": "code",
   "execution_count": 138,
   "id": "4fb3271f",
   "metadata": {},
   "outputs": [
    {
     "data": {
      "text/html": [
       "<table class=\"dataframe\">\n",
       "<caption>A data.frame: 3 x 640</caption>\n",
       "<thead>\n",
       "\t<tr><th></th><th scope=col>849</th><th scope=col>898</th><th scope=col>1038</th><th scope=col>1039</th><th scope=col>1046</th><th scope=col>1092</th><th scope=col>1102</th><th scope=col>1107</th><th scope=col>1110</th><th scope=col>1111</th><th scope=col>...</th><th scope=col>RNAID2099</th><th scope=col>RNAID2100</th><th scope=col>RNAID2101</th><th scope=col>RNAID2102</th><th scope=col>RNAID2103</th><th scope=col>RNAID2111</th><th scope=col>RNAID2139</th><th scope=col>RNAID2141</th><th scope=col>RNAID2142</th><th scope=col>RNAID2144</th></tr>\n",
       "\t<tr><th></th><th scope=col>&lt;int&gt;</th><th scope=col>&lt;int&gt;</th><th scope=col>&lt;int&gt;</th><th scope=col>&lt;int&gt;</th><th scope=col>&lt;int&gt;</th><th scope=col>&lt;int&gt;</th><th scope=col>&lt;int&gt;</th><th scope=col>&lt;int&gt;</th><th scope=col>&lt;int&gt;</th><th scope=col>&lt;int&gt;</th><th scope=col>...</th><th scope=col>&lt;int&gt;</th><th scope=col>&lt;int&gt;</th><th scope=col>&lt;int&gt;</th><th scope=col>&lt;int&gt;</th><th scope=col>&lt;int&gt;</th><th scope=col>&lt;int&gt;</th><th scope=col>&lt;int&gt;</th><th scope=col>&lt;int&gt;</th><th scope=col>&lt;int&gt;</th><th scope=col>&lt;int&gt;</th></tr>\n",
       "</thead>\n",
       "<tbody>\n",
       "\t<tr><th scope=row>chr7:21516925:21521120:clu_100938_NA</th><td> 0</td><td> 0</td><td> 1</td><td> 1</td><td> 0</td><td>0</td><td>  2</td><td> 0</td><td>0</td><td>0</td><td>...</td><td> 0</td><td> 2</td><td> 0</td><td> 0</td><td> 1</td><td> 3</td><td> 1</td><td> 2</td><td> 1</td><td> 1</td></tr>\n",
       "\t<tr><th scope=row>chr7:21516925:21521542:clu_100938_NA</th><td>28</td><td>13</td><td>18</td><td>18</td><td>26</td><td>0</td><td>102</td><td>51</td><td>4</td><td>7</td><td>...</td><td>35</td><td>28</td><td>32</td><td>67</td><td>40</td><td>30</td><td>55</td><td>52</td><td>13</td><td>26</td></tr>\n",
       "\t<tr><th scope=row>chr7:21521300:21521542:clu_100938_NA</th><td> 0</td><td> 0</td><td> 0</td><td> 0</td><td> 0</td><td>0</td><td>  0</td><td> 0</td><td>0</td><td>0</td><td>...</td><td> 0</td><td> 2</td><td> 0</td><td> 0</td><td> 1</td><td> 1</td><td> 1</td><td> 2</td><td> 0</td><td> 0</td></tr>\n",
       "</tbody>\n",
       "</table>\n"
      ],
      "text/latex": [
       "A data.frame: 3 x 640\n",
       "\\begin{tabular}{r|lllllllllllllllllllll}\n",
       "  & 849 & 898 & 1038 & 1039 & 1046 & 1092 & 1102 & 1107 & 1110 & 1111 & ... & RNAID2099 & RNAID2100 & RNAID2101 & RNAID2102 & RNAID2103 & RNAID2111 & RNAID2139 & RNAID2141 & RNAID2142 & RNAID2144\\\\\n",
       "  & <int> & <int> & <int> & <int> & <int> & <int> & <int> & <int> & <int> & <int> & ... & <int> & <int> & <int> & <int> & <int> & <int> & <int> & <int> & <int> & <int>\\\\\n",
       "\\hline\n",
       "\tchr7:21516925:21521120:clu\\_100938\\_NA &  0 &  0 &  1 &  1 &  0 & 0 &   2 &  0 & 0 & 0 & ... &  0 &  2 &  0 &  0 &  1 &  3 &  1 &  2 &  1 &  1\\\\\n",
       "\tchr7:21516925:21521542:clu\\_100938\\_NA & 28 & 13 & 18 & 18 & 26 & 0 & 102 & 51 & 4 & 7 & ... & 35 & 28 & 32 & 67 & 40 & 30 & 55 & 52 & 13 & 26\\\\\n",
       "\tchr7:21521300:21521542:clu\\_100938\\_NA &  0 &  0 &  0 &  0 &  0 & 0 &   0 &  0 & 0 & 0 & ... &  0 &  2 &  0 &  0 &  1 &  1 &  1 &  2 &  0 &  0\\\\\n",
       "\\end{tabular}\n"
      ],
      "text/markdown": [
       "\n",
       "A data.frame: 3 x 640\n",
       "\n",
       "| <!--/--> | 849 &lt;int&gt; | 898 &lt;int&gt; | 1038 &lt;int&gt; | 1039 &lt;int&gt; | 1046 &lt;int&gt; | 1092 &lt;int&gt; | 1102 &lt;int&gt; | 1107 &lt;int&gt; | 1110 &lt;int&gt; | 1111 &lt;int&gt; | ... ... | RNAID2099 &lt;int&gt; | RNAID2100 &lt;int&gt; | RNAID2101 &lt;int&gt; | RNAID2102 &lt;int&gt; | RNAID2103 &lt;int&gt; | RNAID2111 &lt;int&gt; | RNAID2139 &lt;int&gt; | RNAID2141 &lt;int&gt; | RNAID2142 &lt;int&gt; | RNAID2144 &lt;int&gt; |\n",
       "|---|---|---|---|---|---|---|---|---|---|---|---|---|---|---|---|---|---|---|---|---|---|\n",
       "| chr7:21516925:21521120:clu_100938_NA |  0 |  0 |  1 |  1 |  0 | 0 |   2 |  0 | 0 | 0 | ... |  0 |  2 |  0 |  0 |  1 |  3 |  1 |  2 |  1 |  1 |\n",
       "| chr7:21516925:21521542:clu_100938_NA | 28 | 13 | 18 | 18 | 26 | 0 | 102 | 51 | 4 | 7 | ... | 35 | 28 | 32 | 67 | 40 | 30 | 55 | 52 | 13 | 26 |\n",
       "| chr7:21521300:21521542:clu_100938_NA |  0 |  0 |  0 |  0 |  0 | 0 |   0 |  0 | 0 | 0 | ... |  0 |  2 |  0 |  0 |  1 |  1 |  1 |  2 |  0 |  0 |\n",
       "\n"
      ],
      "text/plain": [
       "                                     849 898 1038 1039 1046 1092 1102 1107 1110\n",
       "chr7:21516925:21521120:clu_100938_NA  0   0   1    1    0   0      2   0   0   \n",
       "chr7:21516925:21521542:clu_100938_NA 28  13  18   18   26   0    102  51   4   \n",
       "chr7:21521300:21521542:clu_100938_NA  0   0   0    0    0   0      0   0   0   \n",
       "                                     1111 ... RNAID2099 RNAID2100 RNAID2101\n",
       "chr7:21516925:21521120:clu_100938_NA 0    ...  0         2         0       \n",
       "chr7:21516925:21521542:clu_100938_NA 7    ... 35        28        32       \n",
       "chr7:21521300:21521542:clu_100938_NA 0    ...  0         2         0       \n",
       "                                     RNAID2102 RNAID2103 RNAID2111 RNAID2139\n",
       "chr7:21516925:21521120:clu_100938_NA  0         1         3         1       \n",
       "chr7:21516925:21521542:clu_100938_NA 67        40        30        55       \n",
       "chr7:21521300:21521542:clu_100938_NA  0         1         1         1       \n",
       "                                     RNAID2141 RNAID2142 RNAID2144\n",
       "chr7:21516925:21521120:clu_100938_NA  2         1         1       \n",
       "chr7:21516925:21521542:clu_100938_NA 52        13        26       \n",
       "chr7:21521300:21521542:clu_100938_NA  2         0         0       "
      ]
     },
     "metadata": {},
     "output_type": "display_data"
    }
   ],
   "source": [
    "clusters"
   ]
  },
  {
   "cell_type": "code",
   "execution_count": 144,
   "id": "b8b892b2",
   "metadata": {},
   "outputs": [
    {
     "data": {
      "text/html": [
       "<table class=\"dataframe\">\n",
       "<caption>A data.frame: 2 x 649</caption>\n",
       "<thead>\n",
       "\t<tr><th scope=col>CHROM</th><th scope=col>POS</th><th scope=col>ID</th><th scope=col>REF</th><th scope=col>ALT</th><th scope=col>QUAL</th><th scope=col>FILTER</th><th scope=col>INFO</th><th scope=col>FORMAT</th><th scope=col>849</th><th scope=col>...</th><th scope=col>RNAID2099</th><th scope=col>RNAID2100</th><th scope=col>RNAID2101</th><th scope=col>RNAID2102</th><th scope=col>RNAID2103</th><th scope=col>RNAID2111</th><th scope=col>RNAID2139</th><th scope=col>RNAID2141</th><th scope=col>RNAID2142</th><th scope=col>RNAID2144</th></tr>\n",
       "\t<tr><th scope=col>&lt;int&gt;</th><th scope=col>&lt;int&gt;</th><th scope=col>&lt;chr&gt;</th><th scope=col>&lt;chr&gt;</th><th scope=col>&lt;chr&gt;</th><th scope=col>&lt;chr&gt;</th><th scope=col>&lt;chr&gt;</th><th scope=col>&lt;chr&gt;</th><th scope=col>&lt;chr&gt;</th><th scope=col>&lt;chr&gt;</th><th scope=col>...</th><th scope=col>&lt;chr&gt;</th><th scope=col>&lt;chr&gt;</th><th scope=col>&lt;chr&gt;</th><th scope=col>&lt;chr&gt;</th><th scope=col>&lt;chr&gt;</th><th scope=col>&lt;chr&gt;</th><th scope=col>&lt;chr&gt;</th><th scope=col>&lt;chr&gt;</th><th scope=col>&lt;chr&gt;</th><th scope=col>&lt;chr&gt;</th></tr>\n",
       "</thead>\n",
       "<tbody>\n",
       "\t<tr><td>7</td><td>21476188</td><td>rs2282889 </td><td>A</td><td>G</td><td>.</td><td>.</td><td>PR</td><td>GT</td><td>0/0</td><td>...</td><td>0/1</td><td>0/1</td><td>0/0</td><td>1/1</td><td>0/1</td><td>0/1</td><td>0/1</td><td>0/0</td><td>0/1</td><td>1/1</td></tr>\n",
       "\t<tr><td>7</td><td>21521233</td><td>rs10276352</td><td>G</td><td>A</td><td>.</td><td>.</td><td>PR</td><td>GT</td><td>0/0</td><td>...</td><td>0/1</td><td>0/1</td><td>0/0</td><td>1/1</td><td>0/1</td><td>0/1</td><td>0/1</td><td>0/0</td><td>0/1</td><td>1/1</td></tr>\n",
       "</tbody>\n",
       "</table>\n"
      ],
      "text/latex": [
       "A data.frame: 2 x 649\n",
       "\\begin{tabular}{lllllllllllllllllllll}\n",
       " CHROM & POS & ID & REF & ALT & QUAL & FILTER & INFO & FORMAT & 849 & ... & RNAID2099 & RNAID2100 & RNAID2101 & RNAID2102 & RNAID2103 & RNAID2111 & RNAID2139 & RNAID2141 & RNAID2142 & RNAID2144\\\\\n",
       " <int> & <int> & <chr> & <chr> & <chr> & <chr> & <chr> & <chr> & <chr> & <chr> & ... & <chr> & <chr> & <chr> & <chr> & <chr> & <chr> & <chr> & <chr> & <chr> & <chr>\\\\\n",
       "\\hline\n",
       "\t 7 & 21476188 & rs2282889  & A & G & . & . & PR & GT & 0/0 & ... & 0/1 & 0/1 & 0/0 & 1/1 & 0/1 & 0/1 & 0/1 & 0/0 & 0/1 & 1/1\\\\\n",
       "\t 7 & 21521233 & rs10276352 & G & A & . & . & PR & GT & 0/0 & ... & 0/1 & 0/1 & 0/0 & 1/1 & 0/1 & 0/1 & 0/1 & 0/0 & 0/1 & 1/1\\\\\n",
       "\\end{tabular}\n"
      ],
      "text/markdown": [
       "\n",
       "A data.frame: 2 x 649\n",
       "\n",
       "| CHROM &lt;int&gt; | POS &lt;int&gt; | ID &lt;chr&gt; | REF &lt;chr&gt; | ALT &lt;chr&gt; | QUAL &lt;chr&gt; | FILTER &lt;chr&gt; | INFO &lt;chr&gt; | FORMAT &lt;chr&gt; | 849 &lt;chr&gt; | ... ... | RNAID2099 &lt;chr&gt; | RNAID2100 &lt;chr&gt; | RNAID2101 &lt;chr&gt; | RNAID2102 &lt;chr&gt; | RNAID2103 &lt;chr&gt; | RNAID2111 &lt;chr&gt; | RNAID2139 &lt;chr&gt; | RNAID2141 &lt;chr&gt; | RNAID2142 &lt;chr&gt; | RNAID2144 &lt;chr&gt; |\n",
       "|---|---|---|---|---|---|---|---|---|---|---|---|---|---|---|---|---|---|---|---|---|\n",
       "| 7 | 21476188 | rs2282889  | A | G | . | . | PR | GT | 0/0 | ... | 0/1 | 0/1 | 0/0 | 1/1 | 0/1 | 0/1 | 0/1 | 0/0 | 0/1 | 1/1 |\n",
       "| 7 | 21521233 | rs10276352 | G | A | . | . | PR | GT | 0/0 | ... | 0/1 | 0/1 | 0/0 | 1/1 | 0/1 | 0/1 | 0/1 | 0/0 | 0/1 | 1/1 |\n",
       "\n"
      ],
      "text/plain": [
       "  CHROM POS      ID         REF ALT QUAL FILTER INFO FORMAT 849 ... RNAID2099\n",
       "1 7     21476188 rs2282889  A   G   .    .      PR   GT     0/0 ... 0/1      \n",
       "2 7     21521233 rs10276352 G   A   .    .      PR   GT     0/0 ... 0/1      \n",
       "  RNAID2100 RNAID2101 RNAID2102 RNAID2103 RNAID2111 RNAID2139 RNAID2141\n",
       "1 0/1       0/0       1/1       0/1       0/1       0/1       0/0      \n",
       "2 0/1       0/0       1/1       0/1       0/1       0/1       0/0      \n",
       "  RNAID2142 RNAID2144\n",
       "1 0/1       1/1      \n",
       "2 0/1       1/1      "
      ]
     },
     "metadata": {},
     "output_type": "display_data"
    },
    {
     "data": {
      "text/html": [
       "<table class=\"dataframe\">\n",
       "<caption>A data.frame: 1 x 649</caption>\n",
       "<thead>\n",
       "\t<tr><th></th><th scope=col>CHROM</th><th scope=col>POS</th><th scope=col>ID</th><th scope=col>REF</th><th scope=col>ALT</th><th scope=col>QUAL</th><th scope=col>FILTER</th><th scope=col>INFO</th><th scope=col>FORMAT</th><th scope=col>849</th><th scope=col>...</th><th scope=col>RNAID2099</th><th scope=col>RNAID2100</th><th scope=col>RNAID2101</th><th scope=col>RNAID2102</th><th scope=col>RNAID2103</th><th scope=col>RNAID2111</th><th scope=col>RNAID2139</th><th scope=col>RNAID2141</th><th scope=col>RNAID2142</th><th scope=col>RNAID2144</th></tr>\n",
       "\t<tr><th></th><th scope=col>&lt;int&gt;</th><th scope=col>&lt;int&gt;</th><th scope=col>&lt;chr&gt;</th><th scope=col>&lt;chr&gt;</th><th scope=col>&lt;chr&gt;</th><th scope=col>&lt;chr&gt;</th><th scope=col>&lt;chr&gt;</th><th scope=col>&lt;chr&gt;</th><th scope=col>&lt;chr&gt;</th><th scope=col>&lt;chr&gt;</th><th scope=col>...</th><th scope=col>&lt;chr&gt;</th><th scope=col>&lt;chr&gt;</th><th scope=col>&lt;chr&gt;</th><th scope=col>&lt;chr&gt;</th><th scope=col>&lt;chr&gt;</th><th scope=col>&lt;chr&gt;</th><th scope=col>&lt;chr&gt;</th><th scope=col>&lt;chr&gt;</th><th scope=col>&lt;chr&gt;</th><th scope=col>&lt;chr&gt;</th></tr>\n",
       "</thead>\n",
       "<tbody>\n",
       "\t<tr><th scope=row>2</th><td>7</td><td>21521233</td><td>rs10276352</td><td>G</td><td>A</td><td>.</td><td>.</td><td>PR</td><td>GT</td><td>0/0</td><td>...</td><td>0/1</td><td>0/1</td><td>0/0</td><td>1/1</td><td>0/1</td><td>0/1</td><td>0/1</td><td>0/0</td><td>0/1</td><td>1/1</td></tr>\n",
       "</tbody>\n",
       "</table>\n"
      ],
      "text/latex": [
       "A data.frame: 1 x 649\n",
       "\\begin{tabular}{r|lllllllllllllllllllll}\n",
       "  & CHROM & POS & ID & REF & ALT & QUAL & FILTER & INFO & FORMAT & 849 & ... & RNAID2099 & RNAID2100 & RNAID2101 & RNAID2102 & RNAID2103 & RNAID2111 & RNAID2139 & RNAID2141 & RNAID2142 & RNAID2144\\\\\n",
       "  & <int> & <int> & <chr> & <chr> & <chr> & <chr> & <chr> & <chr> & <chr> & <chr> & ... & <chr> & <chr> & <chr> & <chr> & <chr> & <chr> & <chr> & <chr> & <chr> & <chr>\\\\\n",
       "\\hline\n",
       "\t2 & 7 & 21521233 & rs10276352 & G & A & . & . & PR & GT & 0/0 & ... & 0/1 & 0/1 & 0/0 & 1/1 & 0/1 & 0/1 & 0/1 & 0/0 & 0/1 & 1/1\\\\\n",
       "\\end{tabular}\n"
      ],
      "text/markdown": [
       "\n",
       "A data.frame: 1 x 649\n",
       "\n",
       "| <!--/--> | CHROM &lt;int&gt; | POS &lt;int&gt; | ID &lt;chr&gt; | REF &lt;chr&gt; | ALT &lt;chr&gt; | QUAL &lt;chr&gt; | FILTER &lt;chr&gt; | INFO &lt;chr&gt; | FORMAT &lt;chr&gt; | 849 &lt;chr&gt; | ... ... | RNAID2099 &lt;chr&gt; | RNAID2100 &lt;chr&gt; | RNAID2101 &lt;chr&gt; | RNAID2102 &lt;chr&gt; | RNAID2103 &lt;chr&gt; | RNAID2111 &lt;chr&gt; | RNAID2139 &lt;chr&gt; | RNAID2141 &lt;chr&gt; | RNAID2142 &lt;chr&gt; | RNAID2144 &lt;chr&gt; |\n",
       "|---|---|---|---|---|---|---|---|---|---|---|---|---|---|---|---|---|---|---|---|---|---|\n",
       "| 2 | 7 | 21521233 | rs10276352 | G | A | . | . | PR | GT | 0/0 | ... | 0/1 | 0/1 | 0/0 | 1/1 | 0/1 | 0/1 | 0/1 | 0/0 | 0/1 | 1/1 |\n",
       "\n"
      ],
      "text/plain": [
       "  CHROM POS      ID         REF ALT QUAL FILTER INFO FORMAT 849 ... RNAID2099\n",
       "2 7     21521233 rs10276352 G   A   .    .      PR   GT     0/0 ... 0/1      \n",
       "  RNAID2100 RNAID2101 RNAID2102 RNAID2103 RNAID2111 RNAID2139 RNAID2141\n",
       "2 0/1       0/0       1/1       0/1       0/1       0/1       0/0      \n",
       "  RNAID2142 RNAID2144\n",
       "2 0/1       1/1      "
      ]
     },
     "metadata": {},
     "output_type": "display_data"
    }
   ],
   "source": [
    "vcf\n",
    "vcf <- vcf[2,]\n",
    "vcf"
   ]
  },
  {
   "cell_type": "code",
   "execution_count": 145,
   "id": "d9199413",
   "metadata": {},
   "outputs": [
    {
     "data": {
      "text/html": [
       "<table class=\"dataframe\">\n",
       "<caption>A data.frame: 1 x 4</caption>\n",
       "<thead>\n",
       "\t<tr><th></th><th scope=col>SNP</th><th scope=col>SNP_pos</th><th scope=col>REF</th><th scope=col>ALT</th></tr>\n",
       "\t<tr><th></th><th scope=col>&lt;chr&gt;</th><th scope=col>&lt;chr&gt;</th><th scope=col>&lt;chr&gt;</th><th scope=col>&lt;chr&gt;</th></tr>\n",
       "</thead>\n",
       "<tbody>\n",
       "\t<tr><th scope=row>2</th><td>rs10276352</td><td>7:21521233</td><td>G</td><td>A</td></tr>\n",
       "</tbody>\n",
       "</table>\n"
      ],
      "text/latex": [
       "A data.frame: 1 x 4\n",
       "\\begin{tabular}{r|llll}\n",
       "  & SNP & SNP\\_pos & REF & ALT\\\\\n",
       "  & <chr> & <chr> & <chr> & <chr>\\\\\n",
       "\\hline\n",
       "\t2 & rs10276352 & 7:21521233 & G & A\\\\\n",
       "\\end{tabular}\n"
      ],
      "text/markdown": [
       "\n",
       "A data.frame: 1 x 4\n",
       "\n",
       "| <!--/--> | SNP &lt;chr&gt; | SNP_pos &lt;chr&gt; | REF &lt;chr&gt; | ALT &lt;chr&gt; |\n",
       "|---|---|---|---|---|\n",
       "| 2 | rs10276352 | 7:21521233 | G | A |\n",
       "\n"
      ],
      "text/plain": [
       "  SNP        SNP_pos    REF ALT\n",
       "2 rs10276352 7:21521233 G   A  "
      ]
     },
     "metadata": {},
     "output_type": "display_data"
    }
   ],
   "source": [
    "vcf_meta <- vcf_meta[2,]\n",
    "vcf_meta"
   ]
  },
  {
   "cell_type": "code",
   "execution_count": 141,
   "id": "50fa74d8",
   "metadata": {},
   "outputs": [
    {
     "data": {
      "text/html": [
       "<table class=\"dataframe\">\n",
       "<caption>A data.frame: 3 x 5</caption>\n",
       "<thead>\n",
       "\t<tr><th scope=col>chr</th><th scope=col>start</th><th scope=col>end</th><th scope=col>clu</th><th scope=col>middle</th></tr>\n",
       "\t<tr><th scope=col>&lt;chr&gt;</th><th scope=col>&lt;dbl&gt;</th><th scope=col>&lt;dbl&gt;</th><th scope=col>&lt;chr&gt;</th><th scope=col>&lt;dbl&gt;</th></tr>\n",
       "</thead>\n",
       "<tbody>\n",
       "\t<tr><td>chr7</td><td>21516925</td><td>21521120</td><td>clu_100938_NA</td><td>21519022</td></tr>\n",
       "\t<tr><td>chr7</td><td>21516925</td><td>21521542</td><td>clu_100938_NA</td><td>21519234</td></tr>\n",
       "\t<tr><td>chr7</td><td>21521300</td><td>21521542</td><td>clu_100938_NA</td><td>21521421</td></tr>\n",
       "</tbody>\n",
       "</table>\n"
      ],
      "text/latex": [
       "A data.frame: 3 x 5\n",
       "\\begin{tabular}{lllll}\n",
       " chr & start & end & clu & middle\\\\\n",
       " <chr> & <dbl> & <dbl> & <chr> & <dbl>\\\\\n",
       "\\hline\n",
       "\t chr7 & 21516925 & 21521120 & clu\\_100938\\_NA & 21519022\\\\\n",
       "\t chr7 & 21516925 & 21521542 & clu\\_100938\\_NA & 21519234\\\\\n",
       "\t chr7 & 21521300 & 21521542 & clu\\_100938\\_NA & 21521421\\\\\n",
       "\\end{tabular}\n"
      ],
      "text/markdown": [
       "\n",
       "A data.frame: 3 x 5\n",
       "\n",
       "| chr &lt;chr&gt; | start &lt;dbl&gt; | end &lt;dbl&gt; | clu &lt;chr&gt; | middle &lt;dbl&gt; |\n",
       "|---|---|---|---|---|\n",
       "| chr7 | 21516925 | 21521120 | clu_100938_NA | 21519022 |\n",
       "| chr7 | 21516925 | 21521542 | clu_100938_NA | 21519234 |\n",
       "| chr7 | 21521300 | 21521542 | clu_100938_NA | 21521421 |\n",
       "\n"
      ],
      "text/plain": [
       "  chr  start    end      clu           middle  \n",
       "1 chr7 21516925 21521120 clu_100938_NA 21519022\n",
       "2 chr7 21516925 21521542 clu_100938_NA 21519234\n",
       "3 chr7 21521300 21521542 clu_100938_NA 21521421"
      ]
     },
     "metadata": {},
     "output_type": "display_data"
    }
   ],
   "source": [
    "introns_to_plot"
   ]
  },
  {
   "cell_type": "code",
   "execution_count": 146,
   "id": "e4795618",
   "metadata": {},
   "outputs": [],
   "source": [
    "save( annotatedClusters, # every junction needed\n",
    "      sigJunctions, # every junction x SNP interaction\n",
    "      resultsToPlot, #significant clusters and the most significant SNP\n",
    "      #GWASresults, # associations with SNPs from a PD GWAS\n",
    "      #YangResults, # associations with Yang's TWAS hit SNPs\n",
    "      clusters, # junction counts for each sample\n",
    "      vcf,# the genotypes of each sample\n",
    "      vcf_meta, # the vcf metadata\n",
    "      introns_to_plot, # all the intron positions\n",
    "      #counts,\n",
    "      #meta,\n",
    "      exons_table, # the annotation\n",
    "      junctionTable, # the junctions to display for each cluster\n",
    "      #pca,\n",
    "      #intron_summary,\n",
    "      #cluster_summary,\n",
    "      #introns_to_plot,\n",
    "      #cluster_ids,\n",
    "      #sample_table,\n",
    "      annotation_code,\n",
    "      code,\n",
    "      file = \"results.Rdata\"\n",
    ")"
   ]
  },
  {
   "cell_type": "markdown",
   "id": "383718fa",
   "metadata": {},
   "source": [
    "**sqtlviztools only plots the most significant intron, which is the annotated one for this example. Here plot the other two introns**"
   ]
  },
  {
   "cell_type": "code",
   "execution_count": 41,
   "id": "325e271f",
   "metadata": {},
   "outputs": [
    {
     "data": {
      "text/html": [
       "<table class=\"dataframe\">\n",
       "<caption>A data.frame: 3 x 640</caption>\n",
       "<thead>\n",
       "\t<tr><th></th><th scope=col>849</th><th scope=col>898</th><th scope=col>1038</th><th scope=col>1039</th><th scope=col>1046</th><th scope=col>1092</th><th scope=col>1102</th><th scope=col>1107</th><th scope=col>1110</th><th scope=col>1111</th><th scope=col>...</th><th scope=col>RNAID2099</th><th scope=col>RNAID2100</th><th scope=col>RNAID2101</th><th scope=col>RNAID2102</th><th scope=col>RNAID2103</th><th scope=col>RNAID2111</th><th scope=col>RNAID2139</th><th scope=col>RNAID2141</th><th scope=col>RNAID2142</th><th scope=col>RNAID2144</th></tr>\n",
       "\t<tr><th></th><th scope=col>&lt;int&gt;</th><th scope=col>&lt;int&gt;</th><th scope=col>&lt;int&gt;</th><th scope=col>&lt;int&gt;</th><th scope=col>&lt;int&gt;</th><th scope=col>&lt;int&gt;</th><th scope=col>&lt;int&gt;</th><th scope=col>&lt;int&gt;</th><th scope=col>&lt;int&gt;</th><th scope=col>&lt;int&gt;</th><th scope=col>...</th><th scope=col>&lt;int&gt;</th><th scope=col>&lt;int&gt;</th><th scope=col>&lt;int&gt;</th><th scope=col>&lt;int&gt;</th><th scope=col>&lt;int&gt;</th><th scope=col>&lt;int&gt;</th><th scope=col>&lt;int&gt;</th><th scope=col>&lt;int&gt;</th><th scope=col>&lt;int&gt;</th><th scope=col>&lt;int&gt;</th></tr>\n",
       "</thead>\n",
       "<tbody>\n",
       "\t<tr><th scope=row>chr7:21516925:21521120:clu_100938_NA</th><td> 0</td><td> 0</td><td> 1</td><td> 1</td><td> 0</td><td>0</td><td>  2</td><td> 0</td><td>0</td><td>0</td><td>...</td><td> 0</td><td> 2</td><td> 0</td><td> 0</td><td> 1</td><td> 3</td><td> 1</td><td> 2</td><td> 1</td><td> 1</td></tr>\n",
       "\t<tr><th scope=row>chr7:21516925:21521542:clu_100938_NA</th><td>28</td><td>13</td><td>18</td><td>18</td><td>26</td><td>0</td><td>102</td><td>51</td><td>4</td><td>7</td><td>...</td><td>35</td><td>28</td><td>32</td><td>67</td><td>40</td><td>30</td><td>55</td><td>52</td><td>13</td><td>26</td></tr>\n",
       "\t<tr><th scope=row>chr7:21521300:21521542:clu_100938_NA</th><td> 0</td><td> 0</td><td> 0</td><td> 0</td><td> 0</td><td>0</td><td>  0</td><td> 0</td><td>0</td><td>0</td><td>...</td><td> 0</td><td> 2</td><td> 0</td><td> 0</td><td> 1</td><td> 1</td><td> 1</td><td> 2</td><td> 0</td><td> 0</td></tr>\n",
       "</tbody>\n",
       "</table>\n"
      ],
      "text/latex": [
       "A data.frame: 3 x 640\n",
       "\\begin{tabular}{r|lllllllllllllllllllll}\n",
       "  & 849 & 898 & 1038 & 1039 & 1046 & 1092 & 1102 & 1107 & 1110 & 1111 & ... & RNAID2099 & RNAID2100 & RNAID2101 & RNAID2102 & RNAID2103 & RNAID2111 & RNAID2139 & RNAID2141 & RNAID2142 & RNAID2144\\\\\n",
       "  & <int> & <int> & <int> & <int> & <int> & <int> & <int> & <int> & <int> & <int> & ... & <int> & <int> & <int> & <int> & <int> & <int> & <int> & <int> & <int> & <int>\\\\\n",
       "\\hline\n",
       "\tchr7:21516925:21521120:clu\\_100938\\_NA &  0 &  0 &  1 &  1 &  0 & 0 &   2 &  0 & 0 & 0 & ... &  0 &  2 &  0 &  0 &  1 &  3 &  1 &  2 &  1 &  1\\\\\n",
       "\tchr7:21516925:21521542:clu\\_100938\\_NA & 28 & 13 & 18 & 18 & 26 & 0 & 102 & 51 & 4 & 7 & ... & 35 & 28 & 32 & 67 & 40 & 30 & 55 & 52 & 13 & 26\\\\\n",
       "\tchr7:21521300:21521542:clu\\_100938\\_NA &  0 &  0 &  0 &  0 &  0 & 0 &   0 &  0 & 0 & 0 & ... &  0 &  2 &  0 &  0 &  1 &  1 &  1 &  2 &  0 &  0\\\\\n",
       "\\end{tabular}\n"
      ],
      "text/markdown": [
       "\n",
       "A data.frame: 3 x 640\n",
       "\n",
       "| <!--/--> | 849 &lt;int&gt; | 898 &lt;int&gt; | 1038 &lt;int&gt; | 1039 &lt;int&gt; | 1046 &lt;int&gt; | 1092 &lt;int&gt; | 1102 &lt;int&gt; | 1107 &lt;int&gt; | 1110 &lt;int&gt; | 1111 &lt;int&gt; | ... ... | RNAID2099 &lt;int&gt; | RNAID2100 &lt;int&gt; | RNAID2101 &lt;int&gt; | RNAID2102 &lt;int&gt; | RNAID2103 &lt;int&gt; | RNAID2111 &lt;int&gt; | RNAID2139 &lt;int&gt; | RNAID2141 &lt;int&gt; | RNAID2142 &lt;int&gt; | RNAID2144 &lt;int&gt; |\n",
       "|---|---|---|---|---|---|---|---|---|---|---|---|---|---|---|---|---|---|---|---|---|---|\n",
       "| chr7:21516925:21521120:clu_100938_NA |  0 |  0 |  1 |  1 |  0 | 0 |   2 |  0 | 0 | 0 | ... |  0 |  2 |  0 |  0 |  1 |  3 |  1 |  2 |  1 |  1 |\n",
       "| chr7:21516925:21521542:clu_100938_NA | 28 | 13 | 18 | 18 | 26 | 0 | 102 | 51 | 4 | 7 | ... | 35 | 28 | 32 | 67 | 40 | 30 | 55 | 52 | 13 | 26 |\n",
       "| chr7:21521300:21521542:clu_100938_NA |  0 |  0 |  0 |  0 |  0 | 0 |   0 |  0 | 0 | 0 | ... |  0 |  2 |  0 |  0 |  1 |  1 |  1 |  2 |  0 |  0 |\n",
       "\n"
      ],
      "text/plain": [
       "                                     849 898 1038 1039 1046 1092 1102 1107 1110\n",
       "chr7:21516925:21521120:clu_100938_NA  0   0   1    1    0   0      2   0   0   \n",
       "chr7:21516925:21521542:clu_100938_NA 28  13  18   18   26   0    102  51   4   \n",
       "chr7:21521300:21521542:clu_100938_NA  0   0   0    0    0   0      0   0   0   \n",
       "                                     1111 ... RNAID2099 RNAID2100 RNAID2101\n",
       "chr7:21516925:21521120:clu_100938_NA 0    ...  0         2         0       \n",
       "chr7:21516925:21521542:clu_100938_NA 7    ... 35        28        32       \n",
       "chr7:21521300:21521542:clu_100938_NA 0    ...  0         2         0       \n",
       "                                     RNAID2102 RNAID2103 RNAID2111 RNAID2139\n",
       "chr7:21516925:21521120:clu_100938_NA  0         1         3         1       \n",
       "chr7:21516925:21521542:clu_100938_NA 67        40        30        55       \n",
       "chr7:21521300:21521542:clu_100938_NA  0         1         1         1       \n",
       "                                     RNAID2141 RNAID2142 RNAID2144\n",
       "chr7:21516925:21521120:clu_100938_NA  2         1         1       \n",
       "chr7:21516925:21521542:clu_100938_NA 52        13        26       \n",
       "chr7:21521300:21521542:clu_100938_NA  2         0         0       "
      ]
     },
     "metadata": {},
     "output_type": "display_data"
    },
    {
     "data": {
      "text/html": [
       "<table class=\"dataframe\">\n",
       "<caption>A data.frame: 2 x 649</caption>\n",
       "<thead>\n",
       "\t<tr><th scope=col>CHROM</th><th scope=col>POS</th><th scope=col>ID</th><th scope=col>REF</th><th scope=col>ALT</th><th scope=col>QUAL</th><th scope=col>FILTER</th><th scope=col>INFO</th><th scope=col>FORMAT</th><th scope=col>849</th><th scope=col>...</th><th scope=col>RNAID2099</th><th scope=col>RNAID2100</th><th scope=col>RNAID2101</th><th scope=col>RNAID2102</th><th scope=col>RNAID2103</th><th scope=col>RNAID2111</th><th scope=col>RNAID2139</th><th scope=col>RNAID2141</th><th scope=col>RNAID2142</th><th scope=col>RNAID2144</th></tr>\n",
       "\t<tr><th scope=col>&lt;int&gt;</th><th scope=col>&lt;int&gt;</th><th scope=col>&lt;chr&gt;</th><th scope=col>&lt;chr&gt;</th><th scope=col>&lt;chr&gt;</th><th scope=col>&lt;chr&gt;</th><th scope=col>&lt;chr&gt;</th><th scope=col>&lt;chr&gt;</th><th scope=col>&lt;chr&gt;</th><th scope=col>&lt;chr&gt;</th><th scope=col>...</th><th scope=col>&lt;chr&gt;</th><th scope=col>&lt;chr&gt;</th><th scope=col>&lt;chr&gt;</th><th scope=col>&lt;chr&gt;</th><th scope=col>&lt;chr&gt;</th><th scope=col>&lt;chr&gt;</th><th scope=col>&lt;chr&gt;</th><th scope=col>&lt;chr&gt;</th><th scope=col>&lt;chr&gt;</th><th scope=col>&lt;chr&gt;</th></tr>\n",
       "</thead>\n",
       "<tbody>\n",
       "\t<tr><td>7</td><td>21476188</td><td>rs2282889 </td><td>A</td><td>G</td><td>.</td><td>.</td><td>PR</td><td>GT</td><td>0/0</td><td>...</td><td>0/1</td><td>0/1</td><td>0/0</td><td>1/1</td><td>0/1</td><td>0/1</td><td>0/1</td><td>0/0</td><td>0/1</td><td>1/1</td></tr>\n",
       "\t<tr><td>7</td><td>21521233</td><td>rs10276352</td><td>G</td><td>A</td><td>.</td><td>.</td><td>PR</td><td>GT</td><td>0/0</td><td>...</td><td>0/1</td><td>0/1</td><td>0/0</td><td>1/1</td><td>0/1</td><td>0/1</td><td>0/1</td><td>0/0</td><td>0/1</td><td>1/1</td></tr>\n",
       "</tbody>\n",
       "</table>\n"
      ],
      "text/latex": [
       "A data.frame: 2 x 649\n",
       "\\begin{tabular}{lllllllllllllllllllll}\n",
       " CHROM & POS & ID & REF & ALT & QUAL & FILTER & INFO & FORMAT & 849 & ... & RNAID2099 & RNAID2100 & RNAID2101 & RNAID2102 & RNAID2103 & RNAID2111 & RNAID2139 & RNAID2141 & RNAID2142 & RNAID2144\\\\\n",
       " <int> & <int> & <chr> & <chr> & <chr> & <chr> & <chr> & <chr> & <chr> & <chr> & ... & <chr> & <chr> & <chr> & <chr> & <chr> & <chr> & <chr> & <chr> & <chr> & <chr>\\\\\n",
       "\\hline\n",
       "\t 7 & 21476188 & rs2282889  & A & G & . & . & PR & GT & 0/0 & ... & 0/1 & 0/1 & 0/0 & 1/1 & 0/1 & 0/1 & 0/1 & 0/0 & 0/1 & 1/1\\\\\n",
       "\t 7 & 21521233 & rs10276352 & G & A & . & . & PR & GT & 0/0 & ... & 0/1 & 0/1 & 0/0 & 1/1 & 0/1 & 0/1 & 0/1 & 0/0 & 0/1 & 1/1\\\\\n",
       "\\end{tabular}\n"
      ],
      "text/markdown": [
       "\n",
       "A data.frame: 2 x 649\n",
       "\n",
       "| CHROM &lt;int&gt; | POS &lt;int&gt; | ID &lt;chr&gt; | REF &lt;chr&gt; | ALT &lt;chr&gt; | QUAL &lt;chr&gt; | FILTER &lt;chr&gt; | INFO &lt;chr&gt; | FORMAT &lt;chr&gt; | 849 &lt;chr&gt; | ... ... | RNAID2099 &lt;chr&gt; | RNAID2100 &lt;chr&gt; | RNAID2101 &lt;chr&gt; | RNAID2102 &lt;chr&gt; | RNAID2103 &lt;chr&gt; | RNAID2111 &lt;chr&gt; | RNAID2139 &lt;chr&gt; | RNAID2141 &lt;chr&gt; | RNAID2142 &lt;chr&gt; | RNAID2144 &lt;chr&gt; |\n",
       "|---|---|---|---|---|---|---|---|---|---|---|---|---|---|---|---|---|---|---|---|---|\n",
       "| 7 | 21476188 | rs2282889  | A | G | . | . | PR | GT | 0/0 | ... | 0/1 | 0/1 | 0/0 | 1/1 | 0/1 | 0/1 | 0/1 | 0/0 | 0/1 | 1/1 |\n",
       "| 7 | 21521233 | rs10276352 | G | A | . | . | PR | GT | 0/0 | ... | 0/1 | 0/1 | 0/0 | 1/1 | 0/1 | 0/1 | 0/1 | 0/0 | 0/1 | 1/1 |\n",
       "\n"
      ],
      "text/plain": [
       "  CHROM POS      ID         REF ALT QUAL FILTER INFO FORMAT 849 ... RNAID2099\n",
       "1 7     21476188 rs2282889  A   G   .    .      PR   GT     0/0 ... 0/1      \n",
       "2 7     21521233 rs10276352 G   A   .    .      PR   GT     0/0 ... 0/1      \n",
       "  RNAID2100 RNAID2101 RNAID2102 RNAID2103 RNAID2111 RNAID2139 RNAID2141\n",
       "1 0/1       0/0       1/1       0/1       0/1       0/1       0/0      \n",
       "2 0/1       0/0       1/1       0/1       0/1       0/1       0/0      \n",
       "  RNAID2142 RNAID2144\n",
       "1 0/1       1/1      \n",
       "2 0/1       1/1      "
      ]
     },
     "metadata": {},
     "output_type": "display_data"
    }
   ],
   "source": [
    "clusters\n",
    "vcf"
   ]
  },
  {
   "cell_type": "code",
   "execution_count": 67,
   "id": "6d55c923",
   "metadata": {},
   "outputs": [],
   "source": [
    "cryptic_3 <- data.frame(\"count\" = NA, \"geno\" = NA)"
   ]
  },
  {
   "cell_type": "code",
   "execution_count": 68,
   "id": "dfebb711",
   "metadata": {},
   "outputs": [],
   "source": [
    "for (i in 1:640) {\n",
    "    cryptic_3[i, \"count\"] <- clusters[1,i]\n",
    "    cryptic_3[i, \"geno\"] <- vcf[2,i+9]\n",
    "}"
   ]
  },
  {
   "cell_type": "code",
   "execution_count": 69,
   "id": "7d09d25f",
   "metadata": {},
   "outputs": [],
   "source": [
    "cryptic_3[cryptic_3 == \"0/0\"] <- \"G/G\"\n",
    "cryptic_3[cryptic_3 == \"0/1\"] <- \"G/A\"\n",
    "cryptic_3[cryptic_3 == \"1/1\"] <- \"A/A\"\n",
    "cryptic_3$geno <- factor(cryptic_3$geno, levels = c(\"G/G\", \"G/A\", \"A/A\"))"
   ]
  },
  {
   "cell_type": "code",
   "execution_count": 70,
   "id": "768eeb2b",
   "metadata": {},
   "outputs": [
    {
     "data": {
      "image/png": "[encoded data removed]",
      "text/plain": [
       "plot without title"
      ]
     },
     "metadata": {
      "image/png": {
       "height": 420,
       "width": 420
      }
     },
     "output_type": "display_data"
    }
   ],
   "source": [
    "ggplot(cryptic_3, aes(x = geno, y = count)) +\n",
    "    geom_boxplot(fill = \"steelblue\", alpha = 0.3) +\n",
    "    geom_jitter(color = \"black\", size = 0.4, alpha = 0.9) +\n",
    "    labs(x = \"rs10276352\", y = \"Intron count\", title = \"chr7:21516925:21521120:clu_100938_NA,\\ncryptic threeprime\") +\n",
    "    theme_bw() +\n",
    "    theme(plot.title = element_text(size = 18, face = \"bold\"),\n",
    "          axis.text = element_text(size = 16),\n",
    "          axis.title = element_text(size = 18))"
   ]
  },
  {
   "cell_type": "code",
   "execution_count": 66,
   "id": "11b88c88",
   "metadata": {},
   "outputs": [
    {
     "data": {
      "image/png": "[encoded data removed]",
      "text/plain": [
       "plot without title"
      ]
     },
     "metadata": {
      "image/png": {
       "height": 420,
       "width": 420
      }
     },
     "output_type": "display_data"
    }
   ],
   "source": [
    "cryptic_5 <- data.frame(\"count\" = NA, \"geno\" = NA)\n",
    "for (i in 1:640) {\n",
    "    cryptic_5[i, \"count\"] <- clusters[3,i]\n",
    "    cryptic_5[i, \"geno\"] <- vcf[2,i+9]\n",
    "}\n",
    "cryptic_5[cryptic_5 == \"0/0\"] <- \"G/G\"\n",
    "cryptic_5[cryptic_5 == \"0/1\"] <- \"G/A\"\n",
    "cryptic_5[cryptic_5 == \"1/1\"] <- \"A/A\"\n",
    "cryptic_5$geno <- factor(cryptic_5$geno, levels = c(\"G/G\", \"G/A\", \"A/A\"))\n",
    "\n",
    "ggplot(cryptic_5, aes(x = geno, y = count)) +\n",
    "    geom_boxplot(fill = \"steelblue\", alpha = 0.3) +\n",
    "    geom_jitter(color = \"black\", size = 0.4, alpha = 0.9) +\n",
    "    labs(x = \"rs10276352\", y = \"Intron count\", title = \"chr7:21521300:21521542:clu_100938_NA,\\ncryptic fiveprime\") +\n",
    "    theme_bw() +\n",
    "    theme(plot.title = element_text(size = 18, face = \"bold\"),\n",
    "          axis.text = element_text(size = 16),\n",
    "          axis.title = element_text(size = 18))"
   ]
  },
  {
   "cell_type": "code",
   "execution_count": 65,
   "id": "ad1fc476",
   "metadata": {},
   "outputs": [
    {
     "data": {
      "image/png": "[encoded data removed]",
      "text/plain": [
       "plot without title"
      ]
     },
     "metadata": {
      "image/png": {
       "height": 420,
       "width": 420
      }
     },
     "output_type": "display_data"
    }
   ],
   "source": [
    "annotated <- data.frame(\"count\" = NA, \"geno\" = NA)\n",
    "for (i in 1:640) {\n",
    "    annotated[i, \"count\"] <- clusters[2,i]\n",
    "    annotated[i, \"geno\"] <- vcf[2,i+9]\n",
    "}\n",
    "annotated[annotated == \"0/0\"] <- \"G/G\"\n",
    "annotated[annotated == \"0/1\"] <- \"G/A\"\n",
    "annotated[annotated == \"1/1\"] <- \"A/A\"\n",
    "annotated$geno <- factor(annotated$geno, levels = c(\"G/G\", \"G/A\", \"A/A\"))\n",
    "ggplot(annotated, aes(x = geno, y = count)) +\n",
    "    geom_boxplot(fill = \"steelblue\", alpha = 0.3) +\n",
    "    geom_jitter(color = \"black\", size = 0.4, alpha = 0.9) +\n",
    "    labs(x = \"rs10276352\", y = \"Intron count\", title = \"chr7:21516925:21521542:clu_100938_NA,\\nannotated\") +\n",
    "    theme_bw() +\n",
    "    theme(plot.title = element_text(size = 18, face = \"bold\"),\n",
    "          axis.text = element_text(size = 16),\n",
    "          axis.title = element_text(size = 18))"
   ]
  },
  {
   "cell_type": "code",
   "execution_count": null,
   "id": "6bfd4ffb",
   "metadata": {},
   "outputs": [],
   "source": []
  }
 ],
 "metadata": {
  "kernelspec": {
   "display_name": "R 4.1.0 BIO",
   "language": "R",
   "name": "ir410-bio"
  },
  "language_info": {
   "codemirror_mode": "r",
   "file_extension": ".r",
   "mimetype": "text/x-r-source",
   "name": "R",
   "pygments_lexer": "r",
   "version": "4.1.0"
  }
 },
 "nbformat": 4,
 "nbformat_minor": 5
}
