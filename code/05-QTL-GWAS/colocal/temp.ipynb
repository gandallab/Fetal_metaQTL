{
 "cells": [
  {
   "cell_type": "code",
   "execution_count": 1,
   "id": "1a76c7f6",
   "metadata": {},
   "outputs": [
    {
     "name": "stderr",
     "output_type": "stream",
     "text": [
      "── \u001b[1mAttaching packages\u001b[22m ─────────────────────────────────────── tidyverse 1.3.1 ──\n",
      "\n",
      "\u001b[32m✔\u001b[39m \u001b[34mggplot2\u001b[39m 3.3.3     \u001b[32m✔\u001b[39m \u001b[34mpurrr  \u001b[39m 0.3.4\n",
      "\u001b[32m✔\u001b[39m \u001b[34mtibble \u001b[39m 3.1.2     \u001b[32m✔\u001b[39m \u001b[34mdplyr  \u001b[39m 1.0.6\n",
      "\u001b[32m✔\u001b[39m \u001b[34mtidyr  \u001b[39m 1.1.3     \u001b[32m✔\u001b[39m \u001b[34mstringr\u001b[39m 1.4.0\n",
      "\u001b[32m✔\u001b[39m \u001b[34mreadr  \u001b[39m 1.4.0     \u001b[32m✔\u001b[39m \u001b[34mforcats\u001b[39m 0.5.1\n",
      "\n",
      "── \u001b[1mConflicts\u001b[22m ────────────────────────────────────────── tidyverse_conflicts() ──\n",
      "\u001b[31m✖\u001b[39m \u001b[34mdplyr\u001b[39m::\u001b[32mfilter()\u001b[39m masks \u001b[34mstats\u001b[39m::filter()\n",
      "\u001b[31m✖\u001b[39m \u001b[34mdplyr\u001b[39m::\u001b[32mlag()\u001b[39m    masks \u001b[34mstats\u001b[39m::lag()\n",
      "\n"
     ]
    }
   ],
   "source": [
    "library(tidyverse)"
   ]
  },
  {
   "cell_type": "markdown",
   "id": "16b19b40",
   "metadata": {},
   "source": [
    "### KHK"
   ]
  },
  {
   "cell_type": "code",
   "execution_count": 3,
   "id": "81cb2559",
   "metadata": {},
   "outputs": [],
   "source": [
    "bulk <- read.table(\"~/project-gandalm/isoform_twas/colocal/results_eqtl/PGC3_SCZ_wave3.european.autosome.public.v3/locus_231/ENSG00000138030_ecaviar_col\", header = T)\n",
    "pg <- read.table(\"/u/home/c/cindywen/project-gandalm/isoform_twas/colocal/results_pg_80hcp_eqtl/PGC3_SCZ_wave3.european.autosome.public.v3/locus_231/ENSG00000138030_ecaviar_col\", header = T)"
   ]
  },
  {
   "cell_type": "code",
   "execution_count": 4,
   "id": "179b382c",
   "metadata": {},
   "outputs": [
    {
     "data": {
      "text/html": [
       "<style>\n",
       ".list-inline {list-style: none; margin:0; padding: 0}\n",
       ".list-inline>li {display: inline-block}\n",
       ".list-inline>li:not(:last-child)::after {content: \"\\00b7\"; padding: 0 .5ex}\n",
       "</style>\n",
       "<ol class=list-inline><li>870</li><li>3</li></ol>\n"
      ],
      "text/latex": [
       "\\begin{enumerate*}\n",
       "\\item 870\n",
       "\\item 3\n",
       "\\end{enumerate*}\n"
      ],
      "text/markdown": [
       "1. 870\n",
       "2. 3\n",
       "\n",
       "\n"
      ],
      "text/plain": [
       "[1] 870   3"
      ]
     },
     "metadata": {},
     "output_type": "display_data"
    },
    {
     "data": {
      "text/html": [
       "<style>\n",
       ".list-inline {list-style: none; margin:0; padding: 0}\n",
       ".list-inline>li {display: inline-block}\n",
       ".list-inline>li:not(:last-child)::after {content: \"\\00b7\"; padding: 0 .5ex}\n",
       "</style>\n",
       "<ol class=list-inline><li>870</li><li>3</li></ol>\n"
      ],
      "text/latex": [
       "\\begin{enumerate*}\n",
       "\\item 870\n",
       "\\item 3\n",
       "\\end{enumerate*}\n"
      ],
      "text/markdown": [
       "1. 870\n",
       "2. 3\n",
       "\n",
       "\n"
      ],
      "text/plain": [
       "[1] 870   3"
      ]
     },
     "metadata": {},
     "output_type": "display_data"
    }
   ],
   "source": [
    "dim(bulk)\n",
    "dim(pg)"
   ]
  },
  {
   "cell_type": "code",
   "execution_count": 5,
   "id": "c3780411",
   "metadata": {},
   "outputs": [
    {
     "data": {
      "text/html": [
       "<table class=\"dataframe\">\n",
       "<caption>A data.frame: 6 x 3</caption>\n",
       "<thead>\n",
       "\t<tr><th></th><th scope=col>SNP_ID</th><th scope=col>Prob_in_pCausalSet</th><th scope=col>CLPP</th></tr>\n",
       "\t<tr><th></th><th scope=col>&lt;chr&gt;</th><th scope=col>&lt;dbl&gt;</th><th scope=col>&lt;dbl&gt;</th></tr>\n",
       "</thead>\n",
       "<tbody>\n",
       "\t<tr><th scope=row>1</th><td>rs55784432</td><td>3.27966e-22</td><td>8.24055e-24</td></tr>\n",
       "\t<tr><th scope=row>2</th><td>rs11884420</td><td>1.28684e-21</td><td>3.23333e-23</td></tr>\n",
       "\t<tr><th scope=row>3</th><td>rs72802746</td><td>2.34250e-21</td><td>5.88580e-23</td></tr>\n",
       "\t<tr><th scope=row>4</th><td>rs11126714</td><td>5.02781e-22</td><td>1.26330e-23</td></tr>\n",
       "\t<tr><th scope=row>5</th><td>rs12997486</td><td>5.92303e-26</td><td>1.48823e-27</td></tr>\n",
       "\t<tr><th scope=row>6</th><td>rs7590170 </td><td>2.30718e-20</td><td>5.79707e-22</td></tr>\n",
       "</tbody>\n",
       "</table>\n"
      ],
      "text/latex": [
       "A data.frame: 6 x 3\n",
       "\\begin{tabular}{r|lll}\n",
       "  & SNP\\_ID & Prob\\_in\\_pCausalSet & CLPP\\\\\n",
       "  & <chr> & <dbl> & <dbl>\\\\\n",
       "\\hline\n",
       "\t1 & rs55784432 & 3.27966e-22 & 8.24055e-24\\\\\n",
       "\t2 & rs11884420 & 1.28684e-21 & 3.23333e-23\\\\\n",
       "\t3 & rs72802746 & 2.34250e-21 & 5.88580e-23\\\\\n",
       "\t4 & rs11126714 & 5.02781e-22 & 1.26330e-23\\\\\n",
       "\t5 & rs12997486 & 5.92303e-26 & 1.48823e-27\\\\\n",
       "\t6 & rs7590170  & 2.30718e-20 & 5.79707e-22\\\\\n",
       "\\end{tabular}\n"
      ],
      "text/markdown": [
       "\n",
       "A data.frame: 6 x 3\n",
       "\n",
       "| <!--/--> | SNP_ID &lt;chr&gt; | Prob_in_pCausalSet &lt;dbl&gt; | CLPP &lt;dbl&gt; |\n",
       "|---|---|---|---|\n",
       "| 1 | rs55784432 | 3.27966e-22 | 8.24055e-24 |\n",
       "| 2 | rs11884420 | 1.28684e-21 | 3.23333e-23 |\n",
       "| 3 | rs72802746 | 2.34250e-21 | 5.88580e-23 |\n",
       "| 4 | rs11126714 | 5.02781e-22 | 1.26330e-23 |\n",
       "| 5 | rs12997486 | 5.92303e-26 | 1.48823e-27 |\n",
       "| 6 | rs7590170  | 2.30718e-20 | 5.79707e-22 |\n",
       "\n"
      ],
      "text/plain": [
       "  SNP_ID     Prob_in_pCausalSet CLPP       \n",
       "1 rs55784432 3.27966e-22        8.24055e-24\n",
       "2 rs11884420 1.28684e-21        3.23333e-23\n",
       "3 rs72802746 2.34250e-21        5.88580e-23\n",
       "4 rs11126714 5.02781e-22        1.26330e-23\n",
       "5 rs12997486 5.92303e-26        1.48823e-27\n",
       "6 rs7590170  2.30718e-20        5.79707e-22"
      ]
     },
     "metadata": {},
     "output_type": "display_data"
    },
    {
     "data": {
      "text/html": [
       "<table class=\"dataframe\">\n",
       "<caption>A data.frame: 6 x 3</caption>\n",
       "<thead>\n",
       "\t<tr><th></th><th scope=col>SNP_ID</th><th scope=col>Prob_in_pCausalSet</th><th scope=col>CLPP</th></tr>\n",
       "\t<tr><th></th><th scope=col>&lt;chr&gt;</th><th scope=col>&lt;dbl&gt;</th><th scope=col>&lt;dbl&gt;</th></tr>\n",
       "</thead>\n",
       "<tbody>\n",
       "\t<tr><th scope=row>1</th><td>rs55784432</td><td>8.83237e-22</td><td>3.33721e-23</td></tr>\n",
       "\t<tr><th scope=row>2</th><td>rs11884420</td><td>3.00400e-21</td><td>1.13502e-22</td></tr>\n",
       "\t<tr><th scope=row>3</th><td>rs72802746</td><td>6.00406e-21</td><td>2.26857e-22</td></tr>\n",
       "\t<tr><th scope=row>4</th><td>rs11126714</td><td>1.83796e-21</td><td>6.94452e-23</td></tr>\n",
       "\t<tr><th scope=row>5</th><td>rs12997486</td><td>1.48384e-25</td><td>5.60652e-27</td></tr>\n",
       "\t<tr><th scope=row>6</th><td>rs7590170 </td><td>5.21599e-20</td><td>1.97080e-21</td></tr>\n",
       "</tbody>\n",
       "</table>\n"
      ],
      "text/latex": [
       "A data.frame: 6 x 3\n",
       "\\begin{tabular}{r|lll}\n",
       "  & SNP\\_ID & Prob\\_in\\_pCausalSet & CLPP\\\\\n",
       "  & <chr> & <dbl> & <dbl>\\\\\n",
       "\\hline\n",
       "\t1 & rs55784432 & 8.83237e-22 & 3.33721e-23\\\\\n",
       "\t2 & rs11884420 & 3.00400e-21 & 1.13502e-22\\\\\n",
       "\t3 & rs72802746 & 6.00406e-21 & 2.26857e-22\\\\\n",
       "\t4 & rs11126714 & 1.83796e-21 & 6.94452e-23\\\\\n",
       "\t5 & rs12997486 & 1.48384e-25 & 5.60652e-27\\\\\n",
       "\t6 & rs7590170  & 5.21599e-20 & 1.97080e-21\\\\\n",
       "\\end{tabular}\n"
      ],
      "text/markdown": [
       "\n",
       "A data.frame: 6 x 3\n",
       "\n",
       "| <!--/--> | SNP_ID &lt;chr&gt; | Prob_in_pCausalSet &lt;dbl&gt; | CLPP &lt;dbl&gt; |\n",
       "|---|---|---|---|\n",
       "| 1 | rs55784432 | 8.83237e-22 | 3.33721e-23 |\n",
       "| 2 | rs11884420 | 3.00400e-21 | 1.13502e-22 |\n",
       "| 3 | rs72802746 | 6.00406e-21 | 2.26857e-22 |\n",
       "| 4 | rs11126714 | 1.83796e-21 | 6.94452e-23 |\n",
       "| 5 | rs12997486 | 1.48384e-25 | 5.60652e-27 |\n",
       "| 6 | rs7590170  | 5.21599e-20 | 1.97080e-21 |\n",
       "\n"
      ],
      "text/plain": [
       "  SNP_ID     Prob_in_pCausalSet CLPP       \n",
       "1 rs55784432 8.83237e-22        3.33721e-23\n",
       "2 rs11884420 3.00400e-21        1.13502e-22\n",
       "3 rs72802746 6.00406e-21        2.26857e-22\n",
       "4 rs11126714 1.83796e-21        6.94452e-23\n",
       "5 rs12997486 1.48384e-25        5.60652e-27\n",
       "6 rs7590170  5.21599e-20        1.97080e-21"
      ]
     },
     "metadata": {},
     "output_type": "display_data"
    }
   ],
   "source": [
    "head(bulk)\n",
    "head(pg)"
   ]
  },
  {
   "cell_type": "code",
   "execution_count": 6,
   "id": "519c3d15",
   "metadata": {},
   "outputs": [
    {
     "data": {
      "text/html": [
       "<table class=\"dataframe\">\n",
       "<caption>A data.frame: 6 x 6</caption>\n",
       "<thead>\n",
       "\t<tr><th></th><th scope=col>SNP_ID</th><th scope=col>Prob_in_pCausalSet</th><th scope=col>CLPP</th><th scope=col>SNP_ID</th><th scope=col>Prob_in_pCausalSet</th><th scope=col>CLPP</th></tr>\n",
       "\t<tr><th></th><th scope=col>&lt;chr&gt;</th><th scope=col>&lt;dbl&gt;</th><th scope=col>&lt;dbl&gt;</th><th scope=col>&lt;chr&gt;</th><th scope=col>&lt;dbl&gt;</th><th scope=col>&lt;dbl&gt;</th></tr>\n",
       "</thead>\n",
       "<tbody>\n",
       "\t<tr><th scope=row>1</th><td>rs55784432</td><td>3.27966e-22</td><td>8.24055e-24</td><td>rs55784432</td><td>8.83237e-22</td><td>3.33721e-23</td></tr>\n",
       "\t<tr><th scope=row>2</th><td>rs11884420</td><td>1.28684e-21</td><td>3.23333e-23</td><td>rs11884420</td><td>3.00400e-21</td><td>1.13502e-22</td></tr>\n",
       "\t<tr><th scope=row>3</th><td>rs72802746</td><td>2.34250e-21</td><td>5.88580e-23</td><td>rs72802746</td><td>6.00406e-21</td><td>2.26857e-22</td></tr>\n",
       "\t<tr><th scope=row>4</th><td>rs11126714</td><td>5.02781e-22</td><td>1.26330e-23</td><td>rs11126714</td><td>1.83796e-21</td><td>6.94452e-23</td></tr>\n",
       "\t<tr><th scope=row>5</th><td>rs12997486</td><td>5.92303e-26</td><td>1.48823e-27</td><td>rs12997486</td><td>1.48384e-25</td><td>5.60652e-27</td></tr>\n",
       "\t<tr><th scope=row>6</th><td>rs7590170 </td><td>2.30718e-20</td><td>5.79707e-22</td><td>rs7590170 </td><td>5.21599e-20</td><td>1.97080e-21</td></tr>\n",
       "</tbody>\n",
       "</table>\n"
      ],
      "text/latex": [
       "A data.frame: 6 x 6\n",
       "\\begin{tabular}{r|llllll}\n",
       "  & SNP\\_ID & Prob\\_in\\_pCausalSet & CLPP & SNP\\_ID & Prob\\_in\\_pCausalSet & CLPP\\\\\n",
       "  & <chr> & <dbl> & <dbl> & <chr> & <dbl> & <dbl>\\\\\n",
       "\\hline\n",
       "\t1 & rs55784432 & 3.27966e-22 & 8.24055e-24 & rs55784432 & 8.83237e-22 & 3.33721e-23\\\\\n",
       "\t2 & rs11884420 & 1.28684e-21 & 3.23333e-23 & rs11884420 & 3.00400e-21 & 1.13502e-22\\\\\n",
       "\t3 & rs72802746 & 2.34250e-21 & 5.88580e-23 & rs72802746 & 6.00406e-21 & 2.26857e-22\\\\\n",
       "\t4 & rs11126714 & 5.02781e-22 & 1.26330e-23 & rs11126714 & 1.83796e-21 & 6.94452e-23\\\\\n",
       "\t5 & rs12997486 & 5.92303e-26 & 1.48823e-27 & rs12997486 & 1.48384e-25 & 5.60652e-27\\\\\n",
       "\t6 & rs7590170  & 2.30718e-20 & 5.79707e-22 & rs7590170  & 5.21599e-20 & 1.97080e-21\\\\\n",
       "\\end{tabular}\n"
      ],
      "text/markdown": [
       "\n",
       "A data.frame: 6 x 6\n",
       "\n",
       "| <!--/--> | SNP_ID &lt;chr&gt; | Prob_in_pCausalSet &lt;dbl&gt; | CLPP &lt;dbl&gt; | SNP_ID &lt;chr&gt; | Prob_in_pCausalSet &lt;dbl&gt; | CLPP &lt;dbl&gt; |\n",
       "|---|---|---|---|---|---|---|\n",
       "| 1 | rs55784432 | 3.27966e-22 | 8.24055e-24 | rs55784432 | 8.83237e-22 | 3.33721e-23 |\n",
       "| 2 | rs11884420 | 1.28684e-21 | 3.23333e-23 | rs11884420 | 3.00400e-21 | 1.13502e-22 |\n",
       "| 3 | rs72802746 | 2.34250e-21 | 5.88580e-23 | rs72802746 | 6.00406e-21 | 2.26857e-22 |\n",
       "| 4 | rs11126714 | 5.02781e-22 | 1.26330e-23 | rs11126714 | 1.83796e-21 | 6.94452e-23 |\n",
       "| 5 | rs12997486 | 5.92303e-26 | 1.48823e-27 | rs12997486 | 1.48384e-25 | 5.60652e-27 |\n",
       "| 6 | rs7590170  | 2.30718e-20 | 5.79707e-22 | rs7590170  | 5.21599e-20 | 1.97080e-21 |\n",
       "\n"
      ],
      "text/plain": [
       "  SNP_ID     Prob_in_pCausalSet CLPP        SNP_ID     Prob_in_pCausalSet\n",
       "1 rs55784432 3.27966e-22        8.24055e-24 rs55784432 8.83237e-22       \n",
       "2 rs11884420 1.28684e-21        3.23333e-23 rs11884420 3.00400e-21       \n",
       "3 rs72802746 2.34250e-21        5.88580e-23 rs72802746 6.00406e-21       \n",
       "4 rs11126714 5.02781e-22        1.26330e-23 rs11126714 1.83796e-21       \n",
       "5 rs12997486 5.92303e-26        1.48823e-27 rs12997486 1.48384e-25       \n",
       "6 rs7590170  2.30718e-20        5.79707e-22 rs7590170  5.21599e-20       \n",
       "  CLPP       \n",
       "1 3.33721e-23\n",
       "2 1.13502e-22\n",
       "3 2.26857e-22\n",
       "4 6.94452e-23\n",
       "5 5.60652e-27\n",
       "6 1.97080e-21"
      ]
     },
     "metadata": {},
     "output_type": "display_data"
    }
   ],
   "source": [
    "df <- cbind(bulk, pg)\n",
    "head(df)"
   ]
  },
  {
   "cell_type": "code",
   "execution_count": 7,
   "id": "0c0e3c70",
   "metadata": {},
   "outputs": [],
   "source": [
    "colnames(df)[3] <- \"CLPP_bulk\"\n",
    "colnames(df)[6] <- \"CLPP_pg\""
   ]
  },
  {
   "cell_type": "code",
   "execution_count": 9,
   "id": "46d68a3f",
   "metadata": {},
   "outputs": [],
   "source": [
    "df <- df %>% select(CLPP_bulk, CLPP_pg)"
   ]
  },
  {
   "cell_type": "code",
   "execution_count": 15,
   "id": "c06d81a3",
   "metadata": {},
   "outputs": [
    {
     "data": {
      "image/png": "[encoded data removed]",
      "text/plain": [
       "plot without title"
      ]
     },
     "metadata": {
      "image/png": {
       "height": 420,
       "width": 420
      }
     },
     "output_type": "display_data"
    }
   ],
   "source": [
    "ggplot(df, aes(x = CLPP_bulk, y = CLPP_pg)) +\n",
    "#     geom_point() +\n",
    "    geom_count() +\n",
    "    geom_abline(slope = 1, intercept = 0, linetype = \"dashed\", color = \"red\") +\n",
    "    theme(axis.text = element_text(size = 16),\n",
    "        axis.title = element_text(size = 18),\n",
    "        legend.title = element_text(size = 16),\n",
    "        legend.text = element_text(size = 14)) +\n",
    "    theme_minimal()"
   ]
  },
  {
   "cell_type": "markdown",
   "id": "c4763998",
   "metadata": {},
   "source": [
    "### JAM3"
   ]
  },
  {
   "cell_type": "code",
   "execution_count": 19,
   "id": "c848c91a",
   "metadata": {},
   "outputs": [],
   "source": [
    "bulk <- read.table(\"~/project-gandalm/isoform_twas/colocal/results_eqtl/PGC3_SCZ_wave3.european.autosome.public.v3/locus_32/ENSG00000166086_ecaviar_col\", header = T)\n",
    "ex <- read.table(\"/u/home/c/cindywen/project-gandalm/isoform_twas/colocal/results_ex_90hcp_eqtl/PGC3_SCZ_wave3.european.autosome.public.v3/locus_32/ENSG00000166086_ecaviar_col\", header = T)\n",
    "end <- read.table(\"/u/home/c/cindywen/project-gandalm/isoform_twas/colocal/results_end_100hcp_eqtl/PGC3_SCZ_wave3.european.autosome.public.v3/locus_32/ENSG00000166086_ecaviar_col\", header = T)\n",
    "in.1 <- read.table(\"/u/home/c/cindywen/project-gandalm/isoform_twas/colocal/results_in_90hcp_eqtl/PGC3_SCZ_wave3.european.autosome.public.v3/locus_32/ENSG00000166086_ecaviar_col\", header = T)\n",
    "ip <- read.table(\"/u/home/c/cindywen/project-gandalm/isoform_twas/colocal/results_ip_80hcp_eqtl/PGC3_SCZ_wave3.european.autosome.public.v3/locus_32/ENSG00000166086_ecaviar_col\", header = T)\n",
    "mic <- read.table(\"/u/home/c/cindywen/project-gandalm/isoform_twas/colocal/results_mic_80hcp_eqtl/PGC3_SCZ_wave3.european.autosome.public.v3/locus_32/ENSG00000166086_ecaviar_col\", header = T)\n",
    "opc <- read.table(\"/u/home/c/cindywen/project-gandalm/isoform_twas/colocal/results_opc_80hcp_eqtl/PGC3_SCZ_wave3.european.autosome.public.v3/locus_32/ENSG00000166086_ecaviar_col\", header = T)\n",
    "per <- read.table(\"/u/home/c/cindywen/project-gandalm/isoform_twas/colocal/results_per_70hcp_eqtl/PGC3_SCZ_wave3.european.autosome.public.v3/locus_32/ENSG00000166086_ecaviar_col\", header = T)\n",
    "pg <- read.table(\"/u/home/c/cindywen/project-gandalm/isoform_twas/colocal/results_pg_80hcp_eqtl/PGC3_SCZ_wave3.european.autosome.public.v3/locus_32/ENSG00000166086_ecaviar_col\", header = T)\n",
    "rg <- read.table(\"/u/home/c/cindywen/project-gandalm/isoform_twas/colocal/results_rg_100hcp_eqtl/PGC3_SCZ_wave3.european.autosome.public.v3/locus_32/ENSG00000166086_ecaviar_col\", header = T)"
   ]
  },
  {
   "cell_type": "code",
   "execution_count": 20,
   "id": "8eba8fa2",
   "metadata": {},
   "outputs": [
    {
     "data": {
      "text/html": [
       "<style>\n",
       ".list-inline {list-style: none; margin:0; padding: 0}\n",
       ".list-inline>li {display: inline-block}\n",
       ".list-inline>li:not(:last-child)::after {content: \"\\00b7\"; padding: 0 .5ex}\n",
       "</style>\n",
       "<ol class=list-inline><li>3470</li><li>3</li></ol>\n"
      ],
      "text/latex": [
       "\\begin{enumerate*}\n",
       "\\item 3470\n",
       "\\item 3\n",
       "\\end{enumerate*}\n"
      ],
      "text/markdown": [
       "1. 3470\n",
       "2. 3\n",
       "\n",
       "\n"
      ],
      "text/plain": [
       "[1] 3470    3"
      ]
     },
     "metadata": {},
     "output_type": "display_data"
    },
    {
     "data": {
      "text/html": [
       "<style>\n",
       ".list-inline {list-style: none; margin:0; padding: 0}\n",
       ".list-inline>li {display: inline-block}\n",
       ".list-inline>li:not(:last-child)::after {content: \"\\00b7\"; padding: 0 .5ex}\n",
       "</style>\n",
       "<ol class=list-inline><li>3470</li><li>3</li></ol>\n"
      ],
      "text/latex": [
       "\\begin{enumerate*}\n",
       "\\item 3470\n",
       "\\item 3\n",
       "\\end{enumerate*}\n"
      ],
      "text/markdown": [
       "1. 3470\n",
       "2. 3\n",
       "\n",
       "\n"
      ],
      "text/plain": [
       "[1] 3470    3"
      ]
     },
     "metadata": {},
     "output_type": "display_data"
    }
   ],
   "source": [
    "dim(bulk)\n",
    "dim(rg)"
   ]
  },
  {
   "cell_type": "code",
   "execution_count": 21,
   "id": "a3fc432e",
   "metadata": {},
   "outputs": [],
   "source": [
    "df <- rbind(ex, end, in.1, ip, mic, opc, per, pg, rg) %>% select(CLPP)\n",
    "df$type <- c(rep(\"ex\", 3470), rep(\"end\", 3470), rep(\"in\", 3470), rep(\"ip\", 3470),\n",
    "             rep(\"mic\", 3470), rep(\"opc\", 3470), rep(\"per\", 3470), rep(\"pg\", 3470), rep(\"rg\", 3470))"
   ]
  },
  {
   "cell_type": "code",
   "execution_count": 22,
   "id": "0ee28697",
   "metadata": {},
   "outputs": [
    {
     "data": {
      "text/html": [
       "<table class=\"dataframe\">\n",
       "<caption>A data.frame: 6 x 2</caption>\n",
       "<thead>\n",
       "\t<tr><th></th><th scope=col>CLPP</th><th scope=col>type</th></tr>\n",
       "\t<tr><th></th><th scope=col>&lt;dbl&gt;</th><th scope=col>&lt;chr&gt;</th></tr>\n",
       "</thead>\n",
       "<tbody>\n",
       "\t<tr><th scope=row>1</th><td>1.52461e-14</td><td>ex</td></tr>\n",
       "\t<tr><th scope=row>2</th><td>6.13403e-15</td><td>ex</td></tr>\n",
       "\t<tr><th scope=row>3</th><td>5.51373e-15</td><td>ex</td></tr>\n",
       "\t<tr><th scope=row>4</th><td>7.17785e-15</td><td>ex</td></tr>\n",
       "\t<tr><th scope=row>5</th><td>5.26563e-15</td><td>ex</td></tr>\n",
       "\t<tr><th scope=row>6</th><td>5.72751e-15</td><td>ex</td></tr>\n",
       "</tbody>\n",
       "</table>\n"
      ],
      "text/latex": [
       "A data.frame: 6 x 2\n",
       "\\begin{tabular}{r|ll}\n",
       "  & CLPP & type\\\\\n",
       "  & <dbl> & <chr>\\\\\n",
       "\\hline\n",
       "\t1 & 1.52461e-14 & ex\\\\\n",
       "\t2 & 6.13403e-15 & ex\\\\\n",
       "\t3 & 5.51373e-15 & ex\\\\\n",
       "\t4 & 7.17785e-15 & ex\\\\\n",
       "\t5 & 5.26563e-15 & ex\\\\\n",
       "\t6 & 5.72751e-15 & ex\\\\\n",
       "\\end{tabular}\n"
      ],
      "text/markdown": [
       "\n",
       "A data.frame: 6 x 2\n",
       "\n",
       "| <!--/--> | CLPP &lt;dbl&gt; | type &lt;chr&gt; |\n",
       "|---|---|---|\n",
       "| 1 | 1.52461e-14 | ex |\n",
       "| 2 | 6.13403e-15 | ex |\n",
       "| 3 | 5.51373e-15 | ex |\n",
       "| 4 | 7.17785e-15 | ex |\n",
       "| 5 | 5.26563e-15 | ex |\n",
       "| 6 | 5.72751e-15 | ex |\n",
       "\n"
      ],
      "text/plain": [
       "  CLPP        type\n",
       "1 1.52461e-14 ex  \n",
       "2 6.13403e-15 ex  \n",
       "3 5.51373e-15 ex  \n",
       "4 7.17785e-15 ex  \n",
       "5 5.26563e-15 ex  \n",
       "6 5.72751e-15 ex  "
      ]
     },
     "metadata": {},
     "output_type": "display_data"
    }
   ],
   "source": [
    "head(df)"
   ]
  },
  {
   "cell_type": "code",
   "execution_count": 23,
   "id": "5044023f",
   "metadata": {},
   "outputs": [
    {
     "data": {
      "text/html": [
       "<table class=\"dataframe\">\n",
       "<caption>A data.frame: 6 x 3</caption>\n",
       "<thead>\n",
       "\t<tr><th></th><th scope=col>SNP_ID</th><th scope=col>Prob_in_pCausalSet</th><th scope=col>CLPP</th></tr>\n",
       "\t<tr><th></th><th scope=col>&lt;chr&gt;</th><th scope=col>&lt;dbl&gt;</th><th scope=col>&lt;dbl&gt;</th></tr>\n",
       "</thead>\n",
       "<tbody>\n",
       "\t<tr><th scope=row>1</th><td>rs1541882 </td><td>2.83275e-12</td><td>3.53566e-14</td></tr>\n",
       "\t<tr><th scope=row>2</th><td>rs58936969</td><td>8.62964e-13</td><td>1.07710e-14</td></tr>\n",
       "\t<tr><th scope=row>3</th><td>rs10894647</td><td>8.12350e-13</td><td>1.01393e-14</td></tr>\n",
       "\t<tr><th scope=row>4</th><td>rs10791275</td><td>8.92643e-13</td><td>1.11414e-14</td></tr>\n",
       "\t<tr><th scope=row>5</th><td>rs11825349</td><td>7.32670e-13</td><td>9.14474e-15</td></tr>\n",
       "\t<tr><th scope=row>6</th><td>rs1541884 </td><td>7.25865e-13</td><td>9.05981e-15</td></tr>\n",
       "</tbody>\n",
       "</table>\n"
      ],
      "text/latex": [
       "A data.frame: 6 x 3\n",
       "\\begin{tabular}{r|lll}\n",
       "  & SNP\\_ID & Prob\\_in\\_pCausalSet & CLPP\\\\\n",
       "  & <chr> & <dbl> & <dbl>\\\\\n",
       "\\hline\n",
       "\t1 & rs1541882  & 2.83275e-12 & 3.53566e-14\\\\\n",
       "\t2 & rs58936969 & 8.62964e-13 & 1.07710e-14\\\\\n",
       "\t3 & rs10894647 & 8.12350e-13 & 1.01393e-14\\\\\n",
       "\t4 & rs10791275 & 8.92643e-13 & 1.11414e-14\\\\\n",
       "\t5 & rs11825349 & 7.32670e-13 & 9.14474e-15\\\\\n",
       "\t6 & rs1541884  & 7.25865e-13 & 9.05981e-15\\\\\n",
       "\\end{tabular}\n"
      ],
      "text/markdown": [
       "\n",
       "A data.frame: 6 x 3\n",
       "\n",
       "| <!--/--> | SNP_ID &lt;chr&gt; | Prob_in_pCausalSet &lt;dbl&gt; | CLPP &lt;dbl&gt; |\n",
       "|---|---|---|---|\n",
       "| 1 | rs1541882  | 2.83275e-12 | 3.53566e-14 |\n",
       "| 2 | rs58936969 | 8.62964e-13 | 1.07710e-14 |\n",
       "| 3 | rs10894647 | 8.12350e-13 | 1.01393e-14 |\n",
       "| 4 | rs10791275 | 8.92643e-13 | 1.11414e-14 |\n",
       "| 5 | rs11825349 | 7.32670e-13 | 9.14474e-15 |\n",
       "| 6 | rs1541884  | 7.25865e-13 | 9.05981e-15 |\n",
       "\n"
      ],
      "text/plain": [
       "  SNP_ID     Prob_in_pCausalSet CLPP       \n",
       "1 rs1541882  2.83275e-12        3.53566e-14\n",
       "2 rs58936969 8.62964e-13        1.07710e-14\n",
       "3 rs10894647 8.12350e-13        1.01393e-14\n",
       "4 rs10791275 8.92643e-13        1.11414e-14\n",
       "5 rs11825349 7.32670e-13        9.14474e-15\n",
       "6 rs1541884  7.25865e-13        9.05981e-15"
      ]
     },
     "metadata": {},
     "output_type": "display_data"
    }
   ],
   "source": [
    "head(bulk)"
   ]
  },
  {
   "cell_type": "code",
   "execution_count": 24,
   "id": "6346d08d",
   "metadata": {},
   "outputs": [],
   "source": [
    "bulk <- bulk %>% select(CLPP)\n",
    "bulk <- bind_rows(replicate(9, bulk, simplify = FALSE))"
   ]
  },
  {
   "cell_type": "code",
   "execution_count": 25,
   "id": "12cd28b6",
   "metadata": {},
   "outputs": [
    {
     "data": {
      "text/html": [
       "<table class=\"dataframe\">\n",
       "<caption>A data.frame: 6 x 1</caption>\n",
       "<thead>\n",
       "\t<tr><th></th><th scope=col>CLPP</th></tr>\n",
       "\t<tr><th></th><th scope=col>&lt;dbl&gt;</th></tr>\n",
       "</thead>\n",
       "<tbody>\n",
       "\t<tr><th scope=row>1</th><td>3.53566e-14</td></tr>\n",
       "\t<tr><th scope=row>2</th><td>1.07710e-14</td></tr>\n",
       "\t<tr><th scope=row>3</th><td>1.01393e-14</td></tr>\n",
       "\t<tr><th scope=row>4</th><td>1.11414e-14</td></tr>\n",
       "\t<tr><th scope=row>5</th><td>9.14474e-15</td></tr>\n",
       "\t<tr><th scope=row>6</th><td>9.05981e-15</td></tr>\n",
       "</tbody>\n",
       "</table>\n"
      ],
      "text/latex": [
       "A data.frame: 6 x 1\n",
       "\\begin{tabular}{r|l}\n",
       "  & CLPP\\\\\n",
       "  & <dbl>\\\\\n",
       "\\hline\n",
       "\t1 & 3.53566e-14\\\\\n",
       "\t2 & 1.07710e-14\\\\\n",
       "\t3 & 1.01393e-14\\\\\n",
       "\t4 & 1.11414e-14\\\\\n",
       "\t5 & 9.14474e-15\\\\\n",
       "\t6 & 9.05981e-15\\\\\n",
       "\\end{tabular}\n"
      ],
      "text/markdown": [
       "\n",
       "A data.frame: 6 x 1\n",
       "\n",
       "| <!--/--> | CLPP &lt;dbl&gt; |\n",
       "|---|---|\n",
       "| 1 | 3.53566e-14 |\n",
       "| 2 | 1.07710e-14 |\n",
       "| 3 | 1.01393e-14 |\n",
       "| 4 | 1.11414e-14 |\n",
       "| 5 | 9.14474e-15 |\n",
       "| 6 | 9.05981e-15 |\n",
       "\n"
      ],
      "text/plain": [
       "  CLPP       \n",
       "1 3.53566e-14\n",
       "2 1.07710e-14\n",
       "3 1.01393e-14\n",
       "4 1.11414e-14\n",
       "5 9.14474e-15\n",
       "6 9.05981e-15"
      ]
     },
     "metadata": {},
     "output_type": "display_data"
    }
   ],
   "source": [
    "head(bulk)"
   ]
  },
  {
   "cell_type": "code",
   "execution_count": 26,
   "id": "fdfa2e83",
   "metadata": {},
   "outputs": [
    {
     "data": {
      "text/html": [
       "<style>\n",
       ".list-inline {list-style: none; margin:0; padding: 0}\n",
       ".list-inline>li {display: inline-block}\n",
       ".list-inline>li:not(:last-child)::after {content: \"\\00b7\"; padding: 0 .5ex}\n",
       "</style>\n",
       "<ol class=list-inline><li>31230</li><li>1</li></ol>\n"
      ],
      "text/latex": [
       "\\begin{enumerate*}\n",
       "\\item 31230\n",
       "\\item 1\n",
       "\\end{enumerate*}\n"
      ],
      "text/markdown": [
       "1. 31230\n",
       "2. 1\n",
       "\n",
       "\n"
      ],
      "text/plain": [
       "[1] 31230     1"
      ]
     },
     "metadata": {},
     "output_type": "display_data"
    }
   ],
   "source": [
    "dim(bulk)"
   ]
  },
  {
   "cell_type": "code",
   "execution_count": 27,
   "id": "b6c4c347",
   "metadata": {},
   "outputs": [
    {
     "data": {
      "text/html": [
       "<table class=\"dataframe\">\n",
       "<caption>A data.frame: 6 x 3</caption>\n",
       "<thead>\n",
       "\t<tr><th></th><th scope=col>CLPP</th><th scope=col>CLPP</th><th scope=col>type</th></tr>\n",
       "\t<tr><th></th><th scope=col>&lt;dbl&gt;</th><th scope=col>&lt;dbl&gt;</th><th scope=col>&lt;chr&gt;</th></tr>\n",
       "</thead>\n",
       "<tbody>\n",
       "\t<tr><th scope=row>1</th><td>3.53566e-14</td><td>1.52461e-14</td><td>ex</td></tr>\n",
       "\t<tr><th scope=row>2</th><td>1.07710e-14</td><td>6.13403e-15</td><td>ex</td></tr>\n",
       "\t<tr><th scope=row>3</th><td>1.01393e-14</td><td>5.51373e-15</td><td>ex</td></tr>\n",
       "\t<tr><th scope=row>4</th><td>1.11414e-14</td><td>7.17785e-15</td><td>ex</td></tr>\n",
       "\t<tr><th scope=row>5</th><td>9.14474e-15</td><td>5.26563e-15</td><td>ex</td></tr>\n",
       "\t<tr><th scope=row>6</th><td>9.05981e-15</td><td>5.72751e-15</td><td>ex</td></tr>\n",
       "</tbody>\n",
       "</table>\n"
      ],
      "text/latex": [
       "A data.frame: 6 x 3\n",
       "\\begin{tabular}{r|lll}\n",
       "  & CLPP & CLPP & type\\\\\n",
       "  & <dbl> & <dbl> & <chr>\\\\\n",
       "\\hline\n",
       "\t1 & 3.53566e-14 & 1.52461e-14 & ex\\\\\n",
       "\t2 & 1.07710e-14 & 6.13403e-15 & ex\\\\\n",
       "\t3 & 1.01393e-14 & 5.51373e-15 & ex\\\\\n",
       "\t4 & 1.11414e-14 & 7.17785e-15 & ex\\\\\n",
       "\t5 & 9.14474e-15 & 5.26563e-15 & ex\\\\\n",
       "\t6 & 9.05981e-15 & 5.72751e-15 & ex\\\\\n",
       "\\end{tabular}\n"
      ],
      "text/markdown": [
       "\n",
       "A data.frame: 6 x 3\n",
       "\n",
       "| <!--/--> | CLPP &lt;dbl&gt; | CLPP &lt;dbl&gt; | type &lt;chr&gt; |\n",
       "|---|---|---|---|\n",
       "| 1 | 3.53566e-14 | 1.52461e-14 | ex |\n",
       "| 2 | 1.07710e-14 | 6.13403e-15 | ex |\n",
       "| 3 | 1.01393e-14 | 5.51373e-15 | ex |\n",
       "| 4 | 1.11414e-14 | 7.17785e-15 | ex |\n",
       "| 5 | 9.14474e-15 | 5.26563e-15 | ex |\n",
       "| 6 | 9.05981e-15 | 5.72751e-15 | ex |\n",
       "\n"
      ],
      "text/plain": [
       "  CLPP        CLPP        type\n",
       "1 3.53566e-14 1.52461e-14 ex  \n",
       "2 1.07710e-14 6.13403e-15 ex  \n",
       "3 1.01393e-14 5.51373e-15 ex  \n",
       "4 1.11414e-14 7.17785e-15 ex  \n",
       "5 9.14474e-15 5.26563e-15 ex  \n",
       "6 9.05981e-15 5.72751e-15 ex  "
      ]
     },
     "metadata": {},
     "output_type": "display_data"
    }
   ],
   "source": [
    "df1 <- cbind(bulk, df)\n",
    "head(df1)"
   ]
  },
  {
   "cell_type": "code",
   "execution_count": 30,
   "id": "0fb2c8f6",
   "metadata": {},
   "outputs": [
    {
     "data": {
      "image/png": "[encoded data removed]",
      "text/plain": [
       "plot without title"
      ]
     },
     "metadata": {
      "image/png": {
       "height": 420,
       "width": 420
      }
     },
     "output_type": "display_data"
    }
   ],
   "source": [
    "colnames(df1)[1] <- \"CLPP_bulk\"\n",
    "colnames(df1)[2] <- \"CLPP_cell\"\n",
    "ggplot(df1, aes(x = CLPP_bulk, y = CLPP_cell, color = type)) +\n",
    "    geom_point(alpha = 0.5) +\n",
    "#     geom_count() +\n",
    "    geom_abline(slope = 1, intercept = 0, linetype = \"dashed\", color = \"red\") +\n",
    "    theme_minimal() +\n",
    "    theme(axis.text = element_text(size = 16),\n",
    "        axis.title = element_text(size = 18),\n",
    "        legend.title = element_text(size = 16),\n",
    "        legend.text = element_text(size = 14)) "
   ]
  },
  {
   "cell_type": "markdown",
   "id": "8c741559",
   "metadata": {},
   "source": [
    "### PREB"
   ]
  },
  {
   "cell_type": "code",
   "execution_count": 4,
   "id": "03dd604f",
   "metadata": {},
   "outputs": [],
   "source": [
    "bulk <- read.table(\"~/project-gandalm/isoform_twas/colocal/results_eqtl/PGC3_SCZ_wave3.european.autosome.public.v3/locus_231/ENSG00000138073_ecaviar_col\", header = T)\n",
    "# ex <- read.table(\"/u/home/c/cindywen/project-gandalm/isoform_twas/colocal/results_ex_90hcp_eqtl/PGC3_SCZ_wave3.european.autosome.public.v3/locus_231/ENSG00000138073_ecaviar_col\", header = T)\n",
    "# end <- read.table(\"/u/home/c/cindywen/project-gandalm/isoform_twas/colocal/results_end_100hcp_eqtl/PGC3_SCZ_wave3.european.autosome.public.v3/locus_231/ENSG00000138073_ecaviar_col\", header = T)\n",
    "# in.1 <- read.table(\"/u/home/c/cindywen/project-gandalm/isoform_twas/colocal/results_in_90hcp_eqtl/PGC3_SCZ_wave3.european.autosome.public.v3/locus_231/ENSG00000138073_ecaviar_col\", header = T)\n",
    "# ip <- read.table(\"/u/home/c/cindywen/project-gandalm/isoform_twas/colocal/results_ip_80hcp_eqtl/PGC3_SCZ_wave3.european.autosome.public.v3/locus_231/ENSG00000138073_ecaviar_col\", header = T)\n",
    "# mic <- read.table(\"/u/home/c/cindywen/project-gandalm/isoform_twas/colocal/results_mic_80hcp_eqtl/PGC3_SCZ_wave3.european.autosome.public.v3/locus_231/ENSG00000138073_ecaviar_col\", header = T)\n",
    "# opc <- read.table(\"/u/home/c/cindywen/project-gandalm/isoform_twas/colocal/results_opc_80hcp_eqtl/PGC3_SCZ_wave3.european.autosome.public.v3/locus_231/ENSG00000138073_ecaviar_col\", header = T)\n",
    "per <- read.table(\"/u/home/c/cindywen/project-gandalm/isoform_twas/colocal/results_per_70hcp_eqtl/PGC3_SCZ_wave3.european.autosome.public.v3/locus_231/ENSG00000138073_ecaviar_col\", header = T)\n",
    "# pg <- read.table(\"/u/home/c/cindywen/project-gandalm/isoform_twas/colocal/results_pg_80hcp_eqtl/PGC3_SCZ_wave3.european.autosome.public.v3/locus_231/ENSG00000138073_ecaviar_col\", header = T)\n",
    "# rg <- read.table(\"/u/home/c/cindywen/project-gandalm/isoform_twas/colocal/results_rg_100hcp_eqtl/PGC3_SCZ_wave3.european.autosome.public.v3/locus_231/ENSG00000138073_ecaviar_col\", header = T)"
   ]
  },
  {
   "cell_type": "code",
   "execution_count": 5,
   "id": "5a7bd9a9",
   "metadata": {},
   "outputs": [
    {
     "data": {
      "text/html": [
       "<style>\n",
       ".list-inline {list-style: none; margin:0; padding: 0}\n",
       ".list-inline>li {display: inline-block}\n",
       ".list-inline>li:not(:last-child)::after {content: \"\\00b7\"; padding: 0 .5ex}\n",
       "</style>\n",
       "<ol class=list-inline><li>950</li><li>3</li></ol>\n"
      ],
      "text/latex": [
       "\\begin{enumerate*}\n",
       "\\item 950\n",
       "\\item 3\n",
       "\\end{enumerate*}\n"
      ],
      "text/markdown": [
       "1. 950\n",
       "2. 3\n",
       "\n",
       "\n"
      ],
      "text/plain": [
       "[1] 950   3"
      ]
     },
     "metadata": {},
     "output_type": "display_data"
    },
    {
     "data": {
      "text/html": [
       "<style>\n",
       ".list-inline {list-style: none; margin:0; padding: 0}\n",
       ".list-inline>li {display: inline-block}\n",
       ".list-inline>li:not(:last-child)::after {content: \"\\00b7\"; padding: 0 .5ex}\n",
       "</style>\n",
       "<ol class=list-inline><li>950</li><li>3</li></ol>\n"
      ],
      "text/latex": [
       "\\begin{enumerate*}\n",
       "\\item 950\n",
       "\\item 3\n",
       "\\end{enumerate*}\n"
      ],
      "text/markdown": [
       "1. 950\n",
       "2. 3\n",
       "\n",
       "\n"
      ],
      "text/plain": [
       "[1] 950   3"
      ]
     },
     "metadata": {},
     "output_type": "display_data"
    }
   ],
   "source": [
    "dim(bulk)\n",
    "dim(per)"
   ]
  },
  {
   "cell_type": "code",
   "execution_count": 6,
   "id": "e8d7efda",
   "metadata": {},
   "outputs": [
    {
     "data": {
      "image/png": "[encoded data removed]",
      "text/plain": [
       "plot without title"
      ]
     },
     "metadata": {
      "image/png": {
       "height": 420,
       "width": 420
      }
     },
     "output_type": "display_data"
    }
   ],
   "source": [
    "df <- cbind(bulk, per)\n",
    "colnames(df)[3] <- \"CLPP_bulk\"\n",
    "colnames(df)[6] <- \"CLPP_per\"\n",
    "df <- df %>% select(CLPP_bulk, CLPP_per)\n",
    "\n",
    "ggplot(df, aes(x = CLPP_bulk, y = CLPP_per)) +\n",
    "#     geom_point() +\n",
    "    geom_count() +\n",
    "    geom_abline(slope = 1, intercept = 0, linetype = \"dashed\", color = \"red\") +\n",
    "    theme_minimal() +\n",
    "    theme(axis.text = element_text(size = 16),\n",
    "        axis.title = element_text(size = 18),\n",
    "        legend.title = element_text(size = 16),\n",
    "        legend.text = element_text(size = 14)) "
   ]
  },
  {
   "cell_type": "code",
   "execution_count": null,
   "id": "cdee5fdc",
   "metadata": {},
   "outputs": [],
   "source": []
  }
 ],
 "metadata": {
  "kernelspec": {
   "display_name": "R 4.1.0 BIO",
   "language": "R",
   "name": "ir410-bio"
  },
  "language_info": {
   "codemirror_mode": "r",
   "file_extension": ".r",
   "mimetype": "text/x-r-source",
   "name": "R",
   "pygments_lexer": "r",
   "version": "4.1.0"
  }
 },
 "nbformat": 4,
 "nbformat_minor": 5
}
