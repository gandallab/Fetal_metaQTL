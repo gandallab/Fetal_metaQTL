{
 "cells": [
  {
   "cell_type": "markdown",
   "id": "ecebb44d",
   "metadata": {},
   "source": [
    "# LDREF test\n",
    "- for ALL, extract **LDREF (1000G EUR)** variants only, tested weights computation for some genes\n",
    "- compare results between no variant filtering\n",
    "- want to do this because many data variants are missing in GWAS, default missing variants proportion is 0.5, many genes were skipped\n",
    "\n",
    "Results:\n",
    "- tested 699 genes\n",
    "- complete cases `hsq` 592, `ldref_hsq` 611\n",
    "- both 152 genes significant h2, 127 genes shared\n",
    "- for the significant h2 genes, LDREF filtering keeps ~10% of the cis SNPs\n",
    "    - `nsnps` column: `gene_all_rn_models_sum.txt` mean is 6261.599; `models_sum.txt` 531.9211"
   ]
  },
  {
   "cell_type": "code",
   "execution_count": 1,
   "id": "2c9ac558",
   "metadata": {},
   "outputs": [
    {
     "name": "stderr",
     "output_type": "stream",
     "text": [
      "── \u001b[1mAttaching packages\u001b[22m ─────────────────────────────────────── tidyverse 1.3.1 ──\n",
      "\n",
      "\u001b[32m✔\u001b[39m \u001b[34mggplot2\u001b[39m 3.3.3     \u001b[32m✔\u001b[39m \u001b[34mpurrr  \u001b[39m 0.3.4\n",
      "\u001b[32m✔\u001b[39m \u001b[34mtibble \u001b[39m 3.1.2     \u001b[32m✔\u001b[39m \u001b[34mdplyr  \u001b[39m 1.0.6\n",
      "\u001b[32m✔\u001b[39m \u001b[34mtidyr  \u001b[39m 1.1.3     \u001b[32m✔\u001b[39m \u001b[34mstringr\u001b[39m 1.4.0\n",
      "\u001b[32m✔\u001b[39m \u001b[34mreadr  \u001b[39m 1.4.0     \u001b[32m✔\u001b[39m \u001b[34mforcats\u001b[39m 0.5.1\n",
      "\n",
      "── \u001b[1mConflicts\u001b[22m ────────────────────────────────────────── tidyverse_conflicts() ──\n",
      "\u001b[31m✖\u001b[39m \u001b[34mdplyr\u001b[39m::\u001b[32mfilter()\u001b[39m masks \u001b[34mstats\u001b[39m::filter()\n",
      "\u001b[31m✖\u001b[39m \u001b[34mdplyr\u001b[39m::\u001b[32mlag()\u001b[39m    masks \u001b[34mstats\u001b[39m::lag()\n",
      "\n"
     ]
    }
   ],
   "source": [
    "library(tidyverse)"
   ]
  },
  {
   "cell_type": "code",
   "execution_count": 3,
   "id": "aef4eb85",
   "metadata": {},
   "outputs": [],
   "source": [
    "setwd(\"../results/gene_all_LDREF_rn/\")"
   ]
  },
  {
   "cell_type": "code",
   "execution_count": 4,
   "id": "b5777e6a",
   "metadata": {},
   "outputs": [],
   "source": [
    "hsq <- read.table(\"hsq/gene_all_rn_concat_hsq.txt\")\n",
    "ldref_hsq <- read.table(\"hsq/concat_hsq.txt\")"
   ]
  },
  {
   "cell_type": "code",
   "execution_count": 5,
   "id": "b64de966",
   "metadata": {},
   "outputs": [
    {
     "data": {
      "text/html": [
       "<style>\n",
       ".list-inline {list-style: none; margin:0; padding: 0}\n",
       ".list-inline>li {display: inline-block}\n",
       ".list-inline>li:not(:last-child)::after {content: \"\\00b7\"; padding: 0 .5ex}\n",
       "</style>\n",
       "<ol class=list-inline><li>699</li><li>4</li></ol>\n"
      ],
      "text/latex": [
       "\\begin{enumerate*}\n",
       "\\item 699\n",
       "\\item 4\n",
       "\\end{enumerate*}\n"
      ],
      "text/markdown": [
       "1. 699\n",
       "2. 4\n",
       "\n",
       "\n"
      ],
      "text/plain": [
       "[1] 699   4"
      ]
     },
     "metadata": {},
     "output_type": "display_data"
    },
    {
     "data": {
      "text/html": [
       "592"
      ],
      "text/latex": [
       "592"
      ],
      "text/markdown": [
       "592"
      ],
      "text/plain": [
       "[1] 592"
      ]
     },
     "metadata": {},
     "output_type": "display_data"
    },
    {
     "data": {
      "text/html": [
       "<style>\n",
       ".list-inline {list-style: none; margin:0; padding: 0}\n",
       ".list-inline>li {display: inline-block}\n",
       ".list-inline>li:not(:last-child)::after {content: \"\\00b7\"; padding: 0 .5ex}\n",
       "</style>\n",
       "<ol class=list-inline><li>699</li><li>4</li></ol>\n"
      ],
      "text/latex": [
       "\\begin{enumerate*}\n",
       "\\item 699\n",
       "\\item 4\n",
       "\\end{enumerate*}\n"
      ],
      "text/markdown": [
       "1. 699\n",
       "2. 4\n",
       "\n",
       "\n"
      ],
      "text/plain": [
       "[1] 699   4"
      ]
     },
     "metadata": {},
     "output_type": "display_data"
    },
    {
     "data": {
      "text/html": [
       "611"
      ],
      "text/latex": [
       "611"
      ],
      "text/markdown": [
       "611"
      ],
      "text/plain": [
       "[1] 611"
      ]
     },
     "metadata": {},
     "output_type": "display_data"
    }
   ],
   "source": [
    "dim(hsq)\n",
    "sum(complete.cases(hsq))\n",
    "dim(ldref_hsq)\n",
    "sum(complete.cases(ldref_hsq))"
   ]
  },
  {
   "cell_type": "code",
   "execution_count": 11,
   "id": "51e73fd7",
   "metadata": {},
   "outputs": [],
   "source": [
    "hsq <- hsq[complete.cases(hsq),]\n",
    "ldref_hsq <- ldref_hsq[complete.cases(ldref_hsq),]"
   ]
  },
  {
   "cell_type": "code",
   "execution_count": 12,
   "id": "f192b9b3",
   "metadata": {},
   "outputs": [],
   "source": [
    "colnames(hsq) <- c(\"gene\", \"h2\", \"se\", \"pval\")\n",
    "colnames(ldref_hsq) <- c(\"gene\", \"h2\", \"se\", \"pval\")"
   ]
  },
  {
   "cell_type": "code",
   "execution_count": 15,
   "id": "f7304f90",
   "metadata": {},
   "outputs": [
    {
     "data": {
      "text/html": [
       "<style>\n",
       ".list-inline {list-style: none; margin:0; padding: 0}\n",
       ".list-inline>li {display: inline-block}\n",
       ".list-inline>li:not(:last-child)::after {content: \"\\00b7\"; padding: 0 .5ex}\n",
       "</style>\n",
       "<ol class=list-inline><li>152</li><li>1</li></ol>\n"
      ],
      "text/latex": [
       "\\begin{enumerate*}\n",
       "\\item 152\n",
       "\\item 1\n",
       "\\end{enumerate*}\n"
      ],
      "text/markdown": [
       "1. 152\n",
       "2. 1\n",
       "\n",
       "\n"
      ],
      "text/plain": [
       "[1] 152   1"
      ]
     },
     "metadata": {},
     "output_type": "display_data"
    },
    {
     "data": {
      "text/html": [
       "<style>\n",
       ".list-inline {list-style: none; margin:0; padding: 0}\n",
       ".list-inline>li {display: inline-block}\n",
       ".list-inline>li:not(:last-child)::after {content: \"\\00b7\"; padding: 0 .5ex}\n",
       "</style>\n",
       "<ol class=list-inline><li>152</li><li>1</li></ol>\n"
      ],
      "text/latex": [
       "\\begin{enumerate*}\n",
       "\\item 152\n",
       "\\item 1\n",
       "\\end{enumerate*}\n"
      ],
      "text/markdown": [
       "1. 152\n",
       "2. 1\n",
       "\n",
       "\n"
      ],
      "text/plain": [
       "[1] 152   1"
      ]
     },
     "metadata": {},
     "output_type": "display_data"
    }
   ],
   "source": [
    "sig_gene <- hsq %>% filter(pval < .05, h2 >0) %>% select(gene)\n",
    "dim(sig_gene)\n",
    "sig_gene_ldref <- ldref_hsq %>% filter(pval < .05, h2 >0) %>% select(gene)\n",
    "dim(sig_gene_ldref)"
   ]
  },
  {
   "cell_type": "code",
   "execution_count": 16,
   "id": "c32ce9f9",
   "metadata": {},
   "outputs": [
    {
     "data": {
      "text/html": [
       "127"
      ],
      "text/latex": [
       "127"
      ],
      "text/markdown": [
       "127"
      ],
      "text/plain": [
       "[1] 127"
      ]
     },
     "metadata": {},
     "output_type": "display_data"
    }
   ],
   "source": [
    "sum(sig_gene$gene %in% sig_gene_ldref$gene)"
   ]
  },
  {
   "cell_type": "code",
   "execution_count": 18,
   "id": "3a74dca0",
   "metadata": {},
   "outputs": [],
   "source": [
    "sig_gene$gene <- gsub(\"^\", \"/u/project/gandalm/cindywen/isoform_twas/TWAS/results/gene_all_rn/\", sig_gene$gene)\n",
    "sig_gene$gene <- gsub(\"$\", \".wgt.RDat\", sig_gene$gene)"
   ]
  },
  {
   "cell_type": "code",
   "execution_count": 20,
   "id": "29a76767",
   "metadata": {},
   "outputs": [],
   "source": [
    "sig_gene_ldref$gene <- gsub(\"^\", \"/u/project/gandalm/cindywen/isoform_twas/TWAS/results/gene_all_LDREF_rn/\", sig_gene_ldref$gene)\n",
    "sig_gene_ldref$gene <- gsub(\"$\", \".wgt.RDat\", sig_gene_ldref$gene)"
   ]
  },
  {
   "cell_type": "code",
   "execution_count": 22,
   "id": "dfb55c9c",
   "metadata": {},
   "outputs": [],
   "source": [
    "write.table(sig_gene, \"hsq/gene_all_rn_WGTLIST.txt\", col.names = F, row.names = F, quote = F, sep = \"\\t\")\n",
    "write.table(sig_gene_ldref, \"hsq/WGTLIST.txt\", col.names = F, row.names = F, quote = F, sep = \"\\t\")"
   ]
  },
  {
   "cell_type": "code",
   "execution_count": null,
   "id": "cb5c036f",
   "metadata": {},
   "outputs": [],
   "source": []
  }
 ],
 "metadata": {
  "kernelspec": {
   "display_name": "R 4.1.0 BIO",
   "language": "R",
   "name": "ir410-bio"
  },
  "language_info": {
   "codemirror_mode": "r",
   "file_extension": ".r",
   "mimetype": "text/x-r-source",
   "name": "R",
   "pygments_lexer": "r",
   "version": "4.1.0"
  }
 },
 "nbformat": 4,
 "nbformat_minor": 5
}
