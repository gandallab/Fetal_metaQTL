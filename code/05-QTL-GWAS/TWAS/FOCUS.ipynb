{
 "cells": [
  {
   "cell_type": "markdown",
   "id": "e00f2c2a",
   "metadata": {},
   "source": [
    "# FOCUS analysis"
   ]
  },
  {
   "cell_type": "code",
   "execution_count": 7,
   "id": "26df27d8",
   "metadata": {},
   "outputs": [
    {
     "name": "stderr",
     "output_type": "stream",
     "text": [
      "\n",
      "Attaching package: ‘dplyr’\n",
      "\n",
      "\n",
      "The following objects are masked from ‘package:stats’:\n",
      "\n",
      "    filter, lag\n",
      "\n",
      "\n",
      "The following objects are masked from ‘package:base’:\n",
      "\n",
      "    intersect, setdiff, setequal, union\n",
      "\n",
      "\n"
     ]
    }
   ],
   "source": [
    "library(dplyr)"
   ]
  },
  {
   "cell_type": "markdown",
   "id": "fb6722d7",
   "metadata": {},
   "source": [
    "- found 1703 LD independent blocks in the genome\n",
    "- for each block, 1/(#GENCODE genes) assign prior to each genes in the block/region\n",
    "- if no GWAS sig SNP in the block, skip (extra analysis if want to know new signals discovered by TWAS, not GWAS)\n",
    "- if there is GWAS SNPs, find common genes to be fine-mapped, i.e. have eQTL weights, in BED file\n",
    "- run TWAS, fine-map these genes. Assign a PIP for each. Rank by PIP and generate CS\n",
    "\n",
    "**results**\n",
    "- 161 GWAS blocks, 161 LD blocks that have SCZ GWAS SNP\n",
    "- found CS for 154 of these blocks?\n",
    "- 563 unique genes in all CS. Why same gene in CS of different blocks?\n",
    "- CS on averge 3.6 genes, max 22 genes\n",
    "- each block has a NULL.MODEL row, many are in CS? Not sure what these are. Ignore for now"
   ]
  },
  {
   "cell_type": "code",
   "execution_count": 1,
   "id": "902d8e16",
   "metadata": {},
   "outputs": [],
   "source": [
    "dat <- read.table(\"../results/gene_all_LDREF_rn/FOCUS/all_1-22.focus.tsv\", header = T)"
   ]
  },
  {
   "cell_type": "code",
   "execution_count": 3,
   "id": "45bef8b8",
   "metadata": {},
   "outputs": [
    {
     "data": {
      "text/html": [
       "<table class=\"dataframe\">\n",
       "<caption>A data.frame: 6 × 20</caption>\n",
       "<thead>\n",
       "\t<tr><th></th><th scope=col>block</th><th scope=col>ens_gene_id</th><th scope=col>ens_tx_id</th><th scope=col>mol_name</th><th scope=col>tissue</th><th scope=col>ref_name</th><th scope=col>type</th><th scope=col>chrom</th><th scope=col>tx_start</th><th scope=col>tx_stop</th><th scope=col>block_genes</th><th scope=col>trait</th><th scope=col>inference_pop1</th><th scope=col>inter_z_pop1</th><th scope=col>cv.R2_pop1</th><th scope=col>cv.R2.pval_pop1</th><th scope=col>ldregion_pop1</th><th scope=col>twas_z_pop1</th><th scope=col>pips_pop1</th><th scope=col>in_cred_set_pop1</th></tr>\n",
       "\t<tr><th></th><th scope=col>&lt;chr&gt;</th><th scope=col>&lt;chr&gt;</th><th scope=col>&lt;lgl&gt;</th><th scope=col>&lt;chr&gt;</th><th scope=col>&lt;chr&gt;</th><th scope=col>&lt;chr&gt;</th><th scope=col>&lt;chr&gt;</th><th scope=col>&lt;int&gt;</th><th scope=col>&lt;int&gt;</th><th scope=col>&lt;int&gt;</th><th scope=col>&lt;int&gt;</th><th scope=col>&lt;chr&gt;</th><th scope=col>&lt;chr&gt;</th><th scope=col>&lt;lgl&gt;</th><th scope=col>&lt;dbl&gt;</th><th scope=col>&lt;dbl&gt;</th><th scope=col>&lt;chr&gt;</th><th scope=col>&lt;dbl&gt;</th><th scope=col>&lt;dbl&gt;</th><th scope=col>&lt;int&gt;</th></tr>\n",
       "</thead>\n",
       "<tbody>\n",
       "\t<tr><th scope=row>1</th><td>1:1892607-1:3582736</td><td>NULL.MODEL     </td><td>NA</td><td>NULL      </td><td>NA   </td><td>NA </td><td>NULL          </td><td>1</td><td>     NA</td><td>     NA</td><td>47</td><td>trait</td><td>NA   </td><td>NA</td><td>        NA</td><td>          NA</td><td>1:1900232-1:3580574</td><td> 0.00</td><td>0.322</td><td>1</td></tr>\n",
       "\t<tr><th scope=row>2</th><td>1:1892607-1:3582736</td><td>ENSG00000162585</td><td>NA</td><td>FAAP20    </td><td>brain</td><td>all</td><td>protein_coding</td><td>1</td><td>2144158</td><td>2144159</td><td>47</td><td>trait</td><td>susie</td><td>NA</td><td>0.01687136</td><td>6.390942e-04</td><td>1:1900232-1:3580574</td><td>-3.09</td><td>0.187</td><td>1</td></tr>\n",
       "\t<tr><th scope=row>3</th><td>1:1892607-1:3582736</td><td>AL109917.1     </td><td>NA</td><td>AL109917.1</td><td>brain</td><td>all</td><td>NA            </td><td>1</td><td>1822909</td><td>1822910</td><td>47</td><td>trait</td><td>susie</td><td>NA</td><td>0.01288840</td><td>2.520732e-03</td><td>1:1900232-1:3580574</td><td> 3.05</td><td>0.178</td><td>1</td></tr>\n",
       "\t<tr><th scope=row>4</th><td>1:1892607-1:3582736</td><td>ENSG00000116213</td><td>NA</td><td>WRAP73    </td><td>brain</td><td>all</td><td>protein_coding</td><td>1</td><td>3569324</td><td>3569325</td><td>47</td><td>trait</td><td>enet </td><td>NA</td><td>0.11710477</td><td>6.120872e-19</td><td>1:1900232-1:3580574</td><td>-2.65</td><td>0.134</td><td>1</td></tr>\n",
       "\t<tr><th scope=row>5</th><td>1:1892607-1:3582736</td><td>ENSG00000189409</td><td>NA</td><td>MMP23B    </td><td>brain</td><td>all</td><td>protein_coding</td><td>1</td><td>1567541</td><td>1567542</td><td>47</td><td>trait</td><td>susie</td><td>NA</td><td>0.06154742</td><td>1.690023e-10</td><td>1:1900232-1:3580574</td><td>-2.95</td><td>0.128</td><td>1</td></tr>\n",
       "\t<tr><th scope=row>6</th><td>1:1892607-1:3582736</td><td>ENSG00000189339</td><td>NA</td><td>SLC35E2B  </td><td>brain</td><td>all</td><td>protein_coding</td><td>1</td><td>1624233</td><td>1624234</td><td>47</td><td>trait</td><td>enet </td><td>NA</td><td>0.16015297</td><td>8.228694e-26</td><td>1:1900232-1:3580574</td><td>-2.94</td><td>0.122</td><td>1</td></tr>\n",
       "</tbody>\n",
       "</table>\n"
      ],
      "text/latex": [
       "A data.frame: 6 × 20\n",
       "\\begin{tabular}{r|llllllllllllllllllll}\n",
       "  & block & ens\\_gene\\_id & ens\\_tx\\_id & mol\\_name & tissue & ref\\_name & type & chrom & tx\\_start & tx\\_stop & block\\_genes & trait & inference\\_pop1 & inter\\_z\\_pop1 & cv.R2\\_pop1 & cv.R2.pval\\_pop1 & ldregion\\_pop1 & twas\\_z\\_pop1 & pips\\_pop1 & in\\_cred\\_set\\_pop1\\\\\n",
       "  & <chr> & <chr> & <lgl> & <chr> & <chr> & <chr> & <chr> & <int> & <int> & <int> & <int> & <chr> & <chr> & <lgl> & <dbl> & <dbl> & <chr> & <dbl> & <dbl> & <int>\\\\\n",
       "\\hline\n",
       "\t1 & 1:1892607-1:3582736 & NULL.MODEL      & NA & NULL       & NA    & NA  & NULL           & 1 &      NA &      NA & 47 & trait & NA    & NA &         NA &           NA & 1:1900232-1:3580574 &  0.00 & 0.322 & 1\\\\\n",
       "\t2 & 1:1892607-1:3582736 & ENSG00000162585 & NA & FAAP20     & brain & all & protein\\_coding & 1 & 2144158 & 2144159 & 47 & trait & susie & NA & 0.01687136 & 6.390942e-04 & 1:1900232-1:3580574 & -3.09 & 0.187 & 1\\\\\n",
       "\t3 & 1:1892607-1:3582736 & AL109917.1      & NA & AL109917.1 & brain & all & NA             & 1 & 1822909 & 1822910 & 47 & trait & susie & NA & 0.01288840 & 2.520732e-03 & 1:1900232-1:3580574 &  3.05 & 0.178 & 1\\\\\n",
       "\t4 & 1:1892607-1:3582736 & ENSG00000116213 & NA & WRAP73     & brain & all & protein\\_coding & 1 & 3569324 & 3569325 & 47 & trait & enet  & NA & 0.11710477 & 6.120872e-19 & 1:1900232-1:3580574 & -2.65 & 0.134 & 1\\\\\n",
       "\t5 & 1:1892607-1:3582736 & ENSG00000189409 & NA & MMP23B     & brain & all & protein\\_coding & 1 & 1567541 & 1567542 & 47 & trait & susie & NA & 0.06154742 & 1.690023e-10 & 1:1900232-1:3580574 & -2.95 & 0.128 & 1\\\\\n",
       "\t6 & 1:1892607-1:3582736 & ENSG00000189339 & NA & SLC35E2B   & brain & all & protein\\_coding & 1 & 1624233 & 1624234 & 47 & trait & enet  & NA & 0.16015297 & 8.228694e-26 & 1:1900232-1:3580574 & -2.94 & 0.122 & 1\\\\\n",
       "\\end{tabular}\n"
      ],
      "text/markdown": [
       "\n",
       "A data.frame: 6 × 20\n",
       "\n",
       "| <!--/--> | block &lt;chr&gt; | ens_gene_id &lt;chr&gt; | ens_tx_id &lt;lgl&gt; | mol_name &lt;chr&gt; | tissue &lt;chr&gt; | ref_name &lt;chr&gt; | type &lt;chr&gt; | chrom &lt;int&gt; | tx_start &lt;int&gt; | tx_stop &lt;int&gt; | block_genes &lt;int&gt; | trait &lt;chr&gt; | inference_pop1 &lt;chr&gt; | inter_z_pop1 &lt;lgl&gt; | cv.R2_pop1 &lt;dbl&gt; | cv.R2.pval_pop1 &lt;dbl&gt; | ldregion_pop1 &lt;chr&gt; | twas_z_pop1 &lt;dbl&gt; | pips_pop1 &lt;dbl&gt; | in_cred_set_pop1 &lt;int&gt; |\n",
       "|---|---|---|---|---|---|---|---|---|---|---|---|---|---|---|---|---|---|---|---|---|\n",
       "| 1 | 1:1892607-1:3582736 | NULL.MODEL      | NA | NULL       | NA    | NA  | NULL           | 1 |      NA |      NA | 47 | trait | NA    | NA |         NA |           NA | 1:1900232-1:3580574 |  0.00 | 0.322 | 1 |\n",
       "| 2 | 1:1892607-1:3582736 | ENSG00000162585 | NA | FAAP20     | brain | all | protein_coding | 1 | 2144158 | 2144159 | 47 | trait | susie | NA | 0.01687136 | 6.390942e-04 | 1:1900232-1:3580574 | -3.09 | 0.187 | 1 |\n",
       "| 3 | 1:1892607-1:3582736 | AL109917.1      | NA | AL109917.1 | brain | all | NA             | 1 | 1822909 | 1822910 | 47 | trait | susie | NA | 0.01288840 | 2.520732e-03 | 1:1900232-1:3580574 |  3.05 | 0.178 | 1 |\n",
       "| 4 | 1:1892607-1:3582736 | ENSG00000116213 | NA | WRAP73     | brain | all | protein_coding | 1 | 3569324 | 3569325 | 47 | trait | enet  | NA | 0.11710477 | 6.120872e-19 | 1:1900232-1:3580574 | -2.65 | 0.134 | 1 |\n",
       "| 5 | 1:1892607-1:3582736 | ENSG00000189409 | NA | MMP23B     | brain | all | protein_coding | 1 | 1567541 | 1567542 | 47 | trait | susie | NA | 0.06154742 | 1.690023e-10 | 1:1900232-1:3580574 | -2.95 | 0.128 | 1 |\n",
       "| 6 | 1:1892607-1:3582736 | ENSG00000189339 | NA | SLC35E2B   | brain | all | protein_coding | 1 | 1624233 | 1624234 | 47 | trait | enet  | NA | 0.16015297 | 8.228694e-26 | 1:1900232-1:3580574 | -2.94 | 0.122 | 1 |\n",
       "\n"
      ],
      "text/plain": [
       "  block               ens_gene_id     ens_tx_id mol_name   tissue ref_name\n",
       "1 1:1892607-1:3582736 NULL.MODEL      NA        NULL       NA     NA      \n",
       "2 1:1892607-1:3582736 ENSG00000162585 NA        FAAP20     brain  all     \n",
       "3 1:1892607-1:3582736 AL109917.1      NA        AL109917.1 brain  all     \n",
       "4 1:1892607-1:3582736 ENSG00000116213 NA        WRAP73     brain  all     \n",
       "5 1:1892607-1:3582736 ENSG00000189409 NA        MMP23B     brain  all     \n",
       "6 1:1892607-1:3582736 ENSG00000189339 NA        SLC35E2B   brain  all     \n",
       "  type           chrom tx_start tx_stop block_genes trait inference_pop1\n",
       "1 NULL           1          NA       NA 47          trait NA            \n",
       "2 protein_coding 1     2144158  2144159 47          trait susie         \n",
       "3 NA             1     1822909  1822910 47          trait susie         \n",
       "4 protein_coding 1     3569324  3569325 47          trait enet          \n",
       "5 protein_coding 1     1567541  1567542 47          trait susie         \n",
       "6 protein_coding 1     1624233  1624234 47          trait enet          \n",
       "  inter_z_pop1 cv.R2_pop1 cv.R2.pval_pop1 ldregion_pop1       twas_z_pop1\n",
       "1 NA                   NA           NA    1:1900232-1:3580574  0.00      \n",
       "2 NA           0.01687136 6.390942e-04    1:1900232-1:3580574 -3.09      \n",
       "3 NA           0.01288840 2.520732e-03    1:1900232-1:3580574  3.05      \n",
       "4 NA           0.11710477 6.120872e-19    1:1900232-1:3580574 -2.65      \n",
       "5 NA           0.06154742 1.690023e-10    1:1900232-1:3580574 -2.95      \n",
       "6 NA           0.16015297 8.228694e-26    1:1900232-1:3580574 -2.94      \n",
       "  pips_pop1 in_cred_set_pop1\n",
       "1 0.322     1               \n",
       "2 0.187     1               \n",
       "3 0.178     1               \n",
       "4 0.134     1               \n",
       "5 0.128     1               \n",
       "6 0.122     1               "
      ]
     },
     "metadata": {},
     "output_type": "display_data"
    }
   ],
   "source": [
    "head(dat)"
   ]
  },
  {
   "cell_type": "code",
   "execution_count": 4,
   "id": "415e9b43",
   "metadata": {},
   "outputs": [
    {
     "data": {
      "text/html": [
       "<style>\n",
       ".list-inline {list-style: none; margin:0; padding: 0}\n",
       ".list-inline>li {display: inline-block}\n",
       ".list-inline>li:not(:last-child)::after {content: \"\\00b7\"; padding: 0 .5ex}\n",
       "</style>\n",
       "<ol class=list-inline><li>2205</li><li>20</li></ol>\n"
      ],
      "text/latex": [
       "\\begin{enumerate*}\n",
       "\\item 2205\n",
       "\\item 20\n",
       "\\end{enumerate*}\n"
      ],
      "text/markdown": [
       "1. 2205\n",
       "2. 20\n",
       "\n",
       "\n"
      ],
      "text/plain": [
       "[1] 2205   20"
      ]
     },
     "metadata": {},
     "output_type": "display_data"
    },
    {
     "data": {
      "text/html": [
       "161"
      ],
      "text/latex": [
       "161"
      ],
      "text/markdown": [
       "161"
      ],
      "text/plain": [
       "[1] 161"
      ]
     },
     "metadata": {},
     "output_type": "display_data"
    },
    {
     "data": {
      "text/html": [
       "161"
      ],
      "text/latex": [
       "161"
      ],
      "text/markdown": [
       "161"
      ],
      "text/plain": [
       "[1] 161"
      ]
     },
     "metadata": {},
     "output_type": "display_data"
    }
   ],
   "source": [
    "dim(dat)\n",
    "length(unique(dat$block))\n",
    "sum(dat$ens_gene_id == \"NULL.MODEL\")"
   ]
  },
  {
   "cell_type": "code",
   "execution_count": 10,
   "id": "4cc396b6",
   "metadata": {},
   "outputs": [
    {
     "data": {
      "text/html": [
       "86"
      ],
      "text/latex": [
       "86"
      ],
      "text/markdown": [
       "86"
      ],
      "text/plain": [
       "[1] 86"
      ]
     },
     "metadata": {},
     "output_type": "display_data"
    }
   ],
   "source": [
    "sum(dat$ens_gene_id == \"NULL.MODEL\" & dat$in_cred_set_pop1 == 1)"
   ]
  },
  {
   "cell_type": "code",
   "execution_count": 12,
   "id": "b392faf0",
   "metadata": {},
   "outputs": [],
   "source": [
    "dat <- dat %>% filter(ens_gene_id != \"NULL.MODEL\")"
   ]
  },
  {
   "cell_type": "code",
   "execution_count": 13,
   "id": "65b59f02",
   "metadata": {},
   "outputs": [],
   "source": [
    "dat_cs <- dat %>% filter(in_cred_set_pop1 == 1)"
   ]
  },
  {
   "cell_type": "code",
   "execution_count": 15,
   "id": "528c050e",
   "metadata": {},
   "outputs": [
    {
     "data": {
      "text/html": [
       "<style>\n",
       ".list-inline {list-style: none; margin:0; padding: 0}\n",
       ".list-inline>li {display: inline-block}\n",
       ".list-inline>li:not(:last-child)::after {content: \"\\00b7\"; padding: 0 .5ex}\n",
       "</style>\n",
       "<ol class=list-inline><li>585</li><li>20</li></ol>\n"
      ],
      "text/latex": [
       "\\begin{enumerate*}\n",
       "\\item 585\n",
       "\\item 20\n",
       "\\end{enumerate*}\n"
      ],
      "text/markdown": [
       "1. 585\n",
       "2. 20\n",
       "\n",
       "\n"
      ],
      "text/plain": [
       "[1] 585  20"
      ]
     },
     "metadata": {},
     "output_type": "display_data"
    },
    {
     "data": {
      "text/html": [
       "563"
      ],
      "text/latex": [
       "563"
      ],
      "text/markdown": [
       "563"
      ],
      "text/plain": [
       "[1] 563"
      ]
     },
     "metadata": {},
     "output_type": "display_data"
    },
    {
     "data": {
      "text/html": [
       "154"
      ],
      "text/latex": [
       "154"
      ],
      "text/markdown": [
       "154"
      ],
      "text/plain": [
       "[1] 154"
      ]
     },
     "metadata": {},
     "output_type": "display_data"
    }
   ],
   "source": [
    "dim(dat_cs)\n",
    "length(unique(dat_cs$ens_gene_id))\n",
    "length(unique(dat_cs$block))"
   ]
  },
  {
   "cell_type": "code",
   "execution_count": 16,
   "id": "71b3b889",
   "metadata": {},
   "outputs": [
    {
     "data": {
      "text/html": [
       "3.65584415584416"
      ],
      "text/latex": [
       "3.65584415584416"
      ],
      "text/markdown": [
       "3.65584415584416"
      ],
      "text/plain": [
       "[1] 3.655844"
      ]
     },
     "metadata": {},
     "output_type": "display_data"
    }
   ],
   "source": [
    "563/154"
   ]
  },
  {
   "cell_type": "code",
   "execution_count": 17,
   "id": "d56cb442",
   "metadata": {},
   "outputs": [
    {
     "data": {
      "text/html": [
       "161.72102"
      ],
      "text/latex": [
       "161.72102"
      ],
      "text/markdown": [
       "161.72102"
      ],
      "text/plain": [
       "[1] 161.721"
      ]
     },
     "metadata": {},
     "output_type": "display_data"
    }
   ],
   "source": [
    "sum(dat_cs$pips_pop1)"
   ]
  },
  {
   "cell_type": "code",
   "execution_count": 18,
   "id": "caa87070",
   "metadata": {},
   "outputs": [],
   "source": [
    "write.table(dat_cs, \"../results/gene_all_LDREF_rn/FOCUS/all_1-22.focus.CS.tsv\", col.names = T, row.names = F, quote = F, sep = \"\\t\")"
   ]
  },
  {
   "cell_type": "code",
   "execution_count": 24,
   "id": "5bf01ef6",
   "metadata": {},
   "outputs": [
    {
     "data": {
      "text/html": [
       "<table class=\"dataframe\">\n",
       "<caption>A data.frame: 5 × 2</caption>\n",
       "<thead>\n",
       "\t<tr><th></th><th scope=col>block</th><th scope=col>n</th></tr>\n",
       "\t<tr><th></th><th scope=col>&lt;chr&gt;</th><th scope=col>&lt;int&gt;</th></tr>\n",
       "</thead>\n",
       "<tbody>\n",
       "\t<tr><th scope=row>1</th><td>5:139265072-5:140645971</td><td>22</td></tr>\n",
       "\t<tr><th scope=row>2</th><td>17:43056905-17:45876022</td><td>18</td></tr>\n",
       "\t<tr><th scope=row>3</th><td>20:61301855-20:62190180</td><td>14</td></tr>\n",
       "\t<tr><th scope=row>4</th><td>15:84260468-15:86652905</td><td>13</td></tr>\n",
       "\t<tr><th scope=row>5</th><td>8:144236881-8:146303867</td><td>13</td></tr>\n",
       "</tbody>\n",
       "</table>\n"
      ],
      "text/latex": [
       "A data.frame: 5 × 2\n",
       "\\begin{tabular}{r|ll}\n",
       "  & block & n\\\\\n",
       "  & <chr> & <int>\\\\\n",
       "\\hline\n",
       "\t1 & 5:139265072-5:140645971 & 22\\\\\n",
       "\t2 & 17:43056905-17:45876022 & 18\\\\\n",
       "\t3 & 20:61301855-20:62190180 & 14\\\\\n",
       "\t4 & 15:84260468-15:86652905 & 13\\\\\n",
       "\t5 & 8:144236881-8:146303867 & 13\\\\\n",
       "\\end{tabular}\n"
      ],
      "text/markdown": [
       "\n",
       "A data.frame: 5 × 2\n",
       "\n",
       "| <!--/--> | block &lt;chr&gt; | n &lt;int&gt; |\n",
       "|---|---|---|\n",
       "| 1 | 5:139265072-5:140645971 | 22 |\n",
       "| 2 | 17:43056905-17:45876022 | 18 |\n",
       "| 3 | 20:61301855-20:62190180 | 14 |\n",
       "| 4 | 15:84260468-15:86652905 | 13 |\n",
       "| 5 | 8:144236881-8:146303867 | 13 |\n",
       "\n"
      ],
      "text/plain": [
       "  block                   n \n",
       "1 5:139265072-5:140645971 22\n",
       "2 17:43056905-17:45876022 18\n",
       "3 20:61301855-20:62190180 14\n",
       "4 15:84260468-15:86652905 13\n",
       "5 8:144236881-8:146303867 13"
      ]
     },
     "metadata": {},
     "output_type": "display_data"
    }
   ],
   "source": [
    "dat_cs %>% count(block) %>% arrange(desc(n)) %>% head(5)"
   ]
  },
  {
   "cell_type": "code",
   "execution_count": null,
   "id": "692ee614",
   "metadata": {},
   "outputs": [],
   "source": []
  }
 ],
 "metadata": {
  "kernelspec": {
   "display_name": "R 4.2.2-BIO",
   "language": "R",
   "name": "ir422-bio"
  },
  "language_info": {
   "codemirror_mode": "r",
   "file_extension": ".r",
   "mimetype": "text/x-r-source",
   "name": "R",
   "pygments_lexer": "r",
   "version": "4.2.2"
  }
 },
 "nbformat": 4,
 "nbformat_minor": 5
}
