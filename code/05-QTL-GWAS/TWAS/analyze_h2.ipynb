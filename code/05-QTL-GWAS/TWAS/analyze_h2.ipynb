{
 "cells": [
  {
   "cell_type": "code",
   "execution_count": 1,
   "metadata": {
    "collapsed": false,
    "deletable": true,
    "editable": true
   },
   "outputs": [
    {
     "name": "stderr",
     "output_type": "stream",
     "text": [
      "\n",
      "Attaching package: ‘dplyr’\n",
      "\n",
      "\n",
      "The following objects are masked from ‘package:data.table’:\n",
      "\n",
      "    between, first, last\n",
      "\n",
      "\n",
      "The following objects are masked from ‘package:stats’:\n",
      "\n",
      "    filter, lag\n",
      "\n",
      "\n",
      "The following objects are masked from ‘package:base’:\n",
      "\n",
      "    intersect, setdiff, setequal, union\n",
      "\n",
      "\n"
     ]
    }
   ],
   "source": [
    "library(data.table)\n",
    "library(ggplot2)\n",
    "library(dplyr)"
   ]
  },
  {
   "cell_type": "markdown",
   "metadata": {
    "deletable": true,
    "editable": true
   },
   "source": [
    "### FUSION\n",
    "- EUR only (N=285)\n",
    "- using TOPMED imputed genotype\n",
    "- susie, top1, elastic net\n",
    "- 1e6 cis window\n",
    "- **not extracting 1kg LDREF variants**"
   ]
  },
  {
   "cell_type": "code",
   "execution_count": 2,
   "metadata": {
    "collapsed": false,
    "deletable": true,
    "editable": true
   },
   "outputs": [],
   "source": [
    "hsq <- fread(\"gene_eur_concat.hsq\", data.table = F)"
   ]
  },
  {
   "cell_type": "code",
   "execution_count": 3,
   "metadata": {
    "collapsed": false,
    "deletable": true,
    "editable": true
   },
   "outputs": [
    {
     "data": {
      "text/html": [
       "<style>\n",
       ".list-inline {list-style: none; margin:0; padding: 0}\n",
       ".list-inline>li {display: inline-block}\n",
       ".list-inline>li:not(:last-child)::after {content: \"\\00b7\"; padding: 0 .5ex}\n",
       "</style>\n",
       "<ol class=list-inline><li>30774</li><li>4</li></ol>\n"
      ],
      "text/latex": [
       "\\begin{enumerate*}\n",
       "\\item 30774\n",
       "\\item 4\n",
       "\\end{enumerate*}\n"
      ],
      "text/markdown": [
       "1. 30774\n",
       "2. 4\n",
       "\n",
       "\n"
      ],
      "text/plain": [
       "[1] 30774     4"
      ]
     },
     "metadata": {},
     "output_type": "display_data"
    }
   ],
   "source": [
    "dim(hsq)"
   ]
  },
  {
   "cell_type": "code",
   "execution_count": 3,
   "metadata": {
    "collapsed": false,
    "deletable": true,
    "editable": true
   },
   "outputs": [
    {
     "data": {
      "text/html": [
       "<style>\n",
       ".list-inline {list-style: none; margin:0; padding: 0}\n",
       ".list-inline>li {display: inline-block}\n",
       ".list-inline>li:not(:last-child)::after {content: \"\\00b7\"; padding: 0 .5ex}\n",
       "</style>\n",
       "<ol class=list-inline><li>29255</li><li>4</li></ol>\n"
      ],
      "text/latex": [
       "\\begin{enumerate*}\n",
       "\\item 29255\n",
       "\\item 4\n",
       "\\end{enumerate*}\n"
      ],
      "text/markdown": [
       "1. 29255\n",
       "2. 4\n",
       "\n",
       "\n"
      ],
      "text/plain": [
       "[1] 29255     4"
      ]
     },
     "metadata": {},
     "output_type": "display_data"
    }
   ],
   "source": [
    "# NAs are GCTA not converging, skipping those features\n",
    "dim(hsq[complete.cases(hsq),])"
   ]
  },
  {
   "cell_type": "code",
   "execution_count": 4,
   "metadata": {
    "collapsed": true,
    "deletable": true,
    "editable": true
   },
   "outputs": [],
   "source": [
    "hsq <- hsq %>% filter(complete.cases(hsq))"
   ]
  },
  {
   "cell_type": "code",
   "execution_count": 7,
   "metadata": {
    "collapsed": false,
    "deletable": true,
    "editable": true
   },
   "outputs": [
    {
     "data": {
      "text/html": [
       "<table>\n",
       "<caption>A data.frame: 6 × 4</caption>\n",
       "<thead>\n",
       "\t<tr><th></th><th scope=col>V1</th><th scope=col>V2</th><th scope=col>V3</th><th scope=col>V4</th></tr>\n",
       "\t<tr><th></th><th scope=col>&lt;chr&gt;</th><th scope=col>&lt;dbl&gt;</th><th scope=col>&lt;dbl&gt;</th><th scope=col>&lt;dbl&gt;</th></tr>\n",
       "</thead>\n",
       "<tbody>\n",
       "\t<tr><th scope=row>1</th><td>./WEIGHTS/ENSG00000140479</td><td>-0.055509</td><td>0.035026</td><td>1.1879e-01</td></tr>\n",
       "\t<tr><th scope=row>2</th><td>./WEIGHTS/ENSG00000286733</td><td> 0.086395</td><td>0.071297</td><td>6.7509e-02</td></tr>\n",
       "\t<tr><th scope=row>3</th><td>./WEIGHTS/ENSG00000252614</td><td>-0.043682</td><td>0.032127</td><td>1.3355e-01</td></tr>\n",
       "\t<tr><th scope=row>4</th><td>./WEIGHTS/ENSG00000184277</td><td> 0.234826</td><td>0.079374</td><td>1.4563e-06</td></tr>\n",
       "\t<tr><th scope=row>5</th><td>./WEIGHTS/ENSG00000185418</td><td> 0.154647</td><td>0.067470</td><td>7.1501e-05</td></tr>\n",
       "\t<tr><th scope=row>6</th><td>./WEIGHTS/ENSG00000259658</td><td> 0.095547</td><td>0.065145</td><td>1.8677e-02</td></tr>\n",
       "</tbody>\n",
       "</table>\n"
      ],
      "text/latex": [
       "A data.frame: 6 × 4\n",
       "\\begin{tabular}{r|llll}\n",
       "  & V1 & V2 & V3 & V4\\\\\n",
       "  & <chr> & <dbl> & <dbl> & <dbl>\\\\\n",
       "\\hline\n",
       "\t1 & ./WEIGHTS/ENSG00000140479 & -0.055509 & 0.035026 & 1.1879e-01\\\\\n",
       "\t2 & ./WEIGHTS/ENSG00000286733 &  0.086395 & 0.071297 & 6.7509e-02\\\\\n",
       "\t3 & ./WEIGHTS/ENSG00000252614 & -0.043682 & 0.032127 & 1.3355e-01\\\\\n",
       "\t4 & ./WEIGHTS/ENSG00000184277 &  0.234826 & 0.079374 & 1.4563e-06\\\\\n",
       "\t5 & ./WEIGHTS/ENSG00000185418 &  0.154647 & 0.067470 & 7.1501e-05\\\\\n",
       "\t6 & ./WEIGHTS/ENSG00000259658 &  0.095547 & 0.065145 & 1.8677e-02\\\\\n",
       "\\end{tabular}\n"
      ],
      "text/markdown": [
       "\n",
       "A data.frame: 6 × 4\n",
       "\n",
       "| <!--/--> | V1 &lt;chr&gt; | V2 &lt;dbl&gt; | V3 &lt;dbl&gt; | V4 &lt;dbl&gt; |\n",
       "|---|---|---|---|---|\n",
       "| 1 | ./WEIGHTS/ENSG00000140479 | -0.055509 | 0.035026 | 1.1879e-01 |\n",
       "| 2 | ./WEIGHTS/ENSG00000286733 |  0.086395 | 0.071297 | 6.7509e-02 |\n",
       "| 3 | ./WEIGHTS/ENSG00000252614 | -0.043682 | 0.032127 | 1.3355e-01 |\n",
       "| 4 | ./WEIGHTS/ENSG00000184277 |  0.234826 | 0.079374 | 1.4563e-06 |\n",
       "| 5 | ./WEIGHTS/ENSG00000185418 |  0.154647 | 0.067470 | 7.1501e-05 |\n",
       "| 6 | ./WEIGHTS/ENSG00000259658 |  0.095547 | 0.065145 | 1.8677e-02 |\n",
       "\n"
      ],
      "text/plain": [
       "  V1                        V2        V3       V4        \n",
       "1 ./WEIGHTS/ENSG00000140479 -0.055509 0.035026 1.1879e-01\n",
       "2 ./WEIGHTS/ENSG00000286733  0.086395 0.071297 6.7509e-02\n",
       "3 ./WEIGHTS/ENSG00000252614 -0.043682 0.032127 1.3355e-01\n",
       "4 ./WEIGHTS/ENSG00000184277  0.234826 0.079374 1.4563e-06\n",
       "5 ./WEIGHTS/ENSG00000185418  0.154647 0.067470 7.1501e-05\n",
       "6 ./WEIGHTS/ENSG00000259658  0.095547 0.065145 1.8677e-02"
      ]
     },
     "metadata": {},
     "output_type": "display_data"
    }
   ],
   "source": [
    "head(hsq)"
   ]
  },
  {
   "cell_type": "code",
   "execution_count": 5,
   "metadata": {
    "collapsed": true,
    "deletable": true,
    "editable": true
   },
   "outputs": [],
   "source": [
    "colnames(hsq) <- c(\"gene\",\"h2\",\"se\",\"pval\")"
   ]
  },
  {
   "cell_type": "code",
   "execution_count": 24,
   "metadata": {
    "collapsed": false,
    "deletable": true,
    "editable": true
   },
   "outputs": [],
   "source": [
    "p <- ggplot(hsq, aes(x=h2)) +\n",
    "    geom_histogram(binwidth=0.01, color=\"black\", fill=\"white\") +\n",
    "    theme_bw() +\n",
    "    labs(x=\"h2\", y=\"Gene count\") +\n",
    "    theme(axis.text = element_text(size=12),\n",
    "          axis.title = element_text(size=14))\n"
   ]
  },
  {
   "cell_type": "code",
   "execution_count": 25,
   "metadata": {
    "collapsed": false,
    "deletable": true,
    "editable": true
   },
   "outputs": [
    {
     "data": {
      "image/png": "[encoded data removed]",
      "text/plain": [
       "plot without title"
      ]
     },
     "metadata": {
      "image/png": {
       "height": 420,
       "width": 420
      },
      "text/plain": {
       "height": 420,
       "width": 420
      }
     },
     "output_type": "display_data"
    }
   ],
   "source": [
    "p"
   ]
  },
  {
   "cell_type": "code",
   "execution_count": 14,
   "metadata": {
    "collapsed": false,
    "deletable": true,
    "editable": true
   },
   "outputs": [
    {
     "data": {
      "text/html": [
       "<style>\n",
       ".list-inline {list-style: none; margin:0; padding: 0}\n",
       ".list-inline>li {display: inline-block}\n",
       ".list-inline>li:not(:last-child)::after {content: \"\\00b7\"; padding: 0 .5ex}\n",
       "</style>\n",
       "<ol class=list-inline><li>-1.336477</li><li>2.357887</li></ol>\n"
      ],
      "text/latex": [
       "\\begin{enumerate*}\n",
       "\\item -1.336477\n",
       "\\item 2.357887\n",
       "\\end{enumerate*}\n"
      ],
      "text/markdown": [
       "1. -1.336477\n",
       "2. 2.357887\n",
       "\n",
       "\n"
      ],
      "text/plain": [
       "[1] -1.336477  2.357887"
      ]
     },
     "metadata": {},
     "output_type": "display_data"
    }
   ],
   "source": [
    "range(hsq$h2)"
   ]
  },
  {
   "cell_type": "code",
   "execution_count": 17,
   "metadata": {
    "collapsed": false,
    "deletable": true,
    "editable": true
   },
   "outputs": [],
   "source": [
    "# sig pval, positive h2 gene list\n",
    "sig <- hsq %>% filter(pval < .05, h2 > 0) %>% select(gene)"
   ]
  },
  {
   "cell_type": "code",
   "execution_count": 18,
   "metadata": {
    "collapsed": false,
    "deletable": true,
    "editable": true
   },
   "outputs": [
    {
     "data": {
      "text/html": [
       "<table>\n",
       "<caption>A data.frame: 6 × 1</caption>\n",
       "<thead>\n",
       "\t<tr><th></th><th scope=col>gene</th></tr>\n",
       "\t<tr><th></th><th scope=col>&lt;chr&gt;</th></tr>\n",
       "</thead>\n",
       "<tbody>\n",
       "\t<tr><th scope=row>1</th><td>./WEIGHTS/ENSG00000184277</td></tr>\n",
       "\t<tr><th scope=row>2</th><td>./WEIGHTS/ENSG00000185418</td></tr>\n",
       "\t<tr><th scope=row>3</th><td>./WEIGHTS/ENSG00000259658</td></tr>\n",
       "\t<tr><th scope=row>4</th><td>./WEIGHTS/ENSG00000259660</td></tr>\n",
       "\t<tr><th scope=row>5</th><td>./WEIGHTS/ENSG00000231439</td></tr>\n",
       "\t<tr><th scope=row>6</th><td>./WEIGHTS/ENSG00000161981</td></tr>\n",
       "</tbody>\n",
       "</table>\n"
      ],
      "text/latex": [
       "A data.frame: 6 × 1\n",
       "\\begin{tabular}{r|l}\n",
       "  & gene\\\\\n",
       "  & <chr>\\\\\n",
       "\\hline\n",
       "\t1 & ./WEIGHTS/ENSG00000184277\\\\\n",
       "\t2 & ./WEIGHTS/ENSG00000185418\\\\\n",
       "\t3 & ./WEIGHTS/ENSG00000259658\\\\\n",
       "\t4 & ./WEIGHTS/ENSG00000259660\\\\\n",
       "\t5 & ./WEIGHTS/ENSG00000231439\\\\\n",
       "\t6 & ./WEIGHTS/ENSG00000161981\\\\\n",
       "\\end{tabular}\n"
      ],
      "text/markdown": [
       "\n",
       "A data.frame: 6 × 1\n",
       "\n",
       "| <!--/--> | gene &lt;chr&gt; |\n",
       "|---|---|\n",
       "| 1 | ./WEIGHTS/ENSG00000184277 |\n",
       "| 2 | ./WEIGHTS/ENSG00000185418 |\n",
       "| 3 | ./WEIGHTS/ENSG00000259658 |\n",
       "| 4 | ./WEIGHTS/ENSG00000259660 |\n",
       "| 5 | ./WEIGHTS/ENSG00000231439 |\n",
       "| 6 | ./WEIGHTS/ENSG00000161981 |\n",
       "\n"
      ],
      "text/plain": [
       "  gene                     \n",
       "1 ./WEIGHTS/ENSG00000184277\n",
       "2 ./WEIGHTS/ENSG00000185418\n",
       "3 ./WEIGHTS/ENSG00000259658\n",
       "4 ./WEIGHTS/ENSG00000259660\n",
       "5 ./WEIGHTS/ENSG00000231439\n",
       "6 ./WEIGHTS/ENSG00000161981"
      ]
     },
     "metadata": {},
     "output_type": "display_data"
    }
   ],
   "source": [
    "head(sig)"
   ]
  },
  {
   "cell_type": "code",
   "execution_count": 19,
   "metadata": {
    "collapsed": false,
    "deletable": true,
    "editable": true
   },
   "outputs": [
    {
     "data": {
      "text/html": [
       "<style>\n",
       ".list-inline {list-style: none; margin:0; padding: 0}\n",
       ".list-inline>li {display: inline-block}\n",
       ".list-inline>li:not(:last-child)::after {content: \"\\00b7\"; padding: 0 .5ex}\n",
       "</style>\n",
       "<ol class=list-inline><li>5108</li><li>1</li></ol>\n"
      ],
      "text/latex": [
       "\\begin{enumerate*}\n",
       "\\item 5108\n",
       "\\item 1\n",
       "\\end{enumerate*}\n"
      ],
      "text/markdown": [
       "1. 5108\n",
       "2. 1\n",
       "\n",
       "\n"
      ],
      "text/plain": [
       "[1] 5108    1"
      ]
     },
     "metadata": {},
     "output_type": "display_data"
    }
   ],
   "source": [
    "dim(sig)"
   ]
  },
  {
   "cell_type": "code",
   "execution_count": 20,
   "metadata": {
    "collapsed": true
   },
   "outputs": [],
   "source": [
    "hsq_subset <- hsq %>% filter(gene %in% sig$gene)"
   ]
  },
  {
   "cell_type": "code",
   "execution_count": 21,
   "metadata": {
    "collapsed": false
   },
   "outputs": [
    {
     "data": {
      "text/html": [
       "<style>\n",
       ".list-inline {list-style: none; margin:0; padding: 0}\n",
       ".list-inline>li {display: inline-block}\n",
       ".list-inline>li:not(:last-child)::after {content: \"\\00b7\"; padding: 0 .5ex}\n",
       "</style>\n",
       "<ol class=list-inline><li>5108</li><li>4</li></ol>\n"
      ],
      "text/latex": [
       "\\begin{enumerate*}\n",
       "\\item 5108\n",
       "\\item 4\n",
       "\\end{enumerate*}\n"
      ],
      "text/markdown": [
       "1. 5108\n",
       "2. 4\n",
       "\n",
       "\n"
      ],
      "text/plain": [
       "[1] 5108    4"
      ]
     },
     "metadata": {},
     "output_type": "display_data"
    }
   ],
   "source": [
    "dim(hsq_subset)"
   ]
  },
  {
   "cell_type": "code",
   "execution_count": 26,
   "metadata": {
    "collapsed": false
   },
   "outputs": [
    {
     "data": {
      "image/png": "[encoded data removed]",
      "text/plain": [
       "plot without title"
      ]
     },
     "metadata": {
      "image/png": {
       "height": 420,
       "width": 420
      },
      "text/plain": {
       "height": 420,
       "width": 420
      }
     },
     "output_type": "display_data"
    }
   ],
   "source": [
    "p2 <- ggplot(hsq_subset, aes(x=h2)) +\n",
    "    geom_histogram(binwidth=0.01, color=\"black\", fill=\"white\") +\n",
    "    theme_bw()+\n",
    "    labs(x=\"h2\", y=\"Gene count\") +\n",
    "    theme(axis.text = element_text(size=12),\n",
    "          axis.title = element_text(size=14))\n",
    "p2"
   ]
  },
  {
   "cell_type": "code",
   "execution_count": 27,
   "metadata": {
    "collapsed": true,
    "deletable": true,
    "editable": true
   },
   "outputs": [],
   "source": [
    "sig$gene <- gsub('./WEIGHTS/','',sig$gene)"
   ]
  },
  {
   "cell_type": "code",
   "execution_count": 28,
   "metadata": {
    "collapsed": true,
    "deletable": true,
    "editable": true
   },
   "outputs": [],
   "source": [
    "write.table(sig, \"gene_eur_sig_pos_h2.txt\", col.names=F, row.names=F, quote=F, sep=\"\\t\")"
   ]
  }
 ],
 "metadata": {
  "kernelspec": {
   "display_name": "R 3.6.1",
   "language": "R",
   "name": "ir361"
  },
  "language_info": {
   "codemirror_mode": "r",
   "file_extension": ".r",
   "mimetype": "text/x-r-source",
   "name": "R",
   "pygments_lexer": "r",
   "version": "3.6.1"
  }
 },
 "nbformat": 4,
 "nbformat_minor": 2
}
