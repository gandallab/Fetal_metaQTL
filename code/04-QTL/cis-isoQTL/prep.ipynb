{
 "cells": [
  {
   "cell_type": "markdown",
   "id": "e9228527",
   "metadata": {},
   "source": [
    "# Fig 5 analysis data prep\n",
    "Generate expression files for trimester and sex/trimester specific iso/sQTL mapping, with outliers and relatives removed"
   ]
  },
  {
   "cell_type": "code",
   "execution_count": 1,
   "id": "0c28e585",
   "metadata": {},
   "outputs": [
    {
     "name": "stderr",
     "output_type": "stream",
     "text": [
      "── \u001b[1mAttaching packages\u001b[22m ─────────────────────────────────────── tidyverse 1.3.1 ──\n",
      "\n",
      "\u001b[32m✔\u001b[39m \u001b[34mggplot2\u001b[39m 3.3.3     \u001b[32m✔\u001b[39m \u001b[34mpurrr  \u001b[39m 0.3.4\n",
      "\u001b[32m✔\u001b[39m \u001b[34mtibble \u001b[39m 3.1.2     \u001b[32m✔\u001b[39m \u001b[34mdplyr  \u001b[39m 1.0.6\n",
      "\u001b[32m✔\u001b[39m \u001b[34mtidyr  \u001b[39m 1.1.3     \u001b[32m✔\u001b[39m \u001b[34mstringr\u001b[39m 1.4.0\n",
      "\u001b[32m✔\u001b[39m \u001b[34mreadr  \u001b[39m 1.4.0     \u001b[32m✔\u001b[39m \u001b[34mforcats\u001b[39m 0.5.1\n",
      "\n",
      "── \u001b[1mConflicts\u001b[22m ────────────────────────────────────────── tidyverse_conflicts() ──\n",
      "\u001b[31m✖\u001b[39m \u001b[34mdplyr\u001b[39m::\u001b[32mbetween()\u001b[39m   masks \u001b[34mdata.table\u001b[39m::between()\n",
      "\u001b[31m✖\u001b[39m \u001b[34mdplyr\u001b[39m::\u001b[32mfilter()\u001b[39m    masks \u001b[34mstats\u001b[39m::filter()\n",
      "\u001b[31m✖\u001b[39m \u001b[34mdplyr\u001b[39m::\u001b[32mfirst()\u001b[39m     masks \u001b[34mdata.table\u001b[39m::first()\n",
      "\u001b[31m✖\u001b[39m \u001b[34mdplyr\u001b[39m::\u001b[32mlag()\u001b[39m       masks \u001b[34mstats\u001b[39m::lag()\n",
      "\u001b[31m✖\u001b[39m \u001b[34mdplyr\u001b[39m::\u001b[32mlast()\u001b[39m      masks \u001b[34mdata.table\u001b[39m::last()\n",
      "\u001b[31m✖\u001b[39m \u001b[34mpurrr\u001b[39m::\u001b[32mtranspose()\u001b[39m masks \u001b[34mdata.table\u001b[39m::transpose()\n",
      "\n"
     ]
    }
   ],
   "source": [
    "library(data.table)\n",
    "library(tidyverse)"
   ]
  },
  {
   "cell_type": "code",
   "execution_count": 9,
   "id": "58cdeb39",
   "metadata": {},
   "outputs": [
    {
     "data": {
      "text/html": [
       "<table class=\"dataframe\">\n",
       "<caption>A data.frame: 6 x 5</caption>\n",
       "<thead>\n",
       "\t<tr><th></th><th scope=col>Subject</th><th scope=col>Age</th><th scope=col>Sex</th><th scope=col>inferSex</th><th scope=col>trimester</th></tr>\n",
       "\t<tr><th></th><th scope=col>&lt;chr&gt;</th><th scope=col>&lt;dbl&gt;</th><th scope=col>&lt;chr&gt;</th><th scope=col>&lt;chr&gt;</th><th scope=col>&lt;int&gt;</th></tr>\n",
       "</thead>\n",
       "<tbody>\n",
       "\t<tr><th scope=row>1</th><td>HSB100</td><td>-0.4027397</td><td>F</td><td>F</td><td>2</td></tr>\n",
       "\t<tr><th scope=row>2</th><td>HSB152</td><td>-0.4602740</td><td>M</td><td>M</td><td>2</td></tr>\n",
       "\t<tr><th scope=row>3</th><td>HSB195</td><td>-0.4219178</td><td>M</td><td>M</td><td>2</td></tr>\n",
       "\t<tr><th scope=row>4</th><td>HSB221</td><td>-0.4027397</td><td>F</td><td>F</td><td>2</td></tr>\n",
       "\t<tr><th scope=row>5</th><td>HSB222</td><td>-0.4823288</td><td>F</td><td>F</td><td>2</td></tr>\n",
       "\t<tr><th scope=row>6</th><td>HSB238</td><td>-0.4794521</td><td>F</td><td>F</td><td>2</td></tr>\n",
       "</tbody>\n",
       "</table>\n"
      ],
      "text/latex": [
       "A data.frame: 6 x 5\n",
       "\\begin{tabular}{r|lllll}\n",
       "  & Subject & Age & Sex & inferSex & trimester\\\\\n",
       "  & <chr> & <dbl> & <chr> & <chr> & <int>\\\\\n",
       "\\hline\n",
       "\t1 & HSB100 & -0.4027397 & F & F & 2\\\\\n",
       "\t2 & HSB152 & -0.4602740 & M & M & 2\\\\\n",
       "\t3 & HSB195 & -0.4219178 & M & M & 2\\\\\n",
       "\t4 & HSB221 & -0.4027397 & F & F & 2\\\\\n",
       "\t5 & HSB222 & -0.4823288 & F & F & 2\\\\\n",
       "\t6 & HSB238 & -0.4794521 & F & F & 2\\\\\n",
       "\\end{tabular}\n"
      ],
      "text/markdown": [
       "\n",
       "A data.frame: 6 x 5\n",
       "\n",
       "| <!--/--> | Subject &lt;chr&gt; | Age &lt;dbl&gt; | Sex &lt;chr&gt; | inferSex &lt;chr&gt; | trimester &lt;int&gt; |\n",
       "|---|---|---|---|---|---|\n",
       "| 1 | HSB100 | -0.4027397 | F | F | 2 |\n",
       "| 2 | HSB152 | -0.4602740 | M | M | 2 |\n",
       "| 3 | HSB195 | -0.4219178 | M | M | 2 |\n",
       "| 4 | HSB221 | -0.4027397 | F | F | 2 |\n",
       "| 5 | HSB222 | -0.4823288 | F | F | 2 |\n",
       "| 6 | HSB238 | -0.4794521 | F | F | 2 |\n",
       "\n"
      ],
      "text/plain": [
       "  Subject Age        Sex inferSex trimester\n",
       "1 HSB100  -0.4027397 F   F        2        \n",
       "2 HSB152  -0.4602740 M   M        2        \n",
       "3 HSB195  -0.4219178 M   M        2        \n",
       "4 HSB221  -0.4027397 F   F        2        \n",
       "5 HSB222  -0.4823288 F   F        2        \n",
       "6 HSB238  -0.4794521 F   F        2        "
      ]
     },
     "metadata": {},
     "output_type": "display_data"
    }
   ],
   "source": [
    "# n=654\n",
    "meta <- read.table(\"~/project-gandalm/isoform_twas/eqtl_new/metadata_inferSex_trimester.tsv\", header = T)\n",
    "head(meta)"
   ]
  },
  {
   "cell_type": "code",
   "execution_count": 10,
   "id": "02b4618b",
   "metadata": {},
   "outputs": [
    {
     "data": {
      "text/html": [
       "<table class=\"dataframe\">\n",
       "<caption>A data.frame: 6 x 1</caption>\n",
       "<thead>\n",
       "\t<tr><th></th><th scope=col>V1</th></tr>\n",
       "\t<tr><th></th><th scope=col>&lt;chr&gt;</th></tr>\n",
       "</thead>\n",
       "<tbody>\n",
       "\t<tr><th scope=row>1</th><td>1614  </td></tr>\n",
       "\t<tr><th scope=row>2</th><td>11602 </td></tr>\n",
       "\t<tr><th scope=row>3</th><td>Br1779</td></tr>\n",
       "\t<tr><th scope=row>4</th><td>Br2394</td></tr>\n",
       "\t<tr><th scope=row>5</th><td>Br2402</td></tr>\n",
       "\t<tr><th scope=row>6</th><td>Br2411</td></tr>\n",
       "</tbody>\n",
       "</table>\n"
      ],
      "text/latex": [
       "A data.frame: 6 x 1\n",
       "\\begin{tabular}{r|l}\n",
       "  & V1\\\\\n",
       "  & <chr>\\\\\n",
       "\\hline\n",
       "\t1 & 1614  \\\\\n",
       "\t2 & 11602 \\\\\n",
       "\t3 & Br1779\\\\\n",
       "\t4 & Br2394\\\\\n",
       "\t5 & Br2402\\\\\n",
       "\t6 & Br2411\\\\\n",
       "\\end{tabular}\n"
      ],
      "text/markdown": [
       "\n",
       "A data.frame: 6 x 1\n",
       "\n",
       "| <!--/--> | V1 &lt;chr&gt; |\n",
       "|---|---|\n",
       "| 1 | 1614   |\n",
       "| 2 | 11602  |\n",
       "| 3 | Br1779 |\n",
       "| 4 | Br2394 |\n",
       "| 5 | Br2402 |\n",
       "| 6 | Br2411 |\n",
       "\n"
      ],
      "text/plain": [
       "  V1    \n",
       "1 1614  \n",
       "2 11602 \n",
       "3 Br1779\n",
       "4 Br2394\n",
       "5 Br2402\n",
       "6 Br2411"
      ]
     },
     "metadata": {},
     "output_type": "display_data"
    }
   ],
   "source": [
    "# n=14\n",
    "related <- read.table(\"~/project-gandalm/isoform_twas/genotype/all_data/isec_R2_greater_than_3/ancestry/related.txt\", header = F)\n",
    "head(related)"
   ]
  },
  {
   "cell_type": "code",
   "execution_count": 11,
   "id": "6eb0120a",
   "metadata": {},
   "outputs": [
    {
     "data": {
      "text/html": [
       "<table class=\"dataframe\">\n",
       "<caption>A data.frame: 6 x 2</caption>\n",
       "<thead>\n",
       "\t<tr><th></th><th scope=col>subject</th><th scope=col>ancestry</th></tr>\n",
       "\t<tr><th></th><th scope=col>&lt;chr&gt;</th><th scope=col>&lt;chr&gt;</th></tr>\n",
       "</thead>\n",
       "<tbody>\n",
       "\t<tr><th scope=row>1</th><td>898 </td><td>eur</td></tr>\n",
       "\t<tr><th scope=row>2</th><td>1038</td><td>eur</td></tr>\n",
       "\t<tr><th scope=row>3</th><td>1046</td><td>eur</td></tr>\n",
       "\t<tr><th scope=row>4</th><td>1092</td><td>eur</td></tr>\n",
       "\t<tr><th scope=row>5</th><td>1102</td><td>eur</td></tr>\n",
       "\t<tr><th scope=row>6</th><td>1107</td><td>eur</td></tr>\n",
       "</tbody>\n",
       "</table>\n"
      ],
      "text/latex": [
       "A data.frame: 6 x 2\n",
       "\\begin{tabular}{r|ll}\n",
       "  & subject & ancestry\\\\\n",
       "  & <chr> & <chr>\\\\\n",
       "\\hline\n",
       "\t1 & 898  & eur\\\\\n",
       "\t2 & 1038 & eur\\\\\n",
       "\t3 & 1046 & eur\\\\\n",
       "\t4 & 1092 & eur\\\\\n",
       "\t5 & 1102 & eur\\\\\n",
       "\t6 & 1107 & eur\\\\\n",
       "\\end{tabular}\n"
      ],
      "text/markdown": [
       "\n",
       "A data.frame: 6 x 2\n",
       "\n",
       "| <!--/--> | subject &lt;chr&gt; | ancestry &lt;chr&gt; |\n",
       "|---|---|---|\n",
       "| 1 | 898  | eur |\n",
       "| 2 | 1038 | eur |\n",
       "| 3 | 1046 | eur |\n",
       "| 4 | 1092 | eur |\n",
       "| 5 | 1102 | eur |\n",
       "| 6 | 1107 | eur |\n",
       "\n"
      ],
      "text/plain": [
       "  subject ancestry\n",
       "1 898     eur     \n",
       "2 1038    eur     \n",
       "3 1046    eur     \n",
       "4 1092    eur     \n",
       "5 1102    eur     \n",
       "6 1107    eur     "
      ]
     },
     "metadata": {},
     "output_type": "display_data"
    },
    {
     "data": {
      "text/html": [
       "<style>\n",
       ".list-inline {list-style: none; margin:0; padding: 0}\n",
       ".list-inline>li {display: inline-block}\n",
       ".list-inline>li:not(:last-child)::after {content: \"\\00b7\"; padding: 0 .5ex}\n",
       "</style>\n",
       "<ol class=list-inline><li>654</li><li>2</li></ol>\n"
      ],
      "text/latex": [
       "\\begin{enumerate*}\n",
       "\\item 654\n",
       "\\item 2\n",
       "\\end{enumerate*}\n"
      ],
      "text/markdown": [
       "1. 654\n",
       "2. 2\n",
       "\n",
       "\n"
      ],
      "text/plain": [
       "[1] 654   2"
      ]
     },
     "metadata": {},
     "output_type": "display_data"
    }
   ],
   "source": [
    "# n=654\n",
    "pop <- read.table(\"~/project-gandalm/isoform_twas/genotype/all_data/isec_R2_greater_than_3/ancestry/ancestry_list/ancestry.tsv\", header = T)\n",
    "head(pop)\n",
    "dim(pop)"
   ]
  },
  {
   "cell_type": "code",
   "execution_count": 12,
   "id": "31293ab7",
   "metadata": {},
   "outputs": [
    {
     "data": {
      "text/html": [
       "<table class=\"dataframe\">\n",
       "<caption>A data.frame: 6 x 6</caption>\n",
       "<thead>\n",
       "\t<tr><th></th><th scope=col>Subject</th><th scope=col>Age</th><th scope=col>Sex</th><th scope=col>inferSex</th><th scope=col>trimester</th><th scope=col>ancestry</th></tr>\n",
       "\t<tr><th></th><th scope=col>&lt;chr&gt;</th><th scope=col>&lt;dbl&gt;</th><th scope=col>&lt;chr&gt;</th><th scope=col>&lt;chr&gt;</th><th scope=col>&lt;int&gt;</th><th scope=col>&lt;chr&gt;</th></tr>\n",
       "</thead>\n",
       "<tbody>\n",
       "\t<tr><th scope=row>1</th><td>HSB100</td><td>-0.4027397</td><td>F</td><td>F</td><td>2</td><td>afr</td></tr>\n",
       "\t<tr><th scope=row>2</th><td>HSB152</td><td>-0.4602740</td><td>M</td><td>M</td><td>2</td><td>eur</td></tr>\n",
       "\t<tr><th scope=row>3</th><td>HSB195</td><td>-0.4219178</td><td>M</td><td>M</td><td>2</td><td>eur</td></tr>\n",
       "\t<tr><th scope=row>4</th><td>HSB221</td><td>-0.4027397</td><td>F</td><td>F</td><td>2</td><td>amr</td></tr>\n",
       "\t<tr><th scope=row>5</th><td>HSB222</td><td>-0.4823288</td><td>F</td><td>F</td><td>2</td><td>eur</td></tr>\n",
       "\t<tr><th scope=row>6</th><td>HSB238</td><td>-0.4794521</td><td>F</td><td>F</td><td>2</td><td>amr</td></tr>\n",
       "</tbody>\n",
       "</table>\n"
      ],
      "text/latex": [
       "A data.frame: 6 x 6\n",
       "\\begin{tabular}{r|llllll}\n",
       "  & Subject & Age & Sex & inferSex & trimester & ancestry\\\\\n",
       "  & <chr> & <dbl> & <chr> & <chr> & <int> & <chr>\\\\\n",
       "\\hline\n",
       "\t1 & HSB100 & -0.4027397 & F & F & 2 & afr\\\\\n",
       "\t2 & HSB152 & -0.4602740 & M & M & 2 & eur\\\\\n",
       "\t3 & HSB195 & -0.4219178 & M & M & 2 & eur\\\\\n",
       "\t4 & HSB221 & -0.4027397 & F & F & 2 & amr\\\\\n",
       "\t5 & HSB222 & -0.4823288 & F & F & 2 & eur\\\\\n",
       "\t6 & HSB238 & -0.4794521 & F & F & 2 & amr\\\\\n",
       "\\end{tabular}\n"
      ],
      "text/markdown": [
       "\n",
       "A data.frame: 6 x 6\n",
       "\n",
       "| <!--/--> | Subject &lt;chr&gt; | Age &lt;dbl&gt; | Sex &lt;chr&gt; | inferSex &lt;chr&gt; | trimester &lt;int&gt; | ancestry &lt;chr&gt; |\n",
       "|---|---|---|---|---|---|---|\n",
       "| 1 | HSB100 | -0.4027397 | F | F | 2 | afr |\n",
       "| 2 | HSB152 | -0.4602740 | M | M | 2 | eur |\n",
       "| 3 | HSB195 | -0.4219178 | M | M | 2 | eur |\n",
       "| 4 | HSB221 | -0.4027397 | F | F | 2 | amr |\n",
       "| 5 | HSB222 | -0.4823288 | F | F | 2 | eur |\n",
       "| 6 | HSB238 | -0.4794521 | F | F | 2 | amr |\n",
       "\n"
      ],
      "text/plain": [
       "  Subject Age        Sex inferSex trimester ancestry\n",
       "1 HSB100  -0.4027397 F   F        2         afr     \n",
       "2 HSB152  -0.4602740 M   M        2         eur     \n",
       "3 HSB195  -0.4219178 M   M        2         eur     \n",
       "4 HSB221  -0.4027397 F   F        2         amr     \n",
       "5 HSB222  -0.4823288 F   F        2         eur     \n",
       "6 HSB238  -0.4794521 F   F        2         amr     "
      ]
     },
     "metadata": {},
     "output_type": "display_data"
    },
    {
     "data": {
      "text/html": [
       "0"
      ],
      "text/latex": [
       "0"
      ],
      "text/markdown": [
       "0"
      ],
      "text/plain": [
       "[1] 0"
      ]
     },
     "metadata": {},
     "output_type": "display_data"
    }
   ],
   "source": [
    "meta <- meta %>% left_join(pop, by = c(\"Subject\"=\"subject\"))\n",
    "head(meta)\n",
    "sum(is.na(meta$ancestry))"
   ]
  },
  {
   "cell_type": "code",
   "execution_count": 13,
   "id": "58e9d201",
   "metadata": {},
   "outputs": [
    {
     "data": {
      "text/html": [
       "<style>\n",
       ".list-inline {list-style: none; margin:0; padding: 0}\n",
       ".list-inline>li {display: inline-block}\n",
       ".list-inline>li:not(:last-child)::after {content: \"\\00b7\"; padding: 0 .5ex}\n",
       "</style>\n",
       "<ol class=list-inline><li>640</li><li>6</li></ol>\n"
      ],
      "text/latex": [
       "\\begin{enumerate*}\n",
       "\\item 640\n",
       "\\item 6\n",
       "\\end{enumerate*}\n"
      ],
      "text/markdown": [
       "1. 640\n",
       "2. 6\n",
       "\n",
       "\n"
      ],
      "text/plain": [
       "[1] 640   6"
      ]
     },
     "metadata": {},
     "output_type": "display_data"
    }
   ],
   "source": [
    "meta <- meta %>% filter(!Subject %in% related$V1)\n",
    "dim(meta)"
   ]
  },
  {
   "cell_type": "code",
   "execution_count": null,
   "id": "8351312e",
   "metadata": {},
   "outputs": [],
   "source": [
    "write.table(meta, \"../../eqtl_new/metadata_inferSex_trimester_ancestry_640.tsv\", col.names = T, row.names = F, quote = F, sep = \"\\t\")"
   ]
  },
  {
   "cell_type": "markdown",
   "id": "1f543653",
   "metadata": {},
   "source": [
    "### isoQTL"
   ]
  },
  {
   "cell_type": "code",
   "execution_count": 23,
   "id": "ada91bbb",
   "metadata": {},
   "outputs": [],
   "source": [
    "expr <- fread(\"../data/tx.counts.scaled.normalized.bed.gz\", data.table = F)"
   ]
  },
  {
   "cell_type": "code",
   "execution_count": 24,
   "id": "12a5e935",
   "metadata": {},
   "outputs": [
    {
     "data": {
      "text/html": [
       "<table class=\"dataframe\">\n",
       "<caption>A data.frame: 6 x 1</caption>\n",
       "<thead>\n",
       "\t<tr><th></th><th scope=col>V1</th></tr>\n",
       "\t<tr><th></th><th scope=col>&lt;chr&gt;</th></tr>\n",
       "</thead>\n",
       "<tbody>\n",
       "\t<tr><th scope=row>1</th><td>17111 </td></tr>\n",
       "\t<tr><th scope=row>2</th><td>17486 </td></tr>\n",
       "\t<tr><th scope=row>3</th><td>HSB194</td></tr>\n",
       "\t<tr><th scope=row>4</th><td>HSB618</td></tr>\n",
       "\t<tr><th scope=row>5</th><td>Br2396</td></tr>\n",
       "\t<tr><th scope=row>6</th><td>Br2403</td></tr>\n",
       "</tbody>\n",
       "</table>\n"
      ],
      "text/latex": [
       "A data.frame: 6 x 1\n",
       "\\begin{tabular}{r|l}\n",
       "  & V1\\\\\n",
       "  & <chr>\\\\\n",
       "\\hline\n",
       "\t1 & 17111 \\\\\n",
       "\t2 & 17486 \\\\\n",
       "\t3 & HSB194\\\\\n",
       "\t4 & HSB618\\\\\n",
       "\t5 & Br2396\\\\\n",
       "\t6 & Br2403\\\\\n",
       "\\end{tabular}\n"
      ],
      "text/markdown": [
       "\n",
       "A data.frame: 6 x 1\n",
       "\n",
       "| <!--/--> | V1 &lt;chr&gt; |\n",
       "|---|---|\n",
       "| 1 | 17111  |\n",
       "| 2 | 17486  |\n",
       "| 3 | HSB194 |\n",
       "| 4 | HSB618 |\n",
       "| 5 | Br2396 |\n",
       "| 6 | Br2403 |\n",
       "\n"
      ],
      "text/plain": [
       "  V1    \n",
       "1 17111 \n",
       "2 17486 \n",
       "3 HSB194\n",
       "4 HSB618\n",
       "5 Br2396\n",
       "6 Br2403"
      ]
     },
     "metadata": {},
     "output_type": "display_data"
    }
   ],
   "source": [
    "outlier <- read.table(\"../data/tx.outlier.txt\")\n",
    "head(outlier)"
   ]
  },
  {
   "cell_type": "code",
   "execution_count": 25,
   "id": "6349a73b",
   "metadata": {},
   "outputs": [
    {
     "data": {
      "text/html": [
       "<style>\n",
       ".list-inline {list-style: none; margin:0; padding: 0}\n",
       ".list-inline>li {display: inline-block}\n",
       ".list-inline>li:not(:last-child)::after {content: \"\\00b7\"; padding: 0 .5ex}\n",
       "</style>\n",
       "<ol class=list-inline><li>626</li><li>6</li></ol>\n"
      ],
      "text/latex": [
       "\\begin{enumerate*}\n",
       "\\item 626\n",
       "\\item 6\n",
       "\\end{enumerate*}\n"
      ],
      "text/markdown": [
       "1. 626\n",
       "2. 6\n",
       "\n",
       "\n"
      ],
      "text/plain": [
       "[1] 626   6"
      ]
     },
     "metadata": {},
     "output_type": "display_data"
    }
   ],
   "source": [
    "all_iso <- meta %>% filter(!Subject %in% outlier$V1)\n",
    "dim(all_iso)"
   ]
  },
  {
   "cell_type": "code",
   "execution_count": 27,
   "id": "4419eaa0",
   "metadata": {},
   "outputs": [],
   "source": [
    "iso <- expr %>% select(c(1:4), all_iso$Subject)\n",
    "write.table(iso, \"../data/tx_626.bed\", col.names = T, row.names = F, quote = F, sep = \"\\t\")"
   ]
  },
  {
   "cell_type": "code",
   "execution_count": 19,
   "id": "26d3acd5",
   "metadata": {},
   "outputs": [
    {
     "data": {
      "text/html": [
       "<style>\n",
       ".list-inline {list-style: none; margin:0; padding: 0}\n",
       ".list-inline>li {display: inline-block}\n",
       ".list-inline>li:not(:last-child)::after {content: \"\\00b7\"; padding: 0 .5ex}\n",
       "</style>\n",
       "<ol class=list-inline><li>138</li><li>6</li></ol>\n"
      ],
      "text/latex": [
       "\\begin{enumerate*}\n",
       "\\item 138\n",
       "\\item 6\n",
       "\\end{enumerate*}\n"
      ],
      "text/markdown": [
       "1. 138\n",
       "2. 6\n",
       "\n",
       "\n"
      ],
      "text/plain": [
       "[1] 138   6"
      ]
     },
     "metadata": {},
     "output_type": "display_data"
    },
    {
     "data": {
      "text/html": [
       "<style>\n",
       ".list-inline {list-style: none; margin:0; padding: 0}\n",
       ".list-inline>li {display: inline-block}\n",
       ".list-inline>li:not(:last-child)::after {content: \"\\00b7\"; padding: 0 .5ex}\n",
       "</style>\n",
       "<ol class=list-inline><li>139</li><li>6</li></ol>\n"
      ],
      "text/latex": [
       "\\begin{enumerate*}\n",
       "\\item 139\n",
       "\\item 6\n",
       "\\end{enumerate*}\n"
      ],
      "text/markdown": [
       "1. 139\n",
       "2. 6\n",
       "\n",
       "\n"
      ],
      "text/plain": [
       "[1] 139   6"
      ]
     },
     "metadata": {},
     "output_type": "display_data"
    },
    {
     "data": {
      "text/plain": [
       "\n",
       " 1  2 \n",
       "61 77 "
      ]
     },
     "metadata": {},
     "output_type": "display_data"
    },
    {
     "data": {
      "text/plain": [
       "\n",
       " 1  2  3 \n",
       "75 62  2 "
      ]
     },
     "metadata": {},
     "output_type": "display_data"
    }
   ],
   "source": [
    "eur_m_iso <- meta %>% filter(!Subject %in% outlier$V1, inferSex == \"M\", ancestry == \"eur\")\n",
    "eur_f_iso <- meta %>% filter(!Subject %in% outlier$V1, inferSex == \"F\", ancestry == \"eur\")\n",
    "dim(eur_m_iso)\n",
    "dim(eur_f_iso)\n",
    "table(eur_m_iso$trimester)\n",
    "table(eur_f_iso$trimester)"
   ]
  },
  {
   "cell_type": "code",
   "execution_count": 23,
   "id": "d99c707a",
   "metadata": {},
   "outputs": [],
   "source": [
    "expr_m <- expr %>% select(c(1:4), eur_m_iso$Subject)\n",
    "expr_f <- expr %>% select(c(1:4), eur_f_iso$Subject)\n",
    "write.table(expr_m, \"../data/tx.counts.scaled.normalized.M.bed\", col.names = T, row.names = F, quote = F, sep = \"\\t\")\n",
    "write.table(expr_f, \"../data/tx.counts.scaled.normalized.F.bed\", col.names = T, row.names = F, quote = F, sep = \"\\t\")"
   ]
  },
  {
   "cell_type": "code",
   "execution_count": 24,
   "id": "749f1609",
   "metadata": {},
   "outputs": [
    {
     "data": {
      "text/html": [
       "<style>\n",
       ".list-inline {list-style: none; margin:0; padding: 0}\n",
       ".list-inline>li {display: inline-block}\n",
       ".list-inline>li:not(:last-child)::after {content: \"\\00b7\"; padding: 0 .5ex}\n",
       "</style>\n",
       "<ol class=list-inline><li>127986</li><li>142</li></ol>\n"
      ],
      "text/latex": [
       "\\begin{enumerate*}\n",
       "\\item 127986\n",
       "\\item 142\n",
       "\\end{enumerate*}\n"
      ],
      "text/markdown": [
       "1. 127986\n",
       "2. 142\n",
       "\n",
       "\n"
      ],
      "text/plain": [
       "[1] 127986    142"
      ]
     },
     "metadata": {},
     "output_type": "display_data"
    },
    {
     "data": {
      "text/html": [
       "<style>\n",
       ".list-inline {list-style: none; margin:0; padding: 0}\n",
       ".list-inline>li {display: inline-block}\n",
       ".list-inline>li:not(:last-child)::after {content: \"\\00b7\"; padding: 0 .5ex}\n",
       "</style>\n",
       "<ol class=list-inline><li>127986</li><li>143</li></ol>\n"
      ],
      "text/latex": [
       "\\begin{enumerate*}\n",
       "\\item 127986\n",
       "\\item 143\n",
       "\\end{enumerate*}\n"
      ],
      "text/markdown": [
       "1. 127986\n",
       "2. 143\n",
       "\n",
       "\n"
      ],
      "text/plain": [
       "[1] 127986    143"
      ]
     },
     "metadata": {},
     "output_type": "display_data"
    }
   ],
   "source": [
    "dim(expr_m)\n",
    "dim(expr_f)"
   ]
  },
  {
   "cell_type": "code",
   "execution_count": 15,
   "id": "b8d01523",
   "metadata": {},
   "outputs": [
    {
     "data": {
      "text/html": [
       "<style>\n",
       ".list-inline {list-style: none; margin:0; padding: 0}\n",
       ".list-inline>li {display: inline-block}\n",
       ".list-inline>li:not(:last-child)::after {content: \"\\00b7\"; padding: 0 .5ex}\n",
       "</style>\n",
       "<ol class=list-inline><li>329</li><li>6</li></ol>\n"
      ],
      "text/latex": [
       "\\begin{enumerate*}\n",
       "\\item 329\n",
       "\\item 6\n",
       "\\end{enumerate*}\n"
      ],
      "text/markdown": [
       "1. 329\n",
       "2. 6\n",
       "\n",
       "\n"
      ],
      "text/plain": [
       "[1] 329   6"
      ]
     },
     "metadata": {},
     "output_type": "display_data"
    },
    {
     "data": {
      "text/html": [
       "<style>\n",
       ".list-inline {list-style: none; margin:0; padding: 0}\n",
       ".list-inline>li {display: inline-block}\n",
       ".list-inline>li:not(:last-child)::after {content: \"\\00b7\"; padding: 0 .5ex}\n",
       "</style>\n",
       "<ol class=list-inline><li>297</li><li>6</li></ol>\n"
      ],
      "text/latex": [
       "\\begin{enumerate*}\n",
       "\\item 297\n",
       "\\item 6\n",
       "\\end{enumerate*}\n"
      ],
      "text/markdown": [
       "1. 297\n",
       "2. 6\n",
       "\n",
       "\n"
      ],
      "text/plain": [
       "[1] 297   6"
      ]
     },
     "metadata": {},
     "output_type": "display_data"
    },
    {
     "data": {
      "text/plain": [
       "\n",
       "  1   2   3 \n",
       " 97 231   1 "
      ]
     },
     "metadata": {},
     "output_type": "display_data"
    },
    {
     "data": {
      "text/plain": [
       "\n",
       "  1   2   3 \n",
       "110 185   2 "
      ]
     },
     "metadata": {},
     "output_type": "display_data"
    },
    {
     "data": {
      "text/plain": [
       "\n",
       "afr amr  ea eur sea \n",
       " 70  91  12 138  18 "
      ]
     },
     "metadata": {},
     "output_type": "display_data"
    },
    {
     "data": {
      "text/plain": [
       "\n",
       "afr amr  ea eur sea \n",
       " 65  71  11 139  11 "
      ]
     },
     "metadata": {},
     "output_type": "display_data"
    }
   ],
   "source": [
    "# above is outdated. Use ALL for M/F analysis\n",
    "m_iso <- meta %>% filter(!Subject %in% outlier$V1, inferSex == \"M\")\n",
    "f_iso <- meta %>% filter(!Subject %in% outlier$V1, inferSex == \"F\")\n",
    "dim(m_iso)\n",
    "dim(f_iso)\n",
    "table(m_iso$trimester)\n",
    "table(f_iso$trimester)\n",
    "table(m_iso$ancestry)\n",
    "table(f_iso$ancestry)"
   ]
  },
  {
   "cell_type": "code",
   "execution_count": 16,
   "id": "2b04f4da",
   "metadata": {},
   "outputs": [],
   "source": [
    "expr_m <- expr %>% select(c(1:4), m_iso$Subject)\n",
    "expr_f <- expr %>% select(c(1:4), f_iso$Subject)\n",
    "write.table(expr_m, \"../data/tx.counts.scaled.normalized.M.bed\", col.names = T, row.names = F, quote = F, sep = \"\\t\")\n",
    "write.table(expr_f, \"../data/tx.counts.scaled.normalized.F.bed\", col.names = T, row.names = F, quote = F, sep = \"\\t\")"
   ]
  },
  {
   "cell_type": "code",
   "execution_count": 17,
   "id": "17729a29",
   "metadata": {},
   "outputs": [
    {
     "data": {
      "text/html": [
       "<style>\n",
       ".list-inline {list-style: none; margin:0; padding: 0}\n",
       ".list-inline>li {display: inline-block}\n",
       ".list-inline>li:not(:last-child)::after {content: \"\\00b7\"; padding: 0 .5ex}\n",
       "</style>\n",
       "<ol class=list-inline><li>127986</li><li>333</li></ol>\n"
      ],
      "text/latex": [
       "\\begin{enumerate*}\n",
       "\\item 127986\n",
       "\\item 333\n",
       "\\end{enumerate*}\n"
      ],
      "text/markdown": [
       "1. 127986\n",
       "2. 333\n",
       "\n",
       "\n"
      ],
      "text/plain": [
       "[1] 127986    333"
      ]
     },
     "metadata": {},
     "output_type": "display_data"
    },
    {
     "data": {
      "text/html": [
       "<style>\n",
       ".list-inline {list-style: none; margin:0; padding: 0}\n",
       ".list-inline>li {display: inline-block}\n",
       ".list-inline>li:not(:last-child)::after {content: \"\\00b7\"; padding: 0 .5ex}\n",
       "</style>\n",
       "<ol class=list-inline><li>127986</li><li>301</li></ol>\n"
      ],
      "text/latex": [
       "\\begin{enumerate*}\n",
       "\\item 127986\n",
       "\\item 301\n",
       "\\end{enumerate*}\n"
      ],
      "text/markdown": [
       "1. 127986\n",
       "2. 301\n",
       "\n",
       "\n"
      ],
      "text/plain": [
       "[1] 127986    301"
      ]
     },
     "metadata": {},
     "output_type": "display_data"
    }
   ],
   "source": [
    "dim(expr_m)\n",
    "dim(expr_f)"
   ]
  },
  {
   "cell_type": "code",
   "execution_count": 25,
   "id": "41e61265",
   "metadata": {},
   "outputs": [
    {
     "data": {
      "text/html": [
       "<style>\n",
       ".list-inline {list-style: none; margin:0; padding: 0}\n",
       ".list-inline>li {display: inline-block}\n",
       ".list-inline>li:not(:last-child)::after {content: \"\\00b7\"; padding: 0 .5ex}\n",
       "</style>\n",
       "<ol class=list-inline><li>136</li><li>6</li></ol>\n"
      ],
      "text/latex": [
       "\\begin{enumerate*}\n",
       "\\item 136\n",
       "\\item 6\n",
       "\\end{enumerate*}\n"
      ],
      "text/markdown": [
       "1. 136\n",
       "2. 6\n",
       "\n",
       "\n"
      ],
      "text/plain": [
       "[1] 136   6"
      ]
     },
     "metadata": {},
     "output_type": "display_data"
    },
    {
     "data": {
      "text/html": [
       "<style>\n",
       ".list-inline {list-style: none; margin:0; padding: 0}\n",
       ".list-inline>li {display: inline-block}\n",
       ".list-inline>li:not(:last-child)::after {content: \"\\00b7\"; padding: 0 .5ex}\n",
       "</style>\n",
       "<ol class=list-inline><li>139</li><li>6</li></ol>\n"
      ],
      "text/latex": [
       "\\begin{enumerate*}\n",
       "\\item 139\n",
       "\\item 6\n",
       "\\end{enumerate*}\n"
      ],
      "text/markdown": [
       "1. 139\n",
       "2. 6\n",
       "\n",
       "\n"
      ],
      "text/plain": [
       "[1] 139   6"
      ]
     },
     "metadata": {},
     "output_type": "display_data"
    },
    {
     "data": {
      "text/plain": [
       "\n",
       " F  M \n",
       "75 61 "
      ]
     },
     "metadata": {},
     "output_type": "display_data"
    },
    {
     "data": {
      "text/plain": [
       "\n",
       " F  M \n",
       "62 77 "
      ]
     },
     "metadata": {},
     "output_type": "display_data"
    }
   ],
   "source": [
    "eur_1_iso <- meta %>% filter(!Subject %in% outlier$V1, trimester == \"1\", ancestry == \"eur\")\n",
    "eur_2_iso <- meta %>% filter(!Subject %in% outlier$V1, trimester == \"2\", ancestry == \"eur\")\n",
    "dim(eur_1_iso)\n",
    "dim(eur_2_iso)\n",
    "table(eur_1_iso$inferSex)\n",
    "table(eur_2_iso$inferSex)"
   ]
  },
  {
   "cell_type": "code",
   "execution_count": 26,
   "id": "5f435802",
   "metadata": {},
   "outputs": [],
   "source": [
    "expr_1 <- expr %>% select(c(1:4), eur_1_iso$Subject)\n",
    "expr_2 <- expr %>% select(c(1:4), eur_2_iso$Subject)\n",
    "write.table(expr_1, \"../data/eur/tx.counts.scaled.normalized.tri1.bed\", col.names = T, row.names = F, quote = F, sep = \"\\t\")\n",
    "write.table(expr_2, \"../data/eur/tx.counts.scaled.normalized.tri2.bed\", col.names = T, row.names = F, quote = F, sep = \"\\t\")"
   ]
  },
  {
   "cell_type": "markdown",
   "id": "cd364f62",
   "metadata": {},
   "source": [
    "### sQTL"
   ]
  },
  {
   "cell_type": "code",
   "execution_count": 18,
   "id": "c06753c0",
   "metadata": {},
   "outputs": [],
   "source": [
    "intron <- fread(\"../../sqtl_new/data/eur/lc_combat.bed.gz\", data.table = F)"
   ]
  },
  {
   "cell_type": "code",
   "execution_count": 28,
   "id": "4ed37d7e",
   "metadata": {
    "scrolled": true
   },
   "outputs": [
    {
     "data": {
      "text/html": [
       "<style>\n",
       ".list-inline {list-style: none; margin:0; padding: 0}\n",
       ".list-inline>li {display: inline-block}\n",
       ".list-inline>li:not(:last-child)::after {content: \"\\00b7\"; padding: 0 .5ex}\n",
       "</style>\n",
       "<ol class=list-inline><li>273167</li><li>296</li></ol>\n"
      ],
      "text/latex": [
       "\\begin{enumerate*}\n",
       "\\item 273167\n",
       "\\item 296\n",
       "\\end{enumerate*}\n"
      ],
      "text/markdown": [
       "1. 273167\n",
       "2. 296\n",
       "\n",
       "\n"
      ],
      "text/plain": [
       "[1] 273167    296"
      ]
     },
     "metadata": {},
     "output_type": "display_data"
    }
   ],
   "source": [
    "dim(intron)"
   ]
  },
  {
   "cell_type": "code",
   "execution_count": 30,
   "id": "9459bf4d",
   "metadata": {},
   "outputs": [],
   "source": [
    "eur_m_intron <- meta %>% filter(inferSex == \"M\", ancestry == \"eur\")\n",
    "eur_f_intron <- meta %>% filter(inferSex == \"F\", ancestry == \"eur\")\n",
    "intron_m <- intron %>% select(c(1:4), eur_m_intron$Subject)\n",
    "intron_f <- intron %>% select(c(1:4), eur_f_intron$Subject)\n",
    "write.table(intron_m, \"../../sqtl_new/data/eur/lc.m.bed\", col.names = T, row.names = F, quote = F, sep = \"\\t\")\n",
    "write.table(intron_f, \"../../sqtl_new/data/eur/lc.f.bed\", col.names = T, row.names = F, quote = F, sep = \"\\t\")"
   ]
  },
  {
   "cell_type": "code",
   "execution_count": 31,
   "id": "39c5da35",
   "metadata": {},
   "outputs": [],
   "source": [
    "eur_1_intron <- meta %>% filter(trimester == \"1\", ancestry == \"eur\")\n",
    "eur_2_intron <- meta %>% filter(trimester == \"2\", ancestry == \"eur\")\n",
    "intron_1 <- intron %>% select(c(1:4), eur_1_intron$Subject)\n",
    "intron_2 <- intron %>% select(c(1:4), eur_2_intron$Subject)\n",
    "write.table(intron_1, \"../../sqtl_new/data/eur/lc.tri1.bed\", col.names = T, row.names = F, quote = F, sep = \"\\t\")\n",
    "write.table(intron_2, \"../../sqtl_new/data/eur/lc.tri2.bed\", col.names = T, row.names = F, quote = F, sep = \"\\t\")"
   ]
  },
  {
   "cell_type": "code",
   "execution_count": 32,
   "id": "6b7ca1c4",
   "metadata": {},
   "outputs": [
    {
     "data": {
      "text/plain": [
       "\n",
       " 1  2  3 \n",
       "63 79  1 "
      ]
     },
     "metadata": {},
     "output_type": "display_data"
    },
    {
     "data": {
      "text/plain": [
       "\n",
       " 1  2  3 \n",
       "78 64  3 "
      ]
     },
     "metadata": {},
     "output_type": "display_data"
    }
   ],
   "source": [
    "table(eur_m_intron$trimester)\n",
    "table(eur_f_intron$trimester)"
   ]
  },
  {
   "cell_type": "code",
   "execution_count": 33,
   "id": "19ad589c",
   "metadata": {},
   "outputs": [
    {
     "data": {
      "text/plain": [
       "\n",
       " F  M \n",
       "78 63 "
      ]
     },
     "metadata": {},
     "output_type": "display_data"
    },
    {
     "data": {
      "text/plain": [
       "\n",
       " F  M \n",
       "64 79 "
      ]
     },
     "metadata": {},
     "output_type": "display_data"
    }
   ],
   "source": [
    "table(eur_1_intron$inferSex)\n",
    "table(eur_2_intron$inferSex)"
   ]
  },
  {
   "cell_type": "code",
   "execution_count": 19,
   "id": "f68ff6bf",
   "metadata": {},
   "outputs": [],
   "source": [
    "# use ALL for M/F analysis\n",
    "intron <- fread(\"~/project-gandalm/isoform_twas/sqtl_new/cluster/lc_640.bed.gz\", data.table = F)"
   ]
  },
  {
   "cell_type": "code",
   "execution_count": 20,
   "id": "707d4a21",
   "metadata": {},
   "outputs": [
    {
     "data": {
      "text/html": [
       "<style>\n",
       ".list-inline {list-style: none; margin:0; padding: 0}\n",
       ".list-inline>li {display: inline-block}\n",
       ".list-inline>li:not(:last-child)::after {content: \"\\00b7\"; padding: 0 .5ex}\n",
       "</style>\n",
       "<ol class=list-inline><li>273167</li><li>644</li></ol>\n"
      ],
      "text/latex": [
       "\\begin{enumerate*}\n",
       "\\item 273167\n",
       "\\item 644\n",
       "\\end{enumerate*}\n"
      ],
      "text/markdown": [
       "1. 273167\n",
       "2. 644\n",
       "\n",
       "\n"
      ],
      "text/plain": [
       "[1] 273167    644"
      ]
     },
     "metadata": {},
     "output_type": "display_data"
    }
   ],
   "source": [
    "dim(intron)"
   ]
  },
  {
   "cell_type": "code",
   "execution_count": 21,
   "id": "46c7ceab",
   "metadata": {},
   "outputs": [],
   "source": [
    "m_intron <- meta %>% filter(inferSex == \"M\")\n",
    "f_intron <- meta %>% filter(inferSex == \"F\")\n",
    "intron_m <- intron %>% select(c(1:4), m_intron$Subject)\n",
    "intron_f <- intron %>% select(c(1:4), f_intron$Subject)\n",
    "write.table(intron_m, \"../../sqtl_new/data/lc.m.bed\", col.names = T, row.names = F, quote = F, sep = \"\\t\")\n",
    "write.table(intron_f, \"../../sqtl_new/data/lc.f.bed\", col.names = T, row.names = F, quote = F, sep = \"\\t\")"
   ]
  },
  {
   "cell_type": "code",
   "execution_count": 22,
   "id": "bd0d470f",
   "metadata": {},
   "outputs": [
    {
     "data": {
      "text/html": [
       "<style>\n",
       ".list-inline {list-style: none; margin:0; padding: 0}\n",
       ".list-inline>li {display: inline-block}\n",
       ".list-inline>li:not(:last-child)::after {content: \"\\00b7\"; padding: 0 .5ex}\n",
       "</style>\n",
       "<ol class=list-inline><li>273167</li><li>339</li></ol>\n"
      ],
      "text/latex": [
       "\\begin{enumerate*}\n",
       "\\item 273167\n",
       "\\item 339\n",
       "\\end{enumerate*}\n"
      ],
      "text/markdown": [
       "1. 273167\n",
       "2. 339\n",
       "\n",
       "\n"
      ],
      "text/plain": [
       "[1] 273167    339"
      ]
     },
     "metadata": {},
     "output_type": "display_data"
    },
    {
     "data": {
      "text/html": [
       "<style>\n",
       ".list-inline {list-style: none; margin:0; padding: 0}\n",
       ".list-inline>li {display: inline-block}\n",
       ".list-inline>li:not(:last-child)::after {content: \"\\00b7\"; padding: 0 .5ex}\n",
       "</style>\n",
       "<ol class=list-inline><li>273167</li><li>309</li></ol>\n"
      ],
      "text/latex": [
       "\\begin{enumerate*}\n",
       "\\item 273167\n",
       "\\item 309\n",
       "\\end{enumerate*}\n"
      ],
      "text/markdown": [
       "1. 273167\n",
       "2. 309\n",
       "\n",
       "\n"
      ],
      "text/plain": [
       "[1] 273167    309"
      ]
     },
     "metadata": {},
     "output_type": "display_data"
    }
   ],
   "source": [
    "dim(intron_m)\n",
    "dim(intron_f)"
   ]
  },
  {
   "cell_type": "markdown",
   "id": "62b87b52",
   "metadata": {},
   "source": [
    "### eQTL"
   ]
  },
  {
   "cell_type": "code",
   "execution_count": 28,
   "id": "d03ee04b",
   "metadata": {},
   "outputs": [],
   "source": [
    "expr <- fread(\"../../eqtl_new/data/genes.629.bed.gz\", data.table = F)"
   ]
  },
  {
   "cell_type": "code",
   "execution_count": 31,
   "id": "ebc8139c",
   "metadata": {},
   "outputs": [
    {
     "data": {
      "text/html": [
       "<table class=\"dataframe\">\n",
       "<caption>A data.frame: 6 x 1</caption>\n",
       "<thead>\n",
       "\t<tr><th></th><th scope=col>V1</th></tr>\n",
       "\t<tr><th></th><th scope=col>&lt;chr&gt;</th></tr>\n",
       "</thead>\n",
       "<tbody>\n",
       "\t<tr><th scope=row>1</th><td>17111 </td></tr>\n",
       "\t<tr><th scope=row>2</th><td>HSB194</td></tr>\n",
       "\t<tr><th scope=row>3</th><td>Br2403</td></tr>\n",
       "\t<tr><th scope=row>4</th><td>Br2410</td></tr>\n",
       "\t<tr><th scope=row>5</th><td>Br2411</td></tr>\n",
       "\t<tr><th scope=row>6</th><td>Br2416</td></tr>\n",
       "</tbody>\n",
       "</table>\n"
      ],
      "text/latex": [
       "A data.frame: 6 x 1\n",
       "\\begin{tabular}{r|l}\n",
       "  & V1\\\\\n",
       "  & <chr>\\\\\n",
       "\\hline\n",
       "\t1 & 17111 \\\\\n",
       "\t2 & HSB194\\\\\n",
       "\t3 & Br2403\\\\\n",
       "\t4 & Br2410\\\\\n",
       "\t5 & Br2411\\\\\n",
       "\t6 & Br2416\\\\\n",
       "\\end{tabular}\n"
      ],
      "text/markdown": [
       "\n",
       "A data.frame: 6 x 1\n",
       "\n",
       "| <!--/--> | V1 &lt;chr&gt; |\n",
       "|---|---|\n",
       "| 1 | 17111  |\n",
       "| 2 | HSB194 |\n",
       "| 3 | Br2403 |\n",
       "| 4 | Br2410 |\n",
       "| 5 | Br2411 |\n",
       "| 6 | Br2416 |\n",
       "\n"
      ],
      "text/plain": [
       "  V1    \n",
       "1 17111 \n",
       "2 HSB194\n",
       "3 Br2403\n",
       "4 Br2410\n",
       "5 Br2411\n",
       "6 Br2416"
      ]
     },
     "metadata": {},
     "output_type": "display_data"
    }
   ],
   "source": [
    "out <- read.table(\"../../eqtl_new/data/gene.outlier.txt\")\n",
    "head(out)"
   ]
  },
  {
   "cell_type": "code",
   "execution_count": 33,
   "id": "f6c32172",
   "metadata": {},
   "outputs": [],
   "source": [
    "m_subj <- m_intron %>% filter(!Subject %in% out$V1)\n",
    "f_subj <- f_intron %>% filter(!Subject %in% out$V1)"
   ]
  },
  {
   "cell_type": "code",
   "execution_count": 34,
   "id": "f2eb5f27",
   "metadata": {},
   "outputs": [
    {
     "data": {
      "text/html": [
       "<style>\n",
       ".list-inline {list-style: none; margin:0; padding: 0}\n",
       ".list-inline>li {display: inline-block}\n",
       ".list-inline>li:not(:last-child)::after {content: \"\\00b7\"; padding: 0 .5ex}\n",
       "</style>\n",
       "<ol class=list-inline><li>31947</li><li>336</li></ol>\n"
      ],
      "text/latex": [
       "\\begin{enumerate*}\n",
       "\\item 31947\n",
       "\\item 336\n",
       "\\end{enumerate*}\n"
      ],
      "text/markdown": [
       "1. 31947\n",
       "2. 336\n",
       "\n",
       "\n"
      ],
      "text/plain": [
       "[1] 31947   336"
      ]
     },
     "metadata": {},
     "output_type": "display_data"
    },
    {
     "data": {
      "text/html": [
       "<style>\n",
       ".list-inline {list-style: none; margin:0; padding: 0}\n",
       ".list-inline>li {display: inline-block}\n",
       ".list-inline>li:not(:last-child)::after {content: \"\\00b7\"; padding: 0 .5ex}\n",
       "</style>\n",
       "<ol class=list-inline><li>31947</li><li>301</li></ol>\n"
      ],
      "text/latex": [
       "\\begin{enumerate*}\n",
       "\\item 31947\n",
       "\\item 301\n",
       "\\end{enumerate*}\n"
      ],
      "text/markdown": [
       "1. 31947\n",
       "2. 301\n",
       "\n",
       "\n"
      ],
      "text/plain": [
       "[1] 31947   301"
      ]
     },
     "metadata": {},
     "output_type": "display_data"
    }
   ],
   "source": [
    "gene_m <- expr %>% select(c(1:4), m_subj$Subject)\n",
    "gene_f <- expr %>% select(c(1:4), f_subj$Subject)\n",
    "dim(gene_m)\n",
    "dim(gene_f)\n",
    "write.table(gene_m, \"../../eqtl_new/data/genes.m.bed\", col.names = T, row.names = F, quote = F, sep = \"\\t\")\n",
    "write.table(gene_f, \"../../eqtl_new/data/genes.f.bed\", col.names = T, row.names = F, quote = F, sep = \"\\t\")"
   ]
  },
  {
   "cell_type": "code",
   "execution_count": null,
   "id": "05f75900",
   "metadata": {},
   "outputs": [],
   "source": []
  }
 ],
 "metadata": {
  "kernelspec": {
   "display_name": "R 4.1.0 BIO",
   "language": "R",
   "name": "ir410-bio"
  },
  "language_info": {
   "codemirror_mode": "r",
   "file_extension": ".r",
   "mimetype": "text/x-r-source",
   "name": "R",
   "pygments_lexer": "r",
   "version": "4.1.0"
  }
 },
 "nbformat": 4,
 "nbformat_minor": 5
}
