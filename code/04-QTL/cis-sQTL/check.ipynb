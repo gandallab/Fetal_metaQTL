{
 "cells": [
  {
   "cell_type": "markdown",
   "id": "c878f3bb",
   "metadata": {},
   "source": [
    "# Check if chunk files are the same size\n",
    "- `for i in {1..100}; do lh amr_nominal*/chunk${i}.txt.gz >> test.txt;done`\n",
    "Finished:\n",
    "- sQTL ALL, EUR, AMR, AFR nominal 1e6\n",
    "- isoQTL ALL, EUR, AMR, AFR nominal\n",
    "- TODO: eQTL"
   ]
  },
  {
   "cell_type": "code",
   "execution_count": 42,
   "id": "a0f6dda6",
   "metadata": {},
   "outputs": [],
   "source": [
    "library(tidyverse)\n",
    "setwd(\"~/project-gandalm/isoform_twas/isoqtl_new/results/\")\n",
    "library(data.table)"
   ]
  },
  {
   "cell_type": "code",
   "execution_count": 57,
   "id": "434fb628",
   "metadata": {},
   "outputs": [
    {
     "data": {
      "text/html": [
       "<table class=\"dataframe\">\n",
       "<caption>A data.frame: 6 x 9</caption>\n",
       "<thead>\n",
       "\t<tr><th></th><th scope=col>V1</th><th scope=col>V2</th><th scope=col>V3</th><th scope=col>V4</th><th scope=col>V5</th><th scope=col>V6</th><th scope=col>V7</th><th scope=col>V8</th><th scope=col>V9</th></tr>\n",
       "\t<tr><th></th><th scope=col>&lt;chr&gt;</th><th scope=col>&lt;int&gt;</th><th scope=col>&lt;chr&gt;</th><th scope=col>&lt;chr&gt;</th><th scope=col>&lt;chr&gt;</th><th scope=col>&lt;chr&gt;</th><th scope=col>&lt;int&gt;</th><th scope=col>&lt;chr&gt;</th><th scope=col>&lt;chr&gt;</th></tr>\n",
       "</thead>\n",
       "<tbody>\n",
       "\t<tr><th scope=row>1</th><td>-rw-r--r--.</td><td>1</td><td>cindywen</td><td>eeskin</td><td>126M</td><td>Oct</td><td>21</td><td>17:13</td><td>afr_nominal_10HCP/chunk1.txt.gz</td></tr>\n",
       "\t<tr><th scope=row>2</th><td>-rw-r--r--.</td><td>1</td><td>cindywen</td><td>eeskin</td><td>126M</td><td>Oct</td><td>21</td><td>16:28</td><td>afr_nominal_15HCP/chunk1.txt.gz</td></tr>\n",
       "\t<tr><th scope=row>3</th><td>-rw-r--r--.</td><td>1</td><td>cindywen</td><td>eeskin</td><td>126M</td><td>Oct</td><td>21</td><td>17:14</td><td>afr_nominal_20HCP/chunk1.txt.gz</td></tr>\n",
       "\t<tr><th scope=row>4</th><td>-rw-r--r--.</td><td>1</td><td>cindywen</td><td>eeskin</td><td>126M</td><td>Oct</td><td>21</td><td>17:19</td><td>afr_nominal_25HCP/chunk1.txt.gz</td></tr>\n",
       "\t<tr><th scope=row>5</th><td>-rw-r--r--.</td><td>1</td><td>cindywen</td><td>eeskin</td><td>126M</td><td>Oct</td><td>21</td><td>16:33</td><td>afr_nominal_30HCP/chunk1.txt.gz</td></tr>\n",
       "\t<tr><th scope=row>6</th><td>-rw-r--r--.</td><td>1</td><td>cindywen</td><td>eeskin</td><td>126M</td><td>Oct</td><td>21</td><td>17:14</td><td>afr_nominal_35HCP/chunk1.txt.gz</td></tr>\n",
       "</tbody>\n",
       "</table>\n"
      ],
      "text/latex": [
       "A data.frame: 6 x 9\n",
       "\\begin{tabular}{r|lllllllll}\n",
       "  & V1 & V2 & V3 & V4 & V5 & V6 & V7 & V8 & V9\\\\\n",
       "  & <chr> & <int> & <chr> & <chr> & <chr> & <chr> & <int> & <chr> & <chr>\\\\\n",
       "\\hline\n",
       "\t1 & -rw-r--r--. & 1 & cindywen & eeskin & 126M & Oct & 21 & 17:13 & afr\\_nominal\\_10HCP/chunk1.txt.gz\\\\\n",
       "\t2 & -rw-r--r--. & 1 & cindywen & eeskin & 126M & Oct & 21 & 16:28 & afr\\_nominal\\_15HCP/chunk1.txt.gz\\\\\n",
       "\t3 & -rw-r--r--. & 1 & cindywen & eeskin & 126M & Oct & 21 & 17:14 & afr\\_nominal\\_20HCP/chunk1.txt.gz\\\\\n",
       "\t4 & -rw-r--r--. & 1 & cindywen & eeskin & 126M & Oct & 21 & 17:19 & afr\\_nominal\\_25HCP/chunk1.txt.gz\\\\\n",
       "\t5 & -rw-r--r--. & 1 & cindywen & eeskin & 126M & Oct & 21 & 16:33 & afr\\_nominal\\_30HCP/chunk1.txt.gz\\\\\n",
       "\t6 & -rw-r--r--. & 1 & cindywen & eeskin & 126M & Oct & 21 & 17:14 & afr\\_nominal\\_35HCP/chunk1.txt.gz\\\\\n",
       "\\end{tabular}\n"
      ],
      "text/markdown": [
       "\n",
       "A data.frame: 6 x 9\n",
       "\n",
       "| <!--/--> | V1 &lt;chr&gt; | V2 &lt;int&gt; | V3 &lt;chr&gt; | V4 &lt;chr&gt; | V5 &lt;chr&gt; | V6 &lt;chr&gt; | V7 &lt;int&gt; | V8 &lt;chr&gt; | V9 &lt;chr&gt; |\n",
       "|---|---|---|---|---|---|---|---|---|---|\n",
       "| 1 | -rw-r--r--. | 1 | cindywen | eeskin | 126M | Oct | 21 | 17:13 | afr_nominal_10HCP/chunk1.txt.gz |\n",
       "| 2 | -rw-r--r--. | 1 | cindywen | eeskin | 126M | Oct | 21 | 16:28 | afr_nominal_15HCP/chunk1.txt.gz |\n",
       "| 3 | -rw-r--r--. | 1 | cindywen | eeskin | 126M | Oct | 21 | 17:14 | afr_nominal_20HCP/chunk1.txt.gz |\n",
       "| 4 | -rw-r--r--. | 1 | cindywen | eeskin | 126M | Oct | 21 | 17:19 | afr_nominal_25HCP/chunk1.txt.gz |\n",
       "| 5 | -rw-r--r--. | 1 | cindywen | eeskin | 126M | Oct | 21 | 16:33 | afr_nominal_30HCP/chunk1.txt.gz |\n",
       "| 6 | -rw-r--r--. | 1 | cindywen | eeskin | 126M | Oct | 21 | 17:14 | afr_nominal_35HCP/chunk1.txt.gz |\n",
       "\n"
      ],
      "text/plain": [
       "  V1          V2 V3       V4     V5   V6  V7 V8   \n",
       "1 -rw-r--r--. 1  cindywen eeskin 126M Oct 21 17:13\n",
       "2 -rw-r--r--. 1  cindywen eeskin 126M Oct 21 16:28\n",
       "3 -rw-r--r--. 1  cindywen eeskin 126M Oct 21 17:14\n",
       "4 -rw-r--r--. 1  cindywen eeskin 126M Oct 21 17:19\n",
       "5 -rw-r--r--. 1  cindywen eeskin 126M Oct 21 16:33\n",
       "6 -rw-r--r--. 1  cindywen eeskin 126M Oct 21 17:14\n",
       "  V9                             \n",
       "1 afr_nominal_10HCP/chunk1.txt.gz\n",
       "2 afr_nominal_15HCP/chunk1.txt.gz\n",
       "3 afr_nominal_20HCP/chunk1.txt.gz\n",
       "4 afr_nominal_25HCP/chunk1.txt.gz\n",
       "5 afr_nominal_30HCP/chunk1.txt.gz\n",
       "6 afr_nominal_35HCP/chunk1.txt.gz"
      ]
     },
     "metadata": {},
     "output_type": "display_data"
    }
   ],
   "source": [
    "dat <- fread(\"test.txt\", data.table = F)\n",
    "head(dat)"
   ]
  },
  {
   "cell_type": "code",
   "execution_count": 58,
   "id": "9abd1660",
   "metadata": {},
   "outputs": [],
   "source": [
    "dat$V5 <- gsub('M','',dat$V5)\n",
    "dat$V5 <- as.numeric(dat$V5)"
   ]
  },
  {
   "cell_type": "code",
   "execution_count": 59,
   "id": "e39bf2b4",
   "metadata": {},
   "outputs": [],
   "source": [
    "check <- c()\n",
    "for(i in 1:100){\n",
    "    if(max(dat[((i-1)*10+1):((i-1)*10+10),'V5']) - min(dat[((i-1)*10+1):((i-1)*10+10),'V5']) > 1) {\n",
    "        print(i)\n",
    "        check <- append(check, i)\n",
    "    }\n",
    "}"
   ]
  },
  {
   "cell_type": "code",
   "execution_count": 60,
   "id": "eee6398b",
   "metadata": {},
   "outputs": [
    {
     "data": {
      "text/html": [
       "<ol>\n",
       "</ol>\n"
      ],
      "text/latex": [
       "\\begin{enumerate}\n",
       "\\end{enumerate}\n"
      ],
      "text/markdown": [
       "\n",
       "\n"
      ],
      "text/plain": [
       "list()"
      ]
     },
     "metadata": {},
     "output_type": "display_data"
    }
   ],
   "source": [
    "lapply(check, function(x) dat[((x-1)*10+1):((x-1)*10+10),])"
   ]
  },
  {
   "cell_type": "code",
   "execution_count": null,
   "id": "9123918f",
   "metadata": {},
   "outputs": [],
   "source": []
  }
 ],
 "metadata": {
  "kernelspec": {
   "display_name": "R 4.1.0 BIO",
   "language": "R",
   "name": "ir410-bio"
  },
  "language_info": {
   "codemirror_mode": "r",
   "file_extension": ".r",
   "mimetype": "text/x-r-source",
   "name": "R",
   "pygments_lexer": "r",
   "version": "4.1.0"
  }
 },
 "nbformat": 4,
 "nbformat_minor": 5
}
