{
 "cells": [
  {
   "cell_type": "markdown",
   "metadata": {
    "deletable": true,
    "editable": true
   },
   "source": [
    "# GBAT trans-eQTL"
   ]
  },
  {
   "cell_type": "code",
   "execution_count": 1,
   "metadata": {
    "collapsed": false,
    "deletable": true,
    "editable": true
   },
   "outputs": [],
   "source": [
    "suppressMessages(library(ggplot2))\n",
    "suppressMessages(library(data.table))\n",
    "suppressMessages(library(dplyr))\n",
    "suppressMessages(library(tidyr))"
   ]
  },
  {
   "cell_type": "code",
   "execution_count": 2,
   "metadata": {
    "collapsed": true,
    "deletable": true,
    "editable": true
   },
   "outputs": [],
   "source": [
    "setwd(\"~/project-gandalm/isoform_twas/gbat/\")"
   ]
  },
  {
   "cell_type": "markdown",
   "metadata": {
    "deletable": true,
    "editable": true
   },
   "source": [
    "### h2g"
   ]
  },
  {
   "cell_type": "code",
   "execution_count": 69,
   "metadata": {
    "collapsed": false,
    "deletable": true,
    "editable": true
   },
   "outputs": [
    {
     "data": {
      "text/html": [
       "<style>\n",
       ".list-inline {list-style: none; margin:0; padding: 0}\n",
       ".list-inline>li {display: inline-block}\n",
       ".list-inline>li:not(:last-child)::after {content: \"\\00b7\"; padding: 0 .5ex}\n",
       "</style>\n",
       "<ol class=list-inline><li>17642</li><li>2</li></ol>\n"
      ],
      "text/latex": [
       "\\begin{enumerate*}\n",
       "\\item 17642\n",
       "\\item 2\n",
       "\\end{enumerate*}\n"
      ],
      "text/markdown": [
       "1. 17642\n",
       "2. 2\n",
       "\n",
       "\n"
      ],
      "text/plain": [
       "[1] 17642     2"
      ]
     },
     "metadata": {},
     "output_type": "display_data"
    },
    {
     "data": {
      "text/html": [
       "17642"
      ],
      "text/latex": [
       "17642"
      ],
      "text/markdown": [
       "17642"
      ],
      "text/plain": [
       "[1] 17642"
      ]
     },
     "metadata": {},
     "output_type": "display_data"
    },
    {
     "data": {
      "text/html": [
       "<table>\n",
       "<caption>A data.frame: 6 × 2</caption>\n",
       "<thead>\n",
       "\t<tr><th></th><th scope=col>gene</th><th scope=col>h2g</th></tr>\n",
       "\t<tr><th></th><th scope=col>&lt;chr&gt;</th><th scope=col>&lt;dbl&gt;</th></tr>\n",
       "</thead>\n",
       "<tbody>\n",
       "\t<tr><th scope=row>1</th><td>ENSG00000226864.2_5 </td><td>0.30585313</td></tr>\n",
       "\t<tr><th scope=row>2</th><td>ENSG00000107672.15_4</td><td>0.15019899</td></tr>\n",
       "\t<tr><th scope=row>3</th><td>ENSG00000273891.1_7 </td><td>0.17478500</td></tr>\n",
       "\t<tr><th scope=row>4</th><td>ENSG00000138162.19_5</td><td>0.12380934</td></tr>\n",
       "\t<tr><th scope=row>5</th><td>ENSG00000107679.14_3</td><td>0.06980185</td></tr>\n",
       "\t<tr><th scope=row>6</th><td>ENSG00000166033.13_4</td><td>0.07393242</td></tr>\n",
       "</tbody>\n",
       "</table>\n"
      ],
      "text/latex": [
       "A data.frame: 6 × 2\n",
       "\\begin{tabular}{r|ll}\n",
       "  & gene & h2g\\\\\n",
       "  & <chr> & <dbl>\\\\\n",
       "\\hline\n",
       "\t1 & ENSG00000226864.2\\_5  & 0.30585313\\\\\n",
       "\t2 & ENSG00000107672.15\\_4 & 0.15019899\\\\\n",
       "\t3 & ENSG00000273891.1\\_7  & 0.17478500\\\\\n",
       "\t4 & ENSG00000138162.19\\_5 & 0.12380934\\\\\n",
       "\t5 & ENSG00000107679.14\\_3 & 0.06980185\\\\\n",
       "\t6 & ENSG00000166033.13\\_4 & 0.07393242\\\\\n",
       "\\end{tabular}\n"
      ],
      "text/markdown": [
       "\n",
       "A data.frame: 6 × 2\n",
       "\n",
       "| <!--/--> | gene &lt;chr&gt; | h2g &lt;dbl&gt; |\n",
       "|---|---|---|\n",
       "| 1 | ENSG00000226864.2_5  | 0.30585313 |\n",
       "| 2 | ENSG00000107672.15_4 | 0.15019899 |\n",
       "| 3 | ENSG00000273891.1_7  | 0.17478500 |\n",
       "| 4 | ENSG00000138162.19_5 | 0.12380934 |\n",
       "| 5 | ENSG00000107679.14_3 | 0.06980185 |\n",
       "| 6 | ENSG00000166033.13_4 | 0.07393242 |\n",
       "\n"
      ],
      "text/plain": [
       "  gene                 h2g       \n",
       "1 ENSG00000226864.2_5  0.30585313\n",
       "2 ENSG00000107672.15_4 0.15019899\n",
       "3 ENSG00000273891.1_7  0.17478500\n",
       "4 ENSG00000138162.19_5 0.12380934\n",
       "5 ENSG00000107679.14_3 0.06980185\n",
       "6 ENSG00000166033.13_4 0.07393242"
      ]
     },
     "metadata": {},
     "output_type": "display_data"
    }
   ],
   "source": [
    "h2g <- fread(\"out/chrALL_perm_h2g.txt\", data.table = F, fill = TRUE)\n",
    "h2g <- h2g %>% filter(!gene == \"gene\")\n",
    "h2g$h2g <- as.numeric(h2g$h2g)\n",
    "h2g <- h2g[complete.cases(h2g),]\n",
    "dim(h2g)\n",
    "length(unique(h2g$gene))\n",
    "head(h2g)"
   ]
  },
  {
   "cell_type": "code",
   "execution_count": 70,
   "metadata": {
    "collapsed": false,
    "deletable": true,
    "editable": true
   },
   "outputs": [
    {
     "data": {
      "text/html": [
       "0.243564288408711"
      ],
      "text/latex": [
       "0.243564288408711"
      ],
      "text/markdown": [
       "0.243564288408711"
      ],
      "text/plain": [
       "[1] 0.2435643"
      ]
     },
     "metadata": {},
     "output_type": "display_data"
    }
   ],
   "source": [
    "mean(h2g$h2g)"
   ]
  },
  {
   "cell_type": "code",
   "execution_count": 72,
   "metadata": {
    "collapsed": false,
    "deletable": true,
    "editable": true
   },
   "outputs": [
    {
     "data": {
      "text/html": [
       "<style>\n",
       ".list-inline {list-style: none; margin:0; padding: 0}\n",
       ".list-inline>li {display: inline-block}\n",
       ".list-inline>li:not(:last-child)::after {content: \"\\00b7\"; padding: 0 .5ex}\n",
       "</style>\n",
       "<ol class=list-inline><li>-0.480567693329256</li><li>3.81099752720019</li></ol>\n"
      ],
      "text/latex": [
       "\\begin{enumerate*}\n",
       "\\item -0.480567693329256\n",
       "\\item 3.81099752720019\n",
       "\\end{enumerate*}\n"
      ],
      "text/markdown": [
       "1. -0.480567693329256\n",
       "2. 3.81099752720019\n",
       "\n",
       "\n"
      ],
      "text/plain": [
       "[1] -0.4805677  3.8109975"
      ]
     },
     "metadata": {},
     "output_type": "display_data"
    }
   ],
   "source": [
    "range(h2g$h2g)"
   ]
  },
  {
   "cell_type": "code",
   "execution_count": 73,
   "metadata": {
    "collapsed": true,
    "deletable": true,
    "editable": true
   },
   "outputs": [],
   "source": [
    "h2g_sub <- h2g %>% filter(h2g > 0 & h2g < 1)"
   ]
  },
  {
   "cell_type": "code",
   "execution_count": 74,
   "metadata": {
    "collapsed": false,
    "deletable": true,
    "editable": true
   },
   "outputs": [
    {
     "data": {
      "text/html": [
       "<style>\n",
       ".list-inline {list-style: none; margin:0; padding: 0}\n",
       ".list-inline>li {display: inline-block}\n",
       ".list-inline>li:not(:last-child)::after {content: \"\\00b7\"; padding: 0 .5ex}\n",
       "</style>\n",
       "<ol class=list-inline><li>16911</li><li>2</li></ol>\n"
      ],
      "text/latex": [
       "\\begin{enumerate*}\n",
       "\\item 16911\n",
       "\\item 2\n",
       "\\end{enumerate*}\n"
      ],
      "text/markdown": [
       "1. 16911\n",
       "2. 2\n",
       "\n",
       "\n"
      ],
      "text/plain": [
       "[1] 16911     2"
      ]
     },
     "metadata": {},
     "output_type": "display_data"
    }
   ],
   "source": [
    "dim(h2g_sub)"
   ]
  },
  {
   "cell_type": "code",
   "execution_count": 92,
   "metadata": {
    "collapsed": false,
    "deletable": true,
    "editable": true
   },
   "outputs": [
    {
     "data": {
      "image/png": "[encoded data removed]",
      "text/plain": [
       "plot without title"
      ]
     },
     "metadata": {
      "image/png": {
       "height": 360,
       "width": 360
      }
     },
     "output_type": "display_data"
    }
   ],
   "source": [
    "options(repr.plot.width = 6, repr.plot.height = 6)\n",
    "p <- ggplot(h2g_sub, aes(x = h2g)) +\n",
    "    geom_histogram(binwidth = 0.025, color = \"black\", fill = \"white\") +\n",
    "    theme_classic() +\n",
    "    geom_vline(xintercept = mean(h2g_sub$h2g), linetype = \"dashed\", color = \"blue\") +\n",
    "    labs(title = \"16911 genes with 0<h2g<1\") +\n",
    "    theme(axis.text = element_text(size = 16),\n",
    "          axis.title = element_text(size = 18),\n",
    "          plot.title = element_text(size = 18, face = \"bold\", hjust = 0.5)) \n",
    "    \n",
    "p"
   ]
  },
  {
   "cell_type": "code",
   "execution_count": 93,
   "metadata": {
    "collapsed": true,
    "deletable": true,
    "editable": true
   },
   "outputs": [],
   "source": [
    "ggsave(\"figures/h2g.png\", p, height = 6, width = 6)"
   ]
  },
  {
   "cell_type": "markdown",
   "metadata": {
    "deletable": true,
    "editable": true
   },
   "source": [
    "### pearson R2"
   ]
  },
  {
   "cell_type": "code",
   "execution_count": 84,
   "metadata": {
    "collapsed": false,
    "deletable": true,
    "editable": true
   },
   "outputs": [
    {
     "data": {
      "text/html": [
       "<style>\n",
       ".list-inline {list-style: none; margin:0; padding: 0}\n",
       ".list-inline>li {display: inline-block}\n",
       ".list-inline>li:not(:last-child)::after {content: \"\\00b7\"; padding: 0 .5ex}\n",
       "</style>\n",
       "<ol class=list-inline><li>17642</li><li>2</li></ol>\n"
      ],
      "text/latex": [
       "\\begin{enumerate*}\n",
       "\\item 17642\n",
       "\\item 2\n",
       "\\end{enumerate*}\n"
      ],
      "text/markdown": [
       "1. 17642\n",
       "2. 2\n",
       "\n",
       "\n"
      ],
      "text/plain": [
       "[1] 17642     2"
      ]
     },
     "metadata": {},
     "output_type": "display_data"
    },
    {
     "data": {
      "text/html": [
       "<table>\n",
       "<caption>A data.frame: 6 × 2</caption>\n",
       "<thead>\n",
       "\t<tr><th></th><th scope=col>genes</th><th scope=col>rsquared_goos_sva</th></tr>\n",
       "\t<tr><th></th><th scope=col>&lt;chr&gt;</th><th scope=col>&lt;dbl&gt;</th></tr>\n",
       "</thead>\n",
       "<tbody>\n",
       "\t<tr><th scope=row>1</th><td>ENSG00000226864.2_5 </td><td> 0.43067437</td></tr>\n",
       "\t<tr><th scope=row>2</th><td>ENSG00000107672.15_4</td><td> 0.05145882</td></tr>\n",
       "\t<tr><th scope=row>3</th><td>ENSG00000273891.1_7 </td><td> 0.15226333</td></tr>\n",
       "\t<tr><th scope=row>4</th><td>ENSG00000138162.19_5</td><td>-0.09209346</td></tr>\n",
       "\t<tr><th scope=row>5</th><td>ENSG00000107679.14_3</td><td> 0.12708331</td></tr>\n",
       "\t<tr><th scope=row>6</th><td>ENSG00000166033.13_4</td><td> 0.04679261</td></tr>\n",
       "</tbody>\n",
       "</table>\n"
      ],
      "text/latex": [
       "A data.frame: 6 × 2\n",
       "\\begin{tabular}{r|ll}\n",
       "  & genes & rsquared\\_goos\\_sva\\\\\n",
       "  & <chr> & <dbl>\\\\\n",
       "\\hline\n",
       "\t1 & ENSG00000226864.2\\_5  &  0.43067437\\\\\n",
       "\t2 & ENSG00000107672.15\\_4 &  0.05145882\\\\\n",
       "\t3 & ENSG00000273891.1\\_7  &  0.15226333\\\\\n",
       "\t4 & ENSG00000138162.19\\_5 & -0.09209346\\\\\n",
       "\t5 & ENSG00000107679.14\\_3 &  0.12708331\\\\\n",
       "\t6 & ENSG00000166033.13\\_4 &  0.04679261\\\\\n",
       "\\end{tabular}\n"
      ],
      "text/markdown": [
       "\n",
       "A data.frame: 6 × 2\n",
       "\n",
       "| <!--/--> | genes &lt;chr&gt; | rsquared_goos_sva &lt;dbl&gt; |\n",
       "|---|---|---|\n",
       "| 1 | ENSG00000226864.2_5  |  0.43067437 |\n",
       "| 2 | ENSG00000107672.15_4 |  0.05145882 |\n",
       "| 3 | ENSG00000273891.1_7  |  0.15226333 |\n",
       "| 4 | ENSG00000138162.19_5 | -0.09209346 |\n",
       "| 5 | ENSG00000107679.14_3 |  0.12708331 |\n",
       "| 6 | ENSG00000166033.13_4 |  0.04679261 |\n",
       "\n"
      ],
      "text/plain": [
       "  genes                rsquared_goos_sva\n",
       "1 ENSG00000226864.2_5   0.43067437      \n",
       "2 ENSG00000107672.15_4  0.05145882      \n",
       "3 ENSG00000273891.1_7   0.15226333      \n",
       "4 ENSG00000138162.19_5 -0.09209346      \n",
       "5 ENSG00000107679.14_3  0.12708331      \n",
       "6 ENSG00000166033.13_4  0.04679261      "
      ]
     },
     "metadata": {},
     "output_type": "display_data"
    }
   ],
   "source": [
    "r2 <- fread(\"out/pearsonR_chrALL.txt\", data.table = F, fill = TRUE)\n",
    "r2 <- r2 %>% filter(!genes == \"genes\")\n",
    "r2$rsquared_goos_sva <- as.numeric(r2$rsquared_goos_sva)\n",
    "r2 <- r2[complete.cases(r2),]\n",
    "dim(r2)\n",
    "head(r2)"
   ]
  },
  {
   "cell_type": "code",
   "execution_count": 85,
   "metadata": {
    "collapsed": false,
    "deletable": true,
    "editable": true,
    "scrolled": true
   },
   "outputs": [
    {
     "data": {
      "text/html": [
       "<style>\n",
       ".list-inline {list-style: none; margin:0; padding: 0}\n",
       ".list-inline>li {display: inline-block}\n",
       ".list-inline>li:not(:last-child)::after {content: \"\\00b7\"; padding: 0 .5ex}\n",
       "</style>\n",
       "<ol class=list-inline><li>-0.37949441680676</li><li>0.675597852960161</li></ol>\n"
      ],
      "text/latex": [
       "\\begin{enumerate*}\n",
       "\\item -0.37949441680676\n",
       "\\item 0.675597852960161\n",
       "\\end{enumerate*}\n"
      ],
      "text/markdown": [
       "1. -0.37949441680676\n",
       "2. 0.675597852960161\n",
       "\n",
       "\n"
      ],
      "text/plain": [
       "[1] -0.3794944  0.6755979"
      ]
     },
     "metadata": {},
     "output_type": "display_data"
    }
   ],
   "source": [
    "range(r2$rsquared_goos_sva)"
   ]
  },
  {
   "cell_type": "code",
   "execution_count": 90,
   "metadata": {
    "collapsed": false,
    "deletable": true,
    "editable": true
   },
   "outputs": [
    {
     "data": {
      "text/html": [
       "0.0378328531819113"
      ],
      "text/latex": [
       "0.0378328531819113"
      ],
      "text/markdown": [
       "0.0378328531819113"
      ],
      "text/plain": [
       "[1] 0.03783285"
      ]
     },
     "metadata": {},
     "output_type": "display_data"
    }
   ],
   "source": [
    "mean(r2$rsquared_goos_sva)"
   ]
  },
  {
   "cell_type": "code",
   "execution_count": 96,
   "metadata": {
    "collapsed": false,
    "deletable": true,
    "editable": true
   },
   "outputs": [
    {
     "data": {
      "text/html": [
       "3072"
      ],
      "text/latex": [
       "3072"
      ],
      "text/markdown": [
       "3072"
      ],
      "text/plain": [
       "[1] 3072"
      ]
     },
     "metadata": {},
     "output_type": "display_data"
    },
    {
     "data": {
      "text/html": [
       "6670"
      ],
      "text/latex": [
       "6670"
      ],
      "text/markdown": [
       "6670"
      ],
      "text/plain": [
       "[1] 6670"
      ]
     },
     "metadata": {},
     "output_type": "display_data"
    },
    {
     "data": {
      "text/html": [
       "10721"
      ],
      "text/latex": [
       "10721"
      ],
      "text/markdown": [
       "10721"
      ],
      "text/plain": [
       "[1] 10721"
      ]
     },
     "metadata": {},
     "output_type": "display_data"
    }
   ],
   "source": [
    "sum(r2$rsquared_goos_sva > 0.1)\n",
    "sum(r2$rsquared_goos_sva > 0.05)\n",
    "sum(r2$rsquared_goos_sva > 0.01)"
   ]
  },
  {
   "cell_type": "code",
   "execution_count": 94,
   "metadata": {
    "collapsed": false,
    "deletable": true,
    "editable": true
   },
   "outputs": [
    {
     "data": {
      "image/png": "[encoded data removed]",
      "text/plain": [
       "plot without title"
      ]
     },
     "metadata": {
      "image/png": {
       "height": 360,
       "width": 360
      }
     },
     "output_type": "display_data"
    }
   ],
   "source": [
    "p <- ggplot(r2, aes(x = rsquared_goos_sva)) +\n",
    "    geom_histogram(binwidth = 0.025, color = \"black\", fill = \"white\") +\n",
    "    theme_classic() +\n",
    "    geom_vline(xintercept = mean(r2$rsquared_goos_sva), linetype = \"dashed\", color = \"blue\") +\n",
    "    labs(title = \"PearsonR2\", x = \"R2\") +\n",
    "    theme(axis.text = element_text(size = 16),\n",
    "          axis.title = element_text(size = 18),\n",
    "          plot.title = element_text(size = 18, face = \"bold\", hjust = 0.5)) \n",
    "    \n",
    "p"
   ]
  },
  {
   "cell_type": "code",
   "execution_count": 95,
   "metadata": {
    "collapsed": true,
    "deletable": true,
    "editable": true
   },
   "outputs": [],
   "source": [
    "ggsave(\"figures/r2.png\", p, height = 6, width = 6)"
   ]
  },
  {
   "cell_type": "code",
   "execution_count": 97,
   "metadata": {
    "collapsed": true,
    "deletable": true,
    "editable": true
   },
   "outputs": [],
   "source": [
    "r2_sub <- r2 %>% filter(rsquared_goos_sva > 0.01)"
   ]
  },
  {
   "cell_type": "code",
   "execution_count": 99,
   "metadata": {
    "collapsed": false,
    "deletable": true,
    "editable": true
   },
   "outputs": [
    {
     "data": {
      "text/html": [
       "10145"
      ],
      "text/latex": [
       "10145"
      ],
      "text/markdown": [
       "10145"
      ],
      "text/plain": [
       "[1] 10145"
      ]
     },
     "metadata": {},
     "output_type": "display_data"
    }
   ],
   "source": [
    "sum(r2_sub$genes %in% h2g_sub$gene)"
   ]
  },
  {
   "cell_type": "markdown",
   "metadata": {
    "deletable": true,
    "editable": true
   },
   "source": [
    "### Trans-gene pairs (gene1: target; gene2: regulator)"
   ]
  },
  {
   "cell_type": "code",
   "execution_count": 3,
   "metadata": {
    "collapsed": false,
    "deletable": true,
    "editable": true,
    "scrolled": true
   },
   "outputs": [
    {
     "data": {
      "text/html": [
       "<table>\n",
       "<caption>A data.frame: 6 × 5</caption>\n",
       "<thead>\n",
       "\t<tr><th></th><th scope=col>gene</th><th scope=col>chr</th><th scope=col>start</th><th scope=col>end</th><th scope=col>pos</th></tr>\n",
       "\t<tr><th></th><th scope=col>&lt;chr&gt;</th><th scope=col>&lt;dbl&gt;</th><th scope=col>&lt;int&gt;</th><th scope=col>&lt;int&gt;</th><th scope=col>&lt;dbl&gt;</th></tr>\n",
       "</thead>\n",
       "<tbody>\n",
       "\t<tr><th scope=row>1</th><td>ENSG00000227232.5_3 </td><td>1</td><td> 14404</td><td> 29570</td><td> 14404</td></tr>\n",
       "\t<tr><th scope=row>2</th><td>ENSG00000225630.1_4 </td><td>1</td><td>565020</td><td>566063</td><td>565020</td></tr>\n",
       "\t<tr><th scope=row>3</th><td>ENSG00000237973.1_4 </td><td>1</td><td>566454</td><td>567996</td><td>566454</td></tr>\n",
       "\t<tr><th scope=row>4</th><td>ENSG00000248527.1_4 </td><td>1</td><td>569076</td><td>569756</td><td>569076</td></tr>\n",
       "\t<tr><th scope=row>5</th><td>ENSG00000228327.3_7 </td><td>1</td><td>661265</td><td>714006</td><td>661265</td></tr>\n",
       "\t<tr><th scope=row>6</th><td>ENSG00000237491.10_9</td><td>1</td><td>714127</td><td>745437</td><td>714127</td></tr>\n",
       "</tbody>\n",
       "</table>\n"
      ],
      "text/latex": [
       "A data.frame: 6 × 5\n",
       "\\begin{tabular}{r|lllll}\n",
       "  & gene & chr & start & end & pos\\\\\n",
       "  & <chr> & <dbl> & <int> & <int> & <dbl>\\\\\n",
       "\\hline\n",
       "\t1 & ENSG00000227232.5\\_3  & 1 &  14404 &  29570 &  14404\\\\\n",
       "\t2 & ENSG00000225630.1\\_4  & 1 & 565020 & 566063 & 565020\\\\\n",
       "\t3 & ENSG00000237973.1\\_4  & 1 & 566454 & 567996 & 566454\\\\\n",
       "\t4 & ENSG00000248527.1\\_4  & 1 & 569076 & 569756 & 569076\\\\\n",
       "\t5 & ENSG00000228327.3\\_7  & 1 & 661265 & 714006 & 661265\\\\\n",
       "\t6 & ENSG00000237491.10\\_9 & 1 & 714127 & 745437 & 714127\\\\\n",
       "\\end{tabular}\n"
      ],
      "text/markdown": [
       "\n",
       "A data.frame: 6 × 5\n",
       "\n",
       "| <!--/--> | gene &lt;chr&gt; | chr &lt;dbl&gt; | start &lt;int&gt; | end &lt;int&gt; | pos &lt;dbl&gt; |\n",
       "|---|---|---|---|---|---|\n",
       "| 1 | ENSG00000227232.5_3  | 1 |  14404 |  29570 |  14404 |\n",
       "| 2 | ENSG00000225630.1_4  | 1 | 565020 | 566063 | 565020 |\n",
       "| 3 | ENSG00000237973.1_4  | 1 | 566454 | 567996 | 566454 |\n",
       "| 4 | ENSG00000248527.1_4  | 1 | 569076 | 569756 | 569076 |\n",
       "| 5 | ENSG00000228327.3_7  | 1 | 661265 | 714006 | 661265 |\n",
       "| 6 | ENSG00000237491.10_9 | 1 | 714127 | 745437 | 714127 |\n",
       "\n"
      ],
      "text/plain": [
       "  gene                 chr start  end    pos   \n",
       "1 ENSG00000227232.5_3  1    14404  29570  14404\n",
       "2 ENSG00000225630.1_4  1   565020 566063 565020\n",
       "3 ENSG00000237973.1_4  1   566454 567996 566454\n",
       "4 ENSG00000248527.1_4  1   569076 569756 569076\n",
       "5 ENSG00000228327.3_7  1   661265 714006 661265\n",
       "6 ENSG00000237491.10_9 1   714127 745437 714127"
      ]
     },
     "metadata": {},
     "output_type": "display_data"
    }
   ],
   "source": [
    "gene_pos <- read.table(\"out/gene_pos.txt\", header = T, stringsAsFactors = F)\n",
    "gene_pos$chr <- gsub(\"chr\",\"\",gene_pos$chr)\n",
    "gene_pos$chr <- as.numeric(gene_pos$chr)\n",
    "\n",
    "ticks <- NULL\n",
    "lastbase <- 0\n",
    "gene_pos$pos <- NA\n",
    "\n",
    "for (i in 1:22) {\n",
    "  if (i==1) {\n",
    "    gene_pos[gene_pos$chr==i, ]$pos <- gene_pos[gene_pos$chr==i, ]$start\n",
    "  }\telse {\n",
    "    lastbase <- lastbase + tail(subset(gene_pos,chr==i-1)$start, 1)\n",
    "    gene_pos[gene_pos$chr==i, ]$pos <- gene_pos[gene_pos$chr==i, ]$start + lastbase\n",
    "  }\n",
    "  ticks <- c(ticks, gene_pos[gene_pos$chr==i, ]$pos[floor(length(gene_pos[gene_pos$chr==i, ]$pos)/2)+1])\n",
    "}\n",
    "\n",
    "head(gene_pos)"
   ]
  },
  {
   "cell_type": "code",
   "execution_count": 4,
   "metadata": {
    "collapsed": false,
    "deletable": true,
    "editable": true
   },
   "outputs": [
    {
     "data": {
      "text/html": [
       "<table>\n",
       "<caption>A data.frame: 6 × 3</caption>\n",
       "<thead>\n",
       "\t<tr><th></th><th scope=col>gene1</th><th scope=col>gene2</th><th scope=col>p</th></tr>\n",
       "\t<tr><th></th><th scope=col>&lt;chr&gt;</th><th scope=col>&lt;chr&gt;</th><th scope=col>&lt;chr&gt;</th></tr>\n",
       "</thead>\n",
       "<tbody>\n",
       "\t<tr><th scope=row>1</th><td>ENSG00000185875.13_4</td><td>ENSG00000117859.19_8</td><td>3.15873427942132e-10</td></tr>\n",
       "\t<tr><th scope=row>2</th><td>ENSG00000167526.13_4</td><td>ENSG00000215030.5_4 </td><td>4.18897590547683e-42</td></tr>\n",
       "\t<tr><th scope=row>3</th><td>ENSG00000266918.1_6 </td><td>ENSG00000265218.1_7 </td><td>1.76336034873177e-11</td></tr>\n",
       "\t<tr><th scope=row>4</th><td>ENSG00000120071.14_6</td><td>ENSG00000265218.1_7 </td><td>5.68691777049441e-15</td></tr>\n",
       "\t<tr><th scope=row>5</th><td>ENSG00000214401.4_6 </td><td>ENSG00000265218.1_7 </td><td>2.63106302155481e-09</td></tr>\n",
       "\t<tr><th scope=row>6</th><td>ENSG00000073969.18_4</td><td>ENSG00000265218.1_7 </td><td>1.51052356062408e-16</td></tr>\n",
       "</tbody>\n",
       "</table>\n"
      ],
      "text/latex": [
       "A data.frame: 6 × 3\n",
       "\\begin{tabular}{r|lll}\n",
       "  & gene1 & gene2 & p\\\\\n",
       "  & <chr> & <chr> & <chr>\\\\\n",
       "\\hline\n",
       "\t1 & ENSG00000185875.13\\_4 & ENSG00000117859.19\\_8 & 3.15873427942132e-10\\\\\n",
       "\t2 & ENSG00000167526.13\\_4 & ENSG00000215030.5\\_4  & 4.18897590547683e-42\\\\\n",
       "\t3 & ENSG00000266918.1\\_6  & ENSG00000265218.1\\_7  & 1.76336034873177e-11\\\\\n",
       "\t4 & ENSG00000120071.14\\_6 & ENSG00000265218.1\\_7  & 5.68691777049441e-15\\\\\n",
       "\t5 & ENSG00000214401.4\\_6  & ENSG00000265218.1\\_7  & 2.63106302155481e-09\\\\\n",
       "\t6 & ENSG00000073969.18\\_4 & ENSG00000265218.1\\_7  & 1.51052356062408e-16\\\\\n",
       "\\end{tabular}\n"
      ],
      "text/markdown": [
       "\n",
       "A data.frame: 6 × 3\n",
       "\n",
       "| <!--/--> | gene1 &lt;chr&gt; | gene2 &lt;chr&gt; | p &lt;chr&gt; |\n",
       "|---|---|---|---|\n",
       "| 1 | ENSG00000185875.13_4 | ENSG00000117859.19_8 | 3.15873427942132e-10 |\n",
       "| 2 | ENSG00000167526.13_4 | ENSG00000215030.5_4  | 4.18897590547683e-42 |\n",
       "| 3 | ENSG00000266918.1_6  | ENSG00000265218.1_7  | 1.76336034873177e-11 |\n",
       "| 4 | ENSG00000120071.14_6 | ENSG00000265218.1_7  | 5.68691777049441e-15 |\n",
       "| 5 | ENSG00000214401.4_6  | ENSG00000265218.1_7  | 2.63106302155481e-09 |\n",
       "| 6 | ENSG00000073969.18_4 | ENSG00000265218.1_7  | 1.51052356062408e-16 |\n",
       "\n"
      ],
      "text/plain": [
       "  gene1                gene2                p                   \n",
       "1 ENSG00000185875.13_4 ENSG00000117859.19_8 3.15873427942132e-10\n",
       "2 ENSG00000167526.13_4 ENSG00000215030.5_4  4.18897590547683e-42\n",
       "3 ENSG00000266918.1_6  ENSG00000265218.1_7  1.76336034873177e-11\n",
       "4 ENSG00000120071.14_6 ENSG00000265218.1_7  5.68691777049441e-15\n",
       "5 ENSG00000214401.4_6  ENSG00000265218.1_7  2.63106302155481e-09\n",
       "6 ENSG00000073969.18_4 ENSG00000265218.1_7  1.51052356062408e-16"
      ]
     },
     "metadata": {},
     "output_type": "display_data"
    }
   ],
   "source": [
    "sig <- read.table(\"out/chrALL_sig_fdr10_genepairs.txt\", header = F, stringsAsFactors = F)\n",
    "sig <- sig %>% filter(!V1 == \"gene1\")\n",
    "colnames(sig) <- c(\"gene1\", \"gene2\", \"p\")\n",
    "head(sig)"
   ]
  },
  {
   "cell_type": "code",
   "execution_count": 5,
   "metadata": {
    "collapsed": true,
    "deletable": true,
    "editable": true
   },
   "outputs": [],
   "source": [
    "sig <- sig %>% left_join(gene_pos, by=c(\"gene1\"=\"gene\")) %>% left_join(gene_pos, by=c(\"gene2\"=\"gene\"))"
   ]
  },
  {
   "cell_type": "code",
   "execution_count": 6,
   "metadata": {
    "collapsed": false,
    "deletable": true,
    "editable": true
   },
   "outputs": [
    {
     "data": {
      "text/html": [
       "<table>\n",
       "<caption>A data.frame: 6 × 11</caption>\n",
       "<thead>\n",
       "\t<tr><th></th><th scope=col>gene1</th><th scope=col>gene2</th><th scope=col>p</th><th scope=col>chr.x</th><th scope=col>start.x</th><th scope=col>end.x</th><th scope=col>pos.x</th><th scope=col>chr.y</th><th scope=col>start.y</th><th scope=col>end.y</th><th scope=col>pos.y</th></tr>\n",
       "\t<tr><th></th><th scope=col>&lt;chr&gt;</th><th scope=col>&lt;chr&gt;</th><th scope=col>&lt;chr&gt;</th><th scope=col>&lt;dbl&gt;</th><th scope=col>&lt;int&gt;</th><th scope=col>&lt;int&gt;</th><th scope=col>&lt;dbl&gt;</th><th scope=col>&lt;dbl&gt;</th><th scope=col>&lt;int&gt;</th><th scope=col>&lt;int&gt;</th><th scope=col>&lt;dbl&gt;</th></tr>\n",
       "</thead>\n",
       "<tbody>\n",
       "\t<tr><th scope=row>1</th><td>ENSG00000185875.13_4</td><td>ENSG00000117859.19_8</td><td>3.15873427942132e-10</td><td>10</td><td>25305541</td><td>25315593</td><td>1703357703</td><td> 1</td><td>52042851</td><td>52264099</td><td>  52042851</td></tr>\n",
       "\t<tr><th scope=row>2</th><td>ENSG00000167526.13_4</td><td>ENSG00000215030.5_4 </td><td>4.18897590547683e-42</td><td>16</td><td>89627065</td><td>89633236</td><td>2494627993</td><td>17</td><td>17286691</td><td>17287326</td><td>2512393788</td></tr>\n",
       "\t<tr><th scope=row>3</th><td>ENSG00000266918.1_6 </td><td>ENSG00000265218.1_7 </td><td>1.76336034873177e-11</td><td>17</td><td>43608943</td><td>43611204</td><td>2538716040</td><td>17</td><td>62888847</td><td>62906298</td><td>2557995944</td></tr>\n",
       "\t<tr><th scope=row>4</th><td>ENSG00000120071.14_6</td><td>ENSG00000265218.1_7 </td><td>5.68691777049441e-15</td><td>17</td><td>44107282</td><td>44302755</td><td>2539214379</td><td>17</td><td>62888847</td><td>62906298</td><td>2557995944</td></tr>\n",
       "\t<tr><th scope=row>5</th><td>ENSG00000214401.4_6 </td><td>ENSG00000265218.1_7 </td><td>2.63106302155481e-09</td><td>17</td><td>44270942</td><td>44274087</td><td>2539378039</td><td>17</td><td>62888847</td><td>62906298</td><td>2557995944</td></tr>\n",
       "\t<tr><th scope=row>6</th><td>ENSG00000073969.18_4</td><td>ENSG00000265218.1_7 </td><td>1.51052356062408e-16</td><td>17</td><td>44668035</td><td>44834830</td><td>2539775132</td><td>17</td><td>62888847</td><td>62906298</td><td>2557995944</td></tr>\n",
       "</tbody>\n",
       "</table>\n"
      ],
      "text/latex": [
       "A data.frame: 6 × 11\n",
       "\\begin{tabular}{r|lllllllllll}\n",
       "  & gene1 & gene2 & p & chr.x & start.x & end.x & pos.x & chr.y & start.y & end.y & pos.y\\\\\n",
       "  & <chr> & <chr> & <chr> & <dbl> & <int> & <int> & <dbl> & <dbl> & <int> & <int> & <dbl>\\\\\n",
       "\\hline\n",
       "\t1 & ENSG00000185875.13\\_4 & ENSG00000117859.19\\_8 & 3.15873427942132e-10 & 10 & 25305541 & 25315593 & 1703357703 &  1 & 52042851 & 52264099 &   52042851\\\\\n",
       "\t2 & ENSG00000167526.13\\_4 & ENSG00000215030.5\\_4  & 4.18897590547683e-42 & 16 & 89627065 & 89633236 & 2494627993 & 17 & 17286691 & 17287326 & 2512393788\\\\\n",
       "\t3 & ENSG00000266918.1\\_6  & ENSG00000265218.1\\_7  & 1.76336034873177e-11 & 17 & 43608943 & 43611204 & 2538716040 & 17 & 62888847 & 62906298 & 2557995944\\\\\n",
       "\t4 & ENSG00000120071.14\\_6 & ENSG00000265218.1\\_7  & 5.68691777049441e-15 & 17 & 44107282 & 44302755 & 2539214379 & 17 & 62888847 & 62906298 & 2557995944\\\\\n",
       "\t5 & ENSG00000214401.4\\_6  & ENSG00000265218.1\\_7  & 2.63106302155481e-09 & 17 & 44270942 & 44274087 & 2539378039 & 17 & 62888847 & 62906298 & 2557995944\\\\\n",
       "\t6 & ENSG00000073969.18\\_4 & ENSG00000265218.1\\_7  & 1.51052356062408e-16 & 17 & 44668035 & 44834830 & 2539775132 & 17 & 62888847 & 62906298 & 2557995944\\\\\n",
       "\\end{tabular}\n"
      ],
      "text/markdown": [
       "\n",
       "A data.frame: 6 × 11\n",
       "\n",
       "| <!--/--> | gene1 &lt;chr&gt; | gene2 &lt;chr&gt; | p &lt;chr&gt; | chr.x &lt;dbl&gt; | start.x &lt;int&gt; | end.x &lt;int&gt; | pos.x &lt;dbl&gt; | chr.y &lt;dbl&gt; | start.y &lt;int&gt; | end.y &lt;int&gt; | pos.y &lt;dbl&gt; |\n",
       "|---|---|---|---|---|---|---|---|---|---|---|---|\n",
       "| 1 | ENSG00000185875.13_4 | ENSG00000117859.19_8 | 3.15873427942132e-10 | 10 | 25305541 | 25315593 | 1703357703 |  1 | 52042851 | 52264099 |   52042851 |\n",
       "| 2 | ENSG00000167526.13_4 | ENSG00000215030.5_4  | 4.18897590547683e-42 | 16 | 89627065 | 89633236 | 2494627993 | 17 | 17286691 | 17287326 | 2512393788 |\n",
       "| 3 | ENSG00000266918.1_6  | ENSG00000265218.1_7  | 1.76336034873177e-11 | 17 | 43608943 | 43611204 | 2538716040 | 17 | 62888847 | 62906298 | 2557995944 |\n",
       "| 4 | ENSG00000120071.14_6 | ENSG00000265218.1_7  | 5.68691777049441e-15 | 17 | 44107282 | 44302755 | 2539214379 | 17 | 62888847 | 62906298 | 2557995944 |\n",
       "| 5 | ENSG00000214401.4_6  | ENSG00000265218.1_7  | 2.63106302155481e-09 | 17 | 44270942 | 44274087 | 2539378039 | 17 | 62888847 | 62906298 | 2557995944 |\n",
       "| 6 | ENSG00000073969.18_4 | ENSG00000265218.1_7  | 1.51052356062408e-16 | 17 | 44668035 | 44834830 | 2539775132 | 17 | 62888847 | 62906298 | 2557995944 |\n",
       "\n"
      ],
      "text/plain": [
       "  gene1                gene2                p                    chr.x start.x \n",
       "1 ENSG00000185875.13_4 ENSG00000117859.19_8 3.15873427942132e-10 10    25305541\n",
       "2 ENSG00000167526.13_4 ENSG00000215030.5_4  4.18897590547683e-42 16    89627065\n",
       "3 ENSG00000266918.1_6  ENSG00000265218.1_7  1.76336034873177e-11 17    43608943\n",
       "4 ENSG00000120071.14_6 ENSG00000265218.1_7  5.68691777049441e-15 17    44107282\n",
       "5 ENSG00000214401.4_6  ENSG00000265218.1_7  2.63106302155481e-09 17    44270942\n",
       "6 ENSG00000073969.18_4 ENSG00000265218.1_7  1.51052356062408e-16 17    44668035\n",
       "  end.x    pos.x      chr.y start.y  end.y    pos.y     \n",
       "1 25315593 1703357703  1    52042851 52264099   52042851\n",
       "2 89633236 2494627993 17    17286691 17287326 2512393788\n",
       "3 43611204 2538716040 17    62888847 62906298 2557995944\n",
       "4 44302755 2539214379 17    62888847 62906298 2557995944\n",
       "5 44274087 2539378039 17    62888847 62906298 2557995944\n",
       "6 44834830 2539775132 17    62888847 62906298 2557995944"
      ]
     },
     "metadata": {},
     "output_type": "display_data"
    }
   ],
   "source": [
    "head(sig)"
   ]
  },
  {
   "cell_type": "code",
   "execution_count": 7,
   "metadata": {
    "collapsed": false
   },
   "outputs": [
    {
     "data": {
      "text/html": [
       "<style>\n",
       ".list-inline {list-style: none; margin:0; padding: 0}\n",
       ".list-inline>li {display: inline-block}\n",
       ".list-inline>li:not(:last-child)::after {content: \"\\00b7\"; padding: 0 .5ex}\n",
       "</style>\n",
       "<ol class=list-inline><li>21</li><li>11</li></ol>\n"
      ],
      "text/latex": [
       "\\begin{enumerate*}\n",
       "\\item 21\n",
       "\\item 11\n",
       "\\end{enumerate*}\n"
      ],
      "text/markdown": [
       "1. 21\n",
       "2. 11\n",
       "\n",
       "\n"
      ],
      "text/plain": [
       "[1] 21 11"
      ]
     },
     "metadata": {},
     "output_type": "display_data"
    }
   ],
   "source": [
    "dim(sig)"
   ]
  },
  {
   "cell_type": "code",
   "execution_count": 8,
   "metadata": {
    "collapsed": false,
    "deletable": true,
    "editable": true
   },
   "outputs": [
    {
     "data": {
      "image/png": "[encoded data removed]",
      "text/plain": [
       "plot without title"
      ]
     },
     "metadata": {
      "image/png": {
       "height": 360,
       "width": 360
      }
     },
     "output_type": "display_data"
    }
   ],
   "source": [
    "options(repr.plot.width = 6, repr.plot.height = 6)\n",
    "\n",
    "sig$p <- as.numeric(sig$p)\n",
    "chr_labs <- as.character(c(1:22))\n",
    "\n",
    "boundaries <- c()\n",
    "for(i in 1:21) {\n",
    "    boundaries <- c(boundaries, max(gene_pos[gene_pos$chr == i,]$pos))\n",
    "}\n",
    "\n",
    "p <- ggplot(sig, aes(x = pos.y, y = pos.x)) +\n",
    "    geom_point(aes(size = -log(p)), color = \"black\") +\n",
    "    scale_x_continuous(name = \"Chromosomal position (regulator)\", \n",
    "                       labels = chr_labs, \n",
    "                       breaks = ticks,\n",
    "                       limits = c(14404, 2875361182)) +\n",
    "    scale_y_continuous(name = \"Chromosomal position (trans target)\", \n",
    "                       labels = chr_labs, \n",
    "                       breaks = ticks,\n",
    "                       limits = c(14404, 2875361182)) +\n",
    "    theme_classic() +\n",
    "    theme(axis.text = element_text(size = 10),\n",
    "          axis.title = element_text(size = 16),\n",
    "          axis.text.x = element_text(angle = 45, vjust = 0.5)) +\n",
    "    geom_hline(yintercept = boundaries, linetype = \"dashed\", color = \"grey\", size = .3) +\n",
    "    geom_vline(xintercept = boundaries, linetype = \"dashed\", color = \"grey\", size = .3) +\n",
    "    geom_abline(slope = 1, intercept = 0, linetype = \"dashed\", color = \"grey\", size = .3)\n",
    "p"
   ]
  },
  {
   "cell_type": "code",
   "execution_count": 9,
   "metadata": {
    "collapsed": true,
    "deletable": true,
    "editable": true
   },
   "outputs": [],
   "source": [
    "ggsave(\"figures/trans.png\", p, width = 6, height = 6)"
   ]
  }
 ],
 "metadata": {
  "kernelspec": {
   "display_name": "R 3.6.1",
   "language": "R",
   "name": "ir361"
  },
  "language_info": {
   "codemirror_mode": "r",
   "file_extension": ".r",
   "mimetype": "text/x-r-source",
   "name": "R",
   "pygments_lexer": "r",
   "version": "3.6.1"
  }
 },
 "nbformat": 4,
 "nbformat_minor": 2
}
