{
 "cells": [
  {
   "cell_type": "markdown",
   "id": "8f1d50dc",
   "metadata": {},
   "source": [
    "# enrichment of tri1/2-only eGene biotype\n",
    "remake plot by Michael M"
   ]
  },
  {
   "cell_type": "code",
   "execution_count": 36,
   "id": "cacd548d",
   "metadata": {},
   "outputs": [],
   "source": [
    "# install.packages(\"devtools\")\n",
    "# devtools::install_github(\"ebbertd/chisq.posthoc.test\")"
   ]
  },
  {
   "cell_type": "code",
   "execution_count": 1,
   "id": "8085fe93",
   "metadata": {},
   "outputs": [],
   "source": [
    "# install.packages('corrplot')"
   ]
  },
  {
   "cell_type": "code",
   "execution_count": 23,
   "id": "e4256e50",
   "metadata": {},
   "outputs": [
    {
     "data": {
      "text/plain": [
       "R version 4.1.0 (2021-05-18)\n",
       "Platform: x86_64-pc-linux-gnu (64-bit)\n",
       "Running under: CentOS Linux 7 (Core)\n",
       "\n",
       "Matrix products: default\n",
       "BLAS/LAPACK: /u/local/compilers/intel/2020.4/compilers_and_libraries_2020.4.304/linux/mkl/lib/intel64_lin/libmkl_gf_lp64.so\n",
       "\n",
       "locale:\n",
       " [1] LC_CTYPE=en_US.UTF-8       LC_NUMERIC=C              \n",
       " [3] LC_TIME=en_US.UTF-8        LC_COLLATE=en_US.UTF-8    \n",
       " [5] LC_MONETARY=en_US.UTF-8    LC_MESSAGES=en_US.UTF-8   \n",
       " [7] LC_PAPER=en_US.UTF-8       LC_NAME=C                 \n",
       " [9] LC_ADDRESS=C               LC_TELEPHONE=C            \n",
       "[11] LC_MEASUREMENT=en_US.UTF-8 LC_IDENTIFICATION=C       \n",
       "\n",
       "attached base packages:\n",
       "[1] stats     graphics  grDevices utils     datasets  methods   base     \n",
       "\n",
       "other attached packages:\n",
       " [1] corrplot_0.92            chisq.posthoc.test_0.1.3 forcats_1.0.0           \n",
       " [4] stringr_1.5.0            dplyr_1.0.6              purrr_1.0.1             \n",
       " [7] readr_2.1.4              tidyr_1.1.3              tibble_3.2.1            \n",
       "[10] ggplot2_3.4.1            tidyverse_1.3.1          data.table_1.14.8       \n",
       "\n",
       "loaded via a namespace (and not attached):\n",
       " [1] pbdZMQ_0.3-5        tidyselect_1.2.0    repr_1.1.3         \n",
       " [4] haven_2.4.1         colorspace_2.1-0    vctrs_0.5.2        \n",
       " [7] generics_0.1.3      htmltools_0.5.5     base64enc_0.1-3    \n",
       "[10] utf8_1.2.3          rlang_1.0.6         pillar_1.9.0       \n",
       "[13] withr_2.5.0         glue_1.6.2          DBI_1.1.3          \n",
       "[16] dbplyr_2.1.1        modelr_0.1.8        readxl_1.3.1       \n",
       "[19] uuid_0.1-4          lifecycle_1.0.3     munsell_0.5.0      \n",
       "[22] gtable_0.3.1        cellranger_1.1.0    rvest_1.0.0        \n",
       "[25] evaluate_0.20       tzdb_0.3.0          fastmap_1.1.1      \n",
       "[28] Cairo_1.5-12.2      fansi_1.0.4         broom_0.7.6        \n",
       "[31] IRdisplay_1.0       Rcpp_1.0.10         backports_1.4.1    \n",
       "[34] scales_1.2.1        IRkernel_1.2.0.9000 jsonlite_1.8.4     \n",
       "[37] fs_1.6.2            hms_1.1.3           digest_0.6.31      \n",
       "[40] stringi_1.7.12      grid_4.1.0          cli_3.6.1          \n",
       "[43] tools_4.1.0         magrittr_2.0.3      crayon_1.5.2       \n",
       "[46] pkgconfig_2.0.3     xml2_1.3.4          reprex_2.0.0       \n",
       "[49] lubridate_1.9.2     timechange_0.2.0    rstudioapi_0.14    \n",
       "[52] assertthat_0.2.1    httr_1.4.5          R6_2.5.1           \n",
       "[55] compiler_4.1.0     "
      ]
     },
     "metadata": {},
     "output_type": "display_data"
    }
   ],
   "source": [
    "library(data.table)\n",
    "library(tidyverse)\n",
    "library(chisq.posthoc.test)\n",
    "library(corrplot)\n",
    "sessionInfo()"
   ]
  },
  {
   "cell_type": "code",
   "execution_count": 24,
   "id": "1ecebcc4",
   "metadata": {},
   "outputs": [],
   "source": [
    "tr1_eGenes <- read.table(\"../results/eur_trimester/sig_pheno_trimester1.txt\", header = T)\n",
    "tr2_eGenes <- read.table(\"../results/eur_trimester/sig_pheno_trimester2.txt\", header = T)"
   ]
  },
  {
   "cell_type": "code",
   "execution_count": 25,
   "id": "858e0a01",
   "metadata": {},
   "outputs": [
    {
     "data": {
      "text/html": [
       "4211"
      ],
      "text/latex": [
       "4211"
      ],
      "text/markdown": [
       "4211"
      ],
      "text/plain": [
       "[1] 4211"
      ]
     },
     "metadata": {},
     "output_type": "display_data"
    },
    {
     "data": {
      "text/html": [
       "2220"
      ],
      "text/latex": [
       "2220"
      ],
      "text/markdown": [
       "2220"
      ],
      "text/plain": [
       "[1] 2220"
      ]
     },
     "metadata": {},
     "output_type": "display_data"
    }
   ],
   "source": [
    "length(unique(tr1_eGenes$pid))\n",
    "length(unique(tr2_eGenes$pid))"
   ]
  },
  {
   "cell_type": "code",
   "execution_count": 26,
   "id": "93b1e36c",
   "metadata": {},
   "outputs": [],
   "source": [
    "tr1_eGenes <- unique(tr1_eGenes$pid)\n",
    "tr2_eGenes <- unique(tr2_eGenes$pid)"
   ]
  },
  {
   "cell_type": "code",
   "execution_count": 27,
   "id": "55868def",
   "metadata": {},
   "outputs": [
    {
     "data": {
      "text/html": [
       "2950"
      ],
      "text/latex": [
       "2950"
      ],
      "text/markdown": [
       "2950"
      ],
      "text/plain": [
       "[1] 2950"
      ]
     },
     "metadata": {},
     "output_type": "display_data"
    },
    {
     "data": {
      "text/html": [
       "959"
      ],
      "text/latex": [
       "959"
      ],
      "text/markdown": [
       "959"
      ],
      "text/plain": [
       "[1] 959"
      ]
     },
     "metadata": {},
     "output_type": "display_data"
    },
    {
     "data": {
      "text/html": [
       "5170"
      ],
      "text/latex": [
       "5170"
      ],
      "text/markdown": [
       "5170"
      ],
      "text/plain": [
       "[1] 5170"
      ]
     },
     "metadata": {},
     "output_type": "display_data"
    }
   ],
   "source": [
    "# Filter to trimester-specific eGenes\n",
    "tri1_only_eGenes <- tr1_eGenes[!tr1_eGenes %in% tr2_eGenes]\n",
    "length(tri1_only_eGenes)\n",
    "\n",
    "tri2_only_eGenes <- tr2_eGenes[!tr2_eGenes %in% tr1_eGenes]\n",
    "length(tri2_only_eGenes)\n",
    "\n",
    "tri12_eGene_bg <- unique(c(tr1_eGenes, tr2_eGenes))#, fetal_all_eGenes))\n",
    "length(tri12_eGene_bg)"
   ]
  },
  {
   "cell_type": "code",
   "execution_count": 28,
   "id": "1c056c99",
   "metadata": {},
   "outputs": [],
   "source": [
    "tr1_sGenes <- fread(\"../../sqtl_new/results/tri1_perm_15hcp/sig_pheno_gene.txt\", data.table = F)\n",
    "tr2_sGenes <- fread(\"../../sqtl_new/results/tri2_perm_10hcp/sig_pheno_gene.txt\", data.table = F)"
   ]
  },
  {
   "cell_type": "code",
   "execution_count": 29,
   "id": "876ae675",
   "metadata": {},
   "outputs": [
    {
     "data": {
      "text/html": [
       "5313"
      ],
      "text/latex": [
       "5313"
      ],
      "text/markdown": [
       "5313"
      ],
      "text/plain": [
       "[1] 5313"
      ]
     },
     "metadata": {},
     "output_type": "display_data"
    },
    {
     "data": {
      "text/html": [
       "2319"
      ],
      "text/latex": [
       "2319"
      ],
      "text/markdown": [
       "2319"
      ],
      "text/plain": [
       "[1] 2319"
      ]
     },
     "metadata": {},
     "output_type": "display_data"
    }
   ],
   "source": [
    "tr1_sGenes <- unique(tr1_sGenes$ensg)\n",
    "tr2_sGenes <- unique(tr2_sGenes$ensg)\n",
    "length(tr1_sGenes)\n",
    "length(tr2_sGenes)"
   ]
  },
  {
   "cell_type": "code",
   "execution_count": 30,
   "id": "b383580b",
   "metadata": {},
   "outputs": [
    {
     "data": {
      "text/html": [
       "3550"
      ],
      "text/latex": [
       "3550"
      ],
      "text/markdown": [
       "3550"
      ],
      "text/plain": [
       "[1] 3550"
      ]
     },
     "metadata": {},
     "output_type": "display_data"
    },
    {
     "data": {
      "text/html": [
       "556"
      ],
      "text/latex": [
       "556"
      ],
      "text/markdown": [
       "556"
      ],
      "text/plain": [
       "[1] 556"
      ]
     },
     "metadata": {},
     "output_type": "display_data"
    },
    {
     "data": {
      "text/html": [
       "5869"
      ],
      "text/latex": [
       "5869"
      ],
      "text/markdown": [
       "5869"
      ],
      "text/plain": [
       "[1] 5869"
      ]
     },
     "metadata": {},
     "output_type": "display_data"
    }
   ],
   "source": [
    "tri1_only_sGenes <- tr1_sGenes[!tr1_sGenes %in% tr2_sGenes]\n",
    "length(tri1_only_sGenes)\n",
    "\n",
    "tri2_only_sGenes <- tr2_sGenes[!tr2_sGenes %in% tr1_sGenes]\n",
    "length(tri2_only_sGenes)\n",
    "\n",
    "tri12_sGene_bg <- unique(c(tr1_sGenes, tr2_sGenes))#, fetal_all_sGenes))\n",
    "length(tri12_sGene_bg)"
   ]
  },
  {
   "cell_type": "code",
   "execution_count": 31,
   "id": "04413bd3",
   "metadata": {},
   "outputs": [],
   "source": [
    "gencode_annot <- fread(\"~/project-gandalm/isoform_twas/salmon/gencode.v33lift37.annotation.gene.info.tsv\", data.table = F)"
   ]
  },
  {
   "cell_type": "code",
   "execution_count": 32,
   "id": "a317b6b0",
   "metadata": {},
   "outputs": [
    {
     "data": {
      "text/html": [
       "<table class=\"dataframe\">\n",
       "<caption>A data.frame: 10 x 2</caption>\n",
       "<thead>\n",
       "\t<tr><th></th><th scope=col>TR1_eGenes</th><th scope=col>TR2_eGenes</th></tr>\n",
       "\t<tr><th></th><th scope=col>&lt;int&gt;</th><th scope=col>&lt;int&gt;</th></tr>\n",
       "</thead>\n",
       "<tbody>\n",
       "\t<tr><th scope=row>lncRNA</th><td> 808</td><td>246</td></tr>\n",
       "\t<tr><th scope=row>miRNA</th><td> 134</td><td> 15</td></tr>\n",
       "\t<tr><th scope=row>misc_RNA</th><td>  79</td><td> 15</td></tr>\n",
       "\t<tr><th scope=row>processed_pseudogene</th><td>  99</td><td> 37</td></tr>\n",
       "\t<tr><th scope=row>protein_coding</th><td>1508</td><td>574</td></tr>\n",
       "\t<tr><th scope=row>snoRNA</th><td>  47</td><td>  8</td></tr>\n",
       "\t<tr><th scope=row>TEC</th><td>  56</td><td> 17</td></tr>\n",
       "\t<tr><th scope=row>transcribed_processed_pseudogene</th><td>  28</td><td>  7</td></tr>\n",
       "\t<tr><th scope=row>transcribed_unprocessed_pseudogene</th><td>  75</td><td> 19</td></tr>\n",
       "\t<tr><th scope=row>unprocessed_pseudogene</th><td>  39</td><td>  9</td></tr>\n",
       "</tbody>\n",
       "</table>\n"
      ],
      "text/latex": [
       "A data.frame: 10 x 2\n",
       "\\begin{tabular}{r|ll}\n",
       "  & TR1\\_eGenes & TR2\\_eGenes\\\\\n",
       "  & <int> & <int>\\\\\n",
       "\\hline\n",
       "\tlncRNA &  808 & 246\\\\\n",
       "\tmiRNA &  134 &  15\\\\\n",
       "\tmisc\\_RNA &   79 &  15\\\\\n",
       "\tprocessed\\_pseudogene &   99 &  37\\\\\n",
       "\tprotein\\_coding & 1508 & 574\\\\\n",
       "\tsnoRNA &   47 &   8\\\\\n",
       "\tTEC &   56 &  17\\\\\n",
       "\ttranscribed\\_processed\\_pseudogene &   28 &   7\\\\\n",
       "\ttranscribed\\_unprocessed\\_pseudogene &   75 &  19\\\\\n",
       "\tunprocessed\\_pseudogene &   39 &   9\\\\\n",
       "\\end{tabular}\n"
      ],
      "text/markdown": [
       "\n",
       "A data.frame: 10 x 2\n",
       "\n",
       "| <!--/--> | TR1_eGenes &lt;int&gt; | TR2_eGenes &lt;int&gt; |\n",
       "|---|---|---|\n",
       "| lncRNA |  808 | 246 |\n",
       "| miRNA |  134 |  15 |\n",
       "| misc_RNA |   79 |  15 |\n",
       "| processed_pseudogene |   99 |  37 |\n",
       "| protein_coding | 1508 | 574 |\n",
       "| snoRNA |   47 |   8 |\n",
       "| TEC |   56 |  17 |\n",
       "| transcribed_processed_pseudogene |   28 |   7 |\n",
       "| transcribed_unprocessed_pseudogene |   75 |  19 |\n",
       "| unprocessed_pseudogene |   39 |   9 |\n",
       "\n"
      ],
      "text/plain": [
       "                                   TR1_eGenes TR2_eGenes\n",
       "lncRNA                              808       246       \n",
       "miRNA                               134        15       \n",
       "misc_RNA                             79        15       \n",
       "processed_pseudogene                 99        37       \n",
       "protein_coding                     1508       574       \n",
       "snoRNA                               47         8       \n",
       "TEC                                  56        17       \n",
       "transcribed_processed_pseudogene     28         7       \n",
       "transcribed_unprocessed_pseudogene   75        19       \n",
       "unprocessed_pseudogene               39         9       "
      ]
     },
     "metadata": {},
     "output_type": "display_data"
    }
   ],
   "source": [
    "tr1_only_eGenes_biotypes <- gencode_annot %>% filter(ensg %in% tri1_only_eGenes)\n",
    "tr2_only_eGenes_biotypes <- gencode_annot %>% filter(ensg %in% tri2_only_eGenes)\n",
    "\n",
    "eGenes_biotype_df <- inner_join(tr1_only_eGenes_biotypes %>% count(V11) %>% rename(\"biotype\" = \"V11\", \"TR1_eGenes\" = \"n\"),\n",
    "                                tr2_only_eGenes_biotypes %>% count(V11) %>% rename(\"biotype\" = \"V11\", \"TR2_eGenes\" = \"n\"), \n",
    "                                by = \"biotype\") %>%\n",
    "                          column_to_rownames(\"biotype\") %>%\n",
    "                          filter(TR1_eGenes > 5 & TR2_eGenes > 5)\n",
    "\n",
    "eGenes_biotype_df"
   ]
  },
  {
   "cell_type": "code",
   "execution_count": 38,
   "id": "606c2757",
   "metadata": {},
   "outputs": [
    {
     "data": {
      "text/html": [
       "2873"
      ],
      "text/latex": [
       "2873"
      ],
      "text/markdown": [
       "2873"
      ],
      "text/plain": [
       "[1] 2873"
      ]
     },
     "metadata": {},
     "output_type": "display_data"
    }
   ],
   "source": [
    "sum(eGenes_biotype_df$TR1_eGenes)"
   ]
  },
  {
   "cell_type": "code",
   "execution_count": 41,
   "id": "494d1712",
   "metadata": {},
   "outputs": [
    {
     "data": {
      "text/html": [
       "0.524886877828054"
      ],
      "text/latex": [
       "0.524886877828054"
      ],
      "text/markdown": [
       "0.524886877828054"
      ],
      "text/plain": [
       "[1] 0.5248869"
      ]
     },
     "metadata": {},
     "output_type": "display_data"
    }
   ],
   "source": [
    "1508/2873"
   ]
  },
  {
   "cell_type": "code",
   "execution_count": 36,
   "id": "ddde15f4",
   "metadata": {},
   "outputs": [
    {
     "data": {
      "text/plain": [
       "\n",
       "\tPearson's Chi-squared test\n",
       "\n",
       "data:  eGenes_biotype_df\n",
       "X-squared = 37.109, df = 9, p-value = 2.517e-05\n"
      ]
     },
     "metadata": {},
     "output_type": "display_data"
    },
    {
     "data": {
      "text/html": [
       "<table class=\"dataframe\">\n",
       "<caption>A data.frame: 10 x 2</caption>\n",
       "<thead>\n",
       "\t<tr><th></th><th scope=col>TR1_eGenes</th><th scope=col>TR2_eGenes</th></tr>\n",
       "\t<tr><th></th><th scope=col>&lt;chr&gt;</th><th scope=col>&lt;chr&gt;</th></tr>\n",
       "</thead>\n",
       "<tbody>\n",
       "\t<tr><th scope=row>lncRNA</th><td>1     </td><td>1     </td></tr>\n",
       "\t<tr><th scope=row>miRNA</th><td>4e-04*</td><td>4e-04*</td></tr>\n",
       "\t<tr><th scope=row>misc_RNA</th><td>0.8924</td><td>0.8924</td></tr>\n",
       "\t<tr><th scope=row>processed_pseudogene</th><td>1     </td><td>1     </td></tr>\n",
       "\t<tr><th scope=row>protein_coding</th><td>3e-04*</td><td>3e-04*</td></tr>\n",
       "\t<tr><th scope=row>snoRNA</th><td>1     </td><td>1     </td></tr>\n",
       "\t<tr><th scope=row>TEC</th><td>1     </td><td>1     </td></tr>\n",
       "\t<tr><th scope=row>transcribed_processed_pseudogene</th><td>1     </td><td>1     </td></tr>\n",
       "\t<tr><th scope=row>transcribed_unprocessed_pseudogene</th><td>1     </td><td>1     </td></tr>\n",
       "\t<tr><th scope=row>unprocessed_pseudogene</th><td>1     </td><td>1     </td></tr>\n",
       "</tbody>\n",
       "</table>\n"
      ],
      "text/latex": [
       "A data.frame: 10 x 2\n",
       "\\begin{tabular}{r|ll}\n",
       "  & TR1\\_eGenes & TR2\\_eGenes\\\\\n",
       "  & <chr> & <chr>\\\\\n",
       "\\hline\n",
       "\tlncRNA & 1      & 1     \\\\\n",
       "\tmiRNA & 4e-04* & 4e-04*\\\\\n",
       "\tmisc\\_RNA & 0.8924 & 0.8924\\\\\n",
       "\tprocessed\\_pseudogene & 1      & 1     \\\\\n",
       "\tprotein\\_coding & 3e-04* & 3e-04*\\\\\n",
       "\tsnoRNA & 1      & 1     \\\\\n",
       "\tTEC & 1      & 1     \\\\\n",
       "\ttranscribed\\_processed\\_pseudogene & 1      & 1     \\\\\n",
       "\ttranscribed\\_unprocessed\\_pseudogene & 1      & 1     \\\\\n",
       "\tunprocessed\\_pseudogene & 1      & 1     \\\\\n",
       "\\end{tabular}\n"
      ],
      "text/markdown": [
       "\n",
       "A data.frame: 10 x 2\n",
       "\n",
       "| <!--/--> | TR1_eGenes &lt;chr&gt; | TR2_eGenes &lt;chr&gt; |\n",
       "|---|---|---|\n",
       "| lncRNA | 1      | 1      |\n",
       "| miRNA | 4e-04* | 4e-04* |\n",
       "| misc_RNA | 0.8924 | 0.8924 |\n",
       "| processed_pseudogene | 1      | 1      |\n",
       "| protein_coding | 3e-04* | 3e-04* |\n",
       "| snoRNA | 1      | 1      |\n",
       "| TEC | 1      | 1      |\n",
       "| transcribed_processed_pseudogene | 1      | 1      |\n",
       "| transcribed_unprocessed_pseudogene | 1      | 1      |\n",
       "| unprocessed_pseudogene | 1      | 1      |\n",
       "\n"
      ],
      "text/plain": [
       "                                   TR1_eGenes TR2_eGenes\n",
       "lncRNA                             1          1         \n",
       "miRNA                              4e-04*     4e-04*    \n",
       "misc_RNA                           0.8924     0.8924    \n",
       "processed_pseudogene               1          1         \n",
       "protein_coding                     3e-04*     3e-04*    \n",
       "snoRNA                             1          1         \n",
       "TEC                                1          1         \n",
       "transcribed_processed_pseudogene   1          1         \n",
       "transcribed_unprocessed_pseudogene 1          1         \n",
       "unprocessed_pseudogene             1          1         "
      ]
     },
     "metadata": {},
     "output_type": "display_data"
    }
   ],
   "source": [
    "# Chi-square comparing counts of each biotype across trimesters\n",
    "eGenes_chisq <- chisq.test(eGenes_biotype_df)\n",
    "eGenes_chisq\n",
    "\n",
    "# Post-hoc analysis to identify main drivers of the significant chi-square\n",
    "posthoc <- chisq.posthoc.test(eGenes_biotype_df, method = \"bonferroni\")\n",
    "posthoc_p_df <- posthoc %>% filter(Value == \"p values\") %>% select(c(3,4))\n",
    "rownames(posthoc_p_df) <- (posthoc %>% filter(Value == \"p values\"))$Dimension\n",
    "posthoc_p_df"
   ]
  },
  {
   "cell_type": "code",
   "execution_count": 37,
   "id": "e29ab697",
   "metadata": {},
   "outputs": [
    {
     "data": {
      "text/html": [
       "<table class=\"dataframe\">\n",
       "<caption>A data.frame: 2 x 2</caption>\n",
       "<thead>\n",
       "\t<tr><th></th><th scope=col>TR1_sGenes</th><th scope=col>TR2_sGenes</th></tr>\n",
       "\t<tr><th></th><th scope=col>&lt;int&gt;</th><th scope=col>&lt;int&gt;</th></tr>\n",
       "</thead>\n",
       "<tbody>\n",
       "\t<tr><th scope=row>lncRNA</th><td> 336</td><td> 40</td></tr>\n",
       "\t<tr><th scope=row>protein_coding</th><td>3120</td><td>511</td></tr>\n",
       "</tbody>\n",
       "</table>\n"
      ],
      "text/latex": [
       "A data.frame: 2 x 2\n",
       "\\begin{tabular}{r|ll}\n",
       "  & TR1\\_sGenes & TR2\\_sGenes\\\\\n",
       "  & <int> & <int>\\\\\n",
       "\\hline\n",
       "\tlncRNA &  336 &  40\\\\\n",
       "\tprotein\\_coding & 3120 & 511\\\\\n",
       "\\end{tabular}\n"
      ],
      "text/markdown": [
       "\n",
       "A data.frame: 2 x 2\n",
       "\n",
       "| <!--/--> | TR1_sGenes &lt;int&gt; | TR2_sGenes &lt;int&gt; |\n",
       "|---|---|---|\n",
       "| lncRNA |  336 |  40 |\n",
       "| protein_coding | 3120 | 511 |\n",
       "\n"
      ],
      "text/plain": [
       "               TR1_sGenes TR2_sGenes\n",
       "lncRNA          336        40       \n",
       "protein_coding 3120       511       "
      ]
     },
     "metadata": {},
     "output_type": "display_data"
    },
    {
     "data": {
      "text/plain": [
       "\n",
       "\tPearson's Chi-squared test with Yates' continuity correction\n",
       "\n",
       "data:  sGenes_biotype_df\n",
       "X-squared = 3.1062, df = 1, p-value = 0.078\n"
      ]
     },
     "metadata": {},
     "output_type": "display_data"
    }
   ],
   "source": [
    "tr1_only_sGenes_biotypes <- gencode_annot %>% filter(ensg %in% tri1_only_sGenes)\n",
    "tr2_only_sGenes_biotypes <- gencode_annot %>% filter(ensg %in% tri2_only_sGenes)\n",
    "\n",
    "sGenes_biotype_df <- inner_join(tr1_only_sGenes_biotypes %>% count(V11) %>% rename(\"biotype\" = \"V11\", \"TR1_sGenes\" = \"n\"),\n",
    "                                tr2_only_sGenes_biotypes %>% count(V11) %>% rename(\"biotype\" = \"V11\", \"TR2_sGenes\" = \"n\"), by = \"biotype\") %>%\n",
    "                          column_to_rownames(\"biotype\") %>%\n",
    "                          filter(TR1_sGenes > 5 & TR2_sGenes > 5)\n",
    "\n",
    "sGenes_biotype_df\n",
    "\n",
    "\n",
    "# Chi-square is not significant, so not post-hoc testing\n",
    "sGenes_chisq <- chisq.test(sGenes_biotype_df)\n",
    "sGenes_chisq"
   ]
  },
  {
   "cell_type": "code",
   "execution_count": 14,
   "id": "166e440e",
   "metadata": {},
   "outputs": [],
   "source": [
    "# ?sweep"
   ]
  },
  {
   "cell_type": "markdown",
   "id": "c80a42cb",
   "metadata": {},
   "source": [
    "**plot eGene**"
   ]
  },
  {
   "cell_type": "code",
   "execution_count": 78,
   "id": "d475e50a",
   "metadata": {},
   "outputs": [
    {
     "data": {
      "text/html": [
       "<table class=\"dataframe\">\n",
       "<caption>A data.frame: 10 x 2</caption>\n",
       "<thead>\n",
       "\t<tr><th></th><th scope=col>TR1_eGenes</th><th scope=col>TR2_eGenes</th></tr>\n",
       "\t<tr><th></th><th scope=col>&lt;dbl&gt;</th><th scope=col>&lt;dbl&gt;</th></tr>\n",
       "</thead>\n",
       "<tbody>\n",
       "\t<tr><th scope=row>lncRNA</th><td>0.28123912</td><td>0.259767687</td></tr>\n",
       "\t<tr><th scope=row>miRNA</th><td>0.04664114</td><td>0.015839493</td></tr>\n",
       "\t<tr><th scope=row>misc\n",
       "RNA</th><td>0.02749739</td><td>0.015839493</td></tr>\n",
       "\t<tr><th scope=row>processed\n",
       "pseudogene</th><td>0.03445875</td><td>0.039070750</td></tr>\n",
       "\t<tr><th scope=row>protein\n",
       "coding</th><td>0.52488688</td><td>0.606124604</td></tr>\n",
       "\t<tr><th scope=row>snoRNA</th><td>0.01635921</td><td>0.008447730</td></tr>\n",
       "\t<tr><th scope=row>TEC</th><td>0.01949182</td><td>0.017951426</td></tr>\n",
       "\t<tr><th scope=row>transcribed\n",
       "processed\n",
       "pseudogene</th><td>0.00974591</td><td>0.007391763</td></tr>\n",
       "\t<tr><th scope=row>transcribed\n",
       "unprocessed\n",
       "pseudogene</th><td>0.02610512</td><td>0.020063358</td></tr>\n",
       "\t<tr><th scope=row>unprocessed\n",
       "pseudogene</th><td>0.01357466</td><td>0.009503696</td></tr>\n",
       "</tbody>\n",
       "</table>\n"
      ],
      "text/latex": [
       "A data.frame: 10 x 2\n",
       "\\begin{tabular}{r|ll}\n",
       "  & TR1\\_eGenes & TR2\\_eGenes\\\\\n",
       "  & <dbl> & <dbl>\\\\\n",
       "\\hline\n",
       "\tlncRNA & 0.28123912 & 0.259767687\\\\\n",
       "\tmiRNA & 0.04664114 & 0.015839493\\\\\n",
       "\tmisc\n",
       "RNA & 0.02749739 & 0.015839493\\\\\n",
       "\tprocessed\n",
       "pseudogene & 0.03445875 & 0.039070750\\\\\n",
       "\tprotein\n",
       "coding & 0.52488688 & 0.606124604\\\\\n",
       "\tsnoRNA & 0.01635921 & 0.008447730\\\\\n",
       "\tTEC & 0.01949182 & 0.017951426\\\\\n",
       "\ttranscribed\n",
       "processed\n",
       "pseudogene & 0.00974591 & 0.007391763\\\\\n",
       "\ttranscribed\n",
       "unprocessed\n",
       "pseudogene & 0.02610512 & 0.020063358\\\\\n",
       "\tunprocessed\n",
       "pseudogene & 0.01357466 & 0.009503696\\\\\n",
       "\\end{tabular}\n"
      ],
      "text/markdown": [
       "\n",
       "A data.frame: 10 x 2\n",
       "\n",
       "| <!--/--> | TR1_eGenes &lt;dbl&gt; | TR2_eGenes &lt;dbl&gt; |\n",
       "|---|---|---|\n",
       "| lncRNA | 0.28123912 | 0.259767687 |\n",
       "| miRNA | 0.04664114 | 0.015839493 |\n",
       "| misc\n",
       "RNA | 0.02749739 | 0.015839493 |\n",
       "| processed\n",
       "pseudogene | 0.03445875 | 0.039070750 |\n",
       "| protein\n",
       "coding | 0.52488688 | 0.606124604 |\n",
       "| snoRNA | 0.01635921 | 0.008447730 |\n",
       "| TEC | 0.01949182 | 0.017951426 |\n",
       "| transcribed\n",
       "processed\n",
       "pseudogene | 0.00974591 | 0.007391763 |\n",
       "| transcribed\n",
       "unprocessed\n",
       "pseudogene | 0.02610512 | 0.020063358 |\n",
       "| unprocessed\n",
       "pseudogene | 0.01357466 | 0.009503696 |\n",
       "\n"
      ],
      "text/plain": [
       "                                     TR1_eGenes TR2_eGenes \n",
       "lncRNA                               0.28123912 0.259767687\n",
       "miRNA                                0.04664114 0.015839493\n",
       "misc\\nRNA                            0.02749739 0.015839493\n",
       "processed\\npseudogene                0.03445875 0.039070750\n",
       "protein\\ncoding                      0.52488688 0.606124604\n",
       "snoRNA                               0.01635921 0.008447730\n",
       "TEC                                  0.01949182 0.017951426\n",
       "transcribed\\nprocessed\\npseudogene   0.00974591 0.007391763\n",
       "transcribed\\nunprocessed\\npseudogene 0.02610512 0.020063358\n",
       "unprocessed\\npseudogene              0.01357466 0.009503696"
      ]
     },
     "metadata": {},
     "output_type": "display_data"
    }
   ],
   "source": [
    "eGenes_biotype_plot_df <- sweep(eGenes_biotype_df, 2, colSums(eGenes_biotype_df),`/`)\n",
    "rownames(eGenes_biotype_plot_df) <- gsub(\"_\", \"\\n\", rownames(eGenes_biotype_plot_df))\n",
    "eGenes_biotype_plot_df"
   ]
  },
  {
   "cell_type": "code",
   "execution_count": 79,
   "id": "d7bc118a",
   "metadata": {},
   "outputs": [
    {
     "data": {
      "image/png": "[encoded data removed]",
      "text/plain": [
       "Plot with title “”"
      ]
     },
     "metadata": {
      "image/png": {
       "height": 420,
       "width": 420
      }
     },
     "output_type": "display_data"
    }
   ],
   "source": [
    "p1 <- corrplot::corrplot(as.matrix(eGenes_biotype_plot_df), \n",
    "                         method = 'square', \n",
    "                         is.corr = FALSE,\n",
    "            mar=c(1,1,1,1), family = \"Helvetica\",\n",
    "            cl.ratio = 0.1, cl.pos = 'b', cl.length = 3,\n",
    "            tl.col = 'black', tl.srt = 45,\n",
    "            col = \"#84A98C\", col.lim = c(0, 1))$corrPos %>% as.data.frame()\n",
    "\n",
    "# p1$corr <- c(as.matrix(eGenes_biotype_plot_df))\n",
    "\n",
    "\n",
    "labels <- round(p1$corr, 2)\n",
    "spacer <- 0.3\n",
    "text(p1$x, p1$y-c(0, spacer, spacer, spacer, 0, spacer, spacer, spacer, spacer, spacer), labels, cex = 0.95, font = 2, family = \"Helvetica\")\n",
    "\n",
    "# pdf(height = 8, width = 4, file = \"../figures/enrich.pdf\")\n",
    "# dev.off()"
   ]
  },
  {
   "cell_type": "code",
   "execution_count": 80,
   "id": "54734dcb",
   "metadata": {},
   "outputs": [
    {
     "data": {
      "text/html": [
       "<table class=\"dataframe\">\n",
       "<caption>A data.frame: 5 x 2</caption>\n",
       "<thead>\n",
       "\t<tr><th></th><th scope=col>TR1_eGenes</th><th scope=col>TR2_eGenes</th></tr>\n",
       "\t<tr><th></th><th scope=col>&lt;dbl&gt;</th><th scope=col>&lt;dbl&gt;</th></tr>\n",
       "</thead>\n",
       "<tbody>\n",
       "\t<tr><th scope=row>protein coding</th><td>0.57382040</td><td>0.64712514</td></tr>\n",
       "\t<tr><th scope=row>lncRNA</th><td>0.30745814</td><td>0.27733935</td></tr>\n",
       "\t<tr><th scope=row>miRNA</th><td>0.05098935</td><td>0.01691094</td></tr>\n",
       "\t<tr><th scope=row>processed pseudogene</th><td>0.03767123</td><td>0.04171364</td></tr>\n",
       "\t<tr><th scope=row>misc RNA</th><td>0.03006088</td><td>0.01691094</td></tr>\n",
       "</tbody>\n",
       "</table>\n"
      ],
      "text/latex": [
       "A data.frame: 5 x 2\n",
       "\\begin{tabular}{r|ll}\n",
       "  & TR1\\_eGenes & TR2\\_eGenes\\\\\n",
       "  & <dbl> & <dbl>\\\\\n",
       "\\hline\n",
       "\tprotein coding & 0.57382040 & 0.64712514\\\\\n",
       "\tlncRNA & 0.30745814 & 0.27733935\\\\\n",
       "\tmiRNA & 0.05098935 & 0.01691094\\\\\n",
       "\tprocessed pseudogene & 0.03767123 & 0.04171364\\\\\n",
       "\tmisc RNA & 0.03006088 & 0.01691094\\\\\n",
       "\\end{tabular}\n"
      ],
      "text/markdown": [
       "\n",
       "A data.frame: 5 x 2\n",
       "\n",
       "| <!--/--> | TR1_eGenes &lt;dbl&gt; | TR2_eGenes &lt;dbl&gt; |\n",
       "|---|---|---|\n",
       "| protein coding | 0.57382040 | 0.64712514 |\n",
       "| lncRNA | 0.30745814 | 0.27733935 |\n",
       "| miRNA | 0.05098935 | 0.01691094 |\n",
       "| processed pseudogene | 0.03767123 | 0.04171364 |\n",
       "| misc RNA | 0.03006088 | 0.01691094 |\n",
       "\n"
      ],
      "text/plain": [
       "                     TR1_eGenes TR2_eGenes\n",
       "protein coding       0.57382040 0.64712514\n",
       "lncRNA               0.30745814 0.27733935\n",
       "miRNA                0.05098935 0.01691094\n",
       "processed pseudogene 0.03767123 0.04171364\n",
       "misc RNA             0.03006088 0.01691094"
      ]
     },
     "metadata": {},
     "output_type": "display_data"
    }
   ],
   "source": [
    "trim <- eGenes_biotype_df %>% arrange(desc(TR1_eGenes), desc(TR2_eGenes))\n",
    "trim <- trim[1:5,]\n",
    "eGenes_biotype_plot_df <- sweep(trim, 2, colSums(trim),`/`)\n",
    "rownames(eGenes_biotype_plot_df) <- gsub(\"_\", \" \", rownames(eGenes_biotype_plot_df))\n",
    "eGenes_biotype_plot_df"
   ]
  },
  {
   "cell_type": "code",
   "execution_count": 81,
   "id": "6020d1ef",
   "metadata": {},
   "outputs": [
    {
     "data": {
      "text/html": [
       "<strong>png:</strong> 2"
      ],
      "text/latex": [
       "\\textbf{png:} 2"
      ],
      "text/markdown": [
       "**png:** 2"
      ],
      "text/plain": [
       "png \n",
       "  2 "
      ]
     },
     "metadata": {},
     "output_type": "display_data"
    }
   ],
   "source": [
    "pdf(height = 6, width = 4, file = \"../figures/enrich_egene.pdf\")\n",
    "\n",
    "p1 <- corrplot::corrplot(as.matrix(eGenes_biotype_plot_df), \n",
    "                         method = 'square', \n",
    "                         is.corr = FALSE,\n",
    "            mar=c(1,1,1,1), family = \"Helvetica\",\n",
    "            cl.ratio = 0.1, cl.pos = 'b', cl.length = 3,\n",
    "            tl.col = 'black', tl.srt = 45,\n",
    "            col = \"#d4bcd3\", col.lim = c(0, 1))$corrPos %>% as.data.frame()\n",
    "\n",
    "# p1$corr <- c(as.matrix(eGenes_biotype_plot_df))\n",
    "\n",
    "\n",
    "labels <- round(p1$corr, 2)\n",
    "spacer <- 0.3\n",
    "text(p1$x, p1$y-c(0, 0, spacer, spacer, spacer), \n",
    "     labels, cex = 1, font = 2, family = \"Helvetica\")\n",
    "\n",
    "dev.off()"
   ]
  },
  {
   "cell_type": "code",
   "execution_count": 82,
   "id": "1602f139",
   "metadata": {},
   "outputs": [
    {
     "data": {
      "image/png": "[encoded data removed]",
      "text/plain": [
       "Plot with title “”"
      ]
     },
     "metadata": {
      "image/png": {
       "height": 420,
       "width": 420
      }
     },
     "output_type": "display_data"
    }
   ],
   "source": [
    "p1 <- corrplot::corrplot(as.matrix(eGenes_biotype_plot_df), \n",
    "                         method = 'square', \n",
    "                         is.corr = FALSE,\n",
    "            mar=c(1,1,1,1), family = \"Helvetica\",\n",
    "            cl.ratio = 0.1, cl.pos = 'b', cl.length = 3,\n",
    "            tl.col = 'black', tl.srt = 45,\n",
    "            col = \"#d4bcd3\", col.lim = c(0, 1))$corrPos %>% as.data.frame()\n",
    "\n",
    "# p1$corr <- c(as.matrix(eGenes_biotype_plot_df))\n",
    "\n",
    "\n",
    "labels <- round(p1$corr, 2)\n",
    "spacer <- 0.3\n",
    "text(p1$x, p1$y-c(0, 0, spacer, spacer, spacer), \n",
    "     labels, cex = 1, font = 2, family = \"Helvetica\")"
   ]
  },
  {
   "cell_type": "markdown",
   "id": "e984302c",
   "metadata": {},
   "source": [
    "**plot sGene**"
   ]
  },
  {
   "cell_type": "code",
   "execution_count": 83,
   "id": "e58a0f0d",
   "metadata": {},
   "outputs": [],
   "source": [
    "sGenes_biotype_plot_df <- merge(eGenes_biotype_df %>% as.data.frame %>% rownames_to_column(\"biotype\"),\n",
    "                                sGenes_biotype_df %>% as.data.frame %>% rownames_to_column(\"biotype\"), all = T)\n",
    "# sGenes_biotype_plot_df"
   ]
  },
  {
   "cell_type": "code",
   "execution_count": 84,
   "id": "3d4dc92c",
   "metadata": {},
   "outputs": [
    {
     "data": {
      "text/html": [
       "<table class=\"dataframe\">\n",
       "<caption>A data.frame: 5 x 5</caption>\n",
       "<thead>\n",
       "\t<tr><th></th><th scope=col>biotype</th><th scope=col>TR1_eGenes</th><th scope=col>TR2_eGenes</th><th scope=col>TR1_sGenes</th><th scope=col>TR2_sGenes</th></tr>\n",
       "\t<tr><th></th><th scope=col>&lt;chr&gt;</th><th scope=col>&lt;int&gt;</th><th scope=col>&lt;int&gt;</th><th scope=col>&lt;int&gt;</th><th scope=col>&lt;int&gt;</th></tr>\n",
       "</thead>\n",
       "<tbody>\n",
       "\t<tr><th scope=row>1</th><td>protein_coding      </td><td>1508</td><td>574</td><td>3120</td><td>511</td></tr>\n",
       "\t<tr><th scope=row>2</th><td>lncRNA              </td><td> 808</td><td>246</td><td> 336</td><td> 40</td></tr>\n",
       "\t<tr><th scope=row>3</th><td>miRNA               </td><td> 134</td><td> 15</td><td>  NA</td><td> NA</td></tr>\n",
       "\t<tr><th scope=row>4</th><td>processed_pseudogene</td><td>  99</td><td> 37</td><td>  NA</td><td> NA</td></tr>\n",
       "\t<tr><th scope=row>5</th><td>misc_RNA            </td><td>  79</td><td> 15</td><td>  NA</td><td> NA</td></tr>\n",
       "</tbody>\n",
       "</table>\n"
      ],
      "text/latex": [
       "A data.frame: 5 x 5\n",
       "\\begin{tabular}{r|lllll}\n",
       "  & biotype & TR1\\_eGenes & TR2\\_eGenes & TR1\\_sGenes & TR2\\_sGenes\\\\\n",
       "  & <chr> & <int> & <int> & <int> & <int>\\\\\n",
       "\\hline\n",
       "\t1 & protein\\_coding       & 1508 & 574 & 3120 & 511\\\\\n",
       "\t2 & lncRNA               &  808 & 246 &  336 &  40\\\\\n",
       "\t3 & miRNA                &  134 &  15 &   NA &  NA\\\\\n",
       "\t4 & processed\\_pseudogene &   99 &  37 &   NA &  NA\\\\\n",
       "\t5 & misc\\_RNA             &   79 &  15 &   NA &  NA\\\\\n",
       "\\end{tabular}\n"
      ],
      "text/markdown": [
       "\n",
       "A data.frame: 5 x 5\n",
       "\n",
       "| <!--/--> | biotype &lt;chr&gt; | TR1_eGenes &lt;int&gt; | TR2_eGenes &lt;int&gt; | TR1_sGenes &lt;int&gt; | TR2_sGenes &lt;int&gt; |\n",
       "|---|---|---|---|---|---|\n",
       "| 1 | protein_coding       | 1508 | 574 | 3120 | 511 |\n",
       "| 2 | lncRNA               |  808 | 246 |  336 |  40 |\n",
       "| 3 | miRNA                |  134 |  15 |   NA |  NA |\n",
       "| 4 | processed_pseudogene |   99 |  37 |   NA |  NA |\n",
       "| 5 | misc_RNA             |   79 |  15 |   NA |  NA |\n",
       "\n"
      ],
      "text/plain": [
       "  biotype              TR1_eGenes TR2_eGenes TR1_sGenes TR2_sGenes\n",
       "1 protein_coding       1508       574        3120       511       \n",
       "2 lncRNA                808       246         336        40       \n",
       "3 miRNA                 134        15          NA        NA       \n",
       "4 processed_pseudogene   99        37          NA        NA       \n",
       "5 misc_RNA               79        15          NA        NA       "
      ]
     },
     "metadata": {},
     "output_type": "display_data"
    }
   ],
   "source": [
    "trim <- sGenes_biotype_plot_df %>% arrange(desc(TR1_eGenes), desc(TR2_eGenes))\n",
    "trim <- trim[1:5,]\n",
    "trim"
   ]
  },
  {
   "cell_type": "code",
   "execution_count": 85,
   "id": "9db6a39a",
   "metadata": {},
   "outputs": [
    {
     "data": {
      "text/html": [
       "<table class=\"dataframe\">\n",
       "<caption>A data.frame: 5 x 2</caption>\n",
       "<thead>\n",
       "\t<tr><th></th><th scope=col>TR1_sGenes</th><th scope=col>TR2_sGenes</th></tr>\n",
       "\t<tr><th></th><th scope=col>&lt;dbl&gt;</th><th scope=col>&lt;dbl&gt;</th></tr>\n",
       "</thead>\n",
       "<tbody>\n",
       "\t<tr><th scope=row>protein coding</th><td>0.90277778</td><td>0.92740472</td></tr>\n",
       "\t<tr><th scope=row>lncRNA</th><td>0.09722222</td><td>0.07259528</td></tr>\n",
       "\t<tr><th scope=row>miRNA</th><td>0.00000000</td><td>0.00000000</td></tr>\n",
       "\t<tr><th scope=row>processed pseudogene</th><td>0.00000000</td><td>0.00000000</td></tr>\n",
       "\t<tr><th scope=row>misc RNA</th><td>0.00000000</td><td>0.00000000</td></tr>\n",
       "</tbody>\n",
       "</table>\n"
      ],
      "text/latex": [
       "A data.frame: 5 x 2\n",
       "\\begin{tabular}{r|ll}\n",
       "  & TR1\\_sGenes & TR2\\_sGenes\\\\\n",
       "  & <dbl> & <dbl>\\\\\n",
       "\\hline\n",
       "\tprotein coding & 0.90277778 & 0.92740472\\\\\n",
       "\tlncRNA & 0.09722222 & 0.07259528\\\\\n",
       "\tmiRNA & 0.00000000 & 0.00000000\\\\\n",
       "\tprocessed pseudogene & 0.00000000 & 0.00000000\\\\\n",
       "\tmisc RNA & 0.00000000 & 0.00000000\\\\\n",
       "\\end{tabular}\n"
      ],
      "text/markdown": [
       "\n",
       "A data.frame: 5 x 2\n",
       "\n",
       "| <!--/--> | TR1_sGenes &lt;dbl&gt; | TR2_sGenes &lt;dbl&gt; |\n",
       "|---|---|---|\n",
       "| protein coding | 0.90277778 | 0.92740472 |\n",
       "| lncRNA | 0.09722222 | 0.07259528 |\n",
       "| miRNA | 0.00000000 | 0.00000000 |\n",
       "| processed pseudogene | 0.00000000 | 0.00000000 |\n",
       "| misc RNA | 0.00000000 | 0.00000000 |\n",
       "\n"
      ],
      "text/plain": [
       "                     TR1_sGenes TR2_sGenes\n",
       "protein coding       0.90277778 0.92740472\n",
       "lncRNA               0.09722222 0.07259528\n",
       "miRNA                0.00000000 0.00000000\n",
       "processed pseudogene 0.00000000 0.00000000\n",
       "misc RNA             0.00000000 0.00000000"
      ]
     },
     "metadata": {},
     "output_type": "display_data"
    }
   ],
   "source": [
    "trim[is.na(trim)] <- 0\n",
    "trim <- trim %>% column_to_rownames(\"biotype\") %>% select(contains(\"sGene\"))\n",
    "trim <- sweep(trim, 2, colSums(trim),`/`)\n",
    "rownames(trim) <- gsub(\"_\", \" \", rownames(trim))\n",
    "trim"
   ]
  },
  {
   "cell_type": "code",
   "execution_count": 86,
   "id": "b2a81006",
   "metadata": {},
   "outputs": [
    {
     "data": {
      "text/html": [
       "<strong>png:</strong> 2"
      ],
      "text/latex": [
       "\\textbf{png:} 2"
      ],
      "text/markdown": [
       "**png:** 2"
      ],
      "text/plain": [
       "png \n",
       "  2 "
      ]
     },
     "metadata": {},
     "output_type": "display_data"
    }
   ],
   "source": [
    "pdf(height = 6, width = 4, file = \"../figures/enrich_sgene.pdf\")\n",
    "\n",
    "p2 <- corrplot::corrplot(as.matrix(trim), \n",
    "                         method = 'square', \n",
    "                         is.corr = FALSE,\n",
    "            mar=c(1,1,1,1), family = \"Helvetica\",\n",
    "            cl.ratio = 0.1, cl.pos = 'b', cl.length = 3,\n",
    "            tl.col = 'black', tl.srt = 45,\n",
    "            col = \"#d4bcd3\", col.lim = c(0, 1))$corrPos %>% as.data.frame()\n",
    "labels <- round(p2$corr, 2)\n",
    "labels[labels < 0.05] <- ''\n",
    "spacer <- 0.3\n",
    "text(p1$x, p1$y-c(0, spacer, spacer, spacer, spacer), \n",
    "     labels, cex = 1, font = 2, family = \"Helvetica\")\n",
    "\n",
    "\n",
    "dev.off()"
   ]
  },
  {
   "cell_type": "code",
   "execution_count": 88,
   "id": "08722caa",
   "metadata": {},
   "outputs": [
    {
     "data": {
      "image/png": "[encoded data removed]",
      "text/plain": [
       "Plot with title “”"
      ]
     },
     "metadata": {
      "image/png": {
       "height": 420,
       "width": 420
      }
     },
     "output_type": "display_data"
    }
   ],
   "source": [
    "p2 <- corrplot::corrplot(as.matrix(trim), \n",
    "                         method = 'square', \n",
    "                         is.corr = FALSE,\n",
    "            mar=c(1,1,1,1), family = \"Helvetica\",\n",
    "            cl.ratio = 0.1, cl.pos = 'b', cl.length = 3,\n",
    "            tl.col = 'black', tl.srt = 45,\n",
    "            col = \"#d4bcd3\", col.lim = c(0, 1))$corrPos %>% as.data.frame()\n",
    "labels <- round(p2$corr, 2)\n",
    "labels[labels < 0.05] <- ''\n",
    "spacer <- 0.3\n",
    "text(p1$x, p1$y-c(0, spacer, spacer, spacer, spacer), \n",
    "     labels, cex = 1, font = 2, family = \"Helvetica\")"
   ]
  },
  {
   "cell_type": "code",
   "execution_count": null,
   "id": "1294cd54",
   "metadata": {},
   "outputs": [],
   "source": []
  }
 ],
 "metadata": {
  "kernelspec": {
   "display_name": "R 4.1.0 BIO",
   "language": "R",
   "name": "ir410-bio"
  },
  "language_info": {
   "codemirror_mode": "r",
   "file_extension": ".r",
   "mimetype": "text/x-r-source",
   "name": "R",
   "pygments_lexer": "r",
   "version": "4.1.0"
  }
 },
 "nbformat": 4,
 "nbformat_minor": 5
}
