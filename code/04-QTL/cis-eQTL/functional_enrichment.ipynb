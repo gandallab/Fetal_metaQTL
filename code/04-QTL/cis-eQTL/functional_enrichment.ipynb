{
 "cells": [
  {
   "cell_type": "markdown",
   "metadata": {
    "deletable": true,
    "editable": true
   },
   "source": [
    "# QTL functional enrichment\n",
    "- GREAT, GO terms, etc.\n",
    "- torus (GTEx)"
   ]
  },
  {
   "cell_type": "markdown",
   "metadata": {
    "deletable": true,
    "editable": true
   },
   "source": [
    "## GREAT\n",
    "ALL top cis-eQTL"
   ]
  },
  {
   "cell_type": "code",
   "execution_count": 1,
   "metadata": {
    "collapsed": false,
    "deletable": true,
    "editable": true
   },
   "outputs": [],
   "source": [
    "suppressMessages(library(rGREAT))\n",
    "suppressMessages(library(data.table))\n",
    "suppressMessages(library(dplyr))\n",
    "suppressMessages(library(ggplot2))"
   ]
  },
  {
   "cell_type": "code",
   "execution_count": 3,
   "metadata": {
    "collapsed": false,
    "deletable": true,
    "editable": true
   },
   "outputs": [
    {
     "name": "stderr",
     "output_type": "stream",
     "text": [
      "Warning message in submitGreatJob(bed, species = \"hg19\"):\n",
      "“GREAT gives a warning:\n",
      "Your set hits a large fraction of the genes in the genome, which often\n",
      "does not work well with the GREAT Significant by Both view due to a\n",
      "saturation of the gene-based hypergeometric test.\n",
      "\n",
      "See our tips for handling large datasets or try the Significant By\n",
      "Region-based Binomial view.”\n"
     ]
    }
   ],
   "source": [
    "eqtl <- fread(\"~/project-gandalm/isoform_twas/sLDSC/data/mixed_top_eqtl.txt\", data.table = F, header = F)\n",
    "coord <- fread(\"~/project-gandalm/isoform_twas/sLDSC/data/mixed_variant_coord.tsv\", data.table = F, header = T)\n",
    "bed <- eqtl %>% left_join(coord, by=c(\"V1\"=\"GENE\")) %>% select(CHR, START, END)\n",
    "bed$CHR <- gsub('^','chr',bed$CHR)\n",
    "# submit to GREAT\n",
    "job <- submitGreatJob(bed, species = \"hg19\") # TODO: check options\n",
    "tb <- getEnrichmentTables(job)"
   ]
  },
  {
   "cell_type": "code",
   "execution_count": 4,
   "metadata": {
    "collapsed": false,
    "deletable": true,
    "editable": true
   },
   "outputs": [
    {
     "data": {
      "text/html": [
       "<style>\n",
       ".list-inline {list-style: none; margin:0; padding: 0}\n",
       ".list-inline>li {display: inline-block}\n",
       ".list-inline>li:not(:last-child)::after {content: \"\\00b7\"; padding: 0 .5ex}\n",
       "</style>\n",
       "<ol class=list-inline><li>'GO Molecular Function'</li><li>'GO Biological Process'</li><li>'GO Cellular Component'</li></ol>\n"
      ],
      "text/latex": [
       "\\begin{enumerate*}\n",
       "\\item 'GO Molecular Function'\n",
       "\\item 'GO Biological Process'\n",
       "\\item 'GO Cellular Component'\n",
       "\\end{enumerate*}\n"
      ],
      "text/markdown": [
       "1. 'GO Molecular Function'\n",
       "2. 'GO Biological Process'\n",
       "3. 'GO Cellular Component'\n",
       "\n",
       "\n"
      ],
      "text/plain": [
       "[1] \"GO Molecular Function\" \"GO Biological Process\" \"GO Cellular Component\""
      ]
     },
     "metadata": {},
     "output_type": "display_data"
    },
    {
     "data": {
      "text/plain": [
       "Submit time: 2021-08-06 13:47:18 \n",
       "Version: 4.0.4 \n",
       "Species: hg19 \n",
       "Inputs: 9702 regions\n",
       "Background: wholeGenome \n",
       "Model: Basal plus extension \n",
       "  Proximal: 5 kb upstream, 1 kb downstream,\n",
       "  plus Distal: up to 1000 kb\n",
       "Include curated regulatory domains\n",
       "\n",
       "Enrichment tables for following ontologies have been downloaded:\n",
       "  GO Biological Process\n",
       "  GO Cellular Component\n",
       "  GO Molecular Function\n"
      ]
     },
     "metadata": {},
     "output_type": "display_data"
    },
    {
     "data": {
      "text/html": [
       "<style>\n",
       ".list-inline {list-style: none; margin:0; padding: 0}\n",
       ".list-inline>li {display: inline-block}\n",
       ".list-inline>li:not(:last-child)::after {content: \"\\00b7\"; padding: 0 .5ex}\n",
       "</style>\n",
       "<ol class=list-inline><li>'GO Molecular Function'</li><li>'GO Biological Process'</li><li>'GO Cellular Component'</li><li>'Mouse Phenotype'</li><li>'Mouse Phenotype Single KO'</li><li>'Human Phenotype'</li><li>'Ensembl Genes'</li></ol>\n"
      ],
      "text/latex": [
       "\\begin{enumerate*}\n",
       "\\item 'GO Molecular Function'\n",
       "\\item 'GO Biological Process'\n",
       "\\item 'GO Cellular Component'\n",
       "\\item 'Mouse Phenotype'\n",
       "\\item 'Mouse Phenotype Single KO'\n",
       "\\item 'Human Phenotype'\n",
       "\\item 'Ensembl Genes'\n",
       "\\end{enumerate*}\n"
      ],
      "text/markdown": [
       "1. 'GO Molecular Function'\n",
       "2. 'GO Biological Process'\n",
       "3. 'GO Cellular Component'\n",
       "4. 'Mouse Phenotype'\n",
       "5. 'Mouse Phenotype Single KO'\n",
       "6. 'Human Phenotype'\n",
       "7. 'Ensembl Genes'\n",
       "\n",
       "\n"
      ],
      "text/plain": [
       "[1] \"GO Molecular Function\"     \"GO Biological Process\"    \n",
       "[3] \"GO Cellular Component\"     \"Mouse Phenotype\"          \n",
       "[5] \"Mouse Phenotype Single KO\" \"Human Phenotype\"          \n",
       "[7] \"Ensembl Genes\"            "
      ]
     },
     "metadata": {},
     "output_type": "display_data"
    },
    {
     "data": {
      "text/html": [
       "<style>\n",
       ".list-inline {list-style: none; margin:0; padding: 0}\n",
       ".list-inline>li {display: inline-block}\n",
       ".list-inline>li:not(:last-child)::after {content: \"\\00b7\"; padding: 0 .5ex}\n",
       "</style>\n",
       "<ol class=list-inline><li>'GO'</li><li>'Phenotype'</li><li>'Genes'</li></ol>\n"
      ],
      "text/latex": [
       "\\begin{enumerate*}\n",
       "\\item 'GO'\n",
       "\\item 'Phenotype'\n",
       "\\item 'Genes'\n",
       "\\end{enumerate*}\n"
      ],
      "text/markdown": [
       "1. 'GO'\n",
       "2. 'Phenotype'\n",
       "3. 'Genes'\n",
       "\n",
       "\n"
      ],
      "text/plain": [
       "[1] \"GO\"        \"Phenotype\" \"Genes\"    "
      ]
     },
     "metadata": {},
     "output_type": "display_data"
    }
   ],
   "source": [
    "names(tb)\n",
    "job\n",
    "availableOntologies(job)\n",
    "availableCategories(job)"
   ]
  },
  {
   "cell_type": "code",
   "execution_count": 31,
   "metadata": {
    "collapsed": false,
    "deletable": true,
    "editable": true
   },
   "outputs": [
    {
     "data": {
      "image/png": "[encoded data removed]",
      "text/plain": [
       "plot without title"
      ]
     },
     "metadata": {
      "image/png": {
       "height": 300,
       "width": 600
      }
     },
     "output_type": "display_data"
    }
   ],
   "source": [
    "# GO Molecular Function\n",
    "dat_mf <- tb[[\"GO Molecular Function\"]] %>% filter(Hyper_Adjp_BH < 0.05)\n",
    "label_df <- data.frame(name = dat_mf$name,\n",
    "                       Hyper_Fold_Enrichment = dat_mf$Hyper_Fold_Enrichment+.05)\n",
    "# TODO: which variables to use/plot?\n",
    "options(repr.plot.height = 5, repr.plot.width = 10)\n",
    "p <- ggplot(dat_mf, aes(y = Hyper_Fold_Enrichment, x = reorder(name, -Hyper_Fold_Enrichment))) +\n",
    "  geom_bar(stat = \"identity\", aes(fill = -log10(Hyper_Raw_PValue))) +\n",
    "  coord_flip() +\n",
    "  theme_classic() +\n",
    "  scale_fill_gradient(low = \"midnightblue\", high = \"steelblue1\", name = \"-log10(Hyper_Raw_PValue)\") +\n",
    "  geom_text(data = label_df, label = \"*\", color = \"black\", size = 10, nudge_x = -.2) +\n",
    "  theme(axis.text = element_text(size = 12),\n",
    "        axis.title = element_text(size = 18),\n",
    "        legend.title = element_text(size = 16),\n",
    "        legend.text = element_text(size = 14)) +\n",
    "  labs(x = \"GO name\")\n",
    "p"
   ]
  },
  {
   "cell_type": "markdown",
   "metadata": {
    "deletable": true,
    "editable": true
   },
   "source": [
    "## Ensembl Regulatory Build (GTEx, torus)"
   ]
  },
  {
   "cell_type": "code",
   "execution_count": 2,
   "metadata": {
    "collapsed": true,
    "deletable": true,
    "editable": true
   },
   "outputs": [],
   "source": [
    "# all <- fread(\"/u/project/gandalm/shared/refGenomes/ensembl_regulatory_build/homo_sapiens.GRCh38.Regulatory_Build.regulatory_features.20210107.gff.gz\", data.table = F, header = F)\n",
    "# brain <- fread(\"/u/project/gandalm/shared/refGenomes/ensembl_regulatory_build/homo_sapiens.GRCh38.brain_1.Regulatory_Build.regulatory_activity.20210107.gff.gz\", data.table = F, header = F)\n",
    "all <- fread(\"/u/project/gandalm/shared/refGenomes/ensembl_regulatory_build/homo_sapiens.GRCh37.Regulatory_Build.regulatory_features.20201218.gff.gz\", data.table = F, header = F)"
   ]
  },
  {
   "cell_type": "code",
   "execution_count": 8,
   "metadata": {
    "collapsed": false,
    "deletable": true,
    "editable": true
   },
   "outputs": [
    {
     "data": {
      "text/html": [
       "<style>\n",
       ".list-inline {list-style: none; margin:0; padding: 0}\n",
       ".list-inline>li {display: inline-block}\n",
       ".list-inline>li:not(:last-child)::after {content: \"\\00b7\"; padding: 0 .5ex}\n",
       "</style>\n",
       "<ol class=list-inline><li>599404</li><li>9</li></ol>\n"
      ],
      "text/latex": [
       "\\begin{enumerate*}\n",
       "\\item 599404\n",
       "\\item 9\n",
       "\\end{enumerate*}\n"
      ],
      "text/markdown": [
       "1. 599404\n",
       "2. 9\n",
       "\n",
       "\n"
      ],
      "text/plain": [
       "[1] 599404      9"
      ]
     },
     "metadata": {},
     "output_type": "display_data"
    },
    {
     "data": {
      "text/html": [
       "<table>\n",
       "<caption>A data.frame: 6 × 9</caption>\n",
       "<thead>\n",
       "\t<tr><th></th><th scope=col>V1</th><th scope=col>V2</th><th scope=col>V3</th><th scope=col>V4</th><th scope=col>V5</th><th scope=col>V6</th><th scope=col>V7</th><th scope=col>V8</th><th scope=col>V9</th></tr>\n",
       "\t<tr><th></th><th scope=col>&lt;chr&gt;</th><th scope=col>&lt;chr&gt;</th><th scope=col>&lt;chr&gt;</th><th scope=col>&lt;int&gt;</th><th scope=col>&lt;int&gt;</th><th scope=col>&lt;chr&gt;</th><th scope=col>&lt;chr&gt;</th><th scope=col>&lt;chr&gt;</th><th scope=col>&lt;chr&gt;</th></tr>\n",
       "</thead>\n",
       "<tbody>\n",
       "\t<tr><th scope=row>1</th><td>GL000191.1</td><td>Regulatory_Build</td><td>open_chromatin_region</td><td>101295</td><td>101509</td><td>.</td><td>.</td><td>.</td><td>ID=open_chromatin_region:ENSR00002093585;bound_end=101509;bound_start=101295;description=Open chromatin region;feature_type=Open chromatin</td></tr>\n",
       "\t<tr><th scope=row>2</th><td>GL000191.1</td><td>Regulatory_Build</td><td>open_chromatin_region</td><td> 24940</td><td> 25470</td><td>.</td><td>.</td><td>.</td><td>ID=open_chromatin_region:ENSR00002093576;bound_end=25470;bound_start=24940;description=Open chromatin region;feature_type=Open chromatin  </td></tr>\n",
       "\t<tr><th scope=row>3</th><td>GL000191.1</td><td>Regulatory_Build</td><td>open_chromatin_region</td><td> 34437</td><td> 34739</td><td>.</td><td>.</td><td>.</td><td>ID=open_chromatin_region:ENSR00002093578;bound_end=34739;bound_start=34437;description=Open chromatin region;feature_type=Open chromatin  </td></tr>\n",
       "\t<tr><th scope=row>4</th><td>GL000191.1</td><td>Regulatory_Build</td><td>open_chromatin_region</td><td> 56485</td><td> 56718</td><td>.</td><td>.</td><td>.</td><td>ID=open_chromatin_region:ENSR00002093579;bound_end=56718;bound_start=56485;description=Open chromatin region;feature_type=Open chromatin  </td></tr>\n",
       "\t<tr><th scope=row>5</th><td>GL000191.1</td><td>Regulatory_Build</td><td>open_chromatin_region</td><td> 78957</td><td> 79628</td><td>.</td><td>.</td><td>.</td><td>ID=open_chromatin_region:ENSR00001469908;bound_end=79628;bound_start=78957;description=Open chromatin region;feature_type=Open chromatin  </td></tr>\n",
       "\t<tr><th scope=row>6</th><td>GL000191.1</td><td>Regulatory_Build</td><td>open_chromatin_region</td><td> 85487</td><td> 85911</td><td>.</td><td>.</td><td>.</td><td>ID=open_chromatin_region:ENSR00002093581;bound_end=85911;bound_start=85487;description=Open chromatin region;feature_type=Open chromatin  </td></tr>\n",
       "</tbody>\n",
       "</table>\n"
      ],
      "text/latex": [
       "A data.frame: 6 × 9\n",
       "\\begin{tabular}{r|lllllllll}\n",
       "  & V1 & V2 & V3 & V4 & V5 & V6 & V7 & V8 & V9\\\\\n",
       "  & <chr> & <chr> & <chr> & <int> & <int> & <chr> & <chr> & <chr> & <chr>\\\\\n",
       "\\hline\n",
       "\t1 & GL000191.1 & Regulatory\\_Build & open\\_chromatin\\_region & 101295 & 101509 & . & . & . & ID=open\\_chromatin\\_region:ENSR00002093585;bound\\_end=101509;bound\\_start=101295;description=Open chromatin region;feature\\_type=Open chromatin\\\\\n",
       "\t2 & GL000191.1 & Regulatory\\_Build & open\\_chromatin\\_region &  24940 &  25470 & . & . & . & ID=open\\_chromatin\\_region:ENSR00002093576;bound\\_end=25470;bound\\_start=24940;description=Open chromatin region;feature\\_type=Open chromatin  \\\\\n",
       "\t3 & GL000191.1 & Regulatory\\_Build & open\\_chromatin\\_region &  34437 &  34739 & . & . & . & ID=open\\_chromatin\\_region:ENSR00002093578;bound\\_end=34739;bound\\_start=34437;description=Open chromatin region;feature\\_type=Open chromatin  \\\\\n",
       "\t4 & GL000191.1 & Regulatory\\_Build & open\\_chromatin\\_region &  56485 &  56718 & . & . & . & ID=open\\_chromatin\\_region:ENSR00002093579;bound\\_end=56718;bound\\_start=56485;description=Open chromatin region;feature\\_type=Open chromatin  \\\\\n",
       "\t5 & GL000191.1 & Regulatory\\_Build & open\\_chromatin\\_region &  78957 &  79628 & . & . & . & ID=open\\_chromatin\\_region:ENSR00001469908;bound\\_end=79628;bound\\_start=78957;description=Open chromatin region;feature\\_type=Open chromatin  \\\\\n",
       "\t6 & GL000191.1 & Regulatory\\_Build & open\\_chromatin\\_region &  85487 &  85911 & . & . & . & ID=open\\_chromatin\\_region:ENSR00002093581;bound\\_end=85911;bound\\_start=85487;description=Open chromatin region;feature\\_type=Open chromatin  \\\\\n",
       "\\end{tabular}\n"
      ],
      "text/markdown": [
       "\n",
       "A data.frame: 6 × 9\n",
       "\n",
       "| <!--/--> | V1 &lt;chr&gt; | V2 &lt;chr&gt; | V3 &lt;chr&gt; | V4 &lt;int&gt; | V5 &lt;int&gt; | V6 &lt;chr&gt; | V7 &lt;chr&gt; | V8 &lt;chr&gt; | V9 &lt;chr&gt; |\n",
       "|---|---|---|---|---|---|---|---|---|---|\n",
       "| 1 | GL000191.1 | Regulatory_Build | open_chromatin_region | 101295 | 101509 | . | . | . | ID=open_chromatin_region:ENSR00002093585;bound_end=101509;bound_start=101295;description=Open chromatin region;feature_type=Open chromatin |\n",
       "| 2 | GL000191.1 | Regulatory_Build | open_chromatin_region |  24940 |  25470 | . | . | . | ID=open_chromatin_region:ENSR00002093576;bound_end=25470;bound_start=24940;description=Open chromatin region;feature_type=Open chromatin   |\n",
       "| 3 | GL000191.1 | Regulatory_Build | open_chromatin_region |  34437 |  34739 | . | . | . | ID=open_chromatin_region:ENSR00002093578;bound_end=34739;bound_start=34437;description=Open chromatin region;feature_type=Open chromatin   |\n",
       "| 4 | GL000191.1 | Regulatory_Build | open_chromatin_region |  56485 |  56718 | . | . | . | ID=open_chromatin_region:ENSR00002093579;bound_end=56718;bound_start=56485;description=Open chromatin region;feature_type=Open chromatin   |\n",
       "| 5 | GL000191.1 | Regulatory_Build | open_chromatin_region |  78957 |  79628 | . | . | . | ID=open_chromatin_region:ENSR00001469908;bound_end=79628;bound_start=78957;description=Open chromatin region;feature_type=Open chromatin   |\n",
       "| 6 | GL000191.1 | Regulatory_Build | open_chromatin_region |  85487 |  85911 | . | . | . | ID=open_chromatin_region:ENSR00002093581;bound_end=85911;bound_start=85487;description=Open chromatin region;feature_type=Open chromatin   |\n",
       "\n"
      ],
      "text/plain": [
       "  V1         V2               V3                    V4     V5     V6 V7 V8\n",
       "1 GL000191.1 Regulatory_Build open_chromatin_region 101295 101509 .  .  . \n",
       "2 GL000191.1 Regulatory_Build open_chromatin_region  24940  25470 .  .  . \n",
       "3 GL000191.1 Regulatory_Build open_chromatin_region  34437  34739 .  .  . \n",
       "4 GL000191.1 Regulatory_Build open_chromatin_region  56485  56718 .  .  . \n",
       "5 GL000191.1 Regulatory_Build open_chromatin_region  78957  79628 .  .  . \n",
       "6 GL000191.1 Regulatory_Build open_chromatin_region  85487  85911 .  .  . \n",
       "  V9                                                                                                                                        \n",
       "1 ID=open_chromatin_region:ENSR00002093585;bound_end=101509;bound_start=101295;description=Open chromatin region;feature_type=Open chromatin\n",
       "2 ID=open_chromatin_region:ENSR00002093576;bound_end=25470;bound_start=24940;description=Open chromatin region;feature_type=Open chromatin  \n",
       "3 ID=open_chromatin_region:ENSR00002093578;bound_end=34739;bound_start=34437;description=Open chromatin region;feature_type=Open chromatin  \n",
       "4 ID=open_chromatin_region:ENSR00002093579;bound_end=56718;bound_start=56485;description=Open chromatin region;feature_type=Open chromatin  \n",
       "5 ID=open_chromatin_region:ENSR00001469908;bound_end=79628;bound_start=78957;description=Open chromatin region;feature_type=Open chromatin  \n",
       "6 ID=open_chromatin_region:ENSR00002093581;bound_end=85911;bound_start=85487;description=Open chromatin region;feature_type=Open chromatin  "
      ]
     },
     "metadata": {},
     "output_type": "display_data"
    }
   ],
   "source": [
    "dim(all)\n",
    "# dim(brain)\n",
    "head(all)\n",
    "# head(brain)"
   ]
  },
  {
   "cell_type": "code",
   "execution_count": 9,
   "metadata": {
    "collapsed": false,
    "deletable": true,
    "editable": true
   },
   "outputs": [
    {
     "data": {
      "text/plain": [
       "\n",
       "       CTCF_binding_site                 enhancer    open_chromatin_region \n",
       "                  172199                   163595                    86609 \n",
       "                promoter promoter_flanking_region          TF_binding_site \n",
       "                   32667                   115347                    28987 "
      ]
     },
     "metadata": {},
     "output_type": "display_data"
    },
    {
     "data": {
      "text/plain": [
       "\n",
       "         1         10         11         12         13         14         15 \n",
       "     52219      28618      28662      28340      17241      18460      19251 \n",
       "        16         17         18         19          2         20         21 \n",
       "     18382      21241      14817      14091      50934      15841       7174 \n",
       "        22          3          4          5          6          7          8 \n",
       "     10071      40951      33346      35754      34880      33062      29106 \n",
       "         9 GL000191.1 GL000192.1 GL000193.1 GL000194.1 GL000195.1 GL000196.1 \n",
       "     25858         17         81         17         26         73          4 \n",
       "GL000197.1 GL000198.1 GL000199.1 GL000200.1 GL000201.1 GL000202.1 GL000203.1 \n",
       "         5         17         16          8          5          9          1 \n",
       "GL000204.1 GL000205.1 GL000206.1 GL000208.1 GL000209.1 GL000210.1 GL000211.1 \n",
       "         7         49          9         41         12          3         13 \n",
       "GL000212.1 GL000213.1 GL000214.1 GL000215.1 GL000216.1 GL000217.1 GL000218.1 \n",
       "        28          9         26         12         82         12         16 \n",
       "GL000219.1 GL000220.1 GL000221.1 GL000222.1 GL000223.1 GL000224.1 GL000225.1 \n",
       "        41         46         16         17          6         14        105 \n",
       "GL000226.1 GL000227.1 GL000228.1 GL000229.1 GL000230.1 GL000231.1 GL000232.1 \n",
       "         1         15         35         12          1          9         12 \n",
       "GL000233.1 GL000234.1 GL000235.1 GL000237.1 GL000238.1 GL000239.1 GL000240.1 \n",
       "         3          5          4          5          3          2          5 \n",
       "GL000241.1 GL000242.1 GL000243.1 GL000245.1 GL000246.1 GL000247.1 GL000248.1 \n",
       "        10          8          9          3          6          3          6 \n",
       "GL000249.1          X          Y \n",
       "         6      19263        836 "
      ]
     },
     "metadata": {},
     "output_type": "display_data"
    },
    {
     "data": {
      "text/plain": [
       "\n",
       "Regulatory_Build \n",
       "          599404 "
      ]
     },
     "metadata": {},
     "output_type": "display_data"
    }
   ],
   "source": [
    "table(all$V3)\n",
    "# table(brain$V3)\n",
    "table(all$V1)\n",
    "table(all$V2)"
   ]
  },
  {
   "cell_type": "code",
   "execution_count": 3,
   "metadata": {
    "collapsed": false,
    "deletable": true,
    "editable": true
   },
   "outputs": [
    {
     "data": {
      "text/html": [
       "<table>\n",
       "<caption>A data.frame: 6 × 4</caption>\n",
       "<thead>\n",
       "\t<tr><th></th><th scope=col>GENE</th><th scope=col>CHR</th><th scope=col>START</th><th scope=col>END</th></tr>\n",
       "\t<tr><th></th><th scope=col>&lt;chr&gt;</th><th scope=col>&lt;int&gt;</th><th scope=col>&lt;int&gt;</th><th scope=col>&lt;dbl&gt;</th></tr>\n",
       "</thead>\n",
       "<tbody>\n",
       "\t<tr><th scope=row>1</th><td>rs61769339 </td><td>1</td><td>662622</td><td>662623</td></tr>\n",
       "\t<tr><th scope=row>2</th><td>rs200188737</td><td>1</td><td>666249</td><td>666250</td></tr>\n",
       "\t<tr><th scope=row>3</th><td>rs12238997 </td><td>1</td><td>693731</td><td>693732</td></tr>\n",
       "\t<tr><th scope=row>4</th><td>rs61769351 </td><td>1</td><td>693823</td><td>693824</td></tr>\n",
       "\t<tr><th scope=row>5</th><td>rs142559957</td><td>1</td><td>704637</td><td>704638</td></tr>\n",
       "\t<tr><th scope=row>6</th><td>rs142576295</td><td>1</td><td>708075</td><td>708076</td></tr>\n",
       "</tbody>\n",
       "</table>\n"
      ],
      "text/latex": [
       "A data.frame: 6 × 4\n",
       "\\begin{tabular}{r|llll}\n",
       "  & GENE & CHR & START & END\\\\\n",
       "  & <chr> & <int> & <int> & <dbl>\\\\\n",
       "\\hline\n",
       "\t1 & rs61769339  & 1 & 662622 & 662623\\\\\n",
       "\t2 & rs200188737 & 1 & 666249 & 666250\\\\\n",
       "\t3 & rs12238997  & 1 & 693731 & 693732\\\\\n",
       "\t4 & rs61769351  & 1 & 693823 & 693824\\\\\n",
       "\t5 & rs142559957 & 1 & 704637 & 704638\\\\\n",
       "\t6 & rs142576295 & 1 & 708075 & 708076\\\\\n",
       "\\end{tabular}\n"
      ],
      "text/markdown": [
       "\n",
       "A data.frame: 6 × 4\n",
       "\n",
       "| <!--/--> | GENE &lt;chr&gt; | CHR &lt;int&gt; | START &lt;int&gt; | END &lt;dbl&gt; |\n",
       "|---|---|---|---|---|\n",
       "| 1 | rs61769339  | 1 | 662622 | 662623 |\n",
       "| 2 | rs200188737 | 1 | 666249 | 666250 |\n",
       "| 3 | rs12238997  | 1 | 693731 | 693732 |\n",
       "| 4 | rs61769351  | 1 | 693823 | 693824 |\n",
       "| 5 | rs142559957 | 1 | 704637 | 704638 |\n",
       "| 6 | rs142576295 | 1 | 708075 | 708076 |\n",
       "\n"
      ],
      "text/plain": [
       "  GENE        CHR START  END   \n",
       "1 rs61769339  1   662622 662623\n",
       "2 rs200188737 1   666249 666250\n",
       "3 rs12238997  1   693731 693732\n",
       "4 rs61769351  1   693823 693824\n",
       "5 rs142559957 1   704637 704638\n",
       "6 rs142576295 1   708075 708076"
      ]
     },
     "metadata": {},
     "output_type": "display_data"
    }
   ],
   "source": [
    "coord <- fread(\"~/project-gandalm/isoform_twas/sLDSC/data/mixed_variant_coord.tsv\", data.table = F, header = T)\n",
    "head(coord)"
   ]
  },
  {
   "cell_type": "code",
   "execution_count": 10,
   "metadata": {
    "collapsed": false,
    "deletable": true,
    "editable": true
   },
   "outputs": [
    {
     "data": {
      "text/plain": [
       "\n",
       "     1      2      3      4      5      6      7      8      9     10     11 \n",
       "657497 716400 614737 617630 556538 552404 486082 479153 368072 419673 406773 \n",
       "    12     13     14     15     16     17     18     19     20     21     22 \n",
       "403606 304857 274312 247117 262975 216999 248723 190125 195058  94603 106872 "
      ]
     },
     "metadata": {},
     "output_type": "display_data"
    }
   ],
   "source": [
    "table(coord$CHR)"
   ]
  },
  {
   "cell_type": "code",
   "execution_count": 4,
   "metadata": {
    "collapsed": true,
    "deletable": true,
    "editable": true
   },
   "outputs": [],
   "source": [
    "all <- all %>% filter(V1 %in% c(1:22))"
   ]
  },
  {
   "cell_type": "code",
   "execution_count": 5,
   "metadata": {
    "collapsed": false,
    "deletable": true,
    "editable": true
   },
   "outputs": [],
   "source": [
    "coord$CTCF_binding_site_d <- coord$enhancer_d <- coord$open_chromatin_region_d <- coord$promoter_d <- coord$promoter_flanking_region_d <- coord$TF_binding_site_d <- 0"
   ]
  },
  {
   "cell_type": "code",
   "execution_count": 6,
   "metadata": {
    "collapsed": true,
    "deletable": true,
    "editable": true
   },
   "outputs": [],
   "source": [
    "for(i in 1:nrow(coord)) {\n",
    "    temp <- all %>% filter(V1 == coord[i,'CHR'], V4 <= coord[i,'START'], V5 >= coord[i,'START'])\n",
    "    if('TF_binding_site' %in% temp$V3){\n",
    "        coord[i,'TF_binding_site_d'] <- 1\n",
    "    }\n",
    "    if('promoter_flanking_region' %in% temp$V3){\n",
    "        coord[i,'promoter_flanking_region_d'] <- 1\n",
    "    }\n",
    "    if('promoter' %in% temp$V3){\n",
    "        coord[i,'promoter_d'] <- 1\n",
    "    }\n",
    "    if('open_chromatin_region' %in% temp$V3){\n",
    "        coord[i,'open_chromatin_region_d'] <- 1\n",
    "    }\n",
    "    if('enhancer' %in% temp$V3){\n",
    "        coord[i,'enhancer_d'] <- 1\n",
    "    }\n",
    "    if('CTCF_binding_site' %in% temp$V3){\n",
    "        coord[i,'CTCF_binding_site_d'] <- 1\n",
    "    }\n",
    "}"
   ]
  },
  {
   "cell_type": "code",
   "execution_count": 7,
   "metadata": {
    "collapsed": false,
    "deletable": true,
    "editable": true
   },
   "outputs": [
    {
     "data": {
      "text/html": [
       "<table>\n",
       "<caption>A data.frame: 6 × 10</caption>\n",
       "<thead>\n",
       "\t<tr><th></th><th scope=col>GENE</th><th scope=col>CHR</th><th scope=col>START</th><th scope=col>END</th><th scope=col>TF_binding_site_d</th><th scope=col>promoter_flanking_region_d</th><th scope=col>promoter_d</th><th scope=col>open_chromatin_region_d</th><th scope=col>enhancer_d</th><th scope=col>CTCF_binding_site_d</th></tr>\n",
       "\t<tr><th></th><th scope=col>&lt;chr&gt;</th><th scope=col>&lt;int&gt;</th><th scope=col>&lt;int&gt;</th><th scope=col>&lt;dbl&gt;</th><th scope=col>&lt;dbl&gt;</th><th scope=col>&lt;dbl&gt;</th><th scope=col>&lt;dbl&gt;</th><th scope=col>&lt;dbl&gt;</th><th scope=col>&lt;dbl&gt;</th><th scope=col>&lt;dbl&gt;</th></tr>\n",
       "</thead>\n",
       "<tbody>\n",
       "\t<tr><th scope=row>1</th><td>rs61769339 </td><td>1</td><td>662622</td><td>662623</td><td>0</td><td>1</td><td>0</td><td>0</td><td>0</td><td>0</td></tr>\n",
       "\t<tr><th scope=row>2</th><td>rs200188737</td><td>1</td><td>666249</td><td>666250</td><td>0</td><td>1</td><td>0</td><td>0</td><td>0</td><td>0</td></tr>\n",
       "\t<tr><th scope=row>3</th><td>rs12238997 </td><td>1</td><td>693731</td><td>693732</td><td>0</td><td>0</td><td>0</td><td>0</td><td>0</td><td>0</td></tr>\n",
       "\t<tr><th scope=row>4</th><td>rs61769351 </td><td>1</td><td>693823</td><td>693824</td><td>0</td><td>0</td><td>0</td><td>0</td><td>0</td><td>0</td></tr>\n",
       "\t<tr><th scope=row>5</th><td>rs142559957</td><td>1</td><td>704637</td><td>704638</td><td>0</td><td>0</td><td>0</td><td>0</td><td>0</td><td>0</td></tr>\n",
       "\t<tr><th scope=row>6</th><td>rs142576295</td><td>1</td><td>708075</td><td>708076</td><td>0</td><td>0</td><td>0</td><td>0</td><td>0</td><td>0</td></tr>\n",
       "</tbody>\n",
       "</table>\n"
      ],
      "text/latex": [
       "A data.frame: 6 × 10\n",
       "\\begin{tabular}{r|llllllllll}\n",
       "  & GENE & CHR & START & END & TF\\_binding\\_site\\_d & promoter\\_flanking\\_region\\_d & promoter\\_d & open\\_chromatin\\_region\\_d & enhancer\\_d & CTCF\\_binding\\_site\\_d\\\\\n",
       "  & <chr> & <int> & <int> & <dbl> & <dbl> & <dbl> & <dbl> & <dbl> & <dbl> & <dbl>\\\\\n",
       "\\hline\n",
       "\t1 & rs61769339  & 1 & 662622 & 662623 & 0 & 1 & 0 & 0 & 0 & 0\\\\\n",
       "\t2 & rs200188737 & 1 & 666249 & 666250 & 0 & 1 & 0 & 0 & 0 & 0\\\\\n",
       "\t3 & rs12238997  & 1 & 693731 & 693732 & 0 & 0 & 0 & 0 & 0 & 0\\\\\n",
       "\t4 & rs61769351  & 1 & 693823 & 693824 & 0 & 0 & 0 & 0 & 0 & 0\\\\\n",
       "\t5 & rs142559957 & 1 & 704637 & 704638 & 0 & 0 & 0 & 0 & 0 & 0\\\\\n",
       "\t6 & rs142576295 & 1 & 708075 & 708076 & 0 & 0 & 0 & 0 & 0 & 0\\\\\n",
       "\\end{tabular}\n"
      ],
      "text/markdown": [
       "\n",
       "A data.frame: 6 × 10\n",
       "\n",
       "| <!--/--> | GENE &lt;chr&gt; | CHR &lt;int&gt; | START &lt;int&gt; | END &lt;dbl&gt; | TF_binding_site_d &lt;dbl&gt; | promoter_flanking_region_d &lt;dbl&gt; | promoter_d &lt;dbl&gt; | open_chromatin_region_d &lt;dbl&gt; | enhancer_d &lt;dbl&gt; | CTCF_binding_site_d &lt;dbl&gt; |\n",
       "|---|---|---|---|---|---|---|---|---|---|---|\n",
       "| 1 | rs61769339  | 1 | 662622 | 662623 | 0 | 1 | 0 | 0 | 0 | 0 |\n",
       "| 2 | rs200188737 | 1 | 666249 | 666250 | 0 | 1 | 0 | 0 | 0 | 0 |\n",
       "| 3 | rs12238997  | 1 | 693731 | 693732 | 0 | 0 | 0 | 0 | 0 | 0 |\n",
       "| 4 | rs61769351  | 1 | 693823 | 693824 | 0 | 0 | 0 | 0 | 0 | 0 |\n",
       "| 5 | rs142559957 | 1 | 704637 | 704638 | 0 | 0 | 0 | 0 | 0 | 0 |\n",
       "| 6 | rs142576295 | 1 | 708075 | 708076 | 0 | 0 | 0 | 0 | 0 | 0 |\n",
       "\n"
      ],
      "text/plain": [
       "  GENE        CHR START  END    TF_binding_site_d promoter_flanking_region_d\n",
       "1 rs61769339  1   662622 662623 0                 1                         \n",
       "2 rs200188737 1   666249 666250 0                 1                         \n",
       "3 rs12238997  1   693731 693732 0                 0                         \n",
       "4 rs61769351  1   693823 693824 0                 0                         \n",
       "5 rs142559957 1   704637 704638 0                 0                         \n",
       "6 rs142576295 1   708075 708076 0                 0                         \n",
       "  promoter_d open_chromatin_region_d enhancer_d CTCF_binding_site_d\n",
       "1 0          0                       0          0                  \n",
       "2 0          0                       0          0                  \n",
       "3 0          0                       0          0                  \n",
       "4 0          0                       0          0                  \n",
       "5 0          0                       0          0                  \n",
       "6 0          0                       0          0                  "
      ]
     },
     "metadata": {},
     "output_type": "display_data"
    }
   ],
   "source": [
    "head(coord)"
   ]
  },
  {
   "cell_type": "code",
   "execution_count": 10,
   "metadata": {
    "collapsed": false
   },
   "outputs": [
    {
     "data": {
      "text/html": [
       "<style>\n",
       ".list-inline {list-style: none; margin:0; padding: 0}\n",
       ".list-inline>li {display: inline-block}\n",
       ".list-inline>li:not(:last-child)::after {content: \"\\00b7\"; padding: 0 .5ex}\n",
       "</style>\n",
       "<ol class=list-inline><li>1</li><li>1</li></ol>\n"
      ],
      "text/latex": [
       "\\begin{enumerate*}\n",
       "\\item 1\n",
       "\\item 1\n",
       "\\end{enumerate*}\n"
      ],
      "text/markdown": [
       "1. 1\n",
       "2. 1\n",
       "\n",
       "\n"
      ],
      "text/plain": [
       "[1] 1 1"
      ]
     },
     "metadata": {},
     "output_type": "display_data"
    }
   ],
   "source": [
    "range(coord$END-coord$START)"
   ]
  },
  {
   "cell_type": "code",
   "execution_count": 11,
   "metadata": {
    "collapsed": false
   },
   "outputs": [
    {
     "data": {
      "text/html": [
       "<table>\n",
       "<caption>A data.frame: 6 × 7</caption>\n",
       "<thead>\n",
       "\t<tr><th></th><th scope=col>GENE</th><th scope=col>TF_binding_site_d</th><th scope=col>promoter_flanking_region_d</th><th scope=col>promoter_d</th><th scope=col>open_chromatin_region_d</th><th scope=col>enhancer_d</th><th scope=col>CTCF_binding_site_d</th></tr>\n",
       "\t<tr><th></th><th scope=col>&lt;chr&gt;</th><th scope=col>&lt;dbl&gt;</th><th scope=col>&lt;dbl&gt;</th><th scope=col>&lt;dbl&gt;</th><th scope=col>&lt;dbl&gt;</th><th scope=col>&lt;dbl&gt;</th><th scope=col>&lt;dbl&gt;</th></tr>\n",
       "</thead>\n",
       "<tbody>\n",
       "\t<tr><th scope=row>1</th><td>rs61769339 </td><td>0</td><td>1</td><td>0</td><td>0</td><td>0</td><td>0</td></tr>\n",
       "\t<tr><th scope=row>2</th><td>rs200188737</td><td>0</td><td>1</td><td>0</td><td>0</td><td>0</td><td>0</td></tr>\n",
       "\t<tr><th scope=row>3</th><td>rs12238997 </td><td>0</td><td>0</td><td>0</td><td>0</td><td>0</td><td>0</td></tr>\n",
       "\t<tr><th scope=row>4</th><td>rs61769351 </td><td>0</td><td>0</td><td>0</td><td>0</td><td>0</td><td>0</td></tr>\n",
       "\t<tr><th scope=row>5</th><td>rs142559957</td><td>0</td><td>0</td><td>0</td><td>0</td><td>0</td><td>0</td></tr>\n",
       "\t<tr><th scope=row>6</th><td>rs142576295</td><td>0</td><td>0</td><td>0</td><td>0</td><td>0</td><td>0</td></tr>\n",
       "</tbody>\n",
       "</table>\n"
      ],
      "text/latex": [
       "A data.frame: 6 × 7\n",
       "\\begin{tabular}{r|lllllll}\n",
       "  & GENE & TF\\_binding\\_site\\_d & promoter\\_flanking\\_region\\_d & promoter\\_d & open\\_chromatin\\_region\\_d & enhancer\\_d & CTCF\\_binding\\_site\\_d\\\\\n",
       "  & <chr> & <dbl> & <dbl> & <dbl> & <dbl> & <dbl> & <dbl>\\\\\n",
       "\\hline\n",
       "\t1 & rs61769339  & 0 & 1 & 0 & 0 & 0 & 0\\\\\n",
       "\t2 & rs200188737 & 0 & 1 & 0 & 0 & 0 & 0\\\\\n",
       "\t3 & rs12238997  & 0 & 0 & 0 & 0 & 0 & 0\\\\\n",
       "\t4 & rs61769351  & 0 & 0 & 0 & 0 & 0 & 0\\\\\n",
       "\t5 & rs142559957 & 0 & 0 & 0 & 0 & 0 & 0\\\\\n",
       "\t6 & rs142576295 & 0 & 0 & 0 & 0 & 0 & 0\\\\\n",
       "\\end{tabular}\n"
      ],
      "text/markdown": [
       "\n",
       "A data.frame: 6 × 7\n",
       "\n",
       "| <!--/--> | GENE &lt;chr&gt; | TF_binding_site_d &lt;dbl&gt; | promoter_flanking_region_d &lt;dbl&gt; | promoter_d &lt;dbl&gt; | open_chromatin_region_d &lt;dbl&gt; | enhancer_d &lt;dbl&gt; | CTCF_binding_site_d &lt;dbl&gt; |\n",
       "|---|---|---|---|---|---|---|---|\n",
       "| 1 | rs61769339  | 0 | 1 | 0 | 0 | 0 | 0 |\n",
       "| 2 | rs200188737 | 0 | 1 | 0 | 0 | 0 | 0 |\n",
       "| 3 | rs12238997  | 0 | 0 | 0 | 0 | 0 | 0 |\n",
       "| 4 | rs61769351  | 0 | 0 | 0 | 0 | 0 | 0 |\n",
       "| 5 | rs142559957 | 0 | 0 | 0 | 0 | 0 | 0 |\n",
       "| 6 | rs142576295 | 0 | 0 | 0 | 0 | 0 | 0 |\n",
       "\n"
      ],
      "text/plain": [
       "  GENE        TF_binding_site_d promoter_flanking_region_d promoter_d\n",
       "1 rs61769339  0                 1                          0         \n",
       "2 rs200188737 0                 1                          0         \n",
       "3 rs12238997  0                 0                          0         \n",
       "4 rs61769351  0                 0                          0         \n",
       "5 rs142559957 0                 0                          0         \n",
       "6 rs142576295 0                 0                          0         \n",
       "  open_chromatin_region_d enhancer_d CTCF_binding_site_d\n",
       "1 0                       0          0                  \n",
       "2 0                       0          0                  \n",
       "3 0                       0          0                  \n",
       "4 0                       0          0                  \n",
       "5 0                       0          0                  \n",
       "6 0                       0          0                  "
      ]
     },
     "metadata": {},
     "output_type": "display_data"
    }
   ],
   "source": [
    "annot <- coord %>% select(-c(2:4))\n",
    "head(annot)"
   ]
  },
  {
   "cell_type": "code",
   "execution_count": 12,
   "metadata": {
    "collapsed": true
   },
   "outputs": [],
   "source": [
    "gtex <- fread(\"~/project-gandalm/isoform_twas/gtex/WGS_Feature_overlap_collapsed_VEP_short_4torus.MAF01.txt\", data.table = F)"
   ]
  },
  {
   "cell_type": "code",
   "execution_count": 13,
   "metadata": {
    "collapsed": false
   },
   "outputs": [
    {
     "data": {
      "text/html": [
       "<table>\n",
       "<caption>A data.frame: 6 × 18</caption>\n",
       "<thead>\n",
       "\t<tr><th></th><th scope=col>SNP</th><th scope=col>enhancer_d</th><th scope=col>promoter_d</th><th scope=col>open_chromatin_region_d</th><th scope=col>promoter_flanking_region_d</th><th scope=col>CTCF_binding_site_d</th><th scope=col>TF_binding_site_d</th><th scope=col>3_prime_UTR_variant_d</th><th scope=col>5_prime_UTR_variant_d</th><th scope=col>frameshift_variant_d</th><th scope=col>intron_variant_d</th><th scope=col>missense_variant_d</th><th scope=col>non_coding_transcript_exon_variant_d</th><th scope=col>splice_acceptor_variant_d</th><th scope=col>splice_donor_variant_d</th><th scope=col>splice_region_variant_d</th><th scope=col>stop_gained_d</th><th scope=col>synonymous_variant_d</th></tr>\n",
       "\t<tr><th></th><th scope=col>&lt;chr&gt;</th><th scope=col>&lt;int&gt;</th><th scope=col>&lt;int&gt;</th><th scope=col>&lt;int&gt;</th><th scope=col>&lt;int&gt;</th><th scope=col>&lt;int&gt;</th><th scope=col>&lt;int&gt;</th><th scope=col>&lt;int&gt;</th><th scope=col>&lt;int&gt;</th><th scope=col>&lt;int&gt;</th><th scope=col>&lt;int&gt;</th><th scope=col>&lt;int&gt;</th><th scope=col>&lt;int&gt;</th><th scope=col>&lt;int&gt;</th><th scope=col>&lt;int&gt;</th><th scope=col>&lt;int&gt;</th><th scope=col>&lt;int&gt;</th><th scope=col>&lt;int&gt;</th></tr>\n",
       "</thead>\n",
       "<tbody>\n",
       "\t<tr><th scope=row>1</th><td>chr1_13550_G_A_b38</td><td>1</td><td>0</td><td>0</td><td>0</td><td>0</td><td>0</td><td>0</td><td>0</td><td>0</td><td>0</td><td>0</td><td>1</td><td>0</td><td>0</td><td>0</td><td>0</td><td>0</td></tr>\n",
       "\t<tr><th scope=row>2</th><td>chr1_14671_G_C_b38</td><td>0</td><td>0</td><td>0</td><td>0</td><td>0</td><td>0</td><td>0</td><td>0</td><td>0</td><td>1</td><td>0</td><td>0</td><td>0</td><td>0</td><td>0</td><td>0</td><td>0</td></tr>\n",
       "\t<tr><th scope=row>3</th><td>chr1_14677_G_A_b38</td><td>0</td><td>0</td><td>0</td><td>0</td><td>0</td><td>0</td><td>0</td><td>0</td><td>0</td><td>1</td><td>0</td><td>0</td><td>0</td><td>0</td><td>0</td><td>0</td><td>0</td></tr>\n",
       "\t<tr><th scope=row>4</th><td>chr1_16841_G_T_b38</td><td>0</td><td>0</td><td>0</td><td>0</td><td>0</td><td>0</td><td>0</td><td>0</td><td>0</td><td>1</td><td>0</td><td>0</td><td>0</td><td>0</td><td>0</td><td>0</td><td>0</td></tr>\n",
       "\t<tr><th scope=row>5</th><td>chr1_16856_A_G_b38</td><td>0</td><td>0</td><td>0</td><td>0</td><td>0</td><td>0</td><td>0</td><td>0</td><td>0</td><td>0</td><td>0</td><td>0</td><td>0</td><td>1</td><td>0</td><td>0</td><td>0</td></tr>\n",
       "\t<tr><th scope=row>6</th><td>chr1_17005_A_G_b38</td><td>0</td><td>0</td><td>0</td><td>0</td><td>0</td><td>0</td><td>0</td><td>0</td><td>0</td><td>0</td><td>0</td><td>1</td><td>0</td><td>0</td><td>0</td><td>0</td><td>0</td></tr>\n",
       "</tbody>\n",
       "</table>\n"
      ],
      "text/latex": [
       "A data.frame: 6 × 18\n",
       "\\begin{tabular}{r|llllllllllllllllll}\n",
       "  & SNP & enhancer\\_d & promoter\\_d & open\\_chromatin\\_region\\_d & promoter\\_flanking\\_region\\_d & CTCF\\_binding\\_site\\_d & TF\\_binding\\_site\\_d & 3\\_prime\\_UTR\\_variant\\_d & 5\\_prime\\_UTR\\_variant\\_d & frameshift\\_variant\\_d & intron\\_variant\\_d & missense\\_variant\\_d & non\\_coding\\_transcript\\_exon\\_variant\\_d & splice\\_acceptor\\_variant\\_d & splice\\_donor\\_variant\\_d & splice\\_region\\_variant\\_d & stop\\_gained\\_d & synonymous\\_variant\\_d\\\\\n",
       "  & <chr> & <int> & <int> & <int> & <int> & <int> & <int> & <int> & <int> & <int> & <int> & <int> & <int> & <int> & <int> & <int> & <int> & <int>\\\\\n",
       "\\hline\n",
       "\t1 & chr1\\_13550\\_G\\_A\\_b38 & 1 & 0 & 0 & 0 & 0 & 0 & 0 & 0 & 0 & 0 & 0 & 1 & 0 & 0 & 0 & 0 & 0\\\\\n",
       "\t2 & chr1\\_14671\\_G\\_C\\_b38 & 0 & 0 & 0 & 0 & 0 & 0 & 0 & 0 & 0 & 1 & 0 & 0 & 0 & 0 & 0 & 0 & 0\\\\\n",
       "\t3 & chr1\\_14677\\_G\\_A\\_b38 & 0 & 0 & 0 & 0 & 0 & 0 & 0 & 0 & 0 & 1 & 0 & 0 & 0 & 0 & 0 & 0 & 0\\\\\n",
       "\t4 & chr1\\_16841\\_G\\_T\\_b38 & 0 & 0 & 0 & 0 & 0 & 0 & 0 & 0 & 0 & 1 & 0 & 0 & 0 & 0 & 0 & 0 & 0\\\\\n",
       "\t5 & chr1\\_16856\\_A\\_G\\_b38 & 0 & 0 & 0 & 0 & 0 & 0 & 0 & 0 & 0 & 0 & 0 & 0 & 0 & 1 & 0 & 0 & 0\\\\\n",
       "\t6 & chr1\\_17005\\_A\\_G\\_b38 & 0 & 0 & 0 & 0 & 0 & 0 & 0 & 0 & 0 & 0 & 0 & 1 & 0 & 0 & 0 & 0 & 0\\\\\n",
       "\\end{tabular}\n"
      ],
      "text/markdown": [
       "\n",
       "A data.frame: 6 × 18\n",
       "\n",
       "| <!--/--> | SNP &lt;chr&gt; | enhancer_d &lt;int&gt; | promoter_d &lt;int&gt; | open_chromatin_region_d &lt;int&gt; | promoter_flanking_region_d &lt;int&gt; | CTCF_binding_site_d &lt;int&gt; | TF_binding_site_d &lt;int&gt; | 3_prime_UTR_variant_d &lt;int&gt; | 5_prime_UTR_variant_d &lt;int&gt; | frameshift_variant_d &lt;int&gt; | intron_variant_d &lt;int&gt; | missense_variant_d &lt;int&gt; | non_coding_transcript_exon_variant_d &lt;int&gt; | splice_acceptor_variant_d &lt;int&gt; | splice_donor_variant_d &lt;int&gt; | splice_region_variant_d &lt;int&gt; | stop_gained_d &lt;int&gt; | synonymous_variant_d &lt;int&gt; |\n",
       "|---|---|---|---|---|---|---|---|---|---|---|---|---|---|---|---|---|---|---|\n",
       "| 1 | chr1_13550_G_A_b38 | 1 | 0 | 0 | 0 | 0 | 0 | 0 | 0 | 0 | 0 | 0 | 1 | 0 | 0 | 0 | 0 | 0 |\n",
       "| 2 | chr1_14671_G_C_b38 | 0 | 0 | 0 | 0 | 0 | 0 | 0 | 0 | 0 | 1 | 0 | 0 | 0 | 0 | 0 | 0 | 0 |\n",
       "| 3 | chr1_14677_G_A_b38 | 0 | 0 | 0 | 0 | 0 | 0 | 0 | 0 | 0 | 1 | 0 | 0 | 0 | 0 | 0 | 0 | 0 |\n",
       "| 4 | chr1_16841_G_T_b38 | 0 | 0 | 0 | 0 | 0 | 0 | 0 | 0 | 0 | 1 | 0 | 0 | 0 | 0 | 0 | 0 | 0 |\n",
       "| 5 | chr1_16856_A_G_b38 | 0 | 0 | 0 | 0 | 0 | 0 | 0 | 0 | 0 | 0 | 0 | 0 | 0 | 1 | 0 | 0 | 0 |\n",
       "| 6 | chr1_17005_A_G_b38 | 0 | 0 | 0 | 0 | 0 | 0 | 0 | 0 | 0 | 0 | 0 | 1 | 0 | 0 | 0 | 0 | 0 |\n",
       "\n"
      ],
      "text/plain": [
       "  SNP                enhancer_d promoter_d open_chromatin_region_d\n",
       "1 chr1_13550_G_A_b38 1          0          0                      \n",
       "2 chr1_14671_G_C_b38 0          0          0                      \n",
       "3 chr1_14677_G_A_b38 0          0          0                      \n",
       "4 chr1_16841_G_T_b38 0          0          0                      \n",
       "5 chr1_16856_A_G_b38 0          0          0                      \n",
       "6 chr1_17005_A_G_b38 0          0          0                      \n",
       "  promoter_flanking_region_d CTCF_binding_site_d TF_binding_site_d\n",
       "1 0                          0                   0                \n",
       "2 0                          0                   0                \n",
       "3 0                          0                   0                \n",
       "4 0                          0                   0                \n",
       "5 0                          0                   0                \n",
       "6 0                          0                   0                \n",
       "  3_prime_UTR_variant_d 5_prime_UTR_variant_d frameshift_variant_d\n",
       "1 0                     0                     0                   \n",
       "2 0                     0                     0                   \n",
       "3 0                     0                     0                   \n",
       "4 0                     0                     0                   \n",
       "5 0                     0                     0                   \n",
       "6 0                     0                     0                   \n",
       "  intron_variant_d missense_variant_d non_coding_transcript_exon_variant_d\n",
       "1 0                0                  1                                   \n",
       "2 1                0                  0                                   \n",
       "3 1                0                  0                                   \n",
       "4 1                0                  0                                   \n",
       "5 0                0                  0                                   \n",
       "6 0                0                  1                                   \n",
       "  splice_acceptor_variant_d splice_donor_variant_d splice_region_variant_d\n",
       "1 0                         0                      0                      \n",
       "2 0                         0                      0                      \n",
       "3 0                         0                      0                      \n",
       "4 0                         0                      0                      \n",
       "5 0                         1                      0                      \n",
       "6 0                         0                      0                      \n",
       "  stop_gained_d synonymous_variant_d\n",
       "1 0             0                   \n",
       "2 0             0                   \n",
       "3 0             0                   \n",
       "4 0             0                   \n",
       "5 0             0                   \n",
       "6 0             0                   "
      ]
     },
     "metadata": {},
     "output_type": "display_data"
    }
   ],
   "source": [
    "head(gtex)"
   ]
  },
  {
   "cell_type": "code",
   "execution_count": 14,
   "metadata": {
    "collapsed": false
   },
   "outputs": [
    {
     "data": {
      "text/plain": [
       "\n",
       "       0        1 \n",
       "10688641    82219 "
      ]
     },
     "metadata": {},
     "output_type": "display_data"
    }
   ],
   "source": [
    "table(gtex$enhancer_d)"
   ]
  },
  {
   "cell_type": "code",
   "execution_count": null,
   "metadata": {
    "collapsed": true
   },
   "outputs": [],
   "source": []
  }
 ],
 "metadata": {
  "kernelspec": {
   "display_name": "R 3.6.1",
   "language": "R",
   "name": "ir361"
  },
  "language_info": {
   "codemirror_mode": "r",
   "file_extension": ".r",
   "mimetype": "text/x-r-source",
   "name": "R",
   "pygments_lexer": "r",
   "version": "3.6.1"
  }
 },
 "nbformat": 4,
 "nbformat_minor": 2
}
