{
 "cells": [
  {
   "cell_type": "markdown",
   "metadata": {
    "deletable": true,
    "editable": true
   },
   "source": [
    "# Susie finemapping analysis"
   ]
  },
  {
   "cell_type": "code",
   "execution_count": 1,
   "metadata": {
    "collapsed": true,
    "deletable": true,
    "editable": true
   },
   "outputs": [],
   "source": [
    "setwd(\"~/project-gandalm/isoform_twas/eqtl_new/results/susie_finemap\")\n",
    "suppressMessages(library(data.table))\n",
    "suppressMessages(library(dplyr))\n",
    "suppressMessages(library(ggplot2))"
   ]
  },
  {
   "cell_type": "markdown",
   "metadata": {
    "deletable": true,
    "editable": true
   },
   "source": [
    "## Results summary\n",
    "- We started with 10094 eGenes identified by FastQTL permutation pass for mixed ancestries with 90 HCP in covariates\n",
    "- After filtering for CS purity: \n",
    "    - 7654 genes have non-low purity CS\n",
    "    - 10671 unique CS\n",
    "    - 122,050 unique variants in CS\n",
    "- Of the 10671 CS:\n",
    "    - 2423 contain exactly one SNP (strong candidates for causal variants)\n",
    "    - 1291 contain exactly two SNPs\n",
    "    - median size 5\n",
    "- Of the 7654 genes:\n",
    "    - 5515 have exactly one CS\n",
    "    - up to 8"
   ]
  },
  {
   "cell_type": "markdown",
   "metadata": {
    "deletable": true,
    "editable": true
   },
   "source": [
    "### 1. all variants that belong to a non-low purity credible set"
   ]
  },
  {
   "cell_type": "code",
   "execution_count": 2,
   "metadata": {
    "collapsed": false,
    "deletable": true,
    "editable": true
   },
   "outputs": [
    {
     "data": {
      "text/html": [
       "<style>\n",
       ".list-inline {list-style: none; margin:0; padding: 0}\n",
       ".list-inline>li {display: inline-block}\n",
       ".list-inline>li:not(:last-child)::after {content: \"\\00b7\"; padding: 0 .5ex}\n",
       "</style>\n",
       "<ol class=list-inline><li>161929</li><li>17</li></ol>\n"
      ],
      "text/latex": [
       "\\begin{enumerate*}\n",
       "\\item 161929\n",
       "\\item 17\n",
       "\\end{enumerate*}\n"
      ],
      "text/markdown": [
       "1. 161929\n",
       "2. 17\n",
       "\n",
       "\n"
      ],
      "text/plain": [
       "[1] 161929     17"
      ]
     },
     "metadata": {},
     "output_type": "display_data"
    }
   ],
   "source": [
    "var_in_cs <- fread(\"mixed_ciseqtl_90hcp_perm.txt.gz\", data.table = F)\n",
    "dim(var_in_cs)"
   ]
  },
  {
   "cell_type": "markdown",
   "metadata": {
    "deletable": true,
    "editable": true
   },
   "source": [
    "#### How many eGenes got finemapped non-low purity credible sets?"
   ]
  },
  {
   "cell_type": "code",
   "execution_count": 4,
   "metadata": {
    "collapsed": false,
    "deletable": true,
    "editable": true
   },
   "outputs": [
    {
     "data": {
      "text/html": [
       "7654"
      ],
      "text/latex": [
       "7654"
      ],
      "text/markdown": [
       "7654"
      ],
      "text/plain": [
       "[1] 7654"
      ]
     },
     "metadata": {},
     "output_type": "display_data"
    }
   ],
   "source": [
    "length(unique(var_in_cs$phenotype_id))"
   ]
  },
  {
   "cell_type": "markdown",
   "metadata": {
    "deletable": true,
    "editable": true
   },
   "source": [
    "#### How many unique variants in all CS? "
   ]
  },
  {
   "cell_type": "code",
   "execution_count": 5,
   "metadata": {
    "collapsed": false,
    "deletable": true,
    "editable": true
   },
   "outputs": [
    {
     "data": {
      "text/html": [
       "122050"
      ],
      "text/latex": [
       "122050"
      ],
      "text/markdown": [
       "122050"
      ],
      "text/plain": [
       "[1] 122050"
      ]
     },
     "metadata": {},
     "output_type": "display_data"
    }
   ],
   "source": [
    "length(unique(var_in_cs$variant_id))"
   ]
  },
  {
   "cell_type": "markdown",
   "metadata": {
    "deletable": true,
    "editable": true
   },
   "source": [
    "#### How many unique non-low purity CS?"
   ]
  },
  {
   "cell_type": "code",
   "execution_count": 6,
   "metadata": {
    "collapsed": false,
    "deletable": true,
    "editable": true
   },
   "outputs": [
    {
     "data": {
      "text/html": [
       "10671"
      ],
      "text/latex": [
       "10671"
      ],
      "text/markdown": [
       "10671"
      ],
      "text/plain": [
       "[1] 10671"
      ]
     },
     "metadata": {},
     "output_type": "display_data"
    }
   ],
   "source": [
    "length(unique(var_in_cs$cs_id))"
   ]
  },
  {
   "cell_type": "markdown",
   "metadata": {
    "deletable": true,
    "editable": true
   },
   "source": [
    "#### Sorted by chr and pos of genes"
   ]
  },
  {
   "cell_type": "code",
   "execution_count": 2,
   "metadata": {
    "collapsed": false,
    "deletable": true,
    "editable": true
   },
   "outputs": [
    {
     "data": {
      "text/html": [
       "<style>\n",
       ".list-inline {list-style: none; margin:0; padding: 0}\n",
       ".list-inline>li {display: inline-block}\n",
       ".list-inline>li:not(:last-child)::after {content: \"\\00b7\"; padding: 0 .5ex}\n",
       "</style>\n",
       "<ol class=list-inline><li>161929</li><li>17</li></ol>\n"
      ],
      "text/latex": [
       "\\begin{enumerate*}\n",
       "\\item 161929\n",
       "\\item 17\n",
       "\\end{enumerate*}\n"
      ],
      "text/markdown": [
       "1. 161929\n",
       "2. 17\n",
       "\n",
       "\n"
      ],
      "text/plain": [
       "[1] 161929     17"
      ]
     },
     "metadata": {},
     "output_type": "display_data"
    }
   ],
   "source": [
    "sorted_df <- fread(\"mixed_ciseqtl_90hcp_perm_purity_filtered.txt.gz\", data.table = F)\n",
    "dim(sorted_df)"
   ]
  },
  {
   "cell_type": "code",
   "execution_count": 3,
   "metadata": {
    "collapsed": false,
    "deletable": true,
    "editable": true,
    "scrolled": true
   },
   "outputs": [
    {
     "data": {
      "text/html": [
       "<table>\n",
       "<caption>A data.frame: 6 × 17</caption>\n",
       "<thead>\n",
       "\t<tr><th></th><th scope=col>phenotype_id</th><th scope=col>variant_id</th><th scope=col>chr</th><th scope=col>pos</th><th scope=col>ref</th><th scope=col>alt</th><th scope=col>cs_id</th><th scope=col>cs_index</th><th scope=col>finemapped_region</th><th scope=col>pip</th><th scope=col>z</th><th scope=col>cs_min_r2</th><th scope=col>cs_avg_r2</th><th scope=col>cs_size</th><th scope=col>posterior_mean</th><th scope=col>posterior_sd</th><th scope=col>cs_log10bf</th></tr>\n",
       "\t<tr><th></th><th scope=col>&lt;chr&gt;</th><th scope=col>&lt;chr&gt;</th><th scope=col>&lt;int&gt;</th><th scope=col>&lt;int&gt;</th><th scope=col>&lt;chr&gt;</th><th scope=col>&lt;chr&gt;</th><th scope=col>&lt;chr&gt;</th><th scope=col>&lt;chr&gt;</th><th scope=col>&lt;chr&gt;</th><th scope=col>&lt;dbl&gt;</th><th scope=col>&lt;dbl&gt;</th><th scope=col>&lt;dbl&gt;</th><th scope=col>&lt;dbl&gt;</th><th scope=col>&lt;int&gt;</th><th scope=col>&lt;dbl&gt;</th><th scope=col>&lt;dbl&gt;</th><th scope=col>&lt;dbl&gt;</th></tr>\n",
       "</thead>\n",
       "<tbody>\n",
       "\t<tr><th scope=row>1</th><td>ENSG00000166024</td><td>chr10_100003785_T_C</td><td>10</td><td>100003785</td><td>T</td><td>C</td><td>ENSG00000166024_L1</td><td>L1</td><td>chr10:98894380-100894380</td><td>0.068322868</td><td>-6.900330</td><td>0.8706241</td><td>0.9776713</td><td>24</td><td>-0.012146753</td><td>0.04585326</td><td>6.840422</td></tr>\n",
       "\t<tr><th scope=row>2</th><td>ENSG00000166024</td><td>chr10_100008436_G_A</td><td>10</td><td>100008436</td><td>G</td><td>A</td><td>ENSG00000166024_L1</td><td>L1</td><td>chr10:98894380-100894380</td><td>0.021124867</td><td>-6.704314</td><td>0.8706241</td><td>0.9776713</td><td>24</td><td>-0.003453998</td><td>0.02464589</td><td>6.840422</td></tr>\n",
       "\t<tr><th scope=row>3</th><td>ENSG00000166024</td><td>chr10_100011970_G_A</td><td>10</td><td>100011970</td><td>G</td><td>A</td><td>ENSG00000166024_L1</td><td>L1</td><td>chr10:98894380-100894380</td><td>0.021124867</td><td>-6.704314</td><td>0.8706241</td><td>0.9776713</td><td>24</td><td>-0.003453998</td><td>0.02464589</td><td>6.840422</td></tr>\n",
       "\t<tr><th scope=row>4</th><td>ENSG00000166024</td><td>chr10_100013244_A_C</td><td>10</td><td>100013244</td><td>A</td><td>C</td><td>ENSG00000166024_L1</td><td>L1</td><td>chr10:98894380-100894380</td><td>0.050424642</td><td>-6.848917</td><td>0.8706241</td><td>0.9776713</td><td>24</td><td>-0.008776639</td><td>0.03908357</td><td>6.840422</td></tr>\n",
       "\t<tr><th scope=row>5</th><td>ENSG00000119943</td><td>chr10_100164441_T_C</td><td>10</td><td>100164441</td><td>T</td><td>C</td><td>ENSG00000119943_L1</td><td>L1</td><td>chr10:99174938-101174938</td><td>0.008835407</td><td> 7.490109</td><td>0.6954467</td><td>0.9374778</td><td>42</td><td> 0.002248738</td><td>0.02611878</td><td>9.666004</td></tr>\n",
       "\t<tr><th scope=row>6</th><td>ENSG00000119943</td><td>chr10_100164442_A_G</td><td>10</td><td>100164442</td><td>A</td><td>G</td><td>ENSG00000119943_L1</td><td>L1</td><td>chr10:99174938-101174938</td><td>0.008835407</td><td> 7.490109</td><td>0.6954467</td><td>0.9374778</td><td>42</td><td> 0.002248738</td><td>0.02611878</td><td>9.666004</td></tr>\n",
       "</tbody>\n",
       "</table>\n"
      ],
      "text/latex": [
       "A data.frame: 6 × 17\n",
       "\\begin{tabular}{r|lllllllllllllllll}\n",
       "  & phenotype\\_id & variant\\_id & chr & pos & ref & alt & cs\\_id & cs\\_index & finemapped\\_region & pip & z & cs\\_min\\_r2 & cs\\_avg\\_r2 & cs\\_size & posterior\\_mean & posterior\\_sd & cs\\_log10bf\\\\\n",
       "  & <chr> & <chr> & <int> & <int> & <chr> & <chr> & <chr> & <chr> & <chr> & <dbl> & <dbl> & <dbl> & <dbl> & <int> & <dbl> & <dbl> & <dbl>\\\\\n",
       "\\hline\n",
       "\t1 & ENSG00000166024 & chr10\\_100003785\\_T\\_C & 10 & 100003785 & T & C & ENSG00000166024\\_L1 & L1 & chr10:98894380-100894380 & 0.068322868 & -6.900330 & 0.8706241 & 0.9776713 & 24 & -0.012146753 & 0.04585326 & 6.840422\\\\\n",
       "\t2 & ENSG00000166024 & chr10\\_100008436\\_G\\_A & 10 & 100008436 & G & A & ENSG00000166024\\_L1 & L1 & chr10:98894380-100894380 & 0.021124867 & -6.704314 & 0.8706241 & 0.9776713 & 24 & -0.003453998 & 0.02464589 & 6.840422\\\\\n",
       "\t3 & ENSG00000166024 & chr10\\_100011970\\_G\\_A & 10 & 100011970 & G & A & ENSG00000166024\\_L1 & L1 & chr10:98894380-100894380 & 0.021124867 & -6.704314 & 0.8706241 & 0.9776713 & 24 & -0.003453998 & 0.02464589 & 6.840422\\\\\n",
       "\t4 & ENSG00000166024 & chr10\\_100013244\\_A\\_C & 10 & 100013244 & A & C & ENSG00000166024\\_L1 & L1 & chr10:98894380-100894380 & 0.050424642 & -6.848917 & 0.8706241 & 0.9776713 & 24 & -0.008776639 & 0.03908357 & 6.840422\\\\\n",
       "\t5 & ENSG00000119943 & chr10\\_100164441\\_T\\_C & 10 & 100164441 & T & C & ENSG00000119943\\_L1 & L1 & chr10:99174938-101174938 & 0.008835407 &  7.490109 & 0.6954467 & 0.9374778 & 42 &  0.002248738 & 0.02611878 & 9.666004\\\\\n",
       "\t6 & ENSG00000119943 & chr10\\_100164442\\_A\\_G & 10 & 100164442 & A & G & ENSG00000119943\\_L1 & L1 & chr10:99174938-101174938 & 0.008835407 &  7.490109 & 0.6954467 & 0.9374778 & 42 &  0.002248738 & 0.02611878 & 9.666004\\\\\n",
       "\\end{tabular}\n"
      ],
      "text/markdown": [
       "\n",
       "A data.frame: 6 × 17\n",
       "\n",
       "| <!--/--> | phenotype_id &lt;chr&gt; | variant_id &lt;chr&gt; | chr &lt;int&gt; | pos &lt;int&gt; | ref &lt;chr&gt; | alt &lt;chr&gt; | cs_id &lt;chr&gt; | cs_index &lt;chr&gt; | finemapped_region &lt;chr&gt; | pip &lt;dbl&gt; | z &lt;dbl&gt; | cs_min_r2 &lt;dbl&gt; | cs_avg_r2 &lt;dbl&gt; | cs_size &lt;int&gt; | posterior_mean &lt;dbl&gt; | posterior_sd &lt;dbl&gt; | cs_log10bf &lt;dbl&gt; |\n",
       "|---|---|---|---|---|---|---|---|---|---|---|---|---|---|---|---|---|---|\n",
       "| 1 | ENSG00000166024 | chr10_100003785_T_C | 10 | 100003785 | T | C | ENSG00000166024_L1 | L1 | chr10:98894380-100894380 | 0.068322868 | -6.900330 | 0.8706241 | 0.9776713 | 24 | -0.012146753 | 0.04585326 | 6.840422 |\n",
       "| 2 | ENSG00000166024 | chr10_100008436_G_A | 10 | 100008436 | G | A | ENSG00000166024_L1 | L1 | chr10:98894380-100894380 | 0.021124867 | -6.704314 | 0.8706241 | 0.9776713 | 24 | -0.003453998 | 0.02464589 | 6.840422 |\n",
       "| 3 | ENSG00000166024 | chr10_100011970_G_A | 10 | 100011970 | G | A | ENSG00000166024_L1 | L1 | chr10:98894380-100894380 | 0.021124867 | -6.704314 | 0.8706241 | 0.9776713 | 24 | -0.003453998 | 0.02464589 | 6.840422 |\n",
       "| 4 | ENSG00000166024 | chr10_100013244_A_C | 10 | 100013244 | A | C | ENSG00000166024_L1 | L1 | chr10:98894380-100894380 | 0.050424642 | -6.848917 | 0.8706241 | 0.9776713 | 24 | -0.008776639 | 0.03908357 | 6.840422 |\n",
       "| 5 | ENSG00000119943 | chr10_100164441_T_C | 10 | 100164441 | T | C | ENSG00000119943_L1 | L1 | chr10:99174938-101174938 | 0.008835407 |  7.490109 | 0.6954467 | 0.9374778 | 42 |  0.002248738 | 0.02611878 | 9.666004 |\n",
       "| 6 | ENSG00000119943 | chr10_100164442_A_G | 10 | 100164442 | A | G | ENSG00000119943_L1 | L1 | chr10:99174938-101174938 | 0.008835407 |  7.490109 | 0.6954467 | 0.9374778 | 42 |  0.002248738 | 0.02611878 | 9.666004 |\n",
       "\n"
      ],
      "text/plain": [
       "  phenotype_id    variant_id          chr pos       ref alt cs_id             \n",
       "1 ENSG00000166024 chr10_100003785_T_C 10  100003785 T   C   ENSG00000166024_L1\n",
       "2 ENSG00000166024 chr10_100008436_G_A 10  100008436 G   A   ENSG00000166024_L1\n",
       "3 ENSG00000166024 chr10_100011970_G_A 10  100011970 G   A   ENSG00000166024_L1\n",
       "4 ENSG00000166024 chr10_100013244_A_C 10  100013244 A   C   ENSG00000166024_L1\n",
       "5 ENSG00000119943 chr10_100164441_T_C 10  100164441 T   C   ENSG00000119943_L1\n",
       "6 ENSG00000119943 chr10_100164442_A_G 10  100164442 A   G   ENSG00000119943_L1\n",
       "  cs_index finemapped_region        pip         z         cs_min_r2 cs_avg_r2\n",
       "1 L1       chr10:98894380-100894380 0.068322868 -6.900330 0.8706241 0.9776713\n",
       "2 L1       chr10:98894380-100894380 0.021124867 -6.704314 0.8706241 0.9776713\n",
       "3 L1       chr10:98894380-100894380 0.021124867 -6.704314 0.8706241 0.9776713\n",
       "4 L1       chr10:98894380-100894380 0.050424642 -6.848917 0.8706241 0.9776713\n",
       "5 L1       chr10:99174938-101174938 0.008835407  7.490109 0.6954467 0.9374778\n",
       "6 L1       chr10:99174938-101174938 0.008835407  7.490109 0.6954467 0.9374778\n",
       "  cs_size posterior_mean posterior_sd cs_log10bf\n",
       "1 24      -0.012146753   0.04585326   6.840422  \n",
       "2 24      -0.003453998   0.02464589   6.840422  \n",
       "3 24      -0.003453998   0.02464589   6.840422  \n",
       "4 24      -0.008776639   0.03908357   6.840422  \n",
       "5 42       0.002248738   0.02611878   9.666004  \n",
       "6 42       0.002248738   0.02611878   9.666004  "
      ]
     },
     "metadata": {},
     "output_type": "display_data"
    }
   ],
   "source": [
    "head(sorted_df)"
   ]
  },
  {
   "cell_type": "markdown",
   "metadata": {
    "deletable": true,
    "editable": true
   },
   "source": [
    "#### How many CS contain exactly one SNP?\n",
    "**Note chr17 many genes with large CS.**"
   ]
  },
  {
   "cell_type": "code",
   "execution_count": 18,
   "metadata": {
    "collapsed": false,
    "deletable": true,
    "editable": true
   },
   "outputs": [
    {
     "data": {
      "text/html": [
       "<style>\n",
       ".list-inline {list-style: none; margin:0; padding: 0}\n",
       ".list-inline>li {display: inline-block}\n",
       ".list-inline>li:not(:last-child)::after {content: \"\\00b7\"; padding: 0 .5ex}\n",
       "</style>\n",
       "<ol class=list-inline><li>10671</li><li>17</li></ol>\n"
      ],
      "text/latex": [
       "\\begin{enumerate*}\n",
       "\\item 10671\n",
       "\\item 17\n",
       "\\end{enumerate*}\n"
      ],
      "text/markdown": [
       "1. 10671\n",
       "2. 17\n",
       "\n",
       "\n"
      ],
      "text/plain": [
       "[1] 10671    17"
      ]
     },
     "metadata": {},
     "output_type": "display_data"
    }
   ],
   "source": [
    "dim(sorted_df[!duplicated(sorted_df$cs_id),])"
   ]
  },
  {
   "cell_type": "code",
   "execution_count": 19,
   "metadata": {
    "collapsed": false,
    "deletable": true,
    "editable": true,
    "scrolled": false
   },
   "outputs": [
    {
     "data": {
      "text/html": [
       "<table>\n",
       "<caption>A data.frame: 6 × 3</caption>\n",
       "<thead>\n",
       "\t<tr><th></th><th scope=col>cs_id</th><th scope=col>cs_size</th><th scope=col>finemapped_region</th></tr>\n",
       "\t<tr><th></th><th scope=col>&lt;chr&gt;</th><th scope=col>&lt;int&gt;</th><th scope=col>&lt;chr&gt;</th></tr>\n",
       "</thead>\n",
       "<tbody>\n",
       "\t<tr><th scope=row>1</th><td>ENSG00000166024_L1</td><td>24</td><td>chr10:98894380-100894380 </td></tr>\n",
       "\t<tr><th scope=row>5</th><td>ENSG00000119943_L1</td><td>42</td><td>chr10:99174938-101174938 </td></tr>\n",
       "\t<tr><th scope=row>47</th><td>ENSG00000205740_L1</td><td> 4</td><td>chr10:34280-2034280      </td></tr>\n",
       "\t<tr><th scope=row>48</th><td>ENSG00000119946_L1</td><td>26</td><td>chr10:100089112-102089112</td></tr>\n",
       "\t<tr><th scope=row>75</th><td>ENSG00000014919_L1</td><td>17</td><td>chr10:100491856-102491856</td></tr>\n",
       "\t<tr><th scope=row>88</th><td>ENSG00000233690_L1</td><td> 4</td><td>chr10:100457705-102457705</td></tr>\n",
       "</tbody>\n",
       "</table>\n"
      ],
      "text/latex": [
       "A data.frame: 6 × 3\n",
       "\\begin{tabular}{r|lll}\n",
       "  & cs\\_id & cs\\_size & finemapped\\_region\\\\\n",
       "  & <chr> & <int> & <chr>\\\\\n",
       "\\hline\n",
       "\t1 & ENSG00000166024\\_L1 & 24 & chr10:98894380-100894380 \\\\\n",
       "\t5 & ENSG00000119943\\_L1 & 42 & chr10:99174938-101174938 \\\\\n",
       "\t47 & ENSG00000205740\\_L1 &  4 & chr10:34280-2034280      \\\\\n",
       "\t48 & ENSG00000119946\\_L1 & 26 & chr10:100089112-102089112\\\\\n",
       "\t75 & ENSG00000014919\\_L1 & 17 & chr10:100491856-102491856\\\\\n",
       "\t88 & ENSG00000233690\\_L1 &  4 & chr10:100457705-102457705\\\\\n",
       "\\end{tabular}\n"
      ],
      "text/markdown": [
       "\n",
       "A data.frame: 6 × 3\n",
       "\n",
       "| <!--/--> | cs_id &lt;chr&gt; | cs_size &lt;int&gt; | finemapped_region &lt;chr&gt; |\n",
       "|---|---|---|---|\n",
       "| 1 | ENSG00000166024_L1 | 24 | chr10:98894380-100894380  |\n",
       "| 5 | ENSG00000119943_L1 | 42 | chr10:99174938-101174938  |\n",
       "| 47 | ENSG00000205740_L1 |  4 | chr10:34280-2034280       |\n",
       "| 48 | ENSG00000119946_L1 | 26 | chr10:100089112-102089112 |\n",
       "| 75 | ENSG00000014919_L1 | 17 | chr10:100491856-102491856 |\n",
       "| 88 | ENSG00000233690_L1 |  4 | chr10:100457705-102457705 |\n",
       "\n"
      ],
      "text/plain": [
       "   cs_id              cs_size finemapped_region        \n",
       "1  ENSG00000166024_L1 24      chr10:98894380-100894380 \n",
       "5  ENSG00000119943_L1 42      chr10:99174938-101174938 \n",
       "47 ENSG00000205740_L1  4      chr10:34280-2034280      \n",
       "48 ENSG00000119946_L1 26      chr10:100089112-102089112\n",
       "75 ENSG00000014919_L1 17      chr10:100491856-102491856\n",
       "88 ENSG00000233690_L1  4      chr10:100457705-102457705"
      ]
     },
     "metadata": {},
     "output_type": "display_data"
    }
   ],
   "source": [
    "cs_id_size <- sorted_df[!duplicated(sorted_df$cs_id),] %>% select(cs_id, cs_size, finemapped_region)\n",
    "head(cs_id_size)"
   ]
  },
  {
   "cell_type": "code",
   "execution_count": 26,
   "metadata": {
    "collapsed": false,
    "deletable": true,
    "editable": true
   },
   "outputs": [
    {
     "data": {
      "text/html": [
       "<table>\n",
       "<caption>A data.frame: 18 × 3</caption>\n",
       "<thead>\n",
       "\t<tr><th scope=col>cs_id</th><th scope=col>cs_size</th><th scope=col>finemapped_region</th></tr>\n",
       "\t<tr><th scope=col>&lt;chr&gt;</th><th scope=col>&lt;int&gt;</th><th scope=col>&lt;chr&gt;</th></tr>\n",
       "</thead>\n",
       "<tbody>\n",
       "\t<tr><td>ENSG00000175395_L2</td><td> 547</td><td>chr10:37265574-39265574</td></tr>\n",
       "\t<tr><td>ENSG00000227540_L1</td><td> 591</td><td>chr10:74012548-76012548</td></tr>\n",
       "\t<tr><td>ENSG00000266918_L3</td><td>1897</td><td>chr17:42608942-44608942</td></tr>\n",
       "\t<tr><td>ENSG00000264589_L1</td><td>1464</td><td>chr17:42973045-44973045</td></tr>\n",
       "\t<tr><td>ENSG00000073969_L2</td><td>1469</td><td>chr17:43668034-45668034</td></tr>\n",
       "\t<tr><td>ENSG00000185829_L4</td><td>1066</td><td>chr17:43657047-45657047</td></tr>\n",
       "\t<tr><td>ENSG00000260075_L2</td><td> 936</td><td>chr17:43450220-45450220</td></tr>\n",
       "\t<tr><td>ENSG00000261575_L1</td><td>1067</td><td>chr17:43344402-45344402</td></tr>\n",
       "\t<tr><td>ENSG00000263715_L1</td><td>1719</td><td>chr17:42697709-44697709</td></tr>\n",
       "\t<tr><td>ENSG00000264070_L1</td><td>1180</td><td>chr17:42663236-44663236</td></tr>\n",
       "\t<tr><td>ENSG00000265411_L1</td><td> 901</td><td>chr17:43397044-45397044</td></tr>\n",
       "\t<tr><td>ENSG00000265821_L1</td><td>1741</td><td>chr17:42604111-44604111</td></tr>\n",
       "\t<tr><td>ENSG00000267198_L2</td><td>1385</td><td>chr17:42623169-44623169</td></tr>\n",
       "\t<tr><td>ENSG00000267246_L1</td><td>1054</td><td>chr17:42636103-44636103</td></tr>\n",
       "\t<tr><td>ENSG00000204650_L1</td><td>1018</td><td>chr17:42697693-44697693</td></tr>\n",
       "\t<tr><td>ENSG00000266504_L1</td><td> 569</td><td>chr17:42636435-44636435</td></tr>\n",
       "\t<tr><td>ENSG00000263142_L1</td><td> 640</td><td>chr17:44055846-46055846</td></tr>\n",
       "\t<tr><td>ENSG00000163116_L1</td><td> 516</td><td>chr4:98064626-100064626</td></tr>\n",
       "</tbody>\n",
       "</table>\n"
      ],
      "text/latex": [
       "A data.frame: 18 × 3\n",
       "\\begin{tabular}{lll}\n",
       " cs\\_id & cs\\_size & finemapped\\_region\\\\\n",
       " <chr> & <int> & <chr>\\\\\n",
       "\\hline\n",
       "\t ENSG00000175395\\_L2 &  547 & chr10:37265574-39265574\\\\\n",
       "\t ENSG00000227540\\_L1 &  591 & chr10:74012548-76012548\\\\\n",
       "\t ENSG00000266918\\_L3 & 1897 & chr17:42608942-44608942\\\\\n",
       "\t ENSG00000264589\\_L1 & 1464 & chr17:42973045-44973045\\\\\n",
       "\t ENSG00000073969\\_L2 & 1469 & chr17:43668034-45668034\\\\\n",
       "\t ENSG00000185829\\_L4 & 1066 & chr17:43657047-45657047\\\\\n",
       "\t ENSG00000260075\\_L2 &  936 & chr17:43450220-45450220\\\\\n",
       "\t ENSG00000261575\\_L1 & 1067 & chr17:43344402-45344402\\\\\n",
       "\t ENSG00000263715\\_L1 & 1719 & chr17:42697709-44697709\\\\\n",
       "\t ENSG00000264070\\_L1 & 1180 & chr17:42663236-44663236\\\\\n",
       "\t ENSG00000265411\\_L1 &  901 & chr17:43397044-45397044\\\\\n",
       "\t ENSG00000265821\\_L1 & 1741 & chr17:42604111-44604111\\\\\n",
       "\t ENSG00000267198\\_L2 & 1385 & chr17:42623169-44623169\\\\\n",
       "\t ENSG00000267246\\_L1 & 1054 & chr17:42636103-44636103\\\\\n",
       "\t ENSG00000204650\\_L1 & 1018 & chr17:42697693-44697693\\\\\n",
       "\t ENSG00000266504\\_L1 &  569 & chr17:42636435-44636435\\\\\n",
       "\t ENSG00000263142\\_L1 &  640 & chr17:44055846-46055846\\\\\n",
       "\t ENSG00000163116\\_L1 &  516 & chr4:98064626-100064626\\\\\n",
       "\\end{tabular}\n"
      ],
      "text/markdown": [
       "\n",
       "A data.frame: 18 × 3\n",
       "\n",
       "| cs_id &lt;chr&gt; | cs_size &lt;int&gt; | finemapped_region &lt;chr&gt; |\n",
       "|---|---|---|\n",
       "| ENSG00000175395_L2 |  547 | chr10:37265574-39265574 |\n",
       "| ENSG00000227540_L1 |  591 | chr10:74012548-76012548 |\n",
       "| ENSG00000266918_L3 | 1897 | chr17:42608942-44608942 |\n",
       "| ENSG00000264589_L1 | 1464 | chr17:42973045-44973045 |\n",
       "| ENSG00000073969_L2 | 1469 | chr17:43668034-45668034 |\n",
       "| ENSG00000185829_L4 | 1066 | chr17:43657047-45657047 |\n",
       "| ENSG00000260075_L2 |  936 | chr17:43450220-45450220 |\n",
       "| ENSG00000261575_L1 | 1067 | chr17:43344402-45344402 |\n",
       "| ENSG00000263715_L1 | 1719 | chr17:42697709-44697709 |\n",
       "| ENSG00000264070_L1 | 1180 | chr17:42663236-44663236 |\n",
       "| ENSG00000265411_L1 |  901 | chr17:43397044-45397044 |\n",
       "| ENSG00000265821_L1 | 1741 | chr17:42604111-44604111 |\n",
       "| ENSG00000267198_L2 | 1385 | chr17:42623169-44623169 |\n",
       "| ENSG00000267246_L1 | 1054 | chr17:42636103-44636103 |\n",
       "| ENSG00000204650_L1 | 1018 | chr17:42697693-44697693 |\n",
       "| ENSG00000266504_L1 |  569 | chr17:42636435-44636435 |\n",
       "| ENSG00000263142_L1 |  640 | chr17:44055846-46055846 |\n",
       "| ENSG00000163116_L1 |  516 | chr4:98064626-100064626 |\n",
       "\n"
      ],
      "text/plain": [
       "   cs_id              cs_size finemapped_region      \n",
       "1  ENSG00000175395_L2  547    chr10:37265574-39265574\n",
       "2  ENSG00000227540_L1  591    chr10:74012548-76012548\n",
       "3  ENSG00000266918_L3 1897    chr17:42608942-44608942\n",
       "4  ENSG00000264589_L1 1464    chr17:42973045-44973045\n",
       "5  ENSG00000073969_L2 1469    chr17:43668034-45668034\n",
       "6  ENSG00000185829_L4 1066    chr17:43657047-45657047\n",
       "7  ENSG00000260075_L2  936    chr17:43450220-45450220\n",
       "8  ENSG00000261575_L1 1067    chr17:43344402-45344402\n",
       "9  ENSG00000263715_L1 1719    chr17:42697709-44697709\n",
       "10 ENSG00000264070_L1 1180    chr17:42663236-44663236\n",
       "11 ENSG00000265411_L1  901    chr17:43397044-45397044\n",
       "12 ENSG00000265821_L1 1741    chr17:42604111-44604111\n",
       "13 ENSG00000267198_L2 1385    chr17:42623169-44623169\n",
       "14 ENSG00000267246_L1 1054    chr17:42636103-44636103\n",
       "15 ENSG00000204650_L1 1018    chr17:42697693-44697693\n",
       "16 ENSG00000266504_L1  569    chr17:42636435-44636435\n",
       "17 ENSG00000263142_L1  640    chr17:44055846-46055846\n",
       "18 ENSG00000163116_L1  516    chr4:98064626-100064626"
      ]
     },
     "metadata": {},
     "output_type": "display_data"
    }
   ],
   "source": [
    "cs_id_size %>% filter(cs_size > 500)"
   ]
  },
  {
   "cell_type": "code",
   "execution_count": 24,
   "metadata": {
    "collapsed": false,
    "deletable": true,
    "editable": true,
    "scrolled": true
   },
   "outputs": [
    {
     "data": {
      "text/html": [
       "2423"
      ],
      "text/latex": [
       "2423"
      ],
      "text/markdown": [
       "2423"
      ],
      "text/plain": [
       "[1] 2423"
      ]
     },
     "metadata": {},
     "output_type": "display_data"
    },
    {
     "data": {
      "text/html": [
       "1291"
      ],
      "text/latex": [
       "1291"
      ],
      "text/markdown": [
       "1291"
      ],
      "text/plain": [
       "[1] 1291"
      ]
     },
     "metadata": {},
     "output_type": "display_data"
    }
   ],
   "source": [
    "sum(cs_id_size$cs_size==1)\n",
    "sum(cs_id_size$cs_size==2)"
   ]
  },
  {
   "cell_type": "code",
   "execution_count": 25,
   "metadata": {
    "collapsed": false,
    "deletable": true,
    "editable": true,
    "scrolled": false
   },
   "outputs": [
    {
     "data": {
      "text/plain": [
       "   Min. 1st Qu.  Median    Mean 3rd Qu.    Max. \n",
       "   1.00    2.00    5.00   15.17   14.00 1897.00 "
      ]
     },
     "metadata": {},
     "output_type": "display_data"
    }
   ],
   "source": [
    "summary(cs_id_size$cs_size)"
   ]
  },
  {
   "cell_type": "code",
   "execution_count": 14,
   "metadata": {
    "collapsed": false,
    "deletable": true,
    "editable": true,
    "scrolled": true
   },
   "outputs": [
    {
     "data": {
      "image/png": "[encoded data removed]",
      "text/plain": [
       "plot without title"
      ]
     },
     "metadata": {
      "image/png": {
       "height": 420,
       "width": 420
      }
     },
     "output_type": "display_data"
    }
   ],
   "source": [
    "plot(cs_id_size$cs_size)"
   ]
  },
  {
   "cell_type": "markdown",
   "metadata": {
    "deletable": true,
    "editable": true
   },
   "source": [
    "#### How many genes have exactly one CS?"
   ]
  },
  {
   "cell_type": "code",
   "execution_count": 3,
   "metadata": {
    "collapsed": false,
    "deletable": true,
    "editable": true,
    "scrolled": false
   },
   "outputs": [
    {
     "data": {
      "text/html": [
       "<table>\n",
       "<caption>A data.frame: 6 × 2</caption>\n",
       "<thead>\n",
       "\t<tr><th></th><th scope=col>gene</th><th scope=col>cs_count</th></tr>\n",
       "\t<tr><th></th><th scope=col>&lt;fct&gt;</th><th scope=col>&lt;int&gt;</th></tr>\n",
       "</thead>\n",
       "<tbody>\n",
       "\t<tr><th scope=row>1</th><td>ENSG00000166024</td><td>1</td></tr>\n",
       "\t<tr><th scope=row>2</th><td>ENSG00000119943</td><td>1</td></tr>\n",
       "\t<tr><th scope=row>3</th><td>ENSG00000205740</td><td>1</td></tr>\n",
       "\t<tr><th scope=row>4</th><td>ENSG00000119946</td><td>1</td></tr>\n",
       "\t<tr><th scope=row>5</th><td>ENSG00000014919</td><td>1</td></tr>\n",
       "\t<tr><th scope=row>6</th><td>ENSG00000233690</td><td>1</td></tr>\n",
       "</tbody>\n",
       "</table>\n"
      ],
      "text/latex": [
       "A data.frame: 6 × 2\n",
       "\\begin{tabular}{r|ll}\n",
       "  & gene & cs\\_count\\\\\n",
       "  & <fct> & <int>\\\\\n",
       "\\hline\n",
       "\t1 & ENSG00000166024 & 1\\\\\n",
       "\t2 & ENSG00000119943 & 1\\\\\n",
       "\t3 & ENSG00000205740 & 1\\\\\n",
       "\t4 & ENSG00000119946 & 1\\\\\n",
       "\t5 & ENSG00000014919 & 1\\\\\n",
       "\t6 & ENSG00000233690 & 1\\\\\n",
       "\\end{tabular}\n"
      ],
      "text/markdown": [
       "\n",
       "A data.frame: 6 × 2\n",
       "\n",
       "| <!--/--> | gene &lt;fct&gt; | cs_count &lt;int&gt; |\n",
       "|---|---|---|\n",
       "| 1 | ENSG00000166024 | 1 |\n",
       "| 2 | ENSG00000119943 | 1 |\n",
       "| 3 | ENSG00000205740 | 1 |\n",
       "| 4 | ENSG00000119946 | 1 |\n",
       "| 5 | ENSG00000014919 | 1 |\n",
       "| 6 | ENSG00000233690 | 1 |\n",
       "\n"
      ],
      "text/plain": [
       "  gene            cs_count\n",
       "1 ENSG00000166024 1       \n",
       "2 ENSG00000119943 1       \n",
       "3 ENSG00000205740 1       \n",
       "4 ENSG00000119946 1       \n",
       "5 ENSG00000014919 1       \n",
       "6 ENSG00000233690 1       "
      ]
     },
     "metadata": {},
     "output_type": "display_data"
    }
   ],
   "source": [
    "genes_with_cs <- unique(sorted_df$phenotype_id)\n",
    "df <- data.frame(\"gene\" = genes_with_cs,\n",
    "                 \"cs_count\" = NA)\n",
    "for(i in 1:nrow(df)) {\n",
    "    df[i,2] <- length(unique(sorted_df[sorted_df$phenotype_id == df[i,1],]$cs_id))\n",
    "}\n",
    "head(df)"
   ]
  },
  {
   "cell_type": "code",
   "execution_count": 4,
   "metadata": {
    "collapsed": false,
    "deletable": true,
    "editable": true,
    "scrolled": true
   },
   "outputs": [
    {
     "data": {
      "text/plain": [
       "   Min. 1st Qu.  Median    Mean 3rd Qu.    Max. \n",
       "  1.000   1.000   1.000   1.394   2.000   8.000 "
      ]
     },
     "metadata": {},
     "output_type": "display_data"
    }
   ],
   "source": [
    "summary(df$cs_count)"
   ]
  },
  {
   "cell_type": "code",
   "execution_count": 6,
   "metadata": {
    "collapsed": false,
    "deletable": true,
    "editable": true,
    "scrolled": true
   },
   "outputs": [
    {
     "data": {
      "text/html": [
       "<style>\n",
       ".list-inline {list-style: none; margin:0; padding: 0}\n",
       ".list-inline>li {display: inline-block}\n",
       ".list-inline>li:not(:last-child)::after {content: \"\\00b7\"; padding: 0 .5ex}\n",
       "</style>\n",
       "<ol class=list-inline><li>7654</li><li>2</li></ol>\n"
      ],
      "text/latex": [
       "\\begin{enumerate*}\n",
       "\\item 7654\n",
       "\\item 2\n",
       "\\end{enumerate*}\n"
      ],
      "text/markdown": [
       "1. 7654\n",
       "2. 2\n",
       "\n",
       "\n"
      ],
      "text/plain": [
       "[1] 7654    2"
      ]
     },
     "metadata": {},
     "output_type": "display_data"
    }
   ],
   "source": [
    "dim(df)"
   ]
  },
  {
   "cell_type": "code",
   "execution_count": 6,
   "metadata": {
    "collapsed": false,
    "deletable": true,
    "editable": true
   },
   "outputs": [
    {
     "data": {
      "text/html": [
       "5515"
      ],
      "text/latex": [
       "5515"
      ],
      "text/markdown": [
       "5515"
      ],
      "text/plain": [
       "[1] 5515"
      ]
     },
     "metadata": {},
     "output_type": "display_data"
    }
   ],
   "source": [
    "sum(df$cs_count == 1)"
   ]
  },
  {
   "cell_type": "code",
   "execution_count": 5,
   "metadata": {
    "collapsed": false,
    "deletable": true,
    "editable": true
   },
   "outputs": [
    {
     "data": {
      "image/png": "[encoded data removed]",
      "text/plain": [
       "plot without title"
      ]
     },
     "metadata": {
      "image/png": {
       "height": 420,
       "width": 420
      }
     },
     "output_type": "display_data"
    }
   ],
   "source": [
    "p <- ggplot(df, aes(x = cs_count)) +\n",
    "  geom_bar(fill = \"steelblue1\") +\n",
    "  scale_x_continuous(breaks = seq(1, 9, by = 1)) +\n",
    "  labs(x = \"Number of CS\", y = \"Gene count\") +\n",
    "  ggtitle(\"SuSiE finemapping\") +\n",
    "  theme_classic() +\n",
    "  theme(axis.text = element_text(size = 16),\n",
    "        axis.title = element_text(size = 18),\n",
    "        plot.title = element_text(size = 18, face = \"bold\", hjust = 0.5))\n",
    "p"
   ]
  },
  {
   "cell_type": "code",
   "execution_count": 6,
   "metadata": {
    "collapsed": true,
    "deletable": true,
    "editable": true
   },
   "outputs": [],
   "source": [
    "ggsave(\"../../figures/susie_num_cs.png\", p, width = 6, height = 6)"
   ]
  },
  {
   "cell_type": "markdown",
   "metadata": {
    "deletable": true,
    "editable": true
   },
   "source": [
    "#### Number of independent signals compared to conditional QTL mapping"
   ]
  },
  {
   "cell_type": "code",
   "execution_count": 7,
   "metadata": {
    "collapsed": false,
    "deletable": true,
    "editable": true,
    "scrolled": false
   },
   "outputs": [],
   "source": [
    "conditional <- fread(\"../mixed_conditional_90hcp/conditional_top_variants.txt\", data.table = F)"
   ]
  },
  {
   "cell_type": "code",
   "execution_count": 8,
   "metadata": {
    "collapsed": false,
    "deletable": true,
    "editable": true,
    "scrolled": true
   },
   "outputs": [],
   "source": [
    "# filter for variant with backward p-value below threshold of this gene\n",
    "conditional <- conditional %>% filter(V20 == 1)\n",
    "# how many ranks of independent QTL each gene has?\n",
    "df_conditional <- data.frame(\"gene\" <- unique(conditional$V1),\n",
    "                 \"num_rank\" <- NA)\n",
    "for (i in 1:nrow(df_conditional)) {\n",
    "  gene <- df_conditional[i,1]\n",
    "  df_conditional[i,2] <- max(conditional[conditional$V1==gene,12]) + 1\n",
    "}\n",
    "names(df_conditional) <-c(\"gene\",\"num_rank\")"
   ]
  },
  {
   "cell_type": "code",
   "execution_count": 9,
   "metadata": {
    "collapsed": false,
    "deletable": true,
    "editable": true
   },
   "outputs": [
    {
     "data": {
      "text/plain": [
       "\n",
       "   1    2    3    4    5    6    7    8   10 \n",
       "7312 2413  815  292   95   35   10    7    1 "
      ]
     },
     "metadata": {},
     "output_type": "display_data"
    }
   ],
   "source": [
    "table(df_conditional$num_rank)"
   ]
  },
  {
   "cell_type": "code",
   "execution_count": 9,
   "metadata": {
    "collapsed": false,
    "deletable": true,
    "editable": true,
    "scrolled": true
   },
   "outputs": [
    {
     "data": {
      "text/html": [
       "<table>\n",
       "<caption>A data.frame: 6 × 3</caption>\n",
       "<thead>\n",
       "\t<tr><th></th><th scope=col>gene</th><th scope=col>cs_count</th><th scope=col>num_rank</th></tr>\n",
       "\t<tr><th></th><th scope=col>&lt;fct&gt;</th><th scope=col>&lt;int&gt;</th><th scope=col>&lt;dbl&gt;</th></tr>\n",
       "</thead>\n",
       "<tbody>\n",
       "\t<tr><th scope=row>1</th><td>ENSG00000166024</td><td>1</td><td>1</td></tr>\n",
       "\t<tr><th scope=row>2</th><td>ENSG00000119943</td><td>1</td><td>1</td></tr>\n",
       "\t<tr><th scope=row>3</th><td>ENSG00000205740</td><td>1</td><td>1</td></tr>\n",
       "\t<tr><th scope=row>4</th><td>ENSG00000119946</td><td>1</td><td>1</td></tr>\n",
       "\t<tr><th scope=row>5</th><td>ENSG00000014919</td><td>1</td><td>1</td></tr>\n",
       "\t<tr><th scope=row>6</th><td>ENSG00000233690</td><td>1</td><td>1</td></tr>\n",
       "</tbody>\n",
       "</table>\n"
      ],
      "text/latex": [
       "A data.frame: 6 × 3\n",
       "\\begin{tabular}{r|lll}\n",
       "  & gene & cs\\_count & num\\_rank\\\\\n",
       "  & <fct> & <int> & <dbl>\\\\\n",
       "\\hline\n",
       "\t1 & ENSG00000166024 & 1 & 1\\\\\n",
       "\t2 & ENSG00000119943 & 1 & 1\\\\\n",
       "\t3 & ENSG00000205740 & 1 & 1\\\\\n",
       "\t4 & ENSG00000119946 & 1 & 1\\\\\n",
       "\t5 & ENSG00000014919 & 1 & 1\\\\\n",
       "\t6 & ENSG00000233690 & 1 & 1\\\\\n",
       "\\end{tabular}\n"
      ],
      "text/markdown": [
       "\n",
       "A data.frame: 6 × 3\n",
       "\n",
       "| <!--/--> | gene &lt;fct&gt; | cs_count &lt;int&gt; | num_rank &lt;dbl&gt; |\n",
       "|---|---|---|---|\n",
       "| 1 | ENSG00000166024 | 1 | 1 |\n",
       "| 2 | ENSG00000119943 | 1 | 1 |\n",
       "| 3 | ENSG00000205740 | 1 | 1 |\n",
       "| 4 | ENSG00000119946 | 1 | 1 |\n",
       "| 5 | ENSG00000014919 | 1 | 1 |\n",
       "| 6 | ENSG00000233690 | 1 | 1 |\n",
       "\n"
      ],
      "text/plain": [
       "  gene            cs_count num_rank\n",
       "1 ENSG00000166024 1        1       \n",
       "2 ENSG00000119943 1        1       \n",
       "3 ENSG00000205740 1        1       \n",
       "4 ENSG00000119946 1        1       \n",
       "5 ENSG00000014919 1        1       \n",
       "6 ENSG00000233690 1        1       "
      ]
     },
     "metadata": {},
     "output_type": "display_data"
    }
   ],
   "source": [
    "# overlapping genes\n",
    "df <- df %>% left_join(df_conditional, by = \"gene\")\n",
    "head(df)"
   ]
  },
  {
   "cell_type": "code",
   "execution_count": 11,
   "metadata": {
    "collapsed": false,
    "deletable": true,
    "editable": true
   },
   "outputs": [
    {
     "data": {
      "text/html": [
       "<style>\n",
       ".list-inline {list-style: none; margin:0; padding: 0}\n",
       ".list-inline>li {display: inline-block}\n",
       ".list-inline>li:not(:last-child)::after {content: \"\\00b7\"; padding: 0 .5ex}\n",
       "</style>\n",
       "<ol class=list-inline><li>7654</li><li>3</li></ol>\n"
      ],
      "text/latex": [
       "\\begin{enumerate*}\n",
       "\\item 7654\n",
       "\\item 3\n",
       "\\end{enumerate*}\n"
      ],
      "text/markdown": [
       "1. 7654\n",
       "2. 3\n",
       "\n",
       "\n"
      ],
      "text/plain": [
       "[1] 7654    3"
      ]
     },
     "metadata": {},
     "output_type": "display_data"
    }
   ],
   "source": [
    "dim(df)"
   ]
  },
  {
   "cell_type": "code",
   "execution_count": 11,
   "metadata": {
    "collapsed": false,
    "deletable": true,
    "editable": true,
    "scrolled": true
   },
   "outputs": [
    {
     "data": {
      "text/html": [
       "7491"
      ],
      "text/latex": [
       "7491"
      ],
      "text/markdown": [
       "7491"
      ],
      "text/plain": [
       "[1] 7491"
      ]
     },
     "metadata": {},
     "output_type": "display_data"
    }
   ],
   "source": [
    "sum(complete.cases(df))"
   ]
  },
  {
   "cell_type": "code",
   "execution_count": 10,
   "metadata": {
    "collapsed": false,
    "deletable": true,
    "editable": true
   },
   "outputs": [],
   "source": [
    "df <- df[complete.cases(df),]"
   ]
  },
  {
   "cell_type": "code",
   "execution_count": 21,
   "metadata": {
    "collapsed": false,
    "deletable": true,
    "editable": true,
    "scrolled": false
   },
   "outputs": [
    {
     "data": {
      "image/png": "[encoded data removed]",
      "text/plain": [
       "plot without title"
      ]
     },
     "metadata": {
      "image/png": {
       "height": 420,
       "width": 420
      }
     },
     "output_type": "display_data"
    }
   ],
   "source": [
    "p <- ggplot(df, aes(x = cs_count, y = num_rank)) +\n",
    "  geom_count(color = \"steelblue1\") +\n",
    "#   geom_count(aes(color = ..n..), size=5) +\n",
    "  scale_size(range = c(1, 15), \"Gene count\") + \n",
    "#   geom_hex() +\n",
    "  labs(x = \"Number of SuSiE CS\", y = \"Number of conditionally\\nindependent cis-eQTL groups\") +\n",
    "  ggtitle(\"7491 genes in common\") +\n",
    "  theme_classic() +\n",
    "  theme(axis.text = element_text(size = 16),\n",
    "        axis.title = element_text(size = 18),\n",
    "        plot.title = element_text(size = 18, face = \"bold\", hjust = 0.5)) +\n",
    "  scale_x_continuous(breaks = seq(1,8,by=1)) +\n",
    "  scale_y_continuous(breaks = seq(1,10,by=1)) \n",
    "p"
   ]
  },
  {
   "cell_type": "code",
   "execution_count": 22,
   "metadata": {
    "collapsed": true,
    "deletable": true,
    "editable": true
   },
   "outputs": [],
   "source": [
    "ggsave(\"../../figures/susie_conditional.png\", p, width=6, height=6)"
   ]
  },
  {
   "cell_type": "code",
   "execution_count": 20,
   "metadata": {
    "collapsed": false
   },
   "outputs": [
    {
     "data": {
      "text/html": [
       "0.660780812510582"
      ],
      "text/latex": [
       "0.660780812510582"
      ],
      "text/markdown": [
       "0.660780812510582"
      ],
      "text/plain": [
       "[1] 0.6607808"
      ]
     },
     "metadata": {},
     "output_type": "display_data"
    },
    {
     "data": {
      "text/html": [
       "0.724130655568041"
      ],
      "text/latex": [
       "0.724130655568041"
      ],
      "text/markdown": [
       "0.724130655568041"
      ],
      "text/plain": [
       "[1] 0.7241307"
      ]
     },
     "metadata": {},
     "output_type": "display_data"
    }
   ],
   "source": [
    "cor(df$cs_count, df$num_rank, method = 'spearman')\n",
    "cor(df$cs_count, df$num_rank, method = 'pearson')"
   ]
  },
  {
   "cell_type": "markdown",
   "metadata": {
    "deletable": true,
    "editable": true
   },
   "source": [
    "#### sum of PIP in CS"
   ]
  },
  {
   "cell_type": "code",
   "execution_count": 30,
   "metadata": {
    "collapsed": false,
    "deletable": true,
    "editable": true,
    "scrolled": true
   },
   "outputs": [
    {
     "name": "stderr",
     "output_type": "stream",
     "text": [
      "`summarise()` ungrouping output (override with `.groups` argument)\n",
      "\n"
     ]
    },
    {
     "data": {
      "text/plain": [
       "    cs_id              sum_pip      \n",
       " Length:10671       Min.   :0.9500  \n",
       " Class :character   1st Qu.:0.9651  \n",
       " Mode  :character   Median :0.9791  \n",
       "                    Mean   :0.9820  \n",
       "                    3rd Qu.:0.9984  \n",
       "                    Max.   :1.5440  "
      ]
     },
     "metadata": {},
     "output_type": "display_data"
    }
   ],
   "source": [
    "cs_sum_pip <- sorted_df %>% group_by(cs_id) %>% summarise(sum_pip = sum(pip))\n",
    "summary(cs_sum_pip)"
   ]
  },
  {
   "cell_type": "markdown",
   "metadata": {
    "deletable": true,
    "editable": true
   },
   "source": [
    "### 2. all credible sets (not filtered for purity)"
   ]
  },
  {
   "cell_type": "code",
   "execution_count": 14,
   "metadata": {
    "collapsed": false,
    "deletable": true,
    "editable": true
   },
   "outputs": [
    {
     "data": {
      "text/html": [
       "<style>\n",
       ".list-inline {list-style: none; margin:0; padding: 0}\n",
       ".list-inline>li {display: inline-block}\n",
       ".list-inline>li:not(:last-child)::after {content: \"\\00b7\"; padding: 0 .5ex}\n",
       "</style>\n",
       "<ol class=list-inline><li>15153</li><li>9</li></ol>\n"
      ],
      "text/latex": [
       "\\begin{enumerate*}\n",
       "\\item 15153\n",
       "\\item 9\n",
       "\\end{enumerate*}\n"
      ],
      "text/markdown": [
       "1. 15153\n",
       "2. 9\n",
       "\n",
       "\n"
      ],
      "text/plain": [
       "[1] 15153     9"
      ]
     },
     "metadata": {},
     "output_type": "display_data"
    }
   ],
   "source": [
    "cs <- fread(\"mixed_ciseqtl_90hcp_perm.cred.txt.gz\", data.table = F)\n",
    "dim(cs)"
   ]
  },
  {
   "cell_type": "code",
   "execution_count": 15,
   "metadata": {
    "collapsed": false,
    "deletable": true,
    "editable": true,
    "scrolled": true
   },
   "outputs": [
    {
     "data": {
      "text/html": [
       "<table>\n",
       "<caption>A data.frame: 6 × 9</caption>\n",
       "<thead>\n",
       "\t<tr><th></th><th scope=col>phenotype_id</th><th scope=col>cs_id</th><th scope=col>cs_index</th><th scope=col>finemapped_region</th><th scope=col>cs_log10bf</th><th scope=col>cs_avg_r2</th><th scope=col>cs_min_r2</th><th scope=col>cs_size</th><th scope=col>low_purity</th></tr>\n",
       "\t<tr><th></th><th scope=col>&lt;chr&gt;</th><th scope=col>&lt;chr&gt;</th><th scope=col>&lt;chr&gt;</th><th scope=col>&lt;chr&gt;</th><th scope=col>&lt;dbl&gt;</th><th scope=col>&lt;dbl&gt;</th><th scope=col>&lt;dbl&gt;</th><th scope=col>&lt;int&gt;</th><th scope=col>&lt;lgl&gt;</th></tr>\n",
       "</thead>\n",
       "<tbody>\n",
       "\t<tr><th scope=row>1</th><td>ENSG00000273079</td><td>ENSG00000273079_L1</td><td>L1</td><td>chr12:13134890-15134890</td><td> 2.141959084</td><td>1.000000000</td><td>1.000000e+00</td><td>   1</td><td>FALSE</td></tr>\n",
       "\t<tr><th scope=row>2</th><td>ENSG00000256751</td><td>ENSG00000256751_L1</td><td>L1</td><td>chr12:13720326-15720326</td><td>17.034654510</td><td>0.960079401</td><td>9.209719e-01</td><td>   2</td><td>FALSE</td></tr>\n",
       "\t<tr><th scope=row>3</th><td>ENSG00000182993</td><td>ENSG00000182993_L1</td><td>L1</td><td>chr12:13956599-15956599</td><td>32.321039529</td><td>1.000000000</td><td>1.000000e+00</td><td>   1</td><td>FALSE</td></tr>\n",
       "\t<tr><th scope=row>4</th><td>ENSG00000182993</td><td>ENSG00000182993_L3</td><td>L3</td><td>chr12:13956599-15956599</td><td> 0.003084303</td><td>0.004807284</td><td>2.735455e-09</td><td>5552</td><td> TRUE</td></tr>\n",
       "\t<tr><th scope=row>5</th><td>ENSG00000286107</td><td>ENSG00000286107_L1</td><td>L1</td><td>chr12:13958041-15958041</td><td> 6.369879867</td><td>0.773075121</td><td>5.753129e-01</td><td>   2</td><td>FALSE</td></tr>\n",
       "\t<tr><th scope=row>6</th><td>ENSG00000256650</td><td>ENSG00000256650_L1</td><td>L1</td><td>chr12:14267631-16267631</td><td> 1.507194318</td><td>0.819963722</td><td>5.982717e-01</td><td>   4</td><td>FALSE</td></tr>\n",
       "</tbody>\n",
       "</table>\n"
      ],
      "text/latex": [
       "A data.frame: 6 × 9\n",
       "\\begin{tabular}{r|lllllllll}\n",
       "  & phenotype\\_id & cs\\_id & cs\\_index & finemapped\\_region & cs\\_log10bf & cs\\_avg\\_r2 & cs\\_min\\_r2 & cs\\_size & low\\_purity\\\\\n",
       "  & <chr> & <chr> & <chr> & <chr> & <dbl> & <dbl> & <dbl> & <int> & <lgl>\\\\\n",
       "\\hline\n",
       "\t1 & ENSG00000273079 & ENSG00000273079\\_L1 & L1 & chr12:13134890-15134890 &  2.141959084 & 1.000000000 & 1.000000e+00 &    1 & FALSE\\\\\n",
       "\t2 & ENSG00000256751 & ENSG00000256751\\_L1 & L1 & chr12:13720326-15720326 & 17.034654510 & 0.960079401 & 9.209719e-01 &    2 & FALSE\\\\\n",
       "\t3 & ENSG00000182993 & ENSG00000182993\\_L1 & L1 & chr12:13956599-15956599 & 32.321039529 & 1.000000000 & 1.000000e+00 &    1 & FALSE\\\\\n",
       "\t4 & ENSG00000182993 & ENSG00000182993\\_L3 & L3 & chr12:13956599-15956599 &  0.003084303 & 0.004807284 & 2.735455e-09 & 5552 &  TRUE\\\\\n",
       "\t5 & ENSG00000286107 & ENSG00000286107\\_L1 & L1 & chr12:13958041-15958041 &  6.369879867 & 0.773075121 & 5.753129e-01 &    2 & FALSE\\\\\n",
       "\t6 & ENSG00000256650 & ENSG00000256650\\_L1 & L1 & chr12:14267631-16267631 &  1.507194318 & 0.819963722 & 5.982717e-01 &    4 & FALSE\\\\\n",
       "\\end{tabular}\n"
      ],
      "text/markdown": [
       "\n",
       "A data.frame: 6 × 9\n",
       "\n",
       "| <!--/--> | phenotype_id &lt;chr&gt; | cs_id &lt;chr&gt; | cs_index &lt;chr&gt; | finemapped_region &lt;chr&gt; | cs_log10bf &lt;dbl&gt; | cs_avg_r2 &lt;dbl&gt; | cs_min_r2 &lt;dbl&gt; | cs_size &lt;int&gt; | low_purity &lt;lgl&gt; |\n",
       "|---|---|---|---|---|---|---|---|---|---|\n",
       "| 1 | ENSG00000273079 | ENSG00000273079_L1 | L1 | chr12:13134890-15134890 |  2.141959084 | 1.000000000 | 1.000000e+00 |    1 | FALSE |\n",
       "| 2 | ENSG00000256751 | ENSG00000256751_L1 | L1 | chr12:13720326-15720326 | 17.034654510 | 0.960079401 | 9.209719e-01 |    2 | FALSE |\n",
       "| 3 | ENSG00000182993 | ENSG00000182993_L1 | L1 | chr12:13956599-15956599 | 32.321039529 | 1.000000000 | 1.000000e+00 |    1 | FALSE |\n",
       "| 4 | ENSG00000182993 | ENSG00000182993_L3 | L3 | chr12:13956599-15956599 |  0.003084303 | 0.004807284 | 2.735455e-09 | 5552 |  TRUE |\n",
       "| 5 | ENSG00000286107 | ENSG00000286107_L1 | L1 | chr12:13958041-15958041 |  6.369879867 | 0.773075121 | 5.753129e-01 |    2 | FALSE |\n",
       "| 6 | ENSG00000256650 | ENSG00000256650_L1 | L1 | chr12:14267631-16267631 |  1.507194318 | 0.819963722 | 5.982717e-01 |    4 | FALSE |\n",
       "\n"
      ],
      "text/plain": [
       "  phenotype_id    cs_id              cs_index finemapped_region      \n",
       "1 ENSG00000273079 ENSG00000273079_L1 L1       chr12:13134890-15134890\n",
       "2 ENSG00000256751 ENSG00000256751_L1 L1       chr12:13720326-15720326\n",
       "3 ENSG00000182993 ENSG00000182993_L1 L1       chr12:13956599-15956599\n",
       "4 ENSG00000182993 ENSG00000182993_L3 L3       chr12:13956599-15956599\n",
       "5 ENSG00000286107 ENSG00000286107_L1 L1       chr12:13958041-15958041\n",
       "6 ENSG00000256650 ENSG00000256650_L1 L1       chr12:14267631-16267631\n",
       "  cs_log10bf   cs_avg_r2   cs_min_r2    cs_size low_purity\n",
       "1  2.141959084 1.000000000 1.000000e+00    1    FALSE     \n",
       "2 17.034654510 0.960079401 9.209719e-01    2    FALSE     \n",
       "3 32.321039529 1.000000000 1.000000e+00    1    FALSE     \n",
       "4  0.003084303 0.004807284 2.735455e-09 5552     TRUE     \n",
       "5  6.369879867 0.773075121 5.753129e-01    2    FALSE     \n",
       "6  1.507194318 0.819963722 5.982717e-01    4    FALSE     "
      ]
     },
     "metadata": {},
     "output_type": "display_data"
    }
   ],
   "source": [
    "head(cs)"
   ]
  },
  {
   "cell_type": "code",
   "execution_count": 16,
   "metadata": {
    "collapsed": false,
    "deletable": true,
    "editable": true,
    "scrolled": false
   },
   "outputs": [
    {
     "data": {
      "text/html": [
       "10093"
      ],
      "text/latex": [
       "10093"
      ],
      "text/markdown": [
       "10093"
      ],
      "text/plain": [
       "[1] 10093"
      ]
     },
     "metadata": {},
     "output_type": "display_data"
    }
   ],
   "source": [
    "length(unique(cs$phenotype_id))"
   ]
  },
  {
   "cell_type": "code",
   "execution_count": 17,
   "metadata": {
    "collapsed": false,
    "deletable": true,
    "editable": true,
    "scrolled": true
   },
   "outputs": [
    {
     "data": {
      "text/plain": [
       "\n",
       "FALSE  TRUE \n",
       "10671  4482 "
      ]
     },
     "metadata": {},
     "output_type": "display_data"
    }
   ],
   "source": [
    "table(cs$low_purity)"
   ]
  },
  {
   "cell_type": "code",
   "execution_count": 35,
   "metadata": {
    "collapsed": false,
    "deletable": true,
    "editable": true,
    "scrolled": true
   },
   "outputs": [
    {
     "data": {
      "text/html": [
       "<table>\n",
       "<caption>A data.frame: 6 × 9</caption>\n",
       "<thead>\n",
       "\t<tr><th></th><th scope=col>phenotype_id</th><th scope=col>cs_id</th><th scope=col>cs_index</th><th scope=col>finemapped_region</th><th scope=col>cs_log10bf</th><th scope=col>cs_avg_r2</th><th scope=col>cs_min_r2</th><th scope=col>cs_size</th><th scope=col>low_purity</th></tr>\n",
       "\t<tr><th></th><th scope=col>&lt;chr&gt;</th><th scope=col>&lt;chr&gt;</th><th scope=col>&lt;chr&gt;</th><th scope=col>&lt;chr&gt;</th><th scope=col>&lt;dbl&gt;</th><th scope=col>&lt;dbl&gt;</th><th scope=col>&lt;dbl&gt;</th><th scope=col>&lt;int&gt;</th><th scope=col>&lt;lgl&gt;</th></tr>\n",
       "</thead>\n",
       "<tbody>\n",
       "\t<tr><th scope=row>1</th><td>ENSG00000111261</td><td>ENSG00000111261_L1</td><td>L1</td><td>chr12:11503175-13503175</td><td>4.07944167</td><td>0.726510897</td><td>1.744063e-01</td><td>  11</td><td>TRUE</td></tr>\n",
       "\t<tr><th scope=row>2</th><td>ENSG00000255670</td><td>ENSG00000255670_L2</td><td>L2</td><td>chr12:11638286-13638286</td><td>0.45976964</td><td>0.003582169</td><td>4.231532e-10</td><td>2859</td><td>TRUE</td></tr>\n",
       "\t<tr><th scope=row>3</th><td>ENSG00000111269</td><td>ENSG00000111269_L1</td><td>L1</td><td>chr12:11764760-13764760</td><td>2.16559198</td><td>0.568307145</td><td>9.618169e-02</td><td>  25</td><td>TRUE</td></tr>\n",
       "\t<tr><th scope=row>4</th><td>ENSG00000275963</td><td>ENSG00000275963_L5</td><td>L5</td><td>chr12:11801872-13801872</td><td>0.05347751</td><td>0.003353675</td><td>1.313858e-09</td><td>5537</td><td>TRUE</td></tr>\n",
       "\t<tr><th scope=row>5</th><td>ENSG00000183150</td><td>ENSG00000183150_L7</td><td>L7</td><td>chr12:11849140-13849140</td><td>0.01117094</td><td>0.003360231</td><td>1.960944e-10</td><td>5668</td><td>TRUE</td></tr>\n",
       "\t<tr><th scope=row>6</th><td>ENSG00000178878</td><td>ENSG00000178878_L2</td><td>L2</td><td>chr12:11878850-13878850</td><td>1.01661800</td><td>0.034086444</td><td>1.156653e-06</td><td>  30</td><td>TRUE</td></tr>\n",
       "</tbody>\n",
       "</table>\n"
      ],
      "text/latex": [
       "A data.frame: 6 × 9\n",
       "\\begin{tabular}{r|lllllllll}\n",
       "  & phenotype\\_id & cs\\_id & cs\\_index & finemapped\\_region & cs\\_log10bf & cs\\_avg\\_r2 & cs\\_min\\_r2 & cs\\_size & low\\_purity\\\\\n",
       "  & <chr> & <chr> & <chr> & <chr> & <dbl> & <dbl> & <dbl> & <int> & <lgl>\\\\\n",
       "\\hline\n",
       "\t1 & ENSG00000111261 & ENSG00000111261\\_L1 & L1 & chr12:11503175-13503175 & 4.07944167 & 0.726510897 & 1.744063e-01 &   11 & TRUE\\\\\n",
       "\t2 & ENSG00000255670 & ENSG00000255670\\_L2 & L2 & chr12:11638286-13638286 & 0.45976964 & 0.003582169 & 4.231532e-10 & 2859 & TRUE\\\\\n",
       "\t3 & ENSG00000111269 & ENSG00000111269\\_L1 & L1 & chr12:11764760-13764760 & 2.16559198 & 0.568307145 & 9.618169e-02 &   25 & TRUE\\\\\n",
       "\t4 & ENSG00000275963 & ENSG00000275963\\_L5 & L5 & chr12:11801872-13801872 & 0.05347751 & 0.003353675 & 1.313858e-09 & 5537 & TRUE\\\\\n",
       "\t5 & ENSG00000183150 & ENSG00000183150\\_L7 & L7 & chr12:11849140-13849140 & 0.01117094 & 0.003360231 & 1.960944e-10 & 5668 & TRUE\\\\\n",
       "\t6 & ENSG00000178878 & ENSG00000178878\\_L2 & L2 & chr12:11878850-13878850 & 1.01661800 & 0.034086444 & 1.156653e-06 &   30 & TRUE\\\\\n",
       "\\end{tabular}\n"
      ],
      "text/markdown": [
       "\n",
       "A data.frame: 6 × 9\n",
       "\n",
       "| <!--/--> | phenotype_id &lt;chr&gt; | cs_id &lt;chr&gt; | cs_index &lt;chr&gt; | finemapped_region &lt;chr&gt; | cs_log10bf &lt;dbl&gt; | cs_avg_r2 &lt;dbl&gt; | cs_min_r2 &lt;dbl&gt; | cs_size &lt;int&gt; | low_purity &lt;lgl&gt; |\n",
       "|---|---|---|---|---|---|---|---|---|---|\n",
       "| 1 | ENSG00000111261 | ENSG00000111261_L1 | L1 | chr12:11503175-13503175 | 4.07944167 | 0.726510897 | 1.744063e-01 |   11 | TRUE |\n",
       "| 2 | ENSG00000255670 | ENSG00000255670_L2 | L2 | chr12:11638286-13638286 | 0.45976964 | 0.003582169 | 4.231532e-10 | 2859 | TRUE |\n",
       "| 3 | ENSG00000111269 | ENSG00000111269_L1 | L1 | chr12:11764760-13764760 | 2.16559198 | 0.568307145 | 9.618169e-02 |   25 | TRUE |\n",
       "| 4 | ENSG00000275963 | ENSG00000275963_L5 | L5 | chr12:11801872-13801872 | 0.05347751 | 0.003353675 | 1.313858e-09 | 5537 | TRUE |\n",
       "| 5 | ENSG00000183150 | ENSG00000183150_L7 | L7 | chr12:11849140-13849140 | 0.01117094 | 0.003360231 | 1.960944e-10 | 5668 | TRUE |\n",
       "| 6 | ENSG00000178878 | ENSG00000178878_L2 | L2 | chr12:11878850-13878850 | 1.01661800 | 0.034086444 | 1.156653e-06 |   30 | TRUE |\n",
       "\n"
      ],
      "text/plain": [
       "  phenotype_id    cs_id              cs_index finemapped_region      \n",
       "1 ENSG00000111261 ENSG00000111261_L1 L1       chr12:11503175-13503175\n",
       "2 ENSG00000255670 ENSG00000255670_L2 L2       chr12:11638286-13638286\n",
       "3 ENSG00000111269 ENSG00000111269_L1 L1       chr12:11764760-13764760\n",
       "4 ENSG00000275963 ENSG00000275963_L5 L5       chr12:11801872-13801872\n",
       "5 ENSG00000183150 ENSG00000183150_L7 L7       chr12:11849140-13849140\n",
       "6 ENSG00000178878 ENSG00000178878_L2 L2       chr12:11878850-13878850\n",
       "  cs_log10bf cs_avg_r2   cs_min_r2    cs_size low_purity\n",
       "1 4.07944167 0.726510897 1.744063e-01   11    TRUE      \n",
       "2 0.45976964 0.003582169 4.231532e-10 2859    TRUE      \n",
       "3 2.16559198 0.568307145 9.618169e-02   25    TRUE      \n",
       "4 0.05347751 0.003353675 1.313858e-09 5537    TRUE      \n",
       "5 0.01117094 0.003360231 1.960944e-10 5668    TRUE      \n",
       "6 1.01661800 0.034086444 1.156653e-06   30    TRUE      "
      ]
     },
     "metadata": {},
     "output_type": "display_data"
    }
   ],
   "source": [
    "head(cs %>% filter(low_purity))"
   ]
  },
  {
   "cell_type": "markdown",
   "metadata": {
    "deletable": true,
    "editable": true
   },
   "source": [
    "**See code for low purity definition:**\n",
    "```{r}\n",
    "dplyr::mutate(\n",
    "        cs_avg_r2 = mean.abs.corr^2,\n",
    "        cs_min_r2 = min.abs.corr^2,\n",
    "        low_purity = min.abs.corr < 0.5\n",
    "      )\n",
    "```"
   ]
  },
  {
   "cell_type": "code",
   "execution_count": 36,
   "metadata": {
    "collapsed": false,
    "deletable": true,
    "editable": true
   },
   "outputs": [
    {
     "data": {
      "text/html": [
       "0.24988465703333"
      ],
      "text/latex": [
       "0.24988465703333"
      ],
      "text/markdown": [
       "0.24988465703333"
      ],
      "text/plain": [
       "[1] 0.2498847"
      ]
     },
     "metadata": {},
     "output_type": "display_data"
    }
   ],
   "source": [
    "max(cs %>% filter(low_purity) %>% select(cs_min_r2))"
   ]
  },
  {
   "cell_type": "code",
   "execution_count": 37,
   "metadata": {
    "collapsed": false,
    "deletable": true,
    "editable": true
   },
   "outputs": [
    {
     "data": {
      "text/html": [
       "0.250096834827747"
      ],
      "text/latex": [
       "0.250096834827747"
      ],
      "text/markdown": [
       "0.250096834827747"
      ],
      "text/plain": [
       "[1] 0.2500968"
      ]
     },
     "metadata": {},
     "output_type": "display_data"
    }
   ],
   "source": [
    "min(cs %>% filter(!low_purity) %>% select(cs_min_r2))"
   ]
  },
  {
   "cell_type": "markdown",
   "metadata": {
    "deletable": true,
    "editable": true
   },
   "source": [
    "### 3. all tested variants (very big file)"
   ]
  }
 ],
 "metadata": {
  "kernelspec": {
   "display_name": "R 3.6.1",
   "language": "R",
   "name": "ir361"
  },
  "language_info": {
   "codemirror_mode": "r",
   "file_extension": ".r",
   "mimetype": "text/x-r-source",
   "name": "R",
   "pygments_lexer": "r",
   "version": "3.6.1"
  }
 },
 "nbformat": 4,
 "nbformat_minor": 2
}
