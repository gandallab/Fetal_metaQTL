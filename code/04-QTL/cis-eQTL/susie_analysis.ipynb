{
 "cells": [
  {
   "cell_type": "markdown",
   "metadata": {
    "deletable": true,
    "editable": true
   },
   "source": [
    "# Susie finemapping analysis"
   ]
  },
  {
   "cell_type": "code",
   "execution_count": 1,
   "metadata": {
    "collapsed": true,
    "deletable": true,
    "editable": true
   },
   "outputs": [],
   "source": [
    "setwd(\"~/project-gandalm/isoform_twas/eqtl_new/results/susie_finemap\")\n",
    "suppressMessages(library(data.table))\n",
    "suppressMessages(library(dplyr))\n",
    "suppressMessages(library(ggplot2))"
   ]
  },
  {
   "cell_type": "markdown",
   "metadata": {
    "deletable": true,
    "editable": true
   },
   "source": [
    "## Results summary\n",
    "- We started with 10203 (to be updated) eGenes identified by FastQTL permutation pass for mixed ancestries with 90 HCP in covariates\n",
    "- After filtering for CS purity: \n",
    "    - 7626 genes have non-low purity CS\n",
    "    - 10647 unique CS\n",
    "    - 122,203 unique variants in CS\n",
    "- Of the 10647 CS:\n",
    "    - 2420 contain exactly one SNP (strong candidates for causal variants)\n",
    "    - 1288 contain exactly two SNPs\n",
    "    - median size 5\n",
    "- Of the 7626 genes:\n",
    "    - 5486 have exactly one CS"
   ]
  },
  {
   "cell_type": "markdown",
   "metadata": {
    "deletable": true,
    "editable": true
   },
   "source": [
    "### 1. all variants that belong to a non-low purity credible set"
   ]
  },
  {
   "cell_type": "code",
   "execution_count": 2,
   "metadata": {
    "collapsed": false,
    "deletable": true,
    "editable": true
   },
   "outputs": [
    {
     "data": {
      "text/html": [
       "<style>\n",
       ".list-inline {list-style: none; margin:0; padding: 0}\n",
       ".list-inline>li {display: inline-block}\n",
       ".list-inline>li:not(:last-child)::after {content: \"\\00b7\"; padding: 0 .5ex}\n",
       "</style>\n",
       "<ol class=list-inline><li>167292</li><li>17</li></ol>\n"
      ],
      "text/latex": [
       "\\begin{enumerate*}\n",
       "\\item 167292\n",
       "\\item 17\n",
       "\\end{enumerate*}\n"
      ],
      "text/markdown": [
       "1. 167292\n",
       "2. 17\n",
       "\n",
       "\n"
      ],
      "text/plain": [
       "[1] 167292     17"
      ]
     },
     "metadata": {},
     "output_type": "display_data"
    }
   ],
   "source": [
    "var_in_cs <- fread(\"mixed_ciseqtl_90hcp_perm.txt.gz\", data.table = F)\n",
    "dim(var_in_cs)"
   ]
  },
  {
   "cell_type": "code",
   "execution_count": 4,
   "metadata": {
    "collapsed": false,
    "deletable": true,
    "editable": true
   },
   "outputs": [
    {
     "data": {
      "text/html": [
       "<table>\n",
       "<caption>A data.frame: 6 × 17</caption>\n",
       "<thead>\n",
       "\t<tr><th></th><th scope=col>phenotype_id</th><th scope=col>variant_id</th><th scope=col>chr</th><th scope=col>pos</th><th scope=col>ref</th><th scope=col>alt</th><th scope=col>cs_id</th><th scope=col>cs_index</th><th scope=col>finemapped_region</th><th scope=col>pip</th><th scope=col>z</th><th scope=col>cs_min_r2</th><th scope=col>cs_avg_r2</th><th scope=col>cs_size</th><th scope=col>posterior_mean</th><th scope=col>posterior_sd</th><th scope=col>cs_log10bf</th></tr>\n",
       "\t<tr><th></th><th scope=col>&lt;chr&gt;</th><th scope=col>&lt;chr&gt;</th><th scope=col>&lt;int&gt;</th><th scope=col>&lt;int&gt;</th><th scope=col>&lt;chr&gt;</th><th scope=col>&lt;chr&gt;</th><th scope=col>&lt;chr&gt;</th><th scope=col>&lt;chr&gt;</th><th scope=col>&lt;chr&gt;</th><th scope=col>&lt;dbl&gt;</th><th scope=col>&lt;dbl&gt;</th><th scope=col>&lt;dbl&gt;</th><th scope=col>&lt;dbl&gt;</th><th scope=col>&lt;int&gt;</th><th scope=col>&lt;dbl&gt;</th><th scope=col>&lt;dbl&gt;</th><th scope=col>&lt;dbl&gt;</th></tr>\n",
       "</thead>\n",
       "<tbody>\n",
       "\t<tr><th scope=row>1</th><td>ENSG00000270863</td><td>chr12_11147188_G_A </td><td>12</td><td>11147188</td><td>G </td><td>A</td><td>ENSG00000270863_L2</td><td>L2</td><td>chr12:10665656-12665656</td><td>0.073696934</td><td>4.045431</td><td>0.4323245</td><td>0.7465146</td><td>12</td><td>0.023103775</td><td>0.08372073</td><td> 4.263458</td></tr>\n",
       "\t<tr><th scope=row>2</th><td>ENSG00000270863</td><td>chr12_11155747_A_G </td><td>12</td><td>11155747</td><td>A </td><td>G</td><td>ENSG00000270863_L2</td><td>L2</td><td>chr12:10665656-12665656</td><td>0.017965122</td><td>3.923467</td><td>0.4323245</td><td>0.7465146</td><td>12</td><td>0.005269309</td><td>0.04067465</td><td> 4.263458</td></tr>\n",
       "\t<tr><th scope=row>3</th><td>ENSG00000270863</td><td>chr12_11193997_C_T </td><td>12</td><td>11193997</td><td>C </td><td>T</td><td>ENSG00000270863_L1</td><td>L1</td><td>chr12:10665656-12665656</td><td>0.012224371</td><td>8.970814</td><td>0.8048506</td><td>0.9242394</td><td>34</td><td>0.004870567</td><td>0.04583684</td><td>19.564379</td></tr>\n",
       "\t<tr><th scope=row>4</th><td>ENSG00000270863</td><td>chr12_11194616_C_G </td><td>12</td><td>11194616</td><td>C </td><td>G</td><td>ENSG00000270863_L1</td><td>L1</td><td>chr12:10665656-12665656</td><td>0.012224371</td><td>8.970814</td><td>0.8048506</td><td>0.9242394</td><td>34</td><td>0.004870567</td><td>0.04583684</td><td>19.564379</td></tr>\n",
       "\t<tr><th scope=row>5</th><td>ENSG00000270863</td><td>chr12_11196747_A_G </td><td>12</td><td>11196747</td><td>A </td><td>G</td><td>ENSG00000270863_L1</td><td>L1</td><td>chr12:10665656-12665656</td><td>0.007836419</td><td>8.914634</td><td>0.8048506</td><td>0.9242394</td><td>34</td><td>0.002961856</td><td>0.03573329</td><td>19.564379</td></tr>\n",
       "\t<tr><th scope=row>6</th><td>ENSG00000270863</td><td>chr12_11198481_AG_A</td><td>12</td><td>11198481</td><td>AG</td><td>A</td><td>ENSG00000270863_L1</td><td>L1</td><td>chr12:10665656-12665656</td><td>0.010971924</td><td>8.884967</td><td>0.8048506</td><td>0.9242394</td><td>34</td><td>0.004252437</td><td>0.04246188</td><td>19.564379</td></tr>\n",
       "</tbody>\n",
       "</table>\n"
      ],
      "text/latex": [
       "A data.frame: 6 × 17\n",
       "\\begin{tabular}{r|lllllllllllllllll}\n",
       "  & phenotype\\_id & variant\\_id & chr & pos & ref & alt & cs\\_id & cs\\_index & finemapped\\_region & pip & z & cs\\_min\\_r2 & cs\\_avg\\_r2 & cs\\_size & posterior\\_mean & posterior\\_sd & cs\\_log10bf\\\\\n",
       "  & <chr> & <chr> & <int> & <int> & <chr> & <chr> & <chr> & <chr> & <chr> & <dbl> & <dbl> & <dbl> & <dbl> & <int> & <dbl> & <dbl> & <dbl>\\\\\n",
       "\\hline\n",
       "\t1 & ENSG00000270863 & chr12\\_11147188\\_G\\_A  & 12 & 11147188 & G  & A & ENSG00000270863\\_L2 & L2 & chr12:10665656-12665656 & 0.073696934 & 4.045431 & 0.4323245 & 0.7465146 & 12 & 0.023103775 & 0.08372073 &  4.263458\\\\\n",
       "\t2 & ENSG00000270863 & chr12\\_11155747\\_A\\_G  & 12 & 11155747 & A  & G & ENSG00000270863\\_L2 & L2 & chr12:10665656-12665656 & 0.017965122 & 3.923467 & 0.4323245 & 0.7465146 & 12 & 0.005269309 & 0.04067465 &  4.263458\\\\\n",
       "\t3 & ENSG00000270863 & chr12\\_11193997\\_C\\_T  & 12 & 11193997 & C  & T & ENSG00000270863\\_L1 & L1 & chr12:10665656-12665656 & 0.012224371 & 8.970814 & 0.8048506 & 0.9242394 & 34 & 0.004870567 & 0.04583684 & 19.564379\\\\\n",
       "\t4 & ENSG00000270863 & chr12\\_11194616\\_C\\_G  & 12 & 11194616 & C  & G & ENSG00000270863\\_L1 & L1 & chr12:10665656-12665656 & 0.012224371 & 8.970814 & 0.8048506 & 0.9242394 & 34 & 0.004870567 & 0.04583684 & 19.564379\\\\\n",
       "\t5 & ENSG00000270863 & chr12\\_11196747\\_A\\_G  & 12 & 11196747 & A  & G & ENSG00000270863\\_L1 & L1 & chr12:10665656-12665656 & 0.007836419 & 8.914634 & 0.8048506 & 0.9242394 & 34 & 0.002961856 & 0.03573329 & 19.564379\\\\\n",
       "\t6 & ENSG00000270863 & chr12\\_11198481\\_AG\\_A & 12 & 11198481 & AG & A & ENSG00000270863\\_L1 & L1 & chr12:10665656-12665656 & 0.010971924 & 8.884967 & 0.8048506 & 0.9242394 & 34 & 0.004252437 & 0.04246188 & 19.564379\\\\\n",
       "\\end{tabular}\n"
      ],
      "text/markdown": [
       "\n",
       "A data.frame: 6 × 17\n",
       "\n",
       "| <!--/--> | phenotype_id &lt;chr&gt; | variant_id &lt;chr&gt; | chr &lt;int&gt; | pos &lt;int&gt; | ref &lt;chr&gt; | alt &lt;chr&gt; | cs_id &lt;chr&gt; | cs_index &lt;chr&gt; | finemapped_region &lt;chr&gt; | pip &lt;dbl&gt; | z &lt;dbl&gt; | cs_min_r2 &lt;dbl&gt; | cs_avg_r2 &lt;dbl&gt; | cs_size &lt;int&gt; | posterior_mean &lt;dbl&gt; | posterior_sd &lt;dbl&gt; | cs_log10bf &lt;dbl&gt; |\n",
       "|---|---|---|---|---|---|---|---|---|---|---|---|---|---|---|---|---|---|\n",
       "| 1 | ENSG00000270863 | chr12_11147188_G_A  | 12 | 11147188 | G  | A | ENSG00000270863_L2 | L2 | chr12:10665656-12665656 | 0.073696934 | 4.045431 | 0.4323245 | 0.7465146 | 12 | 0.023103775 | 0.08372073 |  4.263458 |\n",
       "| 2 | ENSG00000270863 | chr12_11155747_A_G  | 12 | 11155747 | A  | G | ENSG00000270863_L2 | L2 | chr12:10665656-12665656 | 0.017965122 | 3.923467 | 0.4323245 | 0.7465146 | 12 | 0.005269309 | 0.04067465 |  4.263458 |\n",
       "| 3 | ENSG00000270863 | chr12_11193997_C_T  | 12 | 11193997 | C  | T | ENSG00000270863_L1 | L1 | chr12:10665656-12665656 | 0.012224371 | 8.970814 | 0.8048506 | 0.9242394 | 34 | 0.004870567 | 0.04583684 | 19.564379 |\n",
       "| 4 | ENSG00000270863 | chr12_11194616_C_G  | 12 | 11194616 | C  | G | ENSG00000270863_L1 | L1 | chr12:10665656-12665656 | 0.012224371 | 8.970814 | 0.8048506 | 0.9242394 | 34 | 0.004870567 | 0.04583684 | 19.564379 |\n",
       "| 5 | ENSG00000270863 | chr12_11196747_A_G  | 12 | 11196747 | A  | G | ENSG00000270863_L1 | L1 | chr12:10665656-12665656 | 0.007836419 | 8.914634 | 0.8048506 | 0.9242394 | 34 | 0.002961856 | 0.03573329 | 19.564379 |\n",
       "| 6 | ENSG00000270863 | chr12_11198481_AG_A | 12 | 11198481 | AG | A | ENSG00000270863_L1 | L1 | chr12:10665656-12665656 | 0.010971924 | 8.884967 | 0.8048506 | 0.9242394 | 34 | 0.004252437 | 0.04246188 | 19.564379 |\n",
       "\n"
      ],
      "text/plain": [
       "  phenotype_id    variant_id          chr pos      ref alt cs_id             \n",
       "1 ENSG00000270863 chr12_11147188_G_A  12  11147188 G   A   ENSG00000270863_L2\n",
       "2 ENSG00000270863 chr12_11155747_A_G  12  11155747 A   G   ENSG00000270863_L2\n",
       "3 ENSG00000270863 chr12_11193997_C_T  12  11193997 C   T   ENSG00000270863_L1\n",
       "4 ENSG00000270863 chr12_11194616_C_G  12  11194616 C   G   ENSG00000270863_L1\n",
       "5 ENSG00000270863 chr12_11196747_A_G  12  11196747 A   G   ENSG00000270863_L1\n",
       "6 ENSG00000270863 chr12_11198481_AG_A 12  11198481 AG  A   ENSG00000270863_L1\n",
       "  cs_index finemapped_region       pip         z        cs_min_r2 cs_avg_r2\n",
       "1 L2       chr12:10665656-12665656 0.073696934 4.045431 0.4323245 0.7465146\n",
       "2 L2       chr12:10665656-12665656 0.017965122 3.923467 0.4323245 0.7465146\n",
       "3 L1       chr12:10665656-12665656 0.012224371 8.970814 0.8048506 0.9242394\n",
       "4 L1       chr12:10665656-12665656 0.012224371 8.970814 0.8048506 0.9242394\n",
       "5 L1       chr12:10665656-12665656 0.007836419 8.914634 0.8048506 0.9242394\n",
       "6 L1       chr12:10665656-12665656 0.010971924 8.884967 0.8048506 0.9242394\n",
       "  cs_size posterior_mean posterior_sd cs_log10bf\n",
       "1 12      0.023103775    0.08372073    4.263458 \n",
       "2 12      0.005269309    0.04067465    4.263458 \n",
       "3 34      0.004870567    0.04583684   19.564379 \n",
       "4 34      0.004870567    0.04583684   19.564379 \n",
       "5 34      0.002961856    0.03573329   19.564379 \n",
       "6 34      0.004252437    0.04246188   19.564379 "
      ]
     },
     "metadata": {},
     "output_type": "display_data"
    }
   ],
   "source": [
    "head(var_in_cs)"
   ]
  },
  {
   "cell_type": "markdown",
   "metadata": {
    "deletable": true,
    "editable": true
   },
   "source": [
    "**How many eGenes got finemapped credible sets?**"
   ]
  },
  {
   "cell_type": "code",
   "execution_count": 5,
   "metadata": {
    "collapsed": false,
    "deletable": true,
    "editable": true
   },
   "outputs": [
    {
     "data": {
      "text/html": [
       "7626"
      ],
      "text/latex": [
       "7626"
      ],
      "text/markdown": [
       "7626"
      ],
      "text/plain": [
       "[1] 7626"
      ]
     },
     "metadata": {},
     "output_type": "display_data"
    }
   ],
   "source": [
    "length(unique(var_in_cs$phenotype_id))"
   ]
  },
  {
   "cell_type": "markdown",
   "metadata": {
    "deletable": true,
    "editable": true
   },
   "source": [
    "**How many unique variants in all CS?**"
   ]
  },
  {
   "cell_type": "code",
   "execution_count": 6,
   "metadata": {
    "collapsed": false,
    "deletable": true,
    "editable": true
   },
   "outputs": [
    {
     "data": {
      "text/html": [
       "122203"
      ],
      "text/latex": [
       "122203"
      ],
      "text/markdown": [
       "122203"
      ],
      "text/plain": [
       "[1] 122203"
      ]
     },
     "metadata": {},
     "output_type": "display_data"
    }
   ],
   "source": [
    "length(unique(var_in_cs$variant_id))"
   ]
  },
  {
   "cell_type": "markdown",
   "metadata": {
    "deletable": true,
    "editable": true
   },
   "source": [
    "**How many unique CS?**"
   ]
  },
  {
   "cell_type": "code",
   "execution_count": 8,
   "metadata": {
    "collapsed": false,
    "deletable": true,
    "editable": true
   },
   "outputs": [
    {
     "data": {
      "text/html": [
       "10647"
      ],
      "text/latex": [
       "10647"
      ],
      "text/markdown": [
       "10647"
      ],
      "text/plain": [
       "[1] 10647"
      ]
     },
     "metadata": {},
     "output_type": "display_data"
    }
   ],
   "source": [
    "length(unique(var_in_cs$cs_id))"
   ]
  },
  {
   "cell_type": "code",
   "execution_count": 6,
   "metadata": {
    "collapsed": false,
    "deletable": true,
    "editable": true
   },
   "outputs": [
    {
     "data": {
      "text/html": [
       "<style>\n",
       ".list-inline {list-style: none; margin:0; padding: 0}\n",
       ".list-inline>li {display: inline-block}\n",
       ".list-inline>li:not(:last-child)::after {content: \"\\00b7\"; padding: 0 .5ex}\n",
       "</style>\n",
       "<ol class=list-inline><li>167292</li><li>17</li></ol>\n"
      ],
      "text/latex": [
       "\\begin{enumerate*}\n",
       "\\item 167292\n",
       "\\item 17\n",
       "\\end{enumerate*}\n"
      ],
      "text/markdown": [
       "1. 167292\n",
       "2. 17\n",
       "\n",
       "\n"
      ],
      "text/plain": [
       "[1] 167292     17"
      ]
     },
     "metadata": {},
     "output_type": "display_data"
    }
   ],
   "source": [
    "# sorted by chr and pos of genes\n",
    "sorted_df <- fread(\"mixed_ciseqtl_90hcp_perm_purity_filtered.txt.gz\", data.table = F)\n",
    "dim(sorted_df)"
   ]
  },
  {
   "cell_type": "code",
   "execution_count": 7,
   "metadata": {
    "collapsed": false,
    "deletable": true,
    "editable": true,
    "scrolled": true
   },
   "outputs": [
    {
     "data": {
      "text/html": [
       "<table>\n",
       "<caption>A data.frame: 6 × 17</caption>\n",
       "<thead>\n",
       "\t<tr><th></th><th scope=col>phenotype_id</th><th scope=col>variant_id</th><th scope=col>chr</th><th scope=col>pos</th><th scope=col>ref</th><th scope=col>alt</th><th scope=col>cs_id</th><th scope=col>cs_index</th><th scope=col>finemapped_region</th><th scope=col>pip</th><th scope=col>z</th><th scope=col>cs_min_r2</th><th scope=col>cs_avg_r2</th><th scope=col>cs_size</th><th scope=col>posterior_mean</th><th scope=col>posterior_sd</th><th scope=col>cs_log10bf</th></tr>\n",
       "\t<tr><th></th><th scope=col>&lt;chr&gt;</th><th scope=col>&lt;chr&gt;</th><th scope=col>&lt;int&gt;</th><th scope=col>&lt;int&gt;</th><th scope=col>&lt;chr&gt;</th><th scope=col>&lt;chr&gt;</th><th scope=col>&lt;chr&gt;</th><th scope=col>&lt;chr&gt;</th><th scope=col>&lt;chr&gt;</th><th scope=col>&lt;dbl&gt;</th><th scope=col>&lt;dbl&gt;</th><th scope=col>&lt;dbl&gt;</th><th scope=col>&lt;dbl&gt;</th><th scope=col>&lt;int&gt;</th><th scope=col>&lt;dbl&gt;</th><th scope=col>&lt;dbl&gt;</th><th scope=col>&lt;dbl&gt;</th></tr>\n",
       "</thead>\n",
       "<tbody>\n",
       "\t<tr><th scope=row>1</th><td>ENSG00000166024</td><td>chr10_100003785_T_C</td><td>10</td><td>100003785</td><td>T</td><td>C</td><td>ENSG00000166024_L1</td><td>L1</td><td>chr10:98894380-100894380</td><td>0.068322868</td><td>-6.900330</td><td>0.8706241</td><td>0.9776713</td><td>24</td><td>-0.012146753</td><td>0.04585326</td><td>6.840422</td></tr>\n",
       "\t<tr><th scope=row>2</th><td>ENSG00000166024</td><td>chr10_100008436_G_A</td><td>10</td><td>100008436</td><td>G</td><td>A</td><td>ENSG00000166024_L1</td><td>L1</td><td>chr10:98894380-100894380</td><td>0.021124867</td><td>-6.704314</td><td>0.8706241</td><td>0.9776713</td><td>24</td><td>-0.003453998</td><td>0.02464589</td><td>6.840422</td></tr>\n",
       "\t<tr><th scope=row>3</th><td>ENSG00000166024</td><td>chr10_100011970_G_A</td><td>10</td><td>100011970</td><td>G</td><td>A</td><td>ENSG00000166024_L1</td><td>L1</td><td>chr10:98894380-100894380</td><td>0.021124867</td><td>-6.704314</td><td>0.8706241</td><td>0.9776713</td><td>24</td><td>-0.003453998</td><td>0.02464589</td><td>6.840422</td></tr>\n",
       "\t<tr><th scope=row>4</th><td>ENSG00000166024</td><td>chr10_100013244_A_C</td><td>10</td><td>100013244</td><td>A</td><td>C</td><td>ENSG00000166024_L1</td><td>L1</td><td>chr10:98894380-100894380</td><td>0.050424642</td><td>-6.848917</td><td>0.8706241</td><td>0.9776713</td><td>24</td><td>-0.008776639</td><td>0.03908357</td><td>6.840422</td></tr>\n",
       "\t<tr><th scope=row>5</th><td>ENSG00000119943</td><td>chr10_100164441_T_C</td><td>10</td><td>100164441</td><td>T</td><td>C</td><td>ENSG00000119943_L1</td><td>L1</td><td>chr10:99174938-101174938</td><td>0.008835407</td><td> 7.490109</td><td>0.6954467</td><td>0.9374778</td><td>42</td><td> 0.002248738</td><td>0.02611878</td><td>9.666004</td></tr>\n",
       "\t<tr><th scope=row>6</th><td>ENSG00000119943</td><td>chr10_100164442_A_G</td><td>10</td><td>100164442</td><td>A</td><td>G</td><td>ENSG00000119943_L1</td><td>L1</td><td>chr10:99174938-101174938</td><td>0.008835407</td><td> 7.490109</td><td>0.6954467</td><td>0.9374778</td><td>42</td><td> 0.002248738</td><td>0.02611878</td><td>9.666004</td></tr>\n",
       "</tbody>\n",
       "</table>\n"
      ],
      "text/latex": [
       "A data.frame: 6 × 17\n",
       "\\begin{tabular}{r|lllllllllllllllll}\n",
       "  & phenotype\\_id & variant\\_id & chr & pos & ref & alt & cs\\_id & cs\\_index & finemapped\\_region & pip & z & cs\\_min\\_r2 & cs\\_avg\\_r2 & cs\\_size & posterior\\_mean & posterior\\_sd & cs\\_log10bf\\\\\n",
       "  & <chr> & <chr> & <int> & <int> & <chr> & <chr> & <chr> & <chr> & <chr> & <dbl> & <dbl> & <dbl> & <dbl> & <int> & <dbl> & <dbl> & <dbl>\\\\\n",
       "\\hline\n",
       "\t1 & ENSG00000166024 & chr10\\_100003785\\_T\\_C & 10 & 100003785 & T & C & ENSG00000166024\\_L1 & L1 & chr10:98894380-100894380 & 0.068322868 & -6.900330 & 0.8706241 & 0.9776713 & 24 & -0.012146753 & 0.04585326 & 6.840422\\\\\n",
       "\t2 & ENSG00000166024 & chr10\\_100008436\\_G\\_A & 10 & 100008436 & G & A & ENSG00000166024\\_L1 & L1 & chr10:98894380-100894380 & 0.021124867 & -6.704314 & 0.8706241 & 0.9776713 & 24 & -0.003453998 & 0.02464589 & 6.840422\\\\\n",
       "\t3 & ENSG00000166024 & chr10\\_100011970\\_G\\_A & 10 & 100011970 & G & A & ENSG00000166024\\_L1 & L1 & chr10:98894380-100894380 & 0.021124867 & -6.704314 & 0.8706241 & 0.9776713 & 24 & -0.003453998 & 0.02464589 & 6.840422\\\\\n",
       "\t4 & ENSG00000166024 & chr10\\_100013244\\_A\\_C & 10 & 100013244 & A & C & ENSG00000166024\\_L1 & L1 & chr10:98894380-100894380 & 0.050424642 & -6.848917 & 0.8706241 & 0.9776713 & 24 & -0.008776639 & 0.03908357 & 6.840422\\\\\n",
       "\t5 & ENSG00000119943 & chr10\\_100164441\\_T\\_C & 10 & 100164441 & T & C & ENSG00000119943\\_L1 & L1 & chr10:99174938-101174938 & 0.008835407 &  7.490109 & 0.6954467 & 0.9374778 & 42 &  0.002248738 & 0.02611878 & 9.666004\\\\\n",
       "\t6 & ENSG00000119943 & chr10\\_100164442\\_A\\_G & 10 & 100164442 & A & G & ENSG00000119943\\_L1 & L1 & chr10:99174938-101174938 & 0.008835407 &  7.490109 & 0.6954467 & 0.9374778 & 42 &  0.002248738 & 0.02611878 & 9.666004\\\\\n",
       "\\end{tabular}\n"
      ],
      "text/markdown": [
       "\n",
       "A data.frame: 6 × 17\n",
       "\n",
       "| <!--/--> | phenotype_id &lt;chr&gt; | variant_id &lt;chr&gt; | chr &lt;int&gt; | pos &lt;int&gt; | ref &lt;chr&gt; | alt &lt;chr&gt; | cs_id &lt;chr&gt; | cs_index &lt;chr&gt; | finemapped_region &lt;chr&gt; | pip &lt;dbl&gt; | z &lt;dbl&gt; | cs_min_r2 &lt;dbl&gt; | cs_avg_r2 &lt;dbl&gt; | cs_size &lt;int&gt; | posterior_mean &lt;dbl&gt; | posterior_sd &lt;dbl&gt; | cs_log10bf &lt;dbl&gt; |\n",
       "|---|---|---|---|---|---|---|---|---|---|---|---|---|---|---|---|---|---|\n",
       "| 1 | ENSG00000166024 | chr10_100003785_T_C | 10 | 100003785 | T | C | ENSG00000166024_L1 | L1 | chr10:98894380-100894380 | 0.068322868 | -6.900330 | 0.8706241 | 0.9776713 | 24 | -0.012146753 | 0.04585326 | 6.840422 |\n",
       "| 2 | ENSG00000166024 | chr10_100008436_G_A | 10 | 100008436 | G | A | ENSG00000166024_L1 | L1 | chr10:98894380-100894380 | 0.021124867 | -6.704314 | 0.8706241 | 0.9776713 | 24 | -0.003453998 | 0.02464589 | 6.840422 |\n",
       "| 3 | ENSG00000166024 | chr10_100011970_G_A | 10 | 100011970 | G | A | ENSG00000166024_L1 | L1 | chr10:98894380-100894380 | 0.021124867 | -6.704314 | 0.8706241 | 0.9776713 | 24 | -0.003453998 | 0.02464589 | 6.840422 |\n",
       "| 4 | ENSG00000166024 | chr10_100013244_A_C | 10 | 100013244 | A | C | ENSG00000166024_L1 | L1 | chr10:98894380-100894380 | 0.050424642 | -6.848917 | 0.8706241 | 0.9776713 | 24 | -0.008776639 | 0.03908357 | 6.840422 |\n",
       "| 5 | ENSG00000119943 | chr10_100164441_T_C | 10 | 100164441 | T | C | ENSG00000119943_L1 | L1 | chr10:99174938-101174938 | 0.008835407 |  7.490109 | 0.6954467 | 0.9374778 | 42 |  0.002248738 | 0.02611878 | 9.666004 |\n",
       "| 6 | ENSG00000119943 | chr10_100164442_A_G | 10 | 100164442 | A | G | ENSG00000119943_L1 | L1 | chr10:99174938-101174938 | 0.008835407 |  7.490109 | 0.6954467 | 0.9374778 | 42 |  0.002248738 | 0.02611878 | 9.666004 |\n",
       "\n"
      ],
      "text/plain": [
       "  phenotype_id    variant_id          chr pos       ref alt cs_id             \n",
       "1 ENSG00000166024 chr10_100003785_T_C 10  100003785 T   C   ENSG00000166024_L1\n",
       "2 ENSG00000166024 chr10_100008436_G_A 10  100008436 G   A   ENSG00000166024_L1\n",
       "3 ENSG00000166024 chr10_100011970_G_A 10  100011970 G   A   ENSG00000166024_L1\n",
       "4 ENSG00000166024 chr10_100013244_A_C 10  100013244 A   C   ENSG00000166024_L1\n",
       "5 ENSG00000119943 chr10_100164441_T_C 10  100164441 T   C   ENSG00000119943_L1\n",
       "6 ENSG00000119943 chr10_100164442_A_G 10  100164442 A   G   ENSG00000119943_L1\n",
       "  cs_index finemapped_region        pip         z         cs_min_r2 cs_avg_r2\n",
       "1 L1       chr10:98894380-100894380 0.068322868 -6.900330 0.8706241 0.9776713\n",
       "2 L1       chr10:98894380-100894380 0.021124867 -6.704314 0.8706241 0.9776713\n",
       "3 L1       chr10:98894380-100894380 0.021124867 -6.704314 0.8706241 0.9776713\n",
       "4 L1       chr10:98894380-100894380 0.050424642 -6.848917 0.8706241 0.9776713\n",
       "5 L1       chr10:99174938-101174938 0.008835407  7.490109 0.6954467 0.9374778\n",
       "6 L1       chr10:99174938-101174938 0.008835407  7.490109 0.6954467 0.9374778\n",
       "  cs_size posterior_mean posterior_sd cs_log10bf\n",
       "1 24      -0.012146753   0.04585326   6.840422  \n",
       "2 24      -0.003453998   0.02464589   6.840422  \n",
       "3 24      -0.003453998   0.02464589   6.840422  \n",
       "4 24      -0.008776639   0.03908357   6.840422  \n",
       "5 42       0.002248738   0.02611878   9.666004  \n",
       "6 42       0.002248738   0.02611878   9.666004  "
      ]
     },
     "metadata": {},
     "output_type": "display_data"
    }
   ],
   "source": [
    "head(sorted_df)"
   ]
  },
  {
   "cell_type": "markdown",
   "metadata": {
    "deletable": true,
    "editable": true
   },
   "source": [
    "**How many CS contain exactly one SNP?**"
   ]
  },
  {
   "cell_type": "code",
   "execution_count": 8,
   "metadata": {
    "collapsed": false,
    "deletable": true,
    "editable": true
   },
   "outputs": [
    {
     "data": {
      "text/html": [
       "<style>\n",
       ".list-inline {list-style: none; margin:0; padding: 0}\n",
       ".list-inline>li {display: inline-block}\n",
       ".list-inline>li:not(:last-child)::after {content: \"\\00b7\"; padding: 0 .5ex}\n",
       "</style>\n",
       "<ol class=list-inline><li>10647</li><li>17</li></ol>\n"
      ],
      "text/latex": [
       "\\begin{enumerate*}\n",
       "\\item 10647\n",
       "\\item 17\n",
       "\\end{enumerate*}\n"
      ],
      "text/markdown": [
       "1. 10647\n",
       "2. 17\n",
       "\n",
       "\n"
      ],
      "text/plain": [
       "[1] 10647    17"
      ]
     },
     "metadata": {},
     "output_type": "display_data"
    }
   ],
   "source": [
    "dim(sorted_df[!duplicated(sorted_df$cs_id),])"
   ]
  },
  {
   "cell_type": "code",
   "execution_count": 13,
   "metadata": {
    "collapsed": false
   },
   "outputs": [
    {
     "data": {
      "text/html": [
       "<table>\n",
       "<caption>A data.frame: 6 × 2</caption>\n",
       "<thead>\n",
       "\t<tr><th></th><th scope=col>cs_id</th><th scope=col>cs_size</th></tr>\n",
       "\t<tr><th></th><th scope=col>&lt;chr&gt;</th><th scope=col>&lt;int&gt;</th></tr>\n",
       "</thead>\n",
       "<tbody>\n",
       "\t<tr><th scope=row>1</th><td>ENSG00000166024_L1</td><td>24</td></tr>\n",
       "\t<tr><th scope=row>5</th><td>ENSG00000119943_L1</td><td>42</td></tr>\n",
       "\t<tr><th scope=row>47</th><td>ENSG00000205740_L1</td><td> 4</td></tr>\n",
       "\t<tr><th scope=row>48</th><td>ENSG00000119946_L1</td><td>26</td></tr>\n",
       "\t<tr><th scope=row>75</th><td>ENSG00000014919_L1</td><td>17</td></tr>\n",
       "\t<tr><th scope=row>88</th><td>ENSG00000233690_L1</td><td> 4</td></tr>\n",
       "</tbody>\n",
       "</table>\n"
      ],
      "text/latex": [
       "A data.frame: 6 × 2\n",
       "\\begin{tabular}{r|ll}\n",
       "  & cs\\_id & cs\\_size\\\\\n",
       "  & <chr> & <int>\\\\\n",
       "\\hline\n",
       "\t1 & ENSG00000166024\\_L1 & 24\\\\\n",
       "\t5 & ENSG00000119943\\_L1 & 42\\\\\n",
       "\t47 & ENSG00000205740\\_L1 &  4\\\\\n",
       "\t48 & ENSG00000119946\\_L1 & 26\\\\\n",
       "\t75 & ENSG00000014919\\_L1 & 17\\\\\n",
       "\t88 & ENSG00000233690\\_L1 &  4\\\\\n",
       "\\end{tabular}\n"
      ],
      "text/markdown": [
       "\n",
       "A data.frame: 6 × 2\n",
       "\n",
       "| <!--/--> | cs_id &lt;chr&gt; | cs_size &lt;int&gt; |\n",
       "|---|---|---|\n",
       "| 1 | ENSG00000166024_L1 | 24 |\n",
       "| 5 | ENSG00000119943_L1 | 42 |\n",
       "| 47 | ENSG00000205740_L1 |  4 |\n",
       "| 48 | ENSG00000119946_L1 | 26 |\n",
       "| 75 | ENSG00000014919_L1 | 17 |\n",
       "| 88 | ENSG00000233690_L1 |  4 |\n",
       "\n"
      ],
      "text/plain": [
       "   cs_id              cs_size\n",
       "1  ENSG00000166024_L1 24     \n",
       "5  ENSG00000119943_L1 42     \n",
       "47 ENSG00000205740_L1  4     \n",
       "48 ENSG00000119946_L1 26     \n",
       "75 ENSG00000014919_L1 17     \n",
       "88 ENSG00000233690_L1  4     "
      ]
     },
     "metadata": {},
     "output_type": "display_data"
    }
   ],
   "source": [
    "cs_id_size <- sorted_df[!duplicated(sorted_df$cs_id),] %>% select(cs_id, cs_size)\n",
    "head(cs_id_size)"
   ]
  },
  {
   "cell_type": "code",
   "execution_count": 14,
   "metadata": {
    "collapsed": false,
    "scrolled": false
   },
   "outputs": [
    {
     "data": {
      "text/html": [
       "<style>\n",
       ".list-inline {list-style: none; margin:0; padding: 0}\n",
       ".list-inline>li {display: inline-block}\n",
       ".list-inline>li:not(:last-child)::after {content: \"\\00b7\"; padding: 0 .5ex}\n",
       "</style>\n",
       "<ol class=list-inline><li>10647</li><li>2</li></ol>\n"
      ],
      "text/latex": [
       "\\begin{enumerate*}\n",
       "\\item 10647\n",
       "\\item 2\n",
       "\\end{enumerate*}\n"
      ],
      "text/markdown": [
       "1. 10647\n",
       "2. 2\n",
       "\n",
       "\n"
      ],
      "text/plain": [
       "[1] 10647     2"
      ]
     },
     "metadata": {},
     "output_type": "display_data"
    }
   ],
   "source": [
    "dim(cs_id_size)"
   ]
  },
  {
   "cell_type": "code",
   "execution_count": 18,
   "metadata": {
    "collapsed": false
   },
   "outputs": [
    {
     "data": {
      "text/html": [
       "2420"
      ],
      "text/latex": [
       "2420"
      ],
      "text/markdown": [
       "2420"
      ],
      "text/plain": [
       "[1] 2420"
      ]
     },
     "metadata": {},
     "output_type": "display_data"
    },
    {
     "data": {
      "text/html": [
       "1288"
      ],
      "text/latex": [
       "1288"
      ],
      "text/markdown": [
       "1288"
      ],
      "text/plain": [
       "[1] 1288"
      ]
     },
     "metadata": {},
     "output_type": "display_data"
    }
   ],
   "source": [
    "sum(cs_id_size$cs_size==1)\n",
    "sum(cs_id_size$cs_size==2)"
   ]
  },
  {
   "cell_type": "code",
   "execution_count": 15,
   "metadata": {
    "collapsed": false
   },
   "outputs": [
    {
     "data": {
      "text/plain": [
       "   Min. 1st Qu.  Median    Mean 3rd Qu.    Max. \n",
       "   1.00    2.00    5.00   15.71   14.00 1897.00 "
      ]
     },
     "metadata": {},
     "output_type": "display_data"
    }
   ],
   "source": [
    "summary(cs_id_size$cs_size)"
   ]
  },
  {
   "cell_type": "code",
   "execution_count": 16,
   "metadata": {
    "collapsed": false,
    "scrolled": true
   },
   "outputs": [
    {
     "data": {
      "image/png": "[encoded data removed]",
      "text/plain": [
       "plot without title"
      ]
     },
     "metadata": {
      "image/png": {
       "height": 420,
       "width": 420
      }
     },
     "output_type": "display_data"
    }
   ],
   "source": [
    "plot(cs_id_size$cs_size)"
   ]
  },
  {
   "cell_type": "markdown",
   "metadata": {},
   "source": [
    "**How many genes with CS have exactly one CS?**"
   ]
  },
  {
   "cell_type": "code",
   "execution_count": 28,
   "metadata": {
    "collapsed": false,
    "scrolled": true
   },
   "outputs": [
    {
     "data": {
      "text/html": [
       "<table>\n",
       "<caption>A data.frame: 6 × 2</caption>\n",
       "<thead>\n",
       "\t<tr><th></th><th scope=col>gene</th><th scope=col>cs_count</th></tr>\n",
       "\t<tr><th></th><th scope=col>&lt;fct&gt;</th><th scope=col>&lt;int&gt;</th></tr>\n",
       "</thead>\n",
       "<tbody>\n",
       "\t<tr><th scope=row>1</th><td>ENSG00000166024</td><td>1</td></tr>\n",
       "\t<tr><th scope=row>2</th><td>ENSG00000119943</td><td>1</td></tr>\n",
       "\t<tr><th scope=row>3</th><td>ENSG00000205740</td><td>1</td></tr>\n",
       "\t<tr><th scope=row>4</th><td>ENSG00000119946</td><td>1</td></tr>\n",
       "\t<tr><th scope=row>5</th><td>ENSG00000014919</td><td>1</td></tr>\n",
       "\t<tr><th scope=row>6</th><td>ENSG00000233690</td><td>1</td></tr>\n",
       "</tbody>\n",
       "</table>\n"
      ],
      "text/latex": [
       "A data.frame: 6 × 2\n",
       "\\begin{tabular}{r|ll}\n",
       "  & gene & cs\\_count\\\\\n",
       "  & <fct> & <int>\\\\\n",
       "\\hline\n",
       "\t1 & ENSG00000166024 & 1\\\\\n",
       "\t2 & ENSG00000119943 & 1\\\\\n",
       "\t3 & ENSG00000205740 & 1\\\\\n",
       "\t4 & ENSG00000119946 & 1\\\\\n",
       "\t5 & ENSG00000014919 & 1\\\\\n",
       "\t6 & ENSG00000233690 & 1\\\\\n",
       "\\end{tabular}\n"
      ],
      "text/markdown": [
       "\n",
       "A data.frame: 6 × 2\n",
       "\n",
       "| <!--/--> | gene &lt;fct&gt; | cs_count &lt;int&gt; |\n",
       "|---|---|---|\n",
       "| 1 | ENSG00000166024 | 1 |\n",
       "| 2 | ENSG00000119943 | 1 |\n",
       "| 3 | ENSG00000205740 | 1 |\n",
       "| 4 | ENSG00000119946 | 1 |\n",
       "| 5 | ENSG00000014919 | 1 |\n",
       "| 6 | ENSG00000233690 | 1 |\n",
       "\n"
      ],
      "text/plain": [
       "  gene            cs_count\n",
       "1 ENSG00000166024 1       \n",
       "2 ENSG00000119943 1       \n",
       "3 ENSG00000205740 1       \n",
       "4 ENSG00000119946 1       \n",
       "5 ENSG00000014919 1       \n",
       "6 ENSG00000233690 1       "
      ]
     },
     "metadata": {},
     "output_type": "display_data"
    }
   ],
   "source": [
    "genes_with_cs <- unique(sorted_df$phenotype_id)\n",
    "df <- data.frame(\"gene\" = genes_with_cs,\n",
    "                 \"cs_count\" = NA)\n",
    "for(i in 1:nrow(df)) {\n",
    "    df[i,2] <- length(unique(sorted_df[sorted_df$phenotype_id == df[i,1],]$cs_id))\n",
    "}\n",
    "head(df)"
   ]
  },
  {
   "cell_type": "code",
   "execution_count": 29,
   "metadata": {
    "collapsed": false
   },
   "outputs": [
    {
     "data": {
      "text/plain": [
       "   Min. 1st Qu.  Median    Mean 3rd Qu.    Max. \n",
       "  1.000   1.000   1.000   1.396   2.000   8.000 "
      ]
     },
     "metadata": {},
     "output_type": "display_data"
    }
   ],
   "source": [
    "summary(df$cs_count)"
   ]
  },
  {
   "cell_type": "code",
   "execution_count": 30,
   "metadata": {
    "collapsed": false
   },
   "outputs": [
    {
     "data": {
      "text/html": [
       "<style>\n",
       ".list-inline {list-style: none; margin:0; padding: 0}\n",
       ".list-inline>li {display: inline-block}\n",
       ".list-inline>li:not(:last-child)::after {content: \"\\00b7\"; padding: 0 .5ex}\n",
       "</style>\n",
       "<ol class=list-inline><li>7626</li><li>2</li></ol>\n"
      ],
      "text/latex": [
       "\\begin{enumerate*}\n",
       "\\item 7626\n",
       "\\item 2\n",
       "\\end{enumerate*}\n"
      ],
      "text/markdown": [
       "1. 7626\n",
       "2. 2\n",
       "\n",
       "\n"
      ],
      "text/plain": [
       "[1] 7626    2"
      ]
     },
     "metadata": {},
     "output_type": "display_data"
    }
   ],
   "source": [
    "dim(df)"
   ]
  },
  {
   "cell_type": "code",
   "execution_count": 31,
   "metadata": {
    "collapsed": false
   },
   "outputs": [
    {
     "data": {
      "text/html": [
       "5486"
      ],
      "text/latex": [
       "5486"
      ],
      "text/markdown": [
       "5486"
      ],
      "text/plain": [
       "[1] 5486"
      ]
     },
     "metadata": {},
     "output_type": "display_data"
    }
   ],
   "source": [
    "sum(df$cs_count == 1)"
   ]
  },
  {
   "cell_type": "code",
   "execution_count": 32,
   "metadata": {
    "collapsed": false
   },
   "outputs": [
    {
     "data": {
      "image/png": "[encoded data removed]",
      "text/plain": [
       "plot without title"
      ]
     },
     "metadata": {
      "image/png": {
       "height": 420,
       "width": 420
      }
     },
     "output_type": "display_data"
    }
   ],
   "source": [
    "p <- ggplot(df, aes(x=cs_count)) +\n",
    "  geom_bar(fill=\"steelblue1\") +\n",
    "  scale_x_continuous(breaks = seq(1,9,by=1)) +\n",
    "  labs(x=\"Number of CS\", y=\"Gene count\") +\n",
    "  ggtitle(\"Susie finemapping\") +\n",
    "  theme_classic() +\n",
    "  theme(axis.text = element_text(size=10),\n",
    "        axis.title = element_text(size=12),\n",
    "        plot.title = element_text(size=16, face=\"bold\", hjust=0.5),\n",
    "        plot.subtitle = element_text(size=14, hjust=0.5))\n",
    "p"
   ]
  },
  {
   "cell_type": "markdown",
   "metadata": {
    "deletable": true,
    "editable": true
   },
   "source": [
    "### 2. all credible sets (not filtered for purity)"
   ]
  },
  {
   "cell_type": "code",
   "execution_count": 34,
   "metadata": {
    "collapsed": false,
    "deletable": true,
    "editable": true
   },
   "outputs": [
    {
     "data": {
      "text/html": [
       "<style>\n",
       ".list-inline {list-style: none; margin:0; padding: 0}\n",
       ".list-inline>li {display: inline-block}\n",
       ".list-inline>li:not(:last-child)::after {content: \"\\00b7\"; padding: 0 .5ex}\n",
       "</style>\n",
       "<ol class=list-inline><li>15254</li><li>9</li></ol>\n"
      ],
      "text/latex": [
       "\\begin{enumerate*}\n",
       "\\item 15254\n",
       "\\item 9\n",
       "\\end{enumerate*}\n"
      ],
      "text/markdown": [
       "1. 15254\n",
       "2. 9\n",
       "\n",
       "\n"
      ],
      "text/plain": [
       "[1] 15254     9"
      ]
     },
     "metadata": {},
     "output_type": "display_data"
    }
   ],
   "source": [
    "cs <- fread(\"mixed_ciseqtl_90hcp_perm.cred.txt.gz\", data.table = F)\n",
    "dim(cs)"
   ]
  },
  {
   "cell_type": "code",
   "execution_count": 14,
   "metadata": {
    "collapsed": false,
    "deletable": true,
    "editable": true,
    "scrolled": true
   },
   "outputs": [
    {
     "data": {
      "text/html": [
       "<table>\n",
       "<caption>A data.frame: 6 × 9</caption>\n",
       "<thead>\n",
       "\t<tr><th></th><th scope=col>phenotype_id</th><th scope=col>cs_id</th><th scope=col>cs_index</th><th scope=col>finemapped_region</th><th scope=col>cs_log10bf</th><th scope=col>cs_avg_r2</th><th scope=col>cs_min_r2</th><th scope=col>cs_size</th><th scope=col>low_purity</th></tr>\n",
       "\t<tr><th></th><th scope=col>&lt;chr&gt;</th><th scope=col>&lt;chr&gt;</th><th scope=col>&lt;chr&gt;</th><th scope=col>&lt;chr&gt;</th><th scope=col>&lt;dbl&gt;</th><th scope=col>&lt;dbl&gt;</th><th scope=col>&lt;dbl&gt;</th><th scope=col>&lt;int&gt;</th><th scope=col>&lt;lgl&gt;</th></tr>\n",
       "</thead>\n",
       "<tbody>\n",
       "\t<tr><th scope=row>1</th><td>ENSG00000270863</td><td>ENSG00000270863_L1</td><td>L1</td><td>chr12:10665656-12665656</td><td>19.564379</td><td>0.9242394</td><td>0.8048506</td><td>34</td><td>FALSE</td></tr>\n",
       "\t<tr><th scope=row>2</th><td>ENSG00000270863</td><td>ENSG00000270863_L2</td><td>L2</td><td>chr12:10665656-12665656</td><td> 4.263458</td><td>0.7465146</td><td>0.4323245</td><td>12</td><td>FALSE</td></tr>\n",
       "\t<tr><th scope=row>3</th><td>ENSG00000247157</td><td>ENSG00000247157_L3</td><td>L3</td><td>chr12:10700963-12700963</td><td> 1.675373</td><td>1.0000000</td><td>1.0000000</td><td> 1</td><td>FALSE</td></tr>\n",
       "\t<tr><th scope=row>4</th><td>ENSG00000247157</td><td>ENSG00000247157_L1</td><td>L1</td><td>chr12:10700963-12700963</td><td>30.826474</td><td>0.9786380</td><td>0.9477680</td><td> 4</td><td>FALSE</td></tr>\n",
       "\t<tr><th scope=row>5</th><td>ENSG00000247157</td><td>ENSG00000247157_L2</td><td>L2</td><td>chr12:10700963-12700963</td><td>36.138428</td><td>0.9771133</td><td>0.9339625</td><td> 7</td><td>FALSE</td></tr>\n",
       "\t<tr><th scope=row>6</th><td>ENSG00000070018</td><td>ENSG00000070018_L1</td><td>L1</td><td>chr12:11419977-13419977</td><td> 2.720819</td><td>0.7406333</td><td>0.4075157</td><td>37</td><td>FALSE</td></tr>\n",
       "</tbody>\n",
       "</table>\n"
      ],
      "text/latex": [
       "A data.frame: 6 × 9\n",
       "\\begin{tabular}{r|lllllllll}\n",
       "  & phenotype\\_id & cs\\_id & cs\\_index & finemapped\\_region & cs\\_log10bf & cs\\_avg\\_r2 & cs\\_min\\_r2 & cs\\_size & low\\_purity\\\\\n",
       "  & <chr> & <chr> & <chr> & <chr> & <dbl> & <dbl> & <dbl> & <int> & <lgl>\\\\\n",
       "\\hline\n",
       "\t1 & ENSG00000270863 & ENSG00000270863\\_L1 & L1 & chr12:10665656-12665656 & 19.564379 & 0.9242394 & 0.8048506 & 34 & FALSE\\\\\n",
       "\t2 & ENSG00000270863 & ENSG00000270863\\_L2 & L2 & chr12:10665656-12665656 &  4.263458 & 0.7465146 & 0.4323245 & 12 & FALSE\\\\\n",
       "\t3 & ENSG00000247157 & ENSG00000247157\\_L3 & L3 & chr12:10700963-12700963 &  1.675373 & 1.0000000 & 1.0000000 &  1 & FALSE\\\\\n",
       "\t4 & ENSG00000247157 & ENSG00000247157\\_L1 & L1 & chr12:10700963-12700963 & 30.826474 & 0.9786380 & 0.9477680 &  4 & FALSE\\\\\n",
       "\t5 & ENSG00000247157 & ENSG00000247157\\_L2 & L2 & chr12:10700963-12700963 & 36.138428 & 0.9771133 & 0.9339625 &  7 & FALSE\\\\\n",
       "\t6 & ENSG00000070018 & ENSG00000070018\\_L1 & L1 & chr12:11419977-13419977 &  2.720819 & 0.7406333 & 0.4075157 & 37 & FALSE\\\\\n",
       "\\end{tabular}\n"
      ],
      "text/markdown": [
       "\n",
       "A data.frame: 6 × 9\n",
       "\n",
       "| <!--/--> | phenotype_id &lt;chr&gt; | cs_id &lt;chr&gt; | cs_index &lt;chr&gt; | finemapped_region &lt;chr&gt; | cs_log10bf &lt;dbl&gt; | cs_avg_r2 &lt;dbl&gt; | cs_min_r2 &lt;dbl&gt; | cs_size &lt;int&gt; | low_purity &lt;lgl&gt; |\n",
       "|---|---|---|---|---|---|---|---|---|---|\n",
       "| 1 | ENSG00000270863 | ENSG00000270863_L1 | L1 | chr12:10665656-12665656 | 19.564379 | 0.9242394 | 0.8048506 | 34 | FALSE |\n",
       "| 2 | ENSG00000270863 | ENSG00000270863_L2 | L2 | chr12:10665656-12665656 |  4.263458 | 0.7465146 | 0.4323245 | 12 | FALSE |\n",
       "| 3 | ENSG00000247157 | ENSG00000247157_L3 | L3 | chr12:10700963-12700963 |  1.675373 | 1.0000000 | 1.0000000 |  1 | FALSE |\n",
       "| 4 | ENSG00000247157 | ENSG00000247157_L1 | L1 | chr12:10700963-12700963 | 30.826474 | 0.9786380 | 0.9477680 |  4 | FALSE |\n",
       "| 5 | ENSG00000247157 | ENSG00000247157_L2 | L2 | chr12:10700963-12700963 | 36.138428 | 0.9771133 | 0.9339625 |  7 | FALSE |\n",
       "| 6 | ENSG00000070018 | ENSG00000070018_L1 | L1 | chr12:11419977-13419977 |  2.720819 | 0.7406333 | 0.4075157 | 37 | FALSE |\n",
       "\n"
      ],
      "text/plain": [
       "  phenotype_id    cs_id              cs_index finemapped_region      \n",
       "1 ENSG00000270863 ENSG00000270863_L1 L1       chr12:10665656-12665656\n",
       "2 ENSG00000270863 ENSG00000270863_L2 L2       chr12:10665656-12665656\n",
       "3 ENSG00000247157 ENSG00000247157_L3 L3       chr12:10700963-12700963\n",
       "4 ENSG00000247157 ENSG00000247157_L1 L1       chr12:10700963-12700963\n",
       "5 ENSG00000247157 ENSG00000247157_L2 L2       chr12:10700963-12700963\n",
       "6 ENSG00000070018 ENSG00000070018_L1 L1       chr12:11419977-13419977\n",
       "  cs_log10bf cs_avg_r2 cs_min_r2 cs_size low_purity\n",
       "1 19.564379  0.9242394 0.8048506 34      FALSE     \n",
       "2  4.263458  0.7465146 0.4323245 12      FALSE     \n",
       "3  1.675373  1.0000000 1.0000000  1      FALSE     \n",
       "4 30.826474  0.9786380 0.9477680  4      FALSE     \n",
       "5 36.138428  0.9771133 0.9339625  7      FALSE     \n",
       "6  2.720819  0.7406333 0.4075157 37      FALSE     "
      ]
     },
     "metadata": {},
     "output_type": "display_data"
    }
   ],
   "source": [
    "head(cs)"
   ]
  },
  {
   "cell_type": "code",
   "execution_count": 15,
   "metadata": {
    "collapsed": false,
    "deletable": true,
    "editable": true,
    "scrolled": false
   },
   "outputs": [
    {
     "data": {
      "text/html": [
       "10197"
      ],
      "text/latex": [
       "10197"
      ],
      "text/markdown": [
       "10197"
      ],
      "text/plain": [
       "[1] 10197"
      ]
     },
     "metadata": {},
     "output_type": "display_data"
    }
   ],
   "source": [
    "length(unique(cs$phenotype_id))"
   ]
  },
  {
   "cell_type": "code",
   "execution_count": 20,
   "metadata": {
    "collapsed": false,
    "deletable": true,
    "editable": true,
    "scrolled": true
   },
   "outputs": [
    {
     "data": {
      "text/plain": [
       "\n",
       "FALSE  TRUE \n",
       "10647  4607 "
      ]
     },
     "metadata": {},
     "output_type": "display_data"
    }
   ],
   "source": [
    "table(cs$low_purity)"
   ]
  },
  {
   "cell_type": "code",
   "execution_count": 35,
   "metadata": {
    "collapsed": false,
    "scrolled": true
   },
   "outputs": [
    {
     "data": {
      "text/html": [
       "<table>\n",
       "<caption>A data.frame: 6 × 9</caption>\n",
       "<thead>\n",
       "\t<tr><th></th><th scope=col>phenotype_id</th><th scope=col>cs_id</th><th scope=col>cs_index</th><th scope=col>finemapped_region</th><th scope=col>cs_log10bf</th><th scope=col>cs_avg_r2</th><th scope=col>cs_min_r2</th><th scope=col>cs_size</th><th scope=col>low_purity</th></tr>\n",
       "\t<tr><th></th><th scope=col>&lt;chr&gt;</th><th scope=col>&lt;chr&gt;</th><th scope=col>&lt;chr&gt;</th><th scope=col>&lt;chr&gt;</th><th scope=col>&lt;dbl&gt;</th><th scope=col>&lt;dbl&gt;</th><th scope=col>&lt;dbl&gt;</th><th scope=col>&lt;int&gt;</th><th scope=col>&lt;lgl&gt;</th></tr>\n",
       "</thead>\n",
       "<tbody>\n",
       "\t<tr><th scope=row>1</th><td>ENSG00000111261</td><td>ENSG00000111261_L1</td><td>L1</td><td>chr12:11503175-13503175</td><td>4.07944167</td><td>0.726510897</td><td>1.744063e-01</td><td>  11</td><td>TRUE</td></tr>\n",
       "\t<tr><th scope=row>2</th><td>ENSG00000255670</td><td>ENSG00000255670_L2</td><td>L2</td><td>chr12:11638286-13638286</td><td>0.45976964</td><td>0.003582169</td><td>4.231532e-10</td><td>2859</td><td>TRUE</td></tr>\n",
       "\t<tr><th scope=row>3</th><td>ENSG00000111269</td><td>ENSG00000111269_L1</td><td>L1</td><td>chr12:11764760-13764760</td><td>2.16559198</td><td>0.568307145</td><td>9.618169e-02</td><td>  25</td><td>TRUE</td></tr>\n",
       "\t<tr><th scope=row>4</th><td>ENSG00000275963</td><td>ENSG00000275963_L5</td><td>L5</td><td>chr12:11801872-13801872</td><td>0.05347751</td><td>0.003353675</td><td>1.313858e-09</td><td>5537</td><td>TRUE</td></tr>\n",
       "\t<tr><th scope=row>5</th><td>ENSG00000183150</td><td>ENSG00000183150_L7</td><td>L7</td><td>chr12:11849140-13849140</td><td>0.01117094</td><td>0.003360231</td><td>1.960944e-10</td><td>5668</td><td>TRUE</td></tr>\n",
       "\t<tr><th scope=row>6</th><td>ENSG00000178878</td><td>ENSG00000178878_L2</td><td>L2</td><td>chr12:11878850-13878850</td><td>1.01661800</td><td>0.034086444</td><td>1.156653e-06</td><td>  30</td><td>TRUE</td></tr>\n",
       "</tbody>\n",
       "</table>\n"
      ],
      "text/latex": [
       "A data.frame: 6 × 9\n",
       "\\begin{tabular}{r|lllllllll}\n",
       "  & phenotype\\_id & cs\\_id & cs\\_index & finemapped\\_region & cs\\_log10bf & cs\\_avg\\_r2 & cs\\_min\\_r2 & cs\\_size & low\\_purity\\\\\n",
       "  & <chr> & <chr> & <chr> & <chr> & <dbl> & <dbl> & <dbl> & <int> & <lgl>\\\\\n",
       "\\hline\n",
       "\t1 & ENSG00000111261 & ENSG00000111261\\_L1 & L1 & chr12:11503175-13503175 & 4.07944167 & 0.726510897 & 1.744063e-01 &   11 & TRUE\\\\\n",
       "\t2 & ENSG00000255670 & ENSG00000255670\\_L2 & L2 & chr12:11638286-13638286 & 0.45976964 & 0.003582169 & 4.231532e-10 & 2859 & TRUE\\\\\n",
       "\t3 & ENSG00000111269 & ENSG00000111269\\_L1 & L1 & chr12:11764760-13764760 & 2.16559198 & 0.568307145 & 9.618169e-02 &   25 & TRUE\\\\\n",
       "\t4 & ENSG00000275963 & ENSG00000275963\\_L5 & L5 & chr12:11801872-13801872 & 0.05347751 & 0.003353675 & 1.313858e-09 & 5537 & TRUE\\\\\n",
       "\t5 & ENSG00000183150 & ENSG00000183150\\_L7 & L7 & chr12:11849140-13849140 & 0.01117094 & 0.003360231 & 1.960944e-10 & 5668 & TRUE\\\\\n",
       "\t6 & ENSG00000178878 & ENSG00000178878\\_L2 & L2 & chr12:11878850-13878850 & 1.01661800 & 0.034086444 & 1.156653e-06 &   30 & TRUE\\\\\n",
       "\\end{tabular}\n"
      ],
      "text/markdown": [
       "\n",
       "A data.frame: 6 × 9\n",
       "\n",
       "| <!--/--> | phenotype_id &lt;chr&gt; | cs_id &lt;chr&gt; | cs_index &lt;chr&gt; | finemapped_region &lt;chr&gt; | cs_log10bf &lt;dbl&gt; | cs_avg_r2 &lt;dbl&gt; | cs_min_r2 &lt;dbl&gt; | cs_size &lt;int&gt; | low_purity &lt;lgl&gt; |\n",
       "|---|---|---|---|---|---|---|---|---|---|\n",
       "| 1 | ENSG00000111261 | ENSG00000111261_L1 | L1 | chr12:11503175-13503175 | 4.07944167 | 0.726510897 | 1.744063e-01 |   11 | TRUE |\n",
       "| 2 | ENSG00000255670 | ENSG00000255670_L2 | L2 | chr12:11638286-13638286 | 0.45976964 | 0.003582169 | 4.231532e-10 | 2859 | TRUE |\n",
       "| 3 | ENSG00000111269 | ENSG00000111269_L1 | L1 | chr12:11764760-13764760 | 2.16559198 | 0.568307145 | 9.618169e-02 |   25 | TRUE |\n",
       "| 4 | ENSG00000275963 | ENSG00000275963_L5 | L5 | chr12:11801872-13801872 | 0.05347751 | 0.003353675 | 1.313858e-09 | 5537 | TRUE |\n",
       "| 5 | ENSG00000183150 | ENSG00000183150_L7 | L7 | chr12:11849140-13849140 | 0.01117094 | 0.003360231 | 1.960944e-10 | 5668 | TRUE |\n",
       "| 6 | ENSG00000178878 | ENSG00000178878_L2 | L2 | chr12:11878850-13878850 | 1.01661800 | 0.034086444 | 1.156653e-06 |   30 | TRUE |\n",
       "\n"
      ],
      "text/plain": [
       "  phenotype_id    cs_id              cs_index finemapped_region      \n",
       "1 ENSG00000111261 ENSG00000111261_L1 L1       chr12:11503175-13503175\n",
       "2 ENSG00000255670 ENSG00000255670_L2 L2       chr12:11638286-13638286\n",
       "3 ENSG00000111269 ENSG00000111269_L1 L1       chr12:11764760-13764760\n",
       "4 ENSG00000275963 ENSG00000275963_L5 L5       chr12:11801872-13801872\n",
       "5 ENSG00000183150 ENSG00000183150_L7 L7       chr12:11849140-13849140\n",
       "6 ENSG00000178878 ENSG00000178878_L2 L2       chr12:11878850-13878850\n",
       "  cs_log10bf cs_avg_r2   cs_min_r2    cs_size low_purity\n",
       "1 4.07944167 0.726510897 1.744063e-01   11    TRUE      \n",
       "2 0.45976964 0.003582169 4.231532e-10 2859    TRUE      \n",
       "3 2.16559198 0.568307145 9.618169e-02   25    TRUE      \n",
       "4 0.05347751 0.003353675 1.313858e-09 5537    TRUE      \n",
       "5 0.01117094 0.003360231 1.960944e-10 5668    TRUE      \n",
       "6 1.01661800 0.034086444 1.156653e-06   30    TRUE      "
      ]
     },
     "metadata": {},
     "output_type": "display_data"
    }
   ],
   "source": [
    "head(cs %>% filter(low_purity))"
   ]
  },
  {
   "cell_type": "markdown",
   "metadata": {},
   "source": [
    "**See code for low purity definition:**\n",
    "```{r}\n",
    "dplyr::mutate(\n",
    "        cs_avg_r2 = mean.abs.corr^2,\n",
    "        cs_min_r2 = min.abs.corr^2,\n",
    "        low_purity = min.abs.corr < 0.5\n",
    "      )\n",
    "```"
   ]
  },
  {
   "cell_type": "code",
   "execution_count": 36,
   "metadata": {
    "collapsed": false
   },
   "outputs": [
    {
     "data": {
      "text/html": [
       "0.24988465703333"
      ],
      "text/latex": [
       "0.24988465703333"
      ],
      "text/markdown": [
       "0.24988465703333"
      ],
      "text/plain": [
       "[1] 0.2498847"
      ]
     },
     "metadata": {},
     "output_type": "display_data"
    }
   ],
   "source": [
    "max(cs %>% filter(low_purity) %>% select(cs_min_r2))"
   ]
  },
  {
   "cell_type": "code",
   "execution_count": 37,
   "metadata": {
    "collapsed": false
   },
   "outputs": [
    {
     "data": {
      "text/html": [
       "0.250096834827747"
      ],
      "text/latex": [
       "0.250096834827747"
      ],
      "text/markdown": [
       "0.250096834827747"
      ],
      "text/plain": [
       "[1] 0.2500968"
      ]
     },
     "metadata": {},
     "output_type": "display_data"
    }
   ],
   "source": [
    "min(cs %>% filter(!low_purity) %>% select(cs_min_r2))"
   ]
  },
  {
   "cell_type": "markdown",
   "metadata": {
    "deletable": true,
    "editable": true
   },
   "source": [
    "### 3. all tested variants (very big file)"
   ]
  }
 ],
 "metadata": {
  "kernelspec": {
   "display_name": "R 3.6.1",
   "language": "R",
   "name": "ir361"
  },
  "language_info": {
   "codemirror_mode": "r",
   "file_extension": ".r",
   "mimetype": "text/x-r-source",
   "name": "R",
   "pygments_lexer": "r",
   "version": "3.6.1"
  }
 },
 "nbformat": 4,
 "nbformat_minor": 2
}
