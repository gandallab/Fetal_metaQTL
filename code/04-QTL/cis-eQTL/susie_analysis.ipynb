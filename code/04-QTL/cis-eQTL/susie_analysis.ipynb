{
 "cells": [
  {
   "cell_type": "markdown",
   "metadata": {
    "deletable": true,
    "editable": true
   },
   "source": [
    "# Susie finemapping analysis"
   ]
  },
  {
   "cell_type": "code",
   "execution_count": 1,
   "metadata": {
    "collapsed": false,
    "deletable": true,
    "editable": true
   },
   "outputs": [],
   "source": [
    "setwd(\"~/project-gandalm/isoform_twas/eqtl_new/results/susie_finemap\")\n",
    "suppressMessages(library(data.table))\n",
    "suppressMessages(library(dplyr))\n",
    "suppressMessages(library(ggplot2))\n",
    "suppressMessages(library(tidyr))\n",
    "suppressMessages(library(wesanderson))\n",
    "suppressMessages(library(VennDiagram))"
   ]
  },
  {
   "cell_type": "markdown",
   "metadata": {
    "deletable": true,
    "editable": true
   },
   "source": [
    "## Results summary-ALL\n",
    "- We started with 10094 eGenes identified by FastQTL permutation pass for ALL ancestries with 90 HCP in covariates\n",
    "- After filtering for CS purity: \n",
    "    - 7654 genes have non-low purity CS\n",
    "    - 10671 unique CS\n",
    "    - 122,050 unique variants in CS\n",
    "- Of the 10671 CS:\n",
    "    - 2423 contain exactly one SNP (strong candidates for causal variants)\n",
    "    - 1291 contain exactly two SNPs\n",
    "    - median size 5, mean 15.17, max1897\n",
    "- Of the 7654 genes:\n",
    "    - 5515 have exactly one CS\n",
    "    - up to 8"
   ]
  },
  {
   "cell_type": "markdown",
   "metadata": {
    "deletable": true,
    "editable": true
   },
   "source": [
    "### 1. all variants that belong to a non-low purity credible set"
   ]
  },
  {
   "cell_type": "code",
   "execution_count": 2,
   "metadata": {
    "collapsed": false,
    "deletable": true,
    "editable": true
   },
   "outputs": [
    {
     "data": {
      "text/html": [
       "<style>\n",
       ".list-inline {list-style: none; margin:0; padding: 0}\n",
       ".list-inline>li {display: inline-block}\n",
       ".list-inline>li:not(:last-child)::after {content: \"\\00b7\"; padding: 0 .5ex}\n",
       "</style>\n",
       "<ol class=list-inline><li>161929</li><li>17</li></ol>\n"
      ],
      "text/latex": [
       "\\begin{enumerate*}\n",
       "\\item 161929\n",
       "\\item 17\n",
       "\\end{enumerate*}\n"
      ],
      "text/markdown": [
       "1. 161929\n",
       "2. 17\n",
       "\n",
       "\n"
      ],
      "text/plain": [
       "[1] 161929     17"
      ]
     },
     "metadata": {},
     "output_type": "display_data"
    }
   ],
   "source": [
    "var_in_cs <- fread(\"mixed_ciseqtl_90hcp_perm.txt.gz\", data.table = F)\n",
    "dim(var_in_cs)"
   ]
  },
  {
   "cell_type": "markdown",
   "metadata": {
    "deletable": true,
    "editable": true
   },
   "source": [
    "#### How many eGenes got finemapped non-low purity credible sets?"
   ]
  },
  {
   "cell_type": "code",
   "execution_count": 4,
   "metadata": {
    "collapsed": false,
    "deletable": true,
    "editable": true
   },
   "outputs": [
    {
     "data": {
      "text/html": [
       "7654"
      ],
      "text/latex": [
       "7654"
      ],
      "text/markdown": [
       "7654"
      ],
      "text/plain": [
       "[1] 7654"
      ]
     },
     "metadata": {},
     "output_type": "display_data"
    }
   ],
   "source": [
    "length(unique(var_in_cs$phenotype_id))"
   ]
  },
  {
   "cell_type": "markdown",
   "metadata": {
    "deletable": true,
    "editable": true
   },
   "source": [
    "#### How many unique variants in all CS? "
   ]
  },
  {
   "cell_type": "code",
   "execution_count": 5,
   "metadata": {
    "collapsed": false,
    "deletable": true,
    "editable": true
   },
   "outputs": [
    {
     "data": {
      "text/html": [
       "122050"
      ],
      "text/latex": [
       "122050"
      ],
      "text/markdown": [
       "122050"
      ],
      "text/plain": [
       "[1] 122050"
      ]
     },
     "metadata": {},
     "output_type": "display_data"
    }
   ],
   "source": [
    "length(unique(var_in_cs$variant_id))"
   ]
  },
  {
   "cell_type": "markdown",
   "metadata": {
    "deletable": true,
    "editable": true
   },
   "source": [
    "#### How many unique non-low purity CS?"
   ]
  },
  {
   "cell_type": "code",
   "execution_count": 6,
   "metadata": {
    "collapsed": false,
    "deletable": true,
    "editable": true
   },
   "outputs": [
    {
     "data": {
      "text/html": [
       "10671"
      ],
      "text/latex": [
       "10671"
      ],
      "text/markdown": [
       "10671"
      ],
      "text/plain": [
       "[1] 10671"
      ]
     },
     "metadata": {},
     "output_type": "display_data"
    }
   ],
   "source": [
    "length(unique(var_in_cs$cs_id))"
   ]
  },
  {
   "cell_type": "markdown",
   "metadata": {
    "deletable": true,
    "editable": true
   },
   "source": [
    "#### Sorted by chr and pos of genes"
   ]
  },
  {
   "cell_type": "code",
   "execution_count": 2,
   "metadata": {
    "collapsed": false,
    "deletable": true,
    "editable": true
   },
   "outputs": [
    {
     "data": {
      "text/html": [
       "<style>\n",
       ".list-inline {list-style: none; margin:0; padding: 0}\n",
       ".list-inline>li {display: inline-block}\n",
       ".list-inline>li:not(:last-child)::after {content: \"\\00b7\"; padding: 0 .5ex}\n",
       "</style>\n",
       "<ol class=list-inline><li>161929</li><li>17</li></ol>\n"
      ],
      "text/latex": [
       "\\begin{enumerate*}\n",
       "\\item 161929\n",
       "\\item 17\n",
       "\\end{enumerate*}\n"
      ],
      "text/markdown": [
       "1. 161929\n",
       "2. 17\n",
       "\n",
       "\n"
      ],
      "text/plain": [
       "[1] 161929     17"
      ]
     },
     "metadata": {},
     "output_type": "display_data"
    }
   ],
   "source": [
    "sorted_df_all <- fread(\"mixed_ciseqtl_90hcp_perm_purity_filtered.txt.gz\", data.table = F)\n",
    "dim(sorted_df_all)"
   ]
  },
  {
   "cell_type": "markdown",
   "metadata": {
    "deletable": true,
    "editable": true
   },
   "source": [
    "#### How many CS contain exactly one SNP?\n",
    "**Note chr17 many genes with large CS.**"
   ]
  },
  {
   "cell_type": "code",
   "execution_count": 41,
   "metadata": {
    "collapsed": false,
    "deletable": true,
    "editable": true
   },
   "outputs": [
    {
     "data": {
      "text/html": [
       "<style>\n",
       ".list-inline {list-style: none; margin:0; padding: 0}\n",
       ".list-inline>li {display: inline-block}\n",
       ".list-inline>li:not(:last-child)::after {content: \"\\00b7\"; padding: 0 .5ex}\n",
       "</style>\n",
       "<ol class=list-inline><li>10671</li><li>17</li></ol>\n"
      ],
      "text/latex": [
       "\\begin{enumerate*}\n",
       "\\item 10671\n",
       "\\item 17\n",
       "\\end{enumerate*}\n"
      ],
      "text/markdown": [
       "1. 10671\n",
       "2. 17\n",
       "\n",
       "\n"
      ],
      "text/plain": [
       "[1] 10671    17"
      ]
     },
     "metadata": {},
     "output_type": "display_data"
    }
   ],
   "source": [
    "dim(sorted_df_all[!duplicated(sorted_df_all$cs_id),])"
   ]
  },
  {
   "cell_type": "code",
   "execution_count": 42,
   "metadata": {
    "collapsed": false,
    "deletable": true,
    "editable": true,
    "scrolled": false
   },
   "outputs": [],
   "source": [
    "cs_id_size_all <- sorted_df_all[!duplicated(sorted_df_all$cs_id),] %>% select(cs_id, cs_size, finemapped_region)"
   ]
  },
  {
   "cell_type": "code",
   "execution_count": 29,
   "metadata": {
    "collapsed": false,
    "deletable": true,
    "editable": true
   },
   "outputs": [
    {
     "data": {
      "text/html": [
       "<table>\n",
       "<caption>A data.frame: 18 × 3</caption>\n",
       "<thead>\n",
       "\t<tr><th scope=col>cs_id</th><th scope=col>cs_size</th><th scope=col>finemapped_region</th></tr>\n",
       "\t<tr><th scope=col>&lt;chr&gt;</th><th scope=col>&lt;int&gt;</th><th scope=col>&lt;chr&gt;</th></tr>\n",
       "</thead>\n",
       "<tbody>\n",
       "\t<tr><td>ENSG00000175395_L2</td><td> 547</td><td>chr10:37265574-39265574</td></tr>\n",
       "\t<tr><td>ENSG00000227540_L1</td><td> 591</td><td>chr10:74012548-76012548</td></tr>\n",
       "\t<tr><td>ENSG00000266918_L3</td><td>1897</td><td>chr17:42608942-44608942</td></tr>\n",
       "\t<tr><td>ENSG00000264589_L1</td><td>1464</td><td>chr17:42973045-44973045</td></tr>\n",
       "\t<tr><td>ENSG00000073969_L2</td><td>1469</td><td>chr17:43668034-45668034</td></tr>\n",
       "\t<tr><td>ENSG00000185829_L4</td><td>1066</td><td>chr17:43657047-45657047</td></tr>\n",
       "\t<tr><td>ENSG00000260075_L2</td><td> 936</td><td>chr17:43450220-45450220</td></tr>\n",
       "\t<tr><td>ENSG00000261575_L1</td><td>1067</td><td>chr17:43344402-45344402</td></tr>\n",
       "\t<tr><td>ENSG00000263715_L1</td><td>1719</td><td>chr17:42697709-44697709</td></tr>\n",
       "\t<tr><td>ENSG00000264070_L1</td><td>1180</td><td>chr17:42663236-44663236</td></tr>\n",
       "\t<tr><td>ENSG00000265411_L1</td><td> 901</td><td>chr17:43397044-45397044</td></tr>\n",
       "\t<tr><td>ENSG00000265821_L1</td><td>1741</td><td>chr17:42604111-44604111</td></tr>\n",
       "\t<tr><td>ENSG00000267198_L2</td><td>1385</td><td>chr17:42623169-44623169</td></tr>\n",
       "\t<tr><td>ENSG00000267246_L1</td><td>1054</td><td>chr17:42636103-44636103</td></tr>\n",
       "\t<tr><td>ENSG00000204650_L1</td><td>1018</td><td>chr17:42697693-44697693</td></tr>\n",
       "\t<tr><td>ENSG00000266504_L1</td><td> 569</td><td>chr17:42636435-44636435</td></tr>\n",
       "\t<tr><td>ENSG00000263142_L1</td><td> 640</td><td>chr17:44055846-46055846</td></tr>\n",
       "\t<tr><td>ENSG00000163116_L1</td><td> 516</td><td>chr4:98064626-100064626</td></tr>\n",
       "</tbody>\n",
       "</table>\n"
      ],
      "text/latex": [
       "A data.frame: 18 × 3\n",
       "\\begin{tabular}{lll}\n",
       " cs\\_id & cs\\_size & finemapped\\_region\\\\\n",
       " <chr> & <int> & <chr>\\\\\n",
       "\\hline\n",
       "\t ENSG00000175395\\_L2 &  547 & chr10:37265574-39265574\\\\\n",
       "\t ENSG00000227540\\_L1 &  591 & chr10:74012548-76012548\\\\\n",
       "\t ENSG00000266918\\_L3 & 1897 & chr17:42608942-44608942\\\\\n",
       "\t ENSG00000264589\\_L1 & 1464 & chr17:42973045-44973045\\\\\n",
       "\t ENSG00000073969\\_L2 & 1469 & chr17:43668034-45668034\\\\\n",
       "\t ENSG00000185829\\_L4 & 1066 & chr17:43657047-45657047\\\\\n",
       "\t ENSG00000260075\\_L2 &  936 & chr17:43450220-45450220\\\\\n",
       "\t ENSG00000261575\\_L1 & 1067 & chr17:43344402-45344402\\\\\n",
       "\t ENSG00000263715\\_L1 & 1719 & chr17:42697709-44697709\\\\\n",
       "\t ENSG00000264070\\_L1 & 1180 & chr17:42663236-44663236\\\\\n",
       "\t ENSG00000265411\\_L1 &  901 & chr17:43397044-45397044\\\\\n",
       "\t ENSG00000265821\\_L1 & 1741 & chr17:42604111-44604111\\\\\n",
       "\t ENSG00000267198\\_L2 & 1385 & chr17:42623169-44623169\\\\\n",
       "\t ENSG00000267246\\_L1 & 1054 & chr17:42636103-44636103\\\\\n",
       "\t ENSG00000204650\\_L1 & 1018 & chr17:42697693-44697693\\\\\n",
       "\t ENSG00000266504\\_L1 &  569 & chr17:42636435-44636435\\\\\n",
       "\t ENSG00000263142\\_L1 &  640 & chr17:44055846-46055846\\\\\n",
       "\t ENSG00000163116\\_L1 &  516 & chr4:98064626-100064626\\\\\n",
       "\\end{tabular}\n"
      ],
      "text/markdown": [
       "\n",
       "A data.frame: 18 × 3\n",
       "\n",
       "| cs_id &lt;chr&gt; | cs_size &lt;int&gt; | finemapped_region &lt;chr&gt; |\n",
       "|---|---|---|\n",
       "| ENSG00000175395_L2 |  547 | chr10:37265574-39265574 |\n",
       "| ENSG00000227540_L1 |  591 | chr10:74012548-76012548 |\n",
       "| ENSG00000266918_L3 | 1897 | chr17:42608942-44608942 |\n",
       "| ENSG00000264589_L1 | 1464 | chr17:42973045-44973045 |\n",
       "| ENSG00000073969_L2 | 1469 | chr17:43668034-45668034 |\n",
       "| ENSG00000185829_L4 | 1066 | chr17:43657047-45657047 |\n",
       "| ENSG00000260075_L2 |  936 | chr17:43450220-45450220 |\n",
       "| ENSG00000261575_L1 | 1067 | chr17:43344402-45344402 |\n",
       "| ENSG00000263715_L1 | 1719 | chr17:42697709-44697709 |\n",
       "| ENSG00000264070_L1 | 1180 | chr17:42663236-44663236 |\n",
       "| ENSG00000265411_L1 |  901 | chr17:43397044-45397044 |\n",
       "| ENSG00000265821_L1 | 1741 | chr17:42604111-44604111 |\n",
       "| ENSG00000267198_L2 | 1385 | chr17:42623169-44623169 |\n",
       "| ENSG00000267246_L1 | 1054 | chr17:42636103-44636103 |\n",
       "| ENSG00000204650_L1 | 1018 | chr17:42697693-44697693 |\n",
       "| ENSG00000266504_L1 |  569 | chr17:42636435-44636435 |\n",
       "| ENSG00000263142_L1 |  640 | chr17:44055846-46055846 |\n",
       "| ENSG00000163116_L1 |  516 | chr4:98064626-100064626 |\n",
       "\n"
      ],
      "text/plain": [
       "   cs_id              cs_size finemapped_region      \n",
       "1  ENSG00000175395_L2  547    chr10:37265574-39265574\n",
       "2  ENSG00000227540_L1  591    chr10:74012548-76012548\n",
       "3  ENSG00000266918_L3 1897    chr17:42608942-44608942\n",
       "4  ENSG00000264589_L1 1464    chr17:42973045-44973045\n",
       "5  ENSG00000073969_L2 1469    chr17:43668034-45668034\n",
       "6  ENSG00000185829_L4 1066    chr17:43657047-45657047\n",
       "7  ENSG00000260075_L2  936    chr17:43450220-45450220\n",
       "8  ENSG00000261575_L1 1067    chr17:43344402-45344402\n",
       "9  ENSG00000263715_L1 1719    chr17:42697709-44697709\n",
       "10 ENSG00000264070_L1 1180    chr17:42663236-44663236\n",
       "11 ENSG00000265411_L1  901    chr17:43397044-45397044\n",
       "12 ENSG00000265821_L1 1741    chr17:42604111-44604111\n",
       "13 ENSG00000267198_L2 1385    chr17:42623169-44623169\n",
       "14 ENSG00000267246_L1 1054    chr17:42636103-44636103\n",
       "15 ENSG00000204650_L1 1018    chr17:42697693-44697693\n",
       "16 ENSG00000266504_L1  569    chr17:42636435-44636435\n",
       "17 ENSG00000263142_L1  640    chr17:44055846-46055846\n",
       "18 ENSG00000163116_L1  516    chr4:98064626-100064626"
      ]
     },
     "metadata": {},
     "output_type": "display_data"
    }
   ],
   "source": [
    "cs_id_size_all %>% filter(cs_size > 500)"
   ]
  },
  {
   "cell_type": "code",
   "execution_count": 26,
   "metadata": {
    "collapsed": false,
    "deletable": true,
    "editable": true,
    "scrolled": true
   },
   "outputs": [
    {
     "data": {
      "text/html": [
       "2423"
      ],
      "text/latex": [
       "2423"
      ],
      "text/markdown": [
       "2423"
      ],
      "text/plain": [
       "[1] 2423"
      ]
     },
     "metadata": {},
     "output_type": "display_data"
    },
    {
     "data": {
      "text/html": [
       "1291"
      ],
      "text/latex": [
       "1291"
      ],
      "text/markdown": [
       "1291"
      ],
      "text/plain": [
       "[1] 1291"
      ]
     },
     "metadata": {},
     "output_type": "display_data"
    }
   ],
   "source": [
    "sum(cs_id_size_all$cs_size==1)\n",
    "sum(cs_id_size_all$cs_size==2)"
   ]
  },
  {
   "cell_type": "code",
   "execution_count": 27,
   "metadata": {
    "collapsed": false,
    "deletable": true,
    "editable": true,
    "scrolled": false
   },
   "outputs": [
    {
     "data": {
      "text/plain": [
       "   Min. 1st Qu.  Median    Mean 3rd Qu.    Max. \n",
       "   1.00    2.00    5.00   15.17   14.00 1897.00 "
      ]
     },
     "metadata": {},
     "output_type": "display_data"
    }
   ],
   "source": [
    "summary(cs_id_size_all$cs_size)"
   ]
  },
  {
   "cell_type": "code",
   "execution_count": 14,
   "metadata": {
    "collapsed": false,
    "deletable": true,
    "editable": true,
    "scrolled": false
   },
   "outputs": [
    {
     "data": {
      "image/png": "[encoded data removed]",
      "text/plain": [
       "plot without title"
      ]
     },
     "metadata": {
      "image/png": {
       "height": 420,
       "width": 420
      }
     },
     "output_type": "display_data"
    }
   ],
   "source": [
    "plot(cs_id_size_all$cs_size)"
   ]
  },
  {
   "cell_type": "markdown",
   "metadata": {
    "deletable": true,
    "editable": true
   },
   "source": [
    "#### How many genes have exactly one CS?"
   ]
  },
  {
   "cell_type": "code",
   "execution_count": 43,
   "metadata": {
    "collapsed": false,
    "deletable": true,
    "editable": true,
    "scrolled": false
   },
   "outputs": [],
   "source": [
    "genes_with_cs <- unique(sorted_df_all$phenotype_id)\n",
    "df <- data.frame(\"gene\" = genes_with_cs,\n",
    "                 \"cs_count\" = NA)\n",
    "for(i in 1:nrow(df)) {\n",
    "    df[i,2] <- length(unique(sorted_df_all[sorted_df_all$phenotype_id == df[i,1],]$cs_id))\n",
    "}"
   ]
  },
  {
   "cell_type": "code",
   "execution_count": 44,
   "metadata": {
    "collapsed": false,
    "deletable": true,
    "editable": true,
    "scrolled": true
   },
   "outputs": [
    {
     "data": {
      "text/plain": [
       "   Min. 1st Qu.  Median    Mean 3rd Qu.    Max. \n",
       "  1.000   1.000   1.000   1.394   2.000   8.000 "
      ]
     },
     "metadata": {},
     "output_type": "display_data"
    }
   ],
   "source": [
    "summary(df$cs_count)"
   ]
  },
  {
   "cell_type": "code",
   "execution_count": 45,
   "metadata": {
    "collapsed": false,
    "deletable": true,
    "editable": true,
    "scrolled": true
   },
   "outputs": [
    {
     "data": {
      "text/html": [
       "<style>\n",
       ".list-inline {list-style: none; margin:0; padding: 0}\n",
       ".list-inline>li {display: inline-block}\n",
       ".list-inline>li:not(:last-child)::after {content: \"\\00b7\"; padding: 0 .5ex}\n",
       "</style>\n",
       "<ol class=list-inline><li>7654</li><li>2</li></ol>\n"
      ],
      "text/latex": [
       "\\begin{enumerate*}\n",
       "\\item 7654\n",
       "\\item 2\n",
       "\\end{enumerate*}\n"
      ],
      "text/markdown": [
       "1. 7654\n",
       "2. 2\n",
       "\n",
       "\n"
      ],
      "text/plain": [
       "[1] 7654    2"
      ]
     },
     "metadata": {},
     "output_type": "display_data"
    }
   ],
   "source": [
    "dim(df)"
   ]
  },
  {
   "cell_type": "code",
   "execution_count": 46,
   "metadata": {
    "collapsed": false,
    "deletable": true,
    "editable": true
   },
   "outputs": [
    {
     "data": {
      "text/html": [
       "5515"
      ],
      "text/latex": [
       "5515"
      ],
      "text/markdown": [
       "5515"
      ],
      "text/plain": [
       "[1] 5515"
      ]
     },
     "metadata": {},
     "output_type": "display_data"
    }
   ],
   "source": [
    "sum(df$cs_count == 1)"
   ]
  },
  {
   "cell_type": "code",
   "execution_count": 33,
   "metadata": {
    "collapsed": false,
    "deletable": true,
    "editable": true
   },
   "outputs": [
    {
     "data": {
      "image/png": "[encoded data removed]",
      "text/plain": [
       "plot without title"
      ]
     },
     "metadata": {
      "image/png": {
       "height": 420,
       "width": 420
      }
     },
     "output_type": "display_data"
    }
   ],
   "source": [
    "p <- ggplot(df, aes(x = cs_count)) +\n",
    "  geom_bar(fill = \"steelblue1\") +\n",
    "  scale_x_continuous(breaks = seq(1, 9, by = 1)) +\n",
    "  labs(x = \"Number of CS\", y = \"Gene count\") +\n",
    "  ggtitle(\"ALL SuSiE finemapping\") +\n",
    "  theme_classic() +\n",
    "  theme(axis.text = element_text(size = 16),\n",
    "        axis.title = element_text(size = 18),\n",
    "        plot.title = element_text(size = 18, face = \"bold\", hjust = 0.5))\n",
    "p"
   ]
  },
  {
   "cell_type": "code",
   "execution_count": 34,
   "metadata": {
    "collapsed": true,
    "deletable": true,
    "editable": true
   },
   "outputs": [],
   "source": [
    "ggsave(\"../../figures/susie_num_cs.png\", p, width = 6, height = 6)"
   ]
  },
  {
   "cell_type": "markdown",
   "metadata": {
    "deletable": true,
    "editable": true
   },
   "source": [
    "#### Number of independent signals compared to conditional QTL mapping"
   ]
  },
  {
   "cell_type": "code",
   "execution_count": 7,
   "metadata": {
    "collapsed": false,
    "deletable": true,
    "editable": true,
    "scrolled": false
   },
   "outputs": [],
   "source": [
    "conditional <- fread(\"../mixed_conditional_90hcp/conditional_top_variants.txt\", data.table = F)"
   ]
  },
  {
   "cell_type": "code",
   "execution_count": 8,
   "metadata": {
    "collapsed": false,
    "deletable": true,
    "editable": true,
    "scrolled": true
   },
   "outputs": [],
   "source": [
    "# filter for variant with backward p-value below threshold of this gene\n",
    "conditional <- conditional %>% filter(V20 == 1)\n",
    "# how many ranks of independent QTL each gene has?\n",
    "df_conditional <- data.frame(\"gene\" <- unique(conditional$V1),\n",
    "                 \"num_rank\" <- NA)\n",
    "for (i in 1:nrow(df_conditional)) {\n",
    "  gene <- df_conditional[i,1]\n",
    "  df_conditional[i,2] <- max(conditional[conditional$V1==gene,12]) + 1\n",
    "}\n",
    "names(df_conditional) <-c(\"gene\",\"num_rank\")"
   ]
  },
  {
   "cell_type": "code",
   "execution_count": 9,
   "metadata": {
    "collapsed": false,
    "deletable": true,
    "editable": true
   },
   "outputs": [
    {
     "data": {
      "text/plain": [
       "\n",
       "   1    2    3    4    5    6    7    8   10 \n",
       "7312 2413  815  292   95   35   10    7    1 "
      ]
     },
     "metadata": {},
     "output_type": "display_data"
    }
   ],
   "source": [
    "table(df_conditional$num_rank)"
   ]
  },
  {
   "cell_type": "code",
   "execution_count": 9,
   "metadata": {
    "collapsed": false,
    "deletable": true,
    "editable": true,
    "scrolled": true
   },
   "outputs": [
    {
     "data": {
      "text/html": [
       "<table>\n",
       "<caption>A data.frame: 6 × 3</caption>\n",
       "<thead>\n",
       "\t<tr><th></th><th scope=col>gene</th><th scope=col>cs_count</th><th scope=col>num_rank</th></tr>\n",
       "\t<tr><th></th><th scope=col>&lt;fct&gt;</th><th scope=col>&lt;int&gt;</th><th scope=col>&lt;dbl&gt;</th></tr>\n",
       "</thead>\n",
       "<tbody>\n",
       "\t<tr><th scope=row>1</th><td>ENSG00000166024</td><td>1</td><td>1</td></tr>\n",
       "\t<tr><th scope=row>2</th><td>ENSG00000119943</td><td>1</td><td>1</td></tr>\n",
       "\t<tr><th scope=row>3</th><td>ENSG00000205740</td><td>1</td><td>1</td></tr>\n",
       "\t<tr><th scope=row>4</th><td>ENSG00000119946</td><td>1</td><td>1</td></tr>\n",
       "\t<tr><th scope=row>5</th><td>ENSG00000014919</td><td>1</td><td>1</td></tr>\n",
       "\t<tr><th scope=row>6</th><td>ENSG00000233690</td><td>1</td><td>1</td></tr>\n",
       "</tbody>\n",
       "</table>\n"
      ],
      "text/latex": [
       "A data.frame: 6 × 3\n",
       "\\begin{tabular}{r|lll}\n",
       "  & gene & cs\\_count & num\\_rank\\\\\n",
       "  & <fct> & <int> & <dbl>\\\\\n",
       "\\hline\n",
       "\t1 & ENSG00000166024 & 1 & 1\\\\\n",
       "\t2 & ENSG00000119943 & 1 & 1\\\\\n",
       "\t3 & ENSG00000205740 & 1 & 1\\\\\n",
       "\t4 & ENSG00000119946 & 1 & 1\\\\\n",
       "\t5 & ENSG00000014919 & 1 & 1\\\\\n",
       "\t6 & ENSG00000233690 & 1 & 1\\\\\n",
       "\\end{tabular}\n"
      ],
      "text/markdown": [
       "\n",
       "A data.frame: 6 × 3\n",
       "\n",
       "| <!--/--> | gene &lt;fct&gt; | cs_count &lt;int&gt; | num_rank &lt;dbl&gt; |\n",
       "|---|---|---|---|\n",
       "| 1 | ENSG00000166024 | 1 | 1 |\n",
       "| 2 | ENSG00000119943 | 1 | 1 |\n",
       "| 3 | ENSG00000205740 | 1 | 1 |\n",
       "| 4 | ENSG00000119946 | 1 | 1 |\n",
       "| 5 | ENSG00000014919 | 1 | 1 |\n",
       "| 6 | ENSG00000233690 | 1 | 1 |\n",
       "\n"
      ],
      "text/plain": [
       "  gene            cs_count num_rank\n",
       "1 ENSG00000166024 1        1       \n",
       "2 ENSG00000119943 1        1       \n",
       "3 ENSG00000205740 1        1       \n",
       "4 ENSG00000119946 1        1       \n",
       "5 ENSG00000014919 1        1       \n",
       "6 ENSG00000233690 1        1       "
      ]
     },
     "metadata": {},
     "output_type": "display_data"
    }
   ],
   "source": [
    "# overlapping genes\n",
    "df <- df %>% left_join(df_conditional, by = \"gene\")\n",
    "head(df)"
   ]
  },
  {
   "cell_type": "code",
   "execution_count": 11,
   "metadata": {
    "collapsed": false,
    "deletable": true,
    "editable": true
   },
   "outputs": [
    {
     "data": {
      "text/html": [
       "<style>\n",
       ".list-inline {list-style: none; margin:0; padding: 0}\n",
       ".list-inline>li {display: inline-block}\n",
       ".list-inline>li:not(:last-child)::after {content: \"\\00b7\"; padding: 0 .5ex}\n",
       "</style>\n",
       "<ol class=list-inline><li>7654</li><li>3</li></ol>\n"
      ],
      "text/latex": [
       "\\begin{enumerate*}\n",
       "\\item 7654\n",
       "\\item 3\n",
       "\\end{enumerate*}\n"
      ],
      "text/markdown": [
       "1. 7654\n",
       "2. 3\n",
       "\n",
       "\n"
      ],
      "text/plain": [
       "[1] 7654    3"
      ]
     },
     "metadata": {},
     "output_type": "display_data"
    }
   ],
   "source": [
    "dim(df)"
   ]
  },
  {
   "cell_type": "code",
   "execution_count": 11,
   "metadata": {
    "collapsed": false,
    "deletable": true,
    "editable": true,
    "scrolled": true
   },
   "outputs": [
    {
     "data": {
      "text/html": [
       "7491"
      ],
      "text/latex": [
       "7491"
      ],
      "text/markdown": [
       "7491"
      ],
      "text/plain": [
       "[1] 7491"
      ]
     },
     "metadata": {},
     "output_type": "display_data"
    }
   ],
   "source": [
    "sum(complete.cases(df))"
   ]
  },
  {
   "cell_type": "code",
   "execution_count": 10,
   "metadata": {
    "collapsed": false,
    "deletable": true,
    "editable": true
   },
   "outputs": [],
   "source": [
    "df <- df[complete.cases(df),]"
   ]
  },
  {
   "cell_type": "code",
   "execution_count": 21,
   "metadata": {
    "collapsed": false,
    "deletable": true,
    "editable": true,
    "scrolled": false
   },
   "outputs": [
    {
     "data": {
      "image/png": "[encoded data removed]",
      "text/plain": [
       "plot without title"
      ]
     },
     "metadata": {
      "image/png": {
       "height": 420,
       "width": 420
      }
     },
     "output_type": "display_data"
    }
   ],
   "source": [
    "p <- ggplot(df, aes(x = cs_count, y = num_rank)) +\n",
    "  geom_count(color = \"steelblue1\") +\n",
    "#   geom_count(aes(color = ..n..), size=5) +\n",
    "  scale_size(range = c(1, 15), \"Gene count\") + \n",
    "#   geom_hex() +\n",
    "  labs(x = \"Number of SuSiE CS\", y = \"Number of conditionally\\nindependent cis-eQTL groups\") +\n",
    "  ggtitle(\"7491 genes in common\") +\n",
    "  theme_classic() +\n",
    "  theme(axis.text = element_text(size = 16),\n",
    "        axis.title = element_text(size = 18),\n",
    "        plot.title = element_text(size = 18, face = \"bold\", hjust = 0.5)) +\n",
    "  scale_x_continuous(breaks = seq(1,8,by=1)) +\n",
    "  scale_y_continuous(breaks = seq(1,10,by=1)) \n",
    "p"
   ]
  },
  {
   "cell_type": "code",
   "execution_count": 22,
   "metadata": {
    "collapsed": true,
    "deletable": true,
    "editable": true
   },
   "outputs": [],
   "source": [
    "ggsave(\"../../figures/susie_conditional.png\", p, width=6, height=6)"
   ]
  },
  {
   "cell_type": "code",
   "execution_count": 20,
   "metadata": {
    "collapsed": false,
    "deletable": true,
    "editable": true
   },
   "outputs": [
    {
     "data": {
      "text/html": [
       "0.660780812510582"
      ],
      "text/latex": [
       "0.660780812510582"
      ],
      "text/markdown": [
       "0.660780812510582"
      ],
      "text/plain": [
       "[1] 0.6607808"
      ]
     },
     "metadata": {},
     "output_type": "display_data"
    },
    {
     "data": {
      "text/html": [
       "0.724130655568041"
      ],
      "text/latex": [
       "0.724130655568041"
      ],
      "text/markdown": [
       "0.724130655568041"
      ],
      "text/plain": [
       "[1] 0.7241307"
      ]
     },
     "metadata": {},
     "output_type": "display_data"
    }
   ],
   "source": [
    "cor(df$cs_count, df$num_rank, method = 'spearman')\n",
    "cor(df$cs_count, df$num_rank, method = 'pearson')"
   ]
  },
  {
   "cell_type": "markdown",
   "metadata": {
    "deletable": true,
    "editable": true
   },
   "source": [
    "#### sum of PIP in CS"
   ]
  },
  {
   "cell_type": "code",
   "execution_count": 30,
   "metadata": {
    "collapsed": false,
    "deletable": true,
    "editable": true,
    "scrolled": true
   },
   "outputs": [
    {
     "name": "stderr",
     "output_type": "stream",
     "text": [
      "`summarise()` ungrouping output (override with `.groups` argument)\n",
      "\n"
     ]
    },
    {
     "data": {
      "text/plain": [
       "    cs_id              sum_pip      \n",
       " Length:10671       Min.   :0.9500  \n",
       " Class :character   1st Qu.:0.9651  \n",
       " Mode  :character   Median :0.9791  \n",
       "                    Mean   :0.9820  \n",
       "                    3rd Qu.:0.9984  \n",
       "                    Max.   :1.5440  "
      ]
     },
     "metadata": {},
     "output_type": "display_data"
    }
   ],
   "source": [
    "cs_sum_pip <- sorted_df_all %>% group_by(cs_id) %>% summarise(sum_pip = sum(pip))\n",
    "summary(cs_sum_pip)"
   ]
  },
  {
   "cell_type": "markdown",
   "metadata": {
    "deletable": true,
    "editable": true
   },
   "source": [
    "### 2. all credible sets (not filtered for purity)"
   ]
  },
  {
   "cell_type": "code",
   "execution_count": 14,
   "metadata": {
    "collapsed": false,
    "deletable": true,
    "editable": true
   },
   "outputs": [
    {
     "data": {
      "text/html": [
       "<style>\n",
       ".list-inline {list-style: none; margin:0; padding: 0}\n",
       ".list-inline>li {display: inline-block}\n",
       ".list-inline>li:not(:last-child)::after {content: \"\\00b7\"; padding: 0 .5ex}\n",
       "</style>\n",
       "<ol class=list-inline><li>15153</li><li>9</li></ol>\n"
      ],
      "text/latex": [
       "\\begin{enumerate*}\n",
       "\\item 15153\n",
       "\\item 9\n",
       "\\end{enumerate*}\n"
      ],
      "text/markdown": [
       "1. 15153\n",
       "2. 9\n",
       "\n",
       "\n"
      ],
      "text/plain": [
       "[1] 15153     9"
      ]
     },
     "metadata": {},
     "output_type": "display_data"
    }
   ],
   "source": [
    "cs <- fread(\"mixed_ciseqtl_90hcp_perm.cred.txt.gz\", data.table = F)\n",
    "dim(cs)"
   ]
  },
  {
   "cell_type": "code",
   "execution_count": 15,
   "metadata": {
    "collapsed": false,
    "deletable": true,
    "editable": true,
    "scrolled": true
   },
   "outputs": [
    {
     "data": {
      "text/html": [
       "<table>\n",
       "<caption>A data.frame: 6 × 9</caption>\n",
       "<thead>\n",
       "\t<tr><th></th><th scope=col>phenotype_id</th><th scope=col>cs_id</th><th scope=col>cs_index</th><th scope=col>finemapped_region</th><th scope=col>cs_log10bf</th><th scope=col>cs_avg_r2</th><th scope=col>cs_min_r2</th><th scope=col>cs_size</th><th scope=col>low_purity</th></tr>\n",
       "\t<tr><th></th><th scope=col>&lt;chr&gt;</th><th scope=col>&lt;chr&gt;</th><th scope=col>&lt;chr&gt;</th><th scope=col>&lt;chr&gt;</th><th scope=col>&lt;dbl&gt;</th><th scope=col>&lt;dbl&gt;</th><th scope=col>&lt;dbl&gt;</th><th scope=col>&lt;int&gt;</th><th scope=col>&lt;lgl&gt;</th></tr>\n",
       "</thead>\n",
       "<tbody>\n",
       "\t<tr><th scope=row>1</th><td>ENSG00000273079</td><td>ENSG00000273079_L1</td><td>L1</td><td>chr12:13134890-15134890</td><td> 2.141959084</td><td>1.000000000</td><td>1.000000e+00</td><td>   1</td><td>FALSE</td></tr>\n",
       "\t<tr><th scope=row>2</th><td>ENSG00000256751</td><td>ENSG00000256751_L1</td><td>L1</td><td>chr12:13720326-15720326</td><td>17.034654510</td><td>0.960079401</td><td>9.209719e-01</td><td>   2</td><td>FALSE</td></tr>\n",
       "\t<tr><th scope=row>3</th><td>ENSG00000182993</td><td>ENSG00000182993_L1</td><td>L1</td><td>chr12:13956599-15956599</td><td>32.321039529</td><td>1.000000000</td><td>1.000000e+00</td><td>   1</td><td>FALSE</td></tr>\n",
       "\t<tr><th scope=row>4</th><td>ENSG00000182993</td><td>ENSG00000182993_L3</td><td>L3</td><td>chr12:13956599-15956599</td><td> 0.003084303</td><td>0.004807284</td><td>2.735455e-09</td><td>5552</td><td> TRUE</td></tr>\n",
       "\t<tr><th scope=row>5</th><td>ENSG00000286107</td><td>ENSG00000286107_L1</td><td>L1</td><td>chr12:13958041-15958041</td><td> 6.369879867</td><td>0.773075121</td><td>5.753129e-01</td><td>   2</td><td>FALSE</td></tr>\n",
       "\t<tr><th scope=row>6</th><td>ENSG00000256650</td><td>ENSG00000256650_L1</td><td>L1</td><td>chr12:14267631-16267631</td><td> 1.507194318</td><td>0.819963722</td><td>5.982717e-01</td><td>   4</td><td>FALSE</td></tr>\n",
       "</tbody>\n",
       "</table>\n"
      ],
      "text/latex": [
       "A data.frame: 6 × 9\n",
       "\\begin{tabular}{r|lllllllll}\n",
       "  & phenotype\\_id & cs\\_id & cs\\_index & finemapped\\_region & cs\\_log10bf & cs\\_avg\\_r2 & cs\\_min\\_r2 & cs\\_size & low\\_purity\\\\\n",
       "  & <chr> & <chr> & <chr> & <chr> & <dbl> & <dbl> & <dbl> & <int> & <lgl>\\\\\n",
       "\\hline\n",
       "\t1 & ENSG00000273079 & ENSG00000273079\\_L1 & L1 & chr12:13134890-15134890 &  2.141959084 & 1.000000000 & 1.000000e+00 &    1 & FALSE\\\\\n",
       "\t2 & ENSG00000256751 & ENSG00000256751\\_L1 & L1 & chr12:13720326-15720326 & 17.034654510 & 0.960079401 & 9.209719e-01 &    2 & FALSE\\\\\n",
       "\t3 & ENSG00000182993 & ENSG00000182993\\_L1 & L1 & chr12:13956599-15956599 & 32.321039529 & 1.000000000 & 1.000000e+00 &    1 & FALSE\\\\\n",
       "\t4 & ENSG00000182993 & ENSG00000182993\\_L3 & L3 & chr12:13956599-15956599 &  0.003084303 & 0.004807284 & 2.735455e-09 & 5552 &  TRUE\\\\\n",
       "\t5 & ENSG00000286107 & ENSG00000286107\\_L1 & L1 & chr12:13958041-15958041 &  6.369879867 & 0.773075121 & 5.753129e-01 &    2 & FALSE\\\\\n",
       "\t6 & ENSG00000256650 & ENSG00000256650\\_L1 & L1 & chr12:14267631-16267631 &  1.507194318 & 0.819963722 & 5.982717e-01 &    4 & FALSE\\\\\n",
       "\\end{tabular}\n"
      ],
      "text/markdown": [
       "\n",
       "A data.frame: 6 × 9\n",
       "\n",
       "| <!--/--> | phenotype_id &lt;chr&gt; | cs_id &lt;chr&gt; | cs_index &lt;chr&gt; | finemapped_region &lt;chr&gt; | cs_log10bf &lt;dbl&gt; | cs_avg_r2 &lt;dbl&gt; | cs_min_r2 &lt;dbl&gt; | cs_size &lt;int&gt; | low_purity &lt;lgl&gt; |\n",
       "|---|---|---|---|---|---|---|---|---|---|\n",
       "| 1 | ENSG00000273079 | ENSG00000273079_L1 | L1 | chr12:13134890-15134890 |  2.141959084 | 1.000000000 | 1.000000e+00 |    1 | FALSE |\n",
       "| 2 | ENSG00000256751 | ENSG00000256751_L1 | L1 | chr12:13720326-15720326 | 17.034654510 | 0.960079401 | 9.209719e-01 |    2 | FALSE |\n",
       "| 3 | ENSG00000182993 | ENSG00000182993_L1 | L1 | chr12:13956599-15956599 | 32.321039529 | 1.000000000 | 1.000000e+00 |    1 | FALSE |\n",
       "| 4 | ENSG00000182993 | ENSG00000182993_L3 | L3 | chr12:13956599-15956599 |  0.003084303 | 0.004807284 | 2.735455e-09 | 5552 |  TRUE |\n",
       "| 5 | ENSG00000286107 | ENSG00000286107_L1 | L1 | chr12:13958041-15958041 |  6.369879867 | 0.773075121 | 5.753129e-01 |    2 | FALSE |\n",
       "| 6 | ENSG00000256650 | ENSG00000256650_L1 | L1 | chr12:14267631-16267631 |  1.507194318 | 0.819963722 | 5.982717e-01 |    4 | FALSE |\n",
       "\n"
      ],
      "text/plain": [
       "  phenotype_id    cs_id              cs_index finemapped_region      \n",
       "1 ENSG00000273079 ENSG00000273079_L1 L1       chr12:13134890-15134890\n",
       "2 ENSG00000256751 ENSG00000256751_L1 L1       chr12:13720326-15720326\n",
       "3 ENSG00000182993 ENSG00000182993_L1 L1       chr12:13956599-15956599\n",
       "4 ENSG00000182993 ENSG00000182993_L3 L3       chr12:13956599-15956599\n",
       "5 ENSG00000286107 ENSG00000286107_L1 L1       chr12:13958041-15958041\n",
       "6 ENSG00000256650 ENSG00000256650_L1 L1       chr12:14267631-16267631\n",
       "  cs_log10bf   cs_avg_r2   cs_min_r2    cs_size low_purity\n",
       "1  2.141959084 1.000000000 1.000000e+00    1    FALSE     \n",
       "2 17.034654510 0.960079401 9.209719e-01    2    FALSE     \n",
       "3 32.321039529 1.000000000 1.000000e+00    1    FALSE     \n",
       "4  0.003084303 0.004807284 2.735455e-09 5552     TRUE     \n",
       "5  6.369879867 0.773075121 5.753129e-01    2    FALSE     \n",
       "6  1.507194318 0.819963722 5.982717e-01    4    FALSE     "
      ]
     },
     "metadata": {},
     "output_type": "display_data"
    }
   ],
   "source": [
    "head(cs)"
   ]
  },
  {
   "cell_type": "code",
   "execution_count": 16,
   "metadata": {
    "collapsed": false,
    "deletable": true,
    "editable": true,
    "scrolled": false
   },
   "outputs": [
    {
     "data": {
      "text/html": [
       "10093"
      ],
      "text/latex": [
       "10093"
      ],
      "text/markdown": [
       "10093"
      ],
      "text/plain": [
       "[1] 10093"
      ]
     },
     "metadata": {},
     "output_type": "display_data"
    }
   ],
   "source": [
    "length(unique(cs$phenotype_id))"
   ]
  },
  {
   "cell_type": "code",
   "execution_count": 17,
   "metadata": {
    "collapsed": false,
    "deletable": true,
    "editable": true,
    "scrolled": true
   },
   "outputs": [
    {
     "data": {
      "text/plain": [
       "\n",
       "FALSE  TRUE \n",
       "10671  4482 "
      ]
     },
     "metadata": {},
     "output_type": "display_data"
    }
   ],
   "source": [
    "table(cs$low_purity)"
   ]
  },
  {
   "cell_type": "code",
   "execution_count": 35,
   "metadata": {
    "collapsed": false,
    "deletable": true,
    "editable": true,
    "scrolled": true
   },
   "outputs": [
    {
     "data": {
      "text/html": [
       "<table>\n",
       "<caption>A data.frame: 6 × 9</caption>\n",
       "<thead>\n",
       "\t<tr><th></th><th scope=col>phenotype_id</th><th scope=col>cs_id</th><th scope=col>cs_index</th><th scope=col>finemapped_region</th><th scope=col>cs_log10bf</th><th scope=col>cs_avg_r2</th><th scope=col>cs_min_r2</th><th scope=col>cs_size</th><th scope=col>low_purity</th></tr>\n",
       "\t<tr><th></th><th scope=col>&lt;chr&gt;</th><th scope=col>&lt;chr&gt;</th><th scope=col>&lt;chr&gt;</th><th scope=col>&lt;chr&gt;</th><th scope=col>&lt;dbl&gt;</th><th scope=col>&lt;dbl&gt;</th><th scope=col>&lt;dbl&gt;</th><th scope=col>&lt;int&gt;</th><th scope=col>&lt;lgl&gt;</th></tr>\n",
       "</thead>\n",
       "<tbody>\n",
       "\t<tr><th scope=row>1</th><td>ENSG00000111261</td><td>ENSG00000111261_L1</td><td>L1</td><td>chr12:11503175-13503175</td><td>4.07944167</td><td>0.726510897</td><td>1.744063e-01</td><td>  11</td><td>TRUE</td></tr>\n",
       "\t<tr><th scope=row>2</th><td>ENSG00000255670</td><td>ENSG00000255670_L2</td><td>L2</td><td>chr12:11638286-13638286</td><td>0.45976964</td><td>0.003582169</td><td>4.231532e-10</td><td>2859</td><td>TRUE</td></tr>\n",
       "\t<tr><th scope=row>3</th><td>ENSG00000111269</td><td>ENSG00000111269_L1</td><td>L1</td><td>chr12:11764760-13764760</td><td>2.16559198</td><td>0.568307145</td><td>9.618169e-02</td><td>  25</td><td>TRUE</td></tr>\n",
       "\t<tr><th scope=row>4</th><td>ENSG00000275963</td><td>ENSG00000275963_L5</td><td>L5</td><td>chr12:11801872-13801872</td><td>0.05347751</td><td>0.003353675</td><td>1.313858e-09</td><td>5537</td><td>TRUE</td></tr>\n",
       "\t<tr><th scope=row>5</th><td>ENSG00000183150</td><td>ENSG00000183150_L7</td><td>L7</td><td>chr12:11849140-13849140</td><td>0.01117094</td><td>0.003360231</td><td>1.960944e-10</td><td>5668</td><td>TRUE</td></tr>\n",
       "\t<tr><th scope=row>6</th><td>ENSG00000178878</td><td>ENSG00000178878_L2</td><td>L2</td><td>chr12:11878850-13878850</td><td>1.01661800</td><td>0.034086444</td><td>1.156653e-06</td><td>  30</td><td>TRUE</td></tr>\n",
       "</tbody>\n",
       "</table>\n"
      ],
      "text/latex": [
       "A data.frame: 6 × 9\n",
       "\\begin{tabular}{r|lllllllll}\n",
       "  & phenotype\\_id & cs\\_id & cs\\_index & finemapped\\_region & cs\\_log10bf & cs\\_avg\\_r2 & cs\\_min\\_r2 & cs\\_size & low\\_purity\\\\\n",
       "  & <chr> & <chr> & <chr> & <chr> & <dbl> & <dbl> & <dbl> & <int> & <lgl>\\\\\n",
       "\\hline\n",
       "\t1 & ENSG00000111261 & ENSG00000111261\\_L1 & L1 & chr12:11503175-13503175 & 4.07944167 & 0.726510897 & 1.744063e-01 &   11 & TRUE\\\\\n",
       "\t2 & ENSG00000255670 & ENSG00000255670\\_L2 & L2 & chr12:11638286-13638286 & 0.45976964 & 0.003582169 & 4.231532e-10 & 2859 & TRUE\\\\\n",
       "\t3 & ENSG00000111269 & ENSG00000111269\\_L1 & L1 & chr12:11764760-13764760 & 2.16559198 & 0.568307145 & 9.618169e-02 &   25 & TRUE\\\\\n",
       "\t4 & ENSG00000275963 & ENSG00000275963\\_L5 & L5 & chr12:11801872-13801872 & 0.05347751 & 0.003353675 & 1.313858e-09 & 5537 & TRUE\\\\\n",
       "\t5 & ENSG00000183150 & ENSG00000183150\\_L7 & L7 & chr12:11849140-13849140 & 0.01117094 & 0.003360231 & 1.960944e-10 & 5668 & TRUE\\\\\n",
       "\t6 & ENSG00000178878 & ENSG00000178878\\_L2 & L2 & chr12:11878850-13878850 & 1.01661800 & 0.034086444 & 1.156653e-06 &   30 & TRUE\\\\\n",
       "\\end{tabular}\n"
      ],
      "text/markdown": [
       "\n",
       "A data.frame: 6 × 9\n",
       "\n",
       "| <!--/--> | phenotype_id &lt;chr&gt; | cs_id &lt;chr&gt; | cs_index &lt;chr&gt; | finemapped_region &lt;chr&gt; | cs_log10bf &lt;dbl&gt; | cs_avg_r2 &lt;dbl&gt; | cs_min_r2 &lt;dbl&gt; | cs_size &lt;int&gt; | low_purity &lt;lgl&gt; |\n",
       "|---|---|---|---|---|---|---|---|---|---|\n",
       "| 1 | ENSG00000111261 | ENSG00000111261_L1 | L1 | chr12:11503175-13503175 | 4.07944167 | 0.726510897 | 1.744063e-01 |   11 | TRUE |\n",
       "| 2 | ENSG00000255670 | ENSG00000255670_L2 | L2 | chr12:11638286-13638286 | 0.45976964 | 0.003582169 | 4.231532e-10 | 2859 | TRUE |\n",
       "| 3 | ENSG00000111269 | ENSG00000111269_L1 | L1 | chr12:11764760-13764760 | 2.16559198 | 0.568307145 | 9.618169e-02 |   25 | TRUE |\n",
       "| 4 | ENSG00000275963 | ENSG00000275963_L5 | L5 | chr12:11801872-13801872 | 0.05347751 | 0.003353675 | 1.313858e-09 | 5537 | TRUE |\n",
       "| 5 | ENSG00000183150 | ENSG00000183150_L7 | L7 | chr12:11849140-13849140 | 0.01117094 | 0.003360231 | 1.960944e-10 | 5668 | TRUE |\n",
       "| 6 | ENSG00000178878 | ENSG00000178878_L2 | L2 | chr12:11878850-13878850 | 1.01661800 | 0.034086444 | 1.156653e-06 |   30 | TRUE |\n",
       "\n"
      ],
      "text/plain": [
       "  phenotype_id    cs_id              cs_index finemapped_region      \n",
       "1 ENSG00000111261 ENSG00000111261_L1 L1       chr12:11503175-13503175\n",
       "2 ENSG00000255670 ENSG00000255670_L2 L2       chr12:11638286-13638286\n",
       "3 ENSG00000111269 ENSG00000111269_L1 L1       chr12:11764760-13764760\n",
       "4 ENSG00000275963 ENSG00000275963_L5 L5       chr12:11801872-13801872\n",
       "5 ENSG00000183150 ENSG00000183150_L7 L7       chr12:11849140-13849140\n",
       "6 ENSG00000178878 ENSG00000178878_L2 L2       chr12:11878850-13878850\n",
       "  cs_log10bf cs_avg_r2   cs_min_r2    cs_size low_purity\n",
       "1 4.07944167 0.726510897 1.744063e-01   11    TRUE      \n",
       "2 0.45976964 0.003582169 4.231532e-10 2859    TRUE      \n",
       "3 2.16559198 0.568307145 9.618169e-02   25    TRUE      \n",
       "4 0.05347751 0.003353675 1.313858e-09 5537    TRUE      \n",
       "5 0.01117094 0.003360231 1.960944e-10 5668    TRUE      \n",
       "6 1.01661800 0.034086444 1.156653e-06   30    TRUE      "
      ]
     },
     "metadata": {},
     "output_type": "display_data"
    }
   ],
   "source": [
    "head(cs %>% filter(low_purity))"
   ]
  },
  {
   "cell_type": "markdown",
   "metadata": {
    "deletable": true,
    "editable": true
   },
   "source": [
    "**See code for low purity definition:**\n",
    "```{r}\n",
    "dplyr::mutate(\n",
    "        cs_avg_r2 = mean.abs.corr^2,\n",
    "        cs_min_r2 = min.abs.corr^2,\n",
    "        low_purity = min.abs.corr < 0.5\n",
    "      )\n",
    "```"
   ]
  },
  {
   "cell_type": "code",
   "execution_count": 36,
   "metadata": {
    "collapsed": false,
    "deletable": true,
    "editable": true
   },
   "outputs": [
    {
     "data": {
      "text/html": [
       "0.24988465703333"
      ],
      "text/latex": [
       "0.24988465703333"
      ],
      "text/markdown": [
       "0.24988465703333"
      ],
      "text/plain": [
       "[1] 0.2498847"
      ]
     },
     "metadata": {},
     "output_type": "display_data"
    }
   ],
   "source": [
    "max(cs %>% filter(low_purity) %>% select(cs_min_r2))"
   ]
  },
  {
   "cell_type": "code",
   "execution_count": 37,
   "metadata": {
    "collapsed": false,
    "deletable": true,
    "editable": true
   },
   "outputs": [
    {
     "data": {
      "text/html": [
       "0.250096834827747"
      ],
      "text/latex": [
       "0.250096834827747"
      ],
      "text/markdown": [
       "0.250096834827747"
      ],
      "text/plain": [
       "[1] 0.2500968"
      ]
     },
     "metadata": {},
     "output_type": "display_data"
    }
   ],
   "source": [
    "min(cs %>% filter(!low_purity) %>% select(cs_min_r2))"
   ]
  },
  {
   "cell_type": "markdown",
   "metadata": {
    "deletable": true,
    "editable": true
   },
   "source": [
    "### 3. all tested variants (very big file)"
   ]
  },
  {
   "cell_type": "markdown",
   "metadata": {
    "deletable": true,
    "editable": true
   },
   "source": [
    "## EUR results\n",
    "- We started with 5296 eGenes identified by FastQTL permutation pass for EUR with 50 HCP in covariates\n",
    "- After filtering for CS purity: \n",
    "    - 4619 genes have non-low purity CS\n",
    "    - 5559 unique CS\n",
    "    - 95842 unique variants in CS\n",
    "- Of the 5559 CS:\n",
    "    - 1018 contain exactly one SNP (strong candidates for causal variants)\n",
    "    - 560 contain exactly two SNPs\n",
    "    - median size 7, mean 23.08, max 1945\n",
    "- Of the 4619 genes:\n",
    "    - 3835 have exactly one CS\n",
    "    - up to 5"
   ]
  },
  {
   "cell_type": "code",
   "execution_count": 2,
   "metadata": {
    "collapsed": false,
    "deletable": true,
    "editable": true
   },
   "outputs": [
    {
     "data": {
      "text/html": [
       "<style>\n",
       ".list-inline {list-style: none; margin:0; padding: 0}\n",
       ".list-inline>li {display: inline-block}\n",
       ".list-inline>li:not(:last-child)::after {content: \"\\00b7\"; padding: 0 .5ex}\n",
       "</style>\n",
       "<ol class=list-inline><li>128302</li><li>17</li></ol>\n"
      ],
      "text/latex": [
       "\\begin{enumerate*}\n",
       "\\item 128302\n",
       "\\item 17\n",
       "\\end{enumerate*}\n"
      ],
      "text/markdown": [
       "1. 128302\n",
       "2. 17\n",
       "\n",
       "\n"
      ],
      "text/plain": [
       "[1] 128302     17"
      ]
     },
     "metadata": {},
     "output_type": "display_data"
    }
   ],
   "source": [
    "sorted_df_eur <- fread(\"eur_ciseqtl_50hcp_perm_purity_filtered.txt.gz\", data.table = F)\n",
    "dim(sorted_df_eur)"
   ]
  },
  {
   "cell_type": "code",
   "execution_count": 37,
   "metadata": {
    "collapsed": false,
    "deletable": true,
    "editable": true
   },
   "outputs": [
    {
     "data": {
      "text/html": [
       "4619"
      ],
      "text/latex": [
       "4619"
      ],
      "text/markdown": [
       "4619"
      ],
      "text/plain": [
       "[1] 4619"
      ]
     },
     "metadata": {},
     "output_type": "display_data"
    }
   ],
   "source": [
    "# how many eGenes got finemapped non-low purity CS\n",
    "length(unique(sorted_df_eur$phenotype_id))"
   ]
  },
  {
   "cell_type": "code",
   "execution_count": 38,
   "metadata": {
    "collapsed": false,
    "deletable": true,
    "editable": true
   },
   "outputs": [
    {
     "data": {
      "text/html": [
       "95842"
      ],
      "text/latex": [
       "95842"
      ],
      "text/markdown": [
       "95842"
      ],
      "text/plain": [
       "[1] 95842"
      ]
     },
     "metadata": {},
     "output_type": "display_data"
    }
   ],
   "source": [
    "# how many unique variants in all CS\n",
    "length(unique(sorted_df_eur$variant_id))"
   ]
  },
  {
   "cell_type": "code",
   "execution_count": 48,
   "metadata": {
    "collapsed": false,
    "deletable": true,
    "editable": true
   },
   "outputs": [
    {
     "data": {
      "text/html": [
       "5559"
      ],
      "text/latex": [
       "5559"
      ],
      "text/markdown": [
       "5559"
      ],
      "text/plain": [
       "[1] 5559"
      ]
     },
     "metadata": {},
     "output_type": "display_data"
    }
   ],
   "source": [
    "# how many unique non-low purity CS\n",
    "length(unique(sorted_df_eur$cs_id))"
   ]
  },
  {
   "cell_type": "code",
   "execution_count": 3,
   "metadata": {
    "collapsed": false,
    "deletable": true,
    "editable": true
   },
   "outputs": [
    {
     "data": {
      "text/html": [
       "1018"
      ],
      "text/latex": [
       "1018"
      ],
      "text/markdown": [
       "1018"
      ],
      "text/plain": [
       "[1] 1018"
      ]
     },
     "metadata": {},
     "output_type": "display_data"
    },
    {
     "data": {
      "text/html": [
       "560"
      ],
      "text/latex": [
       "560"
      ],
      "text/markdown": [
       "560"
      ],
      "text/plain": [
       "[1] 560"
      ]
     },
     "metadata": {},
     "output_type": "display_data"
    },
    {
     "data": {
      "text/html": [
       "<style>\n",
       ".list-inline {list-style: none; margin:0; padding: 0}\n",
       ".list-inline>li {display: inline-block}\n",
       ".list-inline>li:not(:last-child)::after {content: \"\\00b7\"; padding: 0 .5ex}\n",
       "</style>\n",
       "<ol class=list-inline><li>5559</li><li>4</li></ol>\n"
      ],
      "text/latex": [
       "\\begin{enumerate*}\n",
       "\\item 5559\n",
       "\\item 4\n",
       "\\end{enumerate*}\n"
      ],
      "text/markdown": [
       "1. 5559\n",
       "2. 4\n",
       "\n",
       "\n"
      ],
      "text/plain": [
       "[1] 5559    4"
      ]
     },
     "metadata": {},
     "output_type": "display_data"
    }
   ],
   "source": [
    "# how many CS contain exactly one/two SNP\n",
    "cs_id_size_eur <- sorted_df_eur[!duplicated(sorted_df_eur$cs_id),] %>% select(phenotype_id, cs_id, cs_size, finemapped_region)\n",
    "sum(cs_id_size_eur$cs_size==1)\n",
    "sum(cs_id_size_eur$cs_size==2)\n",
    "dim(cs_id_size_eur)"
   ]
  },
  {
   "cell_type": "code",
   "execution_count": 9,
   "metadata": {
    "collapsed": false,
    "deletable": true,
    "editable": true
   },
   "outputs": [
    {
     "data": {
      "text/plain": [
       "   Min. 1st Qu.  Median    Mean 3rd Qu.    Max. \n",
       "   1.00    2.00    7.00   23.08   22.00 1945.00 "
      ]
     },
     "metadata": {},
     "output_type": "display_data"
    }
   ],
   "source": [
    "summary(cs_id_size_eur$cs_size)"
   ]
  },
  {
   "cell_type": "code",
   "execution_count": 23,
   "metadata": {
    "collapsed": false,
    "deletable": true,
    "editable": true
   },
   "outputs": [
    {
     "data": {
      "image/png": "[encoded data removed]",
      "text/plain": [
       "plot without title"
      ]
     },
     "metadata": {
      "image/png": {
       "height": 420,
       "width": 420
      }
     },
     "output_type": "display_data"
    }
   ],
   "source": [
    "plot(cs_id_size_eur$cs_size)"
   ]
  },
  {
   "cell_type": "code",
   "execution_count": 49,
   "metadata": {
    "collapsed": false,
    "deletable": true,
    "editable": true
   },
   "outputs": [
    {
     "data": {
      "text/plain": [
       "   Min. 1st Qu.  Median    Mean 3rd Qu.    Max. \n",
       "  1.000   1.000   1.000   1.204   1.000   5.000 "
      ]
     },
     "metadata": {},
     "output_type": "display_data"
    },
    {
     "data": {
      "text/html": [
       "3835"
      ],
      "text/latex": [
       "3835"
      ],
      "text/markdown": [
       "3835"
      ],
      "text/plain": [
       "[1] 3835"
      ]
     },
     "metadata": {},
     "output_type": "display_data"
    }
   ],
   "source": [
    "# how many genes have exactly one CS\n",
    "genes_with_cs <- unique(sorted_df_eur$phenotype_id)\n",
    "df <- data.frame(\"gene\" = genes_with_cs,\n",
    "                 \"cs_count\" = NA)\n",
    "for(i in 1:nrow(df)) {\n",
    "    df[i,2] <- length(unique(sorted_df_eur[sorted_df_eur$phenotype_id == df[i,1],]$cs_id))\n",
    "}\n",
    "summary(df$cs_count)\n",
    "sum(df$cs_count == 1)"
   ]
  },
  {
   "cell_type": "code",
   "execution_count": 40,
   "metadata": {
    "collapsed": false,
    "deletable": true,
    "editable": true
   },
   "outputs": [
    {
     "data": {
      "image/png": "[encoded data removed]",
      "text/plain": [
       "plot without title"
      ]
     },
     "metadata": {
      "image/png": {
       "height": 420,
       "width": 420
      }
     },
     "output_type": "display_data"
    }
   ],
   "source": [
    "p <- ggplot(df, aes(x = cs_count)) +\n",
    "  geom_bar(fill = \"steelblue1\") +\n",
    "  scale_x_continuous(breaks = seq(1, 9, by = 1)) +\n",
    "  labs(x = \"Number of CS\", y = \"Gene count\") +\n",
    "  ggtitle(\"EUR SuSiE finemapping\") +\n",
    "  theme_classic() +\n",
    "  theme(axis.text = element_text(size = 16),\n",
    "        axis.title = element_text(size = 18),\n",
    "        plot.title = element_text(size = 18, face = \"bold\", hjust = 0.5))\n",
    "p"
   ]
  },
  {
   "cell_type": "code",
   "execution_count": 41,
   "metadata": {
    "collapsed": true,
    "deletable": true,
    "editable": true
   },
   "outputs": [],
   "source": [
    "ggsave(\"../../figures/susie_num_cs_eur.png\", p, width = 6, height = 6)"
   ]
  },
  {
   "cell_type": "markdown",
   "metadata": {
    "collapsed": true,
    "deletable": true,
    "editable": true
   },
   "source": [
    "## AMR results\n",
    "- We started with 3242 eGenes identified by FastQTL permutation pass for AMR with 15 HCP in covariates\n",
    "- After filtering for CS purity: \n",
    "    - 2676 genes have non-low purity CS\n",
    "    - 3009 unique CS\n",
    "    - 55636 unique variants in CS\n",
    "- Of the 3009 CS:\n",
    "    - 520 contain exactly one SNP (strong candidates for causal variants)\n",
    "    - 279 contain exactly two SNPs\n",
    "    - median size 8, mean 31.53, max 2243\n",
    "- Of the 2676 genes:\n",
    "    - 2391 have exactly one CS\n",
    "    - up to 4"
   ]
  },
  {
   "cell_type": "code",
   "execution_count": 4,
   "metadata": {
    "collapsed": false,
    "deletable": true,
    "editable": true
   },
   "outputs": [
    {
     "data": {
      "text/html": [
       "<style>\n",
       ".list-inline {list-style: none; margin:0; padding: 0}\n",
       ".list-inline>li {display: inline-block}\n",
       ".list-inline>li:not(:last-child)::after {content: \"\\00b7\"; padding: 0 .5ex}\n",
       "</style>\n",
       "<ol class=list-inline><li>94868</li><li>17</li></ol>\n"
      ],
      "text/latex": [
       "\\begin{enumerate*}\n",
       "\\item 94868\n",
       "\\item 17\n",
       "\\end{enumerate*}\n"
      ],
      "text/markdown": [
       "1. 94868\n",
       "2. 17\n",
       "\n",
       "\n"
      ],
      "text/plain": [
       "[1] 94868    17"
      ]
     },
     "metadata": {},
     "output_type": "display_data"
    }
   ],
   "source": [
    "sorted_df_amr <- fread(\"amr_ciseqtl_15hcp_perm_purity_filtered.txt.gz\", data.table = F)\n",
    "dim(sorted_df_amr)"
   ]
  },
  {
   "cell_type": "code",
   "execution_count": 3,
   "metadata": {
    "collapsed": false,
    "deletable": true,
    "editable": true
   },
   "outputs": [
    {
     "data": {
      "text/html": [
       "2676"
      ],
      "text/latex": [
       "2676"
      ],
      "text/markdown": [
       "2676"
      ],
      "text/plain": [
       "[1] 2676"
      ]
     },
     "metadata": {},
     "output_type": "display_data"
    }
   ],
   "source": [
    "# how many eGenes got finemapped non-low purity CS\n",
    "length(unique(sorted_df_amr$phenotype_id))"
   ]
  },
  {
   "cell_type": "code",
   "execution_count": 4,
   "metadata": {
    "collapsed": false,
    "deletable": true,
    "editable": true
   },
   "outputs": [
    {
     "data": {
      "text/html": [
       "55636"
      ],
      "text/latex": [
       "55636"
      ],
      "text/markdown": [
       "55636"
      ],
      "text/plain": [
       "[1] 55636"
      ]
     },
     "metadata": {},
     "output_type": "display_data"
    }
   ],
   "source": [
    "# how many unique variants in all CS\n",
    "length(unique(sorted_df_amr$variant_id))"
   ]
  },
  {
   "cell_type": "code",
   "execution_count": 5,
   "metadata": {
    "collapsed": false,
    "deletable": true,
    "editable": true
   },
   "outputs": [
    {
     "data": {
      "text/html": [
       "3009"
      ],
      "text/latex": [
       "3009"
      ],
      "text/markdown": [
       "3009"
      ],
      "text/plain": [
       "[1] 3009"
      ]
     },
     "metadata": {},
     "output_type": "display_data"
    }
   ],
   "source": [
    "# how many unique non-low purity CS\n",
    "length(unique(sorted_df_amr$cs_id))"
   ]
  },
  {
   "cell_type": "code",
   "execution_count": 5,
   "metadata": {
    "collapsed": false,
    "deletable": true,
    "editable": true
   },
   "outputs": [
    {
     "data": {
      "text/html": [
       "520"
      ],
      "text/latex": [
       "520"
      ],
      "text/markdown": [
       "520"
      ],
      "text/plain": [
       "[1] 520"
      ]
     },
     "metadata": {},
     "output_type": "display_data"
    },
    {
     "data": {
      "text/html": [
       "279"
      ],
      "text/latex": [
       "279"
      ],
      "text/markdown": [
       "279"
      ],
      "text/plain": [
       "[1] 279"
      ]
     },
     "metadata": {},
     "output_type": "display_data"
    },
    {
     "data": {
      "text/html": [
       "<style>\n",
       ".list-inline {list-style: none; margin:0; padding: 0}\n",
       ".list-inline>li {display: inline-block}\n",
       ".list-inline>li:not(:last-child)::after {content: \"\\00b7\"; padding: 0 .5ex}\n",
       "</style>\n",
       "<ol class=list-inline><li>3009</li><li>4</li></ol>\n"
      ],
      "text/latex": [
       "\\begin{enumerate*}\n",
       "\\item 3009\n",
       "\\item 4\n",
       "\\end{enumerate*}\n"
      ],
      "text/markdown": [
       "1. 3009\n",
       "2. 4\n",
       "\n",
       "\n"
      ],
      "text/plain": [
       "[1] 3009    4"
      ]
     },
     "metadata": {},
     "output_type": "display_data"
    }
   ],
   "source": [
    "# how many CS contain exactly one/two SNP\n",
    "cs_id_size_amr <- sorted_df_amr[!duplicated(sorted_df_amr$cs_id),] %>% select(phenotype_id, cs_id, cs_size, finemapped_region)\n",
    "sum(cs_id_size_amr$cs_size==1)\n",
    "sum(cs_id_size_amr$cs_size==2)\n",
    "dim(cs_id_size_amr)"
   ]
  },
  {
   "cell_type": "code",
   "execution_count": 32,
   "metadata": {
    "collapsed": false,
    "deletable": true,
    "editable": true
   },
   "outputs": [
    {
     "data": {
      "text/plain": [
       "   Min. 1st Qu.  Median    Mean 3rd Qu.    Max. \n",
       "   1.00    2.00    8.00   31.53   22.00 2243.00 "
      ]
     },
     "metadata": {},
     "output_type": "display_data"
    }
   ],
   "source": [
    "summary(cs_id_size_amr$cs_size)"
   ]
  },
  {
   "cell_type": "code",
   "execution_count": 9,
   "metadata": {
    "collapsed": false,
    "deletable": true,
    "editable": true
   },
   "outputs": [
    {
     "data": {
      "text/plain": [
       "   Min. 1st Qu.  Median    Mean 3rd Qu.    Max. \n",
       "  1.000   1.000   1.000   1.124   1.000   4.000 "
      ]
     },
     "metadata": {},
     "output_type": "display_data"
    },
    {
     "data": {
      "text/html": [
       "2391"
      ],
      "text/latex": [
       "2391"
      ],
      "text/markdown": [
       "2391"
      ],
      "text/plain": [
       "[1] 2391"
      ]
     },
     "metadata": {},
     "output_type": "display_data"
    }
   ],
   "source": [
    "# how many genes have exactly one CS\n",
    "genes_with_cs <- unique(sorted_df_amr$phenotype_id)\n",
    "df <- data.frame(\"gene\" = genes_with_cs,\n",
    "                 \"cs_count\" = NA)\n",
    "for(i in 1:nrow(df)) {\n",
    "    df[i,2] <- length(unique(sorted_df_amr[sorted_df_amr$phenotype_id == df[i,1],]$cs_id))\n",
    "}\n",
    "summary(df$cs_count)\n",
    "sum(df$cs_count == 1)"
   ]
  },
  {
   "cell_type": "code",
   "execution_count": 10,
   "metadata": {
    "collapsed": false,
    "deletable": true,
    "editable": true
   },
   "outputs": [
    {
     "data": {
      "image/png": "[encoded data removed]",
      "text/plain": [
       "plot without title"
      ]
     },
     "metadata": {
      "image/png": {
       "height": 420,
       "width": 420
      }
     },
     "output_type": "display_data"
    }
   ],
   "source": [
    "p <- ggplot(df, aes(x = cs_count)) +\n",
    "  geom_bar(fill = \"steelblue1\") +\n",
    "  scale_x_continuous(breaks = seq(1, 9, by = 1)) +\n",
    "  labs(x = \"Number of CS\", y = \"Gene count\") +\n",
    "  ggtitle(\"AMR SuSiE finemapping\") +\n",
    "  theme_classic() +\n",
    "  theme(axis.text = element_text(size = 16),\n",
    "        axis.title = element_text(size = 18),\n",
    "        plot.title = element_text(size = 18, face = \"bold\", hjust = 0.5))\n",
    "p"
   ]
  },
  {
   "cell_type": "code",
   "execution_count": 11,
   "metadata": {
    "collapsed": true,
    "deletable": true,
    "editable": true
   },
   "outputs": [],
   "source": [
    "ggsave(\"../../figures/susie_num_cs_amr.png\", p, width = 6, height = 6)"
   ]
  },
  {
   "cell_type": "markdown",
   "metadata": {
    "deletable": true,
    "editable": true
   },
   "source": [
    "## AFR results\n",
    "- We started with 1876 eGenes identified by FastQTL permutation pass for AFR with 25 HCP in covariates\n",
    "- After filtering for CS purity: \n",
    "    - 1823 genes have non-low purity CS\n",
    "    - 2288 unique CS\n",
    "    - 27369 unique variants in CS\n",
    "- Of the 2288 CS:\n",
    "    - 617 contain exactly one SNP (strong candidates for causal variants)\n",
    "    - 297 contain exactly two SNPs\n",
    "    - median size 4, mean 15.85, max 1672\n",
    "- Of the 1823 genes:\n",
    "    - 1433 have exactly one CS\n",
    "    - up to 4"
   ]
  },
  {
   "cell_type": "code",
   "execution_count": 6,
   "metadata": {
    "collapsed": false,
    "deletable": true,
    "editable": true
   },
   "outputs": [
    {
     "data": {
      "text/html": [
       "<style>\n",
       ".list-inline {list-style: none; margin:0; padding: 0}\n",
       ".list-inline>li {display: inline-block}\n",
       ".list-inline>li:not(:last-child)::after {content: \"\\00b7\"; padding: 0 .5ex}\n",
       "</style>\n",
       "<ol class=list-inline><li>36256</li><li>17</li></ol>\n"
      ],
      "text/latex": [
       "\\begin{enumerate*}\n",
       "\\item 36256\n",
       "\\item 17\n",
       "\\end{enumerate*}\n"
      ],
      "text/markdown": [
       "1. 36256\n",
       "2. 17\n",
       "\n",
       "\n"
      ],
      "text/plain": [
       "[1] 36256    17"
      ]
     },
     "metadata": {},
     "output_type": "display_data"
    }
   ],
   "source": [
    "sorted_df_afr <- fread(\"afr_ciseqtl_25hcp_perm_purity_filtered.txt.gz\", data.table = F)\n",
    "dim(sorted_df_afr)"
   ]
  },
  {
   "cell_type": "code",
   "execution_count": 13,
   "metadata": {
    "collapsed": false,
    "deletable": true,
    "editable": true
   },
   "outputs": [
    {
     "data": {
      "text/html": [
       "1823"
      ],
      "text/latex": [
       "1823"
      ],
      "text/markdown": [
       "1823"
      ],
      "text/plain": [
       "[1] 1823"
      ]
     },
     "metadata": {},
     "output_type": "display_data"
    }
   ],
   "source": [
    "# how many eGenes got finemapped non-low purity CS\n",
    "length(unique(sorted_df_afr$phenotype_id))"
   ]
  },
  {
   "cell_type": "code",
   "execution_count": 14,
   "metadata": {
    "collapsed": false,
    "deletable": true,
    "editable": true
   },
   "outputs": [
    {
     "data": {
      "text/html": [
       "27369"
      ],
      "text/latex": [
       "27369"
      ],
      "text/markdown": [
       "27369"
      ],
      "text/plain": [
       "[1] 27369"
      ]
     },
     "metadata": {},
     "output_type": "display_data"
    }
   ],
   "source": [
    "# how many unique variants in all CS\n",
    "length(unique(sorted_df_afr$variant_id))"
   ]
  },
  {
   "cell_type": "code",
   "execution_count": 15,
   "metadata": {
    "collapsed": false,
    "deletable": true,
    "editable": true
   },
   "outputs": [
    {
     "data": {
      "text/html": [
       "2288"
      ],
      "text/latex": [
       "2288"
      ],
      "text/markdown": [
       "2288"
      ],
      "text/plain": [
       "[1] 2288"
      ]
     },
     "metadata": {},
     "output_type": "display_data"
    }
   ],
   "source": [
    "# how many unique non-low purity CS\n",
    "length(unique(sorted_df_afr$cs_id))"
   ]
  },
  {
   "cell_type": "code",
   "execution_count": 7,
   "metadata": {
    "collapsed": false,
    "deletable": true,
    "editable": true
   },
   "outputs": [
    {
     "data": {
      "text/html": [
       "617"
      ],
      "text/latex": [
       "617"
      ],
      "text/markdown": [
       "617"
      ],
      "text/plain": [
       "[1] 617"
      ]
     },
     "metadata": {},
     "output_type": "display_data"
    },
    {
     "data": {
      "text/html": [
       "297"
      ],
      "text/latex": [
       "297"
      ],
      "text/markdown": [
       "297"
      ],
      "text/plain": [
       "[1] 297"
      ]
     },
     "metadata": {},
     "output_type": "display_data"
    },
    {
     "data": {
      "text/html": [
       "<style>\n",
       ".list-inline {list-style: none; margin:0; padding: 0}\n",
       ".list-inline>li {display: inline-block}\n",
       ".list-inline>li:not(:last-child)::after {content: \"\\00b7\"; padding: 0 .5ex}\n",
       "</style>\n",
       "<ol class=list-inline><li>2288</li><li>4</li></ol>\n"
      ],
      "text/latex": [
       "\\begin{enumerate*}\n",
       "\\item 2288\n",
       "\\item 4\n",
       "\\end{enumerate*}\n"
      ],
      "text/markdown": [
       "1. 2288\n",
       "2. 4\n",
       "\n",
       "\n"
      ],
      "text/plain": [
       "[1] 2288    4"
      ]
     },
     "metadata": {},
     "output_type": "display_data"
    }
   ],
   "source": [
    "# how many CS contain exactly one/two SNP\n",
    "cs_id_size_afr <- sorted_df_afr[!duplicated(sorted_df_afr$cs_id),] %>% select(phenotype_id, cs_id, cs_size, finemapped_region)\n",
    "sum(cs_id_size_afr$cs_size==1)\n",
    "sum(cs_id_size_afr$cs_size==2)\n",
    "dim(cs_id_size_afr)"
   ]
  },
  {
   "cell_type": "code",
   "execution_count": 17,
   "metadata": {
    "collapsed": false,
    "deletable": true,
    "editable": true
   },
   "outputs": [
    {
     "data": {
      "text/plain": [
       "   Min. 1st Qu.  Median    Mean 3rd Qu.    Max. \n",
       "   1.00    1.00    4.00   15.85   11.25 1672.00 "
      ]
     },
     "metadata": {},
     "output_type": "display_data"
    }
   ],
   "source": [
    "summary(cs_id_size_afr$cs_size)"
   ]
  },
  {
   "cell_type": "code",
   "execution_count": 18,
   "metadata": {
    "collapsed": false,
    "deletable": true,
    "editable": true
   },
   "outputs": [
    {
     "data": {
      "text/plain": [
       "   Min. 1st Qu.  Median    Mean 3rd Qu.    Max. \n",
       "  1.000   1.000   1.000   1.255   1.000   4.000 "
      ]
     },
     "metadata": {},
     "output_type": "display_data"
    },
    {
     "data": {
      "text/html": [
       "1433"
      ],
      "text/latex": [
       "1433"
      ],
      "text/markdown": [
       "1433"
      ],
      "text/plain": [
       "[1] 1433"
      ]
     },
     "metadata": {},
     "output_type": "display_data"
    }
   ],
   "source": [
    "# how many genes have exactly one CS\n",
    "genes_with_cs <- unique(sorted_df_afr$phenotype_id)\n",
    "df <- data.frame(\"gene\" = genes_with_cs,\n",
    "                 \"cs_count\" = NA)\n",
    "for(i in 1:nrow(df)) {\n",
    "    df[i,2] <- length(unique(sorted_df_afr[sorted_df_afr$phenotype_id == df[i,1],]$cs_id))\n",
    "}\n",
    "summary(df$cs_count)\n",
    "sum(df$cs_count == 1)"
   ]
  },
  {
   "cell_type": "code",
   "execution_count": 22,
   "metadata": {
    "collapsed": false,
    "deletable": true,
    "editable": true
   },
   "outputs": [
    {
     "data": {
      "text/html": [
       "<style>\n",
       ".list-inline {list-style: none; margin:0; padding: 0}\n",
       ".list-inline>li {display: inline-block}\n",
       ".list-inline>li:not(:last-child)::after {content: \"\\00b7\"; padding: 0 .5ex}\n",
       "</style>\n",
       "<ol class=list-inline><li>1823</li><li>2</li></ol>\n"
      ],
      "text/latex": [
       "\\begin{enumerate*}\n",
       "\\item 1823\n",
       "\\item 2\n",
       "\\end{enumerate*}\n"
      ],
      "text/markdown": [
       "1. 1823\n",
       "2. 2\n",
       "\n",
       "\n"
      ],
      "text/plain": [
       "[1] 1823    2"
      ]
     },
     "metadata": {},
     "output_type": "display_data"
    }
   ],
   "source": [
    "dim(df)"
   ]
  },
  {
   "cell_type": "code",
   "execution_count": 19,
   "metadata": {
    "collapsed": false,
    "deletable": true,
    "editable": true
   },
   "outputs": [
    {
     "data": {
      "image/png": "[encoded data removed]",
      "text/plain": [
       "plot without title"
      ]
     },
     "metadata": {
      "image/png": {
       "height": 420,
       "width": 420
      }
     },
     "output_type": "display_data"
    }
   ],
   "source": [
    "p <- ggplot(df, aes(x = cs_count)) +\n",
    "  geom_bar(fill = \"steelblue1\") +\n",
    "  scale_x_continuous(breaks = seq(1, 9, by = 1)) +\n",
    "  labs(x = \"Number of CS\", y = \"Gene count\") +\n",
    "  ggtitle(\"AFR SuSiE finemapping\") +\n",
    "  theme_classic() +\n",
    "  theme(axis.text = element_text(size = 16),\n",
    "        axis.title = element_text(size = 18),\n",
    "        plot.title = element_text(size = 18, face = \"bold\", hjust = 0.5))\n",
    "p"
   ]
  },
  {
   "cell_type": "code",
   "execution_count": 20,
   "metadata": {
    "collapsed": true,
    "deletable": true,
    "editable": true
   },
   "outputs": [],
   "source": [
    "ggsave(\"../../figures/susie_num_cs_afr.png\", p, width = 6, height = 6)"
   ]
  },
  {
   "cell_type": "code",
   "execution_count": 6,
   "metadata": {
    "collapsed": false,
    "deletable": true,
    "editable": true
   },
   "outputs": [
    {
     "data": {
      "text/html": [
       "<table>\n",
       "<caption>A data.frame: 6 × 17</caption>\n",
       "<thead>\n",
       "\t<tr><th></th><th scope=col>phenotype_id</th><th scope=col>variant_id</th><th scope=col>chr</th><th scope=col>pos</th><th scope=col>ref</th><th scope=col>alt</th><th scope=col>cs_id</th><th scope=col>cs_index</th><th scope=col>finemapped_region</th><th scope=col>pip</th><th scope=col>z</th><th scope=col>cs_min_r2</th><th scope=col>cs_avg_r2</th><th scope=col>cs_size</th><th scope=col>posterior_mean</th><th scope=col>posterior_sd</th><th scope=col>cs_log10bf</th></tr>\n",
       "\t<tr><th></th><th scope=col>&lt;chr&gt;</th><th scope=col>&lt;chr&gt;</th><th scope=col>&lt;int&gt;</th><th scope=col>&lt;int&gt;</th><th scope=col>&lt;chr&gt;</th><th scope=col>&lt;chr&gt;</th><th scope=col>&lt;chr&gt;</th><th scope=col>&lt;chr&gt;</th><th scope=col>&lt;chr&gt;</th><th scope=col>&lt;dbl&gt;</th><th scope=col>&lt;dbl&gt;</th><th scope=col>&lt;dbl&gt;</th><th scope=col>&lt;dbl&gt;</th><th scope=col>&lt;int&gt;</th><th scope=col>&lt;dbl&gt;</th><th scope=col>&lt;dbl&gt;</th><th scope=col>&lt;dbl&gt;</th></tr>\n",
       "</thead>\n",
       "<tbody>\n",
       "\t<tr><th scope=row>1</th><td>ENSG00000286439</td><td>chr10_10010389_C_T  </td><td>10</td><td> 10010389</td><td>C </td><td>T</td><td>ENSG00000286439_L1</td><td>L1</td><td>chr10:9379838-11379838  </td><td>0.134677590</td><td>-5.182441</td><td>0.2690874</td><td>0.6833190</td><td>22</td><td>-0.038894852</td><td>0.10161013</td><td>1.709356</td></tr>\n",
       "\t<tr><th scope=row>2</th><td>ENSG00000286439</td><td>chr10_10011301_T_C  </td><td>10</td><td> 10011301</td><td>T </td><td>C</td><td>ENSG00000286439_L1</td><td>L1</td><td>chr10:9379838-11379838  </td><td>0.017347478</td><td>-4.457772</td><td>0.2690874</td><td>0.6833190</td><td>22</td><td>-0.005326910</td><td>0.04237743</td><td>1.709356</td></tr>\n",
       "\t<tr><th scope=row>3</th><td>ENSG00000286439</td><td>chr10_10012495_G_A  </td><td>10</td><td> 10012495</td><td>G </td><td>A</td><td>ENSG00000286439_L1</td><td>L1</td><td>chr10:9379838-11379838  </td><td>0.043012603</td><td>-4.683617</td><td>0.2690874</td><td>0.6833190</td><td>22</td><td>-0.014489786</td><td>0.07085440</td><td>1.709356</td></tr>\n",
       "\t<tr><th scope=row>4</th><td>ENSG00000119943</td><td>chr10_100142068_A_G </td><td>10</td><td>100142068</td><td>A </td><td>G</td><td>ENSG00000119943_L1</td><td>L1</td><td>chr10:99174938-101174938</td><td>0.020084696</td><td> 5.009605</td><td>0.5429366</td><td>0.9349867</td><td>66</td><td> 0.005435694</td><td>0.04090741</td><td>2.958758</td></tr>\n",
       "\t<tr><th scope=row>5</th><td>ENSG00000119943</td><td>chr10_100142677_GT_G</td><td>10</td><td>100142677</td><td>GT</td><td>G</td><td>ENSG00000119943_L1</td><td>L1</td><td>chr10:99174938-101174938</td><td>0.011750912</td><td> 4.874522</td><td>0.5429366</td><td>0.9349867</td><td>66</td><td> 0.002883467</td><td>0.02958149</td><td>2.958758</td></tr>\n",
       "\t<tr><th scope=row>6</th><td>ENSG00000119943</td><td>chr10_100144782_C_T </td><td>10</td><td>100144782</td><td>C </td><td>T</td><td>ENSG00000119943_L1</td><td>L1</td><td>chr10:99174938-101174938</td><td>0.007039411</td><td> 4.710960</td><td>0.5429366</td><td>0.9349867</td><td>66</td><td> 0.001423772</td><td>0.02022876</td><td>2.958758</td></tr>\n",
       "</tbody>\n",
       "</table>\n"
      ],
      "text/latex": [
       "A data.frame: 6 × 17\n",
       "\\begin{tabular}{r|lllllllllllllllll}\n",
       "  & phenotype\\_id & variant\\_id & chr & pos & ref & alt & cs\\_id & cs\\_index & finemapped\\_region & pip & z & cs\\_min\\_r2 & cs\\_avg\\_r2 & cs\\_size & posterior\\_mean & posterior\\_sd & cs\\_log10bf\\\\\n",
       "  & <chr> & <chr> & <int> & <int> & <chr> & <chr> & <chr> & <chr> & <chr> & <dbl> & <dbl> & <dbl> & <dbl> & <int> & <dbl> & <dbl> & <dbl>\\\\\n",
       "\\hline\n",
       "\t1 & ENSG00000286439 & chr10\\_10010389\\_C\\_T   & 10 &  10010389 & C  & T & ENSG00000286439\\_L1 & L1 & chr10:9379838-11379838   & 0.134677590 & -5.182441 & 0.2690874 & 0.6833190 & 22 & -0.038894852 & 0.10161013 & 1.709356\\\\\n",
       "\t2 & ENSG00000286439 & chr10\\_10011301\\_T\\_C   & 10 &  10011301 & T  & C & ENSG00000286439\\_L1 & L1 & chr10:9379838-11379838   & 0.017347478 & -4.457772 & 0.2690874 & 0.6833190 & 22 & -0.005326910 & 0.04237743 & 1.709356\\\\\n",
       "\t3 & ENSG00000286439 & chr10\\_10012495\\_G\\_A   & 10 &  10012495 & G  & A & ENSG00000286439\\_L1 & L1 & chr10:9379838-11379838   & 0.043012603 & -4.683617 & 0.2690874 & 0.6833190 & 22 & -0.014489786 & 0.07085440 & 1.709356\\\\\n",
       "\t4 & ENSG00000119943 & chr10\\_100142068\\_A\\_G  & 10 & 100142068 & A  & G & ENSG00000119943\\_L1 & L1 & chr10:99174938-101174938 & 0.020084696 &  5.009605 & 0.5429366 & 0.9349867 & 66 &  0.005435694 & 0.04090741 & 2.958758\\\\\n",
       "\t5 & ENSG00000119943 & chr10\\_100142677\\_GT\\_G & 10 & 100142677 & GT & G & ENSG00000119943\\_L1 & L1 & chr10:99174938-101174938 & 0.011750912 &  4.874522 & 0.5429366 & 0.9349867 & 66 &  0.002883467 & 0.02958149 & 2.958758\\\\\n",
       "\t6 & ENSG00000119943 & chr10\\_100144782\\_C\\_T  & 10 & 100144782 & C  & T & ENSG00000119943\\_L1 & L1 & chr10:99174938-101174938 & 0.007039411 &  4.710960 & 0.5429366 & 0.9349867 & 66 &  0.001423772 & 0.02022876 & 2.958758\\\\\n",
       "\\end{tabular}\n"
      ],
      "text/markdown": [
       "\n",
       "A data.frame: 6 × 17\n",
       "\n",
       "| <!--/--> | phenotype_id &lt;chr&gt; | variant_id &lt;chr&gt; | chr &lt;int&gt; | pos &lt;int&gt; | ref &lt;chr&gt; | alt &lt;chr&gt; | cs_id &lt;chr&gt; | cs_index &lt;chr&gt; | finemapped_region &lt;chr&gt; | pip &lt;dbl&gt; | z &lt;dbl&gt; | cs_min_r2 &lt;dbl&gt; | cs_avg_r2 &lt;dbl&gt; | cs_size &lt;int&gt; | posterior_mean &lt;dbl&gt; | posterior_sd &lt;dbl&gt; | cs_log10bf &lt;dbl&gt; |\n",
       "|---|---|---|---|---|---|---|---|---|---|---|---|---|---|---|---|---|---|\n",
       "| 1 | ENSG00000286439 | chr10_10010389_C_T   | 10 |  10010389 | C  | T | ENSG00000286439_L1 | L1 | chr10:9379838-11379838   | 0.134677590 | -5.182441 | 0.2690874 | 0.6833190 | 22 | -0.038894852 | 0.10161013 | 1.709356 |\n",
       "| 2 | ENSG00000286439 | chr10_10011301_T_C   | 10 |  10011301 | T  | C | ENSG00000286439_L1 | L1 | chr10:9379838-11379838   | 0.017347478 | -4.457772 | 0.2690874 | 0.6833190 | 22 | -0.005326910 | 0.04237743 | 1.709356 |\n",
       "| 3 | ENSG00000286439 | chr10_10012495_G_A   | 10 |  10012495 | G  | A | ENSG00000286439_L1 | L1 | chr10:9379838-11379838   | 0.043012603 | -4.683617 | 0.2690874 | 0.6833190 | 22 | -0.014489786 | 0.07085440 | 1.709356 |\n",
       "| 4 | ENSG00000119943 | chr10_100142068_A_G  | 10 | 100142068 | A  | G | ENSG00000119943_L1 | L1 | chr10:99174938-101174938 | 0.020084696 |  5.009605 | 0.5429366 | 0.9349867 | 66 |  0.005435694 | 0.04090741 | 2.958758 |\n",
       "| 5 | ENSG00000119943 | chr10_100142677_GT_G | 10 | 100142677 | GT | G | ENSG00000119943_L1 | L1 | chr10:99174938-101174938 | 0.011750912 |  4.874522 | 0.5429366 | 0.9349867 | 66 |  0.002883467 | 0.02958149 | 2.958758 |\n",
       "| 6 | ENSG00000119943 | chr10_100144782_C_T  | 10 | 100144782 | C  | T | ENSG00000119943_L1 | L1 | chr10:99174938-101174938 | 0.007039411 |  4.710960 | 0.5429366 | 0.9349867 | 66 |  0.001423772 | 0.02022876 | 2.958758 |\n",
       "\n"
      ],
      "text/plain": [
       "  phenotype_id    variant_id           chr pos       ref alt cs_id             \n",
       "1 ENSG00000286439 chr10_10010389_C_T   10   10010389 C   T   ENSG00000286439_L1\n",
       "2 ENSG00000286439 chr10_10011301_T_C   10   10011301 T   C   ENSG00000286439_L1\n",
       "3 ENSG00000286439 chr10_10012495_G_A   10   10012495 G   A   ENSG00000286439_L1\n",
       "4 ENSG00000119943 chr10_100142068_A_G  10  100142068 A   G   ENSG00000119943_L1\n",
       "5 ENSG00000119943 chr10_100142677_GT_G 10  100142677 GT  G   ENSG00000119943_L1\n",
       "6 ENSG00000119943 chr10_100144782_C_T  10  100144782 C   T   ENSG00000119943_L1\n",
       "  cs_index finemapped_region        pip         z         cs_min_r2 cs_avg_r2\n",
       "1 L1       chr10:9379838-11379838   0.134677590 -5.182441 0.2690874 0.6833190\n",
       "2 L1       chr10:9379838-11379838   0.017347478 -4.457772 0.2690874 0.6833190\n",
       "3 L1       chr10:9379838-11379838   0.043012603 -4.683617 0.2690874 0.6833190\n",
       "4 L1       chr10:99174938-101174938 0.020084696  5.009605 0.5429366 0.9349867\n",
       "5 L1       chr10:99174938-101174938 0.011750912  4.874522 0.5429366 0.9349867\n",
       "6 L1       chr10:99174938-101174938 0.007039411  4.710960 0.5429366 0.9349867\n",
       "  cs_size posterior_mean posterior_sd cs_log10bf\n",
       "1 22      -0.038894852   0.10161013   1.709356  \n",
       "2 22      -0.005326910   0.04237743   1.709356  \n",
       "3 22      -0.014489786   0.07085440   1.709356  \n",
       "4 66       0.005435694   0.04090741   2.958758  \n",
       "5 66       0.002883467   0.02958149   2.958758  \n",
       "6 66       0.001423772   0.02022876   2.958758  "
      ]
     },
     "metadata": {},
     "output_type": "display_data"
    }
   ],
   "source": [
    "head(sorted_df_eur)"
   ]
  },
  {
   "cell_type": "markdown",
   "metadata": {
    "deletable": true,
    "editable": true
   },
   "source": [
    "## Plot CS sizes for shared genes\n",
    "986 shared eGenes; 888 shared genes with non-low purity CS; EUR 1281 CS; AMR 1084 CS; AFR 1189 CS"
   ]
  },
  {
   "cell_type": "code",
   "execution_count": 9,
   "metadata": {
    "collapsed": false,
    "deletable": true,
    "editable": true
   },
   "outputs": [
    {
     "data": {
      "text/html": [
       "888"
      ],
      "text/latex": [
       "888"
      ],
      "text/markdown": [
       "888"
      ],
      "text/plain": [
       "[1] 888"
      ]
     },
     "metadata": {},
     "output_type": "display_data"
    }
   ],
   "source": [
    "shared_gene1 <- Reduce(intersect, list(unique(sorted_df_eur$phenotype_id), unique(sorted_df_amr$phenotype_id), unique(sorted_df_afr$phenotype_id)))\n",
    "length(shared_gene1)"
   ]
  },
  {
   "cell_type": "code",
   "execution_count": 8,
   "metadata": {
    "collapsed": false,
    "deletable": true,
    "editable": true
   },
   "outputs": [
    {
     "data": {
      "text/html": [
       "888"
      ],
      "text/latex": [
       "888"
      ],
      "text/markdown": [
       "888"
      ],
      "text/plain": [
       "[1] 888"
      ]
     },
     "metadata": {},
     "output_type": "display_data"
    }
   ],
   "source": [
    "shared_gene <- Reduce(intersect, list(cs_id_size_eur$phenotype_id, cs_id_size_amr$phenotype_id, cs_id_size_afr$phenotype_id))\n",
    "length(unique(shared_gene))"
   ]
  },
  {
   "cell_type": "code",
   "execution_count": 11,
   "metadata": {
    "collapsed": false,
    "deletable": true,
    "editable": true
   },
   "outputs": [
    {
     "data": {
      "text/html": [
       "888"
      ],
      "text/latex": [
       "888"
      ],
      "text/markdown": [
       "888"
      ],
      "text/plain": [
       "[1] 888"
      ]
     },
     "metadata": {},
     "output_type": "display_data"
    }
   ],
   "source": [
    "sum(shared_gene %in% shared_gene1)"
   ]
  },
  {
   "cell_type": "code",
   "execution_count": 9,
   "metadata": {
    "collapsed": true,
    "deletable": true,
    "editable": true
   },
   "outputs": [],
   "source": [
    "eur <- cs_id_size_eur %>% filter(phenotype_id %in% shared_gene)\n",
    "amr <- cs_id_size_amr %>% filter(phenotype_id %in% shared_gene)\n",
    "afr <- cs_id_size_afr %>% filter(phenotype_id %in% shared_gene)"
   ]
  },
  {
   "cell_type": "code",
   "execution_count": 10,
   "metadata": {
    "collapsed": false,
    "deletable": true,
    "editable": true
   },
   "outputs": [
    {
     "data": {
      "text/html": [
       "<style>\n",
       ".list-inline {list-style: none; margin:0; padding: 0}\n",
       ".list-inline>li {display: inline-block}\n",
       ".list-inline>li:not(:last-child)::after {content: \"\\00b7\"; padding: 0 .5ex}\n",
       "</style>\n",
       "<ol class=list-inline><li>1281</li><li>4</li></ol>\n"
      ],
      "text/latex": [
       "\\begin{enumerate*}\n",
       "\\item 1281\n",
       "\\item 4\n",
       "\\end{enumerate*}\n"
      ],
      "text/markdown": [
       "1. 1281\n",
       "2. 4\n",
       "\n",
       "\n"
      ],
      "text/plain": [
       "[1] 1281    4"
      ]
     },
     "metadata": {},
     "output_type": "display_data"
    },
    {
     "data": {
      "text/html": [
       "<style>\n",
       ".list-inline {list-style: none; margin:0; padding: 0}\n",
       ".list-inline>li {display: inline-block}\n",
       ".list-inline>li:not(:last-child)::after {content: \"\\00b7\"; padding: 0 .5ex}\n",
       "</style>\n",
       "<ol class=list-inline><li>1084</li><li>4</li></ol>\n"
      ],
      "text/latex": [
       "\\begin{enumerate*}\n",
       "\\item 1084\n",
       "\\item 4\n",
       "\\end{enumerate*}\n"
      ],
      "text/markdown": [
       "1. 1084\n",
       "2. 4\n",
       "\n",
       "\n"
      ],
      "text/plain": [
       "[1] 1084    4"
      ]
     },
     "metadata": {},
     "output_type": "display_data"
    },
    {
     "data": {
      "text/html": [
       "<style>\n",
       ".list-inline {list-style: none; margin:0; padding: 0}\n",
       ".list-inline>li {display: inline-block}\n",
       ".list-inline>li:not(:last-child)::after {content: \"\\00b7\"; padding: 0 .5ex}\n",
       "</style>\n",
       "<ol class=list-inline><li>1189</li><li>4</li></ol>\n"
      ],
      "text/latex": [
       "\\begin{enumerate*}\n",
       "\\item 1189\n",
       "\\item 4\n",
       "\\end{enumerate*}\n"
      ],
      "text/markdown": [
       "1. 1189\n",
       "2. 4\n",
       "\n",
       "\n"
      ],
      "text/plain": [
       "[1] 1189    4"
      ]
     },
     "metadata": {},
     "output_type": "display_data"
    }
   ],
   "source": [
    "dim(eur)\n",
    "dim(amr)\n",
    "dim(afr)"
   ]
  },
  {
   "cell_type": "code",
   "execution_count": 12,
   "metadata": {
    "collapsed": false,
    "deletable": true,
    "editable": true
   },
   "outputs": [
    {
     "data": {
      "text/html": [
       "21.0749414519906"
      ],
      "text/latex": [
       "21.0749414519906"
      ],
      "text/markdown": [
       "21.0749414519906"
      ],
      "text/plain": [
       "[1] 21.07494"
      ]
     },
     "metadata": {},
     "output_type": "display_data"
    },
    {
     "data": {
      "text/html": [
       "39.3468634686347"
      ],
      "text/latex": [
       "39.3468634686347"
      ],
      "text/markdown": [
       "39.3468634686347"
      ],
      "text/plain": [
       "[1] 39.34686"
      ]
     },
     "metadata": {},
     "output_type": "display_data"
    },
    {
     "data": {
      "text/html": [
       "19.7594617325484"
      ],
      "text/latex": [
       "19.7594617325484"
      ],
      "text/markdown": [
       "19.7594617325484"
      ],
      "text/plain": [
       "[1] 19.75946"
      ]
     },
     "metadata": {},
     "output_type": "display_data"
    },
    {
     "data": {
      "text/html": [
       "5"
      ],
      "text/latex": [
       "5"
      ],
      "text/markdown": [
       "5"
      ],
      "text/plain": [
       "[1] 5"
      ]
     },
     "metadata": {},
     "output_type": "display_data"
    },
    {
     "data": {
      "text/html": [
       "8"
      ],
      "text/latex": [
       "8"
      ],
      "text/markdown": [
       "8"
      ],
      "text/plain": [
       "[1] 8"
      ]
     },
     "metadata": {},
     "output_type": "display_data"
    },
    {
     "data": {
      "text/html": [
       "4"
      ],
      "text/latex": [
       "4"
      ],
      "text/markdown": [
       "4"
      ],
      "text/plain": [
       "[1] 4"
      ]
     },
     "metadata": {},
     "output_type": "display_data"
    }
   ],
   "source": [
    "mean(eur$cs_size)\n",
    "mean(amr$cs_size)\n",
    "mean(afr$cs_size)\n",
    "median(eur$cs_size)\n",
    "median(amr$cs_size)\n",
    "median(afr$cs_size)"
   ]
  },
  {
   "cell_type": "code",
   "execution_count": 13,
   "metadata": {
    "collapsed": false,
    "deletable": true,
    "editable": true
   },
   "outputs": [],
   "source": [
    "eur$Population <- \"EUR\"\n",
    "amr$Population <- \"AMR\"\n",
    "afr$Population <- \"AFR\"\n",
    "df <- rbind(eur, amr, afr)"
   ]
  },
  {
   "cell_type": "code",
   "execution_count": 16,
   "metadata": {
    "collapsed": false,
    "deletable": true,
    "editable": true,
    "scrolled": false
   },
   "outputs": [
    {
     "data": {
      "image/png": "[encoded data removed]",
      "text/plain": [
       "plot without title"
      ]
     },
     "metadata": {
      "image/png": {
       "height": 420,
       "width": 420
      }
     },
     "output_type": "display_data"
    }
   ],
   "source": [
    "p <- ggplot(df, aes(x = log(cs_size), fill = Population, color = Population)) +\n",
    "    geom_density(alpha = .6) +\n",
    "    theme_classic() + \n",
    "    labs(x = \"log(SuSiE CS size)\") +\n",
    "    scale_fill_manual(values = wes_palette(\"Darjeeling1\")) +\n",
    "    scale_color_manual(values = wes_palette(\"Darjeeling1\")) +\n",
    "#     scale_fill_brewer(palette = \"Set1\") +\n",
    "#     scale_color_brewer(palette = \"Set1\") +\n",
    "    theme(axis.title = element_text(size = 18),\n",
    "          axis.text = element_text(size = 16),\n",
    "          legend.title = element_text(size = 16),\n",
    "          legend.text = element_text(size = 14),\n",
    "          legend.position = c(0.8, 0.85)) \n",
    "#     geom_vline(xintercept = mean(log(eur$cs_size)), \n",
    "#                color = \"yellow\", linetype = \"dashed\", size = 1) +\n",
    "#     geom_vline(xintercept = mean(log(amr$cs_size)), \n",
    "#                color = \"green\", linetype = \"dashed\", size = 1) +\n",
    "#     geom_vline(xintercept = mean(log(afr$cs_size)), \n",
    "#                color = \"red\", linetype = \"dashed\", size = 1) \n",
    "p"
   ]
  },
  {
   "cell_type": "code",
   "execution_count": 17,
   "metadata": {
    "collapsed": true,
    "deletable": true,
    "editable": true
   },
   "outputs": [],
   "source": [
    "ggsave(\"../../figures/susie_compare.png\", p, width = 6, height = 6)"
   ]
  },
  {
   "cell_type": "markdown",
   "metadata": {
    "deletable": true,
    "editable": true
   },
   "source": [
    "## Filter for high PIP (0.8)"
   ]
  },
  {
   "cell_type": "code",
   "execution_count": 10,
   "metadata": {
    "collapsed": false,
    "deletable": true,
    "editable": true
   },
   "outputs": [
    {
     "data": {
      "text/html": [
       "<style>\n",
       ".list-inline {list-style: none; margin:0; padding: 0}\n",
       ".list-inline>li {display: inline-block}\n",
       ".list-inline>li:not(:last-child)::after {content: \"\\00b7\"; padding: 0 .5ex}\n",
       "</style>\n",
       "<ol class=list-inline><li>377</li><li>17</li></ol>\n"
      ],
      "text/latex": [
       "\\begin{enumerate*}\n",
       "\\item 377\n",
       "\\item 17\n",
       "\\end{enumerate*}\n"
      ],
      "text/markdown": [
       "1. 377\n",
       "2. 17\n",
       "\n",
       "\n"
      ],
      "text/plain": [
       "[1] 377  17"
      ]
     },
     "metadata": {},
     "output_type": "display_data"
    },
    {
     "data": {
      "text/html": [
       "<style>\n",
       ".list-inline {list-style: none; margin:0; padding: 0}\n",
       ".list-inline>li {display: inline-block}\n",
       ".list-inline>li:not(:last-child)::after {content: \"\\00b7\"; padding: 0 .5ex}\n",
       "</style>\n",
       "<ol class=list-inline><li>260</li><li>17</li></ol>\n"
      ],
      "text/latex": [
       "\\begin{enumerate*}\n",
       "\\item 260\n",
       "\\item 17\n",
       "\\end{enumerate*}\n"
      ],
      "text/markdown": [
       "1. 260\n",
       "2. 17\n",
       "\n",
       "\n"
      ],
      "text/plain": [
       "[1] 260  17"
      ]
     },
     "metadata": {},
     "output_type": "display_data"
    },
    {
     "data": {
      "text/html": [
       "<style>\n",
       ".list-inline {list-style: none; margin:0; padding: 0}\n",
       ".list-inline>li {display: inline-block}\n",
       ".list-inline>li:not(:last-child)::after {content: \"\\00b7\"; padding: 0 .5ex}\n",
       "</style>\n",
       "<ol class=list-inline><li>397</li><li>17</li></ol>\n"
      ],
      "text/latex": [
       "\\begin{enumerate*}\n",
       "\\item 397\n",
       "\\item 17\n",
       "\\end{enumerate*}\n"
      ],
      "text/markdown": [
       "1. 397\n",
       "2. 17\n",
       "\n",
       "\n"
      ],
      "text/plain": [
       "[1] 397  17"
      ]
     },
     "metadata": {},
     "output_type": "display_data"
    }
   ],
   "source": [
    "eur_shared <- sorted_df_eur %>% filter(phenotype_id %in% shared_gene, pip > .8)\n",
    "dim(eur_shared)\n",
    "amr_shared <- sorted_df_amr %>% filter(phenotype_id %in% shared_gene, pip > .8)\n",
    "dim(amr_shared)\n",
    "afr_shared <- sorted_df_afr %>% filter(phenotype_id %in% shared_gene, pip > .8)\n",
    "dim(afr_shared)\n",
    "\n",
    "# eur_shared_3 <- sorted_df_eur %>% filter(phenotype_id %in% shared_gene, pip > .3)\n",
    "# dim(eur_shared_3)\n",
    "# amr_shared_3 <- sorted_df_amr %>% filter(phenotype_id %in% shared_gene, pip > .3)\n",
    "# dim(amr_shared_3)\n",
    "# afr_shared_3 <- sorted_df_afr %>% filter(phenotype_id %in% shared_gene, pip > .3)\n",
    "# dim(afr_shared_3)"
   ]
  },
  {
   "cell_type": "markdown",
   "metadata": {
    "deletable": true,
    "editable": true
   },
   "source": [
    "**106 genes with high PIP variants are shared**"
   ]
  },
  {
   "cell_type": "code",
   "execution_count": 11,
   "metadata": {
    "collapsed": false,
    "deletable": true,
    "editable": true
   },
   "outputs": [
    {
     "data": {
      "text/html": [
       "106"
      ],
      "text/latex": [
       "106"
      ],
      "text/markdown": [
       "106"
      ],
      "text/plain": [
       "[1] 106"
      ]
     },
     "metadata": {},
     "output_type": "display_data"
    }
   ],
   "source": [
    "shared_gene_pip <- Reduce(intersect, list(eur_shared$phenotype_id, amr_shared$phenotype_id, afr_shared$phenotype_id))\n",
    "length(unique(shared_gene_pip))"
   ]
  },
  {
   "cell_type": "code",
   "execution_count": 12,
   "metadata": {
    "collapsed": false,
    "deletable": true,
    "editable": true
   },
   "outputs": [
    {
     "data": {
      "text/html": [
       "106"
      ],
      "text/latex": [
       "106"
      ],
      "text/markdown": [
       "106"
      ],
      "text/plain": [
       "[1] 106"
      ]
     },
     "metadata": {},
     "output_type": "display_data"
    }
   ],
   "source": [
    "eur_test <- sorted_df_eur %>% filter(pip > .8)\n",
    "amr_test <- sorted_df_amr %>% filter(pip > .8)\n",
    "afr_test <- sorted_df_afr %>% filter(pip > .8)\n",
    "length(Reduce(intersect, list(eur_test$phenotype_id, amr_test$phenotype_id, afr_test$phenotype_id)))"
   ]
  },
  {
   "cell_type": "code",
   "execution_count": 16,
   "metadata": {
    "collapsed": false,
    "deletable": true,
    "editable": true
   },
   "outputs": [
    {
     "data": {
      "text/html": [
       "<style>\n",
       ".list-inline {list-style: none; margin:0; padding: 0}\n",
       ".list-inline>li {display: inline-block}\n",
       ".list-inline>li:not(:last-child)::after {content: \"\\00b7\"; padding: 0 .5ex}\n",
       "</style>\n",
       "<ol class=list-inline><li>135</li><li>17</li></ol>\n"
      ],
      "text/latex": [
       "\\begin{enumerate*}\n",
       "\\item 135\n",
       "\\item 17\n",
       "\\end{enumerate*}\n"
      ],
      "text/markdown": [
       "1. 135\n",
       "2. 17\n",
       "\n",
       "\n"
      ],
      "text/plain": [
       "[1] 135  17"
      ]
     },
     "metadata": {},
     "output_type": "display_data"
    },
    {
     "data": {
      "text/html": [
       "106"
      ],
      "text/latex": [
       "106"
      ],
      "text/markdown": [
       "106"
      ],
      "text/plain": [
       "[1] 106"
      ]
     },
     "metadata": {},
     "output_type": "display_data"
    },
    {
     "data": {
      "text/html": [
       "120"
      ],
      "text/latex": [
       "120"
      ],
      "text/markdown": [
       "120"
      ],
      "text/plain": [
       "[1] 120"
      ]
     },
     "metadata": {},
     "output_type": "display_data"
    },
    {
     "data": {
      "text/html": [
       "<style>\n",
       ".list-inline {list-style: none; margin:0; padding: 0}\n",
       ".list-inline>li {display: inline-block}\n",
       ".list-inline>li:not(:last-child)::after {content: \"\\00b7\"; padding: 0 .5ex}\n",
       "</style>\n",
       "<ol class=list-inline><li>116</li><li>17</li></ol>\n"
      ],
      "text/latex": [
       "\\begin{enumerate*}\n",
       "\\item 116\n",
       "\\item 17\n",
       "\\end{enumerate*}\n"
      ],
      "text/markdown": [
       "1. 116\n",
       "2. 17\n",
       "\n",
       "\n"
      ],
      "text/plain": [
       "[1] 116  17"
      ]
     },
     "metadata": {},
     "output_type": "display_data"
    },
    {
     "data": {
      "text/html": [
       "106"
      ],
      "text/latex": [
       "106"
      ],
      "text/markdown": [
       "106"
      ],
      "text/plain": [
       "[1] 106"
      ]
     },
     "metadata": {},
     "output_type": "display_data"
    },
    {
     "data": {
      "text/html": [
       "104"
      ],
      "text/latex": [
       "104"
      ],
      "text/markdown": [
       "104"
      ],
      "text/plain": [
       "[1] 104"
      ]
     },
     "metadata": {},
     "output_type": "display_data"
    },
    {
     "data": {
      "text/html": [
       "<style>\n",
       ".list-inline {list-style: none; margin:0; padding: 0}\n",
       ".list-inline>li {display: inline-block}\n",
       ".list-inline>li:not(:last-child)::after {content: \"\\00b7\"; padding: 0 .5ex}\n",
       "</style>\n",
       "<ol class=list-inline><li>125</li><li>17</li></ol>\n"
      ],
      "text/latex": [
       "\\begin{enumerate*}\n",
       "\\item 125\n",
       "\\item 17\n",
       "\\end{enumerate*}\n"
      ],
      "text/markdown": [
       "1. 125\n",
       "2. 17\n",
       "\n",
       "\n"
      ],
      "text/plain": [
       "[1] 125  17"
      ]
     },
     "metadata": {},
     "output_type": "display_data"
    },
    {
     "data": {
      "text/html": [
       "106"
      ],
      "text/latex": [
       "106"
      ],
      "text/markdown": [
       "106"
      ],
      "text/plain": [
       "[1] 106"
      ]
     },
     "metadata": {},
     "output_type": "display_data"
    },
    {
     "data": {
      "text/html": [
       "114"
      ],
      "text/latex": [
       "114"
      ],
      "text/markdown": [
       "114"
      ],
      "text/plain": [
       "[1] 114"
      ]
     },
     "metadata": {},
     "output_type": "display_data"
    }
   ],
   "source": [
    "eur_pip <- eur_shared %>% filter(phenotype_id %in% shared_gene_pip)\n",
    "dim(eur_pip)\n",
    "length(unique(eur_pip$phenotype_id))\n",
    "length(unique(eur_pip$variant_id))\n",
    "amr_pip <- amr_shared %>% filter(phenotype_id %in% shared_gene_pip)\n",
    "dim(amr_pip)\n",
    "length(unique(amr_pip$phenotype_id))\n",
    "length(unique(amr_pip$variant_id))\n",
    "afr_pip <- afr_shared %>% filter(phenotype_id %in% shared_gene_pip)\n",
    "dim(afr_pip)\n",
    "length(unique(afr_pip$phenotype_id))\n",
    "length(unique(afr_pip$variant_id))"
   ]
  },
  {
   "cell_type": "code",
   "execution_count": 50,
   "metadata": {
    "collapsed": false,
    "deletable": true,
    "editable": true
   },
   "outputs": [
    {
     "data": {
      "text/html": [
       "50"
      ],
      "text/latex": [
       "50"
      ],
      "text/markdown": [
       "50"
      ],
      "text/plain": [
       "[1] 50"
      ]
     },
     "metadata": {},
     "output_type": "display_data"
    },
    {
     "data": {
      "text/html": [
       "29"
      ],
      "text/latex": [
       "29"
      ],
      "text/markdown": [
       "29"
      ],
      "text/plain": [
       "[1] 29"
      ]
     },
     "metadata": {},
     "output_type": "display_data"
    },
    {
     "data": {
      "text/html": [
       "40"
      ],
      "text/latex": [
       "40"
      ],
      "text/markdown": [
       "40"
      ],
      "text/plain": [
       "[1] 40"
      ]
     },
     "metadata": {},
     "output_type": "display_data"
    },
    {
     "data": {
      "text/html": [
       "24"
      ],
      "text/latex": [
       "24"
      ],
      "text/markdown": [
       "24"
      ],
      "text/plain": [
       "[1] 24"
      ]
     },
     "metadata": {},
     "output_type": "display_data"
    }
   ],
   "source": [
    "sum(unique(eur_pip$variant_id) %in% unique(amr_pip$variant_id))\n",
    "sum(unique(eur_pip$variant_id) %in% unique(afr_pip$variant_id))\n",
    "sum(unique(amr_pip$variant_id) %in% unique(afr_pip$variant_id))\n",
    "length(Reduce(intersect, list(unique(eur_pip$variant_id), \n",
    "                              unique(amr_pip$variant_id), \n",
    "                              unique(afr_pip$variant_id))))"
   ]
  },
  {
   "cell_type": "code",
   "execution_count": 52,
   "metadata": {
    "collapsed": false,
    "deletable": true,
    "editable": true
   },
   "outputs": [
    {
     "data": {
      "text/html": [
       "<strong>png:</strong> 2"
      ],
      "text/latex": [
       "\\textbf{png:} 2"
      ],
      "text/markdown": [
       "**png:** 2"
      ],
      "text/plain": [
       "png \n",
       "  2 "
      ]
     },
     "metadata": {},
     "output_type": "display_data"
    },
    {
     "data": {
      "image/png": "[encoded data removed]",
      "text/plain": [
       "plot without title"
      ]
     },
     "metadata": {
      "image/png": {
       "height": 420,
       "width": 420
      }
     },
     "output_type": "display_data"
    }
   ],
   "source": [
    "# area1, area2, area3, n12, n23, n13, n123\n",
    "venn.plot <- draw.triple.venn(120, 104, 114, 50, 40, 29, 24, \n",
    "                              fill = c(\"#F2AD00\", \"#00A08A\", \"#FF0000\"),\n",
    "                              alpha = c(.5,.5,.5),\n",
    "                              cex = 1.5,\n",
    "                              fontface = 2,\n",
    "                              fontfamily = rep(\"sans\",7),\n",
    "                              category = c(\"\", \"\", \"\"), \n",
    "                              scaled = TRUE)\n",
    "pdf(\"../../figures/pip8.pdf\", width = 4, height = 4)\n",
    "grid.draw(venn.plot)\n",
    "dev.off()"
   ]
  },
  {
   "cell_type": "markdown",
   "metadata": {
    "deletable": true,
    "editable": true
   },
   "source": [
    "**gene-variant pair**"
   ]
  },
  {
   "cell_type": "code",
   "execution_count": 17,
   "metadata": {
    "collapsed": false,
    "deletable": true,
    "editable": true
   },
   "outputs": [],
   "source": [
    "eur_pip <- eur_pip %>% unite(pair, phenotype_id, variant_id, sep = \":\", remove = FALSE)\n",
    "amr_pip <- amr_pip %>% unite(pair, phenotype_id, variant_id, sep = \":\", remove = FALSE)\n",
    "afr_pip <- afr_pip %>% unite(pair, phenotype_id, variant_id, sep = \":\", remove = FALSE)"
   ]
  },
  {
   "cell_type": "code",
   "execution_count": 18,
   "metadata": {
    "collapsed": false,
    "deletable": true,
    "editable": true
   },
   "outputs": [
    {
     "data": {
      "text/html": [
       "135"
      ],
      "text/latex": [
       "135"
      ],
      "text/markdown": [
       "135"
      ],
      "text/plain": [
       "[1] 135"
      ]
     },
     "metadata": {},
     "output_type": "display_data"
    }
   ],
   "source": [
    "length(unique(eur_pip$pair))"
   ]
  },
  {
   "cell_type": "code",
   "execution_count": 19,
   "metadata": {
    "collapsed": false,
    "deletable": true,
    "editable": true
   },
   "outputs": [
    {
     "data": {
      "text/html": [
       "56"
      ],
      "text/latex": [
       "56"
      ],
      "text/markdown": [
       "56"
      ],
      "text/plain": [
       "[1] 56"
      ]
     },
     "metadata": {},
     "output_type": "display_data"
    },
    {
     "data": {
      "text/html": [
       "30"
      ],
      "text/latex": [
       "30"
      ],
      "text/markdown": [
       "30"
      ],
      "text/plain": [
       "[1] 30"
      ]
     },
     "metadata": {},
     "output_type": "display_data"
    },
    {
     "data": {
      "text/html": [
       "45"
      ],
      "text/latex": [
       "45"
      ],
      "text/markdown": [
       "45"
      ],
      "text/plain": [
       "[1] 45"
      ]
     },
     "metadata": {},
     "output_type": "display_data"
    },
    {
     "data": {
      "text/html": [
       "25"
      ],
      "text/latex": [
       "25"
      ],
      "text/markdown": [
       "25"
      ],
      "text/plain": [
       "[1] 25"
      ]
     },
     "metadata": {},
     "output_type": "display_data"
    }
   ],
   "source": [
    "sum(unique(eur_pip$pair) %in% unique(amr_pip$pair))\n",
    "sum(unique(eur_pip$pair) %in% unique(afr_pip$pair))\n",
    "sum(unique(amr_pip$pair) %in% unique(afr_pip$pair))\n",
    "length(Reduce(intersect, list(unique(eur_pip$pair), \n",
    "                              unique(amr_pip$pair), \n",
    "                              unique(afr_pip$pair))))"
   ]
  },
  {
   "cell_type": "code",
   "execution_count": 30,
   "metadata": {
    "collapsed": false,
    "deletable": true,
    "editable": true
   },
   "outputs": [
    {
     "data": {
      "text/html": [
       "<strong>png:</strong> 2"
      ],
      "text/latex": [
       "\\textbf{png:} 2"
      ],
      "text/markdown": [
       "**png:** 2"
      ],
      "text/plain": [
       "png \n",
       "  2 "
      ]
     },
     "metadata": {},
     "output_type": "display_data"
    },
    {
     "data": {
      "image/png": "[encoded data removed]",
      "text/plain": [
       "plot without title"
      ]
     },
     "metadata": {
      "image/png": {
       "height": 420,
       "width": 420
      }
     },
     "output_type": "display_data"
    }
   ],
   "source": [
    "# area1, area2, area3, n12, n23, n13, n123\n",
    "venn.plot <- draw.triple.venn(135, 116, 125, 56, 45, 30, 25, \n",
    "                              fill = c(\"#F2AD00\", \"#00A08A\", \"#FF0000\"),\n",
    "                              alpha = c(.5,.5,.5),\n",
    "                              cex = 1.5,\n",
    "                              fontface = 2,\n",
    "                              fontfamily = rep(\"sans\",7),\n",
    "                              category = c(\"\", \"\", \"\"), \n",
    "                              scaled = TRUE)\n",
    "pdf(\"../../figures/pip8.pdf\", width = 4, height = 4)\n",
    "grid.draw(venn.plot)\n",
    "dev.off()"
   ]
  },
  {
   "cell_type": "markdown",
   "metadata": {
    "collapsed": true,
    "deletable": true,
    "editable": true
   },
   "source": [
    "## Investigate un-replicated high PIP variants for the 106 shared genes"
   ]
  },
  {
   "cell_type": "code",
   "execution_count": 22,
   "metadata": {
    "collapsed": false,
    "deletable": true,
    "editable": true
   },
   "outputs": [],
   "source": [
    "eur_amr_pip_shared <- eur_pip %>% inner_join(amr_pip, by = \"pair\")"
   ]
  },
  {
   "cell_type": "code",
   "execution_count": 23,
   "metadata": {
    "collapsed": false,
    "deletable": true,
    "editable": true
   },
   "outputs": [
    {
     "data": {
      "text/html": [
       "<style>\n",
       ".list-inline {list-style: none; margin:0; padding: 0}\n",
       ".list-inline>li {display: inline-block}\n",
       ".list-inline>li:not(:last-child)::after {content: \"\\00b7\"; padding: 0 .5ex}\n",
       "</style>\n",
       "<ol class=list-inline><li>56</li><li>35</li></ol>\n"
      ],
      "text/latex": [
       "\\begin{enumerate*}\n",
       "\\item 56\n",
       "\\item 35\n",
       "\\end{enumerate*}\n"
      ],
      "text/markdown": [
       "1. 56\n",
       "2. 35\n",
       "\n",
       "\n"
      ],
      "text/plain": [
       "[1] 56 35"
      ]
     },
     "metadata": {},
     "output_type": "display_data"
    }
   ],
   "source": [
    "dim(eur_amr_pip_shared)"
   ]
  },
  {
   "cell_type": "code",
   "execution_count": 24,
   "metadata": {
    "collapsed": true,
    "deletable": true,
    "editable": true
   },
   "outputs": [],
   "source": [
    "eur_amr_pip_shared <- eur_amr_pip_shared %>% filter(!pair %in% afr_pip$pair)"
   ]
  },
  {
   "cell_type": "code",
   "execution_count": 25,
   "metadata": {
    "collapsed": false,
    "deletable": true,
    "editable": true
   },
   "outputs": [
    {
     "data": {
      "text/html": [
       "<style>\n",
       ".list-inline {list-style: none; margin:0; padding: 0}\n",
       ".list-inline>li {display: inline-block}\n",
       ".list-inline>li:not(:last-child)::after {content: \"\\00b7\"; padding: 0 .5ex}\n",
       "</style>\n",
       "<ol class=list-inline><li>31</li><li>35</li></ol>\n"
      ],
      "text/latex": [
       "\\begin{enumerate*}\n",
       "\\item 31\n",
       "\\item 35\n",
       "\\end{enumerate*}\n"
      ],
      "text/markdown": [
       "1. 31\n",
       "2. 35\n",
       "\n",
       "\n"
      ],
      "text/plain": [
       "[1] 31 35"
      ]
     },
     "metadata": {},
     "output_type": "display_data"
    }
   ],
   "source": [
    "dim(eur_amr_pip_shared)"
   ]
  },
  {
   "cell_type": "code",
   "execution_count": 26,
   "metadata": {
    "collapsed": true,
    "deletable": true,
    "editable": true
   },
   "outputs": [],
   "source": [
    "afr_pip_only <- afr_pip %>% filter(!pair %in% c(amr_pip$pair, eur_pip$pair))"
   ]
  },
  {
   "cell_type": "code",
   "execution_count": 27,
   "metadata": {
    "collapsed": false,
    "deletable": true,
    "editable": true
   },
   "outputs": [
    {
     "data": {
      "text/html": [
       "<style>\n",
       ".list-inline {list-style: none; margin:0; padding: 0}\n",
       ".list-inline>li {display: inline-block}\n",
       ".list-inline>li:not(:last-child)::after {content: \"\\00b7\"; padding: 0 .5ex}\n",
       "</style>\n",
       "<ol class=list-inline><li>75</li><li>18</li></ol>\n"
      ],
      "text/latex": [
       "\\begin{enumerate*}\n",
       "\\item 75\n",
       "\\item 18\n",
       "\\end{enumerate*}\n"
      ],
      "text/markdown": [
       "1. 75\n",
       "2. 18\n",
       "\n",
       "\n"
      ],
      "text/plain": [
       "[1] 75 18"
      ]
     },
     "metadata": {},
     "output_type": "display_data"
    }
   ],
   "source": [
    "dim(afr_pip_only)"
   ]
  },
  {
   "cell_type": "code",
   "execution_count": 38,
   "metadata": {
    "collapsed": true,
    "deletable": true,
    "editable": true
   },
   "outputs": [],
   "source": [
    "afr_gene <- unique(afr_pip_only$phenotype_id)\n",
    "eur_amr_gene <- unique(eur_amr_pip_shared$phenotype_id.x)"
   ]
  },
  {
   "cell_type": "code",
   "execution_count": 40,
   "metadata": {
    "collapsed": false,
    "deletable": true,
    "editable": true
   },
   "outputs": [
    {
     "data": {
      "text/html": [
       "<style>\n",
       ".list-inline {list-style: none; margin:0; padding: 0}\n",
       ".list-inline>li {display: inline-block}\n",
       ".list-inline>li:not(:last-child)::after {content: \"\\00b7\"; padding: 0 .5ex}\n",
       "</style>\n",
       "<ol class=list-inline><li>'ENSG00000134202'</li><li>'ENSG00000110074'</li><li>'ENSG00000110455'</li><li>'ENSG00000243323'</li><li>'ENSG00000257176'</li><li>'ENSG00000197454'</li><li>'ENSG00000198128'</li><li>'ENSG00000196071'</li><li>'ENSG00000197728'</li><li>'ENSG00000238286'</li><li>'ENSG00000100744'</li><li>'ENSG00000183793'</li><li>'ENSG00000131484'</li><li>'ENSG00000266918'</li><li>'ENSG00000241015'</li><li>'ENSG00000121413'</li><li>'ENSG00000176293'</li><li>'ENSG00000267216'</li><li>'ENSG00000224635'</li><li>'ENSG00000224790'</li><li>'ENSG00000099977'</li><li>'ENSG00000273295'</li><li>'ENSG00000242086'</li><li>'ENSG00000164306'</li><li>'ENSG00000204961'</li><li>'ENSG00000250120'</li><li>'ENSG00000255389'</li><li>'ENSG00000206503'</li><li>'ENSG00000123965'</li><li>'ENSG00000106853'</li></ol>\n"
      ],
      "text/latex": [
       "\\begin{enumerate*}\n",
       "\\item 'ENSG00000134202'\n",
       "\\item 'ENSG00000110074'\n",
       "\\item 'ENSG00000110455'\n",
       "\\item 'ENSG00000243323'\n",
       "\\item 'ENSG00000257176'\n",
       "\\item 'ENSG00000197454'\n",
       "\\item 'ENSG00000198128'\n",
       "\\item 'ENSG00000196071'\n",
       "\\item 'ENSG00000197728'\n",
       "\\item 'ENSG00000238286'\n",
       "\\item 'ENSG00000100744'\n",
       "\\item 'ENSG00000183793'\n",
       "\\item 'ENSG00000131484'\n",
       "\\item 'ENSG00000266918'\n",
       "\\item 'ENSG00000241015'\n",
       "\\item 'ENSG00000121413'\n",
       "\\item 'ENSG00000176293'\n",
       "\\item 'ENSG00000267216'\n",
       "\\item 'ENSG00000224635'\n",
       "\\item 'ENSG00000224790'\n",
       "\\item 'ENSG00000099977'\n",
       "\\item 'ENSG00000273295'\n",
       "\\item 'ENSG00000242086'\n",
       "\\item 'ENSG00000164306'\n",
       "\\item 'ENSG00000204961'\n",
       "\\item 'ENSG00000250120'\n",
       "\\item 'ENSG00000255389'\n",
       "\\item 'ENSG00000206503'\n",
       "\\item 'ENSG00000123965'\n",
       "\\item 'ENSG00000106853'\n",
       "\\end{enumerate*}\n"
      ],
      "text/markdown": [
       "1. 'ENSG00000134202'\n",
       "2. 'ENSG00000110074'\n",
       "3. 'ENSG00000110455'\n",
       "4. 'ENSG00000243323'\n",
       "5. 'ENSG00000257176'\n",
       "6. 'ENSG00000197454'\n",
       "7. 'ENSG00000198128'\n",
       "8. 'ENSG00000196071'\n",
       "9. 'ENSG00000197728'\n",
       "10. 'ENSG00000238286'\n",
       "11. 'ENSG00000100744'\n",
       "12. 'ENSG00000183793'\n",
       "13. 'ENSG00000131484'\n",
       "14. 'ENSG00000266918'\n",
       "15. 'ENSG00000241015'\n",
       "16. 'ENSG00000121413'\n",
       "17. 'ENSG00000176293'\n",
       "18. 'ENSG00000267216'\n",
       "19. 'ENSG00000224635'\n",
       "20. 'ENSG00000224790'\n",
       "21. 'ENSG00000099977'\n",
       "22. 'ENSG00000273295'\n",
       "23. 'ENSG00000242086'\n",
       "24. 'ENSG00000164306'\n",
       "25. 'ENSG00000204961'\n",
       "26. 'ENSG00000250120'\n",
       "27. 'ENSG00000255389'\n",
       "28. 'ENSG00000206503'\n",
       "29. 'ENSG00000123965'\n",
       "30. 'ENSG00000106853'\n",
       "\n",
       "\n"
      ],
      "text/plain": [
       " [1] \"ENSG00000134202\" \"ENSG00000110074\" \"ENSG00000110455\" \"ENSG00000243323\"\n",
       " [5] \"ENSG00000257176\" \"ENSG00000197454\" \"ENSG00000198128\" \"ENSG00000196071\"\n",
       " [9] \"ENSG00000197728\" \"ENSG00000238286\" \"ENSG00000100744\" \"ENSG00000183793\"\n",
       "[13] \"ENSG00000131484\" \"ENSG00000266918\" \"ENSG00000241015\" \"ENSG00000121413\"\n",
       "[17] \"ENSG00000176293\" \"ENSG00000267216\" \"ENSG00000224635\" \"ENSG00000224790\"\n",
       "[21] \"ENSG00000099977\" \"ENSG00000273295\" \"ENSG00000242086\" \"ENSG00000164306\"\n",
       "[25] \"ENSG00000204961\" \"ENSG00000250120\" \"ENSG00000255389\" \"ENSG00000206503\"\n",
       "[29] \"ENSG00000123965\" \"ENSG00000106853\""
      ]
     },
     "metadata": {},
     "output_type": "display_data"
    }
   ],
   "source": [
    "afr_gene[afr_gene %in% eur_amr_gene]"
   ]
  },
  {
   "cell_type": "code",
   "execution_count": 41,
   "metadata": {
    "collapsed": false,
    "deletable": true,
    "editable": true
   },
   "outputs": [
    {
     "data": {
      "text/html": [
       "62"
      ],
      "text/latex": [
       "62"
      ],
      "text/markdown": [
       "62"
      ],
      "text/plain": [
       "[1] 62"
      ]
     },
     "metadata": {},
     "output_type": "display_data"
    }
   ],
   "source": [
    "length(afr_gene)"
   ]
  },
  {
   "cell_type": "code",
   "execution_count": 57,
   "metadata": {
    "collapsed": false,
    "deletable": true,
    "editable": true
   },
   "outputs": [
    {
     "name": "stdout",
     "output_type": "stream",
     "text": [
      "[1] \"ENSG00000196071\"\n",
      "[1] \"ENSG00000238286\"\n",
      "[1] \"ENSG00000242086\"\n"
     ]
    }
   ],
   "source": [
    "for (gene in afr_gene[afr_gene %in% eur_amr_gene]) {\n",
    "    afr_variant <- (afr_pip_only %>% filter(phenotype_id == gene) %>% select(variant_id))$variant_id\n",
    "    if(nrow(sorted_df_eur %>% filter(variant_id == afr_variant)) != 0 &\n",
    "       nrow(sorted_df_amr %>% filter(variant_id == afr_variant)) != 0) {\n",
    "        print(gene)\n",
    "    }\n",
    "}"
   ]
  },
  {
   "cell_type": "markdown",
   "metadata": {
    "deletable": true,
    "editable": true
   },
   "source": [
    "**ENSG00000196071**"
   ]
  },
  {
   "cell_type": "code",
   "execution_count": 58,
   "metadata": {
    "collapsed": false,
    "deletable": true,
    "editable": true
   },
   "outputs": [
    {
     "data": {
      "text/html": [
       "<table>\n",
       "<caption>A data.frame: 1 × 18</caption>\n",
       "<thead>\n",
       "\t<tr><th scope=col>pair</th><th scope=col>phenotype_id</th><th scope=col>variant_id</th><th scope=col>chr</th><th scope=col>pos</th><th scope=col>ref</th><th scope=col>alt</th><th scope=col>cs_id</th><th scope=col>cs_index</th><th scope=col>finemapped_region</th><th scope=col>pip</th><th scope=col>z</th><th scope=col>cs_min_r2</th><th scope=col>cs_avg_r2</th><th scope=col>cs_size</th><th scope=col>posterior_mean</th><th scope=col>posterior_sd</th><th scope=col>cs_log10bf</th></tr>\n",
       "\t<tr><th scope=col>&lt;chr&gt;</th><th scope=col>&lt;chr&gt;</th><th scope=col>&lt;chr&gt;</th><th scope=col>&lt;int&gt;</th><th scope=col>&lt;int&gt;</th><th scope=col>&lt;chr&gt;</th><th scope=col>&lt;chr&gt;</th><th scope=col>&lt;chr&gt;</th><th scope=col>&lt;chr&gt;</th><th scope=col>&lt;chr&gt;</th><th scope=col>&lt;dbl&gt;</th><th scope=col>&lt;dbl&gt;</th><th scope=col>&lt;dbl&gt;</th><th scope=col>&lt;dbl&gt;</th><th scope=col>&lt;int&gt;</th><th scope=col>&lt;dbl&gt;</th><th scope=col>&lt;dbl&gt;</th><th scope=col>&lt;dbl&gt;</th></tr>\n",
       "</thead>\n",
       "<tbody>\n",
       "\t<tr><td>ENSG00000196071:chr1_248100768_C_G</td><td>ENSG00000196071</td><td>chr1_248100768_C_G</td><td>1</td><td>248100768</td><td>C</td><td>G</td><td>ENSG00000196071_L1</td><td>L1</td><td>chr1:247258485-249258485</td><td>0.9352806</td><td>7.130576</td><td>0.4159899</td><td>0.6764839</td><td>2</td><td>1.47127</td><td>0.4331967</td><td>8.611078</td></tr>\n",
       "</tbody>\n",
       "</table>\n"
      ],
      "text/latex": [
       "A data.frame: 1 × 18\n",
       "\\begin{tabular}{llllllllllllllllll}\n",
       " pair & phenotype\\_id & variant\\_id & chr & pos & ref & alt & cs\\_id & cs\\_index & finemapped\\_region & pip & z & cs\\_min\\_r2 & cs\\_avg\\_r2 & cs\\_size & posterior\\_mean & posterior\\_sd & cs\\_log10bf\\\\\n",
       " <chr> & <chr> & <chr> & <int> & <int> & <chr> & <chr> & <chr> & <chr> & <chr> & <dbl> & <dbl> & <dbl> & <dbl> & <int> & <dbl> & <dbl> & <dbl>\\\\\n",
       "\\hline\n",
       "\t ENSG00000196071:chr1\\_248100768\\_C\\_G & ENSG00000196071 & chr1\\_248100768\\_C\\_G & 1 & 248100768 & C & G & ENSG00000196071\\_L1 & L1 & chr1:247258485-249258485 & 0.9352806 & 7.130576 & 0.4159899 & 0.6764839 & 2 & 1.47127 & 0.4331967 & 8.611078\\\\\n",
       "\\end{tabular}\n"
      ],
      "text/markdown": [
       "\n",
       "A data.frame: 1 × 18\n",
       "\n",
       "| pair &lt;chr&gt; | phenotype_id &lt;chr&gt; | variant_id &lt;chr&gt; | chr &lt;int&gt; | pos &lt;int&gt; | ref &lt;chr&gt; | alt &lt;chr&gt; | cs_id &lt;chr&gt; | cs_index &lt;chr&gt; | finemapped_region &lt;chr&gt; | pip &lt;dbl&gt; | z &lt;dbl&gt; | cs_min_r2 &lt;dbl&gt; | cs_avg_r2 &lt;dbl&gt; | cs_size &lt;int&gt; | posterior_mean &lt;dbl&gt; | posterior_sd &lt;dbl&gt; | cs_log10bf &lt;dbl&gt; |\n",
       "|---|---|---|---|---|---|---|---|---|---|---|---|---|---|---|---|---|---|\n",
       "| ENSG00000196071:chr1_248100768_C_G | ENSG00000196071 | chr1_248100768_C_G | 1 | 248100768 | C | G | ENSG00000196071_L1 | L1 | chr1:247258485-249258485 | 0.9352806 | 7.130576 | 0.4159899 | 0.6764839 | 2 | 1.47127 | 0.4331967 | 8.611078 |\n",
       "\n"
      ],
      "text/plain": [
       "  pair                               phenotype_id    variant_id         chr\n",
       "1 ENSG00000196071:chr1_248100768_C_G ENSG00000196071 chr1_248100768_C_G 1  \n",
       "  pos       ref alt cs_id              cs_index finemapped_region       \n",
       "1 248100768 C   G   ENSG00000196071_L1 L1       chr1:247258485-249258485\n",
       "  pip       z        cs_min_r2 cs_avg_r2 cs_size posterior_mean posterior_sd\n",
       "1 0.9352806 7.130576 0.4159899 0.6764839 2       1.47127        0.4331967   \n",
       "  cs_log10bf\n",
       "1 8.611078  "
      ]
     },
     "metadata": {},
     "output_type": "display_data"
    }
   ],
   "source": [
    "# chr1_248100768_C_G exisit in all 3 populations\n",
    "# CS of ENSG00000196071 of AFR and AMR, not EUR\n",
    "# high PIP in AFR, low in AMR\n",
    "# ideally would be in CS of the gene in all 3 populations\n",
    "afr_pip_only %>% filter(phenotype_id == \"ENSG00000196071\")"
   ]
  },
  {
   "cell_type": "code",
   "execution_count": 59,
   "metadata": {
    "collapsed": false,
    "deletable": true,
    "editable": true
   },
   "outputs": [
    {
     "data": {
      "text/html": [
       "<table>\n",
       "<caption>A data.frame: 1 × 35</caption>\n",
       "<thead>\n",
       "\t<tr><th scope=col>pair</th><th scope=col>phenotype_id.x</th><th scope=col>variant_id.x</th><th scope=col>chr.x</th><th scope=col>pos.x</th><th scope=col>ref.x</th><th scope=col>alt.x</th><th scope=col>cs_id.x</th><th scope=col>cs_index.x</th><th scope=col>finemapped_region.x</th><th scope=col>⋯</th><th scope=col>cs_index.y</th><th scope=col>finemapped_region.y</th><th scope=col>pip.y</th><th scope=col>z.y</th><th scope=col>cs_min_r2.y</th><th scope=col>cs_avg_r2.y</th><th scope=col>cs_size.y</th><th scope=col>posterior_mean.y</th><th scope=col>posterior_sd.y</th><th scope=col>cs_log10bf.y</th></tr>\n",
       "\t<tr><th scope=col>&lt;chr&gt;</th><th scope=col>&lt;chr&gt;</th><th scope=col>&lt;chr&gt;</th><th scope=col>&lt;int&gt;</th><th scope=col>&lt;int&gt;</th><th scope=col>&lt;chr&gt;</th><th scope=col>&lt;chr&gt;</th><th scope=col>&lt;chr&gt;</th><th scope=col>&lt;chr&gt;</th><th scope=col>&lt;chr&gt;</th><th scope=col>⋯</th><th scope=col>&lt;chr&gt;</th><th scope=col>&lt;chr&gt;</th><th scope=col>&lt;dbl&gt;</th><th scope=col>&lt;dbl&gt;</th><th scope=col>&lt;dbl&gt;</th><th scope=col>&lt;dbl&gt;</th><th scope=col>&lt;int&gt;</th><th scope=col>&lt;dbl&gt;</th><th scope=col>&lt;dbl&gt;</th><th scope=col>&lt;dbl&gt;</th></tr>\n",
       "</thead>\n",
       "<tbody>\n",
       "\t<tr><td>ENSG00000196071:chr1_248100548_G_C</td><td>ENSG00000196071</td><td>chr1_248100548_G_C</td><td>1</td><td>248100548</td><td>G</td><td>C</td><td>ENSG00000196071_L1</td><td>L1</td><td>chr1:247258485-249258485</td><td>⋯</td><td>L1</td><td>chr1:247258485-249258485</td><td>0.9990819</td><td>8.388399</td><td>1</td><td>1</td><td>1</td><td>0.6697176</td><td>0.08193293</td><td>10.80299</td></tr>\n",
       "</tbody>\n",
       "</table>\n"
      ],
      "text/latex": [
       "A data.frame: 1 × 35\n",
       "\\begin{tabular}{lllllllllllllllllllll}\n",
       " pair & phenotype\\_id.x & variant\\_id.x & chr.x & pos.x & ref.x & alt.x & cs\\_id.x & cs\\_index.x & finemapped\\_region.x & ⋯ & cs\\_index.y & finemapped\\_region.y & pip.y & z.y & cs\\_min\\_r2.y & cs\\_avg\\_r2.y & cs\\_size.y & posterior\\_mean.y & posterior\\_sd.y & cs\\_log10bf.y\\\\\n",
       " <chr> & <chr> & <chr> & <int> & <int> & <chr> & <chr> & <chr> & <chr> & <chr> & ⋯ & <chr> & <chr> & <dbl> & <dbl> & <dbl> & <dbl> & <int> & <dbl> & <dbl> & <dbl>\\\\\n",
       "\\hline\n",
       "\t ENSG00000196071:chr1\\_248100548\\_G\\_C & ENSG00000196071 & chr1\\_248100548\\_G\\_C & 1 & 248100548 & G & C & ENSG00000196071\\_L1 & L1 & chr1:247258485-249258485 & ⋯ & L1 & chr1:247258485-249258485 & 0.9990819 & 8.388399 & 1 & 1 & 1 & 0.6697176 & 0.08193293 & 10.80299\\\\\n",
       "\\end{tabular}\n"
      ],
      "text/markdown": [
       "\n",
       "A data.frame: 1 × 35\n",
       "\n",
       "| pair &lt;chr&gt; | phenotype_id.x &lt;chr&gt; | variant_id.x &lt;chr&gt; | chr.x &lt;int&gt; | pos.x &lt;int&gt; | ref.x &lt;chr&gt; | alt.x &lt;chr&gt; | cs_id.x &lt;chr&gt; | cs_index.x &lt;chr&gt; | finemapped_region.x &lt;chr&gt; | ⋯ ⋯ | cs_index.y &lt;chr&gt; | finemapped_region.y &lt;chr&gt; | pip.y &lt;dbl&gt; | z.y &lt;dbl&gt; | cs_min_r2.y &lt;dbl&gt; | cs_avg_r2.y &lt;dbl&gt; | cs_size.y &lt;int&gt; | posterior_mean.y &lt;dbl&gt; | posterior_sd.y &lt;dbl&gt; | cs_log10bf.y &lt;dbl&gt; |\n",
       "|---|---|---|---|---|---|---|---|---|---|---|---|---|---|---|---|---|---|---|---|---|\n",
       "| ENSG00000196071:chr1_248100548_G_C | ENSG00000196071 | chr1_248100548_G_C | 1 | 248100548 | G | C | ENSG00000196071_L1 | L1 | chr1:247258485-249258485 | ⋯ | L1 | chr1:247258485-249258485 | 0.9990819 | 8.388399 | 1 | 1 | 1 | 0.6697176 | 0.08193293 | 10.80299 |\n",
       "\n"
      ],
      "text/plain": [
       "  pair                               phenotype_id.x  variant_id.x       chr.x\n",
       "1 ENSG00000196071:chr1_248100548_G_C ENSG00000196071 chr1_248100548_G_C 1    \n",
       "  pos.x     ref.x alt.x cs_id.x            cs_index.x finemapped_region.x     \n",
       "1 248100548 G     C     ENSG00000196071_L1 L1         chr1:247258485-249258485\n",
       "  ⋯ cs_index.y finemapped_region.y      pip.y     z.y      cs_min_r2.y\n",
       "1 ⋯ L1         chr1:247258485-249258485 0.9990819 8.388399 1          \n",
       "  cs_avg_r2.y cs_size.y posterior_mean.y posterior_sd.y cs_log10bf.y\n",
       "1 1           1         0.6697176        0.08193293     10.80299    "
      ]
     },
     "metadata": {},
     "output_type": "display_data"
    }
   ],
   "source": [
    "eur_amr_pip_shared %>% filter(phenotype_id.x == \"ENSG00000196071\")"
   ]
  },
  {
   "cell_type": "code",
   "execution_count": 60,
   "metadata": {
    "collapsed": false,
    "deletable": true,
    "editable": true
   },
   "outputs": [
    {
     "data": {
      "text/html": [
       "<table>\n",
       "<caption>A data.frame: 1 × 17</caption>\n",
       "<thead>\n",
       "\t<tr><th scope=col>phenotype_id</th><th scope=col>variant_id</th><th scope=col>chr</th><th scope=col>pos</th><th scope=col>ref</th><th scope=col>alt</th><th scope=col>cs_id</th><th scope=col>cs_index</th><th scope=col>finemapped_region</th><th scope=col>pip</th><th scope=col>z</th><th scope=col>cs_min_r2</th><th scope=col>cs_avg_r2</th><th scope=col>cs_size</th><th scope=col>posterior_mean</th><th scope=col>posterior_sd</th><th scope=col>cs_log10bf</th></tr>\n",
       "\t<tr><th scope=col>&lt;chr&gt;</th><th scope=col>&lt;chr&gt;</th><th scope=col>&lt;int&gt;</th><th scope=col>&lt;int&gt;</th><th scope=col>&lt;chr&gt;</th><th scope=col>&lt;chr&gt;</th><th scope=col>&lt;chr&gt;</th><th scope=col>&lt;chr&gt;</th><th scope=col>&lt;chr&gt;</th><th scope=col>&lt;dbl&gt;</th><th scope=col>&lt;dbl&gt;</th><th scope=col>&lt;dbl&gt;</th><th scope=col>&lt;dbl&gt;</th><th scope=col>&lt;int&gt;</th><th scope=col>&lt;dbl&gt;</th><th scope=col>&lt;dbl&gt;</th><th scope=col>&lt;dbl&gt;</th></tr>\n",
       "</thead>\n",
       "<tbody>\n",
       "\t<tr><td>ENSG00000237492</td><td>chr1_248100768_C_G</td><td>1</td><td>248100768</td><td>C</td><td>G</td><td>ENSG00000237492_L2</td><td>L2</td><td>chr1:247138042-249138042</td><td>0.02572981</td><td>5.448628</td><td>0.8565942</td><td>0.9648561</td><td>41</td><td>0.02062565</td><td>0.1327139</td><td>3.710991</td></tr>\n",
       "</tbody>\n",
       "</table>\n"
      ],
      "text/latex": [
       "A data.frame: 1 × 17\n",
       "\\begin{tabular}{lllllllllllllllll}\n",
       " phenotype\\_id & variant\\_id & chr & pos & ref & alt & cs\\_id & cs\\_index & finemapped\\_region & pip & z & cs\\_min\\_r2 & cs\\_avg\\_r2 & cs\\_size & posterior\\_mean & posterior\\_sd & cs\\_log10bf\\\\\n",
       " <chr> & <chr> & <int> & <int> & <chr> & <chr> & <chr> & <chr> & <chr> & <dbl> & <dbl> & <dbl> & <dbl> & <int> & <dbl> & <dbl> & <dbl>\\\\\n",
       "\\hline\n",
       "\t ENSG00000237492 & chr1\\_248100768\\_C\\_G & 1 & 248100768 & C & G & ENSG00000237492\\_L2 & L2 & chr1:247138042-249138042 & 0.02572981 & 5.448628 & 0.8565942 & 0.9648561 & 41 & 0.02062565 & 0.1327139 & 3.710991\\\\\n",
       "\\end{tabular}\n"
      ],
      "text/markdown": [
       "\n",
       "A data.frame: 1 × 17\n",
       "\n",
       "| phenotype_id &lt;chr&gt; | variant_id &lt;chr&gt; | chr &lt;int&gt; | pos &lt;int&gt; | ref &lt;chr&gt; | alt &lt;chr&gt; | cs_id &lt;chr&gt; | cs_index &lt;chr&gt; | finemapped_region &lt;chr&gt; | pip &lt;dbl&gt; | z &lt;dbl&gt; | cs_min_r2 &lt;dbl&gt; | cs_avg_r2 &lt;dbl&gt; | cs_size &lt;int&gt; | posterior_mean &lt;dbl&gt; | posterior_sd &lt;dbl&gt; | cs_log10bf &lt;dbl&gt; |\n",
       "|---|---|---|---|---|---|---|---|---|---|---|---|---|---|---|---|---|\n",
       "| ENSG00000237492 | chr1_248100768_C_G | 1 | 248100768 | C | G | ENSG00000237492_L2 | L2 | chr1:247138042-249138042 | 0.02572981 | 5.448628 | 0.8565942 | 0.9648561 | 41 | 0.02062565 | 0.1327139 | 3.710991 |\n",
       "\n"
      ],
      "text/plain": [
       "  phenotype_id    variant_id         chr pos       ref alt cs_id             \n",
       "1 ENSG00000237492 chr1_248100768_C_G 1   248100768 C   G   ENSG00000237492_L2\n",
       "  cs_index finemapped_region        pip        z        cs_min_r2 cs_avg_r2\n",
       "1 L2       chr1:247138042-249138042 0.02572981 5.448628 0.8565942 0.9648561\n",
       "  cs_size posterior_mean posterior_sd cs_log10bf\n",
       "1 41      0.02062565     0.1327139    3.710991  "
      ]
     },
     "metadata": {},
     "output_type": "display_data"
    },
    {
     "data": {
      "text/html": [
       "<table>\n",
       "<caption>A data.frame: 8 × 17</caption>\n",
       "<thead>\n",
       "\t<tr><th scope=col>phenotype_id</th><th scope=col>variant_id</th><th scope=col>chr</th><th scope=col>pos</th><th scope=col>ref</th><th scope=col>alt</th><th scope=col>cs_id</th><th scope=col>cs_index</th><th scope=col>finemapped_region</th><th scope=col>pip</th><th scope=col>z</th><th scope=col>cs_min_r2</th><th scope=col>cs_avg_r2</th><th scope=col>cs_size</th><th scope=col>posterior_mean</th><th scope=col>posterior_sd</th><th scope=col>cs_log10bf</th></tr>\n",
       "\t<tr><th scope=col>&lt;chr&gt;</th><th scope=col>&lt;chr&gt;</th><th scope=col>&lt;int&gt;</th><th scope=col>&lt;int&gt;</th><th scope=col>&lt;chr&gt;</th><th scope=col>&lt;chr&gt;</th><th scope=col>&lt;chr&gt;</th><th scope=col>&lt;chr&gt;</th><th scope=col>&lt;chr&gt;</th><th scope=col>&lt;dbl&gt;</th><th scope=col>&lt;dbl&gt;</th><th scope=col>&lt;dbl&gt;</th><th scope=col>&lt;dbl&gt;</th><th scope=col>&lt;int&gt;</th><th scope=col>&lt;dbl&gt;</th><th scope=col>&lt;dbl&gt;</th><th scope=col>&lt;dbl&gt;</th></tr>\n",
       "</thead>\n",
       "<tbody>\n",
       "\t<tr><td>ENSG00000187080</td><td>chr1_248100768_C_G</td><td>1</td><td>248100768</td><td>C</td><td>G</td><td>ENSG00000187080_L2</td><td>L2</td><td>chr1:247128534-249128534</td><td>0.03433296</td><td>5.438479</td><td>0.7096026</td><td>0.9382633</td><td>40</td><td>0.04912776</td><td>0.2656336</td><td>2.820346</td></tr>\n",
       "\t<tr><td>ENSG00000196071</td><td>chr1_248100768_C_G</td><td>1</td><td>248100768</td><td>C</td><td>G</td><td>ENSG00000196071_L2</td><td>L2</td><td>chr1:247258485-249258485</td><td>0.03930157</td><td>5.550690</td><td>0.8431418</td><td>0.9707786</td><td>10</td><td>0.06163496</td><td>0.3146123</td><td>3.304023</td></tr>\n",
       "\t<tr><td>ENSG00000197454</td><td>chr1_248100768_C_G</td><td>1</td><td>248100768</td><td>C</td><td>G</td><td>ENSG00000197454_L2</td><td>L2</td><td>chr1:247176961-249176961</td><td>0.04888841</td><td>5.663528</td><td>0.8431418</td><td>0.9707786</td><td>10</td><td>0.07341222</td><td>0.3338300</td><td>3.243594</td></tr>\n",
       "\t<tr><td>ENSG00000198128</td><td>chr1_248100768_C_G</td><td>1</td><td>248100768</td><td>C</td><td>G</td><td>ENSG00000198128_L2</td><td>L2</td><td>chr1:247210137-249210137</td><td>0.56555556</td><td>6.187201</td><td>0.8431418</td><td>0.9707786</td><td>10</td><td>0.93474712</td><td>0.8452450</td><td>3.472389</td></tr>\n",
       "\t<tr><td>ENSG00000203663</td><td>chr1_248100768_C_G</td><td>1</td><td>248100768</td><td>C</td><td>G</td><td>ENSG00000203663_L3</td><td>L3</td><td>chr1:247193371-249193371</td><td>0.08004237</td><td>5.130445</td><td>0.7096026</td><td>0.9360574</td><td>38</td><td>0.05713949</td><td>0.1979180</td><td>3.605092</td></tr>\n",
       "\t<tr><td>ENSG00000224830</td><td>chr1_248100768_C_G</td><td>1</td><td>248100768</td><td>C</td><td>G</td><td>ENSG00000224830_L2</td><td>L2</td><td>chr1:247102274-249102274</td><td>0.13116823</td><td>6.284603</td><td>0.8431418</td><td>0.9707786</td><td>10</td><td>0.23966615</td><td>0.6261597</td><td>4.516701</td></tr>\n",
       "\t<tr><td>ENSG00000232215</td><td>chr1_248100768_C_G</td><td>1</td><td>248100768</td><td>C</td><td>G</td><td>ENSG00000232215_L2</td><td>L2</td><td>chr1:247166430-249166430</td><td>0.54675339</td><td>5.433020</td><td>0.8431418</td><td>0.9707786</td><td>10</td><td>0.94587493</td><td>0.8951023</td><td>1.925895</td></tr>\n",
       "\t<tr><td>ENSG00000279263</td><td>chr1_248100768_C_G</td><td>1</td><td>248100768</td><td>C</td><td>G</td><td>ENSG00000279263_L1</td><td>L1</td><td>chr1:247112159-249112159</td><td>0.07402963</td><td>6.198502</td><td>0.8431418</td><td>0.9707786</td><td>10</td><td>0.12633764</td><td>0.4565328</td><td>4.370047</td></tr>\n",
       "</tbody>\n",
       "</table>\n"
      ],
      "text/latex": [
       "A data.frame: 8 × 17\n",
       "\\begin{tabular}{lllllllllllllllll}\n",
       " phenotype\\_id & variant\\_id & chr & pos & ref & alt & cs\\_id & cs\\_index & finemapped\\_region & pip & z & cs\\_min\\_r2 & cs\\_avg\\_r2 & cs\\_size & posterior\\_mean & posterior\\_sd & cs\\_log10bf\\\\\n",
       " <chr> & <chr> & <int> & <int> & <chr> & <chr> & <chr> & <chr> & <chr> & <dbl> & <dbl> & <dbl> & <dbl> & <int> & <dbl> & <dbl> & <dbl>\\\\\n",
       "\\hline\n",
       "\t ENSG00000187080 & chr1\\_248100768\\_C\\_G & 1 & 248100768 & C & G & ENSG00000187080\\_L2 & L2 & chr1:247128534-249128534 & 0.03433296 & 5.438479 & 0.7096026 & 0.9382633 & 40 & 0.04912776 & 0.2656336 & 2.820346\\\\\n",
       "\t ENSG00000196071 & chr1\\_248100768\\_C\\_G & 1 & 248100768 & C & G & ENSG00000196071\\_L2 & L2 & chr1:247258485-249258485 & 0.03930157 & 5.550690 & 0.8431418 & 0.9707786 & 10 & 0.06163496 & 0.3146123 & 3.304023\\\\\n",
       "\t ENSG00000197454 & chr1\\_248100768\\_C\\_G & 1 & 248100768 & C & G & ENSG00000197454\\_L2 & L2 & chr1:247176961-249176961 & 0.04888841 & 5.663528 & 0.8431418 & 0.9707786 & 10 & 0.07341222 & 0.3338300 & 3.243594\\\\\n",
       "\t ENSG00000198128 & chr1\\_248100768\\_C\\_G & 1 & 248100768 & C & G & ENSG00000198128\\_L2 & L2 & chr1:247210137-249210137 & 0.56555556 & 6.187201 & 0.8431418 & 0.9707786 & 10 & 0.93474712 & 0.8452450 & 3.472389\\\\\n",
       "\t ENSG00000203663 & chr1\\_248100768\\_C\\_G & 1 & 248100768 & C & G & ENSG00000203663\\_L3 & L3 & chr1:247193371-249193371 & 0.08004237 & 5.130445 & 0.7096026 & 0.9360574 & 38 & 0.05713949 & 0.1979180 & 3.605092\\\\\n",
       "\t ENSG00000224830 & chr1\\_248100768\\_C\\_G & 1 & 248100768 & C & G & ENSG00000224830\\_L2 & L2 & chr1:247102274-249102274 & 0.13116823 & 6.284603 & 0.8431418 & 0.9707786 & 10 & 0.23966615 & 0.6261597 & 4.516701\\\\\n",
       "\t ENSG00000232215 & chr1\\_248100768\\_C\\_G & 1 & 248100768 & C & G & ENSG00000232215\\_L2 & L2 & chr1:247166430-249166430 & 0.54675339 & 5.433020 & 0.8431418 & 0.9707786 & 10 & 0.94587493 & 0.8951023 & 1.925895\\\\\n",
       "\t ENSG00000279263 & chr1\\_248100768\\_C\\_G & 1 & 248100768 & C & G & ENSG00000279263\\_L1 & L1 & chr1:247112159-249112159 & 0.07402963 & 6.198502 & 0.8431418 & 0.9707786 & 10 & 0.12633764 & 0.4565328 & 4.370047\\\\\n",
       "\\end{tabular}\n"
      ],
      "text/markdown": [
       "\n",
       "A data.frame: 8 × 17\n",
       "\n",
       "| phenotype_id &lt;chr&gt; | variant_id &lt;chr&gt; | chr &lt;int&gt; | pos &lt;int&gt; | ref &lt;chr&gt; | alt &lt;chr&gt; | cs_id &lt;chr&gt; | cs_index &lt;chr&gt; | finemapped_region &lt;chr&gt; | pip &lt;dbl&gt; | z &lt;dbl&gt; | cs_min_r2 &lt;dbl&gt; | cs_avg_r2 &lt;dbl&gt; | cs_size &lt;int&gt; | posterior_mean &lt;dbl&gt; | posterior_sd &lt;dbl&gt; | cs_log10bf &lt;dbl&gt; |\n",
       "|---|---|---|---|---|---|---|---|---|---|---|---|---|---|---|---|---|\n",
       "| ENSG00000187080 | chr1_248100768_C_G | 1 | 248100768 | C | G | ENSG00000187080_L2 | L2 | chr1:247128534-249128534 | 0.03433296 | 5.438479 | 0.7096026 | 0.9382633 | 40 | 0.04912776 | 0.2656336 | 2.820346 |\n",
       "| ENSG00000196071 | chr1_248100768_C_G | 1 | 248100768 | C | G | ENSG00000196071_L2 | L2 | chr1:247258485-249258485 | 0.03930157 | 5.550690 | 0.8431418 | 0.9707786 | 10 | 0.06163496 | 0.3146123 | 3.304023 |\n",
       "| ENSG00000197454 | chr1_248100768_C_G | 1 | 248100768 | C | G | ENSG00000197454_L2 | L2 | chr1:247176961-249176961 | 0.04888841 | 5.663528 | 0.8431418 | 0.9707786 | 10 | 0.07341222 | 0.3338300 | 3.243594 |\n",
       "| ENSG00000198128 | chr1_248100768_C_G | 1 | 248100768 | C | G | ENSG00000198128_L2 | L2 | chr1:247210137-249210137 | 0.56555556 | 6.187201 | 0.8431418 | 0.9707786 | 10 | 0.93474712 | 0.8452450 | 3.472389 |\n",
       "| ENSG00000203663 | chr1_248100768_C_G | 1 | 248100768 | C | G | ENSG00000203663_L3 | L3 | chr1:247193371-249193371 | 0.08004237 | 5.130445 | 0.7096026 | 0.9360574 | 38 | 0.05713949 | 0.1979180 | 3.605092 |\n",
       "| ENSG00000224830 | chr1_248100768_C_G | 1 | 248100768 | C | G | ENSG00000224830_L2 | L2 | chr1:247102274-249102274 | 0.13116823 | 6.284603 | 0.8431418 | 0.9707786 | 10 | 0.23966615 | 0.6261597 | 4.516701 |\n",
       "| ENSG00000232215 | chr1_248100768_C_G | 1 | 248100768 | C | G | ENSG00000232215_L2 | L2 | chr1:247166430-249166430 | 0.54675339 | 5.433020 | 0.8431418 | 0.9707786 | 10 | 0.94587493 | 0.8951023 | 1.925895 |\n",
       "| ENSG00000279263 | chr1_248100768_C_G | 1 | 248100768 | C | G | ENSG00000279263_L1 | L1 | chr1:247112159-249112159 | 0.07402963 | 6.198502 | 0.8431418 | 0.9707786 | 10 | 0.12633764 | 0.4565328 | 4.370047 |\n",
       "\n"
      ],
      "text/plain": [
       "  phenotype_id    variant_id         chr pos       ref alt cs_id             \n",
       "1 ENSG00000187080 chr1_248100768_C_G 1   248100768 C   G   ENSG00000187080_L2\n",
       "2 ENSG00000196071 chr1_248100768_C_G 1   248100768 C   G   ENSG00000196071_L2\n",
       "3 ENSG00000197454 chr1_248100768_C_G 1   248100768 C   G   ENSG00000197454_L2\n",
       "4 ENSG00000198128 chr1_248100768_C_G 1   248100768 C   G   ENSG00000198128_L2\n",
       "5 ENSG00000203663 chr1_248100768_C_G 1   248100768 C   G   ENSG00000203663_L3\n",
       "6 ENSG00000224830 chr1_248100768_C_G 1   248100768 C   G   ENSG00000224830_L2\n",
       "7 ENSG00000232215 chr1_248100768_C_G 1   248100768 C   G   ENSG00000232215_L2\n",
       "8 ENSG00000279263 chr1_248100768_C_G 1   248100768 C   G   ENSG00000279263_L1\n",
       "  cs_index finemapped_region        pip        z        cs_min_r2 cs_avg_r2\n",
       "1 L2       chr1:247128534-249128534 0.03433296 5.438479 0.7096026 0.9382633\n",
       "2 L2       chr1:247258485-249258485 0.03930157 5.550690 0.8431418 0.9707786\n",
       "3 L2       chr1:247176961-249176961 0.04888841 5.663528 0.8431418 0.9707786\n",
       "4 L2       chr1:247210137-249210137 0.56555556 6.187201 0.8431418 0.9707786\n",
       "5 L3       chr1:247193371-249193371 0.08004237 5.130445 0.7096026 0.9360574\n",
       "6 L2       chr1:247102274-249102274 0.13116823 6.284603 0.8431418 0.9707786\n",
       "7 L2       chr1:247166430-249166430 0.54675339 5.433020 0.8431418 0.9707786\n",
       "8 L1       chr1:247112159-249112159 0.07402963 6.198502 0.8431418 0.9707786\n",
       "  cs_size posterior_mean posterior_sd cs_log10bf\n",
       "1 40      0.04912776     0.2656336    2.820346  \n",
       "2 10      0.06163496     0.3146123    3.304023  \n",
       "3 10      0.07341222     0.3338300    3.243594  \n",
       "4 10      0.93474712     0.8452450    3.472389  \n",
       "5 38      0.05713949     0.1979180    3.605092  \n",
       "6 10      0.23966615     0.6261597    4.516701  \n",
       "7 10      0.94587493     0.8951023    1.925895  \n",
       "8 10      0.12633764     0.4565328    4.370047  "
      ]
     },
     "metadata": {},
     "output_type": "display_data"
    }
   ],
   "source": [
    "sorted_df_eur %>% filter(variant_id == \"chr1_248100768_C_G\")\n",
    "sorted_df_amr %>% filter(variant_id == \"chr1_248100768_C_G\")"
   ]
  },
  {
   "cell_type": "code",
   "execution_count": 66,
   "metadata": {
    "collapsed": false,
    "deletable": true,
    "editable": true
   },
   "outputs": [
    {
     "data": {
      "text/html": [
       "<table>\n",
       "<caption>A data.frame: 2 × 17</caption>\n",
       "<thead>\n",
       "\t<tr><th scope=col>phenotype_id</th><th scope=col>variant_id</th><th scope=col>chr</th><th scope=col>pos</th><th scope=col>ref</th><th scope=col>alt</th><th scope=col>cs_id</th><th scope=col>cs_index</th><th scope=col>finemapped_region</th><th scope=col>pip</th><th scope=col>z</th><th scope=col>cs_min_r2</th><th scope=col>cs_avg_r2</th><th scope=col>cs_size</th><th scope=col>posterior_mean</th><th scope=col>posterior_sd</th><th scope=col>cs_log10bf</th></tr>\n",
       "\t<tr><th scope=col>&lt;chr&gt;</th><th scope=col>&lt;chr&gt;</th><th scope=col>&lt;int&gt;</th><th scope=col>&lt;int&gt;</th><th scope=col>&lt;chr&gt;</th><th scope=col>&lt;chr&gt;</th><th scope=col>&lt;chr&gt;</th><th scope=col>&lt;chr&gt;</th><th scope=col>&lt;chr&gt;</th><th scope=col>&lt;dbl&gt;</th><th scope=col>&lt;dbl&gt;</th><th scope=col>&lt;dbl&gt;</th><th scope=col>&lt;dbl&gt;</th><th scope=col>&lt;int&gt;</th><th scope=col>&lt;dbl&gt;</th><th scope=col>&lt;dbl&gt;</th><th scope=col>&lt;dbl&gt;</th></tr>\n",
       "</thead>\n",
       "<tbody>\n",
       "\t<tr><td>ENSG00000196071</td><td>chr1_248100718_C_T</td><td>1</td><td>248100718</td><td>C</td><td>T</td><td>ENSG00000196071_L1</td><td>L1</td><td>chr1:247258485-249258485</td><td>0.06835856</td><td>6.489734</td><td>0.4159899</td><td>0.6764839</td><td>2</td><td>0.0763926</td><td>0.2902602</td><td>8.611078</td></tr>\n",
       "\t<tr><td>ENSG00000196071</td><td>chr1_248100768_C_G</td><td>1</td><td>248100768</td><td>C</td><td>G</td><td>ENSG00000196071_L1</td><td>L1</td><td>chr1:247258485-249258485</td><td>0.93528058</td><td>7.130576</td><td>0.4159899</td><td>0.6764839</td><td>2</td><td>1.4712701</td><td>0.4331967</td><td>8.611078</td></tr>\n",
       "</tbody>\n",
       "</table>\n"
      ],
      "text/latex": [
       "A data.frame: 2 × 17\n",
       "\\begin{tabular}{lllllllllllllllll}\n",
       " phenotype\\_id & variant\\_id & chr & pos & ref & alt & cs\\_id & cs\\_index & finemapped\\_region & pip & z & cs\\_min\\_r2 & cs\\_avg\\_r2 & cs\\_size & posterior\\_mean & posterior\\_sd & cs\\_log10bf\\\\\n",
       " <chr> & <chr> & <int> & <int> & <chr> & <chr> & <chr> & <chr> & <chr> & <dbl> & <dbl> & <dbl> & <dbl> & <int> & <dbl> & <dbl> & <dbl>\\\\\n",
       "\\hline\n",
       "\t ENSG00000196071 & chr1\\_248100718\\_C\\_T & 1 & 248100718 & C & T & ENSG00000196071\\_L1 & L1 & chr1:247258485-249258485 & 0.06835856 & 6.489734 & 0.4159899 & 0.6764839 & 2 & 0.0763926 & 0.2902602 & 8.611078\\\\\n",
       "\t ENSG00000196071 & chr1\\_248100768\\_C\\_G & 1 & 248100768 & C & G & ENSG00000196071\\_L1 & L1 & chr1:247258485-249258485 & 0.93528058 & 7.130576 & 0.4159899 & 0.6764839 & 2 & 1.4712701 & 0.4331967 & 8.611078\\\\\n",
       "\\end{tabular}\n"
      ],
      "text/markdown": [
       "\n",
       "A data.frame: 2 × 17\n",
       "\n",
       "| phenotype_id &lt;chr&gt; | variant_id &lt;chr&gt; | chr &lt;int&gt; | pos &lt;int&gt; | ref &lt;chr&gt; | alt &lt;chr&gt; | cs_id &lt;chr&gt; | cs_index &lt;chr&gt; | finemapped_region &lt;chr&gt; | pip &lt;dbl&gt; | z &lt;dbl&gt; | cs_min_r2 &lt;dbl&gt; | cs_avg_r2 &lt;dbl&gt; | cs_size &lt;int&gt; | posterior_mean &lt;dbl&gt; | posterior_sd &lt;dbl&gt; | cs_log10bf &lt;dbl&gt; |\n",
       "|---|---|---|---|---|---|---|---|---|---|---|---|---|---|---|---|---|\n",
       "| ENSG00000196071 | chr1_248100718_C_T | 1 | 248100718 | C | T | ENSG00000196071_L1 | L1 | chr1:247258485-249258485 | 0.06835856 | 6.489734 | 0.4159899 | 0.6764839 | 2 | 0.0763926 | 0.2902602 | 8.611078 |\n",
       "| ENSG00000196071 | chr1_248100768_C_G | 1 | 248100768 | C | G | ENSG00000196071_L1 | L1 | chr1:247258485-249258485 | 0.93528058 | 7.130576 | 0.4159899 | 0.6764839 | 2 | 1.4712701 | 0.4331967 | 8.611078 |\n",
       "\n"
      ],
      "text/plain": [
       "  phenotype_id    variant_id         chr pos       ref alt cs_id             \n",
       "1 ENSG00000196071 chr1_248100718_C_T 1   248100718 C   T   ENSG00000196071_L1\n",
       "2 ENSG00000196071 chr1_248100768_C_G 1   248100768 C   G   ENSG00000196071_L1\n",
       "  cs_index finemapped_region        pip        z        cs_min_r2 cs_avg_r2\n",
       "1 L1       chr1:247258485-249258485 0.06835856 6.489734 0.4159899 0.6764839\n",
       "2 L1       chr1:247258485-249258485 0.93528058 7.130576 0.4159899 0.6764839\n",
       "  cs_size posterior_mean posterior_sd cs_log10bf\n",
       "1 2       0.0763926      0.2902602    8.611078  \n",
       "2 2       1.4712701      0.4331967    8.611078  "
      ]
     },
     "metadata": {},
     "output_type": "display_data"
    },
    {
     "data": {
      "text/html": [
       "<table>\n",
       "<caption>A data.frame: 50 × 17</caption>\n",
       "<thead>\n",
       "\t<tr><th scope=col>phenotype_id</th><th scope=col>variant_id</th><th scope=col>chr</th><th scope=col>pos</th><th scope=col>ref</th><th scope=col>alt</th><th scope=col>cs_id</th><th scope=col>cs_index</th><th scope=col>finemapped_region</th><th scope=col>pip</th><th scope=col>z</th><th scope=col>cs_min_r2</th><th scope=col>cs_avg_r2</th><th scope=col>cs_size</th><th scope=col>posterior_mean</th><th scope=col>posterior_sd</th><th scope=col>cs_log10bf</th></tr>\n",
       "\t<tr><th scope=col>&lt;chr&gt;</th><th scope=col>&lt;chr&gt;</th><th scope=col>&lt;int&gt;</th><th scope=col>&lt;int&gt;</th><th scope=col>&lt;chr&gt;</th><th scope=col>&lt;chr&gt;</th><th scope=col>&lt;chr&gt;</th><th scope=col>&lt;chr&gt;</th><th scope=col>&lt;chr&gt;</th><th scope=col>&lt;dbl&gt;</th><th scope=col>&lt;dbl&gt;</th><th scope=col>&lt;dbl&gt;</th><th scope=col>&lt;dbl&gt;</th><th scope=col>&lt;int&gt;</th><th scope=col>&lt;dbl&gt;</th><th scope=col>&lt;dbl&gt;</th><th scope=col>&lt;dbl&gt;</th></tr>\n",
       "</thead>\n",
       "<tbody>\n",
       "\t<tr><td>ENSG00000196071</td><td>chr1_247790679_G_C  </td><td>1</td><td>247790679</td><td>G </td><td>C  </td><td>ENSG00000196071_L4</td><td>L4</td><td>chr1:247258485-249258485</td><td>0.004821646</td><td> 1.328978</td><td>0.4127106</td><td>0.7691700</td><td> 8</td><td> 0.0017256745</td><td>0.02804464</td><td> 1.470495</td></tr>\n",
       "\t<tr><td>ENSG00000196071</td><td>chr1_247795893_C_T  </td><td>1</td><td>247795893</td><td>C </td><td>T  </td><td>ENSG00000196071_L4</td><td>L4</td><td>chr1:247258485-249258485</td><td>0.163738600</td><td> 2.111085</td><td>0.4127106</td><td>0.7691700</td><td> 8</td><td> 0.0774779181</td><td>0.18001922</td><td> 1.470495</td></tr>\n",
       "\t<tr><td>ENSG00000196071</td><td>chr1_247796319_C_T  </td><td>1</td><td>247796319</td><td>C </td><td>T  </td><td>ENSG00000196071_L4</td><td>L4</td><td>chr1:247258485-249258485</td><td>0.398371127</td><td> 2.326484</td><td>0.4127106</td><td>0.7691700</td><td> 8</td><td> 0.1973086116</td><td>0.25069757</td><td> 1.470495</td></tr>\n",
       "\t<tr><td>ENSG00000196071</td><td>chr1_247799643_G_A  </td><td>1</td><td>247799643</td><td>G </td><td>A  </td><td>ENSG00000196071_L4</td><td>L4</td><td>chr1:247258485-249258485</td><td>0.164712224</td><td> 2.325360</td><td>0.4127106</td><td>0.7691700</td><td> 8</td><td> 0.0741144781</td><td>0.17159733</td><td> 1.470495</td></tr>\n",
       "\t<tr><td>ENSG00000196071</td><td>chr1_247800248_G_A  </td><td>1</td><td>247800248</td><td>G </td><td>A  </td><td>ENSG00000196071_L4</td><td>L4</td><td>chr1:247258485-249258485</td><td>0.163738600</td><td> 2.111085</td><td>0.4127106</td><td>0.7691700</td><td> 8</td><td> 0.0774779181</td><td>0.18001922</td><td> 1.470495</td></tr>\n",
       "\t<tr><td>ENSG00000196071</td><td>chr1_247803437_C_A  </td><td>1</td><td>247803437</td><td>C </td><td>A  </td><td>ENSG00000196071_L4</td><td>L4</td><td>chr1:247258485-249258485</td><td>0.055226149</td><td> 2.036015</td><td>0.4127106</td><td>0.7691700</td><td> 8</td><td> 0.0225494341</td><td>0.09631563</td><td> 1.470495</td></tr>\n",
       "\t<tr><td>ENSG00000196071</td><td>chr1_247805797_C_T  </td><td>1</td><td>247805797</td><td>C </td><td>T  </td><td>ENSG00000196071_L4</td><td>L4</td><td>chr1:247258485-249258485</td><td>0.003260805</td><td> 1.763479</td><td>0.4127106</td><td>0.7691700</td><td> 8</td><td> 0.0009726739</td><td>0.02065917</td><td> 1.470495</td></tr>\n",
       "\t<tr><td>ENSG00000196071</td><td>chr1_247809004_A_G  </td><td>1</td><td>247809004</td><td>A </td><td>G  </td><td>ENSG00000196071_L4</td><td>L4</td><td>chr1:247258485-249258485</td><td>0.003260805</td><td> 1.763479</td><td>0.4127106</td><td>0.7691700</td><td> 8</td><td> 0.0009726739</td><td>0.02065917</td><td> 1.470495</td></tr>\n",
       "\t<tr><td>ENSG00000196071</td><td>chr1_248100548_G_C  </td><td>1</td><td>248100548</td><td>G </td><td>C  </td><td>ENSG00000196071_L1</td><td>L1</td><td>chr1:247258485-249258485</td><td>1.000000000</td><td>10.894846</td><td>1.0000000</td><td>1.0000000</td><td> 1</td><td> 0.6251859380</td><td>0.04426768</td><td>38.535210</td></tr>\n",
       "\t<tr><td>ENSG00000196071</td><td>chr1_248100718_C_T  </td><td>1</td><td>248100718</td><td>C </td><td>T  </td><td>ENSG00000196071_L2</td><td>L2</td><td>chr1:247258485-249258485</td><td>0.022845406</td><td> 7.635254</td><td>0.9197840</td><td>0.9715836</td><td>40</td><td> 0.0245411530</td><td>0.16446855</td><td>16.509819</td></tr>\n",
       "\t<tr><td>ENSG00000196071</td><td>chr1_248101302_G_A  </td><td>1</td><td>248101302</td><td>G </td><td>A  </td><td>ENSG00000196071_L2</td><td>L2</td><td>chr1:247258485-249258485</td><td>0.022845406</td><td> 7.635254</td><td>0.9197840</td><td>0.9715836</td><td>40</td><td> 0.0245411530</td><td>0.16446855</td><td>16.509819</td></tr>\n",
       "\t<tr><td>ENSG00000196071</td><td>chr1_248103672_T_C  </td><td>1</td><td>248103672</td><td>T </td><td>C  </td><td>ENSG00000196071_L2</td><td>L2</td><td>chr1:247258485-249258485</td><td>0.022845406</td><td> 7.635254</td><td>0.9197840</td><td>0.9715836</td><td>40</td><td> 0.0245411530</td><td>0.16446855</td><td>16.509819</td></tr>\n",
       "\t<tr><td>ENSG00000196071</td><td>chr1_248104736_C_T  </td><td>1</td><td>248104736</td><td>C </td><td>T  </td><td>ENSG00000196071_L2</td><td>L2</td><td>chr1:247258485-249258485</td><td>0.023854859</td><td> 7.471655</td><td>0.9197840</td><td>0.9715836</td><td>40</td><td> 0.0254606573</td><td>0.16677600</td><td>16.509819</td></tr>\n",
       "\t<tr><td>ENSG00000196071</td><td>chr1_248104860_A_G  </td><td>1</td><td>248104860</td><td>A </td><td>G  </td><td>ENSG00000196071_L2</td><td>L2</td><td>chr1:247258485-249258485</td><td>0.023854859</td><td> 7.471655</td><td>0.9197840</td><td>0.9715836</td><td>40</td><td> 0.0254606573</td><td>0.16677600</td><td>16.509819</td></tr>\n",
       "\t<tr><td>ENSG00000196071</td><td>chr1_248106240_C_T  </td><td>1</td><td>248106240</td><td>C </td><td>T  </td><td>ENSG00000196071_L2</td><td>L2</td><td>chr1:247258485-249258485</td><td>0.022845406</td><td> 7.635254</td><td>0.9197840</td><td>0.9715836</td><td>40</td><td> 0.0245411530</td><td>0.16446855</td><td>16.509819</td></tr>\n",
       "\t<tr><td>ENSG00000196071</td><td>chr1_248106524_A_G  </td><td>1</td><td>248106524</td><td>A </td><td>G  </td><td>ENSG00000196071_L2</td><td>L2</td><td>chr1:247258485-249258485</td><td>0.022845406</td><td> 7.635254</td><td>0.9197840</td><td>0.9715836</td><td>40</td><td> 0.0245411530</td><td>0.16446855</td><td>16.509819</td></tr>\n",
       "\t<tr><td>ENSG00000196071</td><td>chr1_248106578_G_A  </td><td>1</td><td>248106578</td><td>G </td><td>A  </td><td>ENSG00000196071_L2</td><td>L2</td><td>chr1:247258485-249258485</td><td>0.022845406</td><td> 7.635254</td><td>0.9197840</td><td>0.9715836</td><td>40</td><td> 0.0245411530</td><td>0.16446855</td><td>16.509819</td></tr>\n",
       "\t<tr><td>ENSG00000196071</td><td>chr1_248106897_C_G  </td><td>1</td><td>248106897</td><td>C </td><td>G  </td><td>ENSG00000196071_L2</td><td>L2</td><td>chr1:247258485-249258485</td><td>0.022845406</td><td> 7.635254</td><td>0.9197840</td><td>0.9715836</td><td>40</td><td> 0.0245411530</td><td>0.16446855</td><td>16.509819</td></tr>\n",
       "\t<tr><td>ENSG00000196071</td><td>chr1_248108063_A_G  </td><td>1</td><td>248108063</td><td>A </td><td>G  </td><td>ENSG00000196071_L2</td><td>L2</td><td>chr1:247258485-249258485</td><td>0.022845406</td><td> 7.635254</td><td>0.9197840</td><td>0.9715836</td><td>40</td><td> 0.0245411530</td><td>0.16446855</td><td>16.509819</td></tr>\n",
       "\t<tr><td>ENSG00000196071</td><td>chr1_248108813_C_T  </td><td>1</td><td>248108813</td><td>C </td><td>T  </td><td>ENSG00000196071_L2</td><td>L2</td><td>chr1:247258485-249258485</td><td>0.022845406</td><td> 7.635254</td><td>0.9197840</td><td>0.9715836</td><td>40</td><td> 0.0245411530</td><td>0.16446855</td><td>16.509819</td></tr>\n",
       "\t<tr><td>ENSG00000196071</td><td>chr1_248109028_A_G  </td><td>1</td><td>248109028</td><td>A </td><td>G  </td><td>ENSG00000196071_L2</td><td>L2</td><td>chr1:247258485-249258485</td><td>0.022845406</td><td> 7.635254</td><td>0.9197840</td><td>0.9715836</td><td>40</td><td> 0.0245411530</td><td>0.16446855</td><td>16.509819</td></tr>\n",
       "\t<tr><td>ENSG00000196071</td><td>chr1_248109230_A_G  </td><td>1</td><td>248109230</td><td>A </td><td>G  </td><td>ENSG00000196071_L2</td><td>L2</td><td>chr1:247258485-249258485</td><td>0.022845406</td><td> 7.635254</td><td>0.9197840</td><td>0.9715836</td><td>40</td><td> 0.0245411530</td><td>0.16446855</td><td>16.509819</td></tr>\n",
       "\t<tr><td>ENSG00000196071</td><td>chr1_248109552_C_CAT</td><td>1</td><td>248109552</td><td>C </td><td>CAT</td><td>ENSG00000196071_L2</td><td>L2</td><td>chr1:247258485-249258485</td><td>0.022845406</td><td> 7.635254</td><td>0.9197840</td><td>0.9715836</td><td>40</td><td> 0.0245411530</td><td>0.16446855</td><td>16.509819</td></tr>\n",
       "\t<tr><td>ENSG00000196071</td><td>chr1_248109674_C_A  </td><td>1</td><td>248109674</td><td>C </td><td>A  </td><td>ENSG00000196071_L2</td><td>L2</td><td>chr1:247258485-249258485</td><td>0.023854859</td><td> 7.471655</td><td>0.9197840</td><td>0.9715836</td><td>40</td><td> 0.0254606573</td><td>0.16677600</td><td>16.509819</td></tr>\n",
       "\t<tr><td>ENSG00000196071</td><td>chr1_248110057_C_T  </td><td>1</td><td>248110057</td><td>C </td><td>T  </td><td>ENSG00000196071_L2</td><td>L2</td><td>chr1:247258485-249258485</td><td>0.028483174</td><td> 7.580643</td><td>0.9197840</td><td>0.9715836</td><td>40</td><td> 0.0300921395</td><td>0.17941807</td><td>16.509819</td></tr>\n",
       "\t<tr><td>ENSG00000196071</td><td>chr1_248110488_G_T  </td><td>1</td><td>248110488</td><td>G </td><td>T  </td><td>ENSG00000196071_L2</td><td>L2</td><td>chr1:247258485-249258485</td><td>0.028483174</td><td> 7.580643</td><td>0.9197840</td><td>0.9715836</td><td>40</td><td> 0.0300921395</td><td>0.17941807</td><td>16.509819</td></tr>\n",
       "\t<tr><td>ENSG00000196071</td><td>chr1_248110799_A_G  </td><td>1</td><td>248110799</td><td>A </td><td>G  </td><td>ENSG00000196071_L2</td><td>L2</td><td>chr1:247258485-249258485</td><td>0.022845406</td><td> 7.635254</td><td>0.9197840</td><td>0.9715836</td><td>40</td><td> 0.0245411530</td><td>0.16446855</td><td>16.509819</td></tr>\n",
       "\t<tr><td>ENSG00000196071</td><td>chr1_248111311_G_A  </td><td>1</td><td>248111311</td><td>G </td><td>A  </td><td>ENSG00000196071_L2</td><td>L2</td><td>chr1:247258485-249258485</td><td>0.022845406</td><td> 7.635254</td><td>0.9197840</td><td>0.9715836</td><td>40</td><td> 0.0245411530</td><td>0.16446855</td><td>16.509819</td></tr>\n",
       "\t<tr><td>ENSG00000196071</td><td>chr1_248111751_G_GA </td><td>1</td><td>248111751</td><td>G </td><td>GA </td><td>ENSG00000196071_L2</td><td>L2</td><td>chr1:247258485-249258485</td><td>0.022845406</td><td> 7.635254</td><td>0.9197840</td><td>0.9715836</td><td>40</td><td> 0.0245411530</td><td>0.16446855</td><td>16.509819</td></tr>\n",
       "\t<tr><td>ENSG00000196071</td><td>chr1_248113061_C_A  </td><td>1</td><td>248113061</td><td>C </td><td>A  </td><td>ENSG00000196071_L2</td><td>L2</td><td>chr1:247258485-249258485</td><td>0.028483174</td><td> 7.580643</td><td>0.9197840</td><td>0.9715836</td><td>40</td><td> 0.0300921395</td><td>0.17941807</td><td>16.509819</td></tr>\n",
       "\t<tr><td>ENSG00000196071</td><td>chr1_248114559_T_G  </td><td>1</td><td>248114559</td><td>T </td><td>G  </td><td>ENSG00000196071_L2</td><td>L2</td><td>chr1:247258485-249258485</td><td>0.022845406</td><td> 7.635254</td><td>0.9197840</td><td>0.9715836</td><td>40</td><td> 0.0245411530</td><td>0.16446855</td><td>16.509819</td></tr>\n",
       "\t<tr><td>ENSG00000196071</td><td>chr1_248114741_A_G  </td><td>1</td><td>248114741</td><td>A </td><td>G  </td><td>ENSG00000196071_L2</td><td>L2</td><td>chr1:247258485-249258485</td><td>0.022845406</td><td> 7.635254</td><td>0.9197840</td><td>0.9715836</td><td>40</td><td> 0.0245411530</td><td>0.16446855</td><td>16.509819</td></tr>\n",
       "\t<tr><td>ENSG00000196071</td><td>chr1_248115292_T_C  </td><td>1</td><td>248115292</td><td>T </td><td>C  </td><td>ENSG00000196071_L2</td><td>L2</td><td>chr1:247258485-249258485</td><td>0.028483174</td><td> 7.580643</td><td>0.9197840</td><td>0.9715836</td><td>40</td><td> 0.0300921395</td><td>0.17941807</td><td>16.509819</td></tr>\n",
       "\t<tr><td>ENSG00000196071</td><td>chr1_248115293_G_A  </td><td>1</td><td>248115293</td><td>G </td><td>A  </td><td>ENSG00000196071_L2</td><td>L2</td><td>chr1:247258485-249258485</td><td>0.028483174</td><td> 7.580643</td><td>0.9197840</td><td>0.9715836</td><td>40</td><td> 0.0300921395</td><td>0.17941807</td><td>16.509819</td></tr>\n",
       "\t<tr><td>ENSG00000196071</td><td>chr1_248115307_G_A  </td><td>1</td><td>248115307</td><td>G </td><td>A  </td><td>ENSG00000196071_L2</td><td>L2</td><td>chr1:247258485-249258485</td><td>0.028483174</td><td> 7.580643</td><td>0.9197840</td><td>0.9715836</td><td>40</td><td> 0.0300921395</td><td>0.17941807</td><td>16.509819</td></tr>\n",
       "\t<tr><td>ENSG00000196071</td><td>chr1_248115321_G_C  </td><td>1</td><td>248115321</td><td>G </td><td>C  </td><td>ENSG00000196071_L2</td><td>L2</td><td>chr1:247258485-249258485</td><td>0.028483174</td><td> 7.580643</td><td>0.9197840</td><td>0.9715836</td><td>40</td><td> 0.0300921395</td><td>0.17941807</td><td>16.509819</td></tr>\n",
       "\t<tr><td>ENSG00000196071</td><td>chr1_248117818_C_T  </td><td>1</td><td>248117818</td><td>C </td><td>T  </td><td>ENSG00000196071_L2</td><td>L2</td><td>chr1:247258485-249258485</td><td>0.022845406</td><td> 7.635254</td><td>0.9197840</td><td>0.9715836</td><td>40</td><td> 0.0245411530</td><td>0.16446855</td><td>16.509819</td></tr>\n",
       "\t<tr><td>ENSG00000196071</td><td>chr1_248118282_G_A  </td><td>1</td><td>248118282</td><td>G </td><td>A  </td><td>ENSG00000196071_L2</td><td>L2</td><td>chr1:247258485-249258485</td><td>0.022845406</td><td> 7.635254</td><td>0.9197840</td><td>0.9715836</td><td>40</td><td> 0.0245411530</td><td>0.16446855</td><td>16.509819</td></tr>\n",
       "\t<tr><td>ENSG00000196071</td><td>chr1_248118709_A_G  </td><td>1</td><td>248118709</td><td>A </td><td>G  </td><td>ENSG00000196071_L2</td><td>L2</td><td>chr1:247258485-249258485</td><td>0.022845406</td><td> 7.635254</td><td>0.9197840</td><td>0.9715836</td><td>40</td><td> 0.0245411530</td><td>0.16446855</td><td>16.509819</td></tr>\n",
       "\t<tr><td>ENSG00000196071</td><td>chr1_248118790_G_A  </td><td>1</td><td>248118790</td><td>G </td><td>A  </td><td>ENSG00000196071_L2</td><td>L2</td><td>chr1:247258485-249258485</td><td>0.028483174</td><td> 7.580643</td><td>0.9197840</td><td>0.9715836</td><td>40</td><td> 0.0300921395</td><td>0.17941807</td><td>16.509819</td></tr>\n",
       "\t<tr><td>ENSG00000196071</td><td>chr1_248120010_T_G  </td><td>1</td><td>248120010</td><td>T </td><td>G  </td><td>ENSG00000196071_L2</td><td>L2</td><td>chr1:247258485-249258485</td><td>0.028483174</td><td> 7.580643</td><td>0.9197840</td><td>0.9715836</td><td>40</td><td> 0.0300921395</td><td>0.17941807</td><td>16.509819</td></tr>\n",
       "\t<tr><td>ENSG00000196071</td><td>chr1_248120171_A_G  </td><td>1</td><td>248120171</td><td>A </td><td>G  </td><td>ENSG00000196071_L2</td><td>L2</td><td>chr1:247258485-249258485</td><td>0.022845406</td><td> 7.635254</td><td>0.9197840</td><td>0.9715836</td><td>40</td><td> 0.0245411530</td><td>0.16446855</td><td>16.509819</td></tr>\n",
       "\t<tr><td>ENSG00000196071</td><td>chr1_248120253_G_A  </td><td>1</td><td>248120253</td><td>G </td><td>A  </td><td>ENSG00000196071_L2</td><td>L2</td><td>chr1:247258485-249258485</td><td>0.022845406</td><td> 7.635254</td><td>0.9197840</td><td>0.9715836</td><td>40</td><td> 0.0245411530</td><td>0.16446855</td><td>16.509819</td></tr>\n",
       "\t<tr><td>ENSG00000196071</td><td>chr1_248122371_A_C  </td><td>1</td><td>248122371</td><td>A </td><td>C  </td><td>ENSG00000196071_L2</td><td>L2</td><td>chr1:247258485-249258485</td><td>0.028483174</td><td> 7.580643</td><td>0.9197840</td><td>0.9715836</td><td>40</td><td> 0.0300921395</td><td>0.17941807</td><td>16.509819</td></tr>\n",
       "\t<tr><td>ENSG00000196071</td><td>chr1_248123245_G_A  </td><td>1</td><td>248123245</td><td>G </td><td>A  </td><td>ENSG00000196071_L2</td><td>L2</td><td>chr1:247258485-249258485</td><td>0.028483174</td><td> 7.580643</td><td>0.9197840</td><td>0.9715836</td><td>40</td><td> 0.0300921395</td><td>0.17941807</td><td>16.509819</td></tr>\n",
       "\t<tr><td>ENSG00000196071</td><td>chr1_248124436_C_T  </td><td>1</td><td>248124436</td><td>C </td><td>T  </td><td>ENSG00000196071_L2</td><td>L2</td><td>chr1:247258485-249258485</td><td>0.028483174</td><td> 7.580643</td><td>0.9197840</td><td>0.9715836</td><td>40</td><td> 0.0300921395</td><td>0.17941807</td><td>16.509819</td></tr>\n",
       "\t<tr><td>ENSG00000196071</td><td>chr1_248124850_C_T  </td><td>1</td><td>248124850</td><td>C </td><td>T  </td><td>ENSG00000196071_L2</td><td>L2</td><td>chr1:247258485-249258485</td><td>0.028483174</td><td> 7.580643</td><td>0.9197840</td><td>0.9715836</td><td>40</td><td> 0.0300921395</td><td>0.17941807</td><td>16.509819</td></tr>\n",
       "\t<tr><td>ENSG00000196071</td><td>chr1_248125979_T_A  </td><td>1</td><td>248125979</td><td>T </td><td>A  </td><td>ENSG00000196071_L2</td><td>L2</td><td>chr1:247258485-249258485</td><td>0.028483174</td><td> 7.580643</td><td>0.9197840</td><td>0.9715836</td><td>40</td><td> 0.0300921395</td><td>0.17941807</td><td>16.509819</td></tr>\n",
       "\t<tr><td>ENSG00000196071</td><td>chr1_248126660_A_C  </td><td>1</td><td>248126660</td><td>A </td><td>C  </td><td>ENSG00000196071_L2</td><td>L2</td><td>chr1:247258485-249258485</td><td>0.028483174</td><td> 7.580643</td><td>0.9197840</td><td>0.9715836</td><td>40</td><td> 0.0300921395</td><td>0.17941807</td><td>16.509819</td></tr>\n",
       "\t<tr><td>ENSG00000196071</td><td>chr1_248545158_TC_T </td><td>1</td><td>248545158</td><td>TC</td><td>T  </td><td>ENSG00000196071_L3</td><td>L3</td><td>chr1:247258485-249258485</td><td>0.961560756</td><td>-4.160568</td><td>1.0000000</td><td>1.0000000</td><td> 1</td><td>-0.2921080063</td><td>0.07376279</td><td> 5.059289</td></tr>\n",
       "</tbody>\n",
       "</table>\n"
      ],
      "text/latex": [
       "A data.frame: 50 × 17\n",
       "\\begin{tabular}{lllllllllllllllll}\n",
       " phenotype\\_id & variant\\_id & chr & pos & ref & alt & cs\\_id & cs\\_index & finemapped\\_region & pip & z & cs\\_min\\_r2 & cs\\_avg\\_r2 & cs\\_size & posterior\\_mean & posterior\\_sd & cs\\_log10bf\\\\\n",
       " <chr> & <chr> & <int> & <int> & <chr> & <chr> & <chr> & <chr> & <chr> & <dbl> & <dbl> & <dbl> & <dbl> & <int> & <dbl> & <dbl> & <dbl>\\\\\n",
       "\\hline\n",
       "\t ENSG00000196071 & chr1\\_247790679\\_G\\_C   & 1 & 247790679 & G  & C   & ENSG00000196071\\_L4 & L4 & chr1:247258485-249258485 & 0.004821646 &  1.328978 & 0.4127106 & 0.7691700 &  8 &  0.0017256745 & 0.02804464 &  1.470495\\\\\n",
       "\t ENSG00000196071 & chr1\\_247795893\\_C\\_T   & 1 & 247795893 & C  & T   & ENSG00000196071\\_L4 & L4 & chr1:247258485-249258485 & 0.163738600 &  2.111085 & 0.4127106 & 0.7691700 &  8 &  0.0774779181 & 0.18001922 &  1.470495\\\\\n",
       "\t ENSG00000196071 & chr1\\_247796319\\_C\\_T   & 1 & 247796319 & C  & T   & ENSG00000196071\\_L4 & L4 & chr1:247258485-249258485 & 0.398371127 &  2.326484 & 0.4127106 & 0.7691700 &  8 &  0.1973086116 & 0.25069757 &  1.470495\\\\\n",
       "\t ENSG00000196071 & chr1\\_247799643\\_G\\_A   & 1 & 247799643 & G  & A   & ENSG00000196071\\_L4 & L4 & chr1:247258485-249258485 & 0.164712224 &  2.325360 & 0.4127106 & 0.7691700 &  8 &  0.0741144781 & 0.17159733 &  1.470495\\\\\n",
       "\t ENSG00000196071 & chr1\\_247800248\\_G\\_A   & 1 & 247800248 & G  & A   & ENSG00000196071\\_L4 & L4 & chr1:247258485-249258485 & 0.163738600 &  2.111085 & 0.4127106 & 0.7691700 &  8 &  0.0774779181 & 0.18001922 &  1.470495\\\\\n",
       "\t ENSG00000196071 & chr1\\_247803437\\_C\\_A   & 1 & 247803437 & C  & A   & ENSG00000196071\\_L4 & L4 & chr1:247258485-249258485 & 0.055226149 &  2.036015 & 0.4127106 & 0.7691700 &  8 &  0.0225494341 & 0.09631563 &  1.470495\\\\\n",
       "\t ENSG00000196071 & chr1\\_247805797\\_C\\_T   & 1 & 247805797 & C  & T   & ENSG00000196071\\_L4 & L4 & chr1:247258485-249258485 & 0.003260805 &  1.763479 & 0.4127106 & 0.7691700 &  8 &  0.0009726739 & 0.02065917 &  1.470495\\\\\n",
       "\t ENSG00000196071 & chr1\\_247809004\\_A\\_G   & 1 & 247809004 & A  & G   & ENSG00000196071\\_L4 & L4 & chr1:247258485-249258485 & 0.003260805 &  1.763479 & 0.4127106 & 0.7691700 &  8 &  0.0009726739 & 0.02065917 &  1.470495\\\\\n",
       "\t ENSG00000196071 & chr1\\_248100548\\_G\\_C   & 1 & 248100548 & G  & C   & ENSG00000196071\\_L1 & L1 & chr1:247258485-249258485 & 1.000000000 & 10.894846 & 1.0000000 & 1.0000000 &  1 &  0.6251859380 & 0.04426768 & 38.535210\\\\\n",
       "\t ENSG00000196071 & chr1\\_248100718\\_C\\_T   & 1 & 248100718 & C  & T   & ENSG00000196071\\_L2 & L2 & chr1:247258485-249258485 & 0.022845406 &  7.635254 & 0.9197840 & 0.9715836 & 40 &  0.0245411530 & 0.16446855 & 16.509819\\\\\n",
       "\t ENSG00000196071 & chr1\\_248101302\\_G\\_A   & 1 & 248101302 & G  & A   & ENSG00000196071\\_L2 & L2 & chr1:247258485-249258485 & 0.022845406 &  7.635254 & 0.9197840 & 0.9715836 & 40 &  0.0245411530 & 0.16446855 & 16.509819\\\\\n",
       "\t ENSG00000196071 & chr1\\_248103672\\_T\\_C   & 1 & 248103672 & T  & C   & ENSG00000196071\\_L2 & L2 & chr1:247258485-249258485 & 0.022845406 &  7.635254 & 0.9197840 & 0.9715836 & 40 &  0.0245411530 & 0.16446855 & 16.509819\\\\\n",
       "\t ENSG00000196071 & chr1\\_248104736\\_C\\_T   & 1 & 248104736 & C  & T   & ENSG00000196071\\_L2 & L2 & chr1:247258485-249258485 & 0.023854859 &  7.471655 & 0.9197840 & 0.9715836 & 40 &  0.0254606573 & 0.16677600 & 16.509819\\\\\n",
       "\t ENSG00000196071 & chr1\\_248104860\\_A\\_G   & 1 & 248104860 & A  & G   & ENSG00000196071\\_L2 & L2 & chr1:247258485-249258485 & 0.023854859 &  7.471655 & 0.9197840 & 0.9715836 & 40 &  0.0254606573 & 0.16677600 & 16.509819\\\\\n",
       "\t ENSG00000196071 & chr1\\_248106240\\_C\\_T   & 1 & 248106240 & C  & T   & ENSG00000196071\\_L2 & L2 & chr1:247258485-249258485 & 0.022845406 &  7.635254 & 0.9197840 & 0.9715836 & 40 &  0.0245411530 & 0.16446855 & 16.509819\\\\\n",
       "\t ENSG00000196071 & chr1\\_248106524\\_A\\_G   & 1 & 248106524 & A  & G   & ENSG00000196071\\_L2 & L2 & chr1:247258485-249258485 & 0.022845406 &  7.635254 & 0.9197840 & 0.9715836 & 40 &  0.0245411530 & 0.16446855 & 16.509819\\\\\n",
       "\t ENSG00000196071 & chr1\\_248106578\\_G\\_A   & 1 & 248106578 & G  & A   & ENSG00000196071\\_L2 & L2 & chr1:247258485-249258485 & 0.022845406 &  7.635254 & 0.9197840 & 0.9715836 & 40 &  0.0245411530 & 0.16446855 & 16.509819\\\\\n",
       "\t ENSG00000196071 & chr1\\_248106897\\_C\\_G   & 1 & 248106897 & C  & G   & ENSG00000196071\\_L2 & L2 & chr1:247258485-249258485 & 0.022845406 &  7.635254 & 0.9197840 & 0.9715836 & 40 &  0.0245411530 & 0.16446855 & 16.509819\\\\\n",
       "\t ENSG00000196071 & chr1\\_248108063\\_A\\_G   & 1 & 248108063 & A  & G   & ENSG00000196071\\_L2 & L2 & chr1:247258485-249258485 & 0.022845406 &  7.635254 & 0.9197840 & 0.9715836 & 40 &  0.0245411530 & 0.16446855 & 16.509819\\\\\n",
       "\t ENSG00000196071 & chr1\\_248108813\\_C\\_T   & 1 & 248108813 & C  & T   & ENSG00000196071\\_L2 & L2 & chr1:247258485-249258485 & 0.022845406 &  7.635254 & 0.9197840 & 0.9715836 & 40 &  0.0245411530 & 0.16446855 & 16.509819\\\\\n",
       "\t ENSG00000196071 & chr1\\_248109028\\_A\\_G   & 1 & 248109028 & A  & G   & ENSG00000196071\\_L2 & L2 & chr1:247258485-249258485 & 0.022845406 &  7.635254 & 0.9197840 & 0.9715836 & 40 &  0.0245411530 & 0.16446855 & 16.509819\\\\\n",
       "\t ENSG00000196071 & chr1\\_248109230\\_A\\_G   & 1 & 248109230 & A  & G   & ENSG00000196071\\_L2 & L2 & chr1:247258485-249258485 & 0.022845406 &  7.635254 & 0.9197840 & 0.9715836 & 40 &  0.0245411530 & 0.16446855 & 16.509819\\\\\n",
       "\t ENSG00000196071 & chr1\\_248109552\\_C\\_CAT & 1 & 248109552 & C  & CAT & ENSG00000196071\\_L2 & L2 & chr1:247258485-249258485 & 0.022845406 &  7.635254 & 0.9197840 & 0.9715836 & 40 &  0.0245411530 & 0.16446855 & 16.509819\\\\\n",
       "\t ENSG00000196071 & chr1\\_248109674\\_C\\_A   & 1 & 248109674 & C  & A   & ENSG00000196071\\_L2 & L2 & chr1:247258485-249258485 & 0.023854859 &  7.471655 & 0.9197840 & 0.9715836 & 40 &  0.0254606573 & 0.16677600 & 16.509819\\\\\n",
       "\t ENSG00000196071 & chr1\\_248110057\\_C\\_T   & 1 & 248110057 & C  & T   & ENSG00000196071\\_L2 & L2 & chr1:247258485-249258485 & 0.028483174 &  7.580643 & 0.9197840 & 0.9715836 & 40 &  0.0300921395 & 0.17941807 & 16.509819\\\\\n",
       "\t ENSG00000196071 & chr1\\_248110488\\_G\\_T   & 1 & 248110488 & G  & T   & ENSG00000196071\\_L2 & L2 & chr1:247258485-249258485 & 0.028483174 &  7.580643 & 0.9197840 & 0.9715836 & 40 &  0.0300921395 & 0.17941807 & 16.509819\\\\\n",
       "\t ENSG00000196071 & chr1\\_248110799\\_A\\_G   & 1 & 248110799 & A  & G   & ENSG00000196071\\_L2 & L2 & chr1:247258485-249258485 & 0.022845406 &  7.635254 & 0.9197840 & 0.9715836 & 40 &  0.0245411530 & 0.16446855 & 16.509819\\\\\n",
       "\t ENSG00000196071 & chr1\\_248111311\\_G\\_A   & 1 & 248111311 & G  & A   & ENSG00000196071\\_L2 & L2 & chr1:247258485-249258485 & 0.022845406 &  7.635254 & 0.9197840 & 0.9715836 & 40 &  0.0245411530 & 0.16446855 & 16.509819\\\\\n",
       "\t ENSG00000196071 & chr1\\_248111751\\_G\\_GA  & 1 & 248111751 & G  & GA  & ENSG00000196071\\_L2 & L2 & chr1:247258485-249258485 & 0.022845406 &  7.635254 & 0.9197840 & 0.9715836 & 40 &  0.0245411530 & 0.16446855 & 16.509819\\\\\n",
       "\t ENSG00000196071 & chr1\\_248113061\\_C\\_A   & 1 & 248113061 & C  & A   & ENSG00000196071\\_L2 & L2 & chr1:247258485-249258485 & 0.028483174 &  7.580643 & 0.9197840 & 0.9715836 & 40 &  0.0300921395 & 0.17941807 & 16.509819\\\\\n",
       "\t ENSG00000196071 & chr1\\_248114559\\_T\\_G   & 1 & 248114559 & T  & G   & ENSG00000196071\\_L2 & L2 & chr1:247258485-249258485 & 0.022845406 &  7.635254 & 0.9197840 & 0.9715836 & 40 &  0.0245411530 & 0.16446855 & 16.509819\\\\\n",
       "\t ENSG00000196071 & chr1\\_248114741\\_A\\_G   & 1 & 248114741 & A  & G   & ENSG00000196071\\_L2 & L2 & chr1:247258485-249258485 & 0.022845406 &  7.635254 & 0.9197840 & 0.9715836 & 40 &  0.0245411530 & 0.16446855 & 16.509819\\\\\n",
       "\t ENSG00000196071 & chr1\\_248115292\\_T\\_C   & 1 & 248115292 & T  & C   & ENSG00000196071\\_L2 & L2 & chr1:247258485-249258485 & 0.028483174 &  7.580643 & 0.9197840 & 0.9715836 & 40 &  0.0300921395 & 0.17941807 & 16.509819\\\\\n",
       "\t ENSG00000196071 & chr1\\_248115293\\_G\\_A   & 1 & 248115293 & G  & A   & ENSG00000196071\\_L2 & L2 & chr1:247258485-249258485 & 0.028483174 &  7.580643 & 0.9197840 & 0.9715836 & 40 &  0.0300921395 & 0.17941807 & 16.509819\\\\\n",
       "\t ENSG00000196071 & chr1\\_248115307\\_G\\_A   & 1 & 248115307 & G  & A   & ENSG00000196071\\_L2 & L2 & chr1:247258485-249258485 & 0.028483174 &  7.580643 & 0.9197840 & 0.9715836 & 40 &  0.0300921395 & 0.17941807 & 16.509819\\\\\n",
       "\t ENSG00000196071 & chr1\\_248115321\\_G\\_C   & 1 & 248115321 & G  & C   & ENSG00000196071\\_L2 & L2 & chr1:247258485-249258485 & 0.028483174 &  7.580643 & 0.9197840 & 0.9715836 & 40 &  0.0300921395 & 0.17941807 & 16.509819\\\\\n",
       "\t ENSG00000196071 & chr1\\_248117818\\_C\\_T   & 1 & 248117818 & C  & T   & ENSG00000196071\\_L2 & L2 & chr1:247258485-249258485 & 0.022845406 &  7.635254 & 0.9197840 & 0.9715836 & 40 &  0.0245411530 & 0.16446855 & 16.509819\\\\\n",
       "\t ENSG00000196071 & chr1\\_248118282\\_G\\_A   & 1 & 248118282 & G  & A   & ENSG00000196071\\_L2 & L2 & chr1:247258485-249258485 & 0.022845406 &  7.635254 & 0.9197840 & 0.9715836 & 40 &  0.0245411530 & 0.16446855 & 16.509819\\\\\n",
       "\t ENSG00000196071 & chr1\\_248118709\\_A\\_G   & 1 & 248118709 & A  & G   & ENSG00000196071\\_L2 & L2 & chr1:247258485-249258485 & 0.022845406 &  7.635254 & 0.9197840 & 0.9715836 & 40 &  0.0245411530 & 0.16446855 & 16.509819\\\\\n",
       "\t ENSG00000196071 & chr1\\_248118790\\_G\\_A   & 1 & 248118790 & G  & A   & ENSG00000196071\\_L2 & L2 & chr1:247258485-249258485 & 0.028483174 &  7.580643 & 0.9197840 & 0.9715836 & 40 &  0.0300921395 & 0.17941807 & 16.509819\\\\\n",
       "\t ENSG00000196071 & chr1\\_248120010\\_T\\_G   & 1 & 248120010 & T  & G   & ENSG00000196071\\_L2 & L2 & chr1:247258485-249258485 & 0.028483174 &  7.580643 & 0.9197840 & 0.9715836 & 40 &  0.0300921395 & 0.17941807 & 16.509819\\\\\n",
       "\t ENSG00000196071 & chr1\\_248120171\\_A\\_G   & 1 & 248120171 & A  & G   & ENSG00000196071\\_L2 & L2 & chr1:247258485-249258485 & 0.022845406 &  7.635254 & 0.9197840 & 0.9715836 & 40 &  0.0245411530 & 0.16446855 & 16.509819\\\\\n",
       "\t ENSG00000196071 & chr1\\_248120253\\_G\\_A   & 1 & 248120253 & G  & A   & ENSG00000196071\\_L2 & L2 & chr1:247258485-249258485 & 0.022845406 &  7.635254 & 0.9197840 & 0.9715836 & 40 &  0.0245411530 & 0.16446855 & 16.509819\\\\\n",
       "\t ENSG00000196071 & chr1\\_248122371\\_A\\_C   & 1 & 248122371 & A  & C   & ENSG00000196071\\_L2 & L2 & chr1:247258485-249258485 & 0.028483174 &  7.580643 & 0.9197840 & 0.9715836 & 40 &  0.0300921395 & 0.17941807 & 16.509819\\\\\n",
       "\t ENSG00000196071 & chr1\\_248123245\\_G\\_A   & 1 & 248123245 & G  & A   & ENSG00000196071\\_L2 & L2 & chr1:247258485-249258485 & 0.028483174 &  7.580643 & 0.9197840 & 0.9715836 & 40 &  0.0300921395 & 0.17941807 & 16.509819\\\\\n",
       "\t ENSG00000196071 & chr1\\_248124436\\_C\\_T   & 1 & 248124436 & C  & T   & ENSG00000196071\\_L2 & L2 & chr1:247258485-249258485 & 0.028483174 &  7.580643 & 0.9197840 & 0.9715836 & 40 &  0.0300921395 & 0.17941807 & 16.509819\\\\\n",
       "\t ENSG00000196071 & chr1\\_248124850\\_C\\_T   & 1 & 248124850 & C  & T   & ENSG00000196071\\_L2 & L2 & chr1:247258485-249258485 & 0.028483174 &  7.580643 & 0.9197840 & 0.9715836 & 40 &  0.0300921395 & 0.17941807 & 16.509819\\\\\n",
       "\t ENSG00000196071 & chr1\\_248125979\\_T\\_A   & 1 & 248125979 & T  & A   & ENSG00000196071\\_L2 & L2 & chr1:247258485-249258485 & 0.028483174 &  7.580643 & 0.9197840 & 0.9715836 & 40 &  0.0300921395 & 0.17941807 & 16.509819\\\\\n",
       "\t ENSG00000196071 & chr1\\_248126660\\_A\\_C   & 1 & 248126660 & A  & C   & ENSG00000196071\\_L2 & L2 & chr1:247258485-249258485 & 0.028483174 &  7.580643 & 0.9197840 & 0.9715836 & 40 &  0.0300921395 & 0.17941807 & 16.509819\\\\\n",
       "\t ENSG00000196071 & chr1\\_248545158\\_TC\\_T  & 1 & 248545158 & TC & T   & ENSG00000196071\\_L3 & L3 & chr1:247258485-249258485 & 0.961560756 & -4.160568 & 1.0000000 & 1.0000000 &  1 & -0.2921080063 & 0.07376279 &  5.059289\\\\\n",
       "\\end{tabular}\n"
      ],
      "text/markdown": [
       "\n",
       "A data.frame: 50 × 17\n",
       "\n",
       "| phenotype_id &lt;chr&gt; | variant_id &lt;chr&gt; | chr &lt;int&gt; | pos &lt;int&gt; | ref &lt;chr&gt; | alt &lt;chr&gt; | cs_id &lt;chr&gt; | cs_index &lt;chr&gt; | finemapped_region &lt;chr&gt; | pip &lt;dbl&gt; | z &lt;dbl&gt; | cs_min_r2 &lt;dbl&gt; | cs_avg_r2 &lt;dbl&gt; | cs_size &lt;int&gt; | posterior_mean &lt;dbl&gt; | posterior_sd &lt;dbl&gt; | cs_log10bf &lt;dbl&gt; |\n",
       "|---|---|---|---|---|---|---|---|---|---|---|---|---|---|---|---|---|\n",
       "| ENSG00000196071 | chr1_247790679_G_C   | 1 | 247790679 | G  | C   | ENSG00000196071_L4 | L4 | chr1:247258485-249258485 | 0.004821646 |  1.328978 | 0.4127106 | 0.7691700 |  8 |  0.0017256745 | 0.02804464 |  1.470495 |\n",
       "| ENSG00000196071 | chr1_247795893_C_T   | 1 | 247795893 | C  | T   | ENSG00000196071_L4 | L4 | chr1:247258485-249258485 | 0.163738600 |  2.111085 | 0.4127106 | 0.7691700 |  8 |  0.0774779181 | 0.18001922 |  1.470495 |\n",
       "| ENSG00000196071 | chr1_247796319_C_T   | 1 | 247796319 | C  | T   | ENSG00000196071_L4 | L4 | chr1:247258485-249258485 | 0.398371127 |  2.326484 | 0.4127106 | 0.7691700 |  8 |  0.1973086116 | 0.25069757 |  1.470495 |\n",
       "| ENSG00000196071 | chr1_247799643_G_A   | 1 | 247799643 | G  | A   | ENSG00000196071_L4 | L4 | chr1:247258485-249258485 | 0.164712224 |  2.325360 | 0.4127106 | 0.7691700 |  8 |  0.0741144781 | 0.17159733 |  1.470495 |\n",
       "| ENSG00000196071 | chr1_247800248_G_A   | 1 | 247800248 | G  | A   | ENSG00000196071_L4 | L4 | chr1:247258485-249258485 | 0.163738600 |  2.111085 | 0.4127106 | 0.7691700 |  8 |  0.0774779181 | 0.18001922 |  1.470495 |\n",
       "| ENSG00000196071 | chr1_247803437_C_A   | 1 | 247803437 | C  | A   | ENSG00000196071_L4 | L4 | chr1:247258485-249258485 | 0.055226149 |  2.036015 | 0.4127106 | 0.7691700 |  8 |  0.0225494341 | 0.09631563 |  1.470495 |\n",
       "| ENSG00000196071 | chr1_247805797_C_T   | 1 | 247805797 | C  | T   | ENSG00000196071_L4 | L4 | chr1:247258485-249258485 | 0.003260805 |  1.763479 | 0.4127106 | 0.7691700 |  8 |  0.0009726739 | 0.02065917 |  1.470495 |\n",
       "| ENSG00000196071 | chr1_247809004_A_G   | 1 | 247809004 | A  | G   | ENSG00000196071_L4 | L4 | chr1:247258485-249258485 | 0.003260805 |  1.763479 | 0.4127106 | 0.7691700 |  8 |  0.0009726739 | 0.02065917 |  1.470495 |\n",
       "| ENSG00000196071 | chr1_248100548_G_C   | 1 | 248100548 | G  | C   | ENSG00000196071_L1 | L1 | chr1:247258485-249258485 | 1.000000000 | 10.894846 | 1.0000000 | 1.0000000 |  1 |  0.6251859380 | 0.04426768 | 38.535210 |\n",
       "| ENSG00000196071 | chr1_248100718_C_T   | 1 | 248100718 | C  | T   | ENSG00000196071_L2 | L2 | chr1:247258485-249258485 | 0.022845406 |  7.635254 | 0.9197840 | 0.9715836 | 40 |  0.0245411530 | 0.16446855 | 16.509819 |\n",
       "| ENSG00000196071 | chr1_248101302_G_A   | 1 | 248101302 | G  | A   | ENSG00000196071_L2 | L2 | chr1:247258485-249258485 | 0.022845406 |  7.635254 | 0.9197840 | 0.9715836 | 40 |  0.0245411530 | 0.16446855 | 16.509819 |\n",
       "| ENSG00000196071 | chr1_248103672_T_C   | 1 | 248103672 | T  | C   | ENSG00000196071_L2 | L2 | chr1:247258485-249258485 | 0.022845406 |  7.635254 | 0.9197840 | 0.9715836 | 40 |  0.0245411530 | 0.16446855 | 16.509819 |\n",
       "| ENSG00000196071 | chr1_248104736_C_T   | 1 | 248104736 | C  | T   | ENSG00000196071_L2 | L2 | chr1:247258485-249258485 | 0.023854859 |  7.471655 | 0.9197840 | 0.9715836 | 40 |  0.0254606573 | 0.16677600 | 16.509819 |\n",
       "| ENSG00000196071 | chr1_248104860_A_G   | 1 | 248104860 | A  | G   | ENSG00000196071_L2 | L2 | chr1:247258485-249258485 | 0.023854859 |  7.471655 | 0.9197840 | 0.9715836 | 40 |  0.0254606573 | 0.16677600 | 16.509819 |\n",
       "| ENSG00000196071 | chr1_248106240_C_T   | 1 | 248106240 | C  | T   | ENSG00000196071_L2 | L2 | chr1:247258485-249258485 | 0.022845406 |  7.635254 | 0.9197840 | 0.9715836 | 40 |  0.0245411530 | 0.16446855 | 16.509819 |\n",
       "| ENSG00000196071 | chr1_248106524_A_G   | 1 | 248106524 | A  | G   | ENSG00000196071_L2 | L2 | chr1:247258485-249258485 | 0.022845406 |  7.635254 | 0.9197840 | 0.9715836 | 40 |  0.0245411530 | 0.16446855 | 16.509819 |\n",
       "| ENSG00000196071 | chr1_248106578_G_A   | 1 | 248106578 | G  | A   | ENSG00000196071_L2 | L2 | chr1:247258485-249258485 | 0.022845406 |  7.635254 | 0.9197840 | 0.9715836 | 40 |  0.0245411530 | 0.16446855 | 16.509819 |\n",
       "| ENSG00000196071 | chr1_248106897_C_G   | 1 | 248106897 | C  | G   | ENSG00000196071_L2 | L2 | chr1:247258485-249258485 | 0.022845406 |  7.635254 | 0.9197840 | 0.9715836 | 40 |  0.0245411530 | 0.16446855 | 16.509819 |\n",
       "| ENSG00000196071 | chr1_248108063_A_G   | 1 | 248108063 | A  | G   | ENSG00000196071_L2 | L2 | chr1:247258485-249258485 | 0.022845406 |  7.635254 | 0.9197840 | 0.9715836 | 40 |  0.0245411530 | 0.16446855 | 16.509819 |\n",
       "| ENSG00000196071 | chr1_248108813_C_T   | 1 | 248108813 | C  | T   | ENSG00000196071_L2 | L2 | chr1:247258485-249258485 | 0.022845406 |  7.635254 | 0.9197840 | 0.9715836 | 40 |  0.0245411530 | 0.16446855 | 16.509819 |\n",
       "| ENSG00000196071 | chr1_248109028_A_G   | 1 | 248109028 | A  | G   | ENSG00000196071_L2 | L2 | chr1:247258485-249258485 | 0.022845406 |  7.635254 | 0.9197840 | 0.9715836 | 40 |  0.0245411530 | 0.16446855 | 16.509819 |\n",
       "| ENSG00000196071 | chr1_248109230_A_G   | 1 | 248109230 | A  | G   | ENSG00000196071_L2 | L2 | chr1:247258485-249258485 | 0.022845406 |  7.635254 | 0.9197840 | 0.9715836 | 40 |  0.0245411530 | 0.16446855 | 16.509819 |\n",
       "| ENSG00000196071 | chr1_248109552_C_CAT | 1 | 248109552 | C  | CAT | ENSG00000196071_L2 | L2 | chr1:247258485-249258485 | 0.022845406 |  7.635254 | 0.9197840 | 0.9715836 | 40 |  0.0245411530 | 0.16446855 | 16.509819 |\n",
       "| ENSG00000196071 | chr1_248109674_C_A   | 1 | 248109674 | C  | A   | ENSG00000196071_L2 | L2 | chr1:247258485-249258485 | 0.023854859 |  7.471655 | 0.9197840 | 0.9715836 | 40 |  0.0254606573 | 0.16677600 | 16.509819 |\n",
       "| ENSG00000196071 | chr1_248110057_C_T   | 1 | 248110057 | C  | T   | ENSG00000196071_L2 | L2 | chr1:247258485-249258485 | 0.028483174 |  7.580643 | 0.9197840 | 0.9715836 | 40 |  0.0300921395 | 0.17941807 | 16.509819 |\n",
       "| ENSG00000196071 | chr1_248110488_G_T   | 1 | 248110488 | G  | T   | ENSG00000196071_L2 | L2 | chr1:247258485-249258485 | 0.028483174 |  7.580643 | 0.9197840 | 0.9715836 | 40 |  0.0300921395 | 0.17941807 | 16.509819 |\n",
       "| ENSG00000196071 | chr1_248110799_A_G   | 1 | 248110799 | A  | G   | ENSG00000196071_L2 | L2 | chr1:247258485-249258485 | 0.022845406 |  7.635254 | 0.9197840 | 0.9715836 | 40 |  0.0245411530 | 0.16446855 | 16.509819 |\n",
       "| ENSG00000196071 | chr1_248111311_G_A   | 1 | 248111311 | G  | A   | ENSG00000196071_L2 | L2 | chr1:247258485-249258485 | 0.022845406 |  7.635254 | 0.9197840 | 0.9715836 | 40 |  0.0245411530 | 0.16446855 | 16.509819 |\n",
       "| ENSG00000196071 | chr1_248111751_G_GA  | 1 | 248111751 | G  | GA  | ENSG00000196071_L2 | L2 | chr1:247258485-249258485 | 0.022845406 |  7.635254 | 0.9197840 | 0.9715836 | 40 |  0.0245411530 | 0.16446855 | 16.509819 |\n",
       "| ENSG00000196071 | chr1_248113061_C_A   | 1 | 248113061 | C  | A   | ENSG00000196071_L2 | L2 | chr1:247258485-249258485 | 0.028483174 |  7.580643 | 0.9197840 | 0.9715836 | 40 |  0.0300921395 | 0.17941807 | 16.509819 |\n",
       "| ENSG00000196071 | chr1_248114559_T_G   | 1 | 248114559 | T  | G   | ENSG00000196071_L2 | L2 | chr1:247258485-249258485 | 0.022845406 |  7.635254 | 0.9197840 | 0.9715836 | 40 |  0.0245411530 | 0.16446855 | 16.509819 |\n",
       "| ENSG00000196071 | chr1_248114741_A_G   | 1 | 248114741 | A  | G   | ENSG00000196071_L2 | L2 | chr1:247258485-249258485 | 0.022845406 |  7.635254 | 0.9197840 | 0.9715836 | 40 |  0.0245411530 | 0.16446855 | 16.509819 |\n",
       "| ENSG00000196071 | chr1_248115292_T_C   | 1 | 248115292 | T  | C   | ENSG00000196071_L2 | L2 | chr1:247258485-249258485 | 0.028483174 |  7.580643 | 0.9197840 | 0.9715836 | 40 |  0.0300921395 | 0.17941807 | 16.509819 |\n",
       "| ENSG00000196071 | chr1_248115293_G_A   | 1 | 248115293 | G  | A   | ENSG00000196071_L2 | L2 | chr1:247258485-249258485 | 0.028483174 |  7.580643 | 0.9197840 | 0.9715836 | 40 |  0.0300921395 | 0.17941807 | 16.509819 |\n",
       "| ENSG00000196071 | chr1_248115307_G_A   | 1 | 248115307 | G  | A   | ENSG00000196071_L2 | L2 | chr1:247258485-249258485 | 0.028483174 |  7.580643 | 0.9197840 | 0.9715836 | 40 |  0.0300921395 | 0.17941807 | 16.509819 |\n",
       "| ENSG00000196071 | chr1_248115321_G_C   | 1 | 248115321 | G  | C   | ENSG00000196071_L2 | L2 | chr1:247258485-249258485 | 0.028483174 |  7.580643 | 0.9197840 | 0.9715836 | 40 |  0.0300921395 | 0.17941807 | 16.509819 |\n",
       "| ENSG00000196071 | chr1_248117818_C_T   | 1 | 248117818 | C  | T   | ENSG00000196071_L2 | L2 | chr1:247258485-249258485 | 0.022845406 |  7.635254 | 0.9197840 | 0.9715836 | 40 |  0.0245411530 | 0.16446855 | 16.509819 |\n",
       "| ENSG00000196071 | chr1_248118282_G_A   | 1 | 248118282 | G  | A   | ENSG00000196071_L2 | L2 | chr1:247258485-249258485 | 0.022845406 |  7.635254 | 0.9197840 | 0.9715836 | 40 |  0.0245411530 | 0.16446855 | 16.509819 |\n",
       "| ENSG00000196071 | chr1_248118709_A_G   | 1 | 248118709 | A  | G   | ENSG00000196071_L2 | L2 | chr1:247258485-249258485 | 0.022845406 |  7.635254 | 0.9197840 | 0.9715836 | 40 |  0.0245411530 | 0.16446855 | 16.509819 |\n",
       "| ENSG00000196071 | chr1_248118790_G_A   | 1 | 248118790 | G  | A   | ENSG00000196071_L2 | L2 | chr1:247258485-249258485 | 0.028483174 |  7.580643 | 0.9197840 | 0.9715836 | 40 |  0.0300921395 | 0.17941807 | 16.509819 |\n",
       "| ENSG00000196071 | chr1_248120010_T_G   | 1 | 248120010 | T  | G   | ENSG00000196071_L2 | L2 | chr1:247258485-249258485 | 0.028483174 |  7.580643 | 0.9197840 | 0.9715836 | 40 |  0.0300921395 | 0.17941807 | 16.509819 |\n",
       "| ENSG00000196071 | chr1_248120171_A_G   | 1 | 248120171 | A  | G   | ENSG00000196071_L2 | L2 | chr1:247258485-249258485 | 0.022845406 |  7.635254 | 0.9197840 | 0.9715836 | 40 |  0.0245411530 | 0.16446855 | 16.509819 |\n",
       "| ENSG00000196071 | chr1_248120253_G_A   | 1 | 248120253 | G  | A   | ENSG00000196071_L2 | L2 | chr1:247258485-249258485 | 0.022845406 |  7.635254 | 0.9197840 | 0.9715836 | 40 |  0.0245411530 | 0.16446855 | 16.509819 |\n",
       "| ENSG00000196071 | chr1_248122371_A_C   | 1 | 248122371 | A  | C   | ENSG00000196071_L2 | L2 | chr1:247258485-249258485 | 0.028483174 |  7.580643 | 0.9197840 | 0.9715836 | 40 |  0.0300921395 | 0.17941807 | 16.509819 |\n",
       "| ENSG00000196071 | chr1_248123245_G_A   | 1 | 248123245 | G  | A   | ENSG00000196071_L2 | L2 | chr1:247258485-249258485 | 0.028483174 |  7.580643 | 0.9197840 | 0.9715836 | 40 |  0.0300921395 | 0.17941807 | 16.509819 |\n",
       "| ENSG00000196071 | chr1_248124436_C_T   | 1 | 248124436 | C  | T   | ENSG00000196071_L2 | L2 | chr1:247258485-249258485 | 0.028483174 |  7.580643 | 0.9197840 | 0.9715836 | 40 |  0.0300921395 | 0.17941807 | 16.509819 |\n",
       "| ENSG00000196071 | chr1_248124850_C_T   | 1 | 248124850 | C  | T   | ENSG00000196071_L2 | L2 | chr1:247258485-249258485 | 0.028483174 |  7.580643 | 0.9197840 | 0.9715836 | 40 |  0.0300921395 | 0.17941807 | 16.509819 |\n",
       "| ENSG00000196071 | chr1_248125979_T_A   | 1 | 248125979 | T  | A   | ENSG00000196071_L2 | L2 | chr1:247258485-249258485 | 0.028483174 |  7.580643 | 0.9197840 | 0.9715836 | 40 |  0.0300921395 | 0.17941807 | 16.509819 |\n",
       "| ENSG00000196071 | chr1_248126660_A_C   | 1 | 248126660 | A  | C   | ENSG00000196071_L2 | L2 | chr1:247258485-249258485 | 0.028483174 |  7.580643 | 0.9197840 | 0.9715836 | 40 |  0.0300921395 | 0.17941807 | 16.509819 |\n",
       "| ENSG00000196071 | chr1_248545158_TC_T  | 1 | 248545158 | TC | T   | ENSG00000196071_L3 | L3 | chr1:247258485-249258485 | 0.961560756 | -4.160568 | 1.0000000 | 1.0000000 |  1 | -0.2921080063 | 0.07376279 |  5.059289 |\n",
       "\n"
      ],
      "text/plain": [
       "   phenotype_id    variant_id           chr pos       ref alt\n",
       "1  ENSG00000196071 chr1_247790679_G_C   1   247790679 G   C  \n",
       "2  ENSG00000196071 chr1_247795893_C_T   1   247795893 C   T  \n",
       "3  ENSG00000196071 chr1_247796319_C_T   1   247796319 C   T  \n",
       "4  ENSG00000196071 chr1_247799643_G_A   1   247799643 G   A  \n",
       "5  ENSG00000196071 chr1_247800248_G_A   1   247800248 G   A  \n",
       "6  ENSG00000196071 chr1_247803437_C_A   1   247803437 C   A  \n",
       "7  ENSG00000196071 chr1_247805797_C_T   1   247805797 C   T  \n",
       "8  ENSG00000196071 chr1_247809004_A_G   1   247809004 A   G  \n",
       "9  ENSG00000196071 chr1_248100548_G_C   1   248100548 G   C  \n",
       "10 ENSG00000196071 chr1_248100718_C_T   1   248100718 C   T  \n",
       "11 ENSG00000196071 chr1_248101302_G_A   1   248101302 G   A  \n",
       "12 ENSG00000196071 chr1_248103672_T_C   1   248103672 T   C  \n",
       "13 ENSG00000196071 chr1_248104736_C_T   1   248104736 C   T  \n",
       "14 ENSG00000196071 chr1_248104860_A_G   1   248104860 A   G  \n",
       "15 ENSG00000196071 chr1_248106240_C_T   1   248106240 C   T  \n",
       "16 ENSG00000196071 chr1_248106524_A_G   1   248106524 A   G  \n",
       "17 ENSG00000196071 chr1_248106578_G_A   1   248106578 G   A  \n",
       "18 ENSG00000196071 chr1_248106897_C_G   1   248106897 C   G  \n",
       "19 ENSG00000196071 chr1_248108063_A_G   1   248108063 A   G  \n",
       "20 ENSG00000196071 chr1_248108813_C_T   1   248108813 C   T  \n",
       "21 ENSG00000196071 chr1_248109028_A_G   1   248109028 A   G  \n",
       "22 ENSG00000196071 chr1_248109230_A_G   1   248109230 A   G  \n",
       "23 ENSG00000196071 chr1_248109552_C_CAT 1   248109552 C   CAT\n",
       "24 ENSG00000196071 chr1_248109674_C_A   1   248109674 C   A  \n",
       "25 ENSG00000196071 chr1_248110057_C_T   1   248110057 C   T  \n",
       "26 ENSG00000196071 chr1_248110488_G_T   1   248110488 G   T  \n",
       "27 ENSG00000196071 chr1_248110799_A_G   1   248110799 A   G  \n",
       "28 ENSG00000196071 chr1_248111311_G_A   1   248111311 G   A  \n",
       "29 ENSG00000196071 chr1_248111751_G_GA  1   248111751 G   GA \n",
       "30 ENSG00000196071 chr1_248113061_C_A   1   248113061 C   A  \n",
       "31 ENSG00000196071 chr1_248114559_T_G   1   248114559 T   G  \n",
       "32 ENSG00000196071 chr1_248114741_A_G   1   248114741 A   G  \n",
       "33 ENSG00000196071 chr1_248115292_T_C   1   248115292 T   C  \n",
       "34 ENSG00000196071 chr1_248115293_G_A   1   248115293 G   A  \n",
       "35 ENSG00000196071 chr1_248115307_G_A   1   248115307 G   A  \n",
       "36 ENSG00000196071 chr1_248115321_G_C   1   248115321 G   C  \n",
       "37 ENSG00000196071 chr1_248117818_C_T   1   248117818 C   T  \n",
       "38 ENSG00000196071 chr1_248118282_G_A   1   248118282 G   A  \n",
       "39 ENSG00000196071 chr1_248118709_A_G   1   248118709 A   G  \n",
       "40 ENSG00000196071 chr1_248118790_G_A   1   248118790 G   A  \n",
       "41 ENSG00000196071 chr1_248120010_T_G   1   248120010 T   G  \n",
       "42 ENSG00000196071 chr1_248120171_A_G   1   248120171 A   G  \n",
       "43 ENSG00000196071 chr1_248120253_G_A   1   248120253 G   A  \n",
       "44 ENSG00000196071 chr1_248122371_A_C   1   248122371 A   C  \n",
       "45 ENSG00000196071 chr1_248123245_G_A   1   248123245 G   A  \n",
       "46 ENSG00000196071 chr1_248124436_C_T   1   248124436 C   T  \n",
       "47 ENSG00000196071 chr1_248124850_C_T   1   248124850 C   T  \n",
       "48 ENSG00000196071 chr1_248125979_T_A   1   248125979 T   A  \n",
       "49 ENSG00000196071 chr1_248126660_A_C   1   248126660 A   C  \n",
       "50 ENSG00000196071 chr1_248545158_TC_T  1   248545158 TC  T  \n",
       "   cs_id              cs_index finemapped_region        pip         z        \n",
       "1  ENSG00000196071_L4 L4       chr1:247258485-249258485 0.004821646  1.328978\n",
       "2  ENSG00000196071_L4 L4       chr1:247258485-249258485 0.163738600  2.111085\n",
       "3  ENSG00000196071_L4 L4       chr1:247258485-249258485 0.398371127  2.326484\n",
       "4  ENSG00000196071_L4 L4       chr1:247258485-249258485 0.164712224  2.325360\n",
       "5  ENSG00000196071_L4 L4       chr1:247258485-249258485 0.163738600  2.111085\n",
       "6  ENSG00000196071_L4 L4       chr1:247258485-249258485 0.055226149  2.036015\n",
       "7  ENSG00000196071_L4 L4       chr1:247258485-249258485 0.003260805  1.763479\n",
       "8  ENSG00000196071_L4 L4       chr1:247258485-249258485 0.003260805  1.763479\n",
       "9  ENSG00000196071_L1 L1       chr1:247258485-249258485 1.000000000 10.894846\n",
       "10 ENSG00000196071_L2 L2       chr1:247258485-249258485 0.022845406  7.635254\n",
       "11 ENSG00000196071_L2 L2       chr1:247258485-249258485 0.022845406  7.635254\n",
       "12 ENSG00000196071_L2 L2       chr1:247258485-249258485 0.022845406  7.635254\n",
       "13 ENSG00000196071_L2 L2       chr1:247258485-249258485 0.023854859  7.471655\n",
       "14 ENSG00000196071_L2 L2       chr1:247258485-249258485 0.023854859  7.471655\n",
       "15 ENSG00000196071_L2 L2       chr1:247258485-249258485 0.022845406  7.635254\n",
       "16 ENSG00000196071_L2 L2       chr1:247258485-249258485 0.022845406  7.635254\n",
       "17 ENSG00000196071_L2 L2       chr1:247258485-249258485 0.022845406  7.635254\n",
       "18 ENSG00000196071_L2 L2       chr1:247258485-249258485 0.022845406  7.635254\n",
       "19 ENSG00000196071_L2 L2       chr1:247258485-249258485 0.022845406  7.635254\n",
       "20 ENSG00000196071_L2 L2       chr1:247258485-249258485 0.022845406  7.635254\n",
       "21 ENSG00000196071_L2 L2       chr1:247258485-249258485 0.022845406  7.635254\n",
       "22 ENSG00000196071_L2 L2       chr1:247258485-249258485 0.022845406  7.635254\n",
       "23 ENSG00000196071_L2 L2       chr1:247258485-249258485 0.022845406  7.635254\n",
       "24 ENSG00000196071_L2 L2       chr1:247258485-249258485 0.023854859  7.471655\n",
       "25 ENSG00000196071_L2 L2       chr1:247258485-249258485 0.028483174  7.580643\n",
       "26 ENSG00000196071_L2 L2       chr1:247258485-249258485 0.028483174  7.580643\n",
       "27 ENSG00000196071_L2 L2       chr1:247258485-249258485 0.022845406  7.635254\n",
       "28 ENSG00000196071_L2 L2       chr1:247258485-249258485 0.022845406  7.635254\n",
       "29 ENSG00000196071_L2 L2       chr1:247258485-249258485 0.022845406  7.635254\n",
       "30 ENSG00000196071_L2 L2       chr1:247258485-249258485 0.028483174  7.580643\n",
       "31 ENSG00000196071_L2 L2       chr1:247258485-249258485 0.022845406  7.635254\n",
       "32 ENSG00000196071_L2 L2       chr1:247258485-249258485 0.022845406  7.635254\n",
       "33 ENSG00000196071_L2 L2       chr1:247258485-249258485 0.028483174  7.580643\n",
       "34 ENSG00000196071_L2 L2       chr1:247258485-249258485 0.028483174  7.580643\n",
       "35 ENSG00000196071_L2 L2       chr1:247258485-249258485 0.028483174  7.580643\n",
       "36 ENSG00000196071_L2 L2       chr1:247258485-249258485 0.028483174  7.580643\n",
       "37 ENSG00000196071_L2 L2       chr1:247258485-249258485 0.022845406  7.635254\n",
       "38 ENSG00000196071_L2 L2       chr1:247258485-249258485 0.022845406  7.635254\n",
       "39 ENSG00000196071_L2 L2       chr1:247258485-249258485 0.022845406  7.635254\n",
       "40 ENSG00000196071_L2 L2       chr1:247258485-249258485 0.028483174  7.580643\n",
       "41 ENSG00000196071_L2 L2       chr1:247258485-249258485 0.028483174  7.580643\n",
       "42 ENSG00000196071_L2 L2       chr1:247258485-249258485 0.022845406  7.635254\n",
       "43 ENSG00000196071_L2 L2       chr1:247258485-249258485 0.022845406  7.635254\n",
       "44 ENSG00000196071_L2 L2       chr1:247258485-249258485 0.028483174  7.580643\n",
       "45 ENSG00000196071_L2 L2       chr1:247258485-249258485 0.028483174  7.580643\n",
       "46 ENSG00000196071_L2 L2       chr1:247258485-249258485 0.028483174  7.580643\n",
       "47 ENSG00000196071_L2 L2       chr1:247258485-249258485 0.028483174  7.580643\n",
       "48 ENSG00000196071_L2 L2       chr1:247258485-249258485 0.028483174  7.580643\n",
       "49 ENSG00000196071_L2 L2       chr1:247258485-249258485 0.028483174  7.580643\n",
       "50 ENSG00000196071_L3 L3       chr1:247258485-249258485 0.961560756 -4.160568\n",
       "   cs_min_r2 cs_avg_r2 cs_size posterior_mean posterior_sd cs_log10bf\n",
       "1  0.4127106 0.7691700  8       0.0017256745  0.02804464    1.470495 \n",
       "2  0.4127106 0.7691700  8       0.0774779181  0.18001922    1.470495 \n",
       "3  0.4127106 0.7691700  8       0.1973086116  0.25069757    1.470495 \n",
       "4  0.4127106 0.7691700  8       0.0741144781  0.17159733    1.470495 \n",
       "5  0.4127106 0.7691700  8       0.0774779181  0.18001922    1.470495 \n",
       "6  0.4127106 0.7691700  8       0.0225494341  0.09631563    1.470495 \n",
       "7  0.4127106 0.7691700  8       0.0009726739  0.02065917    1.470495 \n",
       "8  0.4127106 0.7691700  8       0.0009726739  0.02065917    1.470495 \n",
       "9  1.0000000 1.0000000  1       0.6251859380  0.04426768   38.535210 \n",
       "10 0.9197840 0.9715836 40       0.0245411530  0.16446855   16.509819 \n",
       "11 0.9197840 0.9715836 40       0.0245411530  0.16446855   16.509819 \n",
       "12 0.9197840 0.9715836 40       0.0245411530  0.16446855   16.509819 \n",
       "13 0.9197840 0.9715836 40       0.0254606573  0.16677600   16.509819 \n",
       "14 0.9197840 0.9715836 40       0.0254606573  0.16677600   16.509819 \n",
       "15 0.9197840 0.9715836 40       0.0245411530  0.16446855   16.509819 \n",
       "16 0.9197840 0.9715836 40       0.0245411530  0.16446855   16.509819 \n",
       "17 0.9197840 0.9715836 40       0.0245411530  0.16446855   16.509819 \n",
       "18 0.9197840 0.9715836 40       0.0245411530  0.16446855   16.509819 \n",
       "19 0.9197840 0.9715836 40       0.0245411530  0.16446855   16.509819 \n",
       "20 0.9197840 0.9715836 40       0.0245411530  0.16446855   16.509819 \n",
       "21 0.9197840 0.9715836 40       0.0245411530  0.16446855   16.509819 \n",
       "22 0.9197840 0.9715836 40       0.0245411530  0.16446855   16.509819 \n",
       "23 0.9197840 0.9715836 40       0.0245411530  0.16446855   16.509819 \n",
       "24 0.9197840 0.9715836 40       0.0254606573  0.16677600   16.509819 \n",
       "25 0.9197840 0.9715836 40       0.0300921395  0.17941807   16.509819 \n",
       "26 0.9197840 0.9715836 40       0.0300921395  0.17941807   16.509819 \n",
       "27 0.9197840 0.9715836 40       0.0245411530  0.16446855   16.509819 \n",
       "28 0.9197840 0.9715836 40       0.0245411530  0.16446855   16.509819 \n",
       "29 0.9197840 0.9715836 40       0.0245411530  0.16446855   16.509819 \n",
       "30 0.9197840 0.9715836 40       0.0300921395  0.17941807   16.509819 \n",
       "31 0.9197840 0.9715836 40       0.0245411530  0.16446855   16.509819 \n",
       "32 0.9197840 0.9715836 40       0.0245411530  0.16446855   16.509819 \n",
       "33 0.9197840 0.9715836 40       0.0300921395  0.17941807   16.509819 \n",
       "34 0.9197840 0.9715836 40       0.0300921395  0.17941807   16.509819 \n",
       "35 0.9197840 0.9715836 40       0.0300921395  0.17941807   16.509819 \n",
       "36 0.9197840 0.9715836 40       0.0300921395  0.17941807   16.509819 \n",
       "37 0.9197840 0.9715836 40       0.0245411530  0.16446855   16.509819 \n",
       "38 0.9197840 0.9715836 40       0.0245411530  0.16446855   16.509819 \n",
       "39 0.9197840 0.9715836 40       0.0245411530  0.16446855   16.509819 \n",
       "40 0.9197840 0.9715836 40       0.0300921395  0.17941807   16.509819 \n",
       "41 0.9197840 0.9715836 40       0.0300921395  0.17941807   16.509819 \n",
       "42 0.9197840 0.9715836 40       0.0245411530  0.16446855   16.509819 \n",
       "43 0.9197840 0.9715836 40       0.0245411530  0.16446855   16.509819 \n",
       "44 0.9197840 0.9715836 40       0.0300921395  0.17941807   16.509819 \n",
       "45 0.9197840 0.9715836 40       0.0300921395  0.17941807   16.509819 \n",
       "46 0.9197840 0.9715836 40       0.0300921395  0.17941807   16.509819 \n",
       "47 0.9197840 0.9715836 40       0.0300921395  0.17941807   16.509819 \n",
       "48 0.9197840 0.9715836 40       0.0300921395  0.17941807   16.509819 \n",
       "49 0.9197840 0.9715836 40       0.0300921395  0.17941807   16.509819 \n",
       "50 1.0000000 1.0000000  1      -0.2921080063  0.07376279    5.059289 "
      ]
     },
     "metadata": {},
     "output_type": "display_data"
    },
    {
     "data": {
      "text/html": [
       "<table>\n",
       "<caption>A data.frame: 11 × 17</caption>\n",
       "<thead>\n",
       "\t<tr><th scope=col>phenotype_id</th><th scope=col>variant_id</th><th scope=col>chr</th><th scope=col>pos</th><th scope=col>ref</th><th scope=col>alt</th><th scope=col>cs_id</th><th scope=col>cs_index</th><th scope=col>finemapped_region</th><th scope=col>pip</th><th scope=col>z</th><th scope=col>cs_min_r2</th><th scope=col>cs_avg_r2</th><th scope=col>cs_size</th><th scope=col>posterior_mean</th><th scope=col>posterior_sd</th><th scope=col>cs_log10bf</th></tr>\n",
       "\t<tr><th scope=col>&lt;chr&gt;</th><th scope=col>&lt;chr&gt;</th><th scope=col>&lt;int&gt;</th><th scope=col>&lt;int&gt;</th><th scope=col>&lt;chr&gt;</th><th scope=col>&lt;chr&gt;</th><th scope=col>&lt;chr&gt;</th><th scope=col>&lt;chr&gt;</th><th scope=col>&lt;chr&gt;</th><th scope=col>&lt;dbl&gt;</th><th scope=col>&lt;dbl&gt;</th><th scope=col>&lt;dbl&gt;</th><th scope=col>&lt;dbl&gt;</th><th scope=col>&lt;int&gt;</th><th scope=col>&lt;dbl&gt;</th><th scope=col>&lt;dbl&gt;</th><th scope=col>&lt;dbl&gt;</th></tr>\n",
       "</thead>\n",
       "<tbody>\n",
       "\t<tr><td>ENSG00000196071</td><td>chr1_248100548_G_C</td><td>1</td><td>248100548</td><td>G</td><td>C</td><td>ENSG00000196071_L1</td><td>L1</td><td>chr1:247258485-249258485</td><td>0.99908186</td><td>8.388399</td><td>1.0000000</td><td>1.0000000</td><td> 1</td><td>0.66971757</td><td>0.08193293</td><td>10.802992</td></tr>\n",
       "\t<tr><td>ENSG00000196071</td><td>chr1_248100768_C_G</td><td>1</td><td>248100768</td><td>C</td><td>G</td><td>ENSG00000196071_L2</td><td>L2</td><td>chr1:247258485-249258485</td><td>0.03930157</td><td>5.550690</td><td>0.8431418</td><td>0.9707786</td><td>10</td><td>0.06163496</td><td>0.31461231</td><td> 3.304023</td></tr>\n",
       "\t<tr><td>ENSG00000196071</td><td>chr1_248101302_G_A</td><td>1</td><td>248101302</td><td>G</td><td>A</td><td>ENSG00000196071_L2</td><td>L2</td><td>chr1:247258485-249258485</td><td>0.10519853</td><td>5.670349</td><td>0.8431418</td><td>0.9707786</td><td>10</td><td>0.18914385</td><td>0.56438606</td><td> 3.304023</td></tr>\n",
       "\t<tr><td>ENSG00000196071</td><td>chr1_248103672_T_C</td><td>1</td><td>248103672</td><td>T</td><td>C</td><td>ENSG00000196071_L2</td><td>L2</td><td>chr1:247258485-249258485</td><td>0.10519853</td><td>5.670349</td><td>0.8431418</td><td>0.9707786</td><td>10</td><td>0.18914385</td><td>0.56438606</td><td> 3.304023</td></tr>\n",
       "\t<tr><td>ENSG00000196071</td><td>chr1_248104736_C_T</td><td>1</td><td>248104736</td><td>C</td><td>T</td><td>ENSG00000196071_L2</td><td>L2</td><td>chr1:247258485-249258485</td><td>0.10519853</td><td>5.670349</td><td>0.8431418</td><td>0.9707786</td><td>10</td><td>0.18914385</td><td>0.56438606</td><td> 3.304023</td></tr>\n",
       "\t<tr><td>ENSG00000196071</td><td>chr1_248104860_A_G</td><td>1</td><td>248104860</td><td>A</td><td>G</td><td>ENSG00000196071_L2</td><td>L2</td><td>chr1:247258485-249258485</td><td>0.10519853</td><td>5.670349</td><td>0.8431418</td><td>0.9707786</td><td>10</td><td>0.18914385</td><td>0.56438606</td><td> 3.304023</td></tr>\n",
       "\t<tr><td>ENSG00000196071</td><td>chr1_248106240_C_T</td><td>1</td><td>248106240</td><td>C</td><td>T</td><td>ENSG00000196071_L2</td><td>L2</td><td>chr1:247258485-249258485</td><td>0.10519853</td><td>5.670349</td><td>0.8431418</td><td>0.9707786</td><td>10</td><td>0.18914385</td><td>0.56438606</td><td> 3.304023</td></tr>\n",
       "\t<tr><td>ENSG00000196071</td><td>chr1_248106524_A_G</td><td>1</td><td>248106524</td><td>A</td><td>G</td><td>ENSG00000196071_L2</td><td>L2</td><td>chr1:247258485-249258485</td><td>0.10519853</td><td>5.670349</td><td>0.8431418</td><td>0.9707786</td><td>10</td><td>0.18914385</td><td>0.56438606</td><td> 3.304023</td></tr>\n",
       "\t<tr><td>ENSG00000196071</td><td>chr1_248106578_G_A</td><td>1</td><td>248106578</td><td>G</td><td>A</td><td>ENSG00000196071_L2</td><td>L2</td><td>chr1:247258485-249258485</td><td>0.10519853</td><td>5.670349</td><td>0.8431418</td><td>0.9707786</td><td>10</td><td>0.18914385</td><td>0.56438606</td><td> 3.304023</td></tr>\n",
       "\t<tr><td>ENSG00000196071</td><td>chr1_248106897_C_G</td><td>1</td><td>248106897</td><td>C</td><td>G</td><td>ENSG00000196071_L2</td><td>L2</td><td>chr1:247258485-249258485</td><td>0.10519853</td><td>5.670349</td><td>0.8431418</td><td>0.9707786</td><td>10</td><td>0.18914385</td><td>0.56438606</td><td> 3.304023</td></tr>\n",
       "\t<tr><td>ENSG00000196071</td><td>chr1_248108063_A_G</td><td>1</td><td>248108063</td><td>A</td><td>G</td><td>ENSG00000196071_L2</td><td>L2</td><td>chr1:247258485-249258485</td><td>0.10519853</td><td>5.670349</td><td>0.8431418</td><td>0.9707786</td><td>10</td><td>0.18914385</td><td>0.56438606</td><td> 3.304023</td></tr>\n",
       "</tbody>\n",
       "</table>\n"
      ],
      "text/latex": [
       "A data.frame: 11 × 17\n",
       "\\begin{tabular}{lllllllllllllllll}\n",
       " phenotype\\_id & variant\\_id & chr & pos & ref & alt & cs\\_id & cs\\_index & finemapped\\_region & pip & z & cs\\_min\\_r2 & cs\\_avg\\_r2 & cs\\_size & posterior\\_mean & posterior\\_sd & cs\\_log10bf\\\\\n",
       " <chr> & <chr> & <int> & <int> & <chr> & <chr> & <chr> & <chr> & <chr> & <dbl> & <dbl> & <dbl> & <dbl> & <int> & <dbl> & <dbl> & <dbl>\\\\\n",
       "\\hline\n",
       "\t ENSG00000196071 & chr1\\_248100548\\_G\\_C & 1 & 248100548 & G & C & ENSG00000196071\\_L1 & L1 & chr1:247258485-249258485 & 0.99908186 & 8.388399 & 1.0000000 & 1.0000000 &  1 & 0.66971757 & 0.08193293 & 10.802992\\\\\n",
       "\t ENSG00000196071 & chr1\\_248100768\\_C\\_G & 1 & 248100768 & C & G & ENSG00000196071\\_L2 & L2 & chr1:247258485-249258485 & 0.03930157 & 5.550690 & 0.8431418 & 0.9707786 & 10 & 0.06163496 & 0.31461231 &  3.304023\\\\\n",
       "\t ENSG00000196071 & chr1\\_248101302\\_G\\_A & 1 & 248101302 & G & A & ENSG00000196071\\_L2 & L2 & chr1:247258485-249258485 & 0.10519853 & 5.670349 & 0.8431418 & 0.9707786 & 10 & 0.18914385 & 0.56438606 &  3.304023\\\\\n",
       "\t ENSG00000196071 & chr1\\_248103672\\_T\\_C & 1 & 248103672 & T & C & ENSG00000196071\\_L2 & L2 & chr1:247258485-249258485 & 0.10519853 & 5.670349 & 0.8431418 & 0.9707786 & 10 & 0.18914385 & 0.56438606 &  3.304023\\\\\n",
       "\t ENSG00000196071 & chr1\\_248104736\\_C\\_T & 1 & 248104736 & C & T & ENSG00000196071\\_L2 & L2 & chr1:247258485-249258485 & 0.10519853 & 5.670349 & 0.8431418 & 0.9707786 & 10 & 0.18914385 & 0.56438606 &  3.304023\\\\\n",
       "\t ENSG00000196071 & chr1\\_248104860\\_A\\_G & 1 & 248104860 & A & G & ENSG00000196071\\_L2 & L2 & chr1:247258485-249258485 & 0.10519853 & 5.670349 & 0.8431418 & 0.9707786 & 10 & 0.18914385 & 0.56438606 &  3.304023\\\\\n",
       "\t ENSG00000196071 & chr1\\_248106240\\_C\\_T & 1 & 248106240 & C & T & ENSG00000196071\\_L2 & L2 & chr1:247258485-249258485 & 0.10519853 & 5.670349 & 0.8431418 & 0.9707786 & 10 & 0.18914385 & 0.56438606 &  3.304023\\\\\n",
       "\t ENSG00000196071 & chr1\\_248106524\\_A\\_G & 1 & 248106524 & A & G & ENSG00000196071\\_L2 & L2 & chr1:247258485-249258485 & 0.10519853 & 5.670349 & 0.8431418 & 0.9707786 & 10 & 0.18914385 & 0.56438606 &  3.304023\\\\\n",
       "\t ENSG00000196071 & chr1\\_248106578\\_G\\_A & 1 & 248106578 & G & A & ENSG00000196071\\_L2 & L2 & chr1:247258485-249258485 & 0.10519853 & 5.670349 & 0.8431418 & 0.9707786 & 10 & 0.18914385 & 0.56438606 &  3.304023\\\\\n",
       "\t ENSG00000196071 & chr1\\_248106897\\_C\\_G & 1 & 248106897 & C & G & ENSG00000196071\\_L2 & L2 & chr1:247258485-249258485 & 0.10519853 & 5.670349 & 0.8431418 & 0.9707786 & 10 & 0.18914385 & 0.56438606 &  3.304023\\\\\n",
       "\t ENSG00000196071 & chr1\\_248108063\\_A\\_G & 1 & 248108063 & A & G & ENSG00000196071\\_L2 & L2 & chr1:247258485-249258485 & 0.10519853 & 5.670349 & 0.8431418 & 0.9707786 & 10 & 0.18914385 & 0.56438606 &  3.304023\\\\\n",
       "\\end{tabular}\n"
      ],
      "text/markdown": [
       "\n",
       "A data.frame: 11 × 17\n",
       "\n",
       "| phenotype_id &lt;chr&gt; | variant_id &lt;chr&gt; | chr &lt;int&gt; | pos &lt;int&gt; | ref &lt;chr&gt; | alt &lt;chr&gt; | cs_id &lt;chr&gt; | cs_index &lt;chr&gt; | finemapped_region &lt;chr&gt; | pip &lt;dbl&gt; | z &lt;dbl&gt; | cs_min_r2 &lt;dbl&gt; | cs_avg_r2 &lt;dbl&gt; | cs_size &lt;int&gt; | posterior_mean &lt;dbl&gt; | posterior_sd &lt;dbl&gt; | cs_log10bf &lt;dbl&gt; |\n",
       "|---|---|---|---|---|---|---|---|---|---|---|---|---|---|---|---|---|\n",
       "| ENSG00000196071 | chr1_248100548_G_C | 1 | 248100548 | G | C | ENSG00000196071_L1 | L1 | chr1:247258485-249258485 | 0.99908186 | 8.388399 | 1.0000000 | 1.0000000 |  1 | 0.66971757 | 0.08193293 | 10.802992 |\n",
       "| ENSG00000196071 | chr1_248100768_C_G | 1 | 248100768 | C | G | ENSG00000196071_L2 | L2 | chr1:247258485-249258485 | 0.03930157 | 5.550690 | 0.8431418 | 0.9707786 | 10 | 0.06163496 | 0.31461231 |  3.304023 |\n",
       "| ENSG00000196071 | chr1_248101302_G_A | 1 | 248101302 | G | A | ENSG00000196071_L2 | L2 | chr1:247258485-249258485 | 0.10519853 | 5.670349 | 0.8431418 | 0.9707786 | 10 | 0.18914385 | 0.56438606 |  3.304023 |\n",
       "| ENSG00000196071 | chr1_248103672_T_C | 1 | 248103672 | T | C | ENSG00000196071_L2 | L2 | chr1:247258485-249258485 | 0.10519853 | 5.670349 | 0.8431418 | 0.9707786 | 10 | 0.18914385 | 0.56438606 |  3.304023 |\n",
       "| ENSG00000196071 | chr1_248104736_C_T | 1 | 248104736 | C | T | ENSG00000196071_L2 | L2 | chr1:247258485-249258485 | 0.10519853 | 5.670349 | 0.8431418 | 0.9707786 | 10 | 0.18914385 | 0.56438606 |  3.304023 |\n",
       "| ENSG00000196071 | chr1_248104860_A_G | 1 | 248104860 | A | G | ENSG00000196071_L2 | L2 | chr1:247258485-249258485 | 0.10519853 | 5.670349 | 0.8431418 | 0.9707786 | 10 | 0.18914385 | 0.56438606 |  3.304023 |\n",
       "| ENSG00000196071 | chr1_248106240_C_T | 1 | 248106240 | C | T | ENSG00000196071_L2 | L2 | chr1:247258485-249258485 | 0.10519853 | 5.670349 | 0.8431418 | 0.9707786 | 10 | 0.18914385 | 0.56438606 |  3.304023 |\n",
       "| ENSG00000196071 | chr1_248106524_A_G | 1 | 248106524 | A | G | ENSG00000196071_L2 | L2 | chr1:247258485-249258485 | 0.10519853 | 5.670349 | 0.8431418 | 0.9707786 | 10 | 0.18914385 | 0.56438606 |  3.304023 |\n",
       "| ENSG00000196071 | chr1_248106578_G_A | 1 | 248106578 | G | A | ENSG00000196071_L2 | L2 | chr1:247258485-249258485 | 0.10519853 | 5.670349 | 0.8431418 | 0.9707786 | 10 | 0.18914385 | 0.56438606 |  3.304023 |\n",
       "| ENSG00000196071 | chr1_248106897_C_G | 1 | 248106897 | C | G | ENSG00000196071_L2 | L2 | chr1:247258485-249258485 | 0.10519853 | 5.670349 | 0.8431418 | 0.9707786 | 10 | 0.18914385 | 0.56438606 |  3.304023 |\n",
       "| ENSG00000196071 | chr1_248108063_A_G | 1 | 248108063 | A | G | ENSG00000196071_L2 | L2 | chr1:247258485-249258485 | 0.10519853 | 5.670349 | 0.8431418 | 0.9707786 | 10 | 0.18914385 | 0.56438606 |  3.304023 |\n",
       "\n"
      ],
      "text/plain": [
       "   phenotype_id    variant_id         chr pos       ref alt cs_id             \n",
       "1  ENSG00000196071 chr1_248100548_G_C 1   248100548 G   C   ENSG00000196071_L1\n",
       "2  ENSG00000196071 chr1_248100768_C_G 1   248100768 C   G   ENSG00000196071_L2\n",
       "3  ENSG00000196071 chr1_248101302_G_A 1   248101302 G   A   ENSG00000196071_L2\n",
       "4  ENSG00000196071 chr1_248103672_T_C 1   248103672 T   C   ENSG00000196071_L2\n",
       "5  ENSG00000196071 chr1_248104736_C_T 1   248104736 C   T   ENSG00000196071_L2\n",
       "6  ENSG00000196071 chr1_248104860_A_G 1   248104860 A   G   ENSG00000196071_L2\n",
       "7  ENSG00000196071 chr1_248106240_C_T 1   248106240 C   T   ENSG00000196071_L2\n",
       "8  ENSG00000196071 chr1_248106524_A_G 1   248106524 A   G   ENSG00000196071_L2\n",
       "9  ENSG00000196071 chr1_248106578_G_A 1   248106578 G   A   ENSG00000196071_L2\n",
       "10 ENSG00000196071 chr1_248106897_C_G 1   248106897 C   G   ENSG00000196071_L2\n",
       "11 ENSG00000196071 chr1_248108063_A_G 1   248108063 A   G   ENSG00000196071_L2\n",
       "   cs_index finemapped_region        pip        z        cs_min_r2 cs_avg_r2\n",
       "1  L1       chr1:247258485-249258485 0.99908186 8.388399 1.0000000 1.0000000\n",
       "2  L2       chr1:247258485-249258485 0.03930157 5.550690 0.8431418 0.9707786\n",
       "3  L2       chr1:247258485-249258485 0.10519853 5.670349 0.8431418 0.9707786\n",
       "4  L2       chr1:247258485-249258485 0.10519853 5.670349 0.8431418 0.9707786\n",
       "5  L2       chr1:247258485-249258485 0.10519853 5.670349 0.8431418 0.9707786\n",
       "6  L2       chr1:247258485-249258485 0.10519853 5.670349 0.8431418 0.9707786\n",
       "7  L2       chr1:247258485-249258485 0.10519853 5.670349 0.8431418 0.9707786\n",
       "8  L2       chr1:247258485-249258485 0.10519853 5.670349 0.8431418 0.9707786\n",
       "9  L2       chr1:247258485-249258485 0.10519853 5.670349 0.8431418 0.9707786\n",
       "10 L2       chr1:247258485-249258485 0.10519853 5.670349 0.8431418 0.9707786\n",
       "11 L2       chr1:247258485-249258485 0.10519853 5.670349 0.8431418 0.9707786\n",
       "   cs_size posterior_mean posterior_sd cs_log10bf\n",
       "1   1      0.66971757     0.08193293   10.802992 \n",
       "2  10      0.06163496     0.31461231    3.304023 \n",
       "3  10      0.18914385     0.56438606    3.304023 \n",
       "4  10      0.18914385     0.56438606    3.304023 \n",
       "5  10      0.18914385     0.56438606    3.304023 \n",
       "6  10      0.18914385     0.56438606    3.304023 \n",
       "7  10      0.18914385     0.56438606    3.304023 \n",
       "8  10      0.18914385     0.56438606    3.304023 \n",
       "9  10      0.18914385     0.56438606    3.304023 \n",
       "10 10      0.18914385     0.56438606    3.304023 \n",
       "11 10      0.18914385     0.56438606    3.304023 "
      ]
     },
     "metadata": {},
     "output_type": "display_data"
    }
   ],
   "source": [
    "sorted_df_afr %>% filter(phenotype_id ==\"ENSG00000196071\")\n",
    "sorted_df_eur %>% filter(phenotype_id ==\"ENSG00000196071\")\n",
    "sorted_df_amr %>% filter(phenotype_id ==\"ENSG00000196071\")"
   ]
  },
  {
   "cell_type": "markdown",
   "metadata": {
    "deletable": true,
    "editable": true
   },
   "source": [
    "**ENSG00000238286**"
   ]
  },
  {
   "cell_type": "code",
   "execution_count": 61,
   "metadata": {
    "collapsed": false,
    "deletable": true,
    "editable": true
   },
   "outputs": [
    {
     "data": {
      "text/html": [
       "<table>\n",
       "<caption>A data.frame: 1 × 18</caption>\n",
       "<thead>\n",
       "\t<tr><th scope=col>pair</th><th scope=col>phenotype_id</th><th scope=col>variant_id</th><th scope=col>chr</th><th scope=col>pos</th><th scope=col>ref</th><th scope=col>alt</th><th scope=col>cs_id</th><th scope=col>cs_index</th><th scope=col>finemapped_region</th><th scope=col>pip</th><th scope=col>z</th><th scope=col>cs_min_r2</th><th scope=col>cs_avg_r2</th><th scope=col>cs_size</th><th scope=col>posterior_mean</th><th scope=col>posterior_sd</th><th scope=col>cs_log10bf</th></tr>\n",
       "\t<tr><th scope=col>&lt;chr&gt;</th><th scope=col>&lt;chr&gt;</th><th scope=col>&lt;chr&gt;</th><th scope=col>&lt;int&gt;</th><th scope=col>&lt;int&gt;</th><th scope=col>&lt;chr&gt;</th><th scope=col>&lt;chr&gt;</th><th scope=col>&lt;chr&gt;</th><th scope=col>&lt;chr&gt;</th><th scope=col>&lt;chr&gt;</th><th scope=col>&lt;dbl&gt;</th><th scope=col>&lt;dbl&gt;</th><th scope=col>&lt;dbl&gt;</th><th scope=col>&lt;dbl&gt;</th><th scope=col>&lt;int&gt;</th><th scope=col>&lt;dbl&gt;</th><th scope=col>&lt;dbl&gt;</th><th scope=col>&lt;dbl&gt;</th></tr>\n",
       "</thead>\n",
       "<tbody>\n",
       "\t<tr><td>ENSG00000238286:chr13_21257791_C_T</td><td>ENSG00000238286</td><td>chr13_21257791_C_T</td><td>13</td><td>21257791</td><td>C</td><td>T</td><td>ENSG00000238286_L1</td><td>L1</td><td>chr13:20181406-22181406</td><td>0.9904213</td><td>15.64016</td><td>1</td><td>1</td><td>1</td><td>1.314293</td><td>0.1469882</td><td>72.46606</td></tr>\n",
       "</tbody>\n",
       "</table>\n"
      ],
      "text/latex": [
       "A data.frame: 1 × 18\n",
       "\\begin{tabular}{llllllllllllllllll}\n",
       " pair & phenotype\\_id & variant\\_id & chr & pos & ref & alt & cs\\_id & cs\\_index & finemapped\\_region & pip & z & cs\\_min\\_r2 & cs\\_avg\\_r2 & cs\\_size & posterior\\_mean & posterior\\_sd & cs\\_log10bf\\\\\n",
       " <chr> & <chr> & <chr> & <int> & <int> & <chr> & <chr> & <chr> & <chr> & <chr> & <dbl> & <dbl> & <dbl> & <dbl> & <int> & <dbl> & <dbl> & <dbl>\\\\\n",
       "\\hline\n",
       "\t ENSG00000238286:chr13\\_21257791\\_C\\_T & ENSG00000238286 & chr13\\_21257791\\_C\\_T & 13 & 21257791 & C & T & ENSG00000238286\\_L1 & L1 & chr13:20181406-22181406 & 0.9904213 & 15.64016 & 1 & 1 & 1 & 1.314293 & 0.1469882 & 72.46606\\\\\n",
       "\\end{tabular}\n"
      ],
      "text/markdown": [
       "\n",
       "A data.frame: 1 × 18\n",
       "\n",
       "| pair &lt;chr&gt; | phenotype_id &lt;chr&gt; | variant_id &lt;chr&gt; | chr &lt;int&gt; | pos &lt;int&gt; | ref &lt;chr&gt; | alt &lt;chr&gt; | cs_id &lt;chr&gt; | cs_index &lt;chr&gt; | finemapped_region &lt;chr&gt; | pip &lt;dbl&gt; | z &lt;dbl&gt; | cs_min_r2 &lt;dbl&gt; | cs_avg_r2 &lt;dbl&gt; | cs_size &lt;int&gt; | posterior_mean &lt;dbl&gt; | posterior_sd &lt;dbl&gt; | cs_log10bf &lt;dbl&gt; |\n",
       "|---|---|---|---|---|---|---|---|---|---|---|---|---|---|---|---|---|---|\n",
       "| ENSG00000238286:chr13_21257791_C_T | ENSG00000238286 | chr13_21257791_C_T | 13 | 21257791 | C | T | ENSG00000238286_L1 | L1 | chr13:20181406-22181406 | 0.9904213 | 15.64016 | 1 | 1 | 1 | 1.314293 | 0.1469882 | 72.46606 |\n",
       "\n"
      ],
      "text/plain": [
       "  pair                               phenotype_id    variant_id         chr\n",
       "1 ENSG00000238286:chr13_21257791_C_T ENSG00000238286 chr13_21257791_C_T 13 \n",
       "  pos      ref alt cs_id              cs_index finemapped_region      \n",
       "1 21257791 C   T   ENSG00000238286_L1 L1       chr13:20181406-22181406\n",
       "  pip       z        cs_min_r2 cs_avg_r2 cs_size posterior_mean posterior_sd\n",
       "1 0.9904213 15.64016 1         1         1       1.314293       0.1469882   \n",
       "  cs_log10bf\n",
       "1 72.46606  "
      ]
     },
     "metadata": {},
     "output_type": "display_data"
    },
    {
     "data": {
      "text/html": [
       "<table>\n",
       "<caption>A data.frame: 1 × 35</caption>\n",
       "<thead>\n",
       "\t<tr><th scope=col>pair</th><th scope=col>phenotype_id.x</th><th scope=col>variant_id.x</th><th scope=col>chr.x</th><th scope=col>pos.x</th><th scope=col>ref.x</th><th scope=col>alt.x</th><th scope=col>cs_id.x</th><th scope=col>cs_index.x</th><th scope=col>finemapped_region.x</th><th scope=col>⋯</th><th scope=col>cs_index.y</th><th scope=col>finemapped_region.y</th><th scope=col>pip.y</th><th scope=col>z.y</th><th scope=col>cs_min_r2.y</th><th scope=col>cs_avg_r2.y</th><th scope=col>cs_size.y</th><th scope=col>posterior_mean.y</th><th scope=col>posterior_sd.y</th><th scope=col>cs_log10bf.y</th></tr>\n",
       "\t<tr><th scope=col>&lt;chr&gt;</th><th scope=col>&lt;chr&gt;</th><th scope=col>&lt;chr&gt;</th><th scope=col>&lt;int&gt;</th><th scope=col>&lt;int&gt;</th><th scope=col>&lt;chr&gt;</th><th scope=col>&lt;chr&gt;</th><th scope=col>&lt;chr&gt;</th><th scope=col>&lt;chr&gt;</th><th scope=col>&lt;chr&gt;</th><th scope=col>⋯</th><th scope=col>&lt;chr&gt;</th><th scope=col>&lt;chr&gt;</th><th scope=col>&lt;dbl&gt;</th><th scope=col>&lt;dbl&gt;</th><th scope=col>&lt;dbl&gt;</th><th scope=col>&lt;dbl&gt;</th><th scope=col>&lt;int&gt;</th><th scope=col>&lt;dbl&gt;</th><th scope=col>&lt;dbl&gt;</th><th scope=col>&lt;dbl&gt;</th></tr>\n",
       "</thead>\n",
       "<tbody>\n",
       "\t<tr><td>ENSG00000238286:chr13_21205124_T_TG</td><td>ENSG00000238286</td><td>chr13_21205124_T_TG</td><td>13</td><td>21205124</td><td>T</td><td>TG</td><td>ENSG00000238286_L1</td><td>L1</td><td>chr13:20181406-22181406</td><td>⋯</td><td>L1</td><td>chr13:20181406-22181406</td><td>0.9757598</td><td>10.15333</td><td>1</td><td>1</td><td>1</td><td>0.9383647</td><td>0.1714301</td><td>21.47645</td></tr>\n",
       "</tbody>\n",
       "</table>\n"
      ],
      "text/latex": [
       "A data.frame: 1 × 35\n",
       "\\begin{tabular}{lllllllllllllllllllll}\n",
       " pair & phenotype\\_id.x & variant\\_id.x & chr.x & pos.x & ref.x & alt.x & cs\\_id.x & cs\\_index.x & finemapped\\_region.x & ⋯ & cs\\_index.y & finemapped\\_region.y & pip.y & z.y & cs\\_min\\_r2.y & cs\\_avg\\_r2.y & cs\\_size.y & posterior\\_mean.y & posterior\\_sd.y & cs\\_log10bf.y\\\\\n",
       " <chr> & <chr> & <chr> & <int> & <int> & <chr> & <chr> & <chr> & <chr> & <chr> & ⋯ & <chr> & <chr> & <dbl> & <dbl> & <dbl> & <dbl> & <int> & <dbl> & <dbl> & <dbl>\\\\\n",
       "\\hline\n",
       "\t ENSG00000238286:chr13\\_21205124\\_T\\_TG & ENSG00000238286 & chr13\\_21205124\\_T\\_TG & 13 & 21205124 & T & TG & ENSG00000238286\\_L1 & L1 & chr13:20181406-22181406 & ⋯ & L1 & chr13:20181406-22181406 & 0.9757598 & 10.15333 & 1 & 1 & 1 & 0.9383647 & 0.1714301 & 21.47645\\\\\n",
       "\\end{tabular}\n"
      ],
      "text/markdown": [
       "\n",
       "A data.frame: 1 × 35\n",
       "\n",
       "| pair &lt;chr&gt; | phenotype_id.x &lt;chr&gt; | variant_id.x &lt;chr&gt; | chr.x &lt;int&gt; | pos.x &lt;int&gt; | ref.x &lt;chr&gt; | alt.x &lt;chr&gt; | cs_id.x &lt;chr&gt; | cs_index.x &lt;chr&gt; | finemapped_region.x &lt;chr&gt; | ⋯ ⋯ | cs_index.y &lt;chr&gt; | finemapped_region.y &lt;chr&gt; | pip.y &lt;dbl&gt; | z.y &lt;dbl&gt; | cs_min_r2.y &lt;dbl&gt; | cs_avg_r2.y &lt;dbl&gt; | cs_size.y &lt;int&gt; | posterior_mean.y &lt;dbl&gt; | posterior_sd.y &lt;dbl&gt; | cs_log10bf.y &lt;dbl&gt; |\n",
       "|---|---|---|---|---|---|---|---|---|---|---|---|---|---|---|---|---|---|---|---|---|\n",
       "| ENSG00000238286:chr13_21205124_T_TG | ENSG00000238286 | chr13_21205124_T_TG | 13 | 21205124 | T | TG | ENSG00000238286_L1 | L1 | chr13:20181406-22181406 | ⋯ | L1 | chr13:20181406-22181406 | 0.9757598 | 10.15333 | 1 | 1 | 1 | 0.9383647 | 0.1714301 | 21.47645 |\n",
       "\n"
      ],
      "text/plain": [
       "  pair                                phenotype_id.x  variant_id.x        chr.x\n",
       "1 ENSG00000238286:chr13_21205124_T_TG ENSG00000238286 chr13_21205124_T_TG 13   \n",
       "  pos.x    ref.x alt.x cs_id.x            cs_index.x finemapped_region.x     ⋯\n",
       "1 21205124 T     TG    ENSG00000238286_L1 L1         chr13:20181406-22181406 ⋯\n",
       "  cs_index.y finemapped_region.y     pip.y     z.y      cs_min_r2.y cs_avg_r2.y\n",
       "1 L1         chr13:20181406-22181406 0.9757598 10.15333 1           1          \n",
       "  cs_size.y posterior_mean.y posterior_sd.y cs_log10bf.y\n",
       "1 1         0.9383647        0.1714301      21.47645    "
      ]
     },
     "metadata": {},
     "output_type": "display_data"
    }
   ],
   "source": [
    "afr_pip_only %>% filter(phenotype_id == \"ENSG00000238286\")\n",
    "eur_amr_pip_shared %>% filter(phenotype_id.x == \"ENSG00000238286\")"
   ]
  },
  {
   "cell_type": "code",
   "execution_count": 62,
   "metadata": {
    "collapsed": false,
    "deletable": true,
    "editable": true
   },
   "outputs": [
    {
     "data": {
      "text/html": [
       "<table>\n",
       "<caption>A data.frame: 1 × 17</caption>\n",
       "<thead>\n",
       "\t<tr><th scope=col>phenotype_id</th><th scope=col>variant_id</th><th scope=col>chr</th><th scope=col>pos</th><th scope=col>ref</th><th scope=col>alt</th><th scope=col>cs_id</th><th scope=col>cs_index</th><th scope=col>finemapped_region</th><th scope=col>pip</th><th scope=col>z</th><th scope=col>cs_min_r2</th><th scope=col>cs_avg_r2</th><th scope=col>cs_size</th><th scope=col>posterior_mean</th><th scope=col>posterior_sd</th><th scope=col>cs_log10bf</th></tr>\n",
       "\t<tr><th scope=col>&lt;chr&gt;</th><th scope=col>&lt;chr&gt;</th><th scope=col>&lt;int&gt;</th><th scope=col>&lt;int&gt;</th><th scope=col>&lt;chr&gt;</th><th scope=col>&lt;chr&gt;</th><th scope=col>&lt;chr&gt;</th><th scope=col>&lt;chr&gt;</th><th scope=col>&lt;chr&gt;</th><th scope=col>&lt;dbl&gt;</th><th scope=col>&lt;dbl&gt;</th><th scope=col>&lt;dbl&gt;</th><th scope=col>&lt;dbl&gt;</th><th scope=col>&lt;int&gt;</th><th scope=col>&lt;dbl&gt;</th><th scope=col>&lt;dbl&gt;</th><th scope=col>&lt;dbl&gt;</th></tr>\n",
       "</thead>\n",
       "<tbody>\n",
       "\t<tr><td>ENSG00000222726</td><td>chr13_21257791_C_T</td><td>13</td><td>21257791</td><td>C</td><td>T</td><td>ENSG00000222726_L1</td><td>L1</td><td>chr13:20186299-22186299</td><td>0.01050437</td><td>10.3779</td><td>0.6468444</td><td>0.8624194</td><td>59</td><td>0.007976885</td><td>0.08544814</td><td>20.64593</td></tr>\n",
       "</tbody>\n",
       "</table>\n"
      ],
      "text/latex": [
       "A data.frame: 1 × 17\n",
       "\\begin{tabular}{lllllllllllllllll}\n",
       " phenotype\\_id & variant\\_id & chr & pos & ref & alt & cs\\_id & cs\\_index & finemapped\\_region & pip & z & cs\\_min\\_r2 & cs\\_avg\\_r2 & cs\\_size & posterior\\_mean & posterior\\_sd & cs\\_log10bf\\\\\n",
       " <chr> & <chr> & <int> & <int> & <chr> & <chr> & <chr> & <chr> & <chr> & <dbl> & <dbl> & <dbl> & <dbl> & <int> & <dbl> & <dbl> & <dbl>\\\\\n",
       "\\hline\n",
       "\t ENSG00000222726 & chr13\\_21257791\\_C\\_T & 13 & 21257791 & C & T & ENSG00000222726\\_L1 & L1 & chr13:20186299-22186299 & 0.01050437 & 10.3779 & 0.6468444 & 0.8624194 & 59 & 0.007976885 & 0.08544814 & 20.64593\\\\\n",
       "\\end{tabular}\n"
      ],
      "text/markdown": [
       "\n",
       "A data.frame: 1 × 17\n",
       "\n",
       "| phenotype_id &lt;chr&gt; | variant_id &lt;chr&gt; | chr &lt;int&gt; | pos &lt;int&gt; | ref &lt;chr&gt; | alt &lt;chr&gt; | cs_id &lt;chr&gt; | cs_index &lt;chr&gt; | finemapped_region &lt;chr&gt; | pip &lt;dbl&gt; | z &lt;dbl&gt; | cs_min_r2 &lt;dbl&gt; | cs_avg_r2 &lt;dbl&gt; | cs_size &lt;int&gt; | posterior_mean &lt;dbl&gt; | posterior_sd &lt;dbl&gt; | cs_log10bf &lt;dbl&gt; |\n",
       "|---|---|---|---|---|---|---|---|---|---|---|---|---|---|---|---|---|\n",
       "| ENSG00000222726 | chr13_21257791_C_T | 13 | 21257791 | C | T | ENSG00000222726_L1 | L1 | chr13:20186299-22186299 | 0.01050437 | 10.3779 | 0.6468444 | 0.8624194 | 59 | 0.007976885 | 0.08544814 | 20.64593 |\n",
       "\n"
      ],
      "text/plain": [
       "  phenotype_id    variant_id         chr pos      ref alt cs_id             \n",
       "1 ENSG00000222726 chr13_21257791_C_T 13  21257791 C   T   ENSG00000222726_L1\n",
       "  cs_index finemapped_region       pip        z       cs_min_r2 cs_avg_r2\n",
       "1 L1       chr13:20186299-22186299 0.01050437 10.3779 0.6468444 0.8624194\n",
       "  cs_size posterior_mean posterior_sd cs_log10bf\n",
       "1 59      0.007976885    0.08544814   20.64593  "
      ]
     },
     "metadata": {},
     "output_type": "display_data"
    },
    {
     "data": {
      "text/html": [
       "<table>\n",
       "<caption>A data.frame: 1 × 17</caption>\n",
       "<thead>\n",
       "\t<tr><th scope=col>phenotype_id</th><th scope=col>variant_id</th><th scope=col>chr</th><th scope=col>pos</th><th scope=col>ref</th><th scope=col>alt</th><th scope=col>cs_id</th><th scope=col>cs_index</th><th scope=col>finemapped_region</th><th scope=col>pip</th><th scope=col>z</th><th scope=col>cs_min_r2</th><th scope=col>cs_avg_r2</th><th scope=col>cs_size</th><th scope=col>posterior_mean</th><th scope=col>posterior_sd</th><th scope=col>cs_log10bf</th></tr>\n",
       "\t<tr><th scope=col>&lt;chr&gt;</th><th scope=col>&lt;chr&gt;</th><th scope=col>&lt;int&gt;</th><th scope=col>&lt;int&gt;</th><th scope=col>&lt;chr&gt;</th><th scope=col>&lt;chr&gt;</th><th scope=col>&lt;chr&gt;</th><th scope=col>&lt;chr&gt;</th><th scope=col>&lt;chr&gt;</th><th scope=col>&lt;dbl&gt;</th><th scope=col>&lt;dbl&gt;</th><th scope=col>&lt;dbl&gt;</th><th scope=col>&lt;dbl&gt;</th><th scope=col>&lt;int&gt;</th><th scope=col>&lt;dbl&gt;</th><th scope=col>&lt;dbl&gt;</th><th scope=col>&lt;dbl&gt;</th></tr>\n",
       "</thead>\n",
       "<tbody>\n",
       "\t<tr><td>ENSG00000222726</td><td>chr13_21257791_C_T</td><td>13</td><td>21257791</td><td>C</td><td>T</td><td>ENSG00000222726_L1</td><td>L1</td><td>chr13:20186299-22186299</td><td>0.08451343</td><td>7.639803</td><td>0.8800629</td><td>0.9916836</td><td>36</td><td>0.09669708</td><td>0.3211349</td><td>9.805648</td></tr>\n",
       "</tbody>\n",
       "</table>\n"
      ],
      "text/latex": [
       "A data.frame: 1 × 17\n",
       "\\begin{tabular}{lllllllllllllllll}\n",
       " phenotype\\_id & variant\\_id & chr & pos & ref & alt & cs\\_id & cs\\_index & finemapped\\_region & pip & z & cs\\_min\\_r2 & cs\\_avg\\_r2 & cs\\_size & posterior\\_mean & posterior\\_sd & cs\\_log10bf\\\\\n",
       " <chr> & <chr> & <int> & <int> & <chr> & <chr> & <chr> & <chr> & <chr> & <dbl> & <dbl> & <dbl> & <dbl> & <int> & <dbl> & <dbl> & <dbl>\\\\\n",
       "\\hline\n",
       "\t ENSG00000222726 & chr13\\_21257791\\_C\\_T & 13 & 21257791 & C & T & ENSG00000222726\\_L1 & L1 & chr13:20186299-22186299 & 0.08451343 & 7.639803 & 0.8800629 & 0.9916836 & 36 & 0.09669708 & 0.3211349 & 9.805648\\\\\n",
       "\\end{tabular}\n"
      ],
      "text/markdown": [
       "\n",
       "A data.frame: 1 × 17\n",
       "\n",
       "| phenotype_id &lt;chr&gt; | variant_id &lt;chr&gt; | chr &lt;int&gt; | pos &lt;int&gt; | ref &lt;chr&gt; | alt &lt;chr&gt; | cs_id &lt;chr&gt; | cs_index &lt;chr&gt; | finemapped_region &lt;chr&gt; | pip &lt;dbl&gt; | z &lt;dbl&gt; | cs_min_r2 &lt;dbl&gt; | cs_avg_r2 &lt;dbl&gt; | cs_size &lt;int&gt; | posterior_mean &lt;dbl&gt; | posterior_sd &lt;dbl&gt; | cs_log10bf &lt;dbl&gt; |\n",
       "|---|---|---|---|---|---|---|---|---|---|---|---|---|---|---|---|---|\n",
       "| ENSG00000222726 | chr13_21257791_C_T | 13 | 21257791 | C | T | ENSG00000222726_L1 | L1 | chr13:20186299-22186299 | 0.08451343 | 7.639803 | 0.8800629 | 0.9916836 | 36 | 0.09669708 | 0.3211349 | 9.805648 |\n",
       "\n"
      ],
      "text/plain": [
       "  phenotype_id    variant_id         chr pos      ref alt cs_id             \n",
       "1 ENSG00000222726 chr13_21257791_C_T 13  21257791 C   T   ENSG00000222726_L1\n",
       "  cs_index finemapped_region       pip        z        cs_min_r2 cs_avg_r2\n",
       "1 L1       chr13:20186299-22186299 0.08451343 7.639803 0.8800629 0.9916836\n",
       "  cs_size posterior_mean posterior_sd cs_log10bf\n",
       "1 36      0.09669708     0.3211349    9.805648  "
      ]
     },
     "metadata": {},
     "output_type": "display_data"
    }
   ],
   "source": [
    "sorted_df_eur %>% filter(variant_id == \"chr13_21257791_C_T\")\n",
    "sorted_df_amr %>% filter(variant_id == \"chr13_21257791_C_T\")"
   ]
  },
  {
   "cell_type": "markdown",
   "metadata": {
    "deletable": true,
    "editable": true
   },
   "source": [
    "**ENSG00000242086**"
   ]
  },
  {
   "cell_type": "code",
   "execution_count": 63,
   "metadata": {
    "collapsed": false,
    "deletable": true,
    "editable": true
   },
   "outputs": [
    {
     "data": {
      "text/html": [
       "<table>\n",
       "<caption>A data.frame: 1 × 18</caption>\n",
       "<thead>\n",
       "\t<tr><th scope=col>pair</th><th scope=col>phenotype_id</th><th scope=col>variant_id</th><th scope=col>chr</th><th scope=col>pos</th><th scope=col>ref</th><th scope=col>alt</th><th scope=col>cs_id</th><th scope=col>cs_index</th><th scope=col>finemapped_region</th><th scope=col>pip</th><th scope=col>z</th><th scope=col>cs_min_r2</th><th scope=col>cs_avg_r2</th><th scope=col>cs_size</th><th scope=col>posterior_mean</th><th scope=col>posterior_sd</th><th scope=col>cs_log10bf</th></tr>\n",
       "\t<tr><th scope=col>&lt;chr&gt;</th><th scope=col>&lt;chr&gt;</th><th scope=col>&lt;chr&gt;</th><th scope=col>&lt;int&gt;</th><th scope=col>&lt;int&gt;</th><th scope=col>&lt;chr&gt;</th><th scope=col>&lt;chr&gt;</th><th scope=col>&lt;chr&gt;</th><th scope=col>&lt;chr&gt;</th><th scope=col>&lt;chr&gt;</th><th scope=col>&lt;dbl&gt;</th><th scope=col>&lt;dbl&gt;</th><th scope=col>&lt;dbl&gt;</th><th scope=col>&lt;dbl&gt;</th><th scope=col>&lt;int&gt;</th><th scope=col>&lt;dbl&gt;</th><th scope=col>&lt;dbl&gt;</th><th scope=col>&lt;dbl&gt;</th></tr>\n",
       "</thead>\n",
       "<tbody>\n",
       "\t<tr><td>ENSG00000242086:chr3_195745525_TCA_T</td><td>ENSG00000242086</td><td>chr3_195745525_TCA_T</td><td>3</td><td>195745525</td><td>TCA</td><td>T</td><td>ENSG00000242086_L1</td><td>L1</td><td>chr3:194384932-196384932</td><td>0.9997075</td><td>-6.274343</td><td>1</td><td>1</td><td>1</td><td>-0.6010823</td><td>0.090651</td><td>4.982382</td></tr>\n",
       "</tbody>\n",
       "</table>\n"
      ],
      "text/latex": [
       "A data.frame: 1 × 18\n",
       "\\begin{tabular}{llllllllllllllllll}\n",
       " pair & phenotype\\_id & variant\\_id & chr & pos & ref & alt & cs\\_id & cs\\_index & finemapped\\_region & pip & z & cs\\_min\\_r2 & cs\\_avg\\_r2 & cs\\_size & posterior\\_mean & posterior\\_sd & cs\\_log10bf\\\\\n",
       " <chr> & <chr> & <chr> & <int> & <int> & <chr> & <chr> & <chr> & <chr> & <chr> & <dbl> & <dbl> & <dbl> & <dbl> & <int> & <dbl> & <dbl> & <dbl>\\\\\n",
       "\\hline\n",
       "\t ENSG00000242086:chr3\\_195745525\\_TCA\\_T & ENSG00000242086 & chr3\\_195745525\\_TCA\\_T & 3 & 195745525 & TCA & T & ENSG00000242086\\_L1 & L1 & chr3:194384932-196384932 & 0.9997075 & -6.274343 & 1 & 1 & 1 & -0.6010823 & 0.090651 & 4.982382\\\\\n",
       "\\end{tabular}\n"
      ],
      "text/markdown": [
       "\n",
       "A data.frame: 1 × 18\n",
       "\n",
       "| pair &lt;chr&gt; | phenotype_id &lt;chr&gt; | variant_id &lt;chr&gt; | chr &lt;int&gt; | pos &lt;int&gt; | ref &lt;chr&gt; | alt &lt;chr&gt; | cs_id &lt;chr&gt; | cs_index &lt;chr&gt; | finemapped_region &lt;chr&gt; | pip &lt;dbl&gt; | z &lt;dbl&gt; | cs_min_r2 &lt;dbl&gt; | cs_avg_r2 &lt;dbl&gt; | cs_size &lt;int&gt; | posterior_mean &lt;dbl&gt; | posterior_sd &lt;dbl&gt; | cs_log10bf &lt;dbl&gt; |\n",
       "|---|---|---|---|---|---|---|---|---|---|---|---|---|---|---|---|---|---|\n",
       "| ENSG00000242086:chr3_195745525_TCA_T | ENSG00000242086 | chr3_195745525_TCA_T | 3 | 195745525 | TCA | T | ENSG00000242086_L1 | L1 | chr3:194384932-196384932 | 0.9997075 | -6.274343 | 1 | 1 | 1 | -0.6010823 | 0.090651 | 4.982382 |\n",
       "\n"
      ],
      "text/plain": [
       "  pair                                 phenotype_id    variant_id           chr\n",
       "1 ENSG00000242086:chr3_195745525_TCA_T ENSG00000242086 chr3_195745525_TCA_T 3  \n",
       "  pos       ref alt cs_id              cs_index finemapped_region       \n",
       "1 195745525 TCA T   ENSG00000242086_L1 L1       chr3:194384932-196384932\n",
       "  pip       z         cs_min_r2 cs_avg_r2 cs_size posterior_mean posterior_sd\n",
       "1 0.9997075 -6.274343 1         1         1       -0.6010823     0.090651    \n",
       "  cs_log10bf\n",
       "1 4.982382  "
      ]
     },
     "metadata": {},
     "output_type": "display_data"
    },
    {
     "data": {
      "text/html": [
       "<table>\n",
       "<caption>A data.frame: 1 × 35</caption>\n",
       "<thead>\n",
       "\t<tr><th scope=col>pair</th><th scope=col>phenotype_id.x</th><th scope=col>variant_id.x</th><th scope=col>chr.x</th><th scope=col>pos.x</th><th scope=col>ref.x</th><th scope=col>alt.x</th><th scope=col>cs_id.x</th><th scope=col>cs_index.x</th><th scope=col>finemapped_region.x</th><th scope=col>⋯</th><th scope=col>cs_index.y</th><th scope=col>finemapped_region.y</th><th scope=col>pip.y</th><th scope=col>z.y</th><th scope=col>cs_min_r2.y</th><th scope=col>cs_avg_r2.y</th><th scope=col>cs_size.y</th><th scope=col>posterior_mean.y</th><th scope=col>posterior_sd.y</th><th scope=col>cs_log10bf.y</th></tr>\n",
       "\t<tr><th scope=col>&lt;chr&gt;</th><th scope=col>&lt;chr&gt;</th><th scope=col>&lt;chr&gt;</th><th scope=col>&lt;int&gt;</th><th scope=col>&lt;int&gt;</th><th scope=col>&lt;chr&gt;</th><th scope=col>&lt;chr&gt;</th><th scope=col>&lt;chr&gt;</th><th scope=col>&lt;chr&gt;</th><th scope=col>&lt;chr&gt;</th><th scope=col>⋯</th><th scope=col>&lt;chr&gt;</th><th scope=col>&lt;chr&gt;</th><th scope=col>&lt;dbl&gt;</th><th scope=col>&lt;dbl&gt;</th><th scope=col>&lt;dbl&gt;</th><th scope=col>&lt;dbl&gt;</th><th scope=col>&lt;int&gt;</th><th scope=col>&lt;dbl&gt;</th><th scope=col>&lt;dbl&gt;</th><th scope=col>&lt;dbl&gt;</th></tr>\n",
       "</thead>\n",
       "<tbody>\n",
       "\t<tr><td>ENSG00000242086:chr3_195725308_A_ATTTC</td><td>ENSG00000242086</td><td>chr3_195725308_A_ATTTC</td><td>3</td><td>195725308</td><td>A</td><td>ATTTC</td><td>ENSG00000242086_L1</td><td>L1</td><td>chr3:194384932-196384932</td><td>⋯</td><td>L1</td><td>chr3:194384932-196384932</td><td>0.99996</td><td>-8.647613</td><td>1</td><td>1</td><td>1</td><td>-0.6373647</td><td>0.05856664</td><td>21.02423</td></tr>\n",
       "</tbody>\n",
       "</table>\n"
      ],
      "text/latex": [
       "A data.frame: 1 × 35\n",
       "\\begin{tabular}{lllllllllllllllllllll}\n",
       " pair & phenotype\\_id.x & variant\\_id.x & chr.x & pos.x & ref.x & alt.x & cs\\_id.x & cs\\_index.x & finemapped\\_region.x & ⋯ & cs\\_index.y & finemapped\\_region.y & pip.y & z.y & cs\\_min\\_r2.y & cs\\_avg\\_r2.y & cs\\_size.y & posterior\\_mean.y & posterior\\_sd.y & cs\\_log10bf.y\\\\\n",
       " <chr> & <chr> & <chr> & <int> & <int> & <chr> & <chr> & <chr> & <chr> & <chr> & ⋯ & <chr> & <chr> & <dbl> & <dbl> & <dbl> & <dbl> & <int> & <dbl> & <dbl> & <dbl>\\\\\n",
       "\\hline\n",
       "\t ENSG00000242086:chr3\\_195725308\\_A\\_ATTTC & ENSG00000242086 & chr3\\_195725308\\_A\\_ATTTC & 3 & 195725308 & A & ATTTC & ENSG00000242086\\_L1 & L1 & chr3:194384932-196384932 & ⋯ & L1 & chr3:194384932-196384932 & 0.99996 & -8.647613 & 1 & 1 & 1 & -0.6373647 & 0.05856664 & 21.02423\\\\\n",
       "\\end{tabular}\n"
      ],
      "text/markdown": [
       "\n",
       "A data.frame: 1 × 35\n",
       "\n",
       "| pair &lt;chr&gt; | phenotype_id.x &lt;chr&gt; | variant_id.x &lt;chr&gt; | chr.x &lt;int&gt; | pos.x &lt;int&gt; | ref.x &lt;chr&gt; | alt.x &lt;chr&gt; | cs_id.x &lt;chr&gt; | cs_index.x &lt;chr&gt; | finemapped_region.x &lt;chr&gt; | ⋯ ⋯ | cs_index.y &lt;chr&gt; | finemapped_region.y &lt;chr&gt; | pip.y &lt;dbl&gt; | z.y &lt;dbl&gt; | cs_min_r2.y &lt;dbl&gt; | cs_avg_r2.y &lt;dbl&gt; | cs_size.y &lt;int&gt; | posterior_mean.y &lt;dbl&gt; | posterior_sd.y &lt;dbl&gt; | cs_log10bf.y &lt;dbl&gt; |\n",
       "|---|---|---|---|---|---|---|---|---|---|---|---|---|---|---|---|---|---|---|---|---|\n",
       "| ENSG00000242086:chr3_195725308_A_ATTTC | ENSG00000242086 | chr3_195725308_A_ATTTC | 3 | 195725308 | A | ATTTC | ENSG00000242086_L1 | L1 | chr3:194384932-196384932 | ⋯ | L1 | chr3:194384932-196384932 | 0.99996 | -8.647613 | 1 | 1 | 1 | -0.6373647 | 0.05856664 | 21.02423 |\n",
       "\n"
      ],
      "text/plain": [
       "  pair                                   phenotype_id.x  variant_id.x          \n",
       "1 ENSG00000242086:chr3_195725308_A_ATTTC ENSG00000242086 chr3_195725308_A_ATTTC\n",
       "  chr.x pos.x     ref.x alt.x cs_id.x            cs_index.x\n",
       "1 3     195725308 A     ATTTC ENSG00000242086_L1 L1        \n",
       "  finemapped_region.x      ⋯ cs_index.y finemapped_region.y      pip.y  \n",
       "1 chr3:194384932-196384932 ⋯ L1         chr3:194384932-196384932 0.99996\n",
       "  z.y       cs_min_r2.y cs_avg_r2.y cs_size.y posterior_mean.y posterior_sd.y\n",
       "1 -8.647613 1           1           1         -0.6373647       0.05856664    \n",
       "  cs_log10bf.y\n",
       "1 21.02423    "
      ]
     },
     "metadata": {},
     "output_type": "display_data"
    }
   ],
   "source": [
    "afr_pip_only %>% filter(phenotype_id == \"ENSG00000242086\")\n",
    "eur_amr_pip_shared %>% filter(phenotype_id.x == \"ENSG00000242086\")"
   ]
  },
  {
   "cell_type": "code",
   "execution_count": 64,
   "metadata": {
    "collapsed": false,
    "deletable": true,
    "editable": true
   },
   "outputs": [
    {
     "data": {
      "text/html": [
       "<table>\n",
       "<caption>A data.frame: 1 × 17</caption>\n",
       "<thead>\n",
       "\t<tr><th scope=col>phenotype_id</th><th scope=col>variant_id</th><th scope=col>chr</th><th scope=col>pos</th><th scope=col>ref</th><th scope=col>alt</th><th scope=col>cs_id</th><th scope=col>cs_index</th><th scope=col>finemapped_region</th><th scope=col>pip</th><th scope=col>z</th><th scope=col>cs_min_r2</th><th scope=col>cs_avg_r2</th><th scope=col>cs_size</th><th scope=col>posterior_mean</th><th scope=col>posterior_sd</th><th scope=col>cs_log10bf</th></tr>\n",
       "\t<tr><th scope=col>&lt;chr&gt;</th><th scope=col>&lt;chr&gt;</th><th scope=col>&lt;int&gt;</th><th scope=col>&lt;int&gt;</th><th scope=col>&lt;chr&gt;</th><th scope=col>&lt;chr&gt;</th><th scope=col>&lt;chr&gt;</th><th scope=col>&lt;chr&gt;</th><th scope=col>&lt;chr&gt;</th><th scope=col>&lt;dbl&gt;</th><th scope=col>&lt;dbl&gt;</th><th scope=col>&lt;dbl&gt;</th><th scope=col>&lt;dbl&gt;</th><th scope=col>&lt;int&gt;</th><th scope=col>&lt;dbl&gt;</th><th scope=col>&lt;dbl&gt;</th><th scope=col>&lt;dbl&gt;</th></tr>\n",
       "</thead>\n",
       "<tbody>\n",
       "\t<tr><td>ENSG00000207650</td><td>chr3_195745525_TCA_T</td><td>3</td><td>195745525</td><td>TCA</td><td>T</td><td>ENSG00000207650_L1</td><td>L1</td><td>chr3:194426271-196426271</td><td>0.9923052</td><td>-5.425915</td><td>1</td><td>1</td><td>1</td><td>-0.3751585</td><td>0.06423228</td><td>5.576012</td></tr>\n",
       "</tbody>\n",
       "</table>\n"
      ],
      "text/latex": [
       "A data.frame: 1 × 17\n",
       "\\begin{tabular}{lllllllllllllllll}\n",
       " phenotype\\_id & variant\\_id & chr & pos & ref & alt & cs\\_id & cs\\_index & finemapped\\_region & pip & z & cs\\_min\\_r2 & cs\\_avg\\_r2 & cs\\_size & posterior\\_mean & posterior\\_sd & cs\\_log10bf\\\\\n",
       " <chr> & <chr> & <int> & <int> & <chr> & <chr> & <chr> & <chr> & <chr> & <dbl> & <dbl> & <dbl> & <dbl> & <int> & <dbl> & <dbl> & <dbl>\\\\\n",
       "\\hline\n",
       "\t ENSG00000207650 & chr3\\_195745525\\_TCA\\_T & 3 & 195745525 & TCA & T & ENSG00000207650\\_L1 & L1 & chr3:194426271-196426271 & 0.9923052 & -5.425915 & 1 & 1 & 1 & -0.3751585 & 0.06423228 & 5.576012\\\\\n",
       "\\end{tabular}\n"
      ],
      "text/markdown": [
       "\n",
       "A data.frame: 1 × 17\n",
       "\n",
       "| phenotype_id &lt;chr&gt; | variant_id &lt;chr&gt; | chr &lt;int&gt; | pos &lt;int&gt; | ref &lt;chr&gt; | alt &lt;chr&gt; | cs_id &lt;chr&gt; | cs_index &lt;chr&gt; | finemapped_region &lt;chr&gt; | pip &lt;dbl&gt; | z &lt;dbl&gt; | cs_min_r2 &lt;dbl&gt; | cs_avg_r2 &lt;dbl&gt; | cs_size &lt;int&gt; | posterior_mean &lt;dbl&gt; | posterior_sd &lt;dbl&gt; | cs_log10bf &lt;dbl&gt; |\n",
       "|---|---|---|---|---|---|---|---|---|---|---|---|---|---|---|---|---|\n",
       "| ENSG00000207650 | chr3_195745525_TCA_T | 3 | 195745525 | TCA | T | ENSG00000207650_L1 | L1 | chr3:194426271-196426271 | 0.9923052 | -5.425915 | 1 | 1 | 1 | -0.3751585 | 0.06423228 | 5.576012 |\n",
       "\n"
      ],
      "text/plain": [
       "  phenotype_id    variant_id           chr pos       ref alt cs_id             \n",
       "1 ENSG00000207650 chr3_195745525_TCA_T 3   195745525 TCA T   ENSG00000207650_L1\n",
       "  cs_index finemapped_region        pip       z         cs_min_r2 cs_avg_r2\n",
       "1 L1       chr3:194426271-196426271 0.9923052 -5.425915 1         1        \n",
       "  cs_size posterior_mean posterior_sd cs_log10bf\n",
       "1 1       -0.3751585     0.06423228   5.576012  "
      ]
     },
     "metadata": {},
     "output_type": "display_data"
    },
    {
     "data": {
      "text/html": [
       "<table>\n",
       "<caption>A data.frame: 1 × 17</caption>\n",
       "<thead>\n",
       "\t<tr><th scope=col>phenotype_id</th><th scope=col>variant_id</th><th scope=col>chr</th><th scope=col>pos</th><th scope=col>ref</th><th scope=col>alt</th><th scope=col>cs_id</th><th scope=col>cs_index</th><th scope=col>finemapped_region</th><th scope=col>pip</th><th scope=col>z</th><th scope=col>cs_min_r2</th><th scope=col>cs_avg_r2</th><th scope=col>cs_size</th><th scope=col>posterior_mean</th><th scope=col>posterior_sd</th><th scope=col>cs_log10bf</th></tr>\n",
       "\t<tr><th scope=col>&lt;chr&gt;</th><th scope=col>&lt;chr&gt;</th><th scope=col>&lt;int&gt;</th><th scope=col>&lt;int&gt;</th><th scope=col>&lt;chr&gt;</th><th scope=col>&lt;chr&gt;</th><th scope=col>&lt;chr&gt;</th><th scope=col>&lt;chr&gt;</th><th scope=col>&lt;chr&gt;</th><th scope=col>&lt;dbl&gt;</th><th scope=col>&lt;dbl&gt;</th><th scope=col>&lt;dbl&gt;</th><th scope=col>&lt;dbl&gt;</th><th scope=col>&lt;int&gt;</th><th scope=col>&lt;dbl&gt;</th><th scope=col>&lt;dbl&gt;</th><th scope=col>&lt;dbl&gt;</th></tr>\n",
       "</thead>\n",
       "<tbody>\n",
       "\t<tr><td>ENSG00000260261</td><td>chr3_195745525_TCA_T</td><td>3</td><td>195745525</td><td>TCA</td><td>T</td><td>ENSG00000260261_L1</td><td>L1</td><td>chr3:194681355-196681355</td><td>0.1105759</td><td>-5.008664</td><td>0.5728833</td><td>0.7976933</td><td>6</td><td>-0.04482523</td><td>0.1307992</td><td>1.925262</td></tr>\n",
       "</tbody>\n",
       "</table>\n"
      ],
      "text/latex": [
       "A data.frame: 1 × 17\n",
       "\\begin{tabular}{lllllllllllllllll}\n",
       " phenotype\\_id & variant\\_id & chr & pos & ref & alt & cs\\_id & cs\\_index & finemapped\\_region & pip & z & cs\\_min\\_r2 & cs\\_avg\\_r2 & cs\\_size & posterior\\_mean & posterior\\_sd & cs\\_log10bf\\\\\n",
       " <chr> & <chr> & <int> & <int> & <chr> & <chr> & <chr> & <chr> & <chr> & <dbl> & <dbl> & <dbl> & <dbl> & <int> & <dbl> & <dbl> & <dbl>\\\\\n",
       "\\hline\n",
       "\t ENSG00000260261 & chr3\\_195745525\\_TCA\\_T & 3 & 195745525 & TCA & T & ENSG00000260261\\_L1 & L1 & chr3:194681355-196681355 & 0.1105759 & -5.008664 & 0.5728833 & 0.7976933 & 6 & -0.04482523 & 0.1307992 & 1.925262\\\\\n",
       "\\end{tabular}\n"
      ],
      "text/markdown": [
       "\n",
       "A data.frame: 1 × 17\n",
       "\n",
       "| phenotype_id &lt;chr&gt; | variant_id &lt;chr&gt; | chr &lt;int&gt; | pos &lt;int&gt; | ref &lt;chr&gt; | alt &lt;chr&gt; | cs_id &lt;chr&gt; | cs_index &lt;chr&gt; | finemapped_region &lt;chr&gt; | pip &lt;dbl&gt; | z &lt;dbl&gt; | cs_min_r2 &lt;dbl&gt; | cs_avg_r2 &lt;dbl&gt; | cs_size &lt;int&gt; | posterior_mean &lt;dbl&gt; | posterior_sd &lt;dbl&gt; | cs_log10bf &lt;dbl&gt; |\n",
       "|---|---|---|---|---|---|---|---|---|---|---|---|---|---|---|---|---|\n",
       "| ENSG00000260261 | chr3_195745525_TCA_T | 3 | 195745525 | TCA | T | ENSG00000260261_L1 | L1 | chr3:194681355-196681355 | 0.1105759 | -5.008664 | 0.5728833 | 0.7976933 | 6 | -0.04482523 | 0.1307992 | 1.925262 |\n",
       "\n"
      ],
      "text/plain": [
       "  phenotype_id    variant_id           chr pos       ref alt cs_id             \n",
       "1 ENSG00000260261 chr3_195745525_TCA_T 3   195745525 TCA T   ENSG00000260261_L1\n",
       "  cs_index finemapped_region        pip       z         cs_min_r2 cs_avg_r2\n",
       "1 L1       chr3:194681355-196681355 0.1105759 -5.008664 0.5728833 0.7976933\n",
       "  cs_size posterior_mean posterior_sd cs_log10bf\n",
       "1 6       -0.04482523    0.1307992    1.925262  "
      ]
     },
     "metadata": {},
     "output_type": "display_data"
    }
   ],
   "source": [
    "sorted_df_eur %>% filter(variant_id == \"chr3_195745525_TCA_T\")\n",
    "sorted_df_amr %>% filter(variant_id == \"chr3_195745525_TCA_T\")"
   ]
  },
  {
   "cell_type": "markdown",
   "metadata": {
    "deletable": true,
    "editable": true
   },
   "source": [
    "**To prepare input files for locuszoom**\n",
    "- `zcat all_assoc.txt.gz | awk '$1 == \"ENSG00000196071\" {print $0}' > ENSG00000196071.all_assoc.txt`\n",
    "- some markers are rsID, some are hg38 chr:pos, need to change all to hg19 chr:pos. Generated variant coordinate file for ancestries"
   ]
  },
  {
   "cell_type": "markdown",
   "metadata": {
    "deletable": true,
    "editable": true
   },
   "source": [
    "**EUR and AFR non-overlapping high PIP variants for shared genes: MAF? Are they not present in the other population?**"
   ]
  },
  {
   "cell_type": "code",
   "execution_count": 13,
   "metadata": {
    "collapsed": false,
    "deletable": true,
    "editable": true
   },
   "outputs": [
    {
     "data": {
      "text/html": [
       "<style>\n",
       ".list-inline {list-style: none; margin:0; padding: 0}\n",
       ".list-inline>li {display: inline-block}\n",
       ".list-inline>li:not(:last-child)::after {content: \"\\00b7\"; padding: 0 .5ex}\n",
       "</style>\n",
       "<ol class=list-inline><li>29</li><li>1</li></ol>\n"
      ],
      "text/latex": [
       "\\begin{enumerate*}\n",
       "\\item 29\n",
       "\\item 1\n",
       "\\end{enumerate*}\n"
      ],
      "text/markdown": [
       "1. 29\n",
       "2. 1\n",
       "\n",
       "\n"
      ],
      "text/plain": [
       "[1] 29  1"
      ]
     },
     "metadata": {},
     "output_type": "display_data"
    },
    {
     "data": {
      "text/html": [
       "<table>\n",
       "<caption>A data.frame: 6 × 1</caption>\n",
       "<thead>\n",
       "\t<tr><th></th><th scope=col>variant</th></tr>\n",
       "\t<tr><th></th><th scope=col>&lt;fct&gt;</th></tr>\n",
       "</thead>\n",
       "<tbody>\n",
       "\t<tr><th scope=row>1</th><td>chr10_102791911_C_A</td></tr>\n",
       "\t<tr><th scope=row>2</th><td>chr10_120920588_T_C</td></tr>\n",
       "\t<tr><th scope=row>3</th><td>chr10_123688152_A_T</td></tr>\n",
       "\t<tr><th scope=row>4</th><td>chr1_159825916_C_T </td></tr>\n",
       "\t<tr><th scope=row>5</th><td>chr11_780827_C_T   </td></tr>\n",
       "\t<tr><th scope=row>6</th><td>chr12_10096086_G_C </td></tr>\n",
       "</tbody>\n",
       "</table>\n"
      ],
      "text/latex": [
       "A data.frame: 6 × 1\n",
       "\\begin{tabular}{r|l}\n",
       "  & variant\\\\\n",
       "  & <fct>\\\\\n",
       "\\hline\n",
       "\t1 & chr10\\_102791911\\_C\\_A\\\\\n",
       "\t2 & chr10\\_120920588\\_T\\_C\\\\\n",
       "\t3 & chr10\\_123688152\\_A\\_T\\\\\n",
       "\t4 & chr1\\_159825916\\_C\\_T \\\\\n",
       "\t5 & chr11\\_780827\\_C\\_T   \\\\\n",
       "\t6 & chr12\\_10096086\\_G\\_C \\\\\n",
       "\\end{tabular}\n"
      ],
      "text/markdown": [
       "\n",
       "A data.frame: 6 × 1\n",
       "\n",
       "| <!--/--> | variant &lt;fct&gt; |\n",
       "|---|---|\n",
       "| 1 | chr10_102791911_C_A |\n",
       "| 2 | chr10_120920588_T_C |\n",
       "| 3 | chr10_123688152_A_T |\n",
       "| 4 | chr1_159825916_C_T  |\n",
       "| 5 | chr11_780827_C_T    |\n",
       "| 6 | chr12_10096086_G_C  |\n",
       "\n"
      ],
      "text/plain": [
       "  variant            \n",
       "1 chr10_102791911_C_A\n",
       "2 chr10_120920588_T_C\n",
       "3 chr10_123688152_A_T\n",
       "4 chr1_159825916_C_T \n",
       "5 chr11_780827_C_T   \n",
       "6 chr12_10096086_G_C "
      ]
     },
     "metadata": {},
     "output_type": "display_data"
    }
   ],
   "source": [
    "# EUR and AFR: 29 shared variants\n",
    "eur_afr_share <- data.frame(unique(eur_pip$variant_id)[unique(eur_pip$variant_id) %in% unique(afr_pip$variant_id)])\n",
    "dim(eur_afr_share)\n",
    "colnames(eur_afr_share) <- \"variant\"\n",
    "head(eur_afr_share)"
   ]
  },
  {
   "cell_type": "code",
   "execution_count": 14,
   "metadata": {
    "collapsed": false,
    "deletable": true,
    "editable": true
   },
   "outputs": [
    {
     "data": {
      "text/html": [
       "<style>\n",
       ".list-inline {list-style: none; margin:0; padding: 0}\n",
       ".list-inline>li {display: inline-block}\n",
       ".list-inline>li:not(:last-child)::after {content: \"\\00b7\"; padding: 0 .5ex}\n",
       "</style>\n",
       "<ol class=list-inline><li>91</li><li>1</li></ol>\n"
      ],
      "text/latex": [
       "\\begin{enumerate*}\n",
       "\\item 91\n",
       "\\item 1\n",
       "\\end{enumerate*}\n"
      ],
      "text/markdown": [
       "1. 91\n",
       "2. 1\n",
       "\n",
       "\n"
      ],
      "text/plain": [
       "[1] 91  1"
      ]
     },
     "metadata": {},
     "output_type": "display_data"
    }
   ],
   "source": [
    "# EUR, not AFR, 91\n",
    "eur_unique <- data.frame(unique(eur_pip$variant_id)[!unique(eur_pip$variant_id) %in% unique(afr_pip$variant_id)])\n",
    "colnames(eur_unique) <- \"variant\"\n",
    "dim(eur_unique)"
   ]
  },
  {
   "cell_type": "code",
   "execution_count": 15,
   "metadata": {
    "collapsed": false,
    "deletable": true,
    "editable": true
   },
   "outputs": [
    {
     "data": {
      "text/html": [
       "<style>\n",
       ".list-inline {list-style: none; margin:0; padding: 0}\n",
       ".list-inline>li {display: inline-block}\n",
       ".list-inline>li:not(:last-child)::after {content: \"\\00b7\"; padding: 0 .5ex}\n",
       "</style>\n",
       "<ol class=list-inline><li>85</li><li>1</li></ol>\n"
      ],
      "text/latex": [
       "\\begin{enumerate*}\n",
       "\\item 85\n",
       "\\item 1\n",
       "\\end{enumerate*}\n"
      ],
      "text/markdown": [
       "1. 85\n",
       "2. 1\n",
       "\n",
       "\n"
      ],
      "text/plain": [
       "[1] 85  1"
      ]
     },
     "metadata": {},
     "output_type": "display_data"
    }
   ],
   "source": [
    "# AFR, not EUR, 85\n",
    "afr_unique <- data.frame(unique(afr_pip$variant_id)[!unique(afr_pip$variant_id) %in% unique(eur_pip$variant_id)])\n",
    "colnames(afr_unique) <- \"variant\"\n",
    "dim(afr_unique)"
   ]
  },
  {
   "cell_type": "code",
   "execution_count": 16,
   "metadata": {
    "collapsed": false,
    "deletable": true,
    "editable": true
   },
   "outputs": [
    {
     "data": {
      "text/html": [
       "<table>\n",
       "<caption>A data.frame: 6 × 2</caption>\n",
       "<thead>\n",
       "\t<tr><th></th><th scope=col>variant</th><th scope=col>Group</th></tr>\n",
       "\t<tr><th></th><th scope=col>&lt;fct&gt;</th><th scope=col>&lt;chr&gt;</th></tr>\n",
       "</thead>\n",
       "<tbody>\n",
       "\t<tr><th scope=row>1</th><td>chr10_102791911_C_A</td><td>EUR AFR shared</td></tr>\n",
       "\t<tr><th scope=row>2</th><td>chr10_120920588_T_C</td><td>EUR AFR shared</td></tr>\n",
       "\t<tr><th scope=row>3</th><td>chr10_123688152_A_T</td><td>EUR AFR shared</td></tr>\n",
       "\t<tr><th scope=row>4</th><td>chr1_159825916_C_T </td><td>EUR AFR shared</td></tr>\n",
       "\t<tr><th scope=row>5</th><td>chr11_780827_C_T   </td><td>EUR AFR shared</td></tr>\n",
       "\t<tr><th scope=row>6</th><td>chr12_10096086_G_C </td><td>EUR AFR shared</td></tr>\n",
       "</tbody>\n",
       "</table>\n"
      ],
      "text/latex": [
       "A data.frame: 6 × 2\n",
       "\\begin{tabular}{r|ll}\n",
       "  & variant & Group\\\\\n",
       "  & <fct> & <chr>\\\\\n",
       "\\hline\n",
       "\t1 & chr10\\_102791911\\_C\\_A & EUR AFR shared\\\\\n",
       "\t2 & chr10\\_120920588\\_T\\_C & EUR AFR shared\\\\\n",
       "\t3 & chr10\\_123688152\\_A\\_T & EUR AFR shared\\\\\n",
       "\t4 & chr1\\_159825916\\_C\\_T  & EUR AFR shared\\\\\n",
       "\t5 & chr11\\_780827\\_C\\_T    & EUR AFR shared\\\\\n",
       "\t6 & chr12\\_10096086\\_G\\_C  & EUR AFR shared\\\\\n",
       "\\end{tabular}\n"
      ],
      "text/markdown": [
       "\n",
       "A data.frame: 6 × 2\n",
       "\n",
       "| <!--/--> | variant &lt;fct&gt; | Group &lt;chr&gt; |\n",
       "|---|---|---|\n",
       "| 1 | chr10_102791911_C_A | EUR AFR shared |\n",
       "| 2 | chr10_120920588_T_C | EUR AFR shared |\n",
       "| 3 | chr10_123688152_A_T | EUR AFR shared |\n",
       "| 4 | chr1_159825916_C_T  | EUR AFR shared |\n",
       "| 5 | chr11_780827_C_T    | EUR AFR shared |\n",
       "| 6 | chr12_10096086_G_C  | EUR AFR shared |\n",
       "\n"
      ],
      "text/plain": [
       "  variant             Group         \n",
       "1 chr10_102791911_C_A EUR AFR shared\n",
       "2 chr10_120920588_T_C EUR AFR shared\n",
       "3 chr10_123688152_A_T EUR AFR shared\n",
       "4 chr1_159825916_C_T  EUR AFR shared\n",
       "5 chr11_780827_C_T    EUR AFR shared\n",
       "6 chr12_10096086_G_C  EUR AFR shared"
      ]
     },
     "metadata": {},
     "output_type": "display_data"
    }
   ],
   "source": [
    "df <- rbind(eur_afr_share, eur_unique, afr_unique)\n",
    "df$Group <- c(rep(\"EUR AFR shared\", nrow(eur_afr_share)), \n",
    "              rep(\"EUR unique\", nrow(eur_unique)), \n",
    "              rep(\"AFR unique\", nrow(afr_unique)))\n",
    "head(df)"
   ]
  },
  {
   "cell_type": "code",
   "execution_count": 17,
   "metadata": {
    "collapsed": false,
    "deletable": true,
    "editable": true
   },
   "outputs": [
    {
     "data": {
      "text/html": [
       "<style>\n",
       ".list-inline {list-style: none; margin:0; padding: 0}\n",
       ".list-inline>li {display: inline-block}\n",
       ".list-inline>li:not(:last-child)::after {content: \"\\00b7\"; padding: 0 .5ex}\n",
       "</style>\n",
       "<ol class=list-inline><li>9309498</li><li>5</li></ol>\n"
      ],
      "text/latex": [
       "\\begin{enumerate*}\n",
       "\\item 9309498\n",
       "\\item 5\n",
       "\\end{enumerate*}\n"
      ],
      "text/markdown": [
       "1. 9309498\n",
       "2. 5\n",
       "\n",
       "\n"
      ],
      "text/plain": [
       "[1] 9309498       5"
      ]
     },
     "metadata": {},
     "output_type": "display_data"
    },
    {
     "data": {
      "text/html": [
       "<table>\n",
       "<caption>A data.frame: 6 × 5</caption>\n",
       "<thead>\n",
       "\t<tr><th></th><th scope=col>V1</th><th scope=col>V2</th><th scope=col>V3</th><th scope=col>V4</th><th scope=col>V5</th></tr>\n",
       "\t<tr><th></th><th scope=col>&lt;int&gt;</th><th scope=col>&lt;int&gt;</th><th scope=col>&lt;chr&gt;</th><th scope=col>&lt;chr&gt;</th><th scope=col>&lt;dbl&gt;</th></tr>\n",
       "</thead>\n",
       "<tbody>\n",
       "\t<tr><th scope=row>1</th><td>1</td><td>662622</td><td>G</td><td>A</td><td>0.13356200</td></tr>\n",
       "\t<tr><th scope=row>2</th><td>1</td><td>666249</td><td>C</td><td>T</td><td>0.00171233</td></tr>\n",
       "\t<tr><th scope=row>3</th><td>1</td><td>693731</td><td>A</td><td>G</td><td>0.13356200</td></tr>\n",
       "\t<tr><th scope=row>4</th><td>1</td><td>693823</td><td>G</td><td>C</td><td>0.13698600</td></tr>\n",
       "\t<tr><th scope=row>5</th><td>1</td><td>704637</td><td>G</td><td>A</td><td>0.03767120</td></tr>\n",
       "\t<tr><th scope=row>6</th><td>1</td><td>708075</td><td>A</td><td>G</td><td>0.00342466</td></tr>\n",
       "</tbody>\n",
       "</table>\n"
      ],
      "text/latex": [
       "A data.frame: 6 × 5\n",
       "\\begin{tabular}{r|lllll}\n",
       "  & V1 & V2 & V3 & V4 & V5\\\\\n",
       "  & <int> & <int> & <chr> & <chr> & <dbl>\\\\\n",
       "\\hline\n",
       "\t1 & 1 & 662622 & G & A & 0.13356200\\\\\n",
       "\t2 & 1 & 666249 & C & T & 0.00171233\\\\\n",
       "\t3 & 1 & 693731 & A & G & 0.13356200\\\\\n",
       "\t4 & 1 & 693823 & G & C & 0.13698600\\\\\n",
       "\t5 & 1 & 704637 & G & A & 0.03767120\\\\\n",
       "\t6 & 1 & 708075 & A & G & 0.00342466\\\\\n",
       "\\end{tabular}\n"
      ],
      "text/markdown": [
       "\n",
       "A data.frame: 6 × 5\n",
       "\n",
       "| <!--/--> | V1 &lt;int&gt; | V2 &lt;int&gt; | V3 &lt;chr&gt; | V4 &lt;chr&gt; | V5 &lt;dbl&gt; |\n",
       "|---|---|---|---|---|---|\n",
       "| 1 | 1 | 662622 | G | A | 0.13356200 |\n",
       "| 2 | 1 | 666249 | C | T | 0.00171233 |\n",
       "| 3 | 1 | 693731 | A | G | 0.13356200 |\n",
       "| 4 | 1 | 693823 | G | C | 0.13698600 |\n",
       "| 5 | 1 | 704637 | G | A | 0.03767120 |\n",
       "| 6 | 1 | 708075 | A | G | 0.00342466 |\n",
       "\n"
      ],
      "text/plain": [
       "  V1 V2     V3 V4 V5        \n",
       "1 1  662622 G  A  0.13356200\n",
       "2 1  666249 C  T  0.00171233\n",
       "3 1  693731 A  G  0.13356200\n",
       "4 1  693823 G  C  0.13698600\n",
       "5 1  704637 G  A  0.03767120\n",
       "6 1  708075 A  G  0.00342466"
      ]
     },
     "metadata": {},
     "output_type": "display_data"
    }
   ],
   "source": [
    "# eur_maf <- fread(\"~/project-gandalm/isoform_twas/genotype/all_data/isec_R2_greater_than_3/ancestry/eur/maf.gz\", data.table = F, header = F)\n",
    "eur_maf <- fread(\"~/project-gandalm/isoform_twas/genotype/temp/eur.maf.gz\", data.table = F, header = F)\n",
    "dim(eur_maf)\n",
    "head(eur_maf)"
   ]
  },
  {
   "cell_type": "code",
   "execution_count": 18,
   "metadata": {
    "collapsed": false,
    "deletable": true,
    "editable": true
   },
   "outputs": [
    {
     "data": {
      "text/html": [
       "<style>\n",
       ".list-inline {list-style: none; margin:0; padding: 0}\n",
       ".list-inline>li {display: inline-block}\n",
       ".list-inline>li:not(:last-child)::after {content: \"\\00b7\"; padding: 0 .5ex}\n",
       "</style>\n",
       "<ol class=list-inline><li>9293514</li><li>5</li></ol>\n"
      ],
      "text/latex": [
       "\\begin{enumerate*}\n",
       "\\item 9293514\n",
       "\\item 5\n",
       "\\end{enumerate*}\n"
      ],
      "text/markdown": [
       "1. 9293514\n",
       "2. 5\n",
       "\n",
       "\n"
      ],
      "text/plain": [
       "[1] 9293514       5"
      ]
     },
     "metadata": {},
     "output_type": "display_data"
    }
   ],
   "source": [
    "# afr_maf <- fread(\"~/project-gandalm/isoform_twas/genotype/all_data/isec_R2_greater_than_3/ancestry/afr/maf.gz\", data.table = F, header = F)\n",
    "afr_maf <- fread(\"~/project-gandalm/isoform_twas/genotype/temp/afr.maf.gz\", data.table = F, header = F)\n",
    "dim(afr_maf)"
   ]
  },
  {
   "cell_type": "code",
   "execution_count": 19,
   "metadata": {
    "collapsed": true,
    "deletable": true,
    "editable": true
   },
   "outputs": [],
   "source": [
    "eur_maf <- eur_maf %>% unite(\"id\", V1,V2,V3,V4,sep=\"_\")"
   ]
  },
  {
   "cell_type": "code",
   "execution_count": 20,
   "metadata": {
    "collapsed": false,
    "deletable": true,
    "editable": true
   },
   "outputs": [],
   "source": [
    "eur_maf$id <- gsub(\"^\",\"chr\",eur_maf$id)"
   ]
  },
  {
   "cell_type": "code",
   "execution_count": 21,
   "metadata": {
    "collapsed": false,
    "deletable": true,
    "editable": true
   },
   "outputs": [],
   "source": [
    "afr_maf <- afr_maf %>% unite(\"id\", V1,V2,V3,V4,sep=\"_\")\n",
    "afr_maf$id<- gsub(\"^\",\"chr\",afr_maf$id)"
   ]
  },
  {
   "cell_type": "code",
   "execution_count": 22,
   "metadata": {
    "collapsed": false,
    "deletable": true,
    "editable": true
   },
   "outputs": [],
   "source": [
    "df <- df %>% left_join(eur_maf, by=c(\"variant\"=\"id\"))"
   ]
  },
  {
   "cell_type": "code",
   "execution_count": 23,
   "metadata": {
    "collapsed": false,
    "deletable": true,
    "editable": true
   },
   "outputs": [],
   "source": [
    "df <- df %>% left_join(afr_maf, by=c(\"variant\"=\"id\"))"
   ]
  },
  {
   "cell_type": "code",
   "execution_count": 24,
   "metadata": {
    "collapsed": false,
    "deletable": true,
    "editable": true
   },
   "outputs": [
    {
     "data": {
      "text/html": [
       "<table>\n",
       "<caption>A data.frame: 6 × 4</caption>\n",
       "<thead>\n",
       "\t<tr><th></th><th scope=col>variant</th><th scope=col>Group</th><th scope=col>eur_maf</th><th scope=col>afr_maf</th></tr>\n",
       "\t<tr><th></th><th scope=col>&lt;chr&gt;</th><th scope=col>&lt;chr&gt;</th><th scope=col>&lt;dbl&gt;</th><th scope=col>&lt;dbl&gt;</th></tr>\n",
       "</thead>\n",
       "<tbody>\n",
       "\t<tr><th scope=row>1</th><td>chr10_102791911_C_A</td><td>EUR AFR shared</td><td>0.1386990</td><td>0.0551724</td></tr>\n",
       "\t<tr><th scope=row>2</th><td>chr10_120920588_T_C</td><td>EUR AFR shared</td><td>0.4914380</td><td>0.4241380</td></tr>\n",
       "\t<tr><th scope=row>3</th><td>chr10_123688152_A_T</td><td>EUR AFR shared</td><td>0.3133560</td><td>0.1793100</td></tr>\n",
       "\t<tr><th scope=row>4</th><td>chr1_159825916_C_T </td><td>EUR AFR shared</td><td>0.3681510</td><td>0.0758621</td></tr>\n",
       "\t<tr><th scope=row>5</th><td>chr11_780827_C_T   </td><td>EUR AFR shared</td><td>0.4366440</td><td>0.1655170</td></tr>\n",
       "\t<tr><th scope=row>6</th><td>chr12_10096086_G_C </td><td>EUR AFR shared</td><td>0.0445205</td><td>0.1206900</td></tr>\n",
       "</tbody>\n",
       "</table>\n"
      ],
      "text/latex": [
       "A data.frame: 6 × 4\n",
       "\\begin{tabular}{r|llll}\n",
       "  & variant & Group & eur\\_maf & afr\\_maf\\\\\n",
       "  & <chr> & <chr> & <dbl> & <dbl>\\\\\n",
       "\\hline\n",
       "\t1 & chr10\\_102791911\\_C\\_A & EUR AFR shared & 0.1386990 & 0.0551724\\\\\n",
       "\t2 & chr10\\_120920588\\_T\\_C & EUR AFR shared & 0.4914380 & 0.4241380\\\\\n",
       "\t3 & chr10\\_123688152\\_A\\_T & EUR AFR shared & 0.3133560 & 0.1793100\\\\\n",
       "\t4 & chr1\\_159825916\\_C\\_T  & EUR AFR shared & 0.3681510 & 0.0758621\\\\\n",
       "\t5 & chr11\\_780827\\_C\\_T    & EUR AFR shared & 0.4366440 & 0.1655170\\\\\n",
       "\t6 & chr12\\_10096086\\_G\\_C  & EUR AFR shared & 0.0445205 & 0.1206900\\\\\n",
       "\\end{tabular}\n"
      ],
      "text/markdown": [
       "\n",
       "A data.frame: 6 × 4\n",
       "\n",
       "| <!--/--> | variant &lt;chr&gt; | Group &lt;chr&gt; | eur_maf &lt;dbl&gt; | afr_maf &lt;dbl&gt; |\n",
       "|---|---|---|---|---|\n",
       "| 1 | chr10_102791911_C_A | EUR AFR shared | 0.1386990 | 0.0551724 |\n",
       "| 2 | chr10_120920588_T_C | EUR AFR shared | 0.4914380 | 0.4241380 |\n",
       "| 3 | chr10_123688152_A_T | EUR AFR shared | 0.3133560 | 0.1793100 |\n",
       "| 4 | chr1_159825916_C_T  | EUR AFR shared | 0.3681510 | 0.0758621 |\n",
       "| 5 | chr11_780827_C_T    | EUR AFR shared | 0.4366440 | 0.1655170 |\n",
       "| 6 | chr12_10096086_G_C  | EUR AFR shared | 0.0445205 | 0.1206900 |\n",
       "\n"
      ],
      "text/plain": [
       "  variant             Group          eur_maf   afr_maf  \n",
       "1 chr10_102791911_C_A EUR AFR shared 0.1386990 0.0551724\n",
       "2 chr10_120920588_T_C EUR AFR shared 0.4914380 0.4241380\n",
       "3 chr10_123688152_A_T EUR AFR shared 0.3133560 0.1793100\n",
       "4 chr1_159825916_C_T  EUR AFR shared 0.3681510 0.0758621\n",
       "5 chr11_780827_C_T    EUR AFR shared 0.4366440 0.1655170\n",
       "6 chr12_10096086_G_C  EUR AFR shared 0.0445205 0.1206900"
      ]
     },
     "metadata": {},
     "output_type": "display_data"
    }
   ],
   "source": [
    "colnames(df)[3:4] <- c(\"eur_maf\", \"afr_maf\")\n",
    "head(df)"
   ]
  },
  {
   "cell_type": "code",
   "execution_count": 25,
   "metadata": {
    "collapsed": false,
    "deletable": true,
    "editable": true
   },
   "outputs": [
    {
     "data": {
      "text/html": [
       "<style>\n",
       ".list-inline {list-style: none; margin:0; padding: 0}\n",
       ".list-inline>li {display: inline-block}\n",
       ".list-inline>li:not(:last-child)::after {content: \"\\00b7\"; padding: 0 .5ex}\n",
       "</style>\n",
       "<ol class=list-inline><li>205</li><li>4</li></ol>\n"
      ],
      "text/latex": [
       "\\begin{enumerate*}\n",
       "\\item 205\n",
       "\\item 4\n",
       "\\end{enumerate*}\n"
      ],
      "text/markdown": [
       "1. 205\n",
       "2. 4\n",
       "\n",
       "\n"
      ],
      "text/plain": [
       "[1] 205   4"
      ]
     },
     "metadata": {},
     "output_type": "display_data"
    },
    {
     "data": {
      "text/html": [
       "161"
      ],
      "text/latex": [
       "161"
      ],
      "text/markdown": [
       "161"
      ],
      "text/plain": [
       "[1] 161"
      ]
     },
     "metadata": {},
     "output_type": "display_data"
    }
   ],
   "source": [
    "dim(df)\n",
    "sum(complete.cases(df))"
   ]
  },
  {
   "cell_type": "code",
   "execution_count": 62,
   "metadata": {
    "collapsed": true,
    "deletable": true,
    "editable": true
   },
   "outputs": [],
   "source": [
    "# present in both populations? Absent in one due to failing variants QC?\n",
    "# df$state <- ifelse(complete.cases(df), \"present\", \"absent\")"
   ]
  },
  {
   "cell_type": "code",
   "execution_count": 26,
   "metadata": {
    "collapsed": false,
    "deletable": true,
    "editable": true
   },
   "outputs": [],
   "source": [
    "# table(df$state)"
   ]
  },
  {
   "cell_type": "code",
   "execution_count": 27,
   "metadata": {
    "collapsed": false,
    "deletable": true,
    "editable": true
   },
   "outputs": [
    {
     "name": "stderr",
     "output_type": "stream",
     "text": [
      "`geom_smooth()` using method = 'loess' and formula 'y ~ x'\n",
      "\n",
      "Warning message:\n",
      "“Removed 44 rows containing non-finite values (stat_smooth).”\n",
      "Warning message:\n",
      "“Removed 44 rows containing missing values (geom_point).”\n"
     ]
    },
    {
     "data": {
      "image/png": "[encoded data removed]",
      "text/plain": [
       "plot without title"
      ]
     },
     "metadata": {
      "image/png": {
       "height": 420,
       "width": 420
      }
     },
     "output_type": "display_data"
    }
   ],
   "source": [
    "p <- ggplot(df, aes(x = eur_maf, y = afr_maf, color = Group)) +\n",
    "    geom_point() +\n",
    "    geom_smooth()\n",
    "p"
   ]
  }
 ],
 "metadata": {
  "kernelspec": {
   "display_name": "R 3.6.1",
   "language": "R",
   "name": "ir361"
  },
  "language_info": {
   "codemirror_mode": "r",
   "file_extension": ".r",
   "mimetype": "text/x-r-source",
   "name": "R",
   "pygments_lexer": "r",
   "version": "3.6.1"
  }
 },
 "nbformat": 4,
 "nbformat_minor": 2
}
