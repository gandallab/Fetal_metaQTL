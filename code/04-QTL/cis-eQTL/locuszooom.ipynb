{
 "cells": [
  {
   "cell_type": "markdown",
   "id": "498fa197",
   "metadata": {},
   "source": [
    "# Loading in packages"
   ]
  },
  {
   "cell_type": "code",
   "execution_count": 1,
   "id": "bd800871",
   "metadata": {},
   "outputs": [],
   "source": [
    "# # Installing packages\n",
    "# using Pkg\n",
    "# Pkg.add([\"CairoMakie\", \"CSV\", \"DataFrames\", \"GeneticsMakie\", \"SnpArrays\"])"
   ]
  },
  {
   "cell_type": "code",
   "execution_count": 2,
   "id": "03c7a0ae",
   "metadata": {},
   "outputs": [],
   "source": [
    "# Loading packages\n",
    "using CairoMakie, CSV, DataFrames, GeneticsMakie, SnpArrays"
   ]
  },
  {
   "cell_type": "markdown",
   "id": "e8c3a17c",
   "metadata": {},
   "source": [
    "# Loading in data"
   ]
  },
  {
   "cell_type": "code",
   "execution_count": 5,
   "id": "51c83686",
   "metadata": {},
   "outputs": [
    {
     "data": {
      "text/plain": [
       "\"/u/project/gandalm/cindywen/isoform_twas/genotype/all_data/isec_R2_greater_than_3/ancestry/filtered.hg19.sorted\""
      ]
     },
     "execution_count": 5,
     "metadata": {},
     "output_type": "execute_result"
    }
   ],
   "source": [
    "# Filenames\n",
    "pops = [\"eur\", \"amr\", \"afr\", \"mixed\"]\n",
    "summarystatsfilenames = [joinpath(\"/u/project/gandalm/cindywen/isoform_twas/eqtl_new\",\n",
    "                              \"locuszoom/MTFR1/$(pop)_ENSG00000066855_all_assoc.txt\")\n",
    "                     for pop in pops]\n",
    "gencodefilename = joinpath(\"/u/project/gandalm/shared/refGenomes/hg19/Gencode/v33\",\n",
    "                           \"gencode.v33lift37.annotation.gtf\")\n",
    "genotypefilenames = [joinpath(\"/u/project/gandalm/cindywen/isoform_twas/genotype\",\n",
    "                              \"all_data/isec_R2_greater_than_3/ancestry/$(pop)\",\n",
    "                              \"filtered.hg19.sorted\")\n",
    "                     for pop in pops]\n",
    "mixedgenotypefilename = joinpath(\"/u/project/gandalm/cindywen/isoform_twas/genotype\",\n",
    "                                 \"all_data/isec_R2_greater_than_3/ancestry\",\n",
    "                                 \"filtered.hg19.sorted\")\n",
    "genotypefilenames[4] = mixedgenotypefilename"
   ]
  },
  {
   "cell_type": "code",
   "execution_count": 6,
   "id": "a5c05d75",
   "metadata": {},
   "outputs": [
    {
     "data": {
      "text/html": [
       "<div class=\"data-frame\"><p>2,915,984 rows × 8 columns (omitted printing of 1 columns)</p><table class=\"data-frame\"><thead><tr><th></th><th>seqnames</th><th>feature</th><th>start</th><th>end</th><th>strand</th><th>gene_name</th><th>gene_type</th></tr><tr><th></th><th title=\"String\">String</th><th title=\"String15\">String15</th><th title=\"Int64\">Int64</th><th title=\"Int64\">Int64</th><th title=\"String1\">String1</th><th title=\"SubString{String}\">SubStrin…</th><th title=\"SubString{String}\">SubStrin…</th></tr></thead><tbody><tr><th>1</th><td>1</td><td>gene</td><td>11869</td><td>14409</td><td>+</td><td>DDX11L1</td><td>transcribed_unprocessed_pseudogene</td></tr><tr><th>2</th><td>1</td><td>transcript</td><td>11869</td><td>14409</td><td>+</td><td>DDX11L1</td><td>transcribed_unprocessed_pseudogene</td></tr><tr><th>3</th><td>1</td><td>exon</td><td>11869</td><td>12227</td><td>+</td><td>DDX11L1</td><td>transcribed_unprocessed_pseudogene</td></tr><tr><th>4</th><td>1</td><td>exon</td><td>12613</td><td>12721</td><td>+</td><td>DDX11L1</td><td>transcribed_unprocessed_pseudogene</td></tr><tr><th>5</th><td>1</td><td>exon</td><td>13221</td><td>14409</td><td>+</td><td>DDX11L1</td><td>transcribed_unprocessed_pseudogene</td></tr><tr><th>6</th><td>1</td><td>transcript</td><td>12010</td><td>13670</td><td>+</td><td>DDX11L1</td><td>transcribed_unprocessed_pseudogene</td></tr><tr><th>7</th><td>1</td><td>exon</td><td>12010</td><td>12057</td><td>+</td><td>DDX11L1</td><td>transcribed_unprocessed_pseudogene</td></tr><tr><th>8</th><td>1</td><td>exon</td><td>12179</td><td>12227</td><td>+</td><td>DDX11L1</td><td>transcribed_unprocessed_pseudogene</td></tr><tr><th>9</th><td>1</td><td>exon</td><td>12613</td><td>12697</td><td>+</td><td>DDX11L1</td><td>transcribed_unprocessed_pseudogene</td></tr><tr><th>10</th><td>1</td><td>exon</td><td>12975</td><td>13052</td><td>+</td><td>DDX11L1</td><td>transcribed_unprocessed_pseudogene</td></tr><tr><th>11</th><td>1</td><td>exon</td><td>13221</td><td>13374</td><td>+</td><td>DDX11L1</td><td>transcribed_unprocessed_pseudogene</td></tr><tr><th>12</th><td>1</td><td>exon</td><td>13453</td><td>13670</td><td>+</td><td>DDX11L1</td><td>transcribed_unprocessed_pseudogene</td></tr><tr><th>13</th><td>1</td><td>gene</td><td>14404</td><td>29570</td><td>-</td><td>WASH7P</td><td>unprocessed_pseudogene</td></tr><tr><th>14</th><td>1</td><td>transcript</td><td>14404</td><td>29570</td><td>-</td><td>WASH7P</td><td>unprocessed_pseudogene</td></tr><tr><th>15</th><td>1</td><td>exon</td><td>14404</td><td>14501</td><td>-</td><td>WASH7P</td><td>unprocessed_pseudogene</td></tr><tr><th>16</th><td>1</td><td>exon</td><td>15005</td><td>15038</td><td>-</td><td>WASH7P</td><td>unprocessed_pseudogene</td></tr><tr><th>17</th><td>1</td><td>exon</td><td>15796</td><td>15947</td><td>-</td><td>WASH7P</td><td>unprocessed_pseudogene</td></tr><tr><th>18</th><td>1</td><td>exon</td><td>16607</td><td>16765</td><td>-</td><td>WASH7P</td><td>unprocessed_pseudogene</td></tr><tr><th>19</th><td>1</td><td>exon</td><td>16858</td><td>17055</td><td>-</td><td>WASH7P</td><td>unprocessed_pseudogene</td></tr><tr><th>20</th><td>1</td><td>exon</td><td>17233</td><td>17368</td><td>-</td><td>WASH7P</td><td>unprocessed_pseudogene</td></tr><tr><th>21</th><td>1</td><td>exon</td><td>17606</td><td>17742</td><td>-</td><td>WASH7P</td><td>unprocessed_pseudogene</td></tr><tr><th>22</th><td>1</td><td>exon</td><td>17915</td><td>18061</td><td>-</td><td>WASH7P</td><td>unprocessed_pseudogene</td></tr><tr><th>23</th><td>1</td><td>exon</td><td>18268</td><td>18366</td><td>-</td><td>WASH7P</td><td>unprocessed_pseudogene</td></tr><tr><th>24</th><td>1</td><td>exon</td><td>24738</td><td>24891</td><td>-</td><td>WASH7P</td><td>unprocessed_pseudogene</td></tr><tr><th>25</th><td>1</td><td>exon</td><td>29534</td><td>29570</td><td>-</td><td>WASH7P</td><td>unprocessed_pseudogene</td></tr><tr><th>26</th><td>1</td><td>gene</td><td>29554</td><td>31109</td><td>+</td><td>MIR1302-2HG</td><td>lncRNA</td></tr><tr><th>27</th><td>1</td><td>transcript</td><td>29554</td><td>31097</td><td>+</td><td>MIR1302-2HG</td><td>lncRNA</td></tr><tr><th>28</th><td>1</td><td>exon</td><td>29554</td><td>30039</td><td>+</td><td>MIR1302-2HG</td><td>lncRNA</td></tr><tr><th>29</th><td>1</td><td>exon</td><td>30564</td><td>30667</td><td>+</td><td>MIR1302-2HG</td><td>lncRNA</td></tr><tr><th>30</th><td>1</td><td>exon</td><td>30976</td><td>31097</td><td>+</td><td>MIR1302-2HG</td><td>lncRNA</td></tr><tr><th>&vellip;</th><td>&vellip;</td><td>&vellip;</td><td>&vellip;</td><td>&vellip;</td><td>&vellip;</td><td>&vellip;</td><td>&vellip;</td></tr></tbody></table></div>"
      ],
      "text/latex": [
       "\\begin{tabular}{r|cccccccc}\n",
       "\t& seqnames & feature & start & end & strand & gene\\_name & gene\\_type & \\\\\n",
       "\t\\hline\n",
       "\t& String & String15 & Int64 & Int64 & String1 & SubStrin… & SubStrin… & \\\\\n",
       "\t\\hline\n",
       "\t1 & 1 & gene & 11869 & 14409 & + & DDX11L1 & transcribed\\_unprocessed\\_pseudogene & $\\dots$ \\\\\n",
       "\t2 & 1 & transcript & 11869 & 14409 & + & DDX11L1 & transcribed\\_unprocessed\\_pseudogene & $\\dots$ \\\\\n",
       "\t3 & 1 & exon & 11869 & 12227 & + & DDX11L1 & transcribed\\_unprocessed\\_pseudogene & $\\dots$ \\\\\n",
       "\t4 & 1 & exon & 12613 & 12721 & + & DDX11L1 & transcribed\\_unprocessed\\_pseudogene & $\\dots$ \\\\\n",
       "\t5 & 1 & exon & 13221 & 14409 & + & DDX11L1 & transcribed\\_unprocessed\\_pseudogene & $\\dots$ \\\\\n",
       "\t6 & 1 & transcript & 12010 & 13670 & + & DDX11L1 & transcribed\\_unprocessed\\_pseudogene & $\\dots$ \\\\\n",
       "\t7 & 1 & exon & 12010 & 12057 & + & DDX11L1 & transcribed\\_unprocessed\\_pseudogene & $\\dots$ \\\\\n",
       "\t8 & 1 & exon & 12179 & 12227 & + & DDX11L1 & transcribed\\_unprocessed\\_pseudogene & $\\dots$ \\\\\n",
       "\t9 & 1 & exon & 12613 & 12697 & + & DDX11L1 & transcribed\\_unprocessed\\_pseudogene & $\\dots$ \\\\\n",
       "\t10 & 1 & exon & 12975 & 13052 & + & DDX11L1 & transcribed\\_unprocessed\\_pseudogene & $\\dots$ \\\\\n",
       "\t11 & 1 & exon & 13221 & 13374 & + & DDX11L1 & transcribed\\_unprocessed\\_pseudogene & $\\dots$ \\\\\n",
       "\t12 & 1 & exon & 13453 & 13670 & + & DDX11L1 & transcribed\\_unprocessed\\_pseudogene & $\\dots$ \\\\\n",
       "\t13 & 1 & gene & 14404 & 29570 & - & WASH7P & unprocessed\\_pseudogene & $\\dots$ \\\\\n",
       "\t14 & 1 & transcript & 14404 & 29570 & - & WASH7P & unprocessed\\_pseudogene & $\\dots$ \\\\\n",
       "\t15 & 1 & exon & 14404 & 14501 & - & WASH7P & unprocessed\\_pseudogene & $\\dots$ \\\\\n",
       "\t16 & 1 & exon & 15005 & 15038 & - & WASH7P & unprocessed\\_pseudogene & $\\dots$ \\\\\n",
       "\t17 & 1 & exon & 15796 & 15947 & - & WASH7P & unprocessed\\_pseudogene & $\\dots$ \\\\\n",
       "\t18 & 1 & exon & 16607 & 16765 & - & WASH7P & unprocessed\\_pseudogene & $\\dots$ \\\\\n",
       "\t19 & 1 & exon & 16858 & 17055 & - & WASH7P & unprocessed\\_pseudogene & $\\dots$ \\\\\n",
       "\t20 & 1 & exon & 17233 & 17368 & - & WASH7P & unprocessed\\_pseudogene & $\\dots$ \\\\\n",
       "\t21 & 1 & exon & 17606 & 17742 & - & WASH7P & unprocessed\\_pseudogene & $\\dots$ \\\\\n",
       "\t22 & 1 & exon & 17915 & 18061 & - & WASH7P & unprocessed\\_pseudogene & $\\dots$ \\\\\n",
       "\t23 & 1 & exon & 18268 & 18366 & - & WASH7P & unprocessed\\_pseudogene & $\\dots$ \\\\\n",
       "\t24 & 1 & exon & 24738 & 24891 & - & WASH7P & unprocessed\\_pseudogene & $\\dots$ \\\\\n",
       "\t25 & 1 & exon & 29534 & 29570 & - & WASH7P & unprocessed\\_pseudogene & $\\dots$ \\\\\n",
       "\t26 & 1 & gene & 29554 & 31109 & + & MIR1302-2HG & lncRNA & $\\dots$ \\\\\n",
       "\t27 & 1 & transcript & 29554 & 31097 & + & MIR1302-2HG & lncRNA & $\\dots$ \\\\\n",
       "\t28 & 1 & exon & 29554 & 30039 & + & MIR1302-2HG & lncRNA & $\\dots$ \\\\\n",
       "\t29 & 1 & exon & 30564 & 30667 & + & MIR1302-2HG & lncRNA & $\\dots$ \\\\\n",
       "\t30 & 1 & exon & 30976 & 31097 & + & MIR1302-2HG & lncRNA & $\\dots$ \\\\\n",
       "\t$\\dots$ & $\\dots$ & $\\dots$ & $\\dots$ & $\\dots$ & $\\dots$ & $\\dots$ & $\\dots$ &  \\\\\n",
       "\\end{tabular}\n"
      ],
      "text/plain": [
       "\u001b[1m2915984×8 DataFrame\u001b[0m\n",
       "\u001b[1m     Row \u001b[0m│\u001b[1m seqnames \u001b[0m\u001b[1m feature     \u001b[0m\u001b[1m start \u001b[0m\u001b[1m end   \u001b[0m\u001b[1m strand  \u001b[0m\u001b[1m gene_name \u001b[0m\u001b[1m gene_type \u001b[0m ⋯\n",
       "\u001b[1m         \u001b[0m│\u001b[90m String   \u001b[0m\u001b[90m String15    \u001b[0m\u001b[90m Int64 \u001b[0m\u001b[90m Int64 \u001b[0m\u001b[90m String1 \u001b[0m\u001b[90m SubStrin… \u001b[0m\u001b[90m SubStrin… \u001b[0m ⋯\n",
       "─────────┼──────────────────────────────────────────────────────────────────────\n",
       "       1 │ 1         gene         11869  14409  +        DDX11L1    transcribe ⋯\n",
       "       2 │ 1         transcript   11869  14409  +        DDX11L1    transcribe\n",
       "       3 │ 1         exon         11869  12227  +        DDX11L1    transcribe\n",
       "       4 │ 1         exon         12613  12721  +        DDX11L1    transcribe\n",
       "       5 │ 1         exon         13221  14409  +        DDX11L1    transcribe ⋯\n",
       "       6 │ 1         transcript   12010  13670  +        DDX11L1    transcribe\n",
       "       7 │ 1         exon         12010  12057  +        DDX11L1    transcribe\n",
       "       8 │ 1         exon         12179  12227  +        DDX11L1    transcribe\n",
       "       9 │ 1         exon         12613  12697  +        DDX11L1    transcribe ⋯\n",
       "      10 │ 1         exon         12975  13052  +        DDX11L1    transcribe\n",
       "      11 │ 1         exon         13221  13374  +        DDX11L1    transcribe\n",
       "    ⋮    │    ⋮           ⋮         ⋮      ⋮       ⋮         ⋮                 ⋱\n",
       " 2915975 │ M         transcript   14747  15887  +        MT-CYB     protein_co\n",
       " 2915976 │ M         exon         14747  15887  +        MT-CYB     protein_co ⋯\n",
       " 2915977 │ M         CDS          14747  15887  +        MT-CYB     protein_co\n",
       " 2915978 │ M         start_codon  14747  14749  +        MT-CYB     protein_co\n",
       " 2915979 │ M         gene         15888  15953  +        MT-TT      Mt_tRNA\n",
       " 2915980 │ M         transcript   15888  15953  +        MT-TT      Mt_tRNA    ⋯\n",
       " 2915981 │ M         exon         15888  15953  +        MT-TT      Mt_tRNA\n",
       " 2915982 │ M         gene         15956  16023  -        MT-TP      Mt_tRNA\n",
       " 2915983 │ M         transcript   15956  16023  -        MT-TP      Mt_tRNA\n",
       " 2915984 │ M         exon         15956  16023  -        MT-TP      Mt_tRNA    ⋯\n",
       "\u001b[36m                                              2 columns and 2915963 rows omitted\u001b[0m"
      ]
     },
     "execution_count": 6,
     "metadata": {},
     "output_type": "execute_result"
    }
   ],
   "source": [
    "# DataFrames\n",
    "summarystatsdfs = CSV.read.(summarystatsfilenames, DataFrame;\n",
    "                            header = [\"geneid\", \"snpid\", \"distance\", \"nominal\",\n",
    "                                      \"beta\", \"p\"])\n",
    "gencode = CSV.read(gencodefilename, DataFrame;\n",
    "                   delim = \"\\t\", comment = \"#\",\n",
    "                   header = [\"seqnames\", \"source\", \"feature\", \"start\", \"end\", \"score\", \n",
    "                             \"strand\", \"phase\", \"info\"])\n",
    "GeneticsMakie.parsegtf!(gencode)\n",
    "select!(gencode,\n",
    "        :seqnames, :feature, :start, :end, :strand,\n",
    "        :gene_name, :gene_type, :transcript_id)"
   ]
  },
  {
   "cell_type": "code",
   "execution_count": 7,
   "id": "7c61db43",
   "metadata": {},
   "outputs": [
    {
     "data": {
      "text/plain": [
       "4-element Vector{SnpData}:\n",
       " SnpData(people: 292, snps: 6381990,\n",
       "snp_info: \n",
       " Row │ chromosome  snpid        genetic_distance  position  allele1  allele2\n",
       "     │ String      String       Float64           Int64     String   String\n",
       "─────┼───────────────────────────────────────────────────────────────────────\n",
       "   1 │ 1           rs61769339                0.0    662622  A        G\n",
       "   2 │ 1           rs12238997                0.0    693731  G        A\n",
       "   3 │ 1           rs61769351                0.0    693823  C        G\n",
       "   4 │ 1           rs142559957               0.0    704637  A        G\n",
       "   5 │ 1           rs58276399                0.0    731718  C        T\n",
       "   6 │ 1           rs61770163                0.0    732032  C        A\n",
       "…,\n",
       "person_info: \n",
       " Row │ fid        iid        father     mother     sex        phenotype\n",
       "     │ Abstract…  Abstract…  Abstract…  Abstract…  Abstract…  Abstract…\n",
       "─────┼──────────────────────────────────────────────────────────────────\n",
       "   1 │ 898        898        0          0          0          -9\n",
       "   2 │ 1038       1038       0          0          0          -9\n",
       "   3 │ 1046       1046       0          0          0          -9\n",
       "   4 │ 1092       1092       0          0          0          -9\n",
       "   5 │ 1102       1102       0          0          0          -9\n",
       "   6 │ 1107       1107       0          0          0          -9\n",
       "…,\n",
       "srcbed: /u/project/gandalm/cindywen/isoform_twas/genotype/all_data/isec_R2_greater_than_3/ancestry/eur/filtered.hg19.sorted.bed\n",
       "srcbim: /u/project/gandalm/cindywen/isoform_twas/genotype/all_data/isec_R2_greater_than_3/ancestry/eur/filtered.hg19.sorted.bim\n",
       "srcfam: /u/project/gandalm/cindywen/isoform_twas/genotype/all_data/isec_R2_greater_than_3/ancestry/eur/filtered.hg19.sorted.fam\n",
       ")\n",
       " SnpData(people: 164, snps: 7290008,\n",
       "snp_info: \n",
       " Row │ chromosome  snpid        genetic_distance  position  allele1  allele2\n",
       "     │ String      String       Float64           Int64     String   String\n",
       "─────┼───────────────────────────────────────────────────────────────────────\n",
       "   1 │ 1           rs61769339                0.0    662622  A        G\n",
       "   2 │ 1           rs200188737               0.0    666249  T        C\n",
       "   3 │ 1           rs12238997                0.0    693731  G        A\n",
       "   4 │ 1           rs61769351                0.0    693823  C        G\n",
       "   5 │ 1           rs142559957               0.0    704637  A        G\n",
       "   6 │ 1           rs142576295               0.0    708075  G        A\n",
       "…,\n",
       "person_info: \n",
       " Row │ fid        iid        father     mother     sex        phenotype\n",
       "     │ Abstract…  Abstract…  Abstract…  Abstract…  Abstract…  Abstract…\n",
       "─────┼──────────────────────────────────────────────────────────────────\n",
       "   1 │ 1474       1474       0          0          0          -9\n",
       "   2 │ 1496       1496       0          0          0          -9\n",
       "   3 │ 1502       1502       0          0          0          -9\n",
       "   4 │ 1507       1507       0          0          0          -9\n",
       "   5 │ 1511       1511       0          0          0          -9\n",
       "   6 │ 1513       1513       0          0          0          -9\n",
       "…,\n",
       "srcbed: /u/project/gandalm/cindywen/isoform_twas/genotype/all_data/isec_R2_greater_than_3/ancestry/amr/filtered.hg19.sorted.bed\n",
       "srcbim: /u/project/gandalm/cindywen/isoform_twas/genotype/all_data/isec_R2_greater_than_3/ancestry/amr/filtered.hg19.sorted.bim\n",
       "srcfam: /u/project/gandalm/cindywen/isoform_twas/genotype/all_data/isec_R2_greater_than_3/ancestry/amr/filtered.hg19.sorted.fam\n",
       ")\n",
       " SnpData(people: 145, snps: 8723314,\n",
       "snp_info: \n",
       " Row │ chromosome  snpid        genetic_distance  position  allele1  allele2\n",
       "     │ String      String       Float64           Int64     String   String\n",
       "─────┼───────────────────────────────────────────────────────────────────────\n",
       "   1 │ 1           rs61769339                0.0    662622  A        G\n",
       "   2 │ 1           rs200188737               0.0    666249  T        C\n",
       "   3 │ 1           rs12238997                0.0    693731  G        A\n",
       "   4 │ 1           rs61769351                0.0    693823  C        G\n",
       "   5 │ 1           rs142559957               0.0    704637  A        G\n",
       "   6 │ 1           rs142576295               0.0    708075  G        A\n",
       "…,\n",
       "person_info: \n",
       " Row │ fid        iid        father     mother     sex        phenotype\n",
       "     │ Abstract…  Abstract…  Abstract…  Abstract…  Abstract…  Abstract…\n",
       "─────┼──────────────────────────────────────────────────────────────────\n",
       "   1 │ 1525       1525       0          0          0          -9\n",
       "   2 │ 1531       1531       0          0          0          -9\n",
       "   3 │ 1537       1537       0          0          0          -9\n",
       "   4 │ 1543       1543       0          0          0          -9\n",
       "   5 │ 1552       1552       0          0          0          -9\n",
       "   6 │ 1607       1607       0          0          0          -9\n",
       "…,\n",
       "srcbed: /u/project/gandalm/cindywen/isoform_twas/genotype/all_data/isec_R2_greater_than_3/ancestry/afr/filtered.hg19.sorted.bed\n",
       "srcbim: /u/project/gandalm/cindywen/isoform_twas/genotype/all_data/isec_R2_greater_than_3/ancestry/afr/filtered.hg19.sorted.bim\n",
       "srcfam: /u/project/gandalm/cindywen/isoform_twas/genotype/all_data/isec_R2_greater_than_3/ancestry/afr/filtered.hg19.sorted.fam\n",
       ")\n",
       " SnpData(people: 654, snps: 8420206,\n",
       "snp_info: \n",
       " Row │ chromosome  snpid        genetic_distance  position  allele1  allele2\n",
       "     │ String      String       Float64           Int64     String   String\n",
       "─────┼───────────────────────────────────────────────────────────────────────\n",
       "   1 │ 1           rs61769339                0.0    662622  A        G\n",
       "   2 │ 1           rs200188737               0.0    666249  T        C\n",
       "   3 │ 1           rs12238997                0.0    693731  G        A\n",
       "   4 │ 1           rs61769351                0.0    693823  C        G\n",
       "   5 │ 1           rs142559957               0.0    704637  A        G\n",
       "   6 │ 1           rs142576295               0.0    708075  G        A\n",
       "…,\n",
       "person_info: \n",
       " Row │ fid        iid        father     mother     sex        phenotype\n",
       "     │ Abstract…  Abstract…  Abstract…  Abstract…  Abstract…  Abstract…\n",
       "─────┼──────────────────────────────────────────────────────────────────\n",
       "   1 │ 849        849        0          0          0          -9\n",
       "   2 │ 898        898        0          0          0          -9\n",
       "   3 │ 1038       1038       0          0          0          -9\n",
       "   4 │ 1039       1039       0          0          0          -9\n",
       "   5 │ 1046       1046       0          0          0          -9\n",
       "   6 │ 1092       1092       0          0          0          -9\n",
       "…,\n",
       "srcbed: /u/project/gandalm/cindywen/isoform_twas/genotype/all_data/isec_R2_greater_than_3/ancestry/filtered.hg19.sorted.bed\n",
       "srcbim: /u/project/gandalm/cindywen/isoform_twas/genotype/all_data/isec_R2_greater_than_3/ancestry/filtered.hg19.sorted.bim\n",
       "srcfam: /u/project/gandalm/cindywen/isoform_twas/genotype/all_data/isec_R2_greater_than_3/ancestry/filtered.hg19.sorted.fam\n",
       ")"
      ]
     },
     "execution_count": 7,
     "metadata": {},
     "output_type": "execute_result"
    }
   ],
   "source": [
    "# SnpData\n",
    "genotypesnpdatas = [SnpData(genof) for genof in genotypefilenames]"
   ]
  },
  {
   "cell_type": "code",
   "execution_count": 8,
   "id": "d495216e",
   "metadata": {},
   "outputs": [
    {
     "ename": "LoadError",
     "evalue": "ArgumentError: column name :Z not found in the data frame; existing most similar names are: :P and :BP",
     "output_type": "error",
     "traceback": [
      "ArgumentError: column name :Z not found in the data frame; existing most similar names are: :P and :BP",
      "",
      "Stacktrace:",
      " [1] lookupname",
      "   @ ~/.julia/packages/DataFrames/zqFGs/src/other/index.jl:395 [inlined]",
      " [2] getindex",
      "   @ ~/.julia/packages/DataFrames/zqFGs/src/other/index.jl:401 [inlined]",
      " [3] getindex(df::DataFrame, #unused#::typeof(!), col_ind::Symbol)",
      "   @ DataFrames ~/.julia/packages/DataFrames/zqFGs/src/dataframe/dataframe.jl:525",
      " [4] getproperty",
      "   @ ~/.julia/packages/DataFrames/zqFGs/src/abstractdataframe/abstractdataframe.jl:378 [inlined]",
      " [5] mungezscore!(gwas::DataFrame)",
      "   @ GeneticsMakie ~/.julia/packages/GeneticsMakie/VOVOo/src/mungesumstats.jl:152",
      " [6] mungesumstats!(gwas::Vector{DataFrame})",
      "   @ GeneticsMakie ~/.julia/packages/GeneticsMakie/VOVOo/src/mungesumstats.jl:204",
      " [7] top-level scope",
      "   @ In[8]:5",
      " [8] eval",
      "   @ ./boot.jl:360 [inlined]",
      " [9] include_string(mapexpr::typeof(REPL.softscope), mod::Module, code::String, filename::String)",
      "   @ Base ./loading.jl:1116"
     ]
    }
   ],
   "source": [
    "# Pre-processing data\n",
    "summarystatsdfs = [innerjoin(select(genotypesnpdatas[4].snp_info,\n",
    "                                    :chromosome, :snpid, :position),\n",
    "                             df; on = :snpid) for df in summarystatsdfs]\n",
    "GeneticsMakie.mungesumstats!(summarystatsdfs)"
   ]
  },
  {
   "cell_type": "markdown",
   "id": "a2198fb4",
   "metadata": {},
   "source": [
    "# Plotting LocusZoom plots\n",
    "\n",
    "Set the SNP ID you want a plot of in the first cell below"
   ]
  },
  {
   "cell_type": "code",
   "execution_count": 7,
   "id": "f193b1f3",
   "metadata": {},
   "outputs": [
    {
     "data": {
      "text/plain": [
       "\"rs68167505\""
      ]
     },
     "execution_count": 7,
     "metadata": {},
     "output_type": "execute_result"
    }
   ],
   "source": [
    "snpid = \"rs68167505\""
   ]
  },
  {
   "cell_type": "code",
   "execution_count": 8,
   "id": "4099e054",
   "metadata": {},
   "outputs": [
    {
     "name": "stdout",
     "output_type": "stream",
     "text": [
      "\u001b[1m1×6 DataFrame\u001b[0m\n",
      "\u001b[1m Row \u001b[0m│\u001b[1m chromosome \u001b[0m\u001b[1m snpid      \u001b[0m\u001b[1m genetic_distance \u001b[0m\u001b[1m position \u001b[0m\u001b[1m allele1 \u001b[0m\u001b[1m allele2 \u001b[0m\n",
      "\u001b[1m     \u001b[0m│\u001b[90m String     \u001b[0m\u001b[90m String     \u001b[0m\u001b[90m Float64          \u001b[0m\u001b[90m Int64    \u001b[0m\u001b[90m String  \u001b[0m\u001b[90m String  \u001b[0m\n",
      "─────┼──────────────────────────────────────────────────────────────────────\n",
      "   1 │ 8           rs68167505               0.0  66557533  C        T\n"
     ]
    }
   ],
   "source": [
    "# Finding locus\n",
    "chr = subset(genotypesnpdatas[4].snp_info,\n",
    "                    :snpid => col -> col .== snpid)[1, :chromosome]\n",
    "start = subset(genotypesnpdatas[4].snp_info,\n",
    "                    :snpid => col -> col .== snpid)[1, :position]\n",
    "stop = start\n",
    "range1 = start - 1e6\n",
    "range2 = stop + 1e6\n",
    "n = length(pops)\n",
    "titles = [\"EUR\", \"AMR\", \"AFR\", \"Mixed\"]\n",
    "println(subset(genotypesnpdatas[4].snp_info, :snpid => col -> col .== snpid))\n"
   ]
  },
  {
   "cell_type": "code",
   "execution_count": 9,
   "id": "778f3d2e",
   "metadata": {},
   "outputs": [
    {
     "data": {
      "image/png": "[encoded data removed]",
      "text/plain": [
       "Figure()"
      ]
     },
     "execution_count": 9,
     "metadata": {},
     "output_type": "execute_result"
    }
   ],
   "source": [
    "# Plotting locuszoom plots\n",
    "CairoMakie.activate!(type = \"png\")\n",
    "f = Figure(resolution = (306, 792))\n",
    "axs = [Axis(f[i, 1]) for i in 1:(1 + length(pops))]\n",
    "for i in 1:n\n",
    "    ldfilename = tempname()\n",
    "    SnpArrays.filter(genotypefilenames[i],\n",
    "                     1:size(genotypesnpdatas[i].snparray, 1),\n",
    "                     findall(row -> row.chromosome == chr &&\n",
    "                             range1 <= row.position <= range2,\n",
    "                             eachrow(genotypesnpdatas[i].snp_info));\n",
    "                     des = ldfilename)\n",
    "    GeneticsMakie.plotlocus!(axs[i], chr, range1, range2, summarystatsdfs[i];\n",
    "                             ld = (SnpData(ldfilename), snpid))\n",
    "    rowsize!(f.layout, i, 30)\n",
    "    Label(f[i, 1, Top()], titles[i];\n",
    "          textsize = 6, halign = :left, padding = (7.5, 0, -5, 0))\n",
    "end\n",
    "rs = GeneticsMakie.plotgenes!(axs[n + 1], chr, range1, range2, gencode; height = 0.1)\n",
    "rowsize!(f.layout, n + 1, rs)\n",
    "GeneticsMakie.labelgenome(f[n + 1, 1, Bottom()], chr, range1, range2)\n",
    "Colorbar(f[1:n, 2], limits = (0, 1), ticks = 0:1:1, height = 20,\n",
    "         colormap = (:gray60, :red2), label = \"LD\", ticksize = 0, tickwidth = 0,\n",
    "         tickalign = 0, ticklabelsize = 6, flip_vertical_label = true,\n",
    "         labelsize = 6, width = 5, spinewidth = 0.5)\n",
    "Label(f[1:n, 0], text = \"-log[p]\", textsize = 6, rotation = pi / 2)\n",
    "rowgap!(f.layout, 5)\n",
    "colgap!(f.layout, 5)\n",
    "resize_to_layout!(f)\n",
    "f"
   ]
  },
  {
   "cell_type": "markdown",
   "id": "48c71204",
   "metadata": {},
   "source": [
    "# Save file\n",
    "\n",
    "Set filename in cell below"
   ]
  },
  {
   "cell_type": "code",
   "execution_count": 10,
   "id": "c7b26023",
   "metadata": {},
   "outputs": [
    {
     "data": {
      "text/plain": [
       "\"\""
      ]
     },
     "execution_count": 10,
     "metadata": {},
     "output_type": "execute_result"
    }
   ],
   "source": [
    "CairoMakie.activate!(type = \"png\")\n",
    "outputfilename = \"\"\n",
    "# save(filename, f, px_per_unit = 4)"
   ]
  }
 ],
 "metadata": {
  "kernelspec": {
   "display_name": "Julia 1.6.5",
   "language": "julia",
   "name": "julia-1.6"
  },
  "language_info": {
   "file_extension": ".jl",
   "mimetype": "application/julia",
   "name": "julia",
   "version": "1.6.5"
  }
 },
 "nbformat": 4,
 "nbformat_minor": 5
}
