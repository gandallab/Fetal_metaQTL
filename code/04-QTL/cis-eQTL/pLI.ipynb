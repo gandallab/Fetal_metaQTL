{
 "cells": [
  {
   "cell_type": "markdown",
   "id": "416dfd57",
   "metadata": {},
   "source": [
    "# Gene constraint pLI analysis"
   ]
  },
  {
   "cell_type": "code",
   "execution_count": 35,
   "id": "4b9c5351",
   "metadata": {},
   "outputs": [],
   "source": [
    "library(data.table)\n",
    "library(tidyverse)\n",
    "library(ggsignif)"
   ]
  },
  {
   "cell_type": "markdown",
   "id": "354991d4",
   "metadata": {},
   "source": [
    "**Read genomAD ExAC gene constraint**\n",
    "- info for 18225 unique genes, some have alternative cnv related info"
   ]
  },
  {
   "cell_type": "code",
   "execution_count": 2,
   "id": "cba4783c",
   "metadata": {},
   "outputs": [
    {
     "data": {
      "text/html": [
       "<table class=\"dataframe\">\n",
       "<caption>A data.frame: 6 x 23</caption>\n",
       "<thead>\n",
       "\t<tr><th></th><th scope=col>transcript</th><th scope=col>gene</th><th scope=col>chr</th><th scope=col>n_exons</th><th scope=col>tx_start</th><th scope=col>tx_end</th><th scope=col>bp</th><th scope=col>mu_syn</th><th scope=col>mu_mis</th><th scope=col>mu_lof</th><th scope=col>...</th><th scope=col>exp_syn</th><th scope=col>exp_mis</th><th scope=col>exp_lof</th><th scope=col>syn_z</th><th scope=col>mis_z</th><th scope=col>lof_z</th><th scope=col>pLI</th><th scope=col>n_cnv</th><th scope=col>exp_cnv</th><th scope=col>cnv_z</th></tr>\n",
       "\t<tr><th></th><th scope=col>&lt;chr&gt;</th><th scope=col>&lt;chr&gt;</th><th scope=col>&lt;chr&gt;</th><th scope=col>&lt;int&gt;</th><th scope=col>&lt;int&gt;</th><th scope=col>&lt;int&gt;</th><th scope=col>&lt;int&gt;</th><th scope=col>&lt;dbl&gt;</th><th scope=col>&lt;dbl&gt;</th><th scope=col>&lt;dbl&gt;</th><th scope=col>...</th><th scope=col>&lt;dbl&gt;</th><th scope=col>&lt;dbl&gt;</th><th scope=col>&lt;dbl&gt;</th><th scope=col>&lt;dbl&gt;</th><th scope=col>&lt;dbl&gt;</th><th scope=col>&lt;dbl&gt;</th><th scope=col>&lt;dbl&gt;</th><th scope=col>&lt;dbl&gt;</th><th scope=col>&lt;dbl&gt;</th><th scope=col>&lt;dbl&gt;</th></tr>\n",
       "</thead>\n",
       "<tbody>\n",
       "\t<tr><th scope=row>1</th><td>ENST00000263100.3</td><td>A1BG   </td><td>19</td><td> 8</td><td>58858387</td><td>58864803</td><td>1488</td><td>1.226238e-05</td><td>2.313709e-05</td><td>1.001499e-06</td><td>...</td><td>104.72874</td><td>199.8078</td><td>12.301382</td><td> 1.07397341</td><td> 1.0314310</td><td> 1.2148449</td><td>9.064924e-05</td><td>  3</td><td> 3.609902</td><td> 0.1114399</td></tr>\n",
       "\t<tr><th scope=row>2</th><td>ENST00000373995.3</td><td>A1CF   </td><td>10</td><td>11</td><td>52566488</td><td>52610547</td><td>1785</td><td>6.398919e-06</td><td>1.544409e-05</td><td>1.898738e-06</td><td>...</td><td> 76.69884</td><td>178.5860</td><td>25.936584</td><td>-0.65840371</td><td> 0.3874580</td><td> 3.2942701</td><td>3.619701e-03</td><td>NaN</td><td>      NaN</td><td>       NaN</td></tr>\n",
       "\t<tr><th scope=row>3</th><td>ENST00000318602.7</td><td>A2M    </td><td>12</td><td>36</td><td> 9220418</td><td> 9268445</td><td>4425</td><td>1.762405e-05</td><td>4.048718e-05</td><td>3.983987e-06</td><td>...</td><td>187.60270</td><td>414.5167</td><td>51.706092</td><td> 0.02727917</td><td> 0.5169173</td><td> 4.9188223</td><td>5.401149e-04</td><td>  3</td><td> 8.706319</td><td> 0.8335034</td></tr>\n",
       "\t<tr><th scope=row>4</th><td>ENST00000299698.7</td><td>A2ML1  </td><td>12</td><td>35</td><td> 8975247</td><td> 9027607</td><td>4365</td><td>1.787013e-05</td><td>4.015104e-05</td><td>3.712316e-06</td><td>...</td><td>216.07566</td><td>467.0402</td><td>56.064599</td><td>-0.41854908</td><td>-0.7912401</td><td> 1.8606843</td><td>1.329022e-22</td><td> 63</td><td>11.846831</td><td>-2.2814308</td></tr>\n",
       "\t<tr><th scope=row>5</th><td>ENST00000442999.3</td><td>A3GALT2</td><td>1 </td><td> 5</td><td>33772366</td><td>33786699</td><td>1023</td><td>1.013949e-05</td><td>1.867596e-05</td><td>7.352112e-07</td><td>...</td><td> 83.27799</td><td>153.7933</td><td> 8.016677</td><td> 2.32862595</td><td> 1.9638967</td><td>-0.3440241</td><td>6.503026e-07</td><td> 70</td><td> 2.768617</td><td>-3.6581477</td></tr>\n",
       "\t<tr><th scope=row>6</th><td>ENST00000401850.1</td><td>A4GALT </td><td>22</td><td> 1</td><td>43088895</td><td>43089957</td><td>1062</td><td>8.501714e-06</td><td>1.641234e-05</td><td>3.955250e-07</td><td>...</td><td> 96.74529</td><td>186.3743</td><td> 4.900477</td><td> 0.61422759</td><td> 1.1240807</td><td> 1.2978961</td><td>1.115987e-01</td><td>  2</td><td> 1.082622</td><td>-0.2080141</td></tr>\n",
       "</tbody>\n",
       "</table>\n"
      ],
      "text/latex": [
       "A data.frame: 6 x 23\n",
       "\\begin{tabular}{r|lllllllllllllllllllll}\n",
       "  & transcript & gene & chr & n\\_exons & tx\\_start & tx\\_end & bp & mu\\_syn & mu\\_mis & mu\\_lof & ... & exp\\_syn & exp\\_mis & exp\\_lof & syn\\_z & mis\\_z & lof\\_z & pLI & n\\_cnv & exp\\_cnv & cnv\\_z\\\\\n",
       "  & <chr> & <chr> & <chr> & <int> & <int> & <int> & <int> & <dbl> & <dbl> & <dbl> & ... & <dbl> & <dbl> & <dbl> & <dbl> & <dbl> & <dbl> & <dbl> & <dbl> & <dbl> & <dbl>\\\\\n",
       "\\hline\n",
       "\t1 & ENST00000263100.3 & A1BG    & 19 &  8 & 58858387 & 58864803 & 1488 & 1.226238e-05 & 2.313709e-05 & 1.001499e-06 & ... & 104.72874 & 199.8078 & 12.301382 &  1.07397341 &  1.0314310 &  1.2148449 & 9.064924e-05 &   3 &  3.609902 &  0.1114399\\\\\n",
       "\t2 & ENST00000373995.3 & A1CF    & 10 & 11 & 52566488 & 52610547 & 1785 & 6.398919e-06 & 1.544409e-05 & 1.898738e-06 & ... &  76.69884 & 178.5860 & 25.936584 & -0.65840371 &  0.3874580 &  3.2942701 & 3.619701e-03 & NaN &       NaN &        NaN\\\\\n",
       "\t3 & ENST00000318602.7 & A2M     & 12 & 36 &  9220418 &  9268445 & 4425 & 1.762405e-05 & 4.048718e-05 & 3.983987e-06 & ... & 187.60270 & 414.5167 & 51.706092 &  0.02727917 &  0.5169173 &  4.9188223 & 5.401149e-04 &   3 &  8.706319 &  0.8335034\\\\\n",
       "\t4 & ENST00000299698.7 & A2ML1   & 12 & 35 &  8975247 &  9027607 & 4365 & 1.787013e-05 & 4.015104e-05 & 3.712316e-06 & ... & 216.07566 & 467.0402 & 56.064599 & -0.41854908 & -0.7912401 &  1.8606843 & 1.329022e-22 &  63 & 11.846831 & -2.2814308\\\\\n",
       "\t5 & ENST00000442999.3 & A3GALT2 & 1  &  5 & 33772366 & 33786699 & 1023 & 1.013949e-05 & 1.867596e-05 & 7.352112e-07 & ... &  83.27799 & 153.7933 &  8.016677 &  2.32862595 &  1.9638967 & -0.3440241 & 6.503026e-07 &  70 &  2.768617 & -3.6581477\\\\\n",
       "\t6 & ENST00000401850.1 & A4GALT  & 22 &  1 & 43088895 & 43089957 & 1062 & 8.501714e-06 & 1.641234e-05 & 3.955250e-07 & ... &  96.74529 & 186.3743 &  4.900477 &  0.61422759 &  1.1240807 &  1.2978961 & 1.115987e-01 &   2 &  1.082622 & -0.2080141\\\\\n",
       "\\end{tabular}\n"
      ],
      "text/markdown": [
       "\n",
       "A data.frame: 6 x 23\n",
       "\n",
       "| <!--/--> | transcript &lt;chr&gt; | gene &lt;chr&gt; | chr &lt;chr&gt; | n_exons &lt;int&gt; | tx_start &lt;int&gt; | tx_end &lt;int&gt; | bp &lt;int&gt; | mu_syn &lt;dbl&gt; | mu_mis &lt;dbl&gt; | mu_lof &lt;dbl&gt; | ... ... | exp_syn &lt;dbl&gt; | exp_mis &lt;dbl&gt; | exp_lof &lt;dbl&gt; | syn_z &lt;dbl&gt; | mis_z &lt;dbl&gt; | lof_z &lt;dbl&gt; | pLI &lt;dbl&gt; | n_cnv &lt;dbl&gt; | exp_cnv &lt;dbl&gt; | cnv_z &lt;dbl&gt; |\n",
       "|---|---|---|---|---|---|---|---|---|---|---|---|---|---|---|---|---|---|---|---|---|---|\n",
       "| 1 | ENST00000263100.3 | A1BG    | 19 |  8 | 58858387 | 58864803 | 1488 | 1.226238e-05 | 2.313709e-05 | 1.001499e-06 | ... | 104.72874 | 199.8078 | 12.301382 |  1.07397341 |  1.0314310 |  1.2148449 | 9.064924e-05 |   3 |  3.609902 |  0.1114399 |\n",
       "| 2 | ENST00000373995.3 | A1CF    | 10 | 11 | 52566488 | 52610547 | 1785 | 6.398919e-06 | 1.544409e-05 | 1.898738e-06 | ... |  76.69884 | 178.5860 | 25.936584 | -0.65840371 |  0.3874580 |  3.2942701 | 3.619701e-03 | NaN |       NaN |        NaN |\n",
       "| 3 | ENST00000318602.7 | A2M     | 12 | 36 |  9220418 |  9268445 | 4425 | 1.762405e-05 | 4.048718e-05 | 3.983987e-06 | ... | 187.60270 | 414.5167 | 51.706092 |  0.02727917 |  0.5169173 |  4.9188223 | 5.401149e-04 |   3 |  8.706319 |  0.8335034 |\n",
       "| 4 | ENST00000299698.7 | A2ML1   | 12 | 35 |  8975247 |  9027607 | 4365 | 1.787013e-05 | 4.015104e-05 | 3.712316e-06 | ... | 216.07566 | 467.0402 | 56.064599 | -0.41854908 | -0.7912401 |  1.8606843 | 1.329022e-22 |  63 | 11.846831 | -2.2814308 |\n",
       "| 5 | ENST00000442999.3 | A3GALT2 | 1  |  5 | 33772366 | 33786699 | 1023 | 1.013949e-05 | 1.867596e-05 | 7.352112e-07 | ... |  83.27799 | 153.7933 |  8.016677 |  2.32862595 |  1.9638967 | -0.3440241 | 6.503026e-07 |  70 |  2.768617 | -3.6581477 |\n",
       "| 6 | ENST00000401850.1 | A4GALT  | 22 |  1 | 43088895 | 43089957 | 1062 | 8.501714e-06 | 1.641234e-05 | 3.955250e-07 | ... |  96.74529 | 186.3743 |  4.900477 |  0.61422759 |  1.1240807 |  1.2978961 | 1.115987e-01 |   2 |  1.082622 | -0.2080141 |\n",
       "\n"
      ],
      "text/plain": [
       "  transcript        gene    chr n_exons tx_start tx_end   bp   mu_syn      \n",
       "1 ENST00000263100.3 A1BG    19   8      58858387 58864803 1488 1.226238e-05\n",
       "2 ENST00000373995.3 A1CF    10  11      52566488 52610547 1785 6.398919e-06\n",
       "3 ENST00000318602.7 A2M     12  36       9220418  9268445 4425 1.762405e-05\n",
       "4 ENST00000299698.7 A2ML1   12  35       8975247  9027607 4365 1.787013e-05\n",
       "5 ENST00000442999.3 A3GALT2 1    5      33772366 33786699 1023 1.013949e-05\n",
       "6 ENST00000401850.1 A4GALT  22   1      43088895 43089957 1062 8.501714e-06\n",
       "  mu_mis       mu_lof       ... exp_syn   exp_mis  exp_lof   syn_z      \n",
       "1 2.313709e-05 1.001499e-06 ... 104.72874 199.8078 12.301382  1.07397341\n",
       "2 1.544409e-05 1.898738e-06 ...  76.69884 178.5860 25.936584 -0.65840371\n",
       "3 4.048718e-05 3.983987e-06 ... 187.60270 414.5167 51.706092  0.02727917\n",
       "4 4.015104e-05 3.712316e-06 ... 216.07566 467.0402 56.064599 -0.41854908\n",
       "5 1.867596e-05 7.352112e-07 ...  83.27799 153.7933  8.016677  2.32862595\n",
       "6 1.641234e-05 3.955250e-07 ...  96.74529 186.3743  4.900477  0.61422759\n",
       "  mis_z      lof_z      pLI          n_cnv exp_cnv   cnv_z     \n",
       "1  1.0314310  1.2148449 9.064924e-05   3    3.609902  0.1114399\n",
       "2  0.3874580  3.2942701 3.619701e-03 NaN         NaN        NaN\n",
       "3  0.5169173  4.9188223 5.401149e-04   3    8.706319  0.8335034\n",
       "4 -0.7912401  1.8606843 1.329022e-22  63   11.846831 -2.2814308\n",
       "5  1.9638967 -0.3440241 6.503026e-07  70    2.768617 -3.6581477\n",
       "6  1.1240807  1.2978961 1.115987e-01   2    1.082622 -0.2080141"
      ]
     },
     "metadata": {},
     "output_type": "display_data"
    }
   ],
   "source": [
    "exac <- fread(\"/u/project/gandalm/shared/refGenomes/gnomAD_ExAC/forweb_cleaned_exac_r03_march16_z_data_pLI_CNV-final.txt.gz\", \n",
    "              data.table = F)\n",
    "head(exac)"
   ]
  },
  {
   "cell_type": "code",
   "execution_count": 3,
   "id": "b551c765",
   "metadata": {},
   "outputs": [
    {
     "data": {
      "text/html": [
       "<style>\n",
       ".list-inline {list-style: none; margin:0; padding: 0}\n",
       ".list-inline>li {display: inline-block}\n",
       ".list-inline>li:not(:last-child)::after {content: \"\\00b7\"; padding: 0 .5ex}\n",
       "</style>\n",
       "<ol class=list-inline><li>18282</li><li>23</li></ol>\n"
      ],
      "text/latex": [
       "\\begin{enumerate*}\n",
       "\\item 18282\n",
       "\\item 23\n",
       "\\end{enumerate*}\n"
      ],
      "text/markdown": [
       "1. 18282\n",
       "2. 23\n",
       "\n",
       "\n"
      ],
      "text/plain": [
       "[1] 18282    23"
      ]
     },
     "metadata": {},
     "output_type": "display_data"
    },
    {
     "data": {
      "text/html": [
       "18225"
      ],
      "text/latex": [
       "18225"
      ],
      "text/markdown": [
       "18225"
      ],
      "text/plain": [
       "[1] 18225"
      ]
     },
     "metadata": {},
     "output_type": "display_data"
    },
    {
     "data": {
      "text/html": [
       "18225"
      ],
      "text/latex": [
       "18225"
      ],
      "text/markdown": [
       "18225"
      ],
      "text/plain": [
       "[1] 18225"
      ]
     },
     "metadata": {},
     "output_type": "display_data"
    }
   ],
   "source": [
    "dim(exac)\n",
    "length(unique(exac$transcript))\n",
    "length(unique(exac$gene))"
   ]
  },
  {
   "cell_type": "code",
   "execution_count": 49,
   "id": "a7544c73",
   "metadata": {},
   "outputs": [
    {
     "data": {
      "text/html": [
       "<table class=\"dataframe\">\n",
       "<caption>A data.frame: 6 x 23</caption>\n",
       "<thead>\n",
       "\t<tr><th></th><th scope=col>transcript</th><th scope=col>gene</th><th scope=col>chr</th><th scope=col>n_exons</th><th scope=col>tx_start</th><th scope=col>tx_end</th><th scope=col>bp</th><th scope=col>mu_syn</th><th scope=col>mu_mis</th><th scope=col>mu_lof</th><th scope=col>...</th><th scope=col>exp_syn</th><th scope=col>exp_mis</th><th scope=col>exp_lof</th><th scope=col>syn_z</th><th scope=col>mis_z</th><th scope=col>lof_z</th><th scope=col>pLI</th><th scope=col>n_cnv</th><th scope=col>exp_cnv</th><th scope=col>cnv_z</th></tr>\n",
       "\t<tr><th></th><th scope=col>&lt;chr&gt;</th><th scope=col>&lt;chr&gt;</th><th scope=col>&lt;chr&gt;</th><th scope=col>&lt;int&gt;</th><th scope=col>&lt;int&gt;</th><th scope=col>&lt;int&gt;</th><th scope=col>&lt;int&gt;</th><th scope=col>&lt;dbl&gt;</th><th scope=col>&lt;dbl&gt;</th><th scope=col>&lt;dbl&gt;</th><th scope=col>...</th><th scope=col>&lt;dbl&gt;</th><th scope=col>&lt;dbl&gt;</th><th scope=col>&lt;dbl&gt;</th><th scope=col>&lt;dbl&gt;</th><th scope=col>&lt;dbl&gt;</th><th scope=col>&lt;dbl&gt;</th><th scope=col>&lt;dbl&gt;</th><th scope=col>&lt;dbl&gt;</th><th scope=col>&lt;dbl&gt;</th><th scope=col>&lt;dbl&gt;</th></tr>\n",
       "</thead>\n",
       "<tbody>\n",
       "\t<tr><th scope=row>177</th><td>ENST00000290866.4</td><td>ACE  </td><td>17</td><td>25</td><td> 61554455</td><td> 61574727</td><td>3921</td><td>2.505688e-05</td><td>4.879264e-05</td><td>3.489547e-06</td><td>...</td><td>255.36203</td><td>497.51069</td><td>46.684991</td><td>-1.0722052</td><td>-1.0633131</td><td> 1.8390400</td><td>4.632829e-18</td><td> 6</td><td> 7.560355</td><td>0.20763479</td></tr>\n",
       "\t<tr><th scope=row>581</th><td>ENST00000531154.1</td><td>ALG9 </td><td>11</td><td>11</td><td>111657120</td><td>111731321</td><td>1344</td><td>4.546618e-06</td><td>1.138693e-05</td><td>1.275424e-06</td><td>...</td><td> 55.10152</td><td>131.13853</td><td>18.647516</td><td> 0.4260566</td><td> 0.8174463</td><td> 2.4424601</td><td>1.225309e-03</td><td> 4</td><td> 5.889465</td><td>0.29371505</td></tr>\n",
       "\t<tr><th scope=row>888</th><td>ENST00000311813.4</td><td>AQP1 </td><td>7 </td><td> 4</td><td> 30951524</td><td> 30963244</td><td> 810</td><td>5.831033e-06</td><td>1.091759e-05</td><td>4.713438e-07</td><td>...</td><td> 66.54603</td><td>122.94933</td><td> 6.891873</td><td> 0.1934870</td><td> 1.1887784</td><td> 1.4685195</td><td>4.992564e-02</td><td> 5</td><td> 8.088807</td><td>0.41948559</td></tr>\n",
       "\t<tr><th scope=row>2911</th><td>ENST00000287202.5</td><td>CELF6</td><td>15</td><td>12</td><td> 72579605</td><td> 72612215</td><td>1446</td><td>1.255576e-05</td><td>2.172531e-05</td><td>1.187156e-06</td><td>...</td><td> 84.98649</td><td>153.14966</td><td>13.164702</td><td> 2.3527451</td><td> 2.8121043</td><td> 2.7751012</td><td>3.768070e-01</td><td> 1</td><td> 4.305782</td><td>0.65904281</td></tr>\n",
       "\t<tr><th scope=row>2986</th><td>ENST00000425368.2</td><td>CFB  </td><td>6 </td><td>18</td><td> 31913998</td><td> 31919807</td><td>2295</td><td>9.891069e-06</td><td>2.360029e-05</td><td>2.092371e-06</td><td>...</td><td>119.61161</td><td>274.93988</td><td>31.250734</td><td> 1.5084600</td><td> 2.2106026</td><td> 3.5883955</td><td>9.788594e-04</td><td>11</td><td>11.669355</td><td>0.06529796</td></tr>\n",
       "\t<tr><th scope=row>3611</th><td>ENST00000330233.7</td><td>CRIP1</td><td>14</td><td> 4</td><td>105953596</td><td>105954848</td><td> 234</td><td>1.549716e-06</td><td>2.862700e-06</td><td>2.372462e-07</td><td>...</td><td> 17.04347</td><td> 29.48948</td><td> 3.562405</td><td> 0.9075212</td><td>-0.5864063</td><td>-0.2296625</td><td>1.357960e-03</td><td> 3</td><td> 3.492841</td><td>0.09078386</td></tr>\n",
       "</tbody>\n",
       "</table>\n"
      ],
      "text/latex": [
       "A data.frame: 6 x 23\n",
       "\\begin{tabular}{r|lllllllllllllllllllll}\n",
       "  & transcript & gene & chr & n\\_exons & tx\\_start & tx\\_end & bp & mu\\_syn & mu\\_mis & mu\\_lof & ... & exp\\_syn & exp\\_mis & exp\\_lof & syn\\_z & mis\\_z & lof\\_z & pLI & n\\_cnv & exp\\_cnv & cnv\\_z\\\\\n",
       "  & <chr> & <chr> & <chr> & <int> & <int> & <int> & <int> & <dbl> & <dbl> & <dbl> & ... & <dbl> & <dbl> & <dbl> & <dbl> & <dbl> & <dbl> & <dbl> & <dbl> & <dbl> & <dbl>\\\\\n",
       "\\hline\n",
       "\t177 & ENST00000290866.4 & ACE   & 17 & 25 &  61554455 &  61574727 & 3921 & 2.505688e-05 & 4.879264e-05 & 3.489547e-06 & ... & 255.36203 & 497.51069 & 46.684991 & -1.0722052 & -1.0633131 &  1.8390400 & 4.632829e-18 &  6 &  7.560355 & 0.20763479\\\\\n",
       "\t581 & ENST00000531154.1 & ALG9  & 11 & 11 & 111657120 & 111731321 & 1344 & 4.546618e-06 & 1.138693e-05 & 1.275424e-06 & ... &  55.10152 & 131.13853 & 18.647516 &  0.4260566 &  0.8174463 &  2.4424601 & 1.225309e-03 &  4 &  5.889465 & 0.29371505\\\\\n",
       "\t888 & ENST00000311813.4 & AQP1  & 7  &  4 &  30951524 &  30963244 &  810 & 5.831033e-06 & 1.091759e-05 & 4.713438e-07 & ... &  66.54603 & 122.94933 &  6.891873 &  0.1934870 &  1.1887784 &  1.4685195 & 4.992564e-02 &  5 &  8.088807 & 0.41948559\\\\\n",
       "\t2911 & ENST00000287202.5 & CELF6 & 15 & 12 &  72579605 &  72612215 & 1446 & 1.255576e-05 & 2.172531e-05 & 1.187156e-06 & ... &  84.98649 & 153.14966 & 13.164702 &  2.3527451 &  2.8121043 &  2.7751012 & 3.768070e-01 &  1 &  4.305782 & 0.65904281\\\\\n",
       "\t2986 & ENST00000425368.2 & CFB   & 6  & 18 &  31913998 &  31919807 & 2295 & 9.891069e-06 & 2.360029e-05 & 2.092371e-06 & ... & 119.61161 & 274.93988 & 31.250734 &  1.5084600 &  2.2106026 &  3.5883955 & 9.788594e-04 & 11 & 11.669355 & 0.06529796\\\\\n",
       "\t3611 & ENST00000330233.7 & CRIP1 & 14 &  4 & 105953596 & 105954848 &  234 & 1.549716e-06 & 2.862700e-06 & 2.372462e-07 & ... &  17.04347 &  29.48948 &  3.562405 &  0.9075212 & -0.5864063 & -0.2296625 & 1.357960e-03 &  3 &  3.492841 & 0.09078386\\\\\n",
       "\\end{tabular}\n"
      ],
      "text/markdown": [
       "\n",
       "A data.frame: 6 x 23\n",
       "\n",
       "| <!--/--> | transcript &lt;chr&gt; | gene &lt;chr&gt; | chr &lt;chr&gt; | n_exons &lt;int&gt; | tx_start &lt;int&gt; | tx_end &lt;int&gt; | bp &lt;int&gt; | mu_syn &lt;dbl&gt; | mu_mis &lt;dbl&gt; | mu_lof &lt;dbl&gt; | ... ... | exp_syn &lt;dbl&gt; | exp_mis &lt;dbl&gt; | exp_lof &lt;dbl&gt; | syn_z &lt;dbl&gt; | mis_z &lt;dbl&gt; | lof_z &lt;dbl&gt; | pLI &lt;dbl&gt; | n_cnv &lt;dbl&gt; | exp_cnv &lt;dbl&gt; | cnv_z &lt;dbl&gt; |\n",
       "|---|---|---|---|---|---|---|---|---|---|---|---|---|---|---|---|---|---|---|---|---|---|\n",
       "| 177 | ENST00000290866.4 | ACE   | 17 | 25 |  61554455 |  61574727 | 3921 | 2.505688e-05 | 4.879264e-05 | 3.489547e-06 | ... | 255.36203 | 497.51069 | 46.684991 | -1.0722052 | -1.0633131 |  1.8390400 | 4.632829e-18 |  6 |  7.560355 | 0.20763479 |\n",
       "| 581 | ENST00000531154.1 | ALG9  | 11 | 11 | 111657120 | 111731321 | 1344 | 4.546618e-06 | 1.138693e-05 | 1.275424e-06 | ... |  55.10152 | 131.13853 | 18.647516 |  0.4260566 |  0.8174463 |  2.4424601 | 1.225309e-03 |  4 |  5.889465 | 0.29371505 |\n",
       "| 888 | ENST00000311813.4 | AQP1  | 7  |  4 |  30951524 |  30963244 |  810 | 5.831033e-06 | 1.091759e-05 | 4.713438e-07 | ... |  66.54603 | 122.94933 |  6.891873 |  0.1934870 |  1.1887784 |  1.4685195 | 4.992564e-02 |  5 |  8.088807 | 0.41948559 |\n",
       "| 2911 | ENST00000287202.5 | CELF6 | 15 | 12 |  72579605 |  72612215 | 1446 | 1.255576e-05 | 2.172531e-05 | 1.187156e-06 | ... |  84.98649 | 153.14966 | 13.164702 |  2.3527451 |  2.8121043 |  2.7751012 | 3.768070e-01 |  1 |  4.305782 | 0.65904281 |\n",
       "| 2986 | ENST00000425368.2 | CFB   | 6  | 18 |  31913998 |  31919807 | 2295 | 9.891069e-06 | 2.360029e-05 | 2.092371e-06 | ... | 119.61161 | 274.93988 | 31.250734 |  1.5084600 |  2.2106026 |  3.5883955 | 9.788594e-04 | 11 | 11.669355 | 0.06529796 |\n",
       "| 3611 | ENST00000330233.7 | CRIP1 | 14 |  4 | 105953596 | 105954848 |  234 | 1.549716e-06 | 2.862700e-06 | 2.372462e-07 | ... |  17.04347 |  29.48948 |  3.562405 |  0.9075212 | -0.5864063 | -0.2296625 | 1.357960e-03 |  3 |  3.492841 | 0.09078386 |\n",
       "\n"
      ],
      "text/plain": [
       "     transcript        gene  chr n_exons tx_start  tx_end    bp   mu_syn      \n",
       "177  ENST00000290866.4 ACE   17  25       61554455  61574727 3921 2.505688e-05\n",
       "581  ENST00000531154.1 ALG9  11  11      111657120 111731321 1344 4.546618e-06\n",
       "888  ENST00000311813.4 AQP1  7    4       30951524  30963244  810 5.831033e-06\n",
       "2911 ENST00000287202.5 CELF6 15  12       72579605  72612215 1446 1.255576e-05\n",
       "2986 ENST00000425368.2 CFB   6   18       31913998  31919807 2295 9.891069e-06\n",
       "3611 ENST00000330233.7 CRIP1 14   4      105953596 105954848  234 1.549716e-06\n",
       "     mu_mis       mu_lof       ... exp_syn   exp_mis   exp_lof   syn_z     \n",
       "177  4.879264e-05 3.489547e-06 ... 255.36203 497.51069 46.684991 -1.0722052\n",
       "581  1.138693e-05 1.275424e-06 ...  55.10152 131.13853 18.647516  0.4260566\n",
       "888  1.091759e-05 4.713438e-07 ...  66.54603 122.94933  6.891873  0.1934870\n",
       "2911 2.172531e-05 1.187156e-06 ...  84.98649 153.14966 13.164702  2.3527451\n",
       "2986 2.360029e-05 2.092371e-06 ... 119.61161 274.93988 31.250734  1.5084600\n",
       "3611 2.862700e-06 2.372462e-07 ...  17.04347  29.48948  3.562405  0.9075212\n",
       "     mis_z      lof_z      pLI          n_cnv exp_cnv   cnv_z     \n",
       "177  -1.0633131  1.8390400 4.632829e-18  6     7.560355 0.20763479\n",
       "581   0.8174463  2.4424601 1.225309e-03  4     5.889465 0.29371505\n",
       "888   1.1887784  1.4685195 4.992564e-02  5     8.088807 0.41948559\n",
       "2911  2.8121043  2.7751012 3.768070e-01  1     4.305782 0.65904281\n",
       "2986  2.2106026  3.5883955 9.788594e-04 11    11.669355 0.06529796\n",
       "3611 -0.5864063 -0.2296625 1.357960e-03  3     3.492841 0.09078386"
      ]
     },
     "metadata": {},
     "output_type": "display_data"
    }
   ],
   "source": [
    "head(exac[duplicated(exac$gene),])"
   ]
  },
  {
   "cell_type": "code",
   "execution_count": 44,
   "id": "ed05dedd",
   "metadata": {},
   "outputs": [
    {
     "data": {
      "text/html": [
       "<table class=\"dataframe\">\n",
       "<caption>A data.frame: 2 x 23</caption>\n",
       "<thead>\n",
       "\t<tr><th scope=col>transcript</th><th scope=col>gene</th><th scope=col>chr</th><th scope=col>n_exons</th><th scope=col>tx_start</th><th scope=col>tx_end</th><th scope=col>bp</th><th scope=col>mu_syn</th><th scope=col>mu_mis</th><th scope=col>mu_lof</th><th scope=col>...</th><th scope=col>exp_syn</th><th scope=col>exp_mis</th><th scope=col>exp_lof</th><th scope=col>syn_z</th><th scope=col>mis_z</th><th scope=col>lof_z</th><th scope=col>pLI</th><th scope=col>n_cnv</th><th scope=col>exp_cnv</th><th scope=col>cnv_z</th></tr>\n",
       "\t<tr><th scope=col>&lt;chr&gt;</th><th scope=col>&lt;chr&gt;</th><th scope=col>&lt;chr&gt;</th><th scope=col>&lt;int&gt;</th><th scope=col>&lt;int&gt;</th><th scope=col>&lt;int&gt;</th><th scope=col>&lt;int&gt;</th><th scope=col>&lt;dbl&gt;</th><th scope=col>&lt;dbl&gt;</th><th scope=col>&lt;dbl&gt;</th><th scope=col>...</th><th scope=col>&lt;dbl&gt;</th><th scope=col>&lt;dbl&gt;</th><th scope=col>&lt;dbl&gt;</th><th scope=col>&lt;dbl&gt;</th><th scope=col>&lt;dbl&gt;</th><th scope=col>&lt;dbl&gt;</th><th scope=col>&lt;dbl&gt;</th><th scope=col>&lt;dbl&gt;</th><th scope=col>&lt;dbl&gt;</th><th scope=col>&lt;dbl&gt;</th></tr>\n",
       "</thead>\n",
       "<tbody>\n",
       "\t<tr><td>ENST00000425368.2</td><td>CFB</td><td>6</td><td>18</td><td>31913998</td><td>31919807</td><td>2295</td><td>9.891069e-06</td><td>2.360029e-05</td><td>2.092371e-06</td><td>...</td><td>119.6116</td><td>274.9399</td><td>31.25073</td><td>1.50846</td><td>2.210603</td><td>3.588395</td><td>0.0009788594</td><td>11</td><td>11.76966</td><td>0.07486886</td></tr>\n",
       "\t<tr><td>ENST00000425368.2</td><td>CFB</td><td>6</td><td>18</td><td>31913998</td><td>31919807</td><td>2295</td><td>9.891069e-06</td><td>2.360029e-05</td><td>2.092371e-06</td><td>...</td><td>119.6116</td><td>274.9399</td><td>31.25073</td><td>1.50846</td><td>2.210603</td><td>3.588395</td><td>0.0009788594</td><td>11</td><td>11.66936</td><td>0.06529796</td></tr>\n",
       "</tbody>\n",
       "</table>\n"
      ],
      "text/latex": [
       "A data.frame: 2 x 23\n",
       "\\begin{tabular}{lllllllllllllllllllll}\n",
       " transcript & gene & chr & n\\_exons & tx\\_start & tx\\_end & bp & mu\\_syn & mu\\_mis & mu\\_lof & ... & exp\\_syn & exp\\_mis & exp\\_lof & syn\\_z & mis\\_z & lof\\_z & pLI & n\\_cnv & exp\\_cnv & cnv\\_z\\\\\n",
       " <chr> & <chr> & <chr> & <int> & <int> & <int> & <int> & <dbl> & <dbl> & <dbl> & ... & <dbl> & <dbl> & <dbl> & <dbl> & <dbl> & <dbl> & <dbl> & <dbl> & <dbl> & <dbl>\\\\\n",
       "\\hline\n",
       "\t ENST00000425368.2 & CFB & 6 & 18 & 31913998 & 31919807 & 2295 & 9.891069e-06 & 2.360029e-05 & 2.092371e-06 & ... & 119.6116 & 274.9399 & 31.25073 & 1.50846 & 2.210603 & 3.588395 & 0.0009788594 & 11 & 11.76966 & 0.07486886\\\\\n",
       "\t ENST00000425368.2 & CFB & 6 & 18 & 31913998 & 31919807 & 2295 & 9.891069e-06 & 2.360029e-05 & 2.092371e-06 & ... & 119.6116 & 274.9399 & 31.25073 & 1.50846 & 2.210603 & 3.588395 & 0.0009788594 & 11 & 11.66936 & 0.06529796\\\\\n",
       "\\end{tabular}\n"
      ],
      "text/markdown": [
       "\n",
       "A data.frame: 2 x 23\n",
       "\n",
       "| transcript &lt;chr&gt; | gene &lt;chr&gt; | chr &lt;chr&gt; | n_exons &lt;int&gt; | tx_start &lt;int&gt; | tx_end &lt;int&gt; | bp &lt;int&gt; | mu_syn &lt;dbl&gt; | mu_mis &lt;dbl&gt; | mu_lof &lt;dbl&gt; | ... ... | exp_syn &lt;dbl&gt; | exp_mis &lt;dbl&gt; | exp_lof &lt;dbl&gt; | syn_z &lt;dbl&gt; | mis_z &lt;dbl&gt; | lof_z &lt;dbl&gt; | pLI &lt;dbl&gt; | n_cnv &lt;dbl&gt; | exp_cnv &lt;dbl&gt; | cnv_z &lt;dbl&gt; |\n",
       "|---|---|---|---|---|---|---|---|---|---|---|---|---|---|---|---|---|---|---|---|---|\n",
       "| ENST00000425368.2 | CFB | 6 | 18 | 31913998 | 31919807 | 2295 | 9.891069e-06 | 2.360029e-05 | 2.092371e-06 | ... | 119.6116 | 274.9399 | 31.25073 | 1.50846 | 2.210603 | 3.588395 | 0.0009788594 | 11 | 11.76966 | 0.07486886 |\n",
       "| ENST00000425368.2 | CFB | 6 | 18 | 31913998 | 31919807 | 2295 | 9.891069e-06 | 2.360029e-05 | 2.092371e-06 | ... | 119.6116 | 274.9399 | 31.25073 | 1.50846 | 2.210603 | 3.588395 | 0.0009788594 | 11 | 11.66936 | 0.06529796 |\n",
       "\n"
      ],
      "text/plain": [
       "  transcript        gene chr n_exons tx_start tx_end   bp   mu_syn      \n",
       "1 ENST00000425368.2 CFB  6   18      31913998 31919807 2295 9.891069e-06\n",
       "2 ENST00000425368.2 CFB  6   18      31913998 31919807 2295 9.891069e-06\n",
       "  mu_mis       mu_lof       ... exp_syn  exp_mis  exp_lof  syn_z   mis_z   \n",
       "1 2.360029e-05 2.092371e-06 ... 119.6116 274.9399 31.25073 1.50846 2.210603\n",
       "2 2.360029e-05 2.092371e-06 ... 119.6116 274.9399 31.25073 1.50846 2.210603\n",
       "  lof_z    pLI          n_cnv exp_cnv  cnv_z     \n",
       "1 3.588395 0.0009788594 11    11.76966 0.07486886\n",
       "2 3.588395 0.0009788594 11    11.66936 0.06529796"
      ]
     },
     "metadata": {},
     "output_type": "display_data"
    }
   ],
   "source": [
    "exac %>% filter(gene == \"CFB\")"
   ]
  },
  {
   "cell_type": "code",
   "execution_count": 4,
   "id": "c319d8d7",
   "metadata": {},
   "outputs": [
    {
     "data": {
      "text/html": [
       "18225"
      ],
      "text/latex": [
       "18225"
      ],
      "text/markdown": [
       "18225"
      ],
      "text/plain": [
       "[1] 18225"
      ]
     },
     "metadata": {},
     "output_type": "display_data"
    }
   ],
   "source": [
    "# duplicated gene entries differ in cnv related columns\n",
    "exac <- exac %>% select(gene, pLI)\n",
    "length(unique(exac$gene))"
   ]
  },
  {
   "cell_type": "code",
   "execution_count": 5,
   "id": "1cb286ca",
   "metadata": {},
   "outputs": [],
   "source": [
    "exac <- exac[!duplicated(exac$gene),]"
   ]
  },
  {
   "cell_type": "markdown",
   "id": "ffde1e8d",
   "metadata": {},
   "source": [
    "**Read data genes**"
   ]
  },
  {
   "cell_type": "code",
   "execution_count": 6,
   "id": "939e2773",
   "metadata": {},
   "outputs": [
    {
     "data": {
      "text/html": [
       "<table class=\"dataframe\">\n",
       "<caption>A data.frame: 6 x 15</caption>\n",
       "<thead>\n",
       "\t<tr><th></th><th scope=col>pid</th><th scope=col>nvar</th><th scope=col>shape1</th><th scope=col>shape2</th><th scope=col>dummy</th><th scope=col>sid</th><th scope=col>dist</th><th scope=col>npval</th><th scope=col>slope</th><th scope=col>ppval</th><th scope=col>bpval</th><th scope=col>qval</th><th scope=col>pval_nominal_threshold</th><th scope=col>gene_type</th><th scope=col>gene_name</th></tr>\n",
       "\t<tr><th></th><th scope=col>&lt;chr&gt;</th><th scope=col>&lt;int&gt;</th><th scope=col>&lt;dbl&gt;</th><th scope=col>&lt;dbl&gt;</th><th scope=col>&lt;dbl&gt;</th><th scope=col>&lt;chr&gt;</th><th scope=col>&lt;int&gt;</th><th scope=col>&lt;dbl&gt;</th><th scope=col>&lt;dbl&gt;</th><th scope=col>&lt;dbl&gt;</th><th scope=col>&lt;dbl&gt;</th><th scope=col>&lt;dbl&gt;</th><th scope=col>&lt;dbl&gt;</th><th scope=col>&lt;chr&gt;</th><th scope=col>&lt;chr&gt;</th></tr>\n",
       "</thead>\n",
       "<tbody>\n",
       "\t<tr><th scope=row>1</th><td>ENSG00000000419</td><td>6979</td><td>1.02134</td><td>1367.680</td><td>476.819</td><td>rs192563417</td><td> 785096</td><td>1.36171e-07</td><td>-0.505097</td><td>0.00079992</td><td>6.71442e-04</td><td>1.47123e-03</td><td>2.90212e-05</td><td>protein_coding</td><td>DPM1    </td></tr>\n",
       "\t<tr><th scope=row>2</th><td>ENSG00000000457</td><td>7094</td><td>1.04721</td><td> 695.715</td><td>467.037</td><td>rs761499672</td><td>-797092</td><td>4.58351e-05</td><td> 0.174268</td><td>0.07059290</td><td>7.57180e-02</td><td>8.87792e-02</td><td>6.25971e-05</td><td>protein_coding</td><td>SCYL3   </td></tr>\n",
       "\t<tr><th scope=row>3</th><td>ENSG00000000460</td><td>7370</td><td>1.03366</td><td> 743.049</td><td>467.386</td><td>rs17529513 </td><td> 167500</td><td>1.08049e-22</td><td>-0.302487</td><td>0.00009999</td><td>6.83032e-18</td><td>5.86726e-17</td><td>5.58582e-05</td><td>protein_coding</td><td>C1orf112</td></tr>\n",
       "\t<tr><th scope=row>4</th><td>ENSG00000000938</td><td>4365</td><td>1.01977</td><td> 476.482</td><td>465.432</td><td>rs74060542 </td><td> -40678</td><td>3.55489e-04</td><td> 0.328784</td><td>0.31717400</td><td>3.13974e-01</td><td>2.30595e-01</td><td>8.28194e-05</td><td>protein_coding</td><td>FGR     </td></tr>\n",
       "\t<tr><th scope=row>5</th><td>ENSG00000000971</td><td>4671</td><td>1.02585</td><td> 532.868</td><td>474.412</td><td>rs113887390</td><td>-792723</td><td>6.47444e-04</td><td> 0.455490</td><td>0.48171300</td><td>4.74379e-01</td><td>2.93544e-01</td><td>7.57214e-05</td><td>protein_coding</td><td>CFH     </td></tr>\n",
       "\t<tr><th scope=row>6</th><td>ENSG00000001036</td><td>5683</td><td>1.04787</td><td> 948.786</td><td>469.456</td><td>rs4896658  </td><td> -47658</td><td>1.77472e-07</td><td>-0.588128</td><td>0.00069993</td><td>5.90912e-04</td><td>1.30931e-03</td><td>4.60076e-05</td><td>protein_coding</td><td>FUCA2   </td></tr>\n",
       "</tbody>\n",
       "</table>\n"
      ],
      "text/latex": [
       "A data.frame: 6 x 15\n",
       "\\begin{tabular}{r|lllllllllllllll}\n",
       "  & pid & nvar & shape1 & shape2 & dummy & sid & dist & npval & slope & ppval & bpval & qval & pval\\_nominal\\_threshold & gene\\_type & gene\\_name\\\\\n",
       "  & <chr> & <int> & <dbl> & <dbl> & <dbl> & <chr> & <int> & <dbl> & <dbl> & <dbl> & <dbl> & <dbl> & <dbl> & <chr> & <chr>\\\\\n",
       "\\hline\n",
       "\t1 & ENSG00000000419 & 6979 & 1.02134 & 1367.680 & 476.819 & rs192563417 &  785096 & 1.36171e-07 & -0.505097 & 0.00079992 & 6.71442e-04 & 1.47123e-03 & 2.90212e-05 & protein\\_coding & DPM1    \\\\\n",
       "\t2 & ENSG00000000457 & 7094 & 1.04721 &  695.715 & 467.037 & rs761499672 & -797092 & 4.58351e-05 &  0.174268 & 0.07059290 & 7.57180e-02 & 8.87792e-02 & 6.25971e-05 & protein\\_coding & SCYL3   \\\\\n",
       "\t3 & ENSG00000000460 & 7370 & 1.03366 &  743.049 & 467.386 & rs17529513  &  167500 & 1.08049e-22 & -0.302487 & 0.00009999 & 6.83032e-18 & 5.86726e-17 & 5.58582e-05 & protein\\_coding & C1orf112\\\\\n",
       "\t4 & ENSG00000000938 & 4365 & 1.01977 &  476.482 & 465.432 & rs74060542  &  -40678 & 3.55489e-04 &  0.328784 & 0.31717400 & 3.13974e-01 & 2.30595e-01 & 8.28194e-05 & protein\\_coding & FGR     \\\\\n",
       "\t5 & ENSG00000000971 & 4671 & 1.02585 &  532.868 & 474.412 & rs113887390 & -792723 & 6.47444e-04 &  0.455490 & 0.48171300 & 4.74379e-01 & 2.93544e-01 & 7.57214e-05 & protein\\_coding & CFH     \\\\\n",
       "\t6 & ENSG00000001036 & 5683 & 1.04787 &  948.786 & 469.456 & rs4896658   &  -47658 & 1.77472e-07 & -0.588128 & 0.00069993 & 5.90912e-04 & 1.30931e-03 & 4.60076e-05 & protein\\_coding & FUCA2   \\\\\n",
       "\\end{tabular}\n"
      ],
      "text/markdown": [
       "\n",
       "A data.frame: 6 x 15\n",
       "\n",
       "| <!--/--> | pid &lt;chr&gt; | nvar &lt;int&gt; | shape1 &lt;dbl&gt; | shape2 &lt;dbl&gt; | dummy &lt;dbl&gt; | sid &lt;chr&gt; | dist &lt;int&gt; | npval &lt;dbl&gt; | slope &lt;dbl&gt; | ppval &lt;dbl&gt; | bpval &lt;dbl&gt; | qval &lt;dbl&gt; | pval_nominal_threshold &lt;dbl&gt; | gene_type &lt;chr&gt; | gene_name &lt;chr&gt; |\n",
       "|---|---|---|---|---|---|---|---|---|---|---|---|---|---|---|---|\n",
       "| 1 | ENSG00000000419 | 6979 | 1.02134 | 1367.680 | 476.819 | rs192563417 |  785096 | 1.36171e-07 | -0.505097 | 0.00079992 | 6.71442e-04 | 1.47123e-03 | 2.90212e-05 | protein_coding | DPM1     |\n",
       "| 2 | ENSG00000000457 | 7094 | 1.04721 |  695.715 | 467.037 | rs761499672 | -797092 | 4.58351e-05 |  0.174268 | 0.07059290 | 7.57180e-02 | 8.87792e-02 | 6.25971e-05 | protein_coding | SCYL3    |\n",
       "| 3 | ENSG00000000460 | 7370 | 1.03366 |  743.049 | 467.386 | rs17529513  |  167500 | 1.08049e-22 | -0.302487 | 0.00009999 | 6.83032e-18 | 5.86726e-17 | 5.58582e-05 | protein_coding | C1orf112 |\n",
       "| 4 | ENSG00000000938 | 4365 | 1.01977 |  476.482 | 465.432 | rs74060542  |  -40678 | 3.55489e-04 |  0.328784 | 0.31717400 | 3.13974e-01 | 2.30595e-01 | 8.28194e-05 | protein_coding | FGR      |\n",
       "| 5 | ENSG00000000971 | 4671 | 1.02585 |  532.868 | 474.412 | rs113887390 | -792723 | 6.47444e-04 |  0.455490 | 0.48171300 | 4.74379e-01 | 2.93544e-01 | 7.57214e-05 | protein_coding | CFH      |\n",
       "| 6 | ENSG00000001036 | 5683 | 1.04787 |  948.786 | 469.456 | rs4896658   |  -47658 | 1.77472e-07 | -0.588128 | 0.00069993 | 5.90912e-04 | 1.30931e-03 | 4.60076e-05 | protein_coding | FUCA2    |\n",
       "\n"
      ],
      "text/plain": [
       "  pid             nvar shape1  shape2   dummy   sid         dist    npval      \n",
       "1 ENSG00000000419 6979 1.02134 1367.680 476.819 rs192563417  785096 1.36171e-07\n",
       "2 ENSG00000000457 7094 1.04721  695.715 467.037 rs761499672 -797092 4.58351e-05\n",
       "3 ENSG00000000460 7370 1.03366  743.049 467.386 rs17529513   167500 1.08049e-22\n",
       "4 ENSG00000000938 4365 1.01977  476.482 465.432 rs74060542   -40678 3.55489e-04\n",
       "5 ENSG00000000971 4671 1.02585  532.868 474.412 rs113887390 -792723 6.47444e-04\n",
       "6 ENSG00000001036 5683 1.04787  948.786 469.456 rs4896658    -47658 1.77472e-07\n",
       "  slope     ppval      bpval       qval        pval_nominal_threshold\n",
       "1 -0.505097 0.00079992 6.71442e-04 1.47123e-03 2.90212e-05           \n",
       "2  0.174268 0.07059290 7.57180e-02 8.87792e-02 6.25971e-05           \n",
       "3 -0.302487 0.00009999 6.83032e-18 5.86726e-17 5.58582e-05           \n",
       "4  0.328784 0.31717400 3.13974e-01 2.30595e-01 8.28194e-05           \n",
       "5  0.455490 0.48171300 4.74379e-01 2.93544e-01 7.57214e-05           \n",
       "6 -0.588128 0.00069993 5.90912e-04 1.30931e-03 4.60076e-05           \n",
       "  gene_type      gene_name\n",
       "1 protein_coding DPM1     \n",
       "2 protein_coding SCYL3    \n",
       "3 protein_coding C1orf112 \n",
       "4 protein_coding FGR      \n",
       "5 protein_coding CFH      \n",
       "6 protein_coding FUCA2    "
      ]
     },
     "metadata": {},
     "output_type": "display_data"
    }
   ],
   "source": [
    "fetal <- fread(\"~/project-gandalm/isoform_twas/eqtl_new/results/mixed_perm_90hcp/all_assoc_perm_info.txt\", \n",
    "               data.table = F)\n",
    "head(fetal)"
   ]
  },
  {
   "cell_type": "code",
   "execution_count": 7,
   "id": "077b371d",
   "metadata": {},
   "outputs": [
    {
     "data": {
      "text/html": [
       "30993"
      ],
      "text/latex": [
       "30993"
      ],
      "text/markdown": [
       "30993"
      ],
      "text/plain": [
       "[1] 30993"
      ]
     },
     "metadata": {},
     "output_type": "display_data"
    },
    {
     "data": {
      "text/html": [
       "31531"
      ],
      "text/latex": [
       "31531"
      ],
      "text/markdown": [
       "31531"
      ],
      "text/plain": [
       "[1] 31531"
      ]
     },
     "metadata": {},
     "output_type": "display_data"
    }
   ],
   "source": [
    "length(unique(fetal$gene_name))\n",
    "length(unique(fetal$pid))"
   ]
  },
  {
   "cell_type": "code",
   "execution_count": 8,
   "id": "b8e76527",
   "metadata": {},
   "outputs": [],
   "source": [
    "fetal <- fetal %>% mutate(sig = ifelse(fetal$qval < 0.05, \"eGene\", \"non-eGene\"))"
   ]
  },
  {
   "cell_type": "code",
   "execution_count": 19,
   "id": "5e82304e",
   "metadata": {},
   "outputs": [
    {
     "data": {
      "text/plain": [
       "\n",
       "    eGene non-eGene \n",
       "    10094     21437 "
      ]
     },
     "metadata": {},
     "output_type": "display_data"
    }
   ],
   "source": [
    "table(fetal$sig)"
   ]
  },
  {
   "cell_type": "code",
   "execution_count": 9,
   "id": "0353ba7d",
   "metadata": {},
   "outputs": [
    {
     "data": {
      "text/html": [
       "193"
      ],
      "text/latex": [
       "193"
      ],
      "text/markdown": [
       "193"
      ],
      "text/plain": [
       "[1] 193"
      ]
     },
     "metadata": {},
     "output_type": "display_data"
    }
   ],
   "source": [
    "# remove duplicated gene names (Y_RNA, U3, etc.)\n",
    "# or will have genes with the same name but in both sig and non-sig\n",
    "dup_name <- unique(fetal[duplicated(fetal$gene_name),'gene_name'])\n",
    "length(dup_name)"
   ]
  },
  {
   "cell_type": "code",
   "execution_count": 10,
   "id": "6b2059c6",
   "metadata": {},
   "outputs": [
    {
     "data": {
      "text/html": [
       "30800"
      ],
      "text/latex": [
       "30800"
      ],
      "text/markdown": [
       "30800"
      ],
      "text/plain": [
       "[1] 30800"
      ]
     },
     "metadata": {},
     "output_type": "display_data"
    },
    {
     "data": {
      "text/html": [
       "30800"
      ],
      "text/latex": [
       "30800"
      ],
      "text/markdown": [
       "30800"
      ],
      "text/plain": [
       "[1] 30800"
      ]
     },
     "metadata": {},
     "output_type": "display_data"
    },
    {
     "data": {
      "text/html": [
       "<style>\n",
       ".list-inline {list-style: none; margin:0; padding: 0}\n",
       ".list-inline>li {display: inline-block}\n",
       ".list-inline>li:not(:last-child)::after {content: \"\\00b7\"; padding: 0 .5ex}\n",
       "</style>\n",
       "<ol class=list-inline><li>30800</li><li>16</li></ol>\n"
      ],
      "text/latex": [
       "\\begin{enumerate*}\n",
       "\\item 30800\n",
       "\\item 16\n",
       "\\end{enumerate*}\n"
      ],
      "text/markdown": [
       "1. 30800\n",
       "2. 16\n",
       "\n",
       "\n"
      ],
      "text/plain": [
       "[1] 30800    16"
      ]
     },
     "metadata": {},
     "output_type": "display_data"
    }
   ],
   "source": [
    "fetal2 <- fetal %>% filter(!gene_name %in% dup_name)\n",
    "length(unique(fetal2$pid))\n",
    "length(unique(fetal2$gene_name))\n",
    "dim(fetal2)"
   ]
  },
  {
   "cell_type": "code",
   "execution_count": 11,
   "id": "f0a1f56d",
   "metadata": {},
   "outputs": [
    {
     "data": {
      "text/plain": [
       "\n",
       "    eGene non-eGene \n",
       "     9977     20823 "
      ]
     },
     "metadata": {},
     "output_type": "display_data"
    }
   ],
   "source": [
    "table(fetal2$sig)"
   ]
  },
  {
   "cell_type": "code",
   "execution_count": 12,
   "id": "43262165",
   "metadata": {},
   "outputs": [],
   "source": [
    "fetal2 <- fetal2 %>% left_join(exac, by = c(\"gene_name\" = \"gene\"))"
   ]
  },
  {
   "cell_type": "code",
   "execution_count": 13,
   "id": "d489659b",
   "metadata": {},
   "outputs": [
    {
     "data": {
      "text/html": [
       "14264"
      ],
      "text/latex": [
       "14264"
      ],
      "text/markdown": [
       "14264"
      ],
      "text/plain": [
       "[1] 14264"
      ]
     },
     "metadata": {},
     "output_type": "display_data"
    }
   ],
   "source": [
    "sum(complete.cases(fetal2$pLI))"
   ]
  },
  {
   "cell_type": "code",
   "execution_count": 14,
   "id": "c850681b",
   "metadata": {},
   "outputs": [
    {
     "data": {
      "text/html": [
       "<table class=\"dataframe\">\n",
       "<caption>A data.frame: 6 x 4</caption>\n",
       "<thead>\n",
       "\t<tr><th></th><th scope=col>pid</th><th scope=col>sig</th><th scope=col>gene_name</th><th scope=col>pLI</th></tr>\n",
       "\t<tr><th></th><th scope=col>&lt;chr&gt;</th><th scope=col>&lt;chr&gt;</th><th scope=col>&lt;chr&gt;</th><th scope=col>&lt;dbl&gt;</th></tr>\n",
       "</thead>\n",
       "<tbody>\n",
       "\t<tr><th scope=row>1</th><td>ENSG00000000419</td><td>eGene    </td><td>DPM1    </td><td>5.367475e-01</td></tr>\n",
       "\t<tr><th scope=row>2</th><td>ENSG00000000457</td><td>non-eGene</td><td>SCYL3   </td><td>5.470538e-01</td></tr>\n",
       "\t<tr><th scope=row>3</th><td>ENSG00000000460</td><td>eGene    </td><td>C1orf112</td><td>5.981510e-08</td></tr>\n",
       "\t<tr><th scope=row>4</th><td>ENSG00000000938</td><td>non-eGene</td><td>FGR     </td><td>1.771744e-01</td></tr>\n",
       "\t<tr><th scope=row>5</th><td>ENSG00000000971</td><td>non-eGene</td><td>CFH     </td><td>9.996310e-01</td></tr>\n",
       "\t<tr><th scope=row>6</th><td>ENSG00000001036</td><td>eGene    </td><td>FUCA2   </td><td>3.655835e-04</td></tr>\n",
       "</tbody>\n",
       "</table>\n"
      ],
      "text/latex": [
       "A data.frame: 6 x 4\n",
       "\\begin{tabular}{r|llll}\n",
       "  & pid & sig & gene\\_name & pLI\\\\\n",
       "  & <chr> & <chr> & <chr> & <dbl>\\\\\n",
       "\\hline\n",
       "\t1 & ENSG00000000419 & eGene     & DPM1     & 5.367475e-01\\\\\n",
       "\t2 & ENSG00000000457 & non-eGene & SCYL3    & 5.470538e-01\\\\\n",
       "\t3 & ENSG00000000460 & eGene     & C1orf112 & 5.981510e-08\\\\\n",
       "\t4 & ENSG00000000938 & non-eGene & FGR      & 1.771744e-01\\\\\n",
       "\t5 & ENSG00000000971 & non-eGene & CFH      & 9.996310e-01\\\\\n",
       "\t6 & ENSG00000001036 & eGene     & FUCA2    & 3.655835e-04\\\\\n",
       "\\end{tabular}\n"
      ],
      "text/markdown": [
       "\n",
       "A data.frame: 6 x 4\n",
       "\n",
       "| <!--/--> | pid &lt;chr&gt; | sig &lt;chr&gt; | gene_name &lt;chr&gt; | pLI &lt;dbl&gt; |\n",
       "|---|---|---|---|---|\n",
       "| 1 | ENSG00000000419 | eGene     | DPM1     | 5.367475e-01 |\n",
       "| 2 | ENSG00000000457 | non-eGene | SCYL3    | 5.470538e-01 |\n",
       "| 3 | ENSG00000000460 | eGene     | C1orf112 | 5.981510e-08 |\n",
       "| 4 | ENSG00000000938 | non-eGene | FGR      | 1.771744e-01 |\n",
       "| 5 | ENSG00000000971 | non-eGene | CFH      | 9.996310e-01 |\n",
       "| 6 | ENSG00000001036 | eGene     | FUCA2    | 3.655835e-04 |\n",
       "\n"
      ],
      "text/plain": [
       "  pid             sig       gene_name pLI         \n",
       "1 ENSG00000000419 eGene     DPM1      5.367475e-01\n",
       "2 ENSG00000000457 non-eGene SCYL3     5.470538e-01\n",
       "3 ENSG00000000460 eGene     C1orf112  5.981510e-08\n",
       "4 ENSG00000000938 non-eGene FGR       1.771744e-01\n",
       "5 ENSG00000000971 non-eGene CFH       9.996310e-01\n",
       "6 ENSG00000001036 eGene     FUCA2     3.655835e-04"
      ]
     },
     "metadata": {},
     "output_type": "display_data"
    }
   ],
   "source": [
    "fetal3 <- fetal2 %>% select(pid, sig, gene_name, pLI)\n",
    "head(fetal3)"
   ]
  },
  {
   "cell_type": "code",
   "execution_count": 42,
   "id": "e17fcc40",
   "metadata": {},
   "outputs": [
    {
     "name": "stderr",
     "output_type": "stream",
     "text": [
      "Warning message:\n",
      "“`fun.y` is deprecated. Use `fun` instead.”\n",
      "Warning message:\n",
      "“`show_guide` has been deprecated. Please use `show.legend` instead.”\n",
      "Warning message:\n",
      "“Removed 16536 rows containing non-finite values (stat_ydensity).”\n",
      "Warning message:\n",
      "“Removed 16536 rows containing non-finite values (stat_boxplot).”\n",
      "Warning message:\n",
      "“Removed 16536 rows containing non-finite values (stat_summary).”\n",
      "Warning message:\n",
      "“Removed 16536 rows containing non-finite values (stat_signif).”\n"
     ]
    },
    {
     "data": {
      "image/png": "[encoded data removed]",
      "text/plain": [
       "plot without title"
      ]
     },
     "metadata": {
      "image/png": {
       "height": 420,
       "width": 420
      }
     },
     "output_type": "display_data"
    }
   ],
   "source": [
    "# modified boxplot, see ExAC original paper\n",
    "p <- ggplot(fetal3, aes(x = sig, y = pLI, fill = sig)) +\n",
    "    geom_violin(alpha = 0.3, trim = TRUE, aes(color = sig)) +\n",
    "    geom_boxplot(width = 0.03, aes(color = sig)) +\n",
    "    labs(x = \"Genes\", y = \"pLI\") + \n",
    "    theme_classic() +\n",
    "    theme(axis.text = element_text(size = 16),\n",
    "          axis.title = element_text(size = 18),\n",
    "          legend.position = \"none\") +\n",
    "    scale_fill_manual(values = c(\"#6699FF\", \"#999999\")) +\n",
    "    scale_color_manual(values = c(\"#6699FF\", \"#999999\")) +\n",
    "    stat_summary(fun.y = median, aes(color = sig), geom = \"point\", \n",
    "                         shape = 21, size = 5, show_guide = FALSE, fill = \"white\", stroke = 1.5) +\n",
    "    geom_signif(\n",
    "        comparisons = list(c(\"eGene\", \"non-eGene\")),\n",
    "        annotation = \"Wilcoxon, p < 2.2e-16\",\n",
    "        textsize = 5\n",
    "  )\n",
    "\n",
    "p"
   ]
  },
  {
   "cell_type": "code",
   "execution_count": 43,
   "id": "108a7702",
   "metadata": {},
   "outputs": [
    {
     "name": "stderr",
     "output_type": "stream",
     "text": [
      "Warning message:\n",
      "“Removed 16536 rows containing non-finite values (stat_ydensity).”\n",
      "Warning message:\n",
      "“Removed 16536 rows containing non-finite values (stat_boxplot).”\n",
      "Warning message:\n",
      "“Removed 16536 rows containing non-finite values (stat_summary).”\n",
      "Warning message:\n",
      "“Removed 16536 rows containing non-finite values (stat_signif).”\n"
     ]
    }
   ],
   "source": [
    "ggsave(\"../figures/pLI.pdf\", width = 6, height = 6)"
   ]
  },
  {
   "cell_type": "code",
   "execution_count": 76,
   "id": "4cf9a41b",
   "metadata": {},
   "outputs": [
    {
     "data": {
      "text/html": [
       "1"
      ],
      "text/latex": [
       "1"
      ],
      "text/markdown": [
       "1"
      ],
      "text/plain": [
       "[1] 1"
      ]
     },
     "metadata": {},
     "output_type": "display_data"
    }
   ],
   "source": [
    "max(fetal2$pLI, na.rm = TRUE)"
   ]
  },
  {
   "cell_type": "code",
   "execution_count": 46,
   "id": "ba7bcaba",
   "metadata": {},
   "outputs": [
    {
     "data": {
      "text/plain": [
       "\n",
       "\tWilcoxon rank sum test with continuity correction\n",
       "\n",
       "data:  fetal3[fetal3$sig == \"eGene\", \"pLI\"] and fetal3[fetal3$sig == \"non-eGene\", \"pLI\"]\n",
       "W = 19497180, p-value < 2.2e-16\n",
       "alternative hypothesis: true location shift is not equal to 0\n"
      ]
     },
     "metadata": {},
     "output_type": "display_data"
    }
   ],
   "source": [
    "wilcox.test(fetal3[fetal3$sig == \"eGene\",'pLI'], fetal3[fetal3$sig == \"non-eGene\",'pLI'], alternative = \"two.sided\")"
   ]
  },
  {
   "cell_type": "code",
   "execution_count": 47,
   "id": "14ccb14b",
   "metadata": {},
   "outputs": [
    {
     "data": {
      "text/plain": [
       "\n",
       "\tWilcoxon rank sum test with continuity correction\n",
       "\n",
       "data:  fetal3[fetal3$sig == \"eGene\", \"pLI\"] and fetal3[fetal3$sig == \"non-eGene\", \"pLI\"]\n",
       "W = 19497180, p-value < 2.2e-16\n",
       "alternative hypothesis: true location shift is not equal to 0\n"
      ]
     },
     "metadata": {},
     "output_type": "display_data"
    }
   ],
   "source": [
    "wilcox.test(fetal3[fetal3$sig == \"eGene\",'pLI'], fetal3[fetal3$sig == \"non-eGene\",'pLI'])"
   ]
  },
  {
   "cell_type": "code",
   "execution_count": null,
   "id": "15f54fc0",
   "metadata": {},
   "outputs": [],
   "source": [
    "library(ggpubr)"
   ]
  },
  {
   "cell_type": "code",
   "execution_count": 57,
   "id": "acb4e0a7",
   "metadata": {},
   "outputs": [
    {
     "name": "stderr",
     "output_type": "stream",
     "text": [
      "Warning message:\n",
      "“Removed 16536 rows containing non-finite values (stat_ydensity).”\n",
      "Warning message:\n",
      "“Removed 16536 rows containing non-finite values (stat_boxplot).”\n",
      "Warning message:\n",
      "“Removed 16536 rows containing non-finite values (stat_compare_means).”\n"
     ]
    },
    {
     "data": {
      "image/png": "[encoded data removed]",
      "text/plain": [
       "plot without title"
      ]
     },
     "metadata": {
      "image/png": {
       "height": 420,
       "width": 420
      }
     },
     "output_type": "display_data"
    }
   ],
   "source": [
    "p + stat_compare_means(vjust = -1, bracket.size = 2, size = 6, label.x = \"non-eGene\")"
   ]
  },
  {
   "cell_type": "code",
   "execution_count": null,
   "id": "d5ebdd2e",
   "metadata": {},
   "outputs": [],
   "source": []
  }
 ],
 "metadata": {
  "kernelspec": {
   "display_name": "R 4.1.0 BIO",
   "language": "R",
   "name": "ir410-bio"
  },
  "language_info": {
   "codemirror_mode": "r",
   "file_extension": ".r",
   "mimetype": "text/x-r-source",
   "name": "R",
   "pygments_lexer": "r",
   "version": "4.1.0"
  }
 },
 "nbformat": 4,
 "nbformat_minor": 5
}
