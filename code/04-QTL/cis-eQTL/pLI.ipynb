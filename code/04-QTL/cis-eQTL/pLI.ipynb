{
 "cells": [
  {
   "cell_type": "markdown",
   "id": "416dfd57",
   "metadata": {},
   "source": [
    "# Gene constraint pLI analysis\n",
    "- gencode and exac: autosomal protein-coding genes, unique gene name-ENSG\n",
    "- fetal, gtex, pec perm eGenes; non-eGene restricting to tested genes\n",
    "- higher pLI, more intolerent"
   ]
  },
  {
   "cell_type": "code",
   "execution_count": 1,
   "id": "4b9c5351",
   "metadata": {},
   "outputs": [
    {
     "name": "stderr",
     "output_type": "stream",
     "text": [
      "── \u001b[1mAttaching packages\u001b[22m ─────────────────────────────────────── tidyverse 1.3.1 ──\n",
      "\n",
      "\u001b[32m✔\u001b[39m \u001b[34mggplot2\u001b[39m 3.3.3     \u001b[32m✔\u001b[39m \u001b[34mpurrr  \u001b[39m 0.3.4\n",
      "\u001b[32m✔\u001b[39m \u001b[34mtibble \u001b[39m 3.1.2     \u001b[32m✔\u001b[39m \u001b[34mdplyr  \u001b[39m 1.0.6\n",
      "\u001b[32m✔\u001b[39m \u001b[34mtidyr  \u001b[39m 1.1.3     \u001b[32m✔\u001b[39m \u001b[34mstringr\u001b[39m 1.4.0\n",
      "\u001b[32m✔\u001b[39m \u001b[34mreadr  \u001b[39m 1.4.0     \u001b[32m✔\u001b[39m \u001b[34mforcats\u001b[39m 0.5.1\n",
      "\n",
      "── \u001b[1mConflicts\u001b[22m ────────────────────────────────────────── tidyverse_conflicts() ──\n",
      "\u001b[31m✖\u001b[39m \u001b[34mdplyr\u001b[39m::\u001b[32mbetween()\u001b[39m   masks \u001b[34mdata.table\u001b[39m::between()\n",
      "\u001b[31m✖\u001b[39m \u001b[34mdplyr\u001b[39m::\u001b[32mfilter()\u001b[39m    masks \u001b[34mstats\u001b[39m::filter()\n",
      "\u001b[31m✖\u001b[39m \u001b[34mdplyr\u001b[39m::\u001b[32mfirst()\u001b[39m     masks \u001b[34mdata.table\u001b[39m::first()\n",
      "\u001b[31m✖\u001b[39m \u001b[34mdplyr\u001b[39m::\u001b[32mlag()\u001b[39m       masks \u001b[34mstats\u001b[39m::lag()\n",
      "\u001b[31m✖\u001b[39m \u001b[34mdplyr\u001b[39m::\u001b[32mlast()\u001b[39m      masks \u001b[34mdata.table\u001b[39m::last()\n",
      "\u001b[31m✖\u001b[39m \u001b[34mpurrr\u001b[39m::\u001b[32mtranspose()\u001b[39m masks \u001b[34mdata.table\u001b[39m::transpose()\n",
      "\n"
     ]
    }
   ],
   "source": [
    "library(data.table)\n",
    "library(tidyverse)\n",
    "library(ggsignif)\n",
    "library(\"ggsci\")"
   ]
  },
  {
   "cell_type": "markdown",
   "id": "354991d4",
   "metadata": {},
   "source": [
    "**Read genomAD ExAC gene constraint**\n",
    "- info for 18225 unique genes, some have alternative cnv related info"
   ]
  },
  {
   "cell_type": "code",
   "execution_count": 2,
   "id": "cba4783c",
   "metadata": {},
   "outputs": [
    {
     "data": {
      "text/html": [
       "<table class=\"dataframe\">\n",
       "<caption>A data.frame: 6 x 23</caption>\n",
       "<thead>\n",
       "\t<tr><th></th><th scope=col>transcript</th><th scope=col>gene</th><th scope=col>chr</th><th scope=col>n_exons</th><th scope=col>tx_start</th><th scope=col>tx_end</th><th scope=col>bp</th><th scope=col>mu_syn</th><th scope=col>mu_mis</th><th scope=col>mu_lof</th><th scope=col>...</th><th scope=col>exp_syn</th><th scope=col>exp_mis</th><th scope=col>exp_lof</th><th scope=col>syn_z</th><th scope=col>mis_z</th><th scope=col>lof_z</th><th scope=col>pLI</th><th scope=col>n_cnv</th><th scope=col>exp_cnv</th><th scope=col>cnv_z</th></tr>\n",
       "\t<tr><th></th><th scope=col>&lt;chr&gt;</th><th scope=col>&lt;chr&gt;</th><th scope=col>&lt;chr&gt;</th><th scope=col>&lt;int&gt;</th><th scope=col>&lt;int&gt;</th><th scope=col>&lt;int&gt;</th><th scope=col>&lt;int&gt;</th><th scope=col>&lt;dbl&gt;</th><th scope=col>&lt;dbl&gt;</th><th scope=col>&lt;dbl&gt;</th><th scope=col>...</th><th scope=col>&lt;dbl&gt;</th><th scope=col>&lt;dbl&gt;</th><th scope=col>&lt;dbl&gt;</th><th scope=col>&lt;dbl&gt;</th><th scope=col>&lt;dbl&gt;</th><th scope=col>&lt;dbl&gt;</th><th scope=col>&lt;dbl&gt;</th><th scope=col>&lt;dbl&gt;</th><th scope=col>&lt;dbl&gt;</th><th scope=col>&lt;dbl&gt;</th></tr>\n",
       "</thead>\n",
       "<tbody>\n",
       "\t<tr><th scope=row>1</th><td>ENST00000263100.3</td><td>A1BG   </td><td>19</td><td> 8</td><td>58858387</td><td>58864803</td><td>1488</td><td>1.226238e-05</td><td>2.313709e-05</td><td>1.001499e-06</td><td>...</td><td>104.72874</td><td>199.8078</td><td>12.301382</td><td> 1.07397341</td><td> 1.0314310</td><td> 1.2148449</td><td>9.064924e-05</td><td>  3</td><td> 3.609902</td><td> 0.1114399</td></tr>\n",
       "\t<tr><th scope=row>2</th><td>ENST00000373995.3</td><td>A1CF   </td><td>10</td><td>11</td><td>52566488</td><td>52610547</td><td>1785</td><td>6.398919e-06</td><td>1.544409e-05</td><td>1.898738e-06</td><td>...</td><td> 76.69884</td><td>178.5860</td><td>25.936584</td><td>-0.65840371</td><td> 0.3874580</td><td> 3.2942701</td><td>3.619701e-03</td><td>NaN</td><td>      NaN</td><td>       NaN</td></tr>\n",
       "\t<tr><th scope=row>3</th><td>ENST00000318602.7</td><td>A2M    </td><td>12</td><td>36</td><td> 9220418</td><td> 9268445</td><td>4425</td><td>1.762405e-05</td><td>4.048718e-05</td><td>3.983987e-06</td><td>...</td><td>187.60270</td><td>414.5167</td><td>51.706092</td><td> 0.02727917</td><td> 0.5169173</td><td> 4.9188223</td><td>5.401149e-04</td><td>  3</td><td> 8.706319</td><td> 0.8335034</td></tr>\n",
       "\t<tr><th scope=row>4</th><td>ENST00000299698.7</td><td>A2ML1  </td><td>12</td><td>35</td><td> 8975247</td><td> 9027607</td><td>4365</td><td>1.787013e-05</td><td>4.015104e-05</td><td>3.712316e-06</td><td>...</td><td>216.07566</td><td>467.0402</td><td>56.064599</td><td>-0.41854908</td><td>-0.7912401</td><td> 1.8606843</td><td>1.329022e-22</td><td> 63</td><td>11.846831</td><td>-2.2814308</td></tr>\n",
       "\t<tr><th scope=row>5</th><td>ENST00000442999.3</td><td>A3GALT2</td><td>1 </td><td> 5</td><td>33772366</td><td>33786699</td><td>1023</td><td>1.013949e-05</td><td>1.867596e-05</td><td>7.352112e-07</td><td>...</td><td> 83.27799</td><td>153.7933</td><td> 8.016677</td><td> 2.32862595</td><td> 1.9638967</td><td>-0.3440241</td><td>6.503026e-07</td><td> 70</td><td> 2.768617</td><td>-3.6581477</td></tr>\n",
       "\t<tr><th scope=row>6</th><td>ENST00000401850.1</td><td>A4GALT </td><td>22</td><td> 1</td><td>43088895</td><td>43089957</td><td>1062</td><td>8.501714e-06</td><td>1.641234e-05</td><td>3.955250e-07</td><td>...</td><td> 96.74529</td><td>186.3743</td><td> 4.900477</td><td> 0.61422759</td><td> 1.1240807</td><td> 1.2978961</td><td>1.115987e-01</td><td>  2</td><td> 1.082622</td><td>-0.2080141</td></tr>\n",
       "</tbody>\n",
       "</table>\n"
      ],
      "text/latex": [
       "A data.frame: 6 x 23\n",
       "\\begin{tabular}{r|lllllllllllllllllllll}\n",
       "  & transcript & gene & chr & n\\_exons & tx\\_start & tx\\_end & bp & mu\\_syn & mu\\_mis & mu\\_lof & ... & exp\\_syn & exp\\_mis & exp\\_lof & syn\\_z & mis\\_z & lof\\_z & pLI & n\\_cnv & exp\\_cnv & cnv\\_z\\\\\n",
       "  & <chr> & <chr> & <chr> & <int> & <int> & <int> & <int> & <dbl> & <dbl> & <dbl> & ... & <dbl> & <dbl> & <dbl> & <dbl> & <dbl> & <dbl> & <dbl> & <dbl> & <dbl> & <dbl>\\\\\n",
       "\\hline\n",
       "\t1 & ENST00000263100.3 & A1BG    & 19 &  8 & 58858387 & 58864803 & 1488 & 1.226238e-05 & 2.313709e-05 & 1.001499e-06 & ... & 104.72874 & 199.8078 & 12.301382 &  1.07397341 &  1.0314310 &  1.2148449 & 9.064924e-05 &   3 &  3.609902 &  0.1114399\\\\\n",
       "\t2 & ENST00000373995.3 & A1CF    & 10 & 11 & 52566488 & 52610547 & 1785 & 6.398919e-06 & 1.544409e-05 & 1.898738e-06 & ... &  76.69884 & 178.5860 & 25.936584 & -0.65840371 &  0.3874580 &  3.2942701 & 3.619701e-03 & NaN &       NaN &        NaN\\\\\n",
       "\t3 & ENST00000318602.7 & A2M     & 12 & 36 &  9220418 &  9268445 & 4425 & 1.762405e-05 & 4.048718e-05 & 3.983987e-06 & ... & 187.60270 & 414.5167 & 51.706092 &  0.02727917 &  0.5169173 &  4.9188223 & 5.401149e-04 &   3 &  8.706319 &  0.8335034\\\\\n",
       "\t4 & ENST00000299698.7 & A2ML1   & 12 & 35 &  8975247 &  9027607 & 4365 & 1.787013e-05 & 4.015104e-05 & 3.712316e-06 & ... & 216.07566 & 467.0402 & 56.064599 & -0.41854908 & -0.7912401 &  1.8606843 & 1.329022e-22 &  63 & 11.846831 & -2.2814308\\\\\n",
       "\t5 & ENST00000442999.3 & A3GALT2 & 1  &  5 & 33772366 & 33786699 & 1023 & 1.013949e-05 & 1.867596e-05 & 7.352112e-07 & ... &  83.27799 & 153.7933 &  8.016677 &  2.32862595 &  1.9638967 & -0.3440241 & 6.503026e-07 &  70 &  2.768617 & -3.6581477\\\\\n",
       "\t6 & ENST00000401850.1 & A4GALT  & 22 &  1 & 43088895 & 43089957 & 1062 & 8.501714e-06 & 1.641234e-05 & 3.955250e-07 & ... &  96.74529 & 186.3743 &  4.900477 &  0.61422759 &  1.1240807 &  1.2978961 & 1.115987e-01 &   2 &  1.082622 & -0.2080141\\\\\n",
       "\\end{tabular}\n"
      ],
      "text/markdown": [
       "\n",
       "A data.frame: 6 x 23\n",
       "\n",
       "| <!--/--> | transcript &lt;chr&gt; | gene &lt;chr&gt; | chr &lt;chr&gt; | n_exons &lt;int&gt; | tx_start &lt;int&gt; | tx_end &lt;int&gt; | bp &lt;int&gt; | mu_syn &lt;dbl&gt; | mu_mis &lt;dbl&gt; | mu_lof &lt;dbl&gt; | ... ... | exp_syn &lt;dbl&gt; | exp_mis &lt;dbl&gt; | exp_lof &lt;dbl&gt; | syn_z &lt;dbl&gt; | mis_z &lt;dbl&gt; | lof_z &lt;dbl&gt; | pLI &lt;dbl&gt; | n_cnv &lt;dbl&gt; | exp_cnv &lt;dbl&gt; | cnv_z &lt;dbl&gt; |\n",
       "|---|---|---|---|---|---|---|---|---|---|---|---|---|---|---|---|---|---|---|---|---|---|\n",
       "| 1 | ENST00000263100.3 | A1BG    | 19 |  8 | 58858387 | 58864803 | 1488 | 1.226238e-05 | 2.313709e-05 | 1.001499e-06 | ... | 104.72874 | 199.8078 | 12.301382 |  1.07397341 |  1.0314310 |  1.2148449 | 9.064924e-05 |   3 |  3.609902 |  0.1114399 |\n",
       "| 2 | ENST00000373995.3 | A1CF    | 10 | 11 | 52566488 | 52610547 | 1785 | 6.398919e-06 | 1.544409e-05 | 1.898738e-06 | ... |  76.69884 | 178.5860 | 25.936584 | -0.65840371 |  0.3874580 |  3.2942701 | 3.619701e-03 | NaN |       NaN |        NaN |\n",
       "| 3 | ENST00000318602.7 | A2M     | 12 | 36 |  9220418 |  9268445 | 4425 | 1.762405e-05 | 4.048718e-05 | 3.983987e-06 | ... | 187.60270 | 414.5167 | 51.706092 |  0.02727917 |  0.5169173 |  4.9188223 | 5.401149e-04 |   3 |  8.706319 |  0.8335034 |\n",
       "| 4 | ENST00000299698.7 | A2ML1   | 12 | 35 |  8975247 |  9027607 | 4365 | 1.787013e-05 | 4.015104e-05 | 3.712316e-06 | ... | 216.07566 | 467.0402 | 56.064599 | -0.41854908 | -0.7912401 |  1.8606843 | 1.329022e-22 |  63 | 11.846831 | -2.2814308 |\n",
       "| 5 | ENST00000442999.3 | A3GALT2 | 1  |  5 | 33772366 | 33786699 | 1023 | 1.013949e-05 | 1.867596e-05 | 7.352112e-07 | ... |  83.27799 | 153.7933 |  8.016677 |  2.32862595 |  1.9638967 | -0.3440241 | 6.503026e-07 |  70 |  2.768617 | -3.6581477 |\n",
       "| 6 | ENST00000401850.1 | A4GALT  | 22 |  1 | 43088895 | 43089957 | 1062 | 8.501714e-06 | 1.641234e-05 | 3.955250e-07 | ... |  96.74529 | 186.3743 |  4.900477 |  0.61422759 |  1.1240807 |  1.2978961 | 1.115987e-01 |   2 |  1.082622 | -0.2080141 |\n",
       "\n"
      ],
      "text/plain": [
       "  transcript        gene    chr n_exons tx_start tx_end   bp   mu_syn      \n",
       "1 ENST00000263100.3 A1BG    19   8      58858387 58864803 1488 1.226238e-05\n",
       "2 ENST00000373995.3 A1CF    10  11      52566488 52610547 1785 6.398919e-06\n",
       "3 ENST00000318602.7 A2M     12  36       9220418  9268445 4425 1.762405e-05\n",
       "4 ENST00000299698.7 A2ML1   12  35       8975247  9027607 4365 1.787013e-05\n",
       "5 ENST00000442999.3 A3GALT2 1    5      33772366 33786699 1023 1.013949e-05\n",
       "6 ENST00000401850.1 A4GALT  22   1      43088895 43089957 1062 8.501714e-06\n",
       "  mu_mis       mu_lof       ... exp_syn   exp_mis  exp_lof   syn_z      \n",
       "1 2.313709e-05 1.001499e-06 ... 104.72874 199.8078 12.301382  1.07397341\n",
       "2 1.544409e-05 1.898738e-06 ...  76.69884 178.5860 25.936584 -0.65840371\n",
       "3 4.048718e-05 3.983987e-06 ... 187.60270 414.5167 51.706092  0.02727917\n",
       "4 4.015104e-05 3.712316e-06 ... 216.07566 467.0402 56.064599 -0.41854908\n",
       "5 1.867596e-05 7.352112e-07 ...  83.27799 153.7933  8.016677  2.32862595\n",
       "6 1.641234e-05 3.955250e-07 ...  96.74529 186.3743  4.900477  0.61422759\n",
       "  mis_z      lof_z      pLI          n_cnv exp_cnv   cnv_z     \n",
       "1  1.0314310  1.2148449 9.064924e-05   3    3.609902  0.1114399\n",
       "2  0.3874580  3.2942701 3.619701e-03 NaN         NaN        NaN\n",
       "3  0.5169173  4.9188223 5.401149e-04   3    8.706319  0.8335034\n",
       "4 -0.7912401  1.8606843 1.329022e-22  63   11.846831 -2.2814308\n",
       "5  1.9638967 -0.3440241 6.503026e-07  70    2.768617 -3.6581477\n",
       "6  1.1240807  1.2978961 1.115987e-01   2    1.082622 -0.2080141"
      ]
     },
     "metadata": {},
     "output_type": "display_data"
    }
   ],
   "source": [
    "exac <- fread(\"/u/project/gandalm/shared/refGenomes/gnomAD_ExAC/forweb_cleaned_exac_r03_march16_z_data_pLI_CNV-final.txt.gz\", \n",
    "              data.table = F)\n",
    "head(exac)"
   ]
  },
  {
   "cell_type": "code",
   "execution_count": 3,
   "id": "b551c765",
   "metadata": {},
   "outputs": [
    {
     "data": {
      "text/html": [
       "<style>\n",
       ".list-inline {list-style: none; margin:0; padding: 0}\n",
       ".list-inline>li {display: inline-block}\n",
       ".list-inline>li:not(:last-child)::after {content: \"\\00b7\"; padding: 0 .5ex}\n",
       "</style>\n",
       "<ol class=list-inline><li>18282</li><li>23</li></ol>\n"
      ],
      "text/latex": [
       "\\begin{enumerate*}\n",
       "\\item 18282\n",
       "\\item 23\n",
       "\\end{enumerate*}\n"
      ],
      "text/markdown": [
       "1. 18282\n",
       "2. 23\n",
       "\n",
       "\n"
      ],
      "text/plain": [
       "[1] 18282    23"
      ]
     },
     "metadata": {},
     "output_type": "display_data"
    },
    {
     "data": {
      "text/html": [
       "18225"
      ],
      "text/latex": [
       "18225"
      ],
      "text/markdown": [
       "18225"
      ],
      "text/plain": [
       "[1] 18225"
      ]
     },
     "metadata": {},
     "output_type": "display_data"
    },
    {
     "data": {
      "text/html": [
       "18225"
      ],
      "text/latex": [
       "18225"
      ],
      "text/markdown": [
       "18225"
      ],
      "text/plain": [
       "[1] 18225"
      ]
     },
     "metadata": {},
     "output_type": "display_data"
    }
   ],
   "source": [
    "dim(exac)\n",
    "length(unique(exac$transcript))\n",
    "length(unique(exac$gene))"
   ]
  },
  {
   "cell_type": "code",
   "execution_count": 3,
   "id": "c319d8d7",
   "metadata": {},
   "outputs": [
    {
     "data": {
      "text/html": [
       "18225"
      ],
      "text/latex": [
       "18225"
      ],
      "text/markdown": [
       "18225"
      ],
      "text/plain": [
       "[1] 18225"
      ]
     },
     "metadata": {},
     "output_type": "display_data"
    }
   ],
   "source": [
    "# duplicated gene entries differ in cnv related columns\n",
    "exac <- exac %>% select(gene, pLI)\n",
    "length(unique(exac$gene))"
   ]
  },
  {
   "cell_type": "code",
   "execution_count": 4,
   "id": "1cb286ca",
   "metadata": {},
   "outputs": [],
   "source": [
    "exac <- exac[!duplicated(exac$gene),]"
   ]
  },
  {
   "cell_type": "code",
   "execution_count": 11,
   "id": "d388381e",
   "metadata": {},
   "outputs": [],
   "source": [
    "gencode <- fread(\"../../salmon/gencode.v33lift37.annotation.gene.info.tsv\", data.table = F)"
   ]
  },
  {
   "cell_type": "code",
   "execution_count": 6,
   "id": "0404b7ea",
   "metadata": {},
   "outputs": [],
   "source": [
    "gencode <- gencode %>% filter(V11 == \"protein_coding\", !V1 %in% c(\"chrM\", \"chrX\", \"chrY\")) %>% select(ensg, V11, V12)"
   ]
  },
  {
   "cell_type": "code",
   "execution_count": 7,
   "id": "4ae18052",
   "metadata": {},
   "outputs": [
    {
     "data": {
      "text/html": [
       "<style>\n",
       ".list-inline {list-style: none; margin:0; padding: 0}\n",
       ".list-inline>li {display: inline-block}\n",
       ".list-inline>li:not(:last-child)::after {content: \"\\00b7\"; padding: 0 .5ex}\n",
       "</style>\n",
       "<ol class=list-inline><li>19145</li><li>3</li></ol>\n"
      ],
      "text/latex": [
       "\\begin{enumerate*}\n",
       "\\item 19145\n",
       "\\item 3\n",
       "\\end{enumerate*}\n"
      ],
      "text/markdown": [
       "1. 19145\n",
       "2. 3\n",
       "\n",
       "\n"
      ],
      "text/plain": [
       "[1] 19145     3"
      ]
     },
     "metadata": {},
     "output_type": "display_data"
    },
    {
     "data": {
      "text/html": [
       "19125"
      ],
      "text/latex": [
       "19125"
      ],
      "text/markdown": [
       "19125"
      ],
      "text/plain": [
       "[1] 19125"
      ]
     },
     "metadata": {},
     "output_type": "display_data"
    },
    {
     "data": {
      "text/html": [
       "19145"
      ],
      "text/latex": [
       "19145"
      ],
      "text/markdown": [
       "19145"
      ],
      "text/plain": [
       "[1] 19145"
      ]
     },
     "metadata": {},
     "output_type": "display_data"
    }
   ],
   "source": [
    "dim(gencode)\n",
    "length(unique(gencode$V12)) # different ensg with same name, i.e. \"TBCE\"\n",
    "length(unique(gencode$ensg))"
   ]
  },
  {
   "cell_type": "code",
   "execution_count": 7,
   "id": "64481278",
   "metadata": {},
   "outputs": [
    {
     "data": {
      "text/html": [
       "<style>\n",
       ".list-inline {list-style: none; margin:0; padding: 0}\n",
       ".list-inline>li {display: inline-block}\n",
       ".list-inline>li:not(:last-child)::after {content: \"\\00b7\"; padding: 0 .5ex}\n",
       "</style>\n",
       "<ol class=list-inline><li>19105</li><li>3</li></ol>\n"
      ],
      "text/latex": [
       "\\begin{enumerate*}\n",
       "\\item 19105\n",
       "\\item 3\n",
       "\\end{enumerate*}\n"
      ],
      "text/markdown": [
       "1. 19105\n",
       "2. 3\n",
       "\n",
       "\n"
      ],
      "text/plain": [
       "[1] 19105     3"
      ]
     },
     "metadata": {},
     "output_type": "display_data"
    }
   ],
   "source": [
    "dup <- gencode[duplicated(gencode$V12),]\n",
    "gencode <- gencode %>% filter(!V12 %in% dup$V12)\n",
    "dim(gencode)"
   ]
  },
  {
   "cell_type": "code",
   "execution_count": 8,
   "id": "36e7949d",
   "metadata": {},
   "outputs": [
    {
     "data": {
      "text/html": [
       "<table class=\"dataframe\">\n",
       "<caption>A data.frame: 6 x 4</caption>\n",
       "<thead>\n",
       "\t<tr><th></th><th scope=col>gene</th><th scope=col>pLI</th><th scope=col>ensg</th><th scope=col>V11</th></tr>\n",
       "\t<tr><th></th><th scope=col>&lt;chr&gt;</th><th scope=col>&lt;dbl&gt;</th><th scope=col>&lt;chr&gt;</th><th scope=col>&lt;chr&gt;</th></tr>\n",
       "</thead>\n",
       "<tbody>\n",
       "\t<tr><th scope=row>1</th><td>A1BG   </td><td>9.064924e-05</td><td>ENSG00000121410</td><td>protein_coding</td></tr>\n",
       "\t<tr><th scope=row>2</th><td>A1CF   </td><td>3.619701e-03</td><td>ENSG00000148584</td><td>protein_coding</td></tr>\n",
       "\t<tr><th scope=row>3</th><td>A2M    </td><td>5.401149e-04</td><td>ENSG00000175899</td><td>protein_coding</td></tr>\n",
       "\t<tr><th scope=row>4</th><td>A2ML1  </td><td>1.329022e-22</td><td>ENSG00000166535</td><td>protein_coding</td></tr>\n",
       "\t<tr><th scope=row>5</th><td>A3GALT2</td><td>6.503026e-07</td><td>ENSG00000184389</td><td>protein_coding</td></tr>\n",
       "\t<tr><th scope=row>6</th><td>A4GALT </td><td>1.115987e-01</td><td>ENSG00000128274</td><td>protein_coding</td></tr>\n",
       "</tbody>\n",
       "</table>\n"
      ],
      "text/latex": [
       "A data.frame: 6 x 4\n",
       "\\begin{tabular}{r|llll}\n",
       "  & gene & pLI & ensg & V11\\\\\n",
       "  & <chr> & <dbl> & <chr> & <chr>\\\\\n",
       "\\hline\n",
       "\t1 & A1BG    & 9.064924e-05 & ENSG00000121410 & protein\\_coding\\\\\n",
       "\t2 & A1CF    & 3.619701e-03 & ENSG00000148584 & protein\\_coding\\\\\n",
       "\t3 & A2M     & 5.401149e-04 & ENSG00000175899 & protein\\_coding\\\\\n",
       "\t4 & A2ML1   & 1.329022e-22 & ENSG00000166535 & protein\\_coding\\\\\n",
       "\t5 & A3GALT2 & 6.503026e-07 & ENSG00000184389 & protein\\_coding\\\\\n",
       "\t6 & A4GALT  & 1.115987e-01 & ENSG00000128274 & protein\\_coding\\\\\n",
       "\\end{tabular}\n"
      ],
      "text/markdown": [
       "\n",
       "A data.frame: 6 x 4\n",
       "\n",
       "| <!--/--> | gene &lt;chr&gt; | pLI &lt;dbl&gt; | ensg &lt;chr&gt; | V11 &lt;chr&gt; |\n",
       "|---|---|---|---|---|\n",
       "| 1 | A1BG    | 9.064924e-05 | ENSG00000121410 | protein_coding |\n",
       "| 2 | A1CF    | 3.619701e-03 | ENSG00000148584 | protein_coding |\n",
       "| 3 | A2M     | 5.401149e-04 | ENSG00000175899 | protein_coding |\n",
       "| 4 | A2ML1   | 1.329022e-22 | ENSG00000166535 | protein_coding |\n",
       "| 5 | A3GALT2 | 6.503026e-07 | ENSG00000184389 | protein_coding |\n",
       "| 6 | A4GALT  | 1.115987e-01 | ENSG00000128274 | protein_coding |\n",
       "\n"
      ],
      "text/plain": [
       "  gene    pLI          ensg            V11           \n",
       "1 A1BG    9.064924e-05 ENSG00000121410 protein_coding\n",
       "2 A1CF    3.619701e-03 ENSG00000148584 protein_coding\n",
       "3 A2M     5.401149e-04 ENSG00000175899 protein_coding\n",
       "4 A2ML1   1.329022e-22 ENSG00000166535 protein_coding\n",
       "5 A3GALT2 6.503026e-07 ENSG00000184389 protein_coding\n",
       "6 A4GALT  1.115987e-01 ENSG00000128274 protein_coding"
      ]
     },
     "metadata": {},
     "output_type": "display_data"
    },
    {
     "data": {
      "text/html": [
       "<style>\n",
       ".list-inline {list-style: none; margin:0; padding: 0}\n",
       ".list-inline>li {display: inline-block}\n",
       ".list-inline>li:not(:last-child)::after {content: \"\\00b7\"; padding: 0 .5ex}\n",
       "</style>\n",
       "<ol class=list-inline><li>16353</li><li>4</li></ol>\n"
      ],
      "text/latex": [
       "\\begin{enumerate*}\n",
       "\\item 16353\n",
       "\\item 4\n",
       "\\end{enumerate*}\n"
      ],
      "text/markdown": [
       "1. 16353\n",
       "2. 4\n",
       "\n",
       "\n"
      ],
      "text/plain": [
       "[1] 16353     4"
      ]
     },
     "metadata": {},
     "output_type": "display_data"
    }
   ],
   "source": [
    "exac <- exac %>% inner_join(gencode, by = c(\"gene\" = \"V12\"))\n",
    "head(exac)\n",
    "dim(exac)"
   ]
  },
  {
   "cell_type": "code",
   "execution_count": 44,
   "id": "e40713ca",
   "metadata": {},
   "outputs": [],
   "source": [
    "# gencode <- gencode %>% inner_join(exac, by = c(\"ensg\"))\n",
    "# dim(gencode)"
   ]
  },
  {
   "cell_type": "markdown",
   "id": "295829a4",
   "metadata": {},
   "source": [
    "**Read in eGenes: fetal, GTEx, PEC**"
   ]
  },
  {
   "cell_type": "code",
   "execution_count": 2,
   "id": "0acc084f",
   "metadata": {},
   "outputs": [],
   "source": [
    "# fetal <- fread(\"../results/mixed_perm_90hcp/sig_pheno_info.txt\", data.table = F)\n",
    "fetal <- fread(\"../results/mixed_perm_90hcp/all_assoc_perm_info.txt\", data.table = F)\n",
    "gtex <- fread(\"/u/project/gandalm/shared/GenomicDatasets/GTEx/GTEx_Analysis_v8_eQTL/Brain_Cortex.v8.egenes.txt.gz\", data.table = F)\n",
    "pec <- fread(\"/u/project/gandalm/shared/GenomicDatasets/PsychENCODE/xQTL/eQTL/QTLtools_perm/PEC_geneQTL_perm_geneHCP100+gPCs20+AllMeta_assoc.txt.gz\", data.table = F, fill = T)"
   ]
  },
  {
   "cell_type": "code",
   "execution_count": 3,
   "id": "26d0e4eb",
   "metadata": {},
   "outputs": [],
   "source": [
    "gtex <- gtex %>% separate(gene_id, c(\"gene_ensg\", \"gene_version\"), sep = \"[.]\", remove = FALSE)"
   ]
  },
  {
   "cell_type": "code",
   "execution_count": 4,
   "id": "0c685349",
   "metadata": {},
   "outputs": [],
   "source": [
    "fetal.sig <- fetal %>% filter(qval < 0.05)"
   ]
  },
  {
   "cell_type": "code",
   "execution_count": 5,
   "id": "4c343d99",
   "metadata": {},
   "outputs": [],
   "source": [
    "gtex.sig <- gtex %>% filter(qval < 0.05)"
   ]
  },
  {
   "cell_type": "code",
   "execution_count": 6,
   "id": "9120c172",
   "metadata": {},
   "outputs": [],
   "source": [
    "pec.sig <- pec %>% filter(qval < 0.05)"
   ]
  },
  {
   "cell_type": "code",
   "execution_count": 21,
   "id": "a2f7da71",
   "metadata": {},
   "outputs": [
    {
     "data": {
      "text/html": [
       "<style>\n",
       ".list-inline {list-style: none; margin:0; padding: 0}\n",
       ".list-inline>li {display: inline-block}\n",
       ".list-inline>li:not(:last-child)::after {content: \"\\00b7\"; padding: 0 .5ex}\n",
       "</style>\n",
       "<ol class=list-inline><li>10094</li><li>15</li></ol>\n"
      ],
      "text/latex": [
       "\\begin{enumerate*}\n",
       "\\item 10094\n",
       "\\item 15\n",
       "\\end{enumerate*}\n"
      ],
      "text/markdown": [
       "1. 10094\n",
       "2. 15\n",
       "\n",
       "\n"
      ],
      "text/plain": [
       "[1] 10094    15"
      ]
     },
     "metadata": {},
     "output_type": "display_data"
    },
    {
     "data": {
      "text/html": [
       "<style>\n",
       ".list-inline {list-style: none; margin:0; padding: 0}\n",
       ".list-inline>li {display: inline-block}\n",
       ".list-inline>li:not(:last-child)::after {content: \"\\00b7\"; padding: 0 .5ex}\n",
       "</style>\n",
       "<ol class=list-inline><li>9082</li><li>35</li></ol>\n"
      ],
      "text/latex": [
       "\\begin{enumerate*}\n",
       "\\item 9082\n",
       "\\item 35\n",
       "\\end{enumerate*}\n"
      ],
      "text/markdown": [
       "1. 9082\n",
       "2. 35\n",
       "\n",
       "\n"
      ],
      "text/plain": [
       "[1] 9082   35"
      ]
     },
     "metadata": {},
     "output_type": "display_data"
    },
    {
     "data": {
      "text/html": [
       "<style>\n",
       ".list-inline {list-style: none; margin:0; padding: 0}\n",
       ".list-inline>li {display: inline-block}\n",
       ".list-inline>li:not(:last-child)::after {content: \"\\00b7\"; padding: 0 .5ex}\n",
       "</style>\n",
       "<ol class=list-inline><li>16295</li><li>20</li></ol>\n"
      ],
      "text/latex": [
       "\\begin{enumerate*}\n",
       "\\item 16295\n",
       "\\item 20\n",
       "\\end{enumerate*}\n"
      ],
      "text/markdown": [
       "1. 16295\n",
       "2. 20\n",
       "\n",
       "\n"
      ],
      "text/plain": [
       "[1] 16295    20"
      ]
     },
     "metadata": {},
     "output_type": "display_data"
    }
   ],
   "source": [
    "dim(fetal.sig)\n",
    "dim(gtex.sig)\n",
    "dim(pec.sig)"
   ]
  },
  {
   "cell_type": "code",
   "execution_count": 7,
   "id": "cb4c05a9",
   "metadata": {},
   "outputs": [
    {
     "data": {
      "text/html": [
       "<style>\n",
       ".list-inline {list-style: none; margin:0; padding: 0}\n",
       ".list-inline>li {display: inline-block}\n",
       ".list-inline>li:not(:last-child)::after {content: \"\\00b7\"; padding: 0 .5ex}\n",
       "</style>\n",
       "<ol class=list-inline><li>2488</li><li>1</li></ol>\n"
      ],
      "text/latex": [
       "\\begin{enumerate*}\n",
       "\\item 2488\n",
       "\\item 1\n",
       "\\end{enumerate*}\n"
      ],
      "text/markdown": [
       "1. 2488\n",
       "2. 1\n",
       "\n",
       "\n"
      ],
      "text/plain": [
       "[1] 2488    1"
      ]
     },
     "metadata": {},
     "output_type": "display_data"
    }
   ],
   "source": [
    "fetal_only <- as.data.frame(setdiff(unique(fetal.sig$pid), unique(c(gtex.sig$gene_ensg, pec.sig$pid))))\n",
    "dim(fetal_only)"
   ]
  },
  {
   "cell_type": "code",
   "execution_count": 17,
   "id": "e9276caa",
   "metadata": {},
   "outputs": [],
   "source": [
    "# fetal_only <- fetal_only %>% left_join(gencode, by = c(\"gene\" = \"ensg\")) %>% select(gene, V11, V12)\n",
    "# write.table(fetal_only, \"../results/mixed_perm_90hcp/fetal_only_eGene.tsv\", col.names = F, row.names = F, quote = F, sep = \"\\t\")"
   ]
  },
  {
   "cell_type": "code",
   "execution_count": 15,
   "id": "0ccaf091",
   "metadata": {},
   "outputs": [
    {
     "data": {
      "text/html": [
       "<style>\n",
       ".list-inline {list-style: none; margin:0; padding: 0}\n",
       ".list-inline>li {display: inline-block}\n",
       ".list-inline>li:not(:last-child)::after {content: \"\\00b7\"; padding: 0 .5ex}\n",
       "</style>\n",
       "<ol class=list-inline><li>7606</li><li>1</li></ol>\n"
      ],
      "text/latex": [
       "\\begin{enumerate*}\n",
       "\\item 7606\n",
       "\\item 1\n",
       "\\end{enumerate*}\n"
      ],
      "text/markdown": [
       "1. 7606\n",
       "2. 1\n",
       "\n",
       "\n"
      ],
      "text/plain": [
       "[1] 7606    1"
      ]
     },
     "metadata": {},
     "output_type": "display_data"
    }
   ],
   "source": [
    "shared <- as.data.frame(intersect(unique(fetal.sig$pid), c(pec.sig$pid, gtex.sig$gene_ensg)))\n",
    "dim(shared)"
   ]
  },
  {
   "cell_type": "code",
   "execution_count": 16,
   "id": "8e2f6963",
   "metadata": {},
   "outputs": [
    {
     "data": {
      "text/html": [
       "<style>\n",
       ".list-inline {list-style: none; margin:0; padding: 0}\n",
       ".list-inline>li {display: inline-block}\n",
       ".list-inline>li:not(:last-child)::after {content: \"\\00b7\"; padding: 0 .5ex}\n",
       "</style>\n",
       "<ol class=list-inline><li>10792</li><li>1</li></ol>\n"
      ],
      "text/latex": [
       "\\begin{enumerate*}\n",
       "\\item 10792\n",
       "\\item 1\n",
       "\\end{enumerate*}\n"
      ],
      "text/markdown": [
       "1. 10792\n",
       "2. 1\n",
       "\n",
       "\n"
      ],
      "text/plain": [
       "[1] 10792     1"
      ]
     },
     "metadata": {},
     "output_type": "display_data"
    }
   ],
   "source": [
    "adult_only <- as.data.frame(setdiff(c(pec.sig$pid, gtex.sig$gene_ensg), shared$`intersect(unique(fetal.sig$pid), c(pec.sig$pid, gtex.sig$gene_ensg))`))\n",
    "dim(adult_only)"
   ]
  },
  {
   "cell_type": "code",
   "execution_count": 17,
   "id": "40b90e12",
   "metadata": {},
   "outputs": [],
   "source": [
    "colnames(fetal_only)[1] <- colnames(shared)[1] <- colnames(adult_only)[1] <- \"gene\""
   ]
  },
  {
   "cell_type": "code",
   "execution_count": 18,
   "id": "d7d3f65d",
   "metadata": {},
   "outputs": [],
   "source": [
    "fetal_only <- fetal_only %>% inner_join(exac, by = c(\"gene\" = \"ensg\"))\n",
    "shared <- shared %>% inner_join(exac, by = c(\"gene\" = \"ensg\"))\n",
    "adult_only <- adult_only %>% inner_join(exac, by = c(\"gene\" = \"ensg\"))"
   ]
  },
  {
   "cell_type": "code",
   "execution_count": 19,
   "id": "5236fe43",
   "metadata": {},
   "outputs": [
    {
     "data": {
      "text/html": [
       "<style>\n",
       ".list-inline {list-style: none; margin:0; padding: 0}\n",
       ".list-inline>li {display: inline-block}\n",
       ".list-inline>li:not(:last-child)::after {content: \"\\00b7\"; padding: 0 .5ex}\n",
       "</style>\n",
       "<ol class=list-inline><li>576</li><li>4</li></ol>\n"
      ],
      "text/latex": [
       "\\begin{enumerate*}\n",
       "\\item 576\n",
       "\\item 4\n",
       "\\end{enumerate*}\n"
      ],
      "text/markdown": [
       "1. 576\n",
       "2. 4\n",
       "\n",
       "\n"
      ],
      "text/plain": [
       "[1] 576   4"
      ]
     },
     "metadata": {},
     "output_type": "display_data"
    },
    {
     "data": {
      "text/html": [
       "<style>\n",
       ".list-inline {list-style: none; margin:0; padding: 0}\n",
       ".list-inline>li {display: inline-block}\n",
       ".list-inline>li:not(:last-child)::after {content: \"\\00b7\"; padding: 0 .5ex}\n",
       "</style>\n",
       "<ol class=list-inline><li>4952</li><li>4</li></ol>\n"
      ],
      "text/latex": [
       "\\begin{enumerate*}\n",
       "\\item 4952\n",
       "\\item 4\n",
       "\\end{enumerate*}\n"
      ],
      "text/markdown": [
       "1. 4952\n",
       "2. 4\n",
       "\n",
       "\n"
      ],
      "text/plain": [
       "[1] 4952    4"
      ]
     },
     "metadata": {},
     "output_type": "display_data"
    },
    {
     "data": {
      "text/html": [
       "<style>\n",
       ".list-inline {list-style: none; margin:0; padding: 0}\n",
       ".list-inline>li {display: inline-block}\n",
       ".list-inline>li:not(:last-child)::after {content: \"\\00b7\"; padding: 0 .5ex}\n",
       "</style>\n",
       "<ol class=list-inline><li>6352</li><li>4</li></ol>\n"
      ],
      "text/latex": [
       "\\begin{enumerate*}\n",
       "\\item 6352\n",
       "\\item 4\n",
       "\\end{enumerate*}\n"
      ],
      "text/markdown": [
       "1. 6352\n",
       "2. 4\n",
       "\n",
       "\n"
      ],
      "text/plain": [
       "[1] 6352    4"
      ]
     },
     "metadata": {},
     "output_type": "display_data"
    }
   ],
   "source": [
    "dim(fetal_only)\n",
    "dim(shared)\n",
    "dim(adult_only)"
   ]
  },
  {
   "cell_type": "code",
   "execution_count": 20,
   "id": "430b83ab",
   "metadata": {},
   "outputs": [
    {
     "data": {
      "text/html": [
       "<style>\n",
       ".list-inline {list-style: none; margin:0; padding: 0}\n",
       ".list-inline>li {display: inline-block}\n",
       ".list-inline>li:not(:last-child)::after {content: \"\\00b7\"; padding: 0 .5ex}\n",
       "</style>\n",
       "<ol class=list-inline><li>4473</li><li>4</li></ol>\n"
      ],
      "text/latex": [
       "\\begin{enumerate*}\n",
       "\\item 4473\n",
       "\\item 4\n",
       "\\end{enumerate*}\n"
      ],
      "text/markdown": [
       "1. 4473\n",
       "2. 4\n",
       "\n",
       "\n"
      ],
      "text/plain": [
       "[1] 4473    4"
      ]
     },
     "metadata": {},
     "output_type": "display_data"
    }
   ],
   "source": [
    "non_egene <- exac %>% filter(!ensg %in% c(fetal.sig$pid, gtex.sig$gene_ensg, pec.sig$pid))\n",
    "dim(non_egene)"
   ]
  },
  {
   "cell_type": "code",
   "execution_count": 21,
   "id": "0ed81b50",
   "metadata": {},
   "outputs": [
    {
     "data": {
      "text/html": [
       "<style>\n",
       ".list-inline {list-style: none; margin:0; padding: 0}\n",
       ".list-inline>li {display: inline-block}\n",
       ".list-inline>li:not(:last-child)::after {content: \"\\00b7\"; padding: 0 .5ex}\n",
       "</style>\n",
       "<ol class=list-inline><li>3136</li><li>4</li></ol>\n"
      ],
      "text/latex": [
       "\\begin{enumerate*}\n",
       "\\item 3136\n",
       "\\item 4\n",
       "\\end{enumerate*}\n"
      ],
      "text/markdown": [
       "1. 3136\n",
       "2. 4\n",
       "\n",
       "\n"
      ],
      "text/plain": [
       "[1] 3136    4"
      ]
     },
     "metadata": {},
     "output_type": "display_data"
    }
   ],
   "source": [
    "non_egene <- non_egene %>% filter(ensg %in% c(fetal$pid, pec$pid, gtex$gene_ensg))\n",
    "dim(non_egene)"
   ]
  },
  {
   "cell_type": "code",
   "execution_count": 22,
   "id": "b7376900",
   "metadata": {},
   "outputs": [],
   "source": [
    "non_egene <- non_egene %>% select(ensg, gene, pLI, V11)\n",
    "colnames(non_egene) <- c(\"gene\", \"gene.y\", \"pLI\", \"V11\")"
   ]
  },
  {
   "cell_type": "code",
   "execution_count": 23,
   "id": "5c353b59",
   "metadata": {},
   "outputs": [],
   "source": [
    "df <- rbind(fetal_only, shared, adult_only, non_egene)\n",
    "df$group <- c(rep(\"Fetal eGene\", 576), rep(\"Shared\", 4952), rep(\"Adult eGene\", 6352), rep(\"non-eGene\", 3136))\n",
    "df$group <- factor(df$group, levels = c(\"Fetal eGene\", \"Shared\", \"Adult eGene\", \"non-eGene\"))"
   ]
  },
  {
   "cell_type": "code",
   "execution_count": 35,
   "id": "a5e5dbce",
   "metadata": {},
   "outputs": [
    {
     "data": {
      "text/plain": [
       "\n",
       "\tWilcoxon rank sum test with continuity correction\n",
       "\n",
       "data:  df[df$group == \"Fetal eGene\", \"pLI\"] and df[df$group == \"Shared\", \"pLI\"]\n",
       "W = 1736812, p-value < 2.2e-16\n",
       "alternative hypothesis: true location shift is not equal to 0\n"
      ]
     },
     "metadata": {},
     "output_type": "display_data"
    },
    {
     "data": {
      "text/plain": [
       "\n",
       "\tWilcoxon rank sum test with continuity correction\n",
       "\n",
       "data:  df[df$group == \"Fetal eGene\", \"pLI\"] and df[df$group == \"Adult eGene\", \"pLI\"]\n",
       "W = 1891883, p-value = 0.1739\n",
       "alternative hypothesis: true location shift is not equal to 0\n"
      ]
     },
     "metadata": {},
     "output_type": "display_data"
    },
    {
     "data": {
      "text/plain": [
       "\n",
       "\tWilcoxon rank sum test with continuity correction\n",
       "\n",
       "data:  df[df$group == \"Fetal eGene\", \"pLI\"] and df[df$group == \"non-eGene\", \"pLI\"]\n",
       "W = 921438, p-value = 0.4397\n",
       "alternative hypothesis: true location shift is not equal to 0\n"
      ]
     },
     "metadata": {},
     "output_type": "display_data"
    }
   ],
   "source": [
    "wilcox.test(df[df$group == \"Fetal eGene\",'pLI'], df[df$group == \"Shared\",'pLI'], two.sided = TRUE)\n",
    "wilcox.test(df[df$group == \"Fetal eGene\",'pLI'], df[df$group == \"Adult eGene\",'pLI'], two.sided = TRUE)\n",
    "wilcox.test(df[df$group == \"Fetal eGene\",'pLI'], df[df$group == \"non-eGene\",'pLI'], two.sided = TRUE)"
   ]
  },
  {
   "cell_type": "code",
   "execution_count": 39,
   "id": "e15e7b7f",
   "metadata": {},
   "outputs": [
    {
     "name": "stderr",
     "output_type": "stream",
     "text": [
      "Warning message:\n",
      "“`fun.y` is deprecated. Use `fun` instead.”\n",
      "Warning message:\n",
      "“`show_guide` has been deprecated. Please use `show.legend` instead.”\n"
     ]
    },
    {
     "data": {
      "image/png": "[encoded data removed]",
      "text/plain": [
       "plot without title"
      ]
     },
     "metadata": {
      "image/png": {
       "height": 360,
       "width": 480
      }
     },
     "output_type": "display_data"
    }
   ],
   "source": [
    "options(repr.plot.width = 8, repr.plot.height = 6)\n",
    "\n",
    "ggplot(df, aes(x = group, y = pLI, fill = group, color = group)) +\n",
    "geom_violin(alpha = 0.3, trim = TRUE) +\n",
    "geom_boxplot(width = 0.05) +\n",
    "labs(x = \"Gene group\", y = \"pLI constraint score\") + \n",
    "theme_classic() +\n",
    "theme(axis.text = element_text(size = 16),\n",
    "      axis.title = element_text(size = 18),\n",
    "      legend.position = \"none\") +\n",
    "# scale_fill_manual(values = c(\"#6699FF\", \"#999999\")) +\n",
    "# scale_color_manual(values = c(\"#6699FF\", \"#999999\")) +\n",
    "scale_color_d3() +\n",
    "scale_fill_d3() +\n",
    "stat_summary(fun.y = median, geom = \"point\", \n",
    "             shape = 21, size = 5, show_guide = FALSE, fill = \"white\", stroke = 1.5) +\n",
    "geom_signif(\n",
    "        comparisons = list(c(\"Fetal eGene\", \"Shared\")),\n",
    "        annotation = \"Wilcoxon, p < 2.2e-16\",\n",
    "        textsize = 6,\n",
    "        color = \"black\"\n",
    "  )\n"
   ]
  },
  {
   "cell_type": "code",
   "execution_count": 42,
   "id": "65c94db4",
   "metadata": {},
   "outputs": [],
   "source": [
    "ggsave(\"../figures/pLI.pdf\", width = 8, height = 6)"
   ]
  },
  {
   "cell_type": "markdown",
   "id": "ffde1e8d",
   "metadata": {},
   "source": [
    "**Fetal: eGene vs non-eGene**"
   ]
  },
  {
   "cell_type": "code",
   "execution_count": 7,
   "id": "077b371d",
   "metadata": {},
   "outputs": [
    {
     "data": {
      "text/html": [
       "30993"
      ],
      "text/latex": [
       "30993"
      ],
      "text/markdown": [
       "30993"
      ],
      "text/plain": [
       "[1] 30993"
      ]
     },
     "metadata": {},
     "output_type": "display_data"
    },
    {
     "data": {
      "text/html": [
       "31531"
      ],
      "text/latex": [
       "31531"
      ],
      "text/markdown": [
       "31531"
      ],
      "text/plain": [
       "[1] 31531"
      ]
     },
     "metadata": {},
     "output_type": "display_data"
    }
   ],
   "source": [
    "length(unique(fetal$gene_name))\n",
    "length(unique(fetal$pid))"
   ]
  },
  {
   "cell_type": "code",
   "execution_count": 43,
   "id": "b8e76527",
   "metadata": {},
   "outputs": [],
   "source": [
    "fetal <- fetal %>% mutate(sig = ifelse(fetal$qval < 0.05, \"eGene\", \"non-eGene\"))"
   ]
  },
  {
   "cell_type": "code",
   "execution_count": 44,
   "id": "5e82304e",
   "metadata": {},
   "outputs": [
    {
     "data": {
      "text/plain": [
       "\n",
       "    eGene non-eGene \n",
       "    10094     21437 "
      ]
     },
     "metadata": {},
     "output_type": "display_data"
    }
   ],
   "source": [
    "table(fetal$sig)"
   ]
  },
  {
   "cell_type": "code",
   "execution_count": 45,
   "id": "0353ba7d",
   "metadata": {},
   "outputs": [
    {
     "data": {
      "text/html": [
       "193"
      ],
      "text/latex": [
       "193"
      ],
      "text/markdown": [
       "193"
      ],
      "text/plain": [
       "[1] 193"
      ]
     },
     "metadata": {},
     "output_type": "display_data"
    }
   ],
   "source": [
    "# remove duplicated gene names (Y_RNA, U3, etc.)\n",
    "# or will have genes with the same name but in both sig and non-sig\n",
    "dup_name <- unique(fetal[duplicated(fetal$gene_name),'gene_name'])\n",
    "length(dup_name)"
   ]
  },
  {
   "cell_type": "code",
   "execution_count": 46,
   "id": "6b2059c6",
   "metadata": {},
   "outputs": [
    {
     "data": {
      "text/html": [
       "30800"
      ],
      "text/latex": [
       "30800"
      ],
      "text/markdown": [
       "30800"
      ],
      "text/plain": [
       "[1] 30800"
      ]
     },
     "metadata": {},
     "output_type": "display_data"
    },
    {
     "data": {
      "text/html": [
       "30800"
      ],
      "text/latex": [
       "30800"
      ],
      "text/markdown": [
       "30800"
      ],
      "text/plain": [
       "[1] 30800"
      ]
     },
     "metadata": {},
     "output_type": "display_data"
    },
    {
     "data": {
      "text/html": [
       "<style>\n",
       ".list-inline {list-style: none; margin:0; padding: 0}\n",
       ".list-inline>li {display: inline-block}\n",
       ".list-inline>li:not(:last-child)::after {content: \"\\00b7\"; padding: 0 .5ex}\n",
       "</style>\n",
       "<ol class=list-inline><li>30800</li><li>16</li></ol>\n"
      ],
      "text/latex": [
       "\\begin{enumerate*}\n",
       "\\item 30800\n",
       "\\item 16\n",
       "\\end{enumerate*}\n"
      ],
      "text/markdown": [
       "1. 30800\n",
       "2. 16\n",
       "\n",
       "\n"
      ],
      "text/plain": [
       "[1] 30800    16"
      ]
     },
     "metadata": {},
     "output_type": "display_data"
    }
   ],
   "source": [
    "fetal2 <- fetal %>% filter(!gene_name %in% dup_name)\n",
    "length(unique(fetal2$pid))\n",
    "length(unique(fetal2$gene_name))\n",
    "dim(fetal2)"
   ]
  },
  {
   "cell_type": "code",
   "execution_count": 49,
   "id": "81613171",
   "metadata": {},
   "outputs": [
    {
     "data": {
      "text/html": [
       "30800"
      ],
      "text/latex": [
       "30800"
      ],
      "text/markdown": [
       "30800"
      ],
      "text/plain": [
       "[1] 30800"
      ]
     },
     "metadata": {},
     "output_type": "display_data"
    },
    {
     "data": {
      "text/html": [
       "30800"
      ],
      "text/latex": [
       "30800"
      ],
      "text/markdown": [
       "30800"
      ],
      "text/plain": [
       "[1] 30800"
      ]
     },
     "metadata": {},
     "output_type": "display_data"
    }
   ],
   "source": [
    "length(unique(fetal2$pid))\n",
    "length(unique(fetal2$gene_name))"
   ]
  },
  {
   "cell_type": "code",
   "execution_count": 50,
   "id": "f0a1f56d",
   "metadata": {},
   "outputs": [
    {
     "data": {
      "text/plain": [
       "\n",
       "    eGene non-eGene \n",
       "     9977     20823 "
      ]
     },
     "metadata": {},
     "output_type": "display_data"
    }
   ],
   "source": [
    "table(fetal2$sig)"
   ]
  },
  {
   "cell_type": "code",
   "execution_count": 51,
   "id": "18b1f93d",
   "metadata": {},
   "outputs": [
    {
     "data": {
      "text/html": [
       "<style>\n",
       ".list-inline {list-style: none; margin:0; padding: 0}\n",
       ".list-inline>li {display: inline-block}\n",
       ".list-inline>li:not(:last-child)::after {content: \"\\00b7\"; padding: 0 .5ex}\n",
       "</style>\n",
       "<ol class=list-inline><li>16150</li><li>16</li></ol>\n"
      ],
      "text/latex": [
       "\\begin{enumerate*}\n",
       "\\item 16150\n",
       "\\item 16\n",
       "\\end{enumerate*}\n"
      ],
      "text/markdown": [
       "1. 16150\n",
       "2. 16\n",
       "\n",
       "\n"
      ],
      "text/plain": [
       "[1] 16150    16"
      ]
     },
     "metadata": {},
     "output_type": "display_data"
    }
   ],
   "source": [
    "fetal2 <- fetal2 %>% filter(gene_type == \"protein_coding\")\n",
    "dim(fetal2)"
   ]
  },
  {
   "cell_type": "code",
   "execution_count": 52,
   "id": "95b7e47f",
   "metadata": {},
   "outputs": [
    {
     "data": {
      "text/plain": [
       "\n",
       "    eGene non-eGene \n",
       "     6262      9888 "
      ]
     },
     "metadata": {},
     "output_type": "display_data"
    }
   ],
   "source": [
    "table(fetal2$sig)"
   ]
  },
  {
   "cell_type": "code",
   "execution_count": 53,
   "id": "f74ed34e",
   "metadata": {},
   "outputs": [
    {
     "data": {
      "text/html": [
       "<table class=\"dataframe\">\n",
       "<caption>A data.frame: 6 x 4</caption>\n",
       "<thead>\n",
       "\t<tr><th></th><th scope=col>gene</th><th scope=col>pLI</th><th scope=col>ensg</th><th scope=col>V11</th></tr>\n",
       "\t<tr><th></th><th scope=col>&lt;chr&gt;</th><th scope=col>&lt;dbl&gt;</th><th scope=col>&lt;chr&gt;</th><th scope=col>&lt;chr&gt;</th></tr>\n",
       "</thead>\n",
       "<tbody>\n",
       "\t<tr><th scope=row>1</th><td>A1BG   </td><td>9.064924e-05</td><td>ENSG00000121410</td><td>protein_coding</td></tr>\n",
       "\t<tr><th scope=row>2</th><td>A1CF   </td><td>3.619701e-03</td><td>ENSG00000148584</td><td>protein_coding</td></tr>\n",
       "\t<tr><th scope=row>3</th><td>A2M    </td><td>5.401149e-04</td><td>ENSG00000175899</td><td>protein_coding</td></tr>\n",
       "\t<tr><th scope=row>4</th><td>A2ML1  </td><td>1.329022e-22</td><td>ENSG00000166535</td><td>protein_coding</td></tr>\n",
       "\t<tr><th scope=row>5</th><td>A3GALT2</td><td>6.503026e-07</td><td>ENSG00000184389</td><td>protein_coding</td></tr>\n",
       "\t<tr><th scope=row>6</th><td>A4GALT </td><td>1.115987e-01</td><td>ENSG00000128274</td><td>protein_coding</td></tr>\n",
       "</tbody>\n",
       "</table>\n"
      ],
      "text/latex": [
       "A data.frame: 6 x 4\n",
       "\\begin{tabular}{r|llll}\n",
       "  & gene & pLI & ensg & V11\\\\\n",
       "  & <chr> & <dbl> & <chr> & <chr>\\\\\n",
       "\\hline\n",
       "\t1 & A1BG    & 9.064924e-05 & ENSG00000121410 & protein\\_coding\\\\\n",
       "\t2 & A1CF    & 3.619701e-03 & ENSG00000148584 & protein\\_coding\\\\\n",
       "\t3 & A2M     & 5.401149e-04 & ENSG00000175899 & protein\\_coding\\\\\n",
       "\t4 & A2ML1   & 1.329022e-22 & ENSG00000166535 & protein\\_coding\\\\\n",
       "\t5 & A3GALT2 & 6.503026e-07 & ENSG00000184389 & protein\\_coding\\\\\n",
       "\t6 & A4GALT  & 1.115987e-01 & ENSG00000128274 & protein\\_coding\\\\\n",
       "\\end{tabular}\n"
      ],
      "text/markdown": [
       "\n",
       "A data.frame: 6 x 4\n",
       "\n",
       "| <!--/--> | gene &lt;chr&gt; | pLI &lt;dbl&gt; | ensg &lt;chr&gt; | V11 &lt;chr&gt; |\n",
       "|---|---|---|---|---|\n",
       "| 1 | A1BG    | 9.064924e-05 | ENSG00000121410 | protein_coding |\n",
       "| 2 | A1CF    | 3.619701e-03 | ENSG00000148584 | protein_coding |\n",
       "| 3 | A2M     | 5.401149e-04 | ENSG00000175899 | protein_coding |\n",
       "| 4 | A2ML1   | 1.329022e-22 | ENSG00000166535 | protein_coding |\n",
       "| 5 | A3GALT2 | 6.503026e-07 | ENSG00000184389 | protein_coding |\n",
       "| 6 | A4GALT  | 1.115987e-01 | ENSG00000128274 | protein_coding |\n",
       "\n"
      ],
      "text/plain": [
       "  gene    pLI          ensg            V11           \n",
       "1 A1BG    9.064924e-05 ENSG00000121410 protein_coding\n",
       "2 A1CF    3.619701e-03 ENSG00000148584 protein_coding\n",
       "3 A2M     5.401149e-04 ENSG00000175899 protein_coding\n",
       "4 A2ML1   1.329022e-22 ENSG00000166535 protein_coding\n",
       "5 A3GALT2 6.503026e-07 ENSG00000184389 protein_coding\n",
       "6 A4GALT  1.115987e-01 ENSG00000128274 protein_coding"
      ]
     },
     "metadata": {},
     "output_type": "display_data"
    }
   ],
   "source": [
    "head(exac)"
   ]
  },
  {
   "cell_type": "code",
   "execution_count": 54,
   "id": "43262165",
   "metadata": {},
   "outputs": [],
   "source": [
    "fetal2 <- fetal2 %>% inner_join(exac, by = c(\"pid\" = \"ensg\"))"
   ]
  },
  {
   "cell_type": "code",
   "execution_count": 55,
   "id": "02a6b9ad",
   "metadata": {},
   "outputs": [
    {
     "data": {
      "text/html": [
       "<table class=\"dataframe\">\n",
       "<caption>A data.frame: 6 x 19</caption>\n",
       "<thead>\n",
       "\t<tr><th></th><th scope=col>pid</th><th scope=col>nvar</th><th scope=col>shape1</th><th scope=col>shape2</th><th scope=col>dummy</th><th scope=col>sid</th><th scope=col>dist</th><th scope=col>npval</th><th scope=col>slope</th><th scope=col>ppval</th><th scope=col>bpval</th><th scope=col>qval</th><th scope=col>pval_nominal_threshold</th><th scope=col>gene_type</th><th scope=col>gene_name</th><th scope=col>sig</th><th scope=col>gene</th><th scope=col>pLI</th><th scope=col>V11</th></tr>\n",
       "\t<tr><th></th><th scope=col>&lt;chr&gt;</th><th scope=col>&lt;int&gt;</th><th scope=col>&lt;dbl&gt;</th><th scope=col>&lt;dbl&gt;</th><th scope=col>&lt;dbl&gt;</th><th scope=col>&lt;chr&gt;</th><th scope=col>&lt;int&gt;</th><th scope=col>&lt;dbl&gt;</th><th scope=col>&lt;dbl&gt;</th><th scope=col>&lt;dbl&gt;</th><th scope=col>&lt;dbl&gt;</th><th scope=col>&lt;dbl&gt;</th><th scope=col>&lt;dbl&gt;</th><th scope=col>&lt;chr&gt;</th><th scope=col>&lt;chr&gt;</th><th scope=col>&lt;chr&gt;</th><th scope=col>&lt;chr&gt;</th><th scope=col>&lt;dbl&gt;</th><th scope=col>&lt;chr&gt;</th></tr>\n",
       "</thead>\n",
       "<tbody>\n",
       "\t<tr><th scope=row>1</th><td>ENSG00000000419</td><td>6979</td><td>1.02134</td><td>1367.680</td><td>476.819</td><td>rs192563417</td><td> 785096</td><td>1.36171e-07</td><td>-0.505097</td><td>0.00079992</td><td>6.71442e-04</td><td>1.47123e-03</td><td>2.90212e-05</td><td>protein_coding</td><td>DPM1    </td><td>eGene    </td><td>DPM1    </td><td>5.367475e-01</td><td>protein_coding</td></tr>\n",
       "\t<tr><th scope=row>2</th><td>ENSG00000000457</td><td>7094</td><td>1.04721</td><td> 695.715</td><td>467.037</td><td>rs761499672</td><td>-797092</td><td>4.58351e-05</td><td> 0.174268</td><td>0.07059290</td><td>7.57180e-02</td><td>8.87792e-02</td><td>6.25971e-05</td><td>protein_coding</td><td>SCYL3   </td><td>non-eGene</td><td>SCYL3   </td><td>5.470538e-01</td><td>protein_coding</td></tr>\n",
       "\t<tr><th scope=row>3</th><td>ENSG00000000460</td><td>7370</td><td>1.03366</td><td> 743.049</td><td>467.386</td><td>rs17529513 </td><td> 167500</td><td>1.08049e-22</td><td>-0.302487</td><td>0.00009999</td><td>6.83032e-18</td><td>5.86726e-17</td><td>5.58582e-05</td><td>protein_coding</td><td>C1orf112</td><td>eGene    </td><td>C1orf112</td><td>5.981510e-08</td><td>protein_coding</td></tr>\n",
       "\t<tr><th scope=row>4</th><td>ENSG00000000938</td><td>4365</td><td>1.01977</td><td> 476.482</td><td>465.432</td><td>rs74060542 </td><td> -40678</td><td>3.55489e-04</td><td> 0.328784</td><td>0.31717400</td><td>3.13974e-01</td><td>2.30595e-01</td><td>8.28194e-05</td><td>protein_coding</td><td>FGR     </td><td>non-eGene</td><td>FGR     </td><td>1.771744e-01</td><td>protein_coding</td></tr>\n",
       "\t<tr><th scope=row>5</th><td>ENSG00000000971</td><td>4671</td><td>1.02585</td><td> 532.868</td><td>474.412</td><td>rs113887390</td><td>-792723</td><td>6.47444e-04</td><td> 0.455490</td><td>0.48171300</td><td>4.74379e-01</td><td>2.93544e-01</td><td>7.57214e-05</td><td>protein_coding</td><td>CFH     </td><td>non-eGene</td><td>CFH     </td><td>9.996310e-01</td><td>protein_coding</td></tr>\n",
       "\t<tr><th scope=row>6</th><td>ENSG00000001036</td><td>5683</td><td>1.04787</td><td> 948.786</td><td>469.456</td><td>rs4896658  </td><td> -47658</td><td>1.77472e-07</td><td>-0.588128</td><td>0.00069993</td><td>5.90912e-04</td><td>1.30931e-03</td><td>4.60076e-05</td><td>protein_coding</td><td>FUCA2   </td><td>eGene    </td><td>FUCA2   </td><td>3.655835e-04</td><td>protein_coding</td></tr>\n",
       "</tbody>\n",
       "</table>\n"
      ],
      "text/latex": [
       "A data.frame: 6 x 19\n",
       "\\begin{tabular}{r|lllllllllllllllllll}\n",
       "  & pid & nvar & shape1 & shape2 & dummy & sid & dist & npval & slope & ppval & bpval & qval & pval\\_nominal\\_threshold & gene\\_type & gene\\_name & sig & gene & pLI & V11\\\\\n",
       "  & <chr> & <int> & <dbl> & <dbl> & <dbl> & <chr> & <int> & <dbl> & <dbl> & <dbl> & <dbl> & <dbl> & <dbl> & <chr> & <chr> & <chr> & <chr> & <dbl> & <chr>\\\\\n",
       "\\hline\n",
       "\t1 & ENSG00000000419 & 6979 & 1.02134 & 1367.680 & 476.819 & rs192563417 &  785096 & 1.36171e-07 & -0.505097 & 0.00079992 & 6.71442e-04 & 1.47123e-03 & 2.90212e-05 & protein\\_coding & DPM1     & eGene     & DPM1     & 5.367475e-01 & protein\\_coding\\\\\n",
       "\t2 & ENSG00000000457 & 7094 & 1.04721 &  695.715 & 467.037 & rs761499672 & -797092 & 4.58351e-05 &  0.174268 & 0.07059290 & 7.57180e-02 & 8.87792e-02 & 6.25971e-05 & protein\\_coding & SCYL3    & non-eGene & SCYL3    & 5.470538e-01 & protein\\_coding\\\\\n",
       "\t3 & ENSG00000000460 & 7370 & 1.03366 &  743.049 & 467.386 & rs17529513  &  167500 & 1.08049e-22 & -0.302487 & 0.00009999 & 6.83032e-18 & 5.86726e-17 & 5.58582e-05 & protein\\_coding & C1orf112 & eGene     & C1orf112 & 5.981510e-08 & protein\\_coding\\\\\n",
       "\t4 & ENSG00000000938 & 4365 & 1.01977 &  476.482 & 465.432 & rs74060542  &  -40678 & 3.55489e-04 &  0.328784 & 0.31717400 & 3.13974e-01 & 2.30595e-01 & 8.28194e-05 & protein\\_coding & FGR      & non-eGene & FGR      & 1.771744e-01 & protein\\_coding\\\\\n",
       "\t5 & ENSG00000000971 & 4671 & 1.02585 &  532.868 & 474.412 & rs113887390 & -792723 & 6.47444e-04 &  0.455490 & 0.48171300 & 4.74379e-01 & 2.93544e-01 & 7.57214e-05 & protein\\_coding & CFH      & non-eGene & CFH      & 9.996310e-01 & protein\\_coding\\\\\n",
       "\t6 & ENSG00000001036 & 5683 & 1.04787 &  948.786 & 469.456 & rs4896658   &  -47658 & 1.77472e-07 & -0.588128 & 0.00069993 & 5.90912e-04 & 1.30931e-03 & 4.60076e-05 & protein\\_coding & FUCA2    & eGene     & FUCA2    & 3.655835e-04 & protein\\_coding\\\\\n",
       "\\end{tabular}\n"
      ],
      "text/markdown": [
       "\n",
       "A data.frame: 6 x 19\n",
       "\n",
       "| <!--/--> | pid &lt;chr&gt; | nvar &lt;int&gt; | shape1 &lt;dbl&gt; | shape2 &lt;dbl&gt; | dummy &lt;dbl&gt; | sid &lt;chr&gt; | dist &lt;int&gt; | npval &lt;dbl&gt; | slope &lt;dbl&gt; | ppval &lt;dbl&gt; | bpval &lt;dbl&gt; | qval &lt;dbl&gt; | pval_nominal_threshold &lt;dbl&gt; | gene_type &lt;chr&gt; | gene_name &lt;chr&gt; | sig &lt;chr&gt; | gene &lt;chr&gt; | pLI &lt;dbl&gt; | V11 &lt;chr&gt; |\n",
       "|---|---|---|---|---|---|---|---|---|---|---|---|---|---|---|---|---|---|---|---|\n",
       "| 1 | ENSG00000000419 | 6979 | 1.02134 | 1367.680 | 476.819 | rs192563417 |  785096 | 1.36171e-07 | -0.505097 | 0.00079992 | 6.71442e-04 | 1.47123e-03 | 2.90212e-05 | protein_coding | DPM1     | eGene     | DPM1     | 5.367475e-01 | protein_coding |\n",
       "| 2 | ENSG00000000457 | 7094 | 1.04721 |  695.715 | 467.037 | rs761499672 | -797092 | 4.58351e-05 |  0.174268 | 0.07059290 | 7.57180e-02 | 8.87792e-02 | 6.25971e-05 | protein_coding | SCYL3    | non-eGene | SCYL3    | 5.470538e-01 | protein_coding |\n",
       "| 3 | ENSG00000000460 | 7370 | 1.03366 |  743.049 | 467.386 | rs17529513  |  167500 | 1.08049e-22 | -0.302487 | 0.00009999 | 6.83032e-18 | 5.86726e-17 | 5.58582e-05 | protein_coding | C1orf112 | eGene     | C1orf112 | 5.981510e-08 | protein_coding |\n",
       "| 4 | ENSG00000000938 | 4365 | 1.01977 |  476.482 | 465.432 | rs74060542  |  -40678 | 3.55489e-04 |  0.328784 | 0.31717400 | 3.13974e-01 | 2.30595e-01 | 8.28194e-05 | protein_coding | FGR      | non-eGene | FGR      | 1.771744e-01 | protein_coding |\n",
       "| 5 | ENSG00000000971 | 4671 | 1.02585 |  532.868 | 474.412 | rs113887390 | -792723 | 6.47444e-04 |  0.455490 | 0.48171300 | 4.74379e-01 | 2.93544e-01 | 7.57214e-05 | protein_coding | CFH      | non-eGene | CFH      | 9.996310e-01 | protein_coding |\n",
       "| 6 | ENSG00000001036 | 5683 | 1.04787 |  948.786 | 469.456 | rs4896658   |  -47658 | 1.77472e-07 | -0.588128 | 0.00069993 | 5.90912e-04 | 1.30931e-03 | 4.60076e-05 | protein_coding | FUCA2    | eGene     | FUCA2    | 3.655835e-04 | protein_coding |\n",
       "\n"
      ],
      "text/plain": [
       "  pid             nvar shape1  shape2   dummy   sid         dist    npval      \n",
       "1 ENSG00000000419 6979 1.02134 1367.680 476.819 rs192563417  785096 1.36171e-07\n",
       "2 ENSG00000000457 7094 1.04721  695.715 467.037 rs761499672 -797092 4.58351e-05\n",
       "3 ENSG00000000460 7370 1.03366  743.049 467.386 rs17529513   167500 1.08049e-22\n",
       "4 ENSG00000000938 4365 1.01977  476.482 465.432 rs74060542   -40678 3.55489e-04\n",
       "5 ENSG00000000971 4671 1.02585  532.868 474.412 rs113887390 -792723 6.47444e-04\n",
       "6 ENSG00000001036 5683 1.04787  948.786 469.456 rs4896658    -47658 1.77472e-07\n",
       "  slope     ppval      bpval       qval        pval_nominal_threshold\n",
       "1 -0.505097 0.00079992 6.71442e-04 1.47123e-03 2.90212e-05           \n",
       "2  0.174268 0.07059290 7.57180e-02 8.87792e-02 6.25971e-05           \n",
       "3 -0.302487 0.00009999 6.83032e-18 5.86726e-17 5.58582e-05           \n",
       "4  0.328784 0.31717400 3.13974e-01 2.30595e-01 8.28194e-05           \n",
       "5  0.455490 0.48171300 4.74379e-01 2.93544e-01 7.57214e-05           \n",
       "6 -0.588128 0.00069993 5.90912e-04 1.30931e-03 4.60076e-05           \n",
       "  gene_type      gene_name sig       gene     pLI          V11           \n",
       "1 protein_coding DPM1      eGene     DPM1     5.367475e-01 protein_coding\n",
       "2 protein_coding SCYL3     non-eGene SCYL3    5.470538e-01 protein_coding\n",
       "3 protein_coding C1orf112  eGene     C1orf112 5.981510e-08 protein_coding\n",
       "4 protein_coding FGR       non-eGene FGR      1.771744e-01 protein_coding\n",
       "5 protein_coding CFH       non-eGene CFH      9.996310e-01 protein_coding\n",
       "6 protein_coding FUCA2     eGene     FUCA2    3.655835e-04 protein_coding"
      ]
     },
     "metadata": {},
     "output_type": "display_data"
    }
   ],
   "source": [
    "head(fetal2)"
   ]
  },
  {
   "cell_type": "code",
   "execution_count": 56,
   "id": "8b0d2f5e",
   "metadata": {},
   "outputs": [
    {
     "data": {
      "text/html": [
       "<style>\n",
       ".list-inline {list-style: none; margin:0; padding: 0}\n",
       ".list-inline>li {display: inline-block}\n",
       ".list-inline>li:not(:last-child)::after {content: \"\\00b7\"; padding: 0 .5ex}\n",
       "</style>\n",
       "<ol class=list-inline><li>14204</li><li>19</li></ol>\n"
      ],
      "text/latex": [
       "\\begin{enumerate*}\n",
       "\\item 14204\n",
       "\\item 19\n",
       "\\end{enumerate*}\n"
      ],
      "text/markdown": [
       "1. 14204\n",
       "2. 19\n",
       "\n",
       "\n"
      ],
      "text/plain": [
       "[1] 14204    19"
      ]
     },
     "metadata": {},
     "output_type": "display_data"
    },
    {
     "data": {
      "text/html": [
       "14204"
      ],
      "text/latex": [
       "14204"
      ],
      "text/markdown": [
       "14204"
      ],
      "text/plain": [
       "[1] 14204"
      ]
     },
     "metadata": {},
     "output_type": "display_data"
    }
   ],
   "source": [
    "dim(fetal2)\n",
    "sum(fetal2$gene_name == fetal2$gene)"
   ]
  },
  {
   "cell_type": "code",
   "execution_count": 57,
   "id": "c850681b",
   "metadata": {},
   "outputs": [
    {
     "data": {
      "text/html": [
       "<table class=\"dataframe\">\n",
       "<caption>A data.frame: 6 x 4</caption>\n",
       "<thead>\n",
       "\t<tr><th></th><th scope=col>pid</th><th scope=col>sig</th><th scope=col>gene_name</th><th scope=col>pLI</th></tr>\n",
       "\t<tr><th></th><th scope=col>&lt;chr&gt;</th><th scope=col>&lt;chr&gt;</th><th scope=col>&lt;chr&gt;</th><th scope=col>&lt;dbl&gt;</th></tr>\n",
       "</thead>\n",
       "<tbody>\n",
       "\t<tr><th scope=row>1</th><td>ENSG00000000419</td><td>eGene    </td><td>DPM1    </td><td>5.367475e-01</td></tr>\n",
       "\t<tr><th scope=row>2</th><td>ENSG00000000457</td><td>non-eGene</td><td>SCYL3   </td><td>5.470538e-01</td></tr>\n",
       "\t<tr><th scope=row>3</th><td>ENSG00000000460</td><td>eGene    </td><td>C1orf112</td><td>5.981510e-08</td></tr>\n",
       "\t<tr><th scope=row>4</th><td>ENSG00000000938</td><td>non-eGene</td><td>FGR     </td><td>1.771744e-01</td></tr>\n",
       "\t<tr><th scope=row>5</th><td>ENSG00000000971</td><td>non-eGene</td><td>CFH     </td><td>9.996310e-01</td></tr>\n",
       "\t<tr><th scope=row>6</th><td>ENSG00000001036</td><td>eGene    </td><td>FUCA2   </td><td>3.655835e-04</td></tr>\n",
       "</tbody>\n",
       "</table>\n"
      ],
      "text/latex": [
       "A data.frame: 6 x 4\n",
       "\\begin{tabular}{r|llll}\n",
       "  & pid & sig & gene\\_name & pLI\\\\\n",
       "  & <chr> & <chr> & <chr> & <dbl>\\\\\n",
       "\\hline\n",
       "\t1 & ENSG00000000419 & eGene     & DPM1     & 5.367475e-01\\\\\n",
       "\t2 & ENSG00000000457 & non-eGene & SCYL3    & 5.470538e-01\\\\\n",
       "\t3 & ENSG00000000460 & eGene     & C1orf112 & 5.981510e-08\\\\\n",
       "\t4 & ENSG00000000938 & non-eGene & FGR      & 1.771744e-01\\\\\n",
       "\t5 & ENSG00000000971 & non-eGene & CFH      & 9.996310e-01\\\\\n",
       "\t6 & ENSG00000001036 & eGene     & FUCA2    & 3.655835e-04\\\\\n",
       "\\end{tabular}\n"
      ],
      "text/markdown": [
       "\n",
       "A data.frame: 6 x 4\n",
       "\n",
       "| <!--/--> | pid &lt;chr&gt; | sig &lt;chr&gt; | gene_name &lt;chr&gt; | pLI &lt;dbl&gt; |\n",
       "|---|---|---|---|---|\n",
       "| 1 | ENSG00000000419 | eGene     | DPM1     | 5.367475e-01 |\n",
       "| 2 | ENSG00000000457 | non-eGene | SCYL3    | 5.470538e-01 |\n",
       "| 3 | ENSG00000000460 | eGene     | C1orf112 | 5.981510e-08 |\n",
       "| 4 | ENSG00000000938 | non-eGene | FGR      | 1.771744e-01 |\n",
       "| 5 | ENSG00000000971 | non-eGene | CFH      | 9.996310e-01 |\n",
       "| 6 | ENSG00000001036 | eGene     | FUCA2    | 3.655835e-04 |\n",
       "\n"
      ],
      "text/plain": [
       "  pid             sig       gene_name pLI         \n",
       "1 ENSG00000000419 eGene     DPM1      5.367475e-01\n",
       "2 ENSG00000000457 non-eGene SCYL3     5.470538e-01\n",
       "3 ENSG00000000460 eGene     C1orf112  5.981510e-08\n",
       "4 ENSG00000000938 non-eGene FGR       1.771744e-01\n",
       "5 ENSG00000000971 non-eGene CFH       9.996310e-01\n",
       "6 ENSG00000001036 eGene     FUCA2     3.655835e-04"
      ]
     },
     "metadata": {},
     "output_type": "display_data"
    }
   ],
   "source": [
    "fetal2 <- fetal2 %>% select(pid, sig, gene_name, pLI)\n",
    "head(fetal2)"
   ]
  },
  {
   "cell_type": "code",
   "execution_count": 64,
   "id": "e17fcc40",
   "metadata": {},
   "outputs": [
    {
     "name": "stderr",
     "output_type": "stream",
     "text": [
      "Warning message:\n",
      "“`fun.y` is deprecated. Use `fun` instead.”\n",
      "Warning message:\n",
      "“`show_guide` has been deprecated. Please use `show.legend` instead.”\n"
     ]
    },
    {
     "data": {
      "image/png": "[encoded data removed]",
      "text/plain": [
       "plot without title"
      ]
     },
     "metadata": {
      "image/png": {
       "height": 360,
       "width": 360
      }
     },
     "output_type": "display_data"
    }
   ],
   "source": [
    "# modified boxplot, see ExAC original paper\n",
    "options(repr.plot.width = 6, repr.plot.height = 6)\n",
    "ggplot(fetal2, aes(x = sig, y = pLI, fill = sig, color = sig)) +\n",
    "    geom_violin(alpha = 0.3, trim = TRUE) +\n",
    "    geom_boxplot(width = 0.05) +\n",
    "    labs(x = \"Gene group\", y = \"pLI constraint score\") + \n",
    "    theme_classic() +\n",
    "    theme(axis.text = element_text(size = 16),\n",
    "          axis.title = element_text(size = 18),\n",
    "          legend.position = \"none\") +\n",
    "    scale_fill_manual(values = c(\"#648FFF\", \"#999999\")) +\n",
    "    scale_color_manual(values = c(\"#648FFF\", \"#999999\")) +\n",
    "    stat_summary(fun.y = median, geom = \"point\", \n",
    "                 shape = 21, size = 5, show_guide = FALSE, fill = \"white\", stroke = 1.5) +\n",
    "    geom_signif(\n",
    "        comparisons = list(c(\"eGene\", \"non-eGene\")),\n",
    "        annotation = \"Wilcoxon, p < 2.2e-16\",\n",
    "        textsize = 5,\n",
    "        color = \"black\"\n",
    "  )"
   ]
  },
  {
   "cell_type": "code",
   "execution_count": 65,
   "id": "108a7702",
   "metadata": {},
   "outputs": [],
   "source": [
    "ggsave(\"../figures/pLI_fetal.pdf\", width = 6, height = 6)"
   ]
  },
  {
   "cell_type": "code",
   "execution_count": 60,
   "id": "4cf9a41b",
   "metadata": {},
   "outputs": [
    {
     "data": {
      "text/html": [
       "1"
      ],
      "text/latex": [
       "1"
      ],
      "text/markdown": [
       "1"
      ],
      "text/plain": [
       "[1] 1"
      ]
     },
     "metadata": {},
     "output_type": "display_data"
    }
   ],
   "source": [
    "max(fetal2$pLI, na.rm = TRUE)"
   ]
  },
  {
   "cell_type": "code",
   "execution_count": 61,
   "id": "ba7bcaba",
   "metadata": {},
   "outputs": [
    {
     "data": {
      "text/plain": [
       "\n",
       "\tWilcoxon rank sum test with continuity correction\n",
       "\n",
       "data:  fetal2[fetal2$sig == \"eGene\", \"pLI\"] and fetal2[fetal2$sig == \"non-eGene\", \"pLI\"]\n",
       "W = 19334418, p-value < 2.2e-16\n",
       "alternative hypothesis: true location shift is not equal to 0\n"
      ]
     },
     "metadata": {},
     "output_type": "display_data"
    }
   ],
   "source": [
    "wilcox.test(fetal2[fetal2$sig == \"eGene\",'pLI'], fetal2[fetal2$sig == \"non-eGene\",'pLI'], alternative = \"two.sided\")"
   ]
  },
  {
   "cell_type": "code",
   "execution_count": 62,
   "id": "14ccb14b",
   "metadata": {},
   "outputs": [
    {
     "data": {
      "text/plain": [
       "\n",
       "\tWilcoxon rank sum test with continuity correction\n",
       "\n",
       "data:  fetal2[fetal2$sig == \"eGene\", \"pLI\"] and fetal2[fetal2$sig == \"non-eGene\", \"pLI\"]\n",
       "W = 19334418, p-value < 2.2e-16\n",
       "alternative hypothesis: true location shift is not equal to 0\n"
      ]
     },
     "metadata": {},
     "output_type": "display_data"
    }
   ],
   "source": [
    "wilcox.test(fetal2[fetal2$sig == \"eGene\",'pLI'], fetal2[fetal2$sig == \"non-eGene\",'pLI'])"
   ]
  }
 ],
 "metadata": {
  "kernelspec": {
   "display_name": "R 4.1.0 BIO",
   "language": "R",
   "name": "ir410-bio"
  },
  "language_info": {
   "codemirror_mode": "r",
   "file_extension": ".r",
   "mimetype": "text/x-r-source",
   "name": "R",
   "pygments_lexer": "r",
   "version": "4.1.0"
  }
 },
 "nbformat": 4,
 "nbformat_minor": 5
}
