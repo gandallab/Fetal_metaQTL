{
 "cells": [
  {
   "cell_type": "markdown",
   "id": "934a998f",
   "metadata": {},
   "source": [
    "# Structural variant-eQTL\n",
    "- Refer to Scott et al. 2021 and Chiang et al. 2017, where SVs were called in GTEx WGS, merged with SNVs and indels, and FastQTL was used to map association with gene expression\n",
    "- Primary analysis here: running linear regression of gene expression with SVs only"
   ]
  },
  {
   "cell_type": "code",
   "execution_count": 1,
   "id": "39869259",
   "metadata": {},
   "outputs": [
    {
     "name": "stderr",
     "output_type": "stream",
     "text": [
      "── \u001b[1mAttaching packages\u001b[22m ─────────────────────────────────────── tidyverse 1.3.1 ──\n",
      "\n",
      "\u001b[32m✔\u001b[39m \u001b[34mggplot2\u001b[39m 3.3.3     \u001b[32m✔\u001b[39m \u001b[34mpurrr  \u001b[39m 0.3.4\n",
      "\u001b[32m✔\u001b[39m \u001b[34mtibble \u001b[39m 3.1.2     \u001b[32m✔\u001b[39m \u001b[34mdplyr  \u001b[39m 1.0.6\n",
      "\u001b[32m✔\u001b[39m \u001b[34mtidyr  \u001b[39m 1.1.3     \u001b[32m✔\u001b[39m \u001b[34mstringr\u001b[39m 1.4.0\n",
      "\u001b[32m✔\u001b[39m \u001b[34mreadr  \u001b[39m 1.4.0     \u001b[32m✔\u001b[39m \u001b[34mforcats\u001b[39m 0.5.1\n",
      "\n",
      "── \u001b[1mConflicts\u001b[22m ────────────────────────────────────────── tidyverse_conflicts() ──\n",
      "\u001b[31m✖\u001b[39m \u001b[34mdplyr\u001b[39m::\u001b[32mbetween()\u001b[39m   masks \u001b[34mdata.table\u001b[39m::between()\n",
      "\u001b[31m✖\u001b[39m \u001b[34mdplyr\u001b[39m::\u001b[32mfilter()\u001b[39m    masks \u001b[34mstats\u001b[39m::filter()\n",
      "\u001b[31m✖\u001b[39m \u001b[34mdplyr\u001b[39m::\u001b[32mfirst()\u001b[39m     masks \u001b[34mdata.table\u001b[39m::first()\n",
      "\u001b[31m✖\u001b[39m \u001b[34mdplyr\u001b[39m::\u001b[32mlag()\u001b[39m       masks \u001b[34mstats\u001b[39m::lag()\n",
      "\u001b[31m✖\u001b[39m \u001b[34mdplyr\u001b[39m::\u001b[32mlast()\u001b[39m      masks \u001b[34mdata.table\u001b[39m::last()\n",
      "\u001b[31m✖\u001b[39m \u001b[34mpurrr\u001b[39m::\u001b[32mtranspose()\u001b[39m masks \u001b[34mdata.table\u001b[39m::transpose()\n",
      "\n"
     ]
    }
   ],
   "source": [
    "library(data.table)\n",
    "library(tidyverse)"
   ]
  },
  {
   "cell_type": "code",
   "execution_count": 2,
   "id": "e804df05",
   "metadata": {},
   "outputs": [],
   "source": [
    "setwd(\"~/project-gandalm/isoform_twas/eqtl_new/structural/\")"
   ]
  },
  {
   "cell_type": "code",
   "execution_count": 3,
   "id": "560c8ae2",
   "metadata": {},
   "outputs": [],
   "source": [
    "load(\"output_18invs.RData\")"
   ]
  },
  {
   "cell_type": "code",
   "execution_count": 4,
   "id": "d27dd2d4",
   "metadata": {},
   "outputs": [
    {
     "data": {
      "text/html": [
       "<style>\n",
       ".list-inline {list-style: none; margin:0; padding: 0}\n",
       ".list-inline>li {display: inline-block}\n",
       ".list-inline>li:not(:last-child)::after {content: \"\\00b7\"; padding: 0 .5ex}\n",
       "</style>\n",
       "<ol class=list-inline><li>'inv_info'</li><li>'recorder'</li></ol>\n"
      ],
      "text/latex": [
       "\\begin{enumerate*}\n",
       "\\item 'inv\\_info'\n",
       "\\item 'recorder'\n",
       "\\end{enumerate*}\n"
      ],
      "text/markdown": [
       "1. 'inv_info'\n",
       "2. 'recorder'\n",
       "\n",
       "\n"
      ],
      "text/plain": [
       "[1] \"inv_info\" \"recorder\""
      ]
     },
     "metadata": {},
     "output_type": "display_data"
    }
   ],
   "source": [
    "ls()"
   ]
  },
  {
   "cell_type": "code",
   "execution_count": 5,
   "id": "2ac3a3ff",
   "metadata": {},
   "outputs": [
    {
     "data": {
      "text/html": [
       "<table class=\"dataframe\">\n",
       "<caption>A data.frame: 22 x 10</caption>\n",
       "<thead>\n",
       "\t<tr><th></th><th scope=col>seqnames</th><th scope=col>start</th><th scope=col>end</th><th scope=col>width</th><th scope=col>strand</th><th scope=col>scoreInvHap.name</th><th scope=col>Cytogenetic.location</th><th scope=col>Inv.freq</th><th scope=col>Haplotypes</th><th scope=col>Num.SNPs</th></tr>\n",
       "\t<tr><th></th><th scope=col>&lt;fct&gt;</th><th scope=col>&lt;int&gt;</th><th scope=col>&lt;int&gt;</th><th scope=col>&lt;int&gt;</th><th scope=col>&lt;fct&gt;</th><th scope=col>&lt;chr&gt;</th><th scope=col>&lt;chr&gt;</th><th scope=col>&lt;dbl&gt;</th><th scope=col>&lt;dbl&gt;</th><th scope=col>&lt;dbl&gt;</th></tr>\n",
       "</thead>\n",
       "<tbody>\n",
       "\t<tr><th scope=row>inv1_004</th><td>chr1 </td><td> 92131841</td><td> 92132615</td><td>    775</td><td>*</td><td>inv1_004 </td><td>1p22.1  </td><td>11.23</td><td> 2</td><td>   6.000</td></tr>\n",
       "\t<tr><th scope=row>inv1_008</th><td>chr1 </td><td>197756784</td><td>197757982</td><td>   1199</td><td>*</td><td>inv1_008 </td><td>1q31.3  </td><td>19.68</td><td> 2</td><td>   5.000</td></tr>\n",
       "\t<tr><th scope=row>inv2_002</th><td>chr2 </td><td> 33764554</td><td> 33765272</td><td>    719</td><td>*</td><td>inv2_002 </td><td>2p22.3  </td><td>15.11</td><td> 2</td><td>   6.000</td></tr>\n",
       "\t<tr><th scope=row>inv2_013</th><td>chr2 </td><td>139004949</td><td>139009203</td><td>   4255</td><td>*</td><td>inv2_013 </td><td>2q22.1  </td><td>71.47</td><td> 2</td><td>  13.000</td></tr>\n",
       "\t<tr><th scope=row>inv3_003</th><td>chr3 </td><td>162545362</td><td>162547641</td><td>   2280</td><td>*</td><td>inv3_003 </td><td>3q26.1  </td><td>56.16</td><td> 4</td><td>   6.000</td></tr>\n",
       "\t<tr><th scope=row>inv6_002</th><td>chr6 </td><td> 31009222</td><td> 31010095</td><td>    874</td><td>*</td><td>inv6_002 </td><td>6p21.33 </td><td>63.12</td><td> 2</td><td>   5.000</td></tr>\n",
       "\t<tr><th scope=row>inv6_006</th><td>chr6 </td><td>130848198</td><td>130852318</td><td>   4121</td><td>*</td><td>inv6_006 </td><td>6q23.1  </td><td> 6.56</td><td> 2</td><td>  12.000</td></tr>\n",
       "\t<tr><th scope=row>inv7_003</th><td>chr7 </td><td> 31586765</td><td> 31592019</td><td>   5255</td><td>*</td><td>inv7_003 </td><td>7p14.3  </td><td>23.56</td><td> 2</td><td>  11.000</td></tr>\n",
       "\t<tr><th scope=row>inv7_005</th><td>chr7 </td><td> 54302450</td><td> 54376389</td><td>  73940</td><td>*</td><td>inv7_005 </td><td>7p11.2  </td><td>50.39</td><td> 4</td><td> 180.000</td></tr>\n",
       "\t<tr><th scope=row>inv7_011</th><td>chr7 </td><td> 70426185</td><td> 70438879</td><td>  12695</td><td>*</td><td>inv7_011 </td><td>7q11.22 </td><td>63.52</td><td> 2</td><td>  10.000</td></tr>\n",
       "\t<tr><th scope=row>inv7_014</th><td>chr7 </td><td>151010030</td><td>151012107</td><td>   2078</td><td>*</td><td>inv7_014 </td><td>7q36.1  </td><td>19.88</td><td> 2</td><td>   5.000</td></tr>\n",
       "\t<tr><th scope=row>inv8_001</th><td>chr8 </td><td>  8055789</td><td> 11980649</td><td>3924861</td><td>*</td><td>inv8_001 </td><td>8p23.1  </td><td>57.95</td><td> 2</td><td>  13.411</td></tr>\n",
       "\t<tr><th scope=row>inv11_001</th><td>chr11</td><td> 41162296</td><td> 41167044</td><td>   4749</td><td>*</td><td>inv11_001</td><td>11p12   </td><td>15.81</td><td> 2</td><td>   7.000</td></tr>\n",
       "\t<tr><th scope=row>inv11_004</th><td>chr11</td><td> 66018563</td><td> 66019946</td><td>   1384</td><td>*</td><td>inv11_004</td><td>11q13.2 </td><td>34.39</td><td> 3</td><td>   5.000</td></tr>\n",
       "\t<tr><th scope=row>inv12_004</th><td>chr12</td><td> 47290470</td><td> 47309756</td><td>  19287</td><td>*</td><td>inv12_004</td><td>12q13.11</td><td> 7.46</td><td> 2</td><td>  43.000</td></tr>\n",
       "\t<tr><th scope=row>inv12_006</th><td>chr12</td><td> 71532784</td><td> 71533816</td><td>   1033</td><td>*</td><td>inv12_006</td><td>12q21.2 </td><td>36.98</td><td> 3</td><td>   4.000</td></tr>\n",
       "\t<tr><th scope=row>inv14_005</th><td>chr14</td><td> 65842304</td><td> 65843165</td><td>    862</td><td>*</td><td>inv14_005</td><td>14q23.3 </td><td>29.42</td><td> 2</td><td>   4.000</td></tr>\n",
       "\t<tr><th scope=row>inv17_007</th><td>chr17</td><td> 43661775</td><td> 44372665</td><td> 710891</td><td>*</td><td>inv17_007</td><td>17q21.31</td><td>23.96</td><td> 2</td><td>3637.000</td></tr>\n",
       "\t<tr><th scope=row>inv21_005</th><td>chr21</td><td> 28020653</td><td> 28021711</td><td>   1059</td><td>*</td><td>inv21_005</td><td>21q21.3 </td><td>51.29</td><td> 4</td><td>  11.000</td></tr>\n",
       "\t<tr><th scope=row>invX_006</th><td>chrX </td><td> 72215927</td><td> 72306774</td><td>  90848</td><td>*</td><td>invX_006 </td><td>Xq13.2  </td><td>13.30</td><td> 4</td><td> 135.000</td></tr>\n",
       "\t<tr><th scope=row>inv16_009</th><td>chr16</td><td> 28424774</td><td> 28788943</td><td> 364170</td><td>*</td><td>inv16_009</td><td>16p11.2 </td><td>34.49</td><td> 2</td><td> 361.000</td></tr>\n",
       "\t<tr><th scope=row>inv10_005</th><td>chr10</td><td> 27220925</td><td> 27656433</td><td> 435509</td><td>*</td><td>inv10_005</td><td>NA      </td><td>   NA</td><td>NA</td><td>      NA</td></tr>\n",
       "</tbody>\n",
       "</table>\n"
      ],
      "text/latex": [
       "A data.frame: 22 x 10\n",
       "\\begin{tabular}{r|llllllllll}\n",
       "  & seqnames & start & end & width & strand & scoreInvHap.name & Cytogenetic.location & Inv.freq & Haplotypes & Num.SNPs\\\\\n",
       "  & <fct> & <int> & <int> & <int> & <fct> & <chr> & <chr> & <dbl> & <dbl> & <dbl>\\\\\n",
       "\\hline\n",
       "\tinv1\\_004 & chr1  &  92131841 &  92132615 &     775 & * & inv1\\_004  & 1p22.1   & 11.23 &  2 &    6.000\\\\\n",
       "\tinv1\\_008 & chr1  & 197756784 & 197757982 &    1199 & * & inv1\\_008  & 1q31.3   & 19.68 &  2 &    5.000\\\\\n",
       "\tinv2\\_002 & chr2  &  33764554 &  33765272 &     719 & * & inv2\\_002  & 2p22.3   & 15.11 &  2 &    6.000\\\\\n",
       "\tinv2\\_013 & chr2  & 139004949 & 139009203 &    4255 & * & inv2\\_013  & 2q22.1   & 71.47 &  2 &   13.000\\\\\n",
       "\tinv3\\_003 & chr3  & 162545362 & 162547641 &    2280 & * & inv3\\_003  & 3q26.1   & 56.16 &  4 &    6.000\\\\\n",
       "\tinv6\\_002 & chr6  &  31009222 &  31010095 &     874 & * & inv6\\_002  & 6p21.33  & 63.12 &  2 &    5.000\\\\\n",
       "\tinv6\\_006 & chr6  & 130848198 & 130852318 &    4121 & * & inv6\\_006  & 6q23.1   &  6.56 &  2 &   12.000\\\\\n",
       "\tinv7\\_003 & chr7  &  31586765 &  31592019 &    5255 & * & inv7\\_003  & 7p14.3   & 23.56 &  2 &   11.000\\\\\n",
       "\tinv7\\_005 & chr7  &  54302450 &  54376389 &   73940 & * & inv7\\_005  & 7p11.2   & 50.39 &  4 &  180.000\\\\\n",
       "\tinv7\\_011 & chr7  &  70426185 &  70438879 &   12695 & * & inv7\\_011  & 7q11.22  & 63.52 &  2 &   10.000\\\\\n",
       "\tinv7\\_014 & chr7  & 151010030 & 151012107 &    2078 & * & inv7\\_014  & 7q36.1   & 19.88 &  2 &    5.000\\\\\n",
       "\tinv8\\_001 & chr8  &   8055789 &  11980649 & 3924861 & * & inv8\\_001  & 8p23.1   & 57.95 &  2 &   13.411\\\\\n",
       "\tinv11\\_001 & chr11 &  41162296 &  41167044 &    4749 & * & inv11\\_001 & 11p12    & 15.81 &  2 &    7.000\\\\\n",
       "\tinv11\\_004 & chr11 &  66018563 &  66019946 &    1384 & * & inv11\\_004 & 11q13.2  & 34.39 &  3 &    5.000\\\\\n",
       "\tinv12\\_004 & chr12 &  47290470 &  47309756 &   19287 & * & inv12\\_004 & 12q13.11 &  7.46 &  2 &   43.000\\\\\n",
       "\tinv12\\_006 & chr12 &  71532784 &  71533816 &    1033 & * & inv12\\_006 & 12q21.2  & 36.98 &  3 &    4.000\\\\\n",
       "\tinv14\\_005 & chr14 &  65842304 &  65843165 &     862 & * & inv14\\_005 & 14q23.3  & 29.42 &  2 &    4.000\\\\\n",
       "\tinv17\\_007 & chr17 &  43661775 &  44372665 &  710891 & * & inv17\\_007 & 17q21.31 & 23.96 &  2 & 3637.000\\\\\n",
       "\tinv21\\_005 & chr21 &  28020653 &  28021711 &    1059 & * & inv21\\_005 & 21q21.3  & 51.29 &  4 &   11.000\\\\\n",
       "\tinvX\\_006 & chrX  &  72215927 &  72306774 &   90848 & * & invX\\_006  & Xq13.2   & 13.30 &  4 &  135.000\\\\\n",
       "\tinv16\\_009 & chr16 &  28424774 &  28788943 &  364170 & * & inv16\\_009 & 16p11.2  & 34.49 &  2 &  361.000\\\\\n",
       "\tinv10\\_005 & chr10 &  27220925 &  27656433 &  435509 & * & inv10\\_005 & NA       &    NA & NA &       NA\\\\\n",
       "\\end{tabular}\n"
      ],
      "text/markdown": [
       "\n",
       "A data.frame: 22 x 10\n",
       "\n",
       "| <!--/--> | seqnames &lt;fct&gt; | start &lt;int&gt; | end &lt;int&gt; | width &lt;int&gt; | strand &lt;fct&gt; | scoreInvHap.name &lt;chr&gt; | Cytogenetic.location &lt;chr&gt; | Inv.freq &lt;dbl&gt; | Haplotypes &lt;dbl&gt; | Num.SNPs &lt;dbl&gt; |\n",
       "|---|---|---|---|---|---|---|---|---|---|---|\n",
       "| inv1_004 | chr1  |  92131841 |  92132615 |     775 | * | inv1_004  | 1p22.1   | 11.23 |  2 |    6.000 |\n",
       "| inv1_008 | chr1  | 197756784 | 197757982 |    1199 | * | inv1_008  | 1q31.3   | 19.68 |  2 |    5.000 |\n",
       "| inv2_002 | chr2  |  33764554 |  33765272 |     719 | * | inv2_002  | 2p22.3   | 15.11 |  2 |    6.000 |\n",
       "| inv2_013 | chr2  | 139004949 | 139009203 |    4255 | * | inv2_013  | 2q22.1   | 71.47 |  2 |   13.000 |\n",
       "| inv3_003 | chr3  | 162545362 | 162547641 |    2280 | * | inv3_003  | 3q26.1   | 56.16 |  4 |    6.000 |\n",
       "| inv6_002 | chr6  |  31009222 |  31010095 |     874 | * | inv6_002  | 6p21.33  | 63.12 |  2 |    5.000 |\n",
       "| inv6_006 | chr6  | 130848198 | 130852318 |    4121 | * | inv6_006  | 6q23.1   |  6.56 |  2 |   12.000 |\n",
       "| inv7_003 | chr7  |  31586765 |  31592019 |    5255 | * | inv7_003  | 7p14.3   | 23.56 |  2 |   11.000 |\n",
       "| inv7_005 | chr7  |  54302450 |  54376389 |   73940 | * | inv7_005  | 7p11.2   | 50.39 |  4 |  180.000 |\n",
       "| inv7_011 | chr7  |  70426185 |  70438879 |   12695 | * | inv7_011  | 7q11.22  | 63.52 |  2 |   10.000 |\n",
       "| inv7_014 | chr7  | 151010030 | 151012107 |    2078 | * | inv7_014  | 7q36.1   | 19.88 |  2 |    5.000 |\n",
       "| inv8_001 | chr8  |   8055789 |  11980649 | 3924861 | * | inv8_001  | 8p23.1   | 57.95 |  2 |   13.411 |\n",
       "| inv11_001 | chr11 |  41162296 |  41167044 |    4749 | * | inv11_001 | 11p12    | 15.81 |  2 |    7.000 |\n",
       "| inv11_004 | chr11 |  66018563 |  66019946 |    1384 | * | inv11_004 | 11q13.2  | 34.39 |  3 |    5.000 |\n",
       "| inv12_004 | chr12 |  47290470 |  47309756 |   19287 | * | inv12_004 | 12q13.11 |  7.46 |  2 |   43.000 |\n",
       "| inv12_006 | chr12 |  71532784 |  71533816 |    1033 | * | inv12_006 | 12q21.2  | 36.98 |  3 |    4.000 |\n",
       "| inv14_005 | chr14 |  65842304 |  65843165 |     862 | * | inv14_005 | 14q23.3  | 29.42 |  2 |    4.000 |\n",
       "| inv17_007 | chr17 |  43661775 |  44372665 |  710891 | * | inv17_007 | 17q21.31 | 23.96 |  2 | 3637.000 |\n",
       "| inv21_005 | chr21 |  28020653 |  28021711 |    1059 | * | inv21_005 | 21q21.3  | 51.29 |  4 |   11.000 |\n",
       "| invX_006 | chrX  |  72215927 |  72306774 |   90848 | * | invX_006  | Xq13.2   | 13.30 |  4 |  135.000 |\n",
       "| inv16_009 | chr16 |  28424774 |  28788943 |  364170 | * | inv16_009 | 16p11.2  | 34.49 |  2 |  361.000 |\n",
       "| inv10_005 | chr10 |  27220925 |  27656433 |  435509 | * | inv10_005 | NA       |    NA | NA |       NA |\n",
       "\n"
      ],
      "text/plain": [
       "          seqnames start     end       width   strand scoreInvHap.name\n",
       "inv1_004  chr1      92131841  92132615     775 *      inv1_004        \n",
       "inv1_008  chr1     197756784 197757982    1199 *      inv1_008        \n",
       "inv2_002  chr2      33764554  33765272     719 *      inv2_002        \n",
       "inv2_013  chr2     139004949 139009203    4255 *      inv2_013        \n",
       "inv3_003  chr3     162545362 162547641    2280 *      inv3_003        \n",
       "inv6_002  chr6      31009222  31010095     874 *      inv6_002        \n",
       "inv6_006  chr6     130848198 130852318    4121 *      inv6_006        \n",
       "inv7_003  chr7      31586765  31592019    5255 *      inv7_003        \n",
       "inv7_005  chr7      54302450  54376389   73940 *      inv7_005        \n",
       "inv7_011  chr7      70426185  70438879   12695 *      inv7_011        \n",
       "inv7_014  chr7     151010030 151012107    2078 *      inv7_014        \n",
       "inv8_001  chr8       8055789  11980649 3924861 *      inv8_001        \n",
       "inv11_001 chr11     41162296  41167044    4749 *      inv11_001       \n",
       "inv11_004 chr11     66018563  66019946    1384 *      inv11_004       \n",
       "inv12_004 chr12     47290470  47309756   19287 *      inv12_004       \n",
       "inv12_006 chr12     71532784  71533816    1033 *      inv12_006       \n",
       "inv14_005 chr14     65842304  65843165     862 *      inv14_005       \n",
       "inv17_007 chr17     43661775  44372665  710891 *      inv17_007       \n",
       "inv21_005 chr21     28020653  28021711    1059 *      inv21_005       \n",
       "invX_006  chrX      72215927  72306774   90848 *      invX_006        \n",
       "inv16_009 chr16     28424774  28788943  364170 *      inv16_009       \n",
       "inv10_005 chr10     27220925  27656433  435509 *      inv10_005       \n",
       "          Cytogenetic.location Inv.freq Haplotypes Num.SNPs\n",
       "inv1_004  1p22.1               11.23     2            6.000\n",
       "inv1_008  1q31.3               19.68     2            5.000\n",
       "inv2_002  2p22.3               15.11     2            6.000\n",
       "inv2_013  2q22.1               71.47     2           13.000\n",
       "inv3_003  3q26.1               56.16     4            6.000\n",
       "inv6_002  6p21.33              63.12     2            5.000\n",
       "inv6_006  6q23.1                6.56     2           12.000\n",
       "inv7_003  7p14.3               23.56     2           11.000\n",
       "inv7_005  7p11.2               50.39     4          180.000\n",
       "inv7_011  7q11.22              63.52     2           10.000\n",
       "inv7_014  7q36.1               19.88     2            5.000\n",
       "inv8_001  8p23.1               57.95     2           13.411\n",
       "inv11_001 11p12                15.81     2            7.000\n",
       "inv11_004 11q13.2              34.39     3            5.000\n",
       "inv12_004 12q13.11              7.46     2           43.000\n",
       "inv12_006 12q21.2              36.98     3            4.000\n",
       "inv14_005 14q23.3              29.42     2            4.000\n",
       "inv17_007 17q21.31             23.96     2         3637.000\n",
       "inv21_005 21q21.3              51.29     4           11.000\n",
       "invX_006  Xq13.2               13.30     4          135.000\n",
       "inv16_009 16p11.2              34.49     2          361.000\n",
       "inv10_005 NA                      NA    NA               NA"
      ]
     },
     "metadata": {},
     "output_type": "display_data"
    }
   ],
   "source": [
    "inv_info"
   ]
  },
  {
   "cell_type": "code",
   "execution_count": 7,
   "id": "78f35991",
   "metadata": {},
   "outputs": [
    {
     "data": {
      "text/html": [
       "<table class=\"dataframe\">\n",
       "<caption>A data.frame: 6 x 18</caption>\n",
       "<thead>\n",
       "\t<tr><th></th><th scope=col>inv1_004</th><th scope=col>inv1_008</th><th scope=col>inv10_005</th><th scope=col>inv11_001</th><th scope=col>inv11_004</th><th scope=col>inv12_004</th><th scope=col>inv16_009</th><th scope=col>inv17_007</th><th scope=col>inv2_002</th><th scope=col>inv2_013</th><th scope=col>inv21_005</th><th scope=col>inv6_002</th><th scope=col>inv6_006</th><th scope=col>inv7_003</th><th scope=col>inv7_005</th><th scope=col>inv7_011</th><th scope=col>inv7_014</th><th scope=col>inv8_001</th></tr>\n",
       "\t<tr><th></th><th scope=col>&lt;fct&gt;</th><th scope=col>&lt;fct&gt;</th><th scope=col>&lt;fct&gt;</th><th scope=col>&lt;fct&gt;</th><th scope=col>&lt;fct&gt;</th><th scope=col>&lt;fct&gt;</th><th scope=col>&lt;fct&gt;</th><th scope=col>&lt;fct&gt;</th><th scope=col>&lt;fct&gt;</th><th scope=col>&lt;fct&gt;</th><th scope=col>&lt;fct&gt;</th><th scope=col>&lt;fct&gt;</th><th scope=col>&lt;fct&gt;</th><th scope=col>&lt;fct&gt;</th><th scope=col>&lt;fct&gt;</th><th scope=col>&lt;fct&gt;</th><th scope=col>&lt;fct&gt;</th><th scope=col>&lt;fct&gt;</th></tr>\n",
       "</thead>\n",
       "<tbody>\n",
       "\t<tr><th scope=row>1038</th><td>NN</td><td>NN</td><td>NN</td><td>NI</td><td>II  </td><td>NN</td><td>NI</td><td>II</td><td>NN</td><td>II</td><td>NaNb</td><td>II</td><td>NN</td><td>NI</td><td>NaNa</td><td>NN</td><td>NN</td><td>NN</td></tr>\n",
       "\t<tr><th scope=row>1039</th><td>NI</td><td>NN</td><td>NI</td><td>NI</td><td>NaI </td><td>NN</td><td>NN</td><td>NN</td><td>NN</td><td>II</td><td>NaI </td><td>NN</td><td>NN</td><td>NI</td><td>NaIb</td><td>II</td><td>NN</td><td>NI</td></tr>\n",
       "\t<tr><th scope=row>1046</th><td>NN</td><td>NN</td><td>NN</td><td>NN</td><td>NaNa</td><td>NN</td><td>NN</td><td>NN</td><td>NN</td><td>NN</td><td>NaI </td><td>NN</td><td>NN</td><td>NI</td><td>NaIa</td><td>NI</td><td>NN</td><td>II</td></tr>\n",
       "\t<tr><th scope=row>1102</th><td>NN</td><td>NN</td><td>NN</td><td>NN</td><td>NbI </td><td>NN</td><td>NN</td><td>NI</td><td>NN</td><td>NI</td><td>NcI </td><td>II</td><td>NN</td><td>NN</td><td>IaIb</td><td>II</td><td>NI</td><td>NI</td></tr>\n",
       "\t<tr><th scope=row>1107</th><td>NN</td><td>NN</td><td>NN</td><td>NI</td><td>NaI </td><td>NN</td><td>II</td><td>NN</td><td>NN</td><td>NN</td><td>II  </td><td>II</td><td>II</td><td>NI</td><td>IaIb</td><td>NI</td><td>NI</td><td>NI</td></tr>\n",
       "\t<tr><th scope=row>1110</th><td>NN</td><td>NN</td><td>NN</td><td>NN</td><td>NaNa</td><td>NN</td><td>NN</td><td>NN</td><td>NN</td><td>II</td><td>NcI </td><td>NN</td><td>NN</td><td>NI</td><td>IbIb</td><td>NI</td><td>NN</td><td>NI</td></tr>\n",
       "</tbody>\n",
       "</table>\n"
      ],
      "text/latex": [
       "A data.frame: 6 x 18\n",
       "\\begin{tabular}{r|llllllllllllllllll}\n",
       "  & inv1\\_004 & inv1\\_008 & inv10\\_005 & inv11\\_001 & inv11\\_004 & inv12\\_004 & inv16\\_009 & inv17\\_007 & inv2\\_002 & inv2\\_013 & inv21\\_005 & inv6\\_002 & inv6\\_006 & inv7\\_003 & inv7\\_005 & inv7\\_011 & inv7\\_014 & inv8\\_001\\\\\n",
       "  & <fct> & <fct> & <fct> & <fct> & <fct> & <fct> & <fct> & <fct> & <fct> & <fct> & <fct> & <fct> & <fct> & <fct> & <fct> & <fct> & <fct> & <fct>\\\\\n",
       "\\hline\n",
       "\t1038 & NN & NN & NN & NI & II   & NN & NI & II & NN & II & NaNb & II & NN & NI & NaNa & NN & NN & NN\\\\\n",
       "\t1039 & NI & NN & NI & NI & NaI  & NN & NN & NN & NN & II & NaI  & NN & NN & NI & NaIb & II & NN & NI\\\\\n",
       "\t1046 & NN & NN & NN & NN & NaNa & NN & NN & NN & NN & NN & NaI  & NN & NN & NI & NaIa & NI & NN & II\\\\\n",
       "\t1102 & NN & NN & NN & NN & NbI  & NN & NN & NI & NN & NI & NcI  & II & NN & NN & IaIb & II & NI & NI\\\\\n",
       "\t1107 & NN & NN & NN & NI & NaI  & NN & II & NN & NN & NN & II   & II & II & NI & IaIb & NI & NI & NI\\\\\n",
       "\t1110 & NN & NN & NN & NN & NaNa & NN & NN & NN & NN & II & NcI  & NN & NN & NI & IbIb & NI & NN & NI\\\\\n",
       "\\end{tabular}\n"
      ],
      "text/markdown": [
       "\n",
       "A data.frame: 6 x 18\n",
       "\n",
       "| <!--/--> | inv1_004 &lt;fct&gt; | inv1_008 &lt;fct&gt; | inv10_005 &lt;fct&gt; | inv11_001 &lt;fct&gt; | inv11_004 &lt;fct&gt; | inv12_004 &lt;fct&gt; | inv16_009 &lt;fct&gt; | inv17_007 &lt;fct&gt; | inv2_002 &lt;fct&gt; | inv2_013 &lt;fct&gt; | inv21_005 &lt;fct&gt; | inv6_002 &lt;fct&gt; | inv6_006 &lt;fct&gt; | inv7_003 &lt;fct&gt; | inv7_005 &lt;fct&gt; | inv7_011 &lt;fct&gt; | inv7_014 &lt;fct&gt; | inv8_001 &lt;fct&gt; |\n",
       "|---|---|---|---|---|---|---|---|---|---|---|---|---|---|---|---|---|---|---|\n",
       "| 1038 | NN | NN | NN | NI | II   | NN | NI | II | NN | II | NaNb | II | NN | NI | NaNa | NN | NN | NN |\n",
       "| 1039 | NI | NN | NI | NI | NaI  | NN | NN | NN | NN | II | NaI  | NN | NN | NI | NaIb | II | NN | NI |\n",
       "| 1046 | NN | NN | NN | NN | NaNa | NN | NN | NN | NN | NN | NaI  | NN | NN | NI | NaIa | NI | NN | II |\n",
       "| 1102 | NN | NN | NN | NN | NbI  | NN | NN | NI | NN | NI | NcI  | II | NN | NN | IaIb | II | NI | NI |\n",
       "| 1107 | NN | NN | NN | NI | NaI  | NN | II | NN | NN | NN | II   | II | II | NI | IaIb | NI | NI | NI |\n",
       "| 1110 | NN | NN | NN | NN | NaNa | NN | NN | NN | NN | II | NcI  | NN | NN | NI | IbIb | NI | NN | NI |\n",
       "\n"
      ],
      "text/plain": [
       "     inv1_004 inv1_008 inv10_005 inv11_001 inv11_004 inv12_004 inv16_009\n",
       "1038 NN       NN       NN        NI        II        NN        NI       \n",
       "1039 NI       NN       NI        NI        NaI       NN        NN       \n",
       "1046 NN       NN       NN        NN        NaNa      NN        NN       \n",
       "1102 NN       NN       NN        NN        NbI       NN        NN       \n",
       "1107 NN       NN       NN        NI        NaI       NN        II       \n",
       "1110 NN       NN       NN        NN        NaNa      NN        NN       \n",
       "     inv17_007 inv2_002 inv2_013 inv21_005 inv6_002 inv6_006 inv7_003 inv7_005\n",
       "1038 II        NN       II       NaNb      II       NN       NI       NaNa    \n",
       "1039 NN        NN       II       NaI       NN       NN       NI       NaIb    \n",
       "1046 NN        NN       NN       NaI       NN       NN       NI       NaIa    \n",
       "1102 NI        NN       NI       NcI       II       NN       NN       IaIb    \n",
       "1107 NN        NN       NN       II        II       II       NI       IaIb    \n",
       "1110 NN        NN       II       NcI       NN       NN       NI       IbIb    \n",
       "     inv7_011 inv7_014 inv8_001\n",
       "1038 NN       NN       NN      \n",
       "1039 II       NN       NI      \n",
       "1046 NI       NN       II      \n",
       "1102 II       NI       NI      \n",
       "1107 NI       NI       NI      \n",
       "1110 NI       NN       NI      "
      ]
     },
     "metadata": {},
     "output_type": "display_data"
    }
   ],
   "source": [
    "head(recorder)"
   ]
  },
  {
   "cell_type": "code",
   "execution_count": 10,
   "id": "5d0778e9",
   "metadata": {},
   "outputs": [
    {
     "data": {
      "text/html": [
       "<table class=\"dataframe\">\n",
       "<caption>A data.frame: 6 x 646</caption>\n",
       "<thead>\n",
       "\t<tr><th></th><th scope=col>#Chr</th><th scope=col>start</th><th scope=col>end</th><th scope=col>ID</th><th scope=col>1474</th><th scope=col>1496</th><th scope=col>1500</th><th scope=col>1502</th><th scope=col>1507</th><th scope=col>1511</th><th scope=col>...</th><th scope=col>1558</th><th scope=col>1607</th><th scope=col>1707.1</th><th scope=col>1835</th><th scope=col>1851</th><th scope=col>1890</th><th scope=col>1923</th><th scope=col>2193</th><th scope=col>849</th><th scope=col>898</th></tr>\n",
       "\t<tr><th></th><th scope=col>&lt;int&gt;</th><th scope=col>&lt;int&gt;</th><th scope=col>&lt;int&gt;</th><th scope=col>&lt;chr&gt;</th><th scope=col>&lt;dbl&gt;</th><th scope=col>&lt;dbl&gt;</th><th scope=col>&lt;dbl&gt;</th><th scope=col>&lt;dbl&gt;</th><th scope=col>&lt;dbl&gt;</th><th scope=col>&lt;dbl&gt;</th><th scope=col>...</th><th scope=col>&lt;dbl&gt;</th><th scope=col>&lt;dbl&gt;</th><th scope=col>&lt;dbl&gt;</th><th scope=col>&lt;dbl&gt;</th><th scope=col>&lt;dbl&gt;</th><th scope=col>&lt;dbl&gt;</th><th scope=col>&lt;dbl&gt;</th><th scope=col>&lt;dbl&gt;</th><th scope=col>&lt;dbl&gt;</th><th scope=col>&lt;dbl&gt;</th></tr>\n",
       "</thead>\n",
       "<tbody>\n",
       "\t<tr><th scope=row>1</th><td>1</td><td> 11868</td><td> 11869</td><td>ENSG00000223972</td><td>3.135499</td><td>3.860746</td><td>2.991053</td><td>3.402323</td><td>1.683311</td><td>2.979528</td><td>...</td><td>3.545430</td><td>2.794408</td><td>3.219573</td><td>3.270080</td><td>3.033587</td><td>3.719546</td><td>3.528669</td><td>1.795879</td><td>1.795879</td><td>1.795879</td></tr>\n",
       "\t<tr><th scope=row>2</th><td>1</td><td> 29553</td><td> 29554</td><td>ENSG00000243485</td><td>2.019259</td><td>2.019259</td><td>3.337607</td><td>3.284138</td><td>2.019259</td><td>4.117352</td><td>...</td><td>1.739895</td><td>1.739895</td><td>3.364551</td><td>2.579396</td><td>3.357388</td><td>2.792396</td><td>2.825834</td><td>3.070580</td><td>3.492360</td><td>2.796174</td></tr>\n",
       "\t<tr><th scope=row>3</th><td>1</td><td> 29569</td><td> 29570</td><td>ENSG00000227232</td><td>7.976420</td><td>7.983908</td><td>8.418516</td><td>8.327781</td><td>7.848723</td><td>8.723322</td><td>...</td><td>6.898168</td><td>8.165533</td><td>9.093119</td><td>7.508564</td><td>8.412931</td><td>8.818620</td><td>7.683092</td><td>8.549899</td><td>7.261408</td><td>7.765424</td></tr>\n",
       "\t<tr><th scope=row>4</th><td>1</td><td> 36080</td><td> 36081</td><td>ENSG00000237613</td><td>3.965445</td><td>4.274929</td><td>4.684834</td><td>4.872262</td><td>4.790440</td><td>3.521006</td><td>...</td><td>2.993636</td><td>4.926470</td><td>2.993636</td><td>2.993636</td><td>2.993636</td><td>2.993636</td><td>2.993636</td><td>5.123510</td><td>2.993636</td><td>2.993636</td></tr>\n",
       "\t<tr><th scope=row>5</th><td>1</td><td> 91104</td><td> 91105</td><td>ENSG00000239945</td><td>1.850485</td><td>3.306370</td><td>2.977209</td><td>3.985883</td><td>1.850485</td><td>1.850485</td><td>...</td><td>2.157703</td><td>2.157703</td><td>2.157703</td><td>3.728385</td><td>5.165983</td><td>3.846017</td><td>2.157703</td><td>2.157703</td><td>2.157703</td><td>4.511053</td></tr>\n",
       "\t<tr><th scope=row>6</th><td>1</td><td>131024</td><td>131025</td><td>ENSG00000233750</td><td>4.110258</td><td>4.971833</td><td>4.274072</td><td>4.756833</td><td>5.022698</td><td>3.450271</td><td>...</td><td>4.431115</td><td>4.068149</td><td>4.380002</td><td>3.577251</td><td>3.459137</td><td>4.259683</td><td>3.918486</td><td>3.981142</td><td>4.821110</td><td>5.015399</td></tr>\n",
       "</tbody>\n",
       "</table>\n"
      ],
      "text/latex": [
       "A data.frame: 6 x 646\n",
       "\\begin{tabular}{r|lllllllllllllllllllll}\n",
       "  & \\#Chr & start & end & ID & 1474 & 1496 & 1500 & 1502 & 1507 & 1511 & ... & 1558 & 1607 & 1707.1 & 1835 & 1851 & 1890 & 1923 & 2193 & 849 & 898\\\\\n",
       "  & <int> & <int> & <int> & <chr> & <dbl> & <dbl> & <dbl> & <dbl> & <dbl> & <dbl> & ... & <dbl> & <dbl> & <dbl> & <dbl> & <dbl> & <dbl> & <dbl> & <dbl> & <dbl> & <dbl>\\\\\n",
       "\\hline\n",
       "\t1 & 1 &  11868 &  11869 & ENSG00000223972 & 3.135499 & 3.860746 & 2.991053 & 3.402323 & 1.683311 & 2.979528 & ... & 3.545430 & 2.794408 & 3.219573 & 3.270080 & 3.033587 & 3.719546 & 3.528669 & 1.795879 & 1.795879 & 1.795879\\\\\n",
       "\t2 & 1 &  29553 &  29554 & ENSG00000243485 & 2.019259 & 2.019259 & 3.337607 & 3.284138 & 2.019259 & 4.117352 & ... & 1.739895 & 1.739895 & 3.364551 & 2.579396 & 3.357388 & 2.792396 & 2.825834 & 3.070580 & 3.492360 & 2.796174\\\\\n",
       "\t3 & 1 &  29569 &  29570 & ENSG00000227232 & 7.976420 & 7.983908 & 8.418516 & 8.327781 & 7.848723 & 8.723322 & ... & 6.898168 & 8.165533 & 9.093119 & 7.508564 & 8.412931 & 8.818620 & 7.683092 & 8.549899 & 7.261408 & 7.765424\\\\\n",
       "\t4 & 1 &  36080 &  36081 & ENSG00000237613 & 3.965445 & 4.274929 & 4.684834 & 4.872262 & 4.790440 & 3.521006 & ... & 2.993636 & 4.926470 & 2.993636 & 2.993636 & 2.993636 & 2.993636 & 2.993636 & 5.123510 & 2.993636 & 2.993636\\\\\n",
       "\t5 & 1 &  91104 &  91105 & ENSG00000239945 & 1.850485 & 3.306370 & 2.977209 & 3.985883 & 1.850485 & 1.850485 & ... & 2.157703 & 2.157703 & 2.157703 & 3.728385 & 5.165983 & 3.846017 & 2.157703 & 2.157703 & 2.157703 & 4.511053\\\\\n",
       "\t6 & 1 & 131024 & 131025 & ENSG00000233750 & 4.110258 & 4.971833 & 4.274072 & 4.756833 & 5.022698 & 3.450271 & ... & 4.431115 & 4.068149 & 4.380002 & 3.577251 & 3.459137 & 4.259683 & 3.918486 & 3.981142 & 4.821110 & 5.015399\\\\\n",
       "\\end{tabular}\n"
      ],
      "text/markdown": [
       "\n",
       "A data.frame: 6 x 646\n",
       "\n",
       "| <!--/--> | #Chr &lt;int&gt; | start &lt;int&gt; | end &lt;int&gt; | ID &lt;chr&gt; | 1474 &lt;dbl&gt; | 1496 &lt;dbl&gt; | 1500 &lt;dbl&gt; | 1502 &lt;dbl&gt; | 1507 &lt;dbl&gt; | 1511 &lt;dbl&gt; | ... ... | 1558 &lt;dbl&gt; | 1607 &lt;dbl&gt; | 1707.1 &lt;dbl&gt; | 1835 &lt;dbl&gt; | 1851 &lt;dbl&gt; | 1890 &lt;dbl&gt; | 1923 &lt;dbl&gt; | 2193 &lt;dbl&gt; | 849 &lt;dbl&gt; | 898 &lt;dbl&gt; |\n",
       "|---|---|---|---|---|---|---|---|---|---|---|---|---|---|---|---|---|---|---|---|---|---|\n",
       "| 1 | 1 |  11868 |  11869 | ENSG00000223972 | 3.135499 | 3.860746 | 2.991053 | 3.402323 | 1.683311 | 2.979528 | ... | 3.545430 | 2.794408 | 3.219573 | 3.270080 | 3.033587 | 3.719546 | 3.528669 | 1.795879 | 1.795879 | 1.795879 |\n",
       "| 2 | 1 |  29553 |  29554 | ENSG00000243485 | 2.019259 | 2.019259 | 3.337607 | 3.284138 | 2.019259 | 4.117352 | ... | 1.739895 | 1.739895 | 3.364551 | 2.579396 | 3.357388 | 2.792396 | 2.825834 | 3.070580 | 3.492360 | 2.796174 |\n",
       "| 3 | 1 |  29569 |  29570 | ENSG00000227232 | 7.976420 | 7.983908 | 8.418516 | 8.327781 | 7.848723 | 8.723322 | ... | 6.898168 | 8.165533 | 9.093119 | 7.508564 | 8.412931 | 8.818620 | 7.683092 | 8.549899 | 7.261408 | 7.765424 |\n",
       "| 4 | 1 |  36080 |  36081 | ENSG00000237613 | 3.965445 | 4.274929 | 4.684834 | 4.872262 | 4.790440 | 3.521006 | ... | 2.993636 | 4.926470 | 2.993636 | 2.993636 | 2.993636 | 2.993636 | 2.993636 | 5.123510 | 2.993636 | 2.993636 |\n",
       "| 5 | 1 |  91104 |  91105 | ENSG00000239945 | 1.850485 | 3.306370 | 2.977209 | 3.985883 | 1.850485 | 1.850485 | ... | 2.157703 | 2.157703 | 2.157703 | 3.728385 | 5.165983 | 3.846017 | 2.157703 | 2.157703 | 2.157703 | 4.511053 |\n",
       "| 6 | 1 | 131024 | 131025 | ENSG00000233750 | 4.110258 | 4.971833 | 4.274072 | 4.756833 | 5.022698 | 3.450271 | ... | 4.431115 | 4.068149 | 4.380002 | 3.577251 | 3.459137 | 4.259683 | 3.918486 | 3.981142 | 4.821110 | 5.015399 |\n",
       "\n"
      ],
      "text/plain": [
       "  #Chr start  end    ID              1474     1496     1500     1502    \n",
       "1 1     11868  11869 ENSG00000223972 3.135499 3.860746 2.991053 3.402323\n",
       "2 1     29553  29554 ENSG00000243485 2.019259 2.019259 3.337607 3.284138\n",
       "3 1     29569  29570 ENSG00000227232 7.976420 7.983908 8.418516 8.327781\n",
       "4 1     36080  36081 ENSG00000237613 3.965445 4.274929 4.684834 4.872262\n",
       "5 1     91104  91105 ENSG00000239945 1.850485 3.306370 2.977209 3.985883\n",
       "6 1    131024 131025 ENSG00000233750 4.110258 4.971833 4.274072 4.756833\n",
       "  1507     1511     ... 1558     1607     1707.1   1835     1851     1890    \n",
       "1 1.683311 2.979528 ... 3.545430 2.794408 3.219573 3.270080 3.033587 3.719546\n",
       "2 2.019259 4.117352 ... 1.739895 1.739895 3.364551 2.579396 3.357388 2.792396\n",
       "3 7.848723 8.723322 ... 6.898168 8.165533 9.093119 7.508564 8.412931 8.818620\n",
       "4 4.790440 3.521006 ... 2.993636 4.926470 2.993636 2.993636 2.993636 2.993636\n",
       "5 1.850485 1.850485 ... 2.157703 2.157703 2.157703 3.728385 5.165983 3.846017\n",
       "6 5.022698 3.450271 ... 4.431115 4.068149 4.380002 3.577251 3.459137 4.259683\n",
       "  1923     2193     849      898     \n",
       "1 3.528669 1.795879 1.795879 1.795879\n",
       "2 2.825834 3.070580 3.492360 2.796174\n",
       "3 7.683092 8.549899 7.261408 7.765424\n",
       "4 2.993636 5.123510 2.993636 2.993636\n",
       "5 2.157703 2.157703 2.157703 4.511053\n",
       "6 3.918486 3.981142 4.821110 5.015399"
      ]
     },
     "metadata": {},
     "output_type": "display_data"
    }
   ],
   "source": [
    "expr <- fread(\"../data/gene.counts.scaled.normalized.bed.gz\", data.table = F)\n",
    "head(expr)"
   ]
  },
  {
   "cell_type": "code",
   "execution_count": 12,
   "id": "c385f03e",
   "metadata": {},
   "outputs": [
    {
     "data": {
      "text/html": [
       "<table class=\"dataframe\">\n",
       "<caption>A data.frame: 6 x 643</caption>\n",
       "<thead>\n",
       "\t<tr><th></th><th scope=col>id</th><th scope=col>1474</th><th scope=col>1496</th><th scope=col>1500</th><th scope=col>1502</th><th scope=col>1507</th><th scope=col>1511</th><th scope=col>1513</th><th scope=col>1525</th><th scope=col>1531</th><th scope=col>...</th><th scope=col>1558</th><th scope=col>1607</th><th scope=col>1707.1</th><th scope=col>1835</th><th scope=col>1851</th><th scope=col>1890</th><th scope=col>1923</th><th scope=col>2193</th><th scope=col>849</th><th scope=col>898</th></tr>\n",
       "\t<tr><th></th><th scope=col>&lt;chr&gt;</th><th scope=col>&lt;chr&gt;</th><th scope=col>&lt;chr&gt;</th><th scope=col>&lt;chr&gt;</th><th scope=col>&lt;chr&gt;</th><th scope=col>&lt;chr&gt;</th><th scope=col>&lt;chr&gt;</th><th scope=col>&lt;chr&gt;</th><th scope=col>&lt;chr&gt;</th><th scope=col>&lt;chr&gt;</th><th scope=col>...</th><th scope=col>&lt;chr&gt;</th><th scope=col>&lt;chr&gt;</th><th scope=col>&lt;chr&gt;</th><th scope=col>&lt;chr&gt;</th><th scope=col>&lt;chr&gt;</th><th scope=col>&lt;chr&gt;</th><th scope=col>&lt;chr&gt;</th><th scope=col>&lt;chr&gt;</th><th scope=col>&lt;chr&gt;</th><th scope=col>&lt;chr&gt;</th></tr>\n",
       "</thead>\n",
       "<tbody>\n",
       "\t<tr><th scope=row>1</th><td>PC1</td><td>0.00898199 </td><td>-0.0076338  </td><td>0.0111147   </td><td>0.00487142 </td><td>0.00960893 </td><td>-0.01488   </td><td>0.00883737 </td><td>-0.0266981 </td><td>-0.0253829 </td><td>...</td><td>0.00967447 </td><td>-0.0252683 </td><td>0.00965381 </td><td>0.00960237 </td><td>0.00979039 </td><td>0.00950035 </td><td>0.00960529 </td><td>0.00989866 </td><td>0.00702467 </td><td>0.00983834 </td></tr>\n",
       "\t<tr><th scope=row>2</th><td>PC2</td><td>-0.00035727</td><td>-0.000843408</td><td>-0.0158545  </td><td>0.000257063</td><td>-0.00326613</td><td>-0.00113582</td><td>-0.00241496</td><td>-0.0022033 </td><td>-0.00247448</td><td>...</td><td>-0.0208489 </td><td>-0.00395539</td><td>-0.0206395 </td><td>-0.0210822 </td><td>-0.0204132 </td><td>-0.0205727 </td><td>-0.0206059 </td><td>-0.0210826 </td><td>0.0245783  </td><td>-0.0205709 </td></tr>\n",
       "\t<tr><th scope=row>3</th><td>PC3</td><td>-0.0248268 </td><td>-0.0141886  </td><td>-0.0101601  </td><td>-0.0222758 </td><td>-0.020871  </td><td>-0.00907471</td><td>-0.021557  </td><td>-0.00118133</td><td>-0.00152521</td><td>...</td><td>-0.00482939</td><td>-0.00111922</td><td>-0.00453659</td><td>-0.00526304</td><td>-0.00508921</td><td>-0.00534413</td><td>-0.00518309</td><td>-0.00544843</td><td>-0.00538244</td><td>-0.00537699</td></tr>\n",
       "\t<tr><th scope=row>4</th><td>PC4</td><td>-0.0321383 </td><td>-0.0175555  </td><td>-0.000733046</td><td>-0.0315899 </td><td>-0.0245335 </td><td>-0.0106596 </td><td>-0.0266302 </td><td>0.000414128</td><td>0.000549499</td><td>...</td><td>0.0229196  </td><td>0.0138587  </td><td>0.0222114  </td><td>0.0226635  </td><td>0.0214958  </td><td>0.0226123  </td><td>0.0221212  </td><td>0.0239712  </td><td>0.0252937  </td><td>0.0216689  </td></tr>\n",
       "\t<tr><th scope=row>5</th><td>PC5</td><td>0.000571238</td><td>-0.00167298 </td><td>-0.0126722  </td><td>0.00128243 </td><td>-0.00225702</td><td>-0.00145859</td><td>-0.00174134</td><td>-0.00474446</td><td>-0.00445944</td><td>...</td><td>0.0685564  </td><td>0.0750816  </td><td>0.0672512  </td><td>0.0693604  </td><td>0.0685406  </td><td>0.06972    </td><td>0.0690513  </td><td>0.0679772  </td><td>0.0693614  </td><td>0.0681412  </td></tr>\n",
       "\t<tr><th scope=row>6</th><td>sex</td><td>M          </td><td>F           </td><td>M           </td><td>M          </td><td>M          </td><td>M          </td><td>M          </td><td>M          </td><td>F          </td><td>...</td><td>F          </td><td>F          </td><td>F          </td><td>M          </td><td>F          </td><td>F          </td><td>F          </td><td>M          </td><td>F          </td><td>F          </td></tr>\n",
       "</tbody>\n",
       "</table>\n"
      ],
      "text/latex": [
       "A data.frame: 6 x 643\n",
       "\\begin{tabular}{r|lllllllllllllllllllll}\n",
       "  & id & 1474 & 1496 & 1500 & 1502 & 1507 & 1511 & 1513 & 1525 & 1531 & ... & 1558 & 1607 & 1707.1 & 1835 & 1851 & 1890 & 1923 & 2193 & 849 & 898\\\\\n",
       "  & <chr> & <chr> & <chr> & <chr> & <chr> & <chr> & <chr> & <chr> & <chr> & <chr> & ... & <chr> & <chr> & <chr> & <chr> & <chr> & <chr> & <chr> & <chr> & <chr> & <chr>\\\\\n",
       "\\hline\n",
       "\t1 & PC1 & 0.00898199  & -0.0076338   & 0.0111147    & 0.00487142  & 0.00960893  & -0.01488    & 0.00883737  & -0.0266981  & -0.0253829  & ... & 0.00967447  & -0.0252683  & 0.00965381  & 0.00960237  & 0.00979039  & 0.00950035  & 0.00960529  & 0.00989866  & 0.00702467  & 0.00983834 \\\\\n",
       "\t2 & PC2 & -0.00035727 & -0.000843408 & -0.0158545   & 0.000257063 & -0.00326613 & -0.00113582 & -0.00241496 & -0.0022033  & -0.00247448 & ... & -0.0208489  & -0.00395539 & -0.0206395  & -0.0210822  & -0.0204132  & -0.0205727  & -0.0206059  & -0.0210826  & 0.0245783   & -0.0205709 \\\\\n",
       "\t3 & PC3 & -0.0248268  & -0.0141886   & -0.0101601   & -0.0222758  & -0.020871   & -0.00907471 & -0.021557   & -0.00118133 & -0.00152521 & ... & -0.00482939 & -0.00111922 & -0.00453659 & -0.00526304 & -0.00508921 & -0.00534413 & -0.00518309 & -0.00544843 & -0.00538244 & -0.00537699\\\\\n",
       "\t4 & PC4 & -0.0321383  & -0.0175555   & -0.000733046 & -0.0315899  & -0.0245335  & -0.0106596  & -0.0266302  & 0.000414128 & 0.000549499 & ... & 0.0229196   & 0.0138587   & 0.0222114   & 0.0226635   & 0.0214958   & 0.0226123   & 0.0221212   & 0.0239712   & 0.0252937   & 0.0216689  \\\\\n",
       "\t5 & PC5 & 0.000571238 & -0.00167298  & -0.0126722   & 0.00128243  & -0.00225702 & -0.00145859 & -0.00174134 & -0.00474446 & -0.00445944 & ... & 0.0685564   & 0.0750816   & 0.0672512   & 0.0693604   & 0.0685406   & 0.06972     & 0.0690513   & 0.0679772   & 0.0693614   & 0.0681412  \\\\\n",
       "\t6 & sex & M           & F            & M            & M           & M           & M           & M           & M           & F           & ... & F           & F           & F           & M           & F           & F           & F           & M           & F           & F          \\\\\n",
       "\\end{tabular}\n"
      ],
      "text/markdown": [
       "\n",
       "A data.frame: 6 x 643\n",
       "\n",
       "| <!--/--> | id &lt;chr&gt; | 1474 &lt;chr&gt; | 1496 &lt;chr&gt; | 1500 &lt;chr&gt; | 1502 &lt;chr&gt; | 1507 &lt;chr&gt; | 1511 &lt;chr&gt; | 1513 &lt;chr&gt; | 1525 &lt;chr&gt; | 1531 &lt;chr&gt; | ... ... | 1558 &lt;chr&gt; | 1607 &lt;chr&gt; | 1707.1 &lt;chr&gt; | 1835 &lt;chr&gt; | 1851 &lt;chr&gt; | 1890 &lt;chr&gt; | 1923 &lt;chr&gt; | 2193 &lt;chr&gt; | 849 &lt;chr&gt; | 898 &lt;chr&gt; |\n",
       "|---|---|---|---|---|---|---|---|---|---|---|---|---|---|---|---|---|---|---|---|---|---|\n",
       "| 1 | PC1 | 0.00898199  | -0.0076338   | 0.0111147    | 0.00487142  | 0.00960893  | -0.01488    | 0.00883737  | -0.0266981  | -0.0253829  | ... | 0.00967447  | -0.0252683  | 0.00965381  | 0.00960237  | 0.00979039  | 0.00950035  | 0.00960529  | 0.00989866  | 0.00702467  | 0.00983834  |\n",
       "| 2 | PC2 | -0.00035727 | -0.000843408 | -0.0158545   | 0.000257063 | -0.00326613 | -0.00113582 | -0.00241496 | -0.0022033  | -0.00247448 | ... | -0.0208489  | -0.00395539 | -0.0206395  | -0.0210822  | -0.0204132  | -0.0205727  | -0.0206059  | -0.0210826  | 0.0245783   | -0.0205709  |\n",
       "| 3 | PC3 | -0.0248268  | -0.0141886   | -0.0101601   | -0.0222758  | -0.020871   | -0.00907471 | -0.021557   | -0.00118133 | -0.00152521 | ... | -0.00482939 | -0.00111922 | -0.00453659 | -0.00526304 | -0.00508921 | -0.00534413 | -0.00518309 | -0.00544843 | -0.00538244 | -0.00537699 |\n",
       "| 4 | PC4 | -0.0321383  | -0.0175555   | -0.000733046 | -0.0315899  | -0.0245335  | -0.0106596  | -0.0266302  | 0.000414128 | 0.000549499 | ... | 0.0229196   | 0.0138587   | 0.0222114   | 0.0226635   | 0.0214958   | 0.0226123   | 0.0221212   | 0.0239712   | 0.0252937   | 0.0216689   |\n",
       "| 5 | PC5 | 0.000571238 | -0.00167298  | -0.0126722   | 0.00128243  | -0.00225702 | -0.00145859 | -0.00174134 | -0.00474446 | -0.00445944 | ... | 0.0685564   | 0.0750816   | 0.0672512   | 0.0693604   | 0.0685406   | 0.06972     | 0.0690513   | 0.0679772   | 0.0693614   | 0.0681412   |\n",
       "| 6 | sex | M           | F            | M            | M           | M           | M           | M           | M           | F           | ... | F           | F           | F           | M           | F           | F           | F           | M           | F           | F           |\n",
       "\n"
      ],
      "text/plain": [
       "  id  1474        1496         1500         1502        1507        1511       \n",
       "1 PC1 0.00898199  -0.0076338   0.0111147    0.00487142  0.00960893  -0.01488   \n",
       "2 PC2 -0.00035727 -0.000843408 -0.0158545   0.000257063 -0.00326613 -0.00113582\n",
       "3 PC3 -0.0248268  -0.0141886   -0.0101601   -0.0222758  -0.020871   -0.00907471\n",
       "4 PC4 -0.0321383  -0.0175555   -0.000733046 -0.0315899  -0.0245335  -0.0106596 \n",
       "5 PC5 0.000571238 -0.00167298  -0.0126722   0.00128243  -0.00225702 -0.00145859\n",
       "6 sex M           F            M            M           M           M          \n",
       "  1513        1525        1531        ... 1558        1607        1707.1     \n",
       "1 0.00883737  -0.0266981  -0.0253829  ... 0.00967447  -0.0252683  0.00965381 \n",
       "2 -0.00241496 -0.0022033  -0.00247448 ... -0.0208489  -0.00395539 -0.0206395 \n",
       "3 -0.021557   -0.00118133 -0.00152521 ... -0.00482939 -0.00111922 -0.00453659\n",
       "4 -0.0266302  0.000414128 0.000549499 ... 0.0229196   0.0138587   0.0222114  \n",
       "5 -0.00174134 -0.00474446 -0.00445944 ... 0.0685564   0.0750816   0.0672512  \n",
       "6 M           M           F           ... F           F           F          \n",
       "  1835        1851        1890        1923        2193        849        \n",
       "1 0.00960237  0.00979039  0.00950035  0.00960529  0.00989866  0.00702467 \n",
       "2 -0.0210822  -0.0204132  -0.0205727  -0.0206059  -0.0210826  0.0245783  \n",
       "3 -0.00526304 -0.00508921 -0.00534413 -0.00518309 -0.00544843 -0.00538244\n",
       "4 0.0226635   0.0214958   0.0226123   0.0221212   0.0239712   0.0252937  \n",
       "5 0.0693604   0.0685406   0.06972     0.0690513   0.0679772   0.0693614  \n",
       "6 M           F           F           F           M           F          \n",
       "  898        \n",
       "1 0.00983834 \n",
       "2 -0.0205709 \n",
       "3 -0.00537699\n",
       "4 0.0216689  \n",
       "5 0.0681412  \n",
       "6 F          "
      ]
     },
     "metadata": {},
     "output_type": "display_data"
    }
   ],
   "source": [
    "cov <- fread(\"../data/90hcp_cov.txt\", data.table = F, header = T)\n",
    "head(cov)"
   ]
  },
  {
   "cell_type": "code",
   "execution_count": 13,
   "id": "b4bf3f8b",
   "metadata": {},
   "outputs": [
    {
     "data": {
      "text/html": [
       "<style>\n",
       ".list-inline {list-style: none; margin:0; padding: 0}\n",
       ".list-inline>li {display: inline-block}\n",
       ".list-inline>li:not(:last-child)::after {content: \"\\00b7\"; padding: 0 .5ex}\n",
       "</style>\n",
       "<ol class=list-inline><li>'1614'</li><li>'11602'</li><li>'Br1779'</li><li>'Br2394'</li><li>'Br2402'</li><li>'Br2411'</li><li>'Br2412'</li><li>'1713'</li><li>'11841'</li><li>'Br1794'</li><li>'HSB148'</li><li>'HSB107'</li><li>'HSB154'</li><li>'HSB100'</li></ol>\n"
      ],
      "text/latex": [
       "\\begin{enumerate*}\n",
       "\\item '1614'\n",
       "\\item '11602'\n",
       "\\item 'Br1779'\n",
       "\\item 'Br2394'\n",
       "\\item 'Br2402'\n",
       "\\item 'Br2411'\n",
       "\\item 'Br2412'\n",
       "\\item '1713'\n",
       "\\item '11841'\n",
       "\\item 'Br1794'\n",
       "\\item 'HSB148'\n",
       "\\item 'HSB107'\n",
       "\\item 'HSB154'\n",
       "\\item 'HSB100'\n",
       "\\end{enumerate*}\n"
      ],
      "text/markdown": [
       "1. '1614'\n",
       "2. '11602'\n",
       "3. 'Br1779'\n",
       "4. 'Br2394'\n",
       "5. 'Br2402'\n",
       "6. 'Br2411'\n",
       "7. 'Br2412'\n",
       "8. '1713'\n",
       "9. '11841'\n",
       "10. 'Br1794'\n",
       "11. 'HSB148'\n",
       "12. 'HSB107'\n",
       "13. 'HSB154'\n",
       "14. 'HSB100'\n",
       "\n",
       "\n"
      ],
      "text/plain": [
       " [1] \"1614\"   \"11602\"  \"Br1779\" \"Br2394\" \"Br2402\" \"Br2411\" \"Br2412\" \"1713\"  \n",
       " [9] \"11841\"  \"Br1794\" \"HSB148\" \"HSB107\" \"HSB154\" \"HSB100\""
      ]
     },
     "metadata": {},
     "output_type": "display_data"
    }
   ],
   "source": [
    "rel <- fread(\"../../genotype/all_data/isec_R2_greater_than_3/ancestry/related.txt\", data.table = F)$V1\n",
    "rel"
   ]
  },
  {
   "cell_type": "markdown",
   "id": "a5f327c0",
   "metadata": {},
   "source": [
    "**Remove related subjects**"
   ]
  },
  {
   "cell_type": "code",
   "execution_count": 21,
   "id": "003c209d",
   "metadata": {},
   "outputs": [
    {
     "data": {
      "text/html": [
       "<style>\n",
       ".list-inline {list-style: none; margin:0; padding: 0}\n",
       ".list-inline>li {display: inline-block}\n",
       ".list-inline>li:not(:last-child)::after {content: \"\\00b7\"; padding: 0 .5ex}\n",
       "</style>\n",
       "<ol class=list-inline><li>97</li><li>630</li></ol>\n"
      ],
      "text/latex": [
       "\\begin{enumerate*}\n",
       "\\item 97\n",
       "\\item 630\n",
       "\\end{enumerate*}\n"
      ],
      "text/markdown": [
       "1. 97\n",
       "2. 630\n",
       "\n",
       "\n"
      ],
      "text/plain": [
       "[1]  97 630"
      ]
     },
     "metadata": {},
     "output_type": "display_data"
    }
   ],
   "source": [
    "cov <- cov[,!names(cov) %in% rel]\n",
    "dim(cov)"
   ]
  },
  {
   "cell_type": "code",
   "execution_count": 24,
   "id": "018cc72d",
   "metadata": {},
   "outputs": [
    {
     "data": {
      "text/html": [
       "<style>\n",
       ".list-inline {list-style: none; margin:0; padding: 0}\n",
       ".list-inline>li {display: inline-block}\n",
       ".list-inline>li:not(:last-child)::after {content: \"\\00b7\"; padding: 0 .5ex}\n",
       "</style>\n",
       "<ol class=list-inline><li>629</li><li>18</li></ol>\n"
      ],
      "text/latex": [
       "\\begin{enumerate*}\n",
       "\\item 629\n",
       "\\item 18\n",
       "\\end{enumerate*}\n"
      ],
      "text/markdown": [
       "1. 629\n",
       "2. 18\n",
       "\n",
       "\n"
      ],
      "text/plain": [
       "[1] 629  18"
      ]
     },
     "metadata": {},
     "output_type": "display_data"
    }
   ],
   "source": [
    "recorder <- recorder[!rownames(recorder) %in% rel,]\n",
    "dim(recorder)"
   ]
  },
  {
   "cell_type": "code",
   "execution_count": 25,
   "id": "49147b9c",
   "metadata": {},
   "outputs": [
    {
     "data": {
      "text/html": [
       "<style>\n",
       ".list-inline {list-style: none; margin:0; padding: 0}\n",
       ".list-inline>li {display: inline-block}\n",
       ".list-inline>li:not(:last-child)::after {content: \"\\00b7\"; padding: 0 .5ex}\n",
       "</style>\n",
       "<ol class=list-inline><li>31947</li><li>633</li></ol>\n"
      ],
      "text/latex": [
       "\\begin{enumerate*}\n",
       "\\item 31947\n",
       "\\item 633\n",
       "\\end{enumerate*}\n"
      ],
      "text/markdown": [
       "1. 31947\n",
       "2. 633\n",
       "\n",
       "\n"
      ],
      "text/plain": [
       "[1] 31947   633"
      ]
     },
     "metadata": {},
     "output_type": "display_data"
    }
   ],
   "source": [
    "expr <- expr[,!names(expr) %in% rel]\n",
    "dim(expr)"
   ]
  },
  {
   "cell_type": "markdown",
   "id": "3c22d9f7",
   "metadata": {},
   "source": [
    "**Linear regression `resid(expr) ~ SV`**\n",
    "- QTLtools first regresses out the covariates from the phenotype data, followed by running the linear regression between the phenotype residuals and the genotype\n",
    "- If the `--normal` and `--cov` are provided at the same time, then the residuals after the covariate correction are rank normal transformed\n",
    "- Here also testing the coded regression with `lm`"
   ]
  },
  {
   "cell_type": "markdown",
   "id": "cc8e045a",
   "metadata": {},
   "source": [
    "**1. First regress out covariates from expression**"
   ]
  },
  {
   "cell_type": "code",
   "execution_count": 26,
   "id": "0e044105",
   "metadata": {},
   "outputs": [],
   "source": [
    "rownames(cov) <- cov$id\n",
    "cov <- cov[,-1]\n",
    "cov[cov==\"F\"] <- 0\n",
    "cov[cov==\"M\"] <- 1\n",
    "cov <- t(cov)\n",
    "cov <- cbind(1, cov)\n",
    "storage.mode(cov) <- \"numeric\""
   ]
  },
  {
   "cell_type": "code",
   "execution_count": 27,
   "id": "122ce456",
   "metadata": {},
   "outputs": [
    {
     "data": {
      "text/html": [
       "<table class=\"dataframe\">\n",
       "<caption>A matrix: 6 x 98 of type dbl</caption>\n",
       "<thead>\n",
       "\t<tr><th></th><th scope=col></th><th scope=col>PC1</th><th scope=col>PC2</th><th scope=col>PC3</th><th scope=col>PC4</th><th scope=col>PC5</th><th scope=col>sex</th><th scope=col>HCP1</th><th scope=col>HCP2</th><th scope=col>HCP3</th><th scope=col>...</th><th scope=col>HCP82</th><th scope=col>HCP83</th><th scope=col>HCP84</th><th scope=col>HCP85</th><th scope=col>HCP86</th><th scope=col>HCP87</th><th scope=col>HCP88</th><th scope=col>HCP89</th><th scope=col>HCP90</th><th scope=col>age</th></tr>\n",
       "</thead>\n",
       "<tbody>\n",
       "\t<tr><th scope=row>1474</th><td>1</td><td> 0.00898199</td><td>-0.000357270</td><td>-0.02482680</td><td>-0.032138300</td><td> 0.000571238</td><td>1</td><td> 0.02489871</td><td>-0.4019976</td><td>-0.3388445</td><td>...</td><td> 0.80657916</td><td>-0.37321124</td><td> 0.58568964</td><td>-0.061274183</td><td>-0.23737501</td><td>-0.41832559</td><td>-0.41279687</td><td>-1.00632175</td><td> 0.29851416</td><td>-0.4986301</td></tr>\n",
       "\t<tr><th scope=row>1496</th><td>1</td><td>-0.00763380</td><td>-0.000843408</td><td>-0.01418860</td><td>-0.017555500</td><td>-0.001672980</td><td>0</td><td>-0.20898506</td><td> 0.1315736</td><td> 0.4785638</td><td>...</td><td> 0.10338800</td><td> 0.56528105</td><td>-0.07663771</td><td>-0.004087691</td><td> 0.21658413</td><td>-0.18350357</td><td>-0.05032608</td><td>-0.05653829</td><td> 0.03211184</td><td>-0.4602740</td></tr>\n",
       "\t<tr><th scope=row>1500</th><td>1</td><td> 0.01111470</td><td>-0.015854500</td><td>-0.01016010</td><td>-0.000733046</td><td>-0.012672200</td><td>1</td><td>-0.03128920</td><td>-0.4912983</td><td>-0.1810369</td><td>...</td><td>-0.18134092</td><td>-0.09036451</td><td> 0.11534568</td><td> 0.144869882</td><td> 0.11412663</td><td>-0.01423129</td><td> 0.25413426</td><td>-0.48506890</td><td>-0.09221297</td><td>-0.4794521</td></tr>\n",
       "\t<tr><th scope=row>1502</th><td>1</td><td> 0.00487142</td><td> 0.000257063</td><td>-0.02227580</td><td>-0.031589900</td><td> 0.001282430</td><td>1</td><td>-0.03733652</td><td> 0.2831048</td><td> 0.1061886</td><td>...</td><td> 0.07935134</td><td> 0.11610668</td><td> 0.06276578</td><td> 0.401644541</td><td>-0.02963446</td><td> 0.12413614</td><td>-0.13586945</td><td>-0.08789221</td><td> 0.00116774</td><td>-0.4410959</td></tr>\n",
       "\t<tr><th scope=row>1507</th><td>1</td><td> 0.00960893</td><td>-0.003266130</td><td>-0.02087100</td><td>-0.024533500</td><td>-0.002257020</td><td>1</td><td> 0.15308896</td><td>-0.3783080</td><td> 0.5525917</td><td>...</td><td>-0.10455167</td><td> 0.31311166</td><td>-0.23432174</td><td> 0.287902870</td><td> 0.18724611</td><td> 0.19281353</td><td> 0.16318990</td><td> 0.04997490</td><td> 0.05738023</td><td>-0.4602740</td></tr>\n",
       "\t<tr><th scope=row>1511</th><td>1</td><td>-0.01488000</td><td>-0.001135820</td><td>-0.00907471</td><td>-0.010659600</td><td>-0.001458590</td><td>1</td><td>-0.11345797</td><td>-0.3760258</td><td>-0.8350841</td><td>...</td><td> 0.36750293</td><td>-0.14613559</td><td> 0.44909112</td><td> 0.166787756</td><td> 0.12988756</td><td>-0.48845279</td><td>-0.77368296</td><td>-0.57988925</td><td> 0.42413132</td><td>-0.4986301</td></tr>\n",
       "</tbody>\n",
       "</table>\n"
      ],
      "text/latex": [
       "A matrix: 6 x 98 of type dbl\n",
       "\\begin{tabular}{r|lllllllllllllllllllll}\n",
       "  &  & PC1 & PC2 & PC3 & PC4 & PC5 & sex & HCP1 & HCP2 & HCP3 & ... & HCP82 & HCP83 & HCP84 & HCP85 & HCP86 & HCP87 & HCP88 & HCP89 & HCP90 & age\\\\\n",
       "\\hline\n",
       "\t1474 & 1 &  0.00898199 & -0.000357270 & -0.02482680 & -0.032138300 &  0.000571238 & 1 &  0.02489871 & -0.4019976 & -0.3388445 & ... &  0.80657916 & -0.37321124 &  0.58568964 & -0.061274183 & -0.23737501 & -0.41832559 & -0.41279687 & -1.00632175 &  0.29851416 & -0.4986301\\\\\n",
       "\t1496 & 1 & -0.00763380 & -0.000843408 & -0.01418860 & -0.017555500 & -0.001672980 & 0 & -0.20898506 &  0.1315736 &  0.4785638 & ... &  0.10338800 &  0.56528105 & -0.07663771 & -0.004087691 &  0.21658413 & -0.18350357 & -0.05032608 & -0.05653829 &  0.03211184 & -0.4602740\\\\\n",
       "\t1500 & 1 &  0.01111470 & -0.015854500 & -0.01016010 & -0.000733046 & -0.012672200 & 1 & -0.03128920 & -0.4912983 & -0.1810369 & ... & -0.18134092 & -0.09036451 &  0.11534568 &  0.144869882 &  0.11412663 & -0.01423129 &  0.25413426 & -0.48506890 & -0.09221297 & -0.4794521\\\\\n",
       "\t1502 & 1 &  0.00487142 &  0.000257063 & -0.02227580 & -0.031589900 &  0.001282430 & 1 & -0.03733652 &  0.2831048 &  0.1061886 & ... &  0.07935134 &  0.11610668 &  0.06276578 &  0.401644541 & -0.02963446 &  0.12413614 & -0.13586945 & -0.08789221 &  0.00116774 & -0.4410959\\\\\n",
       "\t1507 & 1 &  0.00960893 & -0.003266130 & -0.02087100 & -0.024533500 & -0.002257020 & 1 &  0.15308896 & -0.3783080 &  0.5525917 & ... & -0.10455167 &  0.31311166 & -0.23432174 &  0.287902870 &  0.18724611 &  0.19281353 &  0.16318990 &  0.04997490 &  0.05738023 & -0.4602740\\\\\n",
       "\t1511 & 1 & -0.01488000 & -0.001135820 & -0.00907471 & -0.010659600 & -0.001458590 & 1 & -0.11345797 & -0.3760258 & -0.8350841 & ... &  0.36750293 & -0.14613559 &  0.44909112 &  0.166787756 &  0.12988756 & -0.48845279 & -0.77368296 & -0.57988925 &  0.42413132 & -0.4986301\\\\\n",
       "\\end{tabular}\n"
      ],
      "text/markdown": [
       "\n",
       "A matrix: 6 x 98 of type dbl\n",
       "\n",
       "| <!--/--> | <!----> | PC1 | PC2 | PC3 | PC4 | PC5 | sex | HCP1 | HCP2 | HCP3 | ... | HCP82 | HCP83 | HCP84 | HCP85 | HCP86 | HCP87 | HCP88 | HCP89 | HCP90 | age |\n",
       "|---|---|---|---|---|---|---|---|---|---|---|---|---|---|---|---|---|---|---|---|---|---|\n",
       "| 1474 | 1 |  0.00898199 | -0.000357270 | -0.02482680 | -0.032138300 |  0.000571238 | 1 |  0.02489871 | -0.4019976 | -0.3388445 | ... |  0.80657916 | -0.37321124 |  0.58568964 | -0.061274183 | -0.23737501 | -0.41832559 | -0.41279687 | -1.00632175 |  0.29851416 | -0.4986301 |\n",
       "| 1496 | 1 | -0.00763380 | -0.000843408 | -0.01418860 | -0.017555500 | -0.001672980 | 0 | -0.20898506 |  0.1315736 |  0.4785638 | ... |  0.10338800 |  0.56528105 | -0.07663771 | -0.004087691 |  0.21658413 | -0.18350357 | -0.05032608 | -0.05653829 |  0.03211184 | -0.4602740 |\n",
       "| 1500 | 1 |  0.01111470 | -0.015854500 | -0.01016010 | -0.000733046 | -0.012672200 | 1 | -0.03128920 | -0.4912983 | -0.1810369 | ... | -0.18134092 | -0.09036451 |  0.11534568 |  0.144869882 |  0.11412663 | -0.01423129 |  0.25413426 | -0.48506890 | -0.09221297 | -0.4794521 |\n",
       "| 1502 | 1 |  0.00487142 |  0.000257063 | -0.02227580 | -0.031589900 |  0.001282430 | 1 | -0.03733652 |  0.2831048 |  0.1061886 | ... |  0.07935134 |  0.11610668 |  0.06276578 |  0.401644541 | -0.02963446 |  0.12413614 | -0.13586945 | -0.08789221 |  0.00116774 | -0.4410959 |\n",
       "| 1507 | 1 |  0.00960893 | -0.003266130 | -0.02087100 | -0.024533500 | -0.002257020 | 1 |  0.15308896 | -0.3783080 |  0.5525917 | ... | -0.10455167 |  0.31311166 | -0.23432174 |  0.287902870 |  0.18724611 |  0.19281353 |  0.16318990 |  0.04997490 |  0.05738023 | -0.4602740 |\n",
       "| 1511 | 1 | -0.01488000 | -0.001135820 | -0.00907471 | -0.010659600 | -0.001458590 | 1 | -0.11345797 | -0.3760258 | -0.8350841 | ... |  0.36750293 | -0.14613559 |  0.44909112 |  0.166787756 |  0.12988756 | -0.48845279 | -0.77368296 | -0.57988925 |  0.42413132 | -0.4986301 |\n",
       "\n"
      ],
      "text/plain": [
       "       PC1         PC2          PC3         PC4          PC5          sex\n",
       "1474 1  0.00898199 -0.000357270 -0.02482680 -0.032138300  0.000571238 1  \n",
       "1496 1 -0.00763380 -0.000843408 -0.01418860 -0.017555500 -0.001672980 0  \n",
       "1500 1  0.01111470 -0.015854500 -0.01016010 -0.000733046 -0.012672200 1  \n",
       "1502 1  0.00487142  0.000257063 -0.02227580 -0.031589900  0.001282430 1  \n",
       "1507 1  0.00960893 -0.003266130 -0.02087100 -0.024533500 -0.002257020 1  \n",
       "1511 1 -0.01488000 -0.001135820 -0.00907471 -0.010659600 -0.001458590 1  \n",
       "     HCP1        HCP2       HCP3       ... HCP82       HCP83       HCP84      \n",
       "1474  0.02489871 -0.4019976 -0.3388445 ...  0.80657916 -0.37321124  0.58568964\n",
       "1496 -0.20898506  0.1315736  0.4785638 ...  0.10338800  0.56528105 -0.07663771\n",
       "1500 -0.03128920 -0.4912983 -0.1810369 ... -0.18134092 -0.09036451  0.11534568\n",
       "1502 -0.03733652  0.2831048  0.1061886 ...  0.07935134  0.11610668  0.06276578\n",
       "1507  0.15308896 -0.3783080  0.5525917 ... -0.10455167  0.31311166 -0.23432174\n",
       "1511 -0.11345797 -0.3760258 -0.8350841 ...  0.36750293 -0.14613559  0.44909112\n",
       "     HCP85        HCP86       HCP87       HCP88       HCP89       HCP90      \n",
       "1474 -0.061274183 -0.23737501 -0.41832559 -0.41279687 -1.00632175  0.29851416\n",
       "1496 -0.004087691  0.21658413 -0.18350357 -0.05032608 -0.05653829  0.03211184\n",
       "1500  0.144869882  0.11412663 -0.01423129  0.25413426 -0.48506890 -0.09221297\n",
       "1502  0.401644541 -0.02963446  0.12413614 -0.13586945 -0.08789221  0.00116774\n",
       "1507  0.287902870  0.18724611  0.19281353  0.16318990  0.04997490  0.05738023\n",
       "1511  0.166787756  0.12988756 -0.48845279 -0.77368296 -0.57988925  0.42413132\n",
       "     age       \n",
       "1474 -0.4986301\n",
       "1496 -0.4602740\n",
       "1500 -0.4794521\n",
       "1502 -0.4410959\n",
       "1507 -0.4602740\n",
       "1511 -0.4986301"
      ]
     },
     "metadata": {},
     "output_type": "display_data"
    }
   ],
   "source": [
    "head(cov)"
   ]
  },
  {
   "cell_type": "code",
   "execution_count": 30,
   "id": "e6611e0c",
   "metadata": {},
   "outputs": [],
   "source": [
    "datExpr <- expr[,4:ncol(expr)]\n",
    "rownames(datExpr) <- datExpr$ID\n",
    "datExpr <- datExpr[,-1]"
   ]
  },
  {
   "cell_type": "code",
   "execution_count": 31,
   "id": "d5f9e77d",
   "metadata": {},
   "outputs": [
    {
     "data": {
      "text/html": [
       "<table class=\"dataframe\">\n",
       "<caption>A data.frame: 6 x 629</caption>\n",
       "<thead>\n",
       "\t<tr><th></th><th scope=col>1474</th><th scope=col>1496</th><th scope=col>1500</th><th scope=col>1502</th><th scope=col>1507</th><th scope=col>1511</th><th scope=col>1513</th><th scope=col>1525</th><th scope=col>1531</th><th scope=col>1533</th><th scope=col>...</th><th scope=col>1558</th><th scope=col>1607</th><th scope=col>1707.1</th><th scope=col>1835</th><th scope=col>1851</th><th scope=col>1890</th><th scope=col>1923</th><th scope=col>2193</th><th scope=col>849</th><th scope=col>898</th></tr>\n",
       "\t<tr><th></th><th scope=col>&lt;dbl&gt;</th><th scope=col>&lt;dbl&gt;</th><th scope=col>&lt;dbl&gt;</th><th scope=col>&lt;dbl&gt;</th><th scope=col>&lt;dbl&gt;</th><th scope=col>&lt;dbl&gt;</th><th scope=col>&lt;dbl&gt;</th><th scope=col>&lt;dbl&gt;</th><th scope=col>&lt;dbl&gt;</th><th scope=col>&lt;dbl&gt;</th><th scope=col>...</th><th scope=col>&lt;dbl&gt;</th><th scope=col>&lt;dbl&gt;</th><th scope=col>&lt;dbl&gt;</th><th scope=col>&lt;dbl&gt;</th><th scope=col>&lt;dbl&gt;</th><th scope=col>&lt;dbl&gt;</th><th scope=col>&lt;dbl&gt;</th><th scope=col>&lt;dbl&gt;</th><th scope=col>&lt;dbl&gt;</th><th scope=col>&lt;dbl&gt;</th></tr>\n",
       "</thead>\n",
       "<tbody>\n",
       "\t<tr><th scope=row>ENSG00000223972</th><td>3.135499</td><td>3.860746</td><td>2.991053</td><td>3.402323</td><td>1.683311</td><td>2.979528</td><td>1.683311</td><td>1.683311</td><td>3.583774</td><td> 1.683311</td><td>...</td><td>3.545430</td><td>2.794408</td><td>3.219573</td><td>3.270080</td><td>3.033587</td><td>3.719546</td><td>3.528669</td><td>1.795879</td><td>1.795879</td><td>1.795879</td></tr>\n",
       "\t<tr><th scope=row>ENSG00000243485</th><td>2.019259</td><td>2.019259</td><td>3.337607</td><td>3.284138</td><td>2.019259</td><td>4.117352</td><td>2.019259</td><td>2.019259</td><td>2.019259</td><td> 2.019259</td><td>...</td><td>1.739895</td><td>1.739895</td><td>3.364551</td><td>2.579396</td><td>3.357388</td><td>2.792396</td><td>2.825834</td><td>3.070580</td><td>3.492360</td><td>2.796174</td></tr>\n",
       "\t<tr><th scope=row>ENSG00000227232</th><td>7.976420</td><td>7.983908</td><td>8.418516</td><td>8.327781</td><td>7.848723</td><td>8.723322</td><td>8.047395</td><td>8.643141</td><td>8.822918</td><td> 7.658501</td><td>...</td><td>6.898168</td><td>8.165533</td><td>9.093119</td><td>7.508564</td><td>8.412931</td><td>8.818620</td><td>7.683092</td><td>8.549899</td><td>7.261408</td><td>7.765424</td></tr>\n",
       "\t<tr><th scope=row>ENSG00000237613</th><td>3.965445</td><td>4.274929</td><td>4.684834</td><td>4.872262</td><td>4.790440</td><td>3.521006</td><td>4.333095</td><td>4.779410</td><td>5.227346</td><td>-0.483929</td><td>...</td><td>2.993636</td><td>4.926470</td><td>2.993636</td><td>2.993636</td><td>2.993636</td><td>2.993636</td><td>2.993636</td><td>5.123510</td><td>2.993636</td><td>2.993636</td></tr>\n",
       "\t<tr><th scope=row>ENSG00000239945</th><td>1.850485</td><td>3.306370</td><td>2.977209</td><td>3.985883</td><td>1.850485</td><td>1.850485</td><td>1.850485</td><td>1.850485</td><td>1.850485</td><td> 4.087958</td><td>...</td><td>2.157703</td><td>2.157703</td><td>2.157703</td><td>3.728385</td><td>5.165983</td><td>3.846017</td><td>2.157703</td><td>2.157703</td><td>2.157703</td><td>4.511053</td></tr>\n",
       "\t<tr><th scope=row>ENSG00000233750</th><td>4.110258</td><td>4.971833</td><td>4.274072</td><td>4.756833</td><td>5.022698</td><td>3.450271</td><td>4.377471</td><td>3.433721</td><td>4.665800</td><td> 4.482790</td><td>...</td><td>4.431115</td><td>4.068149</td><td>4.380002</td><td>3.577251</td><td>3.459137</td><td>4.259683</td><td>3.918486</td><td>3.981142</td><td>4.821110</td><td>5.015399</td></tr>\n",
       "</tbody>\n",
       "</table>\n"
      ],
      "text/latex": [
       "A data.frame: 6 x 629\n",
       "\\begin{tabular}{r|lllllllllllllllllllll}\n",
       "  & 1474 & 1496 & 1500 & 1502 & 1507 & 1511 & 1513 & 1525 & 1531 & 1533 & ... & 1558 & 1607 & 1707.1 & 1835 & 1851 & 1890 & 1923 & 2193 & 849 & 898\\\\\n",
       "  & <dbl> & <dbl> & <dbl> & <dbl> & <dbl> & <dbl> & <dbl> & <dbl> & <dbl> & <dbl> & ... & <dbl> & <dbl> & <dbl> & <dbl> & <dbl> & <dbl> & <dbl> & <dbl> & <dbl> & <dbl>\\\\\n",
       "\\hline\n",
       "\tENSG00000223972 & 3.135499 & 3.860746 & 2.991053 & 3.402323 & 1.683311 & 2.979528 & 1.683311 & 1.683311 & 3.583774 &  1.683311 & ... & 3.545430 & 2.794408 & 3.219573 & 3.270080 & 3.033587 & 3.719546 & 3.528669 & 1.795879 & 1.795879 & 1.795879\\\\\n",
       "\tENSG00000243485 & 2.019259 & 2.019259 & 3.337607 & 3.284138 & 2.019259 & 4.117352 & 2.019259 & 2.019259 & 2.019259 &  2.019259 & ... & 1.739895 & 1.739895 & 3.364551 & 2.579396 & 3.357388 & 2.792396 & 2.825834 & 3.070580 & 3.492360 & 2.796174\\\\\n",
       "\tENSG00000227232 & 7.976420 & 7.983908 & 8.418516 & 8.327781 & 7.848723 & 8.723322 & 8.047395 & 8.643141 & 8.822918 &  7.658501 & ... & 6.898168 & 8.165533 & 9.093119 & 7.508564 & 8.412931 & 8.818620 & 7.683092 & 8.549899 & 7.261408 & 7.765424\\\\\n",
       "\tENSG00000237613 & 3.965445 & 4.274929 & 4.684834 & 4.872262 & 4.790440 & 3.521006 & 4.333095 & 4.779410 & 5.227346 & -0.483929 & ... & 2.993636 & 4.926470 & 2.993636 & 2.993636 & 2.993636 & 2.993636 & 2.993636 & 5.123510 & 2.993636 & 2.993636\\\\\n",
       "\tENSG00000239945 & 1.850485 & 3.306370 & 2.977209 & 3.985883 & 1.850485 & 1.850485 & 1.850485 & 1.850485 & 1.850485 &  4.087958 & ... & 2.157703 & 2.157703 & 2.157703 & 3.728385 & 5.165983 & 3.846017 & 2.157703 & 2.157703 & 2.157703 & 4.511053\\\\\n",
       "\tENSG00000233750 & 4.110258 & 4.971833 & 4.274072 & 4.756833 & 5.022698 & 3.450271 & 4.377471 & 3.433721 & 4.665800 &  4.482790 & ... & 4.431115 & 4.068149 & 4.380002 & 3.577251 & 3.459137 & 4.259683 & 3.918486 & 3.981142 & 4.821110 & 5.015399\\\\\n",
       "\\end{tabular}\n"
      ],
      "text/markdown": [
       "\n",
       "A data.frame: 6 x 629\n",
       "\n",
       "| <!--/--> | 1474 &lt;dbl&gt; | 1496 &lt;dbl&gt; | 1500 &lt;dbl&gt; | 1502 &lt;dbl&gt; | 1507 &lt;dbl&gt; | 1511 &lt;dbl&gt; | 1513 &lt;dbl&gt; | 1525 &lt;dbl&gt; | 1531 &lt;dbl&gt; | 1533 &lt;dbl&gt; | ... ... | 1558 &lt;dbl&gt; | 1607 &lt;dbl&gt; | 1707.1 &lt;dbl&gt; | 1835 &lt;dbl&gt; | 1851 &lt;dbl&gt; | 1890 &lt;dbl&gt; | 1923 &lt;dbl&gt; | 2193 &lt;dbl&gt; | 849 &lt;dbl&gt; | 898 &lt;dbl&gt; |\n",
       "|---|---|---|---|---|---|---|---|---|---|---|---|---|---|---|---|---|---|---|---|---|---|\n",
       "| ENSG00000223972 | 3.135499 | 3.860746 | 2.991053 | 3.402323 | 1.683311 | 2.979528 | 1.683311 | 1.683311 | 3.583774 |  1.683311 | ... | 3.545430 | 2.794408 | 3.219573 | 3.270080 | 3.033587 | 3.719546 | 3.528669 | 1.795879 | 1.795879 | 1.795879 |\n",
       "| ENSG00000243485 | 2.019259 | 2.019259 | 3.337607 | 3.284138 | 2.019259 | 4.117352 | 2.019259 | 2.019259 | 2.019259 |  2.019259 | ... | 1.739895 | 1.739895 | 3.364551 | 2.579396 | 3.357388 | 2.792396 | 2.825834 | 3.070580 | 3.492360 | 2.796174 |\n",
       "| ENSG00000227232 | 7.976420 | 7.983908 | 8.418516 | 8.327781 | 7.848723 | 8.723322 | 8.047395 | 8.643141 | 8.822918 |  7.658501 | ... | 6.898168 | 8.165533 | 9.093119 | 7.508564 | 8.412931 | 8.818620 | 7.683092 | 8.549899 | 7.261408 | 7.765424 |\n",
       "| ENSG00000237613 | 3.965445 | 4.274929 | 4.684834 | 4.872262 | 4.790440 | 3.521006 | 4.333095 | 4.779410 | 5.227346 | -0.483929 | ... | 2.993636 | 4.926470 | 2.993636 | 2.993636 | 2.993636 | 2.993636 | 2.993636 | 5.123510 | 2.993636 | 2.993636 |\n",
       "| ENSG00000239945 | 1.850485 | 3.306370 | 2.977209 | 3.985883 | 1.850485 | 1.850485 | 1.850485 | 1.850485 | 1.850485 |  4.087958 | ... | 2.157703 | 2.157703 | 2.157703 | 3.728385 | 5.165983 | 3.846017 | 2.157703 | 2.157703 | 2.157703 | 4.511053 |\n",
       "| ENSG00000233750 | 4.110258 | 4.971833 | 4.274072 | 4.756833 | 5.022698 | 3.450271 | 4.377471 | 3.433721 | 4.665800 |  4.482790 | ... | 4.431115 | 4.068149 | 4.380002 | 3.577251 | 3.459137 | 4.259683 | 3.918486 | 3.981142 | 4.821110 | 5.015399 |\n",
       "\n"
      ],
      "text/plain": [
       "                1474     1496     1500     1502     1507     1511     1513    \n",
       "ENSG00000223972 3.135499 3.860746 2.991053 3.402323 1.683311 2.979528 1.683311\n",
       "ENSG00000243485 2.019259 2.019259 3.337607 3.284138 2.019259 4.117352 2.019259\n",
       "ENSG00000227232 7.976420 7.983908 8.418516 8.327781 7.848723 8.723322 8.047395\n",
       "ENSG00000237613 3.965445 4.274929 4.684834 4.872262 4.790440 3.521006 4.333095\n",
       "ENSG00000239945 1.850485 3.306370 2.977209 3.985883 1.850485 1.850485 1.850485\n",
       "ENSG00000233750 4.110258 4.971833 4.274072 4.756833 5.022698 3.450271 4.377471\n",
       "                1525     1531     1533      ... 1558     1607     1707.1  \n",
       "ENSG00000223972 1.683311 3.583774  1.683311 ... 3.545430 2.794408 3.219573\n",
       "ENSG00000243485 2.019259 2.019259  2.019259 ... 1.739895 1.739895 3.364551\n",
       "ENSG00000227232 8.643141 8.822918  7.658501 ... 6.898168 8.165533 9.093119\n",
       "ENSG00000237613 4.779410 5.227346 -0.483929 ... 2.993636 4.926470 2.993636\n",
       "ENSG00000239945 1.850485 1.850485  4.087958 ... 2.157703 2.157703 2.157703\n",
       "ENSG00000233750 3.433721 4.665800  4.482790 ... 4.431115 4.068149 4.380002\n",
       "                1835     1851     1890     1923     2193     849      898     \n",
       "ENSG00000223972 3.270080 3.033587 3.719546 3.528669 1.795879 1.795879 1.795879\n",
       "ENSG00000243485 2.579396 3.357388 2.792396 2.825834 3.070580 3.492360 2.796174\n",
       "ENSG00000227232 7.508564 8.412931 8.818620 7.683092 8.549899 7.261408 7.765424\n",
       "ENSG00000237613 2.993636 2.993636 2.993636 2.993636 5.123510 2.993636 2.993636\n",
       "ENSG00000239945 3.728385 5.165983 3.846017 2.157703 2.157703 2.157703 4.511053\n",
       "ENSG00000233750 3.577251 3.459137 4.259683 3.918486 3.981142 4.821110 5.015399"
      ]
     },
     "metadata": {},
     "output_type": "display_data"
    }
   ],
   "source": [
    "head(datExpr)"
   ]
  },
  {
   "cell_type": "code",
   "execution_count": 32,
   "id": "a996a144",
   "metadata": {},
   "outputs": [],
   "source": [
    "Y <- as.matrix(datExpr)\n",
    "X <- as.matrix(cov)\n",
    "\n",
    "beta <- (solve(t(X) %*% X) %*% t(X)) %*% t(Y)\n",
    "datExpr_regressed <- Y - t(X[,-1] %*% beta[-1,])"
   ]
  },
  {
   "cell_type": "code",
   "execution_count": 33,
   "id": "846643aa",
   "metadata": {},
   "outputs": [
    {
     "data": {
      "text/html": [
       "<table class=\"dataframe\">\n",
       "<caption>A matrix: 6 x 629 of type dbl</caption>\n",
       "<thead>\n",
       "\t<tr><th></th><th scope=col>1474</th><th scope=col>1496</th><th scope=col>1500</th><th scope=col>1502</th><th scope=col>1507</th><th scope=col>1511</th><th scope=col>1513</th><th scope=col>1525</th><th scope=col>1531</th><th scope=col>1533</th><th scope=col>...</th><th scope=col>1558</th><th scope=col>1607</th><th scope=col>1707.1</th><th scope=col>1835</th><th scope=col>1851</th><th scope=col>1890</th><th scope=col>1923</th><th scope=col>2193</th><th scope=col>849</th><th scope=col>898</th></tr>\n",
       "</thead>\n",
       "<tbody>\n",
       "\t<tr><th scope=row>ENSG00000223972</th><td>2.867789</td><td>3.296470</td><td>2.200791</td><td>2.684605</td><td>1.4565833</td><td>3.400122</td><td>1.017490</td><td>0.9603317</td><td>2.611516</td><td>1.5514351</td><td>...</td><td>2.852729</td><td>2.339485</td><td>2.943993</td><td>3.169074</td><td>2.995443</td><td>3.501674</td><td>2.804495</td><td>1.687725</td><td>1.808905</td><td>1.666353</td></tr>\n",
       "\t<tr><th scope=row>ENSG00000243485</th><td>2.060708</td><td>1.581782</td><td>2.679413</td><td>2.830359</td><td>1.4140588</td><td>3.376425</td><td>1.656341</td><td>2.0834450</td><td>1.724222</td><td>1.4361136</td><td>...</td><td>1.237803</td><td>1.312254</td><td>2.414263</td><td>1.898056</td><td>2.520261</td><td>2.140663</td><td>2.337385</td><td>2.204175</td><td>2.321048</td><td>2.050840</td></tr>\n",
       "\t<tr><th scope=row>ENSG00000227232</th><td>8.811202</td><td>8.280995</td><td>8.931025</td><td>8.949145</td><td>8.3683365</td><td>9.113657</td><td>8.919081</td><td>8.5016701</td><td>8.582253</td><td>8.5895124</td><td>...</td><td>7.633874</td><td>8.261629</td><td>8.822906</td><td>7.728855</td><td>8.552273</td><td>8.871003</td><td>8.440336</td><td>9.129610</td><td>7.818537</td><td>8.283419</td></tr>\n",
       "\t<tr><th scope=row>ENSG00000237613</th><td>4.895634</td><td>4.615218</td><td>4.995389</td><td>4.928265</td><td>4.8845307</td><td>4.361184</td><td>4.768870</td><td>5.3094919</td><td>4.451794</td><td>0.2609459</td><td>...</td><td>3.829474</td><td>4.982749</td><td>4.022271</td><td>4.088187</td><td>4.231415</td><td>3.810719</td><td>3.647314</td><td>5.210864</td><td>4.068420</td><td>4.540590</td></tr>\n",
       "\t<tr><th scope=row>ENSG00000239945</th><td>1.322099</td><td>2.477211</td><td>2.435626</td><td>2.840091</td><td>0.6167818</td><td>1.252557</td><td>1.184240</td><td>1.4249191</td><td>2.130361</td><td>2.6729505</td><td>...</td><td>1.522859</td><td>2.418559</td><td>1.408638</td><td>2.505883</td><td>4.130191</td><td>3.238845</td><td>1.706037</td><td>1.256406</td><td>1.003519</td><td>2.954425</td></tr>\n",
       "\t<tr><th scope=row>ENSG00000233750</th><td>4.261517</td><td>4.511196</td><td>4.226093</td><td>4.049178</td><td>4.7536951</td><td>4.284809</td><td>4.366938</td><td>3.0368784</td><td>4.459563</td><td>4.1288294</td><td>...</td><td>4.438547</td><td>4.543358</td><td>4.305752</td><td>4.365838</td><td>4.230395</td><td>3.963106</td><td>4.015720</td><td>4.033887</td><td>4.405711</td><td>5.244836</td></tr>\n",
       "</tbody>\n",
       "</table>\n"
      ],
      "text/latex": [
       "A matrix: 6 x 629 of type dbl\n",
       "\\begin{tabular}{r|lllllllllllllllllllll}\n",
       "  & 1474 & 1496 & 1500 & 1502 & 1507 & 1511 & 1513 & 1525 & 1531 & 1533 & ... & 1558 & 1607 & 1707.1 & 1835 & 1851 & 1890 & 1923 & 2193 & 849 & 898\\\\\n",
       "\\hline\n",
       "\tENSG00000223972 & 2.867789 & 3.296470 & 2.200791 & 2.684605 & 1.4565833 & 3.400122 & 1.017490 & 0.9603317 & 2.611516 & 1.5514351 & ... & 2.852729 & 2.339485 & 2.943993 & 3.169074 & 2.995443 & 3.501674 & 2.804495 & 1.687725 & 1.808905 & 1.666353\\\\\n",
       "\tENSG00000243485 & 2.060708 & 1.581782 & 2.679413 & 2.830359 & 1.4140588 & 3.376425 & 1.656341 & 2.0834450 & 1.724222 & 1.4361136 & ... & 1.237803 & 1.312254 & 2.414263 & 1.898056 & 2.520261 & 2.140663 & 2.337385 & 2.204175 & 2.321048 & 2.050840\\\\\n",
       "\tENSG00000227232 & 8.811202 & 8.280995 & 8.931025 & 8.949145 & 8.3683365 & 9.113657 & 8.919081 & 8.5016701 & 8.582253 & 8.5895124 & ... & 7.633874 & 8.261629 & 8.822906 & 7.728855 & 8.552273 & 8.871003 & 8.440336 & 9.129610 & 7.818537 & 8.283419\\\\\n",
       "\tENSG00000237613 & 4.895634 & 4.615218 & 4.995389 & 4.928265 & 4.8845307 & 4.361184 & 4.768870 & 5.3094919 & 4.451794 & 0.2609459 & ... & 3.829474 & 4.982749 & 4.022271 & 4.088187 & 4.231415 & 3.810719 & 3.647314 & 5.210864 & 4.068420 & 4.540590\\\\\n",
       "\tENSG00000239945 & 1.322099 & 2.477211 & 2.435626 & 2.840091 & 0.6167818 & 1.252557 & 1.184240 & 1.4249191 & 2.130361 & 2.6729505 & ... & 1.522859 & 2.418559 & 1.408638 & 2.505883 & 4.130191 & 3.238845 & 1.706037 & 1.256406 & 1.003519 & 2.954425\\\\\n",
       "\tENSG00000233750 & 4.261517 & 4.511196 & 4.226093 & 4.049178 & 4.7536951 & 4.284809 & 4.366938 & 3.0368784 & 4.459563 & 4.1288294 & ... & 4.438547 & 4.543358 & 4.305752 & 4.365838 & 4.230395 & 3.963106 & 4.015720 & 4.033887 & 4.405711 & 5.244836\\\\\n",
       "\\end{tabular}\n"
      ],
      "text/markdown": [
       "\n",
       "A matrix: 6 x 629 of type dbl\n",
       "\n",
       "| <!--/--> | 1474 | 1496 | 1500 | 1502 | 1507 | 1511 | 1513 | 1525 | 1531 | 1533 | ... | 1558 | 1607 | 1707.1 | 1835 | 1851 | 1890 | 1923 | 2193 | 849 | 898 |\n",
       "|---|---|---|---|---|---|---|---|---|---|---|---|---|---|---|---|---|---|---|---|---|---|\n",
       "| ENSG00000223972 | 2.867789 | 3.296470 | 2.200791 | 2.684605 | 1.4565833 | 3.400122 | 1.017490 | 0.9603317 | 2.611516 | 1.5514351 | ... | 2.852729 | 2.339485 | 2.943993 | 3.169074 | 2.995443 | 3.501674 | 2.804495 | 1.687725 | 1.808905 | 1.666353 |\n",
       "| ENSG00000243485 | 2.060708 | 1.581782 | 2.679413 | 2.830359 | 1.4140588 | 3.376425 | 1.656341 | 2.0834450 | 1.724222 | 1.4361136 | ... | 1.237803 | 1.312254 | 2.414263 | 1.898056 | 2.520261 | 2.140663 | 2.337385 | 2.204175 | 2.321048 | 2.050840 |\n",
       "| ENSG00000227232 | 8.811202 | 8.280995 | 8.931025 | 8.949145 | 8.3683365 | 9.113657 | 8.919081 | 8.5016701 | 8.582253 | 8.5895124 | ... | 7.633874 | 8.261629 | 8.822906 | 7.728855 | 8.552273 | 8.871003 | 8.440336 | 9.129610 | 7.818537 | 8.283419 |\n",
       "| ENSG00000237613 | 4.895634 | 4.615218 | 4.995389 | 4.928265 | 4.8845307 | 4.361184 | 4.768870 | 5.3094919 | 4.451794 | 0.2609459 | ... | 3.829474 | 4.982749 | 4.022271 | 4.088187 | 4.231415 | 3.810719 | 3.647314 | 5.210864 | 4.068420 | 4.540590 |\n",
       "| ENSG00000239945 | 1.322099 | 2.477211 | 2.435626 | 2.840091 | 0.6167818 | 1.252557 | 1.184240 | 1.4249191 | 2.130361 | 2.6729505 | ... | 1.522859 | 2.418559 | 1.408638 | 2.505883 | 4.130191 | 3.238845 | 1.706037 | 1.256406 | 1.003519 | 2.954425 |\n",
       "| ENSG00000233750 | 4.261517 | 4.511196 | 4.226093 | 4.049178 | 4.7536951 | 4.284809 | 4.366938 | 3.0368784 | 4.459563 | 4.1288294 | ... | 4.438547 | 4.543358 | 4.305752 | 4.365838 | 4.230395 | 3.963106 | 4.015720 | 4.033887 | 4.405711 | 5.244836 |\n",
       "\n"
      ],
      "text/plain": [
       "                1474     1496     1500     1502     1507      1511     1513    \n",
       "ENSG00000223972 2.867789 3.296470 2.200791 2.684605 1.4565833 3.400122 1.017490\n",
       "ENSG00000243485 2.060708 1.581782 2.679413 2.830359 1.4140588 3.376425 1.656341\n",
       "ENSG00000227232 8.811202 8.280995 8.931025 8.949145 8.3683365 9.113657 8.919081\n",
       "ENSG00000237613 4.895634 4.615218 4.995389 4.928265 4.8845307 4.361184 4.768870\n",
       "ENSG00000239945 1.322099 2.477211 2.435626 2.840091 0.6167818 1.252557 1.184240\n",
       "ENSG00000233750 4.261517 4.511196 4.226093 4.049178 4.7536951 4.284809 4.366938\n",
       "                1525      1531     1533      ... 1558     1607     1707.1  \n",
       "ENSG00000223972 0.9603317 2.611516 1.5514351 ... 2.852729 2.339485 2.943993\n",
       "ENSG00000243485 2.0834450 1.724222 1.4361136 ... 1.237803 1.312254 2.414263\n",
       "ENSG00000227232 8.5016701 8.582253 8.5895124 ... 7.633874 8.261629 8.822906\n",
       "ENSG00000237613 5.3094919 4.451794 0.2609459 ... 3.829474 4.982749 4.022271\n",
       "ENSG00000239945 1.4249191 2.130361 2.6729505 ... 1.522859 2.418559 1.408638\n",
       "ENSG00000233750 3.0368784 4.459563 4.1288294 ... 4.438547 4.543358 4.305752\n",
       "                1835     1851     1890     1923     2193     849      898     \n",
       "ENSG00000223972 3.169074 2.995443 3.501674 2.804495 1.687725 1.808905 1.666353\n",
       "ENSG00000243485 1.898056 2.520261 2.140663 2.337385 2.204175 2.321048 2.050840\n",
       "ENSG00000227232 7.728855 8.552273 8.871003 8.440336 9.129610 7.818537 8.283419\n",
       "ENSG00000237613 4.088187 4.231415 3.810719 3.647314 5.210864 4.068420 4.540590\n",
       "ENSG00000239945 2.505883 4.130191 3.238845 1.706037 1.256406 1.003519 2.954425\n",
       "ENSG00000233750 4.365838 4.230395 3.963106 4.015720 4.033887 4.405711 5.244836"
      ]
     },
     "metadata": {},
     "output_type": "display_data"
    }
   ],
   "source": [
    "head(datExpr_regressed)"
   ]
  },
  {
   "cell_type": "code",
   "execution_count": 48,
   "id": "4d1c9690",
   "metadata": {},
   "outputs": [
    {
     "data": {
      "text/html": [
       "<table class=\"dataframe\">\n",
       "<caption>A matrix: 6 x 31947 of type dbl</caption>\n",
       "<thead>\n",
       "\t<tr><th></th><th scope=col>ENSG00000223972</th><th scope=col>ENSG00000243485</th><th scope=col>ENSG00000227232</th><th scope=col>ENSG00000237613</th><th scope=col>ENSG00000239945</th><th scope=col>ENSG00000233750</th><th scope=col>ENSG00000238009</th><th scope=col>ENSG00000268903</th><th scope=col>ENSG00000237683</th><th scope=col>ENSG00000239906</th><th scope=col>...</th><th scope=col>ENSG00000148399</th><th scope=col>ENSG00000165724</th><th scope=col>ENSG00000197070</th><th scope=col>ENSG00000203993</th><th scope=col>ENSG00000181090</th><th scope=col>ENSG00000148408</th><th scope=col>ENSG00000203987</th><th scope=col>ENSG00000276388</th><th scope=col>ENSG00000159247</th><th scope=col>ENSG00000233013</th></tr>\n",
       "</thead>\n",
       "<tbody>\n",
       "\t<tr><th scope=row></th><td> 2.58</td><td>  2.05</td><td> 8.58</td><td> 4.46</td><td>  2.14</td><td> 4.30</td><td> 6.41</td><td> 2.18</td><td> 6.35</td><td> 3.18</td><td>...</td><td> 9.67</td><td> 9.08</td><td> 8.34</td><td> 8.60</td><td>11.87</td><td>11.42</td><td> 3.97</td><td> 2.27</td><td> 5.06</td><td> 2.98</td></tr>\n",
       "\t<tr><th scope=row>PC1</th><td>-5.58</td><td>  0.54</td><td> 0.10</td><td> 2.45</td><td>-12.24</td><td>-1.34</td><td> 0.53</td><td>-0.09</td><td>-0.87</td><td>-5.62</td><td>...</td><td>-0.31</td><td>-0.33</td><td> 0.15</td><td> 0.93</td><td> 4.43</td><td>-1.22</td><td> 0.57</td><td> 4.10</td><td>-5.26</td><td>-7.55</td></tr>\n",
       "\t<tr><th scope=row>PC2</th><td>-1.80</td><td>  8.81</td><td>-1.54</td><td>-3.55</td><td> 11.14</td><td> 0.42</td><td> 0.83</td><td> 7.77</td><td> 2.12</td><td>-4.83</td><td>...</td><td>-0.59</td><td> 0.70</td><td> 0.24</td><td> 0.91</td><td> 1.25</td><td> 0.79</td><td> 0.61</td><td> 0.05</td><td> 6.76</td><td>-1.61</td></tr>\n",
       "\t<tr><th scope=row>PC3</th><td>-9.17</td><td>-12.25</td><td> 2.61</td><td> 4.72</td><td>  3.04</td><td>-1.40</td><td> 6.23</td><td>-0.18</td><td>-0.95</td><td>-0.25</td><td>...</td><td> 0.37</td><td> 0.64</td><td>-0.32</td><td> 0.20</td><td>-1.31</td><td>-1.30</td><td>-0.33</td><td>-3.09</td><td>-5.33</td><td>14.45</td></tr>\n",
       "\t<tr><th scope=row>PC4</th><td> 0.63</td><td> 10.36</td><td>-0.32</td><td>-0.44</td><td>  1.66</td><td> 0.15</td><td>-1.29</td><td>-3.44</td><td> 4.68</td><td>-1.63</td><td>...</td><td> 0.12</td><td> 0.08</td><td>-1.19</td><td> 0.31</td><td> 0.96</td><td> 0.61</td><td> 0.53</td><td> 1.02</td><td> 8.32</td><td>-8.17</td></tr>\n",
       "\t<tr><th scope=row>PC5</th><td>-1.12</td><td> -3.07</td><td> 0.43</td><td> 1.68</td><td> -2.10</td><td>-0.45</td><td> 0.18</td><td>-0.81</td><td>-1.63</td><td> 0.11</td><td>...</td><td> 0.27</td><td>-0.37</td><td> 0.00</td><td>-0.16</td><td> 0.94</td><td>-0.24</td><td>-0.21</td><td> 0.02</td><td>-1.55</td><td>-3.31</td></tr>\n",
       "</tbody>\n",
       "</table>\n"
      ],
      "text/latex": [
       "A matrix: 6 x 31947 of type dbl\n",
       "\\begin{tabular}{r|lllllllllllllllllllll}\n",
       "  & ENSG00000223972 & ENSG00000243485 & ENSG00000227232 & ENSG00000237613 & ENSG00000239945 & ENSG00000233750 & ENSG00000238009 & ENSG00000268903 & ENSG00000237683 & ENSG00000239906 & ... & ENSG00000148399 & ENSG00000165724 & ENSG00000197070 & ENSG00000203993 & ENSG00000181090 & ENSG00000148408 & ENSG00000203987 & ENSG00000276388 & ENSG00000159247 & ENSG00000233013\\\\\n",
       "\\hline\n",
       "\t &  2.58 &   2.05 &  8.58 &  4.46 &   2.14 &  4.30 &  6.41 &  2.18 &  6.35 &  3.18 & ... &  9.67 &  9.08 &  8.34 &  8.60 & 11.87 & 11.42 &  3.97 &  2.27 &  5.06 &  2.98\\\\\n",
       "\tPC1 & -5.58 &   0.54 &  0.10 &  2.45 & -12.24 & -1.34 &  0.53 & -0.09 & -0.87 & -5.62 & ... & -0.31 & -0.33 &  0.15 &  0.93 &  4.43 & -1.22 &  0.57 &  4.10 & -5.26 & -7.55\\\\\n",
       "\tPC2 & -1.80 &   8.81 & -1.54 & -3.55 &  11.14 &  0.42 &  0.83 &  7.77 &  2.12 & -4.83 & ... & -0.59 &  0.70 &  0.24 &  0.91 &  1.25 &  0.79 &  0.61 &  0.05 &  6.76 & -1.61\\\\\n",
       "\tPC3 & -9.17 & -12.25 &  2.61 &  4.72 &   3.04 & -1.40 &  6.23 & -0.18 & -0.95 & -0.25 & ... &  0.37 &  0.64 & -0.32 &  0.20 & -1.31 & -1.30 & -0.33 & -3.09 & -5.33 & 14.45\\\\\n",
       "\tPC4 &  0.63 &  10.36 & -0.32 & -0.44 &   1.66 &  0.15 & -1.29 & -3.44 &  4.68 & -1.63 & ... &  0.12 &  0.08 & -1.19 &  0.31 &  0.96 &  0.61 &  0.53 &  1.02 &  8.32 & -8.17\\\\\n",
       "\tPC5 & -1.12 &  -3.07 &  0.43 &  1.68 &  -2.10 & -0.45 &  0.18 & -0.81 & -1.63 &  0.11 & ... &  0.27 & -0.37 &  0.00 & -0.16 &  0.94 & -0.24 & -0.21 &  0.02 & -1.55 & -3.31\\\\\n",
       "\\end{tabular}\n"
      ],
      "text/markdown": [
       "\n",
       "A matrix: 6 x 31947 of type dbl\n",
       "\n",
       "| <!--/--> | ENSG00000223972 | ENSG00000243485 | ENSG00000227232 | ENSG00000237613 | ENSG00000239945 | ENSG00000233750 | ENSG00000238009 | ENSG00000268903 | ENSG00000237683 | ENSG00000239906 | ... | ENSG00000148399 | ENSG00000165724 | ENSG00000197070 | ENSG00000203993 | ENSG00000181090 | ENSG00000148408 | ENSG00000203987 | ENSG00000276388 | ENSG00000159247 | ENSG00000233013 |\n",
       "|---|---|---|---|---|---|---|---|---|---|---|---|---|---|---|---|---|---|---|---|---|---|\n",
       "| <!----> |  2.58 |   2.05 |  8.58 |  4.46 |   2.14 |  4.30 |  6.41 |  2.18 |  6.35 |  3.18 | ... |  9.67 |  9.08 |  8.34 |  8.60 | 11.87 | 11.42 |  3.97 |  2.27 |  5.06 |  2.98 |\n",
       "| PC1 | -5.58 |   0.54 |  0.10 |  2.45 | -12.24 | -1.34 |  0.53 | -0.09 | -0.87 | -5.62 | ... | -0.31 | -0.33 |  0.15 |  0.93 |  4.43 | -1.22 |  0.57 |  4.10 | -5.26 | -7.55 |\n",
       "| PC2 | -1.80 |   8.81 | -1.54 | -3.55 |  11.14 |  0.42 |  0.83 |  7.77 |  2.12 | -4.83 | ... | -0.59 |  0.70 |  0.24 |  0.91 |  1.25 |  0.79 |  0.61 |  0.05 |  6.76 | -1.61 |\n",
       "| PC3 | -9.17 | -12.25 |  2.61 |  4.72 |   3.04 | -1.40 |  6.23 | -0.18 | -0.95 | -0.25 | ... |  0.37 |  0.64 | -0.32 |  0.20 | -1.31 | -1.30 | -0.33 | -3.09 | -5.33 | 14.45 |\n",
       "| PC4 |  0.63 |  10.36 | -0.32 | -0.44 |   1.66 |  0.15 | -1.29 | -3.44 |  4.68 | -1.63 | ... |  0.12 |  0.08 | -1.19 |  0.31 |  0.96 |  0.61 |  0.53 |  1.02 |  8.32 | -8.17 |\n",
       "| PC5 | -1.12 |  -3.07 |  0.43 |  1.68 |  -2.10 | -0.45 |  0.18 | -0.81 | -1.63 |  0.11 | ... |  0.27 | -0.37 |  0.00 | -0.16 |  0.94 | -0.24 | -0.21 |  0.02 | -1.55 | -3.31 |\n",
       "\n"
      ],
      "text/plain": [
       "    ENSG00000223972 ENSG00000243485 ENSG00000227232 ENSG00000237613\n",
       "     2.58             2.05           8.58            4.46          \n",
       "PC1 -5.58             0.54           0.10            2.45          \n",
       "PC2 -1.80             8.81          -1.54           -3.55          \n",
       "PC3 -9.17           -12.25           2.61            4.72          \n",
       "PC4  0.63            10.36          -0.32           -0.44          \n",
       "PC5 -1.12            -3.07           0.43            1.68          \n",
       "    ENSG00000239945 ENSG00000233750 ENSG00000238009 ENSG00000268903\n",
       "      2.14           4.30            6.41            2.18          \n",
       "PC1 -12.24          -1.34            0.53           -0.09          \n",
       "PC2  11.14           0.42            0.83            7.77          \n",
       "PC3   3.04          -1.40            6.23           -0.18          \n",
       "PC4   1.66           0.15           -1.29           -3.44          \n",
       "PC5  -2.10          -0.45            0.18           -0.81          \n",
       "    ENSG00000237683 ENSG00000239906 ... ENSG00000148399 ENSG00000165724\n",
       "     6.35            3.18           ...  9.67            9.08          \n",
       "PC1 -0.87           -5.62           ... -0.31           -0.33          \n",
       "PC2  2.12           -4.83           ... -0.59            0.70          \n",
       "PC3 -0.95           -0.25           ...  0.37            0.64          \n",
       "PC4  4.68           -1.63           ...  0.12            0.08          \n",
       "PC5 -1.63            0.11           ...  0.27           -0.37          \n",
       "    ENSG00000197070 ENSG00000203993 ENSG00000181090 ENSG00000148408\n",
       "     8.34            8.60           11.87           11.42          \n",
       "PC1  0.15            0.93            4.43           -1.22          \n",
       "PC2  0.24            0.91            1.25            0.79          \n",
       "PC3 -0.32            0.20           -1.31           -1.30          \n",
       "PC4 -1.19            0.31            0.96            0.61          \n",
       "PC5  0.00           -0.16            0.94           -0.24          \n",
       "    ENSG00000203987 ENSG00000276388 ENSG00000159247 ENSG00000233013\n",
       "     3.97            2.27            5.06            2.98          \n",
       "PC1  0.57            4.10           -5.26           -7.55          \n",
       "PC2  0.61            0.05            6.76           -1.61          \n",
       "PC3 -0.33           -3.09           -5.33           14.45          \n",
       "PC4  0.53            1.02            8.32           -8.17          \n",
       "PC5 -0.21            0.02           -1.55           -3.31          "
      ]
     },
     "metadata": {},
     "output_type": "display_data"
    }
   ],
   "source": [
    "beta_round <- round(beta, 2)\n",
    "head(beta_round)"
   ]
  },
  {
   "cell_type": "code",
   "execution_count": 39,
   "id": "3522722f",
   "metadata": {},
   "outputs": [
    {
     "data": {
      "text/html": [
       "<style>\n",
       ".list-inline {list-style: none; margin:0; padding: 0}\n",
       ".list-inline>li {display: inline-block}\n",
       ".list-inline>li:not(:last-child)::after {content: \"\\00b7\"; padding: 0 .5ex}\n",
       "</style>\n",
       "<ol class=list-inline><li>98</li><li>31947</li></ol>\n"
      ],
      "text/latex": [
       "\\begin{enumerate*}\n",
       "\\item 98\n",
       "\\item 31947\n",
       "\\end{enumerate*}\n"
      ],
      "text/markdown": [
       "1. 98\n",
       "2. 31947\n",
       "\n",
       "\n"
      ],
      "text/plain": [
       "[1]    98 31947"
      ]
     },
     "metadata": {},
     "output_type": "display_data"
    }
   ],
   "source": [
    "dim(beta_round)"
   ]
  },
  {
   "cell_type": "markdown",
   "id": "8f7c40a4",
   "metadata": {},
   "source": [
    "**Test with lm function (https://datascienceplus.com/linear-regression-from-scratch-in-r/)**"
   ]
  },
  {
   "cell_type": "code",
   "execution_count": 44,
   "id": "27f6294a",
   "metadata": {},
   "outputs": [],
   "source": [
    "lm.mod <- lm(t(Y) ~ X)\n",
    "lm.betas <- round(lm.mod$coefficients, 2)"
   ]
  },
  {
   "cell_type": "code",
   "execution_count": 46,
   "id": "166b8450",
   "metadata": {},
   "outputs": [
    {
     "data": {
      "text/html": [
       "<style>\n",
       ".list-inline {list-style: none; margin:0; padding: 0}\n",
       ".list-inline>li {display: inline-block}\n",
       ".list-inline>li:not(:last-child)::after {content: \"\\00b7\"; padding: 0 .5ex}\n",
       "</style>\n",
       "<ol class=list-inline><li>99</li><li>31947</li></ol>\n"
      ],
      "text/latex": [
       "\\begin{enumerate*}\n",
       "\\item 99\n",
       "\\item 31947\n",
       "\\end{enumerate*}\n"
      ],
      "text/markdown": [
       "1. 99\n",
       "2. 31947\n",
       "\n",
       "\n"
      ],
      "text/plain": [
       "[1]    99 31947"
      ]
     },
     "metadata": {},
     "output_type": "display_data"
    },
    {
     "data": {
      "text/html": [
       "<table class=\"dataframe\">\n",
       "<caption>A matrix: 6 x 31947 of type dbl</caption>\n",
       "<thead>\n",
       "\t<tr><th></th><th scope=col>ENSG00000223972</th><th scope=col>ENSG00000243485</th><th scope=col>ENSG00000227232</th><th scope=col>ENSG00000237613</th><th scope=col>ENSG00000239945</th><th scope=col>ENSG00000233750</th><th scope=col>ENSG00000238009</th><th scope=col>ENSG00000268903</th><th scope=col>ENSG00000237683</th><th scope=col>ENSG00000239906</th><th scope=col>...</th><th scope=col>ENSG00000148399</th><th scope=col>ENSG00000165724</th><th scope=col>ENSG00000197070</th><th scope=col>ENSG00000203993</th><th scope=col>ENSG00000181090</th><th scope=col>ENSG00000148408</th><th scope=col>ENSG00000203987</th><th scope=col>ENSG00000276388</th><th scope=col>ENSG00000159247</th><th scope=col>ENSG00000233013</th></tr>\n",
       "</thead>\n",
       "<tbody>\n",
       "\t<tr><th scope=row>(Intercept)</th><td> 2.58</td><td>  2.05</td><td> 8.58</td><td> 4.46</td><td>  2.14</td><td> 4.30</td><td> 6.41</td><td> 2.18</td><td> 6.35</td><td> 3.18</td><td>...</td><td> 9.67</td><td> 9.08</td><td> 8.34</td><td>8.60</td><td>11.87</td><td>11.42</td><td> 3.97</td><td> 2.27</td><td> 5.06</td><td> 2.98</td></tr>\n",
       "\t<tr><th scope=row>X</th><td>   NA</td><td>    NA</td><td>   NA</td><td>   NA</td><td>    NA</td><td>   NA</td><td>   NA</td><td>   NA</td><td>   NA</td><td>   NA</td><td>...</td><td>   NA</td><td>   NA</td><td>   NA</td><td>  NA</td><td>   NA</td><td>   NA</td><td>   NA</td><td>   NA</td><td>   NA</td><td>   NA</td></tr>\n",
       "\t<tr><th scope=row>XPC1</th><td>-5.58</td><td>  0.54</td><td> 0.10</td><td> 2.45</td><td>-12.24</td><td>-1.34</td><td> 0.53</td><td>-0.09</td><td>-0.87</td><td>-5.62</td><td>...</td><td>-0.31</td><td>-0.33</td><td> 0.15</td><td>0.93</td><td> 4.43</td><td>-1.22</td><td> 0.57</td><td> 4.10</td><td>-5.26</td><td>-7.55</td></tr>\n",
       "\t<tr><th scope=row>XPC2</th><td>-1.80</td><td>  8.81</td><td>-1.54</td><td>-3.55</td><td> 11.14</td><td> 0.42</td><td> 0.83</td><td> 7.77</td><td> 2.12</td><td>-4.83</td><td>...</td><td>-0.59</td><td> 0.70</td><td> 0.24</td><td>0.91</td><td> 1.25</td><td> 0.79</td><td> 0.61</td><td> 0.05</td><td> 6.76</td><td>-1.61</td></tr>\n",
       "\t<tr><th scope=row>XPC3</th><td>-9.17</td><td>-12.25</td><td> 2.61</td><td> 4.72</td><td>  3.04</td><td>-1.40</td><td> 6.23</td><td>-0.18</td><td>-0.95</td><td>-0.25</td><td>...</td><td> 0.37</td><td> 0.64</td><td>-0.32</td><td>0.20</td><td>-1.31</td><td>-1.30</td><td>-0.33</td><td>-3.09</td><td>-5.33</td><td>14.45</td></tr>\n",
       "\t<tr><th scope=row>XPC4</th><td> 0.63</td><td> 10.36</td><td>-0.32</td><td>-0.44</td><td>  1.66</td><td> 0.15</td><td>-1.29</td><td>-3.44</td><td> 4.68</td><td>-1.63</td><td>...</td><td> 0.12</td><td> 0.08</td><td>-1.19</td><td>0.31</td><td> 0.96</td><td> 0.61</td><td> 0.53</td><td> 1.02</td><td> 8.32</td><td>-8.17</td></tr>\n",
       "</tbody>\n",
       "</table>\n"
      ],
      "text/latex": [
       "A matrix: 6 x 31947 of type dbl\n",
       "\\begin{tabular}{r|lllllllllllllllllllll}\n",
       "  & ENSG00000223972 & ENSG00000243485 & ENSG00000227232 & ENSG00000237613 & ENSG00000239945 & ENSG00000233750 & ENSG00000238009 & ENSG00000268903 & ENSG00000237683 & ENSG00000239906 & ... & ENSG00000148399 & ENSG00000165724 & ENSG00000197070 & ENSG00000203993 & ENSG00000181090 & ENSG00000148408 & ENSG00000203987 & ENSG00000276388 & ENSG00000159247 & ENSG00000233013\\\\\n",
       "\\hline\n",
       "\t(Intercept) &  2.58 &   2.05 &  8.58 &  4.46 &   2.14 &  4.30 &  6.41 &  2.18 &  6.35 &  3.18 & ... &  9.67 &  9.08 &  8.34 & 8.60 & 11.87 & 11.42 &  3.97 &  2.27 &  5.06 &  2.98\\\\\n",
       "\tX &    NA &     NA &    NA &    NA &     NA &    NA &    NA &    NA &    NA &    NA & ... &    NA &    NA &    NA &   NA &    NA &    NA &    NA &    NA &    NA &    NA\\\\\n",
       "\tXPC1 & -5.58 &   0.54 &  0.10 &  2.45 & -12.24 & -1.34 &  0.53 & -0.09 & -0.87 & -5.62 & ... & -0.31 & -0.33 &  0.15 & 0.93 &  4.43 & -1.22 &  0.57 &  4.10 & -5.26 & -7.55\\\\\n",
       "\tXPC2 & -1.80 &   8.81 & -1.54 & -3.55 &  11.14 &  0.42 &  0.83 &  7.77 &  2.12 & -4.83 & ... & -0.59 &  0.70 &  0.24 & 0.91 &  1.25 &  0.79 &  0.61 &  0.05 &  6.76 & -1.61\\\\\n",
       "\tXPC3 & -9.17 & -12.25 &  2.61 &  4.72 &   3.04 & -1.40 &  6.23 & -0.18 & -0.95 & -0.25 & ... &  0.37 &  0.64 & -0.32 & 0.20 & -1.31 & -1.30 & -0.33 & -3.09 & -5.33 & 14.45\\\\\n",
       "\tXPC4 &  0.63 &  10.36 & -0.32 & -0.44 &   1.66 &  0.15 & -1.29 & -3.44 &  4.68 & -1.63 & ... &  0.12 &  0.08 & -1.19 & 0.31 &  0.96 &  0.61 &  0.53 &  1.02 &  8.32 & -8.17\\\\\n",
       "\\end{tabular}\n"
      ],
      "text/markdown": [
       "\n",
       "A matrix: 6 x 31947 of type dbl\n",
       "\n",
       "| <!--/--> | ENSG00000223972 | ENSG00000243485 | ENSG00000227232 | ENSG00000237613 | ENSG00000239945 | ENSG00000233750 | ENSG00000238009 | ENSG00000268903 | ENSG00000237683 | ENSG00000239906 | ... | ENSG00000148399 | ENSG00000165724 | ENSG00000197070 | ENSG00000203993 | ENSG00000181090 | ENSG00000148408 | ENSG00000203987 | ENSG00000276388 | ENSG00000159247 | ENSG00000233013 |\n",
       "|---|---|---|---|---|---|---|---|---|---|---|---|---|---|---|---|---|---|---|---|---|---|\n",
       "| (Intercept) |  2.58 |   2.05 |  8.58 |  4.46 |   2.14 |  4.30 |  6.41 |  2.18 |  6.35 |  3.18 | ... |  9.67 |  9.08 |  8.34 | 8.60 | 11.87 | 11.42 |  3.97 |  2.27 |  5.06 |  2.98 |\n",
       "| X |    NA |     NA |    NA |    NA |     NA |    NA |    NA |    NA |    NA |    NA | ... |    NA |    NA |    NA |   NA |    NA |    NA |    NA |    NA |    NA |    NA |\n",
       "| XPC1 | -5.58 |   0.54 |  0.10 |  2.45 | -12.24 | -1.34 |  0.53 | -0.09 | -0.87 | -5.62 | ... | -0.31 | -0.33 |  0.15 | 0.93 |  4.43 | -1.22 |  0.57 |  4.10 | -5.26 | -7.55 |\n",
       "| XPC2 | -1.80 |   8.81 | -1.54 | -3.55 |  11.14 |  0.42 |  0.83 |  7.77 |  2.12 | -4.83 | ... | -0.59 |  0.70 |  0.24 | 0.91 |  1.25 |  0.79 |  0.61 |  0.05 |  6.76 | -1.61 |\n",
       "| XPC3 | -9.17 | -12.25 |  2.61 |  4.72 |   3.04 | -1.40 |  6.23 | -0.18 | -0.95 | -0.25 | ... |  0.37 |  0.64 | -0.32 | 0.20 | -1.31 | -1.30 | -0.33 | -3.09 | -5.33 | 14.45 |\n",
       "| XPC4 |  0.63 |  10.36 | -0.32 | -0.44 |   1.66 |  0.15 | -1.29 | -3.44 |  4.68 | -1.63 | ... |  0.12 |  0.08 | -1.19 | 0.31 |  0.96 |  0.61 |  0.53 |  1.02 |  8.32 | -8.17 |\n",
       "\n"
      ],
      "text/plain": [
       "            ENSG00000223972 ENSG00000243485 ENSG00000227232 ENSG00000237613\n",
       "(Intercept)  2.58             2.05           8.58            4.46          \n",
       "X              NA               NA             NA              NA          \n",
       "XPC1        -5.58             0.54           0.10            2.45          \n",
       "XPC2        -1.80             8.81          -1.54           -3.55          \n",
       "XPC3        -9.17           -12.25           2.61            4.72          \n",
       "XPC4         0.63            10.36          -0.32           -0.44          \n",
       "            ENSG00000239945 ENSG00000233750 ENSG00000238009 ENSG00000268903\n",
       "(Intercept)   2.14           4.30            6.41            2.18          \n",
       "X               NA             NA              NA              NA          \n",
       "XPC1        -12.24          -1.34            0.53           -0.09          \n",
       "XPC2         11.14           0.42            0.83            7.77          \n",
       "XPC3          3.04          -1.40            6.23           -0.18          \n",
       "XPC4          1.66           0.15           -1.29           -3.44          \n",
       "            ENSG00000237683 ENSG00000239906 ... ENSG00000148399 ENSG00000165724\n",
       "(Intercept)  6.35            3.18           ...  9.67            9.08          \n",
       "X              NA              NA           ...    NA              NA          \n",
       "XPC1        -0.87           -5.62           ... -0.31           -0.33          \n",
       "XPC2         2.12           -4.83           ... -0.59            0.70          \n",
       "XPC3        -0.95           -0.25           ...  0.37            0.64          \n",
       "XPC4         4.68           -1.63           ...  0.12            0.08          \n",
       "            ENSG00000197070 ENSG00000203993 ENSG00000181090 ENSG00000148408\n",
       "(Intercept)  8.34           8.60            11.87           11.42          \n",
       "X              NA             NA               NA              NA          \n",
       "XPC1         0.15           0.93             4.43           -1.22          \n",
       "XPC2         0.24           0.91             1.25            0.79          \n",
       "XPC3        -0.32           0.20            -1.31           -1.30          \n",
       "XPC4        -1.19           0.31             0.96            0.61          \n",
       "            ENSG00000203987 ENSG00000276388 ENSG00000159247 ENSG00000233013\n",
       "(Intercept)  3.97            2.27            5.06            2.98          \n",
       "X              NA              NA              NA              NA          \n",
       "XPC1         0.57            4.10           -5.26           -7.55          \n",
       "XPC2         0.61            0.05            6.76           -1.61          \n",
       "XPC3        -0.33           -3.09           -5.33           14.45          \n",
       "XPC4         0.53            1.02            8.32           -8.17          "
      ]
     },
     "metadata": {},
     "output_type": "display_data"
    }
   ],
   "source": [
    "dim(lm.betas)\n",
    "head(lm.betas)"
   ]
  },
  {
   "cell_type": "code",
   "execution_count": 50,
   "id": "9a0c0c1a",
   "metadata": {},
   "outputs": [
    {
     "data": {
      "text/html": [
       "<table class=\"dataframe\">\n",
       "<caption>A data.frame: 6 x 6</caption>\n",
       "<thead>\n",
       "\t<tr><th></th><th scope=col>our.results.ENSG00000223972</th><th scope=col>our.results.ENSG00000243485</th><th scope=col>our.results.ENSG00000227232</th><th scope=col>lm.results.ENSG00000223972</th><th scope=col>lm.results.ENSG00000243485</th><th scope=col>lm.results.ENSG00000227232</th></tr>\n",
       "\t<tr><th></th><th scope=col>&lt;dbl&gt;</th><th scope=col>&lt;dbl&gt;</th><th scope=col>&lt;dbl&gt;</th><th scope=col>&lt;dbl&gt;</th><th scope=col>&lt;dbl&gt;</th><th scope=col>&lt;dbl&gt;</th></tr>\n",
       "</thead>\n",
       "<tbody>\n",
       "\t<tr><th scope=row>PC1</th><td>-5.58</td><td>  0.54</td><td> 0.10</td><td>-5.58</td><td>  0.54</td><td> 0.10</td></tr>\n",
       "\t<tr><th scope=row>PC2</th><td>-1.80</td><td>  8.81</td><td>-1.54</td><td>-1.80</td><td>  8.81</td><td>-1.54</td></tr>\n",
       "\t<tr><th scope=row>PC3</th><td>-9.17</td><td>-12.25</td><td> 2.61</td><td>-9.17</td><td>-12.25</td><td> 2.61</td></tr>\n",
       "\t<tr><th scope=row>PC4</th><td> 0.63</td><td> 10.36</td><td>-0.32</td><td> 0.63</td><td> 10.36</td><td>-0.32</td></tr>\n",
       "\t<tr><th scope=row>PC5</th><td>-1.12</td><td> -3.07</td><td> 0.43</td><td>-1.12</td><td> -3.07</td><td> 0.43</td></tr>\n",
       "\t<tr><th scope=row>sex</th><td>-0.01</td><td>  0.02</td><td>-0.07</td><td>-0.01</td><td>  0.02</td><td>-0.07</td></tr>\n",
       "</tbody>\n",
       "</table>\n"
      ],
      "text/latex": [
       "A data.frame: 6 x 6\n",
       "\\begin{tabular}{r|llllll}\n",
       "  & our.results.ENSG00000223972 & our.results.ENSG00000243485 & our.results.ENSG00000227232 & lm.results.ENSG00000223972 & lm.results.ENSG00000243485 & lm.results.ENSG00000227232\\\\\n",
       "  & <dbl> & <dbl> & <dbl> & <dbl> & <dbl> & <dbl>\\\\\n",
       "\\hline\n",
       "\tPC1 & -5.58 &   0.54 &  0.10 & -5.58 &   0.54 &  0.10\\\\\n",
       "\tPC2 & -1.80 &   8.81 & -1.54 & -1.80 &   8.81 & -1.54\\\\\n",
       "\tPC3 & -9.17 & -12.25 &  2.61 & -9.17 & -12.25 &  2.61\\\\\n",
       "\tPC4 &  0.63 &  10.36 & -0.32 &  0.63 &  10.36 & -0.32\\\\\n",
       "\tPC5 & -1.12 &  -3.07 &  0.43 & -1.12 &  -3.07 &  0.43\\\\\n",
       "\tsex & -0.01 &   0.02 & -0.07 & -0.01 &   0.02 & -0.07\\\\\n",
       "\\end{tabular}\n"
      ],
      "text/markdown": [
       "\n",
       "A data.frame: 6 x 6\n",
       "\n",
       "| <!--/--> | our.results.ENSG00000223972 &lt;dbl&gt; | our.results.ENSG00000243485 &lt;dbl&gt; | our.results.ENSG00000227232 &lt;dbl&gt; | lm.results.ENSG00000223972 &lt;dbl&gt; | lm.results.ENSG00000243485 &lt;dbl&gt; | lm.results.ENSG00000227232 &lt;dbl&gt; |\n",
       "|---|---|---|---|---|---|---|\n",
       "| PC1 | -5.58 |   0.54 |  0.10 | -5.58 |   0.54 |  0.10 |\n",
       "| PC2 | -1.80 |   8.81 | -1.54 | -1.80 |   8.81 | -1.54 |\n",
       "| PC3 | -9.17 | -12.25 |  2.61 | -9.17 | -12.25 |  2.61 |\n",
       "| PC4 |  0.63 |  10.36 | -0.32 |  0.63 |  10.36 | -0.32 |\n",
       "| PC5 | -1.12 |  -3.07 |  0.43 | -1.12 |  -3.07 |  0.43 |\n",
       "| sex | -0.01 |   0.02 | -0.07 | -0.01 |   0.02 | -0.07 |\n",
       "\n"
      ],
      "text/plain": [
       "    our.results.ENSG00000223972 our.results.ENSG00000243485\n",
       "PC1 -5.58                         0.54                     \n",
       "PC2 -1.80                         8.81                     \n",
       "PC3 -9.17                       -12.25                     \n",
       "PC4  0.63                        10.36                     \n",
       "PC5 -1.12                        -3.07                     \n",
       "sex -0.01                         0.02                     \n",
       "    our.results.ENSG00000227232 lm.results.ENSG00000223972\n",
       "PC1  0.10                       -5.58                     \n",
       "PC2 -1.54                       -1.80                     \n",
       "PC3  2.61                       -9.17                     \n",
       "PC4 -0.32                        0.63                     \n",
       "PC5  0.43                       -1.12                     \n",
       "sex -0.07                       -0.01                     \n",
       "    lm.results.ENSG00000243485 lm.results.ENSG00000227232\n",
       "PC1   0.54                      0.10                     \n",
       "PC2   8.81                     -1.54                     \n",
       "PC3 -12.25                      2.61                     \n",
       "PC4  10.36                     -0.32                     \n",
       "PC5  -3.07                      0.43                     \n",
       "sex   0.02                     -0.07                     "
      ]
     },
     "metadata": {},
     "output_type": "display_data"
    }
   ],
   "source": [
    "results <- data.frame(our.results = beta_round[2:98,1:3], lm.results = lm.betas[3:99,1:3])\n",
    "head(results)"
   ]
  },
  {
   "cell_type": "markdown",
   "id": "7129c03d",
   "metadata": {},
   "source": [
    "**TODO: Rank-based inverse normalize transformation to N(0, 1) of the phenotype residuals**"
   ]
  },
  {
   "cell_type": "markdown",
   "id": "283bdf78",
   "metadata": {},
   "source": [
    "**2. TODO linear regression with SVs**"
   ]
  },
  {
   "cell_type": "code",
   "execution_count": 51,
   "id": "ccada3be",
   "metadata": {},
   "outputs": [
    {
     "data": {
      "text/html": [
       "<table class=\"dataframe\">\n",
       "<caption>A data.frame: 6 x 31965</caption>\n",
       "<thead>\n",
       "\t<tr><th></th><th scope=col>ENSG00000223972</th><th scope=col>ENSG00000243485</th><th scope=col>ENSG00000227232</th><th scope=col>ENSG00000237613</th><th scope=col>ENSG00000239945</th><th scope=col>ENSG00000233750</th><th scope=col>ENSG00000238009</th><th scope=col>ENSG00000268903</th><th scope=col>ENSG00000237683</th><th scope=col>ENSG00000239906</th><th scope=col>...</th><th scope=col>inv2_002</th><th scope=col>inv2_013</th><th scope=col>inv21_005</th><th scope=col>inv6_002</th><th scope=col>inv6_006</th><th scope=col>inv7_003</th><th scope=col>inv7_005</th><th scope=col>inv7_011</th><th scope=col>inv7_014</th><th scope=col>inv8_001</th></tr>\n",
       "\t<tr><th></th><th scope=col>&lt;dbl&gt;</th><th scope=col>&lt;dbl&gt;</th><th scope=col>&lt;dbl&gt;</th><th scope=col>&lt;dbl&gt;</th><th scope=col>&lt;dbl&gt;</th><th scope=col>&lt;dbl&gt;</th><th scope=col>&lt;dbl&gt;</th><th scope=col>&lt;dbl&gt;</th><th scope=col>&lt;dbl&gt;</th><th scope=col>&lt;dbl&gt;</th><th scope=col>...</th><th scope=col>&lt;fct&gt;</th><th scope=col>&lt;fct&gt;</th><th scope=col>&lt;fct&gt;</th><th scope=col>&lt;fct&gt;</th><th scope=col>&lt;fct&gt;</th><th scope=col>&lt;fct&gt;</th><th scope=col>&lt;fct&gt;</th><th scope=col>&lt;fct&gt;</th><th scope=col>&lt;fct&gt;</th><th scope=col>&lt;fct&gt;</th></tr>\n",
       "</thead>\n",
       "<tbody>\n",
       "\t<tr><th scope=row>1474</th><td>2.867789</td><td>2.060708</td><td>8.811202</td><td>4.895634</td><td>1.3220987</td><td>4.261517</td><td>7.036881</td><td>1.4847741</td><td>6.176734</td><td>1.903290</td><td>...</td><td>NN</td><td>II</td><td>NaNb</td><td>II</td><td>NN</td><td>NI</td><td>NaNa</td><td>NN</td><td>NN</td><td>NN</td></tr>\n",
       "\t<tr><th scope=row>1496</th><td>3.296470</td><td>1.581782</td><td>8.280995</td><td>4.615218</td><td>2.4772108</td><td>4.511196</td><td>6.417705</td><td>0.6439407</td><td>6.539432</td><td>3.479306</td><td>...</td><td>NN</td><td>II</td><td>NaI </td><td>NN</td><td>NN</td><td>NI</td><td>NaIb</td><td>II</td><td>NN</td><td>NI</td></tr>\n",
       "\t<tr><th scope=row>1500</th><td>2.200791</td><td>2.679413</td><td>8.931025</td><td>4.995389</td><td>2.4356263</td><td>4.226093</td><td>7.247070</td><td>4.7238855</td><td>6.082197</td><td>3.783942</td><td>...</td><td>NN</td><td>NN</td><td>NaI </td><td>NN</td><td>NN</td><td>NI</td><td>NaIa</td><td>NI</td><td>NN</td><td>II</td></tr>\n",
       "\t<tr><th scope=row>1502</th><td>2.684605</td><td>2.830359</td><td>8.949145</td><td>4.928265</td><td>2.8400906</td><td>4.049178</td><td>5.940432</td><td>0.9745495</td><td>6.633310</td><td>3.903433</td><td>...</td><td>NN</td><td>NI</td><td>NcI </td><td>II</td><td>NN</td><td>NN</td><td>IaIb</td><td>II</td><td>NI</td><td>NI</td></tr>\n",
       "\t<tr><th scope=row>1507</th><td>1.456583</td><td>1.414059</td><td>8.368337</td><td>4.884531</td><td>0.6167818</td><td>4.753695</td><td>4.962535</td><td>3.8212697</td><td>5.751311</td><td>2.286177</td><td>...</td><td>NN</td><td>NN</td><td>II  </td><td>II</td><td>II</td><td>NI</td><td>IaIb</td><td>NI</td><td>NI</td><td>NI</td></tr>\n",
       "\t<tr><th scope=row>1511</th><td>3.400122</td><td>3.376425</td><td>9.113657</td><td>4.361184</td><td>1.2525571</td><td>4.284809</td><td>7.274663</td><td>1.8349739</td><td>6.708908</td><td>3.785365</td><td>...</td><td>NN</td><td>II</td><td>NcI </td><td>NN</td><td>NN</td><td>NI</td><td>IbIb</td><td>NI</td><td>NN</td><td>NI</td></tr>\n",
       "</tbody>\n",
       "</table>\n"
      ],
      "text/latex": [
       "A data.frame: 6 x 31965\n",
       "\\begin{tabular}{r|lllllllllllllllllllll}\n",
       "  & ENSG00000223972 & ENSG00000243485 & ENSG00000227232 & ENSG00000237613 & ENSG00000239945 & ENSG00000233750 & ENSG00000238009 & ENSG00000268903 & ENSG00000237683 & ENSG00000239906 & ... & inv2\\_002 & inv2\\_013 & inv21\\_005 & inv6\\_002 & inv6\\_006 & inv7\\_003 & inv7\\_005 & inv7\\_011 & inv7\\_014 & inv8\\_001\\\\\n",
       "  & <dbl> & <dbl> & <dbl> & <dbl> & <dbl> & <dbl> & <dbl> & <dbl> & <dbl> & <dbl> & ... & <fct> & <fct> & <fct> & <fct> & <fct> & <fct> & <fct> & <fct> & <fct> & <fct>\\\\\n",
       "\\hline\n",
       "\t1474 & 2.867789 & 2.060708 & 8.811202 & 4.895634 & 1.3220987 & 4.261517 & 7.036881 & 1.4847741 & 6.176734 & 1.903290 & ... & NN & II & NaNb & II & NN & NI & NaNa & NN & NN & NN\\\\\n",
       "\t1496 & 3.296470 & 1.581782 & 8.280995 & 4.615218 & 2.4772108 & 4.511196 & 6.417705 & 0.6439407 & 6.539432 & 3.479306 & ... & NN & II & NaI  & NN & NN & NI & NaIb & II & NN & NI\\\\\n",
       "\t1500 & 2.200791 & 2.679413 & 8.931025 & 4.995389 & 2.4356263 & 4.226093 & 7.247070 & 4.7238855 & 6.082197 & 3.783942 & ... & NN & NN & NaI  & NN & NN & NI & NaIa & NI & NN & II\\\\\n",
       "\t1502 & 2.684605 & 2.830359 & 8.949145 & 4.928265 & 2.8400906 & 4.049178 & 5.940432 & 0.9745495 & 6.633310 & 3.903433 & ... & NN & NI & NcI  & II & NN & NN & IaIb & II & NI & NI\\\\\n",
       "\t1507 & 1.456583 & 1.414059 & 8.368337 & 4.884531 & 0.6167818 & 4.753695 & 4.962535 & 3.8212697 & 5.751311 & 2.286177 & ... & NN & NN & II   & II & II & NI & IaIb & NI & NI & NI\\\\\n",
       "\t1511 & 3.400122 & 3.376425 & 9.113657 & 4.361184 & 1.2525571 & 4.284809 & 7.274663 & 1.8349739 & 6.708908 & 3.785365 & ... & NN & II & NcI  & NN & NN & NI & IbIb & NI & NN & NI\\\\\n",
       "\\end{tabular}\n"
      ],
      "text/markdown": [
       "\n",
       "A data.frame: 6 x 31965\n",
       "\n",
       "| <!--/--> | ENSG00000223972 &lt;dbl&gt; | ENSG00000243485 &lt;dbl&gt; | ENSG00000227232 &lt;dbl&gt; | ENSG00000237613 &lt;dbl&gt; | ENSG00000239945 &lt;dbl&gt; | ENSG00000233750 &lt;dbl&gt; | ENSG00000238009 &lt;dbl&gt; | ENSG00000268903 &lt;dbl&gt; | ENSG00000237683 &lt;dbl&gt; | ENSG00000239906 &lt;dbl&gt; | ... ... | inv2_002 &lt;fct&gt; | inv2_013 &lt;fct&gt; | inv21_005 &lt;fct&gt; | inv6_002 &lt;fct&gt; | inv6_006 &lt;fct&gt; | inv7_003 &lt;fct&gt; | inv7_005 &lt;fct&gt; | inv7_011 &lt;fct&gt; | inv7_014 &lt;fct&gt; | inv8_001 &lt;fct&gt; |\n",
       "|---|---|---|---|---|---|---|---|---|---|---|---|---|---|---|---|---|---|---|---|---|---|\n",
       "| 1474 | 2.867789 | 2.060708 | 8.811202 | 4.895634 | 1.3220987 | 4.261517 | 7.036881 | 1.4847741 | 6.176734 | 1.903290 | ... | NN | II | NaNb | II | NN | NI | NaNa | NN | NN | NN |\n",
       "| 1496 | 3.296470 | 1.581782 | 8.280995 | 4.615218 | 2.4772108 | 4.511196 | 6.417705 | 0.6439407 | 6.539432 | 3.479306 | ... | NN | II | NaI  | NN | NN | NI | NaIb | II | NN | NI |\n",
       "| 1500 | 2.200791 | 2.679413 | 8.931025 | 4.995389 | 2.4356263 | 4.226093 | 7.247070 | 4.7238855 | 6.082197 | 3.783942 | ... | NN | NN | NaI  | NN | NN | NI | NaIa | NI | NN | II |\n",
       "| 1502 | 2.684605 | 2.830359 | 8.949145 | 4.928265 | 2.8400906 | 4.049178 | 5.940432 | 0.9745495 | 6.633310 | 3.903433 | ... | NN | NI | NcI  | II | NN | NN | IaIb | II | NI | NI |\n",
       "| 1507 | 1.456583 | 1.414059 | 8.368337 | 4.884531 | 0.6167818 | 4.753695 | 4.962535 | 3.8212697 | 5.751311 | 2.286177 | ... | NN | NN | II   | II | II | NI | IaIb | NI | NI | NI |\n",
       "| 1511 | 3.400122 | 3.376425 | 9.113657 | 4.361184 | 1.2525571 | 4.284809 | 7.274663 | 1.8349739 | 6.708908 | 3.785365 | ... | NN | II | NcI  | NN | NN | NI | IbIb | NI | NN | NI |\n",
       "\n"
      ],
      "text/plain": [
       "     ENSG00000223972 ENSG00000243485 ENSG00000227232 ENSG00000237613\n",
       "1474 2.867789        2.060708        8.811202        4.895634       \n",
       "1496 3.296470        1.581782        8.280995        4.615218       \n",
       "1500 2.200791        2.679413        8.931025        4.995389       \n",
       "1502 2.684605        2.830359        8.949145        4.928265       \n",
       "1507 1.456583        1.414059        8.368337        4.884531       \n",
       "1511 3.400122        3.376425        9.113657        4.361184       \n",
       "     ENSG00000239945 ENSG00000233750 ENSG00000238009 ENSG00000268903\n",
       "1474 1.3220987       4.261517        7.036881        1.4847741      \n",
       "1496 2.4772108       4.511196        6.417705        0.6439407      \n",
       "1500 2.4356263       4.226093        7.247070        4.7238855      \n",
       "1502 2.8400906       4.049178        5.940432        0.9745495      \n",
       "1507 0.6167818       4.753695        4.962535        3.8212697      \n",
       "1511 1.2525571       4.284809        7.274663        1.8349739      \n",
       "     ENSG00000237683 ENSG00000239906 ... inv2_002 inv2_013 inv21_005 inv6_002\n",
       "1474 6.176734        1.903290        ... NN       II       NaNb      II      \n",
       "1496 6.539432        3.479306        ... NN       II       NaI       NN      \n",
       "1500 6.082197        3.783942        ... NN       NN       NaI       NN      \n",
       "1502 6.633310        3.903433        ... NN       NI       NcI       II      \n",
       "1507 5.751311        2.286177        ... NN       NN       II        II      \n",
       "1511 6.708908        3.785365        ... NN       II       NcI       NN      \n",
       "     inv6_006 inv7_003 inv7_005 inv7_011 inv7_014 inv8_001\n",
       "1474 NN       NI       NaNa     NN       NN       NN      \n",
       "1496 NN       NI       NaIb     II       NN       NI      \n",
       "1500 NN       NI       NaIa     NI       NN       II      \n",
       "1502 NN       NN       IaIb     II       NI       NI      \n",
       "1507 II       NI       IaIb     NI       NI       NI      \n",
       "1511 NN       NI       IbIb     NI       NN       NI      "
      ]
     },
     "metadata": {},
     "output_type": "display_data"
    }
   ],
   "source": [
    "df <- cbind(t(datExpr_regressed), recorder)\n",
    "head(df)"
   ]
  },
  {
   "cell_type": "code",
   "execution_count": 52,
   "id": "5806e550",
   "metadata": {},
   "outputs": [
    {
     "data": {
      "text/plain": [
       "\n",
       " II  NI  NN \n",
       "276   0 353 "
      ]
     },
     "metadata": {},
     "output_type": "display_data"
    }
   ],
   "source": [
    "table(df$inv2_002)"
   ]
  },
  {
   "cell_type": "code",
   "execution_count": 53,
   "id": "9f8ed890",
   "metadata": {},
   "outputs": [],
   "source": [
    "model <- lm(ENSG00000223972 ~ inv2_002, data = df)"
   ]
  },
  {
   "cell_type": "code",
   "execution_count": 54,
   "id": "782819ba",
   "metadata": {},
   "outputs": [
    {
     "data": {
      "text/plain": [
       "\n",
       "Call:\n",
       "lm(formula = ENSG00000223972 ~ inv2_002, data = df)\n",
       "\n",
       "Coefficients:\n",
       "(Intercept)   inv2_002NN  \n",
       "    2.59764     -0.02475  \n"
      ]
     },
     "metadata": {},
     "output_type": "display_data"
    }
   ],
   "source": [
    "model"
   ]
  },
  {
   "cell_type": "code",
   "execution_count": 55,
   "id": "4bcdc072",
   "metadata": {},
   "outputs": [
    {
     "data": {
      "text/plain": [
       "\n",
       "Call:\n",
       "lm(formula = ENSG00000223972 ~ inv2_002, data = df)\n",
       "\n",
       "Residuals:\n",
       "     Min       1Q   Median       3Q      Max \n",
       "-2.18695 -0.50677  0.04006  0.51405  1.90275 \n",
       "\n",
       "Coefficients:\n",
       "            Estimate Std. Error t value Pr(>|t|)    \n",
       "(Intercept)  2.59764    0.04360  59.580   <2e-16 ***\n",
       "inv2_002NN  -0.02475    0.05820  -0.425    0.671    \n",
       "---\n",
       "Signif. codes:  0 ‘***’ 0.001 ‘**’ 0.01 ‘*’ 0.05 ‘.’ 0.1 ‘ ’ 1\n",
       "\n",
       "Residual standard error: 0.7243 on 627 degrees of freedom\n",
       "Multiple R-squared:  0.0002882,\tAdjusted R-squared:  -0.001306 \n",
       "F-statistic: 0.1808 on 1 and 627 DF,  p-value: 0.6709\n"
      ]
     },
     "metadata": {},
     "output_type": "display_data"
    }
   ],
   "source": [
    "summary(model)"
   ]
  },
  {
   "cell_type": "code",
   "execution_count": null,
   "id": "4f1109fc",
   "metadata": {},
   "outputs": [],
   "source": []
  }
 ],
 "metadata": {
  "kernelspec": {
   "display_name": "R 4.1.0 BIO",
   "language": "R",
   "name": "ir410-bio"
  },
  "language_info": {
   "codemirror_mode": "r",
   "file_extension": ".r",
   "mimetype": "text/x-r-source",
   "name": "R",
   "pygments_lexer": "r",
   "version": "4.1.0"
  }
 },
 "nbformat": 4,
 "nbformat_minor": 5
}
