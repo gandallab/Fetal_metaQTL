{
 "cells": [
  {
   "cell_type": "markdown",
   "metadata": {},
   "source": [
    "# PAINTOR multi-ethnic fine-mapping"
   ]
  },
  {
   "cell_type": "code",
   "execution_count": 2,
   "metadata": {
    "scrolled": true
   },
   "outputs": [],
   "source": [
    "library(data.table)\n",
    "library(dplyr)\n",
    "library(ggplot2)"
   ]
  },
  {
   "cell_type": "code",
   "execution_count": 3,
   "metadata": {},
   "outputs": [],
   "source": [
    "setwd(\"~/project-gandalm/isoform_twas/eqtl_new/\")"
   ]
  },
  {
   "cell_type": "code",
   "execution_count": 4,
   "metadata": {},
   "outputs": [],
   "source": [
    "eur <- fread(\"results/eur_perm_50HCP/all_assoc_perm_info.txt\", data.table = F)\n",
    "amr <- fread(\"results/amr_perm_15HCP/all_assoc_perm_info.txt\", data.table = F)\n",
    "afr <- fread(\"results/afr_perm_25HCP/all_assoc_perm_info.txt\", data.table = F)"
   ]
  },
  {
   "cell_type": "code",
   "execution_count": 5,
   "metadata": {},
   "outputs": [],
   "source": [
    "eur <- eur %>% filter(qval < .05)\n",
    "amr <- amr %>% filter(qval < .05)\n",
    "afr <- afr %>% filter(qval < .05)"
   ]
  },
  {
   "cell_type": "code",
   "execution_count": 6,
   "metadata": {},
   "outputs": [
    {
     "data": {
      "text/html": [
       "<style>\n",
       ".list-inline {list-style: none; margin:0; padding: 0}\n",
       ".list-inline>li {display: inline-block}\n",
       ".list-inline>li:not(:last-child)::after {content: \"\\00b7\"; padding: 0 .5ex}\n",
       "</style>\n",
       "<ol class=list-inline><li>5296</li><li>15</li></ol>\n"
      ],
      "text/latex": [
       "\\begin{enumerate*}\n",
       "\\item 5296\n",
       "\\item 15\n",
       "\\end{enumerate*}\n"
      ],
      "text/markdown": [
       "1. 5296\n",
       "2. 15\n",
       "\n",
       "\n"
      ],
      "text/plain": [
       "[1] 5296   15"
      ]
     },
     "metadata": {},
     "output_type": "display_data"
    },
    {
     "data": {
      "text/html": [
       "<style>\n",
       ".list-inline {list-style: none; margin:0; padding: 0}\n",
       ".list-inline>li {display: inline-block}\n",
       ".list-inline>li:not(:last-child)::after {content: \"\\00b7\"; padding: 0 .5ex}\n",
       "</style>\n",
       "<ol class=list-inline><li>3242</li><li>15</li></ol>\n"
      ],
      "text/latex": [
       "\\begin{enumerate*}\n",
       "\\item 3242\n",
       "\\item 15\n",
       "\\end{enumerate*}\n"
      ],
      "text/markdown": [
       "1. 3242\n",
       "2. 15\n",
       "\n",
       "\n"
      ],
      "text/plain": [
       "[1] 3242   15"
      ]
     },
     "metadata": {},
     "output_type": "display_data"
    },
    {
     "data": {
      "text/html": [
       "<style>\n",
       ".list-inline {list-style: none; margin:0; padding: 0}\n",
       ".list-inline>li {display: inline-block}\n",
       ".list-inline>li:not(:last-child)::after {content: \"\\00b7\"; padding: 0 .5ex}\n",
       "</style>\n",
       "<ol class=list-inline><li>1876</li><li>15</li></ol>\n"
      ],
      "text/latex": [
       "\\begin{enumerate*}\n",
       "\\item 1876\n",
       "\\item 15\n",
       "\\end{enumerate*}\n"
      ],
      "text/markdown": [
       "1. 1876\n",
       "2. 15\n",
       "\n",
       "\n"
      ],
      "text/plain": [
       "[1] 1876   15"
      ]
     },
     "metadata": {},
     "output_type": "display_data"
    }
   ],
   "source": [
    "dim(eur)\n",
    "dim(amr)\n",
    "dim(afr)"
   ]
  },
  {
   "cell_type": "code",
   "execution_count": 7,
   "metadata": {},
   "outputs": [
    {
     "data": {
      "text/html": [
       "<style>\n",
       ".list-inline {list-style: none; margin:0; padding: 0}\n",
       ".list-inline>li {display: inline-block}\n",
       ".list-inline>li:not(:last-child)::after {content: \"\\00b7\"; padding: 0 .5ex}\n",
       "</style>\n",
       "<ol class=list-inline><li>986</li><li>43</li></ol>\n"
      ],
      "text/latex": [
       "\\begin{enumerate*}\n",
       "\\item 986\n",
       "\\item 43\n",
       "\\end{enumerate*}\n"
      ],
      "text/markdown": [
       "1. 986\n",
       "2. 43\n",
       "\n",
       "\n"
      ],
      "text/plain": [
       "[1] 986  43"
      ]
     },
     "metadata": {},
     "output_type": "display_data"
    },
    {
     "data": {
      "text/html": [
       "<table class=\"dataframe\">\n",
       "<caption>A data.frame: 6 x 43</caption>\n",
       "<thead>\n",
       "\t<tr><th></th><th scope=col>pid</th><th scope=col>nvar.x</th><th scope=col>shape1.x</th><th scope=col>shape2.x</th><th scope=col>dummy.x</th><th scope=col>sid.x</th><th scope=col>dist.x</th><th scope=col>npval.x</th><th scope=col>slope.x</th><th scope=col>ppval.x</th><th scope=col>...</th><th scope=col>sid</th><th scope=col>dist</th><th scope=col>npval</th><th scope=col>slope</th><th scope=col>ppval</th><th scope=col>bpval</th><th scope=col>qval</th><th scope=col>pval_nominal_threshold</th><th scope=col>gene_type</th><th scope=col>gene_name</th></tr>\n",
       "\t<tr><th></th><th scope=col>&lt;chr&gt;</th><th scope=col>&lt;int&gt;</th><th scope=col>&lt;dbl&gt;</th><th scope=col>&lt;dbl&gt;</th><th scope=col>&lt;dbl&gt;</th><th scope=col>&lt;chr&gt;</th><th scope=col>&lt;int&gt;</th><th scope=col>&lt;dbl&gt;</th><th scope=col>&lt;dbl&gt;</th><th scope=col>&lt;dbl&gt;</th><th scope=col>...</th><th scope=col>&lt;chr&gt;</th><th scope=col>&lt;int&gt;</th><th scope=col>&lt;dbl&gt;</th><th scope=col>&lt;dbl&gt;</th><th scope=col>&lt;dbl&gt;</th><th scope=col>&lt;dbl&gt;</th><th scope=col>&lt;dbl&gt;</th><th scope=col>&lt;dbl&gt;</th><th scope=col>&lt;chr&gt;</th><th scope=col>&lt;chr&gt;</th></tr>\n",
       "</thead>\n",
       "<tbody>\n",
       "\t<tr><th scope=row>1</th><td>ENSG00000001460</td><td>3692</td><td>1.05363</td><td>549.578</td><td>194.756</td><td>rs10489442 </td><td>  5655</td><td>5.76494e-25</td><td>-0.526664</td><td>9.999e-05</td><td>...</td><td>rs4592213     </td><td> -1605</td><td>2.36174e-08</td><td>-1.062000</td><td>0.00019998</td><td>8.55103e-05</td><td>0.00192143</td><td>6.73094e-06</td><td>protein_coding</td><td>STPG1 </td></tr>\n",
       "\t<tr><th scope=row>2</th><td>ENSG00000002016</td><td>5008</td><td>1.04169</td><td>774.517</td><td>197.950</td><td>rs2887532  </td><td>-47724</td><td>1.22335e-15</td><td>-0.466916</td><td>9.999e-05</td><td>...</td><td>rs3748523     </td><td>-40481</td><td>8.68694e-07</td><td>-0.656173</td><td>0.00199980</td><td>2.72042e-03</td><td>0.03257760</td><td>4.62047e-06</td><td>protein_coding</td><td>RAD52 </td></tr>\n",
       "\t<tr><th scope=row>3</th><td>ENSG00000004534</td><td>2064</td><td>1.02671</td><td>132.097</td><td>191.012</td><td>rs6765484  </td><td> 63873</td><td>4.05994e-26</td><td> 0.345270</td><td>9.999e-05</td><td>...</td><td>rs1357448049  </td><td> 55259</td><td>6.97000e-07</td><td> 0.335468</td><td>0.00049995</td><td>6.37599e-04</td><td>0.01009900</td><td>4.36444e-05</td><td>protein_coding</td><td>RBM6  </td></tr>\n",
       "\t<tr><th scope=row>4</th><td>ENSG00000005801</td><td>4859</td><td>1.04382</td><td>761.473</td><td>194.033</td><td>rs112127733</td><td>  5192</td><td>5.47218e-14</td><td>-0.316902</td><td>9.999e-05</td><td>...</td><td>chr11:3381737 </td><td>  2515</td><td>5.62582e-08</td><td>-0.399708</td><td>0.00009999</td><td>2.38548e-04</td><td>0.00447343</td><td>4.28499e-06</td><td>protein_coding</td><td>ZNF195</td></tr>\n",
       "\t<tr><th scope=row>5</th><td>ENSG00000006007</td><td>4453</td><td>1.05372</td><td>545.913</td><td>192.512</td><td>rs11644848 </td><td> 35249</td><td>8.67388e-13</td><td> 0.298892</td><td>9.999e-05</td><td>...</td><td>chr16:19499062</td><td>-23061</td><td>4.61409e-08</td><td>-0.317379</td><td>0.00029997</td><td>1.50476e-04</td><td>0.00306791</td><td>6.62136e-06</td><td>protein_coding</td><td>GDE1  </td></tr>\n",
       "\t<tr><th scope=row>6</th><td>ENSG00000008018</td><td>2578</td><td>1.05338</td><td>289.894</td><td>189.177</td><td>rs12527004 </td><td> 40474</td><td>5.32962e-26</td><td>-0.329155</td><td>9.999e-05</td><td>...</td><td>rs12717       </td><td>   -95</td><td>4.86128e-07</td><td>-0.244166</td><td>0.00129987</td><td>9.92135e-04</td><td>0.01449280</td><td>1.31916e-05</td><td>protein_coding</td><td>PSMB1 </td></tr>\n",
       "</tbody>\n",
       "</table>\n"
      ],
      "text/latex": [
       "A data.frame: 6 x 43\n",
       "\\begin{tabular}{r|lllllllllllllllllllll}\n",
       "  & pid & nvar.x & shape1.x & shape2.x & dummy.x & sid.x & dist.x & npval.x & slope.x & ppval.x & ... & sid & dist & npval & slope & ppval & bpval & qval & pval\\_nominal\\_threshold & gene\\_type & gene\\_name\\\\\n",
       "  & <chr> & <int> & <dbl> & <dbl> & <dbl> & <chr> & <int> & <dbl> & <dbl> & <dbl> & ... & <chr> & <int> & <dbl> & <dbl> & <dbl> & <dbl> & <dbl> & <dbl> & <chr> & <chr>\\\\\n",
       "\\hline\n",
       "\t1 & ENSG00000001460 & 3692 & 1.05363 & 549.578 & 194.756 & rs10489442  &   5655 & 5.76494e-25 & -0.526664 & 9.999e-05 & ... & rs4592213      &  -1605 & 2.36174e-08 & -1.062000 & 0.00019998 & 8.55103e-05 & 0.00192143 & 6.73094e-06 & protein\\_coding & STPG1 \\\\\n",
       "\t2 & ENSG00000002016 & 5008 & 1.04169 & 774.517 & 197.950 & rs2887532   & -47724 & 1.22335e-15 & -0.466916 & 9.999e-05 & ... & rs3748523      & -40481 & 8.68694e-07 & -0.656173 & 0.00199980 & 2.72042e-03 & 0.03257760 & 4.62047e-06 & protein\\_coding & RAD52 \\\\\n",
       "\t3 & ENSG00000004534 & 2064 & 1.02671 & 132.097 & 191.012 & rs6765484   &  63873 & 4.05994e-26 &  0.345270 & 9.999e-05 & ... & rs1357448049   &  55259 & 6.97000e-07 &  0.335468 & 0.00049995 & 6.37599e-04 & 0.01009900 & 4.36444e-05 & protein\\_coding & RBM6  \\\\\n",
       "\t4 & ENSG00000005801 & 4859 & 1.04382 & 761.473 & 194.033 & rs112127733 &   5192 & 5.47218e-14 & -0.316902 & 9.999e-05 & ... & chr11:3381737  &   2515 & 5.62582e-08 & -0.399708 & 0.00009999 & 2.38548e-04 & 0.00447343 & 4.28499e-06 & protein\\_coding & ZNF195\\\\\n",
       "\t5 & ENSG00000006007 & 4453 & 1.05372 & 545.913 & 192.512 & rs11644848  &  35249 & 8.67388e-13 &  0.298892 & 9.999e-05 & ... & chr16:19499062 & -23061 & 4.61409e-08 & -0.317379 & 0.00029997 & 1.50476e-04 & 0.00306791 & 6.62136e-06 & protein\\_coding & GDE1  \\\\\n",
       "\t6 & ENSG00000008018 & 2578 & 1.05338 & 289.894 & 189.177 & rs12527004  &  40474 & 5.32962e-26 & -0.329155 & 9.999e-05 & ... & rs12717        &    -95 & 4.86128e-07 & -0.244166 & 0.00129987 & 9.92135e-04 & 0.01449280 & 1.31916e-05 & protein\\_coding & PSMB1 \\\\\n",
       "\\end{tabular}\n"
      ],
      "text/markdown": [
       "\n",
       "A data.frame: 6 x 43\n",
       "\n",
       "| <!--/--> | pid &lt;chr&gt; | nvar.x &lt;int&gt; | shape1.x &lt;dbl&gt; | shape2.x &lt;dbl&gt; | dummy.x &lt;dbl&gt; | sid.x &lt;chr&gt; | dist.x &lt;int&gt; | npval.x &lt;dbl&gt; | slope.x &lt;dbl&gt; | ppval.x &lt;dbl&gt; | ... ... | sid &lt;chr&gt; | dist &lt;int&gt; | npval &lt;dbl&gt; | slope &lt;dbl&gt; | ppval &lt;dbl&gt; | bpval &lt;dbl&gt; | qval &lt;dbl&gt; | pval_nominal_threshold &lt;dbl&gt; | gene_type &lt;chr&gt; | gene_name &lt;chr&gt; |\n",
       "|---|---|---|---|---|---|---|---|---|---|---|---|---|---|---|---|---|---|---|---|---|---|\n",
       "| 1 | ENSG00000001460 | 3692 | 1.05363 | 549.578 | 194.756 | rs10489442  |   5655 | 5.76494e-25 | -0.526664 | 9.999e-05 | ... | rs4592213      |  -1605 | 2.36174e-08 | -1.062000 | 0.00019998 | 8.55103e-05 | 0.00192143 | 6.73094e-06 | protein_coding | STPG1  |\n",
       "| 2 | ENSG00000002016 | 5008 | 1.04169 | 774.517 | 197.950 | rs2887532   | -47724 | 1.22335e-15 | -0.466916 | 9.999e-05 | ... | rs3748523      | -40481 | 8.68694e-07 | -0.656173 | 0.00199980 | 2.72042e-03 | 0.03257760 | 4.62047e-06 | protein_coding | RAD52  |\n",
       "| 3 | ENSG00000004534 | 2064 | 1.02671 | 132.097 | 191.012 | rs6765484   |  63873 | 4.05994e-26 |  0.345270 | 9.999e-05 | ... | rs1357448049   |  55259 | 6.97000e-07 |  0.335468 | 0.00049995 | 6.37599e-04 | 0.01009900 | 4.36444e-05 | protein_coding | RBM6   |\n",
       "| 4 | ENSG00000005801 | 4859 | 1.04382 | 761.473 | 194.033 | rs112127733 |   5192 | 5.47218e-14 | -0.316902 | 9.999e-05 | ... | chr11:3381737  |   2515 | 5.62582e-08 | -0.399708 | 0.00009999 | 2.38548e-04 | 0.00447343 | 4.28499e-06 | protein_coding | ZNF195 |\n",
       "| 5 | ENSG00000006007 | 4453 | 1.05372 | 545.913 | 192.512 | rs11644848  |  35249 | 8.67388e-13 |  0.298892 | 9.999e-05 | ... | chr16:19499062 | -23061 | 4.61409e-08 | -0.317379 | 0.00029997 | 1.50476e-04 | 0.00306791 | 6.62136e-06 | protein_coding | GDE1   |\n",
       "| 6 | ENSG00000008018 | 2578 | 1.05338 | 289.894 | 189.177 | rs12527004  |  40474 | 5.32962e-26 | -0.329155 | 9.999e-05 | ... | rs12717        |    -95 | 4.86128e-07 | -0.244166 | 0.00129987 | 9.92135e-04 | 0.01449280 | 1.31916e-05 | protein_coding | PSMB1  |\n",
       "\n"
      ],
      "text/plain": [
       "  pid             nvar.x shape1.x shape2.x dummy.x sid.x       dist.x\n",
       "1 ENSG00000001460 3692   1.05363  549.578  194.756 rs10489442    5655\n",
       "2 ENSG00000002016 5008   1.04169  774.517  197.950 rs2887532   -47724\n",
       "3 ENSG00000004534 2064   1.02671  132.097  191.012 rs6765484    63873\n",
       "4 ENSG00000005801 4859   1.04382  761.473  194.033 rs112127733   5192\n",
       "5 ENSG00000006007 4453   1.05372  545.913  192.512 rs11644848   35249\n",
       "6 ENSG00000008018 2578   1.05338  289.894  189.177 rs12527004   40474\n",
       "  npval.x     slope.x   ppval.x   ... sid            dist   npval      \n",
       "1 5.76494e-25 -0.526664 9.999e-05 ... rs4592213       -1605 2.36174e-08\n",
       "2 1.22335e-15 -0.466916 9.999e-05 ... rs3748523      -40481 8.68694e-07\n",
       "3 4.05994e-26  0.345270 9.999e-05 ... rs1357448049    55259 6.97000e-07\n",
       "4 5.47218e-14 -0.316902 9.999e-05 ... chr11:3381737    2515 5.62582e-08\n",
       "5 8.67388e-13  0.298892 9.999e-05 ... chr16:19499062 -23061 4.61409e-08\n",
       "6 5.32962e-26 -0.329155 9.999e-05 ... rs12717           -95 4.86128e-07\n",
       "  slope     ppval      bpval       qval       pval_nominal_threshold\n",
       "1 -1.062000 0.00019998 8.55103e-05 0.00192143 6.73094e-06           \n",
       "2 -0.656173 0.00199980 2.72042e-03 0.03257760 4.62047e-06           \n",
       "3  0.335468 0.00049995 6.37599e-04 0.01009900 4.36444e-05           \n",
       "4 -0.399708 0.00009999 2.38548e-04 0.00447343 4.28499e-06           \n",
       "5 -0.317379 0.00029997 1.50476e-04 0.00306791 6.62136e-06           \n",
       "6 -0.244166 0.00129987 9.92135e-04 0.01449280 1.31916e-05           \n",
       "  gene_type      gene_name\n",
       "1 protein_coding STPG1    \n",
       "2 protein_coding RAD52    \n",
       "3 protein_coding RBM6     \n",
       "4 protein_coding ZNF195   \n",
       "5 protein_coding GDE1     \n",
       "6 protein_coding PSMB1    "
      ]
     },
     "metadata": {},
     "output_type": "display_data"
    }
   ],
   "source": [
    "shared <- eur %>% inner_join(amr, by = \"pid\") %>% inner_join(afr, by = \"pid\")\n",
    "dim(shared)\n",
    "head(shared)"
   ]
  },
  {
   "cell_type": "code",
   "execution_count": 8,
   "metadata": {},
   "outputs": [],
   "source": [
    "shared <- shared %>% select(pid)\n",
    "write.table(shared, \"paintor/eur_amr_afr_shared_egenes.txt\", col.names = F, row.names = F, quote = F, sep = \"\\t\")"
   ]
  },
  {
   "cell_type": "markdown",
   "metadata": {},
   "source": [
    "### Select ENSG00000117899 (MESD) as an example to test run PAINTOR, ultimately should have 986 locus files (or 10094 ALL eGene)\n",
    "- 3872 shared cis variants"
   ]
  },
  {
   "cell_type": "code",
   "execution_count": 3,
   "metadata": {},
   "outputs": [],
   "source": [
    "eur_nominal <- fread(\"results/eur_nominal_50HCP/eur_ENSG00000117899.all_assoc.txt\", header = F, data.table = F)\n",
    "amr_nominal <- fread(\"results/amr_nominal_15HCP/amr_ENSG00000117899.all_assoc.txt\", header = F, data.table = F)\n",
    "afr_nominal <- fread(\"results/afr_nominal_25HCP/afr_ENSG00000117899.all_assoc.txt\", header = F, data.table = F)"
   ]
  },
  {
   "cell_type": "code",
   "execution_count": 5,
   "metadata": {},
   "outputs": [
    {
     "data": {
      "text/html": [
       "<table class=\"dataframe\">\n",
       "<caption>A data.frame: 6 x 6</caption>\n",
       "<thead>\n",
       "\t<tr><th></th><th scope=col>V1</th><th scope=col>V2</th><th scope=col>V3</th><th scope=col>V4</th><th scope=col>V5</th><th scope=col>V6</th></tr>\n",
       "\t<tr><th></th><th scope=col>&lt;chr&gt;</th><th scope=col>&lt;chr&gt;</th><th scope=col>&lt;int&gt;</th><th scope=col>&lt;dbl&gt;</th><th scope=col>&lt;dbl&gt;</th><th scope=col>&lt;dbl&gt;</th></tr>\n",
       "</thead>\n",
       "<tbody>\n",
       "\t<tr><th scope=row>1</th><td>ENSG00000117899</td><td>rs72736580 </td><td>-999112</td><td>0.671547</td><td>-0.0519136</td><td>0.9836779</td></tr>\n",
       "\t<tr><th scope=row>2</th><td>ENSG00000117899</td><td>rs143184731</td><td>-998090</td><td>0.439940</td><td> 0.1253850</td><td>0.9613369</td></tr>\n",
       "\t<tr><th scope=row>3</th><td>ENSG00000117899</td><td>rs77161014 </td><td>-996975</td><td>0.472903</td><td> 0.1152430</td><td>0.9655408</td></tr>\n",
       "\t<tr><th scope=row>4</th><td>ENSG00000117899</td><td>rs764585765</td><td>-995876</td><td>0.405902</td><td> 0.0432230</td><td>0.9562402</td></tr>\n",
       "\t<tr><th scope=row>5</th><td>ENSG00000117899</td><td>rs62025524 </td><td>-994235</td><td>0.433346</td><td> 0.0336609</td><td>0.9603563</td></tr>\n",
       "\t<tr><th scope=row>6</th><td>ENSG00000117899</td><td>rs62025525 </td><td>-994139</td><td>0.771454</td><td> 0.0133245</td><td>0.9898541</td></tr>\n",
       "</tbody>\n",
       "</table>\n"
      ],
      "text/latex": [
       "A data.frame: 6 x 6\n",
       "\\begin{tabular}{r|llllll}\n",
       "  & V1 & V2 & V3 & V4 & V5 & V6\\\\\n",
       "  & <chr> & <chr> & <int> & <dbl> & <dbl> & <dbl>\\\\\n",
       "\\hline\n",
       "\t1 & ENSG00000117899 & rs72736580  & -999112 & 0.671547 & -0.0519136 & 0.9836779\\\\\n",
       "\t2 & ENSG00000117899 & rs143184731 & -998090 & 0.439940 &  0.1253850 & 0.9613369\\\\\n",
       "\t3 & ENSG00000117899 & rs77161014  & -996975 & 0.472903 &  0.1152430 & 0.9655408\\\\\n",
       "\t4 & ENSG00000117899 & rs764585765 & -995876 & 0.405902 &  0.0432230 & 0.9562402\\\\\n",
       "\t5 & ENSG00000117899 & rs62025524  & -994235 & 0.433346 &  0.0336609 & 0.9603563\\\\\n",
       "\t6 & ENSG00000117899 & rs62025525  & -994139 & 0.771454 &  0.0133245 & 0.9898541\\\\\n",
       "\\end{tabular}\n"
      ],
      "text/markdown": [
       "\n",
       "A data.frame: 6 x 6\n",
       "\n",
       "| <!--/--> | V1 &lt;chr&gt; | V2 &lt;chr&gt; | V3 &lt;int&gt; | V4 &lt;dbl&gt; | V5 &lt;dbl&gt; | V6 &lt;dbl&gt; |\n",
       "|---|---|---|---|---|---|---|\n",
       "| 1 | ENSG00000117899 | rs72736580  | -999112 | 0.671547 | -0.0519136 | 0.9836779 |\n",
       "| 2 | ENSG00000117899 | rs143184731 | -998090 | 0.439940 |  0.1253850 | 0.9613369 |\n",
       "| 3 | ENSG00000117899 | rs77161014  | -996975 | 0.472903 |  0.1152430 | 0.9655408 |\n",
       "| 4 | ENSG00000117899 | rs764585765 | -995876 | 0.405902 |  0.0432230 | 0.9562402 |\n",
       "| 5 | ENSG00000117899 | rs62025524  | -994235 | 0.433346 |  0.0336609 | 0.9603563 |\n",
       "| 6 | ENSG00000117899 | rs62025525  | -994139 | 0.771454 |  0.0133245 | 0.9898541 |\n",
       "\n"
      ],
      "text/plain": [
       "  V1              V2          V3      V4       V5         V6       \n",
       "1 ENSG00000117899 rs72736580  -999112 0.671547 -0.0519136 0.9836779\n",
       "2 ENSG00000117899 rs143184731 -998090 0.439940  0.1253850 0.9613369\n",
       "3 ENSG00000117899 rs77161014  -996975 0.472903  0.1152430 0.9655408\n",
       "4 ENSG00000117899 rs764585765 -995876 0.405902  0.0432230 0.9562402\n",
       "5 ENSG00000117899 rs62025524  -994235 0.433346  0.0336609 0.9603563\n",
       "6 ENSG00000117899 rs62025525  -994139 0.771454  0.0133245 0.9898541"
      ]
     },
     "metadata": {},
     "output_type": "display_data"
    },
    {
     "data": {
      "text/html": [
       "<style>\n",
       ".list-inline {list-style: none; margin:0; padding: 0}\n",
       ".list-inline>li {display: inline-block}\n",
       ".list-inline>li:not(:last-child)::after {content: \"\\00b7\"; padding: 0 .5ex}\n",
       "</style>\n",
       "<ol class=list-inline><li>4708</li><li>6</li></ol>\n"
      ],
      "text/latex": [
       "\\begin{enumerate*}\n",
       "\\item 4708\n",
       "\\item 6\n",
       "\\end{enumerate*}\n"
      ],
      "text/markdown": [
       "1. 4708\n",
       "2. 6\n",
       "\n",
       "\n"
      ],
      "text/plain": [
       "[1] 4708    6"
      ]
     },
     "metadata": {},
     "output_type": "display_data"
    },
    {
     "data": {
      "text/html": [
       "<style>\n",
       ".list-inline {list-style: none; margin:0; padding: 0}\n",
       ".list-inline>li {display: inline-block}\n",
       ".list-inline>li:not(:last-child)::after {content: \"\\00b7\"; padding: 0 .5ex}\n",
       "</style>\n",
       "<ol class=list-inline><li>5648</li><li>6</li></ol>\n"
      ],
      "text/latex": [
       "\\begin{enumerate*}\n",
       "\\item 5648\n",
       "\\item 6\n",
       "\\end{enumerate*}\n"
      ],
      "text/markdown": [
       "1. 5648\n",
       "2. 6\n",
       "\n",
       "\n"
      ],
      "text/plain": [
       "[1] 5648    6"
      ]
     },
     "metadata": {},
     "output_type": "display_data"
    },
    {
     "data": {
      "text/html": [
       "<style>\n",
       ".list-inline {list-style: none; margin:0; padding: 0}\n",
       ".list-inline>li {display: inline-block}\n",
       ".list-inline>li:not(:last-child)::after {content: \"\\00b7\"; padding: 0 .5ex}\n",
       "</style>\n",
       "<ol class=list-inline><li>6744</li><li>6</li></ol>\n"
      ],
      "text/latex": [
       "\\begin{enumerate*}\n",
       "\\item 6744\n",
       "\\item 6\n",
       "\\end{enumerate*}\n"
      ],
      "text/markdown": [
       "1. 6744\n",
       "2. 6\n",
       "\n",
       "\n"
      ],
      "text/plain": [
       "[1] 6744    6"
      ]
     },
     "metadata": {},
     "output_type": "display_data"
    }
   ],
   "source": [
    "head(eur_nominal)\n",
    "dim(eur_nominal)\n",
    "dim(amr_nominal)\n",
    "dim(afr_nominal)"
   ]
  },
  {
   "cell_type": "code",
   "execution_count": 37,
   "metadata": {},
   "outputs": [
    {
     "data": {
      "text/html": [
       "<style>\n",
       ".list-inline {list-style: none; margin:0; padding: 0}\n",
       ".list-inline>li {display: inline-block}\n",
       ".list-inline>li:not(:last-child)::after {content: \"\\00b7\"; padding: 0 .5ex}\n",
       "</style>\n",
       "<ol class=list-inline><li>3872</li><li>16</li></ol>\n"
      ],
      "text/latex": [
       "\\begin{enumerate*}\n",
       "\\item 3872\n",
       "\\item 16\n",
       "\\end{enumerate*}\n"
      ],
      "text/markdown": [
       "1. 3872\n",
       "2. 16\n",
       "\n",
       "\n"
      ],
      "text/plain": [
       "[1] 3872   16"
      ]
     },
     "metadata": {},
     "output_type": "display_data"
    }
   ],
   "source": [
    "shared <- eur_nominal %>% inner_join(amr_nominal, by=\"V2\") %>% inner_join(afr_nominal, by=\"V2\")\n",
    "dim(shared)"
   ]
  },
  {
   "cell_type": "markdown",
   "metadata": {},
   "source": [
    "### Input 1: Locus file. Calculate ZSCORE from pval"
   ]
  },
  {
   "cell_type": "code",
   "execution_count": 39,
   "metadata": {},
   "outputs": [],
   "source": [
    "shared <- shared %>% mutate(z.x = sign(V5.x)*abs(qnorm(V4.x/2))) %>% \n",
    "                     mutate(z.y = sign(V5.y)*abs(qnorm(V4.y/2))) %>% \n",
    "                     mutate(z = sign(V5)*abs(qnorm(V4/2)))"
   ]
  },
  {
   "cell_type": "code",
   "execution_count": 46,
   "metadata": {},
   "outputs": [],
   "source": [
    "# test other methods\n",
    "shared <- shared %>% mutate(z.x1 = sign(V5.x)*sqrt(qchisq(V4.x,1,lower=FALSE))) %>% \n",
    "                     mutate(z.y1 = sign(V5.y)*sqrt(qchisq(V4.y,1,lower=FALSE))) %>% \n",
    "                     mutate(z1 = sign(V5)*sqrt(qchisq(V4,1,lower=FALSE)))\n",
    "shared <- shared %>% mutate(z.x2 = ifelse(V5.x < 0, qnorm(V4.x/2), qnorm(1-V4.x/2))) %>% \n",
    "                     mutate(z.y2 = ifelse(V5.y < 0, qnorm(V4.y/2), qnorm(1-V4.y/2))) %>% \n",
    "                     mutate(z2 = ifelse(V5 < 0, qnorm(V4/2), qnorm(1-V4/2)))"
   ]
  },
  {
   "cell_type": "code",
   "execution_count": 48,
   "metadata": {},
   "outputs": [
    {
     "data": {
      "text/html": [
       "1"
      ],
      "text/latex": [
       "1"
      ],
      "text/markdown": [
       "1"
      ],
      "text/plain": [
       "[1] 1"
      ]
     },
     "metadata": {},
     "output_type": "display_data"
    },
    {
     "data": {
      "text/html": [
       "1"
      ],
      "text/latex": [
       "1"
      ],
      "text/markdown": [
       "1"
      ],
      "text/plain": [
       "[1] 1"
      ]
     },
     "metadata": {},
     "output_type": "display_data"
    },
    {
     "data": {
      "text/html": [
       "1"
      ],
      "text/latex": [
       "1"
      ],
      "text/markdown": [
       "1"
      ],
      "text/plain": [
       "[1] 1"
      ]
     },
     "metadata": {},
     "output_type": "display_data"
    },
    {
     "data": {
      "text/html": [
       "1"
      ],
      "text/latex": [
       "1"
      ],
      "text/markdown": [
       "1"
      ],
      "text/plain": [
       "[1] 1"
      ]
     },
     "metadata": {},
     "output_type": "display_data"
    },
    {
     "data": {
      "text/html": [
       "1"
      ],
      "text/latex": [
       "1"
      ],
      "text/markdown": [
       "1"
      ],
      "text/plain": [
       "[1] 1"
      ]
     },
     "metadata": {},
     "output_type": "display_data"
    },
    {
     "data": {
      "text/html": [
       "1"
      ],
      "text/latex": [
       "1"
      ],
      "text/markdown": [
       "1"
      ],
      "text/plain": [
       "[1] 1"
      ]
     },
     "metadata": {},
     "output_type": "display_data"
    }
   ],
   "source": [
    "cor(shared$z.x1,shared$z.x)\n",
    "cor(shared$z.y1,shared$z.y)\n",
    "cor(shared$z1,shared$z)\n",
    "\n",
    "cor(shared$z.x2,shared$z.x)\n",
    "cor(shared$z.y2,shared$z.y)\n",
    "cor(shared$z2,shared$z)"
   ]
  },
  {
   "cell_type": "code",
   "execution_count": 55,
   "metadata": {},
   "outputs": [
    {
     "data": {
      "text/html": [
       "999"
      ],
      "text/latex": [
       "999"
      ],
      "text/markdown": [
       "999"
      ],
      "text/plain": [
       "[1] 999"
      ]
     },
     "metadata": {},
     "output_type": "display_data"
    }
   ],
   "source": [
    "sum(shared$z == shared$z1)"
   ]
  },
  {
   "cell_type": "code",
   "execution_count": 56,
   "metadata": {},
   "outputs": [
    {
     "data": {
      "image/png": "[encoded data removed]",
      "text/plain": [
       "plot without title"
      ]
     },
     "metadata": {
      "image/png": {
       "height": 420,
       "width": 420
      }
     },
     "output_type": "display_data"
    },
    {
     "data": {
      "image/png": "[encoded data removed]",
      "text/plain": [
       "plot without title"
      ]
     },
     "metadata": {
      "image/png": {
       "height": 420,
       "width": 420
      }
     },
     "output_type": "display_data"
    },
    {
     "data": {
      "image/png": "[encoded data removed]",
      "text/plain": [
       "plot without title"
      ]
     },
     "metadata": {
      "image/png": {
       "height": 420,
       "width": 420
      }
     },
     "output_type": "display_data"
    }
   ],
   "source": [
    "ggplot(shared, aes(x = z, y = z1)) +\n",
    "    geom_point()\n",
    "ggplot(shared, aes(x = z.x, y = z.x1)) +\n",
    "    geom_point()\n",
    "ggplot(shared, aes(x = z.y, y = z.y1)) +\n",
    "    geom_point()"
   ]
  },
  {
   "cell_type": "code",
   "execution_count": 51,
   "metadata": {},
   "outputs": [
    {
     "data": {
      "text/html": [
       "<table class=\"dataframe\">\n",
       "<caption>A data.frame: 6 x 25</caption>\n",
       "<thead>\n",
       "\t<tr><th></th><th scope=col>V1.x</th><th scope=col>V2</th><th scope=col>V3.x</th><th scope=col>V4.x</th><th scope=col>V5.x</th><th scope=col>V6.x</th><th scope=col>V1.y</th><th scope=col>V3.y</th><th scope=col>V4.y</th><th scope=col>V5.y</th><th scope=col>...</th><th scope=col>V6</th><th scope=col>z</th><th scope=col>z.y</th><th scope=col>z.x</th><th scope=col>z.x1</th><th scope=col>z.y1</th><th scope=col>z1</th><th scope=col>z.x2</th><th scope=col>z.y2</th><th scope=col>z2</th></tr>\n",
       "\t<tr><th></th><th scope=col>&lt;chr&gt;</th><th scope=col>&lt;chr&gt;</th><th scope=col>&lt;int&gt;</th><th scope=col>&lt;dbl&gt;</th><th scope=col>&lt;dbl&gt;</th><th scope=col>&lt;dbl&gt;</th><th scope=col>&lt;chr&gt;</th><th scope=col>&lt;int&gt;</th><th scope=col>&lt;dbl&gt;</th><th scope=col>&lt;dbl&gt;</th><th scope=col>...</th><th scope=col>&lt;dbl&gt;</th><th scope=col>&lt;dbl&gt;</th><th scope=col>&lt;dbl&gt;</th><th scope=col>&lt;dbl&gt;</th><th scope=col>&lt;dbl&gt;</th><th scope=col>&lt;dbl&gt;</th><th scope=col>&lt;dbl&gt;</th><th scope=col>&lt;dbl&gt;</th><th scope=col>&lt;dbl&gt;</th><th scope=col>&lt;dbl&gt;</th></tr>\n",
       "</thead>\n",
       "<tbody>\n",
       "\t<tr><th scope=row>1</th><td>ENSG00000117899</td><td>rs72736580 </td><td>-999112</td><td>0.671547</td><td>-0.0519136</td><td>0.9836779</td><td>ENSG00000117899</td><td>-999112</td><td>0.923601</td><td>0.0227704</td><td>...</td><td>0.9857481</td><td>-0.6854199</td><td>0.09589873</td><td>-0.4240258</td><td>-0.4240258</td><td>0.09589873</td><td>-0.6854199</td><td>-0.4240258</td><td>0.09589873</td><td>-0.6854199</td></tr>\n",
       "\t<tr><th scope=row>2</th><td>ENSG00000117899</td><td>rs143184731</td><td>-998090</td><td>0.439940</td><td> 0.1253850</td><td>0.9613369</td><td>ENSG00000117899</td><td>-998090</td><td>0.818756</td><td>0.0198716</td><td>...</td><td>0.9984839</td><td> 0.1217576</td><td>0.22914528</td><td> 0.7722945</td><td> 0.7722945</td><td>0.22914528</td><td> 0.1217576</td><td> 0.7722945</td><td>0.22914528</td><td> 0.1217576</td></tr>\n",
       "\t<tr><th scope=row>3</th><td>ENSG00000117899</td><td>rs77161014 </td><td>-996975</td><td>0.472903</td><td> 0.1152430</td><td>0.9655408</td><td>ENSG00000117899</td><td>-996975</td><td>0.271806</td><td>0.3064540</td><td>...</td><td>0.9986094</td><td> 0.1139985</td><td>1.09891304</td><td> 0.7177637</td><td> 0.7177637</td><td>1.09891304</td><td> 0.1139985</td><td> 0.7177637</td><td>1.09891304</td><td> 0.1139985</td></tr>\n",
       "\t<tr><th scope=row>4</th><td>ENSG00000117899</td><td>rs764585765</td><td>-995876</td><td>0.405902</td><td> 0.0432230</td><td>0.9562402</td><td>ENSG00000117899</td><td>-995876</td><td>0.700033</td><td>0.0442587</td><td>...</td><td>0.9945278</td><td> 0.3447398</td><td>0.38527592</td><td> 0.8311268</td><td> 0.8311268</td><td>0.38527592</td><td> 0.3447398</td><td> 0.8311268</td><td>0.38527592</td><td> 0.3447398</td></tr>\n",
       "\t<tr><th scope=row>5</th><td>ENSG00000117899</td><td>rs62025524 </td><td>-994235</td><td>0.433346</td><td> 0.0336609</td><td>0.9603563</td><td>ENSG00000117899</td><td>-994235</td><td>0.461211</td><td>0.0556486</td><td>...</td><td>0.9886096</td><td>-0.5924758</td><td>0.73685423</td><td> 0.7834788</td><td> 0.7834788</td><td>0.73685423</td><td>-0.5924758</td><td> 0.7834788</td><td>0.73685423</td><td>-0.5924758</td></tr>\n",
       "\t<tr><th scope=row>6</th><td>ENSG00000117899</td><td>rs62025525 </td><td>-994139</td><td>0.771454</td><td> 0.0133245</td><td>0.9898541</td><td>ENSG00000117899</td><td>-994139</td><td>0.156854</td><td>0.1325850</td><td>...</td><td>0.9968908</td><td>-0.2156341</td><td>1.41573195</td><td> 0.2904735</td><td> 0.2904735</td><td>1.41573195</td><td>-0.2156341</td><td> 0.2904735</td><td>1.41573195</td><td>-0.2156341</td></tr>\n",
       "</tbody>\n",
       "</table>\n"
      ],
      "text/latex": [
       "A data.frame: 6 x 25\n",
       "\\begin{tabular}{r|lllllllllllllllllllll}\n",
       "  & V1.x & V2 & V3.x & V4.x & V5.x & V6.x & V1.y & V3.y & V4.y & V5.y & ... & V6 & z & z.y & z.x & z.x1 & z.y1 & z1 & z.x2 & z.y2 & z2\\\\\n",
       "  & <chr> & <chr> & <int> & <dbl> & <dbl> & <dbl> & <chr> & <int> & <dbl> & <dbl> & ... & <dbl> & <dbl> & <dbl> & <dbl> & <dbl> & <dbl> & <dbl> & <dbl> & <dbl> & <dbl>\\\\\n",
       "\\hline\n",
       "\t1 & ENSG00000117899 & rs72736580  & -999112 & 0.671547 & -0.0519136 & 0.9836779 & ENSG00000117899 & -999112 & 0.923601 & 0.0227704 & ... & 0.9857481 & -0.6854199 & 0.09589873 & -0.4240258 & -0.4240258 & 0.09589873 & -0.6854199 & -0.4240258 & 0.09589873 & -0.6854199\\\\\n",
       "\t2 & ENSG00000117899 & rs143184731 & -998090 & 0.439940 &  0.1253850 & 0.9613369 & ENSG00000117899 & -998090 & 0.818756 & 0.0198716 & ... & 0.9984839 &  0.1217576 & 0.22914528 &  0.7722945 &  0.7722945 & 0.22914528 &  0.1217576 &  0.7722945 & 0.22914528 &  0.1217576\\\\\n",
       "\t3 & ENSG00000117899 & rs77161014  & -996975 & 0.472903 &  0.1152430 & 0.9655408 & ENSG00000117899 & -996975 & 0.271806 & 0.3064540 & ... & 0.9986094 &  0.1139985 & 1.09891304 &  0.7177637 &  0.7177637 & 1.09891304 &  0.1139985 &  0.7177637 & 1.09891304 &  0.1139985\\\\\n",
       "\t4 & ENSG00000117899 & rs764585765 & -995876 & 0.405902 &  0.0432230 & 0.9562402 & ENSG00000117899 & -995876 & 0.700033 & 0.0442587 & ... & 0.9945278 &  0.3447398 & 0.38527592 &  0.8311268 &  0.8311268 & 0.38527592 &  0.3447398 &  0.8311268 & 0.38527592 &  0.3447398\\\\\n",
       "\t5 & ENSG00000117899 & rs62025524  & -994235 & 0.433346 &  0.0336609 & 0.9603563 & ENSG00000117899 & -994235 & 0.461211 & 0.0556486 & ... & 0.9886096 & -0.5924758 & 0.73685423 &  0.7834788 &  0.7834788 & 0.73685423 & -0.5924758 &  0.7834788 & 0.73685423 & -0.5924758\\\\\n",
       "\t6 & ENSG00000117899 & rs62025525  & -994139 & 0.771454 &  0.0133245 & 0.9898541 & ENSG00000117899 & -994139 & 0.156854 & 0.1325850 & ... & 0.9968908 & -0.2156341 & 1.41573195 &  0.2904735 &  0.2904735 & 1.41573195 & -0.2156341 &  0.2904735 & 1.41573195 & -0.2156341\\\\\n",
       "\\end{tabular}\n"
      ],
      "text/markdown": [
       "\n",
       "A data.frame: 6 x 25\n",
       "\n",
       "| <!--/--> | V1.x &lt;chr&gt; | V2 &lt;chr&gt; | V3.x &lt;int&gt; | V4.x &lt;dbl&gt; | V5.x &lt;dbl&gt; | V6.x &lt;dbl&gt; | V1.y &lt;chr&gt; | V3.y &lt;int&gt; | V4.y &lt;dbl&gt; | V5.y &lt;dbl&gt; | ... ... | V6 &lt;dbl&gt; | z &lt;dbl&gt; | z.y &lt;dbl&gt; | z.x &lt;dbl&gt; | z.x1 &lt;dbl&gt; | z.y1 &lt;dbl&gt; | z1 &lt;dbl&gt; | z.x2 &lt;dbl&gt; | z.y2 &lt;dbl&gt; | z2 &lt;dbl&gt; |\n",
       "|---|---|---|---|---|---|---|---|---|---|---|---|---|---|---|---|---|---|---|---|---|---|\n",
       "| 1 | ENSG00000117899 | rs72736580  | -999112 | 0.671547 | -0.0519136 | 0.9836779 | ENSG00000117899 | -999112 | 0.923601 | 0.0227704 | ... | 0.9857481 | -0.6854199 | 0.09589873 | -0.4240258 | -0.4240258 | 0.09589873 | -0.6854199 | -0.4240258 | 0.09589873 | -0.6854199 |\n",
       "| 2 | ENSG00000117899 | rs143184731 | -998090 | 0.439940 |  0.1253850 | 0.9613369 | ENSG00000117899 | -998090 | 0.818756 | 0.0198716 | ... | 0.9984839 |  0.1217576 | 0.22914528 |  0.7722945 |  0.7722945 | 0.22914528 |  0.1217576 |  0.7722945 | 0.22914528 |  0.1217576 |\n",
       "| 3 | ENSG00000117899 | rs77161014  | -996975 | 0.472903 |  0.1152430 | 0.9655408 | ENSG00000117899 | -996975 | 0.271806 | 0.3064540 | ... | 0.9986094 |  0.1139985 | 1.09891304 |  0.7177637 |  0.7177637 | 1.09891304 |  0.1139985 |  0.7177637 | 1.09891304 |  0.1139985 |\n",
       "| 4 | ENSG00000117899 | rs764585765 | -995876 | 0.405902 |  0.0432230 | 0.9562402 | ENSG00000117899 | -995876 | 0.700033 | 0.0442587 | ... | 0.9945278 |  0.3447398 | 0.38527592 |  0.8311268 |  0.8311268 | 0.38527592 |  0.3447398 |  0.8311268 | 0.38527592 |  0.3447398 |\n",
       "| 5 | ENSG00000117899 | rs62025524  | -994235 | 0.433346 |  0.0336609 | 0.9603563 | ENSG00000117899 | -994235 | 0.461211 | 0.0556486 | ... | 0.9886096 | -0.5924758 | 0.73685423 |  0.7834788 |  0.7834788 | 0.73685423 | -0.5924758 |  0.7834788 | 0.73685423 | -0.5924758 |\n",
       "| 6 | ENSG00000117899 | rs62025525  | -994139 | 0.771454 |  0.0133245 | 0.9898541 | ENSG00000117899 | -994139 | 0.156854 | 0.1325850 | ... | 0.9968908 | -0.2156341 | 1.41573195 |  0.2904735 |  0.2904735 | 1.41573195 | -0.2156341 |  0.2904735 | 1.41573195 | -0.2156341 |\n",
       "\n"
      ],
      "text/plain": [
       "  V1.x            V2          V3.x    V4.x     V5.x       V6.x     \n",
       "1 ENSG00000117899 rs72736580  -999112 0.671547 -0.0519136 0.9836779\n",
       "2 ENSG00000117899 rs143184731 -998090 0.439940  0.1253850 0.9613369\n",
       "3 ENSG00000117899 rs77161014  -996975 0.472903  0.1152430 0.9655408\n",
       "4 ENSG00000117899 rs764585765 -995876 0.405902  0.0432230 0.9562402\n",
       "5 ENSG00000117899 rs62025524  -994235 0.433346  0.0336609 0.9603563\n",
       "6 ENSG00000117899 rs62025525  -994139 0.771454  0.0133245 0.9898541\n",
       "  V1.y            V3.y    V4.y     V5.y      ... V6        z         \n",
       "1 ENSG00000117899 -999112 0.923601 0.0227704 ... 0.9857481 -0.6854199\n",
       "2 ENSG00000117899 -998090 0.818756 0.0198716 ... 0.9984839  0.1217576\n",
       "3 ENSG00000117899 -996975 0.271806 0.3064540 ... 0.9986094  0.1139985\n",
       "4 ENSG00000117899 -995876 0.700033 0.0442587 ... 0.9945278  0.3447398\n",
       "5 ENSG00000117899 -994235 0.461211 0.0556486 ... 0.9886096 -0.5924758\n",
       "6 ENSG00000117899 -994139 0.156854 0.1325850 ... 0.9968908 -0.2156341\n",
       "  z.y        z.x        z.x1       z.y1       z1         z.x2       z.y2      \n",
       "1 0.09589873 -0.4240258 -0.4240258 0.09589873 -0.6854199 -0.4240258 0.09589873\n",
       "2 0.22914528  0.7722945  0.7722945 0.22914528  0.1217576  0.7722945 0.22914528\n",
       "3 1.09891304  0.7177637  0.7177637 1.09891304  0.1139985  0.7177637 1.09891304\n",
       "4 0.38527592  0.8311268  0.8311268 0.38527592  0.3447398  0.8311268 0.38527592\n",
       "5 0.73685423  0.7834788  0.7834788 0.73685423 -0.5924758  0.7834788 0.73685423\n",
       "6 1.41573195  0.2904735  0.2904735 1.41573195 -0.2156341  0.2904735 1.41573195\n",
       "  z2        \n",
       "1 -0.6854199\n",
       "2  0.1217576\n",
       "3  0.1139985\n",
       "4  0.3447398\n",
       "5 -0.5924758\n",
       "6 -0.2156341"
      ]
     },
     "metadata": {},
     "output_type": "display_data"
    }
   ],
   "source": [
    "head(shared)"
   ]
  },
  {
   "cell_type": "code",
   "execution_count": 9,
   "metadata": {},
   "outputs": [],
   "source": [
    "# for(i in 1:nrow(shared)) {\n",
    "#     if (shared[i,'V5.x'] < 0) {\n",
    "#         shared[i,'z.x'] <- qnorm(shared[i,'V4.x']/2)\n",
    "#     } else if (shared[i,'V5.x'] >= 0) {\n",
    "#         shared[i,'z.x'] <- qnorm(1-shared[i,'V4.x']/2)\n",
    "#     }\n",
    "#     if (shared[i,'V5.y'] < 0) {\n",
    "#         shared[i,'z.y'] <- qnorm(shared[i,'V4.y']/2)\n",
    "#     } else if (shared[i,'V5.y'] >= 0) {\n",
    "#         shared[i,'z.y'] <- qnorm(1-shared[i,'V4.y']/2)\n",
    "#     }\n",
    "#     if (shared[i,'V5'] < 0) {\n",
    "#         shared[i,'z'] <- qnorm(shared[i,'V4']/2)\n",
    "#     } else if (shared[i,'V5'] >= 0) {\n",
    "#         shared[i,'z'] <- qnorm(1-shared[i,'V4']/2)\n",
    "#     }\n",
    "# }"
   ]
  },
  {
   "cell_type": "code",
   "execution_count": 10,
   "metadata": {},
   "outputs": [
    {
     "data": {
      "text/html": [
       "<table class=\"dataframe\">\n",
       "<caption>A data.frame: 6 x 4</caption>\n",
       "<thead>\n",
       "\t<tr><th></th><th scope=col>V2</th><th scope=col>z.x</th><th scope=col>z.y</th><th scope=col>z</th></tr>\n",
       "\t<tr><th></th><th scope=col>&lt;chr&gt;</th><th scope=col>&lt;dbl&gt;</th><th scope=col>&lt;dbl&gt;</th><th scope=col>&lt;dbl&gt;</th></tr>\n",
       "</thead>\n",
       "<tbody>\n",
       "\t<tr><th scope=row>1</th><td>rs72736580 </td><td>-0.4240258</td><td>0.09589873</td><td>-0.6854199</td></tr>\n",
       "\t<tr><th scope=row>2</th><td>rs143184731</td><td> 0.7722945</td><td>0.22914528</td><td> 0.1217576</td></tr>\n",
       "\t<tr><th scope=row>3</th><td>rs77161014 </td><td> 0.7177637</td><td>1.09891304</td><td> 0.1139985</td></tr>\n",
       "\t<tr><th scope=row>4</th><td>rs764585765</td><td> 0.8311268</td><td>0.38527592</td><td> 0.3447398</td></tr>\n",
       "\t<tr><th scope=row>5</th><td>rs62025524 </td><td> 0.7834788</td><td>0.73685423</td><td>-0.5924758</td></tr>\n",
       "\t<tr><th scope=row>6</th><td>rs62025525 </td><td> 0.2904735</td><td>1.41573195</td><td>-0.2156341</td></tr>\n",
       "</tbody>\n",
       "</table>\n"
      ],
      "text/latex": [
       "A data.frame: 6 x 4\n",
       "\\begin{tabular}{r|llll}\n",
       "  & V2 & z.x & z.y & z\\\\\n",
       "  & <chr> & <dbl> & <dbl> & <dbl>\\\\\n",
       "\\hline\n",
       "\t1 & rs72736580  & -0.4240258 & 0.09589873 & -0.6854199\\\\\n",
       "\t2 & rs143184731 &  0.7722945 & 0.22914528 &  0.1217576\\\\\n",
       "\t3 & rs77161014  &  0.7177637 & 1.09891304 &  0.1139985\\\\\n",
       "\t4 & rs764585765 &  0.8311268 & 0.38527592 &  0.3447398\\\\\n",
       "\t5 & rs62025524  &  0.7834788 & 0.73685423 & -0.5924758\\\\\n",
       "\t6 & rs62025525  &  0.2904735 & 1.41573195 & -0.2156341\\\\\n",
       "\\end{tabular}\n"
      ],
      "text/markdown": [
       "\n",
       "A data.frame: 6 x 4\n",
       "\n",
       "| <!--/--> | V2 &lt;chr&gt; | z.x &lt;dbl&gt; | z.y &lt;dbl&gt; | z &lt;dbl&gt; |\n",
       "|---|---|---|---|---|\n",
       "| 1 | rs72736580  | -0.4240258 | 0.09589873 | -0.6854199 |\n",
       "| 2 | rs143184731 |  0.7722945 | 0.22914528 |  0.1217576 |\n",
       "| 3 | rs77161014  |  0.7177637 | 1.09891304 |  0.1139985 |\n",
       "| 4 | rs764585765 |  0.8311268 | 0.38527592 |  0.3447398 |\n",
       "| 5 | rs62025524  |  0.7834788 | 0.73685423 | -0.5924758 |\n",
       "| 6 | rs62025525  |  0.2904735 | 1.41573195 | -0.2156341 |\n",
       "\n"
      ],
      "text/plain": [
       "  V2          z.x        z.y        z         \n",
       "1 rs72736580  -0.4240258 0.09589873 -0.6854199\n",
       "2 rs143184731  0.7722945 0.22914528  0.1217576\n",
       "3 rs77161014   0.7177637 1.09891304  0.1139985\n",
       "4 rs764585765  0.8311268 0.38527592  0.3447398\n",
       "5 rs62025524   0.7834788 0.73685423 -0.5924758\n",
       "6 rs62025525   0.2904735 1.41573195 -0.2156341"
      ]
     },
     "metadata": {},
     "output_type": "display_data"
    }
   ],
   "source": [
    "shared <- shared %>% select(V2, z.x, z.y, z)\n",
    "head(shared)"
   ]
  },
  {
   "cell_type": "code",
   "execution_count": 11,
   "metadata": {},
   "outputs": [],
   "source": [
    "colnames(shared) <- c(\"RSID\", \"ZSCORE.P1\", \"ZSCORE.P2\", \"ZSCORE.P3\")\n",
    "write.table(shared, \"paintor/MESDC2/Locus1\", col.names = T, row.names = F, sep = \" \", quote = F)"
   ]
  },
  {
   "cell_type": "code",
   "execution_count": 12,
   "metadata": {},
   "outputs": [],
   "source": [
    "id <- shared %>% select(RSID)\n",
    "write.table(id, \"paintor/MESDC2/shared_variants.txt\", col.names = F, row.names = F, quote = F, sep = \"\\t\")"
   ]
  },
  {
   "cell_type": "markdown",
   "metadata": {},
   "source": [
    "### Input 2: LD. Use plink to estimate LD of the shared variants in all 3 populations\n",
    "\n",
    "`plink --r2 bin \\\n",
    "--vcf ${file} \\\n",
    "--extract shared_variants.txt \\\n",
    "--out eur`"
   ]
  },
  {
   "cell_type": "code",
   "execution_count": 16,
   "metadata": {},
   "outputs": [],
   "source": [
    "# ?readBin"
   ]
  },
  {
   "cell_type": "code",
   "execution_count": 26,
   "metadata": {},
   "outputs": [],
   "source": [
    "num_var=3872"
   ]
  },
  {
   "cell_type": "code",
   "execution_count": 17,
   "metadata": {},
   "outputs": [],
   "source": [
    "myFile <- file('paintor/MESDC2/eur.ld.bin', 'rb')\n",
    "eur_ld <- readBin(myFile, what=\"numeric\", n=num_var*num_var, size=8)\n",
    "close(myFile)"
   ]
  },
  {
   "cell_type": "code",
   "execution_count": 18,
   "metadata": {},
   "outputs": [
    {
     "data": {
      "text/plain": [
       "NULL"
      ]
     },
     "metadata": {},
     "output_type": "display_data"
    }
   ],
   "source": [
    "dim(eur_ld)"
   ]
  },
  {
   "cell_type": "code",
   "execution_count": 19,
   "metadata": {},
   "outputs": [
    {
     "data": {
      "text/html": [
       "14992384"
      ],
      "text/latex": [
       "14992384"
      ],
      "text/markdown": [
       "14992384"
      ],
      "text/plain": [
       "[1] 14992384"
      ]
     },
     "metadata": {},
     "output_type": "display_data"
    }
   ],
   "source": [
    "length(eur_ld)"
   ]
  },
  {
   "cell_type": "code",
   "execution_count": 27,
   "metadata": {},
   "outputs": [
    {
     "data": {
      "text/html": [
       "14992384"
      ],
      "text/latex": [
       "14992384"
      ],
      "text/markdown": [
       "14992384"
      ],
      "text/plain": [
       "[1] 14992384"
      ]
     },
     "metadata": {},
     "output_type": "display_data"
    }
   ],
   "source": [
    "num_var^2"
   ]
  },
  {
   "cell_type": "code",
   "execution_count": 21,
   "metadata": {},
   "outputs": [
    {
     "data": {
      "text/html": [
       "<style>\n",
       ".list-inline {list-style: none; margin:0; padding: 0}\n",
       ".list-inline>li {display: inline-block}\n",
       ".list-inline>li:not(:last-child)::after {content: \"\\00b7\"; padding: 0 .5ex}\n",
       "</style>\n",
       "<ol class=list-inline><li>1</li><li>0.00209643605870021</li><li>0.00187983011905591</li><li>0.000404779412960451</li><li>0.0364906085975158</li><li>0.0561912488558417</li></ol>\n"
      ],
      "text/latex": [
       "\\begin{enumerate*}\n",
       "\\item 1\n",
       "\\item 0.00209643605870021\n",
       "\\item 0.00187983011905591\n",
       "\\item 0.000404779412960451\n",
       "\\item 0.0364906085975158\n",
       "\\item 0.0561912488558417\n",
       "\\end{enumerate*}\n"
      ],
      "text/markdown": [
       "1. 1\n",
       "2. 0.00209643605870021\n",
       "3. 0.00187983011905591\n",
       "4. 0.000404779412960451\n",
       "5. 0.0364906085975158\n",
       "6. 0.0561912488558417\n",
       "\n",
       "\n"
      ],
      "text/plain": [
       "[1] 1.0000000000 0.0020964361 0.0018798301 0.0004047794 0.0364906086\n",
       "[6] 0.0561912489"
      ]
     },
     "metadata": {},
     "output_type": "display_data"
    }
   ],
   "source": [
    "head(eur_ld)"
   ]
  },
  {
   "cell_type": "code",
   "execution_count": 22,
   "metadata": {},
   "outputs": [
    {
     "data": {
      "text/html": [
       "<style>\n",
       ".list-inline {list-style: none; margin:0; padding: 0}\n",
       ".list-inline>li {display: inline-block}\n",
       ".list-inline>li:not(:last-child)::after {content: \"\\00b7\"; padding: 0 .5ex}\n",
       "</style>\n",
       "<ol class=list-inline><li>1</li><li>3874</li><li>7747</li><li>11620</li><li>11630</li><li>11631</li></ol>\n"
      ],
      "text/latex": [
       "\\begin{enumerate*}\n",
       "\\item 1\n",
       "\\item 3874\n",
       "\\item 7747\n",
       "\\item 11620\n",
       "\\item 11630\n",
       "\\item 11631\n",
       "\\end{enumerate*}\n"
      ],
      "text/markdown": [
       "1. 1\n",
       "2. 3874\n",
       "3. 7747\n",
       "4. 11620\n",
       "5. 11630\n",
       "6. 11631\n",
       "\n",
       "\n"
      ],
      "text/plain": [
       "[1]     1  3874  7747 11620 11630 11631"
      ]
     },
     "metadata": {},
     "output_type": "display_data"
    }
   ],
   "source": [
    "head(which(eur_ld == 1))"
   ]
  },
  {
   "cell_type": "markdown",
   "metadata": {},
   "source": [
    "**Don't know the order, if it's row1, row2, ... or col1, col2, ... But doesn't matter! It's the same.**"
   ]
  },
  {
   "cell_type": "code",
   "execution_count": 23,
   "metadata": {},
   "outputs": [],
   "source": [
    "eur_matrix <- matrix(eur_ld, nrow = num_var)"
   ]
  },
  {
   "cell_type": "code",
   "execution_count": 24,
   "metadata": {},
   "outputs": [
    {
     "data": {
      "text/html": [
       "<style>\n",
       ".list-inline {list-style: none; margin:0; padding: 0}\n",
       ".list-inline>li {display: inline-block}\n",
       ".list-inline>li:not(:last-child)::after {content: \"\\00b7\"; padding: 0 .5ex}\n",
       "</style>\n",
       "<ol class=list-inline><li>3872</li><li>3872</li></ol>\n"
      ],
      "text/latex": [
       "\\begin{enumerate*}\n",
       "\\item 3872\n",
       "\\item 3872\n",
       "\\end{enumerate*}\n"
      ],
      "text/markdown": [
       "1. 3872\n",
       "2. 3872\n",
       "\n",
       "\n"
      ],
      "text/plain": [
       "[1] 3872 3872"
      ]
     },
     "metadata": {},
     "output_type": "display_data"
    }
   ],
   "source": [
    "dim(eur_matrix)"
   ]
  },
  {
   "cell_type": "code",
   "execution_count": 25,
   "metadata": {},
   "outputs": [],
   "source": [
    "write.table(eur_matrix, \"paintor/MESDC2/Locus1.LD1\", col.names = F, row.names = F, quote = F, sep = \" \")"
   ]
  },
  {
   "cell_type": "code",
   "execution_count": 28,
   "metadata": {},
   "outputs": [
    {
     "data": {
      "text/html": [
       "14992384"
      ],
      "text/latex": [
       "14992384"
      ],
      "text/markdown": [
       "14992384"
      ],
      "text/plain": [
       "[1] 14992384"
      ]
     },
     "metadata": {},
     "output_type": "display_data"
    }
   ],
   "source": [
    "myFile <- file('paintor/MESDC2/amr.ld.bin', 'rb')\n",
    "amr_ld <- readBin(myFile, what=\"numeric\", n=num_var*num_var, size=8)\n",
    "close(myFile)\n",
    "length(amr_ld)\n",
    "amr_matrix <- matrix(amr_ld, nrow = num_var)\n",
    "write.table(amr_matrix, \"paintor/MESDC2/Locus1.LD2\", col.names = F, row.names = F, quote = F, sep = \" \")"
   ]
  },
  {
   "cell_type": "code",
   "execution_count": 29,
   "metadata": {},
   "outputs": [
    {
     "data": {
      "text/html": [
       "14992384"
      ],
      "text/latex": [
       "14992384"
      ],
      "text/markdown": [
       "14992384"
      ],
      "text/plain": [
       "[1] 14992384"
      ]
     },
     "metadata": {},
     "output_type": "display_data"
    }
   ],
   "source": [
    "myFile <- file('paintor/MESDC2/afr.ld.bin', 'rb')\n",
    "afr_ld <- readBin(myFile, what=\"numeric\", n=num_var*num_var, size=8)\n",
    "close(myFile)\n",
    "length(afr_ld)\n",
    "afr_matrix <- matrix(afr_ld, nrow = num_var)\n",
    "write.table(afr_matrix, \"paintor/MESDC2/Locus1.LD3\", col.names = F, row.names = F, quote = F, sep = \" \")"
   ]
  },
  {
   "cell_type": "markdown",
   "metadata": {},
   "source": [
    "### Input 3: annotation. Generate annotation file for the shared cis-variants\n",
    "- Cannot use annotation file generated for torus, which is for the variants in ALL geontype. Does not cover all shared variants between EUR, AMR, AFR\n",
    "- Generate annot from ENCODE Regulatory Build \n",
    "- Not including VEP annotations, haven't run VEP on EUR VCF\n",
    "- test running with `promoter_d` only"
   ]
  },
  {
   "cell_type": "code",
   "execution_count": 30,
   "metadata": {},
   "outputs": [
    {
     "data": {
      "text/html": [
       "<table class=\"dataframe\">\n",
       "<caption>A data.frame: 6 x 1</caption>\n",
       "<thead>\n",
       "\t<tr><th></th><th scope=col>RSID</th></tr>\n",
       "\t<tr><th></th><th scope=col>&lt;chr&gt;</th></tr>\n",
       "</thead>\n",
       "<tbody>\n",
       "\t<tr><th scope=row>1</th><td>rs72736580 </td></tr>\n",
       "\t<tr><th scope=row>2</th><td>rs143184731</td></tr>\n",
       "\t<tr><th scope=row>3</th><td>rs77161014 </td></tr>\n",
       "\t<tr><th scope=row>4</th><td>rs764585765</td></tr>\n",
       "\t<tr><th scope=row>5</th><td>rs62025524 </td></tr>\n",
       "\t<tr><th scope=row>6</th><td>rs62025525 </td></tr>\n",
       "</tbody>\n",
       "</table>\n"
      ],
      "text/latex": [
       "A data.frame: 6 x 1\n",
       "\\begin{tabular}{r|l}\n",
       "  & RSID\\\\\n",
       "  & <chr>\\\\\n",
       "\\hline\n",
       "\t1 & rs72736580 \\\\\n",
       "\t2 & rs143184731\\\\\n",
       "\t3 & rs77161014 \\\\\n",
       "\t4 & rs764585765\\\\\n",
       "\t5 & rs62025524 \\\\\n",
       "\t6 & rs62025525 \\\\\n",
       "\\end{tabular}\n"
      ],
      "text/markdown": [
       "\n",
       "A data.frame: 6 x 1\n",
       "\n",
       "| <!--/--> | RSID &lt;chr&gt; |\n",
       "|---|---|\n",
       "| 1 | rs72736580  |\n",
       "| 2 | rs143184731 |\n",
       "| 3 | rs77161014  |\n",
       "| 4 | rs764585765 |\n",
       "| 5 | rs62025524  |\n",
       "| 6 | rs62025525  |\n",
       "\n"
      ],
      "text/plain": [
       "  RSID       \n",
       "1 rs72736580 \n",
       "2 rs143184731\n",
       "3 rs77161014 \n",
       "4 rs764585765\n",
       "5 rs62025524 \n",
       "6 rs62025525 "
      ]
     },
     "metadata": {},
     "output_type": "display_data"
    }
   ],
   "source": [
    "head(id)"
   ]
  },
  {
   "cell_type": "code",
   "execution_count": 33,
   "metadata": {},
   "outputs": [
    {
     "data": {
      "text/html": [
       "<table class=\"dataframe\">\n",
       "<caption>A data.frame: 6 x 7</caption>\n",
       "<thead>\n",
       "\t<tr><th></th><th scope=col>SNP</th><th scope=col>TF_binding_site_d</th><th scope=col>promoter_flanking_region_d</th><th scope=col>promoter_d</th><th scope=col>open_chromatin_region_d</th><th scope=col>enhancer_d</th><th scope=col>CTCF_binding_site_d</th></tr>\n",
       "\t<tr><th></th><th scope=col>&lt;chr&gt;</th><th scope=col>&lt;int&gt;</th><th scope=col>&lt;int&gt;</th><th scope=col>&lt;int&gt;</th><th scope=col>&lt;int&gt;</th><th scope=col>&lt;int&gt;</th><th scope=col>&lt;int&gt;</th></tr>\n",
       "</thead>\n",
       "<tbody>\n",
       "\t<tr><th scope=row>1</th><td>rs61769339 </td><td>0</td><td>1</td><td>0</td><td>0</td><td>0</td><td>0</td></tr>\n",
       "\t<tr><th scope=row>2</th><td>rs12238997 </td><td>0</td><td>0</td><td>0</td><td>0</td><td>0</td><td>0</td></tr>\n",
       "\t<tr><th scope=row>3</th><td>rs61769351 </td><td>0</td><td>0</td><td>0</td><td>0</td><td>0</td><td>0</td></tr>\n",
       "\t<tr><th scope=row>4</th><td>rs142559957</td><td>0</td><td>0</td><td>0</td><td>0</td><td>0</td><td>0</td></tr>\n",
       "\t<tr><th scope=row>5</th><td>rs58276399 </td><td>0</td><td>0</td><td>0</td><td>0</td><td>0</td><td>0</td></tr>\n",
       "\t<tr><th scope=row>6</th><td>rs61770163 </td><td>0</td><td>0</td><td>0</td><td>0</td><td>0</td><td>0</td></tr>\n",
       "</tbody>\n",
       "</table>\n"
      ],
      "text/latex": [
       "A data.frame: 6 x 7\n",
       "\\begin{tabular}{r|lllllll}\n",
       "  & SNP & TF\\_binding\\_site\\_d & promoter\\_flanking\\_region\\_d & promoter\\_d & open\\_chromatin\\_region\\_d & enhancer\\_d & CTCF\\_binding\\_site\\_d\\\\\n",
       "  & <chr> & <int> & <int> & <int> & <int> & <int> & <int>\\\\\n",
       "\\hline\n",
       "\t1 & rs61769339  & 0 & 1 & 0 & 0 & 0 & 0\\\\\n",
       "\t2 & rs12238997  & 0 & 0 & 0 & 0 & 0 & 0\\\\\n",
       "\t3 & rs61769351  & 0 & 0 & 0 & 0 & 0 & 0\\\\\n",
       "\t4 & rs142559957 & 0 & 0 & 0 & 0 & 0 & 0\\\\\n",
       "\t5 & rs58276399  & 0 & 0 & 0 & 0 & 0 & 0\\\\\n",
       "\t6 & rs61770163  & 0 & 0 & 0 & 0 & 0 & 0\\\\\n",
       "\\end{tabular}\n"
      ],
      "text/markdown": [
       "\n",
       "A data.frame: 6 x 7\n",
       "\n",
       "| <!--/--> | SNP &lt;chr&gt; | TF_binding_site_d &lt;int&gt; | promoter_flanking_region_d &lt;int&gt; | promoter_d &lt;int&gt; | open_chromatin_region_d &lt;int&gt; | enhancer_d &lt;int&gt; | CTCF_binding_site_d &lt;int&gt; |\n",
       "|---|---|---|---|---|---|---|---|\n",
       "| 1 | rs61769339  | 0 | 1 | 0 | 0 | 0 | 0 |\n",
       "| 2 | rs12238997  | 0 | 0 | 0 | 0 | 0 | 0 |\n",
       "| 3 | rs61769351  | 0 | 0 | 0 | 0 | 0 | 0 |\n",
       "| 4 | rs142559957 | 0 | 0 | 0 | 0 | 0 | 0 |\n",
       "| 5 | rs58276399  | 0 | 0 | 0 | 0 | 0 | 0 |\n",
       "| 6 | rs61770163  | 0 | 0 | 0 | 0 | 0 | 0 |\n",
       "\n"
      ],
      "text/plain": [
       "  SNP         TF_binding_site_d promoter_flanking_region_d promoter_d\n",
       "1 rs61769339  0                 1                          0         \n",
       "2 rs12238997  0                 0                          0         \n",
       "3 rs61769351  0                 0                          0         \n",
       "4 rs142559957 0                 0                          0         \n",
       "5 rs58276399  0                 0                          0         \n",
       "6 rs61770163  0                 0                          0         \n",
       "  open_chromatin_region_d enhancer_d CTCF_binding_site_d\n",
       "1 0                       0          0                  \n",
       "2 0                       0          0                  \n",
       "3 0                       0          0                  \n",
       "4 0                       0          0                  \n",
       "5 0                       0          0                  \n",
       "6 0                       0          0                  "
      ]
     },
     "metadata": {},
     "output_type": "display_data"
    }
   ],
   "source": [
    "annot <- fread(\"../genotype/all_data/isec_R2_greater_than_3/ancestry/annot/eur_variant_annot.txt.gz\", data.table = F)\n",
    "head(annot)"
   ]
  },
  {
   "cell_type": "code",
   "execution_count": 34,
   "metadata": {},
   "outputs": [
    {
     "data": {
      "text/html": [
       "<style>\n",
       ".list-inline {list-style: none; margin:0; padding: 0}\n",
       ".list-inline>li {display: inline-block}\n",
       ".list-inline>li:not(:last-child)::after {content: \"\\00b7\"; padding: 0 .5ex}\n",
       "</style>\n",
       "<ol class=list-inline><li>3872</li><li>7</li></ol>\n"
      ],
      "text/latex": [
       "\\begin{enumerate*}\n",
       "\\item 3872\n",
       "\\item 7\n",
       "\\end{enumerate*}\n"
      ],
      "text/markdown": [
       "1. 3872\n",
       "2. 7\n",
       "\n",
       "\n"
      ],
      "text/plain": [
       "[1] 3872    7"
      ]
     },
     "metadata": {},
     "output_type": "display_data"
    }
   ],
   "source": [
    "id <- id %>% left_join(annot, by=c(\"RSID\"=\"SNP\"))\n",
    "dim(id)"
   ]
  },
  {
   "cell_type": "code",
   "execution_count": 35,
   "metadata": {},
   "outputs": [],
   "source": [
    "locus.id <- id %>% select(-1)"
   ]
  },
  {
   "cell_type": "code",
   "execution_count": 36,
   "metadata": {},
   "outputs": [],
   "source": [
    "write.table(locus.id, \"paintor/MESDC2/Locus1.annotations\", col.names = T, row.names = F, quote = F, sep = \" \")"
   ]
  },
  {
   "cell_type": "code",
   "execution_count": 41,
   "metadata": {},
   "outputs": [
    {
     "data": {
      "text/html": [
       "<style>\n",
       ".list-inline {list-style: none; margin:0; padding: 0}\n",
       ".list-inline>li {display: inline-block}\n",
       ".list-inline>li:not(:last-child)::after {content: \"\\00b7\"; padding: 0 .5ex}\n",
       "</style>\n",
       "<ol class=list-inline><li>'TF_binding_site_d'</li><li>'promoter_flanking_region_d'</li><li>'promoter_d'</li><li>'open_chromatin_region_d'</li><li>'enhancer_d'</li><li>'CTCF_binding_site_d'</li></ol>\n"
      ],
      "text/latex": [
       "\\begin{enumerate*}\n",
       "\\item 'TF\\_binding\\_site\\_d'\n",
       "\\item 'promoter\\_flanking\\_region\\_d'\n",
       "\\item 'promoter\\_d'\n",
       "\\item 'open\\_chromatin\\_region\\_d'\n",
       "\\item 'enhancer\\_d'\n",
       "\\item 'CTCF\\_binding\\_site\\_d'\n",
       "\\end{enumerate*}\n"
      ],
      "text/markdown": [
       "1. 'TF_binding_site_d'\n",
       "2. 'promoter_flanking_region_d'\n",
       "3. 'promoter_d'\n",
       "4. 'open_chromatin_region_d'\n",
       "5. 'enhancer_d'\n",
       "6. 'CTCF_binding_site_d'\n",
       "\n",
       "\n"
      ],
      "text/plain": [
       "[1] \"TF_binding_site_d\"          \"promoter_flanking_region_d\"\n",
       "[3] \"promoter_d\"                 \"open_chromatin_region_d\"   \n",
       "[5] \"enhancer_d\"                 \"CTCF_binding_site_d\"       "
      ]
     },
     "metadata": {},
     "output_type": "display_data"
    }
   ],
   "source": [
    "colnames(locus.id)"
   ]
  },
  {
   "cell_type": "markdown",
   "metadata": {},
   "source": [
    "### PAINTOR results\n",
    "- `--enumerate 2` maximum number of causal is 2\n",
    "- rs9806417/chr15_81279136_G_A is the target SNP in locuszoom plot. Lead eQTL and fine-mapped eQTL in AFR, in CS of AMR and EUR\n",
    "- PAINTOR result has prioritized this SNP\n",
    "- ALL susie result did not!"
   ]
  },
  {
   "cell_type": "code",
   "execution_count": 3,
   "metadata": {},
   "outputs": [],
   "source": [
    "res <- fread(\"paintor/MESDC2/Locus1.results\", data.table = F)"
   ]
  },
  {
   "cell_type": "code",
   "execution_count": 4,
   "metadata": {},
   "outputs": [
    {
     "data": {
      "text/html": [
       "<table class=\"dataframe\">\n",
       "<caption>A data.frame: 6 x 5</caption>\n",
       "<thead>\n",
       "\t<tr><th></th><th scope=col>RSID</th><th scope=col>ZSCORE.P1</th><th scope=col>ZSCORE.P2</th><th scope=col>ZSCORE.P3</th><th scope=col>Posterior_Prob</th></tr>\n",
       "\t<tr><th></th><th scope=col>&lt;chr&gt;</th><th scope=col>&lt;dbl&gt;</th><th scope=col>&lt;dbl&gt;</th><th scope=col>&lt;dbl&gt;</th><th scope=col>&lt;dbl&gt;</th></tr>\n",
       "</thead>\n",
       "<tbody>\n",
       "\t<tr><th scope=row>1</th><td>rs72736580 </td><td>-0.4240258</td><td>0.09589873</td><td>-0.6854199</td><td>2.97448e-12</td></tr>\n",
       "\t<tr><th scope=row>2</th><td>rs143184731</td><td> 0.7722945</td><td>0.22914528</td><td> 0.1217576</td><td>2.70088e-12</td></tr>\n",
       "\t<tr><th scope=row>3</th><td>rs77161014 </td><td> 0.7177637</td><td>1.09891304</td><td> 0.1139985</td><td>4.25359e-12</td></tr>\n",
       "\t<tr><th scope=row>4</th><td>rs764585765</td><td> 0.8311268</td><td>0.38527592</td><td> 0.3447398</td><td>2.16276e-20</td></tr>\n",
       "\t<tr><th scope=row>5</th><td>rs62025524 </td><td> 0.7834788</td><td>0.73685423</td><td>-0.5924758</td><td>4.24950e-12</td></tr>\n",
       "\t<tr><th scope=row>6</th><td>rs62025525 </td><td> 0.2904735</td><td>1.41573195</td><td>-0.2156341</td><td>5.81782e-12</td></tr>\n",
       "</tbody>\n",
       "</table>\n"
      ],
      "text/latex": [
       "A data.frame: 6 x 5\n",
       "\\begin{tabular}{r|lllll}\n",
       "  & RSID & ZSCORE.P1 & ZSCORE.P2 & ZSCORE.P3 & Posterior\\_Prob\\\\\n",
       "  & <chr> & <dbl> & <dbl> & <dbl> & <dbl>\\\\\n",
       "\\hline\n",
       "\t1 & rs72736580  & -0.4240258 & 0.09589873 & -0.6854199 & 2.97448e-12\\\\\n",
       "\t2 & rs143184731 &  0.7722945 & 0.22914528 &  0.1217576 & 2.70088e-12\\\\\n",
       "\t3 & rs77161014  &  0.7177637 & 1.09891304 &  0.1139985 & 4.25359e-12\\\\\n",
       "\t4 & rs764585765 &  0.8311268 & 0.38527592 &  0.3447398 & 2.16276e-20\\\\\n",
       "\t5 & rs62025524  &  0.7834788 & 0.73685423 & -0.5924758 & 4.24950e-12\\\\\n",
       "\t6 & rs62025525  &  0.2904735 & 1.41573195 & -0.2156341 & 5.81782e-12\\\\\n",
       "\\end{tabular}\n"
      ],
      "text/markdown": [
       "\n",
       "A data.frame: 6 x 5\n",
       "\n",
       "| <!--/--> | RSID &lt;chr&gt; | ZSCORE.P1 &lt;dbl&gt; | ZSCORE.P2 &lt;dbl&gt; | ZSCORE.P3 &lt;dbl&gt; | Posterior_Prob &lt;dbl&gt; |\n",
       "|---|---|---|---|---|---|\n",
       "| 1 | rs72736580  | -0.4240258 | 0.09589873 | -0.6854199 | 2.97448e-12 |\n",
       "| 2 | rs143184731 |  0.7722945 | 0.22914528 |  0.1217576 | 2.70088e-12 |\n",
       "| 3 | rs77161014  |  0.7177637 | 1.09891304 |  0.1139985 | 4.25359e-12 |\n",
       "| 4 | rs764585765 |  0.8311268 | 0.38527592 |  0.3447398 | 2.16276e-20 |\n",
       "| 5 | rs62025524  |  0.7834788 | 0.73685423 | -0.5924758 | 4.24950e-12 |\n",
       "| 6 | rs62025525  |  0.2904735 | 1.41573195 | -0.2156341 | 5.81782e-12 |\n",
       "\n"
      ],
      "text/plain": [
       "  RSID        ZSCORE.P1  ZSCORE.P2  ZSCORE.P3  Posterior_Prob\n",
       "1 rs72736580  -0.4240258 0.09589873 -0.6854199 2.97448e-12   \n",
       "2 rs143184731  0.7722945 0.22914528  0.1217576 2.70088e-12   \n",
       "3 rs77161014   0.7177637 1.09891304  0.1139985 4.25359e-12   \n",
       "4 rs764585765  0.8311268 0.38527592  0.3447398 2.16276e-20   \n",
       "5 rs62025524   0.7834788 0.73685423 -0.5924758 4.24950e-12   \n",
       "6 rs62025525   0.2904735 1.41573195 -0.2156341 5.81782e-12   "
      ]
     },
     "metadata": {},
     "output_type": "display_data"
    }
   ],
   "source": [
    "head(res)"
   ]
  },
  {
   "cell_type": "code",
   "execution_count": 6,
   "metadata": {},
   "outputs": [
    {
     "data": {
      "text/html": [
       "<table class=\"dataframe\">\n",
       "<caption>A data.frame: 1 x 5</caption>\n",
       "<thead>\n",
       "\t<tr><th scope=col>RSID</th><th scope=col>ZSCORE.P1</th><th scope=col>ZSCORE.P2</th><th scope=col>ZSCORE.P3</th><th scope=col>Posterior_Prob</th></tr>\n",
       "\t<tr><th scope=col>&lt;chr&gt;</th><th scope=col>&lt;dbl&gt;</th><th scope=col>&lt;dbl&gt;</th><th scope=col>&lt;dbl&gt;</th><th scope=col>&lt;dbl&gt;</th></tr>\n",
       "</thead>\n",
       "<tbody>\n",
       "\t<tr><td>rs9806417</td><td>4.420496</td><td>5.026723</td><td>4.949997</td><td>0.996548</td></tr>\n",
       "</tbody>\n",
       "</table>\n"
      ],
      "text/latex": [
       "A data.frame: 1 x 5\n",
       "\\begin{tabular}{lllll}\n",
       " RSID & ZSCORE.P1 & ZSCORE.P2 & ZSCORE.P3 & Posterior\\_Prob\\\\\n",
       " <chr> & <dbl> & <dbl> & <dbl> & <dbl>\\\\\n",
       "\\hline\n",
       "\t rs9806417 & 4.420496 & 5.026723 & 4.949997 & 0.996548\\\\\n",
       "\\end{tabular}\n"
      ],
      "text/markdown": [
       "\n",
       "A data.frame: 1 x 5\n",
       "\n",
       "| RSID &lt;chr&gt; | ZSCORE.P1 &lt;dbl&gt; | ZSCORE.P2 &lt;dbl&gt; | ZSCORE.P3 &lt;dbl&gt; | Posterior_Prob &lt;dbl&gt; |\n",
       "|---|---|---|---|---|\n",
       "| rs9806417 | 4.420496 | 5.026723 | 4.949997 | 0.996548 |\n",
       "\n"
      ],
      "text/plain": [
       "  RSID      ZSCORE.P1 ZSCORE.P2 ZSCORE.P3 Posterior_Prob\n",
       "1 rs9806417 4.420496  5.026723  4.949997  0.996548      "
      ]
     },
     "metadata": {},
     "output_type": "display_data"
    }
   ],
   "source": [
    "res %>% filter(RSID == \"rs9806417\")"
   ]
  },
  {
   "cell_type": "code",
   "execution_count": 10,
   "metadata": {},
   "outputs": [
    {
     "data": {
      "text/html": [
       "<table class=\"dataframe\">\n",
       "<caption>A data.frame: 6 x 5</caption>\n",
       "<thead>\n",
       "\t<tr><th></th><th scope=col>RSID</th><th scope=col>ZSCORE.P1</th><th scope=col>ZSCORE.P2</th><th scope=col>ZSCORE.P3</th><th scope=col>Posterior_Prob</th></tr>\n",
       "\t<tr><th></th><th scope=col>&lt;chr&gt;</th><th scope=col>&lt;dbl&gt;</th><th scope=col>&lt;dbl&gt;</th><th scope=col>&lt;dbl&gt;</th><th scope=col>&lt;dbl&gt;</th></tr>\n",
       "</thead>\n",
       "<tbody>\n",
       "\t<tr><th scope=row>2118</th><td>rs11419364    </td><td>4.038905</td><td>4.815978</td><td>-3.552792</td><td>9.98489e-01</td></tr>\n",
       "\t<tr><th scope=row>2106</th><td>rs9806417     </td><td>4.420496</td><td>5.026723</td><td> 4.949997</td><td>9.96548e-01</td></tr>\n",
       "\t<tr><th scope=row>2072</th><td>chr15:80976374</td><td>4.261307</td><td>5.026723</td><td> 4.317299</td><td>1.91323e-03</td></tr>\n",
       "\t<tr><th scope=row>2070</th><td>rs8036618     </td><td>4.088164</td><td>5.026723</td><td> 4.342572</td><td>1.52684e-03</td></tr>\n",
       "\t<tr><th scope=row>2171</th><td>rs34354527    </td><td>3.580757</td><td>4.747460</td><td>-3.855291</td><td>1.50885e-03</td></tr>\n",
       "\t<tr><th scope=row>2143</th><td>rs56246246    </td><td>4.478802</td><td>5.063729</td><td> 4.154549</td><td>9.50162e-06</td></tr>\n",
       "</tbody>\n",
       "</table>\n"
      ],
      "text/latex": [
       "A data.frame: 6 x 5\n",
       "\\begin{tabular}{r|lllll}\n",
       "  & RSID & ZSCORE.P1 & ZSCORE.P2 & ZSCORE.P3 & Posterior\\_Prob\\\\\n",
       "  & <chr> & <dbl> & <dbl> & <dbl> & <dbl>\\\\\n",
       "\\hline\n",
       "\t2118 & rs11419364     & 4.038905 & 4.815978 & -3.552792 & 9.98489e-01\\\\\n",
       "\t2106 & rs9806417      & 4.420496 & 5.026723 &  4.949997 & 9.96548e-01\\\\\n",
       "\t2072 & chr15:80976374 & 4.261307 & 5.026723 &  4.317299 & 1.91323e-03\\\\\n",
       "\t2070 & rs8036618      & 4.088164 & 5.026723 &  4.342572 & 1.52684e-03\\\\\n",
       "\t2171 & rs34354527     & 3.580757 & 4.747460 & -3.855291 & 1.50885e-03\\\\\n",
       "\t2143 & rs56246246     & 4.478802 & 5.063729 &  4.154549 & 9.50162e-06\\\\\n",
       "\\end{tabular}\n"
      ],
      "text/markdown": [
       "\n",
       "A data.frame: 6 x 5\n",
       "\n",
       "| <!--/--> | RSID &lt;chr&gt; | ZSCORE.P1 &lt;dbl&gt; | ZSCORE.P2 &lt;dbl&gt; | ZSCORE.P3 &lt;dbl&gt; | Posterior_Prob &lt;dbl&gt; |\n",
       "|---|---|---|---|---|---|\n",
       "| 2118 | rs11419364     | 4.038905 | 4.815978 | -3.552792 | 9.98489e-01 |\n",
       "| 2106 | rs9806417      | 4.420496 | 5.026723 |  4.949997 | 9.96548e-01 |\n",
       "| 2072 | chr15:80976374 | 4.261307 | 5.026723 |  4.317299 | 1.91323e-03 |\n",
       "| 2070 | rs8036618      | 4.088164 | 5.026723 |  4.342572 | 1.52684e-03 |\n",
       "| 2171 | rs34354527     | 3.580757 | 4.747460 | -3.855291 | 1.50885e-03 |\n",
       "| 2143 | rs56246246     | 4.478802 | 5.063729 |  4.154549 | 9.50162e-06 |\n",
       "\n"
      ],
      "text/plain": [
       "     RSID           ZSCORE.P1 ZSCORE.P2 ZSCORE.P3 Posterior_Prob\n",
       "2118 rs11419364     4.038905  4.815978  -3.552792 9.98489e-01   \n",
       "2106 rs9806417      4.420496  5.026723   4.949997 9.96548e-01   \n",
       "2072 chr15:80976374 4.261307  5.026723   4.317299 1.91323e-03   \n",
       "2070 rs8036618      4.088164  5.026723   4.342572 1.52684e-03   \n",
       "2171 rs34354527     3.580757  4.747460  -3.855291 1.50885e-03   \n",
       "2143 rs56246246     4.478802  5.063729   4.154549 9.50162e-06   "
      ]
     },
     "metadata": {},
     "output_type": "display_data"
    }
   ],
   "source": [
    "head(res[order(res$Posterior_Prob, decreasing = TRUE),])"
   ]
  },
  {
   "cell_type": "markdown",
   "metadata": {},
   "source": [
    "### SuSiE results: ALL, and ancestry-specific"
   ]
  },
  {
   "cell_type": "code",
   "execution_count": 11,
   "metadata": {},
   "outputs": [],
   "source": [
    "susie <- fread(\"results/susie_finemap/mixed_ciseqtl_90hcp_perm_purity_filtered.txt.gz\", data.table = F)"
   ]
  },
  {
   "cell_type": "code",
   "execution_count": 13,
   "metadata": {},
   "outputs": [
    {
     "data": {
      "text/html": [
       "<table class=\"dataframe\">\n",
       "<caption>A data.frame: 9 x 17</caption>\n",
       "<thead>\n",
       "\t<tr><th scope=col>phenotype_id</th><th scope=col>variant_id</th><th scope=col>chr</th><th scope=col>pos</th><th scope=col>ref</th><th scope=col>alt</th><th scope=col>cs_id</th><th scope=col>cs_index</th><th scope=col>finemapped_region</th><th scope=col>pip</th><th scope=col>z</th><th scope=col>cs_min_r2</th><th scope=col>cs_avg_r2</th><th scope=col>cs_size</th><th scope=col>posterior_mean</th><th scope=col>posterior_sd</th><th scope=col>cs_log10bf</th></tr>\n",
       "\t<tr><th scope=col>&lt;chr&gt;</th><th scope=col>&lt;chr&gt;</th><th scope=col>&lt;int&gt;</th><th scope=col>&lt;int&gt;</th><th scope=col>&lt;chr&gt;</th><th scope=col>&lt;chr&gt;</th><th scope=col>&lt;chr&gt;</th><th scope=col>&lt;chr&gt;</th><th scope=col>&lt;chr&gt;</th><th scope=col>&lt;dbl&gt;</th><th scope=col>&lt;dbl&gt;</th><th scope=col>&lt;dbl&gt;</th><th scope=col>&lt;dbl&gt;</th><th scope=col>&lt;int&gt;</th><th scope=col>&lt;dbl&gt;</th><th scope=col>&lt;dbl&gt;</th><th scope=col>&lt;dbl&gt;</th></tr>\n",
       "</thead>\n",
       "<tbody>\n",
       "\t<tr><td>ENSG00000117899</td><td>chr15_81261949_G_A</td><td>15</td><td>81261949</td><td>G</td><td>A</td><td>ENSG00000117899_L1</td><td>L1</td><td>chr15:80282168-82282168</td><td>0.06744927</td><td> 9.912912</td><td>0.8026966</td><td>0.8949532</td><td>9</td><td>0.020356832</td><td>0.07676665</td><td>17.66454</td></tr>\n",
       "\t<tr><td>ENSG00000117899</td><td>chr15_81263140_T_C</td><td>15</td><td>81263140</td><td>T</td><td>C</td><td>ENSG00000117899_L1</td><td>L1</td><td>chr15:80282168-82282168</td><td>0.07462896</td><td> 9.924487</td><td>0.8026966</td><td>0.8949532</td><td>9</td><td>0.022499592</td><td>0.08028691</td><td>17.66454</td></tr>\n",
       "\t<tr><td>ENSG00000117899</td><td>chr15_81263436_G_C</td><td>15</td><td>81263436</td><td>G</td><td>C</td><td>ENSG00000117899_L1</td><td>L1</td><td>chr15:80282168-82282168</td><td>0.25929360</td><td>10.070300</td><td>0.8026966</td><td>0.8949532</td><td>9</td><td>0.080041867</td><td>0.13649396</td><td>17.66454</td></tr>\n",
       "\t<tr><td>ENSG00000117899</td><td>chr15_81263637_C_T</td><td>15</td><td>81263637</td><td>C</td><td>T</td><td>ENSG00000117899_L1</td><td>L1</td><td>chr15:80282168-82282168</td><td>0.23455270</td><td>10.059047</td><td>0.8026966</td><td>0.8949532</td><td>9</td><td>0.072571800</td><td>0.13227880</td><td>17.66454</td></tr>\n",
       "\t<tr><td>ENSG00000117899</td><td>chr15_81285875_C_T</td><td>15</td><td>81285875</td><td>C</td><td>T</td><td>ENSG00000117899_L1</td><td>L1</td><td>chr15:80282168-82282168</td><td>0.03840343</td><td> 9.842851</td><td>0.8026966</td><td>0.8949532</td><td>9</td><td>0.011112344</td><td>0.05679582</td><td>17.66454</td></tr>\n",
       "\t<tr><td>ENSG00000117899</td><td>chr15_81286252_T_G</td><td>15</td><td>81286252</td><td>T</td><td>G</td><td>ENSG00000117899_L1</td><td>L1</td><td>chr15:80282168-82282168</td><td>0.03473821</td><td> 9.830070</td><td>0.8026966</td><td>0.8949532</td><td>9</td><td>0.009999753</td><td>0.05393040</td><td>17.66454</td></tr>\n",
       "\t<tr><td>ENSG00000117899</td><td>chr15_81289272_T_C</td><td>15</td><td>81289272</td><td>T</td><td>C</td><td>ENSG00000117899_L1</td><td>L1</td><td>chr15:80282168-82282168</td><td>0.08442346</td><td> 9.936038</td><td>0.8026966</td><td>0.8949532</td><td>9</td><td>0.024643090</td><td>0.08218883</td><td>17.66454</td></tr>\n",
       "\t<tr><td>ENSG00000117899</td><td>chr15_81290783_T_C</td><td>15</td><td>81290783</td><td>T</td><td>C</td><td>ENSG00000117899_L1</td><td>L1</td><td>chr15:80282168-82282168</td><td>0.09486683</td><td> 9.946820</td><td>0.8026966</td><td>0.8949532</td><td>9</td><td>0.028144996</td><td>0.08798305</td><td>17.66454</td></tr>\n",
       "\t<tr><td>ENSG00000117899</td><td>chr15_81292762_G_A</td><td>15</td><td>81292762</td><td>G</td><td>A</td><td>ENSG00000117899_L1</td><td>L1</td><td>chr15:80282168-82282168</td><td>0.08319193</td><td> 9.931144</td><td>0.8026966</td><td>0.8949532</td><td>9</td><td>0.024529469</td><td>0.08247539</td><td>17.66454</td></tr>\n",
       "</tbody>\n",
       "</table>\n"
      ],
      "text/latex": [
       "A data.frame: 9 x 17\n",
       "\\begin{tabular}{lllllllllllllllll}\n",
       " phenotype\\_id & variant\\_id & chr & pos & ref & alt & cs\\_id & cs\\_index & finemapped\\_region & pip & z & cs\\_min\\_r2 & cs\\_avg\\_r2 & cs\\_size & posterior\\_mean & posterior\\_sd & cs\\_log10bf\\\\\n",
       " <chr> & <chr> & <int> & <int> & <chr> & <chr> & <chr> & <chr> & <chr> & <dbl> & <dbl> & <dbl> & <dbl> & <int> & <dbl> & <dbl> & <dbl>\\\\\n",
       "\\hline\n",
       "\t ENSG00000117899 & chr15\\_81261949\\_G\\_A & 15 & 81261949 & G & A & ENSG00000117899\\_L1 & L1 & chr15:80282168-82282168 & 0.06744927 &  9.912912 & 0.8026966 & 0.8949532 & 9 & 0.020356832 & 0.07676665 & 17.66454\\\\\n",
       "\t ENSG00000117899 & chr15\\_81263140\\_T\\_C & 15 & 81263140 & T & C & ENSG00000117899\\_L1 & L1 & chr15:80282168-82282168 & 0.07462896 &  9.924487 & 0.8026966 & 0.8949532 & 9 & 0.022499592 & 0.08028691 & 17.66454\\\\\n",
       "\t ENSG00000117899 & chr15\\_81263436\\_G\\_C & 15 & 81263436 & G & C & ENSG00000117899\\_L1 & L1 & chr15:80282168-82282168 & 0.25929360 & 10.070300 & 0.8026966 & 0.8949532 & 9 & 0.080041867 & 0.13649396 & 17.66454\\\\\n",
       "\t ENSG00000117899 & chr15\\_81263637\\_C\\_T & 15 & 81263637 & C & T & ENSG00000117899\\_L1 & L1 & chr15:80282168-82282168 & 0.23455270 & 10.059047 & 0.8026966 & 0.8949532 & 9 & 0.072571800 & 0.13227880 & 17.66454\\\\\n",
       "\t ENSG00000117899 & chr15\\_81285875\\_C\\_T & 15 & 81285875 & C & T & ENSG00000117899\\_L1 & L1 & chr15:80282168-82282168 & 0.03840343 &  9.842851 & 0.8026966 & 0.8949532 & 9 & 0.011112344 & 0.05679582 & 17.66454\\\\\n",
       "\t ENSG00000117899 & chr15\\_81286252\\_T\\_G & 15 & 81286252 & T & G & ENSG00000117899\\_L1 & L1 & chr15:80282168-82282168 & 0.03473821 &  9.830070 & 0.8026966 & 0.8949532 & 9 & 0.009999753 & 0.05393040 & 17.66454\\\\\n",
       "\t ENSG00000117899 & chr15\\_81289272\\_T\\_C & 15 & 81289272 & T & C & ENSG00000117899\\_L1 & L1 & chr15:80282168-82282168 & 0.08442346 &  9.936038 & 0.8026966 & 0.8949532 & 9 & 0.024643090 & 0.08218883 & 17.66454\\\\\n",
       "\t ENSG00000117899 & chr15\\_81290783\\_T\\_C & 15 & 81290783 & T & C & ENSG00000117899\\_L1 & L1 & chr15:80282168-82282168 & 0.09486683 &  9.946820 & 0.8026966 & 0.8949532 & 9 & 0.028144996 & 0.08798305 & 17.66454\\\\\n",
       "\t ENSG00000117899 & chr15\\_81292762\\_G\\_A & 15 & 81292762 & G & A & ENSG00000117899\\_L1 & L1 & chr15:80282168-82282168 & 0.08319193 &  9.931144 & 0.8026966 & 0.8949532 & 9 & 0.024529469 & 0.08247539 & 17.66454\\\\\n",
       "\\end{tabular}\n"
      ],
      "text/markdown": [
       "\n",
       "A data.frame: 9 x 17\n",
       "\n",
       "| phenotype_id &lt;chr&gt; | variant_id &lt;chr&gt; | chr &lt;int&gt; | pos &lt;int&gt; | ref &lt;chr&gt; | alt &lt;chr&gt; | cs_id &lt;chr&gt; | cs_index &lt;chr&gt; | finemapped_region &lt;chr&gt; | pip &lt;dbl&gt; | z &lt;dbl&gt; | cs_min_r2 &lt;dbl&gt; | cs_avg_r2 &lt;dbl&gt; | cs_size &lt;int&gt; | posterior_mean &lt;dbl&gt; | posterior_sd &lt;dbl&gt; | cs_log10bf &lt;dbl&gt; |\n",
       "|---|---|---|---|---|---|---|---|---|---|---|---|---|---|---|---|---|\n",
       "| ENSG00000117899 | chr15_81261949_G_A | 15 | 81261949 | G | A | ENSG00000117899_L1 | L1 | chr15:80282168-82282168 | 0.06744927 |  9.912912 | 0.8026966 | 0.8949532 | 9 | 0.020356832 | 0.07676665 | 17.66454 |\n",
       "| ENSG00000117899 | chr15_81263140_T_C | 15 | 81263140 | T | C | ENSG00000117899_L1 | L1 | chr15:80282168-82282168 | 0.07462896 |  9.924487 | 0.8026966 | 0.8949532 | 9 | 0.022499592 | 0.08028691 | 17.66454 |\n",
       "| ENSG00000117899 | chr15_81263436_G_C | 15 | 81263436 | G | C | ENSG00000117899_L1 | L1 | chr15:80282168-82282168 | 0.25929360 | 10.070300 | 0.8026966 | 0.8949532 | 9 | 0.080041867 | 0.13649396 | 17.66454 |\n",
       "| ENSG00000117899 | chr15_81263637_C_T | 15 | 81263637 | C | T | ENSG00000117899_L1 | L1 | chr15:80282168-82282168 | 0.23455270 | 10.059047 | 0.8026966 | 0.8949532 | 9 | 0.072571800 | 0.13227880 | 17.66454 |\n",
       "| ENSG00000117899 | chr15_81285875_C_T | 15 | 81285875 | C | T | ENSG00000117899_L1 | L1 | chr15:80282168-82282168 | 0.03840343 |  9.842851 | 0.8026966 | 0.8949532 | 9 | 0.011112344 | 0.05679582 | 17.66454 |\n",
       "| ENSG00000117899 | chr15_81286252_T_G | 15 | 81286252 | T | G | ENSG00000117899_L1 | L1 | chr15:80282168-82282168 | 0.03473821 |  9.830070 | 0.8026966 | 0.8949532 | 9 | 0.009999753 | 0.05393040 | 17.66454 |\n",
       "| ENSG00000117899 | chr15_81289272_T_C | 15 | 81289272 | T | C | ENSG00000117899_L1 | L1 | chr15:80282168-82282168 | 0.08442346 |  9.936038 | 0.8026966 | 0.8949532 | 9 | 0.024643090 | 0.08218883 | 17.66454 |\n",
       "| ENSG00000117899 | chr15_81290783_T_C | 15 | 81290783 | T | C | ENSG00000117899_L1 | L1 | chr15:80282168-82282168 | 0.09486683 |  9.946820 | 0.8026966 | 0.8949532 | 9 | 0.028144996 | 0.08798305 | 17.66454 |\n",
       "| ENSG00000117899 | chr15_81292762_G_A | 15 | 81292762 | G | A | ENSG00000117899_L1 | L1 | chr15:80282168-82282168 | 0.08319193 |  9.931144 | 0.8026966 | 0.8949532 | 9 | 0.024529469 | 0.08247539 | 17.66454 |\n",
       "\n"
      ],
      "text/plain": [
       "  phenotype_id    variant_id         chr pos      ref alt cs_id             \n",
       "1 ENSG00000117899 chr15_81261949_G_A 15  81261949 G   A   ENSG00000117899_L1\n",
       "2 ENSG00000117899 chr15_81263140_T_C 15  81263140 T   C   ENSG00000117899_L1\n",
       "3 ENSG00000117899 chr15_81263436_G_C 15  81263436 G   C   ENSG00000117899_L1\n",
       "4 ENSG00000117899 chr15_81263637_C_T 15  81263637 C   T   ENSG00000117899_L1\n",
       "5 ENSG00000117899 chr15_81285875_C_T 15  81285875 C   T   ENSG00000117899_L1\n",
       "6 ENSG00000117899 chr15_81286252_T_G 15  81286252 T   G   ENSG00000117899_L1\n",
       "7 ENSG00000117899 chr15_81289272_T_C 15  81289272 T   C   ENSG00000117899_L1\n",
       "8 ENSG00000117899 chr15_81290783_T_C 15  81290783 T   C   ENSG00000117899_L1\n",
       "9 ENSG00000117899 chr15_81292762_G_A 15  81292762 G   A   ENSG00000117899_L1\n",
       "  cs_index finemapped_region       pip        z         cs_min_r2 cs_avg_r2\n",
       "1 L1       chr15:80282168-82282168 0.06744927  9.912912 0.8026966 0.8949532\n",
       "2 L1       chr15:80282168-82282168 0.07462896  9.924487 0.8026966 0.8949532\n",
       "3 L1       chr15:80282168-82282168 0.25929360 10.070300 0.8026966 0.8949532\n",
       "4 L1       chr15:80282168-82282168 0.23455270 10.059047 0.8026966 0.8949532\n",
       "5 L1       chr15:80282168-82282168 0.03840343  9.842851 0.8026966 0.8949532\n",
       "6 L1       chr15:80282168-82282168 0.03473821  9.830070 0.8026966 0.8949532\n",
       "7 L1       chr15:80282168-82282168 0.08442346  9.936038 0.8026966 0.8949532\n",
       "8 L1       chr15:80282168-82282168 0.09486683  9.946820 0.8026966 0.8949532\n",
       "9 L1       chr15:80282168-82282168 0.08319193  9.931144 0.8026966 0.8949532\n",
       "  cs_size posterior_mean posterior_sd cs_log10bf\n",
       "1 9       0.020356832    0.07676665   17.66454  \n",
       "2 9       0.022499592    0.08028691   17.66454  \n",
       "3 9       0.080041867    0.13649396   17.66454  \n",
       "4 9       0.072571800    0.13227880   17.66454  \n",
       "5 9       0.011112344    0.05679582   17.66454  \n",
       "6 9       0.009999753    0.05393040   17.66454  \n",
       "7 9       0.024643090    0.08218883   17.66454  \n",
       "8 9       0.028144996    0.08798305   17.66454  \n",
       "9 9       0.024529469    0.08247539   17.66454  "
      ]
     },
     "metadata": {},
     "output_type": "display_data"
    }
   ],
   "source": [
    "susie %>% filter(phenotype_id == \"ENSG00000117899\")"
   ]
  },
  {
   "cell_type": "code",
   "execution_count": 18,
   "metadata": {},
   "outputs": [
    {
     "data": {
      "text/html": [
       "<table class=\"dataframe\">\n",
       "<caption>A data.frame: 51 x 17</caption>\n",
       "<thead>\n",
       "\t<tr><th scope=col>phenotype_id</th><th scope=col>variant_id</th><th scope=col>chr</th><th scope=col>pos</th><th scope=col>ref</th><th scope=col>alt</th><th scope=col>cs_id</th><th scope=col>cs_index</th><th scope=col>finemapped_region</th><th scope=col>pip</th><th scope=col>z</th><th scope=col>cs_min_r2</th><th scope=col>cs_avg_r2</th><th scope=col>cs_size</th><th scope=col>posterior_mean</th><th scope=col>posterior_sd</th><th scope=col>cs_log10bf</th></tr>\n",
       "\t<tr><th scope=col>&lt;chr&gt;</th><th scope=col>&lt;chr&gt;</th><th scope=col>&lt;int&gt;</th><th scope=col>&lt;int&gt;</th><th scope=col>&lt;chr&gt;</th><th scope=col>&lt;chr&gt;</th><th scope=col>&lt;chr&gt;</th><th scope=col>&lt;chr&gt;</th><th scope=col>&lt;chr&gt;</th><th scope=col>&lt;dbl&gt;</th><th scope=col>&lt;dbl&gt;</th><th scope=col>&lt;dbl&gt;</th><th scope=col>&lt;dbl&gt;</th><th scope=col>&lt;int&gt;</th><th scope=col>&lt;dbl&gt;</th><th scope=col>&lt;dbl&gt;</th><th scope=col>&lt;dbl&gt;</th></tr>\n",
       "</thead>\n",
       "<tbody>\n",
       "\t<tr><td>ENSG00000117899</td><td>chr15_81249076_T_C</td><td>15</td><td>81249076</td><td>T</td><td>C</td><td>ENSG00000117899_L1</td><td>L1</td><td>chr15:80282168-82282168</td><td>0.050869025</td><td>5.346830</td><td>0.275255</td><td>0.7043137</td><td>51</td><td>0.0114411905</td><td>0.05127328</td><td>2.839339</td></tr>\n",
       "\t<tr><td>ENSG00000117899</td><td>chr15_81261949_G_A</td><td>15</td><td>81261949</td><td>G</td><td>A</td><td>ENSG00000117899_L1</td><td>L1</td><td>chr15:80282168-82282168</td><td>0.034938967</td><td>5.274990</td><td>0.275255</td><td>0.7043137</td><td>51</td><td>0.0071587132</td><td>0.03930282</td><td>2.839339</td></tr>\n",
       "\t<tr><td>ENSG00000117899</td><td>chr15_81263140_T_C</td><td>15</td><td>81263140</td><td>T</td><td>C</td><td>ENSG00000117899_L1</td><td>L1</td><td>chr15:80282168-82282168</td><td>0.034938967</td><td>5.274990</td><td>0.275255</td><td>0.7043137</td><td>51</td><td>0.0071587132</td><td>0.03930282</td><td>2.839339</td></tr>\n",
       "\t<tr><td>ENSG00000117899</td><td>chr15_81263436_G_C</td><td>15</td><td>81263436</td><td>G</td><td>C</td><td>ENSG00000117899_L1</td><td>L1</td><td>chr15:80282168-82282168</td><td>0.034938967</td><td>5.274990</td><td>0.275255</td><td>0.7043137</td><td>51</td><td>0.0071587132</td><td>0.03930282</td><td>2.839339</td></tr>\n",
       "\t<tr><td>ENSG00000117899</td><td>chr15_81263637_C_T</td><td>15</td><td>81263637</td><td>C</td><td>T</td><td>ENSG00000117899_L1</td><td>L1</td><td>chr15:80282168-82282168</td><td>0.034938967</td><td>5.274990</td><td>0.275255</td><td>0.7043137</td><td>51</td><td>0.0071587132</td><td>0.03930282</td><td>2.839339</td></tr>\n",
       "\t<tr><td>ENSG00000117899</td><td>chr15_81265953_A_G</td><td>15</td><td>81265953</td><td>A</td><td>G</td><td>ENSG00000117899_L1</td><td>L1</td><td>chr15:80282168-82282168</td><td>0.011913150</td><td>4.973080</td><td>0.275255</td><td>0.7043137</td><td>51</td><td>0.0021035565</td><td>0.02102206</td><td>2.839339</td></tr>\n",
       "\t<tr><td>ENSG00000117899</td><td>chr15_81266406_C_T</td><td>15</td><td>81266406</td><td>C</td><td>T</td><td>ENSG00000117899_L1</td><td>L1</td><td>chr15:80282168-82282168</td><td>0.015099518</td><td>5.048408</td><td>0.275255</td><td>0.7043137</td><td>51</td><td>0.0028278975</td><td>0.02465933</td><td>2.839339</td></tr>\n",
       "\t<tr><td>ENSG00000117899</td><td>chr15_81268715_A_G</td><td>15</td><td>81268715</td><td>A</td><td>G</td><td>ENSG00000117899_L1</td><td>L1</td><td>chr15:80282168-82282168</td><td>0.008195924</td><td>4.884943</td><td>0.275255</td><td>0.7043137</td><td>51</td><td>0.0013511259</td><td>0.01690219</td><td>2.839339</td></tr>\n",
       "\t<tr><td>ENSG00000117899</td><td>chr15_81271406_C_A</td><td>15</td><td>81271406</td><td>C</td><td>A</td><td>ENSG00000117899_L1</td><td>L1</td><td>chr15:80282168-82282168</td><td>0.006925754</td><td>4.797996</td><td>0.275255</td><td>0.7043137</td><td>51</td><td>0.0011871025</td><td>0.01662322</td><td>2.839339</td></tr>\n",
       "\t<tr><td>ENSG00000117899</td><td>chr15_81271557_C_A</td><td>15</td><td>81271557</td><td>C</td><td>A</td><td>ENSG00000117899_L1</td><td>L1</td><td>chr15:80282168-82282168</td><td>0.016055439</td><td>5.051418</td><td>0.275255</td><td>0.7043137</td><td>51</td><td>0.0033601941</td><td>0.02841940</td><td>2.839339</td></tr>\n",
       "\t<tr><td>ENSG00000117899</td><td>chr15_81272072_G_A</td><td>15</td><td>81272072</td><td>G</td><td>A</td><td>ENSG00000117899_L1</td><td>L1</td><td>chr15:80282168-82282168</td><td>0.024091206</td><td>5.145676</td><td>0.275255</td><td>0.7043137</td><td>51</td><td>0.0045369478</td><td>0.03047374</td><td>2.839339</td></tr>\n",
       "\t<tr><td>ENSG00000117899</td><td>chr15_81272880_G_A</td><td>15</td><td>81272880</td><td>G</td><td>A</td><td>ENSG00000117899_L1</td><td>L1</td><td>chr15:80282168-82282168</td><td>0.011397523</td><td>4.959082</td><td>0.275255</td><td>0.7043137</td><td>51</td><td>0.0022283961</td><td>0.02289328</td><td>2.839339</td></tr>\n",
       "\t<tr><td>ENSG00000117899</td><td>chr15_81273907_C_T</td><td>15</td><td>81273907</td><td>C</td><td>T</td><td>ENSG00000117899_L1</td><td>L1</td><td>chr15:80282168-82282168</td><td>0.012658020</td><td>4.988748</td><td>0.275255</td><td>0.7043137</td><td>51</td><td>0.0025770468</td><td>0.02493691</td><td>2.839339</td></tr>\n",
       "\t<tr><td>ENSG00000117899</td><td>chr15_81275449_C_T</td><td>15</td><td>81275449</td><td>C</td><td>T</td><td>ENSG00000117899_L1</td><td>L1</td><td>chr15:80282168-82282168</td><td>0.039962962</td><td>5.266471</td><td>0.275255</td><td>0.7043137</td><td>51</td><td>0.0079125586</td><td>0.04035365</td><td>2.839339</td></tr>\n",
       "\t<tr><td>ENSG00000117899</td><td>chr15_81275745_G_A</td><td>15</td><td>81275745</td><td>G</td><td>A</td><td>ENSG00000117899_L1</td><td>L1</td><td>chr15:80282168-82282168</td><td>0.010231274</td><td>4.912964</td><td>0.275255</td><td>0.7043137</td><td>51</td><td>0.0019709494</td><td>0.02158711</td><td>2.839339</td></tr>\n",
       "\t<tr><td>ENSG00000117899</td><td>chr15_81276342_G_A</td><td>15</td><td>81276342</td><td>G</td><td>A</td><td>ENSG00000117899_L1</td><td>L1</td><td>chr15:80282168-82282168</td><td>0.024134163</td><td>5.148709</td><td>0.275255</td><td>0.7043137</td><td>51</td><td>0.0045657200</td><td>0.03063260</td><td>2.839339</td></tr>\n",
       "\t<tr><td>ENSG00000117899</td><td>chr15_81276518_G_C</td><td>15</td><td>81276518</td><td>G</td><td>C</td><td>ENSG00000117899_L1</td><td>L1</td><td>chr15:80282168-82282168</td><td>0.006468309</td><td>4.779364</td><td>0.275255</td><td>0.7043137</td><td>51</td><td>0.0010892135</td><td>0.01589429</td><td>2.839339</td></tr>\n",
       "\t<tr><td>ENSG00000117899</td><td>chr15_81276723_G_A</td><td>15</td><td>81276723</td><td>G</td><td>A</td><td>ENSG00000117899_L1</td><td>L1</td><td>chr15:80282168-82282168</td><td>0.009051649</td><td>4.887455</td><td>0.275255</td><td>0.7043137</td><td>51</td><td>0.0016867906</td><td>0.01988907</td><td>2.839339</td></tr>\n",
       "\t<tr><td>ENSG00000117899</td><td>chr15_81276787_A_C</td><td>15</td><td>81276787</td><td>A</td><td>C</td><td>ENSG00000117899_L1</td><td>L1</td><td>chr15:80282168-82282168</td><td>0.007679368</td><td>4.827408</td><td>0.275255</td><td>0.7043137</td><td>51</td><td>0.0013662780</td><td>0.01784597</td><td>2.839339</td></tr>\n",
       "\t<tr><td>ENSG00000117899</td><td>chr15_81276911_A_C</td><td>15</td><td>81276911</td><td>A</td><td>C</td><td>ENSG00000117899_L1</td><td>L1</td><td>chr15:80282168-82282168</td><td>0.024134163</td><td>5.148709</td><td>0.275255</td><td>0.7043137</td><td>51</td><td>0.0045657200</td><td>0.03063260</td><td>2.839339</td></tr>\n",
       "\t<tr><td>ENSG00000117899</td><td>chr15_81277018_A_G</td><td>15</td><td>81277018</td><td>A</td><td>G</td><td>ENSG00000117899_L1</td><td>L1</td><td>chr15:80282168-82282168</td><td>0.007679368</td><td>4.827408</td><td>0.275255</td><td>0.7043137</td><td>51</td><td>0.0013662780</td><td>0.01784597</td><td>2.839339</td></tr>\n",
       "\t<tr><td>ENSG00000117899</td><td>chr15_81277544_C_T</td><td>15</td><td>81277544</td><td>C</td><td>T</td><td>ENSG00000117899_L1</td><td>L1</td><td>chr15:80282168-82282168</td><td>0.006468309</td><td>4.779364</td><td>0.275255</td><td>0.7043137</td><td>51</td><td>0.0010892135</td><td>0.01589429</td><td>2.839339</td></tr>\n",
       "\t<tr><td>ENSG00000117899</td><td>chr15_81278365_T_A</td><td>15</td><td>81278365</td><td>T</td><td>A</td><td>ENSG00000117899_L1</td><td>L1</td><td>chr15:80282168-82282168</td><td>0.007679368</td><td>4.827408</td><td>0.275255</td><td>0.7043137</td><td>51</td><td>0.0013662780</td><td>0.01784597</td><td>2.839339</td></tr>\n",
       "\t<tr><td>ENSG00000117899</td><td>chr15_81278690_T_C</td><td>15</td><td>81278690</td><td>T</td><td>C</td><td>ENSG00000117899_L1</td><td>L1</td><td>chr15:80282168-82282168</td><td>0.006468309</td><td>4.779364</td><td>0.275255</td><td>0.7043137</td><td>51</td><td>0.0010892135</td><td>0.01589429</td><td>2.839339</td></tr>\n",
       "\t<tr><td>ENSG00000117899</td><td>chr15_81278885_T_C</td><td>15</td><td>81278885</td><td>T</td><td>C</td><td>ENSG00000117899_L1</td><td>L1</td><td>chr15:80282168-82282168</td><td>0.006646347</td><td>4.802424</td><td>0.275255</td><td>0.7043137</td><td>51</td><td>0.0009469227</td><td>0.01353371</td><td>2.839339</td></tr>\n",
       "\t<tr><td>ENSG00000117899</td><td>chr15_81279136_G_A</td><td>15</td><td>81279136</td><td>G</td><td>A</td><td>ENSG00000117899_L1</td><td>L1</td><td>chr15:80282168-82282168</td><td>0.017122686</td><td>5.075486</td><td>0.275255</td><td>0.7043137</td><td>51</td><td>0.0031652573</td><td>0.02568426</td><td>2.839339</td></tr>\n",
       "\t<tr><td>ENSG00000117899</td><td>chr15_81279356_G_A</td><td>15</td><td>81279356</td><td>G</td><td>A</td><td>ENSG00000117899_L1</td><td>L1</td><td>chr15:80282168-82282168</td><td>0.008212705</td><td>4.860412</td><td>0.275255</td><td>0.7043137</td><td>51</td><td>0.0014898579</td><td>0.01865314</td><td>2.839339</td></tr>\n",
       "\t<tr><td>ENSG00000117899</td><td>chr15_81279706_C_T</td><td>15</td><td>81279706</td><td>C</td><td>T</td><td>ENSG00000117899_L1</td><td>L1</td><td>chr15:80282168-82282168</td><td>0.006468309</td><td>4.779364</td><td>0.275255</td><td>0.7043137</td><td>51</td><td>0.0010892135</td><td>0.01589429</td><td>2.839339</td></tr>\n",
       "\t<tr><td>ENSG00000117899</td><td>chr15_81281566_T_C</td><td>15</td><td>81281566</td><td>T</td><td>C</td><td>ENSG00000117899_L1</td><td>L1</td><td>chr15:80282168-82282168</td><td>0.018738077</td><td>5.084941</td><td>0.275255</td><td>0.7043137</td><td>51</td><td>0.0034803861</td><td>0.02685172</td><td>2.839339</td></tr>\n",
       "\t<tr><td>ENSG00000117899</td><td>chr15_81284528_C_A</td><td>15</td><td>81284528</td><td>C</td><td>A</td><td>ENSG00000117899_L1</td><td>L1</td><td>chr15:80282168-82282168</td><td>0.023524155</td><td>5.139024</td><td>0.275255</td><td>0.7043137</td><td>51</td><td>0.0045404034</td><td>0.03089683</td><td>2.839339</td></tr>\n",
       "\t<tr><td>ENSG00000117899</td><td>chr15_81285875_C_T</td><td>15</td><td>81285875</td><td>C</td><td>T</td><td>ENSG00000117899_L1</td><td>L1</td><td>chr15:80282168-82282168</td><td>0.011720142</td><td>4.993414</td><td>0.275255</td><td>0.7043137</td><td>51</td><td>0.0020671433</td><td>0.02082351</td><td>2.839339</td></tr>\n",
       "\t<tr><td>ENSG00000117899</td><td>chr15_81286252_T_G</td><td>15</td><td>81286252</td><td>T</td><td>G</td><td>ENSG00000117899_L1</td><td>L1</td><td>chr15:80282168-82282168</td><td>0.015495992</td><td>5.063909</td><td>0.275255</td><td>0.7043137</td><td>51</td><td>0.0028679489</td><td>0.02461034</td><td>2.839339</td></tr>\n",
       "\t<tr><td>ENSG00000117899</td><td>chr15_81287796_G_C</td><td>15</td><td>81287796</td><td>G</td><td>C</td><td>ENSG00000117899_L1</td><td>L1</td><td>chr15:80282168-82282168</td><td>0.031182555</td><td>5.206123</td><td>0.275255</td><td>0.7043137</td><td>51</td><td>0.0062441545</td><td>0.03642656</td><td>2.839339</td></tr>\n",
       "\t<tr><td>ENSG00000117899</td><td>chr15_81289272_T_C</td><td>15</td><td>81289272</td><td>T</td><td>C</td><td>ENSG00000117899_L1</td><td>L1</td><td>chr15:80282168-82282168</td><td>0.011127868</td><td>4.981440</td><td>0.275255</td><td>0.7043137</td><td>51</td><td>0.0018955464</td><td>0.01968727</td><td>2.839339</td></tr>\n",
       "\t<tr><td>ENSG00000117899</td><td>chr15_81290783_T_C</td><td>15</td><td>81290783</td><td>T</td><td>C</td><td>ENSG00000117899_L1</td><td>L1</td><td>chr15:80282168-82282168</td><td>0.024594300</td><td>5.176633</td><td>0.275255</td><td>0.7043137</td><td>51</td><td>0.0047800726</td><td>0.03175453</td><td>2.839339</td></tr>\n",
       "\t<tr><td>ENSG00000117899</td><td>chr15_81292652_G_A</td><td>15</td><td>81292652</td><td>G</td><td>A</td><td>ENSG00000117899_L1</td><td>L1</td><td>chr15:80282168-82282168</td><td>0.008885863</td><td>4.888158</td><td>0.275255</td><td>0.7043137</td><td>51</td><td>0.0014492560</td><td>0.01722477</td><td>2.839339</td></tr>\n",
       "\t<tr><td>ENSG00000117899</td><td>chr15_81292762_G_A</td><td>15</td><td>81292762</td><td>G</td><td>A</td><td>ENSG00000117899_L1</td><td>L1</td><td>chr15:80282168-82282168</td><td>0.021569939</td><td>5.145501</td><td>0.275255</td><td>0.7043137</td><td>51</td><td>0.0040966787</td><td>0.02924073</td><td>2.839339</td></tr>\n",
       "\t<tr><td>ENSG00000117899</td><td>chr15_81292864_A_T</td><td>15</td><td>81292864</td><td>A</td><td>T</td><td>ENSG00000117899_L1</td><td>L1</td><td>chr15:80282168-82282168</td><td>0.045872178</td><td>5.295317</td><td>0.275255</td><td>0.7043137</td><td>51</td><td>0.0093200069</td><td>0.04410704</td><td>2.839339</td></tr>\n",
       "\t<tr><td>ENSG00000117899</td><td>chr15_81293026_G_C</td><td>15</td><td>81293026</td><td>G</td><td>C</td><td>ENSG00000117899_L1</td><td>L1</td><td>chr15:80282168-82282168</td><td>0.051262161</td><td>5.324193</td><td>0.275255</td><td>0.7043137</td><td>51</td><td>0.0105019715</td><td>0.04680357</td><td>2.839339</td></tr>\n",
       "\t<tr><td>ENSG00000117899</td><td>chr15_81293344_C_G</td><td>15</td><td>81293344</td><td>C</td><td>G</td><td>ENSG00000117899_L1</td><td>L1</td><td>chr15:80282168-82282168</td><td>0.064323072</td><td>5.367173</td><td>0.275255</td><td>0.7043137</td><td>51</td><td>0.0136211466</td><td>0.05362468</td><td>2.839339</td></tr>\n",
       "\t<tr><td>ENSG00000117899</td><td>chr15_81301405_G_C</td><td>15</td><td>81301405</td><td>G</td><td>C</td><td>ENSG00000117899_L1</td><td>L1</td><td>chr15:80282168-82282168</td><td>0.048038421</td><td>5.314620</td><td>0.275255</td><td>0.7043137</td><td>51</td><td>0.0099126518</td><td>0.04575117</td><td>2.839339</td></tr>\n",
       "\t<tr><td>ENSG00000117899</td><td>chr15_81304132_A_G</td><td>15</td><td>81304132</td><td>A</td><td>G</td><td>ENSG00000117899_L1</td><td>L1</td><td>chr15:80282168-82282168</td><td>0.071330490</td><td>5.387340</td><td>0.275255</td><td>0.7043137</td><td>51</td><td>0.0151627388</td><td>0.05640501</td><td>2.839339</td></tr>\n",
       "\t<tr><td>ENSG00000117899</td><td>chr15_81306377_A_G</td><td>15</td><td>81306377</td><td>A</td><td>G</td><td>ENSG00000117899_L1</td><td>L1</td><td>chr15:80282168-82282168</td><td>0.012105952</td><td>4.994439</td><td>0.275255</td><td>0.7043137</td><td>51</td><td>0.0020469206</td><td>0.02026705</td><td>2.839339</td></tr>\n",
       "\t<tr><td>ENSG00000117899</td><td>chr15_81306778_C_A</td><td>15</td><td>81306778</td><td>C</td><td>A</td><td>ENSG00000117899_L1</td><td>L1</td><td>chr15:80282168-82282168</td><td>0.022309120</td><td>5.115805</td><td>0.275255</td><td>0.7043137</td><td>51</td><td>0.0049807696</td><td>0.03498056</td><td>2.839339</td></tr>\n",
       "\t<tr><td>ENSG00000117899</td><td>chr15_81307691_T_C</td><td>15</td><td>81307691</td><td>T</td><td>C</td><td>ENSG00000117899_L1</td><td>L1</td><td>chr15:80282168-82282168</td><td>0.008902526</td><td>4.879993</td><td>0.275255</td><td>0.7043137</td><td>51</td><td>0.0016504876</td><td>0.01969335</td><td>2.839339</td></tr>\n",
       "\t<tr><td>ENSG00000117899</td><td>chr15_81307879_T_C</td><td>15</td><td>81307879</td><td>T</td><td>C</td><td>ENSG00000117899_L1</td><td>L1</td><td>chr15:80282168-82282168</td><td>0.006394875</td><td>4.770489</td><td>0.275255</td><td>0.7043137</td><td>51</td><td>0.0010645217</td><td>0.01569340</td><td>2.839339</td></tr>\n",
       "\t<tr><td>ENSG00000117899</td><td>chr15_81309370_A_G</td><td>15</td><td>81309370</td><td>A</td><td>G</td><td>ENSG00000117899_L1</td><td>L1</td><td>chr15:80282168-82282168</td><td>0.006394875</td><td>4.770489</td><td>0.275255</td><td>0.7043137</td><td>51</td><td>0.0010645217</td><td>0.01569340</td><td>2.839339</td></tr>\n",
       "\t<tr><td>ENSG00000117899</td><td>chr15_81312579_T_C</td><td>15</td><td>81312579</td><td>T</td><td>C</td><td>ENSG00000117899_L1</td><td>L1</td><td>chr15:80282168-82282168</td><td>0.012172890</td><td>4.962586</td><td>0.275255</td><td>0.7043137</td><td>51</td><td>0.0024221610</td><td>0.02396508</td><td>2.839339</td></tr>\n",
       "\t<tr><td>ENSG00000117899</td><td>chr15_81315309_G_A</td><td>15</td><td>81315309</td><td>G</td><td>A</td><td>ENSG00000117899_L1</td><td>L1</td><td>chr15:80282168-82282168</td><td>0.005584500</td><td>4.733426</td><td>0.275255</td><td>0.7043137</td><td>51</td><td>0.0009240576</td><td>0.01501561</td><td>2.839339</td></tr>\n",
       "\t<tr><td>ENSG00000117899</td><td>chr15_81317292_G_C</td><td>15</td><td>81317292</td><td>G</td><td>C</td><td>ENSG00000117899_L1</td><td>L1</td><td>chr15:80282168-82282168</td><td>0.007060675</td><td>4.764456</td><td>0.275255</td><td>0.7043137</td><td>51</td><td>0.0009685818</td><td>0.01390370</td><td>2.839339</td></tr>\n",
       "\t<tr><td>ENSG00000117899</td><td>chr15_81318832_G_A</td><td>15</td><td>81318832</td><td>G</td><td>A</td><td>ENSG00000117899_L1</td><td>L1</td><td>chr15:80282168-82282168</td><td>0.029427981</td><td>5.183218</td><td>0.275255</td><td>0.7043137</td><td>51</td><td>0.0068533609</td><td>0.04138048</td><td>2.839339</td></tr>\n",
       "</tbody>\n",
       "</table>\n"
      ],
      "text/latex": [
       "A data.frame: 51 x 17\n",
       "\\begin{tabular}{lllllllllllllllll}\n",
       " phenotype\\_id & variant\\_id & chr & pos & ref & alt & cs\\_id & cs\\_index & finemapped\\_region & pip & z & cs\\_min\\_r2 & cs\\_avg\\_r2 & cs\\_size & posterior\\_mean & posterior\\_sd & cs\\_log10bf\\\\\n",
       " <chr> & <chr> & <int> & <int> & <chr> & <chr> & <chr> & <chr> & <chr> & <dbl> & <dbl> & <dbl> & <dbl> & <int> & <dbl> & <dbl> & <dbl>\\\\\n",
       "\\hline\n",
       "\t ENSG00000117899 & chr15\\_81249076\\_T\\_C & 15 & 81249076 & T & C & ENSG00000117899\\_L1 & L1 & chr15:80282168-82282168 & 0.050869025 & 5.346830 & 0.275255 & 0.7043137 & 51 & 0.0114411905 & 0.05127328 & 2.839339\\\\\n",
       "\t ENSG00000117899 & chr15\\_81261949\\_G\\_A & 15 & 81261949 & G & A & ENSG00000117899\\_L1 & L1 & chr15:80282168-82282168 & 0.034938967 & 5.274990 & 0.275255 & 0.7043137 & 51 & 0.0071587132 & 0.03930282 & 2.839339\\\\\n",
       "\t ENSG00000117899 & chr15\\_81263140\\_T\\_C & 15 & 81263140 & T & C & ENSG00000117899\\_L1 & L1 & chr15:80282168-82282168 & 0.034938967 & 5.274990 & 0.275255 & 0.7043137 & 51 & 0.0071587132 & 0.03930282 & 2.839339\\\\\n",
       "\t ENSG00000117899 & chr15\\_81263436\\_G\\_C & 15 & 81263436 & G & C & ENSG00000117899\\_L1 & L1 & chr15:80282168-82282168 & 0.034938967 & 5.274990 & 0.275255 & 0.7043137 & 51 & 0.0071587132 & 0.03930282 & 2.839339\\\\\n",
       "\t ENSG00000117899 & chr15\\_81263637\\_C\\_T & 15 & 81263637 & C & T & ENSG00000117899\\_L1 & L1 & chr15:80282168-82282168 & 0.034938967 & 5.274990 & 0.275255 & 0.7043137 & 51 & 0.0071587132 & 0.03930282 & 2.839339\\\\\n",
       "\t ENSG00000117899 & chr15\\_81265953\\_A\\_G & 15 & 81265953 & A & G & ENSG00000117899\\_L1 & L1 & chr15:80282168-82282168 & 0.011913150 & 4.973080 & 0.275255 & 0.7043137 & 51 & 0.0021035565 & 0.02102206 & 2.839339\\\\\n",
       "\t ENSG00000117899 & chr15\\_81266406\\_C\\_T & 15 & 81266406 & C & T & ENSG00000117899\\_L1 & L1 & chr15:80282168-82282168 & 0.015099518 & 5.048408 & 0.275255 & 0.7043137 & 51 & 0.0028278975 & 0.02465933 & 2.839339\\\\\n",
       "\t ENSG00000117899 & chr15\\_81268715\\_A\\_G & 15 & 81268715 & A & G & ENSG00000117899\\_L1 & L1 & chr15:80282168-82282168 & 0.008195924 & 4.884943 & 0.275255 & 0.7043137 & 51 & 0.0013511259 & 0.01690219 & 2.839339\\\\\n",
       "\t ENSG00000117899 & chr15\\_81271406\\_C\\_A & 15 & 81271406 & C & A & ENSG00000117899\\_L1 & L1 & chr15:80282168-82282168 & 0.006925754 & 4.797996 & 0.275255 & 0.7043137 & 51 & 0.0011871025 & 0.01662322 & 2.839339\\\\\n",
       "\t ENSG00000117899 & chr15\\_81271557\\_C\\_A & 15 & 81271557 & C & A & ENSG00000117899\\_L1 & L1 & chr15:80282168-82282168 & 0.016055439 & 5.051418 & 0.275255 & 0.7043137 & 51 & 0.0033601941 & 0.02841940 & 2.839339\\\\\n",
       "\t ENSG00000117899 & chr15\\_81272072\\_G\\_A & 15 & 81272072 & G & A & ENSG00000117899\\_L1 & L1 & chr15:80282168-82282168 & 0.024091206 & 5.145676 & 0.275255 & 0.7043137 & 51 & 0.0045369478 & 0.03047374 & 2.839339\\\\\n",
       "\t ENSG00000117899 & chr15\\_81272880\\_G\\_A & 15 & 81272880 & G & A & ENSG00000117899\\_L1 & L1 & chr15:80282168-82282168 & 0.011397523 & 4.959082 & 0.275255 & 0.7043137 & 51 & 0.0022283961 & 0.02289328 & 2.839339\\\\\n",
       "\t ENSG00000117899 & chr15\\_81273907\\_C\\_T & 15 & 81273907 & C & T & ENSG00000117899\\_L1 & L1 & chr15:80282168-82282168 & 0.012658020 & 4.988748 & 0.275255 & 0.7043137 & 51 & 0.0025770468 & 0.02493691 & 2.839339\\\\\n",
       "\t ENSG00000117899 & chr15\\_81275449\\_C\\_T & 15 & 81275449 & C & T & ENSG00000117899\\_L1 & L1 & chr15:80282168-82282168 & 0.039962962 & 5.266471 & 0.275255 & 0.7043137 & 51 & 0.0079125586 & 0.04035365 & 2.839339\\\\\n",
       "\t ENSG00000117899 & chr15\\_81275745\\_G\\_A & 15 & 81275745 & G & A & ENSG00000117899\\_L1 & L1 & chr15:80282168-82282168 & 0.010231274 & 4.912964 & 0.275255 & 0.7043137 & 51 & 0.0019709494 & 0.02158711 & 2.839339\\\\\n",
       "\t ENSG00000117899 & chr15\\_81276342\\_G\\_A & 15 & 81276342 & G & A & ENSG00000117899\\_L1 & L1 & chr15:80282168-82282168 & 0.024134163 & 5.148709 & 0.275255 & 0.7043137 & 51 & 0.0045657200 & 0.03063260 & 2.839339\\\\\n",
       "\t ENSG00000117899 & chr15\\_81276518\\_G\\_C & 15 & 81276518 & G & C & ENSG00000117899\\_L1 & L1 & chr15:80282168-82282168 & 0.006468309 & 4.779364 & 0.275255 & 0.7043137 & 51 & 0.0010892135 & 0.01589429 & 2.839339\\\\\n",
       "\t ENSG00000117899 & chr15\\_81276723\\_G\\_A & 15 & 81276723 & G & A & ENSG00000117899\\_L1 & L1 & chr15:80282168-82282168 & 0.009051649 & 4.887455 & 0.275255 & 0.7043137 & 51 & 0.0016867906 & 0.01988907 & 2.839339\\\\\n",
       "\t ENSG00000117899 & chr15\\_81276787\\_A\\_C & 15 & 81276787 & A & C & ENSG00000117899\\_L1 & L1 & chr15:80282168-82282168 & 0.007679368 & 4.827408 & 0.275255 & 0.7043137 & 51 & 0.0013662780 & 0.01784597 & 2.839339\\\\\n",
       "\t ENSG00000117899 & chr15\\_81276911\\_A\\_C & 15 & 81276911 & A & C & ENSG00000117899\\_L1 & L1 & chr15:80282168-82282168 & 0.024134163 & 5.148709 & 0.275255 & 0.7043137 & 51 & 0.0045657200 & 0.03063260 & 2.839339\\\\\n",
       "\t ENSG00000117899 & chr15\\_81277018\\_A\\_G & 15 & 81277018 & A & G & ENSG00000117899\\_L1 & L1 & chr15:80282168-82282168 & 0.007679368 & 4.827408 & 0.275255 & 0.7043137 & 51 & 0.0013662780 & 0.01784597 & 2.839339\\\\\n",
       "\t ENSG00000117899 & chr15\\_81277544\\_C\\_T & 15 & 81277544 & C & T & ENSG00000117899\\_L1 & L1 & chr15:80282168-82282168 & 0.006468309 & 4.779364 & 0.275255 & 0.7043137 & 51 & 0.0010892135 & 0.01589429 & 2.839339\\\\\n",
       "\t ENSG00000117899 & chr15\\_81278365\\_T\\_A & 15 & 81278365 & T & A & ENSG00000117899\\_L1 & L1 & chr15:80282168-82282168 & 0.007679368 & 4.827408 & 0.275255 & 0.7043137 & 51 & 0.0013662780 & 0.01784597 & 2.839339\\\\\n",
       "\t ENSG00000117899 & chr15\\_81278690\\_T\\_C & 15 & 81278690 & T & C & ENSG00000117899\\_L1 & L1 & chr15:80282168-82282168 & 0.006468309 & 4.779364 & 0.275255 & 0.7043137 & 51 & 0.0010892135 & 0.01589429 & 2.839339\\\\\n",
       "\t ENSG00000117899 & chr15\\_81278885\\_T\\_C & 15 & 81278885 & T & C & ENSG00000117899\\_L1 & L1 & chr15:80282168-82282168 & 0.006646347 & 4.802424 & 0.275255 & 0.7043137 & 51 & 0.0009469227 & 0.01353371 & 2.839339\\\\\n",
       "\t ENSG00000117899 & chr15\\_81279136\\_G\\_A & 15 & 81279136 & G & A & ENSG00000117899\\_L1 & L1 & chr15:80282168-82282168 & 0.017122686 & 5.075486 & 0.275255 & 0.7043137 & 51 & 0.0031652573 & 0.02568426 & 2.839339\\\\\n",
       "\t ENSG00000117899 & chr15\\_81279356\\_G\\_A & 15 & 81279356 & G & A & ENSG00000117899\\_L1 & L1 & chr15:80282168-82282168 & 0.008212705 & 4.860412 & 0.275255 & 0.7043137 & 51 & 0.0014898579 & 0.01865314 & 2.839339\\\\\n",
       "\t ENSG00000117899 & chr15\\_81279706\\_C\\_T & 15 & 81279706 & C & T & ENSG00000117899\\_L1 & L1 & chr15:80282168-82282168 & 0.006468309 & 4.779364 & 0.275255 & 0.7043137 & 51 & 0.0010892135 & 0.01589429 & 2.839339\\\\\n",
       "\t ENSG00000117899 & chr15\\_81281566\\_T\\_C & 15 & 81281566 & T & C & ENSG00000117899\\_L1 & L1 & chr15:80282168-82282168 & 0.018738077 & 5.084941 & 0.275255 & 0.7043137 & 51 & 0.0034803861 & 0.02685172 & 2.839339\\\\\n",
       "\t ENSG00000117899 & chr15\\_81284528\\_C\\_A & 15 & 81284528 & C & A & ENSG00000117899\\_L1 & L1 & chr15:80282168-82282168 & 0.023524155 & 5.139024 & 0.275255 & 0.7043137 & 51 & 0.0045404034 & 0.03089683 & 2.839339\\\\\n",
       "\t ENSG00000117899 & chr15\\_81285875\\_C\\_T & 15 & 81285875 & C & T & ENSG00000117899\\_L1 & L1 & chr15:80282168-82282168 & 0.011720142 & 4.993414 & 0.275255 & 0.7043137 & 51 & 0.0020671433 & 0.02082351 & 2.839339\\\\\n",
       "\t ENSG00000117899 & chr15\\_81286252\\_T\\_G & 15 & 81286252 & T & G & ENSG00000117899\\_L1 & L1 & chr15:80282168-82282168 & 0.015495992 & 5.063909 & 0.275255 & 0.7043137 & 51 & 0.0028679489 & 0.02461034 & 2.839339\\\\\n",
       "\t ENSG00000117899 & chr15\\_81287796\\_G\\_C & 15 & 81287796 & G & C & ENSG00000117899\\_L1 & L1 & chr15:80282168-82282168 & 0.031182555 & 5.206123 & 0.275255 & 0.7043137 & 51 & 0.0062441545 & 0.03642656 & 2.839339\\\\\n",
       "\t ENSG00000117899 & chr15\\_81289272\\_T\\_C & 15 & 81289272 & T & C & ENSG00000117899\\_L1 & L1 & chr15:80282168-82282168 & 0.011127868 & 4.981440 & 0.275255 & 0.7043137 & 51 & 0.0018955464 & 0.01968727 & 2.839339\\\\\n",
       "\t ENSG00000117899 & chr15\\_81290783\\_T\\_C & 15 & 81290783 & T & C & ENSG00000117899\\_L1 & L1 & chr15:80282168-82282168 & 0.024594300 & 5.176633 & 0.275255 & 0.7043137 & 51 & 0.0047800726 & 0.03175453 & 2.839339\\\\\n",
       "\t ENSG00000117899 & chr15\\_81292652\\_G\\_A & 15 & 81292652 & G & A & ENSG00000117899\\_L1 & L1 & chr15:80282168-82282168 & 0.008885863 & 4.888158 & 0.275255 & 0.7043137 & 51 & 0.0014492560 & 0.01722477 & 2.839339\\\\\n",
       "\t ENSG00000117899 & chr15\\_81292762\\_G\\_A & 15 & 81292762 & G & A & ENSG00000117899\\_L1 & L1 & chr15:80282168-82282168 & 0.021569939 & 5.145501 & 0.275255 & 0.7043137 & 51 & 0.0040966787 & 0.02924073 & 2.839339\\\\\n",
       "\t ENSG00000117899 & chr15\\_81292864\\_A\\_T & 15 & 81292864 & A & T & ENSG00000117899\\_L1 & L1 & chr15:80282168-82282168 & 0.045872178 & 5.295317 & 0.275255 & 0.7043137 & 51 & 0.0093200069 & 0.04410704 & 2.839339\\\\\n",
       "\t ENSG00000117899 & chr15\\_81293026\\_G\\_C & 15 & 81293026 & G & C & ENSG00000117899\\_L1 & L1 & chr15:80282168-82282168 & 0.051262161 & 5.324193 & 0.275255 & 0.7043137 & 51 & 0.0105019715 & 0.04680357 & 2.839339\\\\\n",
       "\t ENSG00000117899 & chr15\\_81293344\\_C\\_G & 15 & 81293344 & C & G & ENSG00000117899\\_L1 & L1 & chr15:80282168-82282168 & 0.064323072 & 5.367173 & 0.275255 & 0.7043137 & 51 & 0.0136211466 & 0.05362468 & 2.839339\\\\\n",
       "\t ENSG00000117899 & chr15\\_81301405\\_G\\_C & 15 & 81301405 & G & C & ENSG00000117899\\_L1 & L1 & chr15:80282168-82282168 & 0.048038421 & 5.314620 & 0.275255 & 0.7043137 & 51 & 0.0099126518 & 0.04575117 & 2.839339\\\\\n",
       "\t ENSG00000117899 & chr15\\_81304132\\_A\\_G & 15 & 81304132 & A & G & ENSG00000117899\\_L1 & L1 & chr15:80282168-82282168 & 0.071330490 & 5.387340 & 0.275255 & 0.7043137 & 51 & 0.0151627388 & 0.05640501 & 2.839339\\\\\n",
       "\t ENSG00000117899 & chr15\\_81306377\\_A\\_G & 15 & 81306377 & A & G & ENSG00000117899\\_L1 & L1 & chr15:80282168-82282168 & 0.012105952 & 4.994439 & 0.275255 & 0.7043137 & 51 & 0.0020469206 & 0.02026705 & 2.839339\\\\\n",
       "\t ENSG00000117899 & chr15\\_81306778\\_C\\_A & 15 & 81306778 & C & A & ENSG00000117899\\_L1 & L1 & chr15:80282168-82282168 & 0.022309120 & 5.115805 & 0.275255 & 0.7043137 & 51 & 0.0049807696 & 0.03498056 & 2.839339\\\\\n",
       "\t ENSG00000117899 & chr15\\_81307691\\_T\\_C & 15 & 81307691 & T & C & ENSG00000117899\\_L1 & L1 & chr15:80282168-82282168 & 0.008902526 & 4.879993 & 0.275255 & 0.7043137 & 51 & 0.0016504876 & 0.01969335 & 2.839339\\\\\n",
       "\t ENSG00000117899 & chr15\\_81307879\\_T\\_C & 15 & 81307879 & T & C & ENSG00000117899\\_L1 & L1 & chr15:80282168-82282168 & 0.006394875 & 4.770489 & 0.275255 & 0.7043137 & 51 & 0.0010645217 & 0.01569340 & 2.839339\\\\\n",
       "\t ENSG00000117899 & chr15\\_81309370\\_A\\_G & 15 & 81309370 & A & G & ENSG00000117899\\_L1 & L1 & chr15:80282168-82282168 & 0.006394875 & 4.770489 & 0.275255 & 0.7043137 & 51 & 0.0010645217 & 0.01569340 & 2.839339\\\\\n",
       "\t ENSG00000117899 & chr15\\_81312579\\_T\\_C & 15 & 81312579 & T & C & ENSG00000117899\\_L1 & L1 & chr15:80282168-82282168 & 0.012172890 & 4.962586 & 0.275255 & 0.7043137 & 51 & 0.0024221610 & 0.02396508 & 2.839339\\\\\n",
       "\t ENSG00000117899 & chr15\\_81315309\\_G\\_A & 15 & 81315309 & G & A & ENSG00000117899\\_L1 & L1 & chr15:80282168-82282168 & 0.005584500 & 4.733426 & 0.275255 & 0.7043137 & 51 & 0.0009240576 & 0.01501561 & 2.839339\\\\\n",
       "\t ENSG00000117899 & chr15\\_81317292\\_G\\_C & 15 & 81317292 & G & C & ENSG00000117899\\_L1 & L1 & chr15:80282168-82282168 & 0.007060675 & 4.764456 & 0.275255 & 0.7043137 & 51 & 0.0009685818 & 0.01390370 & 2.839339\\\\\n",
       "\t ENSG00000117899 & chr15\\_81318832\\_G\\_A & 15 & 81318832 & G & A & ENSG00000117899\\_L1 & L1 & chr15:80282168-82282168 & 0.029427981 & 5.183218 & 0.275255 & 0.7043137 & 51 & 0.0068533609 & 0.04138048 & 2.839339\\\\\n",
       "\\end{tabular}\n"
      ],
      "text/markdown": [
       "\n",
       "A data.frame: 51 x 17\n",
       "\n",
       "| phenotype_id &lt;chr&gt; | variant_id &lt;chr&gt; | chr &lt;int&gt; | pos &lt;int&gt; | ref &lt;chr&gt; | alt &lt;chr&gt; | cs_id &lt;chr&gt; | cs_index &lt;chr&gt; | finemapped_region &lt;chr&gt; | pip &lt;dbl&gt; | z &lt;dbl&gt; | cs_min_r2 &lt;dbl&gt; | cs_avg_r2 &lt;dbl&gt; | cs_size &lt;int&gt; | posterior_mean &lt;dbl&gt; | posterior_sd &lt;dbl&gt; | cs_log10bf &lt;dbl&gt; |\n",
       "|---|---|---|---|---|---|---|---|---|---|---|---|---|---|---|---|---|\n",
       "| ENSG00000117899 | chr15_81249076_T_C | 15 | 81249076 | T | C | ENSG00000117899_L1 | L1 | chr15:80282168-82282168 | 0.050869025 | 5.346830 | 0.275255 | 0.7043137 | 51 | 0.0114411905 | 0.05127328 | 2.839339 |\n",
       "| ENSG00000117899 | chr15_81261949_G_A | 15 | 81261949 | G | A | ENSG00000117899_L1 | L1 | chr15:80282168-82282168 | 0.034938967 | 5.274990 | 0.275255 | 0.7043137 | 51 | 0.0071587132 | 0.03930282 | 2.839339 |\n",
       "| ENSG00000117899 | chr15_81263140_T_C | 15 | 81263140 | T | C | ENSG00000117899_L1 | L1 | chr15:80282168-82282168 | 0.034938967 | 5.274990 | 0.275255 | 0.7043137 | 51 | 0.0071587132 | 0.03930282 | 2.839339 |\n",
       "| ENSG00000117899 | chr15_81263436_G_C | 15 | 81263436 | G | C | ENSG00000117899_L1 | L1 | chr15:80282168-82282168 | 0.034938967 | 5.274990 | 0.275255 | 0.7043137 | 51 | 0.0071587132 | 0.03930282 | 2.839339 |\n",
       "| ENSG00000117899 | chr15_81263637_C_T | 15 | 81263637 | C | T | ENSG00000117899_L1 | L1 | chr15:80282168-82282168 | 0.034938967 | 5.274990 | 0.275255 | 0.7043137 | 51 | 0.0071587132 | 0.03930282 | 2.839339 |\n",
       "| ENSG00000117899 | chr15_81265953_A_G | 15 | 81265953 | A | G | ENSG00000117899_L1 | L1 | chr15:80282168-82282168 | 0.011913150 | 4.973080 | 0.275255 | 0.7043137 | 51 | 0.0021035565 | 0.02102206 | 2.839339 |\n",
       "| ENSG00000117899 | chr15_81266406_C_T | 15 | 81266406 | C | T | ENSG00000117899_L1 | L1 | chr15:80282168-82282168 | 0.015099518 | 5.048408 | 0.275255 | 0.7043137 | 51 | 0.0028278975 | 0.02465933 | 2.839339 |\n",
       "| ENSG00000117899 | chr15_81268715_A_G | 15 | 81268715 | A | G | ENSG00000117899_L1 | L1 | chr15:80282168-82282168 | 0.008195924 | 4.884943 | 0.275255 | 0.7043137 | 51 | 0.0013511259 | 0.01690219 | 2.839339 |\n",
       "| ENSG00000117899 | chr15_81271406_C_A | 15 | 81271406 | C | A | ENSG00000117899_L1 | L1 | chr15:80282168-82282168 | 0.006925754 | 4.797996 | 0.275255 | 0.7043137 | 51 | 0.0011871025 | 0.01662322 | 2.839339 |\n",
       "| ENSG00000117899 | chr15_81271557_C_A | 15 | 81271557 | C | A | ENSG00000117899_L1 | L1 | chr15:80282168-82282168 | 0.016055439 | 5.051418 | 0.275255 | 0.7043137 | 51 | 0.0033601941 | 0.02841940 | 2.839339 |\n",
       "| ENSG00000117899 | chr15_81272072_G_A | 15 | 81272072 | G | A | ENSG00000117899_L1 | L1 | chr15:80282168-82282168 | 0.024091206 | 5.145676 | 0.275255 | 0.7043137 | 51 | 0.0045369478 | 0.03047374 | 2.839339 |\n",
       "| ENSG00000117899 | chr15_81272880_G_A | 15 | 81272880 | G | A | ENSG00000117899_L1 | L1 | chr15:80282168-82282168 | 0.011397523 | 4.959082 | 0.275255 | 0.7043137 | 51 | 0.0022283961 | 0.02289328 | 2.839339 |\n",
       "| ENSG00000117899 | chr15_81273907_C_T | 15 | 81273907 | C | T | ENSG00000117899_L1 | L1 | chr15:80282168-82282168 | 0.012658020 | 4.988748 | 0.275255 | 0.7043137 | 51 | 0.0025770468 | 0.02493691 | 2.839339 |\n",
       "| ENSG00000117899 | chr15_81275449_C_T | 15 | 81275449 | C | T | ENSG00000117899_L1 | L1 | chr15:80282168-82282168 | 0.039962962 | 5.266471 | 0.275255 | 0.7043137 | 51 | 0.0079125586 | 0.04035365 | 2.839339 |\n",
       "| ENSG00000117899 | chr15_81275745_G_A | 15 | 81275745 | G | A | ENSG00000117899_L1 | L1 | chr15:80282168-82282168 | 0.010231274 | 4.912964 | 0.275255 | 0.7043137 | 51 | 0.0019709494 | 0.02158711 | 2.839339 |\n",
       "| ENSG00000117899 | chr15_81276342_G_A | 15 | 81276342 | G | A | ENSG00000117899_L1 | L1 | chr15:80282168-82282168 | 0.024134163 | 5.148709 | 0.275255 | 0.7043137 | 51 | 0.0045657200 | 0.03063260 | 2.839339 |\n",
       "| ENSG00000117899 | chr15_81276518_G_C | 15 | 81276518 | G | C | ENSG00000117899_L1 | L1 | chr15:80282168-82282168 | 0.006468309 | 4.779364 | 0.275255 | 0.7043137 | 51 | 0.0010892135 | 0.01589429 | 2.839339 |\n",
       "| ENSG00000117899 | chr15_81276723_G_A | 15 | 81276723 | G | A | ENSG00000117899_L1 | L1 | chr15:80282168-82282168 | 0.009051649 | 4.887455 | 0.275255 | 0.7043137 | 51 | 0.0016867906 | 0.01988907 | 2.839339 |\n",
       "| ENSG00000117899 | chr15_81276787_A_C | 15 | 81276787 | A | C | ENSG00000117899_L1 | L1 | chr15:80282168-82282168 | 0.007679368 | 4.827408 | 0.275255 | 0.7043137 | 51 | 0.0013662780 | 0.01784597 | 2.839339 |\n",
       "| ENSG00000117899 | chr15_81276911_A_C | 15 | 81276911 | A | C | ENSG00000117899_L1 | L1 | chr15:80282168-82282168 | 0.024134163 | 5.148709 | 0.275255 | 0.7043137 | 51 | 0.0045657200 | 0.03063260 | 2.839339 |\n",
       "| ENSG00000117899 | chr15_81277018_A_G | 15 | 81277018 | A | G | ENSG00000117899_L1 | L1 | chr15:80282168-82282168 | 0.007679368 | 4.827408 | 0.275255 | 0.7043137 | 51 | 0.0013662780 | 0.01784597 | 2.839339 |\n",
       "| ENSG00000117899 | chr15_81277544_C_T | 15 | 81277544 | C | T | ENSG00000117899_L1 | L1 | chr15:80282168-82282168 | 0.006468309 | 4.779364 | 0.275255 | 0.7043137 | 51 | 0.0010892135 | 0.01589429 | 2.839339 |\n",
       "| ENSG00000117899 | chr15_81278365_T_A | 15 | 81278365 | T | A | ENSG00000117899_L1 | L1 | chr15:80282168-82282168 | 0.007679368 | 4.827408 | 0.275255 | 0.7043137 | 51 | 0.0013662780 | 0.01784597 | 2.839339 |\n",
       "| ENSG00000117899 | chr15_81278690_T_C | 15 | 81278690 | T | C | ENSG00000117899_L1 | L1 | chr15:80282168-82282168 | 0.006468309 | 4.779364 | 0.275255 | 0.7043137 | 51 | 0.0010892135 | 0.01589429 | 2.839339 |\n",
       "| ENSG00000117899 | chr15_81278885_T_C | 15 | 81278885 | T | C | ENSG00000117899_L1 | L1 | chr15:80282168-82282168 | 0.006646347 | 4.802424 | 0.275255 | 0.7043137 | 51 | 0.0009469227 | 0.01353371 | 2.839339 |\n",
       "| ENSG00000117899 | chr15_81279136_G_A | 15 | 81279136 | G | A | ENSG00000117899_L1 | L1 | chr15:80282168-82282168 | 0.017122686 | 5.075486 | 0.275255 | 0.7043137 | 51 | 0.0031652573 | 0.02568426 | 2.839339 |\n",
       "| ENSG00000117899 | chr15_81279356_G_A | 15 | 81279356 | G | A | ENSG00000117899_L1 | L1 | chr15:80282168-82282168 | 0.008212705 | 4.860412 | 0.275255 | 0.7043137 | 51 | 0.0014898579 | 0.01865314 | 2.839339 |\n",
       "| ENSG00000117899 | chr15_81279706_C_T | 15 | 81279706 | C | T | ENSG00000117899_L1 | L1 | chr15:80282168-82282168 | 0.006468309 | 4.779364 | 0.275255 | 0.7043137 | 51 | 0.0010892135 | 0.01589429 | 2.839339 |\n",
       "| ENSG00000117899 | chr15_81281566_T_C | 15 | 81281566 | T | C | ENSG00000117899_L1 | L1 | chr15:80282168-82282168 | 0.018738077 | 5.084941 | 0.275255 | 0.7043137 | 51 | 0.0034803861 | 0.02685172 | 2.839339 |\n",
       "| ENSG00000117899 | chr15_81284528_C_A | 15 | 81284528 | C | A | ENSG00000117899_L1 | L1 | chr15:80282168-82282168 | 0.023524155 | 5.139024 | 0.275255 | 0.7043137 | 51 | 0.0045404034 | 0.03089683 | 2.839339 |\n",
       "| ENSG00000117899 | chr15_81285875_C_T | 15 | 81285875 | C | T | ENSG00000117899_L1 | L1 | chr15:80282168-82282168 | 0.011720142 | 4.993414 | 0.275255 | 0.7043137 | 51 | 0.0020671433 | 0.02082351 | 2.839339 |\n",
       "| ENSG00000117899 | chr15_81286252_T_G | 15 | 81286252 | T | G | ENSG00000117899_L1 | L1 | chr15:80282168-82282168 | 0.015495992 | 5.063909 | 0.275255 | 0.7043137 | 51 | 0.0028679489 | 0.02461034 | 2.839339 |\n",
       "| ENSG00000117899 | chr15_81287796_G_C | 15 | 81287796 | G | C | ENSG00000117899_L1 | L1 | chr15:80282168-82282168 | 0.031182555 | 5.206123 | 0.275255 | 0.7043137 | 51 | 0.0062441545 | 0.03642656 | 2.839339 |\n",
       "| ENSG00000117899 | chr15_81289272_T_C | 15 | 81289272 | T | C | ENSG00000117899_L1 | L1 | chr15:80282168-82282168 | 0.011127868 | 4.981440 | 0.275255 | 0.7043137 | 51 | 0.0018955464 | 0.01968727 | 2.839339 |\n",
       "| ENSG00000117899 | chr15_81290783_T_C | 15 | 81290783 | T | C | ENSG00000117899_L1 | L1 | chr15:80282168-82282168 | 0.024594300 | 5.176633 | 0.275255 | 0.7043137 | 51 | 0.0047800726 | 0.03175453 | 2.839339 |\n",
       "| ENSG00000117899 | chr15_81292652_G_A | 15 | 81292652 | G | A | ENSG00000117899_L1 | L1 | chr15:80282168-82282168 | 0.008885863 | 4.888158 | 0.275255 | 0.7043137 | 51 | 0.0014492560 | 0.01722477 | 2.839339 |\n",
       "| ENSG00000117899 | chr15_81292762_G_A | 15 | 81292762 | G | A | ENSG00000117899_L1 | L1 | chr15:80282168-82282168 | 0.021569939 | 5.145501 | 0.275255 | 0.7043137 | 51 | 0.0040966787 | 0.02924073 | 2.839339 |\n",
       "| ENSG00000117899 | chr15_81292864_A_T | 15 | 81292864 | A | T | ENSG00000117899_L1 | L1 | chr15:80282168-82282168 | 0.045872178 | 5.295317 | 0.275255 | 0.7043137 | 51 | 0.0093200069 | 0.04410704 | 2.839339 |\n",
       "| ENSG00000117899 | chr15_81293026_G_C | 15 | 81293026 | G | C | ENSG00000117899_L1 | L1 | chr15:80282168-82282168 | 0.051262161 | 5.324193 | 0.275255 | 0.7043137 | 51 | 0.0105019715 | 0.04680357 | 2.839339 |\n",
       "| ENSG00000117899 | chr15_81293344_C_G | 15 | 81293344 | C | G | ENSG00000117899_L1 | L1 | chr15:80282168-82282168 | 0.064323072 | 5.367173 | 0.275255 | 0.7043137 | 51 | 0.0136211466 | 0.05362468 | 2.839339 |\n",
       "| ENSG00000117899 | chr15_81301405_G_C | 15 | 81301405 | G | C | ENSG00000117899_L1 | L1 | chr15:80282168-82282168 | 0.048038421 | 5.314620 | 0.275255 | 0.7043137 | 51 | 0.0099126518 | 0.04575117 | 2.839339 |\n",
       "| ENSG00000117899 | chr15_81304132_A_G | 15 | 81304132 | A | G | ENSG00000117899_L1 | L1 | chr15:80282168-82282168 | 0.071330490 | 5.387340 | 0.275255 | 0.7043137 | 51 | 0.0151627388 | 0.05640501 | 2.839339 |\n",
       "| ENSG00000117899 | chr15_81306377_A_G | 15 | 81306377 | A | G | ENSG00000117899_L1 | L1 | chr15:80282168-82282168 | 0.012105952 | 4.994439 | 0.275255 | 0.7043137 | 51 | 0.0020469206 | 0.02026705 | 2.839339 |\n",
       "| ENSG00000117899 | chr15_81306778_C_A | 15 | 81306778 | C | A | ENSG00000117899_L1 | L1 | chr15:80282168-82282168 | 0.022309120 | 5.115805 | 0.275255 | 0.7043137 | 51 | 0.0049807696 | 0.03498056 | 2.839339 |\n",
       "| ENSG00000117899 | chr15_81307691_T_C | 15 | 81307691 | T | C | ENSG00000117899_L1 | L1 | chr15:80282168-82282168 | 0.008902526 | 4.879993 | 0.275255 | 0.7043137 | 51 | 0.0016504876 | 0.01969335 | 2.839339 |\n",
       "| ENSG00000117899 | chr15_81307879_T_C | 15 | 81307879 | T | C | ENSG00000117899_L1 | L1 | chr15:80282168-82282168 | 0.006394875 | 4.770489 | 0.275255 | 0.7043137 | 51 | 0.0010645217 | 0.01569340 | 2.839339 |\n",
       "| ENSG00000117899 | chr15_81309370_A_G | 15 | 81309370 | A | G | ENSG00000117899_L1 | L1 | chr15:80282168-82282168 | 0.006394875 | 4.770489 | 0.275255 | 0.7043137 | 51 | 0.0010645217 | 0.01569340 | 2.839339 |\n",
       "| ENSG00000117899 | chr15_81312579_T_C | 15 | 81312579 | T | C | ENSG00000117899_L1 | L1 | chr15:80282168-82282168 | 0.012172890 | 4.962586 | 0.275255 | 0.7043137 | 51 | 0.0024221610 | 0.02396508 | 2.839339 |\n",
       "| ENSG00000117899 | chr15_81315309_G_A | 15 | 81315309 | G | A | ENSG00000117899_L1 | L1 | chr15:80282168-82282168 | 0.005584500 | 4.733426 | 0.275255 | 0.7043137 | 51 | 0.0009240576 | 0.01501561 | 2.839339 |\n",
       "| ENSG00000117899 | chr15_81317292_G_C | 15 | 81317292 | G | C | ENSG00000117899_L1 | L1 | chr15:80282168-82282168 | 0.007060675 | 4.764456 | 0.275255 | 0.7043137 | 51 | 0.0009685818 | 0.01390370 | 2.839339 |\n",
       "| ENSG00000117899 | chr15_81318832_G_A | 15 | 81318832 | G | A | ENSG00000117899_L1 | L1 | chr15:80282168-82282168 | 0.029427981 | 5.183218 | 0.275255 | 0.7043137 | 51 | 0.0068533609 | 0.04138048 | 2.839339 |\n",
       "\n"
      ],
      "text/plain": [
       "   phenotype_id    variant_id         chr pos      ref alt cs_id             \n",
       "1  ENSG00000117899 chr15_81249076_T_C 15  81249076 T   C   ENSG00000117899_L1\n",
       "2  ENSG00000117899 chr15_81261949_G_A 15  81261949 G   A   ENSG00000117899_L1\n",
       "3  ENSG00000117899 chr15_81263140_T_C 15  81263140 T   C   ENSG00000117899_L1\n",
       "4  ENSG00000117899 chr15_81263436_G_C 15  81263436 G   C   ENSG00000117899_L1\n",
       "5  ENSG00000117899 chr15_81263637_C_T 15  81263637 C   T   ENSG00000117899_L1\n",
       "6  ENSG00000117899 chr15_81265953_A_G 15  81265953 A   G   ENSG00000117899_L1\n",
       "7  ENSG00000117899 chr15_81266406_C_T 15  81266406 C   T   ENSG00000117899_L1\n",
       "8  ENSG00000117899 chr15_81268715_A_G 15  81268715 A   G   ENSG00000117899_L1\n",
       "9  ENSG00000117899 chr15_81271406_C_A 15  81271406 C   A   ENSG00000117899_L1\n",
       "10 ENSG00000117899 chr15_81271557_C_A 15  81271557 C   A   ENSG00000117899_L1\n",
       "11 ENSG00000117899 chr15_81272072_G_A 15  81272072 G   A   ENSG00000117899_L1\n",
       "12 ENSG00000117899 chr15_81272880_G_A 15  81272880 G   A   ENSG00000117899_L1\n",
       "13 ENSG00000117899 chr15_81273907_C_T 15  81273907 C   T   ENSG00000117899_L1\n",
       "14 ENSG00000117899 chr15_81275449_C_T 15  81275449 C   T   ENSG00000117899_L1\n",
       "15 ENSG00000117899 chr15_81275745_G_A 15  81275745 G   A   ENSG00000117899_L1\n",
       "16 ENSG00000117899 chr15_81276342_G_A 15  81276342 G   A   ENSG00000117899_L1\n",
       "17 ENSG00000117899 chr15_81276518_G_C 15  81276518 G   C   ENSG00000117899_L1\n",
       "18 ENSG00000117899 chr15_81276723_G_A 15  81276723 G   A   ENSG00000117899_L1\n",
       "19 ENSG00000117899 chr15_81276787_A_C 15  81276787 A   C   ENSG00000117899_L1\n",
       "20 ENSG00000117899 chr15_81276911_A_C 15  81276911 A   C   ENSG00000117899_L1\n",
       "21 ENSG00000117899 chr15_81277018_A_G 15  81277018 A   G   ENSG00000117899_L1\n",
       "22 ENSG00000117899 chr15_81277544_C_T 15  81277544 C   T   ENSG00000117899_L1\n",
       "23 ENSG00000117899 chr15_81278365_T_A 15  81278365 T   A   ENSG00000117899_L1\n",
       "24 ENSG00000117899 chr15_81278690_T_C 15  81278690 T   C   ENSG00000117899_L1\n",
       "25 ENSG00000117899 chr15_81278885_T_C 15  81278885 T   C   ENSG00000117899_L1\n",
       "26 ENSG00000117899 chr15_81279136_G_A 15  81279136 G   A   ENSG00000117899_L1\n",
       "27 ENSG00000117899 chr15_81279356_G_A 15  81279356 G   A   ENSG00000117899_L1\n",
       "28 ENSG00000117899 chr15_81279706_C_T 15  81279706 C   T   ENSG00000117899_L1\n",
       "29 ENSG00000117899 chr15_81281566_T_C 15  81281566 T   C   ENSG00000117899_L1\n",
       "30 ENSG00000117899 chr15_81284528_C_A 15  81284528 C   A   ENSG00000117899_L1\n",
       "31 ENSG00000117899 chr15_81285875_C_T 15  81285875 C   T   ENSG00000117899_L1\n",
       "32 ENSG00000117899 chr15_81286252_T_G 15  81286252 T   G   ENSG00000117899_L1\n",
       "33 ENSG00000117899 chr15_81287796_G_C 15  81287796 G   C   ENSG00000117899_L1\n",
       "34 ENSG00000117899 chr15_81289272_T_C 15  81289272 T   C   ENSG00000117899_L1\n",
       "35 ENSG00000117899 chr15_81290783_T_C 15  81290783 T   C   ENSG00000117899_L1\n",
       "36 ENSG00000117899 chr15_81292652_G_A 15  81292652 G   A   ENSG00000117899_L1\n",
       "37 ENSG00000117899 chr15_81292762_G_A 15  81292762 G   A   ENSG00000117899_L1\n",
       "38 ENSG00000117899 chr15_81292864_A_T 15  81292864 A   T   ENSG00000117899_L1\n",
       "39 ENSG00000117899 chr15_81293026_G_C 15  81293026 G   C   ENSG00000117899_L1\n",
       "40 ENSG00000117899 chr15_81293344_C_G 15  81293344 C   G   ENSG00000117899_L1\n",
       "41 ENSG00000117899 chr15_81301405_G_C 15  81301405 G   C   ENSG00000117899_L1\n",
       "42 ENSG00000117899 chr15_81304132_A_G 15  81304132 A   G   ENSG00000117899_L1\n",
       "43 ENSG00000117899 chr15_81306377_A_G 15  81306377 A   G   ENSG00000117899_L1\n",
       "44 ENSG00000117899 chr15_81306778_C_A 15  81306778 C   A   ENSG00000117899_L1\n",
       "45 ENSG00000117899 chr15_81307691_T_C 15  81307691 T   C   ENSG00000117899_L1\n",
       "46 ENSG00000117899 chr15_81307879_T_C 15  81307879 T   C   ENSG00000117899_L1\n",
       "47 ENSG00000117899 chr15_81309370_A_G 15  81309370 A   G   ENSG00000117899_L1\n",
       "48 ENSG00000117899 chr15_81312579_T_C 15  81312579 T   C   ENSG00000117899_L1\n",
       "49 ENSG00000117899 chr15_81315309_G_A 15  81315309 G   A   ENSG00000117899_L1\n",
       "50 ENSG00000117899 chr15_81317292_G_C 15  81317292 G   C   ENSG00000117899_L1\n",
       "51 ENSG00000117899 chr15_81318832_G_A 15  81318832 G   A   ENSG00000117899_L1\n",
       "   cs_index finemapped_region       pip         z        cs_min_r2 cs_avg_r2\n",
       "1  L1       chr15:80282168-82282168 0.050869025 5.346830 0.275255  0.7043137\n",
       "2  L1       chr15:80282168-82282168 0.034938967 5.274990 0.275255  0.7043137\n",
       "3  L1       chr15:80282168-82282168 0.034938967 5.274990 0.275255  0.7043137\n",
       "4  L1       chr15:80282168-82282168 0.034938967 5.274990 0.275255  0.7043137\n",
       "5  L1       chr15:80282168-82282168 0.034938967 5.274990 0.275255  0.7043137\n",
       "6  L1       chr15:80282168-82282168 0.011913150 4.973080 0.275255  0.7043137\n",
       "7  L1       chr15:80282168-82282168 0.015099518 5.048408 0.275255  0.7043137\n",
       "8  L1       chr15:80282168-82282168 0.008195924 4.884943 0.275255  0.7043137\n",
       "9  L1       chr15:80282168-82282168 0.006925754 4.797996 0.275255  0.7043137\n",
       "10 L1       chr15:80282168-82282168 0.016055439 5.051418 0.275255  0.7043137\n",
       "11 L1       chr15:80282168-82282168 0.024091206 5.145676 0.275255  0.7043137\n",
       "12 L1       chr15:80282168-82282168 0.011397523 4.959082 0.275255  0.7043137\n",
       "13 L1       chr15:80282168-82282168 0.012658020 4.988748 0.275255  0.7043137\n",
       "14 L1       chr15:80282168-82282168 0.039962962 5.266471 0.275255  0.7043137\n",
       "15 L1       chr15:80282168-82282168 0.010231274 4.912964 0.275255  0.7043137\n",
       "16 L1       chr15:80282168-82282168 0.024134163 5.148709 0.275255  0.7043137\n",
       "17 L1       chr15:80282168-82282168 0.006468309 4.779364 0.275255  0.7043137\n",
       "18 L1       chr15:80282168-82282168 0.009051649 4.887455 0.275255  0.7043137\n",
       "19 L1       chr15:80282168-82282168 0.007679368 4.827408 0.275255  0.7043137\n",
       "20 L1       chr15:80282168-82282168 0.024134163 5.148709 0.275255  0.7043137\n",
       "21 L1       chr15:80282168-82282168 0.007679368 4.827408 0.275255  0.7043137\n",
       "22 L1       chr15:80282168-82282168 0.006468309 4.779364 0.275255  0.7043137\n",
       "23 L1       chr15:80282168-82282168 0.007679368 4.827408 0.275255  0.7043137\n",
       "24 L1       chr15:80282168-82282168 0.006468309 4.779364 0.275255  0.7043137\n",
       "25 L1       chr15:80282168-82282168 0.006646347 4.802424 0.275255  0.7043137\n",
       "26 L1       chr15:80282168-82282168 0.017122686 5.075486 0.275255  0.7043137\n",
       "27 L1       chr15:80282168-82282168 0.008212705 4.860412 0.275255  0.7043137\n",
       "28 L1       chr15:80282168-82282168 0.006468309 4.779364 0.275255  0.7043137\n",
       "29 L1       chr15:80282168-82282168 0.018738077 5.084941 0.275255  0.7043137\n",
       "30 L1       chr15:80282168-82282168 0.023524155 5.139024 0.275255  0.7043137\n",
       "31 L1       chr15:80282168-82282168 0.011720142 4.993414 0.275255  0.7043137\n",
       "32 L1       chr15:80282168-82282168 0.015495992 5.063909 0.275255  0.7043137\n",
       "33 L1       chr15:80282168-82282168 0.031182555 5.206123 0.275255  0.7043137\n",
       "34 L1       chr15:80282168-82282168 0.011127868 4.981440 0.275255  0.7043137\n",
       "35 L1       chr15:80282168-82282168 0.024594300 5.176633 0.275255  0.7043137\n",
       "36 L1       chr15:80282168-82282168 0.008885863 4.888158 0.275255  0.7043137\n",
       "37 L1       chr15:80282168-82282168 0.021569939 5.145501 0.275255  0.7043137\n",
       "38 L1       chr15:80282168-82282168 0.045872178 5.295317 0.275255  0.7043137\n",
       "39 L1       chr15:80282168-82282168 0.051262161 5.324193 0.275255  0.7043137\n",
       "40 L1       chr15:80282168-82282168 0.064323072 5.367173 0.275255  0.7043137\n",
       "41 L1       chr15:80282168-82282168 0.048038421 5.314620 0.275255  0.7043137\n",
       "42 L1       chr15:80282168-82282168 0.071330490 5.387340 0.275255  0.7043137\n",
       "43 L1       chr15:80282168-82282168 0.012105952 4.994439 0.275255  0.7043137\n",
       "44 L1       chr15:80282168-82282168 0.022309120 5.115805 0.275255  0.7043137\n",
       "45 L1       chr15:80282168-82282168 0.008902526 4.879993 0.275255  0.7043137\n",
       "46 L1       chr15:80282168-82282168 0.006394875 4.770489 0.275255  0.7043137\n",
       "47 L1       chr15:80282168-82282168 0.006394875 4.770489 0.275255  0.7043137\n",
       "48 L1       chr15:80282168-82282168 0.012172890 4.962586 0.275255  0.7043137\n",
       "49 L1       chr15:80282168-82282168 0.005584500 4.733426 0.275255  0.7043137\n",
       "50 L1       chr15:80282168-82282168 0.007060675 4.764456 0.275255  0.7043137\n",
       "51 L1       chr15:80282168-82282168 0.029427981 5.183218 0.275255  0.7043137\n",
       "   cs_size posterior_mean posterior_sd cs_log10bf\n",
       "1  51      0.0114411905   0.05127328   2.839339  \n",
       "2  51      0.0071587132   0.03930282   2.839339  \n",
       "3  51      0.0071587132   0.03930282   2.839339  \n",
       "4  51      0.0071587132   0.03930282   2.839339  \n",
       "5  51      0.0071587132   0.03930282   2.839339  \n",
       "6  51      0.0021035565   0.02102206   2.839339  \n",
       "7  51      0.0028278975   0.02465933   2.839339  \n",
       "8  51      0.0013511259   0.01690219   2.839339  \n",
       "9  51      0.0011871025   0.01662322   2.839339  \n",
       "10 51      0.0033601941   0.02841940   2.839339  \n",
       "11 51      0.0045369478   0.03047374   2.839339  \n",
       "12 51      0.0022283961   0.02289328   2.839339  \n",
       "13 51      0.0025770468   0.02493691   2.839339  \n",
       "14 51      0.0079125586   0.04035365   2.839339  \n",
       "15 51      0.0019709494   0.02158711   2.839339  \n",
       "16 51      0.0045657200   0.03063260   2.839339  \n",
       "17 51      0.0010892135   0.01589429   2.839339  \n",
       "18 51      0.0016867906   0.01988907   2.839339  \n",
       "19 51      0.0013662780   0.01784597   2.839339  \n",
       "20 51      0.0045657200   0.03063260   2.839339  \n",
       "21 51      0.0013662780   0.01784597   2.839339  \n",
       "22 51      0.0010892135   0.01589429   2.839339  \n",
       "23 51      0.0013662780   0.01784597   2.839339  \n",
       "24 51      0.0010892135   0.01589429   2.839339  \n",
       "25 51      0.0009469227   0.01353371   2.839339  \n",
       "26 51      0.0031652573   0.02568426   2.839339  \n",
       "27 51      0.0014898579   0.01865314   2.839339  \n",
       "28 51      0.0010892135   0.01589429   2.839339  \n",
       "29 51      0.0034803861   0.02685172   2.839339  \n",
       "30 51      0.0045404034   0.03089683   2.839339  \n",
       "31 51      0.0020671433   0.02082351   2.839339  \n",
       "32 51      0.0028679489   0.02461034   2.839339  \n",
       "33 51      0.0062441545   0.03642656   2.839339  \n",
       "34 51      0.0018955464   0.01968727   2.839339  \n",
       "35 51      0.0047800726   0.03175453   2.839339  \n",
       "36 51      0.0014492560   0.01722477   2.839339  \n",
       "37 51      0.0040966787   0.02924073   2.839339  \n",
       "38 51      0.0093200069   0.04410704   2.839339  \n",
       "39 51      0.0105019715   0.04680357   2.839339  \n",
       "40 51      0.0136211466   0.05362468   2.839339  \n",
       "41 51      0.0099126518   0.04575117   2.839339  \n",
       "42 51      0.0151627388   0.05640501   2.839339  \n",
       "43 51      0.0020469206   0.02026705   2.839339  \n",
       "44 51      0.0049807696   0.03498056   2.839339  \n",
       "45 51      0.0016504876   0.01969335   2.839339  \n",
       "46 51      0.0010645217   0.01569340   2.839339  \n",
       "47 51      0.0010645217   0.01569340   2.839339  \n",
       "48 51      0.0024221610   0.02396508   2.839339  \n",
       "49 51      0.0009240576   0.01501561   2.839339  \n",
       "50 51      0.0009685818   0.01390370   2.839339  \n",
       "51 51      0.0068533609   0.04138048   2.839339  "
      ]
     },
     "metadata": {},
     "output_type": "display_data"
    }
   ],
   "source": [
    "susie_eur <- fread(\"results/susie_finemap/eur_ciseqtl_50hcp_perm_purity_filtered.txt.gz\", data.table = F)\n",
    "susie_eur %>% filter(phenotype_id == \"ENSG00000117899\")"
   ]
  },
  {
   "cell_type": "code",
   "execution_count": 16,
   "metadata": {
    "scrolled": true
   },
   "outputs": [
    {
     "data": {
      "text/html": [
       "<table class=\"dataframe\">\n",
       "<caption>A data.frame: 32 x 17</caption>\n",
       "<thead>\n",
       "\t<tr><th scope=col>phenotype_id</th><th scope=col>variant_id</th><th scope=col>chr</th><th scope=col>pos</th><th scope=col>ref</th><th scope=col>alt</th><th scope=col>cs_id</th><th scope=col>cs_index</th><th scope=col>finemapped_region</th><th scope=col>pip</th><th scope=col>z</th><th scope=col>cs_min_r2</th><th scope=col>cs_avg_r2</th><th scope=col>cs_size</th><th scope=col>posterior_mean</th><th scope=col>posterior_sd</th><th scope=col>cs_log10bf</th></tr>\n",
       "\t<tr><th scope=col>&lt;chr&gt;</th><th scope=col>&lt;chr&gt;</th><th scope=col>&lt;int&gt;</th><th scope=col>&lt;int&gt;</th><th scope=col>&lt;chr&gt;</th><th scope=col>&lt;chr&gt;</th><th scope=col>&lt;chr&gt;</th><th scope=col>&lt;chr&gt;</th><th scope=col>&lt;chr&gt;</th><th scope=col>&lt;dbl&gt;</th><th scope=col>&lt;dbl&gt;</th><th scope=col>&lt;dbl&gt;</th><th scope=col>&lt;dbl&gt;</th><th scope=col>&lt;int&gt;</th><th scope=col>&lt;dbl&gt;</th><th scope=col>&lt;dbl&gt;</th><th scope=col>&lt;dbl&gt;</th></tr>\n",
       "</thead>\n",
       "<tbody>\n",
       "\t<tr><td>ENSG00000117899</td><td>chr15_81254628_A_C </td><td>15</td><td>81254628</td><td>A</td><td>C </td><td>ENSG00000117899_L1</td><td>L1</td><td>chr15:80282168-82282168</td><td>0.05248535</td><td>5.920117</td><td>0.7037162</td><td>0.8725997</td><td>32</td><td>0.020810976</td><td>0.08974491</td><td>4.441719</td></tr>\n",
       "\t<tr><td>ENSG00000117899</td><td>chr15_81259226_C_A </td><td>15</td><td>81259226</td><td>C</td><td>A </td><td>ENSG00000117899_L1</td><td>L1</td><td>chr15:80282168-82282168</td><td>0.02440329</td><td>5.615501</td><td>0.7037162</td><td>0.8725997</td><td>32</td><td>0.009238586</td><td>0.05930767</td><td>4.441719</td></tr>\n",
       "\t<tr><td>ENSG00000117899</td><td>chr15_81259833_C_T </td><td>15</td><td>81259833</td><td>C</td><td>T </td><td>ENSG00000117899_L1</td><td>L1</td><td>chr15:80282168-82282168</td><td>0.03789349</td><td>5.636346</td><td>0.7037162</td><td>0.8725997</td><td>32</td><td>0.014434229</td><td>0.07382445</td><td>4.441719</td></tr>\n",
       "\t<tr><td>ENSG00000117899</td><td>chr15_81261949_G_A </td><td>15</td><td>81261949</td><td>G</td><td>A </td><td>ENSG00000117899_L1</td><td>L1</td><td>chr15:80282168-82282168</td><td>0.01290777</td><td>5.579435</td><td>0.7037162</td><td>0.8725997</td><td>32</td><td>0.004871316</td><td>0.04327842</td><td>4.441719</td></tr>\n",
       "\t<tr><td>ENSG00000117899</td><td>chr15_81262001_C_G </td><td>15</td><td>81262001</td><td>C</td><td>G </td><td>ENSG00000117899_L1</td><td>L1</td><td>chr15:80282168-82282168</td><td>0.01454658</td><td>5.626851</td><td>0.7037162</td><td>0.8725997</td><td>32</td><td>0.005555817</td><td>0.04645162</td><td>4.441719</td></tr>\n",
       "\t<tr><td>ENSG00000117899</td><td>chr15_81263140_T_C </td><td>15</td><td>81263140</td><td>T</td><td>C </td><td>ENSG00000117899_L1</td><td>L1</td><td>chr15:80282168-82282168</td><td>0.01290777</td><td>5.579435</td><td>0.7037162</td><td>0.8725997</td><td>32</td><td>0.004871316</td><td>0.04327842</td><td>4.441719</td></tr>\n",
       "\t<tr><td>ENSG00000117899</td><td>chr15_81263436_G_C </td><td>15</td><td>81263436</td><td>G</td><td>C </td><td>ENSG00000117899_L1</td><td>L1</td><td>chr15:80282168-82282168</td><td>0.01473357</td><td>5.624492</td><td>0.7037162</td><td>0.8725997</td><td>32</td><td>0.005562945</td><td>0.04620951</td><td>4.441719</td></tr>\n",
       "\t<tr><td>ENSG00000117899</td><td>chr15_81263637_C_T </td><td>15</td><td>81263637</td><td>C</td><td>T </td><td>ENSG00000117899_L1</td><td>L1</td><td>chr15:80282168-82282168</td><td>0.01473357</td><td>5.624492</td><td>0.7037162</td><td>0.8725997</td><td>32</td><td>0.005562945</td><td>0.04620951</td><td>4.441719</td></tr>\n",
       "\t<tr><td>ENSG00000117899</td><td>chr15_81265953_A_G </td><td>15</td><td>81265953</td><td>A</td><td>G </td><td>ENSG00000117899_L1</td><td>L1</td><td>chr15:80282168-82282168</td><td>0.09374941</td><td>5.845858</td><td>0.7037162</td><td>0.8725997</td><td>32</td><td>0.037406695</td><td>0.11805282</td><td>4.441719</td></tr>\n",
       "\t<tr><td>ENSG00000117899</td><td>chr15_81266406_C_T </td><td>15</td><td>81266406</td><td>C</td><td>T </td><td>ENSG00000117899_L1</td><td>L1</td><td>chr15:80282168-82282168</td><td>0.01653880</td><td>5.681153</td><td>0.7037162</td><td>0.8725997</td><td>32</td><td>0.006525881</td><td>0.05111087</td><td>4.441719</td></tr>\n",
       "\t<tr><td>ENSG00000117899</td><td>chr15_81267430_A_T </td><td>15</td><td>81267430</td><td>A</td><td>T </td><td>ENSG00000117899_L1</td><td>L1</td><td>chr15:80282168-82282168</td><td>0.01653880</td><td>5.681153</td><td>0.7037162</td><td>0.8725997</td><td>32</td><td>0.006525881</td><td>0.05111087</td><td>4.441719</td></tr>\n",
       "\t<tr><td>ENSG00000117899</td><td>chr15_81268715_A_G </td><td>15</td><td>81268715</td><td>A</td><td>G </td><td>ENSG00000117899_L1</td><td>L1</td><td>chr15:80282168-82282168</td><td>0.01653880</td><td>5.681153</td><td>0.7037162</td><td>0.8725997</td><td>32</td><td>0.006525881</td><td>0.05111087</td><td>4.441719</td></tr>\n",
       "\t<tr><td>ENSG00000117899</td><td>chr15_81272072_G_A </td><td>15</td><td>81272072</td><td>G</td><td>A </td><td>ENSG00000117899_L1</td><td>L1</td><td>chr15:80282168-82282168</td><td>0.01252406</td><td>5.336751</td><td>0.7037162</td><td>0.8725997</td><td>32</td><td>0.004628547</td><td>0.04175626</td><td>4.441719</td></tr>\n",
       "\t<tr><td>ENSG00000117899</td><td>chr15_81275449_C_T </td><td>15</td><td>81275449</td><td>C</td><td>T </td><td>ENSG00000117899_L1</td><td>L1</td><td>chr15:80282168-82282168</td><td>0.01550155</td><td>5.417546</td><td>0.7037162</td><td>0.8725997</td><td>32</td><td>0.005784315</td><td>0.04682170</td><td>4.441719</td></tr>\n",
       "\t<tr><td>ENSG00000117899</td><td>chr15_81276342_G_A </td><td>15</td><td>81276342</td><td>G</td><td>A </td><td>ENSG00000117899_L1</td><td>L1</td><td>chr15:80282168-82282168</td><td>0.01550155</td><td>5.417546</td><td>0.7037162</td><td>0.8725997</td><td>32</td><td>0.005784315</td><td>0.04682170</td><td>4.441719</td></tr>\n",
       "\t<tr><td>ENSG00000117899</td><td>chr15_81276911_A_C </td><td>15</td><td>81276911</td><td>A</td><td>C </td><td>ENSG00000117899_L1</td><td>L1</td><td>chr15:80282168-82282168</td><td>0.01550155</td><td>5.417546</td><td>0.7037162</td><td>0.8725997</td><td>32</td><td>0.005784315</td><td>0.04682170</td><td>4.441719</td></tr>\n",
       "\t<tr><td>ENSG00000117899</td><td>chr15_81279136_G_A </td><td>15</td><td>81279136</td><td>G</td><td>A </td><td>ENSG00000117899_L1</td><td>L1</td><td>chr15:80282168-82282168</td><td>0.01653880</td><td>5.681153</td><td>0.7037162</td><td>0.8725997</td><td>32</td><td>0.006525881</td><td>0.05111087</td><td>4.441719</td></tr>\n",
       "\t<tr><td>ENSG00000117899</td><td>chr15_81281229_T_TA</td><td>15</td><td>81281229</td><td>T</td><td>TA</td><td>ENSG00000117899_L1</td><td>L1</td><td>chr15:80282168-82282168</td><td>0.01206942</td><td>5.421896</td><td>0.7037162</td><td>0.8725997</td><td>32</td><td>0.004428842</td><td>0.04071121</td><td>4.441719</td></tr>\n",
       "\t<tr><td>ENSG00000117899</td><td>chr15_81281566_T_C </td><td>15</td><td>81281566</td><td>T</td><td>C </td><td>ENSG00000117899_L1</td><td>L1</td><td>chr15:80282168-82282168</td><td>0.04135520</td><td>5.711701</td><td>0.7037162</td><td>0.8725997</td><td>32</td><td>0.016069172</td><td>0.07852661</td><td>4.441719</td></tr>\n",
       "\t<tr><td>ENSG00000117899</td><td>chr15_81284528_C_A </td><td>15</td><td>81284528</td><td>C</td><td>A </td><td>ENSG00000117899_L1</td><td>L1</td><td>chr15:80282168-82282168</td><td>0.04072211</td><td>5.799507</td><td>0.7037162</td><td>0.8725997</td><td>32</td><td>0.015896608</td><td>0.07831169</td><td>4.441719</td></tr>\n",
       "\t<tr><td>ENSG00000117899</td><td>chr15_81285875_C_T </td><td>15</td><td>81285875</td><td>C</td><td>T </td><td>ENSG00000117899_L1</td><td>L1</td><td>chr15:80282168-82282168</td><td>0.02404242</td><td>5.768728</td><td>0.7037162</td><td>0.8725997</td><td>32</td><td>0.009601861</td><td>0.06211303</td><td>4.441719</td></tr>\n",
       "\t<tr><td>ENSG00000117899</td><td>chr15_81286252_T_G </td><td>15</td><td>81286252</td><td>T</td><td>G </td><td>ENSG00000117899_L1</td><td>L1</td><td>chr15:80282168-82282168</td><td>0.02404242</td><td>5.768728</td><td>0.7037162</td><td>0.8725997</td><td>32</td><td>0.009601861</td><td>0.06211303</td><td>4.441719</td></tr>\n",
       "\t<tr><td>ENSG00000117899</td><td>chr15_81287796_G_C </td><td>15</td><td>81287796</td><td>G</td><td>C </td><td>ENSG00000117899_L1</td><td>L1</td><td>chr15:80282168-82282168</td><td>0.07193254</td><td>5.752641</td><td>0.7037162</td><td>0.8725997</td><td>32</td><td>0.028280136</td><td>0.10309704</td><td>4.441719</td></tr>\n",
       "\t<tr><td>ENSG00000117899</td><td>chr15_81289272_T_C </td><td>15</td><td>81289272</td><td>T</td><td>C </td><td>ENSG00000117899_L1</td><td>L1</td><td>chr15:80282168-82282168</td><td>0.02012608</td><td>5.726981</td><td>0.7037162</td><td>0.8725997</td><td>32</td><td>0.007802619</td><td>0.05528564</td><td>4.441719</td></tr>\n",
       "\t<tr><td>ENSG00000117899</td><td>chr15_81290783_T_C </td><td>15</td><td>81290783</td><td>T</td><td>C </td><td>ENSG00000117899_L1</td><td>L1</td><td>chr15:80282168-82282168</td><td>0.02012608</td><td>5.726981</td><td>0.7037162</td><td>0.8725997</td><td>32</td><td>0.007802619</td><td>0.05528564</td><td>4.441719</td></tr>\n",
       "\t<tr><td>ENSG00000117899</td><td>chr15_81292652_G_A </td><td>15</td><td>81292652</td><td>G</td><td>A </td><td>ENSG00000117899_L1</td><td>L1</td><td>chr15:80282168-82282168</td><td>0.07193254</td><td>5.752641</td><td>0.7037162</td><td>0.8725997</td><td>32</td><td>0.028280136</td><td>0.10309704</td><td>4.441719</td></tr>\n",
       "\t<tr><td>ENSG00000117899</td><td>chr15_81292762_G_A </td><td>15</td><td>81292762</td><td>G</td><td>A </td><td>ENSG00000117899_L1</td><td>L1</td><td>chr15:80282168-82282168</td><td>0.02012608</td><td>5.726981</td><td>0.7037162</td><td>0.8725997</td><td>32</td><td>0.007802619</td><td>0.05528564</td><td>4.441719</td></tr>\n",
       "\t<tr><td>ENSG00000117899</td><td>chr15_81292864_A_T </td><td>15</td><td>81292864</td><td>A</td><td>T </td><td>ENSG00000117899_L1</td><td>L1</td><td>chr15:80282168-82282168</td><td>0.03595104</td><td>5.682201</td><td>0.7037162</td><td>0.8725997</td><td>32</td><td>0.013610420</td><td>0.07154027</td><td>4.441719</td></tr>\n",
       "\t<tr><td>ENSG00000117899</td><td>chr15_81293026_G_C </td><td>15</td><td>81293026</td><td>G</td><td>C </td><td>ENSG00000117899_L1</td><td>L1</td><td>chr15:80282168-82282168</td><td>0.06312636</td><td>5.726729</td><td>0.7037162</td><td>0.8725997</td><td>32</td><td>0.024208143</td><td>0.09465120</td><td>4.441719</td></tr>\n",
       "\t<tr><td>ENSG00000117899</td><td>chr15_81293344_C_G </td><td>15</td><td>81293344</td><td>C</td><td>G </td><td>ENSG00000117899_L1</td><td>L1</td><td>chr15:80282168-82282168</td><td>0.07193254</td><td>5.752641</td><td>0.7037162</td><td>0.8725997</td><td>32</td><td>0.028280136</td><td>0.10309704</td><td>4.441719</td></tr>\n",
       "\t<tr><td>ENSG00000117899</td><td>chr15_81301405_G_C </td><td>15</td><td>81301405</td><td>G</td><td>C </td><td>ENSG00000117899_L1</td><td>L1</td><td>chr15:80282168-82282168</td><td>0.01796805</td><td>5.657482</td><td>0.7037162</td><td>0.8725997</td><td>32</td><td>0.006911324</td><td>0.05188988</td><td>4.441719</td></tr>\n",
       "\t<tr><td>ENSG00000117899</td><td>chr15_81304132_A_G </td><td>15</td><td>81304132</td><td>A</td><td>G </td><td>ENSG00000117899_L1</td><td>L1</td><td>chr15:80282168-82282168</td><td>0.01502085</td><td>5.560182</td><td>0.7037162</td><td>0.8725997</td><td>32</td><td>0.005743912</td><td>0.04724584</td><td>4.441719</td></tr>\n",
       "</tbody>\n",
       "</table>\n"
      ],
      "text/latex": [
       "A data.frame: 32 x 17\n",
       "\\begin{tabular}{lllllllllllllllll}\n",
       " phenotype\\_id & variant\\_id & chr & pos & ref & alt & cs\\_id & cs\\_index & finemapped\\_region & pip & z & cs\\_min\\_r2 & cs\\_avg\\_r2 & cs\\_size & posterior\\_mean & posterior\\_sd & cs\\_log10bf\\\\\n",
       " <chr> & <chr> & <int> & <int> & <chr> & <chr> & <chr> & <chr> & <chr> & <dbl> & <dbl> & <dbl> & <dbl> & <int> & <dbl> & <dbl> & <dbl>\\\\\n",
       "\\hline\n",
       "\t ENSG00000117899 & chr15\\_81254628\\_A\\_C  & 15 & 81254628 & A & C  & ENSG00000117899\\_L1 & L1 & chr15:80282168-82282168 & 0.05248535 & 5.920117 & 0.7037162 & 0.8725997 & 32 & 0.020810976 & 0.08974491 & 4.441719\\\\\n",
       "\t ENSG00000117899 & chr15\\_81259226\\_C\\_A  & 15 & 81259226 & C & A  & ENSG00000117899\\_L1 & L1 & chr15:80282168-82282168 & 0.02440329 & 5.615501 & 0.7037162 & 0.8725997 & 32 & 0.009238586 & 0.05930767 & 4.441719\\\\\n",
       "\t ENSG00000117899 & chr15\\_81259833\\_C\\_T  & 15 & 81259833 & C & T  & ENSG00000117899\\_L1 & L1 & chr15:80282168-82282168 & 0.03789349 & 5.636346 & 0.7037162 & 0.8725997 & 32 & 0.014434229 & 0.07382445 & 4.441719\\\\\n",
       "\t ENSG00000117899 & chr15\\_81261949\\_G\\_A  & 15 & 81261949 & G & A  & ENSG00000117899\\_L1 & L1 & chr15:80282168-82282168 & 0.01290777 & 5.579435 & 0.7037162 & 0.8725997 & 32 & 0.004871316 & 0.04327842 & 4.441719\\\\\n",
       "\t ENSG00000117899 & chr15\\_81262001\\_C\\_G  & 15 & 81262001 & C & G  & ENSG00000117899\\_L1 & L1 & chr15:80282168-82282168 & 0.01454658 & 5.626851 & 0.7037162 & 0.8725997 & 32 & 0.005555817 & 0.04645162 & 4.441719\\\\\n",
       "\t ENSG00000117899 & chr15\\_81263140\\_T\\_C  & 15 & 81263140 & T & C  & ENSG00000117899\\_L1 & L1 & chr15:80282168-82282168 & 0.01290777 & 5.579435 & 0.7037162 & 0.8725997 & 32 & 0.004871316 & 0.04327842 & 4.441719\\\\\n",
       "\t ENSG00000117899 & chr15\\_81263436\\_G\\_C  & 15 & 81263436 & G & C  & ENSG00000117899\\_L1 & L1 & chr15:80282168-82282168 & 0.01473357 & 5.624492 & 0.7037162 & 0.8725997 & 32 & 0.005562945 & 0.04620951 & 4.441719\\\\\n",
       "\t ENSG00000117899 & chr15\\_81263637\\_C\\_T  & 15 & 81263637 & C & T  & ENSG00000117899\\_L1 & L1 & chr15:80282168-82282168 & 0.01473357 & 5.624492 & 0.7037162 & 0.8725997 & 32 & 0.005562945 & 0.04620951 & 4.441719\\\\\n",
       "\t ENSG00000117899 & chr15\\_81265953\\_A\\_G  & 15 & 81265953 & A & G  & ENSG00000117899\\_L1 & L1 & chr15:80282168-82282168 & 0.09374941 & 5.845858 & 0.7037162 & 0.8725997 & 32 & 0.037406695 & 0.11805282 & 4.441719\\\\\n",
       "\t ENSG00000117899 & chr15\\_81266406\\_C\\_T  & 15 & 81266406 & C & T  & ENSG00000117899\\_L1 & L1 & chr15:80282168-82282168 & 0.01653880 & 5.681153 & 0.7037162 & 0.8725997 & 32 & 0.006525881 & 0.05111087 & 4.441719\\\\\n",
       "\t ENSG00000117899 & chr15\\_81267430\\_A\\_T  & 15 & 81267430 & A & T  & ENSG00000117899\\_L1 & L1 & chr15:80282168-82282168 & 0.01653880 & 5.681153 & 0.7037162 & 0.8725997 & 32 & 0.006525881 & 0.05111087 & 4.441719\\\\\n",
       "\t ENSG00000117899 & chr15\\_81268715\\_A\\_G  & 15 & 81268715 & A & G  & ENSG00000117899\\_L1 & L1 & chr15:80282168-82282168 & 0.01653880 & 5.681153 & 0.7037162 & 0.8725997 & 32 & 0.006525881 & 0.05111087 & 4.441719\\\\\n",
       "\t ENSG00000117899 & chr15\\_81272072\\_G\\_A  & 15 & 81272072 & G & A  & ENSG00000117899\\_L1 & L1 & chr15:80282168-82282168 & 0.01252406 & 5.336751 & 0.7037162 & 0.8725997 & 32 & 0.004628547 & 0.04175626 & 4.441719\\\\\n",
       "\t ENSG00000117899 & chr15\\_81275449\\_C\\_T  & 15 & 81275449 & C & T  & ENSG00000117899\\_L1 & L1 & chr15:80282168-82282168 & 0.01550155 & 5.417546 & 0.7037162 & 0.8725997 & 32 & 0.005784315 & 0.04682170 & 4.441719\\\\\n",
       "\t ENSG00000117899 & chr15\\_81276342\\_G\\_A  & 15 & 81276342 & G & A  & ENSG00000117899\\_L1 & L1 & chr15:80282168-82282168 & 0.01550155 & 5.417546 & 0.7037162 & 0.8725997 & 32 & 0.005784315 & 0.04682170 & 4.441719\\\\\n",
       "\t ENSG00000117899 & chr15\\_81276911\\_A\\_C  & 15 & 81276911 & A & C  & ENSG00000117899\\_L1 & L1 & chr15:80282168-82282168 & 0.01550155 & 5.417546 & 0.7037162 & 0.8725997 & 32 & 0.005784315 & 0.04682170 & 4.441719\\\\\n",
       "\t ENSG00000117899 & chr15\\_81279136\\_G\\_A  & 15 & 81279136 & G & A  & ENSG00000117899\\_L1 & L1 & chr15:80282168-82282168 & 0.01653880 & 5.681153 & 0.7037162 & 0.8725997 & 32 & 0.006525881 & 0.05111087 & 4.441719\\\\\n",
       "\t ENSG00000117899 & chr15\\_81281229\\_T\\_TA & 15 & 81281229 & T & TA & ENSG00000117899\\_L1 & L1 & chr15:80282168-82282168 & 0.01206942 & 5.421896 & 0.7037162 & 0.8725997 & 32 & 0.004428842 & 0.04071121 & 4.441719\\\\\n",
       "\t ENSG00000117899 & chr15\\_81281566\\_T\\_C  & 15 & 81281566 & T & C  & ENSG00000117899\\_L1 & L1 & chr15:80282168-82282168 & 0.04135520 & 5.711701 & 0.7037162 & 0.8725997 & 32 & 0.016069172 & 0.07852661 & 4.441719\\\\\n",
       "\t ENSG00000117899 & chr15\\_81284528\\_C\\_A  & 15 & 81284528 & C & A  & ENSG00000117899\\_L1 & L1 & chr15:80282168-82282168 & 0.04072211 & 5.799507 & 0.7037162 & 0.8725997 & 32 & 0.015896608 & 0.07831169 & 4.441719\\\\\n",
       "\t ENSG00000117899 & chr15\\_81285875\\_C\\_T  & 15 & 81285875 & C & T  & ENSG00000117899\\_L1 & L1 & chr15:80282168-82282168 & 0.02404242 & 5.768728 & 0.7037162 & 0.8725997 & 32 & 0.009601861 & 0.06211303 & 4.441719\\\\\n",
       "\t ENSG00000117899 & chr15\\_81286252\\_T\\_G  & 15 & 81286252 & T & G  & ENSG00000117899\\_L1 & L1 & chr15:80282168-82282168 & 0.02404242 & 5.768728 & 0.7037162 & 0.8725997 & 32 & 0.009601861 & 0.06211303 & 4.441719\\\\\n",
       "\t ENSG00000117899 & chr15\\_81287796\\_G\\_C  & 15 & 81287796 & G & C  & ENSG00000117899\\_L1 & L1 & chr15:80282168-82282168 & 0.07193254 & 5.752641 & 0.7037162 & 0.8725997 & 32 & 0.028280136 & 0.10309704 & 4.441719\\\\\n",
       "\t ENSG00000117899 & chr15\\_81289272\\_T\\_C  & 15 & 81289272 & T & C  & ENSG00000117899\\_L1 & L1 & chr15:80282168-82282168 & 0.02012608 & 5.726981 & 0.7037162 & 0.8725997 & 32 & 0.007802619 & 0.05528564 & 4.441719\\\\\n",
       "\t ENSG00000117899 & chr15\\_81290783\\_T\\_C  & 15 & 81290783 & T & C  & ENSG00000117899\\_L1 & L1 & chr15:80282168-82282168 & 0.02012608 & 5.726981 & 0.7037162 & 0.8725997 & 32 & 0.007802619 & 0.05528564 & 4.441719\\\\\n",
       "\t ENSG00000117899 & chr15\\_81292652\\_G\\_A  & 15 & 81292652 & G & A  & ENSG00000117899\\_L1 & L1 & chr15:80282168-82282168 & 0.07193254 & 5.752641 & 0.7037162 & 0.8725997 & 32 & 0.028280136 & 0.10309704 & 4.441719\\\\\n",
       "\t ENSG00000117899 & chr15\\_81292762\\_G\\_A  & 15 & 81292762 & G & A  & ENSG00000117899\\_L1 & L1 & chr15:80282168-82282168 & 0.02012608 & 5.726981 & 0.7037162 & 0.8725997 & 32 & 0.007802619 & 0.05528564 & 4.441719\\\\\n",
       "\t ENSG00000117899 & chr15\\_81292864\\_A\\_T  & 15 & 81292864 & A & T  & ENSG00000117899\\_L1 & L1 & chr15:80282168-82282168 & 0.03595104 & 5.682201 & 0.7037162 & 0.8725997 & 32 & 0.013610420 & 0.07154027 & 4.441719\\\\\n",
       "\t ENSG00000117899 & chr15\\_81293026\\_G\\_C  & 15 & 81293026 & G & C  & ENSG00000117899\\_L1 & L1 & chr15:80282168-82282168 & 0.06312636 & 5.726729 & 0.7037162 & 0.8725997 & 32 & 0.024208143 & 0.09465120 & 4.441719\\\\\n",
       "\t ENSG00000117899 & chr15\\_81293344\\_C\\_G  & 15 & 81293344 & C & G  & ENSG00000117899\\_L1 & L1 & chr15:80282168-82282168 & 0.07193254 & 5.752641 & 0.7037162 & 0.8725997 & 32 & 0.028280136 & 0.10309704 & 4.441719\\\\\n",
       "\t ENSG00000117899 & chr15\\_81301405\\_G\\_C  & 15 & 81301405 & G & C  & ENSG00000117899\\_L1 & L1 & chr15:80282168-82282168 & 0.01796805 & 5.657482 & 0.7037162 & 0.8725997 & 32 & 0.006911324 & 0.05188988 & 4.441719\\\\\n",
       "\t ENSG00000117899 & chr15\\_81304132\\_A\\_G  & 15 & 81304132 & A & G  & ENSG00000117899\\_L1 & L1 & chr15:80282168-82282168 & 0.01502085 & 5.560182 & 0.7037162 & 0.8725997 & 32 & 0.005743912 & 0.04724584 & 4.441719\\\\\n",
       "\\end{tabular}\n"
      ],
      "text/markdown": [
       "\n",
       "A data.frame: 32 x 17\n",
       "\n",
       "| phenotype_id &lt;chr&gt; | variant_id &lt;chr&gt; | chr &lt;int&gt; | pos &lt;int&gt; | ref &lt;chr&gt; | alt &lt;chr&gt; | cs_id &lt;chr&gt; | cs_index &lt;chr&gt; | finemapped_region &lt;chr&gt; | pip &lt;dbl&gt; | z &lt;dbl&gt; | cs_min_r2 &lt;dbl&gt; | cs_avg_r2 &lt;dbl&gt; | cs_size &lt;int&gt; | posterior_mean &lt;dbl&gt; | posterior_sd &lt;dbl&gt; | cs_log10bf &lt;dbl&gt; |\n",
       "|---|---|---|---|---|---|---|---|---|---|---|---|---|---|---|---|---|\n",
       "| ENSG00000117899 | chr15_81254628_A_C  | 15 | 81254628 | A | C  | ENSG00000117899_L1 | L1 | chr15:80282168-82282168 | 0.05248535 | 5.920117 | 0.7037162 | 0.8725997 | 32 | 0.020810976 | 0.08974491 | 4.441719 |\n",
       "| ENSG00000117899 | chr15_81259226_C_A  | 15 | 81259226 | C | A  | ENSG00000117899_L1 | L1 | chr15:80282168-82282168 | 0.02440329 | 5.615501 | 0.7037162 | 0.8725997 | 32 | 0.009238586 | 0.05930767 | 4.441719 |\n",
       "| ENSG00000117899 | chr15_81259833_C_T  | 15 | 81259833 | C | T  | ENSG00000117899_L1 | L1 | chr15:80282168-82282168 | 0.03789349 | 5.636346 | 0.7037162 | 0.8725997 | 32 | 0.014434229 | 0.07382445 | 4.441719 |\n",
       "| ENSG00000117899 | chr15_81261949_G_A  | 15 | 81261949 | G | A  | ENSG00000117899_L1 | L1 | chr15:80282168-82282168 | 0.01290777 | 5.579435 | 0.7037162 | 0.8725997 | 32 | 0.004871316 | 0.04327842 | 4.441719 |\n",
       "| ENSG00000117899 | chr15_81262001_C_G  | 15 | 81262001 | C | G  | ENSG00000117899_L1 | L1 | chr15:80282168-82282168 | 0.01454658 | 5.626851 | 0.7037162 | 0.8725997 | 32 | 0.005555817 | 0.04645162 | 4.441719 |\n",
       "| ENSG00000117899 | chr15_81263140_T_C  | 15 | 81263140 | T | C  | ENSG00000117899_L1 | L1 | chr15:80282168-82282168 | 0.01290777 | 5.579435 | 0.7037162 | 0.8725997 | 32 | 0.004871316 | 0.04327842 | 4.441719 |\n",
       "| ENSG00000117899 | chr15_81263436_G_C  | 15 | 81263436 | G | C  | ENSG00000117899_L1 | L1 | chr15:80282168-82282168 | 0.01473357 | 5.624492 | 0.7037162 | 0.8725997 | 32 | 0.005562945 | 0.04620951 | 4.441719 |\n",
       "| ENSG00000117899 | chr15_81263637_C_T  | 15 | 81263637 | C | T  | ENSG00000117899_L1 | L1 | chr15:80282168-82282168 | 0.01473357 | 5.624492 | 0.7037162 | 0.8725997 | 32 | 0.005562945 | 0.04620951 | 4.441719 |\n",
       "| ENSG00000117899 | chr15_81265953_A_G  | 15 | 81265953 | A | G  | ENSG00000117899_L1 | L1 | chr15:80282168-82282168 | 0.09374941 | 5.845858 | 0.7037162 | 0.8725997 | 32 | 0.037406695 | 0.11805282 | 4.441719 |\n",
       "| ENSG00000117899 | chr15_81266406_C_T  | 15 | 81266406 | C | T  | ENSG00000117899_L1 | L1 | chr15:80282168-82282168 | 0.01653880 | 5.681153 | 0.7037162 | 0.8725997 | 32 | 0.006525881 | 0.05111087 | 4.441719 |\n",
       "| ENSG00000117899 | chr15_81267430_A_T  | 15 | 81267430 | A | T  | ENSG00000117899_L1 | L1 | chr15:80282168-82282168 | 0.01653880 | 5.681153 | 0.7037162 | 0.8725997 | 32 | 0.006525881 | 0.05111087 | 4.441719 |\n",
       "| ENSG00000117899 | chr15_81268715_A_G  | 15 | 81268715 | A | G  | ENSG00000117899_L1 | L1 | chr15:80282168-82282168 | 0.01653880 | 5.681153 | 0.7037162 | 0.8725997 | 32 | 0.006525881 | 0.05111087 | 4.441719 |\n",
       "| ENSG00000117899 | chr15_81272072_G_A  | 15 | 81272072 | G | A  | ENSG00000117899_L1 | L1 | chr15:80282168-82282168 | 0.01252406 | 5.336751 | 0.7037162 | 0.8725997 | 32 | 0.004628547 | 0.04175626 | 4.441719 |\n",
       "| ENSG00000117899 | chr15_81275449_C_T  | 15 | 81275449 | C | T  | ENSG00000117899_L1 | L1 | chr15:80282168-82282168 | 0.01550155 | 5.417546 | 0.7037162 | 0.8725997 | 32 | 0.005784315 | 0.04682170 | 4.441719 |\n",
       "| ENSG00000117899 | chr15_81276342_G_A  | 15 | 81276342 | G | A  | ENSG00000117899_L1 | L1 | chr15:80282168-82282168 | 0.01550155 | 5.417546 | 0.7037162 | 0.8725997 | 32 | 0.005784315 | 0.04682170 | 4.441719 |\n",
       "| ENSG00000117899 | chr15_81276911_A_C  | 15 | 81276911 | A | C  | ENSG00000117899_L1 | L1 | chr15:80282168-82282168 | 0.01550155 | 5.417546 | 0.7037162 | 0.8725997 | 32 | 0.005784315 | 0.04682170 | 4.441719 |\n",
       "| ENSG00000117899 | chr15_81279136_G_A  | 15 | 81279136 | G | A  | ENSG00000117899_L1 | L1 | chr15:80282168-82282168 | 0.01653880 | 5.681153 | 0.7037162 | 0.8725997 | 32 | 0.006525881 | 0.05111087 | 4.441719 |\n",
       "| ENSG00000117899 | chr15_81281229_T_TA | 15 | 81281229 | T | TA | ENSG00000117899_L1 | L1 | chr15:80282168-82282168 | 0.01206942 | 5.421896 | 0.7037162 | 0.8725997 | 32 | 0.004428842 | 0.04071121 | 4.441719 |\n",
       "| ENSG00000117899 | chr15_81281566_T_C  | 15 | 81281566 | T | C  | ENSG00000117899_L1 | L1 | chr15:80282168-82282168 | 0.04135520 | 5.711701 | 0.7037162 | 0.8725997 | 32 | 0.016069172 | 0.07852661 | 4.441719 |\n",
       "| ENSG00000117899 | chr15_81284528_C_A  | 15 | 81284528 | C | A  | ENSG00000117899_L1 | L1 | chr15:80282168-82282168 | 0.04072211 | 5.799507 | 0.7037162 | 0.8725997 | 32 | 0.015896608 | 0.07831169 | 4.441719 |\n",
       "| ENSG00000117899 | chr15_81285875_C_T  | 15 | 81285875 | C | T  | ENSG00000117899_L1 | L1 | chr15:80282168-82282168 | 0.02404242 | 5.768728 | 0.7037162 | 0.8725997 | 32 | 0.009601861 | 0.06211303 | 4.441719 |\n",
       "| ENSG00000117899 | chr15_81286252_T_G  | 15 | 81286252 | T | G  | ENSG00000117899_L1 | L1 | chr15:80282168-82282168 | 0.02404242 | 5.768728 | 0.7037162 | 0.8725997 | 32 | 0.009601861 | 0.06211303 | 4.441719 |\n",
       "| ENSG00000117899 | chr15_81287796_G_C  | 15 | 81287796 | G | C  | ENSG00000117899_L1 | L1 | chr15:80282168-82282168 | 0.07193254 | 5.752641 | 0.7037162 | 0.8725997 | 32 | 0.028280136 | 0.10309704 | 4.441719 |\n",
       "| ENSG00000117899 | chr15_81289272_T_C  | 15 | 81289272 | T | C  | ENSG00000117899_L1 | L1 | chr15:80282168-82282168 | 0.02012608 | 5.726981 | 0.7037162 | 0.8725997 | 32 | 0.007802619 | 0.05528564 | 4.441719 |\n",
       "| ENSG00000117899 | chr15_81290783_T_C  | 15 | 81290783 | T | C  | ENSG00000117899_L1 | L1 | chr15:80282168-82282168 | 0.02012608 | 5.726981 | 0.7037162 | 0.8725997 | 32 | 0.007802619 | 0.05528564 | 4.441719 |\n",
       "| ENSG00000117899 | chr15_81292652_G_A  | 15 | 81292652 | G | A  | ENSG00000117899_L1 | L1 | chr15:80282168-82282168 | 0.07193254 | 5.752641 | 0.7037162 | 0.8725997 | 32 | 0.028280136 | 0.10309704 | 4.441719 |\n",
       "| ENSG00000117899 | chr15_81292762_G_A  | 15 | 81292762 | G | A  | ENSG00000117899_L1 | L1 | chr15:80282168-82282168 | 0.02012608 | 5.726981 | 0.7037162 | 0.8725997 | 32 | 0.007802619 | 0.05528564 | 4.441719 |\n",
       "| ENSG00000117899 | chr15_81292864_A_T  | 15 | 81292864 | A | T  | ENSG00000117899_L1 | L1 | chr15:80282168-82282168 | 0.03595104 | 5.682201 | 0.7037162 | 0.8725997 | 32 | 0.013610420 | 0.07154027 | 4.441719 |\n",
       "| ENSG00000117899 | chr15_81293026_G_C  | 15 | 81293026 | G | C  | ENSG00000117899_L1 | L1 | chr15:80282168-82282168 | 0.06312636 | 5.726729 | 0.7037162 | 0.8725997 | 32 | 0.024208143 | 0.09465120 | 4.441719 |\n",
       "| ENSG00000117899 | chr15_81293344_C_G  | 15 | 81293344 | C | G  | ENSG00000117899_L1 | L1 | chr15:80282168-82282168 | 0.07193254 | 5.752641 | 0.7037162 | 0.8725997 | 32 | 0.028280136 | 0.10309704 | 4.441719 |\n",
       "| ENSG00000117899 | chr15_81301405_G_C  | 15 | 81301405 | G | C  | ENSG00000117899_L1 | L1 | chr15:80282168-82282168 | 0.01796805 | 5.657482 | 0.7037162 | 0.8725997 | 32 | 0.006911324 | 0.05188988 | 4.441719 |\n",
       "| ENSG00000117899 | chr15_81304132_A_G  | 15 | 81304132 | A | G  | ENSG00000117899_L1 | L1 | chr15:80282168-82282168 | 0.01502085 | 5.560182 | 0.7037162 | 0.8725997 | 32 | 0.005743912 | 0.04724584 | 4.441719 |\n",
       "\n"
      ],
      "text/plain": [
       "   phenotype_id    variant_id          chr pos      ref alt cs_id             \n",
       "1  ENSG00000117899 chr15_81254628_A_C  15  81254628 A   C   ENSG00000117899_L1\n",
       "2  ENSG00000117899 chr15_81259226_C_A  15  81259226 C   A   ENSG00000117899_L1\n",
       "3  ENSG00000117899 chr15_81259833_C_T  15  81259833 C   T   ENSG00000117899_L1\n",
       "4  ENSG00000117899 chr15_81261949_G_A  15  81261949 G   A   ENSG00000117899_L1\n",
       "5  ENSG00000117899 chr15_81262001_C_G  15  81262001 C   G   ENSG00000117899_L1\n",
       "6  ENSG00000117899 chr15_81263140_T_C  15  81263140 T   C   ENSG00000117899_L1\n",
       "7  ENSG00000117899 chr15_81263436_G_C  15  81263436 G   C   ENSG00000117899_L1\n",
       "8  ENSG00000117899 chr15_81263637_C_T  15  81263637 C   T   ENSG00000117899_L1\n",
       "9  ENSG00000117899 chr15_81265953_A_G  15  81265953 A   G   ENSG00000117899_L1\n",
       "10 ENSG00000117899 chr15_81266406_C_T  15  81266406 C   T   ENSG00000117899_L1\n",
       "11 ENSG00000117899 chr15_81267430_A_T  15  81267430 A   T   ENSG00000117899_L1\n",
       "12 ENSG00000117899 chr15_81268715_A_G  15  81268715 A   G   ENSG00000117899_L1\n",
       "13 ENSG00000117899 chr15_81272072_G_A  15  81272072 G   A   ENSG00000117899_L1\n",
       "14 ENSG00000117899 chr15_81275449_C_T  15  81275449 C   T   ENSG00000117899_L1\n",
       "15 ENSG00000117899 chr15_81276342_G_A  15  81276342 G   A   ENSG00000117899_L1\n",
       "16 ENSG00000117899 chr15_81276911_A_C  15  81276911 A   C   ENSG00000117899_L1\n",
       "17 ENSG00000117899 chr15_81279136_G_A  15  81279136 G   A   ENSG00000117899_L1\n",
       "18 ENSG00000117899 chr15_81281229_T_TA 15  81281229 T   TA  ENSG00000117899_L1\n",
       "19 ENSG00000117899 chr15_81281566_T_C  15  81281566 T   C   ENSG00000117899_L1\n",
       "20 ENSG00000117899 chr15_81284528_C_A  15  81284528 C   A   ENSG00000117899_L1\n",
       "21 ENSG00000117899 chr15_81285875_C_T  15  81285875 C   T   ENSG00000117899_L1\n",
       "22 ENSG00000117899 chr15_81286252_T_G  15  81286252 T   G   ENSG00000117899_L1\n",
       "23 ENSG00000117899 chr15_81287796_G_C  15  81287796 G   C   ENSG00000117899_L1\n",
       "24 ENSG00000117899 chr15_81289272_T_C  15  81289272 T   C   ENSG00000117899_L1\n",
       "25 ENSG00000117899 chr15_81290783_T_C  15  81290783 T   C   ENSG00000117899_L1\n",
       "26 ENSG00000117899 chr15_81292652_G_A  15  81292652 G   A   ENSG00000117899_L1\n",
       "27 ENSG00000117899 chr15_81292762_G_A  15  81292762 G   A   ENSG00000117899_L1\n",
       "28 ENSG00000117899 chr15_81292864_A_T  15  81292864 A   T   ENSG00000117899_L1\n",
       "29 ENSG00000117899 chr15_81293026_G_C  15  81293026 G   C   ENSG00000117899_L1\n",
       "30 ENSG00000117899 chr15_81293344_C_G  15  81293344 C   G   ENSG00000117899_L1\n",
       "31 ENSG00000117899 chr15_81301405_G_C  15  81301405 G   C   ENSG00000117899_L1\n",
       "32 ENSG00000117899 chr15_81304132_A_G  15  81304132 A   G   ENSG00000117899_L1\n",
       "   cs_index finemapped_region       pip        z        cs_min_r2 cs_avg_r2\n",
       "1  L1       chr15:80282168-82282168 0.05248535 5.920117 0.7037162 0.8725997\n",
       "2  L1       chr15:80282168-82282168 0.02440329 5.615501 0.7037162 0.8725997\n",
       "3  L1       chr15:80282168-82282168 0.03789349 5.636346 0.7037162 0.8725997\n",
       "4  L1       chr15:80282168-82282168 0.01290777 5.579435 0.7037162 0.8725997\n",
       "5  L1       chr15:80282168-82282168 0.01454658 5.626851 0.7037162 0.8725997\n",
       "6  L1       chr15:80282168-82282168 0.01290777 5.579435 0.7037162 0.8725997\n",
       "7  L1       chr15:80282168-82282168 0.01473357 5.624492 0.7037162 0.8725997\n",
       "8  L1       chr15:80282168-82282168 0.01473357 5.624492 0.7037162 0.8725997\n",
       "9  L1       chr15:80282168-82282168 0.09374941 5.845858 0.7037162 0.8725997\n",
       "10 L1       chr15:80282168-82282168 0.01653880 5.681153 0.7037162 0.8725997\n",
       "11 L1       chr15:80282168-82282168 0.01653880 5.681153 0.7037162 0.8725997\n",
       "12 L1       chr15:80282168-82282168 0.01653880 5.681153 0.7037162 0.8725997\n",
       "13 L1       chr15:80282168-82282168 0.01252406 5.336751 0.7037162 0.8725997\n",
       "14 L1       chr15:80282168-82282168 0.01550155 5.417546 0.7037162 0.8725997\n",
       "15 L1       chr15:80282168-82282168 0.01550155 5.417546 0.7037162 0.8725997\n",
       "16 L1       chr15:80282168-82282168 0.01550155 5.417546 0.7037162 0.8725997\n",
       "17 L1       chr15:80282168-82282168 0.01653880 5.681153 0.7037162 0.8725997\n",
       "18 L1       chr15:80282168-82282168 0.01206942 5.421896 0.7037162 0.8725997\n",
       "19 L1       chr15:80282168-82282168 0.04135520 5.711701 0.7037162 0.8725997\n",
       "20 L1       chr15:80282168-82282168 0.04072211 5.799507 0.7037162 0.8725997\n",
       "21 L1       chr15:80282168-82282168 0.02404242 5.768728 0.7037162 0.8725997\n",
       "22 L1       chr15:80282168-82282168 0.02404242 5.768728 0.7037162 0.8725997\n",
       "23 L1       chr15:80282168-82282168 0.07193254 5.752641 0.7037162 0.8725997\n",
       "24 L1       chr15:80282168-82282168 0.02012608 5.726981 0.7037162 0.8725997\n",
       "25 L1       chr15:80282168-82282168 0.02012608 5.726981 0.7037162 0.8725997\n",
       "26 L1       chr15:80282168-82282168 0.07193254 5.752641 0.7037162 0.8725997\n",
       "27 L1       chr15:80282168-82282168 0.02012608 5.726981 0.7037162 0.8725997\n",
       "28 L1       chr15:80282168-82282168 0.03595104 5.682201 0.7037162 0.8725997\n",
       "29 L1       chr15:80282168-82282168 0.06312636 5.726729 0.7037162 0.8725997\n",
       "30 L1       chr15:80282168-82282168 0.07193254 5.752641 0.7037162 0.8725997\n",
       "31 L1       chr15:80282168-82282168 0.01796805 5.657482 0.7037162 0.8725997\n",
       "32 L1       chr15:80282168-82282168 0.01502085 5.560182 0.7037162 0.8725997\n",
       "   cs_size posterior_mean posterior_sd cs_log10bf\n",
       "1  32      0.020810976    0.08974491   4.441719  \n",
       "2  32      0.009238586    0.05930767   4.441719  \n",
       "3  32      0.014434229    0.07382445   4.441719  \n",
       "4  32      0.004871316    0.04327842   4.441719  \n",
       "5  32      0.005555817    0.04645162   4.441719  \n",
       "6  32      0.004871316    0.04327842   4.441719  \n",
       "7  32      0.005562945    0.04620951   4.441719  \n",
       "8  32      0.005562945    0.04620951   4.441719  \n",
       "9  32      0.037406695    0.11805282   4.441719  \n",
       "10 32      0.006525881    0.05111087   4.441719  \n",
       "11 32      0.006525881    0.05111087   4.441719  \n",
       "12 32      0.006525881    0.05111087   4.441719  \n",
       "13 32      0.004628547    0.04175626   4.441719  \n",
       "14 32      0.005784315    0.04682170   4.441719  \n",
       "15 32      0.005784315    0.04682170   4.441719  \n",
       "16 32      0.005784315    0.04682170   4.441719  \n",
       "17 32      0.006525881    0.05111087   4.441719  \n",
       "18 32      0.004428842    0.04071121   4.441719  \n",
       "19 32      0.016069172    0.07852661   4.441719  \n",
       "20 32      0.015896608    0.07831169   4.441719  \n",
       "21 32      0.009601861    0.06211303   4.441719  \n",
       "22 32      0.009601861    0.06211303   4.441719  \n",
       "23 32      0.028280136    0.10309704   4.441719  \n",
       "24 32      0.007802619    0.05528564   4.441719  \n",
       "25 32      0.007802619    0.05528564   4.441719  \n",
       "26 32      0.028280136    0.10309704   4.441719  \n",
       "27 32      0.007802619    0.05528564   4.441719  \n",
       "28 32      0.013610420    0.07154027   4.441719  \n",
       "29 32      0.024208143    0.09465120   4.441719  \n",
       "30 32      0.028280136    0.10309704   4.441719  \n",
       "31 32      0.006911324    0.05188988   4.441719  \n",
       "32 32      0.005743912    0.04724584   4.441719  "
      ]
     },
     "metadata": {},
     "output_type": "display_data"
    }
   ],
   "source": [
    "susie_amr <- fread(\"results/susie_finemap/amr_ciseqtl_15hcp_perm_purity_filtered.txt.gz\", data.table = F)\n",
    "susie_amr %>% filter(phenotype_id == \"ENSG00000117899\")"
   ]
  },
  {
   "cell_type": "code",
   "execution_count": 17,
   "metadata": {},
   "outputs": [
    {
     "data": {
      "text/html": [
       "<table class=\"dataframe\">\n",
       "<caption>A data.frame: 3 x 17</caption>\n",
       "<thead>\n",
       "\t<tr><th scope=col>phenotype_id</th><th scope=col>variant_id</th><th scope=col>chr</th><th scope=col>pos</th><th scope=col>ref</th><th scope=col>alt</th><th scope=col>cs_id</th><th scope=col>cs_index</th><th scope=col>finemapped_region</th><th scope=col>pip</th><th scope=col>z</th><th scope=col>cs_min_r2</th><th scope=col>cs_avg_r2</th><th scope=col>cs_size</th><th scope=col>posterior_mean</th><th scope=col>posterior_sd</th><th scope=col>cs_log10bf</th></tr>\n",
       "\t<tr><th scope=col>&lt;chr&gt;</th><th scope=col>&lt;chr&gt;</th><th scope=col>&lt;int&gt;</th><th scope=col>&lt;int&gt;</th><th scope=col>&lt;chr&gt;</th><th scope=col>&lt;chr&gt;</th><th scope=col>&lt;chr&gt;</th><th scope=col>&lt;chr&gt;</th><th scope=col>&lt;chr&gt;</th><th scope=col>&lt;dbl&gt;</th><th scope=col>&lt;dbl&gt;</th><th scope=col>&lt;dbl&gt;</th><th scope=col>&lt;dbl&gt;</th><th scope=col>&lt;int&gt;</th><th scope=col>&lt;dbl&gt;</th><th scope=col>&lt;dbl&gt;</th><th scope=col>&lt;dbl&gt;</th></tr>\n",
       "</thead>\n",
       "<tbody>\n",
       "\t<tr><td>ENSG00000117899</td><td>chr15_81267430_A_T</td><td>15</td><td>81267430</td><td>A</td><td>T</td><td>ENSG00000117899_L1</td><td>L1</td><td>chr15:80282168-82282168</td><td>0.02359203</td><td>5.239136</td><td>0.8643717</td><td>0.9395844</td><td>3</td><td>0.008675238</td><td>0.05773493</td><td>4.066283</td></tr>\n",
       "\t<tr><td>ENSG00000117899</td><td>chr15_81268715_A_G</td><td>15</td><td>81268715</td><td>A</td><td>G</td><td>ENSG00000117899_L1</td><td>L1</td><td>chr15:80282168-82282168</td><td>0.02099450</td><td>5.205726</td><td>0.8643717</td><td>0.9395844</td><td>3</td><td>0.007645267</td><td>0.05413656</td><td>4.066283</td></tr>\n",
       "\t<tr><td>ENSG00000117899</td><td>chr15_81279136_G_A</td><td>15</td><td>81279136</td><td>G</td><td>A</td><td>ENSG00000117899_L1</td><td>L1</td><td>chr15:80282168-82282168</td><td>0.91972435</td><td>6.059382</td><td>0.8643717</td><td>0.9395844</td><td>3</td><td>0.378817519</td><td>0.12826046</td><td>4.066283</td></tr>\n",
       "</tbody>\n",
       "</table>\n"
      ],
      "text/latex": [
       "A data.frame: 3 x 17\n",
       "\\begin{tabular}{lllllllllllllllll}\n",
       " phenotype\\_id & variant\\_id & chr & pos & ref & alt & cs\\_id & cs\\_index & finemapped\\_region & pip & z & cs\\_min\\_r2 & cs\\_avg\\_r2 & cs\\_size & posterior\\_mean & posterior\\_sd & cs\\_log10bf\\\\\n",
       " <chr> & <chr> & <int> & <int> & <chr> & <chr> & <chr> & <chr> & <chr> & <dbl> & <dbl> & <dbl> & <dbl> & <int> & <dbl> & <dbl> & <dbl>\\\\\n",
       "\\hline\n",
       "\t ENSG00000117899 & chr15\\_81267430\\_A\\_T & 15 & 81267430 & A & T & ENSG00000117899\\_L1 & L1 & chr15:80282168-82282168 & 0.02359203 & 5.239136 & 0.8643717 & 0.9395844 & 3 & 0.008675238 & 0.05773493 & 4.066283\\\\\n",
       "\t ENSG00000117899 & chr15\\_81268715\\_A\\_G & 15 & 81268715 & A & G & ENSG00000117899\\_L1 & L1 & chr15:80282168-82282168 & 0.02099450 & 5.205726 & 0.8643717 & 0.9395844 & 3 & 0.007645267 & 0.05413656 & 4.066283\\\\\n",
       "\t ENSG00000117899 & chr15\\_81279136\\_G\\_A & 15 & 81279136 & G & A & ENSG00000117899\\_L1 & L1 & chr15:80282168-82282168 & 0.91972435 & 6.059382 & 0.8643717 & 0.9395844 & 3 & 0.378817519 & 0.12826046 & 4.066283\\\\\n",
       "\\end{tabular}\n"
      ],
      "text/markdown": [
       "\n",
       "A data.frame: 3 x 17\n",
       "\n",
       "| phenotype_id &lt;chr&gt; | variant_id &lt;chr&gt; | chr &lt;int&gt; | pos &lt;int&gt; | ref &lt;chr&gt; | alt &lt;chr&gt; | cs_id &lt;chr&gt; | cs_index &lt;chr&gt; | finemapped_region &lt;chr&gt; | pip &lt;dbl&gt; | z &lt;dbl&gt; | cs_min_r2 &lt;dbl&gt; | cs_avg_r2 &lt;dbl&gt; | cs_size &lt;int&gt; | posterior_mean &lt;dbl&gt; | posterior_sd &lt;dbl&gt; | cs_log10bf &lt;dbl&gt; |\n",
       "|---|---|---|---|---|---|---|---|---|---|---|---|---|---|---|---|---|\n",
       "| ENSG00000117899 | chr15_81267430_A_T | 15 | 81267430 | A | T | ENSG00000117899_L1 | L1 | chr15:80282168-82282168 | 0.02359203 | 5.239136 | 0.8643717 | 0.9395844 | 3 | 0.008675238 | 0.05773493 | 4.066283 |\n",
       "| ENSG00000117899 | chr15_81268715_A_G | 15 | 81268715 | A | G | ENSG00000117899_L1 | L1 | chr15:80282168-82282168 | 0.02099450 | 5.205726 | 0.8643717 | 0.9395844 | 3 | 0.007645267 | 0.05413656 | 4.066283 |\n",
       "| ENSG00000117899 | chr15_81279136_G_A | 15 | 81279136 | G | A | ENSG00000117899_L1 | L1 | chr15:80282168-82282168 | 0.91972435 | 6.059382 | 0.8643717 | 0.9395844 | 3 | 0.378817519 | 0.12826046 | 4.066283 |\n",
       "\n"
      ],
      "text/plain": [
       "  phenotype_id    variant_id         chr pos      ref alt cs_id             \n",
       "1 ENSG00000117899 chr15_81267430_A_T 15  81267430 A   T   ENSG00000117899_L1\n",
       "2 ENSG00000117899 chr15_81268715_A_G 15  81268715 A   G   ENSG00000117899_L1\n",
       "3 ENSG00000117899 chr15_81279136_G_A 15  81279136 G   A   ENSG00000117899_L1\n",
       "  cs_index finemapped_region       pip        z        cs_min_r2 cs_avg_r2\n",
       "1 L1       chr15:80282168-82282168 0.02359203 5.239136 0.8643717 0.9395844\n",
       "2 L1       chr15:80282168-82282168 0.02099450 5.205726 0.8643717 0.9395844\n",
       "3 L1       chr15:80282168-82282168 0.91972435 6.059382 0.8643717 0.9395844\n",
       "  cs_size posterior_mean posterior_sd cs_log10bf\n",
       "1 3       0.008675238    0.05773493   4.066283  \n",
       "2 3       0.007645267    0.05413656   4.066283  \n",
       "3 3       0.378817519    0.12826046   4.066283  "
      ]
     },
     "metadata": {},
     "output_type": "display_data"
    }
   ],
   "source": [
    "susie_afr <- fread(\"results/susie_finemap/afr_ciseqtl_25hcp_perm_purity_filtered.txt.gz\", data.table = F)\n",
    "susie_afr %>% filter(phenotype_id == \"ENSG00000117899\")"
   ]
  },
  {
   "cell_type": "markdown",
   "metadata": {},
   "source": [
    "**Cannot plot locuszoom for the second paintor causal, not in locuszoom reference. Used plink to calculate LD for the 2 variants in each population. They are in high LD!**"
   ]
  },
  {
   "cell_type": "code",
   "execution_count": 5,
   "metadata": {},
   "outputs": [],
   "source": [
    "num_var=2\n",
    "myFile <- file(\"paintor/MESDC2/eur_variants_ld.ld.bin\", \"rb\")\n",
    "eur_ld <- readBin(myFile, what = \"numeric\", n = num_var*num_var, size = 8)"
   ]
  },
  {
   "cell_type": "code",
   "execution_count": 6,
   "metadata": {},
   "outputs": [
    {
     "data": {
      "text/html": [
       "<style>\n",
       ".list-inline {list-style: none; margin:0; padding: 0}\n",
       ".list-inline>li {display: inline-block}\n",
       ".list-inline>li:not(:last-child)::after {content: \"\\00b7\"; padding: 0 .5ex}\n",
       "</style>\n",
       "<ol class=list-inline><li>1</li><li>0.906002693129075</li><li>0.906002693129075</li><li>1</li></ol>\n"
      ],
      "text/latex": [
       "\\begin{enumerate*}\n",
       "\\item 1\n",
       "\\item 0.906002693129075\n",
       "\\item 0.906002693129075\n",
       "\\item 1\n",
       "\\end{enumerate*}\n"
      ],
      "text/markdown": [
       "1. 1\n",
       "2. 0.906002693129075\n",
       "3. 0.906002693129075\n",
       "4. 1\n",
       "\n",
       "\n"
      ],
      "text/plain": [
       "[1] 1.0000000 0.9060027 0.9060027 1.0000000"
      ]
     },
     "metadata": {},
     "output_type": "display_data"
    }
   ],
   "source": [
    "eur_ld"
   ]
  },
  {
   "cell_type": "code",
   "execution_count": 7,
   "metadata": {},
   "outputs": [
    {
     "data": {
      "text/html": [
       "<style>\n",
       ".list-inline {list-style: none; margin:0; padding: 0}\n",
       ".list-inline>li {display: inline-block}\n",
       ".list-inline>li:not(:last-child)::after {content: \"\\00b7\"; padding: 0 .5ex}\n",
       "</style>\n",
       "<ol class=list-inline><li>1</li><li>0.79639189979588</li><li>0.79639189979588</li><li>1</li></ol>\n"
      ],
      "text/latex": [
       "\\begin{enumerate*}\n",
       "\\item 1\n",
       "\\item 0.79639189979588\n",
       "\\item 0.79639189979588\n",
       "\\item 1\n",
       "\\end{enumerate*}\n"
      ],
      "text/markdown": [
       "1. 1\n",
       "2. 0.79639189979588\n",
       "3. 0.79639189979588\n",
       "4. 1\n",
       "\n",
       "\n"
      ],
      "text/plain": [
       "[1] 1.0000000 0.7963919 0.7963919 1.0000000"
      ]
     },
     "metadata": {},
     "output_type": "display_data"
    }
   ],
   "source": [
    "myFile <- file(\"paintor/MESDC2/amr_variants_ld.ld.bin\", \"rb\")\n",
    "amr_ld <- readBin(myFile, what = \"numeric\", n = num_var*num_var, size = 8)\n",
    "amr_ld"
   ]
  },
  {
   "cell_type": "code",
   "execution_count": 8,
   "metadata": {},
   "outputs": [
    {
     "data": {
      "text/html": [
       "<style>\n",
       ".list-inline {list-style: none; margin:0; padding: 0}\n",
       ".list-inline>li {display: inline-block}\n",
       ".list-inline>li:not(:last-child)::after {content: \"\\00b7\"; padding: 0 .5ex}\n",
       "</style>\n",
       "<ol class=list-inline><li>1</li><li>0.461121569103716</li><li>0.461121569103716</li><li>1</li></ol>\n"
      ],
      "text/latex": [
       "\\begin{enumerate*}\n",
       "\\item 1\n",
       "\\item 0.461121569103716\n",
       "\\item 0.461121569103716\n",
       "\\item 1\n",
       "\\end{enumerate*}\n"
      ],
      "text/markdown": [
       "1. 1\n",
       "2. 0.461121569103716\n",
       "3. 0.461121569103716\n",
       "4. 1\n",
       "\n",
       "\n"
      ],
      "text/plain": [
       "[1] 1.0000000 0.4611216 0.4611216 1.0000000"
      ]
     },
     "metadata": {},
     "output_type": "display_data"
    }
   ],
   "source": [
    "myFile <- file(\"paintor/MESDC2/afr_variants_ld.ld.bin\", \"rb\")\n",
    "afr_ld <- readBin(myFile, what = \"numeric\", n = num_var*num_var, size = 8)\n",
    "afr_ld"
   ]
  },
  {
   "cell_type": "code",
   "execution_count": null,
   "metadata": {},
   "outputs": [],
   "source": []
  }
 ],
 "metadata": {
  "kernelspec": {
   "display_name": "R 4.1.0 BIO",
   "language": "R",
   "name": "ir410-bio"
  },
  "language_info": {
   "codemirror_mode": "r",
   "file_extension": ".r",
   "mimetype": "text/x-r-source",
   "name": "R",
   "pygments_lexer": "r",
   "version": "4.1.0"
  }
 },
 "nbformat": 4,
 "nbformat_minor": 2
}
