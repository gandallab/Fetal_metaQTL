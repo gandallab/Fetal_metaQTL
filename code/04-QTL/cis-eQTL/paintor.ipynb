{
 "cells": [
  {
   "cell_type": "markdown",
   "metadata": {
    "deletable": true,
    "editable": true
   },
   "source": [
    "# PAINTOR multi-ethnic fine-mapping"
   ]
  },
  {
   "cell_type": "code",
   "execution_count": 1,
   "metadata": {
    "collapsed": false,
    "deletable": true,
    "editable": true,
    "scrolled": true
   },
   "outputs": [
    {
     "name": "stderr",
     "output_type": "stream",
     "text": [
      "\n",
      "Attaching package: ‘dplyr’\n",
      "\n",
      "\n",
      "The following objects are masked from ‘package:data.table’:\n",
      "\n",
      "    between, first, last\n",
      "\n",
      "\n",
      "The following objects are masked from ‘package:stats’:\n",
      "\n",
      "    filter, lag\n",
      "\n",
      "\n",
      "The following objects are masked from ‘package:base’:\n",
      "\n",
      "    intersect, setdiff, setequal, union\n",
      "\n",
      "\n"
     ]
    }
   ],
   "source": [
    "library(data.table)\n",
    "library(dplyr)"
   ]
  },
  {
   "cell_type": "code",
   "execution_count": 3,
   "metadata": {
    "collapsed": true,
    "deletable": true,
    "editable": true
   },
   "outputs": [],
   "source": [
    "setwd(\"~/project-gandalm/isoform_twas/eqtl_new/\")"
   ]
  },
  {
   "cell_type": "code",
   "execution_count": 6,
   "metadata": {
    "collapsed": true,
    "deletable": true,
    "editable": true
   },
   "outputs": [],
   "source": [
    "eur <- fread(\"results/eur_perm_50HCP/all_assoc_perm_info.txt\", data.table = F)\n",
    "amr <- fread(\"results/amr_perm_15HCP/all_assoc_perm_info.txt\", data.table = F)\n",
    "afr <- fread(\"results/afr_perm_25HCP/all_assoc_perm_info.txt\", data.table = F)"
   ]
  },
  {
   "cell_type": "code",
   "execution_count": 7,
   "metadata": {
    "collapsed": true,
    "deletable": true,
    "editable": true
   },
   "outputs": [],
   "source": [
    "eur <- eur %>% filter(qval < .05)\n",
    "amr <- amr %>% filter(qval < .05)\n",
    "afr <- afr %>% filter(qval < .05)"
   ]
  },
  {
   "cell_type": "code",
   "execution_count": 6,
   "metadata": {
    "collapsed": false,
    "deletable": true,
    "editable": true
   },
   "outputs": [
    {
     "data": {
      "text/html": [
       "<style>\n",
       ".list-inline {list-style: none; margin:0; padding: 0}\n",
       ".list-inline>li {display: inline-block}\n",
       ".list-inline>li:not(:last-child)::after {content: \"\\00b7\"; padding: 0 .5ex}\n",
       "</style>\n",
       "<ol class=list-inline><li>5296</li><li>15</li></ol>\n"
      ],
      "text/latex": [
       "\\begin{enumerate*}\n",
       "\\item 5296\n",
       "\\item 15\n",
       "\\end{enumerate*}\n"
      ],
      "text/markdown": [
       "1. 5296\n",
       "2. 15\n",
       "\n",
       "\n"
      ],
      "text/plain": [
       "[1] 5296   15"
      ]
     },
     "metadata": {},
     "output_type": "display_data"
    },
    {
     "data": {
      "text/html": [
       "<style>\n",
       ".list-inline {list-style: none; margin:0; padding: 0}\n",
       ".list-inline>li {display: inline-block}\n",
       ".list-inline>li:not(:last-child)::after {content: \"\\00b7\"; padding: 0 .5ex}\n",
       "</style>\n",
       "<ol class=list-inline><li>3242</li><li>15</li></ol>\n"
      ],
      "text/latex": [
       "\\begin{enumerate*}\n",
       "\\item 3242\n",
       "\\item 15\n",
       "\\end{enumerate*}\n"
      ],
      "text/markdown": [
       "1. 3242\n",
       "2. 15\n",
       "\n",
       "\n"
      ],
      "text/plain": [
       "[1] 3242   15"
      ]
     },
     "metadata": {},
     "output_type": "display_data"
    },
    {
     "data": {
      "text/html": [
       "<style>\n",
       ".list-inline {list-style: none; margin:0; padding: 0}\n",
       ".list-inline>li {display: inline-block}\n",
       ".list-inline>li:not(:last-child)::after {content: \"\\00b7\"; padding: 0 .5ex}\n",
       "</style>\n",
       "<ol class=list-inline><li>1876</li><li>15</li></ol>\n"
      ],
      "text/latex": [
       "\\begin{enumerate*}\n",
       "\\item 1876\n",
       "\\item 15\n",
       "\\end{enumerate*}\n"
      ],
      "text/markdown": [
       "1. 1876\n",
       "2. 15\n",
       "\n",
       "\n"
      ],
      "text/plain": [
       "[1] 1876   15"
      ]
     },
     "metadata": {},
     "output_type": "display_data"
    }
   ],
   "source": [
    "dim(eur)\n",
    "dim(amr)\n",
    "dim(afr)"
   ]
  },
  {
   "cell_type": "code",
   "execution_count": 8,
   "metadata": {
    "collapsed": false,
    "deletable": true,
    "editable": true
   },
   "outputs": [
    {
     "data": {
      "text/html": [
       "<style>\n",
       ".list-inline {list-style: none; margin:0; padding: 0}\n",
       ".list-inline>li {display: inline-block}\n",
       ".list-inline>li:not(:last-child)::after {content: \"\\00b7\"; padding: 0 .5ex}\n",
       "</style>\n",
       "<ol class=list-inline><li>986</li><li>43</li></ol>\n"
      ],
      "text/latex": [
       "\\begin{enumerate*}\n",
       "\\item 986\n",
       "\\item 43\n",
       "\\end{enumerate*}\n"
      ],
      "text/markdown": [
       "1. 986\n",
       "2. 43\n",
       "\n",
       "\n"
      ],
      "text/plain": [
       "[1] 986  43"
      ]
     },
     "metadata": {},
     "output_type": "display_data"
    }
   ],
   "source": [
    "shared <- eur %>% inner_join(amr, by=\"pid\") %>% inner_join(afr, by=\"pid\")\n",
    "dim(shared)"
   ]
  },
  {
   "cell_type": "markdown",
   "metadata": {
    "deletable": true,
    "editable": true
   },
   "source": [
    "**Select ENSG00000001460 as an example to test run PAINTOR, ultimately should have 986 locus files. 3018 shared cis variants between EUR, AMR, AFR.**"
   ]
  },
  {
   "cell_type": "code",
   "execution_count": 4,
   "metadata": {
    "collapsed": false,
    "deletable": true,
    "editable": true
   },
   "outputs": [],
   "source": [
    "eur_nominal <- fread(\"paintor/eur_nominal_50HCP_ENSG00000001460.txt\", header = F, data.table = F)\n",
    "amr_nominal <- fread(\"paintor/amr_nominal_15HCP_ENSG00000001460.txt\", header = F, data.table = F)\n",
    "afr_nominal <- fread(\"paintor/afr_nominal_25HCP_ENSG00000001460.txt\", header = F, data.table = F)"
   ]
  },
  {
   "cell_type": "code",
   "execution_count": 5,
   "metadata": {
    "collapsed": false,
    "deletable": true,
    "editable": true
   },
   "outputs": [
    {
     "data": {
      "text/html": [
       "<style>\n",
       ".list-inline {list-style: none; margin:0; padding: 0}\n",
       ".list-inline>li {display: inline-block}\n",
       ".list-inline>li:not(:last-child)::after {content: \"\\00b7\"; padding: 0 .5ex}\n",
       "</style>\n",
       "<ol class=list-inline><li>3018</li><li>16</li></ol>\n"
      ],
      "text/latex": [
       "\\begin{enumerate*}\n",
       "\\item 3018\n",
       "\\item 16\n",
       "\\end{enumerate*}\n"
      ],
      "text/markdown": [
       "1. 3018\n",
       "2. 16\n",
       "\n",
       "\n"
      ],
      "text/plain": [
       "[1] 3018   16"
      ]
     },
     "metadata": {},
     "output_type": "display_data"
    }
   ],
   "source": [
    "shared <- eur_nominal %>% inner_join(amr_nominal, by=\"V2\") %>% inner_join(afr_nominal, by=\"V2\")\n",
    "dim(shared)"
   ]
  },
  {
   "cell_type": "markdown",
   "metadata": {
    "deletable": true,
    "editable": true
   },
   "source": [
    "**Calculate ZSCORE from pval**"
   ]
  },
  {
   "cell_type": "code",
   "execution_count": 7,
   "metadata": {
    "collapsed": true,
    "deletable": true,
    "editable": true
   },
   "outputs": [],
   "source": [
    "shared$z.x <- shared$z.y <- shared$z <- NA"
   ]
  },
  {
   "cell_type": "code",
   "execution_count": 9,
   "metadata": {
    "collapsed": false,
    "deletable": true,
    "editable": true
   },
   "outputs": [],
   "source": [
    "for(i in 1:nrow(shared)) {\n",
    "    if (shared[i,'V5.x'] < 0) {\n",
    "        shared[i,'z.x'] <- qnorm(shared[i,'V4.x']/2)\n",
    "    } else if (shared[i,'V5.x'] >= 0) {\n",
    "        shared[i,'z.x'] <- qnorm(1-shared[i,'V4.x']/2)\n",
    "    }\n",
    "    if (shared[i,'V5.y'] < 0) {\n",
    "        shared[i,'z.y'] <- qnorm(shared[i,'V4.y']/2)\n",
    "    } else if (shared[i,'V5.y'] >= 0) {\n",
    "        shared[i,'z.y'] <- qnorm(1-shared[i,'V4.y']/2)\n",
    "    }\n",
    "    if (shared[i,'V5'] < 0) {\n",
    "        shared[i,'z'] <- qnorm(shared[i,'V4']/2)\n",
    "    } else if (shared[i,'V5'] >= 0) {\n",
    "        shared[i,'z'] <- qnorm(1-shared[i,'V4']/2)\n",
    "    }\n",
    "}"
   ]
  },
  {
   "cell_type": "code",
   "execution_count": 10,
   "metadata": {
    "collapsed": false,
    "deletable": true,
    "editable": true
   },
   "outputs": [
    {
     "data": {
      "text/html": [
       "<table>\n",
       "<caption>A data.frame: 6 × 4</caption>\n",
       "<thead>\n",
       "\t<tr><th></th><th scope=col>V2</th><th scope=col>z.x</th><th scope=col>z.y</th><th scope=col>z</th></tr>\n",
       "\t<tr><th></th><th scope=col>&lt;chr&gt;</th><th scope=col>&lt;dbl&gt;</th><th scope=col>&lt;dbl&gt;</th><th scope=col>&lt;dbl&gt;</th></tr>\n",
       "</thead>\n",
       "<tbody>\n",
       "\t<tr><th scope=row>1</th><td>rs3795294 </td><td>-0.8081991</td><td> 1.1167201</td><td>-1.3232869</td></tr>\n",
       "\t<tr><th scope=row>2</th><td>rs3795295 </td><td>-0.5947135</td><td>-1.4185337</td><td> 0.2471101</td></tr>\n",
       "\t<tr><th scope=row>3</th><td>rs55972836</td><td> 1.2262330</td><td> 0.5759041</td><td>-0.6346787</td></tr>\n",
       "\t<tr><th scope=row>4</th><td>rs3737646 </td><td>-0.4035998</td><td> 1.7074195</td><td>-0.5700895</td></tr>\n",
       "\t<tr><th scope=row>5</th><td>rs72882989</td><td>-0.3738687</td><td> 0.3768151</td><td> 0.2466695</td></tr>\n",
       "\t<tr><th scope=row>6</th><td>rs12122936</td><td> 1.4035295</td><td>-0.8613124</td><td> 0.5201328</td></tr>\n",
       "</tbody>\n",
       "</table>\n"
      ],
      "text/latex": [
       "A data.frame: 6 × 4\n",
       "\\begin{tabular}{r|llll}\n",
       "  & V2 & z.x & z.y & z\\\\\n",
       "  & <chr> & <dbl> & <dbl> & <dbl>\\\\\n",
       "\\hline\n",
       "\t1 & rs3795294  & -0.8081991 &  1.1167201 & -1.3232869\\\\\n",
       "\t2 & rs3795295  & -0.5947135 & -1.4185337 &  0.2471101\\\\\n",
       "\t3 & rs55972836 &  1.2262330 &  0.5759041 & -0.6346787\\\\\n",
       "\t4 & rs3737646  & -0.4035998 &  1.7074195 & -0.5700895\\\\\n",
       "\t5 & rs72882989 & -0.3738687 &  0.3768151 &  0.2466695\\\\\n",
       "\t6 & rs12122936 &  1.4035295 & -0.8613124 &  0.5201328\\\\\n",
       "\\end{tabular}\n"
      ],
      "text/markdown": [
       "\n",
       "A data.frame: 6 × 4\n",
       "\n",
       "| <!--/--> | V2 &lt;chr&gt; | z.x &lt;dbl&gt; | z.y &lt;dbl&gt; | z &lt;dbl&gt; |\n",
       "|---|---|---|---|---|\n",
       "| 1 | rs3795294  | -0.8081991 |  1.1167201 | -1.3232869 |\n",
       "| 2 | rs3795295  | -0.5947135 | -1.4185337 |  0.2471101 |\n",
       "| 3 | rs55972836 |  1.2262330 |  0.5759041 | -0.6346787 |\n",
       "| 4 | rs3737646  | -0.4035998 |  1.7074195 | -0.5700895 |\n",
       "| 5 | rs72882989 | -0.3738687 |  0.3768151 |  0.2466695 |\n",
       "| 6 | rs12122936 |  1.4035295 | -0.8613124 |  0.5201328 |\n",
       "\n"
      ],
      "text/plain": [
       "  V2         z.x        z.y        z         \n",
       "1 rs3795294  -0.8081991  1.1167201 -1.3232869\n",
       "2 rs3795295  -0.5947135 -1.4185337  0.2471101\n",
       "3 rs55972836  1.2262330  0.5759041 -0.6346787\n",
       "4 rs3737646  -0.4035998  1.7074195 -0.5700895\n",
       "5 rs72882989 -0.3738687  0.3768151  0.2466695\n",
       "6 rs12122936  1.4035295 -0.8613124  0.5201328"
      ]
     },
     "metadata": {},
     "output_type": "display_data"
    }
   ],
   "source": [
    "shared <- shared %>% select(V2, z.x, z.y, z)\n",
    "head(shared)"
   ]
  },
  {
   "cell_type": "code",
   "execution_count": 11,
   "metadata": {
    "collapsed": true,
    "deletable": true,
    "editable": true
   },
   "outputs": [],
   "source": [
    "colnames(shared) <- c(\"RSID\", \"ZSCORE.P1\", \"ZSCORE.P2\", \"ZSCORE.P3\")\n",
    "write.table(shared, \"paintor/Locus1\", col.names = T, row.names = F, sep = \" \", quote = F)"
   ]
  },
  {
   "cell_type": "markdown",
   "metadata": {
    "deletable": true,
    "editable": true
   },
   "source": [
    "**Use plink to estimate LD of the shared variants in all 3 populations.**\n",
    "\n",
    "`plink --r2 bin \\\n",
    "--vcf ${file} \\\n",
    "--extract shared_variants.txt \\\n",
    "--out eur`"
   ]
  },
  {
   "cell_type": "code",
   "execution_count": 13,
   "metadata": {
    "collapsed": true,
    "deletable": true,
    "editable": true
   },
   "outputs": [],
   "source": [
    "id <- shared %>% select(RSID)\n",
    "# write.table(id, \"paintor/shared_variants.txt\", col.names = F, row.names = F, quote = F, sep = \"\\t\")"
   ]
  },
  {
   "cell_type": "code",
   "execution_count": 23,
   "metadata": {
    "collapsed": true,
    "deletable": true,
    "editable": true
   },
   "outputs": [],
   "source": [
    "?readBin"
   ]
  },
  {
   "cell_type": "code",
   "execution_count": 29,
   "metadata": {
    "collapsed": false,
    "deletable": true,
    "editable": true
   },
   "outputs": [],
   "source": [
    "myFile <- file('paintor/eur.ld.bin', 'rb')\n",
    "eur_ld <- readBin(myFile, what=\"numeric\", n=3018*3018, size=8)\n",
    "close(myFile)"
   ]
  },
  {
   "cell_type": "code",
   "execution_count": 30,
   "metadata": {
    "collapsed": false,
    "deletable": true,
    "editable": true
   },
   "outputs": [
    {
     "data": {
      "text/plain": [
       "NULL"
      ]
     },
     "metadata": {},
     "output_type": "display_data"
    }
   ],
   "source": [
    "dim(eur_ld)"
   ]
  },
  {
   "cell_type": "code",
   "execution_count": 31,
   "metadata": {
    "collapsed": false,
    "deletable": true,
    "editable": true
   },
   "outputs": [
    {
     "data": {
      "text/html": [
       "9108324"
      ],
      "text/latex": [
       "9108324"
      ],
      "text/markdown": [
       "9108324"
      ],
      "text/plain": [
       "[1] 9108324"
      ]
     },
     "metadata": {},
     "output_type": "display_data"
    }
   ],
   "source": [
    "length(eur_ld)"
   ]
  },
  {
   "cell_type": "code",
   "execution_count": 28,
   "metadata": {
    "collapsed": false,
    "deletable": true,
    "editable": true
   },
   "outputs": [
    {
     "data": {
      "text/html": [
       "9108324"
      ],
      "text/latex": [
       "9108324"
      ],
      "text/markdown": [
       "9108324"
      ],
      "text/plain": [
       "[1] 9108324"
      ]
     },
     "metadata": {},
     "output_type": "display_data"
    }
   ],
   "source": [
    "3018^2"
   ]
  },
  {
   "cell_type": "code",
   "execution_count": 32,
   "metadata": {
    "collapsed": false,
    "deletable": true,
    "editable": true
   },
   "outputs": [
    {
     "data": {
      "text/html": [
       "<style>\n",
       ".list-inline {list-style: none; margin:0; padding: 0}\n",
       ".list-inline>li {display: inline-block}\n",
       ".list-inline>li:not(:last-child)::after {content: \"\\00b7\"; padding: 0 .5ex}\n",
       "</style>\n",
       "<ol class=list-inline><li>1</li><li>0.064681741278598</li><li>0.00659833186725526</li><li>0.87218684938581</li><li>0.000755159247982214</li><li>0.569936514437846</li></ol>\n"
      ],
      "text/latex": [
       "\\begin{enumerate*}\n",
       "\\item 1\n",
       "\\item 0.064681741278598\n",
       "\\item 0.00659833186725526\n",
       "\\item 0.87218684938581\n",
       "\\item 0.000755159247982214\n",
       "\\item 0.569936514437846\n",
       "\\end{enumerate*}\n"
      ],
      "text/markdown": [
       "1. 1\n",
       "2. 0.064681741278598\n",
       "3. 0.00659833186725526\n",
       "4. 0.87218684938581\n",
       "5. 0.000755159247982214\n",
       "6. 0.569936514437846\n",
       "\n",
       "\n"
      ],
      "text/plain": [
       "[1] 1.0000000000 0.0646817413 0.0065983319 0.8721868494 0.0007551592\n",
       "[6] 0.5699365144"
      ]
     },
     "metadata": {},
     "output_type": "display_data"
    }
   ],
   "source": [
    "head(eur_ld)"
   ]
  },
  {
   "cell_type": "code",
   "execution_count": 34,
   "metadata": {
    "collapsed": false,
    "deletable": true,
    "editable": true
   },
   "outputs": [
    {
     "data": {
      "text/html": [
       "<style>\n",
       ".list-inline {list-style: none; margin:0; padding: 0}\n",
       ".list-inline>li {display: inline-block}\n",
       ".list-inline>li:not(:last-child)::after {content: \"\\00b7\"; padding: 0 .5ex}\n",
       "</style>\n",
       "<ol class=list-inline><li>1</li><li>3020</li><li>6039</li><li>9058</li><li>12077</li><li>15096</li></ol>\n"
      ],
      "text/latex": [
       "\\begin{enumerate*}\n",
       "\\item 1\n",
       "\\item 3020\n",
       "\\item 6039\n",
       "\\item 9058\n",
       "\\item 12077\n",
       "\\item 15096\n",
       "\\end{enumerate*}\n"
      ],
      "text/markdown": [
       "1. 1\n",
       "2. 3020\n",
       "3. 6039\n",
       "4. 9058\n",
       "5. 12077\n",
       "6. 15096\n",
       "\n",
       "\n"
      ],
      "text/plain": [
       "[1]     1  3020  6039  9058 12077 15096"
      ]
     },
     "metadata": {},
     "output_type": "display_data"
    }
   ],
   "source": [
    "head(which(eur_ld == 1))"
   ]
  },
  {
   "cell_type": "markdown",
   "metadata": {
    "deletable": true,
    "editable": true
   },
   "source": [
    "**Don't know the order, if it's row1, row2, ... or col1, col2, ... But doesn't matter! It's the same.**"
   ]
  },
  {
   "cell_type": "code",
   "execution_count": 35,
   "metadata": {
    "collapsed": true,
    "deletable": true,
    "editable": true
   },
   "outputs": [],
   "source": [
    "eur_matrix <- matrix(eur_ld, nrow = 3018)"
   ]
  },
  {
   "cell_type": "code",
   "execution_count": 36,
   "metadata": {
    "collapsed": false,
    "deletable": true,
    "editable": true
   },
   "outputs": [
    {
     "data": {
      "text/html": [
       "<style>\n",
       ".list-inline {list-style: none; margin:0; padding: 0}\n",
       ".list-inline>li {display: inline-block}\n",
       ".list-inline>li:not(:last-child)::after {content: \"\\00b7\"; padding: 0 .5ex}\n",
       "</style>\n",
       "<ol class=list-inline><li>3018</li><li>3018</li></ol>\n"
      ],
      "text/latex": [
       "\\begin{enumerate*}\n",
       "\\item 3018\n",
       "\\item 3018\n",
       "\\end{enumerate*}\n"
      ],
      "text/markdown": [
       "1. 3018\n",
       "2. 3018\n",
       "\n",
       "\n"
      ],
      "text/plain": [
       "[1] 3018 3018"
      ]
     },
     "metadata": {},
     "output_type": "display_data"
    }
   ],
   "source": [
    "dim(eur_matrix)"
   ]
  },
  {
   "cell_type": "code",
   "execution_count": 37,
   "metadata": {
    "collapsed": true,
    "deletable": true,
    "editable": true
   },
   "outputs": [],
   "source": [
    "write.table(eur_matrix, \"paintor/Locus1.LD1\", col.names = F, row.names = F, quote = F, sep = \" \")"
   ]
  },
  {
   "cell_type": "code",
   "execution_count": 3,
   "metadata": {
    "collapsed": false,
    "deletable": true,
    "editable": true
   },
   "outputs": [
    {
     "data": {
      "text/html": [
       "9108324"
      ],
      "text/latex": [
       "9108324"
      ],
      "text/markdown": [
       "9108324"
      ],
      "text/plain": [
       "[1] 9108324"
      ]
     },
     "metadata": {},
     "output_type": "display_data"
    }
   ],
   "source": [
    "myFile <- file('paintor/amr.ld.bin', 'rb')\n",
    "amr_ld <- readBin(myFile, what=\"numeric\", n=3018*3018, size=8)\n",
    "close(myFile)\n",
    "length(amr_ld)\n",
    "amr_matrix <- matrix(amr_ld, nrow = 3018)\n",
    "write.table(amr_matrix, \"paintor/Locus1.LD2\", col.names = F, row.names = F, quote = F, sep = \" \")"
   ]
  },
  {
   "cell_type": "code",
   "execution_count": 4,
   "metadata": {
    "collapsed": false,
    "deletable": true,
    "editable": true
   },
   "outputs": [
    {
     "data": {
      "text/html": [
       "9108324"
      ],
      "text/latex": [
       "9108324"
      ],
      "text/markdown": [
       "9108324"
      ],
      "text/plain": [
       "[1] 9108324"
      ]
     },
     "metadata": {},
     "output_type": "display_data"
    }
   ],
   "source": [
    "myFile <- file('paintor/afr.ld.bin', 'rb')\n",
    "afr_ld <- readBin(myFile, what=\"numeric\", n=3018*3018, size=8)\n",
    "close(myFile)\n",
    "length(afr_ld)\n",
    "afr_matrix <- matrix(afr_ld, nrow = 3018)\n",
    "write.table(afr_matrix, \"paintor/Locus1.LD3\", col.names = F, row.names = F, quote = F, sep = \" \")"
   ]
  },
  {
   "cell_type": "markdown",
   "metadata": {
    "deletable": true,
    "editable": true
   },
   "source": [
    "**Generate annotation file for the shared cis-variants**\n",
    "- Cannot use annotation file generated for torus, which is for the variants in ALL geontype. Does not cover all shared variants between EUR, AMR, AFR\n",
    "- Generate annot from ENCODE Regulatory Build and EUR variant coord"
   ]
  },
  {
   "cell_type": "code",
   "execution_count": 19,
   "metadata": {
    "collapsed": false,
    "deletable": true,
    "editable": true
   },
   "outputs": [
    {
     "data": {
      "text/html": [
       "<table>\n",
       "<caption>A data.frame: 6 × 1</caption>\n",
       "<thead>\n",
       "\t<tr><th></th><th scope=col>RSID</th></tr>\n",
       "\t<tr><th></th><th scope=col>&lt;chr&gt;</th></tr>\n",
       "</thead>\n",
       "<tbody>\n",
       "\t<tr><th scope=row>1</th><td>rs3795294 </td></tr>\n",
       "\t<tr><th scope=row>2</th><td>rs3795295 </td></tr>\n",
       "\t<tr><th scope=row>3</th><td>rs55972836</td></tr>\n",
       "\t<tr><th scope=row>4</th><td>rs3737646 </td></tr>\n",
       "\t<tr><th scope=row>5</th><td>rs72882989</td></tr>\n",
       "\t<tr><th scope=row>6</th><td>rs12122936</td></tr>\n",
       "</tbody>\n",
       "</table>\n"
      ],
      "text/latex": [
       "A data.frame: 6 × 1\n",
       "\\begin{tabular}{r|l}\n",
       "  & RSID\\\\\n",
       "  & <chr>\\\\\n",
       "\\hline\n",
       "\t1 & rs3795294 \\\\\n",
       "\t2 & rs3795295 \\\\\n",
       "\t3 & rs55972836\\\\\n",
       "\t4 & rs3737646 \\\\\n",
       "\t5 & rs72882989\\\\\n",
       "\t6 & rs12122936\\\\\n",
       "\\end{tabular}\n"
      ],
      "text/markdown": [
       "\n",
       "A data.frame: 6 × 1\n",
       "\n",
       "| <!--/--> | RSID &lt;chr&gt; |\n",
       "|---|---|\n",
       "| 1 | rs3795294  |\n",
       "| 2 | rs3795295  |\n",
       "| 3 | rs55972836 |\n",
       "| 4 | rs3737646  |\n",
       "| 5 | rs72882989 |\n",
       "| 6 | rs12122936 |\n",
       "\n"
      ],
      "text/plain": [
       "  RSID      \n",
       "1 rs3795294 \n",
       "2 rs3795295 \n",
       "3 rs55972836\n",
       "4 rs3737646 \n",
       "5 rs72882989\n",
       "6 rs12122936"
      ]
     },
     "metadata": {},
     "output_type": "display_data"
    }
   ],
   "source": [
    "head(id)"
   ]
  },
  {
   "cell_type": "code",
   "execution_count": 20,
   "metadata": {
    "collapsed": false,
    "deletable": true,
    "editable": true
   },
   "outputs": [
    {
     "data": {
      "text/html": [
       "<table>\n",
       "<caption>A data.frame: 6 × 4</caption>\n",
       "<thead>\n",
       "\t<tr><th></th><th scope=col>GENE</th><th scope=col>CHR</th><th scope=col>START</th><th scope=col>END</th></tr>\n",
       "\t<tr><th></th><th scope=col>&lt;chr&gt;</th><th scope=col>&lt;int&gt;</th><th scope=col>&lt;int&gt;</th><th scope=col>&lt;dbl&gt;</th></tr>\n",
       "</thead>\n",
       "<tbody>\n",
       "\t<tr><th scope=row>1</th><td>rs61769339 </td><td>1</td><td>662622</td><td>662623</td></tr>\n",
       "\t<tr><th scope=row>2</th><td>rs12238997 </td><td>1</td><td>693731</td><td>693732</td></tr>\n",
       "\t<tr><th scope=row>3</th><td>rs61769351 </td><td>1</td><td>693823</td><td>693824</td></tr>\n",
       "\t<tr><th scope=row>4</th><td>rs142559957</td><td>1</td><td>704637</td><td>704638</td></tr>\n",
       "\t<tr><th scope=row>5</th><td>rs58276399 </td><td>1</td><td>731718</td><td>731719</td></tr>\n",
       "\t<tr><th scope=row>6</th><td>rs61770163 </td><td>1</td><td>732032</td><td>732033</td></tr>\n",
       "</tbody>\n",
       "</table>\n"
      ],
      "text/latex": [
       "A data.frame: 6 × 4\n",
       "\\begin{tabular}{r|llll}\n",
       "  & GENE & CHR & START & END\\\\\n",
       "  & <chr> & <int> & <int> & <dbl>\\\\\n",
       "\\hline\n",
       "\t1 & rs61769339  & 1 & 662622 & 662623\\\\\n",
       "\t2 & rs12238997  & 1 & 693731 & 693732\\\\\n",
       "\t3 & rs61769351  & 1 & 693823 & 693824\\\\\n",
       "\t4 & rs142559957 & 1 & 704637 & 704638\\\\\n",
       "\t5 & rs58276399  & 1 & 731718 & 731719\\\\\n",
       "\t6 & rs61770163  & 1 & 732032 & 732033\\\\\n",
       "\\end{tabular}\n"
      ],
      "text/markdown": [
       "\n",
       "A data.frame: 6 × 4\n",
       "\n",
       "| <!--/--> | GENE &lt;chr&gt; | CHR &lt;int&gt; | START &lt;int&gt; | END &lt;dbl&gt; |\n",
       "|---|---|---|---|---|\n",
       "| 1 | rs61769339  | 1 | 662622 | 662623 |\n",
       "| 2 | rs12238997  | 1 | 693731 | 693732 |\n",
       "| 3 | rs61769351  | 1 | 693823 | 693824 |\n",
       "| 4 | rs142559957 | 1 | 704637 | 704638 |\n",
       "| 5 | rs58276399  | 1 | 731718 | 731719 |\n",
       "| 6 | rs61770163  | 1 | 732032 | 732033 |\n",
       "\n"
      ],
      "text/plain": [
       "  GENE        CHR START  END   \n",
       "1 rs61769339  1   662622 662623\n",
       "2 rs12238997  1   693731 693732\n",
       "3 rs61769351  1   693823 693824\n",
       "4 rs142559957 1   704637 704638\n",
       "5 rs58276399  1   731718 731719\n",
       "6 rs61770163  1   732032 732033"
      ]
     },
     "metadata": {},
     "output_type": "display_data"
    }
   ],
   "source": [
    "coord <- fread(\"../genotype/all_data/isec_R2_greater_than_3/ancestry/annot/eur_variant_coord.tsv\", data.table = F)\n",
    "head(coord)"
   ]
  },
  {
   "cell_type": "code",
   "execution_count": 21,
   "metadata": {
    "collapsed": false,
    "deletable": true,
    "editable": true
   },
   "outputs": [
    {
     "data": {
      "text/html": [
       "<style>\n",
       ".list-inline {list-style: none; margin:0; padding: 0}\n",
       ".list-inline>li {display: inline-block}\n",
       ".list-inline>li:not(:last-child)::after {content: \"\\00b7\"; padding: 0 .5ex}\n",
       "</style>\n",
       "<ol class=list-inline><li>3018</li><li>4</li></ol>\n"
      ],
      "text/latex": [
       "\\begin{enumerate*}\n",
       "\\item 3018\n",
       "\\item 4\n",
       "\\end{enumerate*}\n"
      ],
      "text/markdown": [
       "1. 3018\n",
       "2. 4\n",
       "\n",
       "\n"
      ],
      "text/plain": [
       "[1] 3018    4"
      ]
     },
     "metadata": {},
     "output_type": "display_data"
    }
   ],
   "source": [
    "id <- id %>% left_join(coord, by=c(\"RSID\"=\"GENE\"))\n",
    "dim(id)"
   ]
  },
  {
   "cell_type": "code",
   "execution_count": 23,
   "metadata": {
    "collapsed": false,
    "deletable": true,
    "editable": true
   },
   "outputs": [
    {
     "data": {
      "text/html": [
       "<table>\n",
       "<caption>A data.frame: 6 × 7</caption>\n",
       "<thead>\n",
       "\t<tr><th></th><th scope=col>SNP</th><th scope=col>TF_binding_site_d</th><th scope=col>promoter_flanking_region_d</th><th scope=col>promoter_d</th><th scope=col>open_chromatin_region_d</th><th scope=col>enhancer_d</th><th scope=col>CTCF_binding_site_d</th></tr>\n",
       "\t<tr><th></th><th scope=col>&lt;chr&gt;</th><th scope=col>&lt;int&gt;</th><th scope=col>&lt;int&gt;</th><th scope=col>&lt;int&gt;</th><th scope=col>&lt;int&gt;</th><th scope=col>&lt;int&gt;</th><th scope=col>&lt;int&gt;</th></tr>\n",
       "</thead>\n",
       "<tbody>\n",
       "\t<tr><th scope=row>1</th><td>rs61769339 </td><td>0</td><td>1</td><td>0</td><td>0</td><td>0</td><td>0</td></tr>\n",
       "\t<tr><th scope=row>2</th><td>rs12238997 </td><td>0</td><td>0</td><td>0</td><td>0</td><td>0</td><td>0</td></tr>\n",
       "\t<tr><th scope=row>3</th><td>rs61769351 </td><td>0</td><td>0</td><td>0</td><td>0</td><td>0</td><td>0</td></tr>\n",
       "\t<tr><th scope=row>4</th><td>rs142559957</td><td>0</td><td>0</td><td>0</td><td>0</td><td>0</td><td>0</td></tr>\n",
       "\t<tr><th scope=row>5</th><td>rs58276399 </td><td>0</td><td>0</td><td>0</td><td>0</td><td>0</td><td>0</td></tr>\n",
       "\t<tr><th scope=row>6</th><td>rs61770163 </td><td>0</td><td>0</td><td>0</td><td>0</td><td>0</td><td>0</td></tr>\n",
       "</tbody>\n",
       "</table>\n"
      ],
      "text/latex": [
       "A data.frame: 6 × 7\n",
       "\\begin{tabular}{r|lllllll}\n",
       "  & SNP & TF\\_binding\\_site\\_d & promoter\\_flanking\\_region\\_d & promoter\\_d & open\\_chromatin\\_region\\_d & enhancer\\_d & CTCF\\_binding\\_site\\_d\\\\\n",
       "  & <chr> & <int> & <int> & <int> & <int> & <int> & <int>\\\\\n",
       "\\hline\n",
       "\t1 & rs61769339  & 0 & 1 & 0 & 0 & 0 & 0\\\\\n",
       "\t2 & rs12238997  & 0 & 0 & 0 & 0 & 0 & 0\\\\\n",
       "\t3 & rs61769351  & 0 & 0 & 0 & 0 & 0 & 0\\\\\n",
       "\t4 & rs142559957 & 0 & 0 & 0 & 0 & 0 & 0\\\\\n",
       "\t5 & rs58276399  & 0 & 0 & 0 & 0 & 0 & 0\\\\\n",
       "\t6 & rs61770163  & 0 & 0 & 0 & 0 & 0 & 0\\\\\n",
       "\\end{tabular}\n"
      ],
      "text/markdown": [
       "\n",
       "A data.frame: 6 × 7\n",
       "\n",
       "| <!--/--> | SNP &lt;chr&gt; | TF_binding_site_d &lt;int&gt; | promoter_flanking_region_d &lt;int&gt; | promoter_d &lt;int&gt; | open_chromatin_region_d &lt;int&gt; | enhancer_d &lt;int&gt; | CTCF_binding_site_d &lt;int&gt; |\n",
       "|---|---|---|---|---|---|---|---|\n",
       "| 1 | rs61769339  | 0 | 1 | 0 | 0 | 0 | 0 |\n",
       "| 2 | rs12238997  | 0 | 0 | 0 | 0 | 0 | 0 |\n",
       "| 3 | rs61769351  | 0 | 0 | 0 | 0 | 0 | 0 |\n",
       "| 4 | rs142559957 | 0 | 0 | 0 | 0 | 0 | 0 |\n",
       "| 5 | rs58276399  | 0 | 0 | 0 | 0 | 0 | 0 |\n",
       "| 6 | rs61770163  | 0 | 0 | 0 | 0 | 0 | 0 |\n",
       "\n"
      ],
      "text/plain": [
       "  SNP         TF_binding_site_d promoter_flanking_region_d promoter_d\n",
       "1 rs61769339  0                 1                          0         \n",
       "2 rs12238997  0                 0                          0         \n",
       "3 rs61769351  0                 0                          0         \n",
       "4 rs142559957 0                 0                          0         \n",
       "5 rs58276399  0                 0                          0         \n",
       "6 rs61770163  0                 0                          0         \n",
       "  open_chromatin_region_d enhancer_d CTCF_binding_site_d\n",
       "1 0                       0          0                  \n",
       "2 0                       0          0                  \n",
       "3 0                       0          0                  \n",
       "4 0                       0          0                  \n",
       "5 0                       0          0                  \n",
       "6 0                       0          0                  "
      ]
     },
     "metadata": {},
     "output_type": "display_data"
    }
   ],
   "source": [
    "annot <- fread(\"../genotype/all_data/isec_R2_greater_than_3/ancestry/annot/eur_variant_annot.txt.gz\", data.table = F)\n",
    "head(annot)"
   ]
  },
  {
   "cell_type": "code",
   "execution_count": 25,
   "metadata": {
    "collapsed": true,
    "deletable": true,
    "editable": true
   },
   "outputs": [],
   "source": [
    "id <- id %>% left_join(annot, by=c(\"RSID\"=\"SNP\"))"
   ]
  },
  {
   "cell_type": "code",
   "execution_count": 27,
   "metadata": {
    "collapsed": false,
    "deletable": true,
    "editable": true
   },
   "outputs": [
    {
     "data": {
      "text/html": [
       "<table>\n",
       "<caption>A data.frame: 6 × 10</caption>\n",
       "<thead>\n",
       "\t<tr><th></th><th scope=col>RSID</th><th scope=col>CHR</th><th scope=col>START</th><th scope=col>END</th><th scope=col>TF_binding_site_d</th><th scope=col>promoter_flanking_region_d</th><th scope=col>promoter_d</th><th scope=col>open_chromatin_region_d</th><th scope=col>enhancer_d</th><th scope=col>CTCF_binding_site_d</th></tr>\n",
       "\t<tr><th></th><th scope=col>&lt;chr&gt;</th><th scope=col>&lt;int&gt;</th><th scope=col>&lt;int&gt;</th><th scope=col>&lt;dbl&gt;</th><th scope=col>&lt;int&gt;</th><th scope=col>&lt;int&gt;</th><th scope=col>&lt;int&gt;</th><th scope=col>&lt;int&gt;</th><th scope=col>&lt;int&gt;</th><th scope=col>&lt;int&gt;</th></tr>\n",
       "</thead>\n",
       "<tbody>\n",
       "\t<tr><th scope=row>1</th><td>rs3795294 </td><td>1</td><td>23744156</td><td>23744157</td><td>0</td><td>1</td><td>0</td><td>0</td><td>0</td><td>0</td></tr>\n",
       "\t<tr><th scope=row>2</th><td>rs3795295 </td><td>1</td><td>23744169</td><td>23744170</td><td>0</td><td>1</td><td>0</td><td>0</td><td>0</td><td>0</td></tr>\n",
       "\t<tr><th scope=row>3</th><td>rs55972836</td><td>1</td><td>23744691</td><td>23744692</td><td>0</td><td>1</td><td>0</td><td>0</td><td>0</td><td>0</td></tr>\n",
       "\t<tr><th scope=row>4</th><td>rs3737646 </td><td>1</td><td>23745228</td><td>23745229</td><td>0</td><td>0</td><td>0</td><td>0</td><td>0</td><td>0</td></tr>\n",
       "\t<tr><th scope=row>5</th><td>rs72882989</td><td>1</td><td>23745559</td><td>23745560</td><td>0</td><td>1</td><td>0</td><td>0</td><td>0</td><td>0</td></tr>\n",
       "\t<tr><th scope=row>6</th><td>rs12122936</td><td>1</td><td>23745885</td><td>23745886</td><td>0</td><td>1</td><td>0</td><td>0</td><td>0</td><td>0</td></tr>\n",
       "</tbody>\n",
       "</table>\n"
      ],
      "text/latex": [
       "A data.frame: 6 × 10\n",
       "\\begin{tabular}{r|llllllllll}\n",
       "  & RSID & CHR & START & END & TF\\_binding\\_site\\_d & promoter\\_flanking\\_region\\_d & promoter\\_d & open\\_chromatin\\_region\\_d & enhancer\\_d & CTCF\\_binding\\_site\\_d\\\\\n",
       "  & <chr> & <int> & <int> & <dbl> & <int> & <int> & <int> & <int> & <int> & <int>\\\\\n",
       "\\hline\n",
       "\t1 & rs3795294  & 1 & 23744156 & 23744157 & 0 & 1 & 0 & 0 & 0 & 0\\\\\n",
       "\t2 & rs3795295  & 1 & 23744169 & 23744170 & 0 & 1 & 0 & 0 & 0 & 0\\\\\n",
       "\t3 & rs55972836 & 1 & 23744691 & 23744692 & 0 & 1 & 0 & 0 & 0 & 0\\\\\n",
       "\t4 & rs3737646  & 1 & 23745228 & 23745229 & 0 & 0 & 0 & 0 & 0 & 0\\\\\n",
       "\t5 & rs72882989 & 1 & 23745559 & 23745560 & 0 & 1 & 0 & 0 & 0 & 0\\\\\n",
       "\t6 & rs12122936 & 1 & 23745885 & 23745886 & 0 & 1 & 0 & 0 & 0 & 0\\\\\n",
       "\\end{tabular}\n"
      ],
      "text/markdown": [
       "\n",
       "A data.frame: 6 × 10\n",
       "\n",
       "| <!--/--> | RSID &lt;chr&gt; | CHR &lt;int&gt; | START &lt;int&gt; | END &lt;dbl&gt; | TF_binding_site_d &lt;int&gt; | promoter_flanking_region_d &lt;int&gt; | promoter_d &lt;int&gt; | open_chromatin_region_d &lt;int&gt; | enhancer_d &lt;int&gt; | CTCF_binding_site_d &lt;int&gt; |\n",
       "|---|---|---|---|---|---|---|---|---|---|---|\n",
       "| 1 | rs3795294  | 1 | 23744156 | 23744157 | 0 | 1 | 0 | 0 | 0 | 0 |\n",
       "| 2 | rs3795295  | 1 | 23744169 | 23744170 | 0 | 1 | 0 | 0 | 0 | 0 |\n",
       "| 3 | rs55972836 | 1 | 23744691 | 23744692 | 0 | 1 | 0 | 0 | 0 | 0 |\n",
       "| 4 | rs3737646  | 1 | 23745228 | 23745229 | 0 | 0 | 0 | 0 | 0 | 0 |\n",
       "| 5 | rs72882989 | 1 | 23745559 | 23745560 | 0 | 1 | 0 | 0 | 0 | 0 |\n",
       "| 6 | rs12122936 | 1 | 23745885 | 23745886 | 0 | 1 | 0 | 0 | 0 | 0 |\n",
       "\n"
      ],
      "text/plain": [
       "  RSID       CHR START    END      TF_binding_site_d promoter_flanking_region_d\n",
       "1 rs3795294  1   23744156 23744157 0                 1                         \n",
       "2 rs3795295  1   23744169 23744170 0                 1                         \n",
       "3 rs55972836 1   23744691 23744692 0                 1                         \n",
       "4 rs3737646  1   23745228 23745229 0                 0                         \n",
       "5 rs72882989 1   23745559 23745560 0                 1                         \n",
       "6 rs12122936 1   23745885 23745886 0                 1                         \n",
       "  promoter_d open_chromatin_region_d enhancer_d CTCF_binding_site_d\n",
       "1 0          0                       0          0                  \n",
       "2 0          0                       0          0                  \n",
       "3 0          0                       0          0                  \n",
       "4 0          0                       0          0                  \n",
       "5 0          0                       0          0                  \n",
       "6 0          0                       0          0                  "
      ]
     },
     "metadata": {},
     "output_type": "display_data"
    }
   ],
   "source": [
    "head(id)"
   ]
  },
  {
   "cell_type": "code",
   "execution_count": 28,
   "metadata": {
    "collapsed": true,
    "deletable": true,
    "editable": true
   },
   "outputs": [],
   "source": [
    "locus.id <- id %>% select(-c(1:4))"
   ]
  },
  {
   "cell_type": "code",
   "execution_count": 30,
   "metadata": {
    "collapsed": true,
    "deletable": true,
    "editable": true
   },
   "outputs": [],
   "source": [
    "write.table(locus.id, \"paintor/Locus1.annotations\", col.names = T, row.names = F, quote = F, sep = \" \")"
   ]
  },
  {
   "cell_type": "code",
   "execution_count": 31,
   "metadata": {
    "collapsed": false,
    "deletable": true,
    "editable": true
   },
   "outputs": [
    {
     "data": {
      "text/html": [
       "<style>\n",
       ".list-inline {list-style: none; margin:0; padding: 0}\n",
       ".list-inline>li {display: inline-block}\n",
       ".list-inline>li:not(:last-child)::after {content: \"\\00b7\"; padding: 0 .5ex}\n",
       "</style>\n",
       "<ol class=list-inline><li>'TF_binding_site_d'</li><li>'promoter_flanking_region_d'</li><li>'promoter_d'</li><li>'open_chromatin_region_d'</li><li>'enhancer_d'</li><li>'CTCF_binding_site_d'</li></ol>\n"
      ],
      "text/latex": [
       "\\begin{enumerate*}\n",
       "\\item 'TF\\_binding\\_site\\_d'\n",
       "\\item 'promoter\\_flanking\\_region\\_d'\n",
       "\\item 'promoter\\_d'\n",
       "\\item 'open\\_chromatin\\_region\\_d'\n",
       "\\item 'enhancer\\_d'\n",
       "\\item 'CTCF\\_binding\\_site\\_d'\n",
       "\\end{enumerate*}\n"
      ],
      "text/markdown": [
       "1. 'TF_binding_site_d'\n",
       "2. 'promoter_flanking_region_d'\n",
       "3. 'promoter_d'\n",
       "4. 'open_chromatin_region_d'\n",
       "5. 'enhancer_d'\n",
       "6. 'CTCF_binding_site_d'\n",
       "\n",
       "\n"
      ],
      "text/plain": [
       "[1] \"TF_binding_site_d\"          \"promoter_flanking_region_d\"\n",
       "[3] \"promoter_d\"                 \"open_chromatin_region_d\"   \n",
       "[5] \"enhancer_d\"                 \"CTCF_binding_site_d\"       "
      ]
     },
     "metadata": {},
     "output_type": "display_data"
    }
   ],
   "source": [
    "colnames(locus.id)"
   ]
  },
  {
   "cell_type": "markdown",
   "metadata": {
    "deletable": true,
    "editable": true
   },
   "source": [
    "**Running software**\n"
   ]
  }
 ],
 "metadata": {
  "kernelspec": {
   "display_name": "R 3.6.1",
   "language": "R",
   "name": "ir361"
  },
  "language_info": {
   "codemirror_mode": "r",
   "file_extension": ".r",
   "mimetype": "text/x-r-source",
   "name": "R",
   "pygments_lexer": "r",
   "version": "3.6.1"
  }
 },
 "nbformat": 4,
 "nbformat_minor": 2
}
