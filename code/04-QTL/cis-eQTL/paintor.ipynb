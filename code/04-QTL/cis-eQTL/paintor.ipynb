{
 "cells": [
  {
   "cell_type": "markdown",
   "metadata": {},
   "source": [
    "# PAINTOR multi-ethnic fine-mapping"
   ]
  },
  {
   "cell_type": "code",
   "execution_count": 1,
   "metadata": {
    "scrolled": true
   },
   "outputs": [
    {
     "name": "stderr",
     "output_type": "stream",
     "text": [
      "\n",
      "Attaching package: ‘dplyr’\n",
      "\n",
      "\n",
      "The following objects are masked from ‘package:data.table’:\n",
      "\n",
      "    between, first, last\n",
      "\n",
      "\n",
      "The following objects are masked from ‘package:stats’:\n",
      "\n",
      "    filter, lag\n",
      "\n",
      "\n",
      "The following objects are masked from ‘package:base’:\n",
      "\n",
      "    intersect, setdiff, setequal, union\n",
      "\n",
      "\n"
     ]
    }
   ],
   "source": [
    "library(data.table)\n",
    "library(dplyr)\n",
    "library(ggplot2)"
   ]
  },
  {
   "cell_type": "code",
   "execution_count": 2,
   "metadata": {},
   "outputs": [],
   "source": [
    "setwd(\"~/project-gandalm/isoform_twas/eqtl_new/\")"
   ]
  },
  {
   "cell_type": "code",
   "execution_count": 3,
   "metadata": {},
   "outputs": [],
   "source": [
    "eur <- fread(\"results/eur_perm_50HCP/all_assoc_perm_info.txt\", data.table = F)\n",
    "amr <- fread(\"results/amr_perm_15HCP/all_assoc_perm_info.txt\", data.table = F)\n",
    "afr <- fread(\"results/afr_perm_25HCP/all_assoc_perm_info.txt\", data.table = F)"
   ]
  },
  {
   "cell_type": "code",
   "execution_count": 4,
   "metadata": {},
   "outputs": [],
   "source": [
    "eur <- eur %>% filter(qval < .05)\n",
    "amr <- amr %>% filter(qval < .05)\n",
    "afr <- afr %>% filter(qval < .05)"
   ]
  },
  {
   "cell_type": "code",
   "execution_count": 5,
   "metadata": {},
   "outputs": [
    {
     "data": {
      "text/html": [
       "<style>\n",
       ".list-inline {list-style: none; margin:0; padding: 0}\n",
       ".list-inline>li {display: inline-block}\n",
       ".list-inline>li:not(:last-child)::after {content: \"\\00b7\"; padding: 0 .5ex}\n",
       "</style>\n",
       "<ol class=list-inline><li>5296</li><li>15</li></ol>\n"
      ],
      "text/latex": [
       "\\begin{enumerate*}\n",
       "\\item 5296\n",
       "\\item 15\n",
       "\\end{enumerate*}\n"
      ],
      "text/markdown": [
       "1. 5296\n",
       "2. 15\n",
       "\n",
       "\n"
      ],
      "text/plain": [
       "[1] 5296   15"
      ]
     },
     "metadata": {},
     "output_type": "display_data"
    },
    {
     "data": {
      "text/html": [
       "<style>\n",
       ".list-inline {list-style: none; margin:0; padding: 0}\n",
       ".list-inline>li {display: inline-block}\n",
       ".list-inline>li:not(:last-child)::after {content: \"\\00b7\"; padding: 0 .5ex}\n",
       "</style>\n",
       "<ol class=list-inline><li>3242</li><li>15</li></ol>\n"
      ],
      "text/latex": [
       "\\begin{enumerate*}\n",
       "\\item 3242\n",
       "\\item 15\n",
       "\\end{enumerate*}\n"
      ],
      "text/markdown": [
       "1. 3242\n",
       "2. 15\n",
       "\n",
       "\n"
      ],
      "text/plain": [
       "[1] 3242   15"
      ]
     },
     "metadata": {},
     "output_type": "display_data"
    },
    {
     "data": {
      "text/html": [
       "<style>\n",
       ".list-inline {list-style: none; margin:0; padding: 0}\n",
       ".list-inline>li {display: inline-block}\n",
       ".list-inline>li:not(:last-child)::after {content: \"\\00b7\"; padding: 0 .5ex}\n",
       "</style>\n",
       "<ol class=list-inline><li>1876</li><li>15</li></ol>\n"
      ],
      "text/latex": [
       "\\begin{enumerate*}\n",
       "\\item 1876\n",
       "\\item 15\n",
       "\\end{enumerate*}\n"
      ],
      "text/markdown": [
       "1. 1876\n",
       "2. 15\n",
       "\n",
       "\n"
      ],
      "text/plain": [
       "[1] 1876   15"
      ]
     },
     "metadata": {},
     "output_type": "display_data"
    }
   ],
   "source": [
    "dim(eur)\n",
    "dim(amr)\n",
    "dim(afr)"
   ]
  },
  {
   "cell_type": "code",
   "execution_count": 14,
   "metadata": {},
   "outputs": [
    {
     "data": {
      "text/html": [
       "<style>\n",
       ".list-inline {list-style: none; margin:0; padding: 0}\n",
       ".list-inline>li {display: inline-block}\n",
       ".list-inline>li:not(:last-child)::after {content: \"\\00b7\"; padding: 0 .5ex}\n",
       "</style>\n",
       "<ol class=list-inline><li>986</li><li>43</li></ol>\n"
      ],
      "text/latex": [
       "\\begin{enumerate*}\n",
       "\\item 986\n",
       "\\item 43\n",
       "\\end{enumerate*}\n"
      ],
      "text/markdown": [
       "1. 986\n",
       "2. 43\n",
       "\n",
       "\n"
      ],
      "text/plain": [
       "[1] 986  43"
      ]
     },
     "metadata": {},
     "output_type": "display_data"
    },
    {
     "data": {
      "text/html": [
       "<table class=\"dataframe\">\n",
       "<caption>A data.frame: 6 x 43</caption>\n",
       "<thead>\n",
       "\t<tr><th></th><th scope=col>pid</th><th scope=col>nvar.x</th><th scope=col>shape1.x</th><th scope=col>shape2.x</th><th scope=col>dummy.x</th><th scope=col>sid.x</th><th scope=col>dist.x</th><th scope=col>npval.x</th><th scope=col>slope.x</th><th scope=col>ppval.x</th><th scope=col>...</th><th scope=col>sid</th><th scope=col>dist</th><th scope=col>npval</th><th scope=col>slope</th><th scope=col>ppval</th><th scope=col>bpval</th><th scope=col>qval</th><th scope=col>pval_nominal_threshold</th><th scope=col>gene_type</th><th scope=col>gene_name</th></tr>\n",
       "\t<tr><th></th><th scope=col>&lt;chr&gt;</th><th scope=col>&lt;int&gt;</th><th scope=col>&lt;dbl&gt;</th><th scope=col>&lt;dbl&gt;</th><th scope=col>&lt;dbl&gt;</th><th scope=col>&lt;chr&gt;</th><th scope=col>&lt;int&gt;</th><th scope=col>&lt;dbl&gt;</th><th scope=col>&lt;dbl&gt;</th><th scope=col>&lt;dbl&gt;</th><th scope=col>...</th><th scope=col>&lt;chr&gt;</th><th scope=col>&lt;int&gt;</th><th scope=col>&lt;dbl&gt;</th><th scope=col>&lt;dbl&gt;</th><th scope=col>&lt;dbl&gt;</th><th scope=col>&lt;dbl&gt;</th><th scope=col>&lt;dbl&gt;</th><th scope=col>&lt;dbl&gt;</th><th scope=col>&lt;chr&gt;</th><th scope=col>&lt;chr&gt;</th></tr>\n",
       "</thead>\n",
       "<tbody>\n",
       "\t<tr><th scope=row>1</th><td>ENSG00000001460</td><td>3692</td><td>1.05363</td><td>549.578</td><td>194.756</td><td>rs10489442 </td><td>  5655</td><td>5.76494e-25</td><td>-0.526664</td><td>9.999e-05</td><td>...</td><td>rs4592213     </td><td> -1605</td><td>2.36174e-08</td><td>-1.062000</td><td>0.00019998</td><td>8.55103e-05</td><td>0.00192143</td><td>6.73094e-06</td><td>protein_coding</td><td>STPG1 </td></tr>\n",
       "\t<tr><th scope=row>2</th><td>ENSG00000002016</td><td>5008</td><td>1.04169</td><td>774.517</td><td>197.950</td><td>rs2887532  </td><td>-47724</td><td>1.22335e-15</td><td>-0.466916</td><td>9.999e-05</td><td>...</td><td>rs3748523     </td><td>-40481</td><td>8.68694e-07</td><td>-0.656173</td><td>0.00199980</td><td>2.72042e-03</td><td>0.03257760</td><td>4.62047e-06</td><td>protein_coding</td><td>RAD52 </td></tr>\n",
       "\t<tr><th scope=row>3</th><td>ENSG00000004534</td><td>2064</td><td>1.02671</td><td>132.097</td><td>191.012</td><td>rs6765484  </td><td> 63873</td><td>4.05994e-26</td><td> 0.345270</td><td>9.999e-05</td><td>...</td><td>rs1357448049  </td><td> 55259</td><td>6.97000e-07</td><td> 0.335468</td><td>0.00049995</td><td>6.37599e-04</td><td>0.01009900</td><td>4.36444e-05</td><td>protein_coding</td><td>RBM6  </td></tr>\n",
       "\t<tr><th scope=row>4</th><td>ENSG00000005801</td><td>4859</td><td>1.04382</td><td>761.473</td><td>194.033</td><td>rs112127733</td><td>  5192</td><td>5.47218e-14</td><td>-0.316902</td><td>9.999e-05</td><td>...</td><td>chr11:3381737 </td><td>  2515</td><td>5.62582e-08</td><td>-0.399708</td><td>0.00009999</td><td>2.38548e-04</td><td>0.00447343</td><td>4.28499e-06</td><td>protein_coding</td><td>ZNF195</td></tr>\n",
       "\t<tr><th scope=row>5</th><td>ENSG00000006007</td><td>4453</td><td>1.05372</td><td>545.913</td><td>192.512</td><td>rs11644848 </td><td> 35249</td><td>8.67388e-13</td><td> 0.298892</td><td>9.999e-05</td><td>...</td><td>chr16:19499062</td><td>-23061</td><td>4.61409e-08</td><td>-0.317379</td><td>0.00029997</td><td>1.50476e-04</td><td>0.00306791</td><td>6.62136e-06</td><td>protein_coding</td><td>GDE1  </td></tr>\n",
       "\t<tr><th scope=row>6</th><td>ENSG00000008018</td><td>2578</td><td>1.05338</td><td>289.894</td><td>189.177</td><td>rs12527004 </td><td> 40474</td><td>5.32962e-26</td><td>-0.329155</td><td>9.999e-05</td><td>...</td><td>rs12717       </td><td>   -95</td><td>4.86128e-07</td><td>-0.244166</td><td>0.00129987</td><td>9.92135e-04</td><td>0.01449280</td><td>1.31916e-05</td><td>protein_coding</td><td>PSMB1 </td></tr>\n",
       "</tbody>\n",
       "</table>\n"
      ],
      "text/latex": [
       "A data.frame: 6 x 43\n",
       "\\begin{tabular}{r|lllllllllllllllllllll}\n",
       "  & pid & nvar.x & shape1.x & shape2.x & dummy.x & sid.x & dist.x & npval.x & slope.x & ppval.x & ... & sid & dist & npval & slope & ppval & bpval & qval & pval\\_nominal\\_threshold & gene\\_type & gene\\_name\\\\\n",
       "  & <chr> & <int> & <dbl> & <dbl> & <dbl> & <chr> & <int> & <dbl> & <dbl> & <dbl> & ... & <chr> & <int> & <dbl> & <dbl> & <dbl> & <dbl> & <dbl> & <dbl> & <chr> & <chr>\\\\\n",
       "\\hline\n",
       "\t1 & ENSG00000001460 & 3692 & 1.05363 & 549.578 & 194.756 & rs10489442  &   5655 & 5.76494e-25 & -0.526664 & 9.999e-05 & ... & rs4592213      &  -1605 & 2.36174e-08 & -1.062000 & 0.00019998 & 8.55103e-05 & 0.00192143 & 6.73094e-06 & protein\\_coding & STPG1 \\\\\n",
       "\t2 & ENSG00000002016 & 5008 & 1.04169 & 774.517 & 197.950 & rs2887532   & -47724 & 1.22335e-15 & -0.466916 & 9.999e-05 & ... & rs3748523      & -40481 & 8.68694e-07 & -0.656173 & 0.00199980 & 2.72042e-03 & 0.03257760 & 4.62047e-06 & protein\\_coding & RAD52 \\\\\n",
       "\t3 & ENSG00000004534 & 2064 & 1.02671 & 132.097 & 191.012 & rs6765484   &  63873 & 4.05994e-26 &  0.345270 & 9.999e-05 & ... & rs1357448049   &  55259 & 6.97000e-07 &  0.335468 & 0.00049995 & 6.37599e-04 & 0.01009900 & 4.36444e-05 & protein\\_coding & RBM6  \\\\\n",
       "\t4 & ENSG00000005801 & 4859 & 1.04382 & 761.473 & 194.033 & rs112127733 &   5192 & 5.47218e-14 & -0.316902 & 9.999e-05 & ... & chr11:3381737  &   2515 & 5.62582e-08 & -0.399708 & 0.00009999 & 2.38548e-04 & 0.00447343 & 4.28499e-06 & protein\\_coding & ZNF195\\\\\n",
       "\t5 & ENSG00000006007 & 4453 & 1.05372 & 545.913 & 192.512 & rs11644848  &  35249 & 8.67388e-13 &  0.298892 & 9.999e-05 & ... & chr16:19499062 & -23061 & 4.61409e-08 & -0.317379 & 0.00029997 & 1.50476e-04 & 0.00306791 & 6.62136e-06 & protein\\_coding & GDE1  \\\\\n",
       "\t6 & ENSG00000008018 & 2578 & 1.05338 & 289.894 & 189.177 & rs12527004  &  40474 & 5.32962e-26 & -0.329155 & 9.999e-05 & ... & rs12717        &    -95 & 4.86128e-07 & -0.244166 & 0.00129987 & 9.92135e-04 & 0.01449280 & 1.31916e-05 & protein\\_coding & PSMB1 \\\\\n",
       "\\end{tabular}\n"
      ],
      "text/markdown": [
       "\n",
       "A data.frame: 6 x 43\n",
       "\n",
       "| <!--/--> | pid &lt;chr&gt; | nvar.x &lt;int&gt; | shape1.x &lt;dbl&gt; | shape2.x &lt;dbl&gt; | dummy.x &lt;dbl&gt; | sid.x &lt;chr&gt; | dist.x &lt;int&gt; | npval.x &lt;dbl&gt; | slope.x &lt;dbl&gt; | ppval.x &lt;dbl&gt; | ... ... | sid &lt;chr&gt; | dist &lt;int&gt; | npval &lt;dbl&gt; | slope &lt;dbl&gt; | ppval &lt;dbl&gt; | bpval &lt;dbl&gt; | qval &lt;dbl&gt; | pval_nominal_threshold &lt;dbl&gt; | gene_type &lt;chr&gt; | gene_name &lt;chr&gt; |\n",
       "|---|---|---|---|---|---|---|---|---|---|---|---|---|---|---|---|---|---|---|---|---|---|\n",
       "| 1 | ENSG00000001460 | 3692 | 1.05363 | 549.578 | 194.756 | rs10489442  |   5655 | 5.76494e-25 | -0.526664 | 9.999e-05 | ... | rs4592213      |  -1605 | 2.36174e-08 | -1.062000 | 0.00019998 | 8.55103e-05 | 0.00192143 | 6.73094e-06 | protein_coding | STPG1  |\n",
       "| 2 | ENSG00000002016 | 5008 | 1.04169 | 774.517 | 197.950 | rs2887532   | -47724 | 1.22335e-15 | -0.466916 | 9.999e-05 | ... | rs3748523      | -40481 | 8.68694e-07 | -0.656173 | 0.00199980 | 2.72042e-03 | 0.03257760 | 4.62047e-06 | protein_coding | RAD52  |\n",
       "| 3 | ENSG00000004534 | 2064 | 1.02671 | 132.097 | 191.012 | rs6765484   |  63873 | 4.05994e-26 |  0.345270 | 9.999e-05 | ... | rs1357448049   |  55259 | 6.97000e-07 |  0.335468 | 0.00049995 | 6.37599e-04 | 0.01009900 | 4.36444e-05 | protein_coding | RBM6   |\n",
       "| 4 | ENSG00000005801 | 4859 | 1.04382 | 761.473 | 194.033 | rs112127733 |   5192 | 5.47218e-14 | -0.316902 | 9.999e-05 | ... | chr11:3381737  |   2515 | 5.62582e-08 | -0.399708 | 0.00009999 | 2.38548e-04 | 0.00447343 | 4.28499e-06 | protein_coding | ZNF195 |\n",
       "| 5 | ENSG00000006007 | 4453 | 1.05372 | 545.913 | 192.512 | rs11644848  |  35249 | 8.67388e-13 |  0.298892 | 9.999e-05 | ... | chr16:19499062 | -23061 | 4.61409e-08 | -0.317379 | 0.00029997 | 1.50476e-04 | 0.00306791 | 6.62136e-06 | protein_coding | GDE1   |\n",
       "| 6 | ENSG00000008018 | 2578 | 1.05338 | 289.894 | 189.177 | rs12527004  |  40474 | 5.32962e-26 | -0.329155 | 9.999e-05 | ... | rs12717        |    -95 | 4.86128e-07 | -0.244166 | 0.00129987 | 9.92135e-04 | 0.01449280 | 1.31916e-05 | protein_coding | PSMB1  |\n",
       "\n"
      ],
      "text/plain": [
       "  pid             nvar.x shape1.x shape2.x dummy.x sid.x       dist.x\n",
       "1 ENSG00000001460 3692   1.05363  549.578  194.756 rs10489442    5655\n",
       "2 ENSG00000002016 5008   1.04169  774.517  197.950 rs2887532   -47724\n",
       "3 ENSG00000004534 2064   1.02671  132.097  191.012 rs6765484    63873\n",
       "4 ENSG00000005801 4859   1.04382  761.473  194.033 rs112127733   5192\n",
       "5 ENSG00000006007 4453   1.05372  545.913  192.512 rs11644848   35249\n",
       "6 ENSG00000008018 2578   1.05338  289.894  189.177 rs12527004   40474\n",
       "  npval.x     slope.x   ppval.x   ... sid            dist   npval      \n",
       "1 5.76494e-25 -0.526664 9.999e-05 ... rs4592213       -1605 2.36174e-08\n",
       "2 1.22335e-15 -0.466916 9.999e-05 ... rs3748523      -40481 8.68694e-07\n",
       "3 4.05994e-26  0.345270 9.999e-05 ... rs1357448049    55259 6.97000e-07\n",
       "4 5.47218e-14 -0.316902 9.999e-05 ... chr11:3381737    2515 5.62582e-08\n",
       "5 8.67388e-13  0.298892 9.999e-05 ... chr16:19499062 -23061 4.61409e-08\n",
       "6 5.32962e-26 -0.329155 9.999e-05 ... rs12717           -95 4.86128e-07\n",
       "  slope     ppval      bpval       qval       pval_nominal_threshold\n",
       "1 -1.062000 0.00019998 8.55103e-05 0.00192143 6.73094e-06           \n",
       "2 -0.656173 0.00199980 2.72042e-03 0.03257760 4.62047e-06           \n",
       "3  0.335468 0.00049995 6.37599e-04 0.01009900 4.36444e-05           \n",
       "4 -0.399708 0.00009999 2.38548e-04 0.00447343 4.28499e-06           \n",
       "5 -0.317379 0.00029997 1.50476e-04 0.00306791 6.62136e-06           \n",
       "6 -0.244166 0.00129987 9.92135e-04 0.01449280 1.31916e-05           \n",
       "  gene_type      gene_name\n",
       "1 protein_coding STPG1    \n",
       "2 protein_coding RAD52    \n",
       "3 protein_coding RBM6     \n",
       "4 protein_coding ZNF195   \n",
       "5 protein_coding GDE1     \n",
       "6 protein_coding PSMB1    "
      ]
     },
     "metadata": {},
     "output_type": "display_data"
    }
   ],
   "source": [
    "shared <- eur %>% inner_join(amr, by = \"pid\") %>% inner_join(afr, by = \"pid\")\n",
    "dim(shared)\n",
    "head(shared)"
   ]
  },
  {
   "cell_type": "code",
   "execution_count": 15,
   "metadata": {},
   "outputs": [],
   "source": [
    "shared <- shared %>% select(pid)\n",
    "shared$gene_id <- shared$pid\n",
    "colnames(shared) <- c(\"gene_index\", \"gene_id\")\n",
    "write.table(shared, \"paintor/eur_amr_afr_shared_egenes.txt\", col.names = T, row.names = F, quote = F, sep = \"\\t\")"
   ]
  },
  {
   "cell_type": "markdown",
   "metadata": {},
   "source": [
    "### Select ENSG00000117899 (MESD) as an example to test run PAINTOR, ultimately should have 986 locus files (or 10094 ALL eGene)\n",
    "- 3872 shared cis variants"
   ]
  },
  {
   "cell_type": "code",
   "execution_count": 3,
   "metadata": {},
   "outputs": [],
   "source": [
    "eur_nominal <- fread(\"results/eur_nominal_50HCP/eur_ENSG00000117899.all_assoc.txt\", header = F, data.table = F)\n",
    "amr_nominal <- fread(\"results/amr_nominal_15HCP/amr_ENSG00000117899.all_assoc.txt\", header = F, data.table = F)\n",
    "afr_nominal <- fread(\"results/afr_nominal_25HCP/afr_ENSG00000117899.all_assoc.txt\", header = F, data.table = F)"
   ]
  },
  {
   "cell_type": "code",
   "execution_count": 4,
   "metadata": {},
   "outputs": [
    {
     "data": {
      "text/html": [
       "<table class=\"dataframe\">\n",
       "<caption>A data.frame: 6 x 6</caption>\n",
       "<thead>\n",
       "\t<tr><th></th><th scope=col>V1</th><th scope=col>V2</th><th scope=col>V3</th><th scope=col>V4</th><th scope=col>V5</th><th scope=col>V6</th></tr>\n",
       "\t<tr><th></th><th scope=col>&lt;chr&gt;</th><th scope=col>&lt;chr&gt;</th><th scope=col>&lt;int&gt;</th><th scope=col>&lt;dbl&gt;</th><th scope=col>&lt;dbl&gt;</th><th scope=col>&lt;dbl&gt;</th></tr>\n",
       "</thead>\n",
       "<tbody>\n",
       "\t<tr><th scope=row>1</th><td>ENSG00000117899</td><td>rs72736580 </td><td>-999112</td><td>0.671547</td><td>-0.0519136</td><td>0.9836779</td></tr>\n",
       "\t<tr><th scope=row>2</th><td>ENSG00000117899</td><td>rs143184731</td><td>-998090</td><td>0.439940</td><td> 0.1253850</td><td>0.9613369</td></tr>\n",
       "\t<tr><th scope=row>3</th><td>ENSG00000117899</td><td>rs77161014 </td><td>-996975</td><td>0.472903</td><td> 0.1152430</td><td>0.9655408</td></tr>\n",
       "\t<tr><th scope=row>4</th><td>ENSG00000117899</td><td>rs764585765</td><td>-995876</td><td>0.405902</td><td> 0.0432230</td><td>0.9562402</td></tr>\n",
       "\t<tr><th scope=row>5</th><td>ENSG00000117899</td><td>rs62025524 </td><td>-994235</td><td>0.433346</td><td> 0.0336609</td><td>0.9603563</td></tr>\n",
       "\t<tr><th scope=row>6</th><td>ENSG00000117899</td><td>rs62025525 </td><td>-994139</td><td>0.771454</td><td> 0.0133245</td><td>0.9898541</td></tr>\n",
       "</tbody>\n",
       "</table>\n"
      ],
      "text/latex": [
       "A data.frame: 6 x 6\n",
       "\\begin{tabular}{r|llllll}\n",
       "  & V1 & V2 & V3 & V4 & V5 & V6\\\\\n",
       "  & <chr> & <chr> & <int> & <dbl> & <dbl> & <dbl>\\\\\n",
       "\\hline\n",
       "\t1 & ENSG00000117899 & rs72736580  & -999112 & 0.671547 & -0.0519136 & 0.9836779\\\\\n",
       "\t2 & ENSG00000117899 & rs143184731 & -998090 & 0.439940 &  0.1253850 & 0.9613369\\\\\n",
       "\t3 & ENSG00000117899 & rs77161014  & -996975 & 0.472903 &  0.1152430 & 0.9655408\\\\\n",
       "\t4 & ENSG00000117899 & rs764585765 & -995876 & 0.405902 &  0.0432230 & 0.9562402\\\\\n",
       "\t5 & ENSG00000117899 & rs62025524  & -994235 & 0.433346 &  0.0336609 & 0.9603563\\\\\n",
       "\t6 & ENSG00000117899 & rs62025525  & -994139 & 0.771454 &  0.0133245 & 0.9898541\\\\\n",
       "\\end{tabular}\n"
      ],
      "text/markdown": [
       "\n",
       "A data.frame: 6 x 6\n",
       "\n",
       "| <!--/--> | V1 &lt;chr&gt; | V2 &lt;chr&gt; | V3 &lt;int&gt; | V4 &lt;dbl&gt; | V5 &lt;dbl&gt; | V6 &lt;dbl&gt; |\n",
       "|---|---|---|---|---|---|---|\n",
       "| 1 | ENSG00000117899 | rs72736580  | -999112 | 0.671547 | -0.0519136 | 0.9836779 |\n",
       "| 2 | ENSG00000117899 | rs143184731 | -998090 | 0.439940 |  0.1253850 | 0.9613369 |\n",
       "| 3 | ENSG00000117899 | rs77161014  | -996975 | 0.472903 |  0.1152430 | 0.9655408 |\n",
       "| 4 | ENSG00000117899 | rs764585765 | -995876 | 0.405902 |  0.0432230 | 0.9562402 |\n",
       "| 5 | ENSG00000117899 | rs62025524  | -994235 | 0.433346 |  0.0336609 | 0.9603563 |\n",
       "| 6 | ENSG00000117899 | rs62025525  | -994139 | 0.771454 |  0.0133245 | 0.9898541 |\n",
       "\n"
      ],
      "text/plain": [
       "  V1              V2          V3      V4       V5         V6       \n",
       "1 ENSG00000117899 rs72736580  -999112 0.671547 -0.0519136 0.9836779\n",
       "2 ENSG00000117899 rs143184731 -998090 0.439940  0.1253850 0.9613369\n",
       "3 ENSG00000117899 rs77161014  -996975 0.472903  0.1152430 0.9655408\n",
       "4 ENSG00000117899 rs764585765 -995876 0.405902  0.0432230 0.9562402\n",
       "5 ENSG00000117899 rs62025524  -994235 0.433346  0.0336609 0.9603563\n",
       "6 ENSG00000117899 rs62025525  -994139 0.771454  0.0133245 0.9898541"
      ]
     },
     "metadata": {},
     "output_type": "display_data"
    },
    {
     "data": {
      "text/html": [
       "<table class=\"dataframe\">\n",
       "<caption>A data.frame: 6 x 6</caption>\n",
       "<thead>\n",
       "\t<tr><th></th><th scope=col>V1</th><th scope=col>V2</th><th scope=col>V3</th><th scope=col>V4</th><th scope=col>V5</th><th scope=col>V6</th></tr>\n",
       "\t<tr><th></th><th scope=col>&lt;chr&gt;</th><th scope=col>&lt;chr&gt;</th><th scope=col>&lt;int&gt;</th><th scope=col>&lt;dbl&gt;</th><th scope=col>&lt;dbl&gt;</th><th scope=col>&lt;dbl&gt;</th></tr>\n",
       "</thead>\n",
       "<tbody>\n",
       "\t<tr><th scope=row>1</th><td>ENSG00000117899</td><td>rs72736580  </td><td>-999112</td><td>0.923601</td><td> 0.0227704</td><td>0.9971841</td></tr>\n",
       "\t<tr><th scope=row>2</th><td>ENSG00000117899</td><td>rs80177037  </td><td>-998779</td><td>0.430707</td><td> 0.2210340</td><td>0.9615601</td></tr>\n",
       "\t<tr><th scope=row>3</th><td>ENSG00000117899</td><td>rs1315806024</td><td>-998569</td><td>0.238645</td><td> 0.1094050</td><td>0.9248418</td></tr>\n",
       "\t<tr><th scope=row>4</th><td>ENSG00000117899</td><td>rs142455349 </td><td>-998393</td><td>0.935616</td><td>-0.0231190</td><td>0.9976580</td></tr>\n",
       "\t<tr><th scope=row>5</th><td>ENSG00000117899</td><td>rs143184731 </td><td>-998090</td><td>0.818756</td><td> 0.0198716</td><td>0.9923720</td></tr>\n",
       "\t<tr><th scope=row>6</th><td>ENSG00000117899</td><td>rs16971646  </td><td>-997860</td><td>0.935616</td><td>-0.0231190</td><td>0.9976580</td></tr>\n",
       "</tbody>\n",
       "</table>\n"
      ],
      "text/latex": [
       "A data.frame: 6 x 6\n",
       "\\begin{tabular}{r|llllll}\n",
       "  & V1 & V2 & V3 & V4 & V5 & V6\\\\\n",
       "  & <chr> & <chr> & <int> & <dbl> & <dbl> & <dbl>\\\\\n",
       "\\hline\n",
       "\t1 & ENSG00000117899 & rs72736580   & -999112 & 0.923601 &  0.0227704 & 0.9971841\\\\\n",
       "\t2 & ENSG00000117899 & rs80177037   & -998779 & 0.430707 &  0.2210340 & 0.9615601\\\\\n",
       "\t3 & ENSG00000117899 & rs1315806024 & -998569 & 0.238645 &  0.1094050 & 0.9248418\\\\\n",
       "\t4 & ENSG00000117899 & rs142455349  & -998393 & 0.935616 & -0.0231190 & 0.9976580\\\\\n",
       "\t5 & ENSG00000117899 & rs143184731  & -998090 & 0.818756 &  0.0198716 & 0.9923720\\\\\n",
       "\t6 & ENSG00000117899 & rs16971646   & -997860 & 0.935616 & -0.0231190 & 0.9976580\\\\\n",
       "\\end{tabular}\n"
      ],
      "text/markdown": [
       "\n",
       "A data.frame: 6 x 6\n",
       "\n",
       "| <!--/--> | V1 &lt;chr&gt; | V2 &lt;chr&gt; | V3 &lt;int&gt; | V4 &lt;dbl&gt; | V5 &lt;dbl&gt; | V6 &lt;dbl&gt; |\n",
       "|---|---|---|---|---|---|---|\n",
       "| 1 | ENSG00000117899 | rs72736580   | -999112 | 0.923601 |  0.0227704 | 0.9971841 |\n",
       "| 2 | ENSG00000117899 | rs80177037   | -998779 | 0.430707 |  0.2210340 | 0.9615601 |\n",
       "| 3 | ENSG00000117899 | rs1315806024 | -998569 | 0.238645 |  0.1094050 | 0.9248418 |\n",
       "| 4 | ENSG00000117899 | rs142455349  | -998393 | 0.935616 | -0.0231190 | 0.9976580 |\n",
       "| 5 | ENSG00000117899 | rs143184731  | -998090 | 0.818756 |  0.0198716 | 0.9923720 |\n",
       "| 6 | ENSG00000117899 | rs16971646   | -997860 | 0.935616 | -0.0231190 | 0.9976580 |\n",
       "\n"
      ],
      "text/plain": [
       "  V1              V2           V3      V4       V5         V6       \n",
       "1 ENSG00000117899 rs72736580   -999112 0.923601  0.0227704 0.9971841\n",
       "2 ENSG00000117899 rs80177037   -998779 0.430707  0.2210340 0.9615601\n",
       "3 ENSG00000117899 rs1315806024 -998569 0.238645  0.1094050 0.9248418\n",
       "4 ENSG00000117899 rs142455349  -998393 0.935616 -0.0231190 0.9976580\n",
       "5 ENSG00000117899 rs143184731  -998090 0.818756  0.0198716 0.9923720\n",
       "6 ENSG00000117899 rs16971646   -997860 0.935616 -0.0231190 0.9976580"
      ]
     },
     "metadata": {},
     "output_type": "display_data"
    },
    {
     "data": {
      "text/html": [
       "<style>\n",
       ".list-inline {list-style: none; margin:0; padding: 0}\n",
       ".list-inline>li {display: inline-block}\n",
       ".list-inline>li:not(:last-child)::after {content: \"\\00b7\"; padding: 0 .5ex}\n",
       "</style>\n",
       "<ol class=list-inline><li>4708</li><li>6</li></ol>\n"
      ],
      "text/latex": [
       "\\begin{enumerate*}\n",
       "\\item 4708\n",
       "\\item 6\n",
       "\\end{enumerate*}\n"
      ],
      "text/markdown": [
       "1. 4708\n",
       "2. 6\n",
       "\n",
       "\n"
      ],
      "text/plain": [
       "[1] 4708    6"
      ]
     },
     "metadata": {},
     "output_type": "display_data"
    },
    {
     "data": {
      "text/html": [
       "<style>\n",
       ".list-inline {list-style: none; margin:0; padding: 0}\n",
       ".list-inline>li {display: inline-block}\n",
       ".list-inline>li:not(:last-child)::after {content: \"\\00b7\"; padding: 0 .5ex}\n",
       "</style>\n",
       "<ol class=list-inline><li>5648</li><li>6</li></ol>\n"
      ],
      "text/latex": [
       "\\begin{enumerate*}\n",
       "\\item 5648\n",
       "\\item 6\n",
       "\\end{enumerate*}\n"
      ],
      "text/markdown": [
       "1. 5648\n",
       "2. 6\n",
       "\n",
       "\n"
      ],
      "text/plain": [
       "[1] 5648    6"
      ]
     },
     "metadata": {},
     "output_type": "display_data"
    },
    {
     "data": {
      "text/html": [
       "<style>\n",
       ".list-inline {list-style: none; margin:0; padding: 0}\n",
       ".list-inline>li {display: inline-block}\n",
       ".list-inline>li:not(:last-child)::after {content: \"\\00b7\"; padding: 0 .5ex}\n",
       "</style>\n",
       "<ol class=list-inline><li>6744</li><li>6</li></ol>\n"
      ],
      "text/latex": [
       "\\begin{enumerate*}\n",
       "\\item 6744\n",
       "\\item 6\n",
       "\\end{enumerate*}\n"
      ],
      "text/markdown": [
       "1. 6744\n",
       "2. 6\n",
       "\n",
       "\n"
      ],
      "text/plain": [
       "[1] 6744    6"
      ]
     },
     "metadata": {},
     "output_type": "display_data"
    }
   ],
   "source": [
    "head(eur_nominal)\n",
    "head(amr_nominal)\n",
    "dim(eur_nominal)\n",
    "dim(amr_nominal)\n",
    "dim(afr_nominal)"
   ]
  },
  {
   "cell_type": "code",
   "execution_count": 5,
   "metadata": {},
   "outputs": [
    {
     "data": {
      "text/html": [
       "<style>\n",
       ".list-inline {list-style: none; margin:0; padding: 0}\n",
       ".list-inline>li {display: inline-block}\n",
       ".list-inline>li:not(:last-child)::after {content: \"\\00b7\"; padding: 0 .5ex}\n",
       "</style>\n",
       "<ol class=list-inline><li>3872</li><li>16</li></ol>\n"
      ],
      "text/latex": [
       "\\begin{enumerate*}\n",
       "\\item 3872\n",
       "\\item 16\n",
       "\\end{enumerate*}\n"
      ],
      "text/markdown": [
       "1. 3872\n",
       "2. 16\n",
       "\n",
       "\n"
      ],
      "text/plain": [
       "[1] 3872   16"
      ]
     },
     "metadata": {},
     "output_type": "display_data"
    },
    {
     "data": {
      "text/html": [
       "<table class=\"dataframe\">\n",
       "<caption>A data.frame: 6 x 16</caption>\n",
       "<thead>\n",
       "\t<tr><th></th><th scope=col>V1.x</th><th scope=col>V2</th><th scope=col>V3.x</th><th scope=col>V4.x</th><th scope=col>V5.x</th><th scope=col>V6.x</th><th scope=col>V1.y</th><th scope=col>V3.y</th><th scope=col>V4.y</th><th scope=col>V5.y</th><th scope=col>V6.y</th><th scope=col>V1</th><th scope=col>V3</th><th scope=col>V4</th><th scope=col>V5</th><th scope=col>V6</th></tr>\n",
       "\t<tr><th></th><th scope=col>&lt;chr&gt;</th><th scope=col>&lt;chr&gt;</th><th scope=col>&lt;int&gt;</th><th scope=col>&lt;dbl&gt;</th><th scope=col>&lt;dbl&gt;</th><th scope=col>&lt;dbl&gt;</th><th scope=col>&lt;chr&gt;</th><th scope=col>&lt;int&gt;</th><th scope=col>&lt;dbl&gt;</th><th scope=col>&lt;dbl&gt;</th><th scope=col>&lt;dbl&gt;</th><th scope=col>&lt;chr&gt;</th><th scope=col>&lt;int&gt;</th><th scope=col>&lt;dbl&gt;</th><th scope=col>&lt;dbl&gt;</th><th scope=col>&lt;dbl&gt;</th></tr>\n",
       "</thead>\n",
       "<tbody>\n",
       "\t<tr><th scope=row>1</th><td>ENSG00000117899</td><td>rs72736580 </td><td>-999112</td><td>0.671547</td><td>-0.0519136</td><td>0.9836779</td><td>ENSG00000117899</td><td>-999112</td><td>0.923601</td><td>0.0227704</td><td>0.9971841</td><td>ENSG00000117899</td><td>-999112</td><td>0.493079</td><td>-0.2926510</td><td>0.9857481</td></tr>\n",
       "\t<tr><th scope=row>2</th><td>ENSG00000117899</td><td>rs143184731</td><td>-998090</td><td>0.439940</td><td> 0.1253850</td><td>0.9613369</td><td>ENSG00000117899</td><td>-998090</td><td>0.818756</td><td>0.0198716</td><td>0.9923720</td><td>ENSG00000117899</td><td>-998090</td><td>0.903091</td><td> 0.0114259</td><td>0.9984839</td></tr>\n",
       "\t<tr><th scope=row>3</th><td>ENSG00000117899</td><td>rs77161014 </td><td>-996975</td><td>0.472903</td><td> 0.1152430</td><td>0.9655408</td><td>ENSG00000117899</td><td>-996975</td><td>0.271806</td><td>0.3064540</td><td>0.9337612</td><td>ENSG00000117899</td><td>-996975</td><td>0.909239</td><td> 0.0134678</td><td>0.9986094</td></tr>\n",
       "\t<tr><th scope=row>4</th><td>ENSG00000117899</td><td>rs764585765</td><td>-995876</td><td>0.405902</td><td> 0.0432230</td><td>0.9562402</td><td>ENSG00000117899</td><td>-995876</td><td>0.700033</td><td>0.0442587</td><td>0.9858175</td><td>ENSG00000117899</td><td>-995876</td><td>0.730290</td><td> 0.0614421</td><td>0.9945278</td></tr>\n",
       "\t<tr><th scope=row>5</th><td>ENSG00000117899</td><td>rs62025524 </td><td>-994235</td><td>0.433346</td><td> 0.0336609</td><td>0.9603563</td><td>ENSG00000117899</td><td>-994235</td><td>0.461211</td><td>0.0556486</td><td>0.9652778</td><td>ENSG00000117899</td><td>-994235</td><td>0.553532</td><td>-0.0738376</td><td>0.9886096</td></tr>\n",
       "\t<tr><th scope=row>6</th><td>ENSG00000117899</td><td>rs62025525 </td><td>-994139</td><td>0.771454</td><td> 0.0133245</td><td>0.9898541</td><td>ENSG00000117899</td><td>-994139</td><td>0.156854</td><td>0.1325850</td><td>0.8938573</td><td>ENSG00000117899</td><td>-994139</td><td>0.829273</td><td>-0.0297097</td><td>0.9968908</td></tr>\n",
       "</tbody>\n",
       "</table>\n"
      ],
      "text/latex": [
       "A data.frame: 6 x 16\n",
       "\\begin{tabular}{r|llllllllllllllll}\n",
       "  & V1.x & V2 & V3.x & V4.x & V5.x & V6.x & V1.y & V3.y & V4.y & V5.y & V6.y & V1 & V3 & V4 & V5 & V6\\\\\n",
       "  & <chr> & <chr> & <int> & <dbl> & <dbl> & <dbl> & <chr> & <int> & <dbl> & <dbl> & <dbl> & <chr> & <int> & <dbl> & <dbl> & <dbl>\\\\\n",
       "\\hline\n",
       "\t1 & ENSG00000117899 & rs72736580  & -999112 & 0.671547 & -0.0519136 & 0.9836779 & ENSG00000117899 & -999112 & 0.923601 & 0.0227704 & 0.9971841 & ENSG00000117899 & -999112 & 0.493079 & -0.2926510 & 0.9857481\\\\\n",
       "\t2 & ENSG00000117899 & rs143184731 & -998090 & 0.439940 &  0.1253850 & 0.9613369 & ENSG00000117899 & -998090 & 0.818756 & 0.0198716 & 0.9923720 & ENSG00000117899 & -998090 & 0.903091 &  0.0114259 & 0.9984839\\\\\n",
       "\t3 & ENSG00000117899 & rs77161014  & -996975 & 0.472903 &  0.1152430 & 0.9655408 & ENSG00000117899 & -996975 & 0.271806 & 0.3064540 & 0.9337612 & ENSG00000117899 & -996975 & 0.909239 &  0.0134678 & 0.9986094\\\\\n",
       "\t4 & ENSG00000117899 & rs764585765 & -995876 & 0.405902 &  0.0432230 & 0.9562402 & ENSG00000117899 & -995876 & 0.700033 & 0.0442587 & 0.9858175 & ENSG00000117899 & -995876 & 0.730290 &  0.0614421 & 0.9945278\\\\\n",
       "\t5 & ENSG00000117899 & rs62025524  & -994235 & 0.433346 &  0.0336609 & 0.9603563 & ENSG00000117899 & -994235 & 0.461211 & 0.0556486 & 0.9652778 & ENSG00000117899 & -994235 & 0.553532 & -0.0738376 & 0.9886096\\\\\n",
       "\t6 & ENSG00000117899 & rs62025525  & -994139 & 0.771454 &  0.0133245 & 0.9898541 & ENSG00000117899 & -994139 & 0.156854 & 0.1325850 & 0.8938573 & ENSG00000117899 & -994139 & 0.829273 & -0.0297097 & 0.9968908\\\\\n",
       "\\end{tabular}\n"
      ],
      "text/markdown": [
       "\n",
       "A data.frame: 6 x 16\n",
       "\n",
       "| <!--/--> | V1.x &lt;chr&gt; | V2 &lt;chr&gt; | V3.x &lt;int&gt; | V4.x &lt;dbl&gt; | V5.x &lt;dbl&gt; | V6.x &lt;dbl&gt; | V1.y &lt;chr&gt; | V3.y &lt;int&gt; | V4.y &lt;dbl&gt; | V5.y &lt;dbl&gt; | V6.y &lt;dbl&gt; | V1 &lt;chr&gt; | V3 &lt;int&gt; | V4 &lt;dbl&gt; | V5 &lt;dbl&gt; | V6 &lt;dbl&gt; |\n",
       "|---|---|---|---|---|---|---|---|---|---|---|---|---|---|---|---|---|\n",
       "| 1 | ENSG00000117899 | rs72736580  | -999112 | 0.671547 | -0.0519136 | 0.9836779 | ENSG00000117899 | -999112 | 0.923601 | 0.0227704 | 0.9971841 | ENSG00000117899 | -999112 | 0.493079 | -0.2926510 | 0.9857481 |\n",
       "| 2 | ENSG00000117899 | rs143184731 | -998090 | 0.439940 |  0.1253850 | 0.9613369 | ENSG00000117899 | -998090 | 0.818756 | 0.0198716 | 0.9923720 | ENSG00000117899 | -998090 | 0.903091 |  0.0114259 | 0.9984839 |\n",
       "| 3 | ENSG00000117899 | rs77161014  | -996975 | 0.472903 |  0.1152430 | 0.9655408 | ENSG00000117899 | -996975 | 0.271806 | 0.3064540 | 0.9337612 | ENSG00000117899 | -996975 | 0.909239 |  0.0134678 | 0.9986094 |\n",
       "| 4 | ENSG00000117899 | rs764585765 | -995876 | 0.405902 |  0.0432230 | 0.9562402 | ENSG00000117899 | -995876 | 0.700033 | 0.0442587 | 0.9858175 | ENSG00000117899 | -995876 | 0.730290 |  0.0614421 | 0.9945278 |\n",
       "| 5 | ENSG00000117899 | rs62025524  | -994235 | 0.433346 |  0.0336609 | 0.9603563 | ENSG00000117899 | -994235 | 0.461211 | 0.0556486 | 0.9652778 | ENSG00000117899 | -994235 | 0.553532 | -0.0738376 | 0.9886096 |\n",
       "| 6 | ENSG00000117899 | rs62025525  | -994139 | 0.771454 |  0.0133245 | 0.9898541 | ENSG00000117899 | -994139 | 0.156854 | 0.1325850 | 0.8938573 | ENSG00000117899 | -994139 | 0.829273 | -0.0297097 | 0.9968908 |\n",
       "\n"
      ],
      "text/plain": [
       "  V1.x            V2          V3.x    V4.x     V5.x       V6.x     \n",
       "1 ENSG00000117899 rs72736580  -999112 0.671547 -0.0519136 0.9836779\n",
       "2 ENSG00000117899 rs143184731 -998090 0.439940  0.1253850 0.9613369\n",
       "3 ENSG00000117899 rs77161014  -996975 0.472903  0.1152430 0.9655408\n",
       "4 ENSG00000117899 rs764585765 -995876 0.405902  0.0432230 0.9562402\n",
       "5 ENSG00000117899 rs62025524  -994235 0.433346  0.0336609 0.9603563\n",
       "6 ENSG00000117899 rs62025525  -994139 0.771454  0.0133245 0.9898541\n",
       "  V1.y            V3.y    V4.y     V5.y      V6.y      V1              V3     \n",
       "1 ENSG00000117899 -999112 0.923601 0.0227704 0.9971841 ENSG00000117899 -999112\n",
       "2 ENSG00000117899 -998090 0.818756 0.0198716 0.9923720 ENSG00000117899 -998090\n",
       "3 ENSG00000117899 -996975 0.271806 0.3064540 0.9337612 ENSG00000117899 -996975\n",
       "4 ENSG00000117899 -995876 0.700033 0.0442587 0.9858175 ENSG00000117899 -995876\n",
       "5 ENSG00000117899 -994235 0.461211 0.0556486 0.9652778 ENSG00000117899 -994235\n",
       "6 ENSG00000117899 -994139 0.156854 0.1325850 0.8938573 ENSG00000117899 -994139\n",
       "  V4       V5         V6       \n",
       "1 0.493079 -0.2926510 0.9857481\n",
       "2 0.903091  0.0114259 0.9984839\n",
       "3 0.909239  0.0134678 0.9986094\n",
       "4 0.730290  0.0614421 0.9945278\n",
       "5 0.553532 -0.0738376 0.9886096\n",
       "6 0.829273 -0.0297097 0.9968908"
      ]
     },
     "metadata": {},
     "output_type": "display_data"
    }
   ],
   "source": [
    "shared <- eur_nominal %>% inner_join(amr_nominal, by=\"V2\") %>% inner_join(afr_nominal, by=\"V2\")\n",
    "dim(shared)\n",
    "head(shared)"
   ]
  },
  {
   "cell_type": "markdown",
   "metadata": {},
   "source": [
    "### Input 1: Locus file. Calculate ZSCORE from pval"
   ]
  },
  {
   "cell_type": "code",
   "execution_count": 39,
   "metadata": {},
   "outputs": [],
   "source": [
    "shared <- shared %>% mutate(z.x = sign(V5.x)*abs(qnorm(V4.x/2))) %>% \n",
    "                     mutate(z.y = sign(V5.y)*abs(qnorm(V4.y/2))) %>% \n",
    "                     mutate(z = sign(V5)*abs(qnorm(V4/2)))"
   ]
  },
  {
   "cell_type": "code",
   "execution_count": 46,
   "metadata": {},
   "outputs": [],
   "source": [
    "# test other methods\n",
    "shared <- shared %>% mutate(z.x1 = sign(V5.x)*sqrt(qchisq(V4.x,1,lower=FALSE))) %>% \n",
    "                     mutate(z.y1 = sign(V5.y)*sqrt(qchisq(V4.y,1,lower=FALSE))) %>% \n",
    "                     mutate(z1 = sign(V5)*sqrt(qchisq(V4,1,lower=FALSE)))\n",
    "shared <- shared %>% mutate(z.x2 = ifelse(V5.x < 0, qnorm(V4.x/2), qnorm(1-V4.x/2))) %>% \n",
    "                     mutate(z.y2 = ifelse(V5.y < 0, qnorm(V4.y/2), qnorm(1-V4.y/2))) %>% \n",
    "                     mutate(z2 = ifelse(V5 < 0, qnorm(V4/2), qnorm(1-V4/2)))"
   ]
  },
  {
   "cell_type": "code",
   "execution_count": 48,
   "metadata": {},
   "outputs": [
    {
     "data": {
      "text/html": [
       "1"
      ],
      "text/latex": [
       "1"
      ],
      "text/markdown": [
       "1"
      ],
      "text/plain": [
       "[1] 1"
      ]
     },
     "metadata": {},
     "output_type": "display_data"
    },
    {
     "data": {
      "text/html": [
       "1"
      ],
      "text/latex": [
       "1"
      ],
      "text/markdown": [
       "1"
      ],
      "text/plain": [
       "[1] 1"
      ]
     },
     "metadata": {},
     "output_type": "display_data"
    },
    {
     "data": {
      "text/html": [
       "1"
      ],
      "text/latex": [
       "1"
      ],
      "text/markdown": [
       "1"
      ],
      "text/plain": [
       "[1] 1"
      ]
     },
     "metadata": {},
     "output_type": "display_data"
    },
    {
     "data": {
      "text/html": [
       "1"
      ],
      "text/latex": [
       "1"
      ],
      "text/markdown": [
       "1"
      ],
      "text/plain": [
       "[1] 1"
      ]
     },
     "metadata": {},
     "output_type": "display_data"
    },
    {
     "data": {
      "text/html": [
       "1"
      ],
      "text/latex": [
       "1"
      ],
      "text/markdown": [
       "1"
      ],
      "text/plain": [
       "[1] 1"
      ]
     },
     "metadata": {},
     "output_type": "display_data"
    },
    {
     "data": {
      "text/html": [
       "1"
      ],
      "text/latex": [
       "1"
      ],
      "text/markdown": [
       "1"
      ],
      "text/plain": [
       "[1] 1"
      ]
     },
     "metadata": {},
     "output_type": "display_data"
    }
   ],
   "source": [
    "cor(shared$z.x1,shared$z.x)\n",
    "cor(shared$z.y1,shared$z.y)\n",
    "cor(shared$z1,shared$z)\n",
    "\n",
    "cor(shared$z.x2,shared$z.x)\n",
    "cor(shared$z.y2,shared$z.y)\n",
    "cor(shared$z2,shared$z)"
   ]
  },
  {
   "cell_type": "code",
   "execution_count": 55,
   "metadata": {},
   "outputs": [
    {
     "data": {
      "text/html": [
       "999"
      ],
      "text/latex": [
       "999"
      ],
      "text/markdown": [
       "999"
      ],
      "text/plain": [
       "[1] 999"
      ]
     },
     "metadata": {},
     "output_type": "display_data"
    }
   ],
   "source": [
    "sum(shared$z == shared$z1)"
   ]
  },
  {
   "cell_type": "code",
   "execution_count": 56,
   "metadata": {},
   "outputs": [
    {
     "data": {
      "image/png": "[encoded data removed]",
      "text/plain": [
       "plot without title"
      ]
     },
     "metadata": {
      "image/png": {
       "height": 420,
       "width": 420
      }
     },
     "output_type": "display_data"
    },
    {
     "data": {
      "image/png": "[encoded data removed]",
      "text/plain": [
       "plot without title"
      ]
     },
     "metadata": {
      "image/png": {
       "height": 420,
       "width": 420
      }
     },
     "output_type": "display_data"
    },
    {
     "data": {
      "image/png": "[encoded data removed]",
      "text/plain": [
       "plot without title"
      ]
     },
     "metadata": {
      "image/png": {
       "height": 420,
       "width": 420
      }
     },
     "output_type": "display_data"
    }
   ],
   "source": [
    "ggplot(shared, aes(x = z, y = z1)) +\n",
    "    geom_point()\n",
    "ggplot(shared, aes(x = z.x, y = z.x1)) +\n",
    "    geom_point()\n",
    "ggplot(shared, aes(x = z.y, y = z.y1)) +\n",
    "    geom_point()"
   ]
  },
  {
   "cell_type": "code",
   "execution_count": 51,
   "metadata": {},
   "outputs": [
    {
     "data": {
      "text/html": [
       "<table class=\"dataframe\">\n",
       "<caption>A data.frame: 6 x 25</caption>\n",
       "<thead>\n",
       "\t<tr><th></th><th scope=col>V1.x</th><th scope=col>V2</th><th scope=col>V3.x</th><th scope=col>V4.x</th><th scope=col>V5.x</th><th scope=col>V6.x</th><th scope=col>V1.y</th><th scope=col>V3.y</th><th scope=col>V4.y</th><th scope=col>V5.y</th><th scope=col>...</th><th scope=col>V6</th><th scope=col>z</th><th scope=col>z.y</th><th scope=col>z.x</th><th scope=col>z.x1</th><th scope=col>z.y1</th><th scope=col>z1</th><th scope=col>z.x2</th><th scope=col>z.y2</th><th scope=col>z2</th></tr>\n",
       "\t<tr><th></th><th scope=col>&lt;chr&gt;</th><th scope=col>&lt;chr&gt;</th><th scope=col>&lt;int&gt;</th><th scope=col>&lt;dbl&gt;</th><th scope=col>&lt;dbl&gt;</th><th scope=col>&lt;dbl&gt;</th><th scope=col>&lt;chr&gt;</th><th scope=col>&lt;int&gt;</th><th scope=col>&lt;dbl&gt;</th><th scope=col>&lt;dbl&gt;</th><th scope=col>...</th><th scope=col>&lt;dbl&gt;</th><th scope=col>&lt;dbl&gt;</th><th scope=col>&lt;dbl&gt;</th><th scope=col>&lt;dbl&gt;</th><th scope=col>&lt;dbl&gt;</th><th scope=col>&lt;dbl&gt;</th><th scope=col>&lt;dbl&gt;</th><th scope=col>&lt;dbl&gt;</th><th scope=col>&lt;dbl&gt;</th><th scope=col>&lt;dbl&gt;</th></tr>\n",
       "</thead>\n",
       "<tbody>\n",
       "\t<tr><th scope=row>1</th><td>ENSG00000117899</td><td>rs72736580 </td><td>-999112</td><td>0.671547</td><td>-0.0519136</td><td>0.9836779</td><td>ENSG00000117899</td><td>-999112</td><td>0.923601</td><td>0.0227704</td><td>...</td><td>0.9857481</td><td>-0.6854199</td><td>0.09589873</td><td>-0.4240258</td><td>-0.4240258</td><td>0.09589873</td><td>-0.6854199</td><td>-0.4240258</td><td>0.09589873</td><td>-0.6854199</td></tr>\n",
       "\t<tr><th scope=row>2</th><td>ENSG00000117899</td><td>rs143184731</td><td>-998090</td><td>0.439940</td><td> 0.1253850</td><td>0.9613369</td><td>ENSG00000117899</td><td>-998090</td><td>0.818756</td><td>0.0198716</td><td>...</td><td>0.9984839</td><td> 0.1217576</td><td>0.22914528</td><td> 0.7722945</td><td> 0.7722945</td><td>0.22914528</td><td> 0.1217576</td><td> 0.7722945</td><td>0.22914528</td><td> 0.1217576</td></tr>\n",
       "\t<tr><th scope=row>3</th><td>ENSG00000117899</td><td>rs77161014 </td><td>-996975</td><td>0.472903</td><td> 0.1152430</td><td>0.9655408</td><td>ENSG00000117899</td><td>-996975</td><td>0.271806</td><td>0.3064540</td><td>...</td><td>0.9986094</td><td> 0.1139985</td><td>1.09891304</td><td> 0.7177637</td><td> 0.7177637</td><td>1.09891304</td><td> 0.1139985</td><td> 0.7177637</td><td>1.09891304</td><td> 0.1139985</td></tr>\n",
       "\t<tr><th scope=row>4</th><td>ENSG00000117899</td><td>rs764585765</td><td>-995876</td><td>0.405902</td><td> 0.0432230</td><td>0.9562402</td><td>ENSG00000117899</td><td>-995876</td><td>0.700033</td><td>0.0442587</td><td>...</td><td>0.9945278</td><td> 0.3447398</td><td>0.38527592</td><td> 0.8311268</td><td> 0.8311268</td><td>0.38527592</td><td> 0.3447398</td><td> 0.8311268</td><td>0.38527592</td><td> 0.3447398</td></tr>\n",
       "\t<tr><th scope=row>5</th><td>ENSG00000117899</td><td>rs62025524 </td><td>-994235</td><td>0.433346</td><td> 0.0336609</td><td>0.9603563</td><td>ENSG00000117899</td><td>-994235</td><td>0.461211</td><td>0.0556486</td><td>...</td><td>0.9886096</td><td>-0.5924758</td><td>0.73685423</td><td> 0.7834788</td><td> 0.7834788</td><td>0.73685423</td><td>-0.5924758</td><td> 0.7834788</td><td>0.73685423</td><td>-0.5924758</td></tr>\n",
       "\t<tr><th scope=row>6</th><td>ENSG00000117899</td><td>rs62025525 </td><td>-994139</td><td>0.771454</td><td> 0.0133245</td><td>0.9898541</td><td>ENSG00000117899</td><td>-994139</td><td>0.156854</td><td>0.1325850</td><td>...</td><td>0.9968908</td><td>-0.2156341</td><td>1.41573195</td><td> 0.2904735</td><td> 0.2904735</td><td>1.41573195</td><td>-0.2156341</td><td> 0.2904735</td><td>1.41573195</td><td>-0.2156341</td></tr>\n",
       "</tbody>\n",
       "</table>\n"
      ],
      "text/latex": [
       "A data.frame: 6 x 25\n",
       "\\begin{tabular}{r|lllllllllllllllllllll}\n",
       "  & V1.x & V2 & V3.x & V4.x & V5.x & V6.x & V1.y & V3.y & V4.y & V5.y & ... & V6 & z & z.y & z.x & z.x1 & z.y1 & z1 & z.x2 & z.y2 & z2\\\\\n",
       "  & <chr> & <chr> & <int> & <dbl> & <dbl> & <dbl> & <chr> & <int> & <dbl> & <dbl> & ... & <dbl> & <dbl> & <dbl> & <dbl> & <dbl> & <dbl> & <dbl> & <dbl> & <dbl> & <dbl>\\\\\n",
       "\\hline\n",
       "\t1 & ENSG00000117899 & rs72736580  & -999112 & 0.671547 & -0.0519136 & 0.9836779 & ENSG00000117899 & -999112 & 0.923601 & 0.0227704 & ... & 0.9857481 & -0.6854199 & 0.09589873 & -0.4240258 & -0.4240258 & 0.09589873 & -0.6854199 & -0.4240258 & 0.09589873 & -0.6854199\\\\\n",
       "\t2 & ENSG00000117899 & rs143184731 & -998090 & 0.439940 &  0.1253850 & 0.9613369 & ENSG00000117899 & -998090 & 0.818756 & 0.0198716 & ... & 0.9984839 &  0.1217576 & 0.22914528 &  0.7722945 &  0.7722945 & 0.22914528 &  0.1217576 &  0.7722945 & 0.22914528 &  0.1217576\\\\\n",
       "\t3 & ENSG00000117899 & rs77161014  & -996975 & 0.472903 &  0.1152430 & 0.9655408 & ENSG00000117899 & -996975 & 0.271806 & 0.3064540 & ... & 0.9986094 &  0.1139985 & 1.09891304 &  0.7177637 &  0.7177637 & 1.09891304 &  0.1139985 &  0.7177637 & 1.09891304 &  0.1139985\\\\\n",
       "\t4 & ENSG00000117899 & rs764585765 & -995876 & 0.405902 &  0.0432230 & 0.9562402 & ENSG00000117899 & -995876 & 0.700033 & 0.0442587 & ... & 0.9945278 &  0.3447398 & 0.38527592 &  0.8311268 &  0.8311268 & 0.38527592 &  0.3447398 &  0.8311268 & 0.38527592 &  0.3447398\\\\\n",
       "\t5 & ENSG00000117899 & rs62025524  & -994235 & 0.433346 &  0.0336609 & 0.9603563 & ENSG00000117899 & -994235 & 0.461211 & 0.0556486 & ... & 0.9886096 & -0.5924758 & 0.73685423 &  0.7834788 &  0.7834788 & 0.73685423 & -0.5924758 &  0.7834788 & 0.73685423 & -0.5924758\\\\\n",
       "\t6 & ENSG00000117899 & rs62025525  & -994139 & 0.771454 &  0.0133245 & 0.9898541 & ENSG00000117899 & -994139 & 0.156854 & 0.1325850 & ... & 0.9968908 & -0.2156341 & 1.41573195 &  0.2904735 &  0.2904735 & 1.41573195 & -0.2156341 &  0.2904735 & 1.41573195 & -0.2156341\\\\\n",
       "\\end{tabular}\n"
      ],
      "text/markdown": [
       "\n",
       "A data.frame: 6 x 25\n",
       "\n",
       "| <!--/--> | V1.x &lt;chr&gt; | V2 &lt;chr&gt; | V3.x &lt;int&gt; | V4.x &lt;dbl&gt; | V5.x &lt;dbl&gt; | V6.x &lt;dbl&gt; | V1.y &lt;chr&gt; | V3.y &lt;int&gt; | V4.y &lt;dbl&gt; | V5.y &lt;dbl&gt; | ... ... | V6 &lt;dbl&gt; | z &lt;dbl&gt; | z.y &lt;dbl&gt; | z.x &lt;dbl&gt; | z.x1 &lt;dbl&gt; | z.y1 &lt;dbl&gt; | z1 &lt;dbl&gt; | z.x2 &lt;dbl&gt; | z.y2 &lt;dbl&gt; | z2 &lt;dbl&gt; |\n",
       "|---|---|---|---|---|---|---|---|---|---|---|---|---|---|---|---|---|---|---|---|---|---|\n",
       "| 1 | ENSG00000117899 | rs72736580  | -999112 | 0.671547 | -0.0519136 | 0.9836779 | ENSG00000117899 | -999112 | 0.923601 | 0.0227704 | ... | 0.9857481 | -0.6854199 | 0.09589873 | -0.4240258 | -0.4240258 | 0.09589873 | -0.6854199 | -0.4240258 | 0.09589873 | -0.6854199 |\n",
       "| 2 | ENSG00000117899 | rs143184731 | -998090 | 0.439940 |  0.1253850 | 0.9613369 | ENSG00000117899 | -998090 | 0.818756 | 0.0198716 | ... | 0.9984839 |  0.1217576 | 0.22914528 |  0.7722945 |  0.7722945 | 0.22914528 |  0.1217576 |  0.7722945 | 0.22914528 |  0.1217576 |\n",
       "| 3 | ENSG00000117899 | rs77161014  | -996975 | 0.472903 |  0.1152430 | 0.9655408 | ENSG00000117899 | -996975 | 0.271806 | 0.3064540 | ... | 0.9986094 |  0.1139985 | 1.09891304 |  0.7177637 |  0.7177637 | 1.09891304 |  0.1139985 |  0.7177637 | 1.09891304 |  0.1139985 |\n",
       "| 4 | ENSG00000117899 | rs764585765 | -995876 | 0.405902 |  0.0432230 | 0.9562402 | ENSG00000117899 | -995876 | 0.700033 | 0.0442587 | ... | 0.9945278 |  0.3447398 | 0.38527592 |  0.8311268 |  0.8311268 | 0.38527592 |  0.3447398 |  0.8311268 | 0.38527592 |  0.3447398 |\n",
       "| 5 | ENSG00000117899 | rs62025524  | -994235 | 0.433346 |  0.0336609 | 0.9603563 | ENSG00000117899 | -994235 | 0.461211 | 0.0556486 | ... | 0.9886096 | -0.5924758 | 0.73685423 |  0.7834788 |  0.7834788 | 0.73685423 | -0.5924758 |  0.7834788 | 0.73685423 | -0.5924758 |\n",
       "| 6 | ENSG00000117899 | rs62025525  | -994139 | 0.771454 |  0.0133245 | 0.9898541 | ENSG00000117899 | -994139 | 0.156854 | 0.1325850 | ... | 0.9968908 | -0.2156341 | 1.41573195 |  0.2904735 |  0.2904735 | 1.41573195 | -0.2156341 |  0.2904735 | 1.41573195 | -0.2156341 |\n",
       "\n"
      ],
      "text/plain": [
       "  V1.x            V2          V3.x    V4.x     V5.x       V6.x     \n",
       "1 ENSG00000117899 rs72736580  -999112 0.671547 -0.0519136 0.9836779\n",
       "2 ENSG00000117899 rs143184731 -998090 0.439940  0.1253850 0.9613369\n",
       "3 ENSG00000117899 rs77161014  -996975 0.472903  0.1152430 0.9655408\n",
       "4 ENSG00000117899 rs764585765 -995876 0.405902  0.0432230 0.9562402\n",
       "5 ENSG00000117899 rs62025524  -994235 0.433346  0.0336609 0.9603563\n",
       "6 ENSG00000117899 rs62025525  -994139 0.771454  0.0133245 0.9898541\n",
       "  V1.y            V3.y    V4.y     V5.y      ... V6        z         \n",
       "1 ENSG00000117899 -999112 0.923601 0.0227704 ... 0.9857481 -0.6854199\n",
       "2 ENSG00000117899 -998090 0.818756 0.0198716 ... 0.9984839  0.1217576\n",
       "3 ENSG00000117899 -996975 0.271806 0.3064540 ... 0.9986094  0.1139985\n",
       "4 ENSG00000117899 -995876 0.700033 0.0442587 ... 0.9945278  0.3447398\n",
       "5 ENSG00000117899 -994235 0.461211 0.0556486 ... 0.9886096 -0.5924758\n",
       "6 ENSG00000117899 -994139 0.156854 0.1325850 ... 0.9968908 -0.2156341\n",
       "  z.y        z.x        z.x1       z.y1       z1         z.x2       z.y2      \n",
       "1 0.09589873 -0.4240258 -0.4240258 0.09589873 -0.6854199 -0.4240258 0.09589873\n",
       "2 0.22914528  0.7722945  0.7722945 0.22914528  0.1217576  0.7722945 0.22914528\n",
       "3 1.09891304  0.7177637  0.7177637 1.09891304  0.1139985  0.7177637 1.09891304\n",
       "4 0.38527592  0.8311268  0.8311268 0.38527592  0.3447398  0.8311268 0.38527592\n",
       "5 0.73685423  0.7834788  0.7834788 0.73685423 -0.5924758  0.7834788 0.73685423\n",
       "6 1.41573195  0.2904735  0.2904735 1.41573195 -0.2156341  0.2904735 1.41573195\n",
       "  z2        \n",
       "1 -0.6854199\n",
       "2  0.1217576\n",
       "3  0.1139985\n",
       "4  0.3447398\n",
       "5 -0.5924758\n",
       "6 -0.2156341"
      ]
     },
     "metadata": {},
     "output_type": "display_data"
    }
   ],
   "source": [
    "head(shared)"
   ]
  },
  {
   "cell_type": "code",
   "execution_count": 10,
   "metadata": {},
   "outputs": [
    {
     "data": {
      "text/html": [
       "<table class=\"dataframe\">\n",
       "<caption>A data.frame: 6 x 4</caption>\n",
       "<thead>\n",
       "\t<tr><th></th><th scope=col>V2</th><th scope=col>z.x</th><th scope=col>z.y</th><th scope=col>z</th></tr>\n",
       "\t<tr><th></th><th scope=col>&lt;chr&gt;</th><th scope=col>&lt;dbl&gt;</th><th scope=col>&lt;dbl&gt;</th><th scope=col>&lt;dbl&gt;</th></tr>\n",
       "</thead>\n",
       "<tbody>\n",
       "\t<tr><th scope=row>1</th><td>rs72736580 </td><td>-0.4240258</td><td>0.09589873</td><td>-0.6854199</td></tr>\n",
       "\t<tr><th scope=row>2</th><td>rs143184731</td><td> 0.7722945</td><td>0.22914528</td><td> 0.1217576</td></tr>\n",
       "\t<tr><th scope=row>3</th><td>rs77161014 </td><td> 0.7177637</td><td>1.09891304</td><td> 0.1139985</td></tr>\n",
       "\t<tr><th scope=row>4</th><td>rs764585765</td><td> 0.8311268</td><td>0.38527592</td><td> 0.3447398</td></tr>\n",
       "\t<tr><th scope=row>5</th><td>rs62025524 </td><td> 0.7834788</td><td>0.73685423</td><td>-0.5924758</td></tr>\n",
       "\t<tr><th scope=row>6</th><td>rs62025525 </td><td> 0.2904735</td><td>1.41573195</td><td>-0.2156341</td></tr>\n",
       "</tbody>\n",
       "</table>\n"
      ],
      "text/latex": [
       "A data.frame: 6 x 4\n",
       "\\begin{tabular}{r|llll}\n",
       "  & V2 & z.x & z.y & z\\\\\n",
       "  & <chr> & <dbl> & <dbl> & <dbl>\\\\\n",
       "\\hline\n",
       "\t1 & rs72736580  & -0.4240258 & 0.09589873 & -0.6854199\\\\\n",
       "\t2 & rs143184731 &  0.7722945 & 0.22914528 &  0.1217576\\\\\n",
       "\t3 & rs77161014  &  0.7177637 & 1.09891304 &  0.1139985\\\\\n",
       "\t4 & rs764585765 &  0.8311268 & 0.38527592 &  0.3447398\\\\\n",
       "\t5 & rs62025524  &  0.7834788 & 0.73685423 & -0.5924758\\\\\n",
       "\t6 & rs62025525  &  0.2904735 & 1.41573195 & -0.2156341\\\\\n",
       "\\end{tabular}\n"
      ],
      "text/markdown": [
       "\n",
       "A data.frame: 6 x 4\n",
       "\n",
       "| <!--/--> | V2 &lt;chr&gt; | z.x &lt;dbl&gt; | z.y &lt;dbl&gt; | z &lt;dbl&gt; |\n",
       "|---|---|---|---|---|\n",
       "| 1 | rs72736580  | -0.4240258 | 0.09589873 | -0.6854199 |\n",
       "| 2 | rs143184731 |  0.7722945 | 0.22914528 |  0.1217576 |\n",
       "| 3 | rs77161014  |  0.7177637 | 1.09891304 |  0.1139985 |\n",
       "| 4 | rs764585765 |  0.8311268 | 0.38527592 |  0.3447398 |\n",
       "| 5 | rs62025524  |  0.7834788 | 0.73685423 | -0.5924758 |\n",
       "| 6 | rs62025525  |  0.2904735 | 1.41573195 | -0.2156341 |\n",
       "\n"
      ],
      "text/plain": [
       "  V2          z.x        z.y        z         \n",
       "1 rs72736580  -0.4240258 0.09589873 -0.6854199\n",
       "2 rs143184731  0.7722945 0.22914528  0.1217576\n",
       "3 rs77161014   0.7177637 1.09891304  0.1139985\n",
       "4 rs764585765  0.8311268 0.38527592  0.3447398\n",
       "5 rs62025524   0.7834788 0.73685423 -0.5924758\n",
       "6 rs62025525   0.2904735 1.41573195 -0.2156341"
      ]
     },
     "metadata": {},
     "output_type": "display_data"
    }
   ],
   "source": [
    "shared <- shared %>% select(V2, z.x, z.y, z)\n",
    "head(shared)"
   ]
  },
  {
   "cell_type": "code",
   "execution_count": 11,
   "metadata": {},
   "outputs": [],
   "source": [
    "colnames(shared) <- c(\"RSID\", \"ZSCORE.P1\", \"ZSCORE.P2\", \"ZSCORE.P3\")\n",
    "write.table(shared, \"paintor/MESDC2/Locus1\", col.names = T, row.names = F, sep = \" \", quote = F)"
   ]
  },
  {
   "cell_type": "code",
   "execution_count": 12,
   "metadata": {},
   "outputs": [],
   "source": [
    "id <- shared %>% select(RSID)\n",
    "write.table(id, \"paintor/MESDC2/shared_variants.txt\", col.names = F, row.names = F, quote = F, sep = \"\\t\")"
   ]
  },
  {
   "cell_type": "markdown",
   "metadata": {},
   "source": [
    "### Input 2: LD. Use plink to estimate LD of the shared variants in all 3 populations\n",
    "**Update: this is wrong! PAINTOR wants signed pearson correlation r. See Snakefile**\n",
    "\n",
    "`plink --r2 bin \\\n",
    "--vcf ${file} \\\n",
    "--extract shared_variants.txt \\\n",
    "--out eur`"
   ]
  },
  {
   "cell_type": "code",
   "execution_count": 16,
   "metadata": {},
   "outputs": [],
   "source": [
    "# ?readBin"
   ]
  },
  {
   "cell_type": "code",
   "execution_count": 26,
   "metadata": {},
   "outputs": [],
   "source": [
    "num_var=3872"
   ]
  },
  {
   "cell_type": "code",
   "execution_count": 17,
   "metadata": {},
   "outputs": [],
   "source": [
    "myFile <- file('paintor/MESDC2/eur.ld.bin', 'rb')\n",
    "eur_ld <- readBin(myFile, what=\"numeric\", n=num_var*num_var, size=8)\n",
    "close(myFile)"
   ]
  },
  {
   "cell_type": "code",
   "execution_count": 18,
   "metadata": {},
   "outputs": [
    {
     "data": {
      "text/plain": [
       "NULL"
      ]
     },
     "metadata": {},
     "output_type": "display_data"
    }
   ],
   "source": [
    "dim(eur_ld)"
   ]
  },
  {
   "cell_type": "code",
   "execution_count": 19,
   "metadata": {},
   "outputs": [
    {
     "data": {
      "text/html": [
       "14992384"
      ],
      "text/latex": [
       "14992384"
      ],
      "text/markdown": [
       "14992384"
      ],
      "text/plain": [
       "[1] 14992384"
      ]
     },
     "metadata": {},
     "output_type": "display_data"
    }
   ],
   "source": [
    "length(eur_ld)"
   ]
  },
  {
   "cell_type": "code",
   "execution_count": 27,
   "metadata": {},
   "outputs": [
    {
     "data": {
      "text/html": [
       "14992384"
      ],
      "text/latex": [
       "14992384"
      ],
      "text/markdown": [
       "14992384"
      ],
      "text/plain": [
       "[1] 14992384"
      ]
     },
     "metadata": {},
     "output_type": "display_data"
    }
   ],
   "source": [
    "num_var^2"
   ]
  },
  {
   "cell_type": "code",
   "execution_count": 21,
   "metadata": {},
   "outputs": [
    {
     "data": {
      "text/html": [
       "<style>\n",
       ".list-inline {list-style: none; margin:0; padding: 0}\n",
       ".list-inline>li {display: inline-block}\n",
       ".list-inline>li:not(:last-child)::after {content: \"\\00b7\"; padding: 0 .5ex}\n",
       "</style>\n",
       "<ol class=list-inline><li>1</li><li>0.00209643605870021</li><li>0.00187983011905591</li><li>0.000404779412960451</li><li>0.0364906085975158</li><li>0.0561912488558417</li></ol>\n"
      ],
      "text/latex": [
       "\\begin{enumerate*}\n",
       "\\item 1\n",
       "\\item 0.00209643605870021\n",
       "\\item 0.00187983011905591\n",
       "\\item 0.000404779412960451\n",
       "\\item 0.0364906085975158\n",
       "\\item 0.0561912488558417\n",
       "\\end{enumerate*}\n"
      ],
      "text/markdown": [
       "1. 1\n",
       "2. 0.00209643605870021\n",
       "3. 0.00187983011905591\n",
       "4. 0.000404779412960451\n",
       "5. 0.0364906085975158\n",
       "6. 0.0561912488558417\n",
       "\n",
       "\n"
      ],
      "text/plain": [
       "[1] 1.0000000000 0.0020964361 0.0018798301 0.0004047794 0.0364906086\n",
       "[6] 0.0561912489"
      ]
     },
     "metadata": {},
     "output_type": "display_data"
    }
   ],
   "source": [
    "head(eur_ld)"
   ]
  },
  {
   "cell_type": "code",
   "execution_count": 22,
   "metadata": {},
   "outputs": [
    {
     "data": {
      "text/html": [
       "<style>\n",
       ".list-inline {list-style: none; margin:0; padding: 0}\n",
       ".list-inline>li {display: inline-block}\n",
       ".list-inline>li:not(:last-child)::after {content: \"\\00b7\"; padding: 0 .5ex}\n",
       "</style>\n",
       "<ol class=list-inline><li>1</li><li>3874</li><li>7747</li><li>11620</li><li>11630</li><li>11631</li></ol>\n"
      ],
      "text/latex": [
       "\\begin{enumerate*}\n",
       "\\item 1\n",
       "\\item 3874\n",
       "\\item 7747\n",
       "\\item 11620\n",
       "\\item 11630\n",
       "\\item 11631\n",
       "\\end{enumerate*}\n"
      ],
      "text/markdown": [
       "1. 1\n",
       "2. 3874\n",
       "3. 7747\n",
       "4. 11620\n",
       "5. 11630\n",
       "6. 11631\n",
       "\n",
       "\n"
      ],
      "text/plain": [
       "[1]     1  3874  7747 11620 11630 11631"
      ]
     },
     "metadata": {},
     "output_type": "display_data"
    }
   ],
   "source": [
    "head(which(eur_ld == 1))"
   ]
  },
  {
   "cell_type": "markdown",
   "metadata": {},
   "source": [
    "**Don't know the order, if it's row1, row2, ... or col1, col2, ... But doesn't matter! It's the same.**"
   ]
  },
  {
   "cell_type": "code",
   "execution_count": 23,
   "metadata": {},
   "outputs": [],
   "source": [
    "eur_matrix <- matrix(eur_ld, nrow = num_var)"
   ]
  },
  {
   "cell_type": "code",
   "execution_count": 24,
   "metadata": {},
   "outputs": [
    {
     "data": {
      "text/html": [
       "<style>\n",
       ".list-inline {list-style: none; margin:0; padding: 0}\n",
       ".list-inline>li {display: inline-block}\n",
       ".list-inline>li:not(:last-child)::after {content: \"\\00b7\"; padding: 0 .5ex}\n",
       "</style>\n",
       "<ol class=list-inline><li>3872</li><li>3872</li></ol>\n"
      ],
      "text/latex": [
       "\\begin{enumerate*}\n",
       "\\item 3872\n",
       "\\item 3872\n",
       "\\end{enumerate*}\n"
      ],
      "text/markdown": [
       "1. 3872\n",
       "2. 3872\n",
       "\n",
       "\n"
      ],
      "text/plain": [
       "[1] 3872 3872"
      ]
     },
     "metadata": {},
     "output_type": "display_data"
    }
   ],
   "source": [
    "dim(eur_matrix)"
   ]
  },
  {
   "cell_type": "code",
   "execution_count": 25,
   "metadata": {},
   "outputs": [],
   "source": [
    "write.table(eur_matrix, \"paintor/MESDC2/Locus1.LD1\", col.names = F, row.names = F, quote = F, sep = \" \")"
   ]
  },
  {
   "cell_type": "code",
   "execution_count": 28,
   "metadata": {},
   "outputs": [
    {
     "data": {
      "text/html": [
       "14992384"
      ],
      "text/latex": [
       "14992384"
      ],
      "text/markdown": [
       "14992384"
      ],
      "text/plain": [
       "[1] 14992384"
      ]
     },
     "metadata": {},
     "output_type": "display_data"
    }
   ],
   "source": [
    "myFile <- file('paintor/MESDC2/amr.ld.bin', 'rb')\n",
    "amr_ld <- readBin(myFile, what=\"numeric\", n=num_var*num_var, size=8)\n",
    "close(myFile)\n",
    "length(amr_ld)\n",
    "amr_matrix <- matrix(amr_ld, nrow = num_var)\n",
    "write.table(amr_matrix, \"paintor/MESDC2/Locus1.LD2\", col.names = F, row.names = F, quote = F, sep = \" \")"
   ]
  },
  {
   "cell_type": "code",
   "execution_count": 29,
   "metadata": {},
   "outputs": [
    {
     "data": {
      "text/html": [
       "14992384"
      ],
      "text/latex": [
       "14992384"
      ],
      "text/markdown": [
       "14992384"
      ],
      "text/plain": [
       "[1] 14992384"
      ]
     },
     "metadata": {},
     "output_type": "display_data"
    }
   ],
   "source": [
    "myFile <- file('paintor/MESDC2/afr.ld.bin', 'rb')\n",
    "afr_ld <- readBin(myFile, what=\"numeric\", n=num_var*num_var, size=8)\n",
    "close(myFile)\n",
    "length(afr_ld)\n",
    "afr_matrix <- matrix(afr_ld, nrow = num_var)\n",
    "write.table(afr_matrix, \"paintor/MESDC2/Locus1.LD3\", col.names = F, row.names = F, quote = F, sep = \" \")"
   ]
  },
  {
   "cell_type": "markdown",
   "metadata": {},
   "source": [
    "### Input 3: annotation. Generate annotation file for the shared cis-variants\n",
    "- Cannot use annotation file generated for torus, which is for the variants in ALL geontype. Does not cover all shared variants between EUR, AMR, AFR\n",
    "- Generate annot from ENCODE Regulatory Build \n",
    "- Not including VEP annotations, haven't run VEP on EUR VCF\n",
    "- test running with `promoter_d` only"
   ]
  },
  {
   "cell_type": "code",
   "execution_count": 30,
   "metadata": {},
   "outputs": [
    {
     "data": {
      "text/html": [
       "<table class=\"dataframe\">\n",
       "<caption>A data.frame: 6 x 1</caption>\n",
       "<thead>\n",
       "\t<tr><th></th><th scope=col>RSID</th></tr>\n",
       "\t<tr><th></th><th scope=col>&lt;chr&gt;</th></tr>\n",
       "</thead>\n",
       "<tbody>\n",
       "\t<tr><th scope=row>1</th><td>rs72736580 </td></tr>\n",
       "\t<tr><th scope=row>2</th><td>rs143184731</td></tr>\n",
       "\t<tr><th scope=row>3</th><td>rs77161014 </td></tr>\n",
       "\t<tr><th scope=row>4</th><td>rs764585765</td></tr>\n",
       "\t<tr><th scope=row>5</th><td>rs62025524 </td></tr>\n",
       "\t<tr><th scope=row>6</th><td>rs62025525 </td></tr>\n",
       "</tbody>\n",
       "</table>\n"
      ],
      "text/latex": [
       "A data.frame: 6 x 1\n",
       "\\begin{tabular}{r|l}\n",
       "  & RSID\\\\\n",
       "  & <chr>\\\\\n",
       "\\hline\n",
       "\t1 & rs72736580 \\\\\n",
       "\t2 & rs143184731\\\\\n",
       "\t3 & rs77161014 \\\\\n",
       "\t4 & rs764585765\\\\\n",
       "\t5 & rs62025524 \\\\\n",
       "\t6 & rs62025525 \\\\\n",
       "\\end{tabular}\n"
      ],
      "text/markdown": [
       "\n",
       "A data.frame: 6 x 1\n",
       "\n",
       "| <!--/--> | RSID &lt;chr&gt; |\n",
       "|---|---|\n",
       "| 1 | rs72736580  |\n",
       "| 2 | rs143184731 |\n",
       "| 3 | rs77161014  |\n",
       "| 4 | rs764585765 |\n",
       "| 5 | rs62025524  |\n",
       "| 6 | rs62025525  |\n",
       "\n"
      ],
      "text/plain": [
       "  RSID       \n",
       "1 rs72736580 \n",
       "2 rs143184731\n",
       "3 rs77161014 \n",
       "4 rs764585765\n",
       "5 rs62025524 \n",
       "6 rs62025525 "
      ]
     },
     "metadata": {},
     "output_type": "display_data"
    }
   ],
   "source": [
    "head(id)"
   ]
  },
  {
   "cell_type": "code",
   "execution_count": 33,
   "metadata": {},
   "outputs": [
    {
     "data": {
      "text/html": [
       "<table class=\"dataframe\">\n",
       "<caption>A data.frame: 6 x 7</caption>\n",
       "<thead>\n",
       "\t<tr><th></th><th scope=col>SNP</th><th scope=col>TF_binding_site_d</th><th scope=col>promoter_flanking_region_d</th><th scope=col>promoter_d</th><th scope=col>open_chromatin_region_d</th><th scope=col>enhancer_d</th><th scope=col>CTCF_binding_site_d</th></tr>\n",
       "\t<tr><th></th><th scope=col>&lt;chr&gt;</th><th scope=col>&lt;int&gt;</th><th scope=col>&lt;int&gt;</th><th scope=col>&lt;int&gt;</th><th scope=col>&lt;int&gt;</th><th scope=col>&lt;int&gt;</th><th scope=col>&lt;int&gt;</th></tr>\n",
       "</thead>\n",
       "<tbody>\n",
       "\t<tr><th scope=row>1</th><td>rs61769339 </td><td>0</td><td>1</td><td>0</td><td>0</td><td>0</td><td>0</td></tr>\n",
       "\t<tr><th scope=row>2</th><td>rs12238997 </td><td>0</td><td>0</td><td>0</td><td>0</td><td>0</td><td>0</td></tr>\n",
       "\t<tr><th scope=row>3</th><td>rs61769351 </td><td>0</td><td>0</td><td>0</td><td>0</td><td>0</td><td>0</td></tr>\n",
       "\t<tr><th scope=row>4</th><td>rs142559957</td><td>0</td><td>0</td><td>0</td><td>0</td><td>0</td><td>0</td></tr>\n",
       "\t<tr><th scope=row>5</th><td>rs58276399 </td><td>0</td><td>0</td><td>0</td><td>0</td><td>0</td><td>0</td></tr>\n",
       "\t<tr><th scope=row>6</th><td>rs61770163 </td><td>0</td><td>0</td><td>0</td><td>0</td><td>0</td><td>0</td></tr>\n",
       "</tbody>\n",
       "</table>\n"
      ],
      "text/latex": [
       "A data.frame: 6 x 7\n",
       "\\begin{tabular}{r|lllllll}\n",
       "  & SNP & TF\\_binding\\_site\\_d & promoter\\_flanking\\_region\\_d & promoter\\_d & open\\_chromatin\\_region\\_d & enhancer\\_d & CTCF\\_binding\\_site\\_d\\\\\n",
       "  & <chr> & <int> & <int> & <int> & <int> & <int> & <int>\\\\\n",
       "\\hline\n",
       "\t1 & rs61769339  & 0 & 1 & 0 & 0 & 0 & 0\\\\\n",
       "\t2 & rs12238997  & 0 & 0 & 0 & 0 & 0 & 0\\\\\n",
       "\t3 & rs61769351  & 0 & 0 & 0 & 0 & 0 & 0\\\\\n",
       "\t4 & rs142559957 & 0 & 0 & 0 & 0 & 0 & 0\\\\\n",
       "\t5 & rs58276399  & 0 & 0 & 0 & 0 & 0 & 0\\\\\n",
       "\t6 & rs61770163  & 0 & 0 & 0 & 0 & 0 & 0\\\\\n",
       "\\end{tabular}\n"
      ],
      "text/markdown": [
       "\n",
       "A data.frame: 6 x 7\n",
       "\n",
       "| <!--/--> | SNP &lt;chr&gt; | TF_binding_site_d &lt;int&gt; | promoter_flanking_region_d &lt;int&gt; | promoter_d &lt;int&gt; | open_chromatin_region_d &lt;int&gt; | enhancer_d &lt;int&gt; | CTCF_binding_site_d &lt;int&gt; |\n",
       "|---|---|---|---|---|---|---|---|\n",
       "| 1 | rs61769339  | 0 | 1 | 0 | 0 | 0 | 0 |\n",
       "| 2 | rs12238997  | 0 | 0 | 0 | 0 | 0 | 0 |\n",
       "| 3 | rs61769351  | 0 | 0 | 0 | 0 | 0 | 0 |\n",
       "| 4 | rs142559957 | 0 | 0 | 0 | 0 | 0 | 0 |\n",
       "| 5 | rs58276399  | 0 | 0 | 0 | 0 | 0 | 0 |\n",
       "| 6 | rs61770163  | 0 | 0 | 0 | 0 | 0 | 0 |\n",
       "\n"
      ],
      "text/plain": [
       "  SNP         TF_binding_site_d promoter_flanking_region_d promoter_d\n",
       "1 rs61769339  0                 1                          0         \n",
       "2 rs12238997  0                 0                          0         \n",
       "3 rs61769351  0                 0                          0         \n",
       "4 rs142559957 0                 0                          0         \n",
       "5 rs58276399  0                 0                          0         \n",
       "6 rs61770163  0                 0                          0         \n",
       "  open_chromatin_region_d enhancer_d CTCF_binding_site_d\n",
       "1 0                       0          0                  \n",
       "2 0                       0          0                  \n",
       "3 0                       0          0                  \n",
       "4 0                       0          0                  \n",
       "5 0                       0          0                  \n",
       "6 0                       0          0                  "
      ]
     },
     "metadata": {},
     "output_type": "display_data"
    }
   ],
   "source": [
    "annot <- fread(\"../genotype/all_data/isec_R2_greater_than_3/ancestry/annot/eur_variant_annot.txt.gz\", data.table = F)\n",
    "head(annot)"
   ]
  },
  {
   "cell_type": "code",
   "execution_count": 34,
   "metadata": {},
   "outputs": [
    {
     "data": {
      "text/html": [
       "<style>\n",
       ".list-inline {list-style: none; margin:0; padding: 0}\n",
       ".list-inline>li {display: inline-block}\n",
       ".list-inline>li:not(:last-child)::after {content: \"\\00b7\"; padding: 0 .5ex}\n",
       "</style>\n",
       "<ol class=list-inline><li>3872</li><li>7</li></ol>\n"
      ],
      "text/latex": [
       "\\begin{enumerate*}\n",
       "\\item 3872\n",
       "\\item 7\n",
       "\\end{enumerate*}\n"
      ],
      "text/markdown": [
       "1. 3872\n",
       "2. 7\n",
       "\n",
       "\n"
      ],
      "text/plain": [
       "[1] 3872    7"
      ]
     },
     "metadata": {},
     "output_type": "display_data"
    }
   ],
   "source": [
    "id <- id %>% left_join(annot, by=c(\"RSID\"=\"SNP\"))\n",
    "dim(id)"
   ]
  },
  {
   "cell_type": "code",
   "execution_count": 35,
   "metadata": {},
   "outputs": [],
   "source": [
    "locus.id <- id %>% select(-1)"
   ]
  },
  {
   "cell_type": "code",
   "execution_count": 36,
   "metadata": {},
   "outputs": [],
   "source": [
    "write.table(locus.id, \"paintor/MESDC2/Locus1.annotations\", col.names = T, row.names = F, quote = F, sep = \" \")"
   ]
  },
  {
   "cell_type": "code",
   "execution_count": 41,
   "metadata": {},
   "outputs": [
    {
     "data": {
      "text/html": [
       "<style>\n",
       ".list-inline {list-style: none; margin:0; padding: 0}\n",
       ".list-inline>li {display: inline-block}\n",
       ".list-inline>li:not(:last-child)::after {content: \"\\00b7\"; padding: 0 .5ex}\n",
       "</style>\n",
       "<ol class=list-inline><li>'TF_binding_site_d'</li><li>'promoter_flanking_region_d'</li><li>'promoter_d'</li><li>'open_chromatin_region_d'</li><li>'enhancer_d'</li><li>'CTCF_binding_site_d'</li></ol>\n"
      ],
      "text/latex": [
       "\\begin{enumerate*}\n",
       "\\item 'TF\\_binding\\_site\\_d'\n",
       "\\item 'promoter\\_flanking\\_region\\_d'\n",
       "\\item 'promoter\\_d'\n",
       "\\item 'open\\_chromatin\\_region\\_d'\n",
       "\\item 'enhancer\\_d'\n",
       "\\item 'CTCF\\_binding\\_site\\_d'\n",
       "\\end{enumerate*}\n"
      ],
      "text/markdown": [
       "1. 'TF_binding_site_d'\n",
       "2. 'promoter_flanking_region_d'\n",
       "3. 'promoter_d'\n",
       "4. 'open_chromatin_region_d'\n",
       "5. 'enhancer_d'\n",
       "6. 'CTCF_binding_site_d'\n",
       "\n",
       "\n"
      ],
      "text/plain": [
       "[1] \"TF_binding_site_d\"          \"promoter_flanking_region_d\"\n",
       "[3] \"promoter_d\"                 \"open_chromatin_region_d\"   \n",
       "[5] \"enhancer_d\"                 \"CTCF_binding_site_d\"       "
      ]
     },
     "metadata": {},
     "output_type": "display_data"
    }
   ],
   "source": [
    "colnames(locus.id)"
   ]
  },
  {
   "cell_type": "markdown",
   "metadata": {},
   "source": [
    "### PAINTOR test results\n",
    "- `--enumerate 2` maximum number of causal is 2\n",
    "- rs9806417/chr15_81279136_G_A is the target SNP in locuszoom plot. Lead eQTL and fine-mapped eQTL in AFR, in CS of AMR and EUR\n",
    "- PAINTOR result has prioritized this SNP\n",
    "- ALL susie result did not!"
   ]
  },
  {
   "cell_type": "code",
   "execution_count": 3,
   "metadata": {},
   "outputs": [],
   "source": [
    "res <- fread(\"paintor/MESDC2/Locus1.results\", data.table = F)"
   ]
  },
  {
   "cell_type": "code",
   "execution_count": 4,
   "metadata": {},
   "outputs": [
    {
     "data": {
      "text/html": [
       "<table class=\"dataframe\">\n",
       "<caption>A data.frame: 6 x 5</caption>\n",
       "<thead>\n",
       "\t<tr><th></th><th scope=col>RSID</th><th scope=col>ZSCORE.P1</th><th scope=col>ZSCORE.P2</th><th scope=col>ZSCORE.P3</th><th scope=col>Posterior_Prob</th></tr>\n",
       "\t<tr><th></th><th scope=col>&lt;chr&gt;</th><th scope=col>&lt;dbl&gt;</th><th scope=col>&lt;dbl&gt;</th><th scope=col>&lt;dbl&gt;</th><th scope=col>&lt;dbl&gt;</th></tr>\n",
       "</thead>\n",
       "<tbody>\n",
       "\t<tr><th scope=row>1</th><td>rs72736580 </td><td>-0.4240258</td><td>0.09589873</td><td>-0.6854199</td><td>2.97448e-12</td></tr>\n",
       "\t<tr><th scope=row>2</th><td>rs143184731</td><td> 0.7722945</td><td>0.22914528</td><td> 0.1217576</td><td>2.70088e-12</td></tr>\n",
       "\t<tr><th scope=row>3</th><td>rs77161014 </td><td> 0.7177637</td><td>1.09891304</td><td> 0.1139985</td><td>4.25359e-12</td></tr>\n",
       "\t<tr><th scope=row>4</th><td>rs764585765</td><td> 0.8311268</td><td>0.38527592</td><td> 0.3447398</td><td>2.16276e-20</td></tr>\n",
       "\t<tr><th scope=row>5</th><td>rs62025524 </td><td> 0.7834788</td><td>0.73685423</td><td>-0.5924758</td><td>4.24950e-12</td></tr>\n",
       "\t<tr><th scope=row>6</th><td>rs62025525 </td><td> 0.2904735</td><td>1.41573195</td><td>-0.2156341</td><td>5.81782e-12</td></tr>\n",
       "</tbody>\n",
       "</table>\n"
      ],
      "text/latex": [
       "A data.frame: 6 x 5\n",
       "\\begin{tabular}{r|lllll}\n",
       "  & RSID & ZSCORE.P1 & ZSCORE.P2 & ZSCORE.P3 & Posterior\\_Prob\\\\\n",
       "  & <chr> & <dbl> & <dbl> & <dbl> & <dbl>\\\\\n",
       "\\hline\n",
       "\t1 & rs72736580  & -0.4240258 & 0.09589873 & -0.6854199 & 2.97448e-12\\\\\n",
       "\t2 & rs143184731 &  0.7722945 & 0.22914528 &  0.1217576 & 2.70088e-12\\\\\n",
       "\t3 & rs77161014  &  0.7177637 & 1.09891304 &  0.1139985 & 4.25359e-12\\\\\n",
       "\t4 & rs764585765 &  0.8311268 & 0.38527592 &  0.3447398 & 2.16276e-20\\\\\n",
       "\t5 & rs62025524  &  0.7834788 & 0.73685423 & -0.5924758 & 4.24950e-12\\\\\n",
       "\t6 & rs62025525  &  0.2904735 & 1.41573195 & -0.2156341 & 5.81782e-12\\\\\n",
       "\\end{tabular}\n"
      ],
      "text/markdown": [
       "\n",
       "A data.frame: 6 x 5\n",
       "\n",
       "| <!--/--> | RSID &lt;chr&gt; | ZSCORE.P1 &lt;dbl&gt; | ZSCORE.P2 &lt;dbl&gt; | ZSCORE.P3 &lt;dbl&gt; | Posterior_Prob &lt;dbl&gt; |\n",
       "|---|---|---|---|---|---|\n",
       "| 1 | rs72736580  | -0.4240258 | 0.09589873 | -0.6854199 | 2.97448e-12 |\n",
       "| 2 | rs143184731 |  0.7722945 | 0.22914528 |  0.1217576 | 2.70088e-12 |\n",
       "| 3 | rs77161014  |  0.7177637 | 1.09891304 |  0.1139985 | 4.25359e-12 |\n",
       "| 4 | rs764585765 |  0.8311268 | 0.38527592 |  0.3447398 | 2.16276e-20 |\n",
       "| 5 | rs62025524  |  0.7834788 | 0.73685423 | -0.5924758 | 4.24950e-12 |\n",
       "| 6 | rs62025525  |  0.2904735 | 1.41573195 | -0.2156341 | 5.81782e-12 |\n",
       "\n"
      ],
      "text/plain": [
       "  RSID        ZSCORE.P1  ZSCORE.P2  ZSCORE.P3  Posterior_Prob\n",
       "1 rs72736580  -0.4240258 0.09589873 -0.6854199 2.97448e-12   \n",
       "2 rs143184731  0.7722945 0.22914528  0.1217576 2.70088e-12   \n",
       "3 rs77161014   0.7177637 1.09891304  0.1139985 4.25359e-12   \n",
       "4 rs764585765  0.8311268 0.38527592  0.3447398 2.16276e-20   \n",
       "5 rs62025524   0.7834788 0.73685423 -0.5924758 4.24950e-12   \n",
       "6 rs62025525   0.2904735 1.41573195 -0.2156341 5.81782e-12   "
      ]
     },
     "metadata": {},
     "output_type": "display_data"
    }
   ],
   "source": [
    "head(res)"
   ]
  },
  {
   "cell_type": "code",
   "execution_count": 6,
   "metadata": {},
   "outputs": [
    {
     "data": {
      "text/html": [
       "<table class=\"dataframe\">\n",
       "<caption>A data.frame: 1 x 5</caption>\n",
       "<thead>\n",
       "\t<tr><th scope=col>RSID</th><th scope=col>ZSCORE.P1</th><th scope=col>ZSCORE.P2</th><th scope=col>ZSCORE.P3</th><th scope=col>Posterior_Prob</th></tr>\n",
       "\t<tr><th scope=col>&lt;chr&gt;</th><th scope=col>&lt;dbl&gt;</th><th scope=col>&lt;dbl&gt;</th><th scope=col>&lt;dbl&gt;</th><th scope=col>&lt;dbl&gt;</th></tr>\n",
       "</thead>\n",
       "<tbody>\n",
       "\t<tr><td>rs9806417</td><td>4.420496</td><td>5.026723</td><td>4.949997</td><td>0.996548</td></tr>\n",
       "</tbody>\n",
       "</table>\n"
      ],
      "text/latex": [
       "A data.frame: 1 x 5\n",
       "\\begin{tabular}{lllll}\n",
       " RSID & ZSCORE.P1 & ZSCORE.P2 & ZSCORE.P3 & Posterior\\_Prob\\\\\n",
       " <chr> & <dbl> & <dbl> & <dbl> & <dbl>\\\\\n",
       "\\hline\n",
       "\t rs9806417 & 4.420496 & 5.026723 & 4.949997 & 0.996548\\\\\n",
       "\\end{tabular}\n"
      ],
      "text/markdown": [
       "\n",
       "A data.frame: 1 x 5\n",
       "\n",
       "| RSID &lt;chr&gt; | ZSCORE.P1 &lt;dbl&gt; | ZSCORE.P2 &lt;dbl&gt; | ZSCORE.P3 &lt;dbl&gt; | Posterior_Prob &lt;dbl&gt; |\n",
       "|---|---|---|---|---|\n",
       "| rs9806417 | 4.420496 | 5.026723 | 4.949997 | 0.996548 |\n",
       "\n"
      ],
      "text/plain": [
       "  RSID      ZSCORE.P1 ZSCORE.P2 ZSCORE.P3 Posterior_Prob\n",
       "1 rs9806417 4.420496  5.026723  4.949997  0.996548      "
      ]
     },
     "metadata": {},
     "output_type": "display_data"
    }
   ],
   "source": [
    "res %>% filter(RSID == \"rs9806417\")"
   ]
  },
  {
   "cell_type": "code",
   "execution_count": 10,
   "metadata": {},
   "outputs": [
    {
     "data": {
      "text/html": [
       "<table class=\"dataframe\">\n",
       "<caption>A data.frame: 6 x 5</caption>\n",
       "<thead>\n",
       "\t<tr><th></th><th scope=col>RSID</th><th scope=col>ZSCORE.P1</th><th scope=col>ZSCORE.P2</th><th scope=col>ZSCORE.P3</th><th scope=col>Posterior_Prob</th></tr>\n",
       "\t<tr><th></th><th scope=col>&lt;chr&gt;</th><th scope=col>&lt;dbl&gt;</th><th scope=col>&lt;dbl&gt;</th><th scope=col>&lt;dbl&gt;</th><th scope=col>&lt;dbl&gt;</th></tr>\n",
       "</thead>\n",
       "<tbody>\n",
       "\t<tr><th scope=row>2118</th><td>rs11419364    </td><td>4.038905</td><td>4.815978</td><td>-3.552792</td><td>9.98489e-01</td></tr>\n",
       "\t<tr><th scope=row>2106</th><td>rs9806417     </td><td>4.420496</td><td>5.026723</td><td> 4.949997</td><td>9.96548e-01</td></tr>\n",
       "\t<tr><th scope=row>2072</th><td>chr15:80976374</td><td>4.261307</td><td>5.026723</td><td> 4.317299</td><td>1.91323e-03</td></tr>\n",
       "\t<tr><th scope=row>2070</th><td>rs8036618     </td><td>4.088164</td><td>5.026723</td><td> 4.342572</td><td>1.52684e-03</td></tr>\n",
       "\t<tr><th scope=row>2171</th><td>rs34354527    </td><td>3.580757</td><td>4.747460</td><td>-3.855291</td><td>1.50885e-03</td></tr>\n",
       "\t<tr><th scope=row>2143</th><td>rs56246246    </td><td>4.478802</td><td>5.063729</td><td> 4.154549</td><td>9.50162e-06</td></tr>\n",
       "</tbody>\n",
       "</table>\n"
      ],
      "text/latex": [
       "A data.frame: 6 x 5\n",
       "\\begin{tabular}{r|lllll}\n",
       "  & RSID & ZSCORE.P1 & ZSCORE.P2 & ZSCORE.P3 & Posterior\\_Prob\\\\\n",
       "  & <chr> & <dbl> & <dbl> & <dbl> & <dbl>\\\\\n",
       "\\hline\n",
       "\t2118 & rs11419364     & 4.038905 & 4.815978 & -3.552792 & 9.98489e-01\\\\\n",
       "\t2106 & rs9806417      & 4.420496 & 5.026723 &  4.949997 & 9.96548e-01\\\\\n",
       "\t2072 & chr15:80976374 & 4.261307 & 5.026723 &  4.317299 & 1.91323e-03\\\\\n",
       "\t2070 & rs8036618      & 4.088164 & 5.026723 &  4.342572 & 1.52684e-03\\\\\n",
       "\t2171 & rs34354527     & 3.580757 & 4.747460 & -3.855291 & 1.50885e-03\\\\\n",
       "\t2143 & rs56246246     & 4.478802 & 5.063729 &  4.154549 & 9.50162e-06\\\\\n",
       "\\end{tabular}\n"
      ],
      "text/markdown": [
       "\n",
       "A data.frame: 6 x 5\n",
       "\n",
       "| <!--/--> | RSID &lt;chr&gt; | ZSCORE.P1 &lt;dbl&gt; | ZSCORE.P2 &lt;dbl&gt; | ZSCORE.P3 &lt;dbl&gt; | Posterior_Prob &lt;dbl&gt; |\n",
       "|---|---|---|---|---|---|\n",
       "| 2118 | rs11419364     | 4.038905 | 4.815978 | -3.552792 | 9.98489e-01 |\n",
       "| 2106 | rs9806417      | 4.420496 | 5.026723 |  4.949997 | 9.96548e-01 |\n",
       "| 2072 | chr15:80976374 | 4.261307 | 5.026723 |  4.317299 | 1.91323e-03 |\n",
       "| 2070 | rs8036618      | 4.088164 | 5.026723 |  4.342572 | 1.52684e-03 |\n",
       "| 2171 | rs34354527     | 3.580757 | 4.747460 | -3.855291 | 1.50885e-03 |\n",
       "| 2143 | rs56246246     | 4.478802 | 5.063729 |  4.154549 | 9.50162e-06 |\n",
       "\n"
      ],
      "text/plain": [
       "     RSID           ZSCORE.P1 ZSCORE.P2 ZSCORE.P3 Posterior_Prob\n",
       "2118 rs11419364     4.038905  4.815978  -3.552792 9.98489e-01   \n",
       "2106 rs9806417      4.420496  5.026723   4.949997 9.96548e-01   \n",
       "2072 chr15:80976374 4.261307  5.026723   4.317299 1.91323e-03   \n",
       "2070 rs8036618      4.088164  5.026723   4.342572 1.52684e-03   \n",
       "2171 rs34354527     3.580757  4.747460  -3.855291 1.50885e-03   \n",
       "2143 rs56246246     4.478802  5.063729   4.154549 9.50162e-06   "
      ]
     },
     "metadata": {},
     "output_type": "display_data"
    }
   ],
   "source": [
    "head(res[order(res$Posterior_Prob, decreasing = TRUE),])"
   ]
  },
  {
   "cell_type": "markdown",
   "metadata": {},
   "source": [
    "### SuSiE results: ALL, and ancestry-specific"
   ]
  },
  {
   "cell_type": "code",
   "execution_count": 3,
   "metadata": {},
   "outputs": [],
   "source": [
    "susie <- fread(\"results/susie_finemap/mixed/mixed_ciseqtl_90hcp_perm_purity_filtered.txt.gz\", data.table = F)"
   ]
  },
  {
   "cell_type": "code",
   "execution_count": 4,
   "metadata": {},
   "outputs": [],
   "source": [
    "susie_eur <- fread(\"results/susie_finemap/eur/eur_ciseqtl_50hcp_perm_purity_filtered.txt.gz\", data.table = F)"
   ]
  },
  {
   "cell_type": "code",
   "execution_count": 5,
   "metadata": {
    "scrolled": true
   },
   "outputs": [],
   "source": [
    "susie_amr <- fread(\"results/susie_finemap/amr/amr_ciseqtl_15hcp_perm_purity_filtered.txt.gz\", data.table = F)"
   ]
  },
  {
   "cell_type": "code",
   "execution_count": 6,
   "metadata": {},
   "outputs": [],
   "source": [
    "susie_afr <- fread(\"results/susie_finemap/afr/afr_ciseqtl_25hcp_perm_purity_filtered.txt.gz\", data.table = F)"
   ]
  },
  {
   "cell_type": "markdown",
   "metadata": {},
   "source": [
    "### PAINTOR final results"
   ]
  },
  {
   "cell_type": "code",
   "execution_count": 7,
   "metadata": {},
   "outputs": [],
   "source": [
    "shared_egene <- read.table(\"paintor/eur_amr_afr_shared_egenes.txt\", header = T)"
   ]
  },
  {
   "cell_type": "code",
   "execution_count": 8,
   "metadata": {},
   "outputs": [],
   "source": [
    "results <- data.frame(\"gene\" = shared_egene$gene_index, \n",
    "                      \"pip_sum\" = NA)"
   ]
  },
  {
   "cell_type": "code",
   "execution_count": 9,
   "metadata": {},
   "outputs": [],
   "source": [
    "sum <- NULL"
   ]
  },
  {
   "cell_type": "code",
   "execution_count": 10,
   "metadata": {},
   "outputs": [],
   "source": [
    "for (gene in shared_egene$gene_index) {\n",
    "    df <- fread(paste0(\"paintor/\", gene, \"_dir/\", gene, \".results.2causal\"), data.table = F)\n",
    "    assign(gene, df)\n",
    "    sum <- append(sum, sum(df$Posterior_Prob))\n",
    "}"
   ]
  },
  {
   "cell_type": "code",
   "execution_count": 11,
   "metadata": {},
   "outputs": [],
   "source": [
    "results$pip_sum <- sum"
   ]
  },
  {
   "cell_type": "code",
   "execution_count": 12,
   "metadata": {},
   "outputs": [
    {
     "data": {
      "image/png": "[encoded data removed]",
      "text/plain": [
       "plot without title"
      ]
     },
     "metadata": {
      "image/png": {
       "height": 420,
       "width": 420
      }
     },
     "output_type": "display_data"
    }
   ],
   "source": [
    "plot(results$pip_sum)"
   ]
  },
  {
   "cell_type": "markdown",
   "metadata": {},
   "source": [
    "**Number of SNPs selected**"
   ]
  },
  {
   "cell_type": "code",
   "execution_count": 13,
   "metadata": {},
   "outputs": [
    {
     "data": {
      "text/html": [
       "<style>\n",
       ".list-inline {list-style: none; margin:0; padding: 0}\n",
       ".list-inline>li {display: inline-block}\n",
       ".list-inline>li:not(:last-child)::after {content: \"\\00b7\"; padding: 0 .5ex}\n",
       "</style>\n",
       "<ol class=list-inline><li>29028</li><li>17</li></ol>\n"
      ],
      "text/latex": [
       "\\begin{enumerate*}\n",
       "\\item 29028\n",
       "\\item 17\n",
       "\\end{enumerate*}\n"
      ],
      "text/markdown": [
       "1. 29028\n",
       "2. 17\n",
       "\n",
       "\n"
      ],
      "text/plain": [
       "[1] 29028    17"
      ]
     },
     "metadata": {},
     "output_type": "display_data"
    },
    {
     "data": {
      "text/html": [
       "986"
      ],
      "text/latex": [
       "986"
      ],
      "text/markdown": [
       "986"
      ],
      "text/plain": [
       "[1] 986"
      ]
     },
     "metadata": {},
     "output_type": "display_data"
    }
   ],
   "source": [
    "susie <- susie %>% filter(phenotype_id %in% results$gene)\n",
    "dim(susie)\n",
    "genes_with_cs <- unique(susie$phenotype_id)\n",
    "length(unique(genes_with_cs))"
   ]
  },
  {
   "cell_type": "code",
   "execution_count": 18,
   "metadata": {},
   "outputs": [
    {
     "data": {
      "text/html": [
       "<table class=\"dataframe\">\n",
       "<caption>A data.frame: 6 x 17</caption>\n",
       "<thead>\n",
       "\t<tr><th></th><th scope=col>phenotype_id</th><th scope=col>variant_id</th><th scope=col>chr</th><th scope=col>pos</th><th scope=col>ref</th><th scope=col>alt</th><th scope=col>cs_id</th><th scope=col>cs_index</th><th scope=col>finemapped_region</th><th scope=col>pip</th><th scope=col>z</th><th scope=col>cs_min_r2</th><th scope=col>cs_avg_r2</th><th scope=col>cs_size</th><th scope=col>posterior_mean</th><th scope=col>posterior_sd</th><th scope=col>cs_log10bf</th></tr>\n",
       "\t<tr><th></th><th scope=col>&lt;chr&gt;</th><th scope=col>&lt;chr&gt;</th><th scope=col>&lt;int&gt;</th><th scope=col>&lt;int&gt;</th><th scope=col>&lt;chr&gt;</th><th scope=col>&lt;chr&gt;</th><th scope=col>&lt;chr&gt;</th><th scope=col>&lt;chr&gt;</th><th scope=col>&lt;chr&gt;</th><th scope=col>&lt;dbl&gt;</th><th scope=col>&lt;dbl&gt;</th><th scope=col>&lt;dbl&gt;</th><th scope=col>&lt;dbl&gt;</th><th scope=col>&lt;int&gt;</th><th scope=col>&lt;dbl&gt;</th><th scope=col>&lt;dbl&gt;</th><th scope=col>&lt;dbl&gt;</th></tr>\n",
       "</thead>\n",
       "<tbody>\n",
       "\t<tr><th scope=row>1</th><td>ENSG00000233690</td><td>chr10_101471695_C_T</td><td>10</td><td>101471695</td><td>C</td><td>T</td><td>ENSG00000233690_L1</td><td>L1</td><td>chr10:100457705-102457705</td><td>0.3410355</td><td>10.85490</td><td>0.9549791</td><td>0.9826918</td><td>4</td><td>0.14866848</td><td>0.2083565</td><td>21.10515</td></tr>\n",
       "\t<tr><th scope=row>2</th><td>ENSG00000233690</td><td>chr10_101474499_T_C</td><td>10</td><td>101474499</td><td>T</td><td>C</td><td>ENSG00000233690_L1</td><td>L1</td><td>chr10:100457705-102457705</td><td>0.0636642</td><td>10.66248</td><td>0.9549791</td><td>0.9826918</td><td>4</td><td>0.02751309</td><td>0.1070116</td><td>21.10515</td></tr>\n",
       "\t<tr><th scope=row>3</th><td>ENSG00000233690</td><td>chr10_101475039_C_T</td><td>10</td><td>101475039</td><td>C</td><td>T</td><td>ENSG00000233690_L1</td><td>L1</td><td>chr10:100457705-102457705</td><td>0.2810318</td><td>10.83659</td><td>0.9549791</td><td>0.9826918</td><td>4</td><td>0.12278600</td><td>0.1979801</td><td>21.10515</td></tr>\n",
       "\t<tr><th scope=row>4</th><td>ENSG00000233690</td><td>chr10_101480550_T_G</td><td>10</td><td>101480550</td><td>T</td><td>G</td><td>ENSG00000233690_L1</td><td>L1</td><td>chr10:100457705-102457705</td><td>0.2810318</td><td>10.83659</td><td>0.9549791</td><td>0.9826918</td><td>4</td><td>0.12278600</td><td>0.1979801</td><td>21.10515</td></tr>\n",
       "\t<tr><th scope=row>5</th><td>ENSG00000272572</td><td>chr10_102673063_G_T</td><td>10</td><td>102673063</td><td>G</td><td>T</td><td>ENSG00000272572_L1</td><td>L1</td><td>chr10:101672495-103672495</td><td>0.2069560</td><td>16.31688</td><td>0.9625886</td><td>0.9832921</td><td>3</td><td>0.09312948</td><td>0.1832535</td><td>54.11670</td></tr>\n",
       "\t<tr><th scope=row>6</th><td>ENSG00000272572</td><td>chr10_102674348_A_G</td><td>10</td><td>102674348</td><td>A</td><td>G</td><td>ENSG00000272572_L1</td><td>L1</td><td>chr10:101672495-103672495</td><td>0.6761467</td><td>16.43804</td><td>0.9625886</td><td>0.9832921</td><td>3</td><td>0.30785154</td><td>0.2144532</td><td>54.11670</td></tr>\n",
       "</tbody>\n",
       "</table>\n"
      ],
      "text/latex": [
       "A data.frame: 6 x 17\n",
       "\\begin{tabular}{r|lllllllllllllllll}\n",
       "  & phenotype\\_id & variant\\_id & chr & pos & ref & alt & cs\\_id & cs\\_index & finemapped\\_region & pip & z & cs\\_min\\_r2 & cs\\_avg\\_r2 & cs\\_size & posterior\\_mean & posterior\\_sd & cs\\_log10bf\\\\\n",
       "  & <chr> & <chr> & <int> & <int> & <chr> & <chr> & <chr> & <chr> & <chr> & <dbl> & <dbl> & <dbl> & <dbl> & <int> & <dbl> & <dbl> & <dbl>\\\\\n",
       "\\hline\n",
       "\t1 & ENSG00000233690 & chr10\\_101471695\\_C\\_T & 10 & 101471695 & C & T & ENSG00000233690\\_L1 & L1 & chr10:100457705-102457705 & 0.3410355 & 10.85490 & 0.9549791 & 0.9826918 & 4 & 0.14866848 & 0.2083565 & 21.10515\\\\\n",
       "\t2 & ENSG00000233690 & chr10\\_101474499\\_T\\_C & 10 & 101474499 & T & C & ENSG00000233690\\_L1 & L1 & chr10:100457705-102457705 & 0.0636642 & 10.66248 & 0.9549791 & 0.9826918 & 4 & 0.02751309 & 0.1070116 & 21.10515\\\\\n",
       "\t3 & ENSG00000233690 & chr10\\_101475039\\_C\\_T & 10 & 101475039 & C & T & ENSG00000233690\\_L1 & L1 & chr10:100457705-102457705 & 0.2810318 & 10.83659 & 0.9549791 & 0.9826918 & 4 & 0.12278600 & 0.1979801 & 21.10515\\\\\n",
       "\t4 & ENSG00000233690 & chr10\\_101480550\\_T\\_G & 10 & 101480550 & T & G & ENSG00000233690\\_L1 & L1 & chr10:100457705-102457705 & 0.2810318 & 10.83659 & 0.9549791 & 0.9826918 & 4 & 0.12278600 & 0.1979801 & 21.10515\\\\\n",
       "\t5 & ENSG00000272572 & chr10\\_102673063\\_G\\_T & 10 & 102673063 & G & T & ENSG00000272572\\_L1 & L1 & chr10:101672495-103672495 & 0.2069560 & 16.31688 & 0.9625886 & 0.9832921 & 3 & 0.09312948 & 0.1832535 & 54.11670\\\\\n",
       "\t6 & ENSG00000272572 & chr10\\_102674348\\_A\\_G & 10 & 102674348 & A & G & ENSG00000272572\\_L1 & L1 & chr10:101672495-103672495 & 0.6761467 & 16.43804 & 0.9625886 & 0.9832921 & 3 & 0.30785154 & 0.2144532 & 54.11670\\\\\n",
       "\\end{tabular}\n"
      ],
      "text/markdown": [
       "\n",
       "A data.frame: 6 x 17\n",
       "\n",
       "| <!--/--> | phenotype_id &lt;chr&gt; | variant_id &lt;chr&gt; | chr &lt;int&gt; | pos &lt;int&gt; | ref &lt;chr&gt; | alt &lt;chr&gt; | cs_id &lt;chr&gt; | cs_index &lt;chr&gt; | finemapped_region &lt;chr&gt; | pip &lt;dbl&gt; | z &lt;dbl&gt; | cs_min_r2 &lt;dbl&gt; | cs_avg_r2 &lt;dbl&gt; | cs_size &lt;int&gt; | posterior_mean &lt;dbl&gt; | posterior_sd &lt;dbl&gt; | cs_log10bf &lt;dbl&gt; |\n",
       "|---|---|---|---|---|---|---|---|---|---|---|---|---|---|---|---|---|---|\n",
       "| 1 | ENSG00000233690 | chr10_101471695_C_T | 10 | 101471695 | C | T | ENSG00000233690_L1 | L1 | chr10:100457705-102457705 | 0.3410355 | 10.85490 | 0.9549791 | 0.9826918 | 4 | 0.14866848 | 0.2083565 | 21.10515 |\n",
       "| 2 | ENSG00000233690 | chr10_101474499_T_C | 10 | 101474499 | T | C | ENSG00000233690_L1 | L1 | chr10:100457705-102457705 | 0.0636642 | 10.66248 | 0.9549791 | 0.9826918 | 4 | 0.02751309 | 0.1070116 | 21.10515 |\n",
       "| 3 | ENSG00000233690 | chr10_101475039_C_T | 10 | 101475039 | C | T | ENSG00000233690_L1 | L1 | chr10:100457705-102457705 | 0.2810318 | 10.83659 | 0.9549791 | 0.9826918 | 4 | 0.12278600 | 0.1979801 | 21.10515 |\n",
       "| 4 | ENSG00000233690 | chr10_101480550_T_G | 10 | 101480550 | T | G | ENSG00000233690_L1 | L1 | chr10:100457705-102457705 | 0.2810318 | 10.83659 | 0.9549791 | 0.9826918 | 4 | 0.12278600 | 0.1979801 | 21.10515 |\n",
       "| 5 | ENSG00000272572 | chr10_102673063_G_T | 10 | 102673063 | G | T | ENSG00000272572_L1 | L1 | chr10:101672495-103672495 | 0.2069560 | 16.31688 | 0.9625886 | 0.9832921 | 3 | 0.09312948 | 0.1832535 | 54.11670 |\n",
       "| 6 | ENSG00000272572 | chr10_102674348_A_G | 10 | 102674348 | A | G | ENSG00000272572_L1 | L1 | chr10:101672495-103672495 | 0.6761467 | 16.43804 | 0.9625886 | 0.9832921 | 3 | 0.30785154 | 0.2144532 | 54.11670 |\n",
       "\n"
      ],
      "text/plain": [
       "  phenotype_id    variant_id          chr pos       ref alt cs_id             \n",
       "1 ENSG00000233690 chr10_101471695_C_T 10  101471695 C   T   ENSG00000233690_L1\n",
       "2 ENSG00000233690 chr10_101474499_T_C 10  101474499 T   C   ENSG00000233690_L1\n",
       "3 ENSG00000233690 chr10_101475039_C_T 10  101475039 C   T   ENSG00000233690_L1\n",
       "4 ENSG00000233690 chr10_101480550_T_G 10  101480550 T   G   ENSG00000233690_L1\n",
       "5 ENSG00000272572 chr10_102673063_G_T 10  102673063 G   T   ENSG00000272572_L1\n",
       "6 ENSG00000272572 chr10_102674348_A_G 10  102674348 A   G   ENSG00000272572_L1\n",
       "  cs_index finemapped_region         pip       z        cs_min_r2 cs_avg_r2\n",
       "1 L1       chr10:100457705-102457705 0.3410355 10.85490 0.9549791 0.9826918\n",
       "2 L1       chr10:100457705-102457705 0.0636642 10.66248 0.9549791 0.9826918\n",
       "3 L1       chr10:100457705-102457705 0.2810318 10.83659 0.9549791 0.9826918\n",
       "4 L1       chr10:100457705-102457705 0.2810318 10.83659 0.9549791 0.9826918\n",
       "5 L1       chr10:101672495-103672495 0.2069560 16.31688 0.9625886 0.9832921\n",
       "6 L1       chr10:101672495-103672495 0.6761467 16.43804 0.9625886 0.9832921\n",
       "  cs_size posterior_mean posterior_sd cs_log10bf\n",
       "1 4       0.14866848     0.2083565    21.10515  \n",
       "2 4       0.02751309     0.1070116    21.10515  \n",
       "3 4       0.12278600     0.1979801    21.10515  \n",
       "4 4       0.12278600     0.1979801    21.10515  \n",
       "5 3       0.09312948     0.1832535    54.11670  \n",
       "6 3       0.30785154     0.2144532    54.11670  "
      ]
     },
     "metadata": {},
     "output_type": "display_data"
    }
   ],
   "source": [
    "head(susie)"
   ]
  },
  {
   "cell_type": "code",
   "execution_count": 14,
   "metadata": {},
   "outputs": [],
   "source": [
    "susie_df <- data.frame(gene = genes_with_cs, num_snp = NA)\n",
    "for(i in 1:nrow(susie_df)) {\n",
    "    susie_df[i,2] <- sum(susie$phenotype_id == susie_df[i,1])\n",
    "}"
   ]
  },
  {
   "cell_type": "code",
   "execution_count": 15,
   "metadata": {},
   "outputs": [
    {
     "data": {
      "text/html": [
       "<table class=\"dataframe\">\n",
       "<caption>A data.frame: 6 x 2</caption>\n",
       "<thead>\n",
       "\t<tr><th></th><th scope=col>gene</th><th scope=col>num_snp</th></tr>\n",
       "\t<tr><th></th><th scope=col>&lt;chr&gt;</th><th scope=col>&lt;int&gt;</th></tr>\n",
       "</thead>\n",
       "<tbody>\n",
       "\t<tr><th scope=row>1</th><td>ENSG00000233690</td><td> 4</td></tr>\n",
       "\t<tr><th scope=row>2</th><td>ENSG00000272572</td><td> 3</td></tr>\n",
       "\t<tr><th scope=row>3</th><td>ENSG00000055950</td><td>11</td></tr>\n",
       "\t<tr><th scope=row>4</th><td>ENSG00000107819</td><td> 1</td></tr>\n",
       "\t<tr><th scope=row>5</th><td>ENSG00000186862</td><td> 1</td></tr>\n",
       "\t<tr><th scope=row>6</th><td>ENSG00000138111</td><td> 3</td></tr>\n",
       "</tbody>\n",
       "</table>\n"
      ],
      "text/latex": [
       "A data.frame: 6 x 2\n",
       "\\begin{tabular}{r|ll}\n",
       "  & gene & num\\_snp\\\\\n",
       "  & <chr> & <int>\\\\\n",
       "\\hline\n",
       "\t1 & ENSG00000233690 &  4\\\\\n",
       "\t2 & ENSG00000272572 &  3\\\\\n",
       "\t3 & ENSG00000055950 & 11\\\\\n",
       "\t4 & ENSG00000107819 &  1\\\\\n",
       "\t5 & ENSG00000186862 &  1\\\\\n",
       "\t6 & ENSG00000138111 &  3\\\\\n",
       "\\end{tabular}\n"
      ],
      "text/markdown": [
       "\n",
       "A data.frame: 6 x 2\n",
       "\n",
       "| <!--/--> | gene &lt;chr&gt; | num_snp &lt;int&gt; |\n",
       "|---|---|---|\n",
       "| 1 | ENSG00000233690 |  4 |\n",
       "| 2 | ENSG00000272572 |  3 |\n",
       "| 3 | ENSG00000055950 | 11 |\n",
       "| 4 | ENSG00000107819 |  1 |\n",
       "| 5 | ENSG00000186862 |  1 |\n",
       "| 6 | ENSG00000138111 |  3 |\n",
       "\n"
      ],
      "text/plain": [
       "  gene            num_snp\n",
       "1 ENSG00000233690  4     \n",
       "2 ENSG00000272572  3     \n",
       "3 ENSG00000055950 11     \n",
       "4 ENSG00000107819  1     \n",
       "5 ENSG00000186862  1     \n",
       "6 ENSG00000138111  3     "
      ]
     },
     "metadata": {},
     "output_type": "display_data"
    }
   ],
   "source": [
    "head(susie_df)"
   ]
  },
  {
   "cell_type": "code",
   "execution_count": 15,
   "metadata": {},
   "outputs": [
    {
     "data": {
      "text/html": [
       "<table class=\"dataframe\">\n",
       "<caption>A data.frame: 6 x 2</caption>\n",
       "<thead>\n",
       "\t<tr><th></th><th scope=col>gene</th><th scope=col>pip_sum</th></tr>\n",
       "\t<tr><th></th><th scope=col>&lt;chr&gt;</th><th scope=col>&lt;dbl&gt;</th></tr>\n",
       "</thead>\n",
       "<tbody>\n",
       "\t<tr><th scope=row>1</th><td>ENSG00000001460</td><td>2.000001</td></tr>\n",
       "\t<tr><th scope=row>2</th><td>ENSG00000002016</td><td>1.999999</td></tr>\n",
       "\t<tr><th scope=row>3</th><td>ENSG00000004534</td><td>1.017846</td></tr>\n",
       "\t<tr><th scope=row>4</th><td>ENSG00000005801</td><td>1.999477</td></tr>\n",
       "\t<tr><th scope=row>5</th><td>ENSG00000006007</td><td>1.028051</td></tr>\n",
       "\t<tr><th scope=row>6</th><td>ENSG00000008018</td><td>1.207953</td></tr>\n",
       "</tbody>\n",
       "</table>\n"
      ],
      "text/latex": [
       "A data.frame: 6 x 2\n",
       "\\begin{tabular}{r|ll}\n",
       "  & gene & pip\\_sum\\\\\n",
       "  & <chr> & <dbl>\\\\\n",
       "\\hline\n",
       "\t1 & ENSG00000001460 & 2.000001\\\\\n",
       "\t2 & ENSG00000002016 & 1.999999\\\\\n",
       "\t3 & ENSG00000004534 & 1.017846\\\\\n",
       "\t4 & ENSG00000005801 & 1.999477\\\\\n",
       "\t5 & ENSG00000006007 & 1.028051\\\\\n",
       "\t6 & ENSG00000008018 & 1.207953\\\\\n",
       "\\end{tabular}\n"
      ],
      "text/markdown": [
       "\n",
       "A data.frame: 6 x 2\n",
       "\n",
       "| <!--/--> | gene &lt;chr&gt; | pip_sum &lt;dbl&gt; |\n",
       "|---|---|---|\n",
       "| 1 | ENSG00000001460 | 2.000001 |\n",
       "| 2 | ENSG00000002016 | 1.999999 |\n",
       "| 3 | ENSG00000004534 | 1.017846 |\n",
       "| 4 | ENSG00000005801 | 1.999477 |\n",
       "| 5 | ENSG00000006007 | 1.028051 |\n",
       "| 6 | ENSG00000008018 | 1.207953 |\n",
       "\n"
      ],
      "text/plain": [
       "  gene            pip_sum \n",
       "1 ENSG00000001460 2.000001\n",
       "2 ENSG00000002016 1.999999\n",
       "3 ENSG00000004534 1.017846\n",
       "4 ENSG00000005801 1.999477\n",
       "5 ENSG00000006007 1.028051\n",
       "6 ENSG00000008018 1.207953"
      ]
     },
     "metadata": {},
     "output_type": "display_data"
    }
   ],
   "source": [
    "head(results)"
   ]
  },
  {
   "cell_type": "code",
   "execution_count": 16,
   "metadata": {},
   "outputs": [],
   "source": [
    "results$SNPs_selected <- NULL"
   ]
  },
  {
   "cell_type": "code",
   "execution_count": 17,
   "metadata": {},
   "outputs": [],
   "source": [
    "for (gene in shared_egene$gene_index) {\n",
    "    df <- get(gene)\n",
    "    df <- df %>% arrange(desc(Posterior_Prob))\n",
    "    # cumulative sum of PIPs\n",
    "    cum_sum <- cumsum(df$Posterior_Prob)\n",
    "    num_selected <- which(cumsum(df$Posterior_Prob) > 0.95*sum(df$Posterior_Prob))[1]\n",
    "    results[results$gene == gene, 'SNPs_selected'] <- num_selected\n",
    "}"
   ]
  },
  {
   "cell_type": "code",
   "execution_count": 18,
   "metadata": {},
   "outputs": [
    {
     "data": {
      "text/html": [
       "<table class=\"dataframe\">\n",
       "<caption>A data.frame: 6 x 3</caption>\n",
       "<thead>\n",
       "\t<tr><th></th><th scope=col>gene</th><th scope=col>pip_sum</th><th scope=col>SNPs_selected</th></tr>\n",
       "\t<tr><th></th><th scope=col>&lt;chr&gt;</th><th scope=col>&lt;dbl&gt;</th><th scope=col>&lt;int&gt;</th></tr>\n",
       "</thead>\n",
       "<tbody>\n",
       "\t<tr><th scope=row>1</th><td>ENSG00000001460</td><td>2.000001</td><td>   4</td></tr>\n",
       "\t<tr><th scope=row>2</th><td>ENSG00000002016</td><td>1.999999</td><td>1806</td></tr>\n",
       "\t<tr><th scope=row>3</th><td>ENSG00000004534</td><td>1.017846</td><td>   1</td></tr>\n",
       "\t<tr><th scope=row>4</th><td>ENSG00000005801</td><td>1.999477</td><td>   3</td></tr>\n",
       "\t<tr><th scope=row>5</th><td>ENSG00000006007</td><td>1.028051</td><td>   6</td></tr>\n",
       "\t<tr><th scope=row>6</th><td>ENSG00000008018</td><td>1.207953</td><td>   3</td></tr>\n",
       "</tbody>\n",
       "</table>\n"
      ],
      "text/latex": [
       "A data.frame: 6 x 3\n",
       "\\begin{tabular}{r|lll}\n",
       "  & gene & pip\\_sum & SNPs\\_selected\\\\\n",
       "  & <chr> & <dbl> & <int>\\\\\n",
       "\\hline\n",
       "\t1 & ENSG00000001460 & 2.000001 &    4\\\\\n",
       "\t2 & ENSG00000002016 & 1.999999 & 1806\\\\\n",
       "\t3 & ENSG00000004534 & 1.017846 &    1\\\\\n",
       "\t4 & ENSG00000005801 & 1.999477 &    3\\\\\n",
       "\t5 & ENSG00000006007 & 1.028051 &    6\\\\\n",
       "\t6 & ENSG00000008018 & 1.207953 &    3\\\\\n",
       "\\end{tabular}\n"
      ],
      "text/markdown": [
       "\n",
       "A data.frame: 6 x 3\n",
       "\n",
       "| <!--/--> | gene &lt;chr&gt; | pip_sum &lt;dbl&gt; | SNPs_selected &lt;int&gt; |\n",
       "|---|---|---|---|\n",
       "| 1 | ENSG00000001460 | 2.000001 |    4 |\n",
       "| 2 | ENSG00000002016 | 1.999999 | 1806 |\n",
       "| 3 | ENSG00000004534 | 1.017846 |    1 |\n",
       "| 4 | ENSG00000005801 | 1.999477 |    3 |\n",
       "| 5 | ENSG00000006007 | 1.028051 |    6 |\n",
       "| 6 | ENSG00000008018 | 1.207953 |    3 |\n",
       "\n"
      ],
      "text/plain": [
       "  gene            pip_sum  SNPs_selected\n",
       "1 ENSG00000001460 2.000001    4         \n",
       "2 ENSG00000002016 1.999999 1806         \n",
       "3 ENSG00000004534 1.017846    1         \n",
       "4 ENSG00000005801 1.999477    3         \n",
       "5 ENSG00000006007 1.028051    6         \n",
       "6 ENSG00000008018 1.207953    3         "
      ]
     },
     "metadata": {},
     "output_type": "display_data"
    }
   ],
   "source": [
    "head(results)"
   ]
  },
  {
   "cell_type": "code",
   "execution_count": 19,
   "metadata": {},
   "outputs": [
    {
     "data": {
      "text/html": [
       "<table class=\"dataframe\">\n",
       "<caption>A data.frame: 6 x 4</caption>\n",
       "<thead>\n",
       "\t<tr><th></th><th scope=col>gene</th><th scope=col>pip_sum</th><th scope=col>SNPs_selected</th><th scope=col>num_snp</th></tr>\n",
       "\t<tr><th></th><th scope=col>&lt;chr&gt;</th><th scope=col>&lt;dbl&gt;</th><th scope=col>&lt;int&gt;</th><th scope=col>&lt;int&gt;</th></tr>\n",
       "</thead>\n",
       "<tbody>\n",
       "\t<tr><th scope=row>1</th><td>ENSG00000001460</td><td>2.000001</td><td>   4</td><td> 3</td></tr>\n",
       "\t<tr><th scope=row>2</th><td>ENSG00000002016</td><td>1.999999</td><td>1806</td><td> 3</td></tr>\n",
       "\t<tr><th scope=row>3</th><td>ENSG00000004534</td><td>1.017846</td><td>   1</td><td>56</td></tr>\n",
       "\t<tr><th scope=row>4</th><td>ENSG00000005801</td><td>1.999477</td><td>   3</td><td> 6</td></tr>\n",
       "\t<tr><th scope=row>5</th><td>ENSG00000006007</td><td>1.028051</td><td>   6</td><td>30</td></tr>\n",
       "\t<tr><th scope=row>6</th><td>ENSG00000008018</td><td>1.207953</td><td>   3</td><td> 2</td></tr>\n",
       "</tbody>\n",
       "</table>\n"
      ],
      "text/latex": [
       "A data.frame: 6 x 4\n",
       "\\begin{tabular}{r|llll}\n",
       "  & gene & pip\\_sum & SNPs\\_selected & num\\_snp\\\\\n",
       "  & <chr> & <dbl> & <int> & <int>\\\\\n",
       "\\hline\n",
       "\t1 & ENSG00000001460 & 2.000001 &    4 &  3\\\\\n",
       "\t2 & ENSG00000002016 & 1.999999 & 1806 &  3\\\\\n",
       "\t3 & ENSG00000004534 & 1.017846 &    1 & 56\\\\\n",
       "\t4 & ENSG00000005801 & 1.999477 &    3 &  6\\\\\n",
       "\t5 & ENSG00000006007 & 1.028051 &    6 & 30\\\\\n",
       "\t6 & ENSG00000008018 & 1.207953 &    3 &  2\\\\\n",
       "\\end{tabular}\n"
      ],
      "text/markdown": [
       "\n",
       "A data.frame: 6 x 4\n",
       "\n",
       "| <!--/--> | gene &lt;chr&gt; | pip_sum &lt;dbl&gt; | SNPs_selected &lt;int&gt; | num_snp &lt;int&gt; |\n",
       "|---|---|---|---|---|\n",
       "| 1 | ENSG00000001460 | 2.000001 |    4 |  3 |\n",
       "| 2 | ENSG00000002016 | 1.999999 | 1806 |  3 |\n",
       "| 3 | ENSG00000004534 | 1.017846 |    1 | 56 |\n",
       "| 4 | ENSG00000005801 | 1.999477 |    3 |  6 |\n",
       "| 5 | ENSG00000006007 | 1.028051 |    6 | 30 |\n",
       "| 6 | ENSG00000008018 | 1.207953 |    3 |  2 |\n",
       "\n"
      ],
      "text/plain": [
       "  gene            pip_sum  SNPs_selected num_snp\n",
       "1 ENSG00000001460 2.000001    4           3     \n",
       "2 ENSG00000002016 1.999999 1806           3     \n",
       "3 ENSG00000004534 1.017846    1          56     \n",
       "4 ENSG00000005801 1.999477    3           6     \n",
       "5 ENSG00000006007 1.028051    6          30     \n",
       "6 ENSG00000008018 1.207953    3           2     "
      ]
     },
     "metadata": {},
     "output_type": "display_data"
    }
   ],
   "source": [
    "susie_paintor <- results %>% left_join(susie_df, by = \"gene\")\n",
    "head(susie_paintor)"
   ]
  },
  {
   "cell_type": "code",
   "execution_count": 22,
   "metadata": {},
   "outputs": [
    {
     "data": {
      "text/html": [
       "<table class=\"dataframe\">\n",
       "<caption>A data.frame: 6 x 5</caption>\n",
       "<thead>\n",
       "\t<tr><th></th><th scope=col>RSID</th><th scope=col>ZSCORE.P1</th><th scope=col>ZSCORE.P2</th><th scope=col>ZSCORE.P3</th><th scope=col>Posterior_Prob</th></tr>\n",
       "\t<tr><th></th><th scope=col>&lt;chr&gt;</th><th scope=col>&lt;dbl&gt;</th><th scope=col>&lt;dbl&gt;</th><th scope=col>&lt;dbl&gt;</th><th scope=col>&lt;dbl&gt;</th></tr>\n",
       "</thead>\n",
       "<tbody>\n",
       "\t<tr><th scope=row>1</th><td>rs766560846 </td><td>10.464620</td><td>-6.433504</td><td>-4.582180</td><td>0.998715000</td></tr>\n",
       "\t<tr><th scope=row>2</th><td>rs77815052  </td><td> 9.994672</td><td>-6.171050</td><td> 3.892013</td><td>0.001525390</td></tr>\n",
       "\t<tr><th scope=row>3</th><td>rs1357448049</td><td>10.472351</td><td>-6.335019</td><td> 4.962198</td><td>0.000863346</td></tr>\n",
       "\t<tr><th scope=row>4</th><td>rs6800021   </td><td>-6.628765</td><td>-5.531002</td><td>-3.177771</td><td>0.000859789</td></tr>\n",
       "\t<tr><th scope=row>5</th><td>rs2526398   </td><td>-5.335061</td><td>-5.729787</td><td>-2.400133</td><td>0.000767296</td></tr>\n",
       "\t<tr><th scope=row>6</th><td>rs2526397   </td><td>-5.423457</td><td>-5.533604</td><td>-2.400133</td><td>0.000500102</td></tr>\n",
       "</tbody>\n",
       "</table>\n"
      ],
      "text/latex": [
       "A data.frame: 6 x 5\n",
       "\\begin{tabular}{r|lllll}\n",
       "  & RSID & ZSCORE.P1 & ZSCORE.P2 & ZSCORE.P3 & Posterior\\_Prob\\\\\n",
       "  & <chr> & <dbl> & <dbl> & <dbl> & <dbl>\\\\\n",
       "\\hline\n",
       "\t1 & rs766560846  & 10.464620 & -6.433504 & -4.582180 & 0.998715000\\\\\n",
       "\t2 & rs77815052   &  9.994672 & -6.171050 &  3.892013 & 0.001525390\\\\\n",
       "\t3 & rs1357448049 & 10.472351 & -6.335019 &  4.962198 & 0.000863346\\\\\n",
       "\t4 & rs6800021    & -6.628765 & -5.531002 & -3.177771 & 0.000859789\\\\\n",
       "\t5 & rs2526398    & -5.335061 & -5.729787 & -2.400133 & 0.000767296\\\\\n",
       "\t6 & rs2526397    & -5.423457 & -5.533604 & -2.400133 & 0.000500102\\\\\n",
       "\\end{tabular}\n"
      ],
      "text/markdown": [
       "\n",
       "A data.frame: 6 x 5\n",
       "\n",
       "| <!--/--> | RSID &lt;chr&gt; | ZSCORE.P1 &lt;dbl&gt; | ZSCORE.P2 &lt;dbl&gt; | ZSCORE.P3 &lt;dbl&gt; | Posterior_Prob &lt;dbl&gt; |\n",
       "|---|---|---|---|---|---|\n",
       "| 1 | rs766560846  | 10.464620 | -6.433504 | -4.582180 | 0.998715000 |\n",
       "| 2 | rs77815052   |  9.994672 | -6.171050 |  3.892013 | 0.001525390 |\n",
       "| 3 | rs1357448049 | 10.472351 | -6.335019 |  4.962198 | 0.000863346 |\n",
       "| 4 | rs6800021    | -6.628765 | -5.531002 | -3.177771 | 0.000859789 |\n",
       "| 5 | rs2526398    | -5.335061 | -5.729787 | -2.400133 | 0.000767296 |\n",
       "| 6 | rs2526397    | -5.423457 | -5.533604 | -2.400133 | 0.000500102 |\n",
       "\n"
      ],
      "text/plain": [
       "  RSID         ZSCORE.P1 ZSCORE.P2 ZSCORE.P3 Posterior_Prob\n",
       "1 rs766560846  10.464620 -6.433504 -4.582180 0.998715000   \n",
       "2 rs77815052    9.994672 -6.171050  3.892013 0.001525390   \n",
       "3 rs1357448049 10.472351 -6.335019  4.962198 0.000863346   \n",
       "4 rs6800021    -6.628765 -5.531002 -3.177771 0.000859789   \n",
       "5 rs2526398    -5.335061 -5.729787 -2.400133 0.000767296   \n",
       "6 rs2526397    -5.423457 -5.533604 -2.400133 0.000500102   "
      ]
     },
     "metadata": {},
     "output_type": "display_data"
    }
   ],
   "source": [
    "head(ENSG00000004534 %>% arrange(desc(Posterior_Prob)))"
   ]
  },
  {
   "cell_type": "code",
   "execution_count": 29,
   "metadata": {
    "scrolled": false
   },
   "outputs": [
    {
     "data": {
      "text/html": [
       "<table class=\"dataframe\">\n",
       "<caption>A data.frame: 25 x 17</caption>\n",
       "<thead>\n",
       "\t<tr><th scope=col>phenotype_id</th><th scope=col>variant_id</th><th scope=col>chr</th><th scope=col>pos</th><th scope=col>ref</th><th scope=col>alt</th><th scope=col>cs_id</th><th scope=col>cs_index</th><th scope=col>finemapped_region</th><th scope=col>pip</th><th scope=col>z</th><th scope=col>cs_min_r2</th><th scope=col>cs_avg_r2</th><th scope=col>cs_size</th><th scope=col>posterior_mean</th><th scope=col>posterior_sd</th><th scope=col>cs_log10bf</th></tr>\n",
       "\t<tr><th scope=col>&lt;chr&gt;</th><th scope=col>&lt;chr&gt;</th><th scope=col>&lt;int&gt;</th><th scope=col>&lt;int&gt;</th><th scope=col>&lt;chr&gt;</th><th scope=col>&lt;chr&gt;</th><th scope=col>&lt;chr&gt;</th><th scope=col>&lt;chr&gt;</th><th scope=col>&lt;chr&gt;</th><th scope=col>&lt;dbl&gt;</th><th scope=col>&lt;dbl&gt;</th><th scope=col>&lt;dbl&gt;</th><th scope=col>&lt;dbl&gt;</th><th scope=col>&lt;int&gt;</th><th scope=col>&lt;dbl&gt;</th><th scope=col>&lt;dbl&gt;</th><th scope=col>&lt;dbl&gt;</th></tr>\n",
       "</thead>\n",
       "<tbody>\n",
       "\t<tr><td>ENSG00000004534</td><td>chr3_49992778_A_AT       </td><td>3</td><td>49992778</td><td>A        </td><td>AT   </td><td>ENSG00000004534_L1</td><td>L1</td><td>chr3:48977439-50977439</td><td>0.01312212</td><td> 5.582607</td><td>0.5590934</td><td>0.8031798</td><td>25</td><td> 0.003410518</td><td>0.03005471</td><td>4.441471</td></tr>\n",
       "\t<tr><td>ENSG00000004534</td><td>chr3_49993319_A_G        </td><td>3</td><td>49993319</td><td>A        </td><td>G    </td><td>ENSG00000004534_L1</td><td>L1</td><td>chr3:48977439-50977439</td><td>0.01363937</td><td>-5.591171</td><td>0.5590934</td><td>0.8031798</td><td>25</td><td>-0.003562253</td><td>0.03078184</td><td>4.441471</td></tr>\n",
       "\t<tr><td>ENSG00000004534</td><td>chr3_49997963_G_A        </td><td>3</td><td>49997963</td><td>G        </td><td>A    </td><td>ENSG00000004534_L1</td><td>L1</td><td>chr3:48977439-50977439</td><td>0.01177777</td><td>-5.558645</td><td>0.5590934</td><td>0.8031798</td><td>25</td><td>-0.002984439</td><td>0.02778173</td><td>4.441471</td></tr>\n",
       "\t<tr><td>ENSG00000004534</td><td>chr3_50004209_G_A        </td><td>3</td><td>50004209</td><td>G        </td><td>A    </td><td>ENSG00000004534_L1</td><td>L1</td><td>chr3:48977439-50977439</td><td>0.01177777</td><td>-5.558645</td><td>0.5590934</td><td>0.8031798</td><td>25</td><td>-0.002984439</td><td>0.02778173</td><td>4.441471</td></tr>\n",
       "\t<tr><td>ENSG00000004534</td><td>chr3_50032699_T_TA       </td><td>3</td><td>50032699</td><td>T        </td><td>TA   </td><td>ENSG00000004534_L1</td><td>L1</td><td>chr3:48977439-50977439</td><td>0.12418248</td><td> 6.076218</td><td>0.5590934</td><td>0.8031798</td><td>25</td><td> 0.040458066</td><td>0.10915360</td><td>4.441471</td></tr>\n",
       "\t<tr><td>ENSG00000004534</td><td>chr3_50046064_G_A        </td><td>3</td><td>50046064</td><td>G        </td><td>A    </td><td>ENSG00000004534_L1</td><td>L1</td><td>chr3:48977439-50977439</td><td>0.03032318</td><td> 5.767511</td><td>0.5590934</td><td>0.8031798</td><td>25</td><td> 0.009450135</td><td>0.05427396</td><td>4.441471</td></tr>\n",
       "\t<tr><td>ENSG00000004534</td><td>chr3_50047404_C_T        </td><td>3</td><td>50047404</td><td>C        </td><td>T    </td><td>ENSG00000004534_L1</td><td>L1</td><td>chr3:48977439-50977439</td><td>0.03032318</td><td> 5.767511</td><td>0.5590934</td><td>0.8031798</td><td>25</td><td> 0.009450135</td><td>0.05427396</td><td>4.441471</td></tr>\n",
       "\t<tr><td>ENSG00000004534</td><td>chr3_50052729_C_G        </td><td>3</td><td>50052729</td><td>C        </td><td>G    </td><td>ENSG00000004534_L1</td><td>L1</td><td>chr3:48977439-50977439</td><td>0.01312212</td><td> 5.582607</td><td>0.5590934</td><td>0.8031798</td><td>25</td><td> 0.003410518</td><td>0.03005471</td><td>4.441471</td></tr>\n",
       "\t<tr><td>ENSG00000004534</td><td>chr3_50064424_G_A        </td><td>3</td><td>50064424</td><td>G        </td><td>A    </td><td>ENSG00000004534_L1</td><td>L1</td><td>chr3:48977439-50977439</td><td>0.02470431</td><td> 5.722391</td><td>0.5590934</td><td>0.8031798</td><td>25</td><td> 0.007631570</td><td>0.04870441</td><td>4.441471</td></tr>\n",
       "\t<tr><td>ENSG00000004534</td><td>chr3_50064867_T_C        </td><td>3</td><td>50064867</td><td>T        </td><td>C    </td><td>ENSG00000004534_L1</td><td>L1</td><td>chr3:48977439-50977439</td><td>0.08581114</td><td> 5.995535</td><td>0.5590934</td><td>0.8031798</td><td>25</td><td> 0.027608243</td><td>0.09151557</td><td>4.441471</td></tr>\n",
       "\t<tr><td>ENSG00000004534</td><td>chr3_50073046_C_T        </td><td>3</td><td>50073046</td><td>C        </td><td>T    </td><td>ENSG00000004534_L1</td><td>L1</td><td>chr3:48977439-50977439</td><td>0.01312212</td><td> 5.582607</td><td>0.5590934</td><td>0.8031798</td><td>25</td><td> 0.003410518</td><td>0.03005471</td><td>4.441471</td></tr>\n",
       "\t<tr><td>ENSG00000004534</td><td>chr3_50077804_G_A        </td><td>3</td><td>50077804</td><td>G        </td><td>A    </td><td>ENSG00000004534_L1</td><td>L1</td><td>chr3:48977439-50977439</td><td>0.01312212</td><td> 5.582607</td><td>0.5590934</td><td>0.8031798</td><td>25</td><td> 0.003410518</td><td>0.03005471</td><td>4.441471</td></tr>\n",
       "\t<tr><td>ENSG00000004534</td><td>chr3_50078541_C_T        </td><td>3</td><td>50078541</td><td>C        </td><td>T    </td><td>ENSG00000004534_L1</td><td>L1</td><td>chr3:48977439-50977439</td><td>0.01312212</td><td> 5.582607</td><td>0.5590934</td><td>0.8031798</td><td>25</td><td> 0.003410518</td><td>0.03005471</td><td>4.441471</td></tr>\n",
       "\t<tr><td>ENSG00000004534</td><td>chr3_50092226_G_A        </td><td>3</td><td>50092226</td><td>G        </td><td>A    </td><td>ENSG00000004534_L1</td><td>L1</td><td>chr3:48977439-50977439</td><td>0.08581114</td><td> 5.995535</td><td>0.5590934</td><td>0.8031798</td><td>25</td><td> 0.027608243</td><td>0.09151557</td><td>4.441471</td></tr>\n",
       "\t<tr><td>ENSG00000004534</td><td>chr3_50097319_C_A        </td><td>3</td><td>50097319</td><td>C        </td><td>A    </td><td>ENSG00000004534_L1</td><td>L1</td><td>chr3:48977439-50977439</td><td>0.08581114</td><td> 5.995535</td><td>0.5590934</td><td>0.8031798</td><td>25</td><td> 0.027608243</td><td>0.09151557</td><td>4.441471</td></tr>\n",
       "\t<tr><td>ENSG00000004534</td><td>chr3_50107512_G_A        </td><td>3</td><td>50107512</td><td>G        </td><td>A    </td><td>ENSG00000004534_L1</td><td>L1</td><td>chr3:48977439-50977439</td><td>0.01312212</td><td> 5.582607</td><td>0.5590934</td><td>0.8031798</td><td>25</td><td> 0.003410518</td><td>0.03005471</td><td>4.441471</td></tr>\n",
       "\t<tr><td>ENSG00000004534</td><td>chr3_50113034_A_G        </td><td>3</td><td>50113034</td><td>A        </td><td>G    </td><td>ENSG00000004534_L1</td><td>L1</td><td>chr3:48977439-50977439</td><td>0.08581114</td><td> 5.995535</td><td>0.5590934</td><td>0.8031798</td><td>25</td><td> 0.027608243</td><td>0.09151557</td><td>4.441471</td></tr>\n",
       "\t<tr><td>ENSG00000004534</td><td>chr3_50115245_G_A        </td><td>3</td><td>50115245</td><td>G        </td><td>A    </td><td>ENSG00000004534_L1</td><td>L1</td><td>chr3:48977439-50977439</td><td>0.01312212</td><td> 5.582607</td><td>0.5590934</td><td>0.8031798</td><td>25</td><td> 0.003410518</td><td>0.03005471</td><td>4.441471</td></tr>\n",
       "\t<tr><td>ENSG00000004534</td><td>chr3_50117312_T_G        </td><td>3</td><td>50117312</td><td>T        </td><td>G    </td><td>ENSG00000004534_L1</td><td>L1</td><td>chr3:48977439-50977439</td><td>0.03040868</td><td> 5.768130</td><td>0.5590934</td><td>0.8031798</td><td>25</td><td> 0.008371324</td><td>0.04800833</td><td>4.441471</td></tr>\n",
       "\t<tr><td>ENSG00000004534</td><td>chr3_50125996_G_A        </td><td>3</td><td>50125996</td><td>G        </td><td>A    </td><td>ENSG00000004534_L1</td><td>L1</td><td>chr3:48977439-50977439</td><td>0.01312212</td><td> 5.582607</td><td>0.5590934</td><td>0.8031798</td><td>25</td><td> 0.003410518</td><td>0.03005471</td><td>4.441471</td></tr>\n",
       "\t<tr><td>ENSG00000004534</td><td>chr3_50128893_A_G        </td><td>3</td><td>50128893</td><td>A        </td><td>G    </td><td>ENSG00000004534_L1</td><td>L1</td><td>chr3:48977439-50977439</td><td>0.03040868</td><td> 5.768130</td><td>0.5590934</td><td>0.8031798</td><td>25</td><td> 0.008371324</td><td>0.04800833</td><td>4.441471</td></tr>\n",
       "\t<tr><td>ENSG00000004534</td><td>chr3_50135699_ATTTTTATT_A</td><td>3</td><td>50135699</td><td>ATTTTTATT</td><td>A    </td><td>ENSG00000004534_L1</td><td>L1</td><td>chr3:48977439-50977439</td><td>0.08581114</td><td> 5.995535</td><td>0.5590934</td><td>0.8031798</td><td>25</td><td> 0.027608243</td><td>0.09151557</td><td>4.441471</td></tr>\n",
       "\t<tr><td>ENSG00000004534</td><td>chr3_50138580_C_CTAGT    </td><td>3</td><td>50138580</td><td>C        </td><td>CTAGT</td><td>ENSG00000004534_L1</td><td>L1</td><td>chr3:48977439-50977439</td><td>0.01177777</td><td>-5.558645</td><td>0.5590934</td><td>0.8031798</td><td>25</td><td>-0.002984439</td><td>0.02778173</td><td>4.441471</td></tr>\n",
       "\t<tr><td>ENSG00000004534</td><td>chr3_50146094_T_A        </td><td>3</td><td>50146094</td><td>T        </td><td>A    </td><td>ENSG00000004534_L1</td><td>L1</td><td>chr3:48977439-50977439</td><td>0.08581114</td><td> 5.995535</td><td>0.5590934</td><td>0.8031798</td><td>25</td><td> 0.027608243</td><td>0.09151557</td><td>4.441471</td></tr>\n",
       "\t<tr><td>ENSG00000004534</td><td>chr3_50148305_C_G        </td><td>3</td><td>50148305</td><td>C        </td><td>G    </td><td>ENSG00000004534_L1</td><td>L1</td><td>chr3:48977439-50977439</td><td>0.01312212</td><td> 5.582607</td><td>0.5590934</td><td>0.8031798</td><td>25</td><td> 0.003410518</td><td>0.03005471</td><td>4.441471</td></tr>\n",
       "</tbody>\n",
       "</table>\n"
      ],
      "text/latex": [
       "A data.frame: 25 x 17\n",
       "\\begin{tabular}{lllllllllllllllll}\n",
       " phenotype\\_id & variant\\_id & chr & pos & ref & alt & cs\\_id & cs\\_index & finemapped\\_region & pip & z & cs\\_min\\_r2 & cs\\_avg\\_r2 & cs\\_size & posterior\\_mean & posterior\\_sd & cs\\_log10bf\\\\\n",
       " <chr> & <chr> & <int> & <int> & <chr> & <chr> & <chr> & <chr> & <chr> & <dbl> & <dbl> & <dbl> & <dbl> & <int> & <dbl> & <dbl> & <dbl>\\\\\n",
       "\\hline\n",
       "\t ENSG00000004534 & chr3\\_49992778\\_A\\_AT        & 3 & 49992778 & A         & AT    & ENSG00000004534\\_L1 & L1 & chr3:48977439-50977439 & 0.01312212 &  5.582607 & 0.5590934 & 0.8031798 & 25 &  0.003410518 & 0.03005471 & 4.441471\\\\\n",
       "\t ENSG00000004534 & chr3\\_49993319\\_A\\_G         & 3 & 49993319 & A         & G     & ENSG00000004534\\_L1 & L1 & chr3:48977439-50977439 & 0.01363937 & -5.591171 & 0.5590934 & 0.8031798 & 25 & -0.003562253 & 0.03078184 & 4.441471\\\\\n",
       "\t ENSG00000004534 & chr3\\_49997963\\_G\\_A         & 3 & 49997963 & G         & A     & ENSG00000004534\\_L1 & L1 & chr3:48977439-50977439 & 0.01177777 & -5.558645 & 0.5590934 & 0.8031798 & 25 & -0.002984439 & 0.02778173 & 4.441471\\\\\n",
       "\t ENSG00000004534 & chr3\\_50004209\\_G\\_A         & 3 & 50004209 & G         & A     & ENSG00000004534\\_L1 & L1 & chr3:48977439-50977439 & 0.01177777 & -5.558645 & 0.5590934 & 0.8031798 & 25 & -0.002984439 & 0.02778173 & 4.441471\\\\\n",
       "\t ENSG00000004534 & chr3\\_50032699\\_T\\_TA        & 3 & 50032699 & T         & TA    & ENSG00000004534\\_L1 & L1 & chr3:48977439-50977439 & 0.12418248 &  6.076218 & 0.5590934 & 0.8031798 & 25 &  0.040458066 & 0.10915360 & 4.441471\\\\\n",
       "\t ENSG00000004534 & chr3\\_50046064\\_G\\_A         & 3 & 50046064 & G         & A     & ENSG00000004534\\_L1 & L1 & chr3:48977439-50977439 & 0.03032318 &  5.767511 & 0.5590934 & 0.8031798 & 25 &  0.009450135 & 0.05427396 & 4.441471\\\\\n",
       "\t ENSG00000004534 & chr3\\_50047404\\_C\\_T         & 3 & 50047404 & C         & T     & ENSG00000004534\\_L1 & L1 & chr3:48977439-50977439 & 0.03032318 &  5.767511 & 0.5590934 & 0.8031798 & 25 &  0.009450135 & 0.05427396 & 4.441471\\\\\n",
       "\t ENSG00000004534 & chr3\\_50052729\\_C\\_G         & 3 & 50052729 & C         & G     & ENSG00000004534\\_L1 & L1 & chr3:48977439-50977439 & 0.01312212 &  5.582607 & 0.5590934 & 0.8031798 & 25 &  0.003410518 & 0.03005471 & 4.441471\\\\\n",
       "\t ENSG00000004534 & chr3\\_50064424\\_G\\_A         & 3 & 50064424 & G         & A     & ENSG00000004534\\_L1 & L1 & chr3:48977439-50977439 & 0.02470431 &  5.722391 & 0.5590934 & 0.8031798 & 25 &  0.007631570 & 0.04870441 & 4.441471\\\\\n",
       "\t ENSG00000004534 & chr3\\_50064867\\_T\\_C         & 3 & 50064867 & T         & C     & ENSG00000004534\\_L1 & L1 & chr3:48977439-50977439 & 0.08581114 &  5.995535 & 0.5590934 & 0.8031798 & 25 &  0.027608243 & 0.09151557 & 4.441471\\\\\n",
       "\t ENSG00000004534 & chr3\\_50073046\\_C\\_T         & 3 & 50073046 & C         & T     & ENSG00000004534\\_L1 & L1 & chr3:48977439-50977439 & 0.01312212 &  5.582607 & 0.5590934 & 0.8031798 & 25 &  0.003410518 & 0.03005471 & 4.441471\\\\\n",
       "\t ENSG00000004534 & chr3\\_50077804\\_G\\_A         & 3 & 50077804 & G         & A     & ENSG00000004534\\_L1 & L1 & chr3:48977439-50977439 & 0.01312212 &  5.582607 & 0.5590934 & 0.8031798 & 25 &  0.003410518 & 0.03005471 & 4.441471\\\\\n",
       "\t ENSG00000004534 & chr3\\_50078541\\_C\\_T         & 3 & 50078541 & C         & T     & ENSG00000004534\\_L1 & L1 & chr3:48977439-50977439 & 0.01312212 &  5.582607 & 0.5590934 & 0.8031798 & 25 &  0.003410518 & 0.03005471 & 4.441471\\\\\n",
       "\t ENSG00000004534 & chr3\\_50092226\\_G\\_A         & 3 & 50092226 & G         & A     & ENSG00000004534\\_L1 & L1 & chr3:48977439-50977439 & 0.08581114 &  5.995535 & 0.5590934 & 0.8031798 & 25 &  0.027608243 & 0.09151557 & 4.441471\\\\\n",
       "\t ENSG00000004534 & chr3\\_50097319\\_C\\_A         & 3 & 50097319 & C         & A     & ENSG00000004534\\_L1 & L1 & chr3:48977439-50977439 & 0.08581114 &  5.995535 & 0.5590934 & 0.8031798 & 25 &  0.027608243 & 0.09151557 & 4.441471\\\\\n",
       "\t ENSG00000004534 & chr3\\_50107512\\_G\\_A         & 3 & 50107512 & G         & A     & ENSG00000004534\\_L1 & L1 & chr3:48977439-50977439 & 0.01312212 &  5.582607 & 0.5590934 & 0.8031798 & 25 &  0.003410518 & 0.03005471 & 4.441471\\\\\n",
       "\t ENSG00000004534 & chr3\\_50113034\\_A\\_G         & 3 & 50113034 & A         & G     & ENSG00000004534\\_L1 & L1 & chr3:48977439-50977439 & 0.08581114 &  5.995535 & 0.5590934 & 0.8031798 & 25 &  0.027608243 & 0.09151557 & 4.441471\\\\\n",
       "\t ENSG00000004534 & chr3\\_50115245\\_G\\_A         & 3 & 50115245 & G         & A     & ENSG00000004534\\_L1 & L1 & chr3:48977439-50977439 & 0.01312212 &  5.582607 & 0.5590934 & 0.8031798 & 25 &  0.003410518 & 0.03005471 & 4.441471\\\\\n",
       "\t ENSG00000004534 & chr3\\_50117312\\_T\\_G         & 3 & 50117312 & T         & G     & ENSG00000004534\\_L1 & L1 & chr3:48977439-50977439 & 0.03040868 &  5.768130 & 0.5590934 & 0.8031798 & 25 &  0.008371324 & 0.04800833 & 4.441471\\\\\n",
       "\t ENSG00000004534 & chr3\\_50125996\\_G\\_A         & 3 & 50125996 & G         & A     & ENSG00000004534\\_L1 & L1 & chr3:48977439-50977439 & 0.01312212 &  5.582607 & 0.5590934 & 0.8031798 & 25 &  0.003410518 & 0.03005471 & 4.441471\\\\\n",
       "\t ENSG00000004534 & chr3\\_50128893\\_A\\_G         & 3 & 50128893 & A         & G     & ENSG00000004534\\_L1 & L1 & chr3:48977439-50977439 & 0.03040868 &  5.768130 & 0.5590934 & 0.8031798 & 25 &  0.008371324 & 0.04800833 & 4.441471\\\\\n",
       "\t ENSG00000004534 & chr3\\_50135699\\_ATTTTTATT\\_A & 3 & 50135699 & ATTTTTATT & A     & ENSG00000004534\\_L1 & L1 & chr3:48977439-50977439 & 0.08581114 &  5.995535 & 0.5590934 & 0.8031798 & 25 &  0.027608243 & 0.09151557 & 4.441471\\\\\n",
       "\t ENSG00000004534 & chr3\\_50138580\\_C\\_CTAGT     & 3 & 50138580 & C         & CTAGT & ENSG00000004534\\_L1 & L1 & chr3:48977439-50977439 & 0.01177777 & -5.558645 & 0.5590934 & 0.8031798 & 25 & -0.002984439 & 0.02778173 & 4.441471\\\\\n",
       "\t ENSG00000004534 & chr3\\_50146094\\_T\\_A         & 3 & 50146094 & T         & A     & ENSG00000004534\\_L1 & L1 & chr3:48977439-50977439 & 0.08581114 &  5.995535 & 0.5590934 & 0.8031798 & 25 &  0.027608243 & 0.09151557 & 4.441471\\\\\n",
       "\t ENSG00000004534 & chr3\\_50148305\\_C\\_G         & 3 & 50148305 & C         & G     & ENSG00000004534\\_L1 & L1 & chr3:48977439-50977439 & 0.01312212 &  5.582607 & 0.5590934 & 0.8031798 & 25 &  0.003410518 & 0.03005471 & 4.441471\\\\\n",
       "\\end{tabular}\n"
      ],
      "text/markdown": [
       "\n",
       "A data.frame: 25 x 17\n",
       "\n",
       "| phenotype_id &lt;chr&gt; | variant_id &lt;chr&gt; | chr &lt;int&gt; | pos &lt;int&gt; | ref &lt;chr&gt; | alt &lt;chr&gt; | cs_id &lt;chr&gt; | cs_index &lt;chr&gt; | finemapped_region &lt;chr&gt; | pip &lt;dbl&gt; | z &lt;dbl&gt; | cs_min_r2 &lt;dbl&gt; | cs_avg_r2 &lt;dbl&gt; | cs_size &lt;int&gt; | posterior_mean &lt;dbl&gt; | posterior_sd &lt;dbl&gt; | cs_log10bf &lt;dbl&gt; |\n",
       "|---|---|---|---|---|---|---|---|---|---|---|---|---|---|---|---|---|\n",
       "| ENSG00000004534 | chr3_49992778_A_AT        | 3 | 49992778 | A         | AT    | ENSG00000004534_L1 | L1 | chr3:48977439-50977439 | 0.01312212 |  5.582607 | 0.5590934 | 0.8031798 | 25 |  0.003410518 | 0.03005471 | 4.441471 |\n",
       "| ENSG00000004534 | chr3_49993319_A_G         | 3 | 49993319 | A         | G     | ENSG00000004534_L1 | L1 | chr3:48977439-50977439 | 0.01363937 | -5.591171 | 0.5590934 | 0.8031798 | 25 | -0.003562253 | 0.03078184 | 4.441471 |\n",
       "| ENSG00000004534 | chr3_49997963_G_A         | 3 | 49997963 | G         | A     | ENSG00000004534_L1 | L1 | chr3:48977439-50977439 | 0.01177777 | -5.558645 | 0.5590934 | 0.8031798 | 25 | -0.002984439 | 0.02778173 | 4.441471 |\n",
       "| ENSG00000004534 | chr3_50004209_G_A         | 3 | 50004209 | G         | A     | ENSG00000004534_L1 | L1 | chr3:48977439-50977439 | 0.01177777 | -5.558645 | 0.5590934 | 0.8031798 | 25 | -0.002984439 | 0.02778173 | 4.441471 |\n",
       "| ENSG00000004534 | chr3_50032699_T_TA        | 3 | 50032699 | T         | TA    | ENSG00000004534_L1 | L1 | chr3:48977439-50977439 | 0.12418248 |  6.076218 | 0.5590934 | 0.8031798 | 25 |  0.040458066 | 0.10915360 | 4.441471 |\n",
       "| ENSG00000004534 | chr3_50046064_G_A         | 3 | 50046064 | G         | A     | ENSG00000004534_L1 | L1 | chr3:48977439-50977439 | 0.03032318 |  5.767511 | 0.5590934 | 0.8031798 | 25 |  0.009450135 | 0.05427396 | 4.441471 |\n",
       "| ENSG00000004534 | chr3_50047404_C_T         | 3 | 50047404 | C         | T     | ENSG00000004534_L1 | L1 | chr3:48977439-50977439 | 0.03032318 |  5.767511 | 0.5590934 | 0.8031798 | 25 |  0.009450135 | 0.05427396 | 4.441471 |\n",
       "| ENSG00000004534 | chr3_50052729_C_G         | 3 | 50052729 | C         | G     | ENSG00000004534_L1 | L1 | chr3:48977439-50977439 | 0.01312212 |  5.582607 | 0.5590934 | 0.8031798 | 25 |  0.003410518 | 0.03005471 | 4.441471 |\n",
       "| ENSG00000004534 | chr3_50064424_G_A         | 3 | 50064424 | G         | A     | ENSG00000004534_L1 | L1 | chr3:48977439-50977439 | 0.02470431 |  5.722391 | 0.5590934 | 0.8031798 | 25 |  0.007631570 | 0.04870441 | 4.441471 |\n",
       "| ENSG00000004534 | chr3_50064867_T_C         | 3 | 50064867 | T         | C     | ENSG00000004534_L1 | L1 | chr3:48977439-50977439 | 0.08581114 |  5.995535 | 0.5590934 | 0.8031798 | 25 |  0.027608243 | 0.09151557 | 4.441471 |\n",
       "| ENSG00000004534 | chr3_50073046_C_T         | 3 | 50073046 | C         | T     | ENSG00000004534_L1 | L1 | chr3:48977439-50977439 | 0.01312212 |  5.582607 | 0.5590934 | 0.8031798 | 25 |  0.003410518 | 0.03005471 | 4.441471 |\n",
       "| ENSG00000004534 | chr3_50077804_G_A         | 3 | 50077804 | G         | A     | ENSG00000004534_L1 | L1 | chr3:48977439-50977439 | 0.01312212 |  5.582607 | 0.5590934 | 0.8031798 | 25 |  0.003410518 | 0.03005471 | 4.441471 |\n",
       "| ENSG00000004534 | chr3_50078541_C_T         | 3 | 50078541 | C         | T     | ENSG00000004534_L1 | L1 | chr3:48977439-50977439 | 0.01312212 |  5.582607 | 0.5590934 | 0.8031798 | 25 |  0.003410518 | 0.03005471 | 4.441471 |\n",
       "| ENSG00000004534 | chr3_50092226_G_A         | 3 | 50092226 | G         | A     | ENSG00000004534_L1 | L1 | chr3:48977439-50977439 | 0.08581114 |  5.995535 | 0.5590934 | 0.8031798 | 25 |  0.027608243 | 0.09151557 | 4.441471 |\n",
       "| ENSG00000004534 | chr3_50097319_C_A         | 3 | 50097319 | C         | A     | ENSG00000004534_L1 | L1 | chr3:48977439-50977439 | 0.08581114 |  5.995535 | 0.5590934 | 0.8031798 | 25 |  0.027608243 | 0.09151557 | 4.441471 |\n",
       "| ENSG00000004534 | chr3_50107512_G_A         | 3 | 50107512 | G         | A     | ENSG00000004534_L1 | L1 | chr3:48977439-50977439 | 0.01312212 |  5.582607 | 0.5590934 | 0.8031798 | 25 |  0.003410518 | 0.03005471 | 4.441471 |\n",
       "| ENSG00000004534 | chr3_50113034_A_G         | 3 | 50113034 | A         | G     | ENSG00000004534_L1 | L1 | chr3:48977439-50977439 | 0.08581114 |  5.995535 | 0.5590934 | 0.8031798 | 25 |  0.027608243 | 0.09151557 | 4.441471 |\n",
       "| ENSG00000004534 | chr3_50115245_G_A         | 3 | 50115245 | G         | A     | ENSG00000004534_L1 | L1 | chr3:48977439-50977439 | 0.01312212 |  5.582607 | 0.5590934 | 0.8031798 | 25 |  0.003410518 | 0.03005471 | 4.441471 |\n",
       "| ENSG00000004534 | chr3_50117312_T_G         | 3 | 50117312 | T         | G     | ENSG00000004534_L1 | L1 | chr3:48977439-50977439 | 0.03040868 |  5.768130 | 0.5590934 | 0.8031798 | 25 |  0.008371324 | 0.04800833 | 4.441471 |\n",
       "| ENSG00000004534 | chr3_50125996_G_A         | 3 | 50125996 | G         | A     | ENSG00000004534_L1 | L1 | chr3:48977439-50977439 | 0.01312212 |  5.582607 | 0.5590934 | 0.8031798 | 25 |  0.003410518 | 0.03005471 | 4.441471 |\n",
       "| ENSG00000004534 | chr3_50128893_A_G         | 3 | 50128893 | A         | G     | ENSG00000004534_L1 | L1 | chr3:48977439-50977439 | 0.03040868 |  5.768130 | 0.5590934 | 0.8031798 | 25 |  0.008371324 | 0.04800833 | 4.441471 |\n",
       "| ENSG00000004534 | chr3_50135699_ATTTTTATT_A | 3 | 50135699 | ATTTTTATT | A     | ENSG00000004534_L1 | L1 | chr3:48977439-50977439 | 0.08581114 |  5.995535 | 0.5590934 | 0.8031798 | 25 |  0.027608243 | 0.09151557 | 4.441471 |\n",
       "| ENSG00000004534 | chr3_50138580_C_CTAGT     | 3 | 50138580 | C         | CTAGT | ENSG00000004534_L1 | L1 | chr3:48977439-50977439 | 0.01177777 | -5.558645 | 0.5590934 | 0.8031798 | 25 | -0.002984439 | 0.02778173 | 4.441471 |\n",
       "| ENSG00000004534 | chr3_50146094_T_A         | 3 | 50146094 | T         | A     | ENSG00000004534_L1 | L1 | chr3:48977439-50977439 | 0.08581114 |  5.995535 | 0.5590934 | 0.8031798 | 25 |  0.027608243 | 0.09151557 | 4.441471 |\n",
       "| ENSG00000004534 | chr3_50148305_C_G         | 3 | 50148305 | C         | G     | ENSG00000004534_L1 | L1 | chr3:48977439-50977439 | 0.01312212 |  5.582607 | 0.5590934 | 0.8031798 | 25 |  0.003410518 | 0.03005471 | 4.441471 |\n",
       "\n"
      ],
      "text/plain": [
       "   phenotype_id    variant_id                chr pos      ref       alt  \n",
       "1  ENSG00000004534 chr3_49992778_A_AT        3   49992778 A         AT   \n",
       "2  ENSG00000004534 chr3_49993319_A_G         3   49993319 A         G    \n",
       "3  ENSG00000004534 chr3_49997963_G_A         3   49997963 G         A    \n",
       "4  ENSG00000004534 chr3_50004209_G_A         3   50004209 G         A    \n",
       "5  ENSG00000004534 chr3_50032699_T_TA        3   50032699 T         TA   \n",
       "6  ENSG00000004534 chr3_50046064_G_A         3   50046064 G         A    \n",
       "7  ENSG00000004534 chr3_50047404_C_T         3   50047404 C         T    \n",
       "8  ENSG00000004534 chr3_50052729_C_G         3   50052729 C         G    \n",
       "9  ENSG00000004534 chr3_50064424_G_A         3   50064424 G         A    \n",
       "10 ENSG00000004534 chr3_50064867_T_C         3   50064867 T         C    \n",
       "11 ENSG00000004534 chr3_50073046_C_T         3   50073046 C         T    \n",
       "12 ENSG00000004534 chr3_50077804_G_A         3   50077804 G         A    \n",
       "13 ENSG00000004534 chr3_50078541_C_T         3   50078541 C         T    \n",
       "14 ENSG00000004534 chr3_50092226_G_A         3   50092226 G         A    \n",
       "15 ENSG00000004534 chr3_50097319_C_A         3   50097319 C         A    \n",
       "16 ENSG00000004534 chr3_50107512_G_A         3   50107512 G         A    \n",
       "17 ENSG00000004534 chr3_50113034_A_G         3   50113034 A         G    \n",
       "18 ENSG00000004534 chr3_50115245_G_A         3   50115245 G         A    \n",
       "19 ENSG00000004534 chr3_50117312_T_G         3   50117312 T         G    \n",
       "20 ENSG00000004534 chr3_50125996_G_A         3   50125996 G         A    \n",
       "21 ENSG00000004534 chr3_50128893_A_G         3   50128893 A         G    \n",
       "22 ENSG00000004534 chr3_50135699_ATTTTTATT_A 3   50135699 ATTTTTATT A    \n",
       "23 ENSG00000004534 chr3_50138580_C_CTAGT     3   50138580 C         CTAGT\n",
       "24 ENSG00000004534 chr3_50146094_T_A         3   50146094 T         A    \n",
       "25 ENSG00000004534 chr3_50148305_C_G         3   50148305 C         G    \n",
       "   cs_id              cs_index finemapped_region      pip        z        \n",
       "1  ENSG00000004534_L1 L1       chr3:48977439-50977439 0.01312212  5.582607\n",
       "2  ENSG00000004534_L1 L1       chr3:48977439-50977439 0.01363937 -5.591171\n",
       "3  ENSG00000004534_L1 L1       chr3:48977439-50977439 0.01177777 -5.558645\n",
       "4  ENSG00000004534_L1 L1       chr3:48977439-50977439 0.01177777 -5.558645\n",
       "5  ENSG00000004534_L1 L1       chr3:48977439-50977439 0.12418248  6.076218\n",
       "6  ENSG00000004534_L1 L1       chr3:48977439-50977439 0.03032318  5.767511\n",
       "7  ENSG00000004534_L1 L1       chr3:48977439-50977439 0.03032318  5.767511\n",
       "8  ENSG00000004534_L1 L1       chr3:48977439-50977439 0.01312212  5.582607\n",
       "9  ENSG00000004534_L1 L1       chr3:48977439-50977439 0.02470431  5.722391\n",
       "10 ENSG00000004534_L1 L1       chr3:48977439-50977439 0.08581114  5.995535\n",
       "11 ENSG00000004534_L1 L1       chr3:48977439-50977439 0.01312212  5.582607\n",
       "12 ENSG00000004534_L1 L1       chr3:48977439-50977439 0.01312212  5.582607\n",
       "13 ENSG00000004534_L1 L1       chr3:48977439-50977439 0.01312212  5.582607\n",
       "14 ENSG00000004534_L1 L1       chr3:48977439-50977439 0.08581114  5.995535\n",
       "15 ENSG00000004534_L1 L1       chr3:48977439-50977439 0.08581114  5.995535\n",
       "16 ENSG00000004534_L1 L1       chr3:48977439-50977439 0.01312212  5.582607\n",
       "17 ENSG00000004534_L1 L1       chr3:48977439-50977439 0.08581114  5.995535\n",
       "18 ENSG00000004534_L1 L1       chr3:48977439-50977439 0.01312212  5.582607\n",
       "19 ENSG00000004534_L1 L1       chr3:48977439-50977439 0.03040868  5.768130\n",
       "20 ENSG00000004534_L1 L1       chr3:48977439-50977439 0.01312212  5.582607\n",
       "21 ENSG00000004534_L1 L1       chr3:48977439-50977439 0.03040868  5.768130\n",
       "22 ENSG00000004534_L1 L1       chr3:48977439-50977439 0.08581114  5.995535\n",
       "23 ENSG00000004534_L1 L1       chr3:48977439-50977439 0.01177777 -5.558645\n",
       "24 ENSG00000004534_L1 L1       chr3:48977439-50977439 0.08581114  5.995535\n",
       "25 ENSG00000004534_L1 L1       chr3:48977439-50977439 0.01312212  5.582607\n",
       "   cs_min_r2 cs_avg_r2 cs_size posterior_mean posterior_sd cs_log10bf\n",
       "1  0.5590934 0.8031798 25       0.003410518   0.03005471   4.441471  \n",
       "2  0.5590934 0.8031798 25      -0.003562253   0.03078184   4.441471  \n",
       "3  0.5590934 0.8031798 25      -0.002984439   0.02778173   4.441471  \n",
       "4  0.5590934 0.8031798 25      -0.002984439   0.02778173   4.441471  \n",
       "5  0.5590934 0.8031798 25       0.040458066   0.10915360   4.441471  \n",
       "6  0.5590934 0.8031798 25       0.009450135   0.05427396   4.441471  \n",
       "7  0.5590934 0.8031798 25       0.009450135   0.05427396   4.441471  \n",
       "8  0.5590934 0.8031798 25       0.003410518   0.03005471   4.441471  \n",
       "9  0.5590934 0.8031798 25       0.007631570   0.04870441   4.441471  \n",
       "10 0.5590934 0.8031798 25       0.027608243   0.09151557   4.441471  \n",
       "11 0.5590934 0.8031798 25       0.003410518   0.03005471   4.441471  \n",
       "12 0.5590934 0.8031798 25       0.003410518   0.03005471   4.441471  \n",
       "13 0.5590934 0.8031798 25       0.003410518   0.03005471   4.441471  \n",
       "14 0.5590934 0.8031798 25       0.027608243   0.09151557   4.441471  \n",
       "15 0.5590934 0.8031798 25       0.027608243   0.09151557   4.441471  \n",
       "16 0.5590934 0.8031798 25       0.003410518   0.03005471   4.441471  \n",
       "17 0.5590934 0.8031798 25       0.027608243   0.09151557   4.441471  \n",
       "18 0.5590934 0.8031798 25       0.003410518   0.03005471   4.441471  \n",
       "19 0.5590934 0.8031798 25       0.008371324   0.04800833   4.441471  \n",
       "20 0.5590934 0.8031798 25       0.003410518   0.03005471   4.441471  \n",
       "21 0.5590934 0.8031798 25       0.008371324   0.04800833   4.441471  \n",
       "22 0.5590934 0.8031798 25       0.027608243   0.09151557   4.441471  \n",
       "23 0.5590934 0.8031798 25      -0.002984439   0.02778173   4.441471  \n",
       "24 0.5590934 0.8031798 25       0.027608243   0.09151557   4.441471  \n",
       "25 0.5590934 0.8031798 25       0.003410518   0.03005471   4.441471  "
      ]
     },
     "metadata": {},
     "output_type": "display_data"
    }
   ],
   "source": [
    "susie_afr %>% filter(phenotype_id == \"ENSG00000004534\") %>% arrange(variant_id)"
   ]
  },
  {
   "cell_type": "code",
   "execution_count": 30,
   "metadata": {},
   "outputs": [
    {
     "name": "stderr",
     "output_type": "stream",
     "text": [
      "Warning message in melt(susie_paintor1):\n",
      "“The melt generic in data.table has been passed a data.frame and will attempt to redirect to the relevant reshape2 method; please note that reshape2 is deprecated, and this redirection is now deprecated as well. To continue using melt methods from reshape2 while both libraries are attached, e.g. melt.list, you can prepend the namespace like reshape2::melt(susie_paintor1). In the next version, this warning will become an error.”\n",
      "Using gene as id variables\n",
      "\n"
     ]
    }
   ],
   "source": [
    "susie_paintor1 <- susie_paintor[,-2]\n",
    "susie_paintor1 <- melt(susie_paintor1)"
   ]
  },
  {
   "cell_type": "code",
   "execution_count": 31,
   "metadata": {},
   "outputs": [
    {
     "data": {
      "text/html": [
       "<table class=\"dataframe\">\n",
       "<caption>A data.frame: 6 x 3</caption>\n",
       "<thead>\n",
       "\t<tr><th></th><th scope=col>gene</th><th scope=col>variable</th><th scope=col>value</th></tr>\n",
       "\t<tr><th></th><th scope=col>&lt;chr&gt;</th><th scope=col>&lt;fct&gt;</th><th scope=col>&lt;int&gt;</th></tr>\n",
       "</thead>\n",
       "<tbody>\n",
       "\t<tr><th scope=row>1</th><td>ENSG00000001460</td><td>SNPs_selected</td><td>   4</td></tr>\n",
       "\t<tr><th scope=row>2</th><td>ENSG00000002016</td><td>SNPs_selected</td><td>1806</td></tr>\n",
       "\t<tr><th scope=row>3</th><td>ENSG00000004534</td><td>SNPs_selected</td><td>   1</td></tr>\n",
       "\t<tr><th scope=row>4</th><td>ENSG00000005801</td><td>SNPs_selected</td><td>   3</td></tr>\n",
       "\t<tr><th scope=row>5</th><td>ENSG00000006007</td><td>SNPs_selected</td><td>   6</td></tr>\n",
       "\t<tr><th scope=row>6</th><td>ENSG00000008018</td><td>SNPs_selected</td><td>   3</td></tr>\n",
       "</tbody>\n",
       "</table>\n"
      ],
      "text/latex": [
       "A data.frame: 6 x 3\n",
       "\\begin{tabular}{r|lll}\n",
       "  & gene & variable & value\\\\\n",
       "  & <chr> & <fct> & <int>\\\\\n",
       "\\hline\n",
       "\t1 & ENSG00000001460 & SNPs\\_selected &    4\\\\\n",
       "\t2 & ENSG00000002016 & SNPs\\_selected & 1806\\\\\n",
       "\t3 & ENSG00000004534 & SNPs\\_selected &    1\\\\\n",
       "\t4 & ENSG00000005801 & SNPs\\_selected &    3\\\\\n",
       "\t5 & ENSG00000006007 & SNPs\\_selected &    6\\\\\n",
       "\t6 & ENSG00000008018 & SNPs\\_selected &    3\\\\\n",
       "\\end{tabular}\n"
      ],
      "text/markdown": [
       "\n",
       "A data.frame: 6 x 3\n",
       "\n",
       "| <!--/--> | gene &lt;chr&gt; | variable &lt;fct&gt; | value &lt;int&gt; |\n",
       "|---|---|---|---|\n",
       "| 1 | ENSG00000001460 | SNPs_selected |    4 |\n",
       "| 2 | ENSG00000002016 | SNPs_selected | 1806 |\n",
       "| 3 | ENSG00000004534 | SNPs_selected |    1 |\n",
       "| 4 | ENSG00000005801 | SNPs_selected |    3 |\n",
       "| 5 | ENSG00000006007 | SNPs_selected |    6 |\n",
       "| 6 | ENSG00000008018 | SNPs_selected |    3 |\n",
       "\n"
      ],
      "text/plain": [
       "  gene            variable      value\n",
       "1 ENSG00000001460 SNPs_selected    4 \n",
       "2 ENSG00000002016 SNPs_selected 1806 \n",
       "3 ENSG00000004534 SNPs_selected    1 \n",
       "4 ENSG00000005801 SNPs_selected    3 \n",
       "5 ENSG00000006007 SNPs_selected    6 \n",
       "6 ENSG00000008018 SNPs_selected    3 "
      ]
     },
     "metadata": {},
     "output_type": "display_data"
    }
   ],
   "source": [
    "head(susie_paintor1)"
   ]
  },
  {
   "cell_type": "code",
   "execution_count": 32,
   "metadata": {},
   "outputs": [
    {
     "data": {
      "text/plain": [
       "\n",
       "SNPs_selected       num_snp \n",
       "          986           986 "
      ]
     },
     "metadata": {},
     "output_type": "display_data"
    }
   ],
   "source": [
    "table(susie_paintor1$variable)"
   ]
  },
  {
   "cell_type": "code",
   "execution_count": 33,
   "metadata": {},
   "outputs": [
    {
     "data": {
      "text/html": [
       "<table class=\"dataframe\">\n",
       "<caption>A data.frame: 6 x 4</caption>\n",
       "<thead>\n",
       "\t<tr><th></th><th scope=col>gene</th><th scope=col>pip_sum</th><th scope=col>SNPs_selected</th><th scope=col>num_snp</th></tr>\n",
       "\t<tr><th></th><th scope=col>&lt;chr&gt;</th><th scope=col>&lt;dbl&gt;</th><th scope=col>&lt;int&gt;</th><th scope=col>&lt;int&gt;</th></tr>\n",
       "</thead>\n",
       "<tbody>\n",
       "\t<tr><th scope=row>1</th><td>ENSG00000001460</td><td>2.000001</td><td>   4</td><td> 3</td></tr>\n",
       "\t<tr><th scope=row>2</th><td>ENSG00000002016</td><td>1.999999</td><td>1806</td><td> 3</td></tr>\n",
       "\t<tr><th scope=row>3</th><td>ENSG00000004534</td><td>1.017846</td><td>   1</td><td>56</td></tr>\n",
       "\t<tr><th scope=row>4</th><td>ENSG00000005801</td><td>1.999477</td><td>   3</td><td> 6</td></tr>\n",
       "\t<tr><th scope=row>5</th><td>ENSG00000006007</td><td>1.028051</td><td>   6</td><td>30</td></tr>\n",
       "\t<tr><th scope=row>6</th><td>ENSG00000008018</td><td>1.207953</td><td>   3</td><td> 2</td></tr>\n",
       "</tbody>\n",
       "</table>\n"
      ],
      "text/latex": [
       "A data.frame: 6 x 4\n",
       "\\begin{tabular}{r|llll}\n",
       "  & gene & pip\\_sum & SNPs\\_selected & num\\_snp\\\\\n",
       "  & <chr> & <dbl> & <int> & <int>\\\\\n",
       "\\hline\n",
       "\t1 & ENSG00000001460 & 2.000001 &    4 &  3\\\\\n",
       "\t2 & ENSG00000002016 & 1.999999 & 1806 &  3\\\\\n",
       "\t3 & ENSG00000004534 & 1.017846 &    1 & 56\\\\\n",
       "\t4 & ENSG00000005801 & 1.999477 &    3 &  6\\\\\n",
       "\t5 & ENSG00000006007 & 1.028051 &    6 & 30\\\\\n",
       "\t6 & ENSG00000008018 & 1.207953 &    3 &  2\\\\\n",
       "\\end{tabular}\n"
      ],
      "text/markdown": [
       "\n",
       "A data.frame: 6 x 4\n",
       "\n",
       "| <!--/--> | gene &lt;chr&gt; | pip_sum &lt;dbl&gt; | SNPs_selected &lt;int&gt; | num_snp &lt;int&gt; |\n",
       "|---|---|---|---|---|\n",
       "| 1 | ENSG00000001460 | 2.000001 |    4 |  3 |\n",
       "| 2 | ENSG00000002016 | 1.999999 | 1806 |  3 |\n",
       "| 3 | ENSG00000004534 | 1.017846 |    1 | 56 |\n",
       "| 4 | ENSG00000005801 | 1.999477 |    3 |  6 |\n",
       "| 5 | ENSG00000006007 | 1.028051 |    6 | 30 |\n",
       "| 6 | ENSG00000008018 | 1.207953 |    3 |  2 |\n",
       "\n"
      ],
      "text/plain": [
       "  gene            pip_sum  SNPs_selected num_snp\n",
       "1 ENSG00000001460 2.000001    4           3     \n",
       "2 ENSG00000002016 1.999999 1806           3     \n",
       "3 ENSG00000004534 1.017846    1          56     \n",
       "4 ENSG00000005801 1.999477    3           6     \n",
       "5 ENSG00000006007 1.028051    6          30     \n",
       "6 ENSG00000008018 1.207953    3           2     "
      ]
     },
     "metadata": {},
     "output_type": "display_data"
    }
   ],
   "source": [
    "head(susie_paintor)"
   ]
  },
  {
   "cell_type": "code",
   "execution_count": 42,
   "metadata": {},
   "outputs": [
    {
     "data": {
      "image/png": "[encoded data removed]",
      "text/plain": [
       "plot without title"
      ]
     },
     "metadata": {
      "image/png": {
       "height": 420,
       "width": 420
      }
     },
     "output_type": "display_data"
    }
   ],
   "source": [
    "ggplot(susie_paintor, aes(x = log2(SNPs_selected), y = log2(num_snp))) +\n",
    "geom_point(fill = \"steelblue1\", shape = 21, size = 2) +\n",
    "labs(x = \"PAINTOR #variants selected\", \n",
    "     y = \"SuSiE #variants in CS\") + \n",
    "theme_minimal() +\n",
    "theme(axis.text = element_text(size = 16),\n",
    "      axis.title = element_text(size = 18))"
   ]
  },
  {
   "cell_type": "markdown",
   "metadata": {},
   "source": [
    "**BELOW OLD: Cannot plot locuszoom for the second paintor causal, not in locuszoom reference. Used plink to calculate LD for the 2 variants in each population. They are in high LD!**"
   ]
  },
  {
   "cell_type": "code",
   "execution_count": 5,
   "metadata": {},
   "outputs": [],
   "source": [
    "num_var=2\n",
    "myFile <- file(\"paintor/MESDC2/eur_variants_ld.ld.bin\", \"rb\")\n",
    "eur_ld <- readBin(myFile, what = \"numeric\", n = num_var*num_var, size = 8)"
   ]
  },
  {
   "cell_type": "code",
   "execution_count": 6,
   "metadata": {},
   "outputs": [
    {
     "data": {
      "text/html": [
       "<style>\n",
       ".list-inline {list-style: none; margin:0; padding: 0}\n",
       ".list-inline>li {display: inline-block}\n",
       ".list-inline>li:not(:last-child)::after {content: \"\\00b7\"; padding: 0 .5ex}\n",
       "</style>\n",
       "<ol class=list-inline><li>1</li><li>0.906002693129075</li><li>0.906002693129075</li><li>1</li></ol>\n"
      ],
      "text/latex": [
       "\\begin{enumerate*}\n",
       "\\item 1\n",
       "\\item 0.906002693129075\n",
       "\\item 0.906002693129075\n",
       "\\item 1\n",
       "\\end{enumerate*}\n"
      ],
      "text/markdown": [
       "1. 1\n",
       "2. 0.906002693129075\n",
       "3. 0.906002693129075\n",
       "4. 1\n",
       "\n",
       "\n"
      ],
      "text/plain": [
       "[1] 1.0000000 0.9060027 0.9060027 1.0000000"
      ]
     },
     "metadata": {},
     "output_type": "display_data"
    }
   ],
   "source": [
    "eur_ld"
   ]
  },
  {
   "cell_type": "code",
   "execution_count": 7,
   "metadata": {},
   "outputs": [
    {
     "data": {
      "text/html": [
       "<style>\n",
       ".list-inline {list-style: none; margin:0; padding: 0}\n",
       ".list-inline>li {display: inline-block}\n",
       ".list-inline>li:not(:last-child)::after {content: \"\\00b7\"; padding: 0 .5ex}\n",
       "</style>\n",
       "<ol class=list-inline><li>1</li><li>0.79639189979588</li><li>0.79639189979588</li><li>1</li></ol>\n"
      ],
      "text/latex": [
       "\\begin{enumerate*}\n",
       "\\item 1\n",
       "\\item 0.79639189979588\n",
       "\\item 0.79639189979588\n",
       "\\item 1\n",
       "\\end{enumerate*}\n"
      ],
      "text/markdown": [
       "1. 1\n",
       "2. 0.79639189979588\n",
       "3. 0.79639189979588\n",
       "4. 1\n",
       "\n",
       "\n"
      ],
      "text/plain": [
       "[1] 1.0000000 0.7963919 0.7963919 1.0000000"
      ]
     },
     "metadata": {},
     "output_type": "display_data"
    }
   ],
   "source": [
    "myFile <- file(\"paintor/MESDC2/amr_variants_ld.ld.bin\", \"rb\")\n",
    "amr_ld <- readBin(myFile, what = \"numeric\", n = num_var*num_var, size = 8)\n",
    "amr_ld"
   ]
  },
  {
   "cell_type": "code",
   "execution_count": 8,
   "metadata": {},
   "outputs": [
    {
     "data": {
      "text/html": [
       "<style>\n",
       ".list-inline {list-style: none; margin:0; padding: 0}\n",
       ".list-inline>li {display: inline-block}\n",
       ".list-inline>li:not(:last-child)::after {content: \"\\00b7\"; padding: 0 .5ex}\n",
       "</style>\n",
       "<ol class=list-inline><li>1</li><li>0.461121569103716</li><li>0.461121569103716</li><li>1</li></ol>\n"
      ],
      "text/latex": [
       "\\begin{enumerate*}\n",
       "\\item 1\n",
       "\\item 0.461121569103716\n",
       "\\item 0.461121569103716\n",
       "\\item 1\n",
       "\\end{enumerate*}\n"
      ],
      "text/markdown": [
       "1. 1\n",
       "2. 0.461121569103716\n",
       "3. 0.461121569103716\n",
       "4. 1\n",
       "\n",
       "\n"
      ],
      "text/plain": [
       "[1] 1.0000000 0.4611216 0.4611216 1.0000000"
      ]
     },
     "metadata": {},
     "output_type": "display_data"
    }
   ],
   "source": [
    "myFile <- file(\"paintor/MESDC2/afr_variants_ld.ld.bin\", \"rb\")\n",
    "afr_ld <- readBin(myFile, what = \"numeric\", n = num_var*num_var, size = 8)\n",
    "afr_ld"
   ]
  },
  {
   "cell_type": "code",
   "execution_count": null,
   "metadata": {},
   "outputs": [],
   "source": []
  }
 ],
 "metadata": {
  "kernelspec": {
   "display_name": "R 4.1.0 BIO",
   "language": "R",
   "name": "ir410-bio"
  },
  "language_info": {
   "codemirror_mode": "r",
   "file_extension": ".r",
   "mimetype": "text/x-r-source",
   "name": "R",
   "pygments_lexer": "r",
   "version": "4.1.0"
  }
 },
 "nbformat": 4,
 "nbformat_minor": 2
}
