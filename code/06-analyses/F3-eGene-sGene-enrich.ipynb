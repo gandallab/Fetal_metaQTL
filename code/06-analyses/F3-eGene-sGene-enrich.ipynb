{
 "cells": [
  {
   "cell_type": "code",
   "execution_count": 1,
   "id": "a2f357bb-71aa-447a-b257-76655b53bca0",
   "metadata": {},
   "outputs": [
    {
     "name": "stderr",
     "output_type": "stream",
     "text": [
      "── \u001b[1mAttaching packages\u001b[22m ─────────────────────────────────────── tidyverse 1.3.1 ──\n",
      "\n",
      "\u001b[32m✔\u001b[39m \u001b[34mggplot2\u001b[39m 3.4.0     \u001b[32m✔\u001b[39m \u001b[34mpurrr  \u001b[39m 0.3.4\n",
      "\u001b[32m✔\u001b[39m \u001b[34mtibble \u001b[39m 3.1.7     \u001b[32m✔\u001b[39m \u001b[34mdplyr  \u001b[39m 1.0.9\n",
      "\u001b[32m✔\u001b[39m \u001b[34mtidyr  \u001b[39m 1.2.0     \u001b[32m✔\u001b[39m \u001b[34mstringr\u001b[39m 1.4.0\n",
      "\u001b[32m✔\u001b[39m \u001b[34mreadr  \u001b[39m 2.1.2     \u001b[32m✔\u001b[39m \u001b[34mforcats\u001b[39m 0.5.1\n",
      "\n",
      "── \u001b[1mConflicts\u001b[22m ────────────────────────────────────────── tidyverse_conflicts() ──\n",
      "\u001b[31m✖\u001b[39m \u001b[34mdplyr\u001b[39m::\u001b[32mfilter()\u001b[39m masks \u001b[34mstats\u001b[39m::filter()\n",
      "\u001b[31m✖\u001b[39m \u001b[34mdplyr\u001b[39m::\u001b[32mlag()\u001b[39m    masks \u001b[34mstats\u001b[39m::lag()\n",
      "\n"
     ]
    }
   ],
   "source": [
    "library(tidyverse)\n",
    "options(stringsAsFactors = F)\n",
    "setwd(\"../../../Fetal_metaQTL/\")"
   ]
  },
  {
   "cell_type": "markdown",
   "id": "8c54ca4c-9066-4127-885b-c924a6c9d00e",
   "metadata": {
    "jp-MarkdownHeadingCollapsed": true,
    "tags": []
   },
   "source": [
    "# Functions "
   ]
  },
  {
   "cell_type": "code",
   "execution_count": 2,
   "id": "8cfd9dbf-8c15-4158-b5a1-02fd24e90e7e",
   "metadata": {},
   "outputs": [],
   "source": [
    "fischer_ORA <- function(test_set, test_background, ref_set, ref_background, verbose = FALSE) {\n",
    "    overlap = length(intersect(test_set, ref_set)) #q\n",
    "    group1 = length(intersect(test_set, ref_background)) #k\n",
    "    group2 = length(intersect(ref_set, test_background)) #m\n",
    "    total = length(intersect(test_background, ref_background)) #t\n",
    "    \n",
    "    mat <- matrix(c(\n",
    "        overlap, group1,\n",
    "        group2, total\n",
    "    ), nrow=2)\n",
    "    rownames(mat) <- c(\"inRef\", \"!inRef\")\n",
    "    colnames(mat) <- c(\"inTest\", \"!inTest\")\n",
    "    \n",
    "    if (verbose) {\n",
    "         print(mat)\n",
    "    }\n",
    "    \n",
    "    fischers_df <- data.frame()\n",
    "    fischers_df[1,1] <- overlap #q\n",
    "    fischers_df[2,1] <- group2 - overlap #k-q\n",
    "    fischers_df[1,2] <- group1 - overlap #m-q\n",
    "    fischers_df[2,2] <- total - group2 - group1 + overlap #t-m-k+q\n",
    "\n",
    "    res <- fisher.test(fischers_df, alternative='greater')\n",
    "    return(res)\n",
    "}"
   ]
  },
  {
   "cell_type": "markdown",
   "id": "37793e38-7b01-4e95-aeeb-a53913eb215e",
   "metadata": {},
   "source": [
    "# Data Loading"
   ]
  },
  {
   "cell_type": "code",
   "execution_count": 3,
   "id": "51e4a144-f096-44cf-86f6-681a6870b882",
   "metadata": {},
   "outputs": [
    {
     "data": {
      "text/html": [
       "<style>\n",
       ".list-inline {list-style: none; margin:0; padding: 0}\n",
       ".list-inline>li {display: inline-block}\n",
       ".list-inline>li:not(:last-child)::after {content: \"\\00b7\"; padding: 0 .5ex}\n",
       "</style>\n",
       "<ol class=list-inline><li>'README'</li><li>'ST1-1-metadata'</li><li>'ST1-2-eGene'</li><li>'ST1-3-isoGene'</li><li>'ST1-4-sGene'</li><li>'ST1-5-torus-funcEnrich'</li><li>'ST1-6-conditional'</li></ol>\n"
      ],
      "text/latex": [
       "\\begin{enumerate*}\n",
       "\\item 'README'\n",
       "\\item 'ST1-1-metadata'\n",
       "\\item 'ST1-2-eGene'\n",
       "\\item 'ST1-3-isoGene'\n",
       "\\item 'ST1-4-sGene'\n",
       "\\item 'ST1-5-torus-funcEnrich'\n",
       "\\item 'ST1-6-conditional'\n",
       "\\end{enumerate*}\n"
      ],
      "text/markdown": [
       "1. 'README'\n",
       "2. 'ST1-1-metadata'\n",
       "3. 'ST1-2-eGene'\n",
       "4. 'ST1-3-isoGene'\n",
       "5. 'ST1-4-sGene'\n",
       "6. 'ST1-5-torus-funcEnrich'\n",
       "7. 'ST1-6-conditional'\n",
       "\n",
       "\n"
      ],
      "text/plain": [
       "[1] \"README\"                 \"ST1-1-metadata\"         \"ST1-2-eGene\"           \n",
       "[4] \"ST1-3-isoGene\"          \"ST1-4-sGene\"            \"ST1-5-torus-funcEnrich\"\n",
       "[7] \"ST1-6-conditional\"     "
      ]
     },
     "metadata": {},
     "output_type": "display_data"
    }
   ],
   "source": [
    "readxl::excel_sheets(\"data/manuscript/ST1.xlsx\")"
   ]
  },
  {
   "cell_type": "code",
   "execution_count": 4,
   "id": "1b4c6ee8-b381-477a-bb4c-0fe324d9285c",
   "metadata": {},
   "outputs": [
    {
     "data": {
      "text/html": [
       "<style>\n",
       ".list-inline {list-style: none; margin:0; padding: 0}\n",
       ".list-inline>li {display: inline-block}\n",
       ".list-inline>li:not(:last-child)::after {content: \"\\00b7\"; padding: 0 .5ex}\n",
       "</style>\n",
       "<ol class=list-inline><li>'README'</li><li>'ST3-1-tri1-eGene'</li><li>'ST3-2-tri2-eGene'</li><li>'ST3-3-tri1-isoGene'</li><li>'ST3-4-tri2-isoGene'</li><li>'ST3-5-tri1-sGene'</li><li>'ST3-6-tri2-sGene'</li></ol>\n"
      ],
      "text/latex": [
       "\\begin{enumerate*}\n",
       "\\item 'README'\n",
       "\\item 'ST3-1-tri1-eGene'\n",
       "\\item 'ST3-2-tri2-eGene'\n",
       "\\item 'ST3-3-tri1-isoGene'\n",
       "\\item 'ST3-4-tri2-isoGene'\n",
       "\\item 'ST3-5-tri1-sGene'\n",
       "\\item 'ST3-6-tri2-sGene'\n",
       "\\end{enumerate*}\n"
      ],
      "text/markdown": [
       "1. 'README'\n",
       "2. 'ST3-1-tri1-eGene'\n",
       "3. 'ST3-2-tri2-eGene'\n",
       "4. 'ST3-3-tri1-isoGene'\n",
       "5. 'ST3-4-tri2-isoGene'\n",
       "6. 'ST3-5-tri1-sGene'\n",
       "7. 'ST3-6-tri2-sGene'\n",
       "\n",
       "\n"
      ],
      "text/plain": [
       "[1] \"README\"             \"ST3-1-tri1-eGene\"   \"ST3-2-tri2-eGene\"  \n",
       "[4] \"ST3-3-tri1-isoGene\" \"ST3-4-tri2-isoGene\" \"ST3-5-tri1-sGene\"  \n",
       "[7] \"ST3-6-tri2-sGene\"  "
      ]
     },
     "metadata": {},
     "output_type": "display_data"
    }
   ],
   "source": [
    "readxl::excel_sheets(\"data/manuscript/ST3.xlsx\")"
   ]
  },
  {
   "cell_type": "code",
   "execution_count": 5,
   "id": "5ac5068d-2929-439b-9719-fcd9e845a7dd",
   "metadata": {},
   "outputs": [
    {
     "data": {
      "text/html": [
       "10094"
      ],
      "text/latex": [
       "10094"
      ],
      "text/markdown": [
       "10094"
      ],
      "text/plain": [
       "[1] 10094"
      ]
     },
     "metadata": {},
     "output_type": "display_data"
    }
   ],
   "source": [
    "# Load in all discovered fetal eGenes\n",
    "tableS1_2 <- readxl::read_xlsx(\"data/manuscript/ST1.xlsx\", sheet=\"ST1-2-eGene\")\n",
    "fetal_all_eGenes <- tableS1_2 %>% select(pid) %>% pull()\n",
    "length(fetal_all_eGenes)"
   ]
  },
  {
   "cell_type": "code",
   "execution_count": 6,
   "id": "55a8d2a8-a7de-44e8-92e6-b0ddd18ac54e",
   "metadata": {},
   "outputs": [
    {
     "data": {
      "text/html": [
       "8191"
      ],
      "text/latex": [
       "8191"
      ],
      "text/markdown": [
       "8191"
      ],
      "text/plain": [
       "[1] 8191"
      ]
     },
     "metadata": {},
     "output_type": "display_data"
    }
   ],
   "source": [
    "# Load in all discovered fetal eGenes\n",
    "tableS1_4 <- readxl::read_xlsx(\"data/manuscript/ST1.xlsx\", sheet=\"ST1-4-sGene\")\n",
    "fetal_all_sGenes <- tableS1_4 %>% select(group_id) %>% pull() %>% str_extract(\"ENSG[0-9]+\")\n",
    "length(fetal_all_sGenes)"
   ]
  },
  {
   "cell_type": "code",
   "execution_count": 7,
   "id": "8a7828d8-af53-45e4-8f5a-e81f0955b687",
   "metadata": {},
   "outputs": [
    {
     "data": {
      "text/html": [
       "4211"
      ],
      "text/latex": [
       "4211"
      ],
      "text/markdown": [
       "4211"
      ],
      "text/plain": [
       "[1] 4211"
      ]
     },
     "metadata": {},
     "output_type": "display_data"
    },
    {
     "data": {
      "text/html": [
       "2220"
      ],
      "text/latex": [
       "2220"
      ],
      "text/markdown": [
       "2220"
      ],
      "text/plain": [
       "[1] 2220"
      ]
     },
     "metadata": {},
     "output_type": "display_data"
    },
    {
     "data": {
      "text/html": [
       "5313"
      ],
      "text/latex": [
       "5313"
      ],
      "text/markdown": [
       "5313"
      ],
      "text/plain": [
       "[1] 5313"
      ]
     },
     "metadata": {},
     "output_type": "display_data"
    },
    {
     "data": {
      "text/html": [
       "2319"
      ],
      "text/latex": [
       "2319"
      ],
      "text/markdown": [
       "2319"
      ],
      "text/plain": [
       "[1] 2319"
      ]
     },
     "metadata": {},
     "output_type": "display_data"
    }
   ],
   "source": [
    "# Load eGenes\n",
    "tr1_eGenes <- openxlsx::read.xlsx(\"data/manuscript/ST3.xlsx\", sheet=\"ST3-1-tri1-eGene\") %>% select(pid) %>% unique %>% pull\n",
    "tr2_eGenes <- openxlsx::read.xlsx(\"data/manuscript/ST3.xlsx\", sheet=\"ST3-2-tri2-eGene\") %>% select(pid) %>% unique %>% pull\n",
    "\n",
    "# Load sGenes\n",
    "tr1_sGenes <- openxlsx::read.xlsx(\"data/manuscript/ST3.xlsx\", sheet=\"ST3-5-tri1-sGene\") %>% select(ensg) %>% unique %>% pull\n",
    "tr2_sGenes <- openxlsx::read.xlsx(\"data/manuscript/ST3.xlsx\", sheet=\"ST3-6-tri2-sGene\") %>% select(ensg) %>% unique %>% pull\n",
    "\n",
    "length(tr1_eGenes)\n",
    "length(tr2_eGenes)\n",
    "\n",
    "length(tr1_sGenes)\n",
    "length(tr2_sGenes)"
   ]
  },
  {
   "cell_type": "code",
   "execution_count": 48,
   "id": "7ae25fed-73fb-43e6-b4e5-c7cb6df0fbd3",
   "metadata": {},
   "outputs": [
    {
     "data": {
      "text/html": [
       "2950"
      ],
      "text/latex": [
       "2950"
      ],
      "text/markdown": [
       "2950"
      ],
      "text/plain": [
       "[1] 2950"
      ]
     },
     "metadata": {},
     "output_type": "display_data"
    },
    {
     "data": {
      "text/html": [
       "959"
      ],
      "text/latex": [
       "959"
      ],
      "text/markdown": [
       "959"
      ],
      "text/plain": [
       "[1] 959"
      ]
     },
     "metadata": {},
     "output_type": "display_data"
    },
    {
     "data": {
      "text/html": [
       "5170"
      ],
      "text/latex": [
       "5170"
      ],
      "text/markdown": [
       "5170"
      ],
      "text/plain": [
       "[1] 5170"
      ]
     },
     "metadata": {},
     "output_type": "display_data"
    }
   ],
   "source": [
    "# Define a not-in operator for simplicity\n",
    "`%notin%` <- Negate(`%in%`)\n",
    "\n",
    "# Filter to trimester-specific eGenes\n",
    "tri1_only_eGenes <- tr1_eGenes[tr1_eGenes %notin% tr2_eGenes]\n",
    "length(tri1_only_eGenes)\n",
    "\n",
    "tri2_only_eGenes <- tr2_eGenes[tr2_eGenes %notin% tr1_eGenes]\n",
    "length(tri2_only_eGenes)\n",
    "\n",
    "tri12_eGene_bg <- unique(c(tr1_eGenes, tr2_eGenes))#, fetal_all_eGenes))\n",
    "length(tri12_eGene_bg)"
   ]
  },
  {
   "cell_type": "code",
   "execution_count": 49,
   "id": "2c6641c6-b1a0-4232-8f5a-097de69a6801",
   "metadata": {},
   "outputs": [
    {
     "data": {
      "text/html": [
       "3550"
      ],
      "text/latex": [
       "3550"
      ],
      "text/markdown": [
       "3550"
      ],
      "text/plain": [
       "[1] 3550"
      ]
     },
     "metadata": {},
     "output_type": "display_data"
    },
    {
     "data": {
      "text/html": [
       "556"
      ],
      "text/latex": [
       "556"
      ],
      "text/markdown": [
       "556"
      ],
      "text/plain": [
       "[1] 556"
      ]
     },
     "metadata": {},
     "output_type": "display_data"
    },
    {
     "data": {
      "text/html": [
       "5869"
      ],
      "text/latex": [
       "5869"
      ],
      "text/markdown": [
       "5869"
      ],
      "text/plain": [
       "[1] 5869"
      ]
     },
     "metadata": {},
     "output_type": "display_data"
    }
   ],
   "source": [
    "# Filter to trimester-specific sGenes\n",
    "tri1_only_sGenes <- tr1_sGenes[tr1_sGenes %notin% tr2_sGenes]\n",
    "length(tri1_only_sGenes)\n",
    "\n",
    "tri2_only_sGenes <- tr2_sGenes[tr2_sGenes %notin% tr1_sGenes]\n",
    "length(tri2_only_sGenes)\n",
    "\n",
    "tri12_sGene_bg <- unique(c(tr1_sGenes, tr2_sGenes))#, fetal_all_sGenes))\n",
    "length(tri12_sGene_bg)"
   ]
  },
  {
   "cell_type": "code",
   "execution_count": 10,
   "id": "f8f1fdd5-f964-4b5f-b2ea-f007a93a7308",
   "metadata": {},
   "outputs": [
    {
     "name": "stderr",
     "output_type": "stream",
     "text": [
      "\u001b[1mRows: \u001b[22m\u001b[34m62486\u001b[39m \u001b[1mColumns: \u001b[22m\u001b[34m13\u001b[39m\n",
      "\u001b[36m──\u001b[39m \u001b[1mColumn specification\u001b[22m \u001b[36m────────────────────────────────────────────────────────\u001b[39m\n",
      "\u001b[1mDelimiter:\u001b[22m \"\\t\"\n",
      "\u001b[31mchr\u001b[39m (11): V1, V2, V3, V6, V7, V8, V9, ensg, version, V11, V12\n",
      "\u001b[32mdbl\u001b[39m  (2): V4, V5\n",
      "\n",
      "\u001b[36mℹ\u001b[39m Use `spec()` to retrieve the full column specification for this data.\n",
      "\u001b[36mℹ\u001b[39m Specify the column types or set `show_col_types = FALSE` to quiet this message.\n"
     ]
    },
    {
     "data": {
      "text/html": [
       "<table class=\"dataframe\">\n",
       "<caption>A tibble: 1 × 13</caption>\n",
       "<thead>\n",
       "\t<tr><th scope=col>V1</th><th scope=col>V2</th><th scope=col>V3</th><th scope=col>V4</th><th scope=col>V5</th><th scope=col>V6</th><th scope=col>V7</th><th scope=col>V8</th><th scope=col>V9</th><th scope=col>ensg</th><th scope=col>version</th><th scope=col>V11</th><th scope=col>V12</th></tr>\n",
       "\t<tr><th scope=col>&lt;chr&gt;</th><th scope=col>&lt;chr&gt;</th><th scope=col>&lt;chr&gt;</th><th scope=col>&lt;dbl&gt;</th><th scope=col>&lt;dbl&gt;</th><th scope=col>&lt;chr&gt;</th><th scope=col>&lt;chr&gt;</th><th scope=col>&lt;chr&gt;</th><th scope=col>&lt;chr&gt;</th><th scope=col>&lt;chr&gt;</th><th scope=col>&lt;chr&gt;</th><th scope=col>&lt;chr&gt;</th><th scope=col>&lt;chr&gt;</th></tr>\n",
       "</thead>\n",
       "<tbody>\n",
       "\t<tr><td>chr1</td><td>HAVANA</td><td>gene</td><td>11869</td><td>14409</td><td>.</td><td>+</td><td>.</td><td>gene_id \"ENSG00000223972.5_2\"; gene_type \"transcribed_unprocessed_pseudogene\"; gene_name \"DDX11L1\"; level 2; hgnc_id \"HGNC:37102\"; havana_gene \"OTTHUMG00000000961.2_2\"; remap_status \"full_contig\"; remap_num_mappings 1; remap_target_status \"overlap\";</td><td>ENSG00000223972</td><td>5_2</td><td>transcribed_unprocessed_pseudogene</td><td>DDX11L1</td></tr>\n",
       "</tbody>\n",
       "</table>\n"
      ],
      "text/latex": [
       "A tibble: 1 × 13\n",
       "\\begin{tabular}{lllllllllllll}\n",
       " V1 & V2 & V3 & V4 & V5 & V6 & V7 & V8 & V9 & ensg & version & V11 & V12\\\\\n",
       " <chr> & <chr> & <chr> & <dbl> & <dbl> & <chr> & <chr> & <chr> & <chr> & <chr> & <chr> & <chr> & <chr>\\\\\n",
       "\\hline\n",
       "\t chr1 & HAVANA & gene & 11869 & 14409 & . & + & . & gene\\_id \"ENSG00000223972.5\\_2\"; gene\\_type \"transcribed\\_unprocessed\\_pseudogene\"; gene\\_name \"DDX11L1\"; level 2; hgnc\\_id \"HGNC:37102\"; havana\\_gene \"OTTHUMG00000000961.2\\_2\"; remap\\_status \"full\\_contig\"; remap\\_num\\_mappings 1; remap\\_target\\_status \"overlap\"; & ENSG00000223972 & 5\\_2 & transcribed\\_unprocessed\\_pseudogene & DDX11L1\\\\\n",
       "\\end{tabular}\n"
      ],
      "text/markdown": [
       "\n",
       "A tibble: 1 × 13\n",
       "\n",
       "| V1 &lt;chr&gt; | V2 &lt;chr&gt; | V3 &lt;chr&gt; | V4 &lt;dbl&gt; | V5 &lt;dbl&gt; | V6 &lt;chr&gt; | V7 &lt;chr&gt; | V8 &lt;chr&gt; | V9 &lt;chr&gt; | ensg &lt;chr&gt; | version &lt;chr&gt; | V11 &lt;chr&gt; | V12 &lt;chr&gt; |\n",
       "|---|---|---|---|---|---|---|---|---|---|---|---|---|\n",
       "| chr1 | HAVANA | gene | 11869 | 14409 | . | + | . | gene_id \"ENSG00000223972.5_2\"; gene_type \"transcribed_unprocessed_pseudogene\"; gene_name \"DDX11L1\"; level 2; hgnc_id \"HGNC:37102\"; havana_gene \"OTTHUMG00000000961.2_2\"; remap_status \"full_contig\"; remap_num_mappings 1; remap_target_status \"overlap\"; | ENSG00000223972 | 5_2 | transcribed_unprocessed_pseudogene | DDX11L1 |\n",
       "\n"
      ],
      "text/plain": [
       "  V1   V2     V3   V4    V5    V6 V7 V8\n",
       "1 chr1 HAVANA gene 11869 14409 .  +  . \n",
       "  V9                                                                                                                                                                                                                                                       \n",
       "1 gene_id \"ENSG00000223972.5_2\"; gene_type \"transcribed_unprocessed_pseudogene\"; gene_name \"DDX11L1\"; level 2; hgnc_id \"HGNC:37102\"; havana_gene \"OTTHUMG00000000961.2_2\"; remap_status \"full_contig\"; remap_num_mappings 1; remap_target_status \"overlap\";\n",
       "  ensg            version V11                                V12    \n",
       "1 ENSG00000223972 5_2     transcribed_unprocessed_pseudogene DDX11L1"
      ]
     },
     "metadata": {},
     "output_type": "display_data"
    }
   ],
   "source": [
    "# Load a gencode annotation for biotype parsing\n",
    "gencode_annot <- read_tsv(\"/u/project/gandalm/cindywen/isoform_twas/salmon/gencode.v33lift37.annotation.gene.info.tsv\")\n",
    "head(gencode_annot, 1)"
   ]
  },
  {
   "cell_type": "code",
   "execution_count": 11,
   "id": "7c688a3c-c1ae-4528-b892-bf1bf4c335bc",
   "metadata": {},
   "outputs": [
    {
     "name": "stderr",
     "output_type": "stream",
     "text": [
      "\u001b[1mRows: \u001b[22m\u001b[34m7271\u001b[39m \u001b[1mColumns: \u001b[22m\u001b[34m8\u001b[39m\n",
      "\u001b[36m──\u001b[39m \u001b[1mColumn specification\u001b[22m \u001b[36m────────────────────────────────────────────────────────\u001b[39m\n",
      "\u001b[1mDelimiter:\u001b[22m \",\"\n",
      "\u001b[31mchr\u001b[39m (3): cell_type, gene_id, gene_name\n",
      "\u001b[32mdbl\u001b[39m (5): log2_fold_change, p_value, fdr, percent_expressed_cluster, percent_...\n",
      "\n",
      "\u001b[36mℹ\u001b[39m Use `spec()` to retrieve the full column specification for this data.\n",
      "\u001b[36mℹ\u001b[39m Specify the column types or set `show_col_types = FALSE` to quiet this message.\n"
     ]
    },
    {
     "data": {
      "text/html": [
       "<table class=\"dataframe\">\n",
       "<caption>A tibble: 6 × 8</caption>\n",
       "<thead>\n",
       "\t<tr><th scope=col>cell_type</th><th scope=col>gene_id</th><th scope=col>gene_name</th><th scope=col>log2_fold_change</th><th scope=col>p_value</th><th scope=col>fdr</th><th scope=col>percent_expressed_cluster</th><th scope=col>percent_expressed_all_cells</th></tr>\n",
       "\t<tr><th scope=col>&lt;chr&gt;</th><th scope=col>&lt;chr&gt;</th><th scope=col>&lt;chr&gt;</th><th scope=col>&lt;dbl&gt;</th><th scope=col>&lt;dbl&gt;</th><th scope=col>&lt;dbl&gt;</th><th scope=col>&lt;dbl&gt;</th><th scope=col>&lt;dbl&gt;</th></tr>\n",
       "</thead>\n",
       "<tbody>\n",
       "\t<tr><td>ExN</td><td>ENSG00000171617</td><td>ENC1   </td><td>1.1541568</td><td>0</td><td>0</td><td>73.3</td><td>55.2</td></tr>\n",
       "\t<tr><td>ExN</td><td>ENSG00000124766</td><td>SOX4   </td><td>0.8293880</td><td>0</td><td>0</td><td>88.1</td><td>80.1</td></tr>\n",
       "\t<tr><td>ExN</td><td>ENSG00000134138</td><td>MEIS2  </td><td>0.8190048</td><td>0</td><td>0</td><td>63.5</td><td>52.2</td></tr>\n",
       "\t<tr><td>ExN</td><td>ENSG00000164600</td><td>NEUROD6</td><td>0.8169258</td><td>0</td><td>0</td><td>72.1</td><td>59.7</td></tr>\n",
       "\t<tr><td>ExN</td><td>ENSG00000155926</td><td>SLA    </td><td>0.7353093</td><td>0</td><td>0</td><td>63.9</td><td>52.5</td></tr>\n",
       "\t<tr><td>ExN</td><td>ENSG00000092820</td><td>EZR    </td><td>0.7151372</td><td>0</td><td>0</td><td>58.8</td><td>48.5</td></tr>\n",
       "</tbody>\n",
       "</table>\n"
      ],
      "text/latex": [
       "A tibble: 6 × 8\n",
       "\\begin{tabular}{llllllll}\n",
       " cell\\_type & gene\\_id & gene\\_name & log2\\_fold\\_change & p\\_value & fdr & percent\\_expressed\\_cluster & percent\\_expressed\\_all\\_cells\\\\\n",
       " <chr> & <chr> & <chr> & <dbl> & <dbl> & <dbl> & <dbl> & <dbl>\\\\\n",
       "\\hline\n",
       "\t ExN & ENSG00000171617 & ENC1    & 1.1541568 & 0 & 0 & 73.3 & 55.2\\\\\n",
       "\t ExN & ENSG00000124766 & SOX4    & 0.8293880 & 0 & 0 & 88.1 & 80.1\\\\\n",
       "\t ExN & ENSG00000134138 & MEIS2   & 0.8190048 & 0 & 0 & 63.5 & 52.2\\\\\n",
       "\t ExN & ENSG00000164600 & NEUROD6 & 0.8169258 & 0 & 0 & 72.1 & 59.7\\\\\n",
       "\t ExN & ENSG00000155926 & SLA     & 0.7353093 & 0 & 0 & 63.9 & 52.5\\\\\n",
       "\t ExN & ENSG00000092820 & EZR     & 0.7151372 & 0 & 0 & 58.8 & 48.5\\\\\n",
       "\\end{tabular}\n"
      ],
      "text/markdown": [
       "\n",
       "A tibble: 6 × 8\n",
       "\n",
       "| cell_type &lt;chr&gt; | gene_id &lt;chr&gt; | gene_name &lt;chr&gt; | log2_fold_change &lt;dbl&gt; | p_value &lt;dbl&gt; | fdr &lt;dbl&gt; | percent_expressed_cluster &lt;dbl&gt; | percent_expressed_all_cells &lt;dbl&gt; |\n",
       "|---|---|---|---|---|---|---|---|\n",
       "| ExN | ENSG00000171617 | ENC1    | 1.1541568 | 0 | 0 | 73.3 | 55.2 |\n",
       "| ExN | ENSG00000124766 | SOX4    | 0.8293880 | 0 | 0 | 88.1 | 80.1 |\n",
       "| ExN | ENSG00000134138 | MEIS2   | 0.8190048 | 0 | 0 | 63.5 | 52.2 |\n",
       "| ExN | ENSG00000164600 | NEUROD6 | 0.8169258 | 0 | 0 | 72.1 | 59.7 |\n",
       "| ExN | ENSG00000155926 | SLA     | 0.7353093 | 0 | 0 | 63.9 | 52.5 |\n",
       "| ExN | ENSG00000092820 | EZR     | 0.7151372 | 0 | 0 | 58.8 | 48.5 |\n",
       "\n"
      ],
      "text/plain": [
       "  cell_type gene_id         gene_name log2_fold_change p_value fdr\n",
       "1 ExN       ENSG00000171617 ENC1      1.1541568        0       0  \n",
       "2 ExN       ENSG00000124766 SOX4      0.8293880        0       0  \n",
       "3 ExN       ENSG00000134138 MEIS2     0.8190048        0       0  \n",
       "4 ExN       ENSG00000164600 NEUROD6   0.8169258        0       0  \n",
       "5 ExN       ENSG00000155926 SLA       0.7353093        0       0  \n",
       "6 ExN       ENSG00000092820 EZR       0.7151372        0       0  \n",
       "  percent_expressed_cluster percent_expressed_all_cells\n",
       "1 73.3                      55.2                       \n",
       "2 88.1                      80.1                       \n",
       "3 63.5                      52.2                       \n",
       "4 72.1                      59.7                       \n",
       "5 63.9                      52.5                       \n",
       "6 58.8                      48.5                       "
      ]
     },
     "metadata": {},
     "output_type": "display_data"
    },
    {
     "data": {
      "text/html": [
       "<style>\n",
       ".list-inline {list-style: none; margin:0; padding: 0}\n",
       ".list-inline>li {display: inline-block}\n",
       ".list-inline>li:not(:last-child)::after {content: \"\\00b7\"; padding: 0 .5ex}\n",
       "</style>\n",
       "<ol class=list-inline><li>'ExN'</li><li>'NPC'</li><li>'OPC'</li><li>'END'</li><li>'ExD'</li><li>'PER'</li><li>'MIC'</li><li>'ExM'</li><li>'INT'</li></ol>\n"
      ],
      "text/latex": [
       "\\begin{enumerate*}\n",
       "\\item 'ExN'\n",
       "\\item 'NPC'\n",
       "\\item 'OPC'\n",
       "\\item 'END'\n",
       "\\item 'ExD'\n",
       "\\item 'PER'\n",
       "\\item 'MIC'\n",
       "\\item 'ExM'\n",
       "\\item 'INT'\n",
       "\\end{enumerate*}\n"
      ],
      "text/markdown": [
       "1. 'ExN'\n",
       "2. 'NPC'\n",
       "3. 'OPC'\n",
       "4. 'END'\n",
       "5. 'ExD'\n",
       "6. 'PER'\n",
       "7. 'MIC'\n",
       "8. 'ExM'\n",
       "9. 'INT'\n",
       "\n",
       "\n"
      ],
      "text/plain": [
       "[1] \"ExN\" \"NPC\" \"OPC\" \"END\" \"ExD\" \"PER\" \"MIC\" \"ExM\" \"INT\""
      ]
     },
     "metadata": {},
     "output_type": "display_data"
    },
    {
     "data": {
      "text/html": [
       "3870"
      ],
      "text/latex": [
       "3870"
      ],
      "text/markdown": [
       "3870"
      ],
      "text/plain": [
       "[1] 3870"
      ]
     },
     "metadata": {},
     "output_type": "display_data"
    }
   ],
   "source": [
    "# Load in Polioudakis cell markers\n",
    "cell_markers <- read_csv(\"/u/project/gandalm/margolis/cindy-wgcna/module-overview/input/accessory_files/polioudakis_final_markers.csv\")\n",
    "cell_markers_bg <- unique(cell_markers$gene_id)\n",
    "head(cell_markers)\n",
    "unique(cell_markers$cell_type)\n",
    "length(cell_markers_bg)"
   ]
  },
  {
   "cell_type": "code",
   "execution_count": 75,
   "id": "6714588c-da95-4cb4-bcc9-5ad9e4afe07e",
   "metadata": {},
   "outputs": [
    {
     "data": {
      "text/html": [
       "<table class=\"dataframe\">\n",
       "<caption>A tibble: 6 × 8</caption>\n",
       "<thead>\n",
       "\t<tr><th scope=col>ensembl</th><th scope=col>gene</th><th scope=col>cluster</th><th scope=col>log2_fold_change</th><th scope=col>p_value</th><th scope=col>fdr</th><th scope=col>percent_expressed_cluster</th><th scope=col>percent_expressed_all_cells</th></tr>\n",
       "\t<tr><th scope=col>&lt;chr&gt;</th><th scope=col>&lt;chr&gt;</th><th scope=col>&lt;chr&gt;</th><th scope=col>&lt;chr&gt;</th><th scope=col>&lt;chr&gt;</th><th scope=col>&lt;chr&gt;</th><th scope=col>&lt;chr&gt;</th><th scope=col>&lt;chr&gt;</th></tr>\n",
       "</thead>\n",
       "<tbody>\n",
       "\t<tr><td>ENSG00000171617</td><td>ENC1   </td><td>ExN</td><td>1.15415684851705 </td><td>0</td><td>0</td><td>73.3</td><td>55.2</td></tr>\n",
       "\t<tr><td>ENSG00000124766</td><td>SOX4   </td><td>ExN</td><td>0.829387981626601</td><td>0</td><td>0</td><td>88.1</td><td>80.1</td></tr>\n",
       "\t<tr><td>ENSG00000134138</td><td>MEIS2  </td><td>ExN</td><td>0.81900483848292 </td><td>0</td><td>0</td><td>63.5</td><td>52.2</td></tr>\n",
       "\t<tr><td>ENSG00000164600</td><td>NEUROD6</td><td>ExN</td><td>0.816925751244978</td><td>0</td><td>0</td><td>72.1</td><td>59.7</td></tr>\n",
       "\t<tr><td>ENSG00000155926</td><td>SLA    </td><td>ExN</td><td>0.735309292588594</td><td>0</td><td>0</td><td>63.9</td><td>52.5</td></tr>\n",
       "\t<tr><td>ENSG00000092820</td><td>EZR    </td><td>ExN</td><td>0.715137175304713</td><td>0</td><td>0</td><td>58.8</td><td>48.5</td></tr>\n",
       "</tbody>\n",
       "</table>\n"
      ],
      "text/latex": [
       "A tibble: 6 × 8\n",
       "\\begin{tabular}{llllllll}\n",
       " ensembl & gene & cluster & log2\\_fold\\_change & p\\_value & fdr & percent\\_expressed\\_cluster & percent\\_expressed\\_all\\_cells\\\\\n",
       " <chr> & <chr> & <chr> & <chr> & <chr> & <chr> & <chr> & <chr>\\\\\n",
       "\\hline\n",
       "\t ENSG00000171617 & ENC1    & ExN & 1.15415684851705  & 0 & 0 & 73.3 & 55.2\\\\\n",
       "\t ENSG00000124766 & SOX4    & ExN & 0.829387981626601 & 0 & 0 & 88.1 & 80.1\\\\\n",
       "\t ENSG00000134138 & MEIS2   & ExN & 0.81900483848292  & 0 & 0 & 63.5 & 52.2\\\\\n",
       "\t ENSG00000164600 & NEUROD6 & ExN & 0.816925751244978 & 0 & 0 & 72.1 & 59.7\\\\\n",
       "\t ENSG00000155926 & SLA     & ExN & 0.735309292588594 & 0 & 0 & 63.9 & 52.5\\\\\n",
       "\t ENSG00000092820 & EZR     & ExN & 0.715137175304713 & 0 & 0 & 58.8 & 48.5\\\\\n",
       "\\end{tabular}\n"
      ],
      "text/markdown": [
       "\n",
       "A tibble: 6 × 8\n",
       "\n",
       "| ensembl &lt;chr&gt; | gene &lt;chr&gt; | cluster &lt;chr&gt; | log2_fold_change &lt;chr&gt; | p_value &lt;chr&gt; | fdr &lt;chr&gt; | percent_expressed_cluster &lt;chr&gt; | percent_expressed_all_cells &lt;chr&gt; |\n",
       "|---|---|---|---|---|---|---|---|\n",
       "| ENSG00000171617 | ENC1    | ExN | 1.15415684851705  | 0 | 0 | 73.3 | 55.2 |\n",
       "| ENSG00000124766 | SOX4    | ExN | 0.829387981626601 | 0 | 0 | 88.1 | 80.1 |\n",
       "| ENSG00000134138 | MEIS2   | ExN | 0.81900483848292  | 0 | 0 | 63.5 | 52.2 |\n",
       "| ENSG00000164600 | NEUROD6 | ExN | 0.816925751244978 | 0 | 0 | 72.1 | 59.7 |\n",
       "| ENSG00000155926 | SLA     | ExN | 0.735309292588594 | 0 | 0 | 63.9 | 52.5 |\n",
       "| ENSG00000092820 | EZR     | ExN | 0.715137175304713 | 0 | 0 | 58.8 | 48.5 |\n",
       "\n"
      ],
      "text/plain": [
       "  ensembl         gene    cluster log2_fold_change  p_value fdr\n",
       "1 ENSG00000171617 ENC1    ExN     1.15415684851705  0       0  \n",
       "2 ENSG00000124766 SOX4    ExN     0.829387981626601 0       0  \n",
       "3 ENSG00000134138 MEIS2   ExN     0.81900483848292  0       0  \n",
       "4 ENSG00000164600 NEUROD6 ExN     0.816925751244978 0       0  \n",
       "5 ENSG00000155926 SLA     ExN     0.735309292588594 0       0  \n",
       "6 ENSG00000092820 EZR     ExN     0.715137175304713 0       0  \n",
       "  percent_expressed_cluster percent_expressed_all_cells\n",
       "1 73.3                      55.2                       \n",
       "2 88.1                      80.1                       \n",
       "3 63.5                      52.2                       \n",
       "4 72.1                      59.7                       \n",
       "5 63.9                      52.5                       \n",
       "6 58.8                      48.5                       "
      ]
     },
     "metadata": {},
     "output_type": "display_data"
    },
    {
     "data": {
      "text/html": [
       "<style>\n",
       ".list-inline {list-style: none; margin:0; padding: 0}\n",
       ".list-inline>li {display: inline-block}\n",
       ".list-inline>li:not(:last-child)::after {content: \"\\00b7\"; padding: 0 .5ex}\n",
       "</style>\n",
       "<ol class=list-inline><li>7271</li><li>8</li></ol>\n"
      ],
      "text/latex": [
       "\\begin{enumerate*}\n",
       "\\item 7271\n",
       "\\item 8\n",
       "\\end{enumerate*}\n"
      ],
      "text/markdown": [
       "1. 7271\n",
       "2. 8\n",
       "\n",
       "\n"
      ],
      "text/plain": [
       "[1] 7271    8"
      ]
     },
     "metadata": {},
     "output_type": "display_data"
    },
    {
     "data": {
      "text/html": [
       "<style>\n",
       ".list-inline {list-style: none; margin:0; padding: 0}\n",
       ".list-inline>li {display: inline-block}\n",
       ".list-inline>li:not(:last-child)::after {content: \"\\00b7\"; padding: 0 .5ex}\n",
       "</style>\n",
       "<ol class=list-inline><li>'ExN'</li><li>'PgG2M'</li><li>'OPC'</li><li>'End'</li><li>'ExDp2'</li><li>'Per'</li><li>'Mic'</li><li>'ExM'</li><li>'IP'</li><li>'ExDp1'</li><li>'ExM-U'</li><li>'InMGE'</li><li>'InCGE'</li><li>'oRG'</li><li>'PgS'</li><li>'vRG'</li></ol>\n"
      ],
      "text/latex": [
       "\\begin{enumerate*}\n",
       "\\item 'ExN'\n",
       "\\item 'PgG2M'\n",
       "\\item 'OPC'\n",
       "\\item 'End'\n",
       "\\item 'ExDp2'\n",
       "\\item 'Per'\n",
       "\\item 'Mic'\n",
       "\\item 'ExM'\n",
       "\\item 'IP'\n",
       "\\item 'ExDp1'\n",
       "\\item 'ExM-U'\n",
       "\\item 'InMGE'\n",
       "\\item 'InCGE'\n",
       "\\item 'oRG'\n",
       "\\item 'PgS'\n",
       "\\item 'vRG'\n",
       "\\end{enumerate*}\n"
      ],
      "text/markdown": [
       "1. 'ExN'\n",
       "2. 'PgG2M'\n",
       "3. 'OPC'\n",
       "4. 'End'\n",
       "5. 'ExDp2'\n",
       "6. 'Per'\n",
       "7. 'Mic'\n",
       "8. 'ExM'\n",
       "9. 'IP'\n",
       "10. 'ExDp1'\n",
       "11. 'ExM-U'\n",
       "12. 'InMGE'\n",
       "13. 'InCGE'\n",
       "14. 'oRG'\n",
       "15. 'PgS'\n",
       "16. 'vRG'\n",
       "\n",
       "\n"
      ],
      "text/plain": [
       " [1] \"ExN\"   \"PgG2M\" \"OPC\"   \"End\"   \"ExDp2\" \"Per\"   \"Mic\"   \"ExM\"   \"IP\"   \n",
       "[10] \"ExDp1\" \"ExM-U\" \"InMGE\" \"InCGE\" \"oRG\"   \"PgS\"   \"vRG\"  "
      ]
     },
     "metadata": {},
     "output_type": "display_data"
    },
    {
     "data": {
      "text/html": [
       "3870"
      ],
      "text/latex": [
       "3870"
      ],
      "text/markdown": [
       "3870"
      ],
      "text/plain": [
       "[1] 3870"
      ]
     },
     "metadata": {},
     "output_type": "display_data"
    }
   ],
   "source": [
    "# Cell type markers from fetal brain scRNAseq\n",
    "# Load poliodakis et al cluster (Table S4)\n",
    "celltypemarkers_tableS4 <- openxlsx::read.xlsx('https://www.cell.com/cms/10.1016/j.neuron.2019.06.011/attachment/508ae008-b926-487a-b871-844a12acc1f8/mmc5.xlsx', sheet='Cluster enriched genes') %>% as_tibble()\n",
    "celltypemarkers_tableS4 <- janitor::clean_names(celltypemarkers_tableS4)\n",
    "celltypemarkers_tableS4_bg <- unique(celltypemarkers_tableS4$ensembl)\n",
    "\n",
    "head(celltypemarkers_tableS4)\n",
    "dim(celltypemarkers_tableS4)\n",
    "unique(celltypemarkers_tableS4$cluster)\n",
    "length(celltypemarkers_tableS4_bg)"
   ]
  },
  {
   "cell_type": "code",
   "execution_count": 24,
   "id": "4b48687f-96d1-4d18-9f64-89659a8ffc1b",
   "metadata": {},
   "outputs": [
    {
     "data": {
      "text/html": [
       "<table class=\"dataframe\">\n",
       "<caption>A tibble: 6 × 9</caption>\n",
       "<thead>\n",
       "\t<tr><th scope=col>cluster</th><th scope=col>subcluster</th><th scope=col>gene</th><th scope=col>ensembl</th><th scope=col>log2_fold_change</th><th scope=col>pvalue</th><th scope=col>fdr</th><th scope=col>percent_cluster</th><th scope=col>percent_all</th></tr>\n",
       "\t<tr><th scope=col>&lt;chr&gt;</th><th scope=col>&lt;chr&gt;</th><th scope=col>&lt;chr&gt;</th><th scope=col>&lt;chr&gt;</th><th scope=col>&lt;chr&gt;</th><th scope=col>&lt;chr&gt;</th><th scope=col>&lt;chr&gt;</th><th scope=col>&lt;chr&gt;</th><th scope=col>&lt;chr&gt;</th></tr>\n",
       "</thead>\n",
       "<tbody>\n",
       "\t<tr><td>vRG</td><td>vRG_0</td><td>NPY    </td><td>ENSG00000122585</td><td>0.942790163299949</td><td>2.57709368277351e-36</td><td>1.07928683434554e-32</td><td>51.8</td><td>24.8</td></tr>\n",
       "\t<tr><td>vRG</td><td>vRG_0</td><td>LGALS3 </td><td>ENSG00000131981</td><td>0.733201099417694</td><td>3.03296906500458e-32</td><td>4.2340248147464e-29 </td><td>50  </td><td>24.4</td></tr>\n",
       "\t<tr><td>vRG</td><td>vRG_0</td><td>NNAT   </td><td>ENSG00000053438</td><td>0.812606413056216</td><td>7.79412721754092e-19</td><td>6.52836095741227e-16</td><td>83  </td><td>64.5</td></tr>\n",
       "\t<tr><td>vRG</td><td>vRG_0</td><td>SLC1A2 </td><td>ENSG00000110436</td><td>0.384165785170468</td><td>3.04015437301369e-17</td><td>1.59152081427267e-14</td><td>27.2</td><td>12.9</td></tr>\n",
       "\t<tr><td>vRG</td><td>vRG_0</td><td>SLCO1C1</td><td>ENSG00000139155</td><td>0.360802531568306</td><td>3.99551060019108e-17</td><td>1.75033287840493e-14</td><td>27.2</td><td>13.1</td></tr>\n",
       "\t<tr><td>vRG</td><td>vRG_0</td><td>KIF5C  </td><td>ENSG00000168280</td><td>0.578180352908194</td><td>1.9842717843625e-16 </td><td>7.55466384810012e-14</td><td>56.2</td><td>37.3</td></tr>\n",
       "</tbody>\n",
       "</table>\n"
      ],
      "text/latex": [
       "A tibble: 6 × 9\n",
       "\\begin{tabular}{lllllllll}\n",
       " cluster & subcluster & gene & ensembl & log2\\_fold\\_change & pvalue & fdr & percent\\_cluster & percent\\_all\\\\\n",
       " <chr> & <chr> & <chr> & <chr> & <chr> & <chr> & <chr> & <chr> & <chr>\\\\\n",
       "\\hline\n",
       "\t vRG & vRG\\_0 & NPY     & ENSG00000122585 & 0.942790163299949 & 2.57709368277351e-36 & 1.07928683434554e-32 & 51.8 & 24.8\\\\\n",
       "\t vRG & vRG\\_0 & LGALS3  & ENSG00000131981 & 0.733201099417694 & 3.03296906500458e-32 & 4.2340248147464e-29  & 50   & 24.4\\\\\n",
       "\t vRG & vRG\\_0 & NNAT    & ENSG00000053438 & 0.812606413056216 & 7.79412721754092e-19 & 6.52836095741227e-16 & 83   & 64.5\\\\\n",
       "\t vRG & vRG\\_0 & SLC1A2  & ENSG00000110436 & 0.384165785170468 & 3.04015437301369e-17 & 1.59152081427267e-14 & 27.2 & 12.9\\\\\n",
       "\t vRG & vRG\\_0 & SLCO1C1 & ENSG00000139155 & 0.360802531568306 & 3.99551060019108e-17 & 1.75033287840493e-14 & 27.2 & 13.1\\\\\n",
       "\t vRG & vRG\\_0 & KIF5C   & ENSG00000168280 & 0.578180352908194 & 1.9842717843625e-16  & 7.55466384810012e-14 & 56.2 & 37.3\\\\\n",
       "\\end{tabular}\n"
      ],
      "text/markdown": [
       "\n",
       "A tibble: 6 × 9\n",
       "\n",
       "| cluster &lt;chr&gt; | subcluster &lt;chr&gt; | gene &lt;chr&gt; | ensembl &lt;chr&gt; | log2_fold_change &lt;chr&gt; | pvalue &lt;chr&gt; | fdr &lt;chr&gt; | percent_cluster &lt;chr&gt; | percent_all &lt;chr&gt; |\n",
       "|---|---|---|---|---|---|---|---|---|\n",
       "| vRG | vRG_0 | NPY     | ENSG00000122585 | 0.942790163299949 | 2.57709368277351e-36 | 1.07928683434554e-32 | 51.8 | 24.8 |\n",
       "| vRG | vRG_0 | LGALS3  | ENSG00000131981 | 0.733201099417694 | 3.03296906500458e-32 | 4.2340248147464e-29  | 50   | 24.4 |\n",
       "| vRG | vRG_0 | NNAT    | ENSG00000053438 | 0.812606413056216 | 7.79412721754092e-19 | 6.52836095741227e-16 | 83   | 64.5 |\n",
       "| vRG | vRG_0 | SLC1A2  | ENSG00000110436 | 0.384165785170468 | 3.04015437301369e-17 | 1.59152081427267e-14 | 27.2 | 12.9 |\n",
       "| vRG | vRG_0 | SLCO1C1 | ENSG00000139155 | 0.360802531568306 | 3.99551060019108e-17 | 1.75033287840493e-14 | 27.2 | 13.1 |\n",
       "| vRG | vRG_0 | KIF5C   | ENSG00000168280 | 0.578180352908194 | 1.9842717843625e-16  | 7.55466384810012e-14 | 56.2 | 37.3 |\n",
       "\n"
      ],
      "text/plain": [
       "  cluster subcluster gene    ensembl         log2_fold_change \n",
       "1 vRG     vRG_0      NPY     ENSG00000122585 0.942790163299949\n",
       "2 vRG     vRG_0      LGALS3  ENSG00000131981 0.733201099417694\n",
       "3 vRG     vRG_0      NNAT    ENSG00000053438 0.812606413056216\n",
       "4 vRG     vRG_0      SLC1A2  ENSG00000110436 0.384165785170468\n",
       "5 vRG     vRG_0      SLCO1C1 ENSG00000139155 0.360802531568306\n",
       "6 vRG     vRG_0      KIF5C   ENSG00000168280 0.578180352908194\n",
       "  pvalue               fdr                  percent_cluster percent_all\n",
       "1 2.57709368277351e-36 1.07928683434554e-32 51.8            24.8       \n",
       "2 3.03296906500458e-32 4.2340248147464e-29  50              24.4       \n",
       "3 7.79412721754092e-19 6.52836095741227e-16 83              64.5       \n",
       "4 3.04015437301369e-17 1.59152081427267e-14 27.2            12.9       \n",
       "5 3.99551060019108e-17 1.75033287840493e-14 27.2            13.1       \n",
       "6 1.9842717843625e-16  7.55466384810012e-14 56.2            37.3       "
      ]
     },
     "metadata": {},
     "output_type": "display_data"
    },
    {
     "data": {
      "text/html": [
       "<style>\n",
       ".list-inline {list-style: none; margin:0; padding: 0}\n",
       ".list-inline>li {display: inline-block}\n",
       ".list-inline>li:not(:last-child)::after {content: \"\\00b7\"; padding: 0 .5ex}\n",
       "</style>\n",
       "<ol class=list-inline><li>10604</li><li>9</li></ol>\n"
      ],
      "text/latex": [
       "\\begin{enumerate*}\n",
       "\\item 10604\n",
       "\\item 9\n",
       "\\end{enumerate*}\n"
      ],
      "text/markdown": [
       "1. 10604\n",
       "2. 9\n",
       "\n",
       "\n"
      ],
      "text/plain": [
       "[1] 10604     9"
      ]
     },
     "metadata": {},
     "output_type": "display_data"
    },
    {
     "data": {
      "text/html": [
       "<style>\n",
       ".list-inline {list-style: none; margin:0; padding: 0}\n",
       ".list-inline>li {display: inline-block}\n",
       ".list-inline>li:not(:last-child)::after {content: \"\\00b7\"; padding: 0 .5ex}\n",
       "</style>\n",
       "<ol class=list-inline><li>'vRG'</li><li>'oRG'</li><li>'PgS'</li><li>'PgG2M'</li><li>'IP'</li><li>'ExN'</li><li>'ExM'</li><li>'ExM-U'</li><li>'ExDp1'</li><li>'ExDp2'</li><li>'InMGE'</li><li>'InCGE'</li><li>'OPC'</li><li>'End'</li><li>'Per'</li></ol>\n"
      ],
      "text/latex": [
       "\\begin{enumerate*}\n",
       "\\item 'vRG'\n",
       "\\item 'oRG'\n",
       "\\item 'PgS'\n",
       "\\item 'PgG2M'\n",
       "\\item 'IP'\n",
       "\\item 'ExN'\n",
       "\\item 'ExM'\n",
       "\\item 'ExM-U'\n",
       "\\item 'ExDp1'\n",
       "\\item 'ExDp2'\n",
       "\\item 'InMGE'\n",
       "\\item 'InCGE'\n",
       "\\item 'OPC'\n",
       "\\item 'End'\n",
       "\\item 'Per'\n",
       "\\end{enumerate*}\n"
      ],
      "text/markdown": [
       "1. 'vRG'\n",
       "2. 'oRG'\n",
       "3. 'PgS'\n",
       "4. 'PgG2M'\n",
       "5. 'IP'\n",
       "6. 'ExN'\n",
       "7. 'ExM'\n",
       "8. 'ExM-U'\n",
       "9. 'ExDp1'\n",
       "10. 'ExDp2'\n",
       "11. 'InMGE'\n",
       "12. 'InCGE'\n",
       "13. 'OPC'\n",
       "14. 'End'\n",
       "15. 'Per'\n",
       "\n",
       "\n"
      ],
      "text/plain": [
       " [1] \"vRG\"   \"oRG\"   \"PgS\"   \"PgG2M\" \"IP\"    \"ExN\"   \"ExM\"   \"ExM-U\" \"ExDp1\"\n",
       "[10] \"ExDp2\" \"InMGE\" \"InCGE\" \"OPC\"   \"End\"   \"Per\"  "
      ]
     },
     "metadata": {},
     "output_type": "display_data"
    },
    {
     "data": {
      "text/html": [
       "4074"
      ],
      "text/latex": [
       "4074"
      ],
      "text/markdown": [
       "4074"
      ],
      "text/plain": [
       "[1] 4074"
      ]
     },
     "metadata": {},
     "output_type": "display_data"
    }
   ],
   "source": [
    "# Cell type markers from fetal brain scRNAseq\n",
    "# Load poliodakis et al subcluster (Table S5)\n",
    "celltypemarkers_tableS5 <- openxlsx::read.xlsx('https://www.cell.com/cms/10.1016/j.neuron.2019.06.011/attachment/ec1863fa-0dfc-405c-928c-c5ca96115667/mmc6', sheet='Sub-cluster enriched genes') %>% as_tibble()\n",
    "celltypemarkers_tableS5 <- janitor::clean_names(celltypemarkers_tableS5)\n",
    "celltypemarkers_tableS5_bg <- unique(celltypemarkers_tableS5$ensembl)\n",
    "\n",
    "head(celltypemarkers_tableS5)\n",
    "dim(celltypemarkers_tableS5)\n",
    "unique(celltypemarkers_tableS5$cluster)\n",
    "length(celltypemarkers_tableS5_bg)"
   ]
  },
  {
   "cell_type": "markdown",
   "id": "da11a09f-224d-4b92-ae40-50a29bcb289a",
   "metadata": {
    "tags": []
   },
   "source": [
    "# Analysis"
   ]
  },
  {
   "cell_type": "markdown",
   "id": "0653b49a-1b6a-48c7-a875-f9bb9c5671f5",
   "metadata": {},
   "source": [
    "## Biotype Analysis"
   ]
  },
  {
   "cell_type": "markdown",
   "id": "f8e8be77-2fbd-4e52-af42-1fe8cdf4c325",
   "metadata": {},
   "source": [
    "### eGenes"
   ]
  },
  {
   "cell_type": "code",
   "execution_count": 13,
   "id": "22f01cf7-af2b-4b0e-b8f0-8d892779077c",
   "metadata": {},
   "outputs": [
    {
     "data": {
      "text/html": [
       "<table class=\"dataframe\">\n",
       "<caption>A data.frame: 10 × 2</caption>\n",
       "<thead>\n",
       "\t<tr><th></th><th scope=col>TR1_eGenes</th><th scope=col>TR2_eGenes</th></tr>\n",
       "\t<tr><th></th><th scope=col>&lt;int&gt;</th><th scope=col>&lt;int&gt;</th></tr>\n",
       "</thead>\n",
       "<tbody>\n",
       "\t<tr><th scope=row>lncRNA</th><td> 808</td><td>246</td></tr>\n",
       "\t<tr><th scope=row>miRNA</th><td> 134</td><td> 15</td></tr>\n",
       "\t<tr><th scope=row>misc_RNA</th><td>  79</td><td> 15</td></tr>\n",
       "\t<tr><th scope=row>processed_pseudogene</th><td>  99</td><td> 37</td></tr>\n",
       "\t<tr><th scope=row>protein_coding</th><td>1508</td><td>574</td></tr>\n",
       "\t<tr><th scope=row>snoRNA</th><td>  47</td><td>  8</td></tr>\n",
       "\t<tr><th scope=row>TEC</th><td>  56</td><td> 17</td></tr>\n",
       "\t<tr><th scope=row>transcribed_processed_pseudogene</th><td>  28</td><td>  7</td></tr>\n",
       "\t<tr><th scope=row>transcribed_unprocessed_pseudogene</th><td>  75</td><td> 19</td></tr>\n",
       "\t<tr><th scope=row>unprocessed_pseudogene</th><td>  39</td><td>  9</td></tr>\n",
       "</tbody>\n",
       "</table>\n"
      ],
      "text/latex": [
       "A data.frame: 10 × 2\n",
       "\\begin{tabular}{r|ll}\n",
       "  & TR1\\_eGenes & TR2\\_eGenes\\\\\n",
       "  & <int> & <int>\\\\\n",
       "\\hline\n",
       "\tlncRNA &  808 & 246\\\\\n",
       "\tmiRNA &  134 &  15\\\\\n",
       "\tmisc\\_RNA &   79 &  15\\\\\n",
       "\tprocessed\\_pseudogene &   99 &  37\\\\\n",
       "\tprotein\\_coding & 1508 & 574\\\\\n",
       "\tsnoRNA &   47 &   8\\\\\n",
       "\tTEC &   56 &  17\\\\\n",
       "\ttranscribed\\_processed\\_pseudogene &   28 &   7\\\\\n",
       "\ttranscribed\\_unprocessed\\_pseudogene &   75 &  19\\\\\n",
       "\tunprocessed\\_pseudogene &   39 &   9\\\\\n",
       "\\end{tabular}\n"
      ],
      "text/markdown": [
       "\n",
       "A data.frame: 10 × 2\n",
       "\n",
       "| <!--/--> | TR1_eGenes &lt;int&gt; | TR2_eGenes &lt;int&gt; |\n",
       "|---|---|---|\n",
       "| lncRNA |  808 | 246 |\n",
       "| miRNA |  134 |  15 |\n",
       "| misc_RNA |   79 |  15 |\n",
       "| processed_pseudogene |   99 |  37 |\n",
       "| protein_coding | 1508 | 574 |\n",
       "| snoRNA |   47 |   8 |\n",
       "| TEC |   56 |  17 |\n",
       "| transcribed_processed_pseudogene |   28 |   7 |\n",
       "| transcribed_unprocessed_pseudogene |   75 |  19 |\n",
       "| unprocessed_pseudogene |   39 |   9 |\n",
       "\n"
      ],
      "text/plain": [
       "                                   TR1_eGenes TR2_eGenes\n",
       "lncRNA                              808       246       \n",
       "miRNA                               134        15       \n",
       "misc_RNA                             79        15       \n",
       "processed_pseudogene                 99        37       \n",
       "protein_coding                     1508       574       \n",
       "snoRNA                               47         8       \n",
       "TEC                                  56        17       \n",
       "transcribed_processed_pseudogene     28         7       \n",
       "transcribed_unprocessed_pseudogene   75        19       \n",
       "unprocessed_pseudogene               39         9       "
      ]
     },
     "metadata": {},
     "output_type": "display_data"
    }
   ],
   "source": [
    "tr1_only_eGenes_biotypes <- gencode_annot %>% filter(ensg %in% tri1_only_eGenes)\n",
    "tr2_only_eGenes_biotypes <- gencode_annot %>% filter(ensg %in% tri2_only_eGenes)\n",
    "\n",
    "eGenes_biotype_df <- inner_join(tr1_only_eGenes_biotypes %>% count(V11) %>% rename(\"biotype\" = \"V11\", \"TR1_eGenes\" = \"n\"),\n",
    "                                tr2_only_eGenes_biotypes %>% count(V11) %>% rename(\"biotype\" = \"V11\", \"TR2_eGenes\" = \"n\"), by = \"biotype\") %>%\n",
    "                          column_to_rownames(\"biotype\") %>%\n",
    "                          filter(TR1_eGenes > 5 & TR2_eGenes > 5)\n",
    "\n",
    "eGenes_biotype_df"
   ]
  },
  {
   "cell_type": "code",
   "execution_count": 14,
   "id": "d246cd85-fe9a-43fb-a0ec-774621de58ac",
   "metadata": {},
   "outputs": [
    {
     "data": {
      "text/plain": [
       "\n",
       "\tPearson's Chi-squared test\n",
       "\n",
       "data:  eGenes_biotype_df\n",
       "X-squared = 37.109, df = 9, p-value = 2.517e-05\n"
      ]
     },
     "metadata": {},
     "output_type": "display_data"
    }
   ],
   "source": [
    "eGenes_chisq <- chisq.test(eGenes_biotype_df)\n",
    "eGenes_chisq"
   ]
  },
  {
   "cell_type": "code",
   "execution_count": 15,
   "id": "920e8eee-2a5b-4664-ae0e-916c56e3245d",
   "metadata": {},
   "outputs": [
    {
     "data": {
      "text/html": [
       "<table class=\"dataframe\">\n",
       "<caption>A data.frame: 10 × 2</caption>\n",
       "<thead>\n",
       "\t<tr><th></th><th scope=col>TR1_eGenes</th><th scope=col>TR2_eGenes</th></tr>\n",
       "\t<tr><th></th><th scope=col>&lt;dbl&gt;</th><th scope=col>&lt;dbl&gt;</th></tr>\n",
       "</thead>\n",
       "<tbody>\n",
       "\t<tr><th scope=row>lncRNA</th><td>1.000000</td><td>1.000000</td></tr>\n",
       "\t<tr><th scope=row>miRNA</th><td>0.000436</td><td>0.000436</td></tr>\n",
       "\t<tr><th scope=row>misc_RNA</th><td>0.892418</td><td>0.892418</td></tr>\n",
       "\t<tr><th scope=row>processed_pseudogene</th><td>1.000000</td><td>1.000000</td></tr>\n",
       "\t<tr><th scope=row>protein_coding</th><td>0.000268</td><td>0.000268</td></tr>\n",
       "\t<tr><th scope=row>snoRNA</th><td>1.000000</td><td>1.000000</td></tr>\n",
       "\t<tr><th scope=row>TEC</th><td>1.000000</td><td>1.000000</td></tr>\n",
       "\t<tr><th scope=row>transcribed_processed_pseudogene</th><td>1.000000</td><td>1.000000</td></tr>\n",
       "\t<tr><th scope=row>transcribed_unprocessed_pseudogene</th><td>1.000000</td><td>1.000000</td></tr>\n",
       "\t<tr><th scope=row>unprocessed_pseudogene</th><td>1.000000</td><td>1.000000</td></tr>\n",
       "</tbody>\n",
       "</table>\n"
      ],
      "text/latex": [
       "A data.frame: 10 × 2\n",
       "\\begin{tabular}{r|ll}\n",
       "  & TR1\\_eGenes & TR2\\_eGenes\\\\\n",
       "  & <dbl> & <dbl>\\\\\n",
       "\\hline\n",
       "\tlncRNA & 1.000000 & 1.000000\\\\\n",
       "\tmiRNA & 0.000436 & 0.000436\\\\\n",
       "\tmisc\\_RNA & 0.892418 & 0.892418\\\\\n",
       "\tprocessed\\_pseudogene & 1.000000 & 1.000000\\\\\n",
       "\tprotein\\_coding & 0.000268 & 0.000268\\\\\n",
       "\tsnoRNA & 1.000000 & 1.000000\\\\\n",
       "\tTEC & 1.000000 & 1.000000\\\\\n",
       "\ttranscribed\\_processed\\_pseudogene & 1.000000 & 1.000000\\\\\n",
       "\ttranscribed\\_unprocessed\\_pseudogene & 1.000000 & 1.000000\\\\\n",
       "\tunprocessed\\_pseudogene & 1.000000 & 1.000000\\\\\n",
       "\\end{tabular}\n"
      ],
      "text/markdown": [
       "\n",
       "A data.frame: 10 × 2\n",
       "\n",
       "| <!--/--> | TR1_eGenes &lt;dbl&gt; | TR2_eGenes &lt;dbl&gt; |\n",
       "|---|---|---|\n",
       "| lncRNA | 1.000000 | 1.000000 |\n",
       "| miRNA | 0.000436 | 0.000436 |\n",
       "| misc_RNA | 0.892418 | 0.892418 |\n",
       "| processed_pseudogene | 1.000000 | 1.000000 |\n",
       "| protein_coding | 0.000268 | 0.000268 |\n",
       "| snoRNA | 1.000000 | 1.000000 |\n",
       "| TEC | 1.000000 | 1.000000 |\n",
       "| transcribed_processed_pseudogene | 1.000000 | 1.000000 |\n",
       "| transcribed_unprocessed_pseudogene | 1.000000 | 1.000000 |\n",
       "| unprocessed_pseudogene | 1.000000 | 1.000000 |\n",
       "\n"
      ],
      "text/plain": [
       "                                   TR1_eGenes TR2_eGenes\n",
       "lncRNA                             1.000000   1.000000  \n",
       "miRNA                              0.000436   0.000436  \n",
       "misc_RNA                           0.892418   0.892418  \n",
       "processed_pseudogene               1.000000   1.000000  \n",
       "protein_coding                     0.000268   0.000268  \n",
       "snoRNA                             1.000000   1.000000  \n",
       "TEC                                1.000000   1.000000  \n",
       "transcribed_processed_pseudogene   1.000000   1.000000  \n",
       "transcribed_unprocessed_pseudogene 1.000000   1.000000  \n",
       "unprocessed_pseudogene             1.000000   1.000000  "
      ]
     },
     "metadata": {},
     "output_type": "display_data"
    }
   ],
   "source": [
    "library(\"chisq.posthoc.test\")\n",
    "posthoc <- chisq.posthoc.test(eGenes_biotype_df, method = \"bonferroni\")\n",
    "posthoc_p_df <- posthoc %>% filter(Value == \"p values\") %>% select(c(3,4))\n",
    "rownames(posthoc_p_df) <- (posthoc %>% filter(Value == \"p values\"))$Dimension\n",
    "posthoc_p_df"
   ]
  },
  {
   "cell_type": "markdown",
   "id": "33f48191-270d-4b5a-b513-71af40b6c746",
   "metadata": {},
   "source": [
    "### sGenes"
   ]
  },
  {
   "cell_type": "code",
   "execution_count": 16,
   "id": "2fda7ad4-d3db-4cda-ae22-8420d7b61c2e",
   "metadata": {},
   "outputs": [
    {
     "data": {
      "text/html": [
       "<table class=\"dataframe\">\n",
       "<caption>A data.frame: 2 × 2</caption>\n",
       "<thead>\n",
       "\t<tr><th></th><th scope=col>TR1_sGenes</th><th scope=col>TR2_sGenes</th></tr>\n",
       "\t<tr><th></th><th scope=col>&lt;int&gt;</th><th scope=col>&lt;int&gt;</th></tr>\n",
       "</thead>\n",
       "<tbody>\n",
       "\t<tr><th scope=row>lncRNA</th><td> 336</td><td> 40</td></tr>\n",
       "\t<tr><th scope=row>protein_coding</th><td>3120</td><td>511</td></tr>\n",
       "</tbody>\n",
       "</table>\n"
      ],
      "text/latex": [
       "A data.frame: 2 × 2\n",
       "\\begin{tabular}{r|ll}\n",
       "  & TR1\\_sGenes & TR2\\_sGenes\\\\\n",
       "  & <int> & <int>\\\\\n",
       "\\hline\n",
       "\tlncRNA &  336 &  40\\\\\n",
       "\tprotein\\_coding & 3120 & 511\\\\\n",
       "\\end{tabular}\n"
      ],
      "text/markdown": [
       "\n",
       "A data.frame: 2 × 2\n",
       "\n",
       "| <!--/--> | TR1_sGenes &lt;int&gt; | TR2_sGenes &lt;int&gt; |\n",
       "|---|---|---|\n",
       "| lncRNA |  336 |  40 |\n",
       "| protein_coding | 3120 | 511 |\n",
       "\n"
      ],
      "text/plain": [
       "               TR1_sGenes TR2_sGenes\n",
       "lncRNA          336        40       \n",
       "protein_coding 3120       511       "
      ]
     },
     "metadata": {},
     "output_type": "display_data"
    }
   ],
   "source": [
    "tr1_only_sGenes_biotypes <- gencode_annot %>% filter(ensg %in% tri1_only_sGenes)\n",
    "tr2_only_sGenes_biotypes <- gencode_annot %>% filter(ensg %in% tri2_only_sGenes)\n",
    "\n",
    "sGenes_biotype_df <- inner_join(tr1_only_sGenes_biotypes %>% count(V11) %>% rename(\"biotype\" = \"V11\", \"TR1_sGenes\" = \"n\"),\n",
    "                                tr2_only_sGenes_biotypes %>% count(V11) %>% rename(\"biotype\" = \"V11\", \"TR2_sGenes\" = \"n\"), by = \"biotype\") %>%\n",
    "                          column_to_rownames(\"biotype\") %>%\n",
    "                          filter(TR1_sGenes > 5 & TR2_sGenes > 5)\n",
    "\n",
    "sGenes_biotype_df"
   ]
  },
  {
   "cell_type": "code",
   "execution_count": 17,
   "id": "c667f8f7-ce25-4315-8bbf-ed79661e9b57",
   "metadata": {},
   "outputs": [
    {
     "data": {
      "text/plain": [
       "\n",
       "\tPearson's Chi-squared test with Yates' continuity correction\n",
       "\n",
       "data:  sGenes_biotype_df\n",
       "X-squared = 3.1062, df = 1, p-value = 0.078\n"
      ]
     },
     "metadata": {},
     "output_type": "display_data"
    }
   ],
   "source": [
    "sGenes_chisq <- chisq.test(sGenes_biotype_df)\n",
    "sGenes_chisq"
   ]
  },
  {
   "cell_type": "markdown",
   "id": "3ecb88f1-7abe-4b77-b484-84c5373e7772",
   "metadata": {},
   "source": [
    "## Cell Type Analysis"
   ]
  },
  {
   "cell_type": "markdown",
   "id": "5f3045db-3611-4bb1-99ce-4dd621520155",
   "metadata": {},
   "source": [
    "### eGenes"
   ]
  },
  {
   "cell_type": "code",
   "execution_count": 55,
   "id": "27405fcb-359c-40b3-be3f-9128f8137ada",
   "metadata": {},
   "outputs": [
    {
     "name": "stdout",
     "output_type": "stream",
     "text": [
      "vRG_0 vRG_1 vRG_2 vRG_3 oRG_0 oRG_1 oRG_2 oRG_3 oRG_4 PgS_0 PgS_1 PgS_2 PgS_3 PgS_4 PgG2M_0 PgG2M_1 PgG2M_2 PgG2M_3 PgG2M_4 IP_0 IP_1 IP_2 IP_3 ExN_0 ExN_1 ExN_2 ExN_4 ExN_5 ExN_6 ExN_7 ExM_0 ExM_2 ExM_3 ExM_4 ExM_5 ExM_6 ExM_7 ExM-U_0 ExM-U_1 ExM-U_2 ExM-U_3 ExM-U_4 ExM-U_5 ExDp1_0 ExDp1_1 ExDp1_2 ExDp1_3 ExDp2_1 InMGE_0 InMGE_1 InMGE_2 InMGE_3 InMGE_4 InMGE_6 InMGE_7 InCGE_0 InCGE_1 InCGE_2 InCGE_3 InCGE_4 InCGE_5 OPC_0 OPC_1 OPC_2 OPC_3 OPC_4 OPC_5 End_1 End_2 Per_0 Per_1 Per_2 "
     ]
    },
    {
     "data": {
      "text/html": [
       "<table class=\"dataframe\">\n",
       "<caption>A tibble: 144 × 4</caption>\n",
       "<thead>\n",
       "\t<tr><th scope=col>scenario</th><th scope=col>cell_type</th><th scope=col>fischer_p</th><th scope=col>fischer_or</th></tr>\n",
       "\t<tr><th scope=col>&lt;chr&gt;</th><th scope=col>&lt;chr&gt;</th><th scope=col>&lt;dbl&gt;</th><th scope=col>&lt;dbl&gt;</th></tr>\n",
       "</thead>\n",
       "<tbody>\n",
       "\t<tr><td>tr1_only_eGenes</td><td>ExDp1_0</td><td>0.0005475812</td><td>     Inf</td></tr>\n",
       "\t<tr><td>tr2_only_eGenes</td><td>PgG2M_1</td><td>0.0047253855</td><td>8.912788</td></tr>\n",
       "\t<tr><td>tr1_only_eGenes</td><td>oRG_4  </td><td>0.0116610376</td><td>2.430499</td></tr>\n",
       "\t<tr><td>tr1_only_eGenes</td><td>vRG_3  </td><td>0.0121548953</td><td>1.972971</td></tr>\n",
       "\t<tr><td>tr2_only_eGenes</td><td>PgG2M_2</td><td>0.0126048007</td><td>2.634272</td></tr>\n",
       "\t<tr><td>tr2_only_eGenes</td><td>oRG_3  </td><td>0.0218389321</td><td>2.992889</td></tr>\n",
       "\t<tr><td>tr2_only_eGenes</td><td>ExM-U_4</td><td>0.0305470111</td><td>2.978274</td></tr>\n",
       "\t<tr><td>tr2_only_eGenes</td><td>ExM-U_3</td><td>0.0452863797</td><td>2.641593</td></tr>\n",
       "\t<tr><td>tr2_only_eGenes</td><td>ExDp1_1</td><td>0.0604899937</td><td>2.949614</td></tr>\n",
       "\t<tr><td>tr1_only_eGenes</td><td>OPC_1  </td><td>0.0730508032</td><td>1.665942</td></tr>\n",
       "\t<tr><td>tr2_only_eGenes</td><td>PgS_1  </td><td>0.0841867629</td><td>2.053430</td></tr>\n",
       "\t<tr><td>tr2_only_eGenes</td><td>PgS_3  </td><td>0.0986407778</td><td>1.673983</td></tr>\n",
       "\t<tr><td>tr2_only_eGenes</td><td>ExN_7  </td><td>0.1237044590</td><td>2.921652</td></tr>\n",
       "\t<tr><td>tr2_only_eGenes</td><td>PgG2M_0</td><td>0.1322303301</td><td>1.460474</td></tr>\n",
       "\t<tr><td>tr1_only_eGenes</td><td>InCGE_1</td><td>0.1494806901</td><td>4.314932</td></tr>\n",
       "\t<tr><td>tr2_only_eGenes</td><td>InCGE_2</td><td>0.1649189017</td><td>5.794506</td></tr>\n",
       "\t<tr><td>tr2_only_eGenes</td><td>ExM_6  </td><td>0.1679975143</td><td>1.656673</td></tr>\n",
       "\t<tr><td>tr1_only_eGenes</td><td>oRG_2  </td><td>0.1759172028</td><td>1.569782</td></tr>\n",
       "\t<tr><td>tr2_only_eGenes</td><td>ExN_1  </td><td>0.1794643441</td><td>2.333007</td></tr>\n",
       "\t<tr><td>tr2_only_eGenes</td><td>ExM_4  </td><td>0.1794643441</td><td>2.333007</td></tr>\n",
       "\t<tr><td>tr2_only_eGenes</td><td>InMGE_0</td><td>0.1813484638</td><td>2.908443</td></tr>\n",
       "\t<tr><td>tr1_only_eGenes</td><td>End_2  </td><td>0.1860949376</td><td>1.631037</td></tr>\n",
       "\t<tr><td>tr1_only_eGenes</td><td>ExDp1_3</td><td>0.1919278869</td><td>1.505684</td></tr>\n",
       "\t<tr><td>tr1_only_eGenes</td><td>End_1  </td><td>0.1990129406</td><td>1.289112</td></tr>\n",
       "\t<tr><td>tr1_only_eGenes</td><td>ExN_2  </td><td>0.2006742097</td><td>2.589106</td></tr>\n",
       "\t<tr><td>tr1_only_eGenes</td><td>IP_1   </td><td>0.2182179746</td><td>1.610762</td></tr>\n",
       "\t<tr><td>tr1_only_eGenes</td><td>OPC_2  </td><td>0.2227225992</td><td>1.477504</td></tr>\n",
       "\t<tr><td>tr2_only_eGenes</td><td>InCGE_5</td><td>0.2396082481</td><td>1.465579</td></tr>\n",
       "\t<tr><td>tr2_only_eGenes</td><td>vRG_0  </td><td>0.2417752540</td><td>1.940326</td></tr>\n",
       "\t<tr><td>tr2_only_eGenes</td><td>oRG_1  </td><td>0.2580645161</td><td>     Inf</td></tr>\n",
       "\t<tr><td>⋮</td><td>⋮</td><td>⋮</td><td>⋮</td></tr>\n",
       "\t<tr><td>tr1_only_eGenes</td><td>InCGE_2</td><td>0.9029157</td><td>0.4256341</td></tr>\n",
       "\t<tr><td>tr2_only_eGenes</td><td>ExN_2  </td><td>0.9097871</td><td>0.4071376</td></tr>\n",
       "\t<tr><td>tr1_only_eGenes</td><td>InMGE_0</td><td>0.9244872</td><td>0.4237122</td></tr>\n",
       "\t<tr><td>tr2_only_eGenes</td><td>InMGE_6</td><td>0.9368348</td><td>0.5096134</td></tr>\n",
       "\t<tr><td>tr1_only_eGenes</td><td>InCGE_5</td><td>0.9461103</td><td>0.5719189</td></tr>\n",
       "\t<tr><td>tr2_only_eGenes</td><td>Per_2  </td><td>0.9496888</td><td>0.5537985</td></tr>\n",
       "\t<tr><td>tr1_only_eGenes</td><td>InCGE_0</td><td>0.9555686</td><td>0.2828176</td></tr>\n",
       "\t<tr><td>tr2_only_eGenes</td><td>oRG_2  </td><td>0.9582836</td><td>0.4648149</td></tr>\n",
       "\t<tr><td>tr2_only_eGenes</td><td>ExM-U_5</td><td>0.9582836</td><td>0.4648149</td></tr>\n",
       "\t<tr><td>tr1_only_eGenes</td><td>ExDp1_1</td><td>0.9598301</td><td>0.4198296</td></tr>\n",
       "\t<tr><td>tr2_only_eGenes</td><td>oRG_4  </td><td>0.9810110</td><td>0.4299388</td></tr>\n",
       "\t<tr><td>tr1_only_eGenes</td><td>PgS_3  </td><td>0.9853228</td><td>0.5097882</td></tr>\n",
       "\t<tr><td>tr1_only_eGenes</td><td>ExM-U_3</td><td>0.9900630</td><td>0.3455102</td></tr>\n",
       "\t<tr><td>tr2_only_eGenes</td><td>OPC_1  </td><td>0.9913263</td><td>0.4070554</td></tr>\n",
       "\t<tr><td>tr1_only_eGenes</td><td>oRG_3  </td><td>0.9943384</td><td>0.3176722</td></tr>\n",
       "\t<tr><td>tr1_only_eGenes</td><td>ExN_4  </td><td>0.9957955</td><td>0.1398584</td></tr>\n",
       "\t<tr><td>tr1_only_eGenes</td><td>PgG2M_1</td><td>0.9980923</td><td>0.1194159</td></tr>\n",
       "\t<tr><td>tr2_only_eGenes</td><td>vRG_3  </td><td>0.9986923</td><td>0.3485473</td></tr>\n",
       "\t<tr><td>tr1_only_eGenes</td><td>oRG_1  </td><td>1.0000000</td><td>0.0000000</td></tr>\n",
       "\t<tr><td>tr1_only_eGenes</td><td>PgG2M_3</td><td>1.0000000</td><td>0.0000000</td></tr>\n",
       "\t<tr><td>tr2_only_eGenes</td><td>ExN_0  </td><td>1.0000000</td><td>0.0000000</td></tr>\n",
       "\t<tr><td>tr2_only_eGenes</td><td>ExM_2  </td><td>1.0000000</td><td>0.0000000</td></tr>\n",
       "\t<tr><td>tr2_only_eGenes</td><td>ExDp1_0</td><td>1.0000000</td><td>0.0000000</td></tr>\n",
       "\t<tr><td>tr1_only_eGenes</td><td>ExDp2_1</td><td>1.0000000</td><td>0.0000000</td></tr>\n",
       "\t<tr><td>tr2_only_eGenes</td><td>ExDp2_1</td><td>1.0000000</td><td>0.0000000</td></tr>\n",
       "\t<tr><td>tr1_only_eGenes</td><td>InMGE_1</td><td>1.0000000</td><td>0.0000000</td></tr>\n",
       "\t<tr><td>tr2_only_eGenes</td><td>InMGE_1</td><td>1.0000000</td><td>0.0000000</td></tr>\n",
       "\t<tr><td>tr1_only_eGenes</td><td>InCGE_3</td><td>1.0000000</td><td>0.0000000</td></tr>\n",
       "\t<tr><td>tr1_only_eGenes</td><td>Per_1  </td><td>1.0000000</td><td>0.0000000</td></tr>\n",
       "\t<tr><td>tr2_only_eGenes</td><td>Per_1  </td><td>1.0000000</td><td>0.0000000</td></tr>\n",
       "</tbody>\n",
       "</table>\n"
      ],
      "text/latex": [
       "A tibble: 144 × 4\n",
       "\\begin{tabular}{llll}\n",
       " scenario & cell\\_type & fischer\\_p & fischer\\_or\\\\\n",
       " <chr> & <chr> & <dbl> & <dbl>\\\\\n",
       "\\hline\n",
       "\t tr1\\_only\\_eGenes & ExDp1\\_0 & 0.0005475812 &      Inf\\\\\n",
       "\t tr2\\_only\\_eGenes & PgG2M\\_1 & 0.0047253855 & 8.912788\\\\\n",
       "\t tr1\\_only\\_eGenes & oRG\\_4   & 0.0116610376 & 2.430499\\\\\n",
       "\t tr1\\_only\\_eGenes & vRG\\_3   & 0.0121548953 & 1.972971\\\\\n",
       "\t tr2\\_only\\_eGenes & PgG2M\\_2 & 0.0126048007 & 2.634272\\\\\n",
       "\t tr2\\_only\\_eGenes & oRG\\_3   & 0.0218389321 & 2.992889\\\\\n",
       "\t tr2\\_only\\_eGenes & ExM-U\\_4 & 0.0305470111 & 2.978274\\\\\n",
       "\t tr2\\_only\\_eGenes & ExM-U\\_3 & 0.0452863797 & 2.641593\\\\\n",
       "\t tr2\\_only\\_eGenes & ExDp1\\_1 & 0.0604899937 & 2.949614\\\\\n",
       "\t tr1\\_only\\_eGenes & OPC\\_1   & 0.0730508032 & 1.665942\\\\\n",
       "\t tr2\\_only\\_eGenes & PgS\\_1   & 0.0841867629 & 2.053430\\\\\n",
       "\t tr2\\_only\\_eGenes & PgS\\_3   & 0.0986407778 & 1.673983\\\\\n",
       "\t tr2\\_only\\_eGenes & ExN\\_7   & 0.1237044590 & 2.921652\\\\\n",
       "\t tr2\\_only\\_eGenes & PgG2M\\_0 & 0.1322303301 & 1.460474\\\\\n",
       "\t tr1\\_only\\_eGenes & InCGE\\_1 & 0.1494806901 & 4.314932\\\\\n",
       "\t tr2\\_only\\_eGenes & InCGE\\_2 & 0.1649189017 & 5.794506\\\\\n",
       "\t tr2\\_only\\_eGenes & ExM\\_6   & 0.1679975143 & 1.656673\\\\\n",
       "\t tr1\\_only\\_eGenes & oRG\\_2   & 0.1759172028 & 1.569782\\\\\n",
       "\t tr2\\_only\\_eGenes & ExN\\_1   & 0.1794643441 & 2.333007\\\\\n",
       "\t tr2\\_only\\_eGenes & ExM\\_4   & 0.1794643441 & 2.333007\\\\\n",
       "\t tr2\\_only\\_eGenes & InMGE\\_0 & 0.1813484638 & 2.908443\\\\\n",
       "\t tr1\\_only\\_eGenes & End\\_2   & 0.1860949376 & 1.631037\\\\\n",
       "\t tr1\\_only\\_eGenes & ExDp1\\_3 & 0.1919278869 & 1.505684\\\\\n",
       "\t tr1\\_only\\_eGenes & End\\_1   & 0.1990129406 & 1.289112\\\\\n",
       "\t tr1\\_only\\_eGenes & ExN\\_2   & 0.2006742097 & 2.589106\\\\\n",
       "\t tr1\\_only\\_eGenes & IP\\_1    & 0.2182179746 & 1.610762\\\\\n",
       "\t tr1\\_only\\_eGenes & OPC\\_2   & 0.2227225992 & 1.477504\\\\\n",
       "\t tr2\\_only\\_eGenes & InCGE\\_5 & 0.2396082481 & 1.465579\\\\\n",
       "\t tr2\\_only\\_eGenes & vRG\\_0   & 0.2417752540 & 1.940326\\\\\n",
       "\t tr2\\_only\\_eGenes & oRG\\_1   & 0.2580645161 &      Inf\\\\\n",
       "\t ⋮ & ⋮ & ⋮ & ⋮\\\\\n",
       "\t tr1\\_only\\_eGenes & InCGE\\_2 & 0.9029157 & 0.4256341\\\\\n",
       "\t tr2\\_only\\_eGenes & ExN\\_2   & 0.9097871 & 0.4071376\\\\\n",
       "\t tr1\\_only\\_eGenes & InMGE\\_0 & 0.9244872 & 0.4237122\\\\\n",
       "\t tr2\\_only\\_eGenes & InMGE\\_6 & 0.9368348 & 0.5096134\\\\\n",
       "\t tr1\\_only\\_eGenes & InCGE\\_5 & 0.9461103 & 0.5719189\\\\\n",
       "\t tr2\\_only\\_eGenes & Per\\_2   & 0.9496888 & 0.5537985\\\\\n",
       "\t tr1\\_only\\_eGenes & InCGE\\_0 & 0.9555686 & 0.2828176\\\\\n",
       "\t tr2\\_only\\_eGenes & oRG\\_2   & 0.9582836 & 0.4648149\\\\\n",
       "\t tr2\\_only\\_eGenes & ExM-U\\_5 & 0.9582836 & 0.4648149\\\\\n",
       "\t tr1\\_only\\_eGenes & ExDp1\\_1 & 0.9598301 & 0.4198296\\\\\n",
       "\t tr2\\_only\\_eGenes & oRG\\_4   & 0.9810110 & 0.4299388\\\\\n",
       "\t tr1\\_only\\_eGenes & PgS\\_3   & 0.9853228 & 0.5097882\\\\\n",
       "\t tr1\\_only\\_eGenes & ExM-U\\_3 & 0.9900630 & 0.3455102\\\\\n",
       "\t tr2\\_only\\_eGenes & OPC\\_1   & 0.9913263 & 0.4070554\\\\\n",
       "\t tr1\\_only\\_eGenes & oRG\\_3   & 0.9943384 & 0.3176722\\\\\n",
       "\t tr1\\_only\\_eGenes & ExN\\_4   & 0.9957955 & 0.1398584\\\\\n",
       "\t tr1\\_only\\_eGenes & PgG2M\\_1 & 0.9980923 & 0.1194159\\\\\n",
       "\t tr2\\_only\\_eGenes & vRG\\_3   & 0.9986923 & 0.3485473\\\\\n",
       "\t tr1\\_only\\_eGenes & oRG\\_1   & 1.0000000 & 0.0000000\\\\\n",
       "\t tr1\\_only\\_eGenes & PgG2M\\_3 & 1.0000000 & 0.0000000\\\\\n",
       "\t tr2\\_only\\_eGenes & ExN\\_0   & 1.0000000 & 0.0000000\\\\\n",
       "\t tr2\\_only\\_eGenes & ExM\\_2   & 1.0000000 & 0.0000000\\\\\n",
       "\t tr2\\_only\\_eGenes & ExDp1\\_0 & 1.0000000 & 0.0000000\\\\\n",
       "\t tr1\\_only\\_eGenes & ExDp2\\_1 & 1.0000000 & 0.0000000\\\\\n",
       "\t tr2\\_only\\_eGenes & ExDp2\\_1 & 1.0000000 & 0.0000000\\\\\n",
       "\t tr1\\_only\\_eGenes & InMGE\\_1 & 1.0000000 & 0.0000000\\\\\n",
       "\t tr2\\_only\\_eGenes & InMGE\\_1 & 1.0000000 & 0.0000000\\\\\n",
       "\t tr1\\_only\\_eGenes & InCGE\\_3 & 1.0000000 & 0.0000000\\\\\n",
       "\t tr1\\_only\\_eGenes & Per\\_1   & 1.0000000 & 0.0000000\\\\\n",
       "\t tr2\\_only\\_eGenes & Per\\_1   & 1.0000000 & 0.0000000\\\\\n",
       "\\end{tabular}\n"
      ],
      "text/markdown": [
       "\n",
       "A tibble: 144 × 4\n",
       "\n",
       "| scenario &lt;chr&gt; | cell_type &lt;chr&gt; | fischer_p &lt;dbl&gt; | fischer_or &lt;dbl&gt; |\n",
       "|---|---|---|---|\n",
       "| tr1_only_eGenes | ExDp1_0 | 0.0005475812 |      Inf |\n",
       "| tr2_only_eGenes | PgG2M_1 | 0.0047253855 | 8.912788 |\n",
       "| tr1_only_eGenes | oRG_4   | 0.0116610376 | 2.430499 |\n",
       "| tr1_only_eGenes | vRG_3   | 0.0121548953 | 1.972971 |\n",
       "| tr2_only_eGenes | PgG2M_2 | 0.0126048007 | 2.634272 |\n",
       "| tr2_only_eGenes | oRG_3   | 0.0218389321 | 2.992889 |\n",
       "| tr2_only_eGenes | ExM-U_4 | 0.0305470111 | 2.978274 |\n",
       "| tr2_only_eGenes | ExM-U_3 | 0.0452863797 | 2.641593 |\n",
       "| tr2_only_eGenes | ExDp1_1 | 0.0604899937 | 2.949614 |\n",
       "| tr1_only_eGenes | OPC_1   | 0.0730508032 | 1.665942 |\n",
       "| tr2_only_eGenes | PgS_1   | 0.0841867629 | 2.053430 |\n",
       "| tr2_only_eGenes | PgS_3   | 0.0986407778 | 1.673983 |\n",
       "| tr2_only_eGenes | ExN_7   | 0.1237044590 | 2.921652 |\n",
       "| tr2_only_eGenes | PgG2M_0 | 0.1322303301 | 1.460474 |\n",
       "| tr1_only_eGenes | InCGE_1 | 0.1494806901 | 4.314932 |\n",
       "| tr2_only_eGenes | InCGE_2 | 0.1649189017 | 5.794506 |\n",
       "| tr2_only_eGenes | ExM_6   | 0.1679975143 | 1.656673 |\n",
       "| tr1_only_eGenes | oRG_2   | 0.1759172028 | 1.569782 |\n",
       "| tr2_only_eGenes | ExN_1   | 0.1794643441 | 2.333007 |\n",
       "| tr2_only_eGenes | ExM_4   | 0.1794643441 | 2.333007 |\n",
       "| tr2_only_eGenes | InMGE_0 | 0.1813484638 | 2.908443 |\n",
       "| tr1_only_eGenes | End_2   | 0.1860949376 | 1.631037 |\n",
       "| tr1_only_eGenes | ExDp1_3 | 0.1919278869 | 1.505684 |\n",
       "| tr1_only_eGenes | End_1   | 0.1990129406 | 1.289112 |\n",
       "| tr1_only_eGenes | ExN_2   | 0.2006742097 | 2.589106 |\n",
       "| tr1_only_eGenes | IP_1    | 0.2182179746 | 1.610762 |\n",
       "| tr1_only_eGenes | OPC_2   | 0.2227225992 | 1.477504 |\n",
       "| tr2_only_eGenes | InCGE_5 | 0.2396082481 | 1.465579 |\n",
       "| tr2_only_eGenes | vRG_0   | 0.2417752540 | 1.940326 |\n",
       "| tr2_only_eGenes | oRG_1   | 0.2580645161 |      Inf |\n",
       "| ⋮ | ⋮ | ⋮ | ⋮ |\n",
       "| tr1_only_eGenes | InCGE_2 | 0.9029157 | 0.4256341 |\n",
       "| tr2_only_eGenes | ExN_2   | 0.9097871 | 0.4071376 |\n",
       "| tr1_only_eGenes | InMGE_0 | 0.9244872 | 0.4237122 |\n",
       "| tr2_only_eGenes | InMGE_6 | 0.9368348 | 0.5096134 |\n",
       "| tr1_only_eGenes | InCGE_5 | 0.9461103 | 0.5719189 |\n",
       "| tr2_only_eGenes | Per_2   | 0.9496888 | 0.5537985 |\n",
       "| tr1_only_eGenes | InCGE_0 | 0.9555686 | 0.2828176 |\n",
       "| tr2_only_eGenes | oRG_2   | 0.9582836 | 0.4648149 |\n",
       "| tr2_only_eGenes | ExM-U_5 | 0.9582836 | 0.4648149 |\n",
       "| tr1_only_eGenes | ExDp1_1 | 0.9598301 | 0.4198296 |\n",
       "| tr2_only_eGenes | oRG_4   | 0.9810110 | 0.4299388 |\n",
       "| tr1_only_eGenes | PgS_3   | 0.9853228 | 0.5097882 |\n",
       "| tr1_only_eGenes | ExM-U_3 | 0.9900630 | 0.3455102 |\n",
       "| tr2_only_eGenes | OPC_1   | 0.9913263 | 0.4070554 |\n",
       "| tr1_only_eGenes | oRG_3   | 0.9943384 | 0.3176722 |\n",
       "| tr1_only_eGenes | ExN_4   | 0.9957955 | 0.1398584 |\n",
       "| tr1_only_eGenes | PgG2M_1 | 0.9980923 | 0.1194159 |\n",
       "| tr2_only_eGenes | vRG_3   | 0.9986923 | 0.3485473 |\n",
       "| tr1_only_eGenes | oRG_1   | 1.0000000 | 0.0000000 |\n",
       "| tr1_only_eGenes | PgG2M_3 | 1.0000000 | 0.0000000 |\n",
       "| tr2_only_eGenes | ExN_0   | 1.0000000 | 0.0000000 |\n",
       "| tr2_only_eGenes | ExM_2   | 1.0000000 | 0.0000000 |\n",
       "| tr2_only_eGenes | ExDp1_0 | 1.0000000 | 0.0000000 |\n",
       "| tr1_only_eGenes | ExDp2_1 | 1.0000000 | 0.0000000 |\n",
       "| tr2_only_eGenes | ExDp2_1 | 1.0000000 | 0.0000000 |\n",
       "| tr1_only_eGenes | InMGE_1 | 1.0000000 | 0.0000000 |\n",
       "| tr2_only_eGenes | InMGE_1 | 1.0000000 | 0.0000000 |\n",
       "| tr1_only_eGenes | InCGE_3 | 1.0000000 | 0.0000000 |\n",
       "| tr1_only_eGenes | Per_1   | 1.0000000 | 0.0000000 |\n",
       "| tr2_only_eGenes | Per_1   | 1.0000000 | 0.0000000 |\n",
       "\n"
      ],
      "text/plain": [
       "    scenario        cell_type fischer_p    fischer_or\n",
       "1   tr1_only_eGenes ExDp1_0   0.0005475812      Inf  \n",
       "2   tr2_only_eGenes PgG2M_1   0.0047253855 8.912788  \n",
       "3   tr1_only_eGenes oRG_4     0.0116610376 2.430499  \n",
       "4   tr1_only_eGenes vRG_3     0.0121548953 1.972971  \n",
       "5   tr2_only_eGenes PgG2M_2   0.0126048007 2.634272  \n",
       "6   tr2_only_eGenes oRG_3     0.0218389321 2.992889  \n",
       "7   tr2_only_eGenes ExM-U_4   0.0305470111 2.978274  \n",
       "8   tr2_only_eGenes ExM-U_3   0.0452863797 2.641593  \n",
       "9   tr2_only_eGenes ExDp1_1   0.0604899937 2.949614  \n",
       "10  tr1_only_eGenes OPC_1     0.0730508032 1.665942  \n",
       "11  tr2_only_eGenes PgS_1     0.0841867629 2.053430  \n",
       "12  tr2_only_eGenes PgS_3     0.0986407778 1.673983  \n",
       "13  tr2_only_eGenes ExN_7     0.1237044590 2.921652  \n",
       "14  tr2_only_eGenes PgG2M_0   0.1322303301 1.460474  \n",
       "15  tr1_only_eGenes InCGE_1   0.1494806901 4.314932  \n",
       "16  tr2_only_eGenes InCGE_2   0.1649189017 5.794506  \n",
       "17  tr2_only_eGenes ExM_6     0.1679975143 1.656673  \n",
       "18  tr1_only_eGenes oRG_2     0.1759172028 1.569782  \n",
       "19  tr2_only_eGenes ExN_1     0.1794643441 2.333007  \n",
       "20  tr2_only_eGenes ExM_4     0.1794643441 2.333007  \n",
       "21  tr2_only_eGenes InMGE_0   0.1813484638 2.908443  \n",
       "22  tr1_only_eGenes End_2     0.1860949376 1.631037  \n",
       "23  tr1_only_eGenes ExDp1_3   0.1919278869 1.505684  \n",
       "24  tr1_only_eGenes End_1     0.1990129406 1.289112  \n",
       "25  tr1_only_eGenes ExN_2     0.2006742097 2.589106  \n",
       "26  tr1_only_eGenes IP_1      0.2182179746 1.610762  \n",
       "27  tr1_only_eGenes OPC_2     0.2227225992 1.477504  \n",
       "28  tr2_only_eGenes InCGE_5   0.2396082481 1.465579  \n",
       "29  tr2_only_eGenes vRG_0     0.2417752540 1.940326  \n",
       "30  tr2_only_eGenes oRG_1     0.2580645161      Inf  \n",
       "⋮   ⋮               ⋮         ⋮            ⋮         \n",
       "115 tr1_only_eGenes InCGE_2   0.9029157    0.4256341 \n",
       "116 tr2_only_eGenes ExN_2     0.9097871    0.4071376 \n",
       "117 tr1_only_eGenes InMGE_0   0.9244872    0.4237122 \n",
       "118 tr2_only_eGenes InMGE_6   0.9368348    0.5096134 \n",
       "119 tr1_only_eGenes InCGE_5   0.9461103    0.5719189 \n",
       "120 tr2_only_eGenes Per_2     0.9496888    0.5537985 \n",
       "121 tr1_only_eGenes InCGE_0   0.9555686    0.2828176 \n",
       "122 tr2_only_eGenes oRG_2     0.9582836    0.4648149 \n",
       "123 tr2_only_eGenes ExM-U_5   0.9582836    0.4648149 \n",
       "124 tr1_only_eGenes ExDp1_1   0.9598301    0.4198296 \n",
       "125 tr2_only_eGenes oRG_4     0.9810110    0.4299388 \n",
       "126 tr1_only_eGenes PgS_3     0.9853228    0.5097882 \n",
       "127 tr1_only_eGenes ExM-U_3   0.9900630    0.3455102 \n",
       "128 tr2_only_eGenes OPC_1     0.9913263    0.4070554 \n",
       "129 tr1_only_eGenes oRG_3     0.9943384    0.3176722 \n",
       "130 tr1_only_eGenes ExN_4     0.9957955    0.1398584 \n",
       "131 tr1_only_eGenes PgG2M_1   0.9980923    0.1194159 \n",
       "132 tr2_only_eGenes vRG_3     0.9986923    0.3485473 \n",
       "133 tr1_only_eGenes oRG_1     1.0000000    0.0000000 \n",
       "134 tr1_only_eGenes PgG2M_3   1.0000000    0.0000000 \n",
       "135 tr2_only_eGenes ExN_0     1.0000000    0.0000000 \n",
       "136 tr2_only_eGenes ExM_2     1.0000000    0.0000000 \n",
       "137 tr2_only_eGenes ExDp1_0   1.0000000    0.0000000 \n",
       "138 tr1_only_eGenes ExDp2_1   1.0000000    0.0000000 \n",
       "139 tr2_only_eGenes ExDp2_1   1.0000000    0.0000000 \n",
       "140 tr1_only_eGenes InMGE_1   1.0000000    0.0000000 \n",
       "141 tr2_only_eGenes InMGE_1   1.0000000    0.0000000 \n",
       "142 tr1_only_eGenes InCGE_3   1.0000000    0.0000000 \n",
       "143 tr1_only_eGenes Per_1     1.0000000    0.0000000 \n",
       "144 tr2_only_eGenes Per_1     1.0000000    0.0000000 "
      ]
     },
     "metadata": {},
     "output_type": "display_data"
    }
   ],
   "source": [
    "eGenes_cell_subcluster_res <- tibble()\n",
    "\n",
    "for (cell in unique(celltypemarkers_tableS5$subcluster)) {\n",
    "    cat(paste0(cell, \" \"))\n",
    "    \n",
    "    one_cell_markers <- celltypemarkers_tableS5 %>%\n",
    "                            filter(subcluster == cell) %>%\n",
    "                            select(ensembl) %>%\n",
    "                            pull\n",
    "    \n",
    "    res <- fischer_ORA(test_set = tri1_only_eGenes,\n",
    "                       test_background = tri12_eGene_bg,\n",
    "                       ref_set = one_cell_markers,\n",
    "                       ref_background = celltypemarkers_tableS5_bg)\n",
    "    \n",
    "    eGenes_cell_subcluster_res <- rbind(eGenes_cell_subcluster_res, tibble(scenario = \"tr1_only_eGenes\",\n",
    "                                                                       cell_type = cell,\n",
    "                                                                       fischer_p = res$p.value,\n",
    "                                                                       fischer_or = as.numeric(res$estimate)))\n",
    "    \n",
    "    res <- fischer_ORA(test_set = tri2_only_eGenes,\n",
    "                       test_background = tri12_eGene_bg,\n",
    "                       ref_set = one_cell_markers,\n",
    "                       ref_background = celltypemarkers_tableS5_bg)\n",
    "    \n",
    "    eGenes_cell_subcluster_res <- rbind(eGenes_cell_subcluster_res, tibble(scenario = \"tr2_only_eGenes\",\n",
    "                                                                       cell_type = cell,\n",
    "                                                                       fischer_p = res$p.value,\n",
    "                                                                       fischer_or = as.numeric(res$estimate)))\n",
    "}\n",
    "\n",
    "eGenes_cell_subcluster_res %>% arrange(fischer_p)"
   ]
  },
  {
   "cell_type": "code",
   "execution_count": 64,
   "id": "2a68357a-efd0-43c9-9939-75b60f7b38ff",
   "metadata": {},
   "outputs": [
    {
     "data": {
      "text/html": [
       "<style>\n",
       ".list-inline {list-style: none; margin:0; padding: 0}\n",
       ".list-inline>li {display: inline-block}\n",
       ".list-inline>li:not(:last-child)::after {content: \"\\00b7\"; padding: 0 .5ex}\n",
       "</style>\n",
       "<ol class=list-inline><li>'ExN'</li><li>'PgG2M'</li><li>'OPC'</li><li>'End'</li><li>'ExDp2'</li><li>'Per'</li><li>'Mic'</li><li>'ExM'</li><li>'IP'</li><li>'ExDp1'</li><li>'ExM-U'</li><li>'InMGE'</li><li>'InCGE'</li><li>'oRG'</li><li>'PgS'</li><li>'vRG'</li></ol>\n"
      ],
      "text/latex": [
       "\\begin{enumerate*}\n",
       "\\item 'ExN'\n",
       "\\item 'PgG2M'\n",
       "\\item 'OPC'\n",
       "\\item 'End'\n",
       "\\item 'ExDp2'\n",
       "\\item 'Per'\n",
       "\\item 'Mic'\n",
       "\\item 'ExM'\n",
       "\\item 'IP'\n",
       "\\item 'ExDp1'\n",
       "\\item 'ExM-U'\n",
       "\\item 'InMGE'\n",
       "\\item 'InCGE'\n",
       "\\item 'oRG'\n",
       "\\item 'PgS'\n",
       "\\item 'vRG'\n",
       "\\end{enumerate*}\n"
      ],
      "text/markdown": [
       "1. 'ExN'\n",
       "2. 'PgG2M'\n",
       "3. 'OPC'\n",
       "4. 'End'\n",
       "5. 'ExDp2'\n",
       "6. 'Per'\n",
       "7. 'Mic'\n",
       "8. 'ExM'\n",
       "9. 'IP'\n",
       "10. 'ExDp1'\n",
       "11. 'ExM-U'\n",
       "12. 'InMGE'\n",
       "13. 'InCGE'\n",
       "14. 'oRG'\n",
       "15. 'PgS'\n",
       "16. 'vRG'\n",
       "\n",
       "\n"
      ],
      "text/plain": [
       " [1] \"ExN\"   \"PgG2M\" \"OPC\"   \"End\"   \"ExDp2\" \"Per\"   \"Mic\"   \"ExM\"   \"IP\"   \n",
       "[10] \"ExDp1\" \"ExM-U\" \"InMGE\" \"InCGE\" \"oRG\"   \"PgS\"   \"vRG\"  "
      ]
     },
     "metadata": {},
     "output_type": "display_data"
    }
   ],
   "source": [
    "unique(celltypemarkers_tableS4$cluster)"
   ]
  },
  {
   "cell_type": "code",
   "execution_count": 80,
   "id": "b8dbd0df-ea6c-4f04-9389-cd26c172b06b",
   "metadata": {},
   "outputs": [
    {
     "name": "stdout",
     "output_type": "stream",
     "text": [
      "ExN PgG2M OPC End ExDp2 Per Mic ExM IP ExDp1 InMGE InCGE oRG PgS vRG "
     ]
    },
    {
     "data": {
      "text/html": [
       "<table class=\"dataframe\">\n",
       "<caption>A tibble: 30 × 4</caption>\n",
       "<thead>\n",
       "\t<tr><th scope=col>scenario</th><th scope=col>cell_type</th><th scope=col>fischer_p</th><th scope=col>fischer_or</th></tr>\n",
       "\t<tr><th scope=col>&lt;chr&gt;</th><th scope=col>&lt;chr&gt;</th><th scope=col>&lt;dbl&gt;</th><th scope=col>&lt;dbl&gt;</th></tr>\n",
       "</thead>\n",
       "<tbody>\n",
       "\t<tr><td>tr2_only_eGenes</td><td>IP   </td><td>0.002043758</td><td>3.4193856</td></tr>\n",
       "\t<tr><td>tr1_only_eGenes</td><td>ExM  </td><td>0.011352955</td><td>2.4244701</td></tr>\n",
       "\t<tr><td>tr2_only_eGenes</td><td>OPC  </td><td>0.098160753</td><td>1.5028491</td></tr>\n",
       "\t<tr><td>tr1_only_eGenes</td><td>End  </td><td>0.104472624</td><td>1.4687096</td></tr>\n",
       "\t<tr><td>tr2_only_eGenes</td><td>ExN  </td><td>0.120827541</td><td>2.5818938</td></tr>\n",
       "\t<tr><td>tr2_only_eGenes</td><td>InMGE</td><td>0.273576596</td><td>1.4999255</td></tr>\n",
       "\t<tr><td>tr2_only_eGenes</td><td>oRG  </td><td>0.289440151</td><td>1.2027926</td></tr>\n",
       "\t<tr><td>tr1_only_eGenes</td><td>Mic  </td><td>0.291126764</td><td>1.1760123</td></tr>\n",
       "\t<tr><td>tr1_only_eGenes</td><td>ExDp1</td><td>0.330540924</td><td>1.1821982</td></tr>\n",
       "\t<tr><td>tr2_only_eGenes</td><td>ExDp2</td><td>0.421289063</td><td>1.0877559</td></tr>\n",
       "\t<tr><td>tr2_only_eGenes</td><td>ExDp1</td><td>0.449616295</td><td>1.0855224</td></tr>\n",
       "\t<tr><td>tr2_only_eGenes</td><td>vRG  </td><td>0.467217596</td><td>1.0676474</td></tr>\n",
       "\t<tr><td>tr2_only_eGenes</td><td>PgG2M</td><td>0.499772384</td><td>1.0379085</td></tr>\n",
       "\t<tr><td>tr1_only_eGenes</td><td>ExDp2</td><td>0.556535879</td><td>0.9956261</td></tr>\n",
       "\t<tr><td>tr1_only_eGenes</td><td>InCGE</td><td>0.597623967</td><td>1.0087732</td></tr>\n",
       "\t<tr><td>tr2_only_eGenes</td><td>Mic  </td><td>0.685567470</td><td>0.9080211</td></tr>\n",
       "\t<tr><td>tr1_only_eGenes</td><td>InMGE</td><td>0.707494135</td><td>0.8668431</td></tr>\n",
       "\t<tr><td>tr2_only_eGenes</td><td>InCGE</td><td>0.710157564</td><td>0.8386882</td></tr>\n",
       "\t<tr><td>tr2_only_eGenes</td><td>PgS  </td><td>0.751272192</td><td>0.8610035</td></tr>\n",
       "\t<tr><td>tr1_only_eGenes</td><td>ExN  </td><td>0.762395266</td><td>0.7807160</td></tr>\n",
       "\t<tr><td>tr1_only_eGenes</td><td>PgS  </td><td>0.775312518</td><td>0.8590936</td></tr>\n",
       "\t<tr><td>tr1_only_eGenes</td><td>PgG2M</td><td>0.797165767</td><td>0.8337211</td></tr>\n",
       "\t<tr><td>tr2_only_eGenes</td><td>Per  </td><td>0.810972277</td><td>0.8286977</td></tr>\n",
       "\t<tr><td>tr2_only_eGenes</td><td>ExM  </td><td>0.827162971</td><td>0.7421485</td></tr>\n",
       "\t<tr><td>tr1_only_eGenes</td><td>vRG  </td><td>0.845534429</td><td>0.7862594</td></tr>\n",
       "\t<tr><td>tr1_only_eGenes</td><td>oRG  </td><td>0.899917674</td><td>0.7493835</td></tr>\n",
       "\t<tr><td>tr1_only_eGenes</td><td>Per  </td><td>0.910412886</td><td>0.7648304</td></tr>\n",
       "\t<tr><td>tr1_only_eGenes</td><td>OPC  </td><td>0.926332112</td><td>0.7031075</td></tr>\n",
       "\t<tr><td>tr2_only_eGenes</td><td>End  </td><td>0.956765758</td><td>0.6077854</td></tr>\n",
       "\t<tr><td>tr1_only_eGenes</td><td>IP   </td><td>0.998883718</td><td>0.3104859</td></tr>\n",
       "</tbody>\n",
       "</table>\n"
      ],
      "text/latex": [
       "A tibble: 30 × 4\n",
       "\\begin{tabular}{llll}\n",
       " scenario & cell\\_type & fischer\\_p & fischer\\_or\\\\\n",
       " <chr> & <chr> & <dbl> & <dbl>\\\\\n",
       "\\hline\n",
       "\t tr2\\_only\\_eGenes & IP    & 0.002043758 & 3.4193856\\\\\n",
       "\t tr1\\_only\\_eGenes & ExM   & 0.011352955 & 2.4244701\\\\\n",
       "\t tr2\\_only\\_eGenes & OPC   & 0.098160753 & 1.5028491\\\\\n",
       "\t tr1\\_only\\_eGenes & End   & 0.104472624 & 1.4687096\\\\\n",
       "\t tr2\\_only\\_eGenes & ExN   & 0.120827541 & 2.5818938\\\\\n",
       "\t tr2\\_only\\_eGenes & InMGE & 0.273576596 & 1.4999255\\\\\n",
       "\t tr2\\_only\\_eGenes & oRG   & 0.289440151 & 1.2027926\\\\\n",
       "\t tr1\\_only\\_eGenes & Mic   & 0.291126764 & 1.1760123\\\\\n",
       "\t tr1\\_only\\_eGenes & ExDp1 & 0.330540924 & 1.1821982\\\\\n",
       "\t tr2\\_only\\_eGenes & ExDp2 & 0.421289063 & 1.0877559\\\\\n",
       "\t tr2\\_only\\_eGenes & ExDp1 & 0.449616295 & 1.0855224\\\\\n",
       "\t tr2\\_only\\_eGenes & vRG   & 0.467217596 & 1.0676474\\\\\n",
       "\t tr2\\_only\\_eGenes & PgG2M & 0.499772384 & 1.0379085\\\\\n",
       "\t tr1\\_only\\_eGenes & ExDp2 & 0.556535879 & 0.9956261\\\\\n",
       "\t tr1\\_only\\_eGenes & InCGE & 0.597623967 & 1.0087732\\\\\n",
       "\t tr2\\_only\\_eGenes & Mic   & 0.685567470 & 0.9080211\\\\\n",
       "\t tr1\\_only\\_eGenes & InMGE & 0.707494135 & 0.8668431\\\\\n",
       "\t tr2\\_only\\_eGenes & InCGE & 0.710157564 & 0.8386882\\\\\n",
       "\t tr2\\_only\\_eGenes & PgS   & 0.751272192 & 0.8610035\\\\\n",
       "\t tr1\\_only\\_eGenes & ExN   & 0.762395266 & 0.7807160\\\\\n",
       "\t tr1\\_only\\_eGenes & PgS   & 0.775312518 & 0.8590936\\\\\n",
       "\t tr1\\_only\\_eGenes & PgG2M & 0.797165767 & 0.8337211\\\\\n",
       "\t tr2\\_only\\_eGenes & Per   & 0.810972277 & 0.8286977\\\\\n",
       "\t tr2\\_only\\_eGenes & ExM   & 0.827162971 & 0.7421485\\\\\n",
       "\t tr1\\_only\\_eGenes & vRG   & 0.845534429 & 0.7862594\\\\\n",
       "\t tr1\\_only\\_eGenes & oRG   & 0.899917674 & 0.7493835\\\\\n",
       "\t tr1\\_only\\_eGenes & Per   & 0.910412886 & 0.7648304\\\\\n",
       "\t tr1\\_only\\_eGenes & OPC   & 0.926332112 & 0.7031075\\\\\n",
       "\t tr2\\_only\\_eGenes & End   & 0.956765758 & 0.6077854\\\\\n",
       "\t tr1\\_only\\_eGenes & IP    & 0.998883718 & 0.3104859\\\\\n",
       "\\end{tabular}\n"
      ],
      "text/markdown": [
       "\n",
       "A tibble: 30 × 4\n",
       "\n",
       "| scenario &lt;chr&gt; | cell_type &lt;chr&gt; | fischer_p &lt;dbl&gt; | fischer_or &lt;dbl&gt; |\n",
       "|---|---|---|---|\n",
       "| tr2_only_eGenes | IP    | 0.002043758 | 3.4193856 |\n",
       "| tr1_only_eGenes | ExM   | 0.011352955 | 2.4244701 |\n",
       "| tr2_only_eGenes | OPC   | 0.098160753 | 1.5028491 |\n",
       "| tr1_only_eGenes | End   | 0.104472624 | 1.4687096 |\n",
       "| tr2_only_eGenes | ExN   | 0.120827541 | 2.5818938 |\n",
       "| tr2_only_eGenes | InMGE | 0.273576596 | 1.4999255 |\n",
       "| tr2_only_eGenes | oRG   | 0.289440151 | 1.2027926 |\n",
       "| tr1_only_eGenes | Mic   | 0.291126764 | 1.1760123 |\n",
       "| tr1_only_eGenes | ExDp1 | 0.330540924 | 1.1821982 |\n",
       "| tr2_only_eGenes | ExDp2 | 0.421289063 | 1.0877559 |\n",
       "| tr2_only_eGenes | ExDp1 | 0.449616295 | 1.0855224 |\n",
       "| tr2_only_eGenes | vRG   | 0.467217596 | 1.0676474 |\n",
       "| tr2_only_eGenes | PgG2M | 0.499772384 | 1.0379085 |\n",
       "| tr1_only_eGenes | ExDp2 | 0.556535879 | 0.9956261 |\n",
       "| tr1_only_eGenes | InCGE | 0.597623967 | 1.0087732 |\n",
       "| tr2_only_eGenes | Mic   | 0.685567470 | 0.9080211 |\n",
       "| tr1_only_eGenes | InMGE | 0.707494135 | 0.8668431 |\n",
       "| tr2_only_eGenes | InCGE | 0.710157564 | 0.8386882 |\n",
       "| tr2_only_eGenes | PgS   | 0.751272192 | 0.8610035 |\n",
       "| tr1_only_eGenes | ExN   | 0.762395266 | 0.7807160 |\n",
       "| tr1_only_eGenes | PgS   | 0.775312518 | 0.8590936 |\n",
       "| tr1_only_eGenes | PgG2M | 0.797165767 | 0.8337211 |\n",
       "| tr2_only_eGenes | Per   | 0.810972277 | 0.8286977 |\n",
       "| tr2_only_eGenes | ExM   | 0.827162971 | 0.7421485 |\n",
       "| tr1_only_eGenes | vRG   | 0.845534429 | 0.7862594 |\n",
       "| tr1_only_eGenes | oRG   | 0.899917674 | 0.7493835 |\n",
       "| tr1_only_eGenes | Per   | 0.910412886 | 0.7648304 |\n",
       "| tr1_only_eGenes | OPC   | 0.926332112 | 0.7031075 |\n",
       "| tr2_only_eGenes | End   | 0.956765758 | 0.6077854 |\n",
       "| tr1_only_eGenes | IP    | 0.998883718 | 0.3104859 |\n",
       "\n"
      ],
      "text/plain": [
       "   scenario        cell_type fischer_p   fischer_or\n",
       "1  tr2_only_eGenes IP        0.002043758 3.4193856 \n",
       "2  tr1_only_eGenes ExM       0.011352955 2.4244701 \n",
       "3  tr2_only_eGenes OPC       0.098160753 1.5028491 \n",
       "4  tr1_only_eGenes End       0.104472624 1.4687096 \n",
       "5  tr2_only_eGenes ExN       0.120827541 2.5818938 \n",
       "6  tr2_only_eGenes InMGE     0.273576596 1.4999255 \n",
       "7  tr2_only_eGenes oRG       0.289440151 1.2027926 \n",
       "8  tr1_only_eGenes Mic       0.291126764 1.1760123 \n",
       "9  tr1_only_eGenes ExDp1     0.330540924 1.1821982 \n",
       "10 tr2_only_eGenes ExDp2     0.421289063 1.0877559 \n",
       "11 tr2_only_eGenes ExDp1     0.449616295 1.0855224 \n",
       "12 tr2_only_eGenes vRG       0.467217596 1.0676474 \n",
       "13 tr2_only_eGenes PgG2M     0.499772384 1.0379085 \n",
       "14 tr1_only_eGenes ExDp2     0.556535879 0.9956261 \n",
       "15 tr1_only_eGenes InCGE     0.597623967 1.0087732 \n",
       "16 tr2_only_eGenes Mic       0.685567470 0.9080211 \n",
       "17 tr1_only_eGenes InMGE     0.707494135 0.8668431 \n",
       "18 tr2_only_eGenes InCGE     0.710157564 0.8386882 \n",
       "19 tr2_only_eGenes PgS       0.751272192 0.8610035 \n",
       "20 tr1_only_eGenes ExN       0.762395266 0.7807160 \n",
       "21 tr1_only_eGenes PgS       0.775312518 0.8590936 \n",
       "22 tr1_only_eGenes PgG2M     0.797165767 0.8337211 \n",
       "23 tr2_only_eGenes Per       0.810972277 0.8286977 \n",
       "24 tr2_only_eGenes ExM       0.827162971 0.7421485 \n",
       "25 tr1_only_eGenes vRG       0.845534429 0.7862594 \n",
       "26 tr1_only_eGenes oRG       0.899917674 0.7493835 \n",
       "27 tr1_only_eGenes Per       0.910412886 0.7648304 \n",
       "28 tr1_only_eGenes OPC       0.926332112 0.7031075 \n",
       "29 tr2_only_eGenes End       0.956765758 0.6077854 \n",
       "30 tr1_only_eGenes IP        0.998883718 0.3104859 "
      ]
     },
     "metadata": {},
     "output_type": "display_data"
    }
   ],
   "source": [
    "eGenes_cell_cluster_res <- tibble()\n",
    "\n",
    "# If you combine ExM and ExM-U, you see an ExM signal whereas before the signal was too split\n",
    "celltypemarkers_tableS4 <- celltypemarkers_tableS4 %>% mutate(cluster = if_else(cluster == \"ExM-U\", \"ExM\", cluster))\n",
    "\n",
    "for (cell in unique(celltypemarkers_tableS4$cluster)) {\n",
    "    cat(paste0(cell, \" \"))\n",
    "    \n",
    "    one_cell_markers <- celltypemarkers_tableS4 %>%\n",
    "                            filter(cluster == cell) %>%\n",
    "                            select(ensembl) %>%\n",
    "                            pull\n",
    "    \n",
    "    res <- fischer_ORA(test_set = tri1_only_eGenes,\n",
    "                       test_background = tri12_eGene_bg,\n",
    "                       ref_set = one_cell_markers,\n",
    "                       ref_background = celltypemarkers_tableS4_bg)\n",
    "    \n",
    "    eGenes_cell_cluster_res <- rbind(eGenes_cell_cluster_res, tibble(scenario = \"tr1_only_eGenes\",\n",
    "                                                                       cell_type = cell,\n",
    "                                                                       fischer_p = res$p.value,\n",
    "                                                                       fischer_or = as.numeric(res$estimate)))\n",
    "    \n",
    "    res <- fischer_ORA(test_set = tri2_only_eGenes,\n",
    "                       test_background = tri12_eGene_bg,\n",
    "                       ref_set = one_cell_markers,\n",
    "                       ref_background = celltypemarkers_tableS4_bg)\n",
    "    \n",
    "    eGenes_cell_cluster_res <- rbind(eGenes_cell_cluster_res, tibble(scenario = \"tr2_only_eGenes\",\n",
    "                                                                       cell_type = cell,\n",
    "                                                                       fischer_p = res$p.value,\n",
    "                                                                       fischer_or = as.numeric(res$estimate)))\n",
    "}\n",
    "\n",
    "eGenes_cell_cluster_res %>% arrange(fischer_p)"
   ]
  },
  {
   "cell_type": "code",
   "execution_count": 51,
   "id": "08838279-8cb8-48a7-baa8-daf8fcd77482",
   "metadata": {},
   "outputs": [
    {
     "name": "stdout",
     "output_type": "stream",
     "text": [
      "ExN NPC OPC END ExD PER MIC ExM INT "
     ]
    },
    {
     "data": {
      "text/html": [
       "<table class=\"dataframe\">\n",
       "<caption>A tibble: 18 × 4</caption>\n",
       "<thead>\n",
       "\t<tr><th scope=col>scenario</th><th scope=col>cell_type</th><th scope=col>fischer_p</th><th scope=col>fischer_or</th></tr>\n",
       "\t<tr><th scope=col>&lt;chr&gt;</th><th scope=col>&lt;chr&gt;</th><th scope=col>&lt;dbl&gt;</th><th scope=col>&lt;dbl&gt;</th></tr>\n",
       "</thead>\n",
       "<tbody>\n",
       "\t<tr><td>tr2_only_eGenes</td><td>ExN</td><td>0.003971839</td><td>2.9166946</td></tr>\n",
       "\t<tr><td>tr1_only_eGenes</td><td>ExM</td><td>0.011352955</td><td>2.4244701</td></tr>\n",
       "\t<tr><td>tr2_only_eGenes</td><td>OPC</td><td>0.098160753</td><td>1.5028491</td></tr>\n",
       "\t<tr><td>tr1_only_eGenes</td><td>END</td><td>0.104472624</td><td>1.4687096</td></tr>\n",
       "\t<tr><td>tr2_only_eGenes</td><td>INT</td><td>0.205321050</td><td>1.5251631</td></tr>\n",
       "\t<tr><td>tr1_only_eGenes</td><td>ExD</td><td>0.257175221</td><td>1.1899063</td></tr>\n",
       "\t<tr><td>tr1_only_eGenes</td><td>MIC</td><td>0.291126764</td><td>1.1760123</td></tr>\n",
       "\t<tr><td>tr2_only_eGenes</td><td>ExD</td><td>0.507385637</td><td>1.0238531</td></tr>\n",
       "\t<tr><td>tr2_only_eGenes</td><td>MIC</td><td>0.685567470</td><td>0.9080211</td></tr>\n",
       "\t<tr><td>tr2_only_eGenes</td><td>NPC</td><td>0.794875348</td><td>0.8589210</td></tr>\n",
       "\t<tr><td>tr2_only_eGenes</td><td>PER</td><td>0.810972277</td><td>0.8286977</td></tr>\n",
       "\t<tr><td>tr2_only_eGenes</td><td>ExM</td><td>0.827162971</td><td>0.7421485</td></tr>\n",
       "\t<tr><td>tr1_only_eGenes</td><td>INT</td><td>0.853086313</td><td>0.7150806</td></tr>\n",
       "\t<tr><td>tr1_only_eGenes</td><td>PER</td><td>0.910412886</td><td>0.7648304</td></tr>\n",
       "\t<tr><td>tr1_only_eGenes</td><td>NPC</td><td>0.916279277</td><td>0.7836990</td></tr>\n",
       "\t<tr><td>tr1_only_eGenes</td><td>OPC</td><td>0.926332112</td><td>0.7031075</td></tr>\n",
       "\t<tr><td>tr2_only_eGenes</td><td>END</td><td>0.956765758</td><td>0.6077854</td></tr>\n",
       "\t<tr><td>tr1_only_eGenes</td><td>ExN</td><td>0.994895652</td><td>0.4079349</td></tr>\n",
       "</tbody>\n",
       "</table>\n"
      ],
      "text/latex": [
       "A tibble: 18 × 4\n",
       "\\begin{tabular}{llll}\n",
       " scenario & cell\\_type & fischer\\_p & fischer\\_or\\\\\n",
       " <chr> & <chr> & <dbl> & <dbl>\\\\\n",
       "\\hline\n",
       "\t tr2\\_only\\_eGenes & ExN & 0.003971839 & 2.9166946\\\\\n",
       "\t tr1\\_only\\_eGenes & ExM & 0.011352955 & 2.4244701\\\\\n",
       "\t tr2\\_only\\_eGenes & OPC & 0.098160753 & 1.5028491\\\\\n",
       "\t tr1\\_only\\_eGenes & END & 0.104472624 & 1.4687096\\\\\n",
       "\t tr2\\_only\\_eGenes & INT & 0.205321050 & 1.5251631\\\\\n",
       "\t tr1\\_only\\_eGenes & ExD & 0.257175221 & 1.1899063\\\\\n",
       "\t tr1\\_only\\_eGenes & MIC & 0.291126764 & 1.1760123\\\\\n",
       "\t tr2\\_only\\_eGenes & ExD & 0.507385637 & 1.0238531\\\\\n",
       "\t tr2\\_only\\_eGenes & MIC & 0.685567470 & 0.9080211\\\\\n",
       "\t tr2\\_only\\_eGenes & NPC & 0.794875348 & 0.8589210\\\\\n",
       "\t tr2\\_only\\_eGenes & PER & 0.810972277 & 0.8286977\\\\\n",
       "\t tr2\\_only\\_eGenes & ExM & 0.827162971 & 0.7421485\\\\\n",
       "\t tr1\\_only\\_eGenes & INT & 0.853086313 & 0.7150806\\\\\n",
       "\t tr1\\_only\\_eGenes & PER & 0.910412886 & 0.7648304\\\\\n",
       "\t tr1\\_only\\_eGenes & NPC & 0.916279277 & 0.7836990\\\\\n",
       "\t tr1\\_only\\_eGenes & OPC & 0.926332112 & 0.7031075\\\\\n",
       "\t tr2\\_only\\_eGenes & END & 0.956765758 & 0.6077854\\\\\n",
       "\t tr1\\_only\\_eGenes & ExN & 0.994895652 & 0.4079349\\\\\n",
       "\\end{tabular}\n"
      ],
      "text/markdown": [
       "\n",
       "A tibble: 18 × 4\n",
       "\n",
       "| scenario &lt;chr&gt; | cell_type &lt;chr&gt; | fischer_p &lt;dbl&gt; | fischer_or &lt;dbl&gt; |\n",
       "|---|---|---|---|\n",
       "| tr2_only_eGenes | ExN | 0.003971839 | 2.9166946 |\n",
       "| tr1_only_eGenes | ExM | 0.011352955 | 2.4244701 |\n",
       "| tr2_only_eGenes | OPC | 0.098160753 | 1.5028491 |\n",
       "| tr1_only_eGenes | END | 0.104472624 | 1.4687096 |\n",
       "| tr2_only_eGenes | INT | 0.205321050 | 1.5251631 |\n",
       "| tr1_only_eGenes | ExD | 0.257175221 | 1.1899063 |\n",
       "| tr1_only_eGenes | MIC | 0.291126764 | 1.1760123 |\n",
       "| tr2_only_eGenes | ExD | 0.507385637 | 1.0238531 |\n",
       "| tr2_only_eGenes | MIC | 0.685567470 | 0.9080211 |\n",
       "| tr2_only_eGenes | NPC | 0.794875348 | 0.8589210 |\n",
       "| tr2_only_eGenes | PER | 0.810972277 | 0.8286977 |\n",
       "| tr2_only_eGenes | ExM | 0.827162971 | 0.7421485 |\n",
       "| tr1_only_eGenes | INT | 0.853086313 | 0.7150806 |\n",
       "| tr1_only_eGenes | PER | 0.910412886 | 0.7648304 |\n",
       "| tr1_only_eGenes | NPC | 0.916279277 | 0.7836990 |\n",
       "| tr1_only_eGenes | OPC | 0.926332112 | 0.7031075 |\n",
       "| tr2_only_eGenes | END | 0.956765758 | 0.6077854 |\n",
       "| tr1_only_eGenes | ExN | 0.994895652 | 0.4079349 |\n",
       "\n"
      ],
      "text/plain": [
       "   scenario        cell_type fischer_p   fischer_or\n",
       "1  tr2_only_eGenes ExN       0.003971839 2.9166946 \n",
       "2  tr1_only_eGenes ExM       0.011352955 2.4244701 \n",
       "3  tr2_only_eGenes OPC       0.098160753 1.5028491 \n",
       "4  tr1_only_eGenes END       0.104472624 1.4687096 \n",
       "5  tr2_only_eGenes INT       0.205321050 1.5251631 \n",
       "6  tr1_only_eGenes ExD       0.257175221 1.1899063 \n",
       "7  tr1_only_eGenes MIC       0.291126764 1.1760123 \n",
       "8  tr2_only_eGenes ExD       0.507385637 1.0238531 \n",
       "9  tr2_only_eGenes MIC       0.685567470 0.9080211 \n",
       "10 tr2_only_eGenes NPC       0.794875348 0.8589210 \n",
       "11 tr2_only_eGenes PER       0.810972277 0.8286977 \n",
       "12 tr2_only_eGenes ExM       0.827162971 0.7421485 \n",
       "13 tr1_only_eGenes INT       0.853086313 0.7150806 \n",
       "14 tr1_only_eGenes PER       0.910412886 0.7648304 \n",
       "15 tr1_only_eGenes NPC       0.916279277 0.7836990 \n",
       "16 tr1_only_eGenes OPC       0.926332112 0.7031075 \n",
       "17 tr2_only_eGenes END       0.956765758 0.6077854 \n",
       "18 tr1_only_eGenes ExN       0.994895652 0.4079349 "
      ]
     },
     "metadata": {},
     "output_type": "display_data"
    }
   ],
   "source": [
    "eGenes_cell_res <- tibble()\n",
    "\n",
    "for (cell in unique(cell_markers$cell_type)) {\n",
    "    cat(paste0(cell, \" \"))\n",
    "    \n",
    "    one_cell_markers <- cell_markers %>%\n",
    "                            filter(cell_type == cell) %>%\n",
    "                            select(gene_id) %>%\n",
    "                            pull\n",
    "    \n",
    "    res <- fischer_ORA(test_set = tri1_only_eGenes,\n",
    "                       test_background = tri12_eGene_bg,\n",
    "                       ref_set = one_cell_markers,\n",
    "                       ref_background = cell_markers_bg)\n",
    "    \n",
    "    eGenes_cell_res <- rbind(eGenes_cell_res, tibble(scenario = \"tr1_only_eGenes\",\n",
    "                                                       cell_type = cell,\n",
    "                                                       fischer_p = res$p.value,\n",
    "                                                       fischer_or = as.numeric(res$estimate)))\n",
    "    \n",
    "    res <- fischer_ORA(test_set = tri2_only_eGenes,\n",
    "                       test_background = tri12_eGene_bg,\n",
    "                       ref_set = one_cell_markers,\n",
    "                       ref_background = cell_markers_bg)\n",
    "    \n",
    "    eGenes_cell_res <- rbind(eGenes_cell_res, tibble(scenario = \"tr2_only_eGenes\",\n",
    "                                                       cell_type = cell,\n",
    "                                                       fischer_p = res$p.value,\n",
    "                                                       fischer_or = as.numeric(res$estimate)))\n",
    "}\n",
    "\n",
    "eGenes_cell_res %>% arrange(fischer_p)"
   ]
  },
  {
   "cell_type": "markdown",
   "id": "eeba9b0b-ecd5-43d7-95c0-9f3044068365",
   "metadata": {},
   "source": [
    "### sGenes"
   ]
  },
  {
   "cell_type": "code",
   "execution_count": 95,
   "id": "d1a82aaa-8636-4d4a-a5f4-a65d75229c70",
   "metadata": {},
   "outputs": [
    {
     "name": "stdout",
     "output_type": "stream",
     "text": [
      "ExN PgG2M OPC End ExDp2 Per Mic ExM IP ExDp1 InMGE InCGE oRG PgS vRG "
     ]
    },
    {
     "data": {
      "text/html": [
       "<table class=\"dataframe\">\n",
       "<caption>A tibble: 30 × 4</caption>\n",
       "<thead>\n",
       "\t<tr><th scope=col>scenario</th><th scope=col>cell_type</th><th scope=col>fischer_p</th><th scope=col>fischer_or</th></tr>\n",
       "\t<tr><th scope=col>&lt;chr&gt;</th><th scope=col>&lt;chr&gt;</th><th scope=col>&lt;dbl&gt;</th><th scope=col>&lt;dbl&gt;</th></tr>\n",
       "</thead>\n",
       "<tbody>\n",
       "\t<tr><td>tr2_only_sGenes</td><td>ExM  </td><td>0.0006491774</td><td>2.2686080</td></tr>\n",
       "\t<tr><td>tr2_only_sGenes</td><td>ExDp1</td><td>0.0218876692</td><td>1.5903059</td></tr>\n",
       "\t<tr><td>tr1_only_sGenes</td><td>Per  </td><td>0.0778561844</td><td>1.2321091</td></tr>\n",
       "\t<tr><td>tr2_only_sGenes</td><td>oRG  </td><td>0.1099259608</td><td>1.3565603</td></tr>\n",
       "\t<tr><td>tr1_only_sGenes</td><td>PgG2M</td><td>0.1517904255</td><td>1.2180884</td></tr>\n",
       "\t<tr><td>tr1_only_sGenes</td><td>End  </td><td>0.1576608377</td><td>1.1875612</td></tr>\n",
       "\t<tr><td>tr2_only_sGenes</td><td>End  </td><td>0.1810103496</td><td>1.2539271</td></tr>\n",
       "\t<tr><td>tr2_only_sGenes</td><td>Mic  </td><td>0.1956987771</td><td>1.2271687</td></tr>\n",
       "\t<tr><td>tr1_only_sGenes</td><td>Mic  </td><td>0.2124872950</td><td>1.1409465</td></tr>\n",
       "\t<tr><td>tr2_only_sGenes</td><td>InMGE</td><td>0.2390829921</td><td>1.3936400</td></tr>\n",
       "\t<tr><td>tr1_only_sGenes</td><td>PgS  </td><td>0.2566608257</td><td>1.1282162</td></tr>\n",
       "\t<tr><td>tr2_only_sGenes</td><td>vRG  </td><td>0.3203129521</td><td>1.1704086</td></tr>\n",
       "\t<tr><td>tr2_only_sGenes</td><td>ExN  </td><td>0.3672315423</td><td>1.3735062</td></tr>\n",
       "\t<tr><td>tr1_only_sGenes</td><td>oRG  </td><td>0.4854263936</td><td>1.0201052</td></tr>\n",
       "\t<tr><td>tr2_only_sGenes</td><td>OPC  </td><td>0.5254820297</td><td>1.0102265</td></tr>\n",
       "\t<tr><td>tr1_only_sGenes</td><td>IP   </td><td>0.5495337715</td><td>1.0004599</td></tr>\n",
       "\t<tr><td>tr2_only_sGenes</td><td>IP   </td><td>0.6332054048</td><td>0.9304675</td></tr>\n",
       "\t<tr><td>tr2_only_sGenes</td><td>ExDp2</td><td>0.7091451642</td><td>0.9072619</td></tr>\n",
       "\t<tr><td>tr2_only_sGenes</td><td>InCGE</td><td>0.7204823917</td><td>0.8276577</td></tr>\n",
       "\t<tr><td>tr1_only_sGenes</td><td>ExDp2</td><td>0.7475629618</td><td>0.9206630</td></tr>\n",
       "\t<tr><td>tr2_only_sGenes</td><td>Per  </td><td>0.8128657906</td><td>0.8443168</td></tr>\n",
       "\t<tr><td>tr1_only_sGenes</td><td>InMGE</td><td>0.8173585655</td><td>0.8108467</td></tr>\n",
       "\t<tr><td>tr1_only_sGenes</td><td>vRG  </td><td>0.8640590474</td><td>0.8292423</td></tr>\n",
       "\t<tr><td>tr1_only_sGenes</td><td>OPC  </td><td>0.8880979910</td><td>0.8255317</td></tr>\n",
       "\t<tr><td>tr1_only_sGenes</td><td>InCGE</td><td>0.9471121726</td><td>0.6493190</td></tr>\n",
       "\t<tr><td>tr1_only_sGenes</td><td>ExN  </td><td>0.9688308645</td><td>0.5118433</td></tr>\n",
       "\t<tr><td>tr2_only_sGenes</td><td>PgG2M</td><td>0.9822611640</td><td>0.5598293</td></tr>\n",
       "\t<tr><td>tr2_only_sGenes</td><td>PgS  </td><td>0.9954014764</td><td>0.5008401</td></tr>\n",
       "\t<tr><td>tr1_only_sGenes</td><td>ExDp1</td><td>0.9999919293</td><td>0.5154925</td></tr>\n",
       "\t<tr><td>tr1_only_sGenes</td><td>ExM  </td><td>0.9999999623</td><td>0.3675144</td></tr>\n",
       "</tbody>\n",
       "</table>\n"
      ],
      "text/latex": [
       "A tibble: 30 × 4\n",
       "\\begin{tabular}{llll}\n",
       " scenario & cell\\_type & fischer\\_p & fischer\\_or\\\\\n",
       " <chr> & <chr> & <dbl> & <dbl>\\\\\n",
       "\\hline\n",
       "\t tr2\\_only\\_sGenes & ExM   & 0.0006491774 & 2.2686080\\\\\n",
       "\t tr2\\_only\\_sGenes & ExDp1 & 0.0218876692 & 1.5903059\\\\\n",
       "\t tr1\\_only\\_sGenes & Per   & 0.0778561844 & 1.2321091\\\\\n",
       "\t tr2\\_only\\_sGenes & oRG   & 0.1099259608 & 1.3565603\\\\\n",
       "\t tr1\\_only\\_sGenes & PgG2M & 0.1517904255 & 1.2180884\\\\\n",
       "\t tr1\\_only\\_sGenes & End   & 0.1576608377 & 1.1875612\\\\\n",
       "\t tr2\\_only\\_sGenes & End   & 0.1810103496 & 1.2539271\\\\\n",
       "\t tr2\\_only\\_sGenes & Mic   & 0.1956987771 & 1.2271687\\\\\n",
       "\t tr1\\_only\\_sGenes & Mic   & 0.2124872950 & 1.1409465\\\\\n",
       "\t tr2\\_only\\_sGenes & InMGE & 0.2390829921 & 1.3936400\\\\\n",
       "\t tr1\\_only\\_sGenes & PgS   & 0.2566608257 & 1.1282162\\\\\n",
       "\t tr2\\_only\\_sGenes & vRG   & 0.3203129521 & 1.1704086\\\\\n",
       "\t tr2\\_only\\_sGenes & ExN   & 0.3672315423 & 1.3735062\\\\\n",
       "\t tr1\\_only\\_sGenes & oRG   & 0.4854263936 & 1.0201052\\\\\n",
       "\t tr2\\_only\\_sGenes & OPC   & 0.5254820297 & 1.0102265\\\\\n",
       "\t tr1\\_only\\_sGenes & IP    & 0.5495337715 & 1.0004599\\\\\n",
       "\t tr2\\_only\\_sGenes & IP    & 0.6332054048 & 0.9304675\\\\\n",
       "\t tr2\\_only\\_sGenes & ExDp2 & 0.7091451642 & 0.9072619\\\\\n",
       "\t tr2\\_only\\_sGenes & InCGE & 0.7204823917 & 0.8276577\\\\\n",
       "\t tr1\\_only\\_sGenes & ExDp2 & 0.7475629618 & 0.9206630\\\\\n",
       "\t tr2\\_only\\_sGenes & Per   & 0.8128657906 & 0.8443168\\\\\n",
       "\t tr1\\_only\\_sGenes & InMGE & 0.8173585655 & 0.8108467\\\\\n",
       "\t tr1\\_only\\_sGenes & vRG   & 0.8640590474 & 0.8292423\\\\\n",
       "\t tr1\\_only\\_sGenes & OPC   & 0.8880979910 & 0.8255317\\\\\n",
       "\t tr1\\_only\\_sGenes & InCGE & 0.9471121726 & 0.6493190\\\\\n",
       "\t tr1\\_only\\_sGenes & ExN   & 0.9688308645 & 0.5118433\\\\\n",
       "\t tr2\\_only\\_sGenes & PgG2M & 0.9822611640 & 0.5598293\\\\\n",
       "\t tr2\\_only\\_sGenes & PgS   & 0.9954014764 & 0.5008401\\\\\n",
       "\t tr1\\_only\\_sGenes & ExDp1 & 0.9999919293 & 0.5154925\\\\\n",
       "\t tr1\\_only\\_sGenes & ExM   & 0.9999999623 & 0.3675144\\\\\n",
       "\\end{tabular}\n"
      ],
      "text/markdown": [
       "\n",
       "A tibble: 30 × 4\n",
       "\n",
       "| scenario &lt;chr&gt; | cell_type &lt;chr&gt; | fischer_p &lt;dbl&gt; | fischer_or &lt;dbl&gt; |\n",
       "|---|---|---|---|\n",
       "| tr2_only_sGenes | ExM   | 0.0006491774 | 2.2686080 |\n",
       "| tr2_only_sGenes | ExDp1 | 0.0218876692 | 1.5903059 |\n",
       "| tr1_only_sGenes | Per   | 0.0778561844 | 1.2321091 |\n",
       "| tr2_only_sGenes | oRG   | 0.1099259608 | 1.3565603 |\n",
       "| tr1_only_sGenes | PgG2M | 0.1517904255 | 1.2180884 |\n",
       "| tr1_only_sGenes | End   | 0.1576608377 | 1.1875612 |\n",
       "| tr2_only_sGenes | End   | 0.1810103496 | 1.2539271 |\n",
       "| tr2_only_sGenes | Mic   | 0.1956987771 | 1.2271687 |\n",
       "| tr1_only_sGenes | Mic   | 0.2124872950 | 1.1409465 |\n",
       "| tr2_only_sGenes | InMGE | 0.2390829921 | 1.3936400 |\n",
       "| tr1_only_sGenes | PgS   | 0.2566608257 | 1.1282162 |\n",
       "| tr2_only_sGenes | vRG   | 0.3203129521 | 1.1704086 |\n",
       "| tr2_only_sGenes | ExN   | 0.3672315423 | 1.3735062 |\n",
       "| tr1_only_sGenes | oRG   | 0.4854263936 | 1.0201052 |\n",
       "| tr2_only_sGenes | OPC   | 0.5254820297 | 1.0102265 |\n",
       "| tr1_only_sGenes | IP    | 0.5495337715 | 1.0004599 |\n",
       "| tr2_only_sGenes | IP    | 0.6332054048 | 0.9304675 |\n",
       "| tr2_only_sGenes | ExDp2 | 0.7091451642 | 0.9072619 |\n",
       "| tr2_only_sGenes | InCGE | 0.7204823917 | 0.8276577 |\n",
       "| tr1_only_sGenes | ExDp2 | 0.7475629618 | 0.9206630 |\n",
       "| tr2_only_sGenes | Per   | 0.8128657906 | 0.8443168 |\n",
       "| tr1_only_sGenes | InMGE | 0.8173585655 | 0.8108467 |\n",
       "| tr1_only_sGenes | vRG   | 0.8640590474 | 0.8292423 |\n",
       "| tr1_only_sGenes | OPC   | 0.8880979910 | 0.8255317 |\n",
       "| tr1_only_sGenes | InCGE | 0.9471121726 | 0.6493190 |\n",
       "| tr1_only_sGenes | ExN   | 0.9688308645 | 0.5118433 |\n",
       "| tr2_only_sGenes | PgG2M | 0.9822611640 | 0.5598293 |\n",
       "| tr2_only_sGenes | PgS   | 0.9954014764 | 0.5008401 |\n",
       "| tr1_only_sGenes | ExDp1 | 0.9999919293 | 0.5154925 |\n",
       "| tr1_only_sGenes | ExM   | 0.9999999623 | 0.3675144 |\n",
       "\n"
      ],
      "text/plain": [
       "   scenario        cell_type fischer_p    fischer_or\n",
       "1  tr2_only_sGenes ExM       0.0006491774 2.2686080 \n",
       "2  tr2_only_sGenes ExDp1     0.0218876692 1.5903059 \n",
       "3  tr1_only_sGenes Per       0.0778561844 1.2321091 \n",
       "4  tr2_only_sGenes oRG       0.1099259608 1.3565603 \n",
       "5  tr1_only_sGenes PgG2M     0.1517904255 1.2180884 \n",
       "6  tr1_only_sGenes End       0.1576608377 1.1875612 \n",
       "7  tr2_only_sGenes End       0.1810103496 1.2539271 \n",
       "8  tr2_only_sGenes Mic       0.1956987771 1.2271687 \n",
       "9  tr1_only_sGenes Mic       0.2124872950 1.1409465 \n",
       "10 tr2_only_sGenes InMGE     0.2390829921 1.3936400 \n",
       "11 tr1_only_sGenes PgS       0.2566608257 1.1282162 \n",
       "12 tr2_only_sGenes vRG       0.3203129521 1.1704086 \n",
       "13 tr2_only_sGenes ExN       0.3672315423 1.3735062 \n",
       "14 tr1_only_sGenes oRG       0.4854263936 1.0201052 \n",
       "15 tr2_only_sGenes OPC       0.5254820297 1.0102265 \n",
       "16 tr1_only_sGenes IP        0.5495337715 1.0004599 \n",
       "17 tr2_only_sGenes IP        0.6332054048 0.9304675 \n",
       "18 tr2_only_sGenes ExDp2     0.7091451642 0.9072619 \n",
       "19 tr2_only_sGenes InCGE     0.7204823917 0.8276577 \n",
       "20 tr1_only_sGenes ExDp2     0.7475629618 0.9206630 \n",
       "21 tr2_only_sGenes Per       0.8128657906 0.8443168 \n",
       "22 tr1_only_sGenes InMGE     0.8173585655 0.8108467 \n",
       "23 tr1_only_sGenes vRG       0.8640590474 0.8292423 \n",
       "24 tr1_only_sGenes OPC       0.8880979910 0.8255317 \n",
       "25 tr1_only_sGenes InCGE     0.9471121726 0.6493190 \n",
       "26 tr1_only_sGenes ExN       0.9688308645 0.5118433 \n",
       "27 tr2_only_sGenes PgG2M     0.9822611640 0.5598293 \n",
       "28 tr2_only_sGenes PgS       0.9954014764 0.5008401 \n",
       "29 tr1_only_sGenes ExDp1     0.9999919293 0.5154925 \n",
       "30 tr1_only_sGenes ExM       0.9999999623 0.3675144 "
      ]
     },
     "metadata": {},
     "output_type": "display_data"
    }
   ],
   "source": [
    "sGenes_cell_cluster_res <- tibble()\n",
    "\n",
    "# If you combine ExM and ExM-U, you see an ExM signal whereas before the signal was too split\n",
    "celltypemarkers_tableS4 <- celltypemarkers_tableS4 %>% mutate(cluster = if_else(cluster == \"ExM-U\", \"ExM\", cluster))\n",
    "\n",
    "for (cell in unique(celltypemarkers_tableS4$cluster)) {\n",
    "    cat(paste0(cell, \" \"))\n",
    "    \n",
    "    one_cell_markers <- celltypemarkers_tableS4 %>%\n",
    "                            filter(cluster == cell) %>%\n",
    "                            select(ensembl) %>%\n",
    "                            pull\n",
    "    \n",
    "    res <- fischer_ORA(test_set = tri1_only_sGenes,\n",
    "                       test_background = tri12_sGene_bg,\n",
    "                       ref_set = one_cell_markers,\n",
    "                       ref_background = celltypemarkers_tableS4_bg)\n",
    "    \n",
    "    sGenes_cell_cluster_res <- rbind(sGenes_cell_cluster_res, tibble(scenario = \"tr1_only_sGenes\",\n",
    "                                                                       cell_type = cell,\n",
    "                                                                       fischer_p = res$p.value,\n",
    "                                                                       fischer_or = as.numeric(res$estimate)))\n",
    "    \n",
    "    res <- fischer_ORA(test_set = tri2_only_sGenes,\n",
    "                       test_background = tri12_sGene_bg,\n",
    "                       ref_set = one_cell_markers,\n",
    "                       ref_background = celltypemarkers_tableS4_bg)\n",
    "    \n",
    "    sGenes_cell_cluster_res <- rbind(sGenes_cell_cluster_res, tibble(scenario = \"tr2_only_sGenes\",\n",
    "                                                                       cell_type = cell,\n",
    "                                                                       fischer_p = res$p.value,\n",
    "                                                                       fischer_or = as.numeric(res$estimate)))\n",
    "}\n",
    "\n",
    "sGenes_cell_cluster_res %>% arrange(fischer_p)"
   ]
  },
  {
   "cell_type": "markdown",
   "id": "42fdafc4-b1de-4153-849f-a0303204c65b",
   "metadata": {},
   "source": [
    "# Final Figure Plots"
   ]
  },
  {
   "cell_type": "markdown",
   "id": "bd518923-2b90-49bc-9475-8551fb148cd4",
   "metadata": {},
   "source": [
    "## Biotype Figures"
   ]
  },
  {
   "cell_type": "code",
   "execution_count": 224,
   "id": "f1260953-3743-4037-af56-d67481780d6e",
   "metadata": {},
   "outputs": [],
   "source": [
    "eGenes_biotype_plot_df <- sweep(eGenes_biotype_df, 2, colSums(eGenes_biotype_df),`/`)\n",
    "rownames(eGenes_biotype_plot_df) <- gsub(\"_\", \"\\n\", rownames(eGenes_biotype_plot_df))\n"
   ]
  },
  {
   "cell_type": "code",
   "execution_count": 226,
   "id": "b7a9fa59-d353-433e-9379-11d211fa3fcd",
   "metadata": {},
   "outputs": [
    {
     "data": {
      "image/png": "[encoded data removed]",
      "text/plain": [
       "Plot with title “”"
      ]
     },
     "metadata": {
      "image/png": {
       "height": 500,
       "width": 500
      }
     },
     "output_type": "display_data"
    }
   ],
   "source": [
    "p1 <- corrplot::corrplot(as.matrix(eGenes_biotype_plot_df), method = 'square', is.cor = FALSE,\n",
    "            mar=c(1,1,1,1), family = \"Helvetica\",\n",
    "            cl.ratio = 0.1, cl.pos = 'b', cl.length = 3,\n",
    "            tl.col = 'black', tl.srt = 45,\n",
    "            col = \"#84A98C\", col.lim=c(0, 1))$corrPos\n",
    "p1$corr <- c(as.matrix(eGenes_biotype_plot_df))\n",
    "labels <- round(p1$corr, 2)\n",
    "spacer <- 0.3\n",
    "text(p1$x, p1$y-c(0, spacer, spacer, spacer, 0, spacer, spacer, spacer, spacer, spacer), labels, cex = 0.95, font = 2, family = \"Helvetica\")"
   ]
  },
  {
   "cell_type": "code",
   "execution_count": 227,
   "id": "24ade77a-dfdb-4520-b424-15cadb76d133",
   "metadata": {},
   "outputs": [
    {
     "data": {
      "text/html": [
       "<strong>png:</strong> 2"
      ],
      "text/latex": [
       "\\textbf{png:} 2"
      ],
      "text/markdown": [
       "**png:** 2"
      ],
      "text/plain": [
       "png \n",
       "  2 "
      ]
     },
     "metadata": {},
     "output_type": "display_data"
    }
   ],
   "source": [
    "pdf(\"~/projects/cindy-wgcna/publication/figures/F3/F3_eGene_biotypes.pdf\", width = 5, height = 10)\n",
    "\n",
    "p1 <- corrplot::corrplot(as.matrix(eGenes_biotype_plot_df), method = 'square', is.cor = FALSE,\n",
    "            mar=c(1,1,1,1), family = \"Helvetica\",\n",
    "            cl.ratio = 0.1, cl.pos = 'b', cl.length = 3,\n",
    "            tl.col = 'black', tl.srt = 45,\n",
    "            col = \"#84A98C\", col.lim=c(0, 1))$corrPos\n",
    "p1$corr <- c(as.matrix(eGenes_biotype_plot_df))\n",
    "labels <- round(p1$corr, 2)\n",
    "spacer <- 0.3\n",
    "text(p1$x, p1$y-c(0, spacer, spacer, spacer, 0, spacer, spacer, spacer, spacer, spacer), labels, cex = 0.95, font = 2, family = \"Helvetica\")\n",
    "\n",
    "dev.off()"
   ]
  },
  {
   "cell_type": "code",
   "execution_count": 222,
   "id": "b9dba98b-0fb3-443a-af84-fa34246ca075",
   "metadata": {},
   "outputs": [],
   "source": [
    "sGenes_biotype_plot_df <- merge(eGenes_biotype_df %>% as.data.frame %>% rownames_to_column(\"biotype\"),\n",
    "                                sGenes_biotype_df %>% as.data.frame %>% rownames_to_column(\"biotype\"), all = T)\n",
    "sGenes_biotype_plot_df[is.na(sGenes_biotype_plot_df)] <- 0\n",
    "sGenes_biotype_plot_df <- sGenes_biotype_plot_df %>% column_to_rownames(\"biotype\") %>% select(contains(\"sGene\"))\n",
    "sGenes_biotype_plot_df <- sweep(sGenes_biotype_plot_df, 2, colSums(sGenes_biotype_df),`/`)\n",
    "rownames(sGenes_biotype_plot_df) <- gsub(\"_\", \"\\n\", rownames(sGenes_biotype_plot_df))"
   ]
  },
  {
   "cell_type": "code",
   "execution_count": 223,
   "id": "c91f5ac1-4f09-4365-bd3f-8635375242b1",
   "metadata": {},
   "outputs": [
    {
     "data": {
      "image/png": "[encoded data removed]",
      "text/plain": [
       "Plot with title “”"
      ]
     },
     "metadata": {
      "image/png": {
       "height": 500,
       "width": 500
      }
     },
     "output_type": "display_data"
    }
   ],
   "source": [
    "p1 <- corrplot::corrplot(as.matrix(sGenes_biotype_plot_df), method = 'square', is.cor = FALSE,\n",
    "            mar=c(1,1,1,1), family = \"Helvetica\",\n",
    "            cl.ratio = 0.1, cl.pos = 'b', cl.length = 3,\n",
    "            tl.col = 'black', tl.srt = 45,\n",
    "            col = \"#84A98C\", col.lim=c(0, 1))$corrPos\n",
    "p1$corr <- c(as.matrix(sGenes_biotype_plot_df))\n",
    "labels <- round(p1$corr, 2)\n",
    "labels[labels < 0.05] <- ''\n",
    "spacer <- 0.3\n",
    "text(p1$x, p1$y, labels, cex = 0.95, font = 2, family = \"Helvetica\")"
   ]
  },
  {
   "cell_type": "code",
   "execution_count": 228,
   "id": "fef2636c-82ac-40fd-bd53-fd039ebbebd8",
   "metadata": {},
   "outputs": [
    {
     "data": {
      "text/html": [
       "<strong>png:</strong> 2"
      ],
      "text/latex": [
       "\\textbf{png:} 2"
      ],
      "text/markdown": [
       "**png:** 2"
      ],
      "text/plain": [
       "png \n",
       "  2 "
      ]
     },
     "metadata": {},
     "output_type": "display_data"
    }
   ],
   "source": [
    "pdf(\"~/projects/cindy-wgcna/publication/figures/F3/F3_sGene_biotypes.pdf\", width = 5, height = 10)\n",
    "\n",
    "p1 <- corrplot::corrplot(as.matrix(sGenes_biotype_plot_df), method = 'square', is.cor = FALSE,\n",
    "            mar=c(1,1,1,1), family = \"Helvetica\",\n",
    "            cl.ratio = 0.1, cl.pos = 'b', cl.length = 3,\n",
    "            tl.col = 'black', tl.srt = 45,\n",
    "            col = \"#84A98C\", col.lim=c(0, 1))$corrPos\n",
    "p1$corr <- c(as.matrix(sGenes_biotype_plot_df))\n",
    "labels <- round(p1$corr, 2)\n",
    "labels[labels < 0.05] <- ''\n",
    "spacer <- 0.3\n",
    "text(p1$x, p1$y, labels, cex = 0.95, font = 2, family = \"Helvetica\")\n",
    "\n",
    "dev.off()"
   ]
  },
  {
   "cell_type": "markdown",
   "id": "5a73dd15-baf2-474b-b0b2-32eaf6ef86f6",
   "metadata": {},
   "source": [
    "## Cell-Type Figures"
   ]
  },
  {
   "cell_type": "code",
   "execution_count": 81,
   "id": "139612e3-89d5-447a-94db-aabc08dc6d75",
   "metadata": {},
   "outputs": [],
   "source": [
    "eGenes_plot_tbl <- eGenes_cell_cluster_res %>%\n",
    "                    mutate(fisher_fdr = p.adjust(fischer_p, \"fdr\")) %>%\n",
    "                    mutate(fisher_fdr_log = -log10(fisher_fdr)) %>%\n",
    "                    arrange(cell_type) %>%\n",
    "                    pivot_wider(id_cols = cell_type,\n",
    "                                names_from = scenario,\n",
    "                                values_from = fisher_fdr_log) %>%\n",
    "                    column_to_rownames(\"cell_type\")"
   ]
  },
  {
   "cell_type": "code",
   "execution_count": 84,
   "id": "4187bc2b-1edb-4096-8b7f-dd857b484b54",
   "metadata": {},
   "outputs": [],
   "source": [
    "eGenes_plot_tbl <- eGenes_plot_tbl %>% filter(tr1_only_eGenes > 0 | tr2_only_eGenes > 0)"
   ]
  },
  {
   "cell_type": "code",
   "execution_count": 85,
   "id": "e2abe998-a98a-4bed-8018-c31b0a6a2bd0",
   "metadata": {},
   "outputs": [
    {
     "data": {
      "image/png": "[encoded data removed]",
      "text/plain": [
       "Plot with title “”"
      ]
     },
     "metadata": {
      "image/png": {
       "height": 500,
       "width": 500
      }
     },
     "output_type": "display_data"
    }
   ],
   "source": [
    "# Custom plot options\n",
    "options(repr.plot.width = 10, repr.plot.height = 10, repr.plot.res = 100)\n",
    "\n",
    "corrplot::corrplot(as.matrix(eGenes_plot_tbl), method = 'square', is.cor = FALSE,\n",
    "            mar=c(0,0,0,0), family = \"Helvetica\",\n",
    "            cl.ratio = 0.1, cl.pos = 'b', cl.length = 3,\n",
    "            tl.col = 'black', tl.srt = 45,\n",
    "            col = corrplot::COL1('Blues', 200), col.lim=c(0, 2), addCoef.col ='black')"
   ]
  },
  {
   "cell_type": "code",
   "execution_count": 178,
   "id": "7ee418bf-8a70-42c3-b6c7-0792d39fbca3",
   "metadata": {},
   "outputs": [
    {
     "name": "stderr",
     "output_type": "stream",
     "text": [
      "Warning message in corrplot::corrplot(as.matrix(eGenes_plot_tbl), method = \"square\", :\n",
      "“col.lim interval too wide, please set a suitable value”\n"
     ]
    },
    {
     "data": {
      "image/png": "[encoded data removed]",
      "text/plain": [
       "Plot with title “”"
      ]
     },
     "metadata": {
      "image/png": {
       "height": 500,
       "width": 500
      }
     },
     "output_type": "display_data"
    }
   ],
   "source": [
    "p1 <- corrplot::corrplot(as.matrix(eGenes_plot_tbl), method = 'square', is.cor = FALSE,\n",
    "            mar=c(1,1,1,1), family = \"Helvetica\",\n",
    "            cl.ratio = 0.1, cl.pos = 'b', cl.length = 3,\n",
    "            tl.col = 'black', tl.srt = 45,\n",
    "            col = corrplot::COL1('Blues', 200), col.lim=c(0, 3))$corrPos\n",
    "p1$corr <- c(as.matrix(eGenes_plot_tbl))\n",
    "labels <- round(p1$corr, 2)\n",
    "labels[labels < 0.2] <- ''\n",
    "text(p1$x, p1$y, labels, cex = 1.1, font = 2, family = \"Helvetica\")"
   ]
  },
  {
   "cell_type": "code",
   "execution_count": 229,
   "id": "1c003539-eb50-4823-acff-74c409596f17",
   "metadata": {},
   "outputs": [
    {
     "name": "stderr",
     "output_type": "stream",
     "text": [
      "Warning message in corrplot::corrplot(as.matrix(eGenes_plot_tbl), method = \"square\", :\n",
      "“col.lim interval too wide, please set a suitable value”\n"
     ]
    },
    {
     "data": {
      "text/html": [
       "<strong>png:</strong> 2"
      ],
      "text/latex": [
       "\\textbf{png:} 2"
      ],
      "text/markdown": [
       "**png:** 2"
      ],
      "text/plain": [
       "png \n",
       "  2 "
      ]
     },
     "metadata": {},
     "output_type": "display_data"
    }
   ],
   "source": [
    "pdf(\"~/projects/cindy-wgcna/publication/figures/F3/F3_eGene_celltype.pdf\", width = 5, height = 10)\n",
    "\n",
    "p1 <- corrplot::corrplot(as.matrix(eGenes_plot_tbl), method = 'square', is.cor = FALSE,\n",
    "            mar=c(1,1,1,1), family = \"Helvetica\",\n",
    "            cl.ratio = 0.1, cl.pos = 'b', cl.length = 3,\n",
    "            tl.col = 'black', tl.srt = 45,\n",
    "            col = corrplot::COL1('Blues', 200), col.lim=c(0, 3))$corrPos\n",
    "p1$corr <- c(as.matrix(eGenes_plot_tbl))\n",
    "labels <- round(p1$corr, 2)\n",
    "labels[labels < 0.2] <- ''\n",
    "text(p1$x, p1$y, labels, cex = 1.1, font = 2, family = \"Helvetica\")\n",
    "\n",
    "dev.off()"
   ]
  },
  {
   "cell_type": "code",
   "execution_count": 97,
   "id": "f7845a23-1b82-48b6-8859-28a388933dfb",
   "metadata": {},
   "outputs": [],
   "source": [
    "sGenes_plot_tbl <- sGenes_cell_cluster_res %>%\n",
    "                    mutate(fisher_fdr = p.adjust(fischer_p, \"fdr\")) %>%\n",
    "                    mutate(fisher_fdr_log = -log10(fisher_fdr)) %>%\n",
    "                    arrange(cell_type) %>%\n",
    "                    pivot_wider(id_cols = cell_type,\n",
    "                                names_from = scenario,\n",
    "                                values_from = fisher_fdr_log) %>%\n",
    "                    column_to_rownames(\"cell_type\")"
   ]
  },
  {
   "cell_type": "code",
   "execution_count": 98,
   "id": "6615eb5f-d162-4e0e-8175-e9401b26113d",
   "metadata": {},
   "outputs": [],
   "source": [
    "sGenes_plot_tbl <- sGenes_plot_tbl %>% filter(tr1_only_sGenes > 0 | tr2_only_sGenes > 0)"
   ]
  },
  {
   "cell_type": "code",
   "execution_count": 99,
   "id": "2b8a946c-9dd1-4ebe-8450-d00524f62557",
   "metadata": {},
   "outputs": [
    {
     "data": {
      "image/png": "[encoded data removed]",
      "text/plain": [
       "Plot with title “”"
      ]
     },
     "metadata": {
      "image/png": {
       "height": 500,
       "width": 500
      }
     },
     "output_type": "display_data"
    }
   ],
   "source": [
    "# Custom plot options\n",
    "options(repr.plot.width = 10, repr.plot.height = 10, repr.plot.res = 100)\n",
    "\n",
    "corrplot::corrplot(as.matrix(sGenes_plot_tbl), method = 'square', is.cor = FALSE,\n",
    "            mar=c(0,0,0,0), family = \"Helvetica\",\n",
    "            cl.ratio = 0.1, cl.pos = 'b', cl.length = 3,\n",
    "            tl.col = 'black', tl.srt = 45,\n",
    "            col = corrplot::COL1('Blues', 200), col.lim=c(0, 2), addCoef.col ='black')"
   ]
  },
  {
   "cell_type": "code",
   "execution_count": 184,
   "id": "66e76cff-65ab-4ec5-ae4d-4a5c0151b013",
   "metadata": {},
   "outputs": [
    {
     "data": {
      "image/png": "[encoded data removed]",
      "text/plain": [
       "Plot with title “”"
      ]
     },
     "metadata": {
      "image/png": {
       "height": 500,
       "width": 500
      }
     },
     "output_type": "display_data"
    }
   ],
   "source": [
    "p1 <- corrplot::corrplot(as.matrix(sGenes_plot_tbl), method = 'square', is.cor = FALSE,\n",
    "            mar=c(1,1,1,1), family = \"Helvetica\",\n",
    "            cl.ratio = 0.1, cl.pos = 'b', cl.length = 3,\n",
    "            tl.col = 'black', tl.srt = 45,\n",
    "            col = corrplot::COL1('Blues', 200), col.lim=c(0, 3))$corrPos\n",
    "p1$corr <- c(as.matrix(sGenes_plot_tbl))\n",
    "labels <- round(p1$corr, 2)\n",
    "labels[labels < 0.2] <- ''\n",
    "text(p1$x, p1$y, labels, cex = 1.1, font = 2, family = \"Helvetica\")"
   ]
  },
  {
   "cell_type": "code",
   "execution_count": 230,
   "id": "dd55255c-8f57-4ccd-8ed2-50f74f330c36",
   "metadata": {},
   "outputs": [
    {
     "data": {
      "text/html": [
       "<strong>png:</strong> 2"
      ],
      "text/latex": [
       "\\textbf{png:} 2"
      ],
      "text/markdown": [
       "**png:** 2"
      ],
      "text/plain": [
       "png \n",
       "  2 "
      ]
     },
     "metadata": {},
     "output_type": "display_data"
    }
   ],
   "source": [
    "pdf(\"~/projects/cindy-wgcna/publication/figures/F3/F3_sGene_celltype.pdf\", width = 5, height = 10)\n",
    "\n",
    "p1 <- corrplot::corrplot(as.matrix(sGenes_plot_tbl), method = 'square', is.cor = FALSE,\n",
    "            mar=c(1,1,1,1), family = \"Helvetica\",\n",
    "            cl.ratio = 0.1, cl.pos = 'b', cl.length = 3,\n",
    "            tl.col = 'black', tl.srt = 45,\n",
    "            col = corrplot::COL1('Blues', 200), col.lim=c(0, 3))$corrPos\n",
    "p1$corr <- c(as.matrix(sGenes_plot_tbl))\n",
    "labels <- round(p1$corr, 2)\n",
    "labels[labels < 0.2] <- ''\n",
    "text(p1$x, p1$y, labels, cex = 1.1, font = 2, family = \"Helvetica\")\n",
    "\n",
    "dev.off()"
   ]
  }
 ],
 "metadata": {
  "kernelspec": {
   "display_name": "'R [conda-datasci]'",
   "language": "R",
   "name": "conda-env-conda-datasci-r"
  },
  "language_info": {
   "codemirror_mode": "r",
   "file_extension": ".r",
   "mimetype": "text/x-r-source",
   "name": "R",
   "pygments_lexer": "r",
   "version": "4.1.3"
  }
 },
 "nbformat": 4,
 "nbformat_minor": 5
}
