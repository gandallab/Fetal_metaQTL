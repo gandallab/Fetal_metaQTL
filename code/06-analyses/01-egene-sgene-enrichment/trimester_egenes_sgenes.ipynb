{
 "cells": [
  {
   "cell_type": "code",
   "execution_count": 1,
   "id": "7c75b38d-b605-4758-a9c3-f6ada740f163",
   "metadata": {},
   "outputs": [
    {
     "name": "stderr",
     "output_type": "stream",
     "text": [
      "── \u001b[1mAttaching packages\u001b[22m ─────────────────────────────────────── tidyverse 1.3.1 ──\n",
      "\n",
      "\u001b[32m✔\u001b[39m \u001b[34mggplot2\u001b[39m 3.3.5     \u001b[32m✔\u001b[39m \u001b[34mpurrr  \u001b[39m 0.3.4\n",
      "\u001b[32m✔\u001b[39m \u001b[34mtibble \u001b[39m 3.1.6     \u001b[32m✔\u001b[39m \u001b[34mdplyr  \u001b[39m 1.0.8\n",
      "\u001b[32m✔\u001b[39m \u001b[34mtidyr  \u001b[39m 1.2.0     \u001b[32m✔\u001b[39m \u001b[34mstringr\u001b[39m 1.4.0\n",
      "\u001b[32m✔\u001b[39m \u001b[34mreadr  \u001b[39m 2.1.2     \u001b[32m✔\u001b[39m \u001b[34mforcats\u001b[39m 0.5.1\n",
      "\n",
      "── \u001b[1mConflicts\u001b[22m ────────────────────────────────────────── tidyverse_conflicts() ──\n",
      "\u001b[31m✖\u001b[39m \u001b[34mdplyr\u001b[39m::\u001b[32mfilter()\u001b[39m masks \u001b[34mstats\u001b[39m::filter()\n",
      "\u001b[31m✖\u001b[39m \u001b[34mdplyr\u001b[39m::\u001b[32mlag()\u001b[39m    masks \u001b[34mstats\u001b[39m::lag()\n",
      "\n",
      "Warning message:\n",
      "“package ‘openxlsx’ was built under R version 4.1.1”\n",
      "corrplot 0.92 loaded\n",
      "\n"
     ]
    }
   ],
   "source": [
    "library(tidyverse)\n",
    "library(openxlsx)\n",
    "library(chisq.posthoc.test)\n",
    "library(corrplot)\n",
    "options(stringsAsFactors = F)\n",
    "setwd(\"../../../../Fetal_metaQTL/\")"
   ]
  },
  {
   "cell_type": "markdown",
   "id": "a38462ba-29a2-4061-847a-d8e4803b4282",
   "metadata": {
    "tags": []
   },
   "source": [
    "# Functions "
   ]
  },
  {
   "cell_type": "code",
   "execution_count": 2,
   "id": "59f7c16b-9cea-49db-9097-ee9dad8be2f5",
   "metadata": {},
   "outputs": [],
   "source": [
    "fisher_ORA <- function(test_set, test_background, ref_set, ref_background, verbose = FALSE) {\n",
    "    overlap = length(intersect(test_set, ref_set)) #q\n",
    "    group1 = length(intersect(test_set, ref_background)) #k\n",
    "    group2 = length(intersect(ref_set, test_background)) #m\n",
    "    total = length(intersect(test_background, ref_background)) #t\n",
    "    \n",
    "    mat <- matrix(c(\n",
    "        overlap, group1,\n",
    "        group2, total\n",
    "    ), nrow=2)\n",
    "    rownames(mat) <- c(\"inRef\", \"!inRef\")\n",
    "    colnames(mat) <- c(\"inTest\", \"!inTest\")\n",
    "    \n",
    "    if (verbose) {\n",
    "         print(mat)\n",
    "    }\n",
    "    \n",
    "    fishers_df <- data.frame()\n",
    "    fishers_df[1,1] <- overlap #q\n",
    "    fishers_df[2,1] <- group2 - overlap #k-q\n",
    "    fishers_df[1,2] <- group1 - overlap #m-q\n",
    "    fishers_df[2,2] <- total - group2 - group1 + overlap #t-m-k+q\n",
    "\n",
    "    res <- fisher.test(fishers_df, alternative='greater')\n",
    "    return(res)\n",
    "}"
   ]
  },
  {
   "cell_type": "markdown",
   "id": "65f6be85-d55c-4291-9113-f20cfef86157",
   "metadata": {},
   "source": [
    "# Data Loading"
   ]
  },
  {
   "cell_type": "code",
   "execution_count": 3,
   "id": "5bc08f6c-3923-438b-9233-b87fd24b6da0",
   "metadata": {},
   "outputs": [
    {
     "data": {
      "text/html": [
       "<style>\n",
       ".list-inline {list-style: none; margin:0; padding: 0}\n",
       ".list-inline>li {display: inline-block}\n",
       ".list-inline>li:not(:last-child)::after {content: \"\\00b7\"; padding: 0 .5ex}\n",
       "</style>\n",
       "<ol class=list-inline><li>'README'</li><li>'ST1-1-metadata'</li><li>'ST1-2-eGene'</li><li>'ST1-3-isoGene'</li><li>'ST1-4-sGene'</li><li>'ST1-5-torus-funcEnrich'</li><li>'ST1-6-conditional'</li><li>'ST1-7-fetalOnlyeGene-CellTypeEn'</li><li>'ST1-8-inv-eQTL'</li></ol>\n"
      ],
      "text/latex": [
       "\\begin{enumerate*}\n",
       "\\item 'README'\n",
       "\\item 'ST1-1-metadata'\n",
       "\\item 'ST1-2-eGene'\n",
       "\\item 'ST1-3-isoGene'\n",
       "\\item 'ST1-4-sGene'\n",
       "\\item 'ST1-5-torus-funcEnrich'\n",
       "\\item 'ST1-6-conditional'\n",
       "\\item 'ST1-7-fetalOnlyeGene-CellTypeEn'\n",
       "\\item 'ST1-8-inv-eQTL'\n",
       "\\end{enumerate*}\n"
      ],
      "text/markdown": [
       "1. 'README'\n",
       "2. 'ST1-1-metadata'\n",
       "3. 'ST1-2-eGene'\n",
       "4. 'ST1-3-isoGene'\n",
       "5. 'ST1-4-sGene'\n",
       "6. 'ST1-5-torus-funcEnrich'\n",
       "7. 'ST1-6-conditional'\n",
       "8. 'ST1-7-fetalOnlyeGene-CellTypeEn'\n",
       "9. 'ST1-8-inv-eQTL'\n",
       "\n",
       "\n"
      ],
      "text/plain": [
       "[1] \"README\"                          \"ST1-1-metadata\"                 \n",
       "[3] \"ST1-2-eGene\"                     \"ST1-3-isoGene\"                  \n",
       "[5] \"ST1-4-sGene\"                     \"ST1-5-torus-funcEnrich\"         \n",
       "[7] \"ST1-6-conditional\"               \"ST1-7-fetalOnlyeGene-CellTypeEn\"\n",
       "[9] \"ST1-8-inv-eQTL\"                 "
      ]
     },
     "metadata": {},
     "output_type": "display_data"
    }
   ],
   "source": [
    "readxl::excel_sheets(\"data/manuscript/ST1.xlsx\")"
   ]
  },
  {
   "cell_type": "code",
   "execution_count": 4,
   "id": "57acbae9-8a9c-4d1a-b453-7cdd2013fcbe",
   "metadata": {},
   "outputs": [
    {
     "data": {
      "text/html": [
       "<style>\n",
       ".list-inline {list-style: none; margin:0; padding: 0}\n",
       ".list-inline>li {display: inline-block}\n",
       ".list-inline>li:not(:last-child)::after {content: \"\\00b7\"; padding: 0 .5ex}\n",
       "</style>\n",
       "<ol class=list-inline><li>'README'</li><li>'ST3-1-tri1-eGene'</li><li>'ST3-2-tri2-eGene'</li><li>'ST3-3-tri1-isoGene'</li><li>'ST3-4-tri2-isoGene'</li><li>'ST3-5-tri1-sGene'</li><li>'ST3-6-tri2-sGene'</li><li>'ST3-7-triOnly-biotype'</li><li>'ST3-8-triOnly-cellTypeEnrich'</li></ol>\n"
      ],
      "text/latex": [
       "\\begin{enumerate*}\n",
       "\\item 'README'\n",
       "\\item 'ST3-1-tri1-eGene'\n",
       "\\item 'ST3-2-tri2-eGene'\n",
       "\\item 'ST3-3-tri1-isoGene'\n",
       "\\item 'ST3-4-tri2-isoGene'\n",
       "\\item 'ST3-5-tri1-sGene'\n",
       "\\item 'ST3-6-tri2-sGene'\n",
       "\\item 'ST3-7-triOnly-biotype'\n",
       "\\item 'ST3-8-triOnly-cellTypeEnrich'\n",
       "\\end{enumerate*}\n"
      ],
      "text/markdown": [
       "1. 'README'\n",
       "2. 'ST3-1-tri1-eGene'\n",
       "3. 'ST3-2-tri2-eGene'\n",
       "4. 'ST3-3-tri1-isoGene'\n",
       "5. 'ST3-4-tri2-isoGene'\n",
       "6. 'ST3-5-tri1-sGene'\n",
       "7. 'ST3-6-tri2-sGene'\n",
       "8. 'ST3-7-triOnly-biotype'\n",
       "9. 'ST3-8-triOnly-cellTypeEnrich'\n",
       "\n",
       "\n"
      ],
      "text/plain": [
       "[1] \"README\"                       \"ST3-1-tri1-eGene\"            \n",
       "[3] \"ST3-2-tri2-eGene\"             \"ST3-3-tri1-isoGene\"          \n",
       "[5] \"ST3-4-tri2-isoGene\"           \"ST3-5-tri1-sGene\"            \n",
       "[7] \"ST3-6-tri2-sGene\"             \"ST3-7-triOnly-biotype\"       \n",
       "[9] \"ST3-8-triOnly-cellTypeEnrich\""
      ]
     },
     "metadata": {},
     "output_type": "display_data"
    }
   ],
   "source": [
    "readxl::excel_sheets(\"data/manuscript/ST3.xlsx\")"
   ]
  },
  {
   "cell_type": "code",
   "execution_count": 5,
   "id": "3f55a6ce-dc8b-4bb0-abd6-e4a05ad642e7",
   "metadata": {},
   "outputs": [
    {
     "data": {
      "text/html": [
       "10094"
      ],
      "text/latex": [
       "10094"
      ],
      "text/markdown": [
       "10094"
      ],
      "text/plain": [
       "[1] 10094"
      ]
     },
     "metadata": {},
     "output_type": "display_data"
    }
   ],
   "source": [
    "# Load in all discovered fetal eGenes\n",
    "tableS1_2 <- readxl::read_xlsx(\"data/manuscript/ST1.xlsx\", sheet=\"ST1-2-eGene\")\n",
    "fetal_all_eGenes <- tableS1_2 %>% select(pid) %>% pull()\n",
    "length(fetal_all_eGenes)"
   ]
  },
  {
   "cell_type": "code",
   "execution_count": 6,
   "id": "29ce9669-03e1-42d5-80e7-94a7eb36e257",
   "metadata": {},
   "outputs": [
    {
     "data": {
      "text/html": [
       "8191"
      ],
      "text/latex": [
       "8191"
      ],
      "text/markdown": [
       "8191"
      ],
      "text/plain": [
       "[1] 8191"
      ]
     },
     "metadata": {},
     "output_type": "display_data"
    }
   ],
   "source": [
    "# Load in all discovered fetal sGenes\n",
    "tableS1_4 <- readxl::read_xlsx(\"data/manuscript/ST1.xlsx\", sheet=\"ST1-4-sGene\")\n",
    "fetal_all_sGenes <- tableS1_4 %>% select(group_id) %>% pull() %>% str_extract(\"ENSG[0-9]+\")\n",
    "length(fetal_all_sGenes)"
   ]
  },
  {
   "cell_type": "code",
   "execution_count": 7,
   "id": "dcac7aa5-411b-4424-8de3-fc5a38d86471",
   "metadata": {},
   "outputs": [
    {
     "data": {
      "text/html": [
       "4211"
      ],
      "text/latex": [
       "4211"
      ],
      "text/markdown": [
       "4211"
      ],
      "text/plain": [
       "[1] 4211"
      ]
     },
     "metadata": {},
     "output_type": "display_data"
    },
    {
     "data": {
      "text/html": [
       "2220"
      ],
      "text/latex": [
       "2220"
      ],
      "text/markdown": [
       "2220"
      ],
      "text/plain": [
       "[1] 2220"
      ]
     },
     "metadata": {},
     "output_type": "display_data"
    },
    {
     "data": {
      "text/html": [
       "5313"
      ],
      "text/latex": [
       "5313"
      ],
      "text/markdown": [
       "5313"
      ],
      "text/plain": [
       "[1] 5313"
      ]
     },
     "metadata": {},
     "output_type": "display_data"
    },
    {
     "data": {
      "text/html": [
       "2319"
      ],
      "text/latex": [
       "2319"
      ],
      "text/markdown": [
       "2319"
      ],
      "text/plain": [
       "[1] 2319"
      ]
     },
     "metadata": {},
     "output_type": "display_data"
    }
   ],
   "source": [
    "# Load eGenes\n",
    "tr1_eGenes <- openxlsx::read.xlsx(\"data/manuscript/ST3.xlsx\", sheet=\"ST3-1-tri1-eGene\") %>% select(pid) %>% unique %>% pull\n",
    "tr2_eGenes <- openxlsx::read.xlsx(\"data/manuscript/ST3.xlsx\", sheet=\"ST3-2-tri2-eGene\") %>% select(pid) %>% unique %>% pull\n",
    "\n",
    "# Load sGenes\n",
    "tr1_sGenes <- openxlsx::read.xlsx(\"data/manuscript/ST3.xlsx\", sheet=\"ST3-5-tri1-sGene\") %>% select(ensg) %>% unique %>% pull\n",
    "tr2_sGenes <- openxlsx::read.xlsx(\"data/manuscript/ST3.xlsx\", sheet=\"ST3-6-tri2-sGene\") %>% select(ensg) %>% unique %>% pull\n",
    "\n",
    "length(tr1_eGenes)\n",
    "length(tr2_eGenes)\n",
    "\n",
    "length(tr1_sGenes)\n",
    "length(tr2_sGenes)"
   ]
  },
  {
   "cell_type": "code",
   "execution_count": 8,
   "id": "f20b0f95-f471-478e-a75a-bec020fe61bc",
   "metadata": {},
   "outputs": [
    {
     "data": {
      "text/html": [
       "2950"
      ],
      "text/latex": [
       "2950"
      ],
      "text/markdown": [
       "2950"
      ],
      "text/plain": [
       "[1] 2950"
      ]
     },
     "metadata": {},
     "output_type": "display_data"
    },
    {
     "data": {
      "text/html": [
       "959"
      ],
      "text/latex": [
       "959"
      ],
      "text/markdown": [
       "959"
      ],
      "text/plain": [
       "[1] 959"
      ]
     },
     "metadata": {},
     "output_type": "display_data"
    },
    {
     "data": {
      "text/html": [
       "5170"
      ],
      "text/latex": [
       "5170"
      ],
      "text/markdown": [
       "5170"
      ],
      "text/plain": [
       "[1] 5170"
      ]
     },
     "metadata": {},
     "output_type": "display_data"
    }
   ],
   "source": [
    "# Define a not-in operator for simplicity\n",
    "`%notin%` <- Negate(`%in%`)\n",
    "\n",
    "# Filter to trimester-specific eGenes\n",
    "tri1_only_eGenes <- tr1_eGenes[tr1_eGenes %notin% tr2_eGenes]\n",
    "length(tri1_only_eGenes)\n",
    "\n",
    "tri2_only_eGenes <- tr2_eGenes[tr2_eGenes %notin% tr1_eGenes]\n",
    "length(tri2_only_eGenes)\n",
    "\n",
    "tri12_eGene_bg <- unique(c(tr1_eGenes, tr2_eGenes))#, fetal_all_eGenes))\n",
    "length(tri12_eGene_bg)"
   ]
  },
  {
   "cell_type": "code",
   "execution_count": 9,
   "id": "6d7d55d9-90fb-421a-bded-160be279426e",
   "metadata": {},
   "outputs": [
    {
     "data": {
      "text/html": [
       "3550"
      ],
      "text/latex": [
       "3550"
      ],
      "text/markdown": [
       "3550"
      ],
      "text/plain": [
       "[1] 3550"
      ]
     },
     "metadata": {},
     "output_type": "display_data"
    },
    {
     "data": {
      "text/html": [
       "556"
      ],
      "text/latex": [
       "556"
      ],
      "text/markdown": [
       "556"
      ],
      "text/plain": [
       "[1] 556"
      ]
     },
     "metadata": {},
     "output_type": "display_data"
    },
    {
     "data": {
      "text/html": [
       "5869"
      ],
      "text/latex": [
       "5869"
      ],
      "text/markdown": [
       "5869"
      ],
      "text/plain": [
       "[1] 5869"
      ]
     },
     "metadata": {},
     "output_type": "display_data"
    }
   ],
   "source": [
    "# Filter to trimester-specific sGenes\n",
    "tri1_only_sGenes <- tr1_sGenes[tr1_sGenes %notin% tr2_sGenes]\n",
    "length(tri1_only_sGenes)\n",
    "\n",
    "tri2_only_sGenes <- tr2_sGenes[tr2_sGenes %notin% tr1_sGenes]\n",
    "length(tri2_only_sGenes)\n",
    "\n",
    "tri12_sGene_bg <- unique(c(tr1_sGenes, tr2_sGenes))#, fetal_all_sGenes))\n",
    "length(tri12_sGene_bg)"
   ]
  },
  {
   "cell_type": "code",
   "execution_count": 10,
   "id": "41b002c0-3b5d-41bd-9780-195cdae91a67",
   "metadata": {},
   "outputs": [
    {
     "name": "stderr",
     "output_type": "stream",
     "text": [
      "\u001b[1mRows: \u001b[22m\u001b[34m62486\u001b[39m \u001b[1mColumns: \u001b[22m\u001b[34m13\u001b[39m\n",
      "\u001b[36m──\u001b[39m \u001b[1mColumn specification\u001b[22m \u001b[36m────────────────────────────────────────────────────────\u001b[39m\n",
      "\u001b[1mDelimiter:\u001b[22m \"\\t\"\n",
      "\u001b[31mchr\u001b[39m (11): V1, V2, V3, V6, V7, V8, V9, ensg, version, V11, V12\n",
      "\u001b[32mdbl\u001b[39m  (2): V4, V5\n",
      "\n",
      "\u001b[36mℹ\u001b[39m Use `spec()` to retrieve the full column specification for this data.\n",
      "\u001b[36mℹ\u001b[39m Specify the column types or set `show_col_types = FALSE` to quiet this message.\n"
     ]
    },
    {
     "data": {
      "text/html": [
       "<table class=\"dataframe\">\n",
       "<caption>A tibble: 3 × 13</caption>\n",
       "<thead>\n",
       "\t<tr><th scope=col>V1</th><th scope=col>V2</th><th scope=col>V3</th><th scope=col>V4</th><th scope=col>V5</th><th scope=col>V6</th><th scope=col>V7</th><th scope=col>V8</th><th scope=col>V9</th><th scope=col>ensg</th><th scope=col>version</th><th scope=col>V11</th><th scope=col>V12</th></tr>\n",
       "\t<tr><th scope=col>&lt;chr&gt;</th><th scope=col>&lt;chr&gt;</th><th scope=col>&lt;chr&gt;</th><th scope=col>&lt;dbl&gt;</th><th scope=col>&lt;dbl&gt;</th><th scope=col>&lt;chr&gt;</th><th scope=col>&lt;chr&gt;</th><th scope=col>&lt;chr&gt;</th><th scope=col>&lt;chr&gt;</th><th scope=col>&lt;chr&gt;</th><th scope=col>&lt;chr&gt;</th><th scope=col>&lt;chr&gt;</th><th scope=col>&lt;chr&gt;</th></tr>\n",
       "</thead>\n",
       "<tbody>\n",
       "\t<tr><td>chr1</td><td>HAVANA</td><td>gene</td><td>11869</td><td>14409</td><td>.</td><td>+</td><td>.</td><td>gene_id \"ENSG00000223972.5_2\"; gene_type \"transcribed_unprocessed_pseudogene\"; gene_name \"DDX11L1\"; level 2; hgnc_id \"HGNC:37102\"; havana_gene \"OTTHUMG00000000961.2_2\"; remap_status \"full_contig\"; remap_num_mappings 1; remap_target_status \"overlap\";</td><td>ENSG00000223972</td><td>5_2</td><td>transcribed_unprocessed_pseudogene</td><td>DDX11L1    </td></tr>\n",
       "\t<tr><td>chr1</td><td>HAVANA</td><td>gene</td><td>14404</td><td>29570</td><td>.</td><td>-</td><td>.</td><td>gene_id \"ENSG00000227232.5_3\"; gene_type \"unprocessed_pseudogene\"; gene_name \"WASH7P\"; level 2; hgnc_id \"HGNC:38034\"; havana_gene \"OTTHUMG00000000958.1_3\"; remap_status \"full_contig\"; remap_num_mappings 1; remap_target_status \"overlap\";             </td><td>ENSG00000227232</td><td>5_3</td><td>unprocessed_pseudogene            </td><td>WASH7P     </td></tr>\n",
       "\t<tr><td>chr1</td><td>HAVANA</td><td>gene</td><td>29554</td><td>31109</td><td>.</td><td>+</td><td>.</td><td>gene_id \"ENSG00000243485.5_6\"; gene_type \"lncRNA\"; gene_name \"MIR1302-2HG\"; level 2; hgnc_id \"HGNC:52482\"; tag \"ncRNA_host\"; havana_gene \"OTTHUMG00000000959.2_6\"; remap_status \"full_contig\"; remap_num_mappings 1; remap_target_status \"overlap\";      </td><td>ENSG00000243485</td><td>5_6</td><td>lncRNA                            </td><td>MIR1302-2HG</td></tr>\n",
       "</tbody>\n",
       "</table>\n"
      ],
      "text/latex": [
       "A tibble: 3 × 13\n",
       "\\begin{tabular}{lllllllllllll}\n",
       " V1 & V2 & V3 & V4 & V5 & V6 & V7 & V8 & V9 & ensg & version & V11 & V12\\\\\n",
       " <chr> & <chr> & <chr> & <dbl> & <dbl> & <chr> & <chr> & <chr> & <chr> & <chr> & <chr> & <chr> & <chr>\\\\\n",
       "\\hline\n",
       "\t chr1 & HAVANA & gene & 11869 & 14409 & . & + & . & gene\\_id \"ENSG00000223972.5\\_2\"; gene\\_type \"transcribed\\_unprocessed\\_pseudogene\"; gene\\_name \"DDX11L1\"; level 2; hgnc\\_id \"HGNC:37102\"; havana\\_gene \"OTTHUMG00000000961.2\\_2\"; remap\\_status \"full\\_contig\"; remap\\_num\\_mappings 1; remap\\_target\\_status \"overlap\"; & ENSG00000223972 & 5\\_2 & transcribed\\_unprocessed\\_pseudogene & DDX11L1    \\\\\n",
       "\t chr1 & HAVANA & gene & 14404 & 29570 & . & - & . & gene\\_id \"ENSG00000227232.5\\_3\"; gene\\_type \"unprocessed\\_pseudogene\"; gene\\_name \"WASH7P\"; level 2; hgnc\\_id \"HGNC:38034\"; havana\\_gene \"OTTHUMG00000000958.1\\_3\"; remap\\_status \"full\\_contig\"; remap\\_num\\_mappings 1; remap\\_target\\_status \"overlap\";              & ENSG00000227232 & 5\\_3 & unprocessed\\_pseudogene             & WASH7P     \\\\\n",
       "\t chr1 & HAVANA & gene & 29554 & 31109 & . & + & . & gene\\_id \"ENSG00000243485.5\\_6\"; gene\\_type \"lncRNA\"; gene\\_name \"MIR1302-2HG\"; level 2; hgnc\\_id \"HGNC:52482\"; tag \"ncRNA\\_host\"; havana\\_gene \"OTTHUMG00000000959.2\\_6\"; remap\\_status \"full\\_contig\"; remap\\_num\\_mappings 1; remap\\_target\\_status \"overlap\";       & ENSG00000243485 & 5\\_6 & lncRNA                             & MIR1302-2HG\\\\\n",
       "\\end{tabular}\n"
      ],
      "text/markdown": [
       "\n",
       "A tibble: 3 × 13\n",
       "\n",
       "| V1 &lt;chr&gt; | V2 &lt;chr&gt; | V3 &lt;chr&gt; | V4 &lt;dbl&gt; | V5 &lt;dbl&gt; | V6 &lt;chr&gt; | V7 &lt;chr&gt; | V8 &lt;chr&gt; | V9 &lt;chr&gt; | ensg &lt;chr&gt; | version &lt;chr&gt; | V11 &lt;chr&gt; | V12 &lt;chr&gt; |\n",
       "|---|---|---|---|---|---|---|---|---|---|---|---|---|\n",
       "| chr1 | HAVANA | gene | 11869 | 14409 | . | + | . | gene_id \"ENSG00000223972.5_2\"; gene_type \"transcribed_unprocessed_pseudogene\"; gene_name \"DDX11L1\"; level 2; hgnc_id \"HGNC:37102\"; havana_gene \"OTTHUMG00000000961.2_2\"; remap_status \"full_contig\"; remap_num_mappings 1; remap_target_status \"overlap\"; | ENSG00000223972 | 5_2 | transcribed_unprocessed_pseudogene | DDX11L1     |\n",
       "| chr1 | HAVANA | gene | 14404 | 29570 | . | - | . | gene_id \"ENSG00000227232.5_3\"; gene_type \"unprocessed_pseudogene\"; gene_name \"WASH7P\"; level 2; hgnc_id \"HGNC:38034\"; havana_gene \"OTTHUMG00000000958.1_3\"; remap_status \"full_contig\"; remap_num_mappings 1; remap_target_status \"overlap\";              | ENSG00000227232 | 5_3 | unprocessed_pseudogene             | WASH7P      |\n",
       "| chr1 | HAVANA | gene | 29554 | 31109 | . | + | . | gene_id \"ENSG00000243485.5_6\"; gene_type \"lncRNA\"; gene_name \"MIR1302-2HG\"; level 2; hgnc_id \"HGNC:52482\"; tag \"ncRNA_host\"; havana_gene \"OTTHUMG00000000959.2_6\"; remap_status \"full_contig\"; remap_num_mappings 1; remap_target_status \"overlap\";       | ENSG00000243485 | 5_6 | lncRNA                             | MIR1302-2HG |\n",
       "\n"
      ],
      "text/plain": [
       "  V1   V2     V3   V4    V5    V6 V7 V8\n",
       "1 chr1 HAVANA gene 11869 14409 .  +  . \n",
       "2 chr1 HAVANA gene 14404 29570 .  -  . \n",
       "3 chr1 HAVANA gene 29554 31109 .  +  . \n",
       "  V9                                                                                                                                                                                                                                                       \n",
       "1 gene_id \"ENSG00000223972.5_2\"; gene_type \"transcribed_unprocessed_pseudogene\"; gene_name \"DDX11L1\"; level 2; hgnc_id \"HGNC:37102\"; havana_gene \"OTTHUMG00000000961.2_2\"; remap_status \"full_contig\"; remap_num_mappings 1; remap_target_status \"overlap\";\n",
       "2 gene_id \"ENSG00000227232.5_3\"; gene_type \"unprocessed_pseudogene\"; gene_name \"WASH7P\"; level 2; hgnc_id \"HGNC:38034\"; havana_gene \"OTTHUMG00000000958.1_3\"; remap_status \"full_contig\"; remap_num_mappings 1; remap_target_status \"overlap\";             \n",
       "3 gene_id \"ENSG00000243485.5_6\"; gene_type \"lncRNA\"; gene_name \"MIR1302-2HG\"; level 2; hgnc_id \"HGNC:52482\"; tag \"ncRNA_host\"; havana_gene \"OTTHUMG00000000959.2_6\"; remap_status \"full_contig\"; remap_num_mappings 1; remap_target_status \"overlap\";      \n",
       "  ensg            version V11                                V12        \n",
       "1 ENSG00000223972 5_2     transcribed_unprocessed_pseudogene DDX11L1    \n",
       "2 ENSG00000227232 5_3     unprocessed_pseudogene             WASH7P     \n",
       "3 ENSG00000243485 5_6     lncRNA                             MIR1302-2HG"
      ]
     },
     "metadata": {},
     "output_type": "display_data"
    }
   ],
   "source": [
    "# Load a gencode annotation for biotype parsing\n",
    "gencode_annot <- read_tsv(\"data/accessory_files/gencode.v33lift37.annotation.gene.info.tsv\")\n",
    "head(gencode_annot, 3)"
   ]
  },
  {
   "cell_type": "code",
   "execution_count": 11,
   "id": "5677cc9c-7fb6-4dce-b402-94a0e8cbfe14",
   "metadata": {},
   "outputs": [
    {
     "data": {
      "text/html": [
       "<table class=\"dataframe\">\n",
       "<caption>A tibble: 6 × 8</caption>\n",
       "<thead>\n",
       "\t<tr><th scope=col>ensembl</th><th scope=col>gene</th><th scope=col>cluster</th><th scope=col>log2_fold_change</th><th scope=col>p_value</th><th scope=col>fdr</th><th scope=col>percent_expressed_cluster</th><th scope=col>percent_expressed_all_cells</th></tr>\n",
       "\t<tr><th scope=col>&lt;chr&gt;</th><th scope=col>&lt;chr&gt;</th><th scope=col>&lt;chr&gt;</th><th scope=col>&lt;chr&gt;</th><th scope=col>&lt;chr&gt;</th><th scope=col>&lt;chr&gt;</th><th scope=col>&lt;chr&gt;</th><th scope=col>&lt;chr&gt;</th></tr>\n",
       "</thead>\n",
       "<tbody>\n",
       "\t<tr><td>ENSG00000171617</td><td>ENC1   </td><td>ExN</td><td>1.15415684851705 </td><td>0</td><td>0</td><td>73.3</td><td>55.2</td></tr>\n",
       "\t<tr><td>ENSG00000124766</td><td>SOX4   </td><td>ExN</td><td>0.829387981626601</td><td>0</td><td>0</td><td>88.1</td><td>80.1</td></tr>\n",
       "\t<tr><td>ENSG00000134138</td><td>MEIS2  </td><td>ExN</td><td>0.81900483848292 </td><td>0</td><td>0</td><td>63.5</td><td>52.2</td></tr>\n",
       "\t<tr><td>ENSG00000164600</td><td>NEUROD6</td><td>ExN</td><td>0.816925751244978</td><td>0</td><td>0</td><td>72.1</td><td>59.7</td></tr>\n",
       "\t<tr><td>ENSG00000155926</td><td>SLA    </td><td>ExN</td><td>0.735309292588594</td><td>0</td><td>0</td><td>63.9</td><td>52.5</td></tr>\n",
       "\t<tr><td>ENSG00000092820</td><td>EZR    </td><td>ExN</td><td>0.715137175304713</td><td>0</td><td>0</td><td>58.8</td><td>48.5</td></tr>\n",
       "</tbody>\n",
       "</table>\n"
      ],
      "text/latex": [
       "A tibble: 6 × 8\n",
       "\\begin{tabular}{llllllll}\n",
       " ensembl & gene & cluster & log2\\_fold\\_change & p\\_value & fdr & percent\\_expressed\\_cluster & percent\\_expressed\\_all\\_cells\\\\\n",
       " <chr> & <chr> & <chr> & <chr> & <chr> & <chr> & <chr> & <chr>\\\\\n",
       "\\hline\n",
       "\t ENSG00000171617 & ENC1    & ExN & 1.15415684851705  & 0 & 0 & 73.3 & 55.2\\\\\n",
       "\t ENSG00000124766 & SOX4    & ExN & 0.829387981626601 & 0 & 0 & 88.1 & 80.1\\\\\n",
       "\t ENSG00000134138 & MEIS2   & ExN & 0.81900483848292  & 0 & 0 & 63.5 & 52.2\\\\\n",
       "\t ENSG00000164600 & NEUROD6 & ExN & 0.816925751244978 & 0 & 0 & 72.1 & 59.7\\\\\n",
       "\t ENSG00000155926 & SLA     & ExN & 0.735309292588594 & 0 & 0 & 63.9 & 52.5\\\\\n",
       "\t ENSG00000092820 & EZR     & ExN & 0.715137175304713 & 0 & 0 & 58.8 & 48.5\\\\\n",
       "\\end{tabular}\n"
      ],
      "text/markdown": [
       "\n",
       "A tibble: 6 × 8\n",
       "\n",
       "| ensembl &lt;chr&gt; | gene &lt;chr&gt; | cluster &lt;chr&gt; | log2_fold_change &lt;chr&gt; | p_value &lt;chr&gt; | fdr &lt;chr&gt; | percent_expressed_cluster &lt;chr&gt; | percent_expressed_all_cells &lt;chr&gt; |\n",
       "|---|---|---|---|---|---|---|---|\n",
       "| ENSG00000171617 | ENC1    | ExN | 1.15415684851705  | 0 | 0 | 73.3 | 55.2 |\n",
       "| ENSG00000124766 | SOX4    | ExN | 0.829387981626601 | 0 | 0 | 88.1 | 80.1 |\n",
       "| ENSG00000134138 | MEIS2   | ExN | 0.81900483848292  | 0 | 0 | 63.5 | 52.2 |\n",
       "| ENSG00000164600 | NEUROD6 | ExN | 0.816925751244978 | 0 | 0 | 72.1 | 59.7 |\n",
       "| ENSG00000155926 | SLA     | ExN | 0.735309292588594 | 0 | 0 | 63.9 | 52.5 |\n",
       "| ENSG00000092820 | EZR     | ExN | 0.715137175304713 | 0 | 0 | 58.8 | 48.5 |\n",
       "\n"
      ],
      "text/plain": [
       "  ensembl         gene    cluster log2_fold_change  p_value fdr\n",
       "1 ENSG00000171617 ENC1    ExN     1.15415684851705  0       0  \n",
       "2 ENSG00000124766 SOX4    ExN     0.829387981626601 0       0  \n",
       "3 ENSG00000134138 MEIS2   ExN     0.81900483848292  0       0  \n",
       "4 ENSG00000164600 NEUROD6 ExN     0.816925751244978 0       0  \n",
       "5 ENSG00000155926 SLA     ExN     0.735309292588594 0       0  \n",
       "6 ENSG00000092820 EZR     ExN     0.715137175304713 0       0  \n",
       "  percent_expressed_cluster percent_expressed_all_cells\n",
       "1 73.3                      55.2                       \n",
       "2 88.1                      80.1                       \n",
       "3 63.5                      52.2                       \n",
       "4 72.1                      59.7                       \n",
       "5 63.9                      52.5                       \n",
       "6 58.8                      48.5                       "
      ]
     },
     "metadata": {},
     "output_type": "display_data"
    },
    {
     "data": {
      "text/html": [
       "<style>\n",
       ".list-inline {list-style: none; margin:0; padding: 0}\n",
       ".list-inline>li {display: inline-block}\n",
       ".list-inline>li:not(:last-child)::after {content: \"\\00b7\"; padding: 0 .5ex}\n",
       "</style>\n",
       "<ol class=list-inline><li>7271</li><li>8</li></ol>\n"
      ],
      "text/latex": [
       "\\begin{enumerate*}\n",
       "\\item 7271\n",
       "\\item 8\n",
       "\\end{enumerate*}\n"
      ],
      "text/markdown": [
       "1. 7271\n",
       "2. 8\n",
       "\n",
       "\n"
      ],
      "text/plain": [
       "[1] 7271    8"
      ]
     },
     "metadata": {},
     "output_type": "display_data"
    },
    {
     "data": {
      "text/html": [
       "<style>\n",
       ".list-inline {list-style: none; margin:0; padding: 0}\n",
       ".list-inline>li {display: inline-block}\n",
       ".list-inline>li:not(:last-child)::after {content: \"\\00b7\"; padding: 0 .5ex}\n",
       "</style>\n",
       "<ol class=list-inline><li>'ExN'</li><li>'PgG2M'</li><li>'OPC'</li><li>'End'</li><li>'ExDp2'</li><li>'Per'</li><li>'Mic'</li><li>'ExM'</li><li>'IP'</li><li>'ExDp1'</li><li>'InMGE'</li><li>'InCGE'</li><li>'oRG'</li><li>'PgS'</li><li>'vRG'</li></ol>\n"
      ],
      "text/latex": [
       "\\begin{enumerate*}\n",
       "\\item 'ExN'\n",
       "\\item 'PgG2M'\n",
       "\\item 'OPC'\n",
       "\\item 'End'\n",
       "\\item 'ExDp2'\n",
       "\\item 'Per'\n",
       "\\item 'Mic'\n",
       "\\item 'ExM'\n",
       "\\item 'IP'\n",
       "\\item 'ExDp1'\n",
       "\\item 'InMGE'\n",
       "\\item 'InCGE'\n",
       "\\item 'oRG'\n",
       "\\item 'PgS'\n",
       "\\item 'vRG'\n",
       "\\end{enumerate*}\n"
      ],
      "text/markdown": [
       "1. 'ExN'\n",
       "2. 'PgG2M'\n",
       "3. 'OPC'\n",
       "4. 'End'\n",
       "5. 'ExDp2'\n",
       "6. 'Per'\n",
       "7. 'Mic'\n",
       "8. 'ExM'\n",
       "9. 'IP'\n",
       "10. 'ExDp1'\n",
       "11. 'InMGE'\n",
       "12. 'InCGE'\n",
       "13. 'oRG'\n",
       "14. 'PgS'\n",
       "15. 'vRG'\n",
       "\n",
       "\n"
      ],
      "text/plain": [
       " [1] \"ExN\"   \"PgG2M\" \"OPC\"   \"End\"   \"ExDp2\" \"Per\"   \"Mic\"   \"ExM\"   \"IP\"   \n",
       "[10] \"ExDp1\" \"InMGE\" \"InCGE\" \"oRG\"   \"PgS\"   \"vRG\"  "
      ]
     },
     "metadata": {},
     "output_type": "display_data"
    },
    {
     "data": {
      "text/html": [
       "3870"
      ],
      "text/latex": [
       "3870"
      ],
      "text/markdown": [
       "3870"
      ],
      "text/plain": [
       "[1] 3870"
      ]
     },
     "metadata": {},
     "output_type": "display_data"
    }
   ],
   "source": [
    "# Load cell type markers from fetal brain scRNAseq\n",
    "# Poliodakis et al. cluster analysis (Table S4)\n",
    "celltypemarkers_tableS4 <- openxlsx::read.xlsx('https://www.cell.com/cms/10.1016/j.neuron.2019.06.011/attachment/508ae008-b926-487a-b871-844a12acc1f8/mmc5.xlsx', sheet='Cluster enriched genes') %>% as_tibble()\n",
    "celltypemarkers_tableS4 <- janitor::clean_names(celltypemarkers_tableS4)\n",
    "celltypemarkers_tableS4_bg <- unique(celltypemarkers_tableS4$ensembl)\n",
    "\n",
    "# Combine ExM and ExM-U\n",
    "celltypemarkers_tableS4 <- celltypemarkers_tableS4 %>%\n",
    "                                mutate(cluster = if_else(cluster == \"ExM-U\", \"ExM\", cluster))\n",
    "\n",
    "head(celltypemarkers_tableS4)\n",
    "dim(celltypemarkers_tableS4)\n",
    "unique(celltypemarkers_tableS4$cluster)\n",
    "length(celltypemarkers_tableS4_bg)"
   ]
  },
  {
   "cell_type": "markdown",
   "id": "2a172102-b19c-47fb-990d-1e00d9bd2599",
   "metadata": {},
   "source": [
    "# Analysis"
   ]
  },
  {
   "cell_type": "markdown",
   "id": "43c93eb2-2e70-4915-8d6d-5ef95568402c",
   "metadata": {},
   "source": [
    "## eGene Biotype Enrichment by Trimester"
   ]
  },
  {
   "cell_type": "code",
   "execution_count": 12,
   "id": "5f1a6b8a-7869-4e0e-ae9d-525b909fedfb",
   "metadata": {},
   "outputs": [
    {
     "data": {
      "text/html": [
       "<table class=\"dataframe\">\n",
       "<caption>A data.frame: 10 × 2</caption>\n",
       "<thead>\n",
       "\t<tr><th></th><th scope=col>TR1_eGenes</th><th scope=col>TR2_eGenes</th></tr>\n",
       "\t<tr><th></th><th scope=col>&lt;int&gt;</th><th scope=col>&lt;int&gt;</th></tr>\n",
       "</thead>\n",
       "<tbody>\n",
       "\t<tr><th scope=row>lncRNA</th><td> 808</td><td>246</td></tr>\n",
       "\t<tr><th scope=row>miRNA</th><td> 134</td><td> 15</td></tr>\n",
       "\t<tr><th scope=row>misc_RNA</th><td>  79</td><td> 15</td></tr>\n",
       "\t<tr><th scope=row>processed_pseudogene</th><td>  99</td><td> 37</td></tr>\n",
       "\t<tr><th scope=row>protein_coding</th><td>1508</td><td>574</td></tr>\n",
       "\t<tr><th scope=row>snoRNA</th><td>  47</td><td>  8</td></tr>\n",
       "\t<tr><th scope=row>TEC</th><td>  56</td><td> 17</td></tr>\n",
       "\t<tr><th scope=row>transcribed_processed_pseudogene</th><td>  28</td><td>  7</td></tr>\n",
       "\t<tr><th scope=row>transcribed_unprocessed_pseudogene</th><td>  75</td><td> 19</td></tr>\n",
       "\t<tr><th scope=row>unprocessed_pseudogene</th><td>  39</td><td>  9</td></tr>\n",
       "</tbody>\n",
       "</table>\n"
      ],
      "text/latex": [
       "A data.frame: 10 × 2\n",
       "\\begin{tabular}{r|ll}\n",
       "  & TR1\\_eGenes & TR2\\_eGenes\\\\\n",
       "  & <int> & <int>\\\\\n",
       "\\hline\n",
       "\tlncRNA &  808 & 246\\\\\n",
       "\tmiRNA &  134 &  15\\\\\n",
       "\tmisc\\_RNA &   79 &  15\\\\\n",
       "\tprocessed\\_pseudogene &   99 &  37\\\\\n",
       "\tprotein\\_coding & 1508 & 574\\\\\n",
       "\tsnoRNA &   47 &   8\\\\\n",
       "\tTEC &   56 &  17\\\\\n",
       "\ttranscribed\\_processed\\_pseudogene &   28 &   7\\\\\n",
       "\ttranscribed\\_unprocessed\\_pseudogene &   75 &  19\\\\\n",
       "\tunprocessed\\_pseudogene &   39 &   9\\\\\n",
       "\\end{tabular}\n"
      ],
      "text/markdown": [
       "\n",
       "A data.frame: 10 × 2\n",
       "\n",
       "| <!--/--> | TR1_eGenes &lt;int&gt; | TR2_eGenes &lt;int&gt; |\n",
       "|---|---|---|\n",
       "| lncRNA |  808 | 246 |\n",
       "| miRNA |  134 |  15 |\n",
       "| misc_RNA |   79 |  15 |\n",
       "| processed_pseudogene |   99 |  37 |\n",
       "| protein_coding | 1508 | 574 |\n",
       "| snoRNA |   47 |   8 |\n",
       "| TEC |   56 |  17 |\n",
       "| transcribed_processed_pseudogene |   28 |   7 |\n",
       "| transcribed_unprocessed_pseudogene |   75 |  19 |\n",
       "| unprocessed_pseudogene |   39 |   9 |\n",
       "\n"
      ],
      "text/plain": [
       "                                   TR1_eGenes TR2_eGenes\n",
       "lncRNA                              808       246       \n",
       "miRNA                               134        15       \n",
       "misc_RNA                             79        15       \n",
       "processed_pseudogene                 99        37       \n",
       "protein_coding                     1508       574       \n",
       "snoRNA                               47         8       \n",
       "TEC                                  56        17       \n",
       "transcribed_processed_pseudogene     28         7       \n",
       "transcribed_unprocessed_pseudogene   75        19       \n",
       "unprocessed_pseudogene               39         9       "
      ]
     },
     "metadata": {},
     "output_type": "display_data"
    }
   ],
   "source": [
    "tr1_only_eGenes_biotypes <- gencode_annot %>% filter(ensg %in% tri1_only_eGenes)\n",
    "tr2_only_eGenes_biotypes <- gencode_annot %>% filter(ensg %in% tri2_only_eGenes)\n",
    "\n",
    "eGenes_biotype_df <- inner_join(tr1_only_eGenes_biotypes %>% count(V11) %>% rename(\"biotype\" = \"V11\", \"TR1_eGenes\" = \"n\"),\n",
    "                                tr2_only_eGenes_biotypes %>% count(V11) %>% rename(\"biotype\" = \"V11\", \"TR2_eGenes\" = \"n\"), by = \"biotype\") %>%\n",
    "                          column_to_rownames(\"biotype\") %>%\n",
    "                          filter(TR1_eGenes > 5 & TR2_eGenes > 5)\n",
    "\n",
    "eGenes_biotype_df"
   ]
  },
  {
   "cell_type": "code",
   "execution_count": 13,
   "id": "35b530ae-e68e-4acb-8992-5026111f1331",
   "metadata": {},
   "outputs": [
    {
     "data": {
      "text/plain": [
       "\n",
       "\tPearson's Chi-squared test\n",
       "\n",
       "data:  eGenes_biotype_df\n",
       "X-squared = 37.109, df = 9, p-value = 2.517e-05\n"
      ]
     },
     "metadata": {},
     "output_type": "display_data"
    },
    {
     "data": {
      "text/html": [
       "<table class=\"dataframe\">\n",
       "<caption>A data.frame: 10 × 2</caption>\n",
       "<thead>\n",
       "\t<tr><th></th><th scope=col>TR1_eGenes</th><th scope=col>TR2_eGenes</th></tr>\n",
       "\t<tr><th></th><th scope=col>&lt;dbl&gt;</th><th scope=col>&lt;dbl&gt;</th></tr>\n",
       "</thead>\n",
       "<tbody>\n",
       "\t<tr><th scope=row>lncRNA</th><td>1.000000</td><td>1.000000</td></tr>\n",
       "\t<tr><th scope=row>miRNA</th><td>0.000436</td><td>0.000436</td></tr>\n",
       "\t<tr><th scope=row>misc_RNA</th><td>0.892418</td><td>0.892418</td></tr>\n",
       "\t<tr><th scope=row>processed_pseudogene</th><td>1.000000</td><td>1.000000</td></tr>\n",
       "\t<tr><th scope=row>protein_coding</th><td>0.000268</td><td>0.000268</td></tr>\n",
       "\t<tr><th scope=row>snoRNA</th><td>1.000000</td><td>1.000000</td></tr>\n",
       "\t<tr><th scope=row>TEC</th><td>1.000000</td><td>1.000000</td></tr>\n",
       "\t<tr><th scope=row>transcribed_processed_pseudogene</th><td>1.000000</td><td>1.000000</td></tr>\n",
       "\t<tr><th scope=row>transcribed_unprocessed_pseudogene</th><td>1.000000</td><td>1.000000</td></tr>\n",
       "\t<tr><th scope=row>unprocessed_pseudogene</th><td>1.000000</td><td>1.000000</td></tr>\n",
       "</tbody>\n",
       "</table>\n"
      ],
      "text/latex": [
       "A data.frame: 10 × 2\n",
       "\\begin{tabular}{r|ll}\n",
       "  & TR1\\_eGenes & TR2\\_eGenes\\\\\n",
       "  & <dbl> & <dbl>\\\\\n",
       "\\hline\n",
       "\tlncRNA & 1.000000 & 1.000000\\\\\n",
       "\tmiRNA & 0.000436 & 0.000436\\\\\n",
       "\tmisc\\_RNA & 0.892418 & 0.892418\\\\\n",
       "\tprocessed\\_pseudogene & 1.000000 & 1.000000\\\\\n",
       "\tprotein\\_coding & 0.000268 & 0.000268\\\\\n",
       "\tsnoRNA & 1.000000 & 1.000000\\\\\n",
       "\tTEC & 1.000000 & 1.000000\\\\\n",
       "\ttranscribed\\_processed\\_pseudogene & 1.000000 & 1.000000\\\\\n",
       "\ttranscribed\\_unprocessed\\_pseudogene & 1.000000 & 1.000000\\\\\n",
       "\tunprocessed\\_pseudogene & 1.000000 & 1.000000\\\\\n",
       "\\end{tabular}\n"
      ],
      "text/markdown": [
       "\n",
       "A data.frame: 10 × 2\n",
       "\n",
       "| <!--/--> | TR1_eGenes &lt;dbl&gt; | TR2_eGenes &lt;dbl&gt; |\n",
       "|---|---|---|\n",
       "| lncRNA | 1.000000 | 1.000000 |\n",
       "| miRNA | 0.000436 | 0.000436 |\n",
       "| misc_RNA | 0.892418 | 0.892418 |\n",
       "| processed_pseudogene | 1.000000 | 1.000000 |\n",
       "| protein_coding | 0.000268 | 0.000268 |\n",
       "| snoRNA | 1.000000 | 1.000000 |\n",
       "| TEC | 1.000000 | 1.000000 |\n",
       "| transcribed_processed_pseudogene | 1.000000 | 1.000000 |\n",
       "| transcribed_unprocessed_pseudogene | 1.000000 | 1.000000 |\n",
       "| unprocessed_pseudogene | 1.000000 | 1.000000 |\n",
       "\n"
      ],
      "text/plain": [
       "                                   TR1_eGenes TR2_eGenes\n",
       "lncRNA                             1.000000   1.000000  \n",
       "miRNA                              0.000436   0.000436  \n",
       "misc_RNA                           0.892418   0.892418  \n",
       "processed_pseudogene               1.000000   1.000000  \n",
       "protein_coding                     0.000268   0.000268  \n",
       "snoRNA                             1.000000   1.000000  \n",
       "TEC                                1.000000   1.000000  \n",
       "transcribed_processed_pseudogene   1.000000   1.000000  \n",
       "transcribed_unprocessed_pseudogene 1.000000   1.000000  \n",
       "unprocessed_pseudogene             1.000000   1.000000  "
      ]
     },
     "metadata": {},
     "output_type": "display_data"
    }
   ],
   "source": [
    "# Chi-square comparing counts of each biotype across trimesters\n",
    "eGenes_chisq <- chisq.test(eGenes_biotype_df)\n",
    "eGenes_chisq\n",
    "\n",
    "# Post-hoc analysis to identify main drivers of the significant chi-square\n",
    "posthoc <- chisq.posthoc.test(eGenes_biotype_df, method = \"bonferroni\")\n",
    "posthoc_p_df <- posthoc %>% filter(Value == \"p values\") %>% select(c(3,4))\n",
    "rownames(posthoc_p_df) <- (posthoc %>% filter(Value == \"p values\"))$Dimension\n",
    "posthoc_p_df"
   ]
  },
  {
   "cell_type": "markdown",
   "id": "1f80e2d9-a7d7-4e8e-89dc-98e10781e010",
   "metadata": {},
   "source": [
    "## sGene Biotype Enrichment by Trimester"
   ]
  },
  {
   "cell_type": "code",
   "execution_count": 14,
   "id": "2fda7ad4-d3db-4cda-ae22-8420d7b61c2e",
   "metadata": {},
   "outputs": [
    {
     "data": {
      "text/html": [
       "<table class=\"dataframe\">\n",
       "<caption>A data.frame: 2 × 2</caption>\n",
       "<thead>\n",
       "\t<tr><th></th><th scope=col>TR1_sGenes</th><th scope=col>TR2_sGenes</th></tr>\n",
       "\t<tr><th></th><th scope=col>&lt;int&gt;</th><th scope=col>&lt;int&gt;</th></tr>\n",
       "</thead>\n",
       "<tbody>\n",
       "\t<tr><th scope=row>lncRNA</th><td> 336</td><td> 40</td></tr>\n",
       "\t<tr><th scope=row>protein_coding</th><td>3120</td><td>511</td></tr>\n",
       "</tbody>\n",
       "</table>\n"
      ],
      "text/latex": [
       "A data.frame: 2 × 2\n",
       "\\begin{tabular}{r|ll}\n",
       "  & TR1\\_sGenes & TR2\\_sGenes\\\\\n",
       "  & <int> & <int>\\\\\n",
       "\\hline\n",
       "\tlncRNA &  336 &  40\\\\\n",
       "\tprotein\\_coding & 3120 & 511\\\\\n",
       "\\end{tabular}\n"
      ],
      "text/markdown": [
       "\n",
       "A data.frame: 2 × 2\n",
       "\n",
       "| <!--/--> | TR1_sGenes &lt;int&gt; | TR2_sGenes &lt;int&gt; |\n",
       "|---|---|---|\n",
       "| lncRNA |  336 |  40 |\n",
       "| protein_coding | 3120 | 511 |\n",
       "\n"
      ],
      "text/plain": [
       "               TR1_sGenes TR2_sGenes\n",
       "lncRNA          336        40       \n",
       "protein_coding 3120       511       "
      ]
     },
     "metadata": {},
     "output_type": "display_data"
    }
   ],
   "source": [
    "tr1_only_sGenes_biotypes <- gencode_annot %>% filter(ensg %in% tri1_only_sGenes)\n",
    "tr2_only_sGenes_biotypes <- gencode_annot %>% filter(ensg %in% tri2_only_sGenes)\n",
    "\n",
    "sGenes_biotype_df <- inner_join(tr1_only_sGenes_biotypes %>% count(V11) %>% rename(\"biotype\" = \"V11\", \"TR1_sGenes\" = \"n\"),\n",
    "                                tr2_only_sGenes_biotypes %>% count(V11) %>% rename(\"biotype\" = \"V11\", \"TR2_sGenes\" = \"n\"), by = \"biotype\") %>%\n",
    "                          column_to_rownames(\"biotype\") %>%\n",
    "                          filter(TR1_sGenes > 5 & TR2_sGenes > 5)\n",
    "\n",
    "sGenes_biotype_df"
   ]
  },
  {
   "cell_type": "code",
   "execution_count": 15,
   "id": "c667f8f7-ce25-4315-8bbf-ed79661e9b57",
   "metadata": {},
   "outputs": [
    {
     "data": {
      "text/plain": [
       "\n",
       "\tPearson's Chi-squared test with Yates' continuity correction\n",
       "\n",
       "data:  sGenes_biotype_df\n",
       "X-squared = 3.1062, df = 1, p-value = 0.078\n"
      ]
     },
     "metadata": {},
     "output_type": "display_data"
    }
   ],
   "source": [
    "# Chi-square is not significant, so not post-hoc testing\n",
    "sGenes_chisq <- chisq.test(sGenes_biotype_df)\n",
    "sGenes_chisq"
   ]
  },
  {
   "cell_type": "markdown",
   "id": "3884ca0f-3761-4994-961e-dc02621891a6",
   "metadata": {},
   "source": [
    "## eGene Cell Type Enrichment by Trimester"
   ]
  },
  {
   "cell_type": "code",
   "execution_count": 16,
   "id": "91d8827b-bb99-4ede-98b4-6ee75a903e51",
   "metadata": {},
   "outputs": [
    {
     "name": "stdout",
     "output_type": "stream",
     "text": [
      "ExN PgG2M OPC End ExDp2 Per Mic ExM IP ExDp1 InMGE InCGE oRG PgS vRG "
     ]
    },
    {
     "data": {
      "text/html": [
       "<table class=\"dataframe\">\n",
       "<caption>A tibble: 30 × 4</caption>\n",
       "<thead>\n",
       "\t<tr><th scope=col>scenario</th><th scope=col>cell_type</th><th scope=col>fisher_p</th><th scope=col>fisher_or</th></tr>\n",
       "\t<tr><th scope=col>&lt;chr&gt;</th><th scope=col>&lt;chr&gt;</th><th scope=col>&lt;dbl&gt;</th><th scope=col>&lt;dbl&gt;</th></tr>\n",
       "</thead>\n",
       "<tbody>\n",
       "\t<tr><td>tr2_only_eGenes</td><td>IP   </td><td>0.002043758</td><td>3.4193856</td></tr>\n",
       "\t<tr><td>tr1_only_eGenes</td><td>ExM  </td><td>0.011352955</td><td>2.4244701</td></tr>\n",
       "\t<tr><td>tr2_only_eGenes</td><td>OPC  </td><td>0.098160753</td><td>1.5028491</td></tr>\n",
       "\t<tr><td>tr1_only_eGenes</td><td>End  </td><td>0.104472624</td><td>1.4687096</td></tr>\n",
       "\t<tr><td>tr2_only_eGenes</td><td>ExN  </td><td>0.120827541</td><td>2.5818938</td></tr>\n",
       "\t<tr><td>tr2_only_eGenes</td><td>InMGE</td><td>0.273576596</td><td>1.4999255</td></tr>\n",
       "\t<tr><td>tr2_only_eGenes</td><td>oRG  </td><td>0.289440151</td><td>1.2027926</td></tr>\n",
       "\t<tr><td>tr1_only_eGenes</td><td>Mic  </td><td>0.291126764</td><td>1.1760123</td></tr>\n",
       "\t<tr><td>tr1_only_eGenes</td><td>ExDp1</td><td>0.330540924</td><td>1.1821982</td></tr>\n",
       "\t<tr><td>tr2_only_eGenes</td><td>ExDp2</td><td>0.421289063</td><td>1.0877559</td></tr>\n",
       "\t<tr><td>tr2_only_eGenes</td><td>ExDp1</td><td>0.449616295</td><td>1.0855224</td></tr>\n",
       "\t<tr><td>tr2_only_eGenes</td><td>vRG  </td><td>0.467217596</td><td>1.0676474</td></tr>\n",
       "\t<tr><td>tr2_only_eGenes</td><td>PgG2M</td><td>0.499772384</td><td>1.0379085</td></tr>\n",
       "\t<tr><td>tr1_only_eGenes</td><td>ExDp2</td><td>0.556535879</td><td>0.9956261</td></tr>\n",
       "\t<tr><td>tr1_only_eGenes</td><td>InCGE</td><td>0.597623967</td><td>1.0087732</td></tr>\n",
       "\t<tr><td>tr2_only_eGenes</td><td>Mic  </td><td>0.685567470</td><td>0.9080211</td></tr>\n",
       "\t<tr><td>tr1_only_eGenes</td><td>InMGE</td><td>0.707494135</td><td>0.8668431</td></tr>\n",
       "\t<tr><td>tr2_only_eGenes</td><td>InCGE</td><td>0.710157564</td><td>0.8386882</td></tr>\n",
       "\t<tr><td>tr2_only_eGenes</td><td>PgS  </td><td>0.751272192</td><td>0.8610035</td></tr>\n",
       "\t<tr><td>tr1_only_eGenes</td><td>ExN  </td><td>0.762395266</td><td>0.7807160</td></tr>\n",
       "\t<tr><td>tr1_only_eGenes</td><td>PgS  </td><td>0.775312518</td><td>0.8590936</td></tr>\n",
       "\t<tr><td>tr1_only_eGenes</td><td>PgG2M</td><td>0.797165767</td><td>0.8337211</td></tr>\n",
       "\t<tr><td>tr2_only_eGenes</td><td>Per  </td><td>0.810972277</td><td>0.8286977</td></tr>\n",
       "\t<tr><td>tr2_only_eGenes</td><td>ExM  </td><td>0.827162971</td><td>0.7421485</td></tr>\n",
       "\t<tr><td>tr1_only_eGenes</td><td>vRG  </td><td>0.845534429</td><td>0.7862594</td></tr>\n",
       "\t<tr><td>tr1_only_eGenes</td><td>oRG  </td><td>0.899917674</td><td>0.7493835</td></tr>\n",
       "\t<tr><td>tr1_only_eGenes</td><td>Per  </td><td>0.910412886</td><td>0.7648304</td></tr>\n",
       "\t<tr><td>tr1_only_eGenes</td><td>OPC  </td><td>0.926332112</td><td>0.7031075</td></tr>\n",
       "\t<tr><td>tr2_only_eGenes</td><td>End  </td><td>0.956765758</td><td>0.6077854</td></tr>\n",
       "\t<tr><td>tr1_only_eGenes</td><td>IP   </td><td>0.998883718</td><td>0.3104859</td></tr>\n",
       "</tbody>\n",
       "</table>\n"
      ],
      "text/latex": [
       "A tibble: 30 × 4\n",
       "\\begin{tabular}{llll}\n",
       " scenario & cell\\_type & fisher\\_p & fisher\\_or\\\\\n",
       " <chr> & <chr> & <dbl> & <dbl>\\\\\n",
       "\\hline\n",
       "\t tr2\\_only\\_eGenes & IP    & 0.002043758 & 3.4193856\\\\\n",
       "\t tr1\\_only\\_eGenes & ExM   & 0.011352955 & 2.4244701\\\\\n",
       "\t tr2\\_only\\_eGenes & OPC   & 0.098160753 & 1.5028491\\\\\n",
       "\t tr1\\_only\\_eGenes & End   & 0.104472624 & 1.4687096\\\\\n",
       "\t tr2\\_only\\_eGenes & ExN   & 0.120827541 & 2.5818938\\\\\n",
       "\t tr2\\_only\\_eGenes & InMGE & 0.273576596 & 1.4999255\\\\\n",
       "\t tr2\\_only\\_eGenes & oRG   & 0.289440151 & 1.2027926\\\\\n",
       "\t tr1\\_only\\_eGenes & Mic   & 0.291126764 & 1.1760123\\\\\n",
       "\t tr1\\_only\\_eGenes & ExDp1 & 0.330540924 & 1.1821982\\\\\n",
       "\t tr2\\_only\\_eGenes & ExDp2 & 0.421289063 & 1.0877559\\\\\n",
       "\t tr2\\_only\\_eGenes & ExDp1 & 0.449616295 & 1.0855224\\\\\n",
       "\t tr2\\_only\\_eGenes & vRG   & 0.467217596 & 1.0676474\\\\\n",
       "\t tr2\\_only\\_eGenes & PgG2M & 0.499772384 & 1.0379085\\\\\n",
       "\t tr1\\_only\\_eGenes & ExDp2 & 0.556535879 & 0.9956261\\\\\n",
       "\t tr1\\_only\\_eGenes & InCGE & 0.597623967 & 1.0087732\\\\\n",
       "\t tr2\\_only\\_eGenes & Mic   & 0.685567470 & 0.9080211\\\\\n",
       "\t tr1\\_only\\_eGenes & InMGE & 0.707494135 & 0.8668431\\\\\n",
       "\t tr2\\_only\\_eGenes & InCGE & 0.710157564 & 0.8386882\\\\\n",
       "\t tr2\\_only\\_eGenes & PgS   & 0.751272192 & 0.8610035\\\\\n",
       "\t tr1\\_only\\_eGenes & ExN   & 0.762395266 & 0.7807160\\\\\n",
       "\t tr1\\_only\\_eGenes & PgS   & 0.775312518 & 0.8590936\\\\\n",
       "\t tr1\\_only\\_eGenes & PgG2M & 0.797165767 & 0.8337211\\\\\n",
       "\t tr2\\_only\\_eGenes & Per   & 0.810972277 & 0.8286977\\\\\n",
       "\t tr2\\_only\\_eGenes & ExM   & 0.827162971 & 0.7421485\\\\\n",
       "\t tr1\\_only\\_eGenes & vRG   & 0.845534429 & 0.7862594\\\\\n",
       "\t tr1\\_only\\_eGenes & oRG   & 0.899917674 & 0.7493835\\\\\n",
       "\t tr1\\_only\\_eGenes & Per   & 0.910412886 & 0.7648304\\\\\n",
       "\t tr1\\_only\\_eGenes & OPC   & 0.926332112 & 0.7031075\\\\\n",
       "\t tr2\\_only\\_eGenes & End   & 0.956765758 & 0.6077854\\\\\n",
       "\t tr1\\_only\\_eGenes & IP    & 0.998883718 & 0.3104859\\\\\n",
       "\\end{tabular}\n"
      ],
      "text/markdown": [
       "\n",
       "A tibble: 30 × 4\n",
       "\n",
       "| scenario &lt;chr&gt; | cell_type &lt;chr&gt; | fisher_p &lt;dbl&gt; | fisher_or &lt;dbl&gt; |\n",
       "|---|---|---|---|\n",
       "| tr2_only_eGenes | IP    | 0.002043758 | 3.4193856 |\n",
       "| tr1_only_eGenes | ExM   | 0.011352955 | 2.4244701 |\n",
       "| tr2_only_eGenes | OPC   | 0.098160753 | 1.5028491 |\n",
       "| tr1_only_eGenes | End   | 0.104472624 | 1.4687096 |\n",
       "| tr2_only_eGenes | ExN   | 0.120827541 | 2.5818938 |\n",
       "| tr2_only_eGenes | InMGE | 0.273576596 | 1.4999255 |\n",
       "| tr2_only_eGenes | oRG   | 0.289440151 | 1.2027926 |\n",
       "| tr1_only_eGenes | Mic   | 0.291126764 | 1.1760123 |\n",
       "| tr1_only_eGenes | ExDp1 | 0.330540924 | 1.1821982 |\n",
       "| tr2_only_eGenes | ExDp2 | 0.421289063 | 1.0877559 |\n",
       "| tr2_only_eGenes | ExDp1 | 0.449616295 | 1.0855224 |\n",
       "| tr2_only_eGenes | vRG   | 0.467217596 | 1.0676474 |\n",
       "| tr2_only_eGenes | PgG2M | 0.499772384 | 1.0379085 |\n",
       "| tr1_only_eGenes | ExDp2 | 0.556535879 | 0.9956261 |\n",
       "| tr1_only_eGenes | InCGE | 0.597623967 | 1.0087732 |\n",
       "| tr2_only_eGenes | Mic   | 0.685567470 | 0.9080211 |\n",
       "| tr1_only_eGenes | InMGE | 0.707494135 | 0.8668431 |\n",
       "| tr2_only_eGenes | InCGE | 0.710157564 | 0.8386882 |\n",
       "| tr2_only_eGenes | PgS   | 0.751272192 | 0.8610035 |\n",
       "| tr1_only_eGenes | ExN   | 0.762395266 | 0.7807160 |\n",
       "| tr1_only_eGenes | PgS   | 0.775312518 | 0.8590936 |\n",
       "| tr1_only_eGenes | PgG2M | 0.797165767 | 0.8337211 |\n",
       "| tr2_only_eGenes | Per   | 0.810972277 | 0.8286977 |\n",
       "| tr2_only_eGenes | ExM   | 0.827162971 | 0.7421485 |\n",
       "| tr1_only_eGenes | vRG   | 0.845534429 | 0.7862594 |\n",
       "| tr1_only_eGenes | oRG   | 0.899917674 | 0.7493835 |\n",
       "| tr1_only_eGenes | Per   | 0.910412886 | 0.7648304 |\n",
       "| tr1_only_eGenes | OPC   | 0.926332112 | 0.7031075 |\n",
       "| tr2_only_eGenes | End   | 0.956765758 | 0.6077854 |\n",
       "| tr1_only_eGenes | IP    | 0.998883718 | 0.3104859 |\n",
       "\n"
      ],
      "text/plain": [
       "   scenario        cell_type fisher_p    fisher_or\n",
       "1  tr2_only_eGenes IP        0.002043758 3.4193856\n",
       "2  tr1_only_eGenes ExM       0.011352955 2.4244701\n",
       "3  tr2_only_eGenes OPC       0.098160753 1.5028491\n",
       "4  tr1_only_eGenes End       0.104472624 1.4687096\n",
       "5  tr2_only_eGenes ExN       0.120827541 2.5818938\n",
       "6  tr2_only_eGenes InMGE     0.273576596 1.4999255\n",
       "7  tr2_only_eGenes oRG       0.289440151 1.2027926\n",
       "8  tr1_only_eGenes Mic       0.291126764 1.1760123\n",
       "9  tr1_only_eGenes ExDp1     0.330540924 1.1821982\n",
       "10 tr2_only_eGenes ExDp2     0.421289063 1.0877559\n",
       "11 tr2_only_eGenes ExDp1     0.449616295 1.0855224\n",
       "12 tr2_only_eGenes vRG       0.467217596 1.0676474\n",
       "13 tr2_only_eGenes PgG2M     0.499772384 1.0379085\n",
       "14 tr1_only_eGenes ExDp2     0.556535879 0.9956261\n",
       "15 tr1_only_eGenes InCGE     0.597623967 1.0087732\n",
       "16 tr2_only_eGenes Mic       0.685567470 0.9080211\n",
       "17 tr1_only_eGenes InMGE     0.707494135 0.8668431\n",
       "18 tr2_only_eGenes InCGE     0.710157564 0.8386882\n",
       "19 tr2_only_eGenes PgS       0.751272192 0.8610035\n",
       "20 tr1_only_eGenes ExN       0.762395266 0.7807160\n",
       "21 tr1_only_eGenes PgS       0.775312518 0.8590936\n",
       "22 tr1_only_eGenes PgG2M     0.797165767 0.8337211\n",
       "23 tr2_only_eGenes Per       0.810972277 0.8286977\n",
       "24 tr2_only_eGenes ExM       0.827162971 0.7421485\n",
       "25 tr1_only_eGenes vRG       0.845534429 0.7862594\n",
       "26 tr1_only_eGenes oRG       0.899917674 0.7493835\n",
       "27 tr1_only_eGenes Per       0.910412886 0.7648304\n",
       "28 tr1_only_eGenes OPC       0.926332112 0.7031075\n",
       "29 tr2_only_eGenes End       0.956765758 0.6077854\n",
       "30 tr1_only_eGenes IP        0.998883718 0.3104859"
      ]
     },
     "metadata": {},
     "output_type": "display_data"
    }
   ],
   "source": [
    "eGenes_cell_cluster_res <- tibble()\n",
    "\n",
    "for (cell in unique(celltypemarkers_tableS4$cluster)) {\n",
    "    cat(paste0(cell, \" \"))\n",
    "    \n",
    "    one_cell_markers <- celltypemarkers_tableS4 %>%\n",
    "                            filter(cluster == cell) %>%\n",
    "                            select(ensembl) %>%\n",
    "                            pull\n",
    "    \n",
    "    res <- fisher_ORA(test_set = tri1_only_eGenes,\n",
    "                       test_background = tri12_eGene_bg,\n",
    "                       ref_set = one_cell_markers,\n",
    "                       ref_background = celltypemarkers_tableS4_bg)\n",
    "    \n",
    "    eGenes_cell_cluster_res <- rbind(eGenes_cell_cluster_res, tibble(scenario = \"tr1_only_eGenes\",\n",
    "                                                                       cell_type = cell,\n",
    "                                                                       fisher_p = res$p.value,\n",
    "                                                                       fisher_or = as.numeric(res$estimate)))\n",
    "    \n",
    "    res <- fisher_ORA(test_set = tri2_only_eGenes,\n",
    "                       test_background = tri12_eGene_bg,\n",
    "                       ref_set = one_cell_markers,\n",
    "                       ref_background = celltypemarkers_tableS4_bg)\n",
    "    \n",
    "    eGenes_cell_cluster_res <- rbind(eGenes_cell_cluster_res, tibble(scenario = \"tr2_only_eGenes\",\n",
    "                                                                       cell_type = cell,\n",
    "                                                                       fisher_p = res$p.value,\n",
    "                                                                       fisher_or = as.numeric(res$estimate)))\n",
    "}\n",
    "\n",
    "eGenes_cell_cluster_res %>% arrange(fisher_p)"
   ]
  },
  {
   "cell_type": "markdown",
   "id": "e9d50510-c5e3-4164-810b-69063e083768",
   "metadata": {},
   "source": [
    "## sGene Cell Type Enrichment by Trimester"
   ]
  },
  {
   "cell_type": "code",
   "execution_count": 17,
   "id": "3a620bac-131e-45d8-bf6e-b321636b5f1d",
   "metadata": {},
   "outputs": [
    {
     "name": "stdout",
     "output_type": "stream",
     "text": [
      "ExN PgG2M OPC End ExDp2 Per Mic ExM IP ExDp1 InMGE InCGE oRG PgS vRG "
     ]
    },
    {
     "data": {
      "text/html": [
       "<table class=\"dataframe\">\n",
       "<caption>A tibble: 30 × 4</caption>\n",
       "<thead>\n",
       "\t<tr><th scope=col>scenario</th><th scope=col>cell_type</th><th scope=col>fisher_p</th><th scope=col>fisher_or</th></tr>\n",
       "\t<tr><th scope=col>&lt;chr&gt;</th><th scope=col>&lt;chr&gt;</th><th scope=col>&lt;dbl&gt;</th><th scope=col>&lt;dbl&gt;</th></tr>\n",
       "</thead>\n",
       "<tbody>\n",
       "\t<tr><td>tr2_only_sGenes</td><td>ExM  </td><td>0.0006491774</td><td>2.2686080</td></tr>\n",
       "\t<tr><td>tr2_only_sGenes</td><td>ExDp1</td><td>0.0218876692</td><td>1.5903059</td></tr>\n",
       "\t<tr><td>tr1_only_sGenes</td><td>Per  </td><td>0.0778561844</td><td>1.2321091</td></tr>\n",
       "\t<tr><td>tr2_only_sGenes</td><td>oRG  </td><td>0.1099259608</td><td>1.3565603</td></tr>\n",
       "\t<tr><td>tr1_only_sGenes</td><td>PgG2M</td><td>0.1517904255</td><td>1.2180884</td></tr>\n",
       "\t<tr><td>tr1_only_sGenes</td><td>End  </td><td>0.1576608377</td><td>1.1875612</td></tr>\n",
       "\t<tr><td>tr2_only_sGenes</td><td>End  </td><td>0.1810103496</td><td>1.2539271</td></tr>\n",
       "\t<tr><td>tr2_only_sGenes</td><td>Mic  </td><td>0.1956987771</td><td>1.2271687</td></tr>\n",
       "\t<tr><td>tr1_only_sGenes</td><td>Mic  </td><td>0.2124872950</td><td>1.1409465</td></tr>\n",
       "\t<tr><td>tr2_only_sGenes</td><td>InMGE</td><td>0.2390829921</td><td>1.3936400</td></tr>\n",
       "\t<tr><td>tr1_only_sGenes</td><td>PgS  </td><td>0.2566608257</td><td>1.1282162</td></tr>\n",
       "\t<tr><td>tr2_only_sGenes</td><td>vRG  </td><td>0.3203129521</td><td>1.1704086</td></tr>\n",
       "\t<tr><td>tr2_only_sGenes</td><td>ExN  </td><td>0.3672315423</td><td>1.3735062</td></tr>\n",
       "\t<tr><td>tr1_only_sGenes</td><td>oRG  </td><td>0.4854263936</td><td>1.0201052</td></tr>\n",
       "\t<tr><td>tr2_only_sGenes</td><td>OPC  </td><td>0.5254820297</td><td>1.0102265</td></tr>\n",
       "\t<tr><td>tr1_only_sGenes</td><td>IP   </td><td>0.5495337715</td><td>1.0004599</td></tr>\n",
       "\t<tr><td>tr2_only_sGenes</td><td>IP   </td><td>0.6332054048</td><td>0.9304675</td></tr>\n",
       "\t<tr><td>tr2_only_sGenes</td><td>ExDp2</td><td>0.7091451642</td><td>0.9072619</td></tr>\n",
       "\t<tr><td>tr2_only_sGenes</td><td>InCGE</td><td>0.7204823917</td><td>0.8276577</td></tr>\n",
       "\t<tr><td>tr1_only_sGenes</td><td>ExDp2</td><td>0.7475629618</td><td>0.9206630</td></tr>\n",
       "\t<tr><td>tr2_only_sGenes</td><td>Per  </td><td>0.8128657906</td><td>0.8443168</td></tr>\n",
       "\t<tr><td>tr1_only_sGenes</td><td>InMGE</td><td>0.8173585655</td><td>0.8108467</td></tr>\n",
       "\t<tr><td>tr1_only_sGenes</td><td>vRG  </td><td>0.8640590474</td><td>0.8292423</td></tr>\n",
       "\t<tr><td>tr1_only_sGenes</td><td>OPC  </td><td>0.8880979910</td><td>0.8255317</td></tr>\n",
       "\t<tr><td>tr1_only_sGenes</td><td>InCGE</td><td>0.9471121726</td><td>0.6493190</td></tr>\n",
       "\t<tr><td>tr1_only_sGenes</td><td>ExN  </td><td>0.9688308645</td><td>0.5118433</td></tr>\n",
       "\t<tr><td>tr2_only_sGenes</td><td>PgG2M</td><td>0.9822611640</td><td>0.5598293</td></tr>\n",
       "\t<tr><td>tr2_only_sGenes</td><td>PgS  </td><td>0.9954014764</td><td>0.5008401</td></tr>\n",
       "\t<tr><td>tr1_only_sGenes</td><td>ExDp1</td><td>0.9999919293</td><td>0.5154925</td></tr>\n",
       "\t<tr><td>tr1_only_sGenes</td><td>ExM  </td><td>0.9999999623</td><td>0.3675144</td></tr>\n",
       "</tbody>\n",
       "</table>\n"
      ],
      "text/latex": [
       "A tibble: 30 × 4\n",
       "\\begin{tabular}{llll}\n",
       " scenario & cell\\_type & fisher\\_p & fisher\\_or\\\\\n",
       " <chr> & <chr> & <dbl> & <dbl>\\\\\n",
       "\\hline\n",
       "\t tr2\\_only\\_sGenes & ExM   & 0.0006491774 & 2.2686080\\\\\n",
       "\t tr2\\_only\\_sGenes & ExDp1 & 0.0218876692 & 1.5903059\\\\\n",
       "\t tr1\\_only\\_sGenes & Per   & 0.0778561844 & 1.2321091\\\\\n",
       "\t tr2\\_only\\_sGenes & oRG   & 0.1099259608 & 1.3565603\\\\\n",
       "\t tr1\\_only\\_sGenes & PgG2M & 0.1517904255 & 1.2180884\\\\\n",
       "\t tr1\\_only\\_sGenes & End   & 0.1576608377 & 1.1875612\\\\\n",
       "\t tr2\\_only\\_sGenes & End   & 0.1810103496 & 1.2539271\\\\\n",
       "\t tr2\\_only\\_sGenes & Mic   & 0.1956987771 & 1.2271687\\\\\n",
       "\t tr1\\_only\\_sGenes & Mic   & 0.2124872950 & 1.1409465\\\\\n",
       "\t tr2\\_only\\_sGenes & InMGE & 0.2390829921 & 1.3936400\\\\\n",
       "\t tr1\\_only\\_sGenes & PgS   & 0.2566608257 & 1.1282162\\\\\n",
       "\t tr2\\_only\\_sGenes & vRG   & 0.3203129521 & 1.1704086\\\\\n",
       "\t tr2\\_only\\_sGenes & ExN   & 0.3672315423 & 1.3735062\\\\\n",
       "\t tr1\\_only\\_sGenes & oRG   & 0.4854263936 & 1.0201052\\\\\n",
       "\t tr2\\_only\\_sGenes & OPC   & 0.5254820297 & 1.0102265\\\\\n",
       "\t tr1\\_only\\_sGenes & IP    & 0.5495337715 & 1.0004599\\\\\n",
       "\t tr2\\_only\\_sGenes & IP    & 0.6332054048 & 0.9304675\\\\\n",
       "\t tr2\\_only\\_sGenes & ExDp2 & 0.7091451642 & 0.9072619\\\\\n",
       "\t tr2\\_only\\_sGenes & InCGE & 0.7204823917 & 0.8276577\\\\\n",
       "\t tr1\\_only\\_sGenes & ExDp2 & 0.7475629618 & 0.9206630\\\\\n",
       "\t tr2\\_only\\_sGenes & Per   & 0.8128657906 & 0.8443168\\\\\n",
       "\t tr1\\_only\\_sGenes & InMGE & 0.8173585655 & 0.8108467\\\\\n",
       "\t tr1\\_only\\_sGenes & vRG   & 0.8640590474 & 0.8292423\\\\\n",
       "\t tr1\\_only\\_sGenes & OPC   & 0.8880979910 & 0.8255317\\\\\n",
       "\t tr1\\_only\\_sGenes & InCGE & 0.9471121726 & 0.6493190\\\\\n",
       "\t tr1\\_only\\_sGenes & ExN   & 0.9688308645 & 0.5118433\\\\\n",
       "\t tr2\\_only\\_sGenes & PgG2M & 0.9822611640 & 0.5598293\\\\\n",
       "\t tr2\\_only\\_sGenes & PgS   & 0.9954014764 & 0.5008401\\\\\n",
       "\t tr1\\_only\\_sGenes & ExDp1 & 0.9999919293 & 0.5154925\\\\\n",
       "\t tr1\\_only\\_sGenes & ExM   & 0.9999999623 & 0.3675144\\\\\n",
       "\\end{tabular}\n"
      ],
      "text/markdown": [
       "\n",
       "A tibble: 30 × 4\n",
       "\n",
       "| scenario &lt;chr&gt; | cell_type &lt;chr&gt; | fisher_p &lt;dbl&gt; | fisher_or &lt;dbl&gt; |\n",
       "|---|---|---|---|\n",
       "| tr2_only_sGenes | ExM   | 0.0006491774 | 2.2686080 |\n",
       "| tr2_only_sGenes | ExDp1 | 0.0218876692 | 1.5903059 |\n",
       "| tr1_only_sGenes | Per   | 0.0778561844 | 1.2321091 |\n",
       "| tr2_only_sGenes | oRG   | 0.1099259608 | 1.3565603 |\n",
       "| tr1_only_sGenes | PgG2M | 0.1517904255 | 1.2180884 |\n",
       "| tr1_only_sGenes | End   | 0.1576608377 | 1.1875612 |\n",
       "| tr2_only_sGenes | End   | 0.1810103496 | 1.2539271 |\n",
       "| tr2_only_sGenes | Mic   | 0.1956987771 | 1.2271687 |\n",
       "| tr1_only_sGenes | Mic   | 0.2124872950 | 1.1409465 |\n",
       "| tr2_only_sGenes | InMGE | 0.2390829921 | 1.3936400 |\n",
       "| tr1_only_sGenes | PgS   | 0.2566608257 | 1.1282162 |\n",
       "| tr2_only_sGenes | vRG   | 0.3203129521 | 1.1704086 |\n",
       "| tr2_only_sGenes | ExN   | 0.3672315423 | 1.3735062 |\n",
       "| tr1_only_sGenes | oRG   | 0.4854263936 | 1.0201052 |\n",
       "| tr2_only_sGenes | OPC   | 0.5254820297 | 1.0102265 |\n",
       "| tr1_only_sGenes | IP    | 0.5495337715 | 1.0004599 |\n",
       "| tr2_only_sGenes | IP    | 0.6332054048 | 0.9304675 |\n",
       "| tr2_only_sGenes | ExDp2 | 0.7091451642 | 0.9072619 |\n",
       "| tr2_only_sGenes | InCGE | 0.7204823917 | 0.8276577 |\n",
       "| tr1_only_sGenes | ExDp2 | 0.7475629618 | 0.9206630 |\n",
       "| tr2_only_sGenes | Per   | 0.8128657906 | 0.8443168 |\n",
       "| tr1_only_sGenes | InMGE | 0.8173585655 | 0.8108467 |\n",
       "| tr1_only_sGenes | vRG   | 0.8640590474 | 0.8292423 |\n",
       "| tr1_only_sGenes | OPC   | 0.8880979910 | 0.8255317 |\n",
       "| tr1_only_sGenes | InCGE | 0.9471121726 | 0.6493190 |\n",
       "| tr1_only_sGenes | ExN   | 0.9688308645 | 0.5118433 |\n",
       "| tr2_only_sGenes | PgG2M | 0.9822611640 | 0.5598293 |\n",
       "| tr2_only_sGenes | PgS   | 0.9954014764 | 0.5008401 |\n",
       "| tr1_only_sGenes | ExDp1 | 0.9999919293 | 0.5154925 |\n",
       "| tr1_only_sGenes | ExM   | 0.9999999623 | 0.3675144 |\n",
       "\n"
      ],
      "text/plain": [
       "   scenario        cell_type fisher_p     fisher_or\n",
       "1  tr2_only_sGenes ExM       0.0006491774 2.2686080\n",
       "2  tr2_only_sGenes ExDp1     0.0218876692 1.5903059\n",
       "3  tr1_only_sGenes Per       0.0778561844 1.2321091\n",
       "4  tr2_only_sGenes oRG       0.1099259608 1.3565603\n",
       "5  tr1_only_sGenes PgG2M     0.1517904255 1.2180884\n",
       "6  tr1_only_sGenes End       0.1576608377 1.1875612\n",
       "7  tr2_only_sGenes End       0.1810103496 1.2539271\n",
       "8  tr2_only_sGenes Mic       0.1956987771 1.2271687\n",
       "9  tr1_only_sGenes Mic       0.2124872950 1.1409465\n",
       "10 tr2_only_sGenes InMGE     0.2390829921 1.3936400\n",
       "11 tr1_only_sGenes PgS       0.2566608257 1.1282162\n",
       "12 tr2_only_sGenes vRG       0.3203129521 1.1704086\n",
       "13 tr2_only_sGenes ExN       0.3672315423 1.3735062\n",
       "14 tr1_only_sGenes oRG       0.4854263936 1.0201052\n",
       "15 tr2_only_sGenes OPC       0.5254820297 1.0102265\n",
       "16 tr1_only_sGenes IP        0.5495337715 1.0004599\n",
       "17 tr2_only_sGenes IP        0.6332054048 0.9304675\n",
       "18 tr2_only_sGenes ExDp2     0.7091451642 0.9072619\n",
       "19 tr2_only_sGenes InCGE     0.7204823917 0.8276577\n",
       "20 tr1_only_sGenes ExDp2     0.7475629618 0.9206630\n",
       "21 tr2_only_sGenes Per       0.8128657906 0.8443168\n",
       "22 tr1_only_sGenes InMGE     0.8173585655 0.8108467\n",
       "23 tr1_only_sGenes vRG       0.8640590474 0.8292423\n",
       "24 tr1_only_sGenes OPC       0.8880979910 0.8255317\n",
       "25 tr1_only_sGenes InCGE     0.9471121726 0.6493190\n",
       "26 tr1_only_sGenes ExN       0.9688308645 0.5118433\n",
       "27 tr2_only_sGenes PgG2M     0.9822611640 0.5598293\n",
       "28 tr2_only_sGenes PgS       0.9954014764 0.5008401\n",
       "29 tr1_only_sGenes ExDp1     0.9999919293 0.5154925\n",
       "30 tr1_only_sGenes ExM       0.9999999623 0.3675144"
      ]
     },
     "metadata": {},
     "output_type": "display_data"
    }
   ],
   "source": [
    "sGenes_cell_cluster_res <- tibble()\n",
    "\n",
    "# If you combine ExM and ExM-U, you see an ExM signal whereas before the signal was too split\n",
    "celltypemarkers_tableS4 <- celltypemarkers_tableS4 %>% mutate(cluster = if_else(cluster == \"ExM-U\", \"ExM\", cluster))\n",
    "\n",
    "for (cell in unique(celltypemarkers_tableS4$cluster)) {\n",
    "    cat(paste0(cell, \" \"))\n",
    "    \n",
    "    one_cell_markers <- celltypemarkers_tableS4 %>%\n",
    "                            filter(cluster == cell) %>%\n",
    "                            select(ensembl) %>%\n",
    "                            pull\n",
    "    \n",
    "    res <- fisher_ORA(test_set = tri1_only_sGenes,\n",
    "                       test_background = tri12_sGene_bg,\n",
    "                       ref_set = one_cell_markers,\n",
    "                       ref_background = celltypemarkers_tableS4_bg)\n",
    "    \n",
    "    sGenes_cell_cluster_res <- rbind(sGenes_cell_cluster_res, tibble(scenario = \"tr1_only_sGenes\",\n",
    "                                                                       cell_type = cell,\n",
    "                                                                       fisher_p = res$p.value,\n",
    "                                                                       fisher_or = as.numeric(res$estimate)))\n",
    "    \n",
    "    res <- fisher_ORA(test_set = tri2_only_sGenes,\n",
    "                       test_background = tri12_sGene_bg,\n",
    "                       ref_set = one_cell_markers,\n",
    "                       ref_background = celltypemarkers_tableS4_bg)\n",
    "    \n",
    "    sGenes_cell_cluster_res <- rbind(sGenes_cell_cluster_res, tibble(scenario = \"tr2_only_sGenes\",\n",
    "                                                                       cell_type = cell,\n",
    "                                                                       fisher_p = res$p.value,\n",
    "                                                                       fisher_or = as.numeric(res$estimate)))\n",
    "}\n",
    "\n",
    "sGenes_cell_cluster_res %>% arrange(fisher_p)"
   ]
  },
  {
   "cell_type": "markdown",
   "id": "14a8b20c-ce6c-4c52-90d5-9d70d88b9b68",
   "metadata": {},
   "source": [
    "# Manuscript Figures"
   ]
  },
  {
   "cell_type": "markdown",
   "id": "12f0f605-5632-4293-b53e-eb5f2a7931ee",
   "metadata": {},
   "source": [
    "## Figure 3 - eGene and sGene Biotype Enrichment"
   ]
  },
  {
   "cell_type": "code",
   "execution_count": 18,
   "id": "d4748f46-8b64-44cc-a6f0-3d9d5048a182",
   "metadata": {},
   "outputs": [],
   "source": [
    "eGenes_biotype_plot_df <- sweep(eGenes_biotype_df, 2, colSums(eGenes_biotype_df),`/`)\n",
    "rownames(eGenes_biotype_plot_df) <- gsub(\"_\", \"\\n\", rownames(eGenes_biotype_plot_df))"
   ]
  },
  {
   "cell_type": "code",
   "execution_count": 19,
   "id": "e9d0ffac-9d30-494a-a28e-92feaeffacb3",
   "metadata": {},
   "outputs": [
    {
     "data": {
      "image/png": "[encoded data removed]",
      "text/plain": [
       "Plot with title “”"
      ]
     },
     "metadata": {
      "image/png": {
       "height": 420,
       "width": 420
      }
     },
     "output_type": "display_data"
    }
   ],
   "source": [
    "p1 <- corrplot::corrplot(as.matrix(eGenes_biotype_plot_df), method = 'square', is.cor = FALSE,\n",
    "            mar=c(1,1,1,1), family = \"Helvetica\",\n",
    "            cl.ratio = 0.1, cl.pos = 'b', cl.length = 3,\n",
    "            tl.col = 'black', tl.srt = 45,\n",
    "            col = \"#84A98C\", col.lim=c(0, 1))$corrPos\n",
    "p1$corr <- c(as.matrix(eGenes_biotype_plot_df))\n",
    "labels <- round(p1$corr, 2)\n",
    "spacer <- 0.3\n",
    "text(p1$x, p1$y-c(0, spacer, spacer, spacer, 0, spacer, spacer, spacer, spacer, spacer), labels, cex = 0.95, font = 2, family = \"Helvetica\")"
   ]
  },
  {
   "cell_type": "code",
   "execution_count": 20,
   "id": "24a213d4-922d-46b7-ae56-8753285fdcec",
   "metadata": {},
   "outputs": [],
   "source": [
    "sGenes_biotype_plot_df <- merge(eGenes_biotype_df %>% as.data.frame %>% rownames_to_column(\"biotype\"),\n",
    "                                sGenes_biotype_df %>% as.data.frame %>% rownames_to_column(\"biotype\"), all = T)\n",
    "sGenes_biotype_plot_df[is.na(sGenes_biotype_plot_df)] <- 0\n",
    "sGenes_biotype_plot_df <- sGenes_biotype_plot_df %>% column_to_rownames(\"biotype\") %>% select(contains(\"sGene\"))\n",
    "sGenes_biotype_plot_df <- sweep(sGenes_biotype_plot_df, 2, colSums(sGenes_biotype_df),`/`)\n",
    "rownames(sGenes_biotype_plot_df) <- gsub(\"_\", \"\\n\", rownames(sGenes_biotype_plot_df))"
   ]
  },
  {
   "cell_type": "code",
   "execution_count": 21,
   "id": "cf5f4c6f-2a05-4ba4-bfdd-fafcd2d91aeb",
   "metadata": {},
   "outputs": [
    {
     "data": {
      "image/png": "[encoded data removed]",
      "text/plain": [
       "Plot with title “”"
      ]
     },
     "metadata": {
      "image/png": {
       "height": 420,
       "width": 420
      }
     },
     "output_type": "display_data"
    }
   ],
   "source": [
    "p2 <- corrplot::corrplot(as.matrix(sGenes_biotype_plot_df), method = 'square', is.cor = FALSE,\n",
    "            mar=c(1,1,1,1), family = \"Helvetica\",\n",
    "            cl.ratio = 0.1, cl.pos = 'b', cl.length = 3,\n",
    "            tl.col = 'black', tl.srt = 45,\n",
    "            col = \"#84A98C\", col.lim=c(0, 1))$corrPos\n",
    "p2$corr <- c(as.matrix(sGenes_biotype_plot_df))\n",
    "labels <- round(p2$corr, 2)\n",
    "labels[labels < 0.05] <- ''\n",
    "spacer <- 0.3\n",
    "text(p2$x, p2$y, labels, cex = 0.95, font = 2, family = \"Helvetica\")"
   ]
  },
  {
   "cell_type": "markdown",
   "id": "d83b2465-6f65-4d49-bec9-235ce009c20a",
   "metadata": {},
   "source": [
    "## Figure 3 - eGene and sGene Cell Type Enrichment"
   ]
  },
  {
   "cell_type": "code",
   "execution_count": 22,
   "id": "bd67c466-e9f5-426f-b357-c4f8403d7ce3",
   "metadata": {},
   "outputs": [],
   "source": [
    "eGenes_plot_tbl <- eGenes_cell_cluster_res %>%\n",
    "                    mutate(fisher_fdr = p.adjust(fisher_p, \"fdr\")) %>%\n",
    "                    mutate(fisher_fdr_log = -log10(fisher_fdr)) %>%\n",
    "                    arrange(cell_type) %>%\n",
    "                    pivot_wider(id_cols = cell_type,\n",
    "                                names_from = scenario,\n",
    "                                values_from = fisher_fdr_log) %>%\n",
    "                    column_to_rownames(\"cell_type\")"
   ]
  },
  {
   "cell_type": "code",
   "execution_count": 23,
   "id": "8724427a-730a-423d-a76a-2f1307314149",
   "metadata": {},
   "outputs": [
    {
     "name": "stderr",
     "output_type": "stream",
     "text": [
      "Warning message in corrplot::corrplot(as.matrix(eGenes_plot_tbl), method = \"square\", :\n",
      "“col.lim interval too wide, please set a suitable value”\n"
     ]
    },
    {
     "data": {
      "image/png": "[encoded data removed]",
      "text/plain": [
       "Plot with title “”"
      ]
     },
     "metadata": {
      "image/png": {
       "height": 420,
       "width": 420
      }
     },
     "output_type": "display_data"
    }
   ],
   "source": [
    "p3 <- corrplot::corrplot(as.matrix(eGenes_plot_tbl), method = 'square', is.cor = FALSE,\n",
    "            mar=c(1,1,1,1), family = \"Helvetica\",\n",
    "            cl.ratio = 0.1, cl.pos = 'b', cl.length = 3,\n",
    "            tl.col = 'black', tl.srt = 45,\n",
    "            col = corrplot::COL1('Blues', 200), col.lim=c(0, 3))$corrPos\n",
    "p3$corr <- c(as.matrix(eGenes_plot_tbl))\n",
    "labels <- round(p3$corr, 2)\n",
    "labels[labels < 0.2] <- ''\n",
    "text(p3$x, p3$y, labels, cex = 1.1, font = 2, family = \"Helvetica\")"
   ]
  },
  {
   "cell_type": "code",
   "execution_count": 24,
   "id": "1728ae02-c1ef-441e-baa9-185a6dbfa7d2",
   "metadata": {},
   "outputs": [],
   "source": [
    "sGenes_plot_tbl <- sGenes_cell_cluster_res %>%\n",
    "                    mutate(fisher_fdr = p.adjust(fisher_p, \"fdr\")) %>%\n",
    "                    mutate(fisher_fdr_log = -log10(fisher_fdr)) %>%\n",
    "                    arrange(cell_type) %>%\n",
    "                    pivot_wider(id_cols = cell_type,\n",
    "                                names_from = scenario,\n",
    "                                values_from = fisher_fdr_log) %>%\n",
    "                    column_to_rownames(\"cell_type\")"
   ]
  },
  {
   "cell_type": "code",
   "execution_count": 25,
   "id": "bf598dd3-474a-457c-b468-348005370f9d",
   "metadata": {},
   "outputs": [
    {
     "data": {
      "image/png": "[encoded data removed]",
      "text/plain": [
       "Plot with title “”"
      ]
     },
     "metadata": {
      "image/png": {
       "height": 420,
       "width": 420
      }
     },
     "output_type": "display_data"
    }
   ],
   "source": [
    "p4 <- corrplot::corrplot(as.matrix(sGenes_plot_tbl), method = 'square', is.cor = FALSE,\n",
    "            mar=c(1,1,1,1), family = \"Helvetica\",\n",
    "            cl.ratio = 0.1, cl.pos = 'b', cl.length = 3,\n",
    "            tl.col = 'black', tl.srt = 45,\n",
    "            col = corrplot::COL1('Blues', 200), col.lim=c(0, 3))$corrPos\n",
    "p4$corr <- c(as.matrix(sGenes_plot_tbl))\n",
    "labels <- round(p4$corr, 2)\n",
    "labels[labels < 0.2] <- ''\n",
    "text(p4$x, p4$y, labels, cex = 1.1, font = 2, family = \"Helvetica\")"
   ]
  }
 ],
 "metadata": {
  "kernelspec": {
   "display_name": "'R [conda-r-bio]'",
   "language": "R",
   "name": "conda-env-conda-r-bio-r"
  },
  "language_info": {
   "codemirror_mode": "r",
   "file_extension": ".r",
   "mimetype": "text/x-r-source",
   "name": "R",
   "pygments_lexer": "r",
   "version": "4.1.0"
  }
 },
 "nbformat": 4,
 "nbformat_minor": 5
}
