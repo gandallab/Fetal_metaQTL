{
 "cells": [
  {
   "cell_type": "markdown",
   "metadata": {},
   "source": [
    "# ID check\n",
    "- Sample swap, contamination. Called SNP from STAR-aligned BAM, and merged with imputed geontype, then ran `plink --genome` (or `plink --genome-full`) (Mike)\n",
    "- Note: In BAM, 1707 is HDBR. In genotype, 1707 walker, 1707.1 HDBR\n",
    "- First get rows with either IID1 or IID2 is from BAM-called genotype, but not both\n",
    "- Then identify rows from the same subject\n",
    "- There are 14 subjects with pi_hat > 0.5 with other subjects. 12 of these are already identified as related subjects (genotype only pi_hat > 0.3), and were removed in QTL mapping. Not in rel: HSB430-HSB289.BAM, from Werling, passed verifyBamID FREEMIX, didn't check CHIPMIX. PI_HAT 0.5643\n",
    "- Subjects with pi_hat > 0.9 with other subjects are all in rel and removed"
   ]
  },
  {
   "cell_type": "code",
   "execution_count": 1,
   "metadata": {},
   "outputs": [
    {
     "name": "stderr",
     "output_type": "stream",
     "text": [
      "── \u001b[1mAttaching packages\u001b[22m ─────────────────────────────────────── tidyverse 1.3.1 ──\n",
      "\n",
      "\u001b[32m✔\u001b[39m \u001b[34mggplot2\u001b[39m 3.3.3     \u001b[32m✔\u001b[39m \u001b[34mpurrr  \u001b[39m 0.3.4\n",
      "\u001b[32m✔\u001b[39m \u001b[34mtibble \u001b[39m 3.1.2     \u001b[32m✔\u001b[39m \u001b[34mdplyr  \u001b[39m 1.0.6\n",
      "\u001b[32m✔\u001b[39m \u001b[34mtidyr  \u001b[39m 1.1.3     \u001b[32m✔\u001b[39m \u001b[34mstringr\u001b[39m 1.4.0\n",
      "\u001b[32m✔\u001b[39m \u001b[34mreadr  \u001b[39m 1.4.0     \u001b[32m✔\u001b[39m \u001b[34mforcats\u001b[39m 0.5.1\n",
      "\n",
      "── \u001b[1mConflicts\u001b[22m ────────────────────────────────────────── tidyverse_conflicts() ──\n",
      "\u001b[31m✖\u001b[39m \u001b[34mdplyr\u001b[39m::\u001b[32mbetween()\u001b[39m   masks \u001b[34mdata.table\u001b[39m::between()\n",
      "\u001b[31m✖\u001b[39m \u001b[34mdplyr\u001b[39m::\u001b[32mfilter()\u001b[39m    masks \u001b[34mstats\u001b[39m::filter()\n",
      "\u001b[31m✖\u001b[39m \u001b[34mdplyr\u001b[39m::\u001b[32mfirst()\u001b[39m     masks \u001b[34mdata.table\u001b[39m::first()\n",
      "\u001b[31m✖\u001b[39m \u001b[34mdplyr\u001b[39m::\u001b[32mlag()\u001b[39m       masks \u001b[34mstats\u001b[39m::lag()\n",
      "\u001b[31m✖\u001b[39m \u001b[34mdplyr\u001b[39m::\u001b[32mlast()\u001b[39m      masks \u001b[34mdata.table\u001b[39m::last()\n",
      "\u001b[31m✖\u001b[39m \u001b[34mpurrr\u001b[39m::\u001b[32mtranspose()\u001b[39m masks \u001b[34mdata.table\u001b[39m::transpose()\n",
      "\n"
     ]
    }
   ],
   "source": [
    "library(data.table)\n",
    "library(tidyverse)\n",
    "\n",
    "setwd(\"~/project-gandalm/isoform_twas/checkid/\")"
   ]
  },
  {
   "cell_type": "code",
   "execution_count": 2,
   "metadata": {},
   "outputs": [
    {
     "data": {
      "text/html": [
       "<table class=\"dataframe\">\n",
       "<caption>A data.frame: 6 x 20</caption>\n",
       "<thead>\n",
       "\t<tr><th></th><th scope=col>V1</th><th scope=col>FID1</th><th scope=col>IID1</th><th scope=col>FID2</th><th scope=col>IID2</th><th scope=col>RT</th><th scope=col>EZ</th><th scope=col>Z0</th><th scope=col>Z1</th><th scope=col>Z2</th><th scope=col>PI_HAT</th><th scope=col>PHE</th><th scope=col>DST</th><th scope=col>PPC</th><th scope=col>RATIO</th><th scope=col>IBS0</th><th scope=col>IBS1</th><th scope=col>IBS2</th><th scope=col>HOMHOM</th><th scope=col>HETHET</th></tr>\n",
       "\t<tr><th></th><th scope=col>&lt;lgl&gt;</th><th scope=col>&lt;int&gt;</th><th scope=col>&lt;chr&gt;</th><th scope=col>&lt;int&gt;</th><th scope=col>&lt;chr&gt;</th><th scope=col>&lt;chr&gt;</th><th scope=col>&lt;int&gt;</th><th scope=col>&lt;dbl&gt;</th><th scope=col>&lt;dbl&gt;</th><th scope=col>&lt;dbl&gt;</th><th scope=col>&lt;dbl&gt;</th><th scope=col>&lt;int&gt;</th><th scope=col>&lt;dbl&gt;</th><th scope=col>&lt;dbl&gt;</th><th scope=col>&lt;dbl&gt;</th><th scope=col>&lt;int&gt;</th><th scope=col>&lt;int&gt;</th><th scope=col>&lt;int&gt;</th><th scope=col>&lt;dbl&gt;</th><th scope=col>&lt;dbl&gt;</th></tr>\n",
       "</thead>\n",
       "<tbody>\n",
       "\t<tr><th scope=row>1</th><td>NA</td><td>0</td><td>849</td><td>0</td><td>898 </td><td>OT</td><td>0</td><td>1</td><td>0</td><td>0</td><td>0</td><td>-1</td><td>0.669042</td><td>0.0000</td><td>1.1772</td><td>325</td><td>1486</td><td>1416</td><td>254</td><td>299</td></tr>\n",
       "\t<tr><th scope=row>2</th><td>NA</td><td>0</td><td>849</td><td>0</td><td>1038</td><td>OT</td><td>0</td><td>1</td><td>0</td><td>0</td><td>0</td><td>-1</td><td>0.669197</td><td>0.0000</td><td>1.1152</td><td>360</td><td>1415</td><td>1452</td><td>269</td><td>300</td></tr>\n",
       "\t<tr><th scope=row>3</th><td>NA</td><td>0</td><td>849</td><td>0</td><td>1039</td><td>OT</td><td>0</td><td>1</td><td>0</td><td>0</td><td>0</td><td>-1</td><td>0.698791</td><td>0.0046</td><td>1.5874</td><td>267</td><td>1410</td><td>1550</td><td>206</td><td>327</td></tr>\n",
       "\t<tr><th scope=row>4</th><td>NA</td><td>0</td><td>849</td><td>0</td><td>1046</td><td>OT</td><td>0</td><td>1</td><td>0</td><td>0</td><td>0</td><td>-1</td><td>0.670282</td><td>0.0000</td><td>1.1719</td><td>337</td><td>1454</td><td>1436</td><td>256</td><td>300</td></tr>\n",
       "\t<tr><th scope=row>5</th><td>NA</td><td>0</td><td>849</td><td>0</td><td>1092</td><td>OT</td><td>0</td><td>1</td><td>0</td><td>0</td><td>0</td><td>-1</td><td>0.673691</td><td>0.0000</td><td>1.3125</td><td>320</td><td>1466</td><td>1441</td><td>240</td><td>315</td></tr>\n",
       "\t<tr><th scope=row>6</th><td>NA</td><td>0</td><td>849</td><td>0</td><td>1102</td><td>OT</td><td>0</td><td>1</td><td>0</td><td>0</td><td>0</td><td>-1</td><td>0.671057</td><td>0.0000</td><td>1.2109</td><td>347</td><td>1429</td><td>1451</td><td>256</td><td>310</td></tr>\n",
       "</tbody>\n",
       "</table>\n"
      ],
      "text/latex": [
       "A data.frame: 6 x 20\n",
       "\\begin{tabular}{r|llllllllllllllllllll}\n",
       "  & V1 & FID1 & IID1 & FID2 & IID2 & RT & EZ & Z0 & Z1 & Z2 & PI\\_HAT & PHE & DST & PPC & RATIO & IBS0 & IBS1 & IBS2 & HOMHOM & HETHET\\\\\n",
       "  & <lgl> & <int> & <chr> & <int> & <chr> & <chr> & <int> & <dbl> & <dbl> & <dbl> & <dbl> & <int> & <dbl> & <dbl> & <dbl> & <int> & <int> & <int> & <dbl> & <dbl>\\\\\n",
       "\\hline\n",
       "\t1 & NA & 0 & 849 & 0 & 898  & OT & 0 & 1 & 0 & 0 & 0 & -1 & 0.669042 & 0.0000 & 1.1772 & 325 & 1486 & 1416 & 254 & 299\\\\\n",
       "\t2 & NA & 0 & 849 & 0 & 1038 & OT & 0 & 1 & 0 & 0 & 0 & -1 & 0.669197 & 0.0000 & 1.1152 & 360 & 1415 & 1452 & 269 & 300\\\\\n",
       "\t3 & NA & 0 & 849 & 0 & 1039 & OT & 0 & 1 & 0 & 0 & 0 & -1 & 0.698791 & 0.0046 & 1.5874 & 267 & 1410 & 1550 & 206 & 327\\\\\n",
       "\t4 & NA & 0 & 849 & 0 & 1046 & OT & 0 & 1 & 0 & 0 & 0 & -1 & 0.670282 & 0.0000 & 1.1719 & 337 & 1454 & 1436 & 256 & 300\\\\\n",
       "\t5 & NA & 0 & 849 & 0 & 1092 & OT & 0 & 1 & 0 & 0 & 0 & -1 & 0.673691 & 0.0000 & 1.3125 & 320 & 1466 & 1441 & 240 & 315\\\\\n",
       "\t6 & NA & 0 & 849 & 0 & 1102 & OT & 0 & 1 & 0 & 0 & 0 & -1 & 0.671057 & 0.0000 & 1.2109 & 347 & 1429 & 1451 & 256 & 310\\\\\n",
       "\\end{tabular}\n"
      ],
      "text/markdown": [
       "\n",
       "A data.frame: 6 x 20\n",
       "\n",
       "| <!--/--> | V1 &lt;lgl&gt; | FID1 &lt;int&gt; | IID1 &lt;chr&gt; | FID2 &lt;int&gt; | IID2 &lt;chr&gt; | RT &lt;chr&gt; | EZ &lt;int&gt; | Z0 &lt;dbl&gt; | Z1 &lt;dbl&gt; | Z2 &lt;dbl&gt; | PI_HAT &lt;dbl&gt; | PHE &lt;int&gt; | DST &lt;dbl&gt; | PPC &lt;dbl&gt; | RATIO &lt;dbl&gt; | IBS0 &lt;int&gt; | IBS1 &lt;int&gt; | IBS2 &lt;int&gt; | HOMHOM &lt;dbl&gt; | HETHET &lt;dbl&gt; |\n",
       "|---|---|---|---|---|---|---|---|---|---|---|---|---|---|---|---|---|---|---|---|---|\n",
       "| 1 | NA | 0 | 849 | 0 | 898  | OT | 0 | 1 | 0 | 0 | 0 | -1 | 0.669042 | 0.0000 | 1.1772 | 325 | 1486 | 1416 | 254 | 299 |\n",
       "| 2 | NA | 0 | 849 | 0 | 1038 | OT | 0 | 1 | 0 | 0 | 0 | -1 | 0.669197 | 0.0000 | 1.1152 | 360 | 1415 | 1452 | 269 | 300 |\n",
       "| 3 | NA | 0 | 849 | 0 | 1039 | OT | 0 | 1 | 0 | 0 | 0 | -1 | 0.698791 | 0.0046 | 1.5874 | 267 | 1410 | 1550 | 206 | 327 |\n",
       "| 4 | NA | 0 | 849 | 0 | 1046 | OT | 0 | 1 | 0 | 0 | 0 | -1 | 0.670282 | 0.0000 | 1.1719 | 337 | 1454 | 1436 | 256 | 300 |\n",
       "| 5 | NA | 0 | 849 | 0 | 1092 | OT | 0 | 1 | 0 | 0 | 0 | -1 | 0.673691 | 0.0000 | 1.3125 | 320 | 1466 | 1441 | 240 | 315 |\n",
       "| 6 | NA | 0 | 849 | 0 | 1102 | OT | 0 | 1 | 0 | 0 | 0 | -1 | 0.671057 | 0.0000 | 1.2109 | 347 | 1429 | 1451 | 256 | 310 |\n",
       "\n"
      ],
      "text/plain": [
       "  V1 FID1 IID1 FID2 IID2 RT EZ Z0 Z1 Z2 PI_HAT PHE DST      PPC    RATIO  IBS0\n",
       "1 NA 0    849  0    898  OT 0  1  0  0  0      -1  0.669042 0.0000 1.1772 325 \n",
       "2 NA 0    849  0    1038 OT 0  1  0  0  0      -1  0.669197 0.0000 1.1152 360 \n",
       "3 NA 0    849  0    1039 OT 0  1  0  0  0      -1  0.698791 0.0046 1.5874 267 \n",
       "4 NA 0    849  0    1046 OT 0  1  0  0  0      -1  0.670282 0.0000 1.1719 337 \n",
       "5 NA 0    849  0    1092 OT 0  1  0  0  0      -1  0.673691 0.0000 1.3125 320 \n",
       "6 NA 0    849  0    1102 OT 0  1  0  0  0      -1  0.671057 0.0000 1.2109 347 \n",
       "  IBS1 IBS2 HOMHOM HETHET\n",
       "1 1486 1416 254    299   \n",
       "2 1415 1452 269    300   \n",
       "3 1410 1550 206    327   \n",
       "4 1454 1436 256    300   \n",
       "5 1466 1441 240    315   \n",
       "6 1429 1451 256    310   "
      ]
     },
     "metadata": {},
     "output_type": "display_data"
    },
    {
     "data": {
      "text/html": [
       "1306"
      ],
      "text/latex": [
       "1306"
      ],
      "text/markdown": [
       "1306"
      ],
      "text/plain": [
       "[1] 1306"
      ]
     },
     "metadata": {},
     "output_type": "display_data"
    },
    {
     "data": {
      "text/html": [
       "1306"
      ],
      "text/latex": [
       "1306"
      ],
      "text/markdown": [
       "1306"
      ],
      "text/plain": [
       "[1] 1306"
      ]
     },
     "metadata": {},
     "output_type": "display_data"
    }
   ],
   "source": [
    "dat <- fread(\"plink.genome.tsv\", data.table = F)\n",
    "head(dat)\n",
    "# 849 and 849.STARAligned.sortedByCoord.WASPfiltered.out.bam\n",
    "# imputed genotype and BAM-called genotype\n",
    "# pairs like this have high pi_hat (overall share of IBD)\n",
    "# 653*2 = 1306\n",
    "length(unique(dat$IID1))\n",
    "length(unique(dat$IID2))"
   ]
  },
  {
   "cell_type": "code",
   "execution_count": 6,
   "metadata": {},
   "outputs": [
    {
     "data": {
      "text/html": [
       "<table>\n",
       "<caption>A data.frame: 1 × 20</caption>\n",
       "<thead>\n",
       "\t<tr><th scope=col>V1</th><th scope=col>FID1</th><th scope=col>IID1</th><th scope=col>FID2</th><th scope=col>IID2</th><th scope=col>RT</th><th scope=col>EZ</th><th scope=col>Z0</th><th scope=col>Z1</th><th scope=col>Z2</th><th scope=col>PI_HAT</th><th scope=col>PHE</th><th scope=col>DST</th><th scope=col>PPC</th><th scope=col>RATIO</th><th scope=col>IBS0</th><th scope=col>IBS1</th><th scope=col>IBS2</th><th scope=col>HOMHOM</th><th scope=col>HETHET</th></tr>\n",
       "\t<tr><th scope=col>&lt;lgl&gt;</th><th scope=col>&lt;int&gt;</th><th scope=col>&lt;chr&gt;</th><th scope=col>&lt;int&gt;</th><th scope=col>&lt;chr&gt;</th><th scope=col>&lt;chr&gt;</th><th scope=col>&lt;int&gt;</th><th scope=col>&lt;dbl&gt;</th><th scope=col>&lt;dbl&gt;</th><th scope=col>&lt;dbl&gt;</th><th scope=col>&lt;dbl&gt;</th><th scope=col>&lt;int&gt;</th><th scope=col>&lt;dbl&gt;</th><th scope=col>&lt;dbl&gt;</th><th scope=col>&lt;dbl&gt;</th><th scope=col>&lt;int&gt;</th><th scope=col>&lt;int&gt;</th><th scope=col>&lt;int&gt;</th><th scope=col>&lt;dbl&gt;</th><th scope=col>&lt;dbl&gt;</th></tr>\n",
       "</thead>\n",
       "<tbody>\n",
       "\t<tr><td>NA</td><td>0</td><td>HSB430</td><td>0</td><td>HSB430.STARAligned.sortedByCoord.WASPfiltered.out.bam</td><td>OT</td><td>0</td><td>0</td><td>0.0715</td><td>0.9285</td><td>0.9642</td><td>-1</td><td>0.986194</td><td>1</td><td>NA</td><td>0</td><td>88</td><td>3099</td><td>0</td><td>804</td></tr>\n",
       "</tbody>\n",
       "</table>\n"
      ],
      "text/latex": [
       "A data.frame: 1 × 20\n",
       "\\begin{tabular}{llllllllllllllllllll}\n",
       " V1 & FID1 & IID1 & FID2 & IID2 & RT & EZ & Z0 & Z1 & Z2 & PI\\_HAT & PHE & DST & PPC & RATIO & IBS0 & IBS1 & IBS2 & HOMHOM & HETHET\\\\\n",
       " <lgl> & <int> & <chr> & <int> & <chr> & <chr> & <int> & <dbl> & <dbl> & <dbl> & <dbl> & <int> & <dbl> & <dbl> & <dbl> & <int> & <int> & <int> & <dbl> & <dbl>\\\\\n",
       "\\hline\n",
       "\t NA & 0 & HSB430 & 0 & HSB430.STARAligned.sortedByCoord.WASPfiltered.out.bam & OT & 0 & 0 & 0.0715 & 0.9285 & 0.9642 & -1 & 0.986194 & 1 & NA & 0 & 88 & 3099 & 0 & 804\\\\\n",
       "\\end{tabular}\n"
      ],
      "text/markdown": [
       "\n",
       "A data.frame: 1 × 20\n",
       "\n",
       "| V1 &lt;lgl&gt; | FID1 &lt;int&gt; | IID1 &lt;chr&gt; | FID2 &lt;int&gt; | IID2 &lt;chr&gt; | RT &lt;chr&gt; | EZ &lt;int&gt; | Z0 &lt;dbl&gt; | Z1 &lt;dbl&gt; | Z2 &lt;dbl&gt; | PI_HAT &lt;dbl&gt; | PHE &lt;int&gt; | DST &lt;dbl&gt; | PPC &lt;dbl&gt; | RATIO &lt;dbl&gt; | IBS0 &lt;int&gt; | IBS1 &lt;int&gt; | IBS2 &lt;int&gt; | HOMHOM &lt;dbl&gt; | HETHET &lt;dbl&gt; |\n",
       "|---|---|---|---|---|---|---|---|---|---|---|---|---|---|---|---|---|---|---|---|\n",
       "| NA | 0 | HSB430 | 0 | HSB430.STARAligned.sortedByCoord.WASPfiltered.out.bam | OT | 0 | 0 | 0.0715 | 0.9285 | 0.9642 | -1 | 0.986194 | 1 | NA | 0 | 88 | 3099 | 0 | 804 |\n",
       "\n"
      ],
      "text/plain": [
       "  V1 FID1 IID1   FID2 IID2                                                  RT\n",
       "1 NA 0    HSB430 0    HSB430.STARAligned.sortedByCoord.WASPfiltered.out.bam OT\n",
       "  EZ Z0 Z1     Z2     PI_HAT PHE DST      PPC RATIO IBS0 IBS1 IBS2 HOMHOM\n",
       "1 0  0  0.0715 0.9285 0.9642 -1  0.986194 1   NA    0    88   3099 0     \n",
       "  HETHET\n",
       "1 804   "
      ]
     },
     "metadata": {},
     "output_type": "display_data"
    },
    {
     "data": {
      "text/html": [
       "<table>\n",
       "<caption>A data.frame: 1 × 20</caption>\n",
       "<thead>\n",
       "\t<tr><th scope=col>V1</th><th scope=col>FID1</th><th scope=col>IID1</th><th scope=col>FID2</th><th scope=col>IID2</th><th scope=col>RT</th><th scope=col>EZ</th><th scope=col>Z0</th><th scope=col>Z1</th><th scope=col>Z2</th><th scope=col>PI_HAT</th><th scope=col>PHE</th><th scope=col>DST</th><th scope=col>PPC</th><th scope=col>RATIO</th><th scope=col>IBS0</th><th scope=col>IBS1</th><th scope=col>IBS2</th><th scope=col>HOMHOM</th><th scope=col>HETHET</th></tr>\n",
       "\t<tr><th scope=col>&lt;lgl&gt;</th><th scope=col>&lt;int&gt;</th><th scope=col>&lt;chr&gt;</th><th scope=col>&lt;int&gt;</th><th scope=col>&lt;chr&gt;</th><th scope=col>&lt;chr&gt;</th><th scope=col>&lt;int&gt;</th><th scope=col>&lt;dbl&gt;</th><th scope=col>&lt;dbl&gt;</th><th scope=col>&lt;dbl&gt;</th><th scope=col>&lt;dbl&gt;</th><th scope=col>&lt;int&gt;</th><th scope=col>&lt;dbl&gt;</th><th scope=col>&lt;dbl&gt;</th><th scope=col>&lt;dbl&gt;</th><th scope=col>&lt;int&gt;</th><th scope=col>&lt;int&gt;</th><th scope=col>&lt;int&gt;</th><th scope=col>&lt;dbl&gt;</th><th scope=col>&lt;dbl&gt;</th></tr>\n",
       "</thead>\n",
       "<tbody>\n",
       "\t<tr><td>NA</td><td>0</td><td>HSB289</td><td>0</td><td>HSB289.STARAligned.sortedByCoord.WASPfiltered.out.bam</td><td>OT</td><td>0</td><td>0.3125</td><td>0.6875</td><td>0</td><td>0.3437</td><td>-1</td><td>0.708752</td><td>1</td><td>6.5059</td><td>100</td><td>1657</td><td>1431</td><td>85</td><td>553</td></tr>\n",
       "</tbody>\n",
       "</table>\n"
      ],
      "text/latex": [
       "A data.frame: 1 × 20\n",
       "\\begin{tabular}{llllllllllllllllllll}\n",
       " V1 & FID1 & IID1 & FID2 & IID2 & RT & EZ & Z0 & Z1 & Z2 & PI\\_HAT & PHE & DST & PPC & RATIO & IBS0 & IBS1 & IBS2 & HOMHOM & HETHET\\\\\n",
       " <lgl> & <int> & <chr> & <int> & <chr> & <chr> & <int> & <dbl> & <dbl> & <dbl> & <dbl> & <int> & <dbl> & <dbl> & <dbl> & <int> & <int> & <int> & <dbl> & <dbl>\\\\\n",
       "\\hline\n",
       "\t NA & 0 & HSB289 & 0 & HSB289.STARAligned.sortedByCoord.WASPfiltered.out.bam & OT & 0 & 0.3125 & 0.6875 & 0 & 0.3437 & -1 & 0.708752 & 1 & 6.5059 & 100 & 1657 & 1431 & 85 & 553\\\\\n",
       "\\end{tabular}\n"
      ],
      "text/markdown": [
       "\n",
       "A data.frame: 1 × 20\n",
       "\n",
       "| V1 &lt;lgl&gt; | FID1 &lt;int&gt; | IID1 &lt;chr&gt; | FID2 &lt;int&gt; | IID2 &lt;chr&gt; | RT &lt;chr&gt; | EZ &lt;int&gt; | Z0 &lt;dbl&gt; | Z1 &lt;dbl&gt; | Z2 &lt;dbl&gt; | PI_HAT &lt;dbl&gt; | PHE &lt;int&gt; | DST &lt;dbl&gt; | PPC &lt;dbl&gt; | RATIO &lt;dbl&gt; | IBS0 &lt;int&gt; | IBS1 &lt;int&gt; | IBS2 &lt;int&gt; | HOMHOM &lt;dbl&gt; | HETHET &lt;dbl&gt; |\n",
       "|---|---|---|---|---|---|---|---|---|---|---|---|---|---|---|---|---|---|---|---|\n",
       "| NA | 0 | HSB289 | 0 | HSB289.STARAligned.sortedByCoord.WASPfiltered.out.bam | OT | 0 | 0.3125 | 0.6875 | 0 | 0.3437 | -1 | 0.708752 | 1 | 6.5059 | 100 | 1657 | 1431 | 85 | 553 |\n",
       "\n"
      ],
      "text/plain": [
       "  V1 FID1 IID1   FID2 IID2                                                  RT\n",
       "1 NA 0    HSB289 0    HSB289.STARAligned.sortedByCoord.WASPfiltered.out.bam OT\n",
       "  EZ Z0     Z1     Z2 PI_HAT PHE DST      PPC RATIO  IBS0 IBS1 IBS2 HOMHOM\n",
       "1 0  0.3125 0.6875 0  0.3437 -1  0.708752 1   6.5059 100  1657 1431 85    \n",
       "  HETHET\n",
       "1 553   "
      ]
     },
     "metadata": {},
     "output_type": "display_data"
    },
    {
     "data": {
      "text/html": [
       "<table>\n",
       "<caption>A data.frame: 1 × 20</caption>\n",
       "<thead>\n",
       "\t<tr><th scope=col>V1</th><th scope=col>FID1</th><th scope=col>IID1</th><th scope=col>FID2</th><th scope=col>IID2</th><th scope=col>RT</th><th scope=col>EZ</th><th scope=col>Z0</th><th scope=col>Z1</th><th scope=col>Z2</th><th scope=col>PI_HAT</th><th scope=col>PHE</th><th scope=col>DST</th><th scope=col>PPC</th><th scope=col>RATIO</th><th scope=col>IBS0</th><th scope=col>IBS1</th><th scope=col>IBS2</th><th scope=col>HOMHOM</th><th scope=col>HETHET</th></tr>\n",
       "\t<tr><th scope=col>&lt;lgl&gt;</th><th scope=col>&lt;int&gt;</th><th scope=col>&lt;chr&gt;</th><th scope=col>&lt;int&gt;</th><th scope=col>&lt;chr&gt;</th><th scope=col>&lt;chr&gt;</th><th scope=col>&lt;int&gt;</th><th scope=col>&lt;dbl&gt;</th><th scope=col>&lt;dbl&gt;</th><th scope=col>&lt;dbl&gt;</th><th scope=col>&lt;dbl&gt;</th><th scope=col>&lt;int&gt;</th><th scope=col>&lt;dbl&gt;</th><th scope=col>&lt;dbl&gt;</th><th scope=col>&lt;dbl&gt;</th><th scope=col>&lt;int&gt;</th><th scope=col>&lt;int&gt;</th><th scope=col>&lt;int&gt;</th><th scope=col>&lt;dbl&gt;</th><th scope=col>&lt;dbl&gt;</th></tr>\n",
       "</thead>\n",
       "<tbody>\n",
       "\t<tr><td>NA</td><td>0</td><td>HSB430</td><td>0</td><td>HSB289.STARAligned.sortedByCoord.WASPfiltered.out.bam</td><td>OT</td><td>0</td><td>0.0717</td><td>0.728</td><td>0.2003</td><td>0.5643</td><td>-1</td><td>0.837516</td><td>1</td><td>59</td><td>18</td><td>1000</td><td>2170</td><td>13</td><td>767</td></tr>\n",
       "</tbody>\n",
       "</table>\n"
      ],
      "text/latex": [
       "A data.frame: 1 × 20\n",
       "\\begin{tabular}{llllllllllllllllllll}\n",
       " V1 & FID1 & IID1 & FID2 & IID2 & RT & EZ & Z0 & Z1 & Z2 & PI\\_HAT & PHE & DST & PPC & RATIO & IBS0 & IBS1 & IBS2 & HOMHOM & HETHET\\\\\n",
       " <lgl> & <int> & <chr> & <int> & <chr> & <chr> & <int> & <dbl> & <dbl> & <dbl> & <dbl> & <int> & <dbl> & <dbl> & <dbl> & <int> & <int> & <int> & <dbl> & <dbl>\\\\\n",
       "\\hline\n",
       "\t NA & 0 & HSB430 & 0 & HSB289.STARAligned.sortedByCoord.WASPfiltered.out.bam & OT & 0 & 0.0717 & 0.728 & 0.2003 & 0.5643 & -1 & 0.837516 & 1 & 59 & 18 & 1000 & 2170 & 13 & 767\\\\\n",
       "\\end{tabular}\n"
      ],
      "text/markdown": [
       "\n",
       "A data.frame: 1 × 20\n",
       "\n",
       "| V1 &lt;lgl&gt; | FID1 &lt;int&gt; | IID1 &lt;chr&gt; | FID2 &lt;int&gt; | IID2 &lt;chr&gt; | RT &lt;chr&gt; | EZ &lt;int&gt; | Z0 &lt;dbl&gt; | Z1 &lt;dbl&gt; | Z2 &lt;dbl&gt; | PI_HAT &lt;dbl&gt; | PHE &lt;int&gt; | DST &lt;dbl&gt; | PPC &lt;dbl&gt; | RATIO &lt;dbl&gt; | IBS0 &lt;int&gt; | IBS1 &lt;int&gt; | IBS2 &lt;int&gt; | HOMHOM &lt;dbl&gt; | HETHET &lt;dbl&gt; |\n",
       "|---|---|---|---|---|---|---|---|---|---|---|---|---|---|---|---|---|---|---|---|\n",
       "| NA | 0 | HSB430 | 0 | HSB289.STARAligned.sortedByCoord.WASPfiltered.out.bam | OT | 0 | 0.0717 | 0.728 | 0.2003 | 0.5643 | -1 | 0.837516 | 1 | 59 | 18 | 1000 | 2170 | 13 | 767 |\n",
       "\n"
      ],
      "text/plain": [
       "  V1 FID1 IID1   FID2 IID2                                                  RT\n",
       "1 NA 0    HSB430 0    HSB289.STARAligned.sortedByCoord.WASPfiltered.out.bam OT\n",
       "  EZ Z0     Z1    Z2     PI_HAT PHE DST      PPC RATIO IBS0 IBS1 IBS2 HOMHOM\n",
       "1 0  0.0717 0.728 0.2003 0.5643 -1  0.837516 1   59    18   1000 2170 13    \n",
       "  HETHET\n",
       "1 767   "
      ]
     },
     "metadata": {},
     "output_type": "display_data"
    },
    {
     "data": {
      "text/html": [
       "<table>\n",
       "<caption>A data.frame: 1 × 20</caption>\n",
       "<thead>\n",
       "\t<tr><th scope=col>V1</th><th scope=col>FID1</th><th scope=col>IID1</th><th scope=col>FID2</th><th scope=col>IID2</th><th scope=col>RT</th><th scope=col>EZ</th><th scope=col>Z0</th><th scope=col>Z1</th><th scope=col>Z2</th><th scope=col>PI_HAT</th><th scope=col>PHE</th><th scope=col>DST</th><th scope=col>PPC</th><th scope=col>RATIO</th><th scope=col>IBS0</th><th scope=col>IBS1</th><th scope=col>IBS2</th><th scope=col>HOMHOM</th><th scope=col>HETHET</th></tr>\n",
       "\t<tr><th scope=col>&lt;lgl&gt;</th><th scope=col>&lt;int&gt;</th><th scope=col>&lt;chr&gt;</th><th scope=col>&lt;int&gt;</th><th scope=col>&lt;chr&gt;</th><th scope=col>&lt;chr&gt;</th><th scope=col>&lt;int&gt;</th><th scope=col>&lt;dbl&gt;</th><th scope=col>&lt;dbl&gt;</th><th scope=col>&lt;dbl&gt;</th><th scope=col>&lt;dbl&gt;</th><th scope=col>&lt;int&gt;</th><th scope=col>&lt;dbl&gt;</th><th scope=col>&lt;dbl&gt;</th><th scope=col>&lt;dbl&gt;</th><th scope=col>&lt;int&gt;</th><th scope=col>&lt;int&gt;</th><th scope=col>&lt;int&gt;</th><th scope=col>&lt;dbl&gt;</th><th scope=col>&lt;dbl&gt;</th></tr>\n",
       "</thead>\n",
       "<tbody>\n",
       "\t<tr><td>NA</td><td>0</td><td>HSB289</td><td>0</td><td>HSB430.STARAligned.sortedByCoord.WASPfiltered.out.bam</td><td>OT</td><td>0</td><td>1</td><td>0</td><td>0</td><td>0</td><td>-1</td><td>0.692501</td><td>0.1457</td><td>1.8205</td><td>257</td><td>1446</td><td>1484</td><td>195</td><td>355</td></tr>\n",
       "</tbody>\n",
       "</table>\n"
      ],
      "text/latex": [
       "A data.frame: 1 × 20\n",
       "\\begin{tabular}{llllllllllllllllllll}\n",
       " V1 & FID1 & IID1 & FID2 & IID2 & RT & EZ & Z0 & Z1 & Z2 & PI\\_HAT & PHE & DST & PPC & RATIO & IBS0 & IBS1 & IBS2 & HOMHOM & HETHET\\\\\n",
       " <lgl> & <int> & <chr> & <int> & <chr> & <chr> & <int> & <dbl> & <dbl> & <dbl> & <dbl> & <int> & <dbl> & <dbl> & <dbl> & <int> & <int> & <int> & <dbl> & <dbl>\\\\\n",
       "\\hline\n",
       "\t NA & 0 & HSB289 & 0 & HSB430.STARAligned.sortedByCoord.WASPfiltered.out.bam & OT & 0 & 1 & 0 & 0 & 0 & -1 & 0.692501 & 0.1457 & 1.8205 & 257 & 1446 & 1484 & 195 & 355\\\\\n",
       "\\end{tabular}\n"
      ],
      "text/markdown": [
       "\n",
       "A data.frame: 1 × 20\n",
       "\n",
       "| V1 &lt;lgl&gt; | FID1 &lt;int&gt; | IID1 &lt;chr&gt; | FID2 &lt;int&gt; | IID2 &lt;chr&gt; | RT &lt;chr&gt; | EZ &lt;int&gt; | Z0 &lt;dbl&gt; | Z1 &lt;dbl&gt; | Z2 &lt;dbl&gt; | PI_HAT &lt;dbl&gt; | PHE &lt;int&gt; | DST &lt;dbl&gt; | PPC &lt;dbl&gt; | RATIO &lt;dbl&gt; | IBS0 &lt;int&gt; | IBS1 &lt;int&gt; | IBS2 &lt;int&gt; | HOMHOM &lt;dbl&gt; | HETHET &lt;dbl&gt; |\n",
       "|---|---|---|---|---|---|---|---|---|---|---|---|---|---|---|---|---|---|---|---|\n",
       "| NA | 0 | HSB289 | 0 | HSB430.STARAligned.sortedByCoord.WASPfiltered.out.bam | OT | 0 | 1 | 0 | 0 | 0 | -1 | 0.692501 | 0.1457 | 1.8205 | 257 | 1446 | 1484 | 195 | 355 |\n",
       "\n"
      ],
      "text/plain": [
       "  V1 FID1 IID1   FID2 IID2                                                  RT\n",
       "1 NA 0    HSB289 0    HSB430.STARAligned.sortedByCoord.WASPfiltered.out.bam OT\n",
       "  EZ Z0 Z1 Z2 PI_HAT PHE DST      PPC    RATIO  IBS0 IBS1 IBS2 HOMHOM HETHET\n",
       "1 0  1  0  0  0      -1  0.692501 0.1457 1.8205 257  1446 1484 195    355   "
      ]
     },
     "metadata": {},
     "output_type": "display_data"
    }
   ],
   "source": [
    "dat %>% filter(IID1 == \"HSB430\", IID2 == \"HSB430.STARAligned.sortedByCoord.WASPfiltered.out.bam\")\n",
    "dat %>% filter(IID1 == \"HSB289\", IID2 == \"HSB289.STARAligned.sortedByCoord.WASPfiltered.out.bam\")\n",
    "dat %>% filter(IID1 == \"HSB430\", IID2 == \"HSB289.STARAligned.sortedByCoord.WASPfiltered.out.bam\")\n",
    "dat %>% filter(IID1 == \"HSB289\", IID2 == \"HSB430.STARAligned.sortedByCoord.WASPfiltered.out.bam\")"
   ]
  },
  {
   "cell_type": "code",
   "execution_count": 3,
   "metadata": {},
   "outputs": [
    {
     "data": {
      "text/html": [
       "<table class=\"dataframe\">\n",
       "<caption>A data.frame: 6 x 20</caption>\n",
       "<thead>\n",
       "\t<tr><th scope=col>V1</th><th scope=col>FID1</th><th scope=col>IID1</th><th scope=col>FID2</th><th scope=col>IID2</th><th scope=col>RT</th><th scope=col>EZ</th><th scope=col>Z0</th><th scope=col>Z1</th><th scope=col>Z2</th><th scope=col>PI_HAT</th><th scope=col>PHE</th><th scope=col>DST</th><th scope=col>PPC</th><th scope=col>RATIO</th><th scope=col>IBS0</th><th scope=col>IBS1</th><th scope=col>IBS2</th><th scope=col>HOMHOM</th><th scope=col>HETHET</th></tr>\n",
       "\t<tr><th scope=col>&lt;lgl&gt;</th><th scope=col>&lt;int&gt;</th><th scope=col>&lt;chr&gt;</th><th scope=col>&lt;int&gt;</th><th scope=col>&lt;chr&gt;</th><th scope=col>&lt;chr&gt;</th><th scope=col>&lt;int&gt;</th><th scope=col>&lt;dbl&gt;</th><th scope=col>&lt;dbl&gt;</th><th scope=col>&lt;dbl&gt;</th><th scope=col>&lt;dbl&gt;</th><th scope=col>&lt;int&gt;</th><th scope=col>&lt;dbl&gt;</th><th scope=col>&lt;dbl&gt;</th><th scope=col>&lt;dbl&gt;</th><th scope=col>&lt;int&gt;</th><th scope=col>&lt;int&gt;</th><th scope=col>&lt;int&gt;</th><th scope=col>&lt;dbl&gt;</th><th scope=col>&lt;dbl&gt;</th></tr>\n",
       "</thead>\n",
       "<tbody>\n",
       "\t<tr><td>NA</td><td>0</td><td>17071                                               </td><td>0</td><td>17072                                               </td><td>OT</td><td>0</td><td>1</td><td>0.0000</td><td>0.0000</td><td>0.0000</td><td>-1</td><td>0.706229</td><td>0.8955</td><td>2.2376</td><td>261</td><td>1374</td><td>1592</td><td>181</td><td>405</td></tr>\n",
       "\t<tr><td>NA</td><td>0</td><td>17071                                               </td><td>0</td><td>17071.STARAligned.sortedByCoord.WASPfiltered.out.bam</td><td>OT</td><td>0</td><td>0</td><td>0.0347</td><td>0.9653</td><td>0.9826</td><td>-1</td><td>0.993296</td><td>1.0000</td><td>    NA</td><td>  0</td><td>  43</td><td>3164</td><td>  0</td><td>807</td></tr>\n",
       "\t<tr><td>NA</td><td>0</td><td>17071                                               </td><td>0</td><td>17072.STARAligned.sortedByCoord.WASPfiltered.out.bam</td><td>OT</td><td>0</td><td>1</td><td>0.0000</td><td>0.0000</td><td>0.0000</td><td>-1</td><td>0.701434</td><td>0.4651</td><td>1.9847</td><td>272</td><td>1371</td><td>1564</td><td>196</td><td>389</td></tr>\n",
       "\t<tr><td>NA</td><td>0</td><td>17072                                               </td><td>0</td><td>17071.STARAligned.sortedByCoord.WASPfiltered.out.bam</td><td>OT</td><td>0</td><td>1</td><td>0.0000</td><td>0.0000</td><td>0.0000</td><td>-1</td><td>0.704241</td><td>0.7945</td><td>2.1522</td><td>265</td><td>1367</td><td>1575</td><td>184</td><td>396</td></tr>\n",
       "\t<tr><td>NA</td><td>0</td><td>17072                                               </td><td>0</td><td>17072.STARAligned.sortedByCoord.WASPfiltered.out.bam</td><td>OT</td><td>0</td><td>0</td><td>0.0477</td><td>0.9523</td><td>0.9762</td><td>-1</td><td>0.990801</td><td>1.0000</td><td>    NA</td><td>  0</td><td>  59</td><td>3148</td><td>  0</td><td>812</td></tr>\n",
       "\t<tr><td>NA</td><td>0</td><td>17071.STARAligned.sortedByCoord.WASPfiltered.out.bam</td><td>0</td><td>17072.STARAligned.sortedByCoord.WASPfiltered.out.bam</td><td>OT</td><td>0</td><td>1</td><td>0.0000</td><td>0.0000</td><td>0.0000</td><td>-1</td><td>0.701097</td><td>0.3309</td><td>1.9254</td><td>279</td><td>1349</td><td>1562</td><td>201</td><td>387</td></tr>\n",
       "</tbody>\n",
       "</table>\n"
      ],
      "text/latex": [
       "A data.frame: 6 x 20\n",
       "\\begin{tabular}{llllllllllllllllllll}\n",
       " V1 & FID1 & IID1 & FID2 & IID2 & RT & EZ & Z0 & Z1 & Z2 & PI\\_HAT & PHE & DST & PPC & RATIO & IBS0 & IBS1 & IBS2 & HOMHOM & HETHET\\\\\n",
       " <lgl> & <int> & <chr> & <int> & <chr> & <chr> & <int> & <dbl> & <dbl> & <dbl> & <dbl> & <int> & <dbl> & <dbl> & <dbl> & <int> & <int> & <int> & <dbl> & <dbl>\\\\\n",
       "\\hline\n",
       "\t NA & 0 & 17071                                                & 0 & 17072                                                & OT & 0 & 1 & 0.0000 & 0.0000 & 0.0000 & -1 & 0.706229 & 0.8955 & 2.2376 & 261 & 1374 & 1592 & 181 & 405\\\\\n",
       "\t NA & 0 & 17071                                                & 0 & 17071.STARAligned.sortedByCoord.WASPfiltered.out.bam & OT & 0 & 0 & 0.0347 & 0.9653 & 0.9826 & -1 & 0.993296 & 1.0000 &     NA &   0 &   43 & 3164 &   0 & 807\\\\\n",
       "\t NA & 0 & 17071                                                & 0 & 17072.STARAligned.sortedByCoord.WASPfiltered.out.bam & OT & 0 & 1 & 0.0000 & 0.0000 & 0.0000 & -1 & 0.701434 & 0.4651 & 1.9847 & 272 & 1371 & 1564 & 196 & 389\\\\\n",
       "\t NA & 0 & 17072                                                & 0 & 17071.STARAligned.sortedByCoord.WASPfiltered.out.bam & OT & 0 & 1 & 0.0000 & 0.0000 & 0.0000 & -1 & 0.704241 & 0.7945 & 2.1522 & 265 & 1367 & 1575 & 184 & 396\\\\\n",
       "\t NA & 0 & 17072                                                & 0 & 17072.STARAligned.sortedByCoord.WASPfiltered.out.bam & OT & 0 & 0 & 0.0477 & 0.9523 & 0.9762 & -1 & 0.990801 & 1.0000 &     NA &   0 &   59 & 3148 &   0 & 812\\\\\n",
       "\t NA & 0 & 17071.STARAligned.sortedByCoord.WASPfiltered.out.bam & 0 & 17072.STARAligned.sortedByCoord.WASPfiltered.out.bam & OT & 0 & 1 & 0.0000 & 0.0000 & 0.0000 & -1 & 0.701097 & 0.3309 & 1.9254 & 279 & 1349 & 1562 & 201 & 387\\\\\n",
       "\\end{tabular}\n"
      ],
      "text/markdown": [
       "\n",
       "A data.frame: 6 x 20\n",
       "\n",
       "| V1 &lt;lgl&gt; | FID1 &lt;int&gt; | IID1 &lt;chr&gt; | FID2 &lt;int&gt; | IID2 &lt;chr&gt; | RT &lt;chr&gt; | EZ &lt;int&gt; | Z0 &lt;dbl&gt; | Z1 &lt;dbl&gt; | Z2 &lt;dbl&gt; | PI_HAT &lt;dbl&gt; | PHE &lt;int&gt; | DST &lt;dbl&gt; | PPC &lt;dbl&gt; | RATIO &lt;dbl&gt; | IBS0 &lt;int&gt; | IBS1 &lt;int&gt; | IBS2 &lt;int&gt; | HOMHOM &lt;dbl&gt; | HETHET &lt;dbl&gt; |\n",
       "|---|---|---|---|---|---|---|---|---|---|---|---|---|---|---|---|---|---|---|---|\n",
       "| NA | 0 | 17071                                                | 0 | 17072                                                | OT | 0 | 1 | 0.0000 | 0.0000 | 0.0000 | -1 | 0.706229 | 0.8955 | 2.2376 | 261 | 1374 | 1592 | 181 | 405 |\n",
       "| NA | 0 | 17071                                                | 0 | 17071.STARAligned.sortedByCoord.WASPfiltered.out.bam | OT | 0 | 0 | 0.0347 | 0.9653 | 0.9826 | -1 | 0.993296 | 1.0000 |     NA |   0 |   43 | 3164 |   0 | 807 |\n",
       "| NA | 0 | 17071                                                | 0 | 17072.STARAligned.sortedByCoord.WASPfiltered.out.bam | OT | 0 | 1 | 0.0000 | 0.0000 | 0.0000 | -1 | 0.701434 | 0.4651 | 1.9847 | 272 | 1371 | 1564 | 196 | 389 |\n",
       "| NA | 0 | 17072                                                | 0 | 17071.STARAligned.sortedByCoord.WASPfiltered.out.bam | OT | 0 | 1 | 0.0000 | 0.0000 | 0.0000 | -1 | 0.704241 | 0.7945 | 2.1522 | 265 | 1367 | 1575 | 184 | 396 |\n",
       "| NA | 0 | 17072                                                | 0 | 17072.STARAligned.sortedByCoord.WASPfiltered.out.bam | OT | 0 | 0 | 0.0477 | 0.9523 | 0.9762 | -1 | 0.990801 | 1.0000 |     NA |   0 |   59 | 3148 |   0 | 812 |\n",
       "| NA | 0 | 17071.STARAligned.sortedByCoord.WASPfiltered.out.bam | 0 | 17072.STARAligned.sortedByCoord.WASPfiltered.out.bam | OT | 0 | 1 | 0.0000 | 0.0000 | 0.0000 | -1 | 0.701097 | 0.3309 | 1.9254 | 279 | 1349 | 1562 | 201 | 387 |\n",
       "\n"
      ],
      "text/plain": [
       "  V1 FID1 IID1                                                 FID2\n",
       "1 NA 0    17071                                                0   \n",
       "2 NA 0    17071                                                0   \n",
       "3 NA 0    17071                                                0   \n",
       "4 NA 0    17072                                                0   \n",
       "5 NA 0    17072                                                0   \n",
       "6 NA 0    17071.STARAligned.sortedByCoord.WASPfiltered.out.bam 0   \n",
       "  IID2                                                 RT EZ Z0 Z1     Z2    \n",
       "1 17072                                                OT 0  1  0.0000 0.0000\n",
       "2 17071.STARAligned.sortedByCoord.WASPfiltered.out.bam OT 0  0  0.0347 0.9653\n",
       "3 17072.STARAligned.sortedByCoord.WASPfiltered.out.bam OT 0  1  0.0000 0.0000\n",
       "4 17071.STARAligned.sortedByCoord.WASPfiltered.out.bam OT 0  1  0.0000 0.0000\n",
       "5 17072.STARAligned.sortedByCoord.WASPfiltered.out.bam OT 0  0  0.0477 0.9523\n",
       "6 17072.STARAligned.sortedByCoord.WASPfiltered.out.bam OT 0  1  0.0000 0.0000\n",
       "  PI_HAT PHE DST      PPC    RATIO  IBS0 IBS1 IBS2 HOMHOM HETHET\n",
       "1 0.0000 -1  0.706229 0.8955 2.2376 261  1374 1592 181    405   \n",
       "2 0.9826 -1  0.993296 1.0000     NA   0    43 3164   0    807   \n",
       "3 0.0000 -1  0.701434 0.4651 1.9847 272  1371 1564 196    389   \n",
       "4 0.0000 -1  0.704241 0.7945 2.1522 265  1367 1575 184    396   \n",
       "5 0.9762 -1  0.990801 1.0000     NA   0    59 3148   0    812   \n",
       "6 0.0000 -1  0.701097 0.3309 1.9254 279  1349 1562 201    387   "
      ]
     },
     "metadata": {},
     "output_type": "display_data"
    }
   ],
   "source": [
    "dat <- dat %>% filter(!(IID1 == \"1707\" | IID2 == \"1707\" | IID1 == \"1707.1\" | IID2 == \"1707.1\" |\n",
    "                       IID1 == \"1707.STARAligned.sortedByCoord.WASPfiltered.out.bam\" |\n",
    "                       IID2 == \"1707.STARAligned.sortedByCoord.WASPfiltered.out.bam\"))\n",
    "dat %>% filter(str_detect(IID1, \"1707\"), str_detect(IID2, \"1707\"))"
   ]
  },
  {
   "cell_type": "code",
   "execution_count": 4,
   "metadata": {},
   "outputs": [],
   "source": [
    "# To check sample swaps, keep pairs with one BAM-called genotype\n",
    "bam_1 <- dat %>% filter(str_detect(IID1, \"STAR\"))\n",
    "bam_2 <- dat %>% filter(str_detect(IID2, \"STAR\"))"
   ]
  },
  {
   "cell_type": "code",
   "execution_count": 5,
   "metadata": {},
   "outputs": [
    {
     "data": {
      "text/html": [
       "<style>\n",
       ".list-inline {list-style: none; margin:0; padding: 0}\n",
       ".list-inline>li {display: inline-block}\n",
       ".list-inline>li:not(:last-child)::after {content: \"\\00b7\"; padding: 0 .5ex}\n",
       "</style>\n",
       "<ol class=list-inline><li>849556</li><li>20</li></ol>\n"
      ],
      "text/latex": [
       "\\begin{enumerate*}\n",
       "\\item 849556\n",
       "\\item 20\n",
       "\\end{enumerate*}\n"
      ],
      "text/markdown": [
       "1. 849556\n",
       "2. 20\n",
       "\n",
       "\n"
      ],
      "text/plain": [
       "[1] 849556     20"
      ]
     },
     "metadata": {},
     "output_type": "display_data"
    },
    {
     "data": {
      "text/html": [
       "<style>\n",
       ".list-inline {list-style: none; margin:0; padding: 0}\n",
       ".list-inline>li {display: inline-block}\n",
       ".list-inline>li:not(:last-child)::after {content: \"\\00b7\"; padding: 0 .5ex}\n",
       "</style>\n",
       "<ol class=list-inline><li>637330</li><li>20</li></ol>\n"
      ],
      "text/latex": [
       "\\begin{enumerate*}\n",
       "\\item 637330\n",
       "\\item 20\n",
       "\\end{enumerate*}\n"
      ],
      "text/markdown": [
       "1. 637330\n",
       "2. 20\n",
       "\n",
       "\n"
      ],
      "text/plain": [
       "[1] 637330     20"
      ]
     },
     "metadata": {},
     "output_type": "display_data"
    }
   ],
   "source": [
    "bam_12 <- rbind(bam_1, bam_2)\n",
    "dim(bam_12)\n",
    "bam_12 <- bam_12[!duplicated(bam_12),]\n",
    "dim(bam_12)"
   ]
  },
  {
   "cell_type": "code",
   "execution_count": 6,
   "metadata": {},
   "outputs": [],
   "source": [
    "bam_12 <- bam_12 %>% filter(!(str_detect(IID1, \"STAR\") & str_detect(IID2, \"STAR\")))"
   ]
  },
  {
   "cell_type": "code",
   "execution_count": 7,
   "metadata": {},
   "outputs": [
    {
     "data": {
      "text/html": [
       "<style>\n",
       ".list-inline {list-style: none; margin:0; padding: 0}\n",
       ".list-inline>li {display: inline-block}\n",
       ".list-inline>li:not(:last-child)::after {content: \"\\00b7\"; padding: 0 .5ex}\n",
       "</style>\n",
       "<ol class=list-inline><li>425104</li><li>20</li></ol>\n"
      ],
      "text/latex": [
       "\\begin{enumerate*}\n",
       "\\item 425104\n",
       "\\item 20\n",
       "\\end{enumerate*}\n"
      ],
      "text/markdown": [
       "1. 425104\n",
       "2. 20\n",
       "\n",
       "\n"
      ],
      "text/plain": [
       "[1] 425104     20"
      ]
     },
     "metadata": {},
     "output_type": "display_data"
    },
    {
     "data": {
      "text/html": [
       "<table class=\"dataframe\">\n",
       "<caption>A data.frame: 6 x 20</caption>\n",
       "<thead>\n",
       "\t<tr><th></th><th scope=col>V1</th><th scope=col>FID1</th><th scope=col>IID1</th><th scope=col>FID2</th><th scope=col>IID2</th><th scope=col>RT</th><th scope=col>EZ</th><th scope=col>Z0</th><th scope=col>Z1</th><th scope=col>Z2</th><th scope=col>PI_HAT</th><th scope=col>PHE</th><th scope=col>DST</th><th scope=col>PPC</th><th scope=col>RATIO</th><th scope=col>IBS0</th><th scope=col>IBS1</th><th scope=col>IBS2</th><th scope=col>HOMHOM</th><th scope=col>HETHET</th></tr>\n",
       "\t<tr><th></th><th scope=col>&lt;lgl&gt;</th><th scope=col>&lt;int&gt;</th><th scope=col>&lt;chr&gt;</th><th scope=col>&lt;int&gt;</th><th scope=col>&lt;chr&gt;</th><th scope=col>&lt;chr&gt;</th><th scope=col>&lt;int&gt;</th><th scope=col>&lt;dbl&gt;</th><th scope=col>&lt;dbl&gt;</th><th scope=col>&lt;dbl&gt;</th><th scope=col>&lt;dbl&gt;</th><th scope=col>&lt;int&gt;</th><th scope=col>&lt;dbl&gt;</th><th scope=col>&lt;dbl&gt;</th><th scope=col>&lt;dbl&gt;</th><th scope=col>&lt;int&gt;</th><th scope=col>&lt;int&gt;</th><th scope=col>&lt;int&gt;</th><th scope=col>&lt;dbl&gt;</th><th scope=col>&lt;dbl&gt;</th></tr>\n",
       "</thead>\n",
       "<tbody>\n",
       "\t<tr><th scope=row>1</th><td>NA</td><td>0</td><td>849</td><td>0</td><td>1038.STARAligned.sortedByCoord.WASPfiltered.out.bam</td><td>OT</td><td>0</td><td>1</td><td>0</td><td>0</td><td>0</td><td>-1</td><td>0.654525</td><td>0</td><td>0.9555</td><td>398</td><td>1357</td><td>1361</td><td>292</td><td>279</td></tr>\n",
       "\t<tr><th scope=row>2</th><td>NA</td><td>0</td><td>849</td><td>0</td><td>1039.STARAligned.sortedByCoord.WASPfiltered.out.bam</td><td>OT</td><td>0</td><td>1</td><td>0</td><td>0</td><td>0</td><td>-1</td><td>0.683635</td><td>0</td><td>1.2265</td><td>305</td><td>1385</td><td>1463</td><td>234</td><td>287</td></tr>\n",
       "\t<tr><th scope=row>3</th><td>NA</td><td>0</td><td>849</td><td>0</td><td>1046.STARAligned.sortedByCoord.WASPfiltered.out.bam</td><td>OT</td><td>0</td><td>1</td><td>0</td><td>0</td><td>0</td><td>-1</td><td>0.655769</td><td>0</td><td>1.0000</td><td>358</td><td>1474</td><td>1349</td><td>270</td><td>270</td></tr>\n",
       "\t<tr><th scope=row>4</th><td>NA</td><td>0</td><td>849</td><td>0</td><td>1092.STARAligned.sortedByCoord.WASPfiltered.out.bam</td><td>OT</td><td>0</td><td>1</td><td>0</td><td>0</td><td>0</td><td>-1</td><td>0.653693</td><td>0</td><td>0.7868</td><td>349</td><td>1215</td><td>1198</td><td>272</td><td>214</td></tr>\n",
       "\t<tr><th scope=row>5</th><td>NA</td><td>0</td><td>849</td><td>0</td><td>1102.STARAligned.sortedByCoord.WASPfiltered.out.bam</td><td>OT</td><td>0</td><td>1</td><td>0</td><td>0</td><td>0</td><td>-1</td><td>0.660125</td><td>0</td><td>1.0605</td><td>377</td><td>1428</td><td>1405</td><td>281</td><td>298</td></tr>\n",
       "\t<tr><th scope=row>6</th><td>NA</td><td>0</td><td>849</td><td>0</td><td>1107.STARAligned.sortedByCoord.WASPfiltered.out.bam</td><td>OT</td><td>0</td><td>1</td><td>0</td><td>0</td><td>0</td><td>-1</td><td>0.660082</td><td>0</td><td>1.0830</td><td>394</td><td>1380</td><td>1415</td><td>289</td><td>313</td></tr>\n",
       "</tbody>\n",
       "</table>\n"
      ],
      "text/latex": [
       "A data.frame: 6 x 20\n",
       "\\begin{tabular}{r|llllllllllllllllllll}\n",
       "  & V1 & FID1 & IID1 & FID2 & IID2 & RT & EZ & Z0 & Z1 & Z2 & PI\\_HAT & PHE & DST & PPC & RATIO & IBS0 & IBS1 & IBS2 & HOMHOM & HETHET\\\\\n",
       "  & <lgl> & <int> & <chr> & <int> & <chr> & <chr> & <int> & <dbl> & <dbl> & <dbl> & <dbl> & <int> & <dbl> & <dbl> & <dbl> & <int> & <int> & <int> & <dbl> & <dbl>\\\\\n",
       "\\hline\n",
       "\t1 & NA & 0 & 849 & 0 & 1038.STARAligned.sortedByCoord.WASPfiltered.out.bam & OT & 0 & 1 & 0 & 0 & 0 & -1 & 0.654525 & 0 & 0.9555 & 398 & 1357 & 1361 & 292 & 279\\\\\n",
       "\t2 & NA & 0 & 849 & 0 & 1039.STARAligned.sortedByCoord.WASPfiltered.out.bam & OT & 0 & 1 & 0 & 0 & 0 & -1 & 0.683635 & 0 & 1.2265 & 305 & 1385 & 1463 & 234 & 287\\\\\n",
       "\t3 & NA & 0 & 849 & 0 & 1046.STARAligned.sortedByCoord.WASPfiltered.out.bam & OT & 0 & 1 & 0 & 0 & 0 & -1 & 0.655769 & 0 & 1.0000 & 358 & 1474 & 1349 & 270 & 270\\\\\n",
       "\t4 & NA & 0 & 849 & 0 & 1092.STARAligned.sortedByCoord.WASPfiltered.out.bam & OT & 0 & 1 & 0 & 0 & 0 & -1 & 0.653693 & 0 & 0.7868 & 349 & 1215 & 1198 & 272 & 214\\\\\n",
       "\t5 & NA & 0 & 849 & 0 & 1102.STARAligned.sortedByCoord.WASPfiltered.out.bam & OT & 0 & 1 & 0 & 0 & 0 & -1 & 0.660125 & 0 & 1.0605 & 377 & 1428 & 1405 & 281 & 298\\\\\n",
       "\t6 & NA & 0 & 849 & 0 & 1107.STARAligned.sortedByCoord.WASPfiltered.out.bam & OT & 0 & 1 & 0 & 0 & 0 & -1 & 0.660082 & 0 & 1.0830 & 394 & 1380 & 1415 & 289 & 313\\\\\n",
       "\\end{tabular}\n"
      ],
      "text/markdown": [
       "\n",
       "A data.frame: 6 x 20\n",
       "\n",
       "| <!--/--> | V1 &lt;lgl&gt; | FID1 &lt;int&gt; | IID1 &lt;chr&gt; | FID2 &lt;int&gt; | IID2 &lt;chr&gt; | RT &lt;chr&gt; | EZ &lt;int&gt; | Z0 &lt;dbl&gt; | Z1 &lt;dbl&gt; | Z2 &lt;dbl&gt; | PI_HAT &lt;dbl&gt; | PHE &lt;int&gt; | DST &lt;dbl&gt; | PPC &lt;dbl&gt; | RATIO &lt;dbl&gt; | IBS0 &lt;int&gt; | IBS1 &lt;int&gt; | IBS2 &lt;int&gt; | HOMHOM &lt;dbl&gt; | HETHET &lt;dbl&gt; |\n",
       "|---|---|---|---|---|---|---|---|---|---|---|---|---|---|---|---|---|---|---|---|---|\n",
       "| 1 | NA | 0 | 849 | 0 | 1038.STARAligned.sortedByCoord.WASPfiltered.out.bam | OT | 0 | 1 | 0 | 0 | 0 | -1 | 0.654525 | 0 | 0.9555 | 398 | 1357 | 1361 | 292 | 279 |\n",
       "| 2 | NA | 0 | 849 | 0 | 1039.STARAligned.sortedByCoord.WASPfiltered.out.bam | OT | 0 | 1 | 0 | 0 | 0 | -1 | 0.683635 | 0 | 1.2265 | 305 | 1385 | 1463 | 234 | 287 |\n",
       "| 3 | NA | 0 | 849 | 0 | 1046.STARAligned.sortedByCoord.WASPfiltered.out.bam | OT | 0 | 1 | 0 | 0 | 0 | -1 | 0.655769 | 0 | 1.0000 | 358 | 1474 | 1349 | 270 | 270 |\n",
       "| 4 | NA | 0 | 849 | 0 | 1092.STARAligned.sortedByCoord.WASPfiltered.out.bam | OT | 0 | 1 | 0 | 0 | 0 | -1 | 0.653693 | 0 | 0.7868 | 349 | 1215 | 1198 | 272 | 214 |\n",
       "| 5 | NA | 0 | 849 | 0 | 1102.STARAligned.sortedByCoord.WASPfiltered.out.bam | OT | 0 | 1 | 0 | 0 | 0 | -1 | 0.660125 | 0 | 1.0605 | 377 | 1428 | 1405 | 281 | 298 |\n",
       "| 6 | NA | 0 | 849 | 0 | 1107.STARAligned.sortedByCoord.WASPfiltered.out.bam | OT | 0 | 1 | 0 | 0 | 0 | -1 | 0.660082 | 0 | 1.0830 | 394 | 1380 | 1415 | 289 | 313 |\n",
       "\n"
      ],
      "text/plain": [
       "  V1 FID1 IID1 FID2 IID2                                                RT EZ\n",
       "1 NA 0    849  0    1038.STARAligned.sortedByCoord.WASPfiltered.out.bam OT 0 \n",
       "2 NA 0    849  0    1039.STARAligned.sortedByCoord.WASPfiltered.out.bam OT 0 \n",
       "3 NA 0    849  0    1046.STARAligned.sortedByCoord.WASPfiltered.out.bam OT 0 \n",
       "4 NA 0    849  0    1092.STARAligned.sortedByCoord.WASPfiltered.out.bam OT 0 \n",
       "5 NA 0    849  0    1102.STARAligned.sortedByCoord.WASPfiltered.out.bam OT 0 \n",
       "6 NA 0    849  0    1107.STARAligned.sortedByCoord.WASPfiltered.out.bam OT 0 \n",
       "  Z0 Z1 Z2 PI_HAT PHE DST      PPC RATIO  IBS0 IBS1 IBS2 HOMHOM HETHET\n",
       "1 1  0  0  0      -1  0.654525 0   0.9555 398  1357 1361 292    279   \n",
       "2 1  0  0  0      -1  0.683635 0   1.2265 305  1385 1463 234    287   \n",
       "3 1  0  0  0      -1  0.655769 0   1.0000 358  1474 1349 270    270   \n",
       "4 1  0  0  0      -1  0.653693 0   0.7868 349  1215 1198 272    214   \n",
       "5 1  0  0  0      -1  0.660125 0   1.0605 377  1428 1405 281    298   \n",
       "6 1  0  0  0      -1  0.660082 0   1.0830 394  1380 1415 289    313   "
      ]
     },
     "metadata": {},
     "output_type": "display_data"
    }
   ],
   "source": [
    "dim(bam_12)\n",
    "head(bam_12)"
   ]
  },
  {
   "cell_type": "code",
   "execution_count": 8,
   "metadata": {},
   "outputs": [
    {
     "data": {
      "text/html": [
       "<style>\n",
       ".list-inline {list-style: none; margin:0; padding: 0}\n",
       ".list-inline>li {display: inline-block}\n",
       ".list-inline>li:not(:last-child)::after {content: \"\\00b7\"; padding: 0 .5ex}\n",
       "</style>\n",
       "<ol class=list-inline><li>0</li><li>0.998</li></ol>\n"
      ],
      "text/latex": [
       "\\begin{enumerate*}\n",
       "\\item 0\n",
       "\\item 0.998\n",
       "\\end{enumerate*}\n"
      ],
      "text/markdown": [
       "1. 0\n",
       "2. 0.998\n",
       "\n",
       "\n"
      ],
      "text/plain": [
       "[1] 0.000 0.998"
      ]
     },
     "metadata": {},
     "output_type": "display_data"
    }
   ],
   "source": [
    "range(bam_12$PI_HAT)"
   ]
  },
  {
   "cell_type": "code",
   "execution_count": 9,
   "metadata": {},
   "outputs": [
    {
     "name": "stderr",
     "output_type": "stream",
     "text": [
      "Warning message:\n",
      "“Expected 6 pieces. Missing pieces filled with `NA` in 425104 rows [1, 2, 3, 4, 5, 6, 7, 8, 9, 10, 11, 12, 13, 14, 15, 16, 17, 18, 19, 20, ...].”\n"
     ]
    }
   ],
   "source": [
    "# Now identify rows from the same subject\n",
    "bam_12 <- bam_12 %>% \n",
    "    separate(IID1, sep='[.]', into = c(\"subj1\", \"c1\", \"c2\", \"c3\", \"c4\", \"c5\"), remove = FALSE) %>%\n",
    "    separate(IID2, sep='[.]', into = c(\"subj2\", \"d1\", \"d2\", \"d3\", \"d4\", \"d5\"), remove = FALSE)"
   ]
  },
  {
   "cell_type": "code",
   "execution_count": 10,
   "metadata": {},
   "outputs": [
    {
     "data": {
      "text/html": [
       "<table class=\"dataframe\">\n",
       "<caption>A data.frame: 6 x 4</caption>\n",
       "<thead>\n",
       "\t<tr><th></th><th scope=col>IID1</th><th scope=col>subj1</th><th scope=col>IID2</th><th scope=col>subj2</th></tr>\n",
       "\t<tr><th></th><th scope=col>&lt;chr&gt;</th><th scope=col>&lt;chr&gt;</th><th scope=col>&lt;chr&gt;</th><th scope=col>&lt;chr&gt;</th></tr>\n",
       "</thead>\n",
       "<tbody>\n",
       "\t<tr><th scope=row>1</th><td>849</td><td>849</td><td>1038.STARAligned.sortedByCoord.WASPfiltered.out.bam</td><td>1038</td></tr>\n",
       "\t<tr><th scope=row>2</th><td>849</td><td>849</td><td>1039.STARAligned.sortedByCoord.WASPfiltered.out.bam</td><td>1039</td></tr>\n",
       "\t<tr><th scope=row>3</th><td>849</td><td>849</td><td>1046.STARAligned.sortedByCoord.WASPfiltered.out.bam</td><td>1046</td></tr>\n",
       "\t<tr><th scope=row>4</th><td>849</td><td>849</td><td>1092.STARAligned.sortedByCoord.WASPfiltered.out.bam</td><td>1092</td></tr>\n",
       "\t<tr><th scope=row>5</th><td>849</td><td>849</td><td>1102.STARAligned.sortedByCoord.WASPfiltered.out.bam</td><td>1102</td></tr>\n",
       "\t<tr><th scope=row>6</th><td>849</td><td>849</td><td>1107.STARAligned.sortedByCoord.WASPfiltered.out.bam</td><td>1107</td></tr>\n",
       "</tbody>\n",
       "</table>\n"
      ],
      "text/latex": [
       "A data.frame: 6 x 4\n",
       "\\begin{tabular}{r|llll}\n",
       "  & IID1 & subj1 & IID2 & subj2\\\\\n",
       "  & <chr> & <chr> & <chr> & <chr>\\\\\n",
       "\\hline\n",
       "\t1 & 849 & 849 & 1038.STARAligned.sortedByCoord.WASPfiltered.out.bam & 1038\\\\\n",
       "\t2 & 849 & 849 & 1039.STARAligned.sortedByCoord.WASPfiltered.out.bam & 1039\\\\\n",
       "\t3 & 849 & 849 & 1046.STARAligned.sortedByCoord.WASPfiltered.out.bam & 1046\\\\\n",
       "\t4 & 849 & 849 & 1092.STARAligned.sortedByCoord.WASPfiltered.out.bam & 1092\\\\\n",
       "\t5 & 849 & 849 & 1102.STARAligned.sortedByCoord.WASPfiltered.out.bam & 1102\\\\\n",
       "\t6 & 849 & 849 & 1107.STARAligned.sortedByCoord.WASPfiltered.out.bam & 1107\\\\\n",
       "\\end{tabular}\n"
      ],
      "text/markdown": [
       "\n",
       "A data.frame: 6 x 4\n",
       "\n",
       "| <!--/--> | IID1 &lt;chr&gt; | subj1 &lt;chr&gt; | IID2 &lt;chr&gt; | subj2 &lt;chr&gt; |\n",
       "|---|---|---|---|---|\n",
       "| 1 | 849 | 849 | 1038.STARAligned.sortedByCoord.WASPfiltered.out.bam | 1038 |\n",
       "| 2 | 849 | 849 | 1039.STARAligned.sortedByCoord.WASPfiltered.out.bam | 1039 |\n",
       "| 3 | 849 | 849 | 1046.STARAligned.sortedByCoord.WASPfiltered.out.bam | 1046 |\n",
       "| 4 | 849 | 849 | 1092.STARAligned.sortedByCoord.WASPfiltered.out.bam | 1092 |\n",
       "| 5 | 849 | 849 | 1102.STARAligned.sortedByCoord.WASPfiltered.out.bam | 1102 |\n",
       "| 6 | 849 | 849 | 1107.STARAligned.sortedByCoord.WASPfiltered.out.bam | 1107 |\n",
       "\n"
      ],
      "text/plain": [
       "  IID1 subj1 IID2                                                subj2\n",
       "1 849  849   1038.STARAligned.sortedByCoord.WASPfiltered.out.bam 1038 \n",
       "2 849  849   1039.STARAligned.sortedByCoord.WASPfiltered.out.bam 1039 \n",
       "3 849  849   1046.STARAligned.sortedByCoord.WASPfiltered.out.bam 1046 \n",
       "4 849  849   1092.STARAligned.sortedByCoord.WASPfiltered.out.bam 1092 \n",
       "5 849  849   1102.STARAligned.sortedByCoord.WASPfiltered.out.bam 1102 \n",
       "6 849  849   1107.STARAligned.sortedByCoord.WASPfiltered.out.bam 1107 "
      ]
     },
     "metadata": {},
     "output_type": "display_data"
    }
   ],
   "source": [
    "head(bam_12 %>% select(IID1, subj1, IID2, subj2))"
   ]
  },
  {
   "cell_type": "code",
   "execution_count": 11,
   "metadata": {},
   "outputs": [],
   "source": [
    "bam_12 <- bam_12 %>% mutate(same = (subj1 == subj2))"
   ]
  },
  {
   "cell_type": "code",
   "execution_count": 12,
   "metadata": {},
   "outputs": [
    {
     "data": {
      "text/plain": [
       "\n",
       " FALSE   TRUE \n",
       "424452    652 "
      ]
     },
     "metadata": {},
     "output_type": "display_data"
    }
   ],
   "source": [
    "table(bam_12$same)"
   ]
  },
  {
   "cell_type": "code",
   "execution_count": 15,
   "metadata": {},
   "outputs": [],
   "source": [
    "# colors <- c(\"FALSE\" = \"#3B9AB2\", \"TRUE\" = \"#E1AF00\")"
   ]
  },
  {
   "cell_type": "code",
   "execution_count": 23,
   "metadata": {},
   "outputs": [
    {
     "data": {
      "image/png": "[encoded data removed]",
      "text/plain": [
       "plot without title"
      ]
     },
     "metadata": {
      "image/png": {
       "height": 420,
       "width": 420
      }
     },
     "output_type": "display_data"
    }
   ],
   "source": [
    "ggplot(bam_12, aes(x = PI_HAT, y = Z0, fill = same)) +\n",
    "    geom_point(size = 4, shape = 21, alpha = 0.8) +\n",
    "    labs(title = \"Sample swap check\", x = \"PI_HAT, proportion of IBD\", y = \"Z0, P(IBD=0)\", \n",
    "         fill = \"Same subject DNA-RNA\") +\n",
    "    theme_classic() +\n",
    "    theme(axis.text = element_text(size = 16),\n",
    "          axis.title = element_text(size = 18),\n",
    "          plot.title = element_text(size = 18, face = \"bold\", hjust = 0.5),\n",
    "          legend.title = element_text(size = 16),\n",
    "          legend.text = element_text(size = 14),\n",
    "          legend.position = \"top\") \n",
    "#     geom_vline(xintercept = 0.3, linetype = \"dashed\", color = \"grey\")\n",
    "#     scale_color_manual(values = colors)\n",
    "#     scale_color_brewer(palette = \"Dark2\")"
   ]
  },
  {
   "cell_type": "code",
   "execution_count": 24,
   "metadata": {},
   "outputs": [],
   "source": [
    "ggsave(\"check.pdf\", width = 6, height = 6)"
   ]
  },
  {
   "cell_type": "code",
   "execution_count": 79,
   "metadata": {},
   "outputs": [
    {
     "data": {
      "text/html": [
       "<table>\n",
       "<caption>A data.frame: 12 × 4</caption>\n",
       "<thead>\n",
       "\t<tr><th scope=col>IID1</th><th scope=col>IID2</th><th scope=col>subj1</th><th scope=col>subj2</th></tr>\n",
       "\t<tr><th scope=col>&lt;chr&gt;</th><th scope=col>&lt;chr&gt;</th><th scope=col>&lt;chr&gt;</th><th scope=col>&lt;chr&gt;</th></tr>\n",
       "</thead>\n",
       "<tbody>\n",
       "\t<tr><td>1614  </td><td>1713.STARAligned.sortedByCoord.WASPfiltered.out.bam  </td><td>1614  </td><td>1713  </td></tr>\n",
       "\t<tr><td>1713  </td><td>1614.STARAligned.sortedByCoord.WASPfiltered.out.bam  </td><td>1713  </td><td>1614  </td></tr>\n",
       "\t<tr><td>Br1779</td><td>Br1794.STARAligned.sortedByCoord.WASPfiltered.out.bam</td><td>Br1779</td><td>Br1794</td></tr>\n",
       "\t<tr><td>Br2394</td><td>HSB148.STARAligned.sortedByCoord.WASPfiltered.out.bam</td><td>Br2394</td><td>HSB148</td></tr>\n",
       "\t<tr><td>Br2402</td><td>HSB107.STARAligned.sortedByCoord.WASPfiltered.out.bam</td><td>Br2402</td><td>HSB107</td></tr>\n",
       "\t<tr><td>Br2411</td><td>HSB154.STARAligned.sortedByCoord.WASPfiltered.out.bam</td><td>Br2411</td><td>HSB154</td></tr>\n",
       "\t<tr><td>Br2412</td><td>HSB100.STARAligned.sortedByCoord.WASPfiltered.out.bam</td><td>Br2412</td><td>HSB100</td></tr>\n",
       "\t<tr><td>HSB100</td><td>Br2412.STARAligned.sortedByCoord.WASPfiltered.out.bam</td><td>HSB100</td><td>Br2412</td></tr>\n",
       "\t<tr><td>HSB107</td><td>Br2402.STARAligned.sortedByCoord.WASPfiltered.out.bam</td><td>HSB107</td><td>Br2402</td></tr>\n",
       "\t<tr><td>HSB148</td><td>Br2394.STARAligned.sortedByCoord.WASPfiltered.out.bam</td><td>HSB148</td><td>Br2394</td></tr>\n",
       "\t<tr><td>HSB154</td><td>Br2411.STARAligned.sortedByCoord.WASPfiltered.out.bam</td><td>HSB154</td><td>Br2411</td></tr>\n",
       "\t<tr><td>HSB430</td><td>HSB289.STARAligned.sortedByCoord.WASPfiltered.out.bam</td><td>HSB430</td><td>HSB289</td></tr>\n",
       "</tbody>\n",
       "</table>\n"
      ],
      "text/latex": [
       "A data.frame: 12 × 4\n",
       "\\begin{tabular}{llll}\n",
       " IID1 & IID2 & subj1 & subj2\\\\\n",
       " <chr> & <chr> & <chr> & <chr>\\\\\n",
       "\\hline\n",
       "\t 1614   & 1713.STARAligned.sortedByCoord.WASPfiltered.out.bam   & 1614   & 1713  \\\\\n",
       "\t 1713   & 1614.STARAligned.sortedByCoord.WASPfiltered.out.bam   & 1713   & 1614  \\\\\n",
       "\t Br1779 & Br1794.STARAligned.sortedByCoord.WASPfiltered.out.bam & Br1779 & Br1794\\\\\n",
       "\t Br2394 & HSB148.STARAligned.sortedByCoord.WASPfiltered.out.bam & Br2394 & HSB148\\\\\n",
       "\t Br2402 & HSB107.STARAligned.sortedByCoord.WASPfiltered.out.bam & Br2402 & HSB107\\\\\n",
       "\t Br2411 & HSB154.STARAligned.sortedByCoord.WASPfiltered.out.bam & Br2411 & HSB154\\\\\n",
       "\t Br2412 & HSB100.STARAligned.sortedByCoord.WASPfiltered.out.bam & Br2412 & HSB100\\\\\n",
       "\t HSB100 & Br2412.STARAligned.sortedByCoord.WASPfiltered.out.bam & HSB100 & Br2412\\\\\n",
       "\t HSB107 & Br2402.STARAligned.sortedByCoord.WASPfiltered.out.bam & HSB107 & Br2402\\\\\n",
       "\t HSB148 & Br2394.STARAligned.sortedByCoord.WASPfiltered.out.bam & HSB148 & Br2394\\\\\n",
       "\t HSB154 & Br2411.STARAligned.sortedByCoord.WASPfiltered.out.bam & HSB154 & Br2411\\\\\n",
       "\t HSB430 & HSB289.STARAligned.sortedByCoord.WASPfiltered.out.bam & HSB430 & HSB289\\\\\n",
       "\\end{tabular}\n"
      ],
      "text/markdown": [
       "\n",
       "A data.frame: 12 × 4\n",
       "\n",
       "| IID1 &lt;chr&gt; | IID2 &lt;chr&gt; | subj1 &lt;chr&gt; | subj2 &lt;chr&gt; |\n",
       "|---|---|---|---|\n",
       "| 1614   | 1713.STARAligned.sortedByCoord.WASPfiltered.out.bam   | 1614   | 1713   |\n",
       "| 1713   | 1614.STARAligned.sortedByCoord.WASPfiltered.out.bam   | 1713   | 1614   |\n",
       "| Br1779 | Br1794.STARAligned.sortedByCoord.WASPfiltered.out.bam | Br1779 | Br1794 |\n",
       "| Br2394 | HSB148.STARAligned.sortedByCoord.WASPfiltered.out.bam | Br2394 | HSB148 |\n",
       "| Br2402 | HSB107.STARAligned.sortedByCoord.WASPfiltered.out.bam | Br2402 | HSB107 |\n",
       "| Br2411 | HSB154.STARAligned.sortedByCoord.WASPfiltered.out.bam | Br2411 | HSB154 |\n",
       "| Br2412 | HSB100.STARAligned.sortedByCoord.WASPfiltered.out.bam | Br2412 | HSB100 |\n",
       "| HSB100 | Br2412.STARAligned.sortedByCoord.WASPfiltered.out.bam | HSB100 | Br2412 |\n",
       "| HSB107 | Br2402.STARAligned.sortedByCoord.WASPfiltered.out.bam | HSB107 | Br2402 |\n",
       "| HSB148 | Br2394.STARAligned.sortedByCoord.WASPfiltered.out.bam | HSB148 | Br2394 |\n",
       "| HSB154 | Br2411.STARAligned.sortedByCoord.WASPfiltered.out.bam | HSB154 | Br2411 |\n",
       "| HSB430 | HSB289.STARAligned.sortedByCoord.WASPfiltered.out.bam | HSB430 | HSB289 |\n",
       "\n"
      ],
      "text/plain": [
       "   IID1   IID2                                                  subj1  subj2 \n",
       "1  1614   1713.STARAligned.sortedByCoord.WASPfiltered.out.bam   1614   1713  \n",
       "2  1713   1614.STARAligned.sortedByCoord.WASPfiltered.out.bam   1713   1614  \n",
       "3  Br1779 Br1794.STARAligned.sortedByCoord.WASPfiltered.out.bam Br1779 Br1794\n",
       "4  Br2394 HSB148.STARAligned.sortedByCoord.WASPfiltered.out.bam Br2394 HSB148\n",
       "5  Br2402 HSB107.STARAligned.sortedByCoord.WASPfiltered.out.bam Br2402 HSB107\n",
       "6  Br2411 HSB154.STARAligned.sortedByCoord.WASPfiltered.out.bam Br2411 HSB154\n",
       "7  Br2412 HSB100.STARAligned.sortedByCoord.WASPfiltered.out.bam Br2412 HSB100\n",
       "8  HSB100 Br2412.STARAligned.sortedByCoord.WASPfiltered.out.bam HSB100 Br2412\n",
       "9  HSB107 Br2402.STARAligned.sortedByCoord.WASPfiltered.out.bam HSB107 Br2402\n",
       "10 HSB148 Br2394.STARAligned.sortedByCoord.WASPfiltered.out.bam HSB148 Br2394\n",
       "11 HSB154 Br2411.STARAligned.sortedByCoord.WASPfiltered.out.bam HSB154 Br2411\n",
       "12 HSB430 HSB289.STARAligned.sortedByCoord.WASPfiltered.out.bam HSB430 HSB289"
      ]
     },
     "metadata": {},
     "output_type": "display_data"
    }
   ],
   "source": [
    "temp <- bam_12 %>% filter(same == FALSE, PI_HAT > 0.5) %>% select(IID1, IID2, subj1, subj2)\n",
    "temp"
   ]
  },
  {
   "cell_type": "code",
   "execution_count": 82,
   "metadata": {},
   "outputs": [
    {
     "data": {
      "text/html": [
       "<style>\n",
       ".list-inline {list-style: none; margin:0; padding: 0}\n",
       ".list-inline>li {display: inline-block}\n",
       ".list-inline>li:not(:last-child)::after {content: \"\\00b7\"; padding: 0 .5ex}\n",
       "</style>\n",
       "<ol class=list-inline><li>'1614'</li><li>'1713'</li><li>'Br1779'</li><li>'Br2394'</li><li>'Br2402'</li><li>'Br2411'</li><li>'Br2412'</li><li>'HSB100'</li><li>'HSB107'</li><li>'HSB148'</li><li>'HSB154'</li><li>'HSB430'</li><li>'1713'</li><li>'1614'</li><li>'Br1794'</li><li>'HSB148'</li><li>'HSB107'</li><li>'HSB154'</li><li>'HSB100'</li><li>'Br2412'</li><li>'Br2402'</li><li>'Br2394'</li><li>'Br2411'</li><li>'HSB289'</li></ol>\n"
      ],
      "text/latex": [
       "\\begin{enumerate*}\n",
       "\\item '1614'\n",
       "\\item '1713'\n",
       "\\item 'Br1779'\n",
       "\\item 'Br2394'\n",
       "\\item 'Br2402'\n",
       "\\item 'Br2411'\n",
       "\\item 'Br2412'\n",
       "\\item 'HSB100'\n",
       "\\item 'HSB107'\n",
       "\\item 'HSB148'\n",
       "\\item 'HSB154'\n",
       "\\item 'HSB430'\n",
       "\\item '1713'\n",
       "\\item '1614'\n",
       "\\item 'Br1794'\n",
       "\\item 'HSB148'\n",
       "\\item 'HSB107'\n",
       "\\item 'HSB154'\n",
       "\\item 'HSB100'\n",
       "\\item 'Br2412'\n",
       "\\item 'Br2402'\n",
       "\\item 'Br2394'\n",
       "\\item 'Br2411'\n",
       "\\item 'HSB289'\n",
       "\\end{enumerate*}\n"
      ],
      "text/markdown": [
       "1. '1614'\n",
       "2. '1713'\n",
       "3. 'Br1779'\n",
       "4. 'Br2394'\n",
       "5. 'Br2402'\n",
       "6. 'Br2411'\n",
       "7. 'Br2412'\n",
       "8. 'HSB100'\n",
       "9. 'HSB107'\n",
       "10. 'HSB148'\n",
       "11. 'HSB154'\n",
       "12. 'HSB430'\n",
       "13. '1713'\n",
       "14. '1614'\n",
       "15. 'Br1794'\n",
       "16. 'HSB148'\n",
       "17. 'HSB107'\n",
       "18. 'HSB154'\n",
       "19. 'HSB100'\n",
       "20. 'Br2412'\n",
       "21. 'Br2402'\n",
       "22. 'Br2394'\n",
       "23. 'Br2411'\n",
       "24. 'HSB289'\n",
       "\n",
       "\n"
      ],
      "text/plain": [
       " [1] \"1614\"   \"1713\"   \"Br1779\" \"Br2394\" \"Br2402\" \"Br2411\" \"Br2412\" \"HSB100\"\n",
       " [9] \"HSB107\" \"HSB148\" \"HSB154\" \"HSB430\" \"1713\"   \"1614\"   \"Br1794\" \"HSB148\"\n",
       "[17] \"HSB107\" \"HSB154\" \"HSB100\" \"Br2412\" \"Br2402\" \"Br2394\" \"Br2411\" \"HSB289\""
      ]
     },
     "metadata": {},
     "output_type": "display_data"
    },
    {
     "data": {
      "text/html": [
       "<style>\n",
       ".list-inline {list-style: none; margin:0; padding: 0}\n",
       ".list-inline>li {display: inline-block}\n",
       ".list-inline>li:not(:last-child)::after {content: \"\\00b7\"; padding: 0 .5ex}\n",
       "</style>\n",
       "<ol class=list-inline><li>'1614'</li><li>'1713'</li><li>'Br1779'</li><li>'Br2394'</li><li>'Br2402'</li><li>'Br2411'</li><li>'Br2412'</li><li>'HSB100'</li><li>'HSB107'</li><li>'HSB148'</li><li>'HSB154'</li><li>'HSB430'</li><li>'Br1794'</li><li>'HSB289'</li></ol>\n"
      ],
      "text/latex": [
       "\\begin{enumerate*}\n",
       "\\item '1614'\n",
       "\\item '1713'\n",
       "\\item 'Br1779'\n",
       "\\item 'Br2394'\n",
       "\\item 'Br2402'\n",
       "\\item 'Br2411'\n",
       "\\item 'Br2412'\n",
       "\\item 'HSB100'\n",
       "\\item 'HSB107'\n",
       "\\item 'HSB148'\n",
       "\\item 'HSB154'\n",
       "\\item 'HSB430'\n",
       "\\item 'Br1794'\n",
       "\\item 'HSB289'\n",
       "\\end{enumerate*}\n"
      ],
      "text/markdown": [
       "1. '1614'\n",
       "2. '1713'\n",
       "3. 'Br1779'\n",
       "4. 'Br2394'\n",
       "5. 'Br2402'\n",
       "6. 'Br2411'\n",
       "7. 'Br2412'\n",
       "8. 'HSB100'\n",
       "9. 'HSB107'\n",
       "10. 'HSB148'\n",
       "11. 'HSB154'\n",
       "12. 'HSB430'\n",
       "13. 'Br1794'\n",
       "14. 'HSB289'\n",
       "\n",
       "\n"
      ],
      "text/plain": [
       " [1] \"1614\"   \"1713\"   \"Br1779\" \"Br2394\" \"Br2402\" \"Br2411\" \"Br2412\" \"HSB100\"\n",
       " [9] \"HSB107\" \"HSB148\" \"HSB154\" \"HSB430\" \"Br1794\" \"HSB289\""
      ]
     },
     "metadata": {},
     "output_type": "display_data"
    }
   ],
   "source": [
    "vec <- c(temp$subj1, temp$subj2)\n",
    "vec\n",
    "vec_unique <- unique(vec)\n",
    "vec_unique"
   ]
  },
  {
   "cell_type": "code",
   "execution_count": 84,
   "metadata": {
    "scrolled": true
   },
   "outputs": [
    {
     "data": {
      "text/html": [
       "12"
      ],
      "text/latex": [
       "12"
      ],
      "text/markdown": [
       "12"
      ],
      "text/plain": [
       "[1] 12"
      ]
     },
     "metadata": {},
     "output_type": "display_data"
    },
    {
     "data": {
      "text/html": [
       "12"
      ],
      "text/latex": [
       "12"
      ],
      "text/markdown": [
       "12"
      ],
      "text/plain": [
       "[1] 12"
      ]
     },
     "metadata": {},
     "output_type": "display_data"
    },
    {
     "data": {
      "text/html": [
       "14"
      ],
      "text/latex": [
       "14"
      ],
      "text/markdown": [
       "14"
      ],
      "text/plain": [
       "[1] 14"
      ]
     },
     "metadata": {},
     "output_type": "display_data"
    },
    {
     "data": {
      "text/html": [
       "14"
      ],
      "text/latex": [
       "14"
      ],
      "text/markdown": [
       "14"
      ],
      "text/plain": [
       "[1] 14"
      ]
     },
     "metadata": {},
     "output_type": "display_data"
    }
   ],
   "source": [
    "rel <- read.table(\"../genotype/all_data/isec_R2_greater_than_3/ancestry/related.txt\", header = F, stringsAsFactors = F)$V1\n",
    "sum(vec_unique %in% rel)\n",
    "sum(rel %in% vec_unique)\n",
    "length(vec_unique)\n",
    "length(rel)"
   ]
  },
  {
   "cell_type": "code",
   "execution_count": 13,
   "metadata": {},
   "outputs": [
    {
     "data": {
      "text/html": [
       "<table>\n",
       "<caption>A data.frame: 9 × 4</caption>\n",
       "<thead>\n",
       "\t<tr><th scope=col>IID1</th><th scope=col>IID2</th><th scope=col>subj1</th><th scope=col>subj2</th></tr>\n",
       "\t<tr><th scope=col>&lt;chr&gt;</th><th scope=col>&lt;chr&gt;</th><th scope=col>&lt;chr&gt;</th><th scope=col>&lt;chr&gt;</th></tr>\n",
       "</thead>\n",
       "<tbody>\n",
       "\t<tr><td>Br1779</td><td>Br1794.STARAligned.sortedByCoord.WASPfiltered.out.bam</td><td>Br1779</td><td>Br1794</td></tr>\n",
       "\t<tr><td>Br2394</td><td>HSB148.STARAligned.sortedByCoord.WASPfiltered.out.bam</td><td>Br2394</td><td>HSB148</td></tr>\n",
       "\t<tr><td>Br2402</td><td>HSB107.STARAligned.sortedByCoord.WASPfiltered.out.bam</td><td>Br2402</td><td>HSB107</td></tr>\n",
       "\t<tr><td>Br2411</td><td>HSB154.STARAligned.sortedByCoord.WASPfiltered.out.bam</td><td>Br2411</td><td>HSB154</td></tr>\n",
       "\t<tr><td>Br2412</td><td>HSB100.STARAligned.sortedByCoord.WASPfiltered.out.bam</td><td>Br2412</td><td>HSB100</td></tr>\n",
       "\t<tr><td>HSB100</td><td>Br2412.STARAligned.sortedByCoord.WASPfiltered.out.bam</td><td>HSB100</td><td>Br2412</td></tr>\n",
       "\t<tr><td>HSB107</td><td>Br2402.STARAligned.sortedByCoord.WASPfiltered.out.bam</td><td>HSB107</td><td>Br2402</td></tr>\n",
       "\t<tr><td>HSB148</td><td>Br2394.STARAligned.sortedByCoord.WASPfiltered.out.bam</td><td>HSB148</td><td>Br2394</td></tr>\n",
       "\t<tr><td>HSB154</td><td>Br2411.STARAligned.sortedByCoord.WASPfiltered.out.bam</td><td>HSB154</td><td>Br2411</td></tr>\n",
       "</tbody>\n",
       "</table>\n"
      ],
      "text/latex": [
       "A data.frame: 9 × 4\n",
       "\\begin{tabular}{llll}\n",
       " IID1 & IID2 & subj1 & subj2\\\\\n",
       " <chr> & <chr> & <chr> & <chr>\\\\\n",
       "\\hline\n",
       "\t Br1779 & Br1794.STARAligned.sortedByCoord.WASPfiltered.out.bam & Br1779 & Br1794\\\\\n",
       "\t Br2394 & HSB148.STARAligned.sortedByCoord.WASPfiltered.out.bam & Br2394 & HSB148\\\\\n",
       "\t Br2402 & HSB107.STARAligned.sortedByCoord.WASPfiltered.out.bam & Br2402 & HSB107\\\\\n",
       "\t Br2411 & HSB154.STARAligned.sortedByCoord.WASPfiltered.out.bam & Br2411 & HSB154\\\\\n",
       "\t Br2412 & HSB100.STARAligned.sortedByCoord.WASPfiltered.out.bam & Br2412 & HSB100\\\\\n",
       "\t HSB100 & Br2412.STARAligned.sortedByCoord.WASPfiltered.out.bam & HSB100 & Br2412\\\\\n",
       "\t HSB107 & Br2402.STARAligned.sortedByCoord.WASPfiltered.out.bam & HSB107 & Br2402\\\\\n",
       "\t HSB148 & Br2394.STARAligned.sortedByCoord.WASPfiltered.out.bam & HSB148 & Br2394\\\\\n",
       "\t HSB154 & Br2411.STARAligned.sortedByCoord.WASPfiltered.out.bam & HSB154 & Br2411\\\\\n",
       "\\end{tabular}\n"
      ],
      "text/markdown": [
       "\n",
       "A data.frame: 9 × 4\n",
       "\n",
       "| IID1 &lt;chr&gt; | IID2 &lt;chr&gt; | subj1 &lt;chr&gt; | subj2 &lt;chr&gt; |\n",
       "|---|---|---|---|\n",
       "| Br1779 | Br1794.STARAligned.sortedByCoord.WASPfiltered.out.bam | Br1779 | Br1794 |\n",
       "| Br2394 | HSB148.STARAligned.sortedByCoord.WASPfiltered.out.bam | Br2394 | HSB148 |\n",
       "| Br2402 | HSB107.STARAligned.sortedByCoord.WASPfiltered.out.bam | Br2402 | HSB107 |\n",
       "| Br2411 | HSB154.STARAligned.sortedByCoord.WASPfiltered.out.bam | Br2411 | HSB154 |\n",
       "| Br2412 | HSB100.STARAligned.sortedByCoord.WASPfiltered.out.bam | Br2412 | HSB100 |\n",
       "| HSB100 | Br2412.STARAligned.sortedByCoord.WASPfiltered.out.bam | HSB100 | Br2412 |\n",
       "| HSB107 | Br2402.STARAligned.sortedByCoord.WASPfiltered.out.bam | HSB107 | Br2402 |\n",
       "| HSB148 | Br2394.STARAligned.sortedByCoord.WASPfiltered.out.bam | HSB148 | Br2394 |\n",
       "| HSB154 | Br2411.STARAligned.sortedByCoord.WASPfiltered.out.bam | HSB154 | Br2411 |\n",
       "\n"
      ],
      "text/plain": [
       "  IID1   IID2                                                  subj1  subj2 \n",
       "1 Br1779 Br1794.STARAligned.sortedByCoord.WASPfiltered.out.bam Br1779 Br1794\n",
       "2 Br2394 HSB148.STARAligned.sortedByCoord.WASPfiltered.out.bam Br2394 HSB148\n",
       "3 Br2402 HSB107.STARAligned.sortedByCoord.WASPfiltered.out.bam Br2402 HSB107\n",
       "4 Br2411 HSB154.STARAligned.sortedByCoord.WASPfiltered.out.bam Br2411 HSB154\n",
       "5 Br2412 HSB100.STARAligned.sortedByCoord.WASPfiltered.out.bam Br2412 HSB100\n",
       "6 HSB100 Br2412.STARAligned.sortedByCoord.WASPfiltered.out.bam HSB100 Br2412\n",
       "7 HSB107 Br2402.STARAligned.sortedByCoord.WASPfiltered.out.bam HSB107 Br2402\n",
       "8 HSB148 Br2394.STARAligned.sortedByCoord.WASPfiltered.out.bam HSB148 Br2394\n",
       "9 HSB154 Br2411.STARAligned.sortedByCoord.WASPfiltered.out.bam HSB154 Br2411"
      ]
     },
     "metadata": {},
     "output_type": "display_data"
    }
   ],
   "source": [
    "bam_12 %>% filter(same == FALSE, PI_HAT > 0.9) %>% select(IID1, IID2, subj1, subj2)"
   ]
  }
 ],
 "metadata": {
  "kernelspec": {
   "display_name": "R 4.1.0 BIO",
   "language": "R",
   "name": "ir410-bio"
  },
  "language_info": {
   "codemirror_mode": "r",
   "file_extension": ".r",
   "mimetype": "text/x-r-source",
   "name": "R",
   "pygments_lexer": "r",
   "version": "4.1.0"
  }
 },
 "nbformat": 4,
 "nbformat_minor": 2
}
